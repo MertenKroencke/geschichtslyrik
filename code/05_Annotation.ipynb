{
 "cells": [
  {
   "cell_type": "markdown",
   "id": "65718faf",
   "metadata": {},
   "source": [
    "# Kapitel 5: Annotation"
   ]
  },
  {
   "cell_type": "markdown",
   "id": "619633e8",
   "metadata": {},
   "source": [
    "Das Notebook ergänzt Kapitel 5 'Annotation'."
   ]
  },
  {
   "cell_type": "markdown",
   "id": "6b7d863b",
   "metadata": {},
   "source": [
    "# Import"
   ]
  },
  {
   "cell_type": "code",
   "execution_count": 1,
   "id": "2475b5e6",
   "metadata": {},
   "outputs": [],
   "source": [
    "import pandas as pd\n",
    "import numpy as np\n",
    "import plotly.express as px\n",
    "import re\n",
    "from resources_geschichtslyrik import *\n",
    "\n",
    "from nltk import agreement\n",
    "from nltk.metrics.distance import masi_distance\n",
    "from nltk.metrics.distance import interval_distance\n",
    "import krippendorff"
   ]
  },
  {
   "cell_type": "code",
   "execution_count": 2,
   "id": "baf86829",
   "metadata": {},
   "outputs": [],
   "source": [
    "meta = pd.read_json(r\"../resources/meta.json\")"
   ]
  },
  {
   "cell_type": "code",
   "execution_count": 3,
   "id": "e90b6d24",
   "metadata": {},
   "outputs": [],
   "source": [
    "annotations = pd.read_csv(r\"../resources/more/annotations_iaa.csv\")"
   ]
  },
  {
   "cell_type": "code",
   "execution_count": 4,
   "id": "a676fdf9",
   "metadata": {},
   "outputs": [],
   "source": [
    "annotations = annotations.rename(columns={'Annotator:in':'annotator'})\n",
    "annotations['author_title'] = annotations['Autor'] + ' – ' + annotations['Titel']\n",
    "annotations['annotator_author_title'] = annotations['annotator'] + ' – ' + annotations['author_title']\n",
    "annotations = annotations.drop_duplicates(subset='annotator_author_title')"
   ]
  },
  {
   "cell_type": "code",
   "execution_count": 5,
   "id": "b54cdf04",
   "metadata": {},
   "outputs": [],
   "source": [
    "# annotations['(10) Wissen der Sprechinstanz'] = annotations['(10) Wissen der Sprechinstanz'].replace({\n",
    "#     float('NaN') : 0\n",
    "# })"
   ]
  },
  {
   "cell_type": "code",
   "execution_count": 6,
   "id": "78efc255",
   "metadata": {},
   "outputs": [],
   "source": [
    "# annotations['(23) Bewertung Stoffgebiet'] = annotations['(23) Bewertung Stoffgebiet'].replace({\n",
    "#     'neutral' : 0,\n",
    "#     'positiv' : 1,\n",
    "#     'negativ' : -1,\n",
    "#     'ambivalent' : 0,\n",
    "# })\n",
    "# \n",
    "# annotations['(25) Bewertung Entitäten'] = annotations['(25) Bewertung Entitäten'].replace({\n",
    "#     'neutral' : 0,\n",
    "#     'positiv' : 1,\n",
    "#     'negativ' : -1,\n",
    "#     'ambivalent' : 0,\n",
    "# })"
   ]
  },
  {
   "cell_type": "code",
   "execution_count": 7,
   "id": "a14aaf4f",
   "metadata": {},
   "outputs": [
    {
     "name": "stdout",
     "output_type": "stream",
     "text": [
      "Texte SHK1 <> SHK2              : 30\n",
      "Texte SHK1 <> Verfasser         : 30\n",
      "Texte SHK2 <> Verfasser         : 30\n",
      "Texte SHK1 <> SHK2 <> Verfasser : 30\n"
     ]
    }
   ],
   "source": [
    "ak_texts = annotations.query(\"annotator == 'ak'\")['author_title'].tolist()\n",
    "ek_texts = annotations.query(\"annotator == 'ek'\")['author_title'].tolist()\n",
    "mk_texts = annotations.query(\"annotator == 'mk'\")['author_title'].tolist()\n",
    "\n",
    "ak_ek_texts = [x for x in ak_texts if x in ek_texts]\n",
    "ak_mk_texts = [x for x in ak_texts if x in mk_texts]\n",
    "ek_mk_texts = [x for x in ek_texts if x in mk_texts]\n",
    "ak_ek_mk_texts = [x for x in ak_texts if x in ek_texts and x in mk_texts]\n",
    "\n",
    "print(f\"Texte SHK1 <> SHK2              : {len(ak_ek_texts)}\")\n",
    "print(f\"Texte SHK1 <> Verfasser         : {len(ak_mk_texts)}\")\n",
    "print(f\"Texte SHK2 <> Verfasser         : {len(ek_mk_texts)}\")\n",
    "print(f\"Texte SHK1 <> SHK2 <> Verfasser : {len(ak_ek_mk_texts)}\")"
   ]
  },
  {
   "cell_type": "markdown",
   "id": "d1c16b68",
   "metadata": {},
   "source": [
    "# Anzahl Annotationen"
   ]
  },
  {
   "cell_type": "code",
   "execution_count": 8,
   "id": "7afa574c",
   "metadata": {},
   "outputs": [
    {
     "data": {
      "text/plain": [
       "3727"
      ]
     },
     "execution_count": 8,
     "metadata": {},
     "output_type": "execute_result"
    }
   ],
   "source": [
    "# Annotierte Texte (absolut)\n",
    "meta.query(\"annotated\").drop_duplicates(subset='author_title').shape[0]"
   ]
  },
  {
   "cell_type": "code",
   "execution_count": 9,
   "id": "e1570e33",
   "metadata": {},
   "outputs": [
    {
     "data": {
      "text/plain": [
       "1.0"
      ]
     },
     "execution_count": 9,
     "metadata": {},
     "output_type": "execute_result"
    }
   ],
   "source": [
    "# Annotierte geschichtslyrische Texte Anthologien (Anteil)\n",
    "meta_anth = (\n",
    "    meta\n",
    "    .query(\"corpus=='anth'\")\n",
    "    .query(\"geschichtslyrik==1\")\n",
    "    .query(\"1850 <= year <= 1918\")\n",
    "    .drop_duplicates(subset='author_title')\n",
    ")\n",
    "\n",
    "meta_anth.query(\"annotated\").shape[0]/meta_anth.shape[0]"
   ]
  },
  {
   "cell_type": "code",
   "execution_count": 10,
   "id": "68fb7f49",
   "metadata": {},
   "outputs": [
    {
     "data": {
      "text/plain": [
       "1.0"
      ]
     },
     "execution_count": 10,
     "metadata": {},
     "output_type": "execute_result"
    }
   ],
   "source": [
    "# Annotierte Texte Ergänzungskorpors 'Kanonisierte Moderne' (Anteil)\n",
    "modcanon_authors = ['Hofmannsthal, Hugo von', 'Rilke, Rainer Maria', 'George, Stefan', 'Heym, Georg']\n",
    "\n",
    "meta_modcanon = (\n",
    "    meta\n",
    "    .query(\"author in @modcanon_authors\")\n",
    "    .query(\"1850 <= year <= 1918\")\n",
    "    .drop_duplicates(subset='author_title')\n",
    ")\n",
    "\n",
    "meta_modcanon.query(\"annotated\").shape[0]/meta_modcanon.shape[0]"
   ]
  },
  {
   "cell_type": "code",
   "execution_count": 11,
   "id": "6429668d",
   "metadata": {},
   "outputs": [
    {
     "data": {
      "text/plain": [
       "1.0"
      ]
     },
     "execution_count": 11,
     "metadata": {},
     "output_type": "execute_result"
    }
   ],
   "source": [
    "# Annotierte Texte Ergänzungskorpors 'Münchhausen-Kreis' (Anteil)\n",
    "muench_authors = ['Münchhausen, Börries von', 'Miegel, Agnes', 'Strauß und Torney, Lulu von']\n",
    "\n",
    "meta_muench = (\n",
    "    meta\n",
    "    .query(\"author in @muench_authors\")\n",
    "    .query(\"1850 <= year <= 1918\")\n",
    "    .drop_duplicates(subset='author_title')\n",
    ")\n",
    "\n",
    "meta_muench.query(\"annotated\").shape[0]/meta_muench.shape[0]"
   ]
  },
  {
   "cell_type": "markdown",
   "id": "64a12a2f",
   "metadata": {},
   "source": [
    "# IAA berechnen"
   ]
  },
  {
   "cell_type": "markdown",
   "id": "4070f95a",
   "metadata": {},
   "source": [
    "### Demo: Ordinal/Interval"
   ]
  },
  {
   "cell_type": "code",
   "execution_count": 12,
   "id": "4f4085ad",
   "metadata": {},
   "outputs": [
    {
     "name": "stdout",
     "output_type": "stream",
     "text": [
      "nltk:\n",
      "0.288888888888889\n"
     ]
    }
   ],
   "source": [
    "rel_data = [\n",
    "    [\"annotator A\", \"Doc1\", 1],\n",
    "    [\"annotator A\", \"Doc2\", 2],\n",
    "    [\"annotator A\", \"Doc3\", 5],\n",
    "    \n",
    "    [\"annotator B\", \"Doc1\", 2],\n",
    "    [\"annotator B\", \"Doc2\", 2],\n",
    "    [\"annotator B\", \"Doc3\", 3],\n",
    "    \n",
    "    [\"annotator C\", \"Doc1\", 2],\n",
    "    [\"annotator C\", \"Doc2\", 2],\n",
    "    [\"annotator C\", \"Doc3\", 2],\n",
    "]\n",
    "\n",
    "task = agreement.AnnotationTask(distance=interval_distance)\n",
    "task.load_array(rel_data)\n",
    "\n",
    "print(\"nltk:\")\n",
    "print(task.alpha())"
   ]
  },
  {
   "cell_type": "code",
   "execution_count": 13,
   "id": "c0a16875",
   "metadata": {},
   "outputs": [
    {
     "name": "stdout",
     "output_type": "stream",
     "text": [
      "\n",
      "krippendorff:\n",
      "0.28888888888888886\n"
     ]
    }
   ],
   "source": [
    "print(\"\\nkrippendorff:\")\n",
    "print(krippendorff.alpha(\n",
    "    [\n",
    "        [1, 2, 5], \n",
    "        [2, 2, 3], \n",
    "        [2, 2, 2], \n",
    "    ], \n",
    "    level_of_measurement = 'interval')\n",
    ")"
   ]
  },
  {
   "cell_type": "markdown",
   "id": "99a2a865",
   "metadata": {},
   "source": [
    "### Demo: Nominal"
   ]
  },
  {
   "cell_type": "code",
   "execution_count": 14,
   "id": "a4dd1e25",
   "metadata": {},
   "outputs": [
    {
     "name": "stdout",
     "output_type": "stream",
     "text": [
      "nltk:\n",
      "0.4444444444444444\n"
     ]
    }
   ],
   "source": [
    "rel_data = [\n",
    "    [\"annotator A\", \"Doc1\", frozenset({\"Naturlyrik\"})], # mit nltk mehrere Label möglich\n",
    "    [\"annotator A\", \"Doc2\", frozenset({\"Naturlyrik\"})],\n",
    "    [\"annotator A\", \"Doc3\", frozenset({\"Religiöse Lyrik\"})],\n",
    "    \n",
    "    [\"annotator B\", \"Doc1\", frozenset({\"Religiöse Lyrik\"})],\n",
    "    [\"annotator B\", \"Doc2\", frozenset({\"Naturlyrik\"})],\n",
    "    [\"annotator B\", \"Doc3\", frozenset({\"Religiöse Lyrik\"})],\n",
    "]\n",
    "\n",
    "task = agreement.AnnotationTask(distance=masi_distance)\n",
    "task.load_array(rel_data)\n",
    "\n",
    "print(\"nltk:\")\n",
    "print(task.alpha())"
   ]
  },
  {
   "cell_type": "code",
   "execution_count": 15,
   "id": "8ad4aab2",
   "metadata": {},
   "outputs": [
    {
     "name": "stdout",
     "output_type": "stream",
     "text": [
      "\n",
      "krippendorff:\n",
      "0.4444444444444444\n"
     ]
    }
   ],
   "source": [
    "print(\"\\nkrippendorff:\")\n",
    "print(krippendorff.alpha(\n",
    "    [\n",
    "        ['Naturlyrik', 'Naturlyrik', 'Religiöse Lyrik'], \n",
    "        ['Religiöse Lyrik', 'Naturlyrik', 'Religiöse Lyrik'], \n",
    "    ], \n",
    "    level_of_measurement = 'nominal')\n",
    ")"
   ]
  },
  {
   "cell_type": "code",
   "execution_count": 16,
   "id": "e8508275",
   "metadata": {},
   "outputs": [],
   "source": [
    "iaa_overview = pd.DataFrame()"
   ]
  },
  {
   "cell_type": "code",
   "execution_count": 17,
   "id": "8158d6ed",
   "metadata": {},
   "outputs": [],
   "source": [
    "# Annotationen für Texte, die von lediglich einer Person\n",
    "# annotiert wurden, aus rel_data entfernen\n",
    "\n",
    "def clear_rel_data(data):\n",
    "    docs = [x[1] for x in data]\n",
    "    single_docs = [x for x in docs if docs.count(x) == 1]\n",
    "\n",
    "    for i, item in enumerate(data):\n",
    "        if item[1] in single_docs:\n",
    "            data.pop(i)\n",
    "    \n",
    "    return data"
   ]
  },
  {
   "cell_type": "markdown",
   "id": "c0215fda",
   "metadata": {},
   "source": [
    "### Berechnung: Ordinal/Interval"
   ]
  },
  {
   "cell_type": "code",
   "execution_count": 18,
   "id": "c7b423b3",
   "metadata": {},
   "outputs": [],
   "source": [
    "interval_categories = [\n",
    "    '(02) Empirische Ausrichtung',\n",
    "    '(03) Geschichtstheoretische Ausrichtung',\n",
    "    '(05) Markiertheit der Sprechinstanz',\n",
    "    '(06) Zeitliche Position der Sprechinstanz',\n",
    "    '(09) Konkretheit', # interval\n",
    "    '(11) Zeitdominanz', # interval\n",
    "    '(12) Anzahl Zeitebenen', # interval\n",
    "    '(13) Fixierbarkeit der dominanten Zeitebene',\n",
    "    '(14) Beginn der dominanten Zeitebene', # interval\n",
    "    '(15) Ende der dominanten Zeitebene', # interval\n",
    "    '(16) Anachronismen',\n",
    "    '(17) Gegenwartsbezug',\n",
    "    '(26) Nationalismus',\n",
    "    '(27) Heroismus',\n",
    "    '(28) Religiosität',\n",
    "    '(33) Überlieferung',\n",
    "    '(35) Geschichtsauffassungen',\n",
    "    '(38) Reim', # interval\n",
    "    '(39) Metrum', # interval\n",
    "    '(40) Verfremdende Sprache' # interval\n",
    "]"
   ]
  },
  {
   "cell_type": "code",
   "execution_count": 19,
   "id": "e5bbee5b",
   "metadata": {},
   "outputs": [],
   "source": [
    "for category in interval_categories:\n",
    "    annotators = ['ak', 'ek', 'mk']\n",
    "\n",
    "    rel_data = []\n",
    "    for title in annotations['author_title'].unique():\n",
    "        annotation_title = annotations.query(\"author_title == @title\")\n",
    "\n",
    "        for annotator in annotators:\n",
    "            annotation_title_annotator = annotation_title.query(\"annotator == @annotator\")\n",
    "            if annotation_title_annotator.shape[0] > 0:\n",
    "                annos = annotation_title_annotator[category].tolist()[0]\n",
    "                if pd.notna(annos):\n",
    "                    rel_data.append([annotator, title, annos])\n",
    "\n",
    "    for annotator_set in [['ak', 'ek'], ['ak', 'mk'], ['ek', 'mk'], ['ak', 'ek', 'mk']]:\n",
    "        label = ('_').join(annotator_set)\n",
    "        rel_data_set = [x for x in rel_data if x[0] in annotator_set]\n",
    "\n",
    "        if len(rel_data_set) > 0:\n",
    "            rel_data_set = clear_rel_data(rel_data_set)\n",
    "            task = agreement.AnnotationTask(distance=interval_distance)\n",
    "            task.load_array(rel_data_set)\n",
    "            agreement_nltk = task.alpha()\n",
    "            iaa_overview.at[category, label] = agreement_nltk"
   ]
  },
  {
   "cell_type": "markdown",
   "id": "d6df53f9",
   "metadata": {},
   "source": [
    "### Berechnung: Nominal/Multi-Label"
   ]
  },
  {
   "cell_type": "code",
   "execution_count": 20,
   "id": "9b14346c",
   "metadata": {},
   "outputs": [],
   "source": [
    "nominal_categories = [\n",
    "    '(04) Gattung',\n",
    "    '(08) Tempora',\n",
    "    '(07) Sprechakte',\n",
    "    '(10) Wissen der Sprechinstanz', # (NaN-Problem)\n",
    "    '(18) Großraum',\n",
    "    '(19) Mittelraum',\n",
    "    '(20) Kleinraum',\n",
    "    '(21) Inhaltstyp',\n",
    "    '(22) Stoffgebiet',\n",
    "    '(24) Entitäten',\n",
    "    '(29) Geschichtsmarker Person',\n",
    "    '(30) Geschichtsmarker Zeit',\n",
    "    '(31) Geschichtsmarker Ort',\n",
    "    '(32) Geschichtsmarker Objekt',\n",
    "    '(34) Bewertung Überlieferung',\n",
    "    '(36) Bewertung Geschichtsauffassungen',\n",
    "    '(37) Verhältnis zum historischen Wissen'\n",
    "]"
   ]
  },
  {
   "cell_type": "code",
   "execution_count": 21,
   "id": "2c208a26",
   "metadata": {},
   "outputs": [],
   "source": [
    "for category in nominal_categories:\n",
    "    annotators = ['ak', 'ek', 'mk']\n",
    "    \n",
    "    rel_data = []\n",
    "    for title in annotations['author_title'].unique():\n",
    "        annotation_title = annotations.query(\"author_title == @title\")\n",
    "\n",
    "        for annotator in annotators:\n",
    "            annotation_title_annotator = annotation_title.query(\"annotator == @annotator\")\n",
    "            if annotation_title_annotator.shape[0] > 0:\n",
    "                annos = annotation_title_annotator[category].astype(str).tolist()[0]\n",
    "                annos = 'empty' if pd.isna(annos) else annos\n",
    "                annos = annos.split(\" + \")\n",
    "                annos = [x.strip() if pd.notna(x) else x for x in annos]\n",
    "                annos = frozenset(annos)\n",
    "                rel_data.append([annotator, title, annos])\n",
    "\n",
    "    for annotator_set in [['ak', 'ek'], ['ak', 'mk'], ['ek', 'mk'], ['ak', 'ek', 'mk']]:\n",
    "        label = ('_').join(annotator_set)\n",
    "        rel_data_set = [x for x in rel_data if x[0] in annotator_set]\n",
    "\n",
    "        if len(rel_data_set) > 0:\n",
    "            rel_data_set = clear_rel_data(rel_data_set)\n",
    "            task = agreement.AnnotationTask(distance=masi_distance)\n",
    "            task.load_array(rel_data_set)\n",
    "            agreement_nltk = task.alpha()\n",
    "            iaa_overview.at[category, label] = agreement_nltk"
   ]
  },
  {
   "cell_type": "markdown",
   "id": "24df946e",
   "metadata": {},
   "source": [
    "### Berechnung: Dependent"
   ]
  },
  {
   "cell_type": "code",
   "execution_count": 22,
   "id": "52629e15",
   "metadata": {},
   "outputs": [],
   "source": [
    "dependent_categories = [\n",
    "    ('(22) Stoffgebiet', '(23) Bewertung Stoffgebiet'),\n",
    "    ('(24) Entitäten', '(25) Bewertung Entitäten')\n",
    "]"
   ]
  },
  {
   "cell_type": "code",
   "execution_count": 23,
   "id": "3dddbede",
   "metadata": {},
   "outputs": [],
   "source": [
    "for category in dependent_categories:\n",
    "    annotators = ['ak', 'ek', 'mk']\n",
    "    \n",
    "    rel_data = []\n",
    "    for title in annotations['author_title'].unique():\n",
    "        annotation_title = annotations.query(\"author_title == @title\")\n",
    "\n",
    "        for annotator in annotators:\n",
    "            annotation_title_annotator = annotation_title.query(\"annotator == @annotator\")\n",
    "            if annotation_title_annotator.shape[0] > 0:\n",
    "                annos_base = annotation_title_annotator[category[0]].tolist()[0]\n",
    "                annos_base = annos_base.split(\" + \")\n",
    "                annos_base = [x.strip() if pd.notna(x) else x for x in annos_base]\n",
    "                annos_base = [title + ' – ' + x for x in annos_base]\n",
    "                annos_dependent = annotation_title_annotator[category[1]].tolist()[0]\n",
    "                annos_dependent = annos_dependent.split(\" + \")\n",
    "                annos_dependent = [x.strip() if pd.notna(x) else x for x in annos_dependent]\n",
    "                for anno_base, anno_dependent in zip(annos_base, annos_dependent):\n",
    "                    anno_dependent = frozenset([anno_dependent])\n",
    "                    rel_data.append([annotator, anno_base, anno_dependent])\n",
    "                        \n",
    "    for annotator_set in [['ak', 'ek'], ['ak', 'mk'], ['ek', 'mk'], ['ak', 'ek', 'mk']]:\n",
    "        label = ('_').join(annotator_set)\n",
    "        rel_data_set = [x for x in rel_data if x[0] in annotator_set]\n",
    "\n",
    "        if len(rel_data_set) > 0:\n",
    "            rel_data_set = clear_rel_data(rel_data_set)\n",
    "            task = agreement.AnnotationTask(distance=masi_distance)\n",
    "            task.load_array(rel_data_set)\n",
    "            agreement_nltk = task.alpha()\n",
    "            iaa_overview.at[category[1], label] = agreement_nltk"
   ]
  },
  {
   "cell_type": "markdown",
   "id": "696daca8",
   "metadata": {},
   "source": [
    "# Ergebnisse"
   ]
  },
  {
   "cell_type": "code",
   "execution_count": 24,
   "id": "84a55348",
   "metadata": {},
   "outputs": [],
   "source": [
    "iaa_overview = iaa_overview.sort_index()"
   ]
  },
  {
   "cell_type": "code",
   "execution_count": 25,
   "id": "ec191e81",
   "metadata": {},
   "outputs": [
    {
     "data": {
      "text/html": [
       "<div>\n",
       "<style scoped>\n",
       "    .dataframe tbody tr th:only-of-type {\n",
       "        vertical-align: middle;\n",
       "    }\n",
       "\n",
       "    .dataframe tbody tr th {\n",
       "        vertical-align: top;\n",
       "    }\n",
       "\n",
       "    .dataframe thead th {\n",
       "        text-align: right;\n",
       "    }\n",
       "</style>\n",
       "<table border=\"1\" class=\"dataframe\">\n",
       "  <thead>\n",
       "    <tr style=\"text-align: right;\">\n",
       "      <th></th>\n",
       "      <th>ak_ek</th>\n",
       "      <th>ak_mk</th>\n",
       "      <th>ek_mk</th>\n",
       "      <th>ak_ek_mk</th>\n",
       "    </tr>\n",
       "  </thead>\n",
       "  <tbody>\n",
       "    <tr>\n",
       "      <th>(02) Empirische Ausrichtung</th>\n",
       "      <td>0.65</td>\n",
       "      <td>0.65</td>\n",
       "      <td>1.00</td>\n",
       "      <td>0.74</td>\n",
       "    </tr>\n",
       "    <tr>\n",
       "      <th>(03) Geschichtstheoretische Ausrichtung</th>\n",
       "      <td>1.00</td>\n",
       "      <td>0.65</td>\n",
       "      <td>0.65</td>\n",
       "      <td>0.74</td>\n",
       "    </tr>\n",
       "    <tr>\n",
       "      <th>(04) Gattung</th>\n",
       "      <td>0.65</td>\n",
       "      <td>0.70</td>\n",
       "      <td>0.79</td>\n",
       "      <td>0.71</td>\n",
       "    </tr>\n",
       "    <tr>\n",
       "      <th>(05) Markiertheit der Sprechinstanz</th>\n",
       "      <td>0.93</td>\n",
       "      <td>0.93</td>\n",
       "      <td>1.00</td>\n",
       "      <td>0.95</td>\n",
       "    </tr>\n",
       "    <tr>\n",
       "      <th>(06) Zeitliche Position der Sprechinstanz</th>\n",
       "      <td>0.56</td>\n",
       "      <td>0.67</td>\n",
       "      <td>0.69</td>\n",
       "      <td>0.65</td>\n",
       "    </tr>\n",
       "    <tr>\n",
       "      <th>(07) Sprechakte</th>\n",
       "      <td>0.19</td>\n",
       "      <td>0.48</td>\n",
       "      <td>0.42</td>\n",
       "      <td>0.36</td>\n",
       "    </tr>\n",
       "    <tr>\n",
       "      <th>(08) Tempora</th>\n",
       "      <td>0.83</td>\n",
       "      <td>0.61</td>\n",
       "      <td>0.78</td>\n",
       "      <td>0.74</td>\n",
       "    </tr>\n",
       "    <tr>\n",
       "      <th>(09) Konkretheit</th>\n",
       "      <td>0.69</td>\n",
       "      <td>0.39</td>\n",
       "      <td>0.41</td>\n",
       "      <td>0.51</td>\n",
       "    </tr>\n",
       "    <tr>\n",
       "      <th>(10) Wissen der Sprechinstanz</th>\n",
       "      <td>0.48</td>\n",
       "      <td>-0.02</td>\n",
       "      <td>-0.01</td>\n",
       "      <td>0.23</td>\n",
       "    </tr>\n",
       "    <tr>\n",
       "      <th>(11) Zeitdominanz</th>\n",
       "      <td>0.70</td>\n",
       "      <td>0.61</td>\n",
       "      <td>0.94</td>\n",
       "      <td>0.75</td>\n",
       "    </tr>\n",
       "    <tr>\n",
       "      <th>(12) Anzahl Zeitebenen</th>\n",
       "      <td>0.27</td>\n",
       "      <td>0.30</td>\n",
       "      <td>0.58</td>\n",
       "      <td>0.41</td>\n",
       "    </tr>\n",
       "    <tr>\n",
       "      <th>(13) Fixierbarkeit der dominanten Zeitebene</th>\n",
       "      <td>0.53</td>\n",
       "      <td>0.74</td>\n",
       "      <td>0.80</td>\n",
       "      <td>0.69</td>\n",
       "    </tr>\n",
       "    <tr>\n",
       "      <th>(14) Beginn der dominanten Zeitebene</th>\n",
       "      <td>0.96</td>\n",
       "      <td>0.89</td>\n",
       "      <td>0.98</td>\n",
       "      <td>0.94</td>\n",
       "    </tr>\n",
       "    <tr>\n",
       "      <th>(15) Ende der dominanten Zeitebene</th>\n",
       "      <td>0.98</td>\n",
       "      <td>0.89</td>\n",
       "      <td>0.95</td>\n",
       "      <td>0.94</td>\n",
       "    </tr>\n",
       "    <tr>\n",
       "      <th>(16) Anachronismen</th>\n",
       "      <td>0.72</td>\n",
       "      <td>0.84</td>\n",
       "      <td>0.84</td>\n",
       "      <td>0.80</td>\n",
       "    </tr>\n",
       "    <tr>\n",
       "      <th>(17) Gegenwartsbezug</th>\n",
       "      <td>0.85</td>\n",
       "      <td>0.85</td>\n",
       "      <td>1.00</td>\n",
       "      <td>0.90</td>\n",
       "    </tr>\n",
       "    <tr>\n",
       "      <th>(18) Großraum</th>\n",
       "      <td>0.65</td>\n",
       "      <td>1.00</td>\n",
       "      <td>0.65</td>\n",
       "      <td>0.74</td>\n",
       "    </tr>\n",
       "    <tr>\n",
       "      <th>(19) Mittelraum</th>\n",
       "      <td>0.64</td>\n",
       "      <td>0.72</td>\n",
       "      <td>0.61</td>\n",
       "      <td>0.65</td>\n",
       "    </tr>\n",
       "    <tr>\n",
       "      <th>(20) Kleinraum</th>\n",
       "      <td>0.72</td>\n",
       "      <td>0.75</td>\n",
       "      <td>0.81</td>\n",
       "      <td>0.76</td>\n",
       "    </tr>\n",
       "    <tr>\n",
       "      <th>(21) Inhaltstyp</th>\n",
       "      <td>0.46</td>\n",
       "      <td>0.55</td>\n",
       "      <td>0.67</td>\n",
       "      <td>0.56</td>\n",
       "    </tr>\n",
       "    <tr>\n",
       "      <th>(22) Stoffgebiet</th>\n",
       "      <td>0.39</td>\n",
       "      <td>0.62</td>\n",
       "      <td>0.38</td>\n",
       "      <td>0.46</td>\n",
       "    </tr>\n",
       "    <tr>\n",
       "      <th>(23) Bewertung Stoffgebiet</th>\n",
       "      <td>0.06</td>\n",
       "      <td>0.29</td>\n",
       "      <td>0.36</td>\n",
       "      <td>0.27</td>\n",
       "    </tr>\n",
       "    <tr>\n",
       "      <th>(24) Entitäten</th>\n",
       "      <td>0.39</td>\n",
       "      <td>0.63</td>\n",
       "      <td>0.58</td>\n",
       "      <td>0.53</td>\n",
       "    </tr>\n",
       "    <tr>\n",
       "      <th>(25) Bewertung Entitäten</th>\n",
       "      <td>0.35</td>\n",
       "      <td>0.40</td>\n",
       "      <td>0.50</td>\n",
       "      <td>0.40</td>\n",
       "    </tr>\n",
       "    <tr>\n",
       "      <th>(26) Nationalismus</th>\n",
       "      <td>0.71</td>\n",
       "      <td>0.76</td>\n",
       "      <td>0.67</td>\n",
       "      <td>0.71</td>\n",
       "    </tr>\n",
       "    <tr>\n",
       "      <th>(27) Heroismus</th>\n",
       "      <td>0.59</td>\n",
       "      <td>0.71</td>\n",
       "      <td>0.87</td>\n",
       "      <td>0.71</td>\n",
       "    </tr>\n",
       "    <tr>\n",
       "      <th>(28) Religiosität</th>\n",
       "      <td>0.85</td>\n",
       "      <td>0.60</td>\n",
       "      <td>0.60</td>\n",
       "      <td>0.69</td>\n",
       "    </tr>\n",
       "    <tr>\n",
       "      <th>(29) Geschichtsmarker Person</th>\n",
       "      <td>0.83</td>\n",
       "      <td>0.84</td>\n",
       "      <td>0.84</td>\n",
       "      <td>0.84</td>\n",
       "    </tr>\n",
       "    <tr>\n",
       "      <th>(30) Geschichtsmarker Zeit</th>\n",
       "      <td>0.80</td>\n",
       "      <td>0.94</td>\n",
       "      <td>0.74</td>\n",
       "      <td>0.83</td>\n",
       "    </tr>\n",
       "    <tr>\n",
       "      <th>(31) Geschichtsmarker Ort</th>\n",
       "      <td>0.53</td>\n",
       "      <td>0.77</td>\n",
       "      <td>0.74</td>\n",
       "      <td>0.68</td>\n",
       "    </tr>\n",
       "    <tr>\n",
       "      <th>(32) Geschichtsmarker Objekt</th>\n",
       "      <td>0.37</td>\n",
       "      <td>0.56</td>\n",
       "      <td>0.18</td>\n",
       "      <td>0.37</td>\n",
       "    </tr>\n",
       "    <tr>\n",
       "      <th>(33) Überlieferung</th>\n",
       "      <td>0.45</td>\n",
       "      <td>0.29</td>\n",
       "      <td>0.52</td>\n",
       "      <td>0.43</td>\n",
       "    </tr>\n",
       "    <tr>\n",
       "      <th>(34) Bewertung Überlieferung</th>\n",
       "      <td>0.37</td>\n",
       "      <td>0.32</td>\n",
       "      <td>0.45</td>\n",
       "      <td>0.38</td>\n",
       "    </tr>\n",
       "    <tr>\n",
       "      <th>(35) Geschichtsauffassungen</th>\n",
       "      <td>-0.02</td>\n",
       "      <td>-0.04</td>\n",
       "      <td>-0.07</td>\n",
       "      <td>-0.05</td>\n",
       "    </tr>\n",
       "    <tr>\n",
       "      <th>(36) Bewertung Geschichtsauffassungen</th>\n",
       "      <td>-0.01</td>\n",
       "      <td>-0.02</td>\n",
       "      <td>-0.04</td>\n",
       "      <td>-0.03</td>\n",
       "    </tr>\n",
       "    <tr>\n",
       "      <th>(37) Verhältnis zum historischen Wissen</th>\n",
       "      <td>0.51</td>\n",
       "      <td>0.61</td>\n",
       "      <td>0.60</td>\n",
       "      <td>0.57</td>\n",
       "    </tr>\n",
       "    <tr>\n",
       "      <th>(38) Reim</th>\n",
       "      <td>0.65</td>\n",
       "      <td>0.65</td>\n",
       "      <td>0.47</td>\n",
       "      <td>0.58</td>\n",
       "    </tr>\n",
       "    <tr>\n",
       "      <th>(39) Metrum</th>\n",
       "      <td>0.36</td>\n",
       "      <td>0.47</td>\n",
       "      <td>0.84</td>\n",
       "      <td>0.59</td>\n",
       "    </tr>\n",
       "    <tr>\n",
       "      <th>(40) Verfremdende Sprache</th>\n",
       "      <td>0.53</td>\n",
       "      <td>0.43</td>\n",
       "      <td>0.53</td>\n",
       "      <td>0.50</td>\n",
       "    </tr>\n",
       "  </tbody>\n",
       "</table>\n",
       "</div>"
      ],
      "text/plain": [
       "                                             ak_ek  ak_mk  ek_mk  ak_ek_mk\n",
       "(02) Empirische Ausrichtung                   0.65   0.65   1.00      0.74\n",
       "(03) Geschichtstheoretische Ausrichtung       1.00   0.65   0.65      0.74\n",
       "(04) Gattung                                  0.65   0.70   0.79      0.71\n",
       "(05) Markiertheit der Sprechinstanz           0.93   0.93   1.00      0.95\n",
       "(06) Zeitliche Position der Sprechinstanz     0.56   0.67   0.69      0.65\n",
       "(07) Sprechakte                               0.19   0.48   0.42      0.36\n",
       "(08) Tempora                                  0.83   0.61   0.78      0.74\n",
       "(09) Konkretheit                              0.69   0.39   0.41      0.51\n",
       "(10) Wissen der Sprechinstanz                 0.48  -0.02  -0.01      0.23\n",
       "(11) Zeitdominanz                             0.70   0.61   0.94      0.75\n",
       "(12) Anzahl Zeitebenen                        0.27   0.30   0.58      0.41\n",
       "(13) Fixierbarkeit der dominanten Zeitebene   0.53   0.74   0.80      0.69\n",
       "(14) Beginn der dominanten Zeitebene          0.96   0.89   0.98      0.94\n",
       "(15) Ende der dominanten Zeitebene            0.98   0.89   0.95      0.94\n",
       "(16) Anachronismen                            0.72   0.84   0.84      0.80\n",
       "(17) Gegenwartsbezug                          0.85   0.85   1.00      0.90\n",
       "(18) Großraum                                 0.65   1.00   0.65      0.74\n",
       "(19) Mittelraum                               0.64   0.72   0.61      0.65\n",
       "(20) Kleinraum                                0.72   0.75   0.81      0.76\n",
       "(21) Inhaltstyp                               0.46   0.55   0.67      0.56\n",
       "(22) Stoffgebiet                              0.39   0.62   0.38      0.46\n",
       "(23) Bewertung Stoffgebiet                    0.06   0.29   0.36      0.27\n",
       "(24) Entitäten                                0.39   0.63   0.58      0.53\n",
       "(25) Bewertung Entitäten                      0.35   0.40   0.50      0.40\n",
       "(26) Nationalismus                            0.71   0.76   0.67      0.71\n",
       "(27) Heroismus                                0.59   0.71   0.87      0.71\n",
       "(28) Religiosität                             0.85   0.60   0.60      0.69\n",
       "(29) Geschichtsmarker Person                  0.83   0.84   0.84      0.84\n",
       "(30) Geschichtsmarker Zeit                    0.80   0.94   0.74      0.83\n",
       "(31) Geschichtsmarker Ort                     0.53   0.77   0.74      0.68\n",
       "(32) Geschichtsmarker Objekt                  0.37   0.56   0.18      0.37\n",
       "(33) Überlieferung                            0.45   0.29   0.52      0.43\n",
       "(34) Bewertung Überlieferung                  0.37   0.32   0.45      0.38\n",
       "(35) Geschichtsauffassungen                  -0.02  -0.04  -0.07     -0.05\n",
       "(36) Bewertung Geschichtsauffassungen        -0.01  -0.02  -0.04     -0.03\n",
       "(37) Verhältnis zum historischen Wissen       0.51   0.61   0.60      0.57\n",
       "(38) Reim                                     0.65   0.65   0.47      0.58\n",
       "(39) Metrum                                   0.36   0.47   0.84      0.59\n",
       "(40) Verfremdende Sprache                     0.53   0.43   0.53      0.50"
      ]
     },
     "execution_count": 25,
     "metadata": {},
     "output_type": "execute_result"
    }
   ],
   "source": [
    "round(iaa_overview[['ak_ek', 'ak_mk', 'ek_mk', 'ak_ek_mk']], 2)"
   ]
  },
  {
   "cell_type": "code",
   "execution_count": 39,
   "id": "7520f78d",
   "metadata": {},
   "outputs": [
    {
     "data": {
      "application/vnd.plotly.v1+json": {
       "config": {
        "plotlyServerURL": "https://plot.ly"
       },
       "data": [
        {
         "alignmentgroup": "True",
         "boxpoints": "all",
         "customdata": [
          [
           "(02) Empirische Ausrichtung"
          ],
          [
           "(03) Geschichtstheoretische Ausrichtung"
          ],
          [
           "(04) Gattung"
          ],
          [
           "(05) Markiertheit der Sprechinstanz"
          ],
          [
           "(06) Zeitliche Position der Sprechinstanz"
          ],
          [
           "(07) Sprechakte"
          ],
          [
           "(08) Tempora"
          ],
          [
           "(09) Konkretheit"
          ],
          [
           "(10) Wissen der Sprechinstanz"
          ],
          [
           "(11) Zeitdominanz"
          ],
          [
           "(12) Anzahl Zeitebenen"
          ],
          [
           "(13) Fixierbarkeit der dominanten Zeitebene"
          ],
          [
           "(14) Beginn der dominanten Zeitebene"
          ],
          [
           "(15) Ende der dominanten Zeitebene"
          ],
          [
           "(16) Anachronismen"
          ],
          [
           "(17) Gegenwartsbezug"
          ],
          [
           "(18) Großraum"
          ],
          [
           "(19) Mittelraum"
          ],
          [
           "(20) Kleinraum"
          ],
          [
           "(21) Inhaltstyp"
          ],
          [
           "(22) Stoffgebiet"
          ],
          [
           "(23) Bewertung Stoffgebiet"
          ],
          [
           "(24) Entitäten"
          ],
          [
           "(25) Bewertung Entitäten"
          ],
          [
           "(26) Nationalismus"
          ],
          [
           "(27) Heroismus"
          ],
          [
           "(28) Religiosität"
          ],
          [
           "(29) Geschichtsmarker Person"
          ],
          [
           "(30) Geschichtsmarker Zeit"
          ],
          [
           "(31) Geschichtsmarker Ort"
          ],
          [
           "(32) Geschichtsmarker Objekt"
          ],
          [
           "(33) Überlieferung"
          ],
          [
           "(34) Bewertung Überlieferung"
          ],
          [
           "(35) Geschichtsauffassungen"
          ],
          [
           "(36) Bewertung Geschichtsauffassungen"
          ],
          [
           "(37) Verhältnis zum historischen Wissen"
          ],
          [
           "(38) Reim"
          ],
          [
           "(39) Metrum"
          ],
          [
           "(40) Verfremdende Sprache"
          ],
          [
           "(02) Empirische Ausrichtung"
          ],
          [
           "(03) Geschichtstheoretische Ausrichtung"
          ],
          [
           "(04) Gattung"
          ],
          [
           "(05) Markiertheit der Sprechinstanz"
          ],
          [
           "(06) Zeitliche Position der Sprechinstanz"
          ],
          [
           "(07) Sprechakte"
          ],
          [
           "(08) Tempora"
          ],
          [
           "(09) Konkretheit"
          ],
          [
           "(10) Wissen der Sprechinstanz"
          ],
          [
           "(11) Zeitdominanz"
          ],
          [
           "(12) Anzahl Zeitebenen"
          ],
          [
           "(13) Fixierbarkeit der dominanten Zeitebene"
          ],
          [
           "(14) Beginn der dominanten Zeitebene"
          ],
          [
           "(15) Ende der dominanten Zeitebene"
          ],
          [
           "(16) Anachronismen"
          ],
          [
           "(17) Gegenwartsbezug"
          ],
          [
           "(18) Großraum"
          ],
          [
           "(19) Mittelraum"
          ],
          [
           "(20) Kleinraum"
          ],
          [
           "(21) Inhaltstyp"
          ],
          [
           "(22) Stoffgebiet"
          ],
          [
           "(23) Bewertung Stoffgebiet"
          ],
          [
           "(24) Entitäten"
          ],
          [
           "(25) Bewertung Entitäten"
          ],
          [
           "(26) Nationalismus"
          ],
          [
           "(27) Heroismus"
          ],
          [
           "(28) Religiosität"
          ],
          [
           "(29) Geschichtsmarker Person"
          ],
          [
           "(30) Geschichtsmarker Zeit"
          ],
          [
           "(31) Geschichtsmarker Ort"
          ],
          [
           "(32) Geschichtsmarker Objekt"
          ],
          [
           "(33) Überlieferung"
          ],
          [
           "(34) Bewertung Überlieferung"
          ],
          [
           "(35) Geschichtsauffassungen"
          ],
          [
           "(36) Bewertung Geschichtsauffassungen"
          ],
          [
           "(37) Verhältnis zum historischen Wissen"
          ],
          [
           "(38) Reim"
          ],
          [
           "(39) Metrum"
          ],
          [
           "(40) Verfremdende Sprache"
          ],
          [
           "(02) Empirische Ausrichtung"
          ],
          [
           "(03) Geschichtstheoretische Ausrichtung"
          ],
          [
           "(04) Gattung"
          ],
          [
           "(05) Markiertheit der Sprechinstanz"
          ],
          [
           "(06) Zeitliche Position der Sprechinstanz"
          ],
          [
           "(07) Sprechakte"
          ],
          [
           "(08) Tempora"
          ],
          [
           "(09) Konkretheit"
          ],
          [
           "(10) Wissen der Sprechinstanz"
          ],
          [
           "(11) Zeitdominanz"
          ],
          [
           "(12) Anzahl Zeitebenen"
          ],
          [
           "(13) Fixierbarkeit der dominanten Zeitebene"
          ],
          [
           "(14) Beginn der dominanten Zeitebene"
          ],
          [
           "(15) Ende der dominanten Zeitebene"
          ],
          [
           "(16) Anachronismen"
          ],
          [
           "(17) Gegenwartsbezug"
          ],
          [
           "(18) Großraum"
          ],
          [
           "(19) Mittelraum"
          ],
          [
           "(20) Kleinraum"
          ],
          [
           "(21) Inhaltstyp"
          ],
          [
           "(22) Stoffgebiet"
          ],
          [
           "(23) Bewertung Stoffgebiet"
          ],
          [
           "(24) Entitäten"
          ],
          [
           "(25) Bewertung Entitäten"
          ],
          [
           "(26) Nationalismus"
          ],
          [
           "(27) Heroismus"
          ],
          [
           "(28) Religiosität"
          ],
          [
           "(29) Geschichtsmarker Person"
          ],
          [
           "(30) Geschichtsmarker Zeit"
          ],
          [
           "(31) Geschichtsmarker Ort"
          ],
          [
           "(32) Geschichtsmarker Objekt"
          ],
          [
           "(33) Überlieferung"
          ],
          [
           "(34) Bewertung Überlieferung"
          ],
          [
           "(35) Geschichtsauffassungen"
          ],
          [
           "(36) Bewertung Geschichtsauffassungen"
          ],
          [
           "(37) Verhältnis zum historischen Wissen"
          ],
          [
           "(38) Reim"
          ],
          [
           "(39) Metrum"
          ],
          [
           "(40) Verfremdende Sprache"
          ],
          [
           "(02) Empirische Ausrichtung"
          ],
          [
           "(03) Geschichtstheoretische Ausrichtung"
          ],
          [
           "(04) Gattung"
          ],
          [
           "(05) Markiertheit der Sprechinstanz"
          ],
          [
           "(06) Zeitliche Position der Sprechinstanz"
          ],
          [
           "(07) Sprechakte"
          ],
          [
           "(08) Tempora"
          ],
          [
           "(09) Konkretheit"
          ],
          [
           "(10) Wissen der Sprechinstanz"
          ],
          [
           "(11) Zeitdominanz"
          ],
          [
           "(12) Anzahl Zeitebenen"
          ],
          [
           "(13) Fixierbarkeit der dominanten Zeitebene"
          ],
          [
           "(14) Beginn der dominanten Zeitebene"
          ],
          [
           "(15) Ende der dominanten Zeitebene"
          ],
          [
           "(16) Anachronismen"
          ],
          [
           "(17) Gegenwartsbezug"
          ],
          [
           "(18) Großraum"
          ],
          [
           "(19) Mittelraum"
          ],
          [
           "(20) Kleinraum"
          ],
          [
           "(21) Inhaltstyp"
          ],
          [
           "(22) Stoffgebiet"
          ],
          [
           "(23) Bewertung Stoffgebiet"
          ],
          [
           "(24) Entitäten"
          ],
          [
           "(25) Bewertung Entitäten"
          ],
          [
           "(26) Nationalismus"
          ],
          [
           "(27) Heroismus"
          ],
          [
           "(28) Religiosität"
          ],
          [
           "(29) Geschichtsmarker Person"
          ],
          [
           "(30) Geschichtsmarker Zeit"
          ],
          [
           "(31) Geschichtsmarker Ort"
          ],
          [
           "(32) Geschichtsmarker Objekt"
          ],
          [
           "(33) Überlieferung"
          ],
          [
           "(34) Bewertung Überlieferung"
          ],
          [
           "(35) Geschichtsauffassungen"
          ],
          [
           "(36) Bewertung Geschichtsauffassungen"
          ],
          [
           "(37) Verhältnis zum historischen Wissen"
          ],
          [
           "(38) Reim"
          ],
          [
           "(39) Metrum"
          ],
          [
           "(40) Verfremdende Sprache"
          ]
         ],
         "hovertemplate": "=%{x}<br>Agreement (Krippendorff's alpha)=%{y}<br>index=%{customdata[0]}<extra></extra>",
         "legendgroup": "",
         "line": {
          "color": "#555555"
         },
         "marker": {
          "color": "#555555"
         },
         "name": "",
         "notched": false,
         "offsetgroup": "",
         "orientation": "v",
         "showlegend": false,
         "type": "box",
         "x": [
          "SHK1<>SHK2",
          "SHK1<>SHK2",
          "SHK1<>SHK2",
          "SHK1<>SHK2",
          "SHK1<>SHK2",
          "SHK1<>SHK2",
          "SHK1<>SHK2",
          "SHK1<>SHK2",
          "SHK1<>SHK2",
          "SHK1<>SHK2",
          "SHK1<>SHK2",
          "SHK1<>SHK2",
          "SHK1<>SHK2",
          "SHK1<>SHK2",
          "SHK1<>SHK2",
          "SHK1<>SHK2",
          "SHK1<>SHK2",
          "SHK1<>SHK2",
          "SHK1<>SHK2",
          "SHK1<>SHK2",
          "SHK1<>SHK2",
          "SHK1<>SHK2",
          "SHK1<>SHK2",
          "SHK1<>SHK2",
          "SHK1<>SHK2",
          "SHK1<>SHK2",
          "SHK1<>SHK2",
          "SHK1<>SHK2",
          "SHK1<>SHK2",
          "SHK1<>SHK2",
          "SHK1<>SHK2",
          "SHK1<>SHK2",
          "SHK1<>SHK2",
          "SHK1<>SHK2",
          "SHK1<>SHK2",
          "SHK1<>SHK2",
          "SHK1<>SHK2",
          "SHK1<>SHK2",
          "SHK1<>SHK2",
          "SHK1<>Verfasser",
          "SHK1<>Verfasser",
          "SHK1<>Verfasser",
          "SHK1<>Verfasser",
          "SHK1<>Verfasser",
          "SHK1<>Verfasser",
          "SHK1<>Verfasser",
          "SHK1<>Verfasser",
          "SHK1<>Verfasser",
          "SHK1<>Verfasser",
          "SHK1<>Verfasser",
          "SHK1<>Verfasser",
          "SHK1<>Verfasser",
          "SHK1<>Verfasser",
          "SHK1<>Verfasser",
          "SHK1<>Verfasser",
          "SHK1<>Verfasser",
          "SHK1<>Verfasser",
          "SHK1<>Verfasser",
          "SHK1<>Verfasser",
          "SHK1<>Verfasser",
          "SHK1<>Verfasser",
          "SHK1<>Verfasser",
          "SHK1<>Verfasser",
          "SHK1<>Verfasser",
          "SHK1<>Verfasser",
          "SHK1<>Verfasser",
          "SHK1<>Verfasser",
          "SHK1<>Verfasser",
          "SHK1<>Verfasser",
          "SHK1<>Verfasser",
          "SHK1<>Verfasser",
          "SHK1<>Verfasser",
          "SHK1<>Verfasser",
          "SHK1<>Verfasser",
          "SHK1<>Verfasser",
          "SHK1<>Verfasser",
          "SHK1<>Verfasser",
          "SHK1<>Verfasser",
          "SHK2<>Verfasser",
          "SHK2<>Verfasser",
          "SHK2<>Verfasser",
          "SHK2<>Verfasser",
          "SHK2<>Verfasser",
          "SHK2<>Verfasser",
          "SHK2<>Verfasser",
          "SHK2<>Verfasser",
          "SHK2<>Verfasser",
          "SHK2<>Verfasser",
          "SHK2<>Verfasser",
          "SHK2<>Verfasser",
          "SHK2<>Verfasser",
          "SHK2<>Verfasser",
          "SHK2<>Verfasser",
          "SHK2<>Verfasser",
          "SHK2<>Verfasser",
          "SHK2<>Verfasser",
          "SHK2<>Verfasser",
          "SHK2<>Verfasser",
          "SHK2<>Verfasser",
          "SHK2<>Verfasser",
          "SHK2<>Verfasser",
          "SHK2<>Verfasser",
          "SHK2<>Verfasser",
          "SHK2<>Verfasser",
          "SHK2<>Verfasser",
          "SHK2<>Verfasser",
          "SHK2<>Verfasser",
          "SHK2<>Verfasser",
          "SHK2<>Verfasser",
          "SHK2<>Verfasser",
          "SHK2<>Verfasser",
          "SHK2<>Verfasser",
          "SHK2<>Verfasser",
          "SHK2<>Verfasser",
          "SHK2<>Verfasser",
          "SHK2<>Verfasser",
          "SHK2<>Verfasser",
          "SHK1<>SHK2<>Verfasser",
          "SHK1<>SHK2<>Verfasser",
          "SHK1<>SHK2<>Verfasser",
          "SHK1<>SHK2<>Verfasser",
          "SHK1<>SHK2<>Verfasser",
          "SHK1<>SHK2<>Verfasser",
          "SHK1<>SHK2<>Verfasser",
          "SHK1<>SHK2<>Verfasser",
          "SHK1<>SHK2<>Verfasser",
          "SHK1<>SHK2<>Verfasser",
          "SHK1<>SHK2<>Verfasser",
          "SHK1<>SHK2<>Verfasser",
          "SHK1<>SHK2<>Verfasser",
          "SHK1<>SHK2<>Verfasser",
          "SHK1<>SHK2<>Verfasser",
          "SHK1<>SHK2<>Verfasser",
          "SHK1<>SHK2<>Verfasser",
          "SHK1<>SHK2<>Verfasser",
          "SHK1<>SHK2<>Verfasser",
          "SHK1<>SHK2<>Verfasser",
          "SHK1<>SHK2<>Verfasser",
          "SHK1<>SHK2<>Verfasser",
          "SHK1<>SHK2<>Verfasser",
          "SHK1<>SHK2<>Verfasser",
          "SHK1<>SHK2<>Verfasser",
          "SHK1<>SHK2<>Verfasser",
          "SHK1<>SHK2<>Verfasser",
          "SHK1<>SHK2<>Verfasser",
          "SHK1<>SHK2<>Verfasser",
          "SHK1<>SHK2<>Verfasser",
          "SHK1<>SHK2<>Verfasser",
          "SHK1<>SHK2<>Verfasser",
          "SHK1<>SHK2<>Verfasser",
          "SHK1<>SHK2<>Verfasser",
          "SHK1<>SHK2<>Verfasser",
          "SHK1<>SHK2<>Verfasser",
          "SHK1<>SHK2<>Verfasser",
          "SHK1<>SHK2<>Verfasser",
          "SHK1<>SHK2<>Verfasser"
         ],
         "x0": " ",
         "xaxis": "x",
         "y": [
          0.6549707602339181,
          1,
          0.6466351732760363,
          0.9306698002350177,
          0.5625,
          0.19161220599070106,
          0.8332495130157606,
          0.6948275862068964,
          0.48017621145374445,
          0.7033045977011494,
          0.2677304964539007,
          0.528,
          0.9588499127702793,
          0.9847139885625551,
          0.7163461538461539,
          0.85,
          0.6549707602339181,
          0.6371787320801962,
          0.715319662243667,
          0.45692425564517836,
          0.39392746867547046,
          0.06149425287356336,
          0.3893976316789123,
          0.3492131008081667,
          0.7103109656301145,
          0.5902777777777777,
          0.8525,
          0.8291268046616802,
          0.8017917133258678,
          0.5278915967658588,
          0.37031658918495125,
          0.45269016697588127,
          0.37122557726465366,
          -0.01724137931034475,
          -0.008547008547008517,
          0.5100830367734281,
          0.6549707602339181,
          0.3563636363636363,
          0.528,
          0.6549707602339181,
          0.6549707602339181,
          0.6986995932809279,
          0.9306698002350177,
          0.6666666666666667,
          0.4808744553011449,
          0.610915530370108,
          0.3871576959395657,
          -0.01724137931034475,
          0.6098794243485026,
          0.3045186640471512,
          0.7366071428571428,
          0.89034731890075,
          0.8895904571852926,
          0.8409703504043127,
          0.85,
          1,
          0.7177367488593338,
          0.7477135900572964,
          0.5544100554128937,
          0.6225399570945602,
          0.285865537321334,
          0.6283839055281957,
          0.40485011788480973,
          0.764,
          0.7103109656301145,
          0.5964432284541724,
          0.8399527208173321,
          0.9373007438894793,
          0.7742625834503422,
          0.5594995573663833,
          0.2919999999999999,
          0.32053742802303253,
          -0.03508771929824572,
          -0.01724137931034475,
          0.6101321585903083,
          0.6549707602339181,
          0.4732142857142857,
          0.4326923076923077,
          1,
          0.6549707602339181,
          0.7932928794652241,
          1,
          0.6890756302521008,
          0.41752087849821784,
          0.7766169437485766,
          0.4093437152391546,
          -0.008547008547008517,
          0.9366726296958855,
          0.5779014308426074,
          0.7977142857142857,
          0.9820081414793976,
          0.9537351233725797,
          0.8409703504043127,
          1,
          0.6549707602339181,
          0.610160496256875,
          0.8080206913813721,
          0.6688973784745093,
          0.3796589259439974,
          0.36484918793503474,
          0.5830978954824616,
          0.49610389610389616,
          0.6716141001855287,
          0.8714596949891068,
          0.5964432284541724,
          0.8399527208173321,
          0.7400881057268722,
          0.738920724826869,
          0.18417001484845852,
          0.5171849427168577,
          0.4528593508500772,
          -0.07272727272727253,
          -0.03873239436619724,
          0.6026936026936026,
          0.4732142857142857,
          0.8409703504043127,
          0.528,
          0.7412790697674418,
          0.7412790697674418,
          0.7144873604516875,
          0.9532563025210083,
          0.6451612903225807,
          0.3619594733806145,
          0.7387906548596685,
          0.5055555555555555,
          0.2305475504322767,
          0.7526160889470243,
          0.40734398782343983,
          0.6867772750125691,
          0.9432147024423048,
          0.9416130046645986,
          0.7951668584579977,
          0.9035087719298246,
          0.7412790697674418,
          0.6536596215021295,
          0.7553372223460256,
          0.559489175199305,
          0.46283050898977995,
          0.27292110874200426,
          0.5320312743942213,
          0.3984375,
          0.7131345688960515,
          0.7131345688960515,
          0.6860670194003528,
          0.8355485416104934,
          0.827435773145904,
          0.6778316678315734,
          0.37395494073800484,
          0.42626913779210307,
          0.38431975403535734,
          -0.04705882352941182,
          -0.025345622119815614,
          0.5740554156171285,
          0.5811764705882352,
          0.5929878048780488,
          0.49812030075187974
         ],
         "y0": " ",
         "yaxis": "y"
        }
       ],
       "layout": {
        "boxmode": "group",
        "font": {
         "color": "black"
        },
        "height": 500,
        "legend": {
         "bordercolor": "black",
         "borderwidth": 1,
         "tracegroupgap": 0
        },
        "margin": {
         "t": 60
        },
        "paper_bgcolor": "white",
        "plot_bgcolor": "white",
        "template": {
         "data": {
          "bar": [
           {
            "error_x": {
             "color": "#2a3f5f"
            },
            "error_y": {
             "color": "#2a3f5f"
            },
            "marker": {
             "line": {
              "color": "#E5ECF6",
              "width": 0.5
             },
             "pattern": {
              "fillmode": "overlay",
              "size": 10,
              "solidity": 0.2
             }
            },
            "type": "bar"
           }
          ],
          "barpolar": [
           {
            "marker": {
             "line": {
              "color": "#E5ECF6",
              "width": 0.5
             },
             "pattern": {
              "fillmode": "overlay",
              "size": 10,
              "solidity": 0.2
             }
            },
            "type": "barpolar"
           }
          ],
          "carpet": [
           {
            "aaxis": {
             "endlinecolor": "#2a3f5f",
             "gridcolor": "white",
             "linecolor": "white",
             "minorgridcolor": "white",
             "startlinecolor": "#2a3f5f"
            },
            "baxis": {
             "endlinecolor": "#2a3f5f",
             "gridcolor": "white",
             "linecolor": "white",
             "minorgridcolor": "white",
             "startlinecolor": "#2a3f5f"
            },
            "type": "carpet"
           }
          ],
          "choropleth": [
           {
            "colorbar": {
             "outlinewidth": 0,
             "ticks": ""
            },
            "type": "choropleth"
           }
          ],
          "contour": [
           {
            "colorbar": {
             "outlinewidth": 0,
             "ticks": ""
            },
            "colorscale": [
             [
              0,
              "#0d0887"
             ],
             [
              0.1111111111111111,
              "#46039f"
             ],
             [
              0.2222222222222222,
              "#7201a8"
             ],
             [
              0.3333333333333333,
              "#9c179e"
             ],
             [
              0.4444444444444444,
              "#bd3786"
             ],
             [
              0.5555555555555556,
              "#d8576b"
             ],
             [
              0.6666666666666666,
              "#ed7953"
             ],
             [
              0.7777777777777778,
              "#fb9f3a"
             ],
             [
              0.8888888888888888,
              "#fdca26"
             ],
             [
              1,
              "#f0f921"
             ]
            ],
            "type": "contour"
           }
          ],
          "contourcarpet": [
           {
            "colorbar": {
             "outlinewidth": 0,
             "ticks": ""
            },
            "type": "contourcarpet"
           }
          ],
          "heatmap": [
           {
            "colorbar": {
             "outlinewidth": 0,
             "ticks": ""
            },
            "colorscale": [
             [
              0,
              "#0d0887"
             ],
             [
              0.1111111111111111,
              "#46039f"
             ],
             [
              0.2222222222222222,
              "#7201a8"
             ],
             [
              0.3333333333333333,
              "#9c179e"
             ],
             [
              0.4444444444444444,
              "#bd3786"
             ],
             [
              0.5555555555555556,
              "#d8576b"
             ],
             [
              0.6666666666666666,
              "#ed7953"
             ],
             [
              0.7777777777777778,
              "#fb9f3a"
             ],
             [
              0.8888888888888888,
              "#fdca26"
             ],
             [
              1,
              "#f0f921"
             ]
            ],
            "type": "heatmap"
           }
          ],
          "heatmapgl": [
           {
            "colorbar": {
             "outlinewidth": 0,
             "ticks": ""
            },
            "colorscale": [
             [
              0,
              "#0d0887"
             ],
             [
              0.1111111111111111,
              "#46039f"
             ],
             [
              0.2222222222222222,
              "#7201a8"
             ],
             [
              0.3333333333333333,
              "#9c179e"
             ],
             [
              0.4444444444444444,
              "#bd3786"
             ],
             [
              0.5555555555555556,
              "#d8576b"
             ],
             [
              0.6666666666666666,
              "#ed7953"
             ],
             [
              0.7777777777777778,
              "#fb9f3a"
             ],
             [
              0.8888888888888888,
              "#fdca26"
             ],
             [
              1,
              "#f0f921"
             ]
            ],
            "type": "heatmapgl"
           }
          ],
          "histogram": [
           {
            "marker": {
             "pattern": {
              "fillmode": "overlay",
              "size": 10,
              "solidity": 0.2
             }
            },
            "type": "histogram"
           }
          ],
          "histogram2d": [
           {
            "colorbar": {
             "outlinewidth": 0,
             "ticks": ""
            },
            "colorscale": [
             [
              0,
              "#0d0887"
             ],
             [
              0.1111111111111111,
              "#46039f"
             ],
             [
              0.2222222222222222,
              "#7201a8"
             ],
             [
              0.3333333333333333,
              "#9c179e"
             ],
             [
              0.4444444444444444,
              "#bd3786"
             ],
             [
              0.5555555555555556,
              "#d8576b"
             ],
             [
              0.6666666666666666,
              "#ed7953"
             ],
             [
              0.7777777777777778,
              "#fb9f3a"
             ],
             [
              0.8888888888888888,
              "#fdca26"
             ],
             [
              1,
              "#f0f921"
             ]
            ],
            "type": "histogram2d"
           }
          ],
          "histogram2dcontour": [
           {
            "colorbar": {
             "outlinewidth": 0,
             "ticks": ""
            },
            "colorscale": [
             [
              0,
              "#0d0887"
             ],
             [
              0.1111111111111111,
              "#46039f"
             ],
             [
              0.2222222222222222,
              "#7201a8"
             ],
             [
              0.3333333333333333,
              "#9c179e"
             ],
             [
              0.4444444444444444,
              "#bd3786"
             ],
             [
              0.5555555555555556,
              "#d8576b"
             ],
             [
              0.6666666666666666,
              "#ed7953"
             ],
             [
              0.7777777777777778,
              "#fb9f3a"
             ],
             [
              0.8888888888888888,
              "#fdca26"
             ],
             [
              1,
              "#f0f921"
             ]
            ],
            "type": "histogram2dcontour"
           }
          ],
          "mesh3d": [
           {
            "colorbar": {
             "outlinewidth": 0,
             "ticks": ""
            },
            "type": "mesh3d"
           }
          ],
          "parcoords": [
           {
            "line": {
             "colorbar": {
              "outlinewidth": 0,
              "ticks": ""
             }
            },
            "type": "parcoords"
           }
          ],
          "pie": [
           {
            "automargin": true,
            "type": "pie"
           }
          ],
          "scatter": [
           {
            "fillpattern": {
             "fillmode": "overlay",
             "size": 10,
             "solidity": 0.2
            },
            "type": "scatter"
           }
          ],
          "scatter3d": [
           {
            "line": {
             "colorbar": {
              "outlinewidth": 0,
              "ticks": ""
             }
            },
            "marker": {
             "colorbar": {
              "outlinewidth": 0,
              "ticks": ""
             }
            },
            "type": "scatter3d"
           }
          ],
          "scattercarpet": [
           {
            "marker": {
             "colorbar": {
              "outlinewidth": 0,
              "ticks": ""
             }
            },
            "type": "scattercarpet"
           }
          ],
          "scattergeo": [
           {
            "marker": {
             "colorbar": {
              "outlinewidth": 0,
              "ticks": ""
             }
            },
            "type": "scattergeo"
           }
          ],
          "scattergl": [
           {
            "marker": {
             "colorbar": {
              "outlinewidth": 0,
              "ticks": ""
             }
            },
            "type": "scattergl"
           }
          ],
          "scattermapbox": [
           {
            "marker": {
             "colorbar": {
              "outlinewidth": 0,
              "ticks": ""
             }
            },
            "type": "scattermapbox"
           }
          ],
          "scatterpolar": [
           {
            "marker": {
             "colorbar": {
              "outlinewidth": 0,
              "ticks": ""
             }
            },
            "type": "scatterpolar"
           }
          ],
          "scatterpolargl": [
           {
            "marker": {
             "colorbar": {
              "outlinewidth": 0,
              "ticks": ""
             }
            },
            "type": "scatterpolargl"
           }
          ],
          "scatterternary": [
           {
            "marker": {
             "colorbar": {
              "outlinewidth": 0,
              "ticks": ""
             }
            },
            "type": "scatterternary"
           }
          ],
          "surface": [
           {
            "colorbar": {
             "outlinewidth": 0,
             "ticks": ""
            },
            "colorscale": [
             [
              0,
              "#0d0887"
             ],
             [
              0.1111111111111111,
              "#46039f"
             ],
             [
              0.2222222222222222,
              "#7201a8"
             ],
             [
              0.3333333333333333,
              "#9c179e"
             ],
             [
              0.4444444444444444,
              "#bd3786"
             ],
             [
              0.5555555555555556,
              "#d8576b"
             ],
             [
              0.6666666666666666,
              "#ed7953"
             ],
             [
              0.7777777777777778,
              "#fb9f3a"
             ],
             [
              0.8888888888888888,
              "#fdca26"
             ],
             [
              1,
              "#f0f921"
             ]
            ],
            "type": "surface"
           }
          ],
          "table": [
           {
            "cells": {
             "fill": {
              "color": "#EBF0F8"
             },
             "line": {
              "color": "white"
             }
            },
            "header": {
             "fill": {
              "color": "#C8D4E3"
             },
             "line": {
              "color": "white"
             }
            },
            "type": "table"
           }
          ]
         },
         "layout": {
          "annotationdefaults": {
           "arrowcolor": "#2a3f5f",
           "arrowhead": 0,
           "arrowwidth": 1
          },
          "autotypenumbers": "strict",
          "coloraxis": {
           "colorbar": {
            "outlinewidth": 0,
            "ticks": ""
           }
          },
          "colorscale": {
           "diverging": [
            [
             0,
             "#8e0152"
            ],
            [
             0.1,
             "#c51b7d"
            ],
            [
             0.2,
             "#de77ae"
            ],
            [
             0.3,
             "#f1b6da"
            ],
            [
             0.4,
             "#fde0ef"
            ],
            [
             0.5,
             "#f7f7f7"
            ],
            [
             0.6,
             "#e6f5d0"
            ],
            [
             0.7,
             "#b8e186"
            ],
            [
             0.8,
             "#7fbc41"
            ],
            [
             0.9,
             "#4d9221"
            ],
            [
             1,
             "#276419"
            ]
           ],
           "sequential": [
            [
             0,
             "#0d0887"
            ],
            [
             0.1111111111111111,
             "#46039f"
            ],
            [
             0.2222222222222222,
             "#7201a8"
            ],
            [
             0.3333333333333333,
             "#9c179e"
            ],
            [
             0.4444444444444444,
             "#bd3786"
            ],
            [
             0.5555555555555556,
             "#d8576b"
            ],
            [
             0.6666666666666666,
             "#ed7953"
            ],
            [
             0.7777777777777778,
             "#fb9f3a"
            ],
            [
             0.8888888888888888,
             "#fdca26"
            ],
            [
             1,
             "#f0f921"
            ]
           ],
           "sequentialminus": [
            [
             0,
             "#0d0887"
            ],
            [
             0.1111111111111111,
             "#46039f"
            ],
            [
             0.2222222222222222,
             "#7201a8"
            ],
            [
             0.3333333333333333,
             "#9c179e"
            ],
            [
             0.4444444444444444,
             "#bd3786"
            ],
            [
             0.5555555555555556,
             "#d8576b"
            ],
            [
             0.6666666666666666,
             "#ed7953"
            ],
            [
             0.7777777777777778,
             "#fb9f3a"
            ],
            [
             0.8888888888888888,
             "#fdca26"
            ],
            [
             1,
             "#f0f921"
            ]
           ]
          },
          "colorway": [
           "#636efa",
           "#EF553B",
           "#00cc96",
           "#ab63fa",
           "#FFA15A",
           "#19d3f3",
           "#FF6692",
           "#B6E880",
           "#FF97FF",
           "#FECB52"
          ],
          "font": {
           "color": "#2a3f5f"
          },
          "geo": {
           "bgcolor": "white",
           "lakecolor": "white",
           "landcolor": "#E5ECF6",
           "showlakes": true,
           "showland": true,
           "subunitcolor": "white"
          },
          "hoverlabel": {
           "align": "left"
          },
          "hovermode": "closest",
          "mapbox": {
           "style": "light"
          },
          "paper_bgcolor": "white",
          "plot_bgcolor": "#E5ECF6",
          "polar": {
           "angularaxis": {
            "gridcolor": "white",
            "linecolor": "white",
            "ticks": ""
           },
           "bgcolor": "#E5ECF6",
           "radialaxis": {
            "gridcolor": "white",
            "linecolor": "white",
            "ticks": ""
           }
          },
          "scene": {
           "xaxis": {
            "backgroundcolor": "#E5ECF6",
            "gridcolor": "white",
            "gridwidth": 2,
            "linecolor": "white",
            "showbackground": true,
            "ticks": "",
            "zerolinecolor": "white"
           },
           "yaxis": {
            "backgroundcolor": "#E5ECF6",
            "gridcolor": "white",
            "gridwidth": 2,
            "linecolor": "white",
            "showbackground": true,
            "ticks": "",
            "zerolinecolor": "white"
           },
           "zaxis": {
            "backgroundcolor": "#E5ECF6",
            "gridcolor": "white",
            "gridwidth": 2,
            "linecolor": "white",
            "showbackground": true,
            "ticks": "",
            "zerolinecolor": "white"
           }
          },
          "shapedefaults": {
           "line": {
            "color": "#2a3f5f"
           }
          },
          "ternary": {
           "aaxis": {
            "gridcolor": "white",
            "linecolor": "white",
            "ticks": ""
           },
           "baxis": {
            "gridcolor": "white",
            "linecolor": "white",
            "ticks": ""
           },
           "bgcolor": "#E5ECF6",
           "caxis": {
            "gridcolor": "white",
            "linecolor": "white",
            "ticks": ""
           }
          },
          "title": {
           "x": 0.05
          },
          "xaxis": {
           "automargin": true,
           "gridcolor": "white",
           "linecolor": "white",
           "ticks": "",
           "title": {
            "standoff": 15
           },
           "zerolinecolor": "white",
           "zerolinewidth": 2
          },
          "yaxis": {
           "automargin": true,
           "gridcolor": "white",
           "linecolor": "white",
           "ticks": "",
           "title": {
            "standoff": 15
           },
           "zerolinecolor": "white",
           "zerolinewidth": 2
          }
         }
        },
        "width": 1000,
        "xaxis": {
         "anchor": "y",
         "autorange": true,
         "color": "black",
         "domain": [
          0,
          1
         ],
         "gridcolor": "white",
         "range": [
          -0.514336917562724,
          3.5
         ],
         "showgrid": false,
         "tickfont": {
          "size": 16
         },
         "title": {
          "font": {
           "size": 16
          },
          "text": ""
         },
         "type": "category"
        },
        "yaxis": {
         "anchor": "x",
         "autorange": true,
         "color": "black",
         "domain": [
          0,
          1
         ],
         "gridcolor": "lightgray",
         "range": [
          -0.13232323232323212,
          1.0595959595959596
         ],
         "tickfont": {
          "size": 16
         },
         "title": {
          "font": {
           "size": 16
          },
          "text": "Agreement (Krippendorff's alpha)"
         },
         "type": "linear",
         "zerolinecolor": "lightgray"
        }
       }
      },
      "image/png": "[encoded data removed]",
      "text/html": [
       "<div>                            <div id=\"62c93a17-4be5-4643-a5d2-c4d8deed53cd\" class=\"plotly-graph-div\" style=\"height:500px; width:1000px;\"></div>            <script type=\"text/javascript\">                require([\"plotly\"], function(Plotly) {                    window.PLOTLYENV=window.PLOTLYENV || {};                                    if (document.getElementById(\"62c93a17-4be5-4643-a5d2-c4d8deed53cd\")) {                    Plotly.newPlot(                        \"62c93a17-4be5-4643-a5d2-c4d8deed53cd\",                        [{\"alignmentgroup\":\"True\",\"boxpoints\":\"all\",\"customdata\":[[\"(02) Empirische Ausrichtung\"],[\"(03) Geschichtstheoretische Ausrichtung\"],[\"(04) Gattung\"],[\"(05) Markiertheit der Sprechinstanz\"],[\"(06) Zeitliche Position der Sprechinstanz\"],[\"(07) Sprechakte\"],[\"(08) Tempora\"],[\"(09) Konkretheit\"],[\"(10) Wissen der Sprechinstanz\"],[\"(11) Zeitdominanz\"],[\"(12) Anzahl Zeitebenen\"],[\"(13) Fixierbarkeit der dominanten Zeitebene\"],[\"(14) Beginn der dominanten Zeitebene\"],[\"(15) Ende der dominanten Zeitebene\"],[\"(16) Anachronismen\"],[\"(17) Gegenwartsbezug\"],[\"(18) Großraum\"],[\"(19) Mittelraum\"],[\"(20) Kleinraum\"],[\"(21) Inhaltstyp\"],[\"(22) Stoffgebiet\"],[\"(23) Bewertung Stoffgebiet\"],[\"(24) Entitäten\"],[\"(25) Bewertung Entitäten\"],[\"(26) Nationalismus\"],[\"(27) Heroismus\"],[\"(28) Religiosität\"],[\"(29) Geschichtsmarker Person\"],[\"(30) Geschichtsmarker Zeit\"],[\"(31) Geschichtsmarker Ort\"],[\"(32) Geschichtsmarker Objekt\"],[\"(33) Überlieferung\"],[\"(34) Bewertung Überlieferung\"],[\"(35) Geschichtsauffassungen\"],[\"(36) Bewertung Geschichtsauffassungen\"],[\"(37) Verhältnis zum historischen Wissen\"],[\"(38) Reim\"],[\"(39) Metrum\"],[\"(40) Verfremdende Sprache\"],[\"(02) Empirische Ausrichtung\"],[\"(03) Geschichtstheoretische Ausrichtung\"],[\"(04) Gattung\"],[\"(05) Markiertheit der Sprechinstanz\"],[\"(06) Zeitliche Position der Sprechinstanz\"],[\"(07) Sprechakte\"],[\"(08) Tempora\"],[\"(09) Konkretheit\"],[\"(10) Wissen der Sprechinstanz\"],[\"(11) Zeitdominanz\"],[\"(12) Anzahl Zeitebenen\"],[\"(13) Fixierbarkeit der dominanten Zeitebene\"],[\"(14) Beginn der dominanten Zeitebene\"],[\"(15) Ende der dominanten Zeitebene\"],[\"(16) Anachronismen\"],[\"(17) Gegenwartsbezug\"],[\"(18) Großraum\"],[\"(19) Mittelraum\"],[\"(20) Kleinraum\"],[\"(21) Inhaltstyp\"],[\"(22) Stoffgebiet\"],[\"(23) Bewertung Stoffgebiet\"],[\"(24) Entitäten\"],[\"(25) Bewertung Entitäten\"],[\"(26) Nationalismus\"],[\"(27) Heroismus\"],[\"(28) Religiosität\"],[\"(29) Geschichtsmarker Person\"],[\"(30) Geschichtsmarker Zeit\"],[\"(31) Geschichtsmarker Ort\"],[\"(32) Geschichtsmarker Objekt\"],[\"(33) Überlieferung\"],[\"(34) Bewertung Überlieferung\"],[\"(35) Geschichtsauffassungen\"],[\"(36) Bewertung Geschichtsauffassungen\"],[\"(37) Verhältnis zum historischen Wissen\"],[\"(38) Reim\"],[\"(39) Metrum\"],[\"(40) Verfremdende Sprache\"],[\"(02) Empirische Ausrichtung\"],[\"(03) Geschichtstheoretische Ausrichtung\"],[\"(04) Gattung\"],[\"(05) Markiertheit der Sprechinstanz\"],[\"(06) Zeitliche Position der Sprechinstanz\"],[\"(07) Sprechakte\"],[\"(08) Tempora\"],[\"(09) Konkretheit\"],[\"(10) Wissen der Sprechinstanz\"],[\"(11) Zeitdominanz\"],[\"(12) Anzahl Zeitebenen\"],[\"(13) Fixierbarkeit der dominanten Zeitebene\"],[\"(14) Beginn der dominanten Zeitebene\"],[\"(15) Ende der dominanten Zeitebene\"],[\"(16) Anachronismen\"],[\"(17) Gegenwartsbezug\"],[\"(18) Großraum\"],[\"(19) Mittelraum\"],[\"(20) Kleinraum\"],[\"(21) Inhaltstyp\"],[\"(22) Stoffgebiet\"],[\"(23) Bewertung Stoffgebiet\"],[\"(24) Entitäten\"],[\"(25) Bewertung Entitäten\"],[\"(26) Nationalismus\"],[\"(27) Heroismus\"],[\"(28) Religiosität\"],[\"(29) Geschichtsmarker Person\"],[\"(30) Geschichtsmarker Zeit\"],[\"(31) Geschichtsmarker Ort\"],[\"(32) Geschichtsmarker Objekt\"],[\"(33) Überlieferung\"],[\"(34) Bewertung Überlieferung\"],[\"(35) Geschichtsauffassungen\"],[\"(36) Bewertung Geschichtsauffassungen\"],[\"(37) Verhältnis zum historischen Wissen\"],[\"(38) Reim\"],[\"(39) Metrum\"],[\"(40) Verfremdende Sprache\"],[\"(02) Empirische Ausrichtung\"],[\"(03) Geschichtstheoretische Ausrichtung\"],[\"(04) Gattung\"],[\"(05) Markiertheit der Sprechinstanz\"],[\"(06) Zeitliche Position der Sprechinstanz\"],[\"(07) Sprechakte\"],[\"(08) Tempora\"],[\"(09) Konkretheit\"],[\"(10) Wissen der Sprechinstanz\"],[\"(11) Zeitdominanz\"],[\"(12) Anzahl Zeitebenen\"],[\"(13) Fixierbarkeit der dominanten Zeitebene\"],[\"(14) Beginn der dominanten Zeitebene\"],[\"(15) Ende der dominanten Zeitebene\"],[\"(16) Anachronismen\"],[\"(17) Gegenwartsbezug\"],[\"(18) Großraum\"],[\"(19) Mittelraum\"],[\"(20) Kleinraum\"],[\"(21) Inhaltstyp\"],[\"(22) Stoffgebiet\"],[\"(23) Bewertung Stoffgebiet\"],[\"(24) Entitäten\"],[\"(25) Bewertung Entitäten\"],[\"(26) Nationalismus\"],[\"(27) Heroismus\"],[\"(28) Religiosität\"],[\"(29) Geschichtsmarker Person\"],[\"(30) Geschichtsmarker Zeit\"],[\"(31) Geschichtsmarker Ort\"],[\"(32) Geschichtsmarker Objekt\"],[\"(33) Überlieferung\"],[\"(34) Bewertung Überlieferung\"],[\"(35) Geschichtsauffassungen\"],[\"(36) Bewertung Geschichtsauffassungen\"],[\"(37) Verhältnis zum historischen Wissen\"],[\"(38) Reim\"],[\"(39) Metrum\"],[\"(40) Verfremdende Sprache\"]],\"hovertemplate\":\"=%{x}\\u003cbr\\u003eAgreement (Krippendorff's alpha)=%{y}\\u003cbr\\u003eindex=%{customdata[0]}\\u003cextra\\u003e\\u003c\\u002fextra\\u003e\",\"legendgroup\":\"\",\"marker\":{\"color\":\"#555555\"},\"name\":\"\",\"notched\":false,\"offsetgroup\":\"\",\"orientation\":\"v\",\"showlegend\":false,\"x\":[\"SHK1\\u003c\\u003eSHK2\",\"SHK1\\u003c\\u003eSHK2\",\"SHK1\\u003c\\u003eSHK2\",\"SHK1\\u003c\\u003eSHK2\",\"SHK1\\u003c\\u003eSHK2\",\"SHK1\\u003c\\u003eSHK2\",\"SHK1\\u003c\\u003eSHK2\",\"SHK1\\u003c\\u003eSHK2\",\"SHK1\\u003c\\u003eSHK2\",\"SHK1\\u003c\\u003eSHK2\",\"SHK1\\u003c\\u003eSHK2\",\"SHK1\\u003c\\u003eSHK2\",\"SHK1\\u003c\\u003eSHK2\",\"SHK1\\u003c\\u003eSHK2\",\"SHK1\\u003c\\u003eSHK2\",\"SHK1\\u003c\\u003eSHK2\",\"SHK1\\u003c\\u003eSHK2\",\"SHK1\\u003c\\u003eSHK2\",\"SHK1\\u003c\\u003eSHK2\",\"SHK1\\u003c\\u003eSHK2\",\"SHK1\\u003c\\u003eSHK2\",\"SHK1\\u003c\\u003eSHK2\",\"SHK1\\u003c\\u003eSHK2\",\"SHK1\\u003c\\u003eSHK2\",\"SHK1\\u003c\\u003eSHK2\",\"SHK1\\u003c\\u003eSHK2\",\"SHK1\\u003c\\u003eSHK2\",\"SHK1\\u003c\\u003eSHK2\",\"SHK1\\u003c\\u003eSHK2\",\"SHK1\\u003c\\u003eSHK2\",\"SHK1\\u003c\\u003eSHK2\",\"SHK1\\u003c\\u003eSHK2\",\"SHK1\\u003c\\u003eSHK2\",\"SHK1\\u003c\\u003eSHK2\",\"SHK1\\u003c\\u003eSHK2\",\"SHK1\\u003c\\u003eSHK2\",\"SHK1\\u003c\\u003eSHK2\",\"SHK1\\u003c\\u003eSHK2\",\"SHK1\\u003c\\u003eSHK2\",\"SHK1\\u003c\\u003eVerfasser\",\"SHK1\\u003c\\u003eVerfasser\",\"SHK1\\u003c\\u003eVerfasser\",\"SHK1\\u003c\\u003eVerfasser\",\"SHK1\\u003c\\u003eVerfasser\",\"SHK1\\u003c\\u003eVerfasser\",\"SHK1\\u003c\\u003eVerfasser\",\"SHK1\\u003c\\u003eVerfasser\",\"SHK1\\u003c\\u003eVerfasser\",\"SHK1\\u003c\\u003eVerfasser\",\"SHK1\\u003c\\u003eVerfasser\",\"SHK1\\u003c\\u003eVerfasser\",\"SHK1\\u003c\\u003eVerfasser\",\"SHK1\\u003c\\u003eVerfasser\",\"SHK1\\u003c\\u003eVerfasser\",\"SHK1\\u003c\\u003eVerfasser\",\"SHK1\\u003c\\u003eVerfasser\",\"SHK1\\u003c\\u003eVerfasser\",\"SHK1\\u003c\\u003eVerfasser\",\"SHK1\\u003c\\u003eVerfasser\",\"SHK1\\u003c\\u003eVerfasser\",\"SHK1\\u003c\\u003eVerfasser\",\"SHK1\\u003c\\u003eVerfasser\",\"SHK1\\u003c\\u003eVerfasser\",\"SHK1\\u003c\\u003eVerfasser\",\"SHK1\\u003c\\u003eVerfasser\",\"SHK1\\u003c\\u003eVerfasser\",\"SHK1\\u003c\\u003eVerfasser\",\"SHK1\\u003c\\u003eVerfasser\",\"SHK1\\u003c\\u003eVerfasser\",\"SHK1\\u003c\\u003eVerfasser\",\"SHK1\\u003c\\u003eVerfasser\",\"SHK1\\u003c\\u003eVerfasser\",\"SHK1\\u003c\\u003eVerfasser\",\"SHK1\\u003c\\u003eVerfasser\",\"SHK1\\u003c\\u003eVerfasser\",\"SHK1\\u003c\\u003eVerfasser\",\"SHK1\\u003c\\u003eVerfasser\",\"SHK1\\u003c\\u003eVerfasser\",\"SHK2\\u003c\\u003eVerfasser\",\"SHK2\\u003c\\u003eVerfasser\",\"SHK2\\u003c\\u003eVerfasser\",\"SHK2\\u003c\\u003eVerfasser\",\"SHK2\\u003c\\u003eVerfasser\",\"SHK2\\u003c\\u003eVerfasser\",\"SHK2\\u003c\\u003eVerfasser\",\"SHK2\\u003c\\u003eVerfasser\",\"SHK2\\u003c\\u003eVerfasser\",\"SHK2\\u003c\\u003eVerfasser\",\"SHK2\\u003c\\u003eVerfasser\",\"SHK2\\u003c\\u003eVerfasser\",\"SHK2\\u003c\\u003eVerfasser\",\"SHK2\\u003c\\u003eVerfasser\",\"SHK2\\u003c\\u003eVerfasser\",\"SHK2\\u003c\\u003eVerfasser\",\"SHK2\\u003c\\u003eVerfasser\",\"SHK2\\u003c\\u003eVerfasser\",\"SHK2\\u003c\\u003eVerfasser\",\"SHK2\\u003c\\u003eVerfasser\",\"SHK2\\u003c\\u003eVerfasser\",\"SHK2\\u003c\\u003eVerfasser\",\"SHK2\\u003c\\u003eVerfasser\",\"SHK2\\u003c\\u003eVerfasser\",\"SHK2\\u003c\\u003eVerfasser\",\"SHK2\\u003c\\u003eVerfasser\",\"SHK2\\u003c\\u003eVerfasser\",\"SHK2\\u003c\\u003eVerfasser\",\"SHK2\\u003c\\u003eVerfasser\",\"SHK2\\u003c\\u003eVerfasser\",\"SHK2\\u003c\\u003eVerfasser\",\"SHK2\\u003c\\u003eVerfasser\",\"SHK2\\u003c\\u003eVerfasser\",\"SHK2\\u003c\\u003eVerfasser\",\"SHK2\\u003c\\u003eVerfasser\",\"SHK2\\u003c\\u003eVerfasser\",\"SHK2\\u003c\\u003eVerfasser\",\"SHK2\\u003c\\u003eVerfasser\",\"SHK2\\u003c\\u003eVerfasser\",\"SHK1\\u003c\\u003eSHK2\\u003c\\u003eVerfasser\",\"SHK1\\u003c\\u003eSHK2\\u003c\\u003eVerfasser\",\"SHK1\\u003c\\u003eSHK2\\u003c\\u003eVerfasser\",\"SHK1\\u003c\\u003eSHK2\\u003c\\u003eVerfasser\",\"SHK1\\u003c\\u003eSHK2\\u003c\\u003eVerfasser\",\"SHK1\\u003c\\u003eSHK2\\u003c\\u003eVerfasser\",\"SHK1\\u003c\\u003eSHK2\\u003c\\u003eVerfasser\",\"SHK1\\u003c\\u003eSHK2\\u003c\\u003eVerfasser\",\"SHK1\\u003c\\u003eSHK2\\u003c\\u003eVerfasser\",\"SHK1\\u003c\\u003eSHK2\\u003c\\u003eVerfasser\",\"SHK1\\u003c\\u003eSHK2\\u003c\\u003eVerfasser\",\"SHK1\\u003c\\u003eSHK2\\u003c\\u003eVerfasser\",\"SHK1\\u003c\\u003eSHK2\\u003c\\u003eVerfasser\",\"SHK1\\u003c\\u003eSHK2\\u003c\\u003eVerfasser\",\"SHK1\\u003c\\u003eSHK2\\u003c\\u003eVerfasser\",\"SHK1\\u003c\\u003eSHK2\\u003c\\u003eVerfasser\",\"SHK1\\u003c\\u003eSHK2\\u003c\\u003eVerfasser\",\"SHK1\\u003c\\u003eSHK2\\u003c\\u003eVerfasser\",\"SHK1\\u003c\\u003eSHK2\\u003c\\u003eVerfasser\",\"SHK1\\u003c\\u003eSHK2\\u003c\\u003eVerfasser\",\"SHK1\\u003c\\u003eSHK2\\u003c\\u003eVerfasser\",\"SHK1\\u003c\\u003eSHK2\\u003c\\u003eVerfasser\",\"SHK1\\u003c\\u003eSHK2\\u003c\\u003eVerfasser\",\"SHK1\\u003c\\u003eSHK2\\u003c\\u003eVerfasser\",\"SHK1\\u003c\\u003eSHK2\\u003c\\u003eVerfasser\",\"SHK1\\u003c\\u003eSHK2\\u003c\\u003eVerfasser\",\"SHK1\\u003c\\u003eSHK2\\u003c\\u003eVerfasser\",\"SHK1\\u003c\\u003eSHK2\\u003c\\u003eVerfasser\",\"SHK1\\u003c\\u003eSHK2\\u003c\\u003eVerfasser\",\"SHK1\\u003c\\u003eSHK2\\u003c\\u003eVerfasser\",\"SHK1\\u003c\\u003eSHK2\\u003c\\u003eVerfasser\",\"SHK1\\u003c\\u003eSHK2\\u003c\\u003eVerfasser\",\"SHK1\\u003c\\u003eSHK2\\u003c\\u003eVerfasser\",\"SHK1\\u003c\\u003eSHK2\\u003c\\u003eVerfasser\",\"SHK1\\u003c\\u003eSHK2\\u003c\\u003eVerfasser\",\"SHK1\\u003c\\u003eSHK2\\u003c\\u003eVerfasser\",\"SHK1\\u003c\\u003eSHK2\\u003c\\u003eVerfasser\",\"SHK1\\u003c\\u003eSHK2\\u003c\\u003eVerfasser\",\"SHK1\\u003c\\u003eSHK2\\u003c\\u003eVerfasser\"],\"x0\":\" \",\"xaxis\":\"x\",\"y\":[0.6549707602339181,1.0,0.6466351732760363,0.9306698002350177,0.5625,0.19161220599070106,0.8332495130157606,0.6948275862068964,0.48017621145374445,0.7033045977011494,0.2677304964539007,0.528,0.9588499127702793,0.9847139885625551,0.7163461538461539,0.85,0.6549707602339181,0.6371787320801962,0.715319662243667,0.45692425564517836,0.39392746867547046,0.06149425287356336,0.3893976316789123,0.3492131008081667,0.7103109656301145,0.5902777777777777,0.8525,0.8291268046616802,0.8017917133258678,0.5278915967658588,0.37031658918495125,0.45269016697588127,0.37122557726465366,-0.01724137931034475,-0.008547008547008517,0.5100830367734281,0.6549707602339181,0.3563636363636363,0.528,0.6549707602339181,0.6549707602339181,0.6986995932809279,0.9306698002350177,0.6666666666666667,0.4808744553011449,0.610915530370108,0.3871576959395657,-0.01724137931034475,0.6098794243485026,0.3045186640471512,0.7366071428571428,0.89034731890075,0.8895904571852926,0.8409703504043127,0.85,1.0,0.7177367488593338,0.7477135900572964,0.5544100554128937,0.6225399570945602,0.285865537321334,0.6283839055281957,0.40485011788480973,0.764,0.7103109656301145,0.5964432284541724,0.8399527208173321,0.9373007438894793,0.7742625834503422,0.5594995573663833,0.2919999999999999,0.32053742802303253,-0.03508771929824572,-0.01724137931034475,0.6101321585903083,0.6549707602339181,0.4732142857142857,0.4326923076923077,1.0,0.6549707602339181,0.7932928794652241,1.0,0.6890756302521008,0.41752087849821784,0.7766169437485766,0.4093437152391546,-0.008547008547008517,0.9366726296958855,0.5779014308426074,0.7977142857142857,0.9820081414793976,0.9537351233725797,0.8409703504043127,1.0,0.6549707602339181,0.610160496256875,0.8080206913813721,0.6688973784745093,0.3796589259439974,0.36484918793503474,0.5830978954824616,0.49610389610389616,0.6716141001855287,0.8714596949891068,0.5964432284541724,0.8399527208173321,0.7400881057268722,0.738920724826869,0.18417001484845852,0.5171849427168577,0.4528593508500772,-0.07272727272727253,-0.03873239436619724,0.6026936026936026,0.4732142857142857,0.8409703504043127,0.528,0.7412790697674418,0.7412790697674418,0.7144873604516875,0.9532563025210083,0.6451612903225807,0.3619594733806145,0.7387906548596685,0.5055555555555555,0.2305475504322767,0.7526160889470243,0.40734398782343983,0.6867772750125691,0.9432147024423048,0.9416130046645986,0.7951668584579977,0.9035087719298246,0.7412790697674418,0.6536596215021295,0.7553372223460256,0.559489175199305,0.46283050898977995,0.27292110874200426,0.5320312743942213,0.3984375,0.7131345688960515,0.7131345688960515,0.6860670194003528,0.8355485416104934,0.827435773145904,0.6778316678315734,0.37395494073800484,0.42626913779210307,0.38431975403535734,-0.04705882352941182,-0.025345622119815614,0.5740554156171285,0.5811764705882352,0.5929878048780488,0.49812030075187974],\"y0\":\" \",\"yaxis\":\"y\",\"type\":\"box\",\"line\":{\"color\":\"#555555\"}}],                        {\"template\":{\"data\":{\"histogram2dcontour\":[{\"type\":\"histogram2dcontour\",\"colorbar\":{\"outlinewidth\":0,\"ticks\":\"\"},\"colorscale\":[[0.0,\"#0d0887\"],[0.1111111111111111,\"#46039f\"],[0.2222222222222222,\"#7201a8\"],[0.3333333333333333,\"#9c179e\"],[0.4444444444444444,\"#bd3786\"],[0.5555555555555556,\"#d8576b\"],[0.6666666666666666,\"#ed7953\"],[0.7777777777777778,\"#fb9f3a\"],[0.8888888888888888,\"#fdca26\"],[1.0,\"#f0f921\"]]}],\"choropleth\":[{\"type\":\"choropleth\",\"colorbar\":{\"outlinewidth\":0,\"ticks\":\"\"}}],\"histogram2d\":[{\"type\":\"histogram2d\",\"colorbar\":{\"outlinewidth\":0,\"ticks\":\"\"},\"colorscale\":[[0.0,\"#0d0887\"],[0.1111111111111111,\"#46039f\"],[0.2222222222222222,\"#7201a8\"],[0.3333333333333333,\"#9c179e\"],[0.4444444444444444,\"#bd3786\"],[0.5555555555555556,\"#d8576b\"],[0.6666666666666666,\"#ed7953\"],[0.7777777777777778,\"#fb9f3a\"],[0.8888888888888888,\"#fdca26\"],[1.0,\"#f0f921\"]]}],\"heatmap\":[{\"type\":\"heatmap\",\"colorbar\":{\"outlinewidth\":0,\"ticks\":\"\"},\"colorscale\":[[0.0,\"#0d0887\"],[0.1111111111111111,\"#46039f\"],[0.2222222222222222,\"#7201a8\"],[0.3333333333333333,\"#9c179e\"],[0.4444444444444444,\"#bd3786\"],[0.5555555555555556,\"#d8576b\"],[0.6666666666666666,\"#ed7953\"],[0.7777777777777778,\"#fb9f3a\"],[0.8888888888888888,\"#fdca26\"],[1.0,\"#f0f921\"]]}],\"heatmapgl\":[{\"type\":\"heatmapgl\",\"colorbar\":{\"outlinewidth\":0,\"ticks\":\"\"},\"colorscale\":[[0.0,\"#0d0887\"],[0.1111111111111111,\"#46039f\"],[0.2222222222222222,\"#7201a8\"],[0.3333333333333333,\"#9c179e\"],[0.4444444444444444,\"#bd3786\"],[0.5555555555555556,\"#d8576b\"],[0.6666666666666666,\"#ed7953\"],[0.7777777777777778,\"#fb9f3a\"],[0.8888888888888888,\"#fdca26\"],[1.0,\"#f0f921\"]]}],\"contourcarpet\":[{\"type\":\"contourcarpet\",\"colorbar\":{\"outlinewidth\":0,\"ticks\":\"\"}}],\"contour\":[{\"type\":\"contour\",\"colorbar\":{\"outlinewidth\":0,\"ticks\":\"\"},\"colorscale\":[[0.0,\"#0d0887\"],[0.1111111111111111,\"#46039f\"],[0.2222222222222222,\"#7201a8\"],[0.3333333333333333,\"#9c179e\"],[0.4444444444444444,\"#bd3786\"],[0.5555555555555556,\"#d8576b\"],[0.6666666666666666,\"#ed7953\"],[0.7777777777777778,\"#fb9f3a\"],[0.8888888888888888,\"#fdca26\"],[1.0,\"#f0f921\"]]}],\"surface\":[{\"type\":\"surface\",\"colorbar\":{\"outlinewidth\":0,\"ticks\":\"\"},\"colorscale\":[[0.0,\"#0d0887\"],[0.1111111111111111,\"#46039f\"],[0.2222222222222222,\"#7201a8\"],[0.3333333333333333,\"#9c179e\"],[0.4444444444444444,\"#bd3786\"],[0.5555555555555556,\"#d8576b\"],[0.6666666666666666,\"#ed7953\"],[0.7777777777777778,\"#fb9f3a\"],[0.8888888888888888,\"#fdca26\"],[1.0,\"#f0f921\"]]}],\"mesh3d\":[{\"type\":\"mesh3d\",\"colorbar\":{\"outlinewidth\":0,\"ticks\":\"\"}}],\"scatter\":[{\"fillpattern\":{\"fillmode\":\"overlay\",\"size\":10,\"solidity\":0.2},\"type\":\"scatter\"}],\"parcoords\":[{\"type\":\"parcoords\",\"line\":{\"colorbar\":{\"outlinewidth\":0,\"ticks\":\"\"}}}],\"scatterpolargl\":[{\"type\":\"scatterpolargl\",\"marker\":{\"colorbar\":{\"outlinewidth\":0,\"ticks\":\"\"}}}],\"bar\":[{\"error_x\":{\"color\":\"#2a3f5f\"},\"error_y\":{\"color\":\"#2a3f5f\"},\"marker\":{\"line\":{\"color\":\"#E5ECF6\",\"width\":0.5},\"pattern\":{\"fillmode\":\"overlay\",\"size\":10,\"solidity\":0.2}},\"type\":\"bar\"}],\"scattergeo\":[{\"type\":\"scattergeo\",\"marker\":{\"colorbar\":{\"outlinewidth\":0,\"ticks\":\"\"}}}],\"scatterpolar\":[{\"type\":\"scatterpolar\",\"marker\":{\"colorbar\":{\"outlinewidth\":0,\"ticks\":\"\"}}}],\"histogram\":[{\"marker\":{\"pattern\":{\"fillmode\":\"overlay\",\"size\":10,\"solidity\":0.2}},\"type\":\"histogram\"}],\"scattergl\":[{\"type\":\"scattergl\",\"marker\":{\"colorbar\":{\"outlinewidth\":0,\"ticks\":\"\"}}}],\"scatter3d\":[{\"type\":\"scatter3d\",\"line\":{\"colorbar\":{\"outlinewidth\":0,\"ticks\":\"\"}},\"marker\":{\"colorbar\":{\"outlinewidth\":0,\"ticks\":\"\"}}}],\"scattermapbox\":[{\"type\":\"scattermapbox\",\"marker\":{\"colorbar\":{\"outlinewidth\":0,\"ticks\":\"\"}}}],\"scatterternary\":[{\"type\":\"scatterternary\",\"marker\":{\"colorbar\":{\"outlinewidth\":0,\"ticks\":\"\"}}}],\"scattercarpet\":[{\"type\":\"scattercarpet\",\"marker\":{\"colorbar\":{\"outlinewidth\":0,\"ticks\":\"\"}}}],\"carpet\":[{\"aaxis\":{\"endlinecolor\":\"#2a3f5f\",\"gridcolor\":\"white\",\"linecolor\":\"white\",\"minorgridcolor\":\"white\",\"startlinecolor\":\"#2a3f5f\"},\"baxis\":{\"endlinecolor\":\"#2a3f5f\",\"gridcolor\":\"white\",\"linecolor\":\"white\",\"minorgridcolor\":\"white\",\"startlinecolor\":\"#2a3f5f\"},\"type\":\"carpet\"}],\"table\":[{\"cells\":{\"fill\":{\"color\":\"#EBF0F8\"},\"line\":{\"color\":\"white\"}},\"header\":{\"fill\":{\"color\":\"#C8D4E3\"},\"line\":{\"color\":\"white\"}},\"type\":\"table\"}],\"barpolar\":[{\"marker\":{\"line\":{\"color\":\"#E5ECF6\",\"width\":0.5},\"pattern\":{\"fillmode\":\"overlay\",\"size\":10,\"solidity\":0.2}},\"type\":\"barpolar\"}],\"pie\":[{\"automargin\":true,\"type\":\"pie\"}]},\"layout\":{\"autotypenumbers\":\"strict\",\"colorway\":[\"#636efa\",\"#EF553B\",\"#00cc96\",\"#ab63fa\",\"#FFA15A\",\"#19d3f3\",\"#FF6692\",\"#B6E880\",\"#FF97FF\",\"#FECB52\"],\"font\":{\"color\":\"#2a3f5f\"},\"hovermode\":\"closest\",\"hoverlabel\":{\"align\":\"left\"},\"paper_bgcolor\":\"white\",\"plot_bgcolor\":\"#E5ECF6\",\"polar\":{\"bgcolor\":\"#E5ECF6\",\"angularaxis\":{\"gridcolor\":\"white\",\"linecolor\":\"white\",\"ticks\":\"\"},\"radialaxis\":{\"gridcolor\":\"white\",\"linecolor\":\"white\",\"ticks\":\"\"}},\"ternary\":{\"bgcolor\":\"#E5ECF6\",\"aaxis\":{\"gridcolor\":\"white\",\"linecolor\":\"white\",\"ticks\":\"\"},\"baxis\":{\"gridcolor\":\"white\",\"linecolor\":\"white\",\"ticks\":\"\"},\"caxis\":{\"gridcolor\":\"white\",\"linecolor\":\"white\",\"ticks\":\"\"}},\"coloraxis\":{\"colorbar\":{\"outlinewidth\":0,\"ticks\":\"\"}},\"colorscale\":{\"sequential\":[[0.0,\"#0d0887\"],[0.1111111111111111,\"#46039f\"],[0.2222222222222222,\"#7201a8\"],[0.3333333333333333,\"#9c179e\"],[0.4444444444444444,\"#bd3786\"],[0.5555555555555556,\"#d8576b\"],[0.6666666666666666,\"#ed7953\"],[0.7777777777777778,\"#fb9f3a\"],[0.8888888888888888,\"#fdca26\"],[1.0,\"#f0f921\"]],\"sequentialminus\":[[0.0,\"#0d0887\"],[0.1111111111111111,\"#46039f\"],[0.2222222222222222,\"#7201a8\"],[0.3333333333333333,\"#9c179e\"],[0.4444444444444444,\"#bd3786\"],[0.5555555555555556,\"#d8576b\"],[0.6666666666666666,\"#ed7953\"],[0.7777777777777778,\"#fb9f3a\"],[0.8888888888888888,\"#fdca26\"],[1.0,\"#f0f921\"]],\"diverging\":[[0,\"#8e0152\"],[0.1,\"#c51b7d\"],[0.2,\"#de77ae\"],[0.3,\"#f1b6da\"],[0.4,\"#fde0ef\"],[0.5,\"#f7f7f7\"],[0.6,\"#e6f5d0\"],[0.7,\"#b8e186\"],[0.8,\"#7fbc41\"],[0.9,\"#4d9221\"],[1,\"#276419\"]]},\"xaxis\":{\"gridcolor\":\"white\",\"linecolor\":\"white\",\"ticks\":\"\",\"title\":{\"standoff\":15},\"zerolinecolor\":\"white\",\"automargin\":true,\"zerolinewidth\":2},\"yaxis\":{\"gridcolor\":\"white\",\"linecolor\":\"white\",\"ticks\":\"\",\"title\":{\"standoff\":15},\"zerolinecolor\":\"white\",\"automargin\":true,\"zerolinewidth\":2},\"scene\":{\"xaxis\":{\"backgroundcolor\":\"#E5ECF6\",\"gridcolor\":\"white\",\"linecolor\":\"white\",\"showbackground\":true,\"ticks\":\"\",\"zerolinecolor\":\"white\",\"gridwidth\":2},\"yaxis\":{\"backgroundcolor\":\"#E5ECF6\",\"gridcolor\":\"white\",\"linecolor\":\"white\",\"showbackground\":true,\"ticks\":\"\",\"zerolinecolor\":\"white\",\"gridwidth\":2},\"zaxis\":{\"backgroundcolor\":\"#E5ECF6\",\"gridcolor\":\"white\",\"linecolor\":\"white\",\"showbackground\":true,\"ticks\":\"\",\"zerolinecolor\":\"white\",\"gridwidth\":2}},\"shapedefaults\":{\"line\":{\"color\":\"#2a3f5f\"}},\"annotationdefaults\":{\"arrowcolor\":\"#2a3f5f\",\"arrowhead\":0,\"arrowwidth\":1},\"geo\":{\"bgcolor\":\"white\",\"landcolor\":\"#E5ECF6\",\"subunitcolor\":\"white\",\"showland\":true,\"showlakes\":true,\"lakecolor\":\"white\"},\"title\":{\"x\":0.05},\"mapbox\":{\"style\":\"light\"}}},\"xaxis\":{\"anchor\":\"y\",\"domain\":[0.0,1.0],\"title\":{\"text\":\"\",\"font\":{\"size\":16}},\"tickfont\":{\"size\":16},\"color\":\"black\",\"gridcolor\":\"white\",\"showgrid\":false},\"yaxis\":{\"anchor\":\"x\",\"domain\":[0.0,1.0],\"title\":{\"text\":\"Agreement (Krippendorff's alpha)\",\"font\":{\"size\":16}},\"tickfont\":{\"size\":16},\"color\":\"black\",\"gridcolor\":\"lightgray\",\"zerolinecolor\":\"lightgray\"},\"legend\":{\"tracegroupgap\":0,\"bordercolor\":\"black\",\"borderwidth\":1},\"margin\":{\"t\":60},\"boxmode\":\"group\",\"width\":1000,\"height\":500,\"font\":{\"color\":\"black\"},\"plot_bgcolor\":\"white\",\"paper_bgcolor\":\"white\"},                        {\"responsive\": true}                    ).then(function(){\n",
       "                            \n",
       "var gd = document.getElementById('62c93a17-4be5-4643-a5d2-c4d8deed53cd');\n",
       "var x = new MutationObserver(function (mutations, observer) {{\n",
       "        var display = window.getComputedStyle(gd).display;\n",
       "        if (!display || display === 'none') {{\n",
       "            console.log([gd, 'removed!']);\n",
       "            Plotly.purge(gd);\n",
       "            observer.disconnect();\n",
       "        }}\n",
       "}});\n",
       "\n",
       "// Listen for the removal of the full notebook cells\n",
       "var notebookContainer = gd.closest('#notebook-container');\n",
       "if (notebookContainer) {{\n",
       "    x.observe(notebookContainer, {childList: true});\n",
       "}}\n",
       "\n",
       "// Listen for the clearing of the current output cell\n",
       "var outputEl = gd.closest('.output');\n",
       "if (outputEl) {{\n",
       "    x.observe(outputEl, {childList: true});\n",
       "}}\n",
       "\n",
       "                        })                };                });            </script>        </div>"
      ]
     },
     "metadata": {},
     "output_type": "display_data"
    }
   ],
   "source": [
    "meta_plot = iaa_overview.copy()\n",
    "\n",
    "meta_plot = iaa_overview.rename(columns={\n",
    "    'ak_ek' : 'SHK1<>SHK2',\n",
    "    'ak_mk' : 'SHK1<>Verfasser',\n",
    "    'ek_mk' : 'SHK2<>Verfasser',\n",
    "    'ak_ek_mk' : 'SHK1<>SHK2<>Verfasser'\n",
    "})\n",
    "\n",
    "fig = px.box(\n",
    "    meta_plot,\n",
    "    y = ['SHK1<>SHK2', 'SHK1<>Verfasser', 'SHK2<>Verfasser', 'SHK1<>SHK2<>Verfasser'],\n",
    "    points = 'all',\n",
    "    hover_data = [meta_plot.index],\n",
    "    labels = {\n",
    "        'value': \"Agreement (Krippendorff's alpha)\",\n",
    "        'variable' : '',\n",
    "    },\n",
    "    # color_discrete_sequence=[\"grey\"]\n",
    ")\n",
    "\n",
    "fig.update_layout(\n",
    "    width = 1000, height = 500,\n",
    "    xaxis=dict(tickfont=dict(size=16), titlefont=dict(size=16)),\n",
    "    yaxis=dict(tickfont=dict(size=16), titlefont=dict(size=16)),\n",
    ")\n",
    "fig = update_fig_for_publication(fig, make_grey=True)\n",
    "fig.write_image(f\"plots/5 Inter-Annotator-Agreement.pdf\")\n",
    "fig.show()"
   ]
  },
  {
   "cell_type": "code",
   "execution_count": 27,
   "id": "2f8a6674",
   "metadata": {},
   "outputs": [
    {
     "name": "stdout",
     "output_type": "stream",
     "text": [
      "mean agreement \n",
      "\n",
      "ak       : 0.5802032986562972\n",
      "ek       : 0.5964733198516784\n",
      "mk       : 0.6076568107878321\n",
      "ak_ek_mk : 0.596158308097664\n"
     ]
    }
   ],
   "source": [
    "print(\"mean agreement \\n\")\n",
    "print(f\"ak       : {iaa_overview[['ak_ek', 'ak_mk']].mean().mean()}\")\n",
    "print(f\"ek       : {iaa_overview[['ak_ek', 'ek_mk']].mean().mean()}\")\n",
    "print(f\"mk       : {iaa_overview[['ak_mk', 'ek_mk']].mean().mean()}\")\n",
    "print(f\"ak_ek_mk : {iaa_overview[['ak_ek_mk']].mean().mean()}\")"
   ]
  },
  {
   "cell_type": "code",
   "execution_count": 28,
   "id": "2bdc0b5c",
   "metadata": {},
   "outputs": [
    {
     "name": "stdout",
     "output_type": "stream",
     "text": [
      "(35) Geschichtsauffassungen                   -0.043029\n",
      "(36) Bewertung Geschichtsauffassungen         -0.022467\n",
      "(10) Wissen der Sprechinstanz                  0.171234\n",
      "(23) Bewertung Stoffgebiet                     0.246283\n",
      "(07) Sprechakte                                0.362992\n",
      "(32) Geschichtsmarker Objekt                   0.371985\n",
      "(34) Bewertung Überlieferung                   0.382236\n",
      "(12) Anzahl Zeitebenen                         0.389374\n",
      "(25) Bewertung Entitäten                       0.412151\n",
      "(33) Überlieferung                             0.422036\n",
      "(22) Stoffgebiet                               0.464739\n",
      "(40) Verfremdende Sprache                      0.496703\n",
      "(09) Konkretheit                               0.499221\n",
      "(24) Entitäten                                 0.533228\n",
      "(21) Inhaltstyp                                0.559930\n",
      "(39) Metrum                                    0.565884\n",
      "(37) Verhältnis zum historischen Wissen        0.574241\n",
      "(38) Reim                                      0.591083\n",
      "(06) Zeitliche Position der Sprechinstanz      0.640851\n",
      "(19) Mittelraum                                0.654684\n",
      "(31) Geschichtsmarker Ort                      0.679727\n",
      "(28) Religiosität                              0.682863\n",
      "(13) Fixierbarkeit der dominanten Zeitebene    0.687275\n",
      "(04) Gattung                                   0.713279\n",
      "(26) Nationalismus                             0.714765\n",
      "(27) Heroismus                                 0.721296\n",
      "(08) Tempora                                   0.739893\n",
      "(11) Zeitdominanz                              0.750618\n",
      "(20) Kleinraum                                 0.756598\n",
      "(18) Großraum                                  0.762805\n",
      "(02) Empirische Ausrichtung                    0.762805\n",
      "(03) Geschichtstheoretische Ausrichtung        0.762805\n",
      "(16) Anachronismen                             0.798363\n",
      "(30) Geschichtsmarker Zeit                     0.826654\n",
      "(29) Geschichtsmarker Person                   0.836145\n",
      "(17) Gegenwartsbezug                           0.900877\n",
      "(15) Ende der dominanten Zeitebene             0.942413\n",
      "(14) Beginn der dominanten Zeitebene           0.943605\n",
      "(05) Markiertheit der Sprechinstanz            0.953649\n",
      "dtype: float64\n"
     ]
    }
   ],
   "source": [
    "print(iaa_overview.mean(axis = 1).sort_values())"
   ]
  },
  {
   "cell_type": "code",
   "execution_count": 29,
   "id": "e29d4409",
   "metadata": {},
   "outputs": [],
   "source": [
    "for category in annotations.columns:\n",
    "    if re.search(r'\\([0-9]*\\)', category):\n",
    "        total_count = len(ak_ek_mk_texts)\n",
    "        agreement_count = 0\n",
    "        \n",
    "        for text in ak_ek_mk_texts:\n",
    "            meta_text = annotations.query(\"author_title == @text\")\n",
    "            if len(meta_text[category].unique()) == 1:\n",
    "                agreement_count += 1\n",
    "\n",
    "        iaa_overview.at[category, 'ak_ek_mk_percent'] = agreement_count/total_count"
   ]
  },
  {
   "cell_type": "code",
   "execution_count": 30,
   "id": "6421d180",
   "metadata": {},
   "outputs": [
    {
     "data": {
      "text/plain": [
       "0.8333333333333334"
      ]
     },
     "execution_count": 30,
     "metadata": {},
     "output_type": "execute_result"
    }
   ],
   "source": [
    "# percent agreement\n",
    "iaa_overview.loc['(35) Geschichtsauffassungen', 'ak_ek_mk_percent']"
   ]
  },
  {
   "cell_type": "code",
   "execution_count": 31,
   "id": "46c4064b",
   "metadata": {},
   "outputs": [
    {
     "name": "stdout",
     "output_type": "stream",
     "text": [
      "Dahn, Felix – Hie Deutschland!\n",
      "Heym, Georg – Marathon. 6. [In ernster Strenge]\n",
      "Geibel, Emanuel – Der Bildhauer des Hadrian\n",
      "Schönborn, Klara – Zurück!\n",
      "Heym, Georg – Marathon. 15. [Zu spät. Die Griechen schlachten]\n"
     ]
    }
   ],
   "source": [
    "for text in ak_ek_mk_texts:\n",
    "    meta_text = annotations.query(\"author_title == @text\")\n",
    "    \n",
    "    annotation_ak = meta_text.query(\"annotator == 'ak'\")['(32) Geschichtsmarker Objekt'].iloc[0]\n",
    "    annotation_ek = meta_text.query(\"annotator == 'ek'\")['(32) Geschichtsmarker Objekt'].iloc[0]\n",
    "    annotation_mk = meta_text.query(\"annotator == 'mk'\")['(32) Geschichtsmarker Objekt'].iloc[0]\n",
    "    \n",
    "    if annotation_ak == 'Text' and annotation_mk == 'Text' and pd.isna(annotation_ek):\n",
    "        print(text)"
   ]
  },
  {
   "cell_type": "markdown",
   "id": "0c0ed070",
   "metadata": {},
   "source": [
    "### Nur Annotationskategorien mit mindestens XX% <br> Abweichungen von häufigster Annotationsoption"
   ]
  },
  {
   "cell_type": "code",
   "execution_count": 32,
   "id": "e9880aaf",
   "metadata": {},
   "outputs": [],
   "source": [
    "for category in annotations.columns:\n",
    "    if re.search(r'\\([0-9]*\\)', category):\n",
    "        category_value_counts = annotations[category].value_counts(dropna=False)\n",
    "        top_category_count = category_value_counts.tolist()[0]\n",
    "        not_top_category_count = sum(category_value_counts.tolist()[1:])\n",
    "\n",
    "        iaa_overview.at[category, 'top_abs'] = top_category_count/3\n",
    "        iaa_overview.at[category, 'div_from_top_abs'] = not_top_category_count/3\n",
    "        iaa_overview.at[category, 'top_rel'] = top_category_count/(top_category_count+not_top_category_count)\n",
    "        iaa_overview.at[category, 'div_from_top_rel'] = not_top_category_count/(top_category_count+not_top_category_count)"
   ]
  },
  {
   "cell_type": "code",
   "execution_count": 33,
   "id": "2d0951e8",
   "metadata": {},
   "outputs": [
    {
     "data": {
      "text/html": [
       "<div>\n",
       "<style scoped>\n",
       "    .dataframe tbody tr th:only-of-type {\n",
       "        vertical-align: middle;\n",
       "    }\n",
       "\n",
       "    .dataframe tbody tr th {\n",
       "        vertical-align: top;\n",
       "    }\n",
       "\n",
       "    .dataframe thead th {\n",
       "        text-align: right;\n",
       "    }\n",
       "</style>\n",
       "<table border=\"1\" class=\"dataframe\">\n",
       "  <thead>\n",
       "    <tr style=\"text-align: right;\">\n",
       "      <th></th>\n",
       "      <th>ak_ek</th>\n",
       "      <th>ak_mk</th>\n",
       "      <th>ek_mk</th>\n",
       "      <th>ak_ek_mk</th>\n",
       "      <th>ak_ek_mk_percent</th>\n",
       "      <th>top_abs</th>\n",
       "      <th>div_from_top_abs</th>\n",
       "      <th>top_rel</th>\n",
       "      <th>div_from_top_rel</th>\n",
       "    </tr>\n",
       "  </thead>\n",
       "  <tbody>\n",
       "    <tr>\n",
       "      <th>(02) Empirische Ausrichtung</th>\n",
       "      <td>0.654971</td>\n",
       "      <td>0.654971</td>\n",
       "      <td>1.000000</td>\n",
       "      <td>0.741279</td>\n",
       "      <td>0.966667</td>\n",
       "      <td>28.666667</td>\n",
       "      <td>1.333333</td>\n",
       "      <td>0.955556</td>\n",
       "      <td>0.044444</td>\n",
       "    </tr>\n",
       "    <tr>\n",
       "      <th>(03) Geschichtstheoretische Ausrichtung</th>\n",
       "      <td>1.000000</td>\n",
       "      <td>0.654971</td>\n",
       "      <td>0.654971</td>\n",
       "      <td>0.741279</td>\n",
       "      <td>0.966667</td>\n",
       "      <td>28.666667</td>\n",
       "      <td>1.333333</td>\n",
       "      <td>0.955556</td>\n",
       "      <td>0.044444</td>\n",
       "    </tr>\n",
       "    <tr>\n",
       "      <th>(04) Gattung</th>\n",
       "      <td>0.646635</td>\n",
       "      <td>0.698700</td>\n",
       "      <td>0.793293</td>\n",
       "      <td>0.714487</td>\n",
       "      <td>0.633333</td>\n",
       "      <td>10.000000</td>\n",
       "      <td>20.000000</td>\n",
       "      <td>0.333333</td>\n",
       "      <td>0.666667</td>\n",
       "    </tr>\n",
       "    <tr>\n",
       "      <th>(05) Markiertheit der Sprechinstanz</th>\n",
       "      <td>0.930670</td>\n",
       "      <td>0.930670</td>\n",
       "      <td>1.000000</td>\n",
       "      <td>0.953256</td>\n",
       "      <td>0.966667</td>\n",
       "      <td>18.666667</td>\n",
       "      <td>11.333333</td>\n",
       "      <td>0.622222</td>\n",
       "      <td>0.377778</td>\n",
       "    </tr>\n",
       "    <tr>\n",
       "      <th>(06) Zeitliche Position der Sprechinstanz</th>\n",
       "      <td>0.562500</td>\n",
       "      <td>0.666667</td>\n",
       "      <td>0.689076</td>\n",
       "      <td>0.645161</td>\n",
       "      <td>0.800000</td>\n",
       "      <td>11.333333</td>\n",
       "      <td>18.666667</td>\n",
       "      <td>0.377778</td>\n",
       "      <td>0.622222</td>\n",
       "    </tr>\n",
       "  </tbody>\n",
       "</table>\n",
       "</div>"
      ],
      "text/plain": [
       "                                              ak_ek     ak_mk     ek_mk  \\\n",
       "(02) Empirische Ausrichtung                0.654971  0.654971  1.000000   \n",
       "(03) Geschichtstheoretische Ausrichtung    1.000000  0.654971  0.654971   \n",
       "(04) Gattung                               0.646635  0.698700  0.793293   \n",
       "(05) Markiertheit der Sprechinstanz        0.930670  0.930670  1.000000   \n",
       "(06) Zeitliche Position der Sprechinstanz  0.562500  0.666667  0.689076   \n",
       "\n",
       "                                           ak_ek_mk  ak_ek_mk_percent  \\\n",
       "(02) Empirische Ausrichtung                0.741279          0.966667   \n",
       "(03) Geschichtstheoretische Ausrichtung    0.741279          0.966667   \n",
       "(04) Gattung                               0.714487          0.633333   \n",
       "(05) Markiertheit der Sprechinstanz        0.953256          0.966667   \n",
       "(06) Zeitliche Position der Sprechinstanz  0.645161          0.800000   \n",
       "\n",
       "                                             top_abs  div_from_top_abs  \\\n",
       "(02) Empirische Ausrichtung                28.666667          1.333333   \n",
       "(03) Geschichtstheoretische Ausrichtung    28.666667          1.333333   \n",
       "(04) Gattung                               10.000000         20.000000   \n",
       "(05) Markiertheit der Sprechinstanz        18.666667         11.333333   \n",
       "(06) Zeitliche Position der Sprechinstanz  11.333333         18.666667   \n",
       "\n",
       "                                            top_rel  div_from_top_rel  \n",
       "(02) Empirische Ausrichtung                0.955556          0.044444  \n",
       "(03) Geschichtstheoretische Ausrichtung    0.955556          0.044444  \n",
       "(04) Gattung                               0.333333          0.666667  \n",
       "(05) Markiertheit der Sprechinstanz        0.622222          0.377778  \n",
       "(06) Zeitliche Position der Sprechinstanz  0.377778          0.622222  "
      ]
     },
     "execution_count": 33,
     "metadata": {},
     "output_type": "execute_result"
    }
   ],
   "source": [
    "iaa_overview.head()"
   ]
  },
  {
   "cell_type": "code",
   "execution_count": 34,
   "id": "34f321c7",
   "metadata": {},
   "outputs": [
    {
     "data": {
      "application/vnd.plotly.v1+json": {
       "config": {
        "plotlyServerURL": "https://plot.ly"
       },
       "data": [
        {
         "alignmentgroup": "True",
         "hovertemplate": "index=%{x}<br>Anteil Abweichungen von<br>häufigster Annotationsoption=%{y}<extra></extra>",
         "legendgroup": "",
         "marker": {
          "color": "#636efa",
          "pattern": {
           "shape": ""
          }
         },
         "name": "",
         "offsetgroup": "",
         "orientation": "v",
         "showlegend": false,
         "textposition": "auto",
         "type": "bar",
         "x": [
          "(02) Empirische Ausrichtung",
          "(03) Geschichtstheoretische Ausrichtung",
          "(10) Wissen der Sprechinstanz",
          "(18) Großraum",
          "(36) Bewertung Geschichtsauffassungen",
          "(38) Reim",
          "(35) Geschichtsauffassungen",
          "(39) Metrum",
          "(16) Anachronismen",
          "(40) Verfremdende Sprache",
          "(34) Bewertung Überlieferung",
          "(26) Nationalismus",
          "(33) Überlieferung",
          "(27) Heroismus",
          "(09) Konkretheit",
          "(28) Religiosität",
          "(11) Zeitdominanz",
          "(37) Verhältnis zum historischen Wissen",
          "(31) Geschichtsmarker Ort",
          "(17) Gegenwartsbezug",
          "(05) Markiertheit der Sprechinstanz",
          "(30) Geschichtsmarker Zeit",
          "(13) Fixierbarkeit der dominanten Zeitebene",
          "(32) Geschichtsmarker Objekt",
          "(08) Tempora",
          "(20) Kleinraum",
          "(12) Anzahl Zeitebenen",
          "(21) Inhaltstyp",
          "(06) Zeitliche Position der Sprechinstanz",
          "(29) Geschichtsmarker Person",
          "(04) Gattung",
          "(07) Sprechakte",
          "(25) Bewertung Entitäten",
          "(19) Mittelraum",
          "(23) Bewertung Stoffgebiet",
          "(22) Stoffgebiet",
          "(15) Ende der dominanten Zeitebene",
          "(14) Beginn der dominanten Zeitebene",
          "(24) Entitäten"
         ],
         "xaxis": "x",
         "y": [
          0.044444444444444446,
          0.044444444444444446,
          0.044444444444444446,
          0.044444444444444446,
          0.05555555555555555,
          0.05555555555555555,
          0.05555555555555555,
          0.08888888888888889,
          0.12222222222222222,
          0.15555555555555556,
          0.18888888888888888,
          0.18888888888888888,
          0.18888888888888888,
          0.18888888888888888,
          0.3,
          0.3,
          0.32222222222222224,
          0.32222222222222224,
          0.35555555555555557,
          0.36666666666666664,
          0.37777777777777777,
          0.4111111111111111,
          0.43333333333333335,
          0.45555555555555555,
          0.5333333333333333,
          0.5333333333333333,
          0.5555555555555556,
          0.6,
          0.6222222222222222,
          0.6333333333333333,
          0.6666666666666666,
          0.7333333333333333,
          0.8111111111111111,
          0.8222222222222222,
          0.8333333333333334,
          0.8444444444444444,
          0.9333333333333333,
          0.9333333333333333,
          0.9666666666666667
         ],
         "yaxis": "y"
        }
       ],
       "layout": {
        "autosize": true,
        "barmode": "relative",
        "legend": {
         "tracegroupgap": 0
        },
        "margin": {
         "t": 60
        },
        "template": {
         "data": {
          "bar": [
           {
            "error_x": {
             "color": "#2a3f5f"
            },
            "error_y": {
             "color": "#2a3f5f"
            },
            "marker": {
             "line": {
              "color": "#E5ECF6",
              "width": 0.5
             },
             "pattern": {
              "fillmode": "overlay",
              "size": 10,
              "solidity": 0.2
             }
            },
            "type": "bar"
           }
          ],
          "barpolar": [
           {
            "marker": {
             "line": {
              "color": "#E5ECF6",
              "width": 0.5
             },
             "pattern": {
              "fillmode": "overlay",
              "size": 10,
              "solidity": 0.2
             }
            },
            "type": "barpolar"
           }
          ],
          "carpet": [
           {
            "aaxis": {
             "endlinecolor": "#2a3f5f",
             "gridcolor": "white",
             "linecolor": "white",
             "minorgridcolor": "white",
             "startlinecolor": "#2a3f5f"
            },
            "baxis": {
             "endlinecolor": "#2a3f5f",
             "gridcolor": "white",
             "linecolor": "white",
             "minorgridcolor": "white",
             "startlinecolor": "#2a3f5f"
            },
            "type": "carpet"
           }
          ],
          "choropleth": [
           {
            "colorbar": {
             "outlinewidth": 0,
             "ticks": ""
            },
            "type": "choropleth"
           }
          ],
          "contour": [
           {
            "colorbar": {
             "outlinewidth": 0,
             "ticks": ""
            },
            "colorscale": [
             [
              0,
              "#0d0887"
             ],
             [
              0.1111111111111111,
              "#46039f"
             ],
             [
              0.2222222222222222,
              "#7201a8"
             ],
             [
              0.3333333333333333,
              "#9c179e"
             ],
             [
              0.4444444444444444,
              "#bd3786"
             ],
             [
              0.5555555555555556,
              "#d8576b"
             ],
             [
              0.6666666666666666,
              "#ed7953"
             ],
             [
              0.7777777777777778,
              "#fb9f3a"
             ],
             [
              0.8888888888888888,
              "#fdca26"
             ],
             [
              1,
              "#f0f921"
             ]
            ],
            "type": "contour"
           }
          ],
          "contourcarpet": [
           {
            "colorbar": {
             "outlinewidth": 0,
             "ticks": ""
            },
            "type": "contourcarpet"
           }
          ],
          "heatmap": [
           {
            "colorbar": {
             "outlinewidth": 0,
             "ticks": ""
            },
            "colorscale": [
             [
              0,
              "#0d0887"
             ],
             [
              0.1111111111111111,
              "#46039f"
             ],
             [
              0.2222222222222222,
              "#7201a8"
             ],
             [
              0.3333333333333333,
              "#9c179e"
             ],
             [
              0.4444444444444444,
              "#bd3786"
             ],
             [
              0.5555555555555556,
              "#d8576b"
             ],
             [
              0.6666666666666666,
              "#ed7953"
             ],
             [
              0.7777777777777778,
              "#fb9f3a"
             ],
             [
              0.8888888888888888,
              "#fdca26"
             ],
             [
              1,
              "#f0f921"
             ]
            ],
            "type": "heatmap"
           }
          ],
          "heatmapgl": [
           {
            "colorbar": {
             "outlinewidth": 0,
             "ticks": ""
            },
            "colorscale": [
             [
              0,
              "#0d0887"
             ],
             [
              0.1111111111111111,
              "#46039f"
             ],
             [
              0.2222222222222222,
              "#7201a8"
             ],
             [
              0.3333333333333333,
              "#9c179e"
             ],
             [
              0.4444444444444444,
              "#bd3786"
             ],
             [
              0.5555555555555556,
              "#d8576b"
             ],
             [
              0.6666666666666666,
              "#ed7953"
             ],
             [
              0.7777777777777778,
              "#fb9f3a"
             ],
             [
              0.8888888888888888,
              "#fdca26"
             ],
             [
              1,
              "#f0f921"
             ]
            ],
            "type": "heatmapgl"
           }
          ],
          "histogram": [
           {
            "marker": {
             "pattern": {
              "fillmode": "overlay",
              "size": 10,
              "solidity": 0.2
             }
            },
            "type": "histogram"
           }
          ],
          "histogram2d": [
           {
            "colorbar": {
             "outlinewidth": 0,
             "ticks": ""
            },
            "colorscale": [
             [
              0,
              "#0d0887"
             ],
             [
              0.1111111111111111,
              "#46039f"
             ],
             [
              0.2222222222222222,
              "#7201a8"
             ],
             [
              0.3333333333333333,
              "#9c179e"
             ],
             [
              0.4444444444444444,
              "#bd3786"
             ],
             [
              0.5555555555555556,
              "#d8576b"
             ],
             [
              0.6666666666666666,
              "#ed7953"
             ],
             [
              0.7777777777777778,
              "#fb9f3a"
             ],
             [
              0.8888888888888888,
              "#fdca26"
             ],
             [
              1,
              "#f0f921"
             ]
            ],
            "type": "histogram2d"
           }
          ],
          "histogram2dcontour": [
           {
            "colorbar": {
             "outlinewidth": 0,
             "ticks": ""
            },
            "colorscale": [
             [
              0,
              "#0d0887"
             ],
             [
              0.1111111111111111,
              "#46039f"
             ],
             [
              0.2222222222222222,
              "#7201a8"
             ],
             [
              0.3333333333333333,
              "#9c179e"
             ],
             [
              0.4444444444444444,
              "#bd3786"
             ],
             [
              0.5555555555555556,
              "#d8576b"
             ],
             [
              0.6666666666666666,
              "#ed7953"
             ],
             [
              0.7777777777777778,
              "#fb9f3a"
             ],
             [
              0.8888888888888888,
              "#fdca26"
             ],
             [
              1,
              "#f0f921"
             ]
            ],
            "type": "histogram2dcontour"
           }
          ],
          "mesh3d": [
           {
            "colorbar": {
             "outlinewidth": 0,
             "ticks": ""
            },
            "type": "mesh3d"
           }
          ],
          "parcoords": [
           {
            "line": {
             "colorbar": {
              "outlinewidth": 0,
              "ticks": ""
             }
            },
            "type": "parcoords"
           }
          ],
          "pie": [
           {
            "automargin": true,
            "type": "pie"
           }
          ],
          "scatter": [
           {
            "fillpattern": {
             "fillmode": "overlay",
             "size": 10,
             "solidity": 0.2
            },
            "type": "scatter"
           }
          ],
          "scatter3d": [
           {
            "line": {
             "colorbar": {
              "outlinewidth": 0,
              "ticks": ""
             }
            },
            "marker": {
             "colorbar": {
              "outlinewidth": 0,
              "ticks": ""
             }
            },
            "type": "scatter3d"
           }
          ],
          "scattercarpet": [
           {
            "marker": {
             "colorbar": {
              "outlinewidth": 0,
              "ticks": ""
             }
            },
            "type": "scattercarpet"
           }
          ],
          "scattergeo": [
           {
            "marker": {
             "colorbar": {
              "outlinewidth": 0,
              "ticks": ""
             }
            },
            "type": "scattergeo"
           }
          ],
          "scattergl": [
           {
            "marker": {
             "colorbar": {
              "outlinewidth": 0,
              "ticks": ""
             }
            },
            "type": "scattergl"
           }
          ],
          "scattermapbox": [
           {
            "marker": {
             "colorbar": {
              "outlinewidth": 0,
              "ticks": ""
             }
            },
            "type": "scattermapbox"
           }
          ],
          "scatterpolar": [
           {
            "marker": {
             "colorbar": {
              "outlinewidth": 0,
              "ticks": ""
             }
            },
            "type": "scatterpolar"
           }
          ],
          "scatterpolargl": [
           {
            "marker": {
             "colorbar": {
              "outlinewidth": 0,
              "ticks": ""
             }
            },
            "type": "scatterpolargl"
           }
          ],
          "scatterternary": [
           {
            "marker": {
             "colorbar": {
              "outlinewidth": 0,
              "ticks": ""
             }
            },
            "type": "scatterternary"
           }
          ],
          "surface": [
           {
            "colorbar": {
             "outlinewidth": 0,
             "ticks": ""
            },
            "colorscale": [
             [
              0,
              "#0d0887"
             ],
             [
              0.1111111111111111,
              "#46039f"
             ],
             [
              0.2222222222222222,
              "#7201a8"
             ],
             [
              0.3333333333333333,
              "#9c179e"
             ],
             [
              0.4444444444444444,
              "#bd3786"
             ],
             [
              0.5555555555555556,
              "#d8576b"
             ],
             [
              0.6666666666666666,
              "#ed7953"
             ],
             [
              0.7777777777777778,
              "#fb9f3a"
             ],
             [
              0.8888888888888888,
              "#fdca26"
             ],
             [
              1,
              "#f0f921"
             ]
            ],
            "type": "surface"
           }
          ],
          "table": [
           {
            "cells": {
             "fill": {
              "color": "#EBF0F8"
             },
             "line": {
              "color": "white"
             }
            },
            "header": {
             "fill": {
              "color": "#C8D4E3"
             },
             "line": {
              "color": "white"
             }
            },
            "type": "table"
           }
          ]
         },
         "layout": {
          "annotationdefaults": {
           "arrowcolor": "#2a3f5f",
           "arrowhead": 0,
           "arrowwidth": 1
          },
          "autotypenumbers": "strict",
          "coloraxis": {
           "colorbar": {
            "outlinewidth": 0,
            "ticks": ""
           }
          },
          "colorscale": {
           "diverging": [
            [
             0,
             "#8e0152"
            ],
            [
             0.1,
             "#c51b7d"
            ],
            [
             0.2,
             "#de77ae"
            ],
            [
             0.3,
             "#f1b6da"
            ],
            [
             0.4,
             "#fde0ef"
            ],
            [
             0.5,
             "#f7f7f7"
            ],
            [
             0.6,
             "#e6f5d0"
            ],
            [
             0.7,
             "#b8e186"
            ],
            [
             0.8,
             "#7fbc41"
            ],
            [
             0.9,
             "#4d9221"
            ],
            [
             1,
             "#276419"
            ]
           ],
           "sequential": [
            [
             0,
             "#0d0887"
            ],
            [
             0.1111111111111111,
             "#46039f"
            ],
            [
             0.2222222222222222,
             "#7201a8"
            ],
            [
             0.3333333333333333,
             "#9c179e"
            ],
            [
             0.4444444444444444,
             "#bd3786"
            ],
            [
             0.5555555555555556,
             "#d8576b"
            ],
            [
             0.6666666666666666,
             "#ed7953"
            ],
            [
             0.7777777777777778,
             "#fb9f3a"
            ],
            [
             0.8888888888888888,
             "#fdca26"
            ],
            [
             1,
             "#f0f921"
            ]
           ],
           "sequentialminus": [
            [
             0,
             "#0d0887"
            ],
            [
             0.1111111111111111,
             "#46039f"
            ],
            [
             0.2222222222222222,
             "#7201a8"
            ],
            [
             0.3333333333333333,
             "#9c179e"
            ],
            [
             0.4444444444444444,
             "#bd3786"
            ],
            [
             0.5555555555555556,
             "#d8576b"
            ],
            [
             0.6666666666666666,
             "#ed7953"
            ],
            [
             0.7777777777777778,
             "#fb9f3a"
            ],
            [
             0.8888888888888888,
             "#fdca26"
            ],
            [
             1,
             "#f0f921"
            ]
           ]
          },
          "colorway": [
           "#636efa",
           "#EF553B",
           "#00cc96",
           "#ab63fa",
           "#FFA15A",
           "#19d3f3",
           "#FF6692",
           "#B6E880",
           "#FF97FF",
           "#FECB52"
          ],
          "font": {
           "color": "#2a3f5f"
          },
          "geo": {
           "bgcolor": "white",
           "lakecolor": "white",
           "landcolor": "#E5ECF6",
           "showlakes": true,
           "showland": true,
           "subunitcolor": "white"
          },
          "hoverlabel": {
           "align": "left"
          },
          "hovermode": "closest",
          "mapbox": {
           "style": "light"
          },
          "paper_bgcolor": "white",
          "plot_bgcolor": "#E5ECF6",
          "polar": {
           "angularaxis": {
            "gridcolor": "white",
            "linecolor": "white",
            "ticks": ""
           },
           "bgcolor": "#E5ECF6",
           "radialaxis": {
            "gridcolor": "white",
            "linecolor": "white",
            "ticks": ""
           }
          },
          "scene": {
           "xaxis": {
            "backgroundcolor": "#E5ECF6",
            "gridcolor": "white",
            "gridwidth": 2,
            "linecolor": "white",
            "showbackground": true,
            "ticks": "",
            "zerolinecolor": "white"
           },
           "yaxis": {
            "backgroundcolor": "#E5ECF6",
            "gridcolor": "white",
            "gridwidth": 2,
            "linecolor": "white",
            "showbackground": true,
            "ticks": "",
            "zerolinecolor": "white"
           },
           "zaxis": {
            "backgroundcolor": "#E5ECF6",
            "gridcolor": "white",
            "gridwidth": 2,
            "linecolor": "white",
            "showbackground": true,
            "ticks": "",
            "zerolinecolor": "white"
           }
          },
          "shapedefaults": {
           "line": {
            "color": "#2a3f5f"
           }
          },
          "ternary": {
           "aaxis": {
            "gridcolor": "white",
            "linecolor": "white",
            "ticks": ""
           },
           "baxis": {
            "gridcolor": "white",
            "linecolor": "white",
            "ticks": ""
           },
           "bgcolor": "#E5ECF6",
           "caxis": {
            "gridcolor": "white",
            "linecolor": "white",
            "ticks": ""
           }
          },
          "title": {
           "x": 0.05
          },
          "xaxis": {
           "automargin": true,
           "gridcolor": "white",
           "linecolor": "white",
           "ticks": "",
           "title": {
            "standoff": 15
           },
           "zerolinecolor": "white",
           "zerolinewidth": 2
          },
          "yaxis": {
           "automargin": true,
           "gridcolor": "white",
           "linecolor": "white",
           "ticks": "",
           "title": {
            "standoff": 15
           },
           "zerolinecolor": "white",
           "zerolinewidth": 2
          }
         }
        },
        "xaxis": {
         "anchor": "y",
         "autorange": true,
         "domain": [
          0,
          1
         ],
         "range": [
          -0.5,
          38.5
         ],
         "tickfont": {
          "size": 16
         },
         "title": {
          "font": {
           "size": 16
          },
          "text": ""
         },
         "type": "category"
        },
        "yaxis": {
         "anchor": "x",
         "autorange": true,
         "domain": [
          0,
          1
         ],
         "range": [
          0,
          1.0175438596491229
         ],
         "tickfont": {
          "size": 16
         },
         "title": {
          "font": {
           "size": 16
          },
          "text": "Anteil Abweichungen von<br>häufigster Annotationsoption"
         },
         "type": "linear"
        }
       }
      },
      "image/png": "[encoded data removed]",
      "text/html": [
       "<div>                            <div id=\"09e386f7-0ae3-423d-8970-e97b0c032b9c\" class=\"plotly-graph-div\" style=\"height:800px; width:100%;\"></div>            <script type=\"text/javascript\">                require([\"plotly\"], function(Plotly) {                    window.PLOTLYENV=window.PLOTLYENV || {};                                    if (document.getElementById(\"09e386f7-0ae3-423d-8970-e97b0c032b9c\")) {                    Plotly.newPlot(                        \"09e386f7-0ae3-423d-8970-e97b0c032b9c\",                        [{\"alignmentgroup\":\"True\",\"hovertemplate\":\"index=%{x}\\u003cbr\\u003eAnteil Abweichungen von\\u003cbr\\u003ehäufigster Annotationsoption=%{y}\\u003cextra\\u003e\\u003c\\u002fextra\\u003e\",\"legendgroup\":\"\",\"marker\":{\"color\":\"#636efa\",\"pattern\":{\"shape\":\"\"}},\"name\":\"\",\"offsetgroup\":\"\",\"orientation\":\"v\",\"showlegend\":false,\"textposition\":\"auto\",\"x\":[\"(02) Empirische Ausrichtung\",\"(03) Geschichtstheoretische Ausrichtung\",\"(10) Wissen der Sprechinstanz\",\"(18) Großraum\",\"(36) Bewertung Geschichtsauffassungen\",\"(38) Reim\",\"(35) Geschichtsauffassungen\",\"(39) Metrum\",\"(16) Anachronismen\",\"(40) Verfremdende Sprache\",\"(34) Bewertung Überlieferung\",\"(26) Nationalismus\",\"(33) Überlieferung\",\"(27) Heroismus\",\"(09) Konkretheit\",\"(28) Religiosität\",\"(11) Zeitdominanz\",\"(37) Verhältnis zum historischen Wissen\",\"(31) Geschichtsmarker Ort\",\"(17) Gegenwartsbezug\",\"(05) Markiertheit der Sprechinstanz\",\"(30) Geschichtsmarker Zeit\",\"(13) Fixierbarkeit der dominanten Zeitebene\",\"(32) Geschichtsmarker Objekt\",\"(08) Tempora\",\"(20) Kleinraum\",\"(12) Anzahl Zeitebenen\",\"(21) Inhaltstyp\",\"(06) Zeitliche Position der Sprechinstanz\",\"(29) Geschichtsmarker Person\",\"(04) Gattung\",\"(07) Sprechakte\",\"(25) Bewertung Entitäten\",\"(19) Mittelraum\",\"(23) Bewertung Stoffgebiet\",\"(22) Stoffgebiet\",\"(15) Ende der dominanten Zeitebene\",\"(14) Beginn der dominanten Zeitebene\",\"(24) Entitäten\"],\"xaxis\":\"x\",\"y\":[0.044444444444444446,0.044444444444444446,0.044444444444444446,0.044444444444444446,0.05555555555555555,0.05555555555555555,0.05555555555555555,0.08888888888888889,0.12222222222222222,0.15555555555555556,0.18888888888888888,0.18888888888888888,0.18888888888888888,0.18888888888888888,0.3,0.3,0.32222222222222224,0.32222222222222224,0.35555555555555557,0.36666666666666664,0.37777777777777777,0.4111111111111111,0.43333333333333335,0.45555555555555555,0.5333333333333333,0.5333333333333333,0.5555555555555556,0.6,0.6222222222222222,0.6333333333333333,0.6666666666666666,0.7333333333333333,0.8111111111111111,0.8222222222222222,0.8333333333333334,0.8444444444444444,0.9333333333333333,0.9333333333333333,0.9666666666666667],\"yaxis\":\"y\",\"type\":\"bar\"}],                        {\"template\":{\"data\":{\"histogram2dcontour\":[{\"type\":\"histogram2dcontour\",\"colorbar\":{\"outlinewidth\":0,\"ticks\":\"\"},\"colorscale\":[[0.0,\"#0d0887\"],[0.1111111111111111,\"#46039f\"],[0.2222222222222222,\"#7201a8\"],[0.3333333333333333,\"#9c179e\"],[0.4444444444444444,\"#bd3786\"],[0.5555555555555556,\"#d8576b\"],[0.6666666666666666,\"#ed7953\"],[0.7777777777777778,\"#fb9f3a\"],[0.8888888888888888,\"#fdca26\"],[1.0,\"#f0f921\"]]}],\"choropleth\":[{\"type\":\"choropleth\",\"colorbar\":{\"outlinewidth\":0,\"ticks\":\"\"}}],\"histogram2d\":[{\"type\":\"histogram2d\",\"colorbar\":{\"outlinewidth\":0,\"ticks\":\"\"},\"colorscale\":[[0.0,\"#0d0887\"],[0.1111111111111111,\"#46039f\"],[0.2222222222222222,\"#7201a8\"],[0.3333333333333333,\"#9c179e\"],[0.4444444444444444,\"#bd3786\"],[0.5555555555555556,\"#d8576b\"],[0.6666666666666666,\"#ed7953\"],[0.7777777777777778,\"#fb9f3a\"],[0.8888888888888888,\"#fdca26\"],[1.0,\"#f0f921\"]]}],\"heatmap\":[{\"type\":\"heatmap\",\"colorbar\":{\"outlinewidth\":0,\"ticks\":\"\"},\"colorscale\":[[0.0,\"#0d0887\"],[0.1111111111111111,\"#46039f\"],[0.2222222222222222,\"#7201a8\"],[0.3333333333333333,\"#9c179e\"],[0.4444444444444444,\"#bd3786\"],[0.5555555555555556,\"#d8576b\"],[0.6666666666666666,\"#ed7953\"],[0.7777777777777778,\"#fb9f3a\"],[0.8888888888888888,\"#fdca26\"],[1.0,\"#f0f921\"]]}],\"heatmapgl\":[{\"type\":\"heatmapgl\",\"colorbar\":{\"outlinewidth\":0,\"ticks\":\"\"},\"colorscale\":[[0.0,\"#0d0887\"],[0.1111111111111111,\"#46039f\"],[0.2222222222222222,\"#7201a8\"],[0.3333333333333333,\"#9c179e\"],[0.4444444444444444,\"#bd3786\"],[0.5555555555555556,\"#d8576b\"],[0.6666666666666666,\"#ed7953\"],[0.7777777777777778,\"#fb9f3a\"],[0.8888888888888888,\"#fdca26\"],[1.0,\"#f0f921\"]]}],\"contourcarpet\":[{\"type\":\"contourcarpet\",\"colorbar\":{\"outlinewidth\":0,\"ticks\":\"\"}}],\"contour\":[{\"type\":\"contour\",\"colorbar\":{\"outlinewidth\":0,\"ticks\":\"\"},\"colorscale\":[[0.0,\"#0d0887\"],[0.1111111111111111,\"#46039f\"],[0.2222222222222222,\"#7201a8\"],[0.3333333333333333,\"#9c179e\"],[0.4444444444444444,\"#bd3786\"],[0.5555555555555556,\"#d8576b\"],[0.6666666666666666,\"#ed7953\"],[0.7777777777777778,\"#fb9f3a\"],[0.8888888888888888,\"#fdca26\"],[1.0,\"#f0f921\"]]}],\"surface\":[{\"type\":\"surface\",\"colorbar\":{\"outlinewidth\":0,\"ticks\":\"\"},\"colorscale\":[[0.0,\"#0d0887\"],[0.1111111111111111,\"#46039f\"],[0.2222222222222222,\"#7201a8\"],[0.3333333333333333,\"#9c179e\"],[0.4444444444444444,\"#bd3786\"],[0.5555555555555556,\"#d8576b\"],[0.6666666666666666,\"#ed7953\"],[0.7777777777777778,\"#fb9f3a\"],[0.8888888888888888,\"#fdca26\"],[1.0,\"#f0f921\"]]}],\"mesh3d\":[{\"type\":\"mesh3d\",\"colorbar\":{\"outlinewidth\":0,\"ticks\":\"\"}}],\"scatter\":[{\"fillpattern\":{\"fillmode\":\"overlay\",\"size\":10,\"solidity\":0.2},\"type\":\"scatter\"}],\"parcoords\":[{\"type\":\"parcoords\",\"line\":{\"colorbar\":{\"outlinewidth\":0,\"ticks\":\"\"}}}],\"scatterpolargl\":[{\"type\":\"scatterpolargl\",\"marker\":{\"colorbar\":{\"outlinewidth\":0,\"ticks\":\"\"}}}],\"bar\":[{\"error_x\":{\"color\":\"#2a3f5f\"},\"error_y\":{\"color\":\"#2a3f5f\"},\"marker\":{\"line\":{\"color\":\"#E5ECF6\",\"width\":0.5},\"pattern\":{\"fillmode\":\"overlay\",\"size\":10,\"solidity\":0.2}},\"type\":\"bar\"}],\"scattergeo\":[{\"type\":\"scattergeo\",\"marker\":{\"colorbar\":{\"outlinewidth\":0,\"ticks\":\"\"}}}],\"scatterpolar\":[{\"type\":\"scatterpolar\",\"marker\":{\"colorbar\":{\"outlinewidth\":0,\"ticks\":\"\"}}}],\"histogram\":[{\"marker\":{\"pattern\":{\"fillmode\":\"overlay\",\"size\":10,\"solidity\":0.2}},\"type\":\"histogram\"}],\"scattergl\":[{\"type\":\"scattergl\",\"marker\":{\"colorbar\":{\"outlinewidth\":0,\"ticks\":\"\"}}}],\"scatter3d\":[{\"type\":\"scatter3d\",\"line\":{\"colorbar\":{\"outlinewidth\":0,\"ticks\":\"\"}},\"marker\":{\"colorbar\":{\"outlinewidth\":0,\"ticks\":\"\"}}}],\"scattermapbox\":[{\"type\":\"scattermapbox\",\"marker\":{\"colorbar\":{\"outlinewidth\":0,\"ticks\":\"\"}}}],\"scatterternary\":[{\"type\":\"scatterternary\",\"marker\":{\"colorbar\":{\"outlinewidth\":0,\"ticks\":\"\"}}}],\"scattercarpet\":[{\"type\":\"scattercarpet\",\"marker\":{\"colorbar\":{\"outlinewidth\":0,\"ticks\":\"\"}}}],\"carpet\":[{\"aaxis\":{\"endlinecolor\":\"#2a3f5f\",\"gridcolor\":\"white\",\"linecolor\":\"white\",\"minorgridcolor\":\"white\",\"startlinecolor\":\"#2a3f5f\"},\"baxis\":{\"endlinecolor\":\"#2a3f5f\",\"gridcolor\":\"white\",\"linecolor\":\"white\",\"minorgridcolor\":\"white\",\"startlinecolor\":\"#2a3f5f\"},\"type\":\"carpet\"}],\"table\":[{\"cells\":{\"fill\":{\"color\":\"#EBF0F8\"},\"line\":{\"color\":\"white\"}},\"header\":{\"fill\":{\"color\":\"#C8D4E3\"},\"line\":{\"color\":\"white\"}},\"type\":\"table\"}],\"barpolar\":[{\"marker\":{\"line\":{\"color\":\"#E5ECF6\",\"width\":0.5},\"pattern\":{\"fillmode\":\"overlay\",\"size\":10,\"solidity\":0.2}},\"type\":\"barpolar\"}],\"pie\":[{\"automargin\":true,\"type\":\"pie\"}]},\"layout\":{\"autotypenumbers\":\"strict\",\"colorway\":[\"#636efa\",\"#EF553B\",\"#00cc96\",\"#ab63fa\",\"#FFA15A\",\"#19d3f3\",\"#FF6692\",\"#B6E880\",\"#FF97FF\",\"#FECB52\"],\"font\":{\"color\":\"#2a3f5f\"},\"hovermode\":\"closest\",\"hoverlabel\":{\"align\":\"left\"},\"paper_bgcolor\":\"white\",\"plot_bgcolor\":\"#E5ECF6\",\"polar\":{\"bgcolor\":\"#E5ECF6\",\"angularaxis\":{\"gridcolor\":\"white\",\"linecolor\":\"white\",\"ticks\":\"\"},\"radialaxis\":{\"gridcolor\":\"white\",\"linecolor\":\"white\",\"ticks\":\"\"}},\"ternary\":{\"bgcolor\":\"#E5ECF6\",\"aaxis\":{\"gridcolor\":\"white\",\"linecolor\":\"white\",\"ticks\":\"\"},\"baxis\":{\"gridcolor\":\"white\",\"linecolor\":\"white\",\"ticks\":\"\"},\"caxis\":{\"gridcolor\":\"white\",\"linecolor\":\"white\",\"ticks\":\"\"}},\"coloraxis\":{\"colorbar\":{\"outlinewidth\":0,\"ticks\":\"\"}},\"colorscale\":{\"sequential\":[[0.0,\"#0d0887\"],[0.1111111111111111,\"#46039f\"],[0.2222222222222222,\"#7201a8\"],[0.3333333333333333,\"#9c179e\"],[0.4444444444444444,\"#bd3786\"],[0.5555555555555556,\"#d8576b\"],[0.6666666666666666,\"#ed7953\"],[0.7777777777777778,\"#fb9f3a\"],[0.8888888888888888,\"#fdca26\"],[1.0,\"#f0f921\"]],\"sequentialminus\":[[0.0,\"#0d0887\"],[0.1111111111111111,\"#46039f\"],[0.2222222222222222,\"#7201a8\"],[0.3333333333333333,\"#9c179e\"],[0.4444444444444444,\"#bd3786\"],[0.5555555555555556,\"#d8576b\"],[0.6666666666666666,\"#ed7953\"],[0.7777777777777778,\"#fb9f3a\"],[0.8888888888888888,\"#fdca26\"],[1.0,\"#f0f921\"]],\"diverging\":[[0,\"#8e0152\"],[0.1,\"#c51b7d\"],[0.2,\"#de77ae\"],[0.3,\"#f1b6da\"],[0.4,\"#fde0ef\"],[0.5,\"#f7f7f7\"],[0.6,\"#e6f5d0\"],[0.7,\"#b8e186\"],[0.8,\"#7fbc41\"],[0.9,\"#4d9221\"],[1,\"#276419\"]]},\"xaxis\":{\"gridcolor\":\"white\",\"linecolor\":\"white\",\"ticks\":\"\",\"title\":{\"standoff\":15},\"zerolinecolor\":\"white\",\"automargin\":true,\"zerolinewidth\":2},\"yaxis\":{\"gridcolor\":\"white\",\"linecolor\":\"white\",\"ticks\":\"\",\"title\":{\"standoff\":15},\"zerolinecolor\":\"white\",\"automargin\":true,\"zerolinewidth\":2},\"scene\":{\"xaxis\":{\"backgroundcolor\":\"#E5ECF6\",\"gridcolor\":\"white\",\"linecolor\":\"white\",\"showbackground\":true,\"ticks\":\"\",\"zerolinecolor\":\"white\",\"gridwidth\":2},\"yaxis\":{\"backgroundcolor\":\"#E5ECF6\",\"gridcolor\":\"white\",\"linecolor\":\"white\",\"showbackground\":true,\"ticks\":\"\",\"zerolinecolor\":\"white\",\"gridwidth\":2},\"zaxis\":{\"backgroundcolor\":\"#E5ECF6\",\"gridcolor\":\"white\",\"linecolor\":\"white\",\"showbackground\":true,\"ticks\":\"\",\"zerolinecolor\":\"white\",\"gridwidth\":2}},\"shapedefaults\":{\"line\":{\"color\":\"#2a3f5f\"}},\"annotationdefaults\":{\"arrowcolor\":\"#2a3f5f\",\"arrowhead\":0,\"arrowwidth\":1},\"geo\":{\"bgcolor\":\"white\",\"landcolor\":\"#E5ECF6\",\"subunitcolor\":\"white\",\"showland\":true,\"showlakes\":true,\"lakecolor\":\"white\"},\"title\":{\"x\":0.05},\"mapbox\":{\"style\":\"light\"}}},\"xaxis\":{\"anchor\":\"y\",\"domain\":[0.0,1.0],\"title\":{\"text\":\"\",\"font\":{\"size\":16}},\"tickfont\":{\"size\":16}},\"yaxis\":{\"anchor\":\"x\",\"domain\":[0.0,1.0],\"title\":{\"text\":\"Anteil Abweichungen von\\u003cbr\\u003ehäufigster Annotationsoption\",\"font\":{\"size\":16}},\"tickfont\":{\"size\":16}},\"legend\":{\"tracegroupgap\":0},\"margin\":{\"t\":60},\"barmode\":\"relative\",\"height\":800},                        {\"responsive\": true}                    ).then(function(){\n",
       "                            \n",
       "var gd = document.getElementById('09e386f7-0ae3-423d-8970-e97b0c032b9c');\n",
       "var x = new MutationObserver(function (mutations, observer) {{\n",
       "        var display = window.getComputedStyle(gd).display;\n",
       "        if (!display || display === 'none') {{\n",
       "            console.log([gd, 'removed!']);\n",
       "            Plotly.purge(gd);\n",
       "            observer.disconnect();\n",
       "        }}\n",
       "}});\n",
       "\n",
       "// Listen for the removal of the full notebook cells\n",
       "var notebookContainer = gd.closest('#notebook-container');\n",
       "if (notebookContainer) {{\n",
       "    x.observe(notebookContainer, {childList: true});\n",
       "}}\n",
       "\n",
       "// Listen for the clearing of the current output cell\n",
       "var outputEl = gd.closest('.output');\n",
       "if (outputEl) {{\n",
       "    x.observe(outputEl, {childList: true});\n",
       "}}\n",
       "\n",
       "                        })                };                });            </script>        </div>"
      ]
     },
     "metadata": {},
     "output_type": "display_data"
    }
   ],
   "source": [
    "fig = px.bar(\n",
    "    iaa_overview.sort_values(by = 'div_from_top_rel'),\n",
    "    y = 'div_from_top_rel',\n",
    "    labels = {\n",
    "        'div_from_top_rel': \"Anteil Abweichungen von<br>häufigster Annotationsoption\",\n",
    "        'variable' : '',\n",
    "    }\n",
    ")\n",
    "\n",
    "fig.update_layout(\n",
    "    height=800,\n",
    "    xaxis=dict(title='',tickfont=dict(size=16), titlefont=dict(size=16)),\n",
    "    yaxis=dict(tickfont=dict(size=16), titlefont=dict(size=16)),\n",
    ")\n",
    "\n",
    "fig.show()"
   ]
  },
  {
   "cell_type": "code",
   "execution_count": 35,
   "id": "a93bfa2f",
   "metadata": {},
   "outputs": [
    {
     "name": "stdout",
     "output_type": "stream",
     "text": [
      "\n",
      "\n",
      "(10) Wissen der Sprechinstanz\n",
      "ak – 2x nicht Default-Annotation\n",
      "ek – 2x nicht Default-Annotation\n",
      "mk – 0x nicht Default-Annotation\n",
      "\n",
      "\n",
      "(35) Geschichtsauffassungen\n",
      "ak – 0x nicht Default-Annotation\n",
      "ek – 2x nicht Default-Annotation\n",
      "mk – 3x nicht Default-Annotation\n"
     ]
    }
   ],
   "source": [
    "meta_all = annotations.query(\"author_title.isin(@ak_ek_mk_texts)\")\n",
    "\n",
    "for category in ['(10) Wissen der Sprechinstanz', '(35) Geschichtsauffassungen']:\n",
    "    print(\"\\n\")\n",
    "    print(category)\n",
    "    \n",
    "    for annotator in ['ak', 'ek', 'mk']:\n",
    "        value_counts = meta_all.query(\"annotator == @annotator\")[category].value_counts(dropna=False)\n",
    "        divs = sum(value_counts) - value_counts.iloc[0]\n",
    "        \n",
    "        print(f\"{annotator} – {divs}x nicht Default-Annotation\")"
   ]
  },
  {
   "cell_type": "code",
   "execution_count": 36,
   "id": "903f5734",
   "metadata": {},
   "outputs": [],
   "source": [
    "# nur Kategorien einbeziehen, bei denen min. X mal etwas \n",
    "# anderes als die häufigste Kategorie annotiert wurde\n",
    "\n",
    "min_div_from_top_abs = 5"
   ]
  },
  {
   "cell_type": "code",
   "execution_count": 37,
   "id": "161d6595",
   "metadata": {},
   "outputs": [
    {
     "name": "stdout",
     "output_type": "stream",
     "text": [
      "10\n"
     ]
    },
    {
     "data": {
      "text/plain": [
       "['(02) Empirische Ausrichtung',\n",
       " '(03) Geschichtstheoretische Ausrichtung',\n",
       " '(10) Wissen der Sprechinstanz',\n",
       " '(16) Anachronismen',\n",
       " '(18) Großraum',\n",
       " '(35) Geschichtsauffassungen',\n",
       " '(36) Bewertung Geschichtsauffassungen',\n",
       " '(38) Reim',\n",
       " '(39) Metrum',\n",
       " '(40) Verfremdende Sprache']"
      ]
     },
     "execution_count": 37,
     "metadata": {},
     "output_type": "execute_result"
    }
   ],
   "source": [
    "exclude_categories = iaa_overview.query(\"div_from_top_abs < @min_div_from_top_abs\").index.tolist()\n",
    "\n",
    "print(len(exclude_categories))\n",
    "\n",
    "exclude_categories"
   ]
  },
  {
   "cell_type": "code",
   "execution_count": 38,
   "id": "c5b0282d",
   "metadata": {},
   "outputs": [
    {
     "data": {
      "application/vnd.plotly.v1+json": {
       "config": {
        "plotlyServerURL": "https://plot.ly"
       },
       "data": [
        {
         "alignmentgroup": "True",
         "boxpoints": "all",
         "customdata": [
          [
           "(04) Gattung"
          ],
          [
           "(05) Markiertheit der Sprechinstanz"
          ],
          [
           "(06) Zeitliche Position der Sprechinstanz"
          ],
          [
           "(07) Sprechakte"
          ],
          [
           "(08) Tempora"
          ],
          [
           "(09) Konkretheit"
          ],
          [
           "(11) Zeitdominanz"
          ],
          [
           "(12) Anzahl Zeitebenen"
          ],
          [
           "(13) Fixierbarkeit der dominanten Zeitebene"
          ],
          [
           "(14) Beginn der dominanten Zeitebene"
          ],
          [
           "(15) Ende der dominanten Zeitebene"
          ],
          [
           "(17) Gegenwartsbezug"
          ],
          [
           "(19) Mittelraum"
          ],
          [
           "(20) Kleinraum"
          ],
          [
           "(21) Inhaltstyp"
          ],
          [
           "(22) Stoffgebiet"
          ],
          [
           "(23) Bewertung Stoffgebiet"
          ],
          [
           "(24) Entitäten"
          ],
          [
           "(25) Bewertung Entitäten"
          ],
          [
           "(26) Nationalismus"
          ],
          [
           "(27) Heroismus"
          ],
          [
           "(28) Religiosität"
          ],
          [
           "(29) Geschichtsmarker Person"
          ],
          [
           "(30) Geschichtsmarker Zeit"
          ],
          [
           "(31) Geschichtsmarker Ort"
          ],
          [
           "(32) Geschichtsmarker Objekt"
          ],
          [
           "(33) Überlieferung"
          ],
          [
           "(34) Bewertung Überlieferung"
          ],
          [
           "(37) Verhältnis zum historischen Wissen"
          ],
          [
           "(04) Gattung"
          ],
          [
           "(05) Markiertheit der Sprechinstanz"
          ],
          [
           "(06) Zeitliche Position der Sprechinstanz"
          ],
          [
           "(07) Sprechakte"
          ],
          [
           "(08) Tempora"
          ],
          [
           "(09) Konkretheit"
          ],
          [
           "(11) Zeitdominanz"
          ],
          [
           "(12) Anzahl Zeitebenen"
          ],
          [
           "(13) Fixierbarkeit der dominanten Zeitebene"
          ],
          [
           "(14) Beginn der dominanten Zeitebene"
          ],
          [
           "(15) Ende der dominanten Zeitebene"
          ],
          [
           "(17) Gegenwartsbezug"
          ],
          [
           "(19) Mittelraum"
          ],
          [
           "(20) Kleinraum"
          ],
          [
           "(21) Inhaltstyp"
          ],
          [
           "(22) Stoffgebiet"
          ],
          [
           "(23) Bewertung Stoffgebiet"
          ],
          [
           "(24) Entitäten"
          ],
          [
           "(25) Bewertung Entitäten"
          ],
          [
           "(26) Nationalismus"
          ],
          [
           "(27) Heroismus"
          ],
          [
           "(28) Religiosität"
          ],
          [
           "(29) Geschichtsmarker Person"
          ],
          [
           "(30) Geschichtsmarker Zeit"
          ],
          [
           "(31) Geschichtsmarker Ort"
          ],
          [
           "(32) Geschichtsmarker Objekt"
          ],
          [
           "(33) Überlieferung"
          ],
          [
           "(34) Bewertung Überlieferung"
          ],
          [
           "(37) Verhältnis zum historischen Wissen"
          ],
          [
           "(04) Gattung"
          ],
          [
           "(05) Markiertheit der Sprechinstanz"
          ],
          [
           "(06) Zeitliche Position der Sprechinstanz"
          ],
          [
           "(07) Sprechakte"
          ],
          [
           "(08) Tempora"
          ],
          [
           "(09) Konkretheit"
          ],
          [
           "(11) Zeitdominanz"
          ],
          [
           "(12) Anzahl Zeitebenen"
          ],
          [
           "(13) Fixierbarkeit der dominanten Zeitebene"
          ],
          [
           "(14) Beginn der dominanten Zeitebene"
          ],
          [
           "(15) Ende der dominanten Zeitebene"
          ],
          [
           "(17) Gegenwartsbezug"
          ],
          [
           "(19) Mittelraum"
          ],
          [
           "(20) Kleinraum"
          ],
          [
           "(21) Inhaltstyp"
          ],
          [
           "(22) Stoffgebiet"
          ],
          [
           "(23) Bewertung Stoffgebiet"
          ],
          [
           "(24) Entitäten"
          ],
          [
           "(25) Bewertung Entitäten"
          ],
          [
           "(26) Nationalismus"
          ],
          [
           "(27) Heroismus"
          ],
          [
           "(28) Religiosität"
          ],
          [
           "(29) Geschichtsmarker Person"
          ],
          [
           "(30) Geschichtsmarker Zeit"
          ],
          [
           "(31) Geschichtsmarker Ort"
          ],
          [
           "(32) Geschichtsmarker Objekt"
          ],
          [
           "(33) Überlieferung"
          ],
          [
           "(34) Bewertung Überlieferung"
          ],
          [
           "(37) Verhältnis zum historischen Wissen"
          ],
          [
           "(04) Gattung"
          ],
          [
           "(05) Markiertheit der Sprechinstanz"
          ],
          [
           "(06) Zeitliche Position der Sprechinstanz"
          ],
          [
           "(07) Sprechakte"
          ],
          [
           "(08) Tempora"
          ],
          [
           "(09) Konkretheit"
          ],
          [
           "(11) Zeitdominanz"
          ],
          [
           "(12) Anzahl Zeitebenen"
          ],
          [
           "(13) Fixierbarkeit der dominanten Zeitebene"
          ],
          [
           "(14) Beginn der dominanten Zeitebene"
          ],
          [
           "(15) Ende der dominanten Zeitebene"
          ],
          [
           "(17) Gegenwartsbezug"
          ],
          [
           "(19) Mittelraum"
          ],
          [
           "(20) Kleinraum"
          ],
          [
           "(21) Inhaltstyp"
          ],
          [
           "(22) Stoffgebiet"
          ],
          [
           "(23) Bewertung Stoffgebiet"
          ],
          [
           "(24) Entitäten"
          ],
          [
           "(25) Bewertung Entitäten"
          ],
          [
           "(26) Nationalismus"
          ],
          [
           "(27) Heroismus"
          ],
          [
           "(28) Religiosität"
          ],
          [
           "(29) Geschichtsmarker Person"
          ],
          [
           "(30) Geschichtsmarker Zeit"
          ],
          [
           "(31) Geschichtsmarker Ort"
          ],
          [
           "(32) Geschichtsmarker Objekt"
          ],
          [
           "(33) Überlieferung"
          ],
          [
           "(34) Bewertung Überlieferung"
          ],
          [
           "(37) Verhältnis zum historischen Wissen"
          ]
         ],
         "hovertemplate": "=%{x}<br>Agreement (Krippendorff's alpha)=%{y}<br>index=%{customdata[0]}<extra></extra>",
         "legendgroup": "",
         "marker": {
          "color": "#636efa"
         },
         "name": "",
         "notched": false,
         "offsetgroup": "",
         "orientation": "v",
         "showlegend": false,
         "type": "box",
         "x": [
          "SHK1<>SHK2",
          "SHK1<>SHK2",
          "SHK1<>SHK2",
          "SHK1<>SHK2",
          "SHK1<>SHK2",
          "SHK1<>SHK2",
          "SHK1<>SHK2",
          "SHK1<>SHK2",
          "SHK1<>SHK2",
          "SHK1<>SHK2",
          "SHK1<>SHK2",
          "SHK1<>SHK2",
          "SHK1<>SHK2",
          "SHK1<>SHK2",
          "SHK1<>SHK2",
          "SHK1<>SHK2",
          "SHK1<>SHK2",
          "SHK1<>SHK2",
          "SHK1<>SHK2",
          "SHK1<>SHK2",
          "SHK1<>SHK2",
          "SHK1<>SHK2",
          "SHK1<>SHK2",
          "SHK1<>SHK2",
          "SHK1<>SHK2",
          "SHK1<>SHK2",
          "SHK1<>SHK2",
          "SHK1<>SHK2",
          "SHK1<>SHK2",
          "SHK1<>Verfasser",
          "SHK1<>Verfasser",
          "SHK1<>Verfasser",
          "SHK1<>Verfasser",
          "SHK1<>Verfasser",
          "SHK1<>Verfasser",
          "SHK1<>Verfasser",
          "SHK1<>Verfasser",
          "SHK1<>Verfasser",
          "SHK1<>Verfasser",
          "SHK1<>Verfasser",
          "SHK1<>Verfasser",
          "SHK1<>Verfasser",
          "SHK1<>Verfasser",
          "SHK1<>Verfasser",
          "SHK1<>Verfasser",
          "SHK1<>Verfasser",
          "SHK1<>Verfasser",
          "SHK1<>Verfasser",
          "SHK1<>Verfasser",
          "SHK1<>Verfasser",
          "SHK1<>Verfasser",
          "SHK1<>Verfasser",
          "SHK1<>Verfasser",
          "SHK1<>Verfasser",
          "SHK1<>Verfasser",
          "SHK1<>Verfasser",
          "SHK1<>Verfasser",
          "SHK1<>Verfasser",
          "SHK2<>Verfasser",
          "SHK2<>Verfasser",
          "SHK2<>Verfasser",
          "SHK2<>Verfasser",
          "SHK2<>Verfasser",
          "SHK2<>Verfasser",
          "SHK2<>Verfasser",
          "SHK2<>Verfasser",
          "SHK2<>Verfasser",
          "SHK2<>Verfasser",
          "SHK2<>Verfasser",
          "SHK2<>Verfasser",
          "SHK2<>Verfasser",
          "SHK2<>Verfasser",
          "SHK2<>Verfasser",
          "SHK2<>Verfasser",
          "SHK2<>Verfasser",
          "SHK2<>Verfasser",
          "SHK2<>Verfasser",
          "SHK2<>Verfasser",
          "SHK2<>Verfasser",
          "SHK2<>Verfasser",
          "SHK2<>Verfasser",
          "SHK2<>Verfasser",
          "SHK2<>Verfasser",
          "SHK2<>Verfasser",
          "SHK2<>Verfasser",
          "SHK2<>Verfasser",
          "SHK2<>Verfasser",
          "SHK1<>SHK2<>Verfasser",
          "SHK1<>SHK2<>Verfasser",
          "SHK1<>SHK2<>Verfasser",
          "SHK1<>SHK2<>Verfasser",
          "SHK1<>SHK2<>Verfasser",
          "SHK1<>SHK2<>Verfasser",
          "SHK1<>SHK2<>Verfasser",
          "SHK1<>SHK2<>Verfasser",
          "SHK1<>SHK2<>Verfasser",
          "SHK1<>SHK2<>Verfasser",
          "SHK1<>SHK2<>Verfasser",
          "SHK1<>SHK2<>Verfasser",
          "SHK1<>SHK2<>Verfasser",
          "SHK1<>SHK2<>Verfasser",
          "SHK1<>SHK2<>Verfasser",
          "SHK1<>SHK2<>Verfasser",
          "SHK1<>SHK2<>Verfasser",
          "SHK1<>SHK2<>Verfasser",
          "SHK1<>SHK2<>Verfasser",
          "SHK1<>SHK2<>Verfasser",
          "SHK1<>SHK2<>Verfasser",
          "SHK1<>SHK2<>Verfasser",
          "SHK1<>SHK2<>Verfasser",
          "SHK1<>SHK2<>Verfasser",
          "SHK1<>SHK2<>Verfasser",
          "SHK1<>SHK2<>Verfasser",
          "SHK1<>SHK2<>Verfasser",
          "SHK1<>SHK2<>Verfasser",
          "SHK1<>SHK2<>Verfasser"
         ],
         "x0": " ",
         "xaxis": "x",
         "y": [
          0.6466351732760363,
          0.9306698002350177,
          0.5625,
          0.19161220599070106,
          0.8332495130157606,
          0.6948275862068964,
          0.7033045977011494,
          0.2677304964539007,
          0.528,
          0.9588499127702793,
          0.9847139885625551,
          0.85,
          0.6371787320801962,
          0.715319662243667,
          0.45692425564517836,
          0.39392746867547046,
          0.06149425287356336,
          0.3893976316789123,
          0.3492131008081667,
          0.7103109656301145,
          0.5902777777777777,
          0.8525,
          0.8291268046616802,
          0.8017917133258678,
          0.5278915967658588,
          0.37031658918495125,
          0.45269016697588127,
          0.37122557726465366,
          0.5100830367734281,
          0.6986995932809279,
          0.9306698002350177,
          0.6666666666666667,
          0.4808744553011449,
          0.610915530370108,
          0.3871576959395657,
          0.6098794243485026,
          0.3045186640471512,
          0.7366071428571428,
          0.89034731890075,
          0.8895904571852926,
          0.85,
          0.7177367488593338,
          0.7477135900572964,
          0.5544100554128937,
          0.6225399570945602,
          0.285865537321334,
          0.6283839055281957,
          0.40485011788480973,
          0.764,
          0.7103109656301145,
          0.5964432284541724,
          0.8399527208173321,
          0.9373007438894793,
          0.7742625834503422,
          0.5594995573663833,
          0.2919999999999999,
          0.32053742802303253,
          0.6101321585903083,
          0.7932928794652241,
          1,
          0.6890756302521008,
          0.41752087849821784,
          0.7766169437485766,
          0.4093437152391546,
          0.9366726296958855,
          0.5779014308426074,
          0.7977142857142857,
          0.9820081414793976,
          0.9537351233725797,
          1,
          0.610160496256875,
          0.8080206913813721,
          0.6688973784745093,
          0.3796589259439974,
          0.36484918793503474,
          0.5830978954824616,
          0.49610389610389616,
          0.6716141001855287,
          0.8714596949891068,
          0.5964432284541724,
          0.8399527208173321,
          0.7400881057268722,
          0.738920724826869,
          0.18417001484845852,
          0.5171849427168577,
          0.4528593508500772,
          0.6026936026936026,
          0.7144873604516875,
          0.9532563025210083,
          0.6451612903225807,
          0.3619594733806145,
          0.7387906548596685,
          0.5055555555555555,
          0.7526160889470243,
          0.40734398782343983,
          0.6867772750125691,
          0.9432147024423048,
          0.9416130046645986,
          0.9035087719298246,
          0.6536596215021295,
          0.7553372223460256,
          0.559489175199305,
          0.46283050898977995,
          0.27292110874200426,
          0.5320312743942213,
          0.3984375,
          0.7131345688960515,
          0.7131345688960515,
          0.6860670194003528,
          0.8355485416104934,
          0.827435773145904,
          0.6778316678315734,
          0.37395494073800484,
          0.42626913779210307,
          0.38431975403535734,
          0.5740554156171285
         ],
         "y0": " ",
         "yaxis": "y"
        }
       ],
       "layout": {
        "boxmode": "group",
        "height": 500,
        "legend": {
         "tracegroupgap": 0
        },
        "margin": {
         "t": 60
        },
        "template": {
         "data": {
          "bar": [
           {
            "error_x": {
             "color": "#2a3f5f"
            },
            "error_y": {
             "color": "#2a3f5f"
            },
            "marker": {
             "line": {
              "color": "#E5ECF6",
              "width": 0.5
             },
             "pattern": {
              "fillmode": "overlay",
              "size": 10,
              "solidity": 0.2
             }
            },
            "type": "bar"
           }
          ],
          "barpolar": [
           {
            "marker": {
             "line": {
              "color": "#E5ECF6",
              "width": 0.5
             },
             "pattern": {
              "fillmode": "overlay",
              "size": 10,
              "solidity": 0.2
             }
            },
            "type": "barpolar"
           }
          ],
          "carpet": [
           {
            "aaxis": {
             "endlinecolor": "#2a3f5f",
             "gridcolor": "white",
             "linecolor": "white",
             "minorgridcolor": "white",
             "startlinecolor": "#2a3f5f"
            },
            "baxis": {
             "endlinecolor": "#2a3f5f",
             "gridcolor": "white",
             "linecolor": "white",
             "minorgridcolor": "white",
             "startlinecolor": "#2a3f5f"
            },
            "type": "carpet"
           }
          ],
          "choropleth": [
           {
            "colorbar": {
             "outlinewidth": 0,
             "ticks": ""
            },
            "type": "choropleth"
           }
          ],
          "contour": [
           {
            "colorbar": {
             "outlinewidth": 0,
             "ticks": ""
            },
            "colorscale": [
             [
              0,
              "#0d0887"
             ],
             [
              0.1111111111111111,
              "#46039f"
             ],
             [
              0.2222222222222222,
              "#7201a8"
             ],
             [
              0.3333333333333333,
              "#9c179e"
             ],
             [
              0.4444444444444444,
              "#bd3786"
             ],
             [
              0.5555555555555556,
              "#d8576b"
             ],
             [
              0.6666666666666666,
              "#ed7953"
             ],
             [
              0.7777777777777778,
              "#fb9f3a"
             ],
             [
              0.8888888888888888,
              "#fdca26"
             ],
             [
              1,
              "#f0f921"
             ]
            ],
            "type": "contour"
           }
          ],
          "contourcarpet": [
           {
            "colorbar": {
             "outlinewidth": 0,
             "ticks": ""
            },
            "type": "contourcarpet"
           }
          ],
          "heatmap": [
           {
            "colorbar": {
             "outlinewidth": 0,
             "ticks": ""
            },
            "colorscale": [
             [
              0,
              "#0d0887"
             ],
             [
              0.1111111111111111,
              "#46039f"
             ],
             [
              0.2222222222222222,
              "#7201a8"
             ],
             [
              0.3333333333333333,
              "#9c179e"
             ],
             [
              0.4444444444444444,
              "#bd3786"
             ],
             [
              0.5555555555555556,
              "#d8576b"
             ],
             [
              0.6666666666666666,
              "#ed7953"
             ],
             [
              0.7777777777777778,
              "#fb9f3a"
             ],
             [
              0.8888888888888888,
              "#fdca26"
             ],
             [
              1,
              "#f0f921"
             ]
            ],
            "type": "heatmap"
           }
          ],
          "heatmapgl": [
           {
            "colorbar": {
             "outlinewidth": 0,
             "ticks": ""
            },
            "colorscale": [
             [
              0,
              "#0d0887"
             ],
             [
              0.1111111111111111,
              "#46039f"
             ],
             [
              0.2222222222222222,
              "#7201a8"
             ],
             [
              0.3333333333333333,
              "#9c179e"
             ],
             [
              0.4444444444444444,
              "#bd3786"
             ],
             [
              0.5555555555555556,
              "#d8576b"
             ],
             [
              0.6666666666666666,
              "#ed7953"
             ],
             [
              0.7777777777777778,
              "#fb9f3a"
             ],
             [
              0.8888888888888888,
              "#fdca26"
             ],
             [
              1,
              "#f0f921"
             ]
            ],
            "type": "heatmapgl"
           }
          ],
          "histogram": [
           {
            "marker": {
             "pattern": {
              "fillmode": "overlay",
              "size": 10,
              "solidity": 0.2
             }
            },
            "type": "histogram"
           }
          ],
          "histogram2d": [
           {
            "colorbar": {
             "outlinewidth": 0,
             "ticks": ""
            },
            "colorscale": [
             [
              0,
              "#0d0887"
             ],
             [
              0.1111111111111111,
              "#46039f"
             ],
             [
              0.2222222222222222,
              "#7201a8"
             ],
             [
              0.3333333333333333,
              "#9c179e"
             ],
             [
              0.4444444444444444,
              "#bd3786"
             ],
             [
              0.5555555555555556,
              "#d8576b"
             ],
             [
              0.6666666666666666,
              "#ed7953"
             ],
             [
              0.7777777777777778,
              "#fb9f3a"
             ],
             [
              0.8888888888888888,
              "#fdca26"
             ],
             [
              1,
              "#f0f921"
             ]
            ],
            "type": "histogram2d"
           }
          ],
          "histogram2dcontour": [
           {
            "colorbar": {
             "outlinewidth": 0,
             "ticks": ""
            },
            "colorscale": [
             [
              0,
              "#0d0887"
             ],
             [
              0.1111111111111111,
              "#46039f"
             ],
             [
              0.2222222222222222,
              "#7201a8"
             ],
             [
              0.3333333333333333,
              "#9c179e"
             ],
             [
              0.4444444444444444,
              "#bd3786"
             ],
             [
              0.5555555555555556,
              "#d8576b"
             ],
             [
              0.6666666666666666,
              "#ed7953"
             ],
             [
              0.7777777777777778,
              "#fb9f3a"
             ],
             [
              0.8888888888888888,
              "#fdca26"
             ],
             [
              1,
              "#f0f921"
             ]
            ],
            "type": "histogram2dcontour"
           }
          ],
          "mesh3d": [
           {
            "colorbar": {
             "outlinewidth": 0,
             "ticks": ""
            },
            "type": "mesh3d"
           }
          ],
          "parcoords": [
           {
            "line": {
             "colorbar": {
              "outlinewidth": 0,
              "ticks": ""
             }
            },
            "type": "parcoords"
           }
          ],
          "pie": [
           {
            "automargin": true,
            "type": "pie"
           }
          ],
          "scatter": [
           {
            "fillpattern": {
             "fillmode": "overlay",
             "size": 10,
             "solidity": 0.2
            },
            "type": "scatter"
           }
          ],
          "scatter3d": [
           {
            "line": {
             "colorbar": {
              "outlinewidth": 0,
              "ticks": ""
             }
            },
            "marker": {
             "colorbar": {
              "outlinewidth": 0,
              "ticks": ""
             }
            },
            "type": "scatter3d"
           }
          ],
          "scattercarpet": [
           {
            "marker": {
             "colorbar": {
              "outlinewidth": 0,
              "ticks": ""
             }
            },
            "type": "scattercarpet"
           }
          ],
          "scattergeo": [
           {
            "marker": {
             "colorbar": {
              "outlinewidth": 0,
              "ticks": ""
             }
            },
            "type": "scattergeo"
           }
          ],
          "scattergl": [
           {
            "marker": {
             "colorbar": {
              "outlinewidth": 0,
              "ticks": ""
             }
            },
            "type": "scattergl"
           }
          ],
          "scattermapbox": [
           {
            "marker": {
             "colorbar": {
              "outlinewidth": 0,
              "ticks": ""
             }
            },
            "type": "scattermapbox"
           }
          ],
          "scatterpolar": [
           {
            "marker": {
             "colorbar": {
              "outlinewidth": 0,
              "ticks": ""
             }
            },
            "type": "scatterpolar"
           }
          ],
          "scatterpolargl": [
           {
            "marker": {
             "colorbar": {
              "outlinewidth": 0,
              "ticks": ""
             }
            },
            "type": "scatterpolargl"
           }
          ],
          "scatterternary": [
           {
            "marker": {
             "colorbar": {
              "outlinewidth": 0,
              "ticks": ""
             }
            },
            "type": "scatterternary"
           }
          ],
          "surface": [
           {
            "colorbar": {
             "outlinewidth": 0,
             "ticks": ""
            },
            "colorscale": [
             [
              0,
              "#0d0887"
             ],
             [
              0.1111111111111111,
              "#46039f"
             ],
             [
              0.2222222222222222,
              "#7201a8"
             ],
             [
              0.3333333333333333,
              "#9c179e"
             ],
             [
              0.4444444444444444,
              "#bd3786"
             ],
             [
              0.5555555555555556,
              "#d8576b"
             ],
             [
              0.6666666666666666,
              "#ed7953"
             ],
             [
              0.7777777777777778,
              "#fb9f3a"
             ],
             [
              0.8888888888888888,
              "#fdca26"
             ],
             [
              1,
              "#f0f921"
             ]
            ],
            "type": "surface"
           }
          ],
          "table": [
           {
            "cells": {
             "fill": {
              "color": "#EBF0F8"
             },
             "line": {
              "color": "white"
             }
            },
            "header": {
             "fill": {
              "color": "#C8D4E3"
             },
             "line": {
              "color": "white"
             }
            },
            "type": "table"
           }
          ]
         },
         "layout": {
          "annotationdefaults": {
           "arrowcolor": "#2a3f5f",
           "arrowhead": 0,
           "arrowwidth": 1
          },
          "autotypenumbers": "strict",
          "coloraxis": {
           "colorbar": {
            "outlinewidth": 0,
            "ticks": ""
           }
          },
          "colorscale": {
           "diverging": [
            [
             0,
             "#8e0152"
            ],
            [
             0.1,
             "#c51b7d"
            ],
            [
             0.2,
             "#de77ae"
            ],
            [
             0.3,
             "#f1b6da"
            ],
            [
             0.4,
             "#fde0ef"
            ],
            [
             0.5,
             "#f7f7f7"
            ],
            [
             0.6,
             "#e6f5d0"
            ],
            [
             0.7,
             "#b8e186"
            ],
            [
             0.8,
             "#7fbc41"
            ],
            [
             0.9,
             "#4d9221"
            ],
            [
             1,
             "#276419"
            ]
           ],
           "sequential": [
            [
             0,
             "#0d0887"
            ],
            [
             0.1111111111111111,
             "#46039f"
            ],
            [
             0.2222222222222222,
             "#7201a8"
            ],
            [
             0.3333333333333333,
             "#9c179e"
            ],
            [
             0.4444444444444444,
             "#bd3786"
            ],
            [
             0.5555555555555556,
             "#d8576b"
            ],
            [
             0.6666666666666666,
             "#ed7953"
            ],
            [
             0.7777777777777778,
             "#fb9f3a"
            ],
            [
             0.8888888888888888,
             "#fdca26"
            ],
            [
             1,
             "#f0f921"
            ]
           ],
           "sequentialminus": [
            [
             0,
             "#0d0887"
            ],
            [
             0.1111111111111111,
             "#46039f"
            ],
            [
             0.2222222222222222,
             "#7201a8"
            ],
            [
             0.3333333333333333,
             "#9c179e"
            ],
            [
             0.4444444444444444,
             "#bd3786"
            ],
            [
             0.5555555555555556,
             "#d8576b"
            ],
            [
             0.6666666666666666,
             "#ed7953"
            ],
            [
             0.7777777777777778,
             "#fb9f3a"
            ],
            [
             0.8888888888888888,
             "#fdca26"
            ],
            [
             1,
             "#f0f921"
            ]
           ]
          },
          "colorway": [
           "#636efa",
           "#EF553B",
           "#00cc96",
           "#ab63fa",
           "#FFA15A",
           "#19d3f3",
           "#FF6692",
           "#B6E880",
           "#FF97FF",
           "#FECB52"
          ],
          "font": {
           "color": "#2a3f5f"
          },
          "geo": {
           "bgcolor": "white",
           "lakecolor": "white",
           "landcolor": "#E5ECF6",
           "showlakes": true,
           "showland": true,
           "subunitcolor": "white"
          },
          "hoverlabel": {
           "align": "left"
          },
          "hovermode": "closest",
          "mapbox": {
           "style": "light"
          },
          "paper_bgcolor": "white",
          "plot_bgcolor": "#E5ECF6",
          "polar": {
           "angularaxis": {
            "gridcolor": "white",
            "linecolor": "white",
            "ticks": ""
           },
           "bgcolor": "#E5ECF6",
           "radialaxis": {
            "gridcolor": "white",
            "linecolor": "white",
            "ticks": ""
           }
          },
          "scene": {
           "xaxis": {
            "backgroundcolor": "#E5ECF6",
            "gridcolor": "white",
            "gridwidth": 2,
            "linecolor": "white",
            "showbackground": true,
            "ticks": "",
            "zerolinecolor": "white"
           },
           "yaxis": {
            "backgroundcolor": "#E5ECF6",
            "gridcolor": "white",
            "gridwidth": 2,
            "linecolor": "white",
            "showbackground": true,
            "ticks": "",
            "zerolinecolor": "white"
           },
           "zaxis": {
            "backgroundcolor": "#E5ECF6",
            "gridcolor": "white",
            "gridwidth": 2,
            "linecolor": "white",
            "showbackground": true,
            "ticks": "",
            "zerolinecolor": "white"
           }
          },
          "shapedefaults": {
           "line": {
            "color": "#2a3f5f"
           }
          },
          "ternary": {
           "aaxis": {
            "gridcolor": "white",
            "linecolor": "white",
            "ticks": ""
           },
           "baxis": {
            "gridcolor": "white",
            "linecolor": "white",
            "ticks": ""
           },
           "bgcolor": "#E5ECF6",
           "caxis": {
            "gridcolor": "white",
            "linecolor": "white",
            "ticks": ""
           }
          },
          "title": {
           "x": 0.05
          },
          "xaxis": {
           "automargin": true,
           "gridcolor": "white",
           "linecolor": "white",
           "ticks": "",
           "title": {
            "standoff": 15
           },
           "zerolinecolor": "white",
           "zerolinewidth": 2
          },
          "yaxis": {
           "automargin": true,
           "gridcolor": "white",
           "linecolor": "white",
           "ticks": "",
           "title": {
            "standoff": 15
           },
           "zerolinecolor": "white",
           "zerolinewidth": 2
          }
         }
        },
        "width": 1000,
        "xaxis": {
         "anchor": "y",
         "autorange": true,
         "domain": [
          0,
          1
         ],
         "range": [
          -0.514336917562724,
          3.5
         ],
         "tickfont": {
          "size": 16
         },
         "title": {
          "font": {
           "size": 16
          },
          "text": ""
         },
         "type": "category"
        },
        "yaxis": {
         "anchor": "x",
         "autorange": true,
         "domain": [
          0,
          1
         ],
         "range": [
          0.00935504469987243,
          1.0521392081736909
         ],
         "tickfont": {
          "size": 16
         },
         "title": {
          "font": {
           "size": 16
          },
          "text": "Agreement (Krippendorff's alpha)"
         },
         "type": "linear"
        }
       }
      },
      "text/html": [
       "<div>                            <div id=\"2183537d-73c9-4102-92a6-b7fe9c4b77e3\" class=\"plotly-graph-div\" style=\"height:500px; width:1000px;\"></div>            <script type=\"text/javascript\">                require([\"plotly\"], function(Plotly) {                    window.PLOTLYENV=window.PLOTLYENV || {};                                    if (document.getElementById(\"2183537d-73c9-4102-92a6-b7fe9c4b77e3\")) {                    Plotly.newPlot(                        \"2183537d-73c9-4102-92a6-b7fe9c4b77e3\",                        [{\"alignmentgroup\":\"True\",\"boxpoints\":\"all\",\"customdata\":[[\"(04) Gattung\"],[\"(05) Markiertheit der Sprechinstanz\"],[\"(06) Zeitliche Position der Sprechinstanz\"],[\"(07) Sprechakte\"],[\"(08) Tempora\"],[\"(09) Konkretheit\"],[\"(11) Zeitdominanz\"],[\"(12) Anzahl Zeitebenen\"],[\"(13) Fixierbarkeit der dominanten Zeitebene\"],[\"(14) Beginn der dominanten Zeitebene\"],[\"(15) Ende der dominanten Zeitebene\"],[\"(17) Gegenwartsbezug\"],[\"(19) Mittelraum\"],[\"(20) Kleinraum\"],[\"(21) Inhaltstyp\"],[\"(22) Stoffgebiet\"],[\"(23) Bewertung Stoffgebiet\"],[\"(24) Entitäten\"],[\"(25) Bewertung Entitäten\"],[\"(26) Nationalismus\"],[\"(27) Heroismus\"],[\"(28) Religiosität\"],[\"(29) Geschichtsmarker Person\"],[\"(30) Geschichtsmarker Zeit\"],[\"(31) Geschichtsmarker Ort\"],[\"(32) Geschichtsmarker Objekt\"],[\"(33) Überlieferung\"],[\"(34) Bewertung Überlieferung\"],[\"(37) Verhältnis zum historischen Wissen\"],[\"(04) Gattung\"],[\"(05) Markiertheit der Sprechinstanz\"],[\"(06) Zeitliche Position der Sprechinstanz\"],[\"(07) Sprechakte\"],[\"(08) Tempora\"],[\"(09) Konkretheit\"],[\"(11) Zeitdominanz\"],[\"(12) Anzahl Zeitebenen\"],[\"(13) Fixierbarkeit der dominanten Zeitebene\"],[\"(14) Beginn der dominanten Zeitebene\"],[\"(15) Ende der dominanten Zeitebene\"],[\"(17) Gegenwartsbezug\"],[\"(19) Mittelraum\"],[\"(20) Kleinraum\"],[\"(21) Inhaltstyp\"],[\"(22) Stoffgebiet\"],[\"(23) Bewertung Stoffgebiet\"],[\"(24) Entitäten\"],[\"(25) Bewertung Entitäten\"],[\"(26) Nationalismus\"],[\"(27) Heroismus\"],[\"(28) Religiosität\"],[\"(29) Geschichtsmarker Person\"],[\"(30) Geschichtsmarker Zeit\"],[\"(31) Geschichtsmarker Ort\"],[\"(32) Geschichtsmarker Objekt\"],[\"(33) Überlieferung\"],[\"(34) Bewertung Überlieferung\"],[\"(37) Verhältnis zum historischen Wissen\"],[\"(04) Gattung\"],[\"(05) Markiertheit der Sprechinstanz\"],[\"(06) Zeitliche Position der Sprechinstanz\"],[\"(07) Sprechakte\"],[\"(08) Tempora\"],[\"(09) Konkretheit\"],[\"(11) Zeitdominanz\"],[\"(12) Anzahl Zeitebenen\"],[\"(13) Fixierbarkeit der dominanten Zeitebene\"],[\"(14) Beginn der dominanten Zeitebene\"],[\"(15) Ende der dominanten Zeitebene\"],[\"(17) Gegenwartsbezug\"],[\"(19) Mittelraum\"],[\"(20) Kleinraum\"],[\"(21) Inhaltstyp\"],[\"(22) Stoffgebiet\"],[\"(23) Bewertung Stoffgebiet\"],[\"(24) Entitäten\"],[\"(25) Bewertung Entitäten\"],[\"(26) Nationalismus\"],[\"(27) Heroismus\"],[\"(28) Religiosität\"],[\"(29) Geschichtsmarker Person\"],[\"(30) Geschichtsmarker Zeit\"],[\"(31) Geschichtsmarker Ort\"],[\"(32) Geschichtsmarker Objekt\"],[\"(33) Überlieferung\"],[\"(34) Bewertung Überlieferung\"],[\"(37) Verhältnis zum historischen Wissen\"],[\"(04) Gattung\"],[\"(05) Markiertheit der Sprechinstanz\"],[\"(06) Zeitliche Position der Sprechinstanz\"],[\"(07) Sprechakte\"],[\"(08) Tempora\"],[\"(09) Konkretheit\"],[\"(11) Zeitdominanz\"],[\"(12) Anzahl Zeitebenen\"],[\"(13) Fixierbarkeit der dominanten Zeitebene\"],[\"(14) Beginn der dominanten Zeitebene\"],[\"(15) Ende der dominanten Zeitebene\"],[\"(17) Gegenwartsbezug\"],[\"(19) Mittelraum\"],[\"(20) Kleinraum\"],[\"(21) Inhaltstyp\"],[\"(22) Stoffgebiet\"],[\"(23) Bewertung Stoffgebiet\"],[\"(24) Entitäten\"],[\"(25) Bewertung Entitäten\"],[\"(26) Nationalismus\"],[\"(27) Heroismus\"],[\"(28) Religiosität\"],[\"(29) Geschichtsmarker Person\"],[\"(30) Geschichtsmarker Zeit\"],[\"(31) Geschichtsmarker Ort\"],[\"(32) Geschichtsmarker Objekt\"],[\"(33) Überlieferung\"],[\"(34) Bewertung Überlieferung\"],[\"(37) Verhältnis zum historischen Wissen\"]],\"hovertemplate\":\"=%{x}\\u003cbr\\u003eAgreement (Krippendorff's alpha)=%{y}\\u003cbr\\u003eindex=%{customdata[0]}\\u003cextra\\u003e\\u003c\\u002fextra\\u003e\",\"legendgroup\":\"\",\"marker\":{\"color\":\"#636efa\"},\"name\":\"\",\"notched\":false,\"offsetgroup\":\"\",\"orientation\":\"v\",\"showlegend\":false,\"x\":[\"SHK1\\u003c\\u003eSHK2\",\"SHK1\\u003c\\u003eSHK2\",\"SHK1\\u003c\\u003eSHK2\",\"SHK1\\u003c\\u003eSHK2\",\"SHK1\\u003c\\u003eSHK2\",\"SHK1\\u003c\\u003eSHK2\",\"SHK1\\u003c\\u003eSHK2\",\"SHK1\\u003c\\u003eSHK2\",\"SHK1\\u003c\\u003eSHK2\",\"SHK1\\u003c\\u003eSHK2\",\"SHK1\\u003c\\u003eSHK2\",\"SHK1\\u003c\\u003eSHK2\",\"SHK1\\u003c\\u003eSHK2\",\"SHK1\\u003c\\u003eSHK2\",\"SHK1\\u003c\\u003eSHK2\",\"SHK1\\u003c\\u003eSHK2\",\"SHK1\\u003c\\u003eSHK2\",\"SHK1\\u003c\\u003eSHK2\",\"SHK1\\u003c\\u003eSHK2\",\"SHK1\\u003c\\u003eSHK2\",\"SHK1\\u003c\\u003eSHK2\",\"SHK1\\u003c\\u003eSHK2\",\"SHK1\\u003c\\u003eSHK2\",\"SHK1\\u003c\\u003eSHK2\",\"SHK1\\u003c\\u003eSHK2\",\"SHK1\\u003c\\u003eSHK2\",\"SHK1\\u003c\\u003eSHK2\",\"SHK1\\u003c\\u003eSHK2\",\"SHK1\\u003c\\u003eSHK2\",\"SHK1\\u003c\\u003eVerfasser\",\"SHK1\\u003c\\u003eVerfasser\",\"SHK1\\u003c\\u003eVerfasser\",\"SHK1\\u003c\\u003eVerfasser\",\"SHK1\\u003c\\u003eVerfasser\",\"SHK1\\u003c\\u003eVerfasser\",\"SHK1\\u003c\\u003eVerfasser\",\"SHK1\\u003c\\u003eVerfasser\",\"SHK1\\u003c\\u003eVerfasser\",\"SHK1\\u003c\\u003eVerfasser\",\"SHK1\\u003c\\u003eVerfasser\",\"SHK1\\u003c\\u003eVerfasser\",\"SHK1\\u003c\\u003eVerfasser\",\"SHK1\\u003c\\u003eVerfasser\",\"SHK1\\u003c\\u003eVerfasser\",\"SHK1\\u003c\\u003eVerfasser\",\"SHK1\\u003c\\u003eVerfasser\",\"SHK1\\u003c\\u003eVerfasser\",\"SHK1\\u003c\\u003eVerfasser\",\"SHK1\\u003c\\u003eVerfasser\",\"SHK1\\u003c\\u003eVerfasser\",\"SHK1\\u003c\\u003eVerfasser\",\"SHK1\\u003c\\u003eVerfasser\",\"SHK1\\u003c\\u003eVerfasser\",\"SHK1\\u003c\\u003eVerfasser\",\"SHK1\\u003c\\u003eVerfasser\",\"SHK1\\u003c\\u003eVerfasser\",\"SHK1\\u003c\\u003eVerfasser\",\"SHK1\\u003c\\u003eVerfasser\",\"SHK2\\u003c\\u003eVerfasser\",\"SHK2\\u003c\\u003eVerfasser\",\"SHK2\\u003c\\u003eVerfasser\",\"SHK2\\u003c\\u003eVerfasser\",\"SHK2\\u003c\\u003eVerfasser\",\"SHK2\\u003c\\u003eVerfasser\",\"SHK2\\u003c\\u003eVerfasser\",\"SHK2\\u003c\\u003eVerfasser\",\"SHK2\\u003c\\u003eVerfasser\",\"SHK2\\u003c\\u003eVerfasser\",\"SHK2\\u003c\\u003eVerfasser\",\"SHK2\\u003c\\u003eVerfasser\",\"SHK2\\u003c\\u003eVerfasser\",\"SHK2\\u003c\\u003eVerfasser\",\"SHK2\\u003c\\u003eVerfasser\",\"SHK2\\u003c\\u003eVerfasser\",\"SHK2\\u003c\\u003eVerfasser\",\"SHK2\\u003c\\u003eVerfasser\",\"SHK2\\u003c\\u003eVerfasser\",\"SHK2\\u003c\\u003eVerfasser\",\"SHK2\\u003c\\u003eVerfasser\",\"SHK2\\u003c\\u003eVerfasser\",\"SHK2\\u003c\\u003eVerfasser\",\"SHK2\\u003c\\u003eVerfasser\",\"SHK2\\u003c\\u003eVerfasser\",\"SHK2\\u003c\\u003eVerfasser\",\"SHK2\\u003c\\u003eVerfasser\",\"SHK2\\u003c\\u003eVerfasser\",\"SHK2\\u003c\\u003eVerfasser\",\"SHK1\\u003c\\u003eSHK2\\u003c\\u003eVerfasser\",\"SHK1\\u003c\\u003eSHK2\\u003c\\u003eVerfasser\",\"SHK1\\u003c\\u003eSHK2\\u003c\\u003eVerfasser\",\"SHK1\\u003c\\u003eSHK2\\u003c\\u003eVerfasser\",\"SHK1\\u003c\\u003eSHK2\\u003c\\u003eVerfasser\",\"SHK1\\u003c\\u003eSHK2\\u003c\\u003eVerfasser\",\"SHK1\\u003c\\u003eSHK2\\u003c\\u003eVerfasser\",\"SHK1\\u003c\\u003eSHK2\\u003c\\u003eVerfasser\",\"SHK1\\u003c\\u003eSHK2\\u003c\\u003eVerfasser\",\"SHK1\\u003c\\u003eSHK2\\u003c\\u003eVerfasser\",\"SHK1\\u003c\\u003eSHK2\\u003c\\u003eVerfasser\",\"SHK1\\u003c\\u003eSHK2\\u003c\\u003eVerfasser\",\"SHK1\\u003c\\u003eSHK2\\u003c\\u003eVerfasser\",\"SHK1\\u003c\\u003eSHK2\\u003c\\u003eVerfasser\",\"SHK1\\u003c\\u003eSHK2\\u003c\\u003eVerfasser\",\"SHK1\\u003c\\u003eSHK2\\u003c\\u003eVerfasser\",\"SHK1\\u003c\\u003eSHK2\\u003c\\u003eVerfasser\",\"SHK1\\u003c\\u003eSHK2\\u003c\\u003eVerfasser\",\"SHK1\\u003c\\u003eSHK2\\u003c\\u003eVerfasser\",\"SHK1\\u003c\\u003eSHK2\\u003c\\u003eVerfasser\",\"SHK1\\u003c\\u003eSHK2\\u003c\\u003eVerfasser\",\"SHK1\\u003c\\u003eSHK2\\u003c\\u003eVerfasser\",\"SHK1\\u003c\\u003eSHK2\\u003c\\u003eVerfasser\",\"SHK1\\u003c\\u003eSHK2\\u003c\\u003eVerfasser\",\"SHK1\\u003c\\u003eSHK2\\u003c\\u003eVerfasser\",\"SHK1\\u003c\\u003eSHK2\\u003c\\u003eVerfasser\",\"SHK1\\u003c\\u003eSHK2\\u003c\\u003eVerfasser\",\"SHK1\\u003c\\u003eSHK2\\u003c\\u003eVerfasser\",\"SHK1\\u003c\\u003eSHK2\\u003c\\u003eVerfasser\"],\"x0\":\" \",\"xaxis\":\"x\",\"y\":[0.6466351732760363,0.9306698002350177,0.5625,0.19161220599070106,0.8332495130157606,0.6948275862068964,0.7033045977011494,0.2677304964539007,0.528,0.9588499127702793,0.9847139885625551,0.85,0.6371787320801962,0.715319662243667,0.45692425564517836,0.39392746867547046,0.06149425287356336,0.3893976316789123,0.3492131008081667,0.7103109656301145,0.5902777777777777,0.8525,0.8291268046616802,0.8017917133258678,0.5278915967658588,0.37031658918495125,0.45269016697588127,0.37122557726465366,0.5100830367734281,0.6986995932809279,0.9306698002350177,0.6666666666666667,0.4808744553011449,0.610915530370108,0.3871576959395657,0.6098794243485026,0.3045186640471512,0.7366071428571428,0.89034731890075,0.8895904571852926,0.85,0.7177367488593338,0.7477135900572964,0.5544100554128937,0.6225399570945602,0.285865537321334,0.6283839055281957,0.40485011788480973,0.764,0.7103109656301145,0.5964432284541724,0.8399527208173321,0.9373007438894793,0.7742625834503422,0.5594995573663833,0.2919999999999999,0.32053742802303253,0.6101321585903083,0.7932928794652241,1.0,0.6890756302521008,0.41752087849821784,0.7766169437485766,0.4093437152391546,0.9366726296958855,0.5779014308426074,0.7977142857142857,0.9820081414793976,0.9537351233725797,1.0,0.610160496256875,0.8080206913813721,0.6688973784745093,0.3796589259439974,0.36484918793503474,0.5830978954824616,0.49610389610389616,0.6716141001855287,0.8714596949891068,0.5964432284541724,0.8399527208173321,0.7400881057268722,0.738920724826869,0.18417001484845852,0.5171849427168577,0.4528593508500772,0.6026936026936026,0.7144873604516875,0.9532563025210083,0.6451612903225807,0.3619594733806145,0.7387906548596685,0.5055555555555555,0.7526160889470243,0.40734398782343983,0.6867772750125691,0.9432147024423048,0.9416130046645986,0.9035087719298246,0.6536596215021295,0.7553372223460256,0.559489175199305,0.46283050898977995,0.27292110874200426,0.5320312743942213,0.3984375,0.7131345688960515,0.7131345688960515,0.6860670194003528,0.8355485416104934,0.827435773145904,0.6778316678315734,0.37395494073800484,0.42626913779210307,0.38431975403535734,0.5740554156171285],\"y0\":\" \",\"yaxis\":\"y\",\"type\":\"box\"}],                        {\"template\":{\"data\":{\"histogram2dcontour\":[{\"type\":\"histogram2dcontour\",\"colorbar\":{\"outlinewidth\":0,\"ticks\":\"\"},\"colorscale\":[[0.0,\"#0d0887\"],[0.1111111111111111,\"#46039f\"],[0.2222222222222222,\"#7201a8\"],[0.3333333333333333,\"#9c179e\"],[0.4444444444444444,\"#bd3786\"],[0.5555555555555556,\"#d8576b\"],[0.6666666666666666,\"#ed7953\"],[0.7777777777777778,\"#fb9f3a\"],[0.8888888888888888,\"#fdca26\"],[1.0,\"#f0f921\"]]}],\"choropleth\":[{\"type\":\"choropleth\",\"colorbar\":{\"outlinewidth\":0,\"ticks\":\"\"}}],\"histogram2d\":[{\"type\":\"histogram2d\",\"colorbar\":{\"outlinewidth\":0,\"ticks\":\"\"},\"colorscale\":[[0.0,\"#0d0887\"],[0.1111111111111111,\"#46039f\"],[0.2222222222222222,\"#7201a8\"],[0.3333333333333333,\"#9c179e\"],[0.4444444444444444,\"#bd3786\"],[0.5555555555555556,\"#d8576b\"],[0.6666666666666666,\"#ed7953\"],[0.7777777777777778,\"#fb9f3a\"],[0.8888888888888888,\"#fdca26\"],[1.0,\"#f0f921\"]]}],\"heatmap\":[{\"type\":\"heatmap\",\"colorbar\":{\"outlinewidth\":0,\"ticks\":\"\"},\"colorscale\":[[0.0,\"#0d0887\"],[0.1111111111111111,\"#46039f\"],[0.2222222222222222,\"#7201a8\"],[0.3333333333333333,\"#9c179e\"],[0.4444444444444444,\"#bd3786\"],[0.5555555555555556,\"#d8576b\"],[0.6666666666666666,\"#ed7953\"],[0.7777777777777778,\"#fb9f3a\"],[0.8888888888888888,\"#fdca26\"],[1.0,\"#f0f921\"]]}],\"heatmapgl\":[{\"type\":\"heatmapgl\",\"colorbar\":{\"outlinewidth\":0,\"ticks\":\"\"},\"colorscale\":[[0.0,\"#0d0887\"],[0.1111111111111111,\"#46039f\"],[0.2222222222222222,\"#7201a8\"],[0.3333333333333333,\"#9c179e\"],[0.4444444444444444,\"#bd3786\"],[0.5555555555555556,\"#d8576b\"],[0.6666666666666666,\"#ed7953\"],[0.7777777777777778,\"#fb9f3a\"],[0.8888888888888888,\"#fdca26\"],[1.0,\"#f0f921\"]]}],\"contourcarpet\":[{\"type\":\"contourcarpet\",\"colorbar\":{\"outlinewidth\":0,\"ticks\":\"\"}}],\"contour\":[{\"type\":\"contour\",\"colorbar\":{\"outlinewidth\":0,\"ticks\":\"\"},\"colorscale\":[[0.0,\"#0d0887\"],[0.1111111111111111,\"#46039f\"],[0.2222222222222222,\"#7201a8\"],[0.3333333333333333,\"#9c179e\"],[0.4444444444444444,\"#bd3786\"],[0.5555555555555556,\"#d8576b\"],[0.6666666666666666,\"#ed7953\"],[0.7777777777777778,\"#fb9f3a\"],[0.8888888888888888,\"#fdca26\"],[1.0,\"#f0f921\"]]}],\"surface\":[{\"type\":\"surface\",\"colorbar\":{\"outlinewidth\":0,\"ticks\":\"\"},\"colorscale\":[[0.0,\"#0d0887\"],[0.1111111111111111,\"#46039f\"],[0.2222222222222222,\"#7201a8\"],[0.3333333333333333,\"#9c179e\"],[0.4444444444444444,\"#bd3786\"],[0.5555555555555556,\"#d8576b\"],[0.6666666666666666,\"#ed7953\"],[0.7777777777777778,\"#fb9f3a\"],[0.8888888888888888,\"#fdca26\"],[1.0,\"#f0f921\"]]}],\"mesh3d\":[{\"type\":\"mesh3d\",\"colorbar\":{\"outlinewidth\":0,\"ticks\":\"\"}}],\"scatter\":[{\"fillpattern\":{\"fillmode\":\"overlay\",\"size\":10,\"solidity\":0.2},\"type\":\"scatter\"}],\"parcoords\":[{\"type\":\"parcoords\",\"line\":{\"colorbar\":{\"outlinewidth\":0,\"ticks\":\"\"}}}],\"scatterpolargl\":[{\"type\":\"scatterpolargl\",\"marker\":{\"colorbar\":{\"outlinewidth\":0,\"ticks\":\"\"}}}],\"bar\":[{\"error_x\":{\"color\":\"#2a3f5f\"},\"error_y\":{\"color\":\"#2a3f5f\"},\"marker\":{\"line\":{\"color\":\"#E5ECF6\",\"width\":0.5},\"pattern\":{\"fillmode\":\"overlay\",\"size\":10,\"solidity\":0.2}},\"type\":\"bar\"}],\"scattergeo\":[{\"type\":\"scattergeo\",\"marker\":{\"colorbar\":{\"outlinewidth\":0,\"ticks\":\"\"}}}],\"scatterpolar\":[{\"type\":\"scatterpolar\",\"marker\":{\"colorbar\":{\"outlinewidth\":0,\"ticks\":\"\"}}}],\"histogram\":[{\"marker\":{\"pattern\":{\"fillmode\":\"overlay\",\"size\":10,\"solidity\":0.2}},\"type\":\"histogram\"}],\"scattergl\":[{\"type\":\"scattergl\",\"marker\":{\"colorbar\":{\"outlinewidth\":0,\"ticks\":\"\"}}}],\"scatter3d\":[{\"type\":\"scatter3d\",\"line\":{\"colorbar\":{\"outlinewidth\":0,\"ticks\":\"\"}},\"marker\":{\"colorbar\":{\"outlinewidth\":0,\"ticks\":\"\"}}}],\"scattermapbox\":[{\"type\":\"scattermapbox\",\"marker\":{\"colorbar\":{\"outlinewidth\":0,\"ticks\":\"\"}}}],\"scatterternary\":[{\"type\":\"scatterternary\",\"marker\":{\"colorbar\":{\"outlinewidth\":0,\"ticks\":\"\"}}}],\"scattercarpet\":[{\"type\":\"scattercarpet\",\"marker\":{\"colorbar\":{\"outlinewidth\":0,\"ticks\":\"\"}}}],\"carpet\":[{\"aaxis\":{\"endlinecolor\":\"#2a3f5f\",\"gridcolor\":\"white\",\"linecolor\":\"white\",\"minorgridcolor\":\"white\",\"startlinecolor\":\"#2a3f5f\"},\"baxis\":{\"endlinecolor\":\"#2a3f5f\",\"gridcolor\":\"white\",\"linecolor\":\"white\",\"minorgridcolor\":\"white\",\"startlinecolor\":\"#2a3f5f\"},\"type\":\"carpet\"}],\"table\":[{\"cells\":{\"fill\":{\"color\":\"#EBF0F8\"},\"line\":{\"color\":\"white\"}},\"header\":{\"fill\":{\"color\":\"#C8D4E3\"},\"line\":{\"color\":\"white\"}},\"type\":\"table\"}],\"barpolar\":[{\"marker\":{\"line\":{\"color\":\"#E5ECF6\",\"width\":0.5},\"pattern\":{\"fillmode\":\"overlay\",\"size\":10,\"solidity\":0.2}},\"type\":\"barpolar\"}],\"pie\":[{\"automargin\":true,\"type\":\"pie\"}]},\"layout\":{\"autotypenumbers\":\"strict\",\"colorway\":[\"#636efa\",\"#EF553B\",\"#00cc96\",\"#ab63fa\",\"#FFA15A\",\"#19d3f3\",\"#FF6692\",\"#B6E880\",\"#FF97FF\",\"#FECB52\"],\"font\":{\"color\":\"#2a3f5f\"},\"hovermode\":\"closest\",\"hoverlabel\":{\"align\":\"left\"},\"paper_bgcolor\":\"white\",\"plot_bgcolor\":\"#E5ECF6\",\"polar\":{\"bgcolor\":\"#E5ECF6\",\"angularaxis\":{\"gridcolor\":\"white\",\"linecolor\":\"white\",\"ticks\":\"\"},\"radialaxis\":{\"gridcolor\":\"white\",\"linecolor\":\"white\",\"ticks\":\"\"}},\"ternary\":{\"bgcolor\":\"#E5ECF6\",\"aaxis\":{\"gridcolor\":\"white\",\"linecolor\":\"white\",\"ticks\":\"\"},\"baxis\":{\"gridcolor\":\"white\",\"linecolor\":\"white\",\"ticks\":\"\"},\"caxis\":{\"gridcolor\":\"white\",\"linecolor\":\"white\",\"ticks\":\"\"}},\"coloraxis\":{\"colorbar\":{\"outlinewidth\":0,\"ticks\":\"\"}},\"colorscale\":{\"sequential\":[[0.0,\"#0d0887\"],[0.1111111111111111,\"#46039f\"],[0.2222222222222222,\"#7201a8\"],[0.3333333333333333,\"#9c179e\"],[0.4444444444444444,\"#bd3786\"],[0.5555555555555556,\"#d8576b\"],[0.6666666666666666,\"#ed7953\"],[0.7777777777777778,\"#fb9f3a\"],[0.8888888888888888,\"#fdca26\"],[1.0,\"#f0f921\"]],\"sequentialminus\":[[0.0,\"#0d0887\"],[0.1111111111111111,\"#46039f\"],[0.2222222222222222,\"#7201a8\"],[0.3333333333333333,\"#9c179e\"],[0.4444444444444444,\"#bd3786\"],[0.5555555555555556,\"#d8576b\"],[0.6666666666666666,\"#ed7953\"],[0.7777777777777778,\"#fb9f3a\"],[0.8888888888888888,\"#fdca26\"],[1.0,\"#f0f921\"]],\"diverging\":[[0,\"#8e0152\"],[0.1,\"#c51b7d\"],[0.2,\"#de77ae\"],[0.3,\"#f1b6da\"],[0.4,\"#fde0ef\"],[0.5,\"#f7f7f7\"],[0.6,\"#e6f5d0\"],[0.7,\"#b8e186\"],[0.8,\"#7fbc41\"],[0.9,\"#4d9221\"],[1,\"#276419\"]]},\"xaxis\":{\"gridcolor\":\"white\",\"linecolor\":\"white\",\"ticks\":\"\",\"title\":{\"standoff\":15},\"zerolinecolor\":\"white\",\"automargin\":true,\"zerolinewidth\":2},\"yaxis\":{\"gridcolor\":\"white\",\"linecolor\":\"white\",\"ticks\":\"\",\"title\":{\"standoff\":15},\"zerolinecolor\":\"white\",\"automargin\":true,\"zerolinewidth\":2},\"scene\":{\"xaxis\":{\"backgroundcolor\":\"#E5ECF6\",\"gridcolor\":\"white\",\"linecolor\":\"white\",\"showbackground\":true,\"ticks\":\"\",\"zerolinecolor\":\"white\",\"gridwidth\":2},\"yaxis\":{\"backgroundcolor\":\"#E5ECF6\",\"gridcolor\":\"white\",\"linecolor\":\"white\",\"showbackground\":true,\"ticks\":\"\",\"zerolinecolor\":\"white\",\"gridwidth\":2},\"zaxis\":{\"backgroundcolor\":\"#E5ECF6\",\"gridcolor\":\"white\",\"linecolor\":\"white\",\"showbackground\":true,\"ticks\":\"\",\"zerolinecolor\":\"white\",\"gridwidth\":2}},\"shapedefaults\":{\"line\":{\"color\":\"#2a3f5f\"}},\"annotationdefaults\":{\"arrowcolor\":\"#2a3f5f\",\"arrowhead\":0,\"arrowwidth\":1},\"geo\":{\"bgcolor\":\"white\",\"landcolor\":\"#E5ECF6\",\"subunitcolor\":\"white\",\"showland\":true,\"showlakes\":true,\"lakecolor\":\"white\"},\"title\":{\"x\":0.05},\"mapbox\":{\"style\":\"light\"}}},\"xaxis\":{\"anchor\":\"y\",\"domain\":[0.0,1.0],\"title\":{\"text\":\"\",\"font\":{\"size\":16}},\"tickfont\":{\"size\":16}},\"yaxis\":{\"anchor\":\"x\",\"domain\":[0.0,1.0],\"title\":{\"text\":\"Agreement (Krippendorff's alpha)\",\"font\":{\"size\":16}},\"tickfont\":{\"size\":16}},\"legend\":{\"tracegroupgap\":0},\"margin\":{\"t\":60},\"boxmode\":\"group\",\"width\":1000,\"height\":500},                        {\"responsive\": true}                    ).then(function(){\n",
       "                            \n",
       "var gd = document.getElementById('2183537d-73c9-4102-92a6-b7fe9c4b77e3');\n",
       "var x = new MutationObserver(function (mutations, observer) {{\n",
       "        var display = window.getComputedStyle(gd).display;\n",
       "        if (!display || display === 'none') {{\n",
       "            console.log([gd, 'removed!']);\n",
       "            Plotly.purge(gd);\n",
       "            observer.disconnect();\n",
       "        }}\n",
       "}});\n",
       "\n",
       "// Listen for the removal of the full notebook cells\n",
       "var notebookContainer = gd.closest('#notebook-container');\n",
       "if (notebookContainer) {{\n",
       "    x.observe(notebookContainer, {childList: true});\n",
       "}}\n",
       "\n",
       "// Listen for the clearing of the current output cell\n",
       "var outputEl = gd.closest('.output');\n",
       "if (outputEl) {{\n",
       "    x.observe(outputEl, {childList: true});\n",
       "}}\n",
       "\n",
       "                        })                };                });            </script>        </div>"
      ]
     },
     "metadata": {},
     "output_type": "display_data"
    }
   ],
   "source": [
    "meta_plot = iaa_overview.drop(exclude_categories).copy()\n",
    "\n",
    "meta_plot = meta_plot.rename(columns={\n",
    "    'ak_ek' : 'SHK1<>SHK2',\n",
    "    'ak_mk' : 'SHK1<>Verfasser',\n",
    "    'ek_mk' : 'SHK2<>Verfasser',\n",
    "    'ak_ek_mk' : 'SHK1<>SHK2<>Verfasser'\n",
    "})\n",
    "\n",
    "fig = px.box(\n",
    "    meta_plot,\n",
    "    y = ['SHK1<>SHK2', 'SHK1<>Verfasser', 'SHK2<>Verfasser', 'SHK1<>SHK2<>Verfasser'],\n",
    "    points = 'all',\n",
    "    hover_data = [meta_plot.index],\n",
    "    labels = {\n",
    "        'value': \"Agreement (Krippendorff's alpha)\",\n",
    "        'variable' : '',\n",
    "    }\n",
    ")\n",
    "\n",
    "fig.update_layout(\n",
    "    width = 1000, height = 500,\n",
    "    xaxis=dict(tickfont=dict(size=16), titlefont=dict(size=16)),\n",
    "    yaxis=dict(tickfont=dict(size=16), titlefont=dict(size=16)),\n",
    ")\n",
    "fig.show()"
   ]
  }
 ],
 "metadata": {
  "kernelspec": {
   "display_name": "Python 3 (ipykernel)",
   "language": "python",
   "name": "python3"
  },
  "language_info": {
   "codemirror_mode": {
    "name": "ipython",
    "version": 3
   },
   "file_extension": ".py",
   "mimetype": "text/x-python",
   "name": "python",
   "nbconvert_exporter": "python",
   "pygments_lexer": "ipython3",
   "version": "3.12.3"
  }
 },
 "nbformat": 4,
 "nbformat_minor": 5
}
