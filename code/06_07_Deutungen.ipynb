{
 "cells": [
  {
   "cell_type": "markdown",
   "id": "0be523ea",
   "metadata": {},
   "source": [
    "# Kapitel 6.7: Deutungen"
   ]
  },
  {
   "cell_type": "markdown",
   "id": "c7017702",
   "metadata": {},
   "source": [
    "Das Notebook ergänzt Kapitel 6.7 'Deutungen'."
   ]
  },
  {
   "cell_type": "markdown",
   "id": "2cbc902e",
   "metadata": {},
   "source": [
    "# Import"
   ]
  },
  {
   "cell_type": "code",
   "execution_count": 1,
   "id": "56d9863e",
   "metadata": {},
   "outputs": [],
   "source": [
    "import pandas as pd\n",
    "import numpy as np\n",
    "from itertools import combinations\n",
    "\n",
    "from resources_statistics import *\n",
    "from resources_geschichtslyrik import *\n",
    "\n",
    "import plotly.express as px\n",
    "import plotly.graph_objects as go\n",
    "from plotly.validators.scatter.marker import SymbolValidator\n",
    "\n",
    "from tqdm.notebook import tqdm"
   ]
  },
  {
   "cell_type": "code",
   "execution_count": 2,
   "id": "07cfc172",
   "metadata": {},
   "outputs": [],
   "source": [
    "meta = pd.read_json(r\"../resources/meta.json\")"
   ]
  },
  {
   "cell_type": "markdown",
   "id": "564f551b",
   "metadata": {},
   "source": [
    "# Korpora"
   ]
  },
  {
   "cell_type": "markdown",
   "id": "bc05e397",
   "metadata": {},
   "source": [
    "### Korpora erstellen"
   ]
  },
  {
   "cell_type": "code",
   "execution_count": 3,
   "id": "85ffd96d",
   "metadata": {},
   "outputs": [],
   "source": [
    "meta_anth = (\n",
    "    meta\n",
    "    .query(\"corpus=='anth'\")\n",
    "    .query(\"1850 <= year <= 1918\")\n",
    "    .query(\"geschichtslyrik == 1\")\n",
    "    .drop_duplicates(subset='author_title')\n",
    ")\n",
    "meta_anth_bin = binarize_meta(meta_anth)"
   ]
  },
  {
   "cell_type": "code",
   "execution_count": 4,
   "id": "edfd4794",
   "metadata": {},
   "outputs": [],
   "source": [
    "modcanon_authors = ['Hofmannsthal, Hugo von', 'Rilke, Rainer Maria', 'George, Stefan', 'Heym, Georg']\n",
    "\n",
    "meta_modcanon = (\n",
    "    meta\n",
    "    .query(\"author in @modcanon_authors\")\n",
    "    .query(\"1850 <= year <= 1918\")\n",
    "    .query(\"geschichtslyrik == 1\")\n",
    "    .drop_duplicates(subset='author_title')\n",
    ")"
   ]
  },
  {
   "cell_type": "code",
   "execution_count": 5,
   "id": "268246ac",
   "metadata": {},
   "outputs": [],
   "source": [
    "muench_authors = ['Münchhausen, Börries von', 'Miegel, Agnes', 'Strauß und Torney, Lulu von']\n",
    "\n",
    "meta_muench = (\n",
    "    meta\n",
    "    .query(\"author in @muench_authors\")\n",
    "    .query(\"1850 <= year <= 1918\")\n",
    "    .query(\"geschichtslyrik == 1\")\n",
    "    .drop_duplicates(subset='author_title')\n",
    ")"
   ]
  },
  {
   "cell_type": "code",
   "execution_count": 6,
   "id": "e63d9818",
   "metadata": {},
   "outputs": [],
   "source": [
    "sub_df = pd.DataFrame()\n",
    "sub_names = ['Anthologien', 'Kanonisierte Moderne', 'Münchhausen-Kreis']\n",
    "sub_metas = [meta_anth, meta_modcanon, meta_muench]"
   ]
  },
  {
   "cell_type": "markdown",
   "id": "127416cf",
   "metadata": {},
   "source": [
    "### Merkmale berechnen"
   ]
  },
  {
   "cell_type": "code",
   "execution_count": 7,
   "id": "a3011757",
   "metadata": {},
   "outputs": [],
   "source": [
    "for this_name, this_meta in zip(sub_names, sub_metas):\n",
    "    sub_df.loc[this_name, 'Jahr'] = round(this_meta['year'].mean(), 0)\n",
    "    sub_df.loc[this_name, 'Texte'] = this_meta.shape[0]\n",
    "\n",
    "    sub_df.loc[this_name, 'heroismus'] = this_meta.query(\"heroismus == 1\").shape[0]/this_meta.shape[0]\n",
    "    sub_df.loc[this_name, 'nationalismus'] = this_meta.query(\"nationalismus == 1\").shape[0]/this_meta.shape[0]\n",
    "    sub_df.loc[this_name, 'religiositaet'] = this_meta.query(\"religiositaet == 1\").shape[0]/this_meta.shape[0]\n",
    "    sub_df.loc[this_name, 'deutungen_per_text'] = (\n",
    "        (this_meta.query(\"heroismus == 1\").shape[0] +\n",
    "        this_meta.query(\"nationalismus == 1\").shape[0] +\n",
    "        this_meta.query(\"religiositaet == 1\").shape[0])\n",
    "        /this_meta.shape[0]\n",
    "    )"
   ]
  },
  {
   "cell_type": "code",
   "execution_count": 8,
   "id": "6a5aa50a",
   "metadata": {},
   "outputs": [
    {
     "data": {
      "text/html": [
       "<div>\n",
       "<style scoped>\n",
       "    .dataframe tbody tr th:only-of-type {\n",
       "        vertical-align: middle;\n",
       "    }\n",
       "\n",
       "    .dataframe tbody tr th {\n",
       "        vertical-align: top;\n",
       "    }\n",
       "\n",
       "    .dataframe thead th {\n",
       "        text-align: right;\n",
       "    }\n",
       "</style>\n",
       "<table border=\"1\" class=\"dataframe\">\n",
       "  <thead>\n",
       "    <tr style=\"text-align: right;\">\n",
       "      <th></th>\n",
       "      <th>Jahr</th>\n",
       "      <th>Texte</th>\n",
       "      <th>heroismus</th>\n",
       "      <th>nationalismus</th>\n",
       "      <th>religiositaet</th>\n",
       "      <th>deutungen_per_text</th>\n",
       "    </tr>\n",
       "  </thead>\n",
       "  <tbody>\n",
       "    <tr>\n",
       "      <th>Anthologien</th>\n",
       "      <td>1875.0</td>\n",
       "      <td>1850.0</td>\n",
       "      <td>0.28</td>\n",
       "      <td>0.14</td>\n",
       "      <td>0.17</td>\n",
       "      <td>0.59</td>\n",
       "    </tr>\n",
       "    <tr>\n",
       "      <th>Kanonisierte Moderne</th>\n",
       "      <td>1903.0</td>\n",
       "      <td>113.0</td>\n",
       "      <td>0.09</td>\n",
       "      <td>0.00</td>\n",
       "      <td>0.04</td>\n",
       "      <td>0.13</td>\n",
       "    </tr>\n",
       "    <tr>\n",
       "      <th>Münchhausen-Kreis</th>\n",
       "      <td>1905.0</td>\n",
       "      <td>140.0</td>\n",
       "      <td>0.06</td>\n",
       "      <td>0.01</td>\n",
       "      <td>0.04</td>\n",
       "      <td>0.12</td>\n",
       "    </tr>\n",
       "  </tbody>\n",
       "</table>\n",
       "</div>"
      ],
      "text/plain": [
       "                        Jahr   Texte  heroismus  nationalismus  religiositaet  \\\n",
       "Anthologien           1875.0  1850.0       0.28           0.14           0.17   \n",
       "Kanonisierte Moderne  1903.0   113.0       0.09           0.00           0.04   \n",
       "Münchhausen-Kreis     1905.0   140.0       0.06           0.01           0.04   \n",
       "\n",
       "                      deutungen_per_text  \n",
       "Anthologien                         0.59  \n",
       "Kanonisierte Moderne                0.13  \n",
       "Münchhausen-Kreis                   0.12  "
      ]
     },
     "execution_count": 8,
     "metadata": {},
     "output_type": "execute_result"
    }
   ],
   "source": [
    "round(sub_df, 2)"
   ]
  },
  {
   "cell_type": "markdown",
   "id": "35f06e3c",
   "metadata": {},
   "source": [
    "# Zeitverlauf"
   ]
  },
  {
   "cell_type": "code",
   "execution_count": 9,
   "id": "ce081ce8",
   "metadata": {},
   "outputs": [],
   "source": [
    "ts = pd.DataFrame()\n",
    "ts.index = pd.Series(range(1850, 1919), name = 'year')"
   ]
  },
  {
   "cell_type": "code",
   "execution_count": 10,
   "id": "6575f253",
   "metadata": {},
   "outputs": [],
   "source": [
    "ts['text_count'] = meta_anth.groupby('year').size()\n",
    "ts['text_count'] = ts['text_count'].fillna(0)\n",
    "ts['text_sum'] = smooth(ts['text_count'], mode = 'sum')"
   ]
  },
  {
   "cell_type": "code",
   "execution_count": 11,
   "id": "9baa843e",
   "metadata": {},
   "outputs": [],
   "source": [
    "ts['heroismus_count'] = [meta_anth.query(\"year == @x and heroismus == 1\").shape[0] for x in ts.index]\n",
    "ts['heroismus_sum'] = smooth(ts['heroismus_count'], mode = 'sum')\n",
    "ts['heroismus_share_smoothed'] = ts['heroismus_sum']/ts['text_sum']\n",
    "\n",
    "ts['nationalismus_count'] = [meta_anth.query(\"year == @x and nationalismus == 1\").shape[0] for x in ts.index]\n",
    "ts['nationalismus_sum'] = smooth(ts['nationalismus_count'], mode = 'sum')\n",
    "ts['nationalismus_share_smoothed'] = ts['nationalismus_sum']/ts['text_sum']\n",
    "\n",
    "ts['religiositaet_count'] = [meta_anth.query(\"year == @x and religiositaet == 1\").shape[0] for x in ts.index]\n",
    "ts['religiositaet_sum'] = smooth(ts['religiositaet_count'], mode = 'sum')\n",
    "ts['religiositaet_share_smoothed'] = ts['religiositaet_sum']/ts['text_sum']\n",
    "\n",
    "ts['deutungen_count'] = ts['heroismus_count'] + ts['nationalismus_count'] + ts['religiositaet_count']\n",
    "ts['deutungen_sum'] = smooth(ts['deutungen_count'], mode = 'sum')\n",
    "ts['deutungen_per_text_smoothed'] = ts['deutungen_sum']/ts['text_sum']"
   ]
  },
  {
   "cell_type": "markdown",
   "id": "640464d9",
   "metadata": {},
   "source": [
    "# Überblick"
   ]
  },
  {
   "cell_type": "code",
   "execution_count": 61,
   "id": "7bf308a1",
   "metadata": {},
   "outputs": [
    {
     "data": {
      "application/vnd.plotly.v1+json": {
       "config": {
        "plotlyServerURL": "https://plot.ly"
       },
       "data": [
        {
         "line": {
          "color": "#636EFA",
          "width": 6
         },
         "mode": "lines",
         "name": "Heroismus",
         "type": "scatter",
         "x": [
          1850,
          1851,
          1852,
          1853,
          1854,
          1855,
          1856,
          1857,
          1858,
          1859,
          1860,
          1861,
          1862,
          1863,
          1864,
          1865,
          1866,
          1867,
          1868,
          1869,
          1870,
          1871,
          1872,
          1873,
          1874,
          1875,
          1876,
          1877,
          1878,
          1879,
          1880,
          1881,
          1882,
          1883,
          1884,
          1885,
          1886,
          1887,
          1888,
          1889,
          1890,
          1891,
          1892,
          1893,
          1894,
          1895,
          1896,
          1897,
          1898,
          1899,
          1900,
          1901,
          1902,
          1903,
          1904,
          1905,
          1906,
          1907,
          1908,
          1909,
          1910,
          1911,
          1912,
          1913,
          1914,
          1915,
          1916,
          1917,
          1918
         ],
         "y": [
          null,
          null,
          null,
          null,
          null,
          0.29584559583510306,
          0.300904261827791,
          0.305197511440864,
          0.31316885653882204,
          0.319448596947748,
          0.3255556033414318,
          0.33009874632441005,
          0.32091951564712956,
          0.3229763001060137,
          0.3012422433135807,
          0.31360640865354156,
          0.3258398425492533,
          0.3167999765209023,
          0.31229560208766854,
          0.30947555548167743,
          0.31396268065409877,
          0.3057229623333417,
          0.31346054699629383,
          0.31893945109481875,
          0.3176753577290473,
          0.32511225623894313,
          0.3090653884379488,
          0.2934718340744584,
          0.30020031741028286,
          0.29965138259525326,
          0.2960721496094401,
          0.293376448897653,
          0.2921988448917323,
          0.27664023333369486,
          0.2676940822837399,
          0.23969272231280941,
          0.23938195895385792,
          0.23891486861695566,
          0.24191058321049969,
          0.23876327870837766,
          0.23756723191770387,
          0.23446933540039908,
          0.24954947665948943,
          0.2577846131052054,
          0.2511383346207008,
          0.25150352439374435,
          0.2568967736894844,
          0.2570193346974575,
          0.25278560316445875,
          0.24211889017389956,
          0.24816865039245573,
          0.2270552663097875,
          0.22770152858024467,
          0.2188094909376215,
          0.2175158464352035,
          0.22784196944488452,
          0.2214230682563786,
          0.23310730201392324,
          0.22131272619991282,
          0.20532845002807254,
          0.20710149012284018,
          0.1841674471018372,
          0.1897582155459321,
          0.1835930158678442,
          null,
          null,
          null,
          null,
          null
         ]
        },
        {
         "line": {
          "color": "#EF553B",
          "width": 6
         },
         "mode": "lines",
         "name": "Nationalismus",
         "type": "scatter",
         "x": [
          1850,
          1851,
          1852,
          1853,
          1854,
          1855,
          1856,
          1857,
          1858,
          1859,
          1860,
          1861,
          1862,
          1863,
          1864,
          1865,
          1866,
          1867,
          1868,
          1869,
          1870,
          1871,
          1872,
          1873,
          1874,
          1875,
          1876,
          1877,
          1878,
          1879,
          1880,
          1881,
          1882,
          1883,
          1884,
          1885,
          1886,
          1887,
          1888,
          1889,
          1890,
          1891,
          1892,
          1893,
          1894,
          1895,
          1896,
          1897,
          1898,
          1899,
          1900,
          1901,
          1902,
          1903,
          1904,
          1905,
          1906,
          1907,
          1908,
          1909,
          1910,
          1911,
          1912,
          1913,
          1914,
          1915,
          1916,
          1917,
          1918
         ],
         "y": [
          null,
          null,
          null,
          null,
          null,
          0.07615188241993544,
          0.07501973971230284,
          0.07256103781343241,
          0.07711307568166557,
          0.0839563536429588,
          0.08959264029499643,
          0.09716908334696092,
          0.09713856796779889,
          0.0891709335921098,
          0.08379088374289125,
          0.13470577343800316,
          0.1673366374293929,
          0.1752383102471046,
          0.1905155244505025,
          0.198025493819869,
          0.2221618547829669,
          0.23348082962734854,
          0.2429804158314451,
          0.2551794376663671,
          0.2326282668513024,
          0.2459385746670846,
          0.1770854508686927,
          0.1371243023923517,
          0.13753759144577765,
          0.1368582159115041,
          0.13848048860168716,
          0.12572085466637242,
          0.1221592800575184,
          0.12529196943876783,
          0.1190104871376128,
          0.12521325196121078,
          0.12602297978433183,
          0.1448894057460737,
          0.1498202340531223,
          0.1495847743221405,
          0.14239927459379284,
          0.13893028293851475,
          0.15665783935301153,
          0.16224174186280121,
          0.15383071739474374,
          0.17175809517705865,
          0.18533592132905097,
          0.19605717622374305,
          0.19441782140858063,
          0.20232312019224316,
          0.18340228667054914,
          0.17078244525121614,
          0.15889620941099344,
          0.12355910660931471,
          0.10789598144207001,
          0.10137101937324125,
          0.0976894347982418,
          0.07661875664891853,
          0.058875684376998264,
          0.08258736685358344,
          0.08763825169365756,
          0.101805144208563,
          0.10720285585477893,
          0.13103171874987513,
          null,
          null,
          null,
          null,
          null
         ]
        },
        {
         "line": {
          "color": "#00CC96",
          "width": 6
         },
         "mode": "lines",
         "name": "Religiosität",
         "type": "scatter",
         "x": [
          1850,
          1851,
          1852,
          1853,
          1854,
          1855,
          1856,
          1857,
          1858,
          1859,
          1860,
          1861,
          1862,
          1863,
          1864,
          1865,
          1866,
          1867,
          1868,
          1869,
          1870,
          1871,
          1872,
          1873,
          1874,
          1875,
          1876,
          1877,
          1878,
          1879,
          1880,
          1881,
          1882,
          1883,
          1884,
          1885,
          1886,
          1887,
          1888,
          1889,
          1890,
          1891,
          1892,
          1893,
          1894,
          1895,
          1896,
          1897,
          1898,
          1899,
          1900,
          1901,
          1902,
          1903,
          1904,
          1905,
          1906,
          1907,
          1908,
          1909,
          1910,
          1911,
          1912,
          1913,
          1914,
          1915,
          1916,
          1917,
          1918
         ],
         "y": [
          null,
          null,
          null,
          null,
          null,
          0.20705082186702412,
          0.20543772973606864,
          0.20104369570479436,
          0.20088844953354063,
          0.19323035830976598,
          0.1900722098893978,
          0.1910333593969731,
          0.19154554764268195,
          0.17691614591116922,
          0.16358394866763598,
          0.16031152946075583,
          0.1610770260477458,
          0.15716231300247477,
          0.16207822317715667,
          0.15991307623143233,
          0.16339121893763353,
          0.16421349178923517,
          0.1673236079199177,
          0.16574185989029386,
          0.18773136395171144,
          0.1944579105991219,
          0.1797806711317684,
          0.18423072759748216,
          0.18321010161100712,
          0.17936509021050423,
          0.18342748233820438,
          0.18326840530392247,
          0.18775711332229175,
          0.18433672161462739,
          0.1781443242842887,
          0.15676573212000022,
          0.1563796723662811,
          0.16581649622308198,
          0.15756723852934765,
          0.16355606749043974,
          0.15712762531030408,
          0.14172884871040742,
          0.14736607848917777,
          0.14922398666455708,
          0.1370870426035672,
          0.15011110974781416,
          0.15477661874746224,
          0.15729039835376918,
          0.16180575716415677,
          0.15581193521618522,
          0.13987475651513942,
          0.1496512973537924,
          0.1516182896455791,
          0.1266277851807024,
          0.11477232135267877,
          0.11234293729170712,
          0.10756300464657492,
          0.09571549051004644,
          0.08908253478159156,
          0.09642666798895741,
          0.0951434034830712,
          0.09666598058383935,
          0.08808801006797864,
          0.10209937235350235,
          null,
          null,
          null,
          null,
          null
         ]
        },
        {
         "marker": {
          "color": [
           "#636EFA",
           "#EF553B",
           "#00CC96",
           "#AB63FA",
           "#FFA15A",
           "#19D3F3"
          ],
          "size": 14,
          "symbol": "circle"
         },
         "mode": "markers",
         "name": "Kanonisierte Moderne",
         "showlegend": false,
         "type": "scatter",
         "x": [
          1903,
          1903,
          1903,
          1903
         ],
         "y": [
          0.08849557522123894,
          0,
          0.04424778761061947
         ]
        },
        {
         "marker": {
          "color": "black",
          "size": 14,
          "symbol": "circle"
         },
         "mode": "markers",
         "name": "Kanonisierte Moderne",
         "type": "scatter",
         "x": [
          null
         ],
         "y": [
          null
         ]
        },
        {
         "marker": {
          "color": [
           "#636EFA",
           "#EF553B",
           "#00CC96",
           "#AB63FA",
           "#FFA15A",
           "#19D3F3"
          ],
          "size": 14,
          "symbol": "square"
         },
         "mode": "markers",
         "name": "Münchhausen-Kreis",
         "showlegend": false,
         "type": "scatter",
         "x": [
          1905,
          1905,
          1905,
          1905
         ],
         "y": [
          0.06428571428571428,
          0.014285714285714285,
          0.04285714285714286
         ]
        },
        {
         "marker": {
          "color": "black",
          "size": 14,
          "symbol": "square"
         },
         "mode": "markers",
         "name": "Münchhausen-Kreis",
         "type": "scatter",
         "x": [
          null
         ],
         "y": [
          null
         ]
        }
       ],
       "layout": {
        "font": {
         "color": "black"
        },
        "height": 500,
        "legend": {
         "bordercolor": "black",
         "borderwidth": 1,
         "font": {
          "size": 16
         },
         "traceorder": "normal"
        },
        "paper_bgcolor": "white",
        "plot_bgcolor": "white",
        "template": {
         "data": {
          "bar": [
           {
            "error_x": {
             "color": "#2a3f5f"
            },
            "error_y": {
             "color": "#2a3f5f"
            },
            "marker": {
             "line": {
              "color": "#E5ECF6",
              "width": 0.5
             },
             "pattern": {
              "fillmode": "overlay",
              "size": 10,
              "solidity": 0.2
             }
            },
            "type": "bar"
           }
          ],
          "barpolar": [
           {
            "marker": {
             "line": {
              "color": "#E5ECF6",
              "width": 0.5
             },
             "pattern": {
              "fillmode": "overlay",
              "size": 10,
              "solidity": 0.2
             }
            },
            "type": "barpolar"
           }
          ],
          "carpet": [
           {
            "aaxis": {
             "endlinecolor": "#2a3f5f",
             "gridcolor": "white",
             "linecolor": "white",
             "minorgridcolor": "white",
             "startlinecolor": "#2a3f5f"
            },
            "baxis": {
             "endlinecolor": "#2a3f5f",
             "gridcolor": "white",
             "linecolor": "white",
             "minorgridcolor": "white",
             "startlinecolor": "#2a3f5f"
            },
            "type": "carpet"
           }
          ],
          "choropleth": [
           {
            "colorbar": {
             "outlinewidth": 0,
             "ticks": ""
            },
            "type": "choropleth"
           }
          ],
          "contour": [
           {
            "colorbar": {
             "outlinewidth": 0,
             "ticks": ""
            },
            "colorscale": [
             [
              0,
              "#0d0887"
             ],
             [
              0.1111111111111111,
              "#46039f"
             ],
             [
              0.2222222222222222,
              "#7201a8"
             ],
             [
              0.3333333333333333,
              "#9c179e"
             ],
             [
              0.4444444444444444,
              "#bd3786"
             ],
             [
              0.5555555555555556,
              "#d8576b"
             ],
             [
              0.6666666666666666,
              "#ed7953"
             ],
             [
              0.7777777777777778,
              "#fb9f3a"
             ],
             [
              0.8888888888888888,
              "#fdca26"
             ],
             [
              1,
              "#f0f921"
             ]
            ],
            "type": "contour"
           }
          ],
          "contourcarpet": [
           {
            "colorbar": {
             "outlinewidth": 0,
             "ticks": ""
            },
            "type": "contourcarpet"
           }
          ],
          "heatmap": [
           {
            "colorbar": {
             "outlinewidth": 0,
             "ticks": ""
            },
            "colorscale": [
             [
              0,
              "#0d0887"
             ],
             [
              0.1111111111111111,
              "#46039f"
             ],
             [
              0.2222222222222222,
              "#7201a8"
             ],
             [
              0.3333333333333333,
              "#9c179e"
             ],
             [
              0.4444444444444444,
              "#bd3786"
             ],
             [
              0.5555555555555556,
              "#d8576b"
             ],
             [
              0.6666666666666666,
              "#ed7953"
             ],
             [
              0.7777777777777778,
              "#fb9f3a"
             ],
             [
              0.8888888888888888,
              "#fdca26"
             ],
             [
              1,
              "#f0f921"
             ]
            ],
            "type": "heatmap"
           }
          ],
          "heatmapgl": [
           {
            "colorbar": {
             "outlinewidth": 0,
             "ticks": ""
            },
            "colorscale": [
             [
              0,
              "#0d0887"
             ],
             [
              0.1111111111111111,
              "#46039f"
             ],
             [
              0.2222222222222222,
              "#7201a8"
             ],
             [
              0.3333333333333333,
              "#9c179e"
             ],
             [
              0.4444444444444444,
              "#bd3786"
             ],
             [
              0.5555555555555556,
              "#d8576b"
             ],
             [
              0.6666666666666666,
              "#ed7953"
             ],
             [
              0.7777777777777778,
              "#fb9f3a"
             ],
             [
              0.8888888888888888,
              "#fdca26"
             ],
             [
              1,
              "#f0f921"
             ]
            ],
            "type": "heatmapgl"
           }
          ],
          "histogram": [
           {
            "marker": {
             "pattern": {
              "fillmode": "overlay",
              "size": 10,
              "solidity": 0.2
             }
            },
            "type": "histogram"
           }
          ],
          "histogram2d": [
           {
            "colorbar": {
             "outlinewidth": 0,
             "ticks": ""
            },
            "colorscale": [
             [
              0,
              "#0d0887"
             ],
             [
              0.1111111111111111,
              "#46039f"
             ],
             [
              0.2222222222222222,
              "#7201a8"
             ],
             [
              0.3333333333333333,
              "#9c179e"
             ],
             [
              0.4444444444444444,
              "#bd3786"
             ],
             [
              0.5555555555555556,
              "#d8576b"
             ],
             [
              0.6666666666666666,
              "#ed7953"
             ],
             [
              0.7777777777777778,
              "#fb9f3a"
             ],
             [
              0.8888888888888888,
              "#fdca26"
             ],
             [
              1,
              "#f0f921"
             ]
            ],
            "type": "histogram2d"
           }
          ],
          "histogram2dcontour": [
           {
            "colorbar": {
             "outlinewidth": 0,
             "ticks": ""
            },
            "colorscale": [
             [
              0,
              "#0d0887"
             ],
             [
              0.1111111111111111,
              "#46039f"
             ],
             [
              0.2222222222222222,
              "#7201a8"
             ],
             [
              0.3333333333333333,
              "#9c179e"
             ],
             [
              0.4444444444444444,
              "#bd3786"
             ],
             [
              0.5555555555555556,
              "#d8576b"
             ],
             [
              0.6666666666666666,
              "#ed7953"
             ],
             [
              0.7777777777777778,
              "#fb9f3a"
             ],
             [
              0.8888888888888888,
              "#fdca26"
             ],
             [
              1,
              "#f0f921"
             ]
            ],
            "type": "histogram2dcontour"
           }
          ],
          "mesh3d": [
           {
            "colorbar": {
             "outlinewidth": 0,
             "ticks": ""
            },
            "type": "mesh3d"
           }
          ],
          "parcoords": [
           {
            "line": {
             "colorbar": {
              "outlinewidth": 0,
              "ticks": ""
             }
            },
            "type": "parcoords"
           }
          ],
          "pie": [
           {
            "automargin": true,
            "type": "pie"
           }
          ],
          "scatter": [
           {
            "fillpattern": {
             "fillmode": "overlay",
             "size": 10,
             "solidity": 0.2
            },
            "type": "scatter"
           }
          ],
          "scatter3d": [
           {
            "line": {
             "colorbar": {
              "outlinewidth": 0,
              "ticks": ""
             }
            },
            "marker": {
             "colorbar": {
              "outlinewidth": 0,
              "ticks": ""
             }
            },
            "type": "scatter3d"
           }
          ],
          "scattercarpet": [
           {
            "marker": {
             "colorbar": {
              "outlinewidth": 0,
              "ticks": ""
             }
            },
            "type": "scattercarpet"
           }
          ],
          "scattergeo": [
           {
            "marker": {
             "colorbar": {
              "outlinewidth": 0,
              "ticks": ""
             }
            },
            "type": "scattergeo"
           }
          ],
          "scattergl": [
           {
            "marker": {
             "colorbar": {
              "outlinewidth": 0,
              "ticks": ""
             }
            },
            "type": "scattergl"
           }
          ],
          "scattermapbox": [
           {
            "marker": {
             "colorbar": {
              "outlinewidth": 0,
              "ticks": ""
             }
            },
            "type": "scattermapbox"
           }
          ],
          "scatterpolar": [
           {
            "marker": {
             "colorbar": {
              "outlinewidth": 0,
              "ticks": ""
             }
            },
            "type": "scatterpolar"
           }
          ],
          "scatterpolargl": [
           {
            "marker": {
             "colorbar": {
              "outlinewidth": 0,
              "ticks": ""
             }
            },
            "type": "scatterpolargl"
           }
          ],
          "scatterternary": [
           {
            "marker": {
             "colorbar": {
              "outlinewidth": 0,
              "ticks": ""
             }
            },
            "type": "scatterternary"
           }
          ],
          "surface": [
           {
            "colorbar": {
             "outlinewidth": 0,
             "ticks": ""
            },
            "colorscale": [
             [
              0,
              "#0d0887"
             ],
             [
              0.1111111111111111,
              "#46039f"
             ],
             [
              0.2222222222222222,
              "#7201a8"
             ],
             [
              0.3333333333333333,
              "#9c179e"
             ],
             [
              0.4444444444444444,
              "#bd3786"
             ],
             [
              0.5555555555555556,
              "#d8576b"
             ],
             [
              0.6666666666666666,
              "#ed7953"
             ],
             [
              0.7777777777777778,
              "#fb9f3a"
             ],
             [
              0.8888888888888888,
              "#fdca26"
             ],
             [
              1,
              "#f0f921"
             ]
            ],
            "type": "surface"
           }
          ],
          "table": [
           {
            "cells": {
             "fill": {
              "color": "#EBF0F8"
             },
             "line": {
              "color": "white"
             }
            },
            "header": {
             "fill": {
              "color": "#C8D4E3"
             },
             "line": {
              "color": "white"
             }
            },
            "type": "table"
           }
          ]
         },
         "layout": {
          "annotationdefaults": {
           "arrowcolor": "#2a3f5f",
           "arrowhead": 0,
           "arrowwidth": 1
          },
          "autotypenumbers": "strict",
          "coloraxis": {
           "colorbar": {
            "outlinewidth": 0,
            "ticks": ""
           }
          },
          "colorscale": {
           "diverging": [
            [
             0,
             "#8e0152"
            ],
            [
             0.1,
             "#c51b7d"
            ],
            [
             0.2,
             "#de77ae"
            ],
            [
             0.3,
             "#f1b6da"
            ],
            [
             0.4,
             "#fde0ef"
            ],
            [
             0.5,
             "#f7f7f7"
            ],
            [
             0.6,
             "#e6f5d0"
            ],
            [
             0.7,
             "#b8e186"
            ],
            [
             0.8,
             "#7fbc41"
            ],
            [
             0.9,
             "#4d9221"
            ],
            [
             1,
             "#276419"
            ]
           ],
           "sequential": [
            [
             0,
             "#0d0887"
            ],
            [
             0.1111111111111111,
             "#46039f"
            ],
            [
             0.2222222222222222,
             "#7201a8"
            ],
            [
             0.3333333333333333,
             "#9c179e"
            ],
            [
             0.4444444444444444,
             "#bd3786"
            ],
            [
             0.5555555555555556,
             "#d8576b"
            ],
            [
             0.6666666666666666,
             "#ed7953"
            ],
            [
             0.7777777777777778,
             "#fb9f3a"
            ],
            [
             0.8888888888888888,
             "#fdca26"
            ],
            [
             1,
             "#f0f921"
            ]
           ],
           "sequentialminus": [
            [
             0,
             "#0d0887"
            ],
            [
             0.1111111111111111,
             "#46039f"
            ],
            [
             0.2222222222222222,
             "#7201a8"
            ],
            [
             0.3333333333333333,
             "#9c179e"
            ],
            [
             0.4444444444444444,
             "#bd3786"
            ],
            [
             0.5555555555555556,
             "#d8576b"
            ],
            [
             0.6666666666666666,
             "#ed7953"
            ],
            [
             0.7777777777777778,
             "#fb9f3a"
            ],
            [
             0.8888888888888888,
             "#fdca26"
            ],
            [
             1,
             "#f0f921"
            ]
           ]
          },
          "colorway": [
           "#636efa",
           "#EF553B",
           "#00cc96",
           "#ab63fa",
           "#FFA15A",
           "#19d3f3",
           "#FF6692",
           "#B6E880",
           "#FF97FF",
           "#FECB52"
          ],
          "font": {
           "color": "#2a3f5f"
          },
          "geo": {
           "bgcolor": "white",
           "lakecolor": "white",
           "landcolor": "#E5ECF6",
           "showlakes": true,
           "showland": true,
           "subunitcolor": "white"
          },
          "hoverlabel": {
           "align": "left"
          },
          "hovermode": "closest",
          "mapbox": {
           "style": "light"
          },
          "paper_bgcolor": "white",
          "plot_bgcolor": "#E5ECF6",
          "polar": {
           "angularaxis": {
            "gridcolor": "white",
            "linecolor": "white",
            "ticks": ""
           },
           "bgcolor": "#E5ECF6",
           "radialaxis": {
            "gridcolor": "white",
            "linecolor": "white",
            "ticks": ""
           }
          },
          "scene": {
           "xaxis": {
            "backgroundcolor": "#E5ECF6",
            "gridcolor": "white",
            "gridwidth": 2,
            "linecolor": "white",
            "showbackground": true,
            "ticks": "",
            "zerolinecolor": "white"
           },
           "yaxis": {
            "backgroundcolor": "#E5ECF6",
            "gridcolor": "white",
            "gridwidth": 2,
            "linecolor": "white",
            "showbackground": true,
            "ticks": "",
            "zerolinecolor": "white"
           },
           "zaxis": {
            "backgroundcolor": "#E5ECF6",
            "gridcolor": "white",
            "gridwidth": 2,
            "linecolor": "white",
            "showbackground": true,
            "ticks": "",
            "zerolinecolor": "white"
           }
          },
          "shapedefaults": {
           "line": {
            "color": "#2a3f5f"
           }
          },
          "ternary": {
           "aaxis": {
            "gridcolor": "white",
            "linecolor": "white",
            "ticks": ""
           },
           "baxis": {
            "gridcolor": "white",
            "linecolor": "white",
            "ticks": ""
           },
           "bgcolor": "#E5ECF6",
           "caxis": {
            "gridcolor": "white",
            "linecolor": "white",
            "ticks": ""
           }
          },
          "title": {
           "x": 0.05
          },
          "xaxis": {
           "automargin": true,
           "gridcolor": "white",
           "linecolor": "white",
           "ticks": "",
           "title": {
            "standoff": 15
           },
           "zerolinecolor": "white",
           "zerolinewidth": 2
          },
          "yaxis": {
           "automargin": true,
           "gridcolor": "white",
           "linecolor": "white",
           "ticks": "",
           "title": {
            "standoff": 15
           },
           "zerolinecolor": "white",
           "zerolinewidth": 2
          }
         }
        },
        "width": 900,
        "xaxis": {
         "autorange": true,
         "color": "black",
         "gridcolor": "white",
         "range": [
          1850,
          1918
         ],
         "showgrid": false,
         "tickfont": {
          "size": 16
         },
         "title": {
          "font": {
           "size": 16
          }
         },
         "type": "linear"
        },
        "yaxis": {
         "autorange": true,
         "color": "black",
         "gridcolor": "lightgray",
         "range": [
          -0.029256737588287018,
          0.34901219284613094
         ],
         "tickfont": {
          "size": 16
         },
         "title": {
          "font": {
           "size": 16
          },
          "text": "Anteil an Texten"
         },
         "type": "linear",
         "zerolinecolor": "lightgray"
        }
       }
      },
      "image/png": "[encoded data removed]",
      "text/html": [
       "<div>                            <div id=\"6b3937bf-4ff1-4089-a82c-89c2c3dfb4df\" class=\"plotly-graph-div\" style=\"height:500px; width:900px;\"></div>            <script type=\"text/javascript\">                require([\"plotly\"], function(Plotly) {                    window.PLOTLYENV=window.PLOTLYENV || {};                                    if (document.getElementById(\"6b3937bf-4ff1-4089-a82c-89c2c3dfb4df\")) {                    Plotly.newPlot(                        \"6b3937bf-4ff1-4089-a82c-89c2c3dfb4df\",                        [{\"line\":{\"color\":\"#636EFA\",\"width\":6},\"mode\":\"lines\",\"name\":\"Heroismus\",\"x\":[1850,1851,1852,1853,1854,1855,1856,1857,1858,1859,1860,1861,1862,1863,1864,1865,1866,1867,1868,1869,1870,1871,1872,1873,1874,1875,1876,1877,1878,1879,1880,1881,1882,1883,1884,1885,1886,1887,1888,1889,1890,1891,1892,1893,1894,1895,1896,1897,1898,1899,1900,1901,1902,1903,1904,1905,1906,1907,1908,1909,1910,1911,1912,1913,1914,1915,1916,1917,1918],\"y\":[null,null,null,null,null,0.29584559583510306,0.300904261827791,0.305197511440864,0.31316885653882204,0.319448596947748,0.3255556033414318,0.33009874632441005,0.32091951564712956,0.3229763001060137,0.3012422433135807,0.31360640865354156,0.3258398425492533,0.3167999765209023,0.31229560208766854,0.30947555548167743,0.31396268065409877,0.3057229623333417,0.31346054699629383,0.31893945109481875,0.3176753577290473,0.32511225623894313,0.3090653884379488,0.2934718340744584,0.30020031741028286,0.29965138259525326,0.2960721496094401,0.293376448897653,0.2921988448917323,0.27664023333369486,0.2676940822837399,0.23969272231280941,0.23938195895385792,0.23891486861695566,0.24191058321049969,0.23876327870837766,0.23756723191770387,0.23446933540039908,0.24954947665948943,0.2577846131052054,0.2511383346207008,0.25150352439374435,0.2568967736894844,0.2570193346974575,0.25278560316445875,0.24211889017389956,0.24816865039245573,0.2270552663097875,0.22770152858024467,0.2188094909376215,0.2175158464352035,0.22784196944488452,0.2214230682563786,0.23310730201392324,0.22131272619991282,0.20532845002807254,0.20710149012284018,0.1841674471018372,0.1897582155459321,0.1835930158678442,null,null,null,null,null],\"type\":\"scatter\"},{\"line\":{\"color\":\"#EF553B\",\"width\":6},\"mode\":\"lines\",\"name\":\"Nationalismus\",\"x\":[1850,1851,1852,1853,1854,1855,1856,1857,1858,1859,1860,1861,1862,1863,1864,1865,1866,1867,1868,1869,1870,1871,1872,1873,1874,1875,1876,1877,1878,1879,1880,1881,1882,1883,1884,1885,1886,1887,1888,1889,1890,1891,1892,1893,1894,1895,1896,1897,1898,1899,1900,1901,1902,1903,1904,1905,1906,1907,1908,1909,1910,1911,1912,1913,1914,1915,1916,1917,1918],\"y\":[null,null,null,null,null,0.07615188241993544,0.07501973971230284,0.07256103781343241,0.07711307568166557,0.0839563536429588,0.08959264029499643,0.09716908334696092,0.09713856796779889,0.0891709335921098,0.08379088374289125,0.13470577343800316,0.1673366374293929,0.1752383102471046,0.1905155244505025,0.198025493819869,0.2221618547829669,0.23348082962734854,0.2429804158314451,0.2551794376663671,0.2326282668513024,0.2459385746670846,0.1770854508686927,0.1371243023923517,0.13753759144577765,0.1368582159115041,0.13848048860168716,0.12572085466637242,0.1221592800575184,0.12529196943876783,0.1190104871376128,0.12521325196121078,0.12602297978433183,0.1448894057460737,0.1498202340531223,0.1495847743221405,0.14239927459379284,0.13893028293851475,0.15665783935301153,0.16224174186280121,0.15383071739474374,0.17175809517705865,0.18533592132905097,0.19605717622374305,0.19441782140858063,0.20232312019224316,0.18340228667054914,0.17078244525121614,0.15889620941099344,0.12355910660931471,0.10789598144207001,0.10137101937324125,0.0976894347982418,0.07661875664891853,0.058875684376998264,0.08258736685358344,0.08763825169365756,0.101805144208563,0.10720285585477893,0.13103171874987513,null,null,null,null,null],\"type\":\"scatter\"},{\"line\":{\"color\":\"#00CC96\",\"width\":6},\"mode\":\"lines\",\"name\":\"Religiosität\",\"x\":[1850,1851,1852,1853,1854,1855,1856,1857,1858,1859,1860,1861,1862,1863,1864,1865,1866,1867,1868,1869,1870,1871,1872,1873,1874,1875,1876,1877,1878,1879,1880,1881,1882,1883,1884,1885,1886,1887,1888,1889,1890,1891,1892,1893,1894,1895,1896,1897,1898,1899,1900,1901,1902,1903,1904,1905,1906,1907,1908,1909,1910,1911,1912,1913,1914,1915,1916,1917,1918],\"y\":[null,null,null,null,null,0.20705082186702412,0.20543772973606864,0.20104369570479436,0.20088844953354063,0.19323035830976598,0.1900722098893978,0.1910333593969731,0.19154554764268195,0.17691614591116922,0.16358394866763598,0.16031152946075583,0.1610770260477458,0.15716231300247477,0.16207822317715667,0.15991307623143233,0.16339121893763353,0.16421349178923517,0.1673236079199177,0.16574185989029386,0.18773136395171144,0.1944579105991219,0.1797806711317684,0.18423072759748216,0.18321010161100712,0.17936509021050423,0.18342748233820438,0.18326840530392247,0.18775711332229175,0.18433672161462739,0.1781443242842887,0.15676573212000022,0.1563796723662811,0.16581649622308198,0.15756723852934765,0.16355606749043974,0.15712762531030408,0.14172884871040742,0.14736607848917777,0.14922398666455708,0.1370870426035672,0.15011110974781416,0.15477661874746224,0.15729039835376918,0.16180575716415677,0.15581193521618522,0.13987475651513942,0.1496512973537924,0.1516182896455791,0.1266277851807024,0.11477232135267877,0.11234293729170712,0.10756300464657492,0.09571549051004644,0.08908253478159156,0.09642666798895741,0.0951434034830712,0.09666598058383935,0.08808801006797864,0.10209937235350235,null,null,null,null,null],\"type\":\"scatter\"},{\"marker\":{\"color\":[\"#636EFA\",\"#EF553B\",\"#00CC96\",\"#AB63FA\",\"#FFA15A\",\"#19D3F3\"],\"size\":14,\"symbol\":\"circle\"},\"mode\":\"markers\",\"name\":\"Kanonisierte Moderne\",\"showlegend\":false,\"x\":[1903.0,1903.0,1903.0,1903.0],\"y\":[0.08849557522123894,0.0,0.04424778761061947],\"type\":\"scatter\"},{\"marker\":{\"color\":\"black\",\"size\":14,\"symbol\":\"circle\"},\"mode\":\"markers\",\"name\":\"Kanonisierte Moderne\",\"x\":[null],\"y\":[null],\"type\":\"scatter\"},{\"marker\":{\"color\":[\"#636EFA\",\"#EF553B\",\"#00CC96\",\"#AB63FA\",\"#FFA15A\",\"#19D3F3\"],\"size\":14,\"symbol\":\"square\"},\"mode\":\"markers\",\"name\":\"Münchhausen-Kreis\",\"showlegend\":false,\"x\":[1905.0,1905.0,1905.0,1905.0],\"y\":[0.06428571428571428,0.014285714285714285,0.04285714285714286],\"type\":\"scatter\"},{\"marker\":{\"color\":\"black\",\"size\":14,\"symbol\":\"square\"},\"mode\":\"markers\",\"name\":\"Münchhausen-Kreis\",\"x\":[null],\"y\":[null],\"type\":\"scatter\"}],                        {\"template\":{\"data\":{\"histogram2dcontour\":[{\"type\":\"histogram2dcontour\",\"colorbar\":{\"outlinewidth\":0,\"ticks\":\"\"},\"colorscale\":[[0.0,\"#0d0887\"],[0.1111111111111111,\"#46039f\"],[0.2222222222222222,\"#7201a8\"],[0.3333333333333333,\"#9c179e\"],[0.4444444444444444,\"#bd3786\"],[0.5555555555555556,\"#d8576b\"],[0.6666666666666666,\"#ed7953\"],[0.7777777777777778,\"#fb9f3a\"],[0.8888888888888888,\"#fdca26\"],[1.0,\"#f0f921\"]]}],\"choropleth\":[{\"type\":\"choropleth\",\"colorbar\":{\"outlinewidth\":0,\"ticks\":\"\"}}],\"histogram2d\":[{\"type\":\"histogram2d\",\"colorbar\":{\"outlinewidth\":0,\"ticks\":\"\"},\"colorscale\":[[0.0,\"#0d0887\"],[0.1111111111111111,\"#46039f\"],[0.2222222222222222,\"#7201a8\"],[0.3333333333333333,\"#9c179e\"],[0.4444444444444444,\"#bd3786\"],[0.5555555555555556,\"#d8576b\"],[0.6666666666666666,\"#ed7953\"],[0.7777777777777778,\"#fb9f3a\"],[0.8888888888888888,\"#fdca26\"],[1.0,\"#f0f921\"]]}],\"heatmap\":[{\"type\":\"heatmap\",\"colorbar\":{\"outlinewidth\":0,\"ticks\":\"\"},\"colorscale\":[[0.0,\"#0d0887\"],[0.1111111111111111,\"#46039f\"],[0.2222222222222222,\"#7201a8\"],[0.3333333333333333,\"#9c179e\"],[0.4444444444444444,\"#bd3786\"],[0.5555555555555556,\"#d8576b\"],[0.6666666666666666,\"#ed7953\"],[0.7777777777777778,\"#fb9f3a\"],[0.8888888888888888,\"#fdca26\"],[1.0,\"#f0f921\"]]}],\"heatmapgl\":[{\"type\":\"heatmapgl\",\"colorbar\":{\"outlinewidth\":0,\"ticks\":\"\"},\"colorscale\":[[0.0,\"#0d0887\"],[0.1111111111111111,\"#46039f\"],[0.2222222222222222,\"#7201a8\"],[0.3333333333333333,\"#9c179e\"],[0.4444444444444444,\"#bd3786\"],[0.5555555555555556,\"#d8576b\"],[0.6666666666666666,\"#ed7953\"],[0.7777777777777778,\"#fb9f3a\"],[0.8888888888888888,\"#fdca26\"],[1.0,\"#f0f921\"]]}],\"contourcarpet\":[{\"type\":\"contourcarpet\",\"colorbar\":{\"outlinewidth\":0,\"ticks\":\"\"}}],\"contour\":[{\"type\":\"contour\",\"colorbar\":{\"outlinewidth\":0,\"ticks\":\"\"},\"colorscale\":[[0.0,\"#0d0887\"],[0.1111111111111111,\"#46039f\"],[0.2222222222222222,\"#7201a8\"],[0.3333333333333333,\"#9c179e\"],[0.4444444444444444,\"#bd3786\"],[0.5555555555555556,\"#d8576b\"],[0.6666666666666666,\"#ed7953\"],[0.7777777777777778,\"#fb9f3a\"],[0.8888888888888888,\"#fdca26\"],[1.0,\"#f0f921\"]]}],\"surface\":[{\"type\":\"surface\",\"colorbar\":{\"outlinewidth\":0,\"ticks\":\"\"},\"colorscale\":[[0.0,\"#0d0887\"],[0.1111111111111111,\"#46039f\"],[0.2222222222222222,\"#7201a8\"],[0.3333333333333333,\"#9c179e\"],[0.4444444444444444,\"#bd3786\"],[0.5555555555555556,\"#d8576b\"],[0.6666666666666666,\"#ed7953\"],[0.7777777777777778,\"#fb9f3a\"],[0.8888888888888888,\"#fdca26\"],[1.0,\"#f0f921\"]]}],\"mesh3d\":[{\"type\":\"mesh3d\",\"colorbar\":{\"outlinewidth\":0,\"ticks\":\"\"}}],\"scatter\":[{\"fillpattern\":{\"fillmode\":\"overlay\",\"size\":10,\"solidity\":0.2},\"type\":\"scatter\"}],\"parcoords\":[{\"type\":\"parcoords\",\"line\":{\"colorbar\":{\"outlinewidth\":0,\"ticks\":\"\"}}}],\"scatterpolargl\":[{\"type\":\"scatterpolargl\",\"marker\":{\"colorbar\":{\"outlinewidth\":0,\"ticks\":\"\"}}}],\"bar\":[{\"error_x\":{\"color\":\"#2a3f5f\"},\"error_y\":{\"color\":\"#2a3f5f\"},\"marker\":{\"line\":{\"color\":\"#E5ECF6\",\"width\":0.5},\"pattern\":{\"fillmode\":\"overlay\",\"size\":10,\"solidity\":0.2}},\"type\":\"bar\"}],\"scattergeo\":[{\"type\":\"scattergeo\",\"marker\":{\"colorbar\":{\"outlinewidth\":0,\"ticks\":\"\"}}}],\"scatterpolar\":[{\"type\":\"scatterpolar\",\"marker\":{\"colorbar\":{\"outlinewidth\":0,\"ticks\":\"\"}}}],\"histogram\":[{\"marker\":{\"pattern\":{\"fillmode\":\"overlay\",\"size\":10,\"solidity\":0.2}},\"type\":\"histogram\"}],\"scattergl\":[{\"type\":\"scattergl\",\"marker\":{\"colorbar\":{\"outlinewidth\":0,\"ticks\":\"\"}}}],\"scatter3d\":[{\"type\":\"scatter3d\",\"line\":{\"colorbar\":{\"outlinewidth\":0,\"ticks\":\"\"}},\"marker\":{\"colorbar\":{\"outlinewidth\":0,\"ticks\":\"\"}}}],\"scattermapbox\":[{\"type\":\"scattermapbox\",\"marker\":{\"colorbar\":{\"outlinewidth\":0,\"ticks\":\"\"}}}],\"scatterternary\":[{\"type\":\"scatterternary\",\"marker\":{\"colorbar\":{\"outlinewidth\":0,\"ticks\":\"\"}}}],\"scattercarpet\":[{\"type\":\"scattercarpet\",\"marker\":{\"colorbar\":{\"outlinewidth\":0,\"ticks\":\"\"}}}],\"carpet\":[{\"aaxis\":{\"endlinecolor\":\"#2a3f5f\",\"gridcolor\":\"white\",\"linecolor\":\"white\",\"minorgridcolor\":\"white\",\"startlinecolor\":\"#2a3f5f\"},\"baxis\":{\"endlinecolor\":\"#2a3f5f\",\"gridcolor\":\"white\",\"linecolor\":\"white\",\"minorgridcolor\":\"white\",\"startlinecolor\":\"#2a3f5f\"},\"type\":\"carpet\"}],\"table\":[{\"cells\":{\"fill\":{\"color\":\"#EBF0F8\"},\"line\":{\"color\":\"white\"}},\"header\":{\"fill\":{\"color\":\"#C8D4E3\"},\"line\":{\"color\":\"white\"}},\"type\":\"table\"}],\"barpolar\":[{\"marker\":{\"line\":{\"color\":\"#E5ECF6\",\"width\":0.5},\"pattern\":{\"fillmode\":\"overlay\",\"size\":10,\"solidity\":0.2}},\"type\":\"barpolar\"}],\"pie\":[{\"automargin\":true,\"type\":\"pie\"}]},\"layout\":{\"autotypenumbers\":\"strict\",\"colorway\":[\"#636efa\",\"#EF553B\",\"#00cc96\",\"#ab63fa\",\"#FFA15A\",\"#19d3f3\",\"#FF6692\",\"#B6E880\",\"#FF97FF\",\"#FECB52\"],\"font\":{\"color\":\"#2a3f5f\"},\"hovermode\":\"closest\",\"hoverlabel\":{\"align\":\"left\"},\"paper_bgcolor\":\"white\",\"plot_bgcolor\":\"#E5ECF6\",\"polar\":{\"bgcolor\":\"#E5ECF6\",\"angularaxis\":{\"gridcolor\":\"white\",\"linecolor\":\"white\",\"ticks\":\"\"},\"radialaxis\":{\"gridcolor\":\"white\",\"linecolor\":\"white\",\"ticks\":\"\"}},\"ternary\":{\"bgcolor\":\"#E5ECF6\",\"aaxis\":{\"gridcolor\":\"white\",\"linecolor\":\"white\",\"ticks\":\"\"},\"baxis\":{\"gridcolor\":\"white\",\"linecolor\":\"white\",\"ticks\":\"\"},\"caxis\":{\"gridcolor\":\"white\",\"linecolor\":\"white\",\"ticks\":\"\"}},\"coloraxis\":{\"colorbar\":{\"outlinewidth\":0,\"ticks\":\"\"}},\"colorscale\":{\"sequential\":[[0.0,\"#0d0887\"],[0.1111111111111111,\"#46039f\"],[0.2222222222222222,\"#7201a8\"],[0.3333333333333333,\"#9c179e\"],[0.4444444444444444,\"#bd3786\"],[0.5555555555555556,\"#d8576b\"],[0.6666666666666666,\"#ed7953\"],[0.7777777777777778,\"#fb9f3a\"],[0.8888888888888888,\"#fdca26\"],[1.0,\"#f0f921\"]],\"sequentialminus\":[[0.0,\"#0d0887\"],[0.1111111111111111,\"#46039f\"],[0.2222222222222222,\"#7201a8\"],[0.3333333333333333,\"#9c179e\"],[0.4444444444444444,\"#bd3786\"],[0.5555555555555556,\"#d8576b\"],[0.6666666666666666,\"#ed7953\"],[0.7777777777777778,\"#fb9f3a\"],[0.8888888888888888,\"#fdca26\"],[1.0,\"#f0f921\"]],\"diverging\":[[0,\"#8e0152\"],[0.1,\"#c51b7d\"],[0.2,\"#de77ae\"],[0.3,\"#f1b6da\"],[0.4,\"#fde0ef\"],[0.5,\"#f7f7f7\"],[0.6,\"#e6f5d0\"],[0.7,\"#b8e186\"],[0.8,\"#7fbc41\"],[0.9,\"#4d9221\"],[1,\"#276419\"]]},\"xaxis\":{\"gridcolor\":\"white\",\"linecolor\":\"white\",\"ticks\":\"\",\"title\":{\"standoff\":15},\"zerolinecolor\":\"white\",\"automargin\":true,\"zerolinewidth\":2},\"yaxis\":{\"gridcolor\":\"white\",\"linecolor\":\"white\",\"ticks\":\"\",\"title\":{\"standoff\":15},\"zerolinecolor\":\"white\",\"automargin\":true,\"zerolinewidth\":2},\"scene\":{\"xaxis\":{\"backgroundcolor\":\"#E5ECF6\",\"gridcolor\":\"white\",\"linecolor\":\"white\",\"showbackground\":true,\"ticks\":\"\",\"zerolinecolor\":\"white\",\"gridwidth\":2},\"yaxis\":{\"backgroundcolor\":\"#E5ECF6\",\"gridcolor\":\"white\",\"linecolor\":\"white\",\"showbackground\":true,\"ticks\":\"\",\"zerolinecolor\":\"white\",\"gridwidth\":2},\"zaxis\":{\"backgroundcolor\":\"#E5ECF6\",\"gridcolor\":\"white\",\"linecolor\":\"white\",\"showbackground\":true,\"ticks\":\"\",\"zerolinecolor\":\"white\",\"gridwidth\":2}},\"shapedefaults\":{\"line\":{\"color\":\"#2a3f5f\"}},\"annotationdefaults\":{\"arrowcolor\":\"#2a3f5f\",\"arrowhead\":0,\"arrowwidth\":1},\"geo\":{\"bgcolor\":\"white\",\"landcolor\":\"#E5ECF6\",\"subunitcolor\":\"white\",\"showland\":true,\"showlakes\":true,\"lakecolor\":\"white\"},\"title\":{\"x\":0.05},\"mapbox\":{\"style\":\"light\"}}},\"xaxis\":{\"tickfont\":{\"size\":16},\"title\":{\"font\":{\"size\":16}},\"color\":\"black\",\"gridcolor\":\"white\",\"showgrid\":false},\"yaxis\":{\"tickfont\":{\"size\":16},\"title\":{\"text\":\"Anteil an Texten\",\"font\":{\"size\":16}},\"color\":\"black\",\"gridcolor\":\"lightgray\",\"zerolinecolor\":\"lightgray\"},\"legend\":{\"font\":{\"size\":16},\"traceorder\":\"normal\",\"bordercolor\":\"black\",\"borderwidth\":1},\"width\":900,\"height\":500,\"font\":{\"color\":\"black\"},\"plot_bgcolor\":\"white\",\"paper_bgcolor\":\"white\"},                        {\"responsive\": true}                    ).then(function(){\n",
       "                            \n",
       "var gd = document.getElementById('6b3937bf-4ff1-4089-a82c-89c2c3dfb4df');\n",
       "var x = new MutationObserver(function (mutations, observer) {{\n",
       "        var display = window.getComputedStyle(gd).display;\n",
       "        if (!display || display === 'none') {{\n",
       "            console.log([gd, 'removed!']);\n",
       "            Plotly.purge(gd);\n",
       "            observer.disconnect();\n",
       "        }}\n",
       "}});\n",
       "\n",
       "// Listen for the removal of the full notebook cells\n",
       "var notebookContainer = gd.closest('#notebook-container');\n",
       "if (notebookContainer) {{\n",
       "    x.observe(notebookContainer, {childList: true});\n",
       "}}\n",
       "\n",
       "// Listen for the clearing of the current output cell\n",
       "var outputEl = gd.closest('.output');\n",
       "if (outputEl) {{\n",
       "    x.observe(outputEl, {childList: true});\n",
       "}}\n",
       "\n",
       "                        })                };                });            </script>        </div>"
      ]
     },
     "metadata": {},
     "output_type": "display_data"
    }
   ],
   "source": [
    "meta_plot = ts[[\n",
    "    'heroismus_share_smoothed', \n",
    "    'nationalismus_share_smoothed', \n",
    "    'religiositaet_share_smoothed',\n",
    "]]\n",
    "meta_plot.columns = [\n",
    "    'Heroismus', \n",
    "    'Nationalismus', \n",
    "    'Religiosität',\n",
    "]\n",
    "save_ts_data(meta_plot, prefix='06_07_Deutungen_')\n",
    "\n",
    "fig = create_ts_plot(\n",
    "    data = meta_plot, \n",
    "    columns = meta_plot.columns, \n",
    "    y_axis_title = 'Anteil an Texten',\n",
    "    add_corporas = sub_df, add_corpora_names = sub_names,\n",
    "    add_corpora_categories = ['heroismus', 'nationalismus', 'religiositaet']\n",
    ")\n",
    "fig = update_fig_for_publication(fig)\n",
    "fig.write_image(f\"plots/6.7 Heroismus, Nationalismus und Religiosität im Zeitverlauf.pdf\")\n",
    "fig.show()"
   ]
  },
  {
   "cell_type": "code",
   "execution_count": 13,
   "id": "b0c23049",
   "metadata": {},
   "outputs": [
    {
     "data": {
      "text/html": [
       "<div>\n",
       "<style scoped>\n",
       "    .dataframe tbody tr th:only-of-type {\n",
       "        vertical-align: middle;\n",
       "    }\n",
       "\n",
       "    .dataframe tbody tr th {\n",
       "        vertical-align: top;\n",
       "    }\n",
       "\n",
       "    .dataframe thead th {\n",
       "        text-align: right;\n",
       "    }\n",
       "</style>\n",
       "<table border=\"1\" class=\"dataframe\">\n",
       "  <thead>\n",
       "    <tr style=\"text-align: right;\">\n",
       "      <th></th>\n",
       "      <th>wenn_nicht</th>\n",
       "      <th>wenn_nicht_detail</th>\n",
       "      <th>wenn_ja</th>\n",
       "      <th>wenn_ja_detail</th>\n",
       "      <th>diff_low_bootstrap</th>\n",
       "      <th>diff_low</th>\n",
       "      <th>diff</th>\n",
       "      <th>diff_high</th>\n",
       "      <th>diff_high_bootstrap</th>\n",
       "      <th>chi2</th>\n",
       "      <th>chi2_p</th>\n",
       "      <th>fisher_p</th>\n",
       "      <th>phi</th>\n",
       "      <th>min_real</th>\n",
       "      <th>min_expected</th>\n",
       "    </tr>\n",
       "  </thead>\n",
       "  <tbody>\n",
       "    <tr>\n",
       "      <th>nationalismus</th>\n",
       "      <td>0.13</td>\n",
       "      <td>181/1346</td>\n",
       "      <td>0.14</td>\n",
       "      <td>72/504</td>\n",
       "      <td>-0.02</td>\n",
       "      <td>-0.03</td>\n",
       "      <td>0.01</td>\n",
       "      <td>0.04</td>\n",
       "      <td>0.05</td>\n",
       "      <td>0.22</td>\n",
       "      <td>0.64</td>\n",
       "      <td>0.65</td>\n",
       "      <td>0.01</td>\n",
       "      <td>72.0</td>\n",
       "      <td>68.93</td>\n",
       "    </tr>\n",
       "    <tr>\n",
       "      <th>religiositaet</th>\n",
       "      <td>0.18</td>\n",
       "      <td>247/1346</td>\n",
       "      <td>0.14</td>\n",
       "      <td>71/504</td>\n",
       "      <td>-0.08</td>\n",
       "      <td>-0.08</td>\n",
       "      <td>-0.04</td>\n",
       "      <td>-0.01</td>\n",
       "      <td>-0.00</td>\n",
       "      <td>4.68</td>\n",
       "      <td>0.03</td>\n",
       "      <td>0.03</td>\n",
       "      <td>0.05</td>\n",
       "      <td>71.0</td>\n",
       "      <td>86.63</td>\n",
       "    </tr>\n",
       "    <tr>\n",
       "      <th>heroismus</th>\n",
       "      <td>0.31</td>\n",
       "      <td>411/1346</td>\n",
       "      <td>0.22</td>\n",
       "      <td>112/504</td>\n",
       "      <td>-0.13</td>\n",
       "      <td>-0.13</td>\n",
       "      <td>-0.08</td>\n",
       "      <td>-0.04</td>\n",
       "      <td>-0.04</td>\n",
       "      <td>12.50</td>\n",
       "      <td>0.00</td>\n",
       "      <td>0.00</td>\n",
       "      <td>0.08</td>\n",
       "      <td>112.0</td>\n",
       "      <td>142.48</td>\n",
       "    </tr>\n",
       "  </tbody>\n",
       "</table>\n",
       "</div>"
      ],
      "text/plain": [
       "               wenn_nicht wenn_nicht_detail  wenn_ja wenn_ja_detail  \\\n",
       "nationalismus        0.13          181/1346     0.14         72/504   \n",
       "religiositaet        0.18          247/1346     0.14         71/504   \n",
       "heroismus            0.31          411/1346     0.22        112/504   \n",
       "\n",
       "               diff_low_bootstrap  diff_low  diff  diff_high  \\\n",
       "nationalismus               -0.02     -0.03  0.01       0.04   \n",
       "religiositaet               -0.08     -0.08 -0.04      -0.01   \n",
       "heroismus                   -0.13     -0.13 -0.08      -0.04   \n",
       "\n",
       "               diff_high_bootstrap   chi2  chi2_p  fisher_p   phi  min_real  \\\n",
       "nationalismus                 0.05   0.22    0.64      0.65  0.01      72.0   \n",
       "religiositaet                -0.00   4.68    0.03      0.03  0.05      71.0   \n",
       "heroismus                    -0.04  12.50    0.00      0.00  0.08     112.0   \n",
       "\n",
       "               min_expected  \n",
       "nationalismus         68.93  \n",
       "religiositaet         86.63  \n",
       "heroismus            142.48  "
      ]
     },
     "execution_count": 13,
     "metadata": {},
     "output_type": "execute_result"
    }
   ],
   "source": [
    "meta_anth_bin['period'] = [0 if 1850 <= x <= 1884 else 1 for x in meta_anth_bin['year']]\n",
    "\n",
    "results = relations_binbin(\n",
    "    meta = meta_anth_bin, \n",
    "    main_feature = 'period',\n",
    "    comp_features = ['heroismus', 'nationalismus', 'religiositaet']\n",
    ")\n",
    "\n",
    "round(results.sort_values(by='diff', ascending=False), 2)"
   ]
  },
  {
   "cell_type": "code",
   "execution_count": 14,
   "id": "b838188d",
   "metadata": {},
   "outputs": [
    {
     "name": "stdout",
     "output_type": "stream",
     "text": [
      "krieg_gegenwart   0   1\n",
      "nationalismus          \n",
      "0.0              38  14\n",
      "1.0              27  30\n",
      "\n",
      "\n",
      "chi2   : 6.436283331209948\n",
      "chi2 p : 0.01118123465584003\n",
      "phi    : 0.2617175554294466\n"
     ]
    }
   ],
   "source": [
    "# Texte 1870/71\n",
    "meta_1870 = meta_anth.query(\"1870 <= year <= 1871\").copy()\n",
    "meta_1870['krieg_gegenwart'] = [1 if 'Krieg' in x and y == 0 else 0 for x, y in zip(meta_1870['stoffgebiet'], meta_1870['vergangenheitsdominant'])]\n",
    "contingency_table = pd.crosstab(meta_1870['nationalismus'], meta_1870['krieg_gegenwart'])\n",
    "\n",
    "print(contingency_table)\n",
    "print(\"\\n\")\n",
    "print(f\"chi2   : {chi2_contingency(contingency_table)[0]}\")\n",
    "print(f\"chi2 p : {chi2_contingency(contingency_table)[1]}\")\n",
    "print(f\"phi    : {get_phi(np.array(contingency_table))}\")"
   ]
  },
  {
   "cell_type": "code",
   "execution_count": 15,
   "id": "1058eb7c",
   "metadata": {},
   "outputs": [
    {
     "name": "stdout",
     "output_type": "stream",
     "text": [
      "wilhelm_bismarck   0  1\n",
      "nationalismus          \n",
      "0.0               19  3\n",
      "1.0                1  8\n",
      "fisher   : 50.666666666666664\n",
      "fisher p : 0.0001664180316789496\n",
      "phi      : 0.7139081384319523\n"
     ]
    }
   ],
   "source": [
    "# Texte 1897/98\n",
    "meta_1870 = meta_anth.query(\"1897 <= year <= 1898\").copy()\n",
    "meta_1870['wilhelm_bismarck'] = [1 if 'Wilhelm I.' in x or 'Bismarck' in x else 0 for x in meta_1870['entity_full']]\n",
    "contingency_table = pd.crosstab(meta_1870['nationalismus'], meta_1870['wilhelm_bismarck'])\n",
    "\n",
    "print(contingency_table)\n",
    "print(f\"fisher   : {fisher_exact(contingency_table)[0]}\")\n",
    "print(f\"fisher p : {fisher_exact(contingency_table)[1]}\")\n",
    "print(f\"phi      : {get_phi(np.array(contingency_table))}\")"
   ]
  },
  {
   "cell_type": "code",
   "execution_count": 16,
   "id": "846d546f",
   "metadata": {},
   "outputs": [
    {
     "name": "stdout",
     "output_type": "stream",
     "text": [
      "krieg_gegenwart   0  1\n",
      "nationalismus         \n",
      "0.0              28  9\n",
      "1.0               6  7\n",
      "\n",
      "\n",
      "fisher   : 3.6296296296296298\n",
      "fisher p : 0.08242528415219422\n",
      "phi      : 0.2775980150199401\n"
     ]
    }
   ],
   "source": [
    "# Texte 1914/18\n",
    "meta_1914 = meta_anth_bin.query(\"1914 <= year <= 1918\").copy()\n",
    "meta_1914['krieg_gegenwart'] = [1 if x == 1 and y == 1 else 0 for x, y in zip(meta_1914['krieg'], meta_1914['gegenwartsdominant'])]\n",
    "contingency_table = pd.crosstab(meta_1914['nationalismus'], meta_1914['krieg_gegenwart'])\n",
    "\n",
    "print(contingency_table)\n",
    "print(\"\\n\")\n",
    "print(f\"fisher   : {fisher_exact(contingency_table)[0]}\")\n",
    "print(f\"fisher p : {fisher_exact(contingency_table)[1]}\")\n",
    "print(f\"phi      : {get_phi(np.array(contingency_table))}\")"
   ]
  },
  {
   "cell_type": "code",
   "execution_count": 17,
   "id": "0e30298e",
   "metadata": {},
   "outputs": [
    {
     "data": {
      "application/vnd.plotly.v1+json": {
       "config": {
        "plotlyServerURL": "https://plot.ly"
       },
       "data": [
        {
         "line": {
          "color": "#636EFA",
          "width": 6
         },
         "mode": "lines",
         "name": "Deutungen pro Text",
         "type": "scatter",
         "x": [
          1850,
          1851,
          1852,
          1853,
          1854,
          1855,
          1856,
          1857,
          1858,
          1859,
          1860,
          1861,
          1862,
          1863,
          1864,
          1865,
          1866,
          1867,
          1868,
          1869,
          1870,
          1871,
          1872,
          1873,
          1874,
          1875,
          1876,
          1877,
          1878,
          1879,
          1880,
          1881,
          1882,
          1883,
          1884,
          1885,
          1886,
          1887,
          1888,
          1889,
          1890,
          1891,
          1892,
          1893,
          1894,
          1895,
          1896,
          1897,
          1898,
          1899,
          1900,
          1901,
          1902,
          1903,
          1904,
          1905,
          1906,
          1907,
          1908,
          1909,
          1910,
          1911,
          1912,
          1913,
          1914,
          1915,
          1916,
          1917,
          1918
         ],
         "y": [
          null,
          null,
          null,
          null,
          null,
          0.5790483001220625,
          0.5813617312761624,
          0.5788022449590907,
          0.5911703817540281,
          0.5966353089004729,
          0.605220453525826,
          0.618301189068344,
          0.6096036312576104,
          0.5890633796092929,
          0.5486170757241079,
          0.6086237115523006,
          0.654253506026392,
          0.6492005997704816,
          0.6648893497153278,
          0.6674141255329789,
          0.6995157543746992,
          0.7034172837499253,
          0.7237645707476567,
          0.7398607486514797,
          0.7380349885320612,
          0.7655087415051496,
          0.6659315104384098,
          0.6148268640642922,
          0.6209480104670675,
          0.6158746887172615,
          0.6179801205493316,
          0.6023657088679479,
          0.6021152382715425,
          0.5862689243870902,
          0.5648488937056414,
          0.5216717063940204,
          0.5217846111044707,
          0.5496207705861113,
          0.5492980557929695,
          0.5519041205209579,
          0.5370941318218009,
          0.5151284670493214,
          0.5535733945016789,
          0.5692503416325636,
          0.5420560946190115,
          0.5733727293186172,
          0.5970093137659976,
          0.6103669092749697,
          0.6090091817371962,
          0.6002539455823279,
          0.5714456935781443,
          0.547489008914796,
          0.5382160276368172,
          0.46899638272763855,
          0.4401841492299523,
          0.4415559261098328,
          0.4266755077011953,
          0.4054415491728882,
          0.3692709453585027,
          0.38434248487061334,
          0.3898831452995689,
          0.3826385718942395,
          0.38504908146868966,
          0.41672410697122164,
          null,
          null,
          null,
          null,
          null
         ]
        },
        {
         "marker": {
          "color": [
           "#636EFA",
           "#EF553B",
           "#00CC96",
           "#AB63FA",
           "#FFA15A",
           "#19D3F3"
          ],
          "size": 14,
          "symbol": "circle"
         },
         "mode": "markers",
         "name": "Kanonisierte Moderne",
         "showlegend": false,
         "type": "scatter",
         "x": [
          1903,
          1903,
          1903,
          1903
         ],
         "y": [
          0.13274336283185842
         ]
        },
        {
         "marker": {
          "color": "black",
          "size": 14,
          "symbol": "circle"
         },
         "mode": "markers",
         "name": "Kanonisierte Moderne",
         "type": "scatter",
         "x": [
          null
         ],
         "y": [
          null
         ]
        },
        {
         "marker": {
          "color": [
           "#636EFA",
           "#EF553B",
           "#00CC96",
           "#AB63FA",
           "#FFA15A",
           "#19D3F3"
          ],
          "size": 14,
          "symbol": "square"
         },
         "mode": "markers",
         "name": "Münchhausen-Kreis",
         "showlegend": false,
         "type": "scatter",
         "x": [
          1905,
          1905,
          1905,
          1905
         ],
         "y": [
          0.12142857142857143
         ]
        },
        {
         "marker": {
          "color": "black",
          "size": 14,
          "symbol": "square"
         },
         "mode": "markers",
         "name": "Münchhausen-Kreis",
         "type": "scatter",
         "x": [
          null
         ],
         "y": [
          null
         ]
        }
       ],
       "layout": {
        "height": 500,
        "legend": {
         "font": {
          "size": 16
         },
         "traceorder": "normal"
        },
        "template": {
         "data": {
          "bar": [
           {
            "error_x": {
             "color": "#2a3f5f"
            },
            "error_y": {
             "color": "#2a3f5f"
            },
            "marker": {
             "line": {
              "color": "#E5ECF6",
              "width": 0.5
             },
             "pattern": {
              "fillmode": "overlay",
              "size": 10,
              "solidity": 0.2
             }
            },
            "type": "bar"
           }
          ],
          "barpolar": [
           {
            "marker": {
             "line": {
              "color": "#E5ECF6",
              "width": 0.5
             },
             "pattern": {
              "fillmode": "overlay",
              "size": 10,
              "solidity": 0.2
             }
            },
            "type": "barpolar"
           }
          ],
          "carpet": [
           {
            "aaxis": {
             "endlinecolor": "#2a3f5f",
             "gridcolor": "white",
             "linecolor": "white",
             "minorgridcolor": "white",
             "startlinecolor": "#2a3f5f"
            },
            "baxis": {
             "endlinecolor": "#2a3f5f",
             "gridcolor": "white",
             "linecolor": "white",
             "minorgridcolor": "white",
             "startlinecolor": "#2a3f5f"
            },
            "type": "carpet"
           }
          ],
          "choropleth": [
           {
            "colorbar": {
             "outlinewidth": 0,
             "ticks": ""
            },
            "type": "choropleth"
           }
          ],
          "contour": [
           {
            "colorbar": {
             "outlinewidth": 0,
             "ticks": ""
            },
            "colorscale": [
             [
              0,
              "#0d0887"
             ],
             [
              0.1111111111111111,
              "#46039f"
             ],
             [
              0.2222222222222222,
              "#7201a8"
             ],
             [
              0.3333333333333333,
              "#9c179e"
             ],
             [
              0.4444444444444444,
              "#bd3786"
             ],
             [
              0.5555555555555556,
              "#d8576b"
             ],
             [
              0.6666666666666666,
              "#ed7953"
             ],
             [
              0.7777777777777778,
              "#fb9f3a"
             ],
             [
              0.8888888888888888,
              "#fdca26"
             ],
             [
              1,
              "#f0f921"
             ]
            ],
            "type": "contour"
           }
          ],
          "contourcarpet": [
           {
            "colorbar": {
             "outlinewidth": 0,
             "ticks": ""
            },
            "type": "contourcarpet"
           }
          ],
          "heatmap": [
           {
            "colorbar": {
             "outlinewidth": 0,
             "ticks": ""
            },
            "colorscale": [
             [
              0,
              "#0d0887"
             ],
             [
              0.1111111111111111,
              "#46039f"
             ],
             [
              0.2222222222222222,
              "#7201a8"
             ],
             [
              0.3333333333333333,
              "#9c179e"
             ],
             [
              0.4444444444444444,
              "#bd3786"
             ],
             [
              0.5555555555555556,
              "#d8576b"
             ],
             [
              0.6666666666666666,
              "#ed7953"
             ],
             [
              0.7777777777777778,
              "#fb9f3a"
             ],
             [
              0.8888888888888888,
              "#fdca26"
             ],
             [
              1,
              "#f0f921"
             ]
            ],
            "type": "heatmap"
           }
          ],
          "heatmapgl": [
           {
            "colorbar": {
             "outlinewidth": 0,
             "ticks": ""
            },
            "colorscale": [
             [
              0,
              "#0d0887"
             ],
             [
              0.1111111111111111,
              "#46039f"
             ],
             [
              0.2222222222222222,
              "#7201a8"
             ],
             [
              0.3333333333333333,
              "#9c179e"
             ],
             [
              0.4444444444444444,
              "#bd3786"
             ],
             [
              0.5555555555555556,
              "#d8576b"
             ],
             [
              0.6666666666666666,
              "#ed7953"
             ],
             [
              0.7777777777777778,
              "#fb9f3a"
             ],
             [
              0.8888888888888888,
              "#fdca26"
             ],
             [
              1,
              "#f0f921"
             ]
            ],
            "type": "heatmapgl"
           }
          ],
          "histogram": [
           {
            "marker": {
             "pattern": {
              "fillmode": "overlay",
              "size": 10,
              "solidity": 0.2
             }
            },
            "type": "histogram"
           }
          ],
          "histogram2d": [
           {
            "colorbar": {
             "outlinewidth": 0,
             "ticks": ""
            },
            "colorscale": [
             [
              0,
              "#0d0887"
             ],
             [
              0.1111111111111111,
              "#46039f"
             ],
             [
              0.2222222222222222,
              "#7201a8"
             ],
             [
              0.3333333333333333,
              "#9c179e"
             ],
             [
              0.4444444444444444,
              "#bd3786"
             ],
             [
              0.5555555555555556,
              "#d8576b"
             ],
             [
              0.6666666666666666,
              "#ed7953"
             ],
             [
              0.7777777777777778,
              "#fb9f3a"
             ],
             [
              0.8888888888888888,
              "#fdca26"
             ],
             [
              1,
              "#f0f921"
             ]
            ],
            "type": "histogram2d"
           }
          ],
          "histogram2dcontour": [
           {
            "colorbar": {
             "outlinewidth": 0,
             "ticks": ""
            },
            "colorscale": [
             [
              0,
              "#0d0887"
             ],
             [
              0.1111111111111111,
              "#46039f"
             ],
             [
              0.2222222222222222,
              "#7201a8"
             ],
             [
              0.3333333333333333,
              "#9c179e"
             ],
             [
              0.4444444444444444,
              "#bd3786"
             ],
             [
              0.5555555555555556,
              "#d8576b"
             ],
             [
              0.6666666666666666,
              "#ed7953"
             ],
             [
              0.7777777777777778,
              "#fb9f3a"
             ],
             [
              0.8888888888888888,
              "#fdca26"
             ],
             [
              1,
              "#f0f921"
             ]
            ],
            "type": "histogram2dcontour"
           }
          ],
          "mesh3d": [
           {
            "colorbar": {
             "outlinewidth": 0,
             "ticks": ""
            },
            "type": "mesh3d"
           }
          ],
          "parcoords": [
           {
            "line": {
             "colorbar": {
              "outlinewidth": 0,
              "ticks": ""
             }
            },
            "type": "parcoords"
           }
          ],
          "pie": [
           {
            "automargin": true,
            "type": "pie"
           }
          ],
          "scatter": [
           {
            "fillpattern": {
             "fillmode": "overlay",
             "size": 10,
             "solidity": 0.2
            },
            "type": "scatter"
           }
          ],
          "scatter3d": [
           {
            "line": {
             "colorbar": {
              "outlinewidth": 0,
              "ticks": ""
             }
            },
            "marker": {
             "colorbar": {
              "outlinewidth": 0,
              "ticks": ""
             }
            },
            "type": "scatter3d"
           }
          ],
          "scattercarpet": [
           {
            "marker": {
             "colorbar": {
              "outlinewidth": 0,
              "ticks": ""
             }
            },
            "type": "scattercarpet"
           }
          ],
          "scattergeo": [
           {
            "marker": {
             "colorbar": {
              "outlinewidth": 0,
              "ticks": ""
             }
            },
            "type": "scattergeo"
           }
          ],
          "scattergl": [
           {
            "marker": {
             "colorbar": {
              "outlinewidth": 0,
              "ticks": ""
             }
            },
            "type": "scattergl"
           }
          ],
          "scattermapbox": [
           {
            "marker": {
             "colorbar": {
              "outlinewidth": 0,
              "ticks": ""
             }
            },
            "type": "scattermapbox"
           }
          ],
          "scatterpolar": [
           {
            "marker": {
             "colorbar": {
              "outlinewidth": 0,
              "ticks": ""
             }
            },
            "type": "scatterpolar"
           }
          ],
          "scatterpolargl": [
           {
            "marker": {
             "colorbar": {
              "outlinewidth": 0,
              "ticks": ""
             }
            },
            "type": "scatterpolargl"
           }
          ],
          "scatterternary": [
           {
            "marker": {
             "colorbar": {
              "outlinewidth": 0,
              "ticks": ""
             }
            },
            "type": "scatterternary"
           }
          ],
          "surface": [
           {
            "colorbar": {
             "outlinewidth": 0,
             "ticks": ""
            },
            "colorscale": [
             [
              0,
              "#0d0887"
             ],
             [
              0.1111111111111111,
              "#46039f"
             ],
             [
              0.2222222222222222,
              "#7201a8"
             ],
             [
              0.3333333333333333,
              "#9c179e"
             ],
             [
              0.4444444444444444,
              "#bd3786"
             ],
             [
              0.5555555555555556,
              "#d8576b"
             ],
             [
              0.6666666666666666,
              "#ed7953"
             ],
             [
              0.7777777777777778,
              "#fb9f3a"
             ],
             [
              0.8888888888888888,
              "#fdca26"
             ],
             [
              1,
              "#f0f921"
             ]
            ],
            "type": "surface"
           }
          ],
          "table": [
           {
            "cells": {
             "fill": {
              "color": "#EBF0F8"
             },
             "line": {
              "color": "white"
             }
            },
            "header": {
             "fill": {
              "color": "#C8D4E3"
             },
             "line": {
              "color": "white"
             }
            },
            "type": "table"
           }
          ]
         },
         "layout": {
          "annotationdefaults": {
           "arrowcolor": "#2a3f5f",
           "arrowhead": 0,
           "arrowwidth": 1
          },
          "autotypenumbers": "strict",
          "coloraxis": {
           "colorbar": {
            "outlinewidth": 0,
            "ticks": ""
           }
          },
          "colorscale": {
           "diverging": [
            [
             0,
             "#8e0152"
            ],
            [
             0.1,
             "#c51b7d"
            ],
            [
             0.2,
             "#de77ae"
            ],
            [
             0.3,
             "#f1b6da"
            ],
            [
             0.4,
             "#fde0ef"
            ],
            [
             0.5,
             "#f7f7f7"
            ],
            [
             0.6,
             "#e6f5d0"
            ],
            [
             0.7,
             "#b8e186"
            ],
            [
             0.8,
             "#7fbc41"
            ],
            [
             0.9,
             "#4d9221"
            ],
            [
             1,
             "#276419"
            ]
           ],
           "sequential": [
            [
             0,
             "#0d0887"
            ],
            [
             0.1111111111111111,
             "#46039f"
            ],
            [
             0.2222222222222222,
             "#7201a8"
            ],
            [
             0.3333333333333333,
             "#9c179e"
            ],
            [
             0.4444444444444444,
             "#bd3786"
            ],
            [
             0.5555555555555556,
             "#d8576b"
            ],
            [
             0.6666666666666666,
             "#ed7953"
            ],
            [
             0.7777777777777778,
             "#fb9f3a"
            ],
            [
             0.8888888888888888,
             "#fdca26"
            ],
            [
             1,
             "#f0f921"
            ]
           ],
           "sequentialminus": [
            [
             0,
             "#0d0887"
            ],
            [
             0.1111111111111111,
             "#46039f"
            ],
            [
             0.2222222222222222,
             "#7201a8"
            ],
            [
             0.3333333333333333,
             "#9c179e"
            ],
            [
             0.4444444444444444,
             "#bd3786"
            ],
            [
             0.5555555555555556,
             "#d8576b"
            ],
            [
             0.6666666666666666,
             "#ed7953"
            ],
            [
             0.7777777777777778,
             "#fb9f3a"
            ],
            [
             0.8888888888888888,
             "#fdca26"
            ],
            [
             1,
             "#f0f921"
            ]
           ]
          },
          "colorway": [
           "#636efa",
           "#EF553B",
           "#00cc96",
           "#ab63fa",
           "#FFA15A",
           "#19d3f3",
           "#FF6692",
           "#B6E880",
           "#FF97FF",
           "#FECB52"
          ],
          "font": {
           "color": "#2a3f5f"
          },
          "geo": {
           "bgcolor": "white",
           "lakecolor": "white",
           "landcolor": "#E5ECF6",
           "showlakes": true,
           "showland": true,
           "subunitcolor": "white"
          },
          "hoverlabel": {
           "align": "left"
          },
          "hovermode": "closest",
          "mapbox": {
           "style": "light"
          },
          "paper_bgcolor": "white",
          "plot_bgcolor": "#E5ECF6",
          "polar": {
           "angularaxis": {
            "gridcolor": "white",
            "linecolor": "white",
            "ticks": ""
           },
           "bgcolor": "#E5ECF6",
           "radialaxis": {
            "gridcolor": "white",
            "linecolor": "white",
            "ticks": ""
           }
          },
          "scene": {
           "xaxis": {
            "backgroundcolor": "#E5ECF6",
            "gridcolor": "white",
            "gridwidth": 2,
            "linecolor": "white",
            "showbackground": true,
            "ticks": "",
            "zerolinecolor": "white"
           },
           "yaxis": {
            "backgroundcolor": "#E5ECF6",
            "gridcolor": "white",
            "gridwidth": 2,
            "linecolor": "white",
            "showbackground": true,
            "ticks": "",
            "zerolinecolor": "white"
           },
           "zaxis": {
            "backgroundcolor": "#E5ECF6",
            "gridcolor": "white",
            "gridwidth": 2,
            "linecolor": "white",
            "showbackground": true,
            "ticks": "",
            "zerolinecolor": "white"
           }
          },
          "shapedefaults": {
           "line": {
            "color": "#2a3f5f"
           }
          },
          "ternary": {
           "aaxis": {
            "gridcolor": "white",
            "linecolor": "white",
            "ticks": ""
           },
           "baxis": {
            "gridcolor": "white",
            "linecolor": "white",
            "ticks": ""
           },
           "bgcolor": "#E5ECF6",
           "caxis": {
            "gridcolor": "white",
            "linecolor": "white",
            "ticks": ""
           }
          },
          "title": {
           "x": 0.05
          },
          "xaxis": {
           "automargin": true,
           "gridcolor": "white",
           "linecolor": "white",
           "ticks": "",
           "title": {
            "standoff": 15
           },
           "zerolinecolor": "white",
           "zerolinewidth": 2
          },
          "yaxis": {
           "automargin": true,
           "gridcolor": "white",
           "linecolor": "white",
           "ticks": "",
           "title": {
            "standoff": 15
           },
           "zerolinecolor": "white",
           "zerolinewidth": 2
          }
         }
        },
        "width": 900,
        "xaxis": {
         "autorange": true,
         "range": [
          1850,
          1918
         ],
         "tickfont": {
          "size": 16
         },
         "title": {
          "font": {
           "size": 16
          }
         },
         "type": "linear"
        },
        "yaxis": {
         "autorange": true,
         "range": [
          0.06434357873601884,
          0.8024121711245775
         ],
         "tickfont": {
          "size": 16
         },
         "title": {
          "font": {
           "size": 16
          },
          "text": "Anteil an Texten"
         },
         "type": "linear"
        }
       }
      },
      "text/html": [
       "<div>                            <div id=\"5d84fad1-f767-4d78-91ee-8972e74bb57b\" class=\"plotly-graph-div\" style=\"height:500px; width:900px;\"></div>            <script type=\"text/javascript\">                require([\"plotly\"], function(Plotly) {                    window.PLOTLYENV=window.PLOTLYENV || {};                                    if (document.getElementById(\"5d84fad1-f767-4d78-91ee-8972e74bb57b\")) {                    Plotly.newPlot(                        \"5d84fad1-f767-4d78-91ee-8972e74bb57b\",                        [{\"line\":{\"color\":\"#636EFA\",\"width\":6},\"mode\":\"lines\",\"name\":\"Deutungen pro Text\",\"x\":[1850,1851,1852,1853,1854,1855,1856,1857,1858,1859,1860,1861,1862,1863,1864,1865,1866,1867,1868,1869,1870,1871,1872,1873,1874,1875,1876,1877,1878,1879,1880,1881,1882,1883,1884,1885,1886,1887,1888,1889,1890,1891,1892,1893,1894,1895,1896,1897,1898,1899,1900,1901,1902,1903,1904,1905,1906,1907,1908,1909,1910,1911,1912,1913,1914,1915,1916,1917,1918],\"y\":[null,null,null,null,null,0.5790483001220625,0.5813617312761624,0.5788022449590907,0.5911703817540281,0.5966353089004729,0.605220453525826,0.618301189068344,0.6096036312576104,0.5890633796092929,0.5486170757241079,0.6086237115523006,0.654253506026392,0.6492005997704816,0.6648893497153278,0.6674141255329789,0.6995157543746992,0.7034172837499253,0.7237645707476567,0.7398607486514797,0.7380349885320612,0.7655087415051496,0.6659315104384098,0.6148268640642922,0.6209480104670675,0.6158746887172615,0.6179801205493316,0.6023657088679479,0.6021152382715425,0.5862689243870902,0.5648488937056414,0.5216717063940204,0.5217846111044707,0.5496207705861113,0.5492980557929695,0.5519041205209579,0.5370941318218009,0.5151284670493214,0.5535733945016789,0.5692503416325636,0.5420560946190115,0.5733727293186172,0.5970093137659976,0.6103669092749697,0.6090091817371962,0.6002539455823279,0.5714456935781443,0.547489008914796,0.5382160276368172,0.46899638272763855,0.4401841492299523,0.4415559261098328,0.4266755077011953,0.4054415491728882,0.3692709453585027,0.38434248487061334,0.3898831452995689,0.3826385718942395,0.38504908146868966,0.41672410697122164,null,null,null,null,null],\"type\":\"scatter\"},{\"marker\":{\"color\":[\"#636EFA\",\"#EF553B\",\"#00CC96\",\"#AB63FA\",\"#FFA15A\",\"#19D3F3\"],\"size\":14,\"symbol\":\"circle\"},\"mode\":\"markers\",\"name\":\"Kanonisierte Moderne\",\"showlegend\":false,\"x\":[1903.0,1903.0,1903.0,1903.0],\"y\":[0.13274336283185842],\"type\":\"scatter\"},{\"marker\":{\"color\":\"black\",\"size\":14,\"symbol\":\"circle\"},\"mode\":\"markers\",\"name\":\"Kanonisierte Moderne\",\"x\":[null],\"y\":[null],\"type\":\"scatter\"},{\"marker\":{\"color\":[\"#636EFA\",\"#EF553B\",\"#00CC96\",\"#AB63FA\",\"#FFA15A\",\"#19D3F3\"],\"size\":14,\"symbol\":\"square\"},\"mode\":\"markers\",\"name\":\"Münchhausen-Kreis\",\"showlegend\":false,\"x\":[1905.0,1905.0,1905.0,1905.0],\"y\":[0.12142857142857143],\"type\":\"scatter\"},{\"marker\":{\"color\":\"black\",\"size\":14,\"symbol\":\"square\"},\"mode\":\"markers\",\"name\":\"Münchhausen-Kreis\",\"x\":[null],\"y\":[null],\"type\":\"scatter\"}],                        {\"template\":{\"data\":{\"histogram2dcontour\":[{\"type\":\"histogram2dcontour\",\"colorbar\":{\"outlinewidth\":0,\"ticks\":\"\"},\"colorscale\":[[0.0,\"#0d0887\"],[0.1111111111111111,\"#46039f\"],[0.2222222222222222,\"#7201a8\"],[0.3333333333333333,\"#9c179e\"],[0.4444444444444444,\"#bd3786\"],[0.5555555555555556,\"#d8576b\"],[0.6666666666666666,\"#ed7953\"],[0.7777777777777778,\"#fb9f3a\"],[0.8888888888888888,\"#fdca26\"],[1.0,\"#f0f921\"]]}],\"choropleth\":[{\"type\":\"choropleth\",\"colorbar\":{\"outlinewidth\":0,\"ticks\":\"\"}}],\"histogram2d\":[{\"type\":\"histogram2d\",\"colorbar\":{\"outlinewidth\":0,\"ticks\":\"\"},\"colorscale\":[[0.0,\"#0d0887\"],[0.1111111111111111,\"#46039f\"],[0.2222222222222222,\"#7201a8\"],[0.3333333333333333,\"#9c179e\"],[0.4444444444444444,\"#bd3786\"],[0.5555555555555556,\"#d8576b\"],[0.6666666666666666,\"#ed7953\"],[0.7777777777777778,\"#fb9f3a\"],[0.8888888888888888,\"#fdca26\"],[1.0,\"#f0f921\"]]}],\"heatmap\":[{\"type\":\"heatmap\",\"colorbar\":{\"outlinewidth\":0,\"ticks\":\"\"},\"colorscale\":[[0.0,\"#0d0887\"],[0.1111111111111111,\"#46039f\"],[0.2222222222222222,\"#7201a8\"],[0.3333333333333333,\"#9c179e\"],[0.4444444444444444,\"#bd3786\"],[0.5555555555555556,\"#d8576b\"],[0.6666666666666666,\"#ed7953\"],[0.7777777777777778,\"#fb9f3a\"],[0.8888888888888888,\"#fdca26\"],[1.0,\"#f0f921\"]]}],\"heatmapgl\":[{\"type\":\"heatmapgl\",\"colorbar\":{\"outlinewidth\":0,\"ticks\":\"\"},\"colorscale\":[[0.0,\"#0d0887\"],[0.1111111111111111,\"#46039f\"],[0.2222222222222222,\"#7201a8\"],[0.3333333333333333,\"#9c179e\"],[0.4444444444444444,\"#bd3786\"],[0.5555555555555556,\"#d8576b\"],[0.6666666666666666,\"#ed7953\"],[0.7777777777777778,\"#fb9f3a\"],[0.8888888888888888,\"#fdca26\"],[1.0,\"#f0f921\"]]}],\"contourcarpet\":[{\"type\":\"contourcarpet\",\"colorbar\":{\"outlinewidth\":0,\"ticks\":\"\"}}],\"contour\":[{\"type\":\"contour\",\"colorbar\":{\"outlinewidth\":0,\"ticks\":\"\"},\"colorscale\":[[0.0,\"#0d0887\"],[0.1111111111111111,\"#46039f\"],[0.2222222222222222,\"#7201a8\"],[0.3333333333333333,\"#9c179e\"],[0.4444444444444444,\"#bd3786\"],[0.5555555555555556,\"#d8576b\"],[0.6666666666666666,\"#ed7953\"],[0.7777777777777778,\"#fb9f3a\"],[0.8888888888888888,\"#fdca26\"],[1.0,\"#f0f921\"]]}],\"surface\":[{\"type\":\"surface\",\"colorbar\":{\"outlinewidth\":0,\"ticks\":\"\"},\"colorscale\":[[0.0,\"#0d0887\"],[0.1111111111111111,\"#46039f\"],[0.2222222222222222,\"#7201a8\"],[0.3333333333333333,\"#9c179e\"],[0.4444444444444444,\"#bd3786\"],[0.5555555555555556,\"#d8576b\"],[0.6666666666666666,\"#ed7953\"],[0.7777777777777778,\"#fb9f3a\"],[0.8888888888888888,\"#fdca26\"],[1.0,\"#f0f921\"]]}],\"mesh3d\":[{\"type\":\"mesh3d\",\"colorbar\":{\"outlinewidth\":0,\"ticks\":\"\"}}],\"scatter\":[{\"fillpattern\":{\"fillmode\":\"overlay\",\"size\":10,\"solidity\":0.2},\"type\":\"scatter\"}],\"parcoords\":[{\"type\":\"parcoords\",\"line\":{\"colorbar\":{\"outlinewidth\":0,\"ticks\":\"\"}}}],\"scatterpolargl\":[{\"type\":\"scatterpolargl\",\"marker\":{\"colorbar\":{\"outlinewidth\":0,\"ticks\":\"\"}}}],\"bar\":[{\"error_x\":{\"color\":\"#2a3f5f\"},\"error_y\":{\"color\":\"#2a3f5f\"},\"marker\":{\"line\":{\"color\":\"#E5ECF6\",\"width\":0.5},\"pattern\":{\"fillmode\":\"overlay\",\"size\":10,\"solidity\":0.2}},\"type\":\"bar\"}],\"scattergeo\":[{\"type\":\"scattergeo\",\"marker\":{\"colorbar\":{\"outlinewidth\":0,\"ticks\":\"\"}}}],\"scatterpolar\":[{\"type\":\"scatterpolar\",\"marker\":{\"colorbar\":{\"outlinewidth\":0,\"ticks\":\"\"}}}],\"histogram\":[{\"marker\":{\"pattern\":{\"fillmode\":\"overlay\",\"size\":10,\"solidity\":0.2}},\"type\":\"histogram\"}],\"scattergl\":[{\"type\":\"scattergl\",\"marker\":{\"colorbar\":{\"outlinewidth\":0,\"ticks\":\"\"}}}],\"scatter3d\":[{\"type\":\"scatter3d\",\"line\":{\"colorbar\":{\"outlinewidth\":0,\"ticks\":\"\"}},\"marker\":{\"colorbar\":{\"outlinewidth\":0,\"ticks\":\"\"}}}],\"scattermapbox\":[{\"type\":\"scattermapbox\",\"marker\":{\"colorbar\":{\"outlinewidth\":0,\"ticks\":\"\"}}}],\"scatterternary\":[{\"type\":\"scatterternary\",\"marker\":{\"colorbar\":{\"outlinewidth\":0,\"ticks\":\"\"}}}],\"scattercarpet\":[{\"type\":\"scattercarpet\",\"marker\":{\"colorbar\":{\"outlinewidth\":0,\"ticks\":\"\"}}}],\"carpet\":[{\"aaxis\":{\"endlinecolor\":\"#2a3f5f\",\"gridcolor\":\"white\",\"linecolor\":\"white\",\"minorgridcolor\":\"white\",\"startlinecolor\":\"#2a3f5f\"},\"baxis\":{\"endlinecolor\":\"#2a3f5f\",\"gridcolor\":\"white\",\"linecolor\":\"white\",\"minorgridcolor\":\"white\",\"startlinecolor\":\"#2a3f5f\"},\"type\":\"carpet\"}],\"table\":[{\"cells\":{\"fill\":{\"color\":\"#EBF0F8\"},\"line\":{\"color\":\"white\"}},\"header\":{\"fill\":{\"color\":\"#C8D4E3\"},\"line\":{\"color\":\"white\"}},\"type\":\"table\"}],\"barpolar\":[{\"marker\":{\"line\":{\"color\":\"#E5ECF6\",\"width\":0.5},\"pattern\":{\"fillmode\":\"overlay\",\"size\":10,\"solidity\":0.2}},\"type\":\"barpolar\"}],\"pie\":[{\"automargin\":true,\"type\":\"pie\"}]},\"layout\":{\"autotypenumbers\":\"strict\",\"colorway\":[\"#636efa\",\"#EF553B\",\"#00cc96\",\"#ab63fa\",\"#FFA15A\",\"#19d3f3\",\"#FF6692\",\"#B6E880\",\"#FF97FF\",\"#FECB52\"],\"font\":{\"color\":\"#2a3f5f\"},\"hovermode\":\"closest\",\"hoverlabel\":{\"align\":\"left\"},\"paper_bgcolor\":\"white\",\"plot_bgcolor\":\"#E5ECF6\",\"polar\":{\"bgcolor\":\"#E5ECF6\",\"angularaxis\":{\"gridcolor\":\"white\",\"linecolor\":\"white\",\"ticks\":\"\"},\"radialaxis\":{\"gridcolor\":\"white\",\"linecolor\":\"white\",\"ticks\":\"\"}},\"ternary\":{\"bgcolor\":\"#E5ECF6\",\"aaxis\":{\"gridcolor\":\"white\",\"linecolor\":\"white\",\"ticks\":\"\"},\"baxis\":{\"gridcolor\":\"white\",\"linecolor\":\"white\",\"ticks\":\"\"},\"caxis\":{\"gridcolor\":\"white\",\"linecolor\":\"white\",\"ticks\":\"\"}},\"coloraxis\":{\"colorbar\":{\"outlinewidth\":0,\"ticks\":\"\"}},\"colorscale\":{\"sequential\":[[0.0,\"#0d0887\"],[0.1111111111111111,\"#46039f\"],[0.2222222222222222,\"#7201a8\"],[0.3333333333333333,\"#9c179e\"],[0.4444444444444444,\"#bd3786\"],[0.5555555555555556,\"#d8576b\"],[0.6666666666666666,\"#ed7953\"],[0.7777777777777778,\"#fb9f3a\"],[0.8888888888888888,\"#fdca26\"],[1.0,\"#f0f921\"]],\"sequentialminus\":[[0.0,\"#0d0887\"],[0.1111111111111111,\"#46039f\"],[0.2222222222222222,\"#7201a8\"],[0.3333333333333333,\"#9c179e\"],[0.4444444444444444,\"#bd3786\"],[0.5555555555555556,\"#d8576b\"],[0.6666666666666666,\"#ed7953\"],[0.7777777777777778,\"#fb9f3a\"],[0.8888888888888888,\"#fdca26\"],[1.0,\"#f0f921\"]],\"diverging\":[[0,\"#8e0152\"],[0.1,\"#c51b7d\"],[0.2,\"#de77ae\"],[0.3,\"#f1b6da\"],[0.4,\"#fde0ef\"],[0.5,\"#f7f7f7\"],[0.6,\"#e6f5d0\"],[0.7,\"#b8e186\"],[0.8,\"#7fbc41\"],[0.9,\"#4d9221\"],[1,\"#276419\"]]},\"xaxis\":{\"gridcolor\":\"white\",\"linecolor\":\"white\",\"ticks\":\"\",\"title\":{\"standoff\":15},\"zerolinecolor\":\"white\",\"automargin\":true,\"zerolinewidth\":2},\"yaxis\":{\"gridcolor\":\"white\",\"linecolor\":\"white\",\"ticks\":\"\",\"title\":{\"standoff\":15},\"zerolinecolor\":\"white\",\"automargin\":true,\"zerolinewidth\":2},\"scene\":{\"xaxis\":{\"backgroundcolor\":\"#E5ECF6\",\"gridcolor\":\"white\",\"linecolor\":\"white\",\"showbackground\":true,\"ticks\":\"\",\"zerolinecolor\":\"white\",\"gridwidth\":2},\"yaxis\":{\"backgroundcolor\":\"#E5ECF6\",\"gridcolor\":\"white\",\"linecolor\":\"white\",\"showbackground\":true,\"ticks\":\"\",\"zerolinecolor\":\"white\",\"gridwidth\":2},\"zaxis\":{\"backgroundcolor\":\"#E5ECF6\",\"gridcolor\":\"white\",\"linecolor\":\"white\",\"showbackground\":true,\"ticks\":\"\",\"zerolinecolor\":\"white\",\"gridwidth\":2}},\"shapedefaults\":{\"line\":{\"color\":\"#2a3f5f\"}},\"annotationdefaults\":{\"arrowcolor\":\"#2a3f5f\",\"arrowhead\":0,\"arrowwidth\":1},\"geo\":{\"bgcolor\":\"white\",\"landcolor\":\"#E5ECF6\",\"subunitcolor\":\"white\",\"showland\":true,\"showlakes\":true,\"lakecolor\":\"white\"},\"title\":{\"x\":0.05},\"mapbox\":{\"style\":\"light\"}}},\"xaxis\":{\"tickfont\":{\"size\":16},\"title\":{\"font\":{\"size\":16}}},\"yaxis\":{\"tickfont\":{\"size\":16},\"title\":{\"text\":\"Anteil an Texten\",\"font\":{\"size\":16}}},\"legend\":{\"font\":{\"size\":16},\"traceorder\":\"normal\"},\"width\":900,\"height\":500},                        {\"responsive\": true}                    ).then(function(){\n",
       "                            \n",
       "var gd = document.getElementById('5d84fad1-f767-4d78-91ee-8972e74bb57b');\n",
       "var x = new MutationObserver(function (mutations, observer) {{\n",
       "        var display = window.getComputedStyle(gd).display;\n",
       "        if (!display || display === 'none') {{\n",
       "            console.log([gd, 'removed!']);\n",
       "            Plotly.purge(gd);\n",
       "            observer.disconnect();\n",
       "        }}\n",
       "}});\n",
       "\n",
       "// Listen for the removal of the full notebook cells\n",
       "var notebookContainer = gd.closest('#notebook-container');\n",
       "if (notebookContainer) {{\n",
       "    x.observe(notebookContainer, {childList: true});\n",
       "}}\n",
       "\n",
       "// Listen for the clearing of the current output cell\n",
       "var outputEl = gd.closest('.output');\n",
       "if (outputEl) {{\n",
       "    x.observe(outputEl, {childList: true});\n",
       "}}\n",
       "\n",
       "                        })                };                });            </script>        </div>"
      ]
     },
     "metadata": {},
     "output_type": "display_data"
    }
   ],
   "source": [
    "meta_plot = ts[['deutungen_per_text_smoothed']]\n",
    "meta_plot.columns = ['Deutungen pro Text']\n",
    "\n",
    "fig = create_ts_plot(\n",
    "    data = meta_plot, \n",
    "    columns = meta_plot.columns, \n",
    "    y_axis_title = 'Anteil an Texten',\n",
    "    add_corporas = sub_df, add_corpora_names = sub_names,\n",
    "    add_corpora_categories = ['deutungen_per_text']\n",
    ")\n",
    "fig.show()"
   ]
  },
  {
   "cell_type": "code",
   "execution_count": 18,
   "id": "a6407020-b7dd-464a-8e63-ab6267e064d8",
   "metadata": {},
   "outputs": [
    {
     "data": {
      "text/html": [
       "<div>\n",
       "<style scoped>\n",
       "    .dataframe tbody tr th:only-of-type {\n",
       "        vertical-align: middle;\n",
       "    }\n",
       "\n",
       "    .dataframe tbody tr th {\n",
       "        vertical-align: top;\n",
       "    }\n",
       "\n",
       "    .dataframe thead th {\n",
       "        text-align: right;\n",
       "    }\n",
       "</style>\n",
       "<table border=\"1\" class=\"dataframe\">\n",
       "  <thead>\n",
       "    <tr style=\"text-align: right;\">\n",
       "      <th></th>\n",
       "      <th>wenn_nicht</th>\n",
       "      <th>wenn_nicht_detail</th>\n",
       "      <th>wenn_ja</th>\n",
       "      <th>wenn_ja_detail</th>\n",
       "      <th>diff_low_bootstrap</th>\n",
       "      <th>diff_low</th>\n",
       "      <th>diff</th>\n",
       "      <th>diff_high</th>\n",
       "      <th>diff_high_bootstrap</th>\n",
       "      <th>chi2</th>\n",
       "      <th>chi2_p</th>\n",
       "      <th>fisher_p</th>\n",
       "      <th>phi</th>\n",
       "      <th>min_real</th>\n",
       "      <th>min_expected</th>\n",
       "    </tr>\n",
       "  </thead>\n",
       "  <tbody>\n",
       "    <tr>\n",
       "      <th>heroismus</th>\n",
       "      <td>0.26</td>\n",
       "      <td>412/1597</td>\n",
       "      <td>0.44</td>\n",
       "      <td>111/253</td>\n",
       "      <td>0.11</td>\n",
       "      <td>0.12</td>\n",
       "      <td>0.18</td>\n",
       "      <td>0.25</td>\n",
       "      <td>0.24</td>\n",
       "      <td>35.19</td>\n",
       "      <td>0.0</td>\n",
       "      <td>0.0</td>\n",
       "      <td>0.14</td>\n",
       "      <td>111.0</td>\n",
       "      <td>71.52</td>\n",
       "    </tr>\n",
       "    <tr>\n",
       "      <th>religiositaet</th>\n",
       "      <td>0.15</td>\n",
       "      <td>240/1597</td>\n",
       "      <td>0.31</td>\n",
       "      <td>78/253</td>\n",
       "      <td>0.10</td>\n",
       "      <td>0.10</td>\n",
       "      <td>0.16</td>\n",
       "      <td>0.22</td>\n",
       "      <td>0.22</td>\n",
       "      <td>38.31</td>\n",
       "      <td>0.0</td>\n",
       "      <td>0.0</td>\n",
       "      <td>0.14</td>\n",
       "      <td>78.0</td>\n",
       "      <td>43.49</td>\n",
       "    </tr>\n",
       "  </tbody>\n",
       "</table>\n",
       "</div>"
      ],
      "text/plain": [
       "               wenn_nicht wenn_nicht_detail  wenn_ja wenn_ja_detail  \\\n",
       "heroismus            0.26          412/1597     0.44        111/253   \n",
       "religiositaet        0.15          240/1597     0.31         78/253   \n",
       "\n",
       "               diff_low_bootstrap  diff_low  diff  diff_high  \\\n",
       "heroismus                    0.11      0.12  0.18       0.25   \n",
       "religiositaet                0.10      0.10  0.16       0.22   \n",
       "\n",
       "               diff_high_bootstrap   chi2  chi2_p  fisher_p   phi  min_real  \\\n",
       "heroismus                     0.24  35.19     0.0       0.0  0.14     111.0   \n",
       "religiositaet                 0.22  38.31     0.0       0.0  0.14      78.0   \n",
       "\n",
       "               min_expected  \n",
       "heroismus             71.52  \n",
       "religiositaet         43.49  "
      ]
     },
     "execution_count": 18,
     "metadata": {},
     "output_type": "execute_result"
    }
   ],
   "source": [
    "results = relations_binbin(\n",
    "    meta = meta_anth_bin, \n",
    "    main_feature = 'nationalismus',\n",
    "    comp_features = ['heroismus', 'religiositaet']\n",
    ")\n",
    "round(results, 2)"
   ]
  },
  {
   "cell_type": "code",
   "execution_count": 19,
   "id": "64d2ad44-a3b8-408b-814b-6f04e4bb1116",
   "metadata": {},
   "outputs": [
    {
     "data": {
      "text/html": [
       "<div>\n",
       "<style scoped>\n",
       "    .dataframe tbody tr th:only-of-type {\n",
       "        vertical-align: middle;\n",
       "    }\n",
       "\n",
       "    .dataframe tbody tr th {\n",
       "        vertical-align: top;\n",
       "    }\n",
       "\n",
       "    .dataframe thead th {\n",
       "        text-align: right;\n",
       "    }\n",
       "</style>\n",
       "<table border=\"1\" class=\"dataframe\">\n",
       "  <thead>\n",
       "    <tr style=\"text-align: right;\">\n",
       "      <th></th>\n",
       "      <th>wenn_nicht</th>\n",
       "      <th>wenn_nicht_detail</th>\n",
       "      <th>wenn_ja</th>\n",
       "      <th>wenn_ja_detail</th>\n",
       "      <th>diff_low_bootstrap</th>\n",
       "      <th>diff_low</th>\n",
       "      <th>diff</th>\n",
       "      <th>diff_high</th>\n",
       "      <th>diff_high_bootstrap</th>\n",
       "      <th>chi2</th>\n",
       "      <th>chi2_p</th>\n",
       "      <th>fisher_p</th>\n",
       "      <th>phi</th>\n",
       "      <th>min_real</th>\n",
       "      <th>min_expected</th>\n",
       "    </tr>\n",
       "  </thead>\n",
       "  <tbody>\n",
       "    <tr>\n",
       "      <th>religiositaet</th>\n",
       "      <td>0.16</td>\n",
       "      <td>211/1327</td>\n",
       "      <td>0.2</td>\n",
       "      <td>107/523</td>\n",
       "      <td>0.01</td>\n",
       "      <td>0.01</td>\n",
       "      <td>0.05</td>\n",
       "      <td>0.09</td>\n",
       "      <td>0.09</td>\n",
       "      <td>5.48</td>\n",
       "      <td>0.02</td>\n",
       "      <td>0.02</td>\n",
       "      <td>0.05</td>\n",
       "      <td>107.0</td>\n",
       "      <td>89.9</td>\n",
       "    </tr>\n",
       "  </tbody>\n",
       "</table>\n",
       "</div>"
      ],
      "text/plain": [
       "               wenn_nicht wenn_nicht_detail  wenn_ja wenn_ja_detail  \\\n",
       "religiositaet        0.16          211/1327      0.2        107/523   \n",
       "\n",
       "               diff_low_bootstrap  diff_low  diff  diff_high  \\\n",
       "religiositaet                0.01      0.01  0.05       0.09   \n",
       "\n",
       "               diff_high_bootstrap  chi2  chi2_p  fisher_p   phi  min_real  \\\n",
       "religiositaet                 0.09  5.48    0.02      0.02  0.05     107.0   \n",
       "\n",
       "               min_expected  \n",
       "religiositaet          89.9  "
      ]
     },
     "execution_count": 19,
     "metadata": {},
     "output_type": "execute_result"
    }
   ],
   "source": [
    "results = relations_binbin(\n",
    "    meta = meta_anth_bin, \n",
    "    main_feature = 'heroismus',\n",
    "    comp_features = ['religiositaet']\n",
    ")\n",
    "round(results, 2)"
   ]
  },
  {
   "cell_type": "markdown",
   "id": "cbdb201c",
   "metadata": {},
   "source": [
    "# Heroismus"
   ]
  },
  {
   "cell_type": "code",
   "execution_count": 20,
   "id": "8b9882e5",
   "metadata": {},
   "outputs": [],
   "source": [
    "main_feature = 'heroismus'"
   ]
  },
  {
   "cell_type": "code",
   "execution_count": 21,
   "id": "388fd04a",
   "metadata": {},
   "outputs": [
    {
     "data": {
      "text/plain": [
       "heroismus                               1.000000\n",
       "unbekanntes_individuum_positiv          0.309271\n",
       "entity_positiv                          0.294308\n",
       "bekanntes_individuum_positiv            0.277802\n",
       "krieg_positiv                           0.276537\n",
       "krieg                                   0.248916\n",
       "ueberlieferung_positiv                  0.232681\n",
       "kollektiv_positiv                       0.221385\n",
       "fixierbarkeit                           0.179551\n",
       "sprechinstanz_nicht_in_vergangenheit    0.176901\n",
       "marker_count                            0.168803\n",
       "stoffgebiet_positiv                     0.167379\n",
       "ortmarker_vorhanden                     0.164351\n",
       "words                                   0.164269\n",
       "liebe_negativ                           0.158114\n",
       "religion_positiv                        0.155404\n",
       "politik_positiv                         0.150203\n",
       "nationalismus                           0.137914\n",
       "nation_volk_d_positiv                   0.135351\n",
       "ueberlieferung                          0.126413\n",
       "Name: heroismus, dtype: float64"
      ]
     },
     "execution_count": 21,
     "metadata": {},
     "output_type": "execute_result"
    }
   ],
   "source": [
    "meta_anth_bin.corr(numeric_only=True)[main_feature].sort_values(ascending = False).head(20)"
   ]
  },
  {
   "cell_type": "code",
   "execution_count": 22,
   "id": "f010c756",
   "metadata": {},
   "outputs": [
    {
     "data": {
      "text/plain": [
       "rollengedicht                     -0.186768\n",
       "krieg_negativ                     -0.183105\n",
       "entity_neutral                    -0.177260\n",
       "sprechinstanz_in_vergangenheit    -0.167335\n",
       "stoffgebiet_neutral               -0.144608\n",
       "religion_negativ                  -0.097317\n",
       "ueberlieferung_negativ            -0.093884\n",
       "unbekanntes_individuum_count      -0.090588\n",
       "religion                          -0.087040\n",
       "sprechakt_beschreiben_vorhanden   -0.087020\n",
       "year_predict_ages_mean            -0.084548\n",
       "period                            -0.082185\n",
       "decade                            -0.079516\n",
       "year                              -0.078813\n",
       "geschichtsauffassung_negativ      -0.063062\n",
       "antike                            -0.061992\n",
       "nichtmensch_count                 -0.060986\n",
       "stoffgebiet_negativ               -0.058903\n",
       "verfremdung                       -0.056760\n",
       "in_hohem_mass_konkret             -0.048917\n",
       "Name: heroismus, dtype: float64"
      ]
     },
     "execution_count": 22,
     "metadata": {},
     "output_type": "execute_result"
    }
   ],
   "source": [
    "meta_anth_bin.corr(numeric_only=True)[main_feature].sort_values(ascending = True).head(20)"
   ]
  },
  {
   "cell_type": "code",
   "execution_count": 23,
   "id": "f1dd1197",
   "metadata": {},
   "outputs": [],
   "source": [
    "threshold = 0.2\n",
    "\n",
    "bin_comp_features = get_features(meta_anth_bin.corr(numeric_only=True)[main_feature], threshold = threshold, mode = 'bin')\n",
    "cont_comp_features = get_features(meta_anth_bin.corr(numeric_only=True)[main_feature], threshold = threshold, mode = 'cont')"
   ]
  },
  {
   "cell_type": "code",
   "execution_count": 24,
   "id": "775c2f63",
   "metadata": {},
   "outputs": [],
   "source": [
    "results = relations_binbin(\n",
    "    meta = meta_anth_bin, \n",
    "    main_feature = main_feature,\n",
    "    comp_features = bin_comp_features\n",
    ")"
   ]
  },
  {
   "cell_type": "code",
   "execution_count": 25,
   "id": "089ea8ff",
   "metadata": {},
   "outputs": [
    {
     "data": {
      "text/html": [
       "<div>\n",
       "<style scoped>\n",
       "    .dataframe tbody tr th:only-of-type {\n",
       "        vertical-align: middle;\n",
       "    }\n",
       "\n",
       "    .dataframe tbody tr th {\n",
       "        vertical-align: top;\n",
       "    }\n",
       "\n",
       "    .dataframe thead th {\n",
       "        text-align: right;\n",
       "    }\n",
       "</style>\n",
       "<table border=\"1\" class=\"dataframe\">\n",
       "  <thead>\n",
       "    <tr style=\"text-align: right;\">\n",
       "      <th></th>\n",
       "      <th>wenn_nicht</th>\n",
       "      <th>wenn_nicht_detail</th>\n",
       "      <th>wenn_ja</th>\n",
       "      <th>wenn_ja_detail</th>\n",
       "      <th>diff_low_bootstrap</th>\n",
       "      <th>diff_low</th>\n",
       "      <th>diff</th>\n",
       "      <th>diff_high</th>\n",
       "      <th>diff_high_bootstrap</th>\n",
       "      <th>chi2</th>\n",
       "      <th>chi2_p</th>\n",
       "      <th>fisher_p</th>\n",
       "      <th>phi</th>\n",
       "      <th>min_real</th>\n",
       "      <th>min_expected</th>\n",
       "    </tr>\n",
       "  </thead>\n",
       "  <tbody>\n",
       "    <tr>\n",
       "      <th>krieg_positiv</th>\n",
       "      <td>0.41</td>\n",
       "      <td>193/469</td>\n",
       "      <td>0.69</td>\n",
       "      <td>227/328</td>\n",
       "      <td>0.21</td>\n",
       "      <td>0.21</td>\n",
       "      <td>0.28</td>\n",
       "      <td>0.35</td>\n",
       "      <td>0.35</td>\n",
       "      <td>60.95</td>\n",
       "      <td>0.0</td>\n",
       "      <td>0.0</td>\n",
       "      <td>0.28</td>\n",
       "      <td>101.0</td>\n",
       "      <td>155.15</td>\n",
       "    </tr>\n",
       "    <tr>\n",
       "      <th>krieg</th>\n",
       "      <td>0.35</td>\n",
       "      <td>469/1327</td>\n",
       "      <td>0.63</td>\n",
       "      <td>328/523</td>\n",
       "      <td>0.22</td>\n",
       "      <td>0.22</td>\n",
       "      <td>0.27</td>\n",
       "      <td>0.32</td>\n",
       "      <td>0.32</td>\n",
       "      <td>114.62</td>\n",
       "      <td>0.0</td>\n",
       "      <td>0.0</td>\n",
       "      <td>0.25</td>\n",
       "      <td>195.0</td>\n",
       "      <td>225.31</td>\n",
       "    </tr>\n",
       "    <tr>\n",
       "      <th>unbekanntes_individuum_positiv</th>\n",
       "      <td>0.29</td>\n",
       "      <td>148/506</td>\n",
       "      <td>0.55</td>\n",
       "      <td>69/125</td>\n",
       "      <td>0.16</td>\n",
       "      <td>0.16</td>\n",
       "      <td>0.26</td>\n",
       "      <td>0.36</td>\n",
       "      <td>0.36</td>\n",
       "      <td>29.92</td>\n",
       "      <td>0.0</td>\n",
       "      <td>0.0</td>\n",
       "      <td>0.22</td>\n",
       "      <td>56.0</td>\n",
       "      <td>42.99</td>\n",
       "    </tr>\n",
       "    <tr>\n",
       "      <th>bekanntes_individuum_positiv</th>\n",
       "      <td>0.49</td>\n",
       "      <td>674/1370</td>\n",
       "      <td>0.73</td>\n",
       "      <td>478/655</td>\n",
       "      <td>0.19</td>\n",
       "      <td>0.19</td>\n",
       "      <td>0.24</td>\n",
       "      <td>0.28</td>\n",
       "      <td>0.28</td>\n",
       "      <td>102.17</td>\n",
       "      <td>0.0</td>\n",
       "      <td>0.0</td>\n",
       "      <td>0.22</td>\n",
       "      <td>177.0</td>\n",
       "      <td>282.38</td>\n",
       "    </tr>\n",
       "    <tr>\n",
       "      <th>ueberlieferung_positiv</th>\n",
       "      <td>0.47</td>\n",
       "      <td>126/266</td>\n",
       "      <td>0.71</td>\n",
       "      <td>118/166</td>\n",
       "      <td>0.14</td>\n",
       "      <td>0.15</td>\n",
       "      <td>0.24</td>\n",
       "      <td>0.33</td>\n",
       "      <td>0.32</td>\n",
       "      <td>23.39</td>\n",
       "      <td>0.0</td>\n",
       "      <td>0.0</td>\n",
       "      <td>0.23</td>\n",
       "      <td>48.0</td>\n",
       "      <td>72.24</td>\n",
       "    </tr>\n",
       "  </tbody>\n",
       "</table>\n",
       "</div>"
      ],
      "text/plain": [
       "                                wenn_nicht wenn_nicht_detail  wenn_ja  \\\n",
       "krieg_positiv                         0.41           193/469     0.69   \n",
       "krieg                                 0.35          469/1327     0.63   \n",
       "unbekanntes_individuum_positiv        0.29           148/506     0.55   \n",
       "bekanntes_individuum_positiv          0.49          674/1370     0.73   \n",
       "ueberlieferung_positiv                0.47           126/266     0.71   \n",
       "\n",
       "                               wenn_ja_detail  diff_low_bootstrap  diff_low  \\\n",
       "krieg_positiv                         227/328                0.21      0.21   \n",
       "krieg                                 328/523                0.22      0.22   \n",
       "unbekanntes_individuum_positiv         69/125                0.16      0.16   \n",
       "bekanntes_individuum_positiv          478/655                0.19      0.19   \n",
       "ueberlieferung_positiv                118/166                0.14      0.15   \n",
       "\n",
       "                                diff  diff_high  diff_high_bootstrap    chi2  \\\n",
       "krieg_positiv                   0.28       0.35                 0.35   60.95   \n",
       "krieg                           0.27       0.32                 0.32  114.62   \n",
       "unbekanntes_individuum_positiv  0.26       0.36                 0.36   29.92   \n",
       "bekanntes_individuum_positiv    0.24       0.28                 0.28  102.17   \n",
       "ueberlieferung_positiv          0.24       0.33                 0.32   23.39   \n",
       "\n",
       "                                chi2_p  fisher_p   phi  min_real  min_expected  \n",
       "krieg_positiv                      0.0       0.0  0.28     101.0        155.15  \n",
       "krieg                              0.0       0.0  0.25     195.0        225.31  \n",
       "unbekanntes_individuum_positiv     0.0       0.0  0.22      56.0         42.99  \n",
       "bekanntes_individuum_positiv       0.0       0.0  0.22     177.0        282.38  \n",
       "ueberlieferung_positiv             0.0       0.0  0.23      48.0         72.24  "
      ]
     },
     "execution_count": 25,
     "metadata": {},
     "output_type": "execute_result"
    }
   ],
   "source": [
    "directly_related = [\n",
    "    'entity_positiv', # related to other entities\n",
    "]\n",
    "results_filtered = (\n",
    "    results\n",
    "    .query(\"index not in @directly_related\")\n",
    "    .query(\"chi2_p < 0.05 and min_expected >= 5 and phi >= @threshold\")\n",
    "    .sort_values(by = 'diff', ascending = False)\n",
    ")\n",
    "round(results_filtered, 2)"
   ]
  },
  {
   "cell_type": "code",
   "execution_count": 26,
   "id": "bb17d0e7-6a31-48c5-ad8b-dfb619148595",
   "metadata": {},
   "outputs": [
    {
     "data": {
      "text/html": [
       "<div>\n",
       "<style scoped>\n",
       "    .dataframe tbody tr th:only-of-type {\n",
       "        vertical-align: middle;\n",
       "    }\n",
       "\n",
       "    .dataframe tbody tr th {\n",
       "        vertical-align: top;\n",
       "    }\n",
       "\n",
       "    .dataframe thead th {\n",
       "        text-align: right;\n",
       "    }\n",
       "</style>\n",
       "<table border=\"1\" class=\"dataframe\">\n",
       "  <thead>\n",
       "    <tr style=\"text-align: right;\">\n",
       "      <th></th>\n",
       "      <th>wenn_nicht</th>\n",
       "      <th>wenn_nicht_detail</th>\n",
       "      <th>wenn_ja</th>\n",
       "      <th>wenn_ja_detail</th>\n",
       "      <th>diff_low_bootstrap</th>\n",
       "      <th>diff_low</th>\n",
       "      <th>diff</th>\n",
       "      <th>diff_high</th>\n",
       "      <th>diff_high_bootstrap</th>\n",
       "      <th>chi2</th>\n",
       "      <th>chi2_p</th>\n",
       "      <th>fisher_p</th>\n",
       "      <th>phi</th>\n",
       "      <th>min_real</th>\n",
       "      <th>min_expected</th>\n",
       "    </tr>\n",
       "  </thead>\n",
       "  <tbody>\n",
       "    <tr>\n",
       "      <th>entity_positiv</th>\n",
       "      <td>0.41</td>\n",
       "      <td>1136/2758</td>\n",
       "      <td>0.63</td>\n",
       "      <td>735/1158</td>\n",
       "      <td>0.19</td>\n",
       "      <td>0.19</td>\n",
       "      <td>0.22</td>\n",
       "      <td>0.26</td>\n",
       "      <td>0.26</td>\n",
       "      <td>162.29</td>\n",
       "      <td>0.00</td>\n",
       "      <td>0.00</td>\n",
       "      <td>0.20</td>\n",
       "      <td>423.0</td>\n",
       "      <td>553.27</td>\n",
       "    </tr>\n",
       "    <tr>\n",
       "      <th>stoffgebiet_positiv</th>\n",
       "      <td>0.41</td>\n",
       "      <td>757/1825</td>\n",
       "      <td>0.60</td>\n",
       "      <td>427/715</td>\n",
       "      <td>0.14</td>\n",
       "      <td>0.14</td>\n",
       "      <td>0.18</td>\n",
       "      <td>0.22</td>\n",
       "      <td>0.23</td>\n",
       "      <td>68.69</td>\n",
       "      <td>0.00</td>\n",
       "      <td>0.00</td>\n",
       "      <td>0.16</td>\n",
       "      <td>288.0</td>\n",
       "      <td>333.29</td>\n",
       "    </tr>\n",
       "    <tr>\n",
       "      <th>kollektiv_positiv</th>\n",
       "      <td>0.32</td>\n",
       "      <td>230/724</td>\n",
       "      <td>0.49</td>\n",
       "      <td>166/340</td>\n",
       "      <td>0.11</td>\n",
       "      <td>0.11</td>\n",
       "      <td>0.17</td>\n",
       "      <td>0.23</td>\n",
       "      <td>0.23</td>\n",
       "      <td>28.80</td>\n",
       "      <td>0.00</td>\n",
       "      <td>0.00</td>\n",
       "      <td>0.16</td>\n",
       "      <td>166.0</td>\n",
       "      <td>126.54</td>\n",
       "    </tr>\n",
       "    <tr>\n",
       "      <th>stoffgebiet_ambivalent</th>\n",
       "      <td>0.14</td>\n",
       "      <td>248/1825</td>\n",
       "      <td>0.13</td>\n",
       "      <td>90/715</td>\n",
       "      <td>-0.04</td>\n",
       "      <td>-0.04</td>\n",
       "      <td>-0.01</td>\n",
       "      <td>0.02</td>\n",
       "      <td>0.02</td>\n",
       "      <td>0.45</td>\n",
       "      <td>0.50</td>\n",
       "      <td>0.52</td>\n",
       "      <td>0.01</td>\n",
       "      <td>90.0</td>\n",
       "      <td>95.15</td>\n",
       "    </tr>\n",
       "    <tr>\n",
       "      <th>entity_ambivalent</th>\n",
       "      <td>0.07</td>\n",
       "      <td>186/2758</td>\n",
       "      <td>0.05</td>\n",
       "      <td>58/1158</td>\n",
       "      <td>-0.03</td>\n",
       "      <td>-0.03</td>\n",
       "      <td>-0.02</td>\n",
       "      <td>-0.00</td>\n",
       "      <td>-0.00</td>\n",
       "      <td>4.20</td>\n",
       "      <td>0.04</td>\n",
       "      <td>0.04</td>\n",
       "      <td>0.03</td>\n",
       "      <td>58.0</td>\n",
       "      <td>72.15</td>\n",
       "    </tr>\n",
       "    <tr>\n",
       "      <th>unbekanntes_individuum_negativ</th>\n",
       "      <td>0.13</td>\n",
       "      <td>68/506</td>\n",
       "      <td>0.10</td>\n",
       "      <td>13/125</td>\n",
       "      <td>-0.09</td>\n",
       "      <td>-0.09</td>\n",
       "      <td>-0.03</td>\n",
       "      <td>0.03</td>\n",
       "      <td>0.03</td>\n",
       "      <td>0.83</td>\n",
       "      <td>0.36</td>\n",
       "      <td>0.46</td>\n",
       "      <td>0.04</td>\n",
       "      <td>13.0</td>\n",
       "      <td>16.05</td>\n",
       "    </tr>\n",
       "    <tr>\n",
       "      <th>entity_negativ</th>\n",
       "      <td>0.17</td>\n",
       "      <td>481/2758</td>\n",
       "      <td>0.14</td>\n",
       "      <td>163/1158</td>\n",
       "      <td>-0.06</td>\n",
       "      <td>-0.06</td>\n",
       "      <td>-0.03</td>\n",
       "      <td>-0.01</td>\n",
       "      <td>-0.01</td>\n",
       "      <td>6.72</td>\n",
       "      <td>0.01</td>\n",
       "      <td>0.01</td>\n",
       "      <td>0.04</td>\n",
       "      <td>163.0</td>\n",
       "      <td>190.44</td>\n",
       "    </tr>\n",
       "    <tr>\n",
       "      <th>bekanntes_individuum_negativ</th>\n",
       "      <td>0.15</td>\n",
       "      <td>204/1370</td>\n",
       "      <td>0.11</td>\n",
       "      <td>72/655</td>\n",
       "      <td>-0.07</td>\n",
       "      <td>-0.07</td>\n",
       "      <td>-0.04</td>\n",
       "      <td>-0.01</td>\n",
       "      <td>-0.01</td>\n",
       "      <td>5.72</td>\n",
       "      <td>0.02</td>\n",
       "      <td>0.02</td>\n",
       "      <td>0.05</td>\n",
       "      <td>72.0</td>\n",
       "      <td>89.27</td>\n",
       "    </tr>\n",
       "    <tr>\n",
       "      <th>kollektiv_negativ</th>\n",
       "      <td>0.27</td>\n",
       "      <td>193/724</td>\n",
       "      <td>0.22</td>\n",
       "      <td>75/340</td>\n",
       "      <td>-0.10</td>\n",
       "      <td>-0.10</td>\n",
       "      <td>-0.05</td>\n",
       "      <td>0.01</td>\n",
       "      <td>0.01</td>\n",
       "      <td>2.60</td>\n",
       "      <td>0.11</td>\n",
       "      <td>0.11</td>\n",
       "      <td>0.05</td>\n",
       "      <td>75.0</td>\n",
       "      <td>85.64</td>\n",
       "    </tr>\n",
       "    <tr>\n",
       "      <th>stoffgebiet_negativ</th>\n",
       "      <td>0.22</td>\n",
       "      <td>410/1825</td>\n",
       "      <td>0.18</td>\n",
       "      <td>126/715</td>\n",
       "      <td>-0.08</td>\n",
       "      <td>-0.08</td>\n",
       "      <td>-0.05</td>\n",
       "      <td>-0.01</td>\n",
       "      <td>-0.02</td>\n",
       "      <td>7.24</td>\n",
       "      <td>0.01</td>\n",
       "      <td>0.01</td>\n",
       "      <td>0.05</td>\n",
       "      <td>126.0</td>\n",
       "      <td>150.88</td>\n",
       "    </tr>\n",
       "    <tr>\n",
       "      <th>stoffgebiet_neutral</th>\n",
       "      <td>0.22</td>\n",
       "      <td>410/1825</td>\n",
       "      <td>0.10</td>\n",
       "      <td>72/715</td>\n",
       "      <td>-0.15</td>\n",
       "      <td>-0.15</td>\n",
       "      <td>-0.12</td>\n",
       "      <td>-0.09</td>\n",
       "      <td>-0.09</td>\n",
       "      <td>51.34</td>\n",
       "      <td>0.00</td>\n",
       "      <td>0.00</td>\n",
       "      <td>0.14</td>\n",
       "      <td>72.0</td>\n",
       "      <td>135.68</td>\n",
       "    </tr>\n",
       "    <tr>\n",
       "      <th>entity_neutral</th>\n",
       "      <td>0.35</td>\n",
       "      <td>955/2758</td>\n",
       "      <td>0.17</td>\n",
       "      <td>202/1158</td>\n",
       "      <td>-0.20</td>\n",
       "      <td>-0.20</td>\n",
       "      <td>-0.17</td>\n",
       "      <td>-0.14</td>\n",
       "      <td>-0.14</td>\n",
       "      <td>115.68</td>\n",
       "      <td>0.00</td>\n",
       "      <td>0.00</td>\n",
       "      <td>0.17</td>\n",
       "      <td>202.0</td>\n",
       "      <td>342.14</td>\n",
       "    </tr>\n",
       "  </tbody>\n",
       "</table>\n",
       "</div>"
      ],
      "text/plain": [
       "                                wenn_nicht wenn_nicht_detail  wenn_ja  \\\n",
       "entity_positiv                        0.41         1136/2758     0.63   \n",
       "stoffgebiet_positiv                   0.41          757/1825     0.60   \n",
       "kollektiv_positiv                     0.32           230/724     0.49   \n",
       "stoffgebiet_ambivalent                0.14          248/1825     0.13   \n",
       "entity_ambivalent                     0.07          186/2758     0.05   \n",
       "unbekanntes_individuum_negativ        0.13            68/506     0.10   \n",
       "entity_negativ                        0.17          481/2758     0.14   \n",
       "bekanntes_individuum_negativ          0.15          204/1370     0.11   \n",
       "kollektiv_negativ                     0.27           193/724     0.22   \n",
       "stoffgebiet_negativ                   0.22          410/1825     0.18   \n",
       "stoffgebiet_neutral                   0.22          410/1825     0.10   \n",
       "entity_neutral                        0.35          955/2758     0.17   \n",
       "\n",
       "                               wenn_ja_detail  diff_low_bootstrap  diff_low  \\\n",
       "entity_positiv                       735/1158                0.19      0.19   \n",
       "stoffgebiet_positiv                   427/715                0.14      0.14   \n",
       "kollektiv_positiv                     166/340                0.11      0.11   \n",
       "stoffgebiet_ambivalent                 90/715               -0.04     -0.04   \n",
       "entity_ambivalent                     58/1158               -0.03     -0.03   \n",
       "unbekanntes_individuum_negativ         13/125               -0.09     -0.09   \n",
       "entity_negativ                       163/1158               -0.06     -0.06   \n",
       "bekanntes_individuum_negativ           72/655               -0.07     -0.07   \n",
       "kollektiv_negativ                      75/340               -0.10     -0.10   \n",
       "stoffgebiet_negativ                   126/715               -0.08     -0.08   \n",
       "stoffgebiet_neutral                    72/715               -0.15     -0.15   \n",
       "entity_neutral                       202/1158               -0.20     -0.20   \n",
       "\n",
       "                                diff  diff_high  diff_high_bootstrap    chi2  \\\n",
       "entity_positiv                  0.22       0.26                 0.26  162.29   \n",
       "stoffgebiet_positiv             0.18       0.22                 0.23   68.69   \n",
       "kollektiv_positiv               0.17       0.23                 0.23   28.80   \n",
       "stoffgebiet_ambivalent         -0.01       0.02                 0.02    0.45   \n",
       "entity_ambivalent              -0.02      -0.00                -0.00    4.20   \n",
       "unbekanntes_individuum_negativ -0.03       0.03                 0.03    0.83   \n",
       "entity_negativ                 -0.03      -0.01                -0.01    6.72   \n",
       "bekanntes_individuum_negativ   -0.04      -0.01                -0.01    5.72   \n",
       "kollektiv_negativ              -0.05       0.01                 0.01    2.60   \n",
       "stoffgebiet_negativ            -0.05      -0.01                -0.02    7.24   \n",
       "stoffgebiet_neutral            -0.12      -0.09                -0.09   51.34   \n",
       "entity_neutral                 -0.17      -0.14                -0.14  115.68   \n",
       "\n",
       "                                chi2_p  fisher_p   phi  min_real  min_expected  \n",
       "entity_positiv                    0.00      0.00  0.20     423.0        553.27  \n",
       "stoffgebiet_positiv               0.00      0.00  0.16     288.0        333.29  \n",
       "kollektiv_positiv                 0.00      0.00  0.16     166.0        126.54  \n",
       "stoffgebiet_ambivalent            0.50      0.52  0.01      90.0         95.15  \n",
       "entity_ambivalent                 0.04      0.04  0.03      58.0         72.15  \n",
       "unbekanntes_individuum_negativ    0.36      0.46  0.04      13.0         16.05  \n",
       "entity_negativ                    0.01      0.01  0.04     163.0        190.44  \n",
       "bekanntes_individuum_negativ      0.02      0.02  0.05      72.0         89.27  \n",
       "kollektiv_negativ                 0.11      0.11  0.05      75.0         85.64  \n",
       "stoffgebiet_negativ               0.01      0.01  0.05     126.0        150.88  \n",
       "stoffgebiet_neutral               0.00      0.00  0.14      72.0        135.68  \n",
       "entity_neutral                    0.00      0.00  0.17     202.0        342.14  "
      ]
     },
     "execution_count": 26,
     "metadata": {},
     "output_type": "execute_result"
    }
   ],
   "source": [
    "results_other = results.query(\"index not in @results_filtered.index\")\n",
    "round(results_other.sort_values(by='diff', ascending=False), 2)"
   ]
  },
  {
   "cell_type": "code",
   "execution_count": 27,
   "id": "3f2aca26",
   "metadata": {},
   "outputs": [
    {
     "data": {
      "text/html": [
       "<div>\n",
       "<style scoped>\n",
       "    .dataframe tbody tr th:only-of-type {\n",
       "        vertical-align: middle;\n",
       "    }\n",
       "\n",
       "    .dataframe tbody tr th {\n",
       "        vertical-align: top;\n",
       "    }\n",
       "\n",
       "    .dataframe thead th {\n",
       "        text-align: right;\n",
       "    }\n",
       "</style>\n",
       "<table border=\"1\" class=\"dataframe\">\n",
       "  <thead>\n",
       "    <tr style=\"text-align: right;\">\n",
       "      <th></th>\n",
       "      <th>wenn_nicht_1850</th>\n",
       "      <th>wenn_nicht_detail_1850</th>\n",
       "      <th>wenn_ja_1850</th>\n",
       "      <th>wenn_ja_detail_1850</th>\n",
       "      <th>diff_1850</th>\n",
       "      <th>chi2_p_1850</th>\n",
       "      <th>phi_1850</th>\n",
       "      <th>wenn_nicht_1885</th>\n",
       "      <th>wenn_nicht_detail_1885</th>\n",
       "      <th>wenn_ja_1885</th>\n",
       "      <th>wenn_ja_detail_1885</th>\n",
       "      <th>diff_1885</th>\n",
       "      <th>chi2_p_1885</th>\n",
       "      <th>phi_1885</th>\n",
       "      <th>diff_of_diffs</th>\n",
       "      <th>diff_of_phis</th>\n",
       "    </tr>\n",
       "  </thead>\n",
       "  <tbody>\n",
       "    <tr>\n",
       "      <th>krieg</th>\n",
       "      <td>0.313</td>\n",
       "      <td>293/935</td>\n",
       "      <td>0.642</td>\n",
       "      <td>264/411</td>\n",
       "      <td>0.329</td>\n",
       "      <td>0.000</td>\n",
       "      <td>0.308</td>\n",
       "      <td>0.449</td>\n",
       "      <td>176/392</td>\n",
       "      <td>0.571</td>\n",
       "      <td>64/112</td>\n",
       "      <td>0.122</td>\n",
       "      <td>0.022</td>\n",
       "      <td>0.102</td>\n",
       "      <td>-0.207</td>\n",
       "      <td>-0.206</td>\n",
       "    </tr>\n",
       "    <tr>\n",
       "      <th>unbekanntes_individuum_positiv</th>\n",
       "      <td>0.320</td>\n",
       "      <td>98/306</td>\n",
       "      <td>0.588</td>\n",
       "      <td>47/80</td>\n",
       "      <td>0.267</td>\n",
       "      <td>0.000</td>\n",
       "      <td>0.224</td>\n",
       "      <td>0.250</td>\n",
       "      <td>50/200</td>\n",
       "      <td>0.489</td>\n",
       "      <td>22/45</td>\n",
       "      <td>0.239</td>\n",
       "      <td>0.001</td>\n",
       "      <td>0.203</td>\n",
       "      <td>-0.028</td>\n",
       "      <td>-0.021</td>\n",
       "    </tr>\n",
       "    <tr>\n",
       "      <th>krieg_positiv</th>\n",
       "      <td>0.440</td>\n",
       "      <td>129/293</td>\n",
       "      <td>0.697</td>\n",
       "      <td>184/264</td>\n",
       "      <td>0.257</td>\n",
       "      <td>0.000</td>\n",
       "      <td>0.258</td>\n",
       "      <td>0.364</td>\n",
       "      <td>64/176</td>\n",
       "      <td>0.672</td>\n",
       "      <td>43/64</td>\n",
       "      <td>0.308</td>\n",
       "      <td>0.000</td>\n",
       "      <td>0.274</td>\n",
       "      <td>0.052</td>\n",
       "      <td>0.016</td>\n",
       "    </tr>\n",
       "    <tr>\n",
       "      <th>bekanntes_individuum_positiv</th>\n",
       "      <td>0.511</td>\n",
       "      <td>528/1033</td>\n",
       "      <td>0.735</td>\n",
       "      <td>399/543</td>\n",
       "      <td>0.224</td>\n",
       "      <td>0.000</td>\n",
       "      <td>0.216</td>\n",
       "      <td>0.433</td>\n",
       "      <td>146/337</td>\n",
       "      <td>0.705</td>\n",
       "      <td>79/112</td>\n",
       "      <td>0.272</td>\n",
       "      <td>0.000</td>\n",
       "      <td>0.235</td>\n",
       "      <td>0.048</td>\n",
       "      <td>0.020</td>\n",
       "    </tr>\n",
       "    <tr>\n",
       "      <th>ueberlieferung_positiv</th>\n",
       "      <td>0.533</td>\n",
       "      <td>97/182</td>\n",
       "      <td>0.721</td>\n",
       "      <td>93/129</td>\n",
       "      <td>0.188</td>\n",
       "      <td>0.001</td>\n",
       "      <td>0.190</td>\n",
       "      <td>0.345</td>\n",
       "      <td>29/84</td>\n",
       "      <td>0.676</td>\n",
       "      <td>25/37</td>\n",
       "      <td>0.330</td>\n",
       "      <td>0.001</td>\n",
       "      <td>0.306</td>\n",
       "      <td>0.142</td>\n",
       "      <td>0.116</td>\n",
       "    </tr>\n",
       "  </tbody>\n",
       "</table>\n",
       "</div>"
      ],
      "text/plain": [
       "                                wenn_nicht_1850 wenn_nicht_detail_1850  \\\n",
       "krieg                                     0.313                293/935   \n",
       "unbekanntes_individuum_positiv            0.320                 98/306   \n",
       "krieg_positiv                             0.440                129/293   \n",
       "bekanntes_individuum_positiv              0.511               528/1033   \n",
       "ueberlieferung_positiv                    0.533                 97/182   \n",
       "\n",
       "                                wenn_ja_1850 wenn_ja_detail_1850  diff_1850  \\\n",
       "krieg                                  0.642             264/411      0.329   \n",
       "unbekanntes_individuum_positiv         0.588               47/80      0.267   \n",
       "krieg_positiv                          0.697             184/264      0.257   \n",
       "bekanntes_individuum_positiv           0.735             399/543      0.224   \n",
       "ueberlieferung_positiv                 0.721              93/129      0.188   \n",
       "\n",
       "                                chi2_p_1850  phi_1850  wenn_nicht_1885  \\\n",
       "krieg                                 0.000     0.308            0.449   \n",
       "unbekanntes_individuum_positiv        0.000     0.224            0.250   \n",
       "krieg_positiv                         0.000     0.258            0.364   \n",
       "bekanntes_individuum_positiv          0.000     0.216            0.433   \n",
       "ueberlieferung_positiv                0.001     0.190            0.345   \n",
       "\n",
       "                               wenn_nicht_detail_1885  wenn_ja_1885  \\\n",
       "krieg                                         176/392         0.571   \n",
       "unbekanntes_individuum_positiv                 50/200         0.489   \n",
       "krieg_positiv                                  64/176         0.672   \n",
       "bekanntes_individuum_positiv                  146/337         0.705   \n",
       "ueberlieferung_positiv                          29/84         0.676   \n",
       "\n",
       "                               wenn_ja_detail_1885  diff_1885  chi2_p_1885  \\\n",
       "krieg                                       64/112      0.122        0.022   \n",
       "unbekanntes_individuum_positiv               22/45      0.239        0.001   \n",
       "krieg_positiv                                43/64      0.308        0.000   \n",
       "bekanntes_individuum_positiv                79/112      0.272        0.000   \n",
       "ueberlieferung_positiv                       25/37      0.330        0.001   \n",
       "\n",
       "                                phi_1885  diff_of_diffs  diff_of_phis  \n",
       "krieg                              0.102         -0.207        -0.206  \n",
       "unbekanntes_individuum_positiv     0.203         -0.028        -0.021  \n",
       "krieg_positiv                      0.274          0.052         0.016  \n",
       "bekanntes_individuum_positiv       0.235          0.048         0.020  \n",
       "ueberlieferung_positiv             0.306          0.142         0.116  "
      ]
     },
     "execution_count": 27,
     "metadata": {},
     "output_type": "execute_result"
    }
   ],
   "source": [
    "result_categories = ['wenn_nicht', 'wenn_nicht_detail', 'wenn_ja', 'wenn_ja_detail', 'diff', 'chi2_p', 'phi',]\n",
    "\n",
    "results_a = relations_binbin(\n",
    "    meta = meta_anth_bin.query(\"1850 <= year <= 1884\"), \n",
    "    main_feature = main_feature,\n",
    "    comp_features = results_filtered.index\n",
    ")\n",
    "\n",
    "results_b = relations_binbin(\n",
    "    meta = meta_anth_bin.query(\"1885 <= year <= 1918\"), \n",
    "    main_feature = main_feature,\n",
    "    comp_features = results_filtered.index\n",
    ")\n",
    "\n",
    "results_merged = results_a[result_categories].join(\n",
    "    results_b[result_categories], \n",
    "    lsuffix='_1850', rsuffix = '_1885'\n",
    ")\n",
    "results_merged['diff_of_diffs'] = results_merged['diff_1885'] - results_merged['diff_1850']\n",
    "results_merged['diff_of_phis'] = results_merged['phi_1885'] - results_merged['phi_1850']\n",
    "\n",
    "round(results_merged.sort_values(by = 'diff_of_phis'), 3)"
   ]
  },
  {
   "cell_type": "code",
   "execution_count": 28,
   "id": "f075cd60",
   "metadata": {},
   "outputs": [],
   "source": [
    "results = relations_bincont(\n",
    "    meta = meta_anth_bin, \n",
    "    main_feature = main_feature,\n",
    "    comp_features = cont_comp_features\n",
    ")"
   ]
  },
  {
   "cell_type": "code",
   "execution_count": 29,
   "id": "d0da3ae7",
   "metadata": {},
   "outputs": [
    {
     "data": {
      "text/html": [
       "<div>\n",
       "<style scoped>\n",
       "    .dataframe tbody tr th:only-of-type {\n",
       "        vertical-align: middle;\n",
       "    }\n",
       "\n",
       "    .dataframe tbody tr th {\n",
       "        vertical-align: top;\n",
       "    }\n",
       "\n",
       "    .dataframe thead th {\n",
       "        text-align: right;\n",
       "    }\n",
       "</style>\n",
       "<table border=\"1\" class=\"dataframe\">\n",
       "  <thead>\n",
       "    <tr style=\"text-align: right;\">\n",
       "      <th></th>\n",
       "    </tr>\n",
       "  </thead>\n",
       "  <tbody>\n",
       "  </tbody>\n",
       "</table>\n",
       "</div>"
      ],
      "text/plain": [
       "Empty DataFrame\n",
       "Columns: []\n",
       "Index: []"
      ]
     },
     "execution_count": 29,
     "metadata": {},
     "output_type": "execute_result"
    }
   ],
   "source": [
    "results"
   ]
  },
  {
   "cell_type": "markdown",
   "id": "445aed2a",
   "metadata": {},
   "source": [
    "# Nationalismus"
   ]
  },
  {
   "cell_type": "markdown",
   "id": "2ceb8f7f-5ad4-422b-9be3-4f2c3499c2a4",
   "metadata": {},
   "source": [
    "### Ländervergleich"
   ]
  },
  {
   "cell_type": "code",
   "execution_count": 30,
   "id": "4777ad8b-ce79-4969-a9b4-adce259be855",
   "metadata": {},
   "outputs": [],
   "source": [
    "countries = ['Deutschland', 'Österreich', 'Schweiz', 'corpus']"
   ]
  },
  {
   "cell_type": "code",
   "execution_count": 31,
   "id": "4f4e2e12-ff57-4b78-9746-312420d183a0",
   "metadata": {},
   "outputs": [
    {
     "data": {
      "text/html": [
       "<div>\n",
       "<style scoped>\n",
       "    .dataframe tbody tr th:only-of-type {\n",
       "        vertical-align: middle;\n",
       "    }\n",
       "\n",
       "    .dataframe tbody tr th {\n",
       "        vertical-align: top;\n",
       "    }\n",
       "\n",
       "    .dataframe thead th {\n",
       "        text-align: right;\n",
       "    }\n",
       "</style>\n",
       "<table border=\"1\" class=\"dataframe\">\n",
       "  <thead>\n",
       "    <tr style=\"text-align: right;\">\n",
       "      <th></th>\n",
       "      <th>authors</th>\n",
       "      <th>texts</th>\n",
       "      <th>nationalismus</th>\n",
       "      <th>kein_nationalismus</th>\n",
       "      <th>nationalismus_share</th>\n",
       "    </tr>\n",
       "  </thead>\n",
       "  <tbody>\n",
       "    <tr>\n",
       "      <th>Deutschland</th>\n",
       "      <td>407.0</td>\n",
       "      <td>1513.0</td>\n",
       "      <td>217.0</td>\n",
       "      <td>1296.0</td>\n",
       "      <td>0.143424</td>\n",
       "    </tr>\n",
       "    <tr>\n",
       "      <th>Österreich</th>\n",
       "      <td>76.0</td>\n",
       "      <td>242.0</td>\n",
       "      <td>31.0</td>\n",
       "      <td>211.0</td>\n",
       "      <td>0.128099</td>\n",
       "    </tr>\n",
       "    <tr>\n",
       "      <th>Schweiz</th>\n",
       "      <td>31.0</td>\n",
       "      <td>116.0</td>\n",
       "      <td>7.0</td>\n",
       "      <td>109.0</td>\n",
       "      <td>0.060345</td>\n",
       "    </tr>\n",
       "    <tr>\n",
       "      <th>corpus</th>\n",
       "      <td>528.0</td>\n",
       "      <td>1850.0</td>\n",
       "      <td>253.0</td>\n",
       "      <td>1597.0</td>\n",
       "      <td>0.136757</td>\n",
       "    </tr>\n",
       "  </tbody>\n",
       "</table>\n",
       "</div>"
      ],
      "text/plain": [
       "             authors   texts  nationalismus  kein_nationalismus  \\\n",
       "Deutschland    407.0  1513.0          217.0              1296.0   \n",
       "Österreich      76.0   242.0           31.0               211.0   \n",
       "Schweiz         31.0   116.0            7.0               109.0   \n",
       "corpus         528.0  1850.0          253.0              1597.0   \n",
       "\n",
       "             nationalismus_share  \n",
       "Deutschland             0.143424  \n",
       "Österreich              0.128099  \n",
       "Schweiz                 0.060345  \n",
       "corpus                  0.136757  "
      ]
     },
     "execution_count": 31,
     "metadata": {},
     "output_type": "execute_result"
    }
   ],
   "source": [
    "results = pd.DataFrame()\n",
    "for country in countries:\n",
    "    if country == 'corpus':\n",
    "        meta_anth_country = meta_anth\n",
    "    else:\n",
    "        meta_anth[country] = [1 if pd.notna(x) and country in x else 0 if pd.notna(x) else float('NaN') for x in meta_anth['author_gnd_countries']]\n",
    "        meta_anth_country = meta_anth[meta_anth[country] == 1]\n",
    "    \n",
    "    results.loc[country, 'authors'] = meta_anth_country['author'].nunique()\n",
    "    results.loc[country, 'texts'] = meta_anth_country.shape[0]\n",
    "    results.loc[country, 'nationalismus'] = meta_anth_country.query(\"nationalismus == 1\").shape[0]\n",
    "    results.loc[country, 'kein_nationalismus'] = meta_anth_country.query(\"nationalismus == 0\").shape[0]\n",
    "\n",
    "results['nationalismus_share'] = results['nationalismus']/results['texts']\n",
    "\n",
    "results"
   ]
  },
  {
   "cell_type": "code",
   "execution_count": 32,
   "id": "c95a69b9-3336-4a96-b15c-23be97feab8a",
   "metadata": {},
   "outputs": [
    {
     "name": "stdout",
     "output_type": "stream",
     "text": [
      "Deutschland vs. Österreich\n",
      "             nationalismus  kein_nationalismus\n",
      "Deutschland            217                1296\n",
      "Österreich              31                 211\n",
      "chi2   : 0.2873575793383042\n",
      "chi2 p : 0.5919188527980483\n",
      "\n",
      "\n",
      "Deutschland vs. Schweiz\n",
      "             nationalismus  kein_nationalismus\n",
      "Deutschland            217                1296\n",
      "Schweiz                  7                 109\n",
      "chi2   : 5.589164638365113\n",
      "chi2 p : 0.018071912701037213\n",
      "\n",
      "\n",
      "Österreich vs. Schweiz\n",
      "            nationalismus  kein_nationalismus\n",
      "Österreich             31                 211\n",
      "Schweiz                 7                 109\n",
      "chi2   : 3.1134840942369983\n",
      "chi2 p : 0.07764669880025785\n",
      "\n",
      "\n"
     ]
    }
   ],
   "source": [
    "# Tests\n",
    "countries = [x for x in countries if x != 'corpus']\n",
    "pairs = list(combinations(countries, 2))\n",
    "for pair in pairs:\n",
    "    country_a = pair[0]\n",
    "    country_b = pair[1]\n",
    "    \n",
    "    contingency_table = [\n",
    "        [meta_anth[meta_anth[country_a] == 1].query(\"nationalismus == 1\").shape[0], \n",
    "         meta_anth[meta_anth[country_a] == 1].query(\"nationalismus == 0\").shape[0]], \n",
    "        [meta_anth[meta_anth[country_b] == 1].query(\"nationalismus == 1\").shape[0], \n",
    "         meta_anth[meta_anth[country_b] == 1].query(\"nationalismus == 0\").shape[0]], \n",
    "    ]\n",
    "    contingency_table_df = pd.DataFrame(contingency_table)\n",
    "    contingency_table_df.columns = ['nationalismus', 'kein_nationalismus']\n",
    "    contingency_table_df.index = [country_a, country_b]\n",
    "\n",
    "    chi2 = chi2_contingency(contingency_table_df)\n",
    "\n",
    "    print(f\"{country_a} vs. {country_b}\")\n",
    "    print(contingency_table_df)\n",
    "    print(f\"chi2   : {chi2[0]}\")\n",
    "    print(f\"chi2 p : {chi2[1]}\")\n",
    "    print(\"\\n\")"
   ]
  },
  {
   "cell_type": "markdown",
   "id": "761ddade-00eb-4ed4-b0b3-0f60ba62f4d4",
   "metadata": {},
   "source": [
    "### Annotierte Merkmale"
   ]
  },
  {
   "cell_type": "code",
   "execution_count": 33,
   "id": "1875455f",
   "metadata": {},
   "outputs": [],
   "source": [
    "main_feature = 'nationalismus'"
   ]
  },
  {
   "cell_type": "code",
   "execution_count": 34,
   "id": "ac1cd50a",
   "metadata": {},
   "outputs": [
    {
     "data": {
      "text/plain": [
       "nationalismus                           1.000000\n",
       "nation_volk_d                           0.416343\n",
       "gegenwartsdominant                      0.396130\n",
       "gegenwartsbezug                         0.370030\n",
       "sprechinstanz_nicht_in_vergangenheit    0.308706\n",
       "krieg_positiv                           0.298258\n",
       "wissen_identisch                        0.282898\n",
       "kollektiv_positiv                       0.256427\n",
       "stoffgebiet_positiv                     0.254551\n",
       "sprechakt_behaupten_vorhanden           0.253730\n",
       "neuzeit                                 0.246590\n",
       "ende                                    0.245150\n",
       "zeit_mitte                              0.243299\n",
       "nogenre                                 0.241031\n",
       "beginn                                  0.236099\n",
       "politik_positiv                         0.228762\n",
       "tod_positiv                             0.222436\n",
       "nation_volk_d_positiv                   0.214259\n",
       "zeitebenen                              0.208573\n",
       "sprechinstanz_markiert                  0.196863\n",
       "Name: nationalismus, dtype: float64"
      ]
     },
     "execution_count": 34,
     "metadata": {},
     "output_type": "execute_result"
    }
   ],
   "source": [
    "meta_anth_bin.corr(numeric_only=True)[main_feature].sort_values(ascending = False).head(20)"
   ]
  },
  {
   "cell_type": "code",
   "execution_count": 35,
   "id": "d5b34737",
   "metadata": {},
   "outputs": [
    {
     "data": {
      "text/plain": [
       "wissen_ergaenzend                -0.304694\n",
       "in_hohem_mass_konkret            -0.244200\n",
       "konkretheit                      -0.239934\n",
       "ballade                          -0.214500\n",
       "geschichtsauffassung_negativ     -0.195438\n",
       "nation_volk_d_negativ            -0.173990\n",
       "mittelalter                      -0.170806\n",
       "sprechakt_erzaehlen_vorhanden    -0.168332\n",
       "krieg_negativ                    -0.157424\n",
       "stoffgebiet_neutral              -0.153114\n",
       "ereignis                         -0.142967\n",
       "entity_neutral                   -0.139717\n",
       "religion                         -0.127650\n",
       "antike                           -0.126415\n",
       "sprechinstanz_in_vergangenheit   -0.110215\n",
       "stoffgebiet_negativ              -0.103728\n",
       "unbekanntes_individuum_count     -0.100729\n",
       "unbekanntes_individuum_negativ   -0.095226\n",
       "kleinraum_count                  -0.092309\n",
       "tod_negativ                      -0.076042\n",
       "Name: nationalismus, dtype: float64"
      ]
     },
     "execution_count": 35,
     "metadata": {},
     "output_type": "execute_result"
    }
   ],
   "source": [
    "meta_anth_bin.corr(numeric_only=True)[main_feature].sort_values(ascending = True).head(20)"
   ]
  },
  {
   "cell_type": "code",
   "execution_count": 36,
   "id": "ac98de9a",
   "metadata": {},
   "outputs": [],
   "source": [
    "threshold = 0.2\n",
    "\n",
    "bin_comp_features = get_features(meta_anth_bin.corr(numeric_only=True)[main_feature], threshold = threshold, mode = 'bin')\n",
    "bin_comp_features = bin_comp_features + ['religiositaet', 'heroismus', 'sprechinstanz_markiert']\n",
    "cont_comp_features = get_features(meta_anth_bin.corr(numeric_only=True)[main_feature], threshold = threshold, mode = 'cont')"
   ]
  },
  {
   "cell_type": "code",
   "execution_count": 37,
   "id": "dc88c4db",
   "metadata": {},
   "outputs": [],
   "source": [
    "results = relations_binbin(\n",
    "    meta = meta_anth_bin, \n",
    "    main_feature = main_feature,\n",
    "    comp_features = bin_comp_features\n",
    ")"
   ]
  },
  {
   "cell_type": "code",
   "execution_count": 38,
   "id": "9eb30eca-ad56-48f9-ae97-11317d08664f",
   "metadata": {},
   "outputs": [
    {
     "data": {
      "text/html": [
       "<div>\n",
       "<style scoped>\n",
       "    .dataframe tbody tr th:only-of-type {\n",
       "        vertical-align: middle;\n",
       "    }\n",
       "\n",
       "    .dataframe tbody tr th {\n",
       "        vertical-align: top;\n",
       "    }\n",
       "\n",
       "    .dataframe thead th {\n",
       "        text-align: right;\n",
       "    }\n",
       "</style>\n",
       "<table border=\"1\" class=\"dataframe\">\n",
       "  <thead>\n",
       "    <tr style=\"text-align: right;\">\n",
       "      <th></th>\n",
       "      <th>wenn_nicht</th>\n",
       "      <th>wenn_nicht_detail</th>\n",
       "      <th>wenn_ja</th>\n",
       "      <th>wenn_ja_detail</th>\n",
       "      <th>diff_low_bootstrap</th>\n",
       "      <th>diff_low</th>\n",
       "      <th>diff</th>\n",
       "      <th>diff_high</th>\n",
       "      <th>diff_high_bootstrap</th>\n",
       "      <th>chi2</th>\n",
       "      <th>chi2_p</th>\n",
       "      <th>fisher_p</th>\n",
       "      <th>phi</th>\n",
       "      <th>min_real</th>\n",
       "      <th>min_expected</th>\n",
       "    </tr>\n",
       "  </thead>\n",
       "  <tbody>\n",
       "    <tr>\n",
       "      <th>gegenwartsbezug</th>\n",
       "      <td>0.22</td>\n",
       "      <td>356/1597</td>\n",
       "      <td>0.71</td>\n",
       "      <td>180/253</td>\n",
       "      <td>0.43</td>\n",
       "      <td>0.43</td>\n",
       "      <td>0.49</td>\n",
       "      <td>0.55</td>\n",
       "      <td>0.54</td>\n",
       "      <td>253.31</td>\n",
       "      <td>0.0</td>\n",
       "      <td>0.0</td>\n",
       "      <td>0.37</td>\n",
       "      <td>73.0</td>\n",
       "      <td>73.30</td>\n",
       "    </tr>\n",
       "    <tr>\n",
       "      <th>krieg_positiv</th>\n",
       "      <td>0.46</td>\n",
       "      <td>305/663</td>\n",
       "      <td>0.86</td>\n",
       "      <td>115/134</td>\n",
       "      <td>0.33</td>\n",
       "      <td>0.33</td>\n",
       "      <td>0.40</td>\n",
       "      <td>0.47</td>\n",
       "      <td>0.47</td>\n",
       "      <td>70.90</td>\n",
       "      <td>0.0</td>\n",
       "      <td>0.0</td>\n",
       "      <td>0.30</td>\n",
       "      <td>19.0</td>\n",
       "      <td>63.39</td>\n",
       "    </tr>\n",
       "    <tr>\n",
       "      <th>neuzeit</th>\n",
       "      <td>0.49</td>\n",
       "      <td>786/1597</td>\n",
       "      <td>0.85</td>\n",
       "      <td>215/253</td>\n",
       "      <td>0.31</td>\n",
       "      <td>0.31</td>\n",
       "      <td>0.36</td>\n",
       "      <td>0.41</td>\n",
       "      <td>0.41</td>\n",
       "      <td>112.49</td>\n",
       "      <td>0.0</td>\n",
       "      <td>0.0</td>\n",
       "      <td>0.25</td>\n",
       "      <td>38.0</td>\n",
       "      <td>116.11</td>\n",
       "    </tr>\n",
       "    <tr>\n",
       "      <th>stoffgebiet_positiv</th>\n",
       "      <td>0.42</td>\n",
       "      <td>915/2181</td>\n",
       "      <td>0.75</td>\n",
       "      <td>269/359</td>\n",
       "      <td>0.28</td>\n",
       "      <td>0.28</td>\n",
       "      <td>0.33</td>\n",
       "      <td>0.38</td>\n",
       "      <td>0.38</td>\n",
       "      <td>134.71</td>\n",
       "      <td>0.0</td>\n",
       "      <td>0.0</td>\n",
       "      <td>0.23</td>\n",
       "      <td>90.0</td>\n",
       "      <td>167.34</td>\n",
       "    </tr>\n",
       "    <tr>\n",
       "      <th>politik_positiv</th>\n",
       "      <td>0.51</td>\n",
       "      <td>118/232</td>\n",
       "      <td>0.80</td>\n",
       "      <td>41/51</td>\n",
       "      <td>0.17</td>\n",
       "      <td>0.17</td>\n",
       "      <td>0.30</td>\n",
       "      <td>0.42</td>\n",
       "      <td>0.41</td>\n",
       "      <td>14.81</td>\n",
       "      <td>0.0</td>\n",
       "      <td>0.0</td>\n",
       "      <td>0.23</td>\n",
       "      <td>10.0</td>\n",
       "      <td>22.35</td>\n",
       "    </tr>\n",
       "    <tr>\n",
       "      <th>nogenre</th>\n",
       "      <td>0.19</td>\n",
       "      <td>300/1597</td>\n",
       "      <td>0.48</td>\n",
       "      <td>122/253</td>\n",
       "      <td>0.23</td>\n",
       "      <td>0.23</td>\n",
       "      <td>0.29</td>\n",
       "      <td>0.36</td>\n",
       "      <td>0.36</td>\n",
       "      <td>107.48</td>\n",
       "      <td>0.0</td>\n",
       "      <td>0.0</td>\n",
       "      <td>0.24</td>\n",
       "      <td>122.0</td>\n",
       "      <td>57.71</td>\n",
       "    </tr>\n",
       "    <tr>\n",
       "      <th>kollektiv_positiv</th>\n",
       "      <td>0.32</td>\n",
       "      <td>282/878</td>\n",
       "      <td>0.61</td>\n",
       "      <td>114/186</td>\n",
       "      <td>0.22</td>\n",
       "      <td>0.22</td>\n",
       "      <td>0.29</td>\n",
       "      <td>0.37</td>\n",
       "      <td>0.37</td>\n",
       "      <td>55.90</td>\n",
       "      <td>0.0</td>\n",
       "      <td>0.0</td>\n",
       "      <td>0.23</td>\n",
       "      <td>72.0</td>\n",
       "      <td>69.23</td>\n",
       "    </tr>\n",
       "    <tr>\n",
       "      <th>wissen_identisch</th>\n",
       "      <td>0.10</td>\n",
       "      <td>165/1597</td>\n",
       "      <td>0.39</td>\n",
       "      <td>99/253</td>\n",
       "      <td>0.22</td>\n",
       "      <td>0.23</td>\n",
       "      <td>0.29</td>\n",
       "      <td>0.35</td>\n",
       "      <td>0.35</td>\n",
       "      <td>148.06</td>\n",
       "      <td>0.0</td>\n",
       "      <td>0.0</td>\n",
       "      <td>0.28</td>\n",
       "      <td>99.0</td>\n",
       "      <td>36.10</td>\n",
       "    </tr>\n",
       "    <tr>\n",
       "      <th>sprechakt_behaupten_vorhanden</th>\n",
       "      <td>0.15</td>\n",
       "      <td>235/1597</td>\n",
       "      <td>0.43</td>\n",
       "      <td>110/253</td>\n",
       "      <td>0.22</td>\n",
       "      <td>0.22</td>\n",
       "      <td>0.29</td>\n",
       "      <td>0.35</td>\n",
       "      <td>0.35</td>\n",
       "      <td>119.10</td>\n",
       "      <td>0.0</td>\n",
       "      <td>0.0</td>\n",
       "      <td>0.25</td>\n",
       "      <td>110.0</td>\n",
       "      <td>47.18</td>\n",
       "    </tr>\n",
       "    <tr>\n",
       "      <th>nation_volk_d</th>\n",
       "      <td>0.00</td>\n",
       "      <td>3/1597</td>\n",
       "      <td>0.21</td>\n",
       "      <td>53/253</td>\n",
       "      <td>0.16</td>\n",
       "      <td>0.16</td>\n",
       "      <td>0.21</td>\n",
       "      <td>0.26</td>\n",
       "      <td>0.26</td>\n",
       "      <td>320.68</td>\n",
       "      <td>0.0</td>\n",
       "      <td>0.0</td>\n",
       "      <td>0.42</td>\n",
       "      <td>3.0</td>\n",
       "      <td>7.66</td>\n",
       "    </tr>\n",
       "    <tr>\n",
       "      <th>in_hohem_mass_konkret</th>\n",
       "      <td>0.86</td>\n",
       "      <td>1366/1597</td>\n",
       "      <td>0.58</td>\n",
       "      <td>147/253</td>\n",
       "      <td>-0.33</td>\n",
       "      <td>-0.34</td>\n",
       "      <td>-0.27</td>\n",
       "      <td>-0.21</td>\n",
       "      <td>-0.22</td>\n",
       "      <td>110.32</td>\n",
       "      <td>0.0</td>\n",
       "      <td>0.0</td>\n",
       "      <td>0.24</td>\n",
       "      <td>106.0</td>\n",
       "      <td>46.09</td>\n",
       "    </tr>\n",
       "  </tbody>\n",
       "</table>\n",
       "</div>"
      ],
      "text/plain": [
       "                               wenn_nicht wenn_nicht_detail  wenn_ja  \\\n",
       "gegenwartsbezug                      0.22          356/1597     0.71   \n",
       "krieg_positiv                        0.46           305/663     0.86   \n",
       "neuzeit                              0.49          786/1597     0.85   \n",
       "stoffgebiet_positiv                  0.42          915/2181     0.75   \n",
       "politik_positiv                      0.51           118/232     0.80   \n",
       "nogenre                              0.19          300/1597     0.48   \n",
       "kollektiv_positiv                    0.32           282/878     0.61   \n",
       "wissen_identisch                     0.10          165/1597     0.39   \n",
       "sprechakt_behaupten_vorhanden        0.15          235/1597     0.43   \n",
       "nation_volk_d                        0.00            3/1597     0.21   \n",
       "in_hohem_mass_konkret                0.86         1366/1597     0.58   \n",
       "\n",
       "                              wenn_ja_detail  diff_low_bootstrap  diff_low  \\\n",
       "gegenwartsbezug                      180/253                0.43      0.43   \n",
       "krieg_positiv                        115/134                0.33      0.33   \n",
       "neuzeit                              215/253                0.31      0.31   \n",
       "stoffgebiet_positiv                  269/359                0.28      0.28   \n",
       "politik_positiv                        41/51                0.17      0.17   \n",
       "nogenre                              122/253                0.23      0.23   \n",
       "kollektiv_positiv                    114/186                0.22      0.22   \n",
       "wissen_identisch                      99/253                0.22      0.23   \n",
       "sprechakt_behaupten_vorhanden        110/253                0.22      0.22   \n",
       "nation_volk_d                         53/253                0.16      0.16   \n",
       "in_hohem_mass_konkret                147/253               -0.33     -0.34   \n",
       "\n",
       "                               diff  diff_high  diff_high_bootstrap    chi2  \\\n",
       "gegenwartsbezug                0.49       0.55                 0.54  253.31   \n",
       "krieg_positiv                  0.40       0.47                 0.47   70.90   \n",
       "neuzeit                        0.36       0.41                 0.41  112.49   \n",
       "stoffgebiet_positiv            0.33       0.38                 0.38  134.71   \n",
       "politik_positiv                0.30       0.42                 0.41   14.81   \n",
       "nogenre                        0.29       0.36                 0.36  107.48   \n",
       "kollektiv_positiv              0.29       0.37                 0.37   55.90   \n",
       "wissen_identisch               0.29       0.35                 0.35  148.06   \n",
       "sprechakt_behaupten_vorhanden  0.29       0.35                 0.35  119.10   \n",
       "nation_volk_d                  0.21       0.26                 0.26  320.68   \n",
       "in_hohem_mass_konkret         -0.27      -0.21                -0.22  110.32   \n",
       "\n",
       "                               chi2_p  fisher_p   phi  min_real  min_expected  \n",
       "gegenwartsbezug                   0.0       0.0  0.37      73.0         73.30  \n",
       "krieg_positiv                     0.0       0.0  0.30      19.0         63.39  \n",
       "neuzeit                           0.0       0.0  0.25      38.0        116.11  \n",
       "stoffgebiet_positiv               0.0       0.0  0.23      90.0        167.34  \n",
       "politik_positiv                   0.0       0.0  0.23      10.0         22.35  \n",
       "nogenre                           0.0       0.0  0.24     122.0         57.71  \n",
       "kollektiv_positiv                 0.0       0.0  0.23      72.0         69.23  \n",
       "wissen_identisch                  0.0       0.0  0.28      99.0         36.10  \n",
       "sprechakt_behaupten_vorhanden     0.0       0.0  0.25     110.0         47.18  \n",
       "nation_volk_d                     0.0       0.0  0.42       3.0          7.66  \n",
       "in_hohem_mass_konkret             0.0       0.0  0.24     106.0         46.09  "
      ]
     },
     "execution_count": 38,
     "metadata": {},
     "output_type": "execute_result"
    }
   ],
   "source": [
    "directly_related = [\n",
    "    'gegenwartsdominant', 'sprechinstanz_nicht_in_vergangenheit', # related to gegenwartsbezug\n",
    "    'wissen_ergaenzend', # related to wissen_identisch\n",
    "    'ballade', # related to nogenre\n",
    "]\n",
    "results_filtered = (\n",
    "    results\n",
    "    .query(\"index not in @directly_related\")\n",
    "    .query(\"chi2_p < 0.05 and min_expected >= 5 and phi >= @threshold\")\n",
    "    .sort_values(by = 'diff', ascending = False)\n",
    ")\n",
    "round(results_filtered, 2)"
   ]
  },
  {
   "cell_type": "code",
   "execution_count": 39,
   "id": "b3ba6142-f62d-4c32-90a4-4ad9b61e0071",
   "metadata": {},
   "outputs": [
    {
     "data": {
      "text/html": [
       "<div>\n",
       "<style scoped>\n",
       "    .dataframe tbody tr th:only-of-type {\n",
       "        vertical-align: middle;\n",
       "    }\n",
       "\n",
       "    .dataframe tbody tr th {\n",
       "        vertical-align: top;\n",
       "    }\n",
       "\n",
       "    .dataframe thead th {\n",
       "        text-align: right;\n",
       "    }\n",
       "</style>\n",
       "<table border=\"1\" class=\"dataframe\">\n",
       "  <thead>\n",
       "    <tr style=\"text-align: right;\">\n",
       "      <th></th>\n",
       "      <th>wenn_nicht</th>\n",
       "      <th>wenn_nicht_detail</th>\n",
       "      <th>wenn_ja</th>\n",
       "      <th>wenn_ja_detail</th>\n",
       "      <th>diff_low_bootstrap</th>\n",
       "      <th>diff_low</th>\n",
       "      <th>diff</th>\n",
       "      <th>diff_high</th>\n",
       "      <th>diff_high_bootstrap</th>\n",
       "      <th>chi2</th>\n",
       "      <th>chi2_p</th>\n",
       "      <th>fisher_p</th>\n",
       "      <th>phi</th>\n",
       "      <th>min_real</th>\n",
       "      <th>min_expected</th>\n",
       "    </tr>\n",
       "  </thead>\n",
       "  <tbody>\n",
       "    <tr>\n",
       "      <th>nation_volk_d_positiv</th>\n",
       "      <td>0.33</td>\n",
       "      <td>1/3</td>\n",
       "      <td>0.75</td>\n",
       "      <td>40/53</td>\n",
       "      <td>-0.21</td>\n",
       "      <td>-0.12</td>\n",
       "      <td>0.42</td>\n",
       "      <td>0.97</td>\n",
       "      <td>0.83</td>\n",
       "      <td>2.57</td>\n",
       "      <td>0.11</td>\n",
       "      <td>0.17</td>\n",
       "      <td>0.21</td>\n",
       "      <td>1.0</td>\n",
       "      <td>0.80</td>\n",
       "    </tr>\n",
       "    <tr>\n",
       "      <th>gegenwartsdominant</th>\n",
       "      <td>0.09</td>\n",
       "      <td>142/1597</td>\n",
       "      <td>0.49</td>\n",
       "      <td>125/253</td>\n",
       "      <td>0.34</td>\n",
       "      <td>0.34</td>\n",
       "      <td>0.41</td>\n",
       "      <td>0.47</td>\n",
       "      <td>0.47</td>\n",
       "      <td>290.30</td>\n",
       "      <td>0.00</td>\n",
       "      <td>0.00</td>\n",
       "      <td>0.40</td>\n",
       "      <td>125.0</td>\n",
       "      <td>36.51</td>\n",
       "    </tr>\n",
       "    <tr>\n",
       "      <th>sprechinstanz_nicht_in_vergangenheit</th>\n",
       "      <td>0.22</td>\n",
       "      <td>355/1597</td>\n",
       "      <td>0.62</td>\n",
       "      <td>158/253</td>\n",
       "      <td>0.34</td>\n",
       "      <td>0.34</td>\n",
       "      <td>0.40</td>\n",
       "      <td>0.47</td>\n",
       "      <td>0.46</td>\n",
       "      <td>176.30</td>\n",
       "      <td>0.00</td>\n",
       "      <td>0.00</td>\n",
       "      <td>0.31</td>\n",
       "      <td>95.0</td>\n",
       "      <td>70.16</td>\n",
       "    </tr>\n",
       "    <tr>\n",
       "      <th>sprechinstanz_markiert</th>\n",
       "      <td>0.40</td>\n",
       "      <td>638/1597</td>\n",
       "      <td>0.68</td>\n",
       "      <td>173/253</td>\n",
       "      <td>0.22</td>\n",
       "      <td>0.22</td>\n",
       "      <td>0.28</td>\n",
       "      <td>0.35</td>\n",
       "      <td>0.35</td>\n",
       "      <td>71.70</td>\n",
       "      <td>0.00</td>\n",
       "      <td>0.00</td>\n",
       "      <td>0.20</td>\n",
       "      <td>80.0</td>\n",
       "      <td>110.91</td>\n",
       "    </tr>\n",
       "    <tr>\n",
       "      <th>entity_positiv</th>\n",
       "      <td>0.45</td>\n",
       "      <td>1519/3401</td>\n",
       "      <td>0.68</td>\n",
       "      <td>352/515</td>\n",
       "      <td>0.19</td>\n",
       "      <td>0.19</td>\n",
       "      <td>0.24</td>\n",
       "      <td>0.28</td>\n",
       "      <td>0.28</td>\n",
       "      <td>100.57</td>\n",
       "      <td>0.00</td>\n",
       "      <td>0.00</td>\n",
       "      <td>0.16</td>\n",
       "      <td>163.0</td>\n",
       "      <td>246.06</td>\n",
       "    </tr>\n",
       "    <tr>\n",
       "      <th>bekanntes_individuum_positiv</th>\n",
       "      <td>0.54</td>\n",
       "      <td>966/1781</td>\n",
       "      <td>0.76</td>\n",
       "      <td>186/244</td>\n",
       "      <td>0.16</td>\n",
       "      <td>0.16</td>\n",
       "      <td>0.22</td>\n",
       "      <td>0.28</td>\n",
       "      <td>0.28</td>\n",
       "      <td>42.31</td>\n",
       "      <td>0.00</td>\n",
       "      <td>0.00</td>\n",
       "      <td>0.14</td>\n",
       "      <td>58.0</td>\n",
       "      <td>105.19</td>\n",
       "    </tr>\n",
       "    <tr>\n",
       "      <th>tod_positiv</th>\n",
       "      <td>0.09</td>\n",
       "      <td>17/191</td>\n",
       "      <td>0.31</td>\n",
       "      <td>8/26</td>\n",
       "      <td>0.04</td>\n",
       "      <td>0.04</td>\n",
       "      <td>0.22</td>\n",
       "      <td>0.40</td>\n",
       "      <td>0.39</td>\n",
       "      <td>10.74</td>\n",
       "      <td>0.00</td>\n",
       "      <td>0.00</td>\n",
       "      <td>0.22</td>\n",
       "      <td>8.0</td>\n",
       "      <td>3.00</td>\n",
       "    </tr>\n",
       "    <tr>\n",
       "      <th>heroismus</th>\n",
       "      <td>0.26</td>\n",
       "      <td>412/1597</td>\n",
       "      <td>0.44</td>\n",
       "      <td>111/253</td>\n",
       "      <td>0.12</td>\n",
       "      <td>0.12</td>\n",
       "      <td>0.18</td>\n",
       "      <td>0.25</td>\n",
       "      <td>0.25</td>\n",
       "      <td>35.19</td>\n",
       "      <td>0.00</td>\n",
       "      <td>0.00</td>\n",
       "      <td>0.14</td>\n",
       "      <td>111.0</td>\n",
       "      <td>71.52</td>\n",
       "    </tr>\n",
       "    <tr>\n",
       "      <th>unbekanntes_individuum_positiv</th>\n",
       "      <td>0.33</td>\n",
       "      <td>196/590</td>\n",
       "      <td>0.51</td>\n",
       "      <td>21/41</td>\n",
       "      <td>0.02</td>\n",
       "      <td>0.02</td>\n",
       "      <td>0.18</td>\n",
       "      <td>0.34</td>\n",
       "      <td>0.33</td>\n",
       "      <td>5.50</td>\n",
       "      <td>0.02</td>\n",
       "      <td>0.03</td>\n",
       "      <td>0.09</td>\n",
       "      <td>20.0</td>\n",
       "      <td>14.10</td>\n",
       "    </tr>\n",
       "    <tr>\n",
       "      <th>religiositaet</th>\n",
       "      <td>0.15</td>\n",
       "      <td>240/1597</td>\n",
       "      <td>0.31</td>\n",
       "      <td>78/253</td>\n",
       "      <td>0.10</td>\n",
       "      <td>0.10</td>\n",
       "      <td>0.16</td>\n",
       "      <td>0.22</td>\n",
       "      <td>0.22</td>\n",
       "      <td>38.31</td>\n",
       "      <td>0.00</td>\n",
       "      <td>0.00</td>\n",
       "      <td>0.14</td>\n",
       "      <td>78.0</td>\n",
       "      <td>43.49</td>\n",
       "    </tr>\n",
       "    <tr>\n",
       "      <th>entity_ambivalent</th>\n",
       "      <td>0.07</td>\n",
       "      <td>225/3401</td>\n",
       "      <td>0.04</td>\n",
       "      <td>19/515</td>\n",
       "      <td>-0.05</td>\n",
       "      <td>-0.05</td>\n",
       "      <td>-0.03</td>\n",
       "      <td>-0.01</td>\n",
       "      <td>-0.01</td>\n",
       "      <td>6.56</td>\n",
       "      <td>0.01</td>\n",
       "      <td>0.01</td>\n",
       "      <td>0.04</td>\n",
       "      <td>19.0</td>\n",
       "      <td>32.09</td>\n",
       "    </tr>\n",
       "    <tr>\n",
       "      <th>stoffgebiet_ambivalent</th>\n",
       "      <td>0.14</td>\n",
       "      <td>301/2181</td>\n",
       "      <td>0.10</td>\n",
       "      <td>37/359</td>\n",
       "      <td>-0.07</td>\n",
       "      <td>-0.07</td>\n",
       "      <td>-0.03</td>\n",
       "      <td>-0.00</td>\n",
       "      <td>-0.00</td>\n",
       "      <td>3.26</td>\n",
       "      <td>0.07</td>\n",
       "      <td>0.08</td>\n",
       "      <td>0.04</td>\n",
       "      <td>37.0</td>\n",
       "      <td>47.77</td>\n",
       "    </tr>\n",
       "    <tr>\n",
       "      <th>entity_negativ</th>\n",
       "      <td>0.17</td>\n",
       "      <td>583/3401</td>\n",
       "      <td>0.12</td>\n",
       "      <td>61/515</td>\n",
       "      <td>-0.08</td>\n",
       "      <td>-0.08</td>\n",
       "      <td>-0.05</td>\n",
       "      <td>-0.02</td>\n",
       "      <td>-0.02</td>\n",
       "      <td>9.13</td>\n",
       "      <td>0.00</td>\n",
       "      <td>0.00</td>\n",
       "      <td>0.05</td>\n",
       "      <td>61.0</td>\n",
       "      <td>84.69</td>\n",
       "    </tr>\n",
       "    <tr>\n",
       "      <th>bekanntes_individuum_negativ</th>\n",
       "      <td>0.14</td>\n",
       "      <td>255/1781</td>\n",
       "      <td>0.09</td>\n",
       "      <td>21/244</td>\n",
       "      <td>-0.09</td>\n",
       "      <td>-0.10</td>\n",
       "      <td>-0.06</td>\n",
       "      <td>-0.02</td>\n",
       "      <td>-0.02</td>\n",
       "      <td>5.95</td>\n",
       "      <td>0.01</td>\n",
       "      <td>0.01</td>\n",
       "      <td>0.05</td>\n",
       "      <td>21.0</td>\n",
       "      <td>33.26</td>\n",
       "    </tr>\n",
       "    <tr>\n",
       "      <th>kollektiv_negativ</th>\n",
       "      <td>0.27</td>\n",
       "      <td>234/878</td>\n",
       "      <td>0.18</td>\n",
       "      <td>34/186</td>\n",
       "      <td>-0.14</td>\n",
       "      <td>-0.15</td>\n",
       "      <td>-0.08</td>\n",
       "      <td>-0.02</td>\n",
       "      <td>-0.02</td>\n",
       "      <td>5.71</td>\n",
       "      <td>0.02</td>\n",
       "      <td>0.02</td>\n",
       "      <td>0.07</td>\n",
       "      <td>34.0</td>\n",
       "      <td>46.85</td>\n",
       "    </tr>\n",
       "    <tr>\n",
       "      <th>unbekanntes_individuum_negativ</th>\n",
       "      <td>0.14</td>\n",
       "      <td>80/590</td>\n",
       "      <td>0.02</td>\n",
       "      <td>1/41</td>\n",
       "      <td>-0.16</td>\n",
       "      <td>-0.17</td>\n",
       "      <td>-0.11</td>\n",
       "      <td>-0.06</td>\n",
       "      <td>-0.05</td>\n",
       "      <td>4.24</td>\n",
       "      <td>0.04</td>\n",
       "      <td>0.05</td>\n",
       "      <td>0.08</td>\n",
       "      <td>1.0</td>\n",
       "      <td>5.26</td>\n",
       "    </tr>\n",
       "    <tr>\n",
       "      <th>stoffgebiet_negativ</th>\n",
       "      <td>0.23</td>\n",
       "      <td>497/2181</td>\n",
       "      <td>0.11</td>\n",
       "      <td>39/359</td>\n",
       "      <td>-0.16</td>\n",
       "      <td>-0.16</td>\n",
       "      <td>-0.12</td>\n",
       "      <td>-0.08</td>\n",
       "      <td>-0.08</td>\n",
       "      <td>26.33</td>\n",
       "      <td>0.00</td>\n",
       "      <td>0.00</td>\n",
       "      <td>0.10</td>\n",
       "      <td>39.0</td>\n",
       "      <td>75.76</td>\n",
       "    </tr>\n",
       "    <tr>\n",
       "      <th>entity_neutral</th>\n",
       "      <td>0.32</td>\n",
       "      <td>1074/3401</td>\n",
       "      <td>0.16</td>\n",
       "      <td>83/515</td>\n",
       "      <td>-0.19</td>\n",
       "      <td>-0.19</td>\n",
       "      <td>-0.15</td>\n",
       "      <td>-0.12</td>\n",
       "      <td>-0.12</td>\n",
       "      <td>51.37</td>\n",
       "      <td>0.00</td>\n",
       "      <td>0.00</td>\n",
       "      <td>0.11</td>\n",
       "      <td>83.0</td>\n",
       "      <td>152.16</td>\n",
       "    </tr>\n",
       "    <tr>\n",
       "      <th>stoffgebiet_neutral</th>\n",
       "      <td>0.21</td>\n",
       "      <td>468/2181</td>\n",
       "      <td>0.04</td>\n",
       "      <td>14/359</td>\n",
       "      <td>-0.20</td>\n",
       "      <td>-0.20</td>\n",
       "      <td>-0.18</td>\n",
       "      <td>-0.15</td>\n",
       "      <td>-0.15</td>\n",
       "      <td>61.81</td>\n",
       "      <td>0.00</td>\n",
       "      <td>0.00</td>\n",
       "      <td>0.16</td>\n",
       "      <td>14.0</td>\n",
       "      <td>68.13</td>\n",
       "    </tr>\n",
       "    <tr>\n",
       "      <th>ballade</th>\n",
       "      <td>0.60</td>\n",
       "      <td>962/1597</td>\n",
       "      <td>0.29</td>\n",
       "      <td>74/253</td>\n",
       "      <td>-0.37</td>\n",
       "      <td>-0.37</td>\n",
       "      <td>-0.31</td>\n",
       "      <td>-0.25</td>\n",
       "      <td>-0.25</td>\n",
       "      <td>85.12</td>\n",
       "      <td>0.00</td>\n",
       "      <td>0.00</td>\n",
       "      <td>0.21</td>\n",
       "      <td>74.0</td>\n",
       "      <td>111.32</td>\n",
       "    </tr>\n",
       "    <tr>\n",
       "      <th>wissen_ergaenzend</th>\n",
       "      <td>0.80</td>\n",
       "      <td>1278/1597</td>\n",
       "      <td>0.42</td>\n",
       "      <td>105/253</td>\n",
       "      <td>-0.45</td>\n",
       "      <td>-0.45</td>\n",
       "      <td>-0.39</td>\n",
       "      <td>-0.32</td>\n",
       "      <td>-0.32</td>\n",
       "      <td>171.75</td>\n",
       "      <td>0.00</td>\n",
       "      <td>0.00</td>\n",
       "      <td>0.30</td>\n",
       "      <td>105.0</td>\n",
       "      <td>63.87</td>\n",
       "    </tr>\n",
       "  </tbody>\n",
       "</table>\n",
       "</div>"
      ],
      "text/plain": [
       "                                      wenn_nicht wenn_nicht_detail  wenn_ja  \\\n",
       "nation_volk_d_positiv                       0.33               1/3     0.75   \n",
       "gegenwartsdominant                          0.09          142/1597     0.49   \n",
       "sprechinstanz_nicht_in_vergangenheit        0.22          355/1597     0.62   \n",
       "sprechinstanz_markiert                      0.40          638/1597     0.68   \n",
       "entity_positiv                              0.45         1519/3401     0.68   \n",
       "bekanntes_individuum_positiv                0.54          966/1781     0.76   \n",
       "tod_positiv                                 0.09            17/191     0.31   \n",
       "heroismus                                   0.26          412/1597     0.44   \n",
       "unbekanntes_individuum_positiv              0.33           196/590     0.51   \n",
       "religiositaet                               0.15          240/1597     0.31   \n",
       "entity_ambivalent                           0.07          225/3401     0.04   \n",
       "stoffgebiet_ambivalent                      0.14          301/2181     0.10   \n",
       "entity_negativ                              0.17          583/3401     0.12   \n",
       "bekanntes_individuum_negativ                0.14          255/1781     0.09   \n",
       "kollektiv_negativ                           0.27           234/878     0.18   \n",
       "unbekanntes_individuum_negativ              0.14            80/590     0.02   \n",
       "stoffgebiet_negativ                         0.23          497/2181     0.11   \n",
       "entity_neutral                              0.32         1074/3401     0.16   \n",
       "stoffgebiet_neutral                         0.21          468/2181     0.04   \n",
       "ballade                                     0.60          962/1597     0.29   \n",
       "wissen_ergaenzend                           0.80         1278/1597     0.42   \n",
       "\n",
       "                                     wenn_ja_detail  diff_low_bootstrap  \\\n",
       "nation_volk_d_positiv                         40/53               -0.21   \n",
       "gegenwartsdominant                          125/253                0.34   \n",
       "sprechinstanz_nicht_in_vergangenheit        158/253                0.34   \n",
       "sprechinstanz_markiert                      173/253                0.22   \n",
       "entity_positiv                              352/515                0.19   \n",
       "bekanntes_individuum_positiv                186/244                0.16   \n",
       "tod_positiv                                    8/26                0.04   \n",
       "heroismus                                   111/253                0.12   \n",
       "unbekanntes_individuum_positiv                21/41                0.02   \n",
       "religiositaet                                78/253                0.10   \n",
       "entity_ambivalent                            19/515               -0.05   \n",
       "stoffgebiet_ambivalent                       37/359               -0.07   \n",
       "entity_negativ                               61/515               -0.08   \n",
       "bekanntes_individuum_negativ                 21/244               -0.09   \n",
       "kollektiv_negativ                            34/186               -0.14   \n",
       "unbekanntes_individuum_negativ                 1/41               -0.16   \n",
       "stoffgebiet_negativ                          39/359               -0.16   \n",
       "entity_neutral                               83/515               -0.19   \n",
       "stoffgebiet_neutral                          14/359               -0.20   \n",
       "ballade                                      74/253               -0.37   \n",
       "wissen_ergaenzend                           105/253               -0.45   \n",
       "\n",
       "                                      diff_low  diff  diff_high  \\\n",
       "nation_volk_d_positiv                    -0.12  0.42       0.97   \n",
       "gegenwartsdominant                        0.34  0.41       0.47   \n",
       "sprechinstanz_nicht_in_vergangenheit      0.34  0.40       0.47   \n",
       "sprechinstanz_markiert                    0.22  0.28       0.35   \n",
       "entity_positiv                            0.19  0.24       0.28   \n",
       "bekanntes_individuum_positiv              0.16  0.22       0.28   \n",
       "tod_positiv                               0.04  0.22       0.40   \n",
       "heroismus                                 0.12  0.18       0.25   \n",
       "unbekanntes_individuum_positiv            0.02  0.18       0.34   \n",
       "religiositaet                             0.10  0.16       0.22   \n",
       "entity_ambivalent                        -0.05 -0.03      -0.01   \n",
       "stoffgebiet_ambivalent                   -0.07 -0.03      -0.00   \n",
       "entity_negativ                           -0.08 -0.05      -0.02   \n",
       "bekanntes_individuum_negativ             -0.10 -0.06      -0.02   \n",
       "kollektiv_negativ                        -0.15 -0.08      -0.02   \n",
       "unbekanntes_individuum_negativ           -0.17 -0.11      -0.06   \n",
       "stoffgebiet_negativ                      -0.16 -0.12      -0.08   \n",
       "entity_neutral                           -0.19 -0.15      -0.12   \n",
       "stoffgebiet_neutral                      -0.20 -0.18      -0.15   \n",
       "ballade                                  -0.37 -0.31      -0.25   \n",
       "wissen_ergaenzend                        -0.45 -0.39      -0.32   \n",
       "\n",
       "                                      diff_high_bootstrap    chi2  chi2_p  \\\n",
       "nation_volk_d_positiv                                0.83    2.57    0.11   \n",
       "gegenwartsdominant                                   0.47  290.30    0.00   \n",
       "sprechinstanz_nicht_in_vergangenheit                 0.46  176.30    0.00   \n",
       "sprechinstanz_markiert                               0.35   71.70    0.00   \n",
       "entity_positiv                                       0.28  100.57    0.00   \n",
       "bekanntes_individuum_positiv                         0.28   42.31    0.00   \n",
       "tod_positiv                                          0.39   10.74    0.00   \n",
       "heroismus                                            0.25   35.19    0.00   \n",
       "unbekanntes_individuum_positiv                       0.33    5.50    0.02   \n",
       "religiositaet                                        0.22   38.31    0.00   \n",
       "entity_ambivalent                                   -0.01    6.56    0.01   \n",
       "stoffgebiet_ambivalent                              -0.00    3.26    0.07   \n",
       "entity_negativ                                      -0.02    9.13    0.00   \n",
       "bekanntes_individuum_negativ                        -0.02    5.95    0.01   \n",
       "kollektiv_negativ                                   -0.02    5.71    0.02   \n",
       "unbekanntes_individuum_negativ                      -0.05    4.24    0.04   \n",
       "stoffgebiet_negativ                                 -0.08   26.33    0.00   \n",
       "entity_neutral                                      -0.12   51.37    0.00   \n",
       "stoffgebiet_neutral                                 -0.15   61.81    0.00   \n",
       "ballade                                             -0.25   85.12    0.00   \n",
       "wissen_ergaenzend                                   -0.32  171.75    0.00   \n",
       "\n",
       "                                      fisher_p   phi  min_real  min_expected  \n",
       "nation_volk_d_positiv                     0.17  0.21       1.0          0.80  \n",
       "gegenwartsdominant                        0.00  0.40     125.0         36.51  \n",
       "sprechinstanz_nicht_in_vergangenheit      0.00  0.31      95.0         70.16  \n",
       "sprechinstanz_markiert                    0.00  0.20      80.0        110.91  \n",
       "entity_positiv                            0.00  0.16     163.0        246.06  \n",
       "bekanntes_individuum_positiv              0.00  0.14      58.0        105.19  \n",
       "tod_positiv                               0.00  0.22       8.0          3.00  \n",
       "heroismus                                 0.00  0.14     111.0         71.52  \n",
       "unbekanntes_individuum_positiv            0.03  0.09      20.0         14.10  \n",
       "religiositaet                             0.00  0.14      78.0         43.49  \n",
       "entity_ambivalent                         0.01  0.04      19.0         32.09  \n",
       "stoffgebiet_ambivalent                    0.08  0.04      37.0         47.77  \n",
       "entity_negativ                            0.00  0.05      61.0         84.69  \n",
       "bekanntes_individuum_negativ              0.01  0.05      21.0         33.26  \n",
       "kollektiv_negativ                         0.02  0.07      34.0         46.85  \n",
       "unbekanntes_individuum_negativ            0.05  0.08       1.0          5.26  \n",
       "stoffgebiet_negativ                       0.00  0.10      39.0         75.76  \n",
       "entity_neutral                            0.00  0.11      83.0        152.16  \n",
       "stoffgebiet_neutral                       0.00  0.16      14.0         68.13  \n",
       "ballade                                   0.00  0.21      74.0        111.32  \n",
       "wissen_ergaenzend                         0.00  0.30     105.0         63.87  "
      ]
     },
     "execution_count": 39,
     "metadata": {},
     "output_type": "execute_result"
    }
   ],
   "source": [
    "results_other = results.query(\"index not in @results_filtered.index\")\n",
    "round(results_other.sort_values(by='diff', ascending=False), 2)"
   ]
  },
  {
   "cell_type": "code",
   "execution_count": 40,
   "id": "7dd7a55f",
   "metadata": {},
   "outputs": [
    {
     "data": {
      "text/html": [
       "<div>\n",
       "<style scoped>\n",
       "    .dataframe tbody tr th:only-of-type {\n",
       "        vertical-align: middle;\n",
       "    }\n",
       "\n",
       "    .dataframe tbody tr th {\n",
       "        vertical-align: top;\n",
       "    }\n",
       "\n",
       "    .dataframe thead th {\n",
       "        text-align: right;\n",
       "    }\n",
       "</style>\n",
       "<table border=\"1\" class=\"dataframe\">\n",
       "  <thead>\n",
       "    <tr style=\"text-align: right;\">\n",
       "      <th></th>\n",
       "      <th>wenn_nicht_1850</th>\n",
       "      <th>wenn_nicht_detail_1850</th>\n",
       "      <th>wenn_ja_1850</th>\n",
       "      <th>wenn_ja_detail_1850</th>\n",
       "      <th>diff_1850</th>\n",
       "      <th>chi2_p_1850</th>\n",
       "      <th>phi_1850</th>\n",
       "      <th>wenn_nicht_1885</th>\n",
       "      <th>wenn_nicht_detail_1885</th>\n",
       "      <th>wenn_ja_1885</th>\n",
       "      <th>wenn_ja_detail_1885</th>\n",
       "      <th>diff_1885</th>\n",
       "      <th>chi2_p_1885</th>\n",
       "      <th>phi_1885</th>\n",
       "      <th>diff_of_diffs</th>\n",
       "      <th>diff_of_phis</th>\n",
       "    </tr>\n",
       "  </thead>\n",
       "  <tbody>\n",
       "    <tr>\n",
       "      <th>neuzeit</th>\n",
       "      <td>0.458</td>\n",
       "      <td>533/1165</td>\n",
       "      <td>0.829</td>\n",
       "      <td>150/181</td>\n",
       "      <td>0.371</td>\n",
       "      <td>0.000</td>\n",
       "      <td>0.253</td>\n",
       "      <td>0.586</td>\n",
       "      <td>253/432</td>\n",
       "      <td>0.903</td>\n",
       "      <td>65/72</td>\n",
       "      <td>0.317</td>\n",
       "      <td>0.000</td>\n",
       "      <td>0.230</td>\n",
       "      <td>-0.054</td>\n",
       "      <td>-0.023</td>\n",
       "    </tr>\n",
       "    <tr>\n",
       "      <th>gegenwartsbezug</th>\n",
       "      <td>0.224</td>\n",
       "      <td>261/1165</td>\n",
       "      <td>0.718</td>\n",
       "      <td>130/181</td>\n",
       "      <td>0.494</td>\n",
       "      <td>0.000</td>\n",
       "      <td>0.371</td>\n",
       "      <td>0.220</td>\n",
       "      <td>95/432</td>\n",
       "      <td>0.694</td>\n",
       "      <td>50/72</td>\n",
       "      <td>0.475</td>\n",
       "      <td>0.000</td>\n",
       "      <td>0.367</td>\n",
       "      <td>-0.020</td>\n",
       "      <td>-0.005</td>\n",
       "    </tr>\n",
       "    <tr>\n",
       "      <th>kollektiv_positiv</th>\n",
       "      <td>0.325</td>\n",
       "      <td>221/679</td>\n",
       "      <td>0.616</td>\n",
       "      <td>90/146</td>\n",
       "      <td>0.291</td>\n",
       "      <td>0.000</td>\n",
       "      <td>0.229</td>\n",
       "      <td>0.307</td>\n",
       "      <td>61/199</td>\n",
       "      <td>0.600</td>\n",
       "      <td>24/40</td>\n",
       "      <td>0.293</td>\n",
       "      <td>0.000</td>\n",
       "      <td>0.229</td>\n",
       "      <td>0.003</td>\n",
       "      <td>-0.000</td>\n",
       "    </tr>\n",
       "    <tr>\n",
       "      <th>nation_volk_d</th>\n",
       "      <td>0.001</td>\n",
       "      <td>1/1165</td>\n",
       "      <td>0.199</td>\n",
       "      <td>36/181</td>\n",
       "      <td>0.198</td>\n",
       "      <td>0.000</td>\n",
       "      <td>0.413</td>\n",
       "      <td>0.005</td>\n",
       "      <td>2/432</td>\n",
       "      <td>0.236</td>\n",
       "      <td>17/72</td>\n",
       "      <td>0.231</td>\n",
       "      <td>0.000</td>\n",
       "      <td>0.425</td>\n",
       "      <td>0.033</td>\n",
       "      <td>0.012</td>\n",
       "    </tr>\n",
       "    <tr>\n",
       "      <th>nogenre</th>\n",
       "      <td>0.158</td>\n",
       "      <td>184/1165</td>\n",
       "      <td>0.425</td>\n",
       "      <td>77/181</td>\n",
       "      <td>0.267</td>\n",
       "      <td>0.000</td>\n",
       "      <td>0.231</td>\n",
       "      <td>0.269</td>\n",
       "      <td>116/432</td>\n",
       "      <td>0.625</td>\n",
       "      <td>45/72</td>\n",
       "      <td>0.356</td>\n",
       "      <td>0.000</td>\n",
       "      <td>0.268</td>\n",
       "      <td>0.089</td>\n",
       "      <td>0.037</td>\n",
       "    </tr>\n",
       "    <tr>\n",
       "      <th>sprechakt_behaupten_vorhanden</th>\n",
       "      <td>0.138</td>\n",
       "      <td>161/1165</td>\n",
       "      <td>0.403</td>\n",
       "      <td>73/181</td>\n",
       "      <td>0.265</td>\n",
       "      <td>0.000</td>\n",
       "      <td>0.239</td>\n",
       "      <td>0.171</td>\n",
       "      <td>74/432</td>\n",
       "      <td>0.514</td>\n",
       "      <td>37/72</td>\n",
       "      <td>0.343</td>\n",
       "      <td>0.000</td>\n",
       "      <td>0.289</td>\n",
       "      <td>0.077</td>\n",
       "      <td>0.051</td>\n",
       "    </tr>\n",
       "    <tr>\n",
       "      <th>krieg_positiv</th>\n",
       "      <td>0.498</td>\n",
       "      <td>229/460</td>\n",
       "      <td>0.866</td>\n",
       "      <td>84/97</td>\n",
       "      <td>0.368</td>\n",
       "      <td>0.000</td>\n",
       "      <td>0.281</td>\n",
       "      <td>0.374</td>\n",
       "      <td>76/203</td>\n",
       "      <td>0.838</td>\n",
       "      <td>31/37</td>\n",
       "      <td>0.463</td>\n",
       "      <td>0.000</td>\n",
       "      <td>0.337</td>\n",
       "      <td>0.095</td>\n",
       "      <td>0.055</td>\n",
       "    </tr>\n",
       "    <tr>\n",
       "      <th>stoffgebiet_positiv</th>\n",
       "      <td>0.455</td>\n",
       "      <td>730/1603</td>\n",
       "      <td>0.769</td>\n",
       "      <td>193/251</td>\n",
       "      <td>0.314</td>\n",
       "      <td>0.000</td>\n",
       "      <td>0.215</td>\n",
       "      <td>0.320</td>\n",
       "      <td>185/578</td>\n",
       "      <td>0.704</td>\n",
       "      <td>76/108</td>\n",
       "      <td>0.384</td>\n",
       "      <td>0.000</td>\n",
       "      <td>0.288</td>\n",
       "      <td>0.070</td>\n",
       "      <td>0.073</td>\n",
       "    </tr>\n",
       "    <tr>\n",
       "      <th>in_hohem_mass_konkret</th>\n",
       "      <td>0.857</td>\n",
       "      <td>998/1165</td>\n",
       "      <td>0.613</td>\n",
       "      <td>111/181</td>\n",
       "      <td>-0.243</td>\n",
       "      <td>0.000</td>\n",
       "      <td>0.218</td>\n",
       "      <td>0.852</td>\n",
       "      <td>368/432</td>\n",
       "      <td>0.500</td>\n",
       "      <td>36/72</td>\n",
       "      <td>-0.352</td>\n",
       "      <td>0.000</td>\n",
       "      <td>0.309</td>\n",
       "      <td>-0.108</td>\n",
       "      <td>0.091</td>\n",
       "    </tr>\n",
       "    <tr>\n",
       "      <th>wissen_identisch</th>\n",
       "      <td>0.099</td>\n",
       "      <td>115/1165</td>\n",
       "      <td>0.337</td>\n",
       "      <td>61/181</td>\n",
       "      <td>0.238</td>\n",
       "      <td>0.000</td>\n",
       "      <td>0.241</td>\n",
       "      <td>0.116</td>\n",
       "      <td>50/432</td>\n",
       "      <td>0.528</td>\n",
       "      <td>38/72</td>\n",
       "      <td>0.412</td>\n",
       "      <td>0.000</td>\n",
       "      <td>0.380</td>\n",
       "      <td>0.174</td>\n",
       "      <td>0.139</td>\n",
       "    </tr>\n",
       "    <tr>\n",
       "      <th>politik_positiv</th>\n",
       "      <td>0.508</td>\n",
       "      <td>94/185</td>\n",
       "      <td>0.750</td>\n",
       "      <td>27/36</td>\n",
       "      <td>0.242</td>\n",
       "      <td>0.008</td>\n",
       "      <td>0.179</td>\n",
       "      <td>0.511</td>\n",
       "      <td>24/47</td>\n",
       "      <td>0.933</td>\n",
       "      <td>14/15</td>\n",
       "      <td>0.423</td>\n",
       "      <td>0.003</td>\n",
       "      <td>0.372</td>\n",
       "      <td>0.181</td>\n",
       "      <td>0.192</td>\n",
       "    </tr>\n",
       "  </tbody>\n",
       "</table>\n",
       "</div>"
      ],
      "text/plain": [
       "                               wenn_nicht_1850 wenn_nicht_detail_1850  \\\n",
       "neuzeit                                  0.458               533/1165   \n",
       "gegenwartsbezug                          0.224               261/1165   \n",
       "kollektiv_positiv                        0.325                221/679   \n",
       "nation_volk_d                            0.001                 1/1165   \n",
       "nogenre                                  0.158               184/1165   \n",
       "sprechakt_behaupten_vorhanden            0.138               161/1165   \n",
       "krieg_positiv                            0.498                229/460   \n",
       "stoffgebiet_positiv                      0.455               730/1603   \n",
       "in_hohem_mass_konkret                    0.857               998/1165   \n",
       "wissen_identisch                         0.099               115/1165   \n",
       "politik_positiv                          0.508                 94/185   \n",
       "\n",
       "                               wenn_ja_1850 wenn_ja_detail_1850  diff_1850  \\\n",
       "neuzeit                               0.829             150/181      0.371   \n",
       "gegenwartsbezug                       0.718             130/181      0.494   \n",
       "kollektiv_positiv                     0.616              90/146      0.291   \n",
       "nation_volk_d                         0.199              36/181      0.198   \n",
       "nogenre                               0.425              77/181      0.267   \n",
       "sprechakt_behaupten_vorhanden         0.403              73/181      0.265   \n",
       "krieg_positiv                         0.866               84/97      0.368   \n",
       "stoffgebiet_positiv                   0.769             193/251      0.314   \n",
       "in_hohem_mass_konkret                 0.613             111/181     -0.243   \n",
       "wissen_identisch                      0.337              61/181      0.238   \n",
       "politik_positiv                       0.750               27/36      0.242   \n",
       "\n",
       "                               chi2_p_1850  phi_1850  wenn_nicht_1885  \\\n",
       "neuzeit                              0.000     0.253            0.586   \n",
       "gegenwartsbezug                      0.000     0.371            0.220   \n",
       "kollektiv_positiv                    0.000     0.229            0.307   \n",
       "nation_volk_d                        0.000     0.413            0.005   \n",
       "nogenre                              0.000     0.231            0.269   \n",
       "sprechakt_behaupten_vorhanden        0.000     0.239            0.171   \n",
       "krieg_positiv                        0.000     0.281            0.374   \n",
       "stoffgebiet_positiv                  0.000     0.215            0.320   \n",
       "in_hohem_mass_konkret                0.000     0.218            0.852   \n",
       "wissen_identisch                     0.000     0.241            0.116   \n",
       "politik_positiv                      0.008     0.179            0.511   \n",
       "\n",
       "                              wenn_nicht_detail_1885  wenn_ja_1885  \\\n",
       "neuzeit                                      253/432         0.903   \n",
       "gegenwartsbezug                               95/432         0.694   \n",
       "kollektiv_positiv                             61/199         0.600   \n",
       "nation_volk_d                                  2/432         0.236   \n",
       "nogenre                                      116/432         0.625   \n",
       "sprechakt_behaupten_vorhanden                 74/432         0.514   \n",
       "krieg_positiv                                 76/203         0.838   \n",
       "stoffgebiet_positiv                          185/578         0.704   \n",
       "in_hohem_mass_konkret                        368/432         0.500   \n",
       "wissen_identisch                              50/432         0.528   \n",
       "politik_positiv                                24/47         0.933   \n",
       "\n",
       "                              wenn_ja_detail_1885  diff_1885  chi2_p_1885  \\\n",
       "neuzeit                                     65/72      0.317        0.000   \n",
       "gegenwartsbezug                             50/72      0.475        0.000   \n",
       "kollektiv_positiv                           24/40      0.293        0.000   \n",
       "nation_volk_d                               17/72      0.231        0.000   \n",
       "nogenre                                     45/72      0.356        0.000   \n",
       "sprechakt_behaupten_vorhanden               37/72      0.343        0.000   \n",
       "krieg_positiv                               31/37      0.463        0.000   \n",
       "stoffgebiet_positiv                        76/108      0.384        0.000   \n",
       "in_hohem_mass_konkret                       36/72     -0.352        0.000   \n",
       "wissen_identisch                            38/72      0.412        0.000   \n",
       "politik_positiv                             14/15      0.423        0.003   \n",
       "\n",
       "                               phi_1885  diff_of_diffs  diff_of_phis  \n",
       "neuzeit                           0.230         -0.054        -0.023  \n",
       "gegenwartsbezug                   0.367         -0.020        -0.005  \n",
       "kollektiv_positiv                 0.229          0.003        -0.000  \n",
       "nation_volk_d                     0.425          0.033         0.012  \n",
       "nogenre                           0.268          0.089         0.037  \n",
       "sprechakt_behaupten_vorhanden     0.289          0.077         0.051  \n",
       "krieg_positiv                     0.337          0.095         0.055  \n",
       "stoffgebiet_positiv               0.288          0.070         0.073  \n",
       "in_hohem_mass_konkret             0.309         -0.108         0.091  \n",
       "wissen_identisch                  0.380          0.174         0.139  \n",
       "politik_positiv                   0.372          0.181         0.192  "
      ]
     },
     "execution_count": 40,
     "metadata": {},
     "output_type": "execute_result"
    }
   ],
   "source": [
    "result_categories = ['wenn_nicht', 'wenn_nicht_detail', 'wenn_ja', 'wenn_ja_detail', 'diff', 'chi2_p', 'phi',]\n",
    "\n",
    "results_a = relations_binbin(\n",
    "    meta = meta_anth_bin.query(\"1850 <= year <= 1884\"), \n",
    "    main_feature = main_feature,\n",
    "    comp_features = results_filtered.index\n",
    ")\n",
    "\n",
    "results_b = relations_binbin(\n",
    "    meta = meta_anth_bin.query(\"1885 <= year <= 1918\"), \n",
    "    main_feature = main_feature,\n",
    "    comp_features = results_filtered.index\n",
    ")\n",
    "\n",
    "results_merged = results_a[result_categories].join(\n",
    "    results_b[result_categories], \n",
    "    lsuffix='_1850', rsuffix = '_1885'\n",
    ")\n",
    "results_merged['diff_of_diffs'] = results_merged['diff_1885'] - results_merged['diff_1850']\n",
    "results_merged['diff_of_phis'] = results_merged['phi_1885'] - results_merged['phi_1850']\n",
    "\n",
    "round(results_merged.sort_values(by = 'diff_of_phis'), 3)"
   ]
  },
  {
   "cell_type": "code",
   "execution_count": 41,
   "id": "fe8da6ac",
   "metadata": {},
   "outputs": [],
   "source": [
    "results = relations_bincont(\n",
    "    meta = meta_anth_bin, \n",
    "    main_feature = main_feature,\n",
    "    comp_features = cont_comp_features\n",
    ")"
   ]
  },
  {
   "cell_type": "code",
   "execution_count": 42,
   "id": "11273c09",
   "metadata": {},
   "outputs": [
    {
     "data": {
      "text/html": [
       "<div>\n",
       "<style scoped>\n",
       "    .dataframe tbody tr th:only-of-type {\n",
       "        vertical-align: middle;\n",
       "    }\n",
       "\n",
       "    .dataframe tbody tr th {\n",
       "        vertical-align: top;\n",
       "    }\n",
       "\n",
       "    .dataframe thead th {\n",
       "        text-align: right;\n",
       "    }\n",
       "</style>\n",
       "<table border=\"1\" class=\"dataframe\">\n",
       "  <thead>\n",
       "    <tr style=\"text-align: right;\">\n",
       "      <th></th>\n",
       "      <th>wenn_nicht</th>\n",
       "      <th>a_merkmal=0</th>\n",
       "      <th>a_merkmal=1</th>\n",
       "      <th>a_merkmal=2</th>\n",
       "      <th>a_merkmal=3</th>\n",
       "      <th>a_merkmal&gt;=4</th>\n",
       "      <th>wenn_ja</th>\n",
       "      <th>b_merkmal=0</th>\n",
       "      <th>b_merkmal=1</th>\n",
       "      <th>b_merkmal=2</th>\n",
       "      <th>...</th>\n",
       "      <th>pointbiserialr_corr</th>\n",
       "      <th>pointbiserialr_p</th>\n",
       "      <th>ttest_p</th>\n",
       "      <th>cohens_d</th>\n",
       "      <th>mannwhitneyu_stat</th>\n",
       "      <th>mannwhitneyu_p</th>\n",
       "      <th>meandiffs_ci_lower</th>\n",
       "      <th>meandiffs_ci_bootstrap_lower</th>\n",
       "      <th>meandiffs_ci_upper</th>\n",
       "      <th>meandiffs_ci_bootstrap_upper</th>\n",
       "    </tr>\n",
       "  </thead>\n",
       "  <tbody>\n",
       "    <tr>\n",
       "      <th>ende</th>\n",
       "      <td>1244.84</td>\n",
       "      <td>0.0 [5/1590]</td>\n",
       "      <td>0.0 [0/1590]</td>\n",
       "      <td>0.0 [0/1590]</td>\n",
       "      <td>0.0 [0/1590]</td>\n",
       "      <td>0.92 [1459/1590]</td>\n",
       "      <td>1727.17</td>\n",
       "      <td>0.0 [0/252]</td>\n",
       "      <td>0.0 [0/252]</td>\n",
       "      <td>0.0 [0/252]</td>\n",
       "      <td>...</td>\n",
       "      <td>0.25</td>\n",
       "      <td>0.0</td>\n",
       "      <td>0.0</td>\n",
       "      <td>-0.88</td>\n",
       "      <td>73108.5</td>\n",
       "      <td>0.0</td>\n",
       "      <td>395.12</td>\n",
       "      <td>426.29</td>\n",
       "      <td>569.54</td>\n",
       "      <td>535.68</td>\n",
       "    </tr>\n",
       "    <tr>\n",
       "      <th>zeit_mitte</th>\n",
       "      <td>1231.84</td>\n",
       "      <td>0.0 [7/1590]</td>\n",
       "      <td>0.0 [0/1590]</td>\n",
       "      <td>0.0 [0/1590]</td>\n",
       "      <td>0.0 [0/1590]</td>\n",
       "      <td>0.92 [1455/1590]</td>\n",
       "      <td>1714.99</td>\n",
       "      <td>0.0 [0/252]</td>\n",
       "      <td>0.0 [0/252]</td>\n",
       "      <td>0.0 [0/252]</td>\n",
       "      <td>...</td>\n",
       "      <td>0.24</td>\n",
       "      <td>0.0</td>\n",
       "      <td>0.0</td>\n",
       "      <td>-0.87</td>\n",
       "      <td>74364.5</td>\n",
       "      <td>0.0</td>\n",
       "      <td>395.08</td>\n",
       "      <td>424.83</td>\n",
       "      <td>571.21</td>\n",
       "      <td>537.16</td>\n",
       "    </tr>\n",
       "    <tr>\n",
       "      <th>beginn</th>\n",
       "      <td>1218.85</td>\n",
       "      <td>0.01 [9/1590]</td>\n",
       "      <td>0.0 [0/1590]</td>\n",
       "      <td>0.0 [0/1590]</td>\n",
       "      <td>0.0 [0/1590]</td>\n",
       "      <td>0.91 [1446/1590]</td>\n",
       "      <td>1702.81</td>\n",
       "      <td>0.0 [0/252]</td>\n",
       "      <td>0.0 [0/252]</td>\n",
       "      <td>0.0 [0/252]</td>\n",
       "      <td>...</td>\n",
       "      <td>0.24</td>\n",
       "      <td>0.0</td>\n",
       "      <td>0.0</td>\n",
       "      <td>-0.83</td>\n",
       "      <td>75685.0</td>\n",
       "      <td>0.0</td>\n",
       "      <td>392.88</td>\n",
       "      <td>419.01</td>\n",
       "      <td>575.02</td>\n",
       "      <td>539.69</td>\n",
       "    </tr>\n",
       "    <tr>\n",
       "      <th>zeitebenen</th>\n",
       "      <td>1.95</td>\n",
       "      <td>0.0 [0/1597]</td>\n",
       "      <td>0.31 [498/1597]</td>\n",
       "      <td>0.46 [742/1597]</td>\n",
       "      <td>0.19 [296/1597]</td>\n",
       "      <td>0.04 [61/1597]</td>\n",
       "      <td>2.47</td>\n",
       "      <td>0.0 [0/253]</td>\n",
       "      <td>0.11 [28/253]</td>\n",
       "      <td>0.44 [112/253]</td>\n",
       "      <td>...</td>\n",
       "      <td>0.21</td>\n",
       "      <td>0.0</td>\n",
       "      <td>0.0</td>\n",
       "      <td>-0.60</td>\n",
       "      <td>137540.5</td>\n",
       "      <td>0.0</td>\n",
       "      <td>0.41</td>\n",
       "      <td>0.40</td>\n",
       "      <td>0.63</td>\n",
       "      <td>0.64</td>\n",
       "    </tr>\n",
       "    <tr>\n",
       "      <th>konkretheit</th>\n",
       "      <td>0.92</td>\n",
       "      <td>0.01 [16/1597]</td>\n",
       "      <td>0.86 [1366/1597]</td>\n",
       "      <td>0.0 [0/1597]</td>\n",
       "      <td>0.0 [0/1597]</td>\n",
       "      <td>0.0 [0/1597]</td>\n",
       "      <td>0.77</td>\n",
       "      <td>0.04 [9/253]</td>\n",
       "      <td>0.58 [147/253]</td>\n",
       "      <td>0.0 [0/253]</td>\n",
       "      <td>...</td>\n",
       "      <td>-0.24</td>\n",
       "      <td>0.0</td>\n",
       "      <td>0.0</td>\n",
       "      <td>0.62</td>\n",
       "      <td>257631.5</td>\n",
       "      <td>0.0</td>\n",
       "      <td>-0.18</td>\n",
       "      <td>-0.19</td>\n",
       "      <td>-0.12</td>\n",
       "      <td>-0.11</td>\n",
       "    </tr>\n",
       "  </tbody>\n",
       "</table>\n",
       "<p>5 rows × 22 columns</p>\n",
       "</div>"
      ],
      "text/plain": [
       "             wenn_nicht     a_merkmal=0       a_merkmal=1      a_merkmal=2  \\\n",
       "ende            1244.84    0.0 [5/1590]      0.0 [0/1590]     0.0 [0/1590]   \n",
       "zeit_mitte      1231.84    0.0 [7/1590]      0.0 [0/1590]     0.0 [0/1590]   \n",
       "beginn          1218.85   0.01 [9/1590]      0.0 [0/1590]     0.0 [0/1590]   \n",
       "zeitebenen         1.95    0.0 [0/1597]   0.31 [498/1597]  0.46 [742/1597]   \n",
       "konkretheit        0.92  0.01 [16/1597]  0.86 [1366/1597]     0.0 [0/1597]   \n",
       "\n",
       "                 a_merkmal=3      a_merkmal>=4  wenn_ja   b_merkmal=0  \\\n",
       "ende            0.0 [0/1590]  0.92 [1459/1590]  1727.17   0.0 [0/252]   \n",
       "zeit_mitte      0.0 [0/1590]  0.92 [1455/1590]  1714.99   0.0 [0/252]   \n",
       "beginn          0.0 [0/1590]  0.91 [1446/1590]  1702.81   0.0 [0/252]   \n",
       "zeitebenen   0.19 [296/1597]    0.04 [61/1597]     2.47   0.0 [0/253]   \n",
       "konkretheit     0.0 [0/1597]      0.0 [0/1597]     0.77  0.04 [9/253]   \n",
       "\n",
       "                b_merkmal=1     b_merkmal=2  ... pointbiserialr_corr  \\\n",
       "ende            0.0 [0/252]     0.0 [0/252]  ...                0.25   \n",
       "zeit_mitte      0.0 [0/252]     0.0 [0/252]  ...                0.24   \n",
       "beginn          0.0 [0/252]     0.0 [0/252]  ...                0.24   \n",
       "zeitebenen    0.11 [28/253]  0.44 [112/253]  ...                0.21   \n",
       "konkretheit  0.58 [147/253]     0.0 [0/253]  ...               -0.24   \n",
       "\n",
       "            pointbiserialr_p  ttest_p  cohens_d  mannwhitneyu_stat  \\\n",
       "ende                     0.0      0.0     -0.88            73108.5   \n",
       "zeit_mitte               0.0      0.0     -0.87            74364.5   \n",
       "beginn                   0.0      0.0     -0.83            75685.0   \n",
       "zeitebenen               0.0      0.0     -0.60           137540.5   \n",
       "konkretheit              0.0      0.0      0.62           257631.5   \n",
       "\n",
       "             mannwhitneyu_p  meandiffs_ci_lower  meandiffs_ci_bootstrap_lower  \\\n",
       "ende                    0.0              395.12                        426.29   \n",
       "zeit_mitte              0.0              395.08                        424.83   \n",
       "beginn                  0.0              392.88                        419.01   \n",
       "zeitebenen              0.0                0.41                          0.40   \n",
       "konkretheit             0.0               -0.18                         -0.19   \n",
       "\n",
       "             meandiffs_ci_upper  meandiffs_ci_bootstrap_upper  \n",
       "ende                     569.54                        535.68  \n",
       "zeit_mitte               571.21                        537.16  \n",
       "beginn                   575.02                        539.69  \n",
       "zeitebenen                 0.63                          0.64  \n",
       "konkretheit               -0.12                         -0.11  \n",
       "\n",
       "[5 rows x 22 columns]"
      ]
     },
     "execution_count": 42,
     "metadata": {},
     "output_type": "execute_result"
    }
   ],
   "source": [
    "round(results.sort_values(by = 'pointbiserialr_corr', ascending = False), 2)"
   ]
  },
  {
   "cell_type": "code",
   "execution_count": 43,
   "id": "01d98af9",
   "metadata": {},
   "outputs": [
    {
     "data": {
      "application/vnd.plotly.v1+json": {
       "config": {
        "plotlyServerURL": "https://plot.ly"
       },
       "data": [
        {
         "alignmentgroup": "True",
         "bingroup": "x",
         "histnorm": "probability density",
         "hovertemplate": "=Nicht nationalistische Texte<br>(Mittelwert = 0.92)<br>konkretheit=%{x}<br>probability density=%{y}<extra></extra>",
         "legendgroup": "Nicht nationalistische Texte<br>(Mittelwert = 0.92)",
         "marker": {
          "color": "#636efa",
          "pattern": {
           "shape": ""
          }
         },
         "name": "Nicht nationalistische Texte<br>(Mittelwert = 0.92)",
         "offsetgroup": "Nicht nationalistische Texte<br>(Mittelwert = 0.92)",
         "orientation": "v",
         "showlegend": true,
         "type": "histogram",
         "x": [
          0.5,
          0,
          1,
          1,
          0.5,
          1,
          1,
          1,
          1,
          1,
          1,
          1,
          1,
          1,
          1,
          1,
          0.5,
          1,
          1,
          1,
          1,
          1,
          1,
          1,
          1,
          0.5,
          1,
          0.5,
          1,
          0.5,
          1,
          1,
          1,
          1,
          1,
          1,
          1,
          1,
          0.5,
          0.5,
          1,
          1,
          1,
          1,
          1,
          0.5,
          1,
          1,
          1,
          1,
          1,
          1,
          1,
          1,
          0.5,
          1,
          1,
          1,
          1,
          1,
          1,
          1,
          1,
          1,
          1,
          1,
          0.5,
          1,
          1,
          0.5,
          1,
          1,
          0,
          1,
          0.5,
          0.5,
          1,
          1,
          1,
          1,
          1,
          1,
          1,
          1,
          0.5,
          1,
          1,
          1,
          1,
          0.5,
          1,
          0.5,
          1,
          0.5,
          1,
          1,
          1,
          1,
          1,
          1,
          1,
          1,
          1,
          1,
          1,
          1,
          0.5,
          1,
          1,
          1,
          1,
          1,
          1,
          1,
          0.5,
          1,
          1,
          1,
          1,
          1,
          1,
          0.5,
          1,
          1,
          1,
          0,
          1,
          1,
          1,
          1,
          1,
          0.5,
          1,
          0.5,
          0.5,
          1,
          0.5,
          0.5,
          1,
          0.5,
          0.5,
          1,
          1,
          1,
          1,
          0.5,
          1,
          1,
          1,
          1,
          1,
          1,
          1,
          1,
          1,
          1,
          1,
          1,
          1,
          1,
          1,
          1,
          1,
          1,
          1,
          1,
          0.5,
          1,
          0.5,
          1,
          0.5,
          1,
          1,
          1,
          1,
          1,
          1,
          1,
          1,
          0.5,
          0,
          1,
          1,
          1,
          1,
          1,
          1,
          1,
          1,
          1,
          1,
          1,
          1,
          1,
          1,
          1,
          1,
          1,
          1,
          1,
          1,
          1,
          0.5,
          1,
          1,
          1,
          1,
          1,
          0.5,
          1,
          0.5,
          1,
          1,
          1,
          1,
          1,
          1,
          1,
          1,
          1,
          1,
          1,
          1,
          0.5,
          1,
          1,
          0.5,
          1,
          1,
          1,
          1,
          1,
          1,
          1,
          1,
          1,
          1,
          1,
          1,
          1,
          0.5,
          1,
          1,
          1,
          1,
          1,
          0.5,
          1,
          1,
          1,
          1,
          1,
          1,
          1,
          1,
          1,
          1,
          1,
          1,
          1,
          1,
          0.5,
          0.5,
          1,
          1,
          1,
          1,
          0.5,
          1,
          0.5,
          1,
          1,
          0.5,
          1,
          1,
          1,
          1,
          1,
          1,
          1,
          1,
          1,
          1,
          1,
          1,
          1,
          1,
          1,
          1,
          1,
          1,
          1,
          1,
          1,
          0.5,
          0.5,
          1,
          1,
          1,
          0.5,
          1,
          1,
          0.5,
          1,
          0.5,
          1,
          1,
          1,
          1,
          1,
          1,
          1,
          1,
          1,
          1,
          1,
          1,
          1,
          1,
          1,
          1,
          1,
          1,
          1,
          1,
          1,
          1,
          1,
          0.5,
          0.5,
          1,
          1,
          1,
          1,
          0.5,
          1,
          1,
          1,
          1,
          1,
          0.5,
          1,
          1,
          1,
          0.5,
          1,
          1,
          1,
          1,
          1,
          0.5,
          1,
          1,
          1,
          1,
          0,
          0.5,
          1,
          0.5,
          1,
          1,
          1,
          1,
          1,
          0.5,
          1,
          0.5,
          1,
          0.5,
          0.5,
          1,
          1,
          1,
          1,
          1,
          1,
          1,
          1,
          1,
          1,
          1,
          1,
          1,
          1,
          1,
          1,
          1,
          1,
          1,
          1,
          0.5,
          1,
          1,
          1,
          1,
          0.5,
          1,
          1,
          0.5,
          1,
          1,
          0.5,
          0,
          1,
          0.5,
          1,
          1,
          1,
          0,
          1,
          1,
          0.5,
          1,
          1,
          1,
          1,
          1,
          1,
          1,
          1,
          1,
          1,
          1,
          1,
          1,
          1,
          1,
          1,
          1,
          1,
          1,
          1,
          1,
          1,
          1,
          1,
          1,
          1,
          1,
          1,
          1,
          1,
          1,
          1,
          0.5,
          1,
          1,
          1,
          0.5,
          0.5,
          1,
          1,
          1,
          1,
          1,
          1,
          1,
          1,
          1,
          1,
          0.5,
          1,
          0.5,
          1,
          1,
          1,
          1,
          1,
          1,
          0.5,
          1,
          1,
          1,
          0.5,
          1,
          1,
          1,
          1,
          1,
          1,
          1,
          1,
          1,
          0.5,
          1,
          1,
          1,
          1,
          1,
          0.5,
          1,
          1,
          0.5,
          1,
          0.5,
          1,
          1,
          1,
          0.5,
          0.5,
          1,
          0.5,
          1,
          0.5,
          0.5,
          1,
          0.5,
          1,
          1,
          1,
          1,
          1,
          0.5,
          0.5,
          1,
          1,
          1,
          1,
          1,
          1,
          1,
          0.5,
          1,
          1,
          1,
          1,
          1,
          1,
          1,
          1,
          1,
          1,
          1,
          1,
          1,
          1,
          1,
          1,
          1,
          1,
          0.5,
          1,
          1,
          1,
          1,
          1,
          1,
          1,
          1,
          1,
          1,
          1,
          1,
          1,
          1,
          1,
          1,
          1,
          1,
          1,
          1,
          1,
          1,
          1,
          1,
          1,
          1,
          1,
          1,
          0.5,
          1,
          1,
          1,
          1,
          1,
          1,
          0.5,
          1,
          0.5,
          1,
          1,
          1,
          1,
          1,
          1,
          1,
          1,
          1,
          1,
          1,
          1,
          1,
          1,
          1,
          1,
          1,
          1,
          1,
          1,
          1,
          0.5,
          0.5,
          0,
          1,
          1,
          1,
          1,
          1,
          1,
          1,
          1,
          1,
          1,
          1,
          1,
          1,
          1,
          1,
          1,
          1,
          0.5,
          1,
          1,
          1,
          1,
          1,
          0.5,
          0.5,
          0.5,
          1,
          0.5,
          1,
          1,
          1,
          1,
          1,
          1,
          1,
          1,
          1,
          1,
          1,
          1,
          1,
          1,
          1,
          1,
          1,
          1,
          1,
          1,
          1,
          1,
          1,
          1,
          1,
          1,
          0.5,
          1,
          1,
          0.5,
          1,
          1,
          1,
          0.5,
          1,
          1,
          1,
          0.5,
          1,
          1,
          1,
          1,
          0.5,
          1,
          1,
          1,
          1,
          1,
          1,
          1,
          1,
          0.5,
          1,
          1,
          1,
          1,
          1,
          1,
          1,
          1,
          1,
          1,
          1,
          1,
          1,
          1,
          1,
          1,
          1,
          1,
          1,
          1,
          1,
          1,
          1,
          1,
          1,
          1,
          0.5,
          1,
          1,
          1,
          1,
          1,
          1,
          1,
          1,
          1,
          1,
          1,
          1,
          1,
          1,
          1,
          1,
          1,
          1,
          1,
          1,
          1,
          1,
          1,
          1,
          1,
          1,
          1,
          1,
          0.5,
          1,
          1,
          0.5,
          1,
          0.5,
          1,
          1,
          1,
          1,
          0,
          1,
          1,
          1,
          1,
          0.5,
          1,
          1,
          1,
          1,
          1,
          1,
          1,
          1,
          1,
          0.5,
          1,
          1,
          1,
          1,
          1,
          1,
          1,
          1,
          1,
          1,
          1,
          1,
          1,
          1,
          1,
          0.5,
          1,
          1,
          1,
          1,
          1,
          1,
          1,
          1,
          1,
          1,
          1,
          1,
          1,
          1,
          1,
          1,
          1,
          1,
          1,
          1,
          1,
          1,
          1,
          1,
          1,
          1,
          1,
          1,
          1,
          1,
          1,
          1,
          1,
          1,
          1,
          1,
          1,
          1,
          1,
          0.5,
          1,
          1,
          1,
          1,
          1,
          1,
          1,
          1,
          0.5,
          1,
          1,
          1,
          0.5,
          1,
          1,
          1,
          1,
          1,
          1,
          1,
          1,
          0.5,
          1,
          1,
          1,
          1,
          1,
          0.5,
          1,
          1,
          1,
          1,
          1,
          1,
          1,
          0.5,
          1,
          1,
          1,
          1,
          1,
          1,
          1,
          1,
          0.5,
          1,
          1,
          1,
          1,
          1,
          1,
          0.5,
          1,
          1,
          1,
          1,
          1,
          1,
          0.5,
          0.5,
          1,
          1,
          1,
          1,
          0.5,
          1,
          1,
          0.5,
          0.5,
          1,
          1,
          1,
          1,
          1,
          1,
          0.5,
          1,
          1,
          1,
          1,
          1,
          1,
          1,
          1,
          1,
          1,
          1,
          1,
          1,
          1,
          0.5,
          1,
          1,
          0,
          1,
          0.5,
          1,
          1,
          0.5,
          0.5,
          0.5,
          0.5,
          0.5,
          0.5,
          1,
          1,
          1,
          1,
          1,
          1,
          1,
          1,
          1,
          1,
          1,
          0.5,
          1,
          1,
          1,
          1,
          1,
          0.5,
          1,
          1,
          0.5,
          1,
          0.5,
          0.5,
          1,
          1,
          0.5,
          1,
          1,
          1,
          1,
          1,
          1,
          0.5,
          1,
          1,
          1,
          1,
          1,
          1,
          1,
          1,
          1,
          1,
          1,
          1,
          1,
          1,
          1,
          1,
          0.5,
          0.5,
          1,
          1,
          1,
          1,
          1,
          1,
          1,
          1,
          0.5,
          1,
          1,
          1,
          1,
          1,
          1,
          1,
          1,
          1,
          1,
          1,
          0.5,
          1,
          1,
          1,
          1,
          1,
          1,
          1,
          0.5,
          1,
          1,
          1,
          1,
          1,
          1,
          1,
          1,
          0.5,
          1,
          1,
          1,
          1,
          1,
          0.5,
          1,
          1,
          1,
          1,
          1,
          1,
          1,
          0.5,
          1,
          1,
          1,
          1,
          1,
          1,
          1,
          1,
          1,
          0.5,
          1,
          1,
          1,
          0.5,
          1,
          1,
          1,
          1,
          1,
          1,
          1,
          1,
          1,
          1,
          1,
          1,
          1,
          1,
          1,
          1,
          1,
          1,
          1,
          1,
          1,
          1,
          1,
          1,
          0.5,
          1,
          0.5,
          1,
          1,
          1,
          1,
          0.5,
          1,
          1,
          1,
          1,
          1,
          0.5,
          1,
          1,
          1,
          1,
          1,
          1,
          1,
          1,
          1,
          1,
          1,
          1,
          1,
          1,
          1,
          0.5,
          1,
          0.5,
          1,
          0.5,
          1,
          1,
          0.5,
          1,
          1,
          1,
          0.5,
          1,
          1,
          1,
          1,
          1,
          0.5,
          1,
          1,
          1,
          1,
          1,
          0.5,
          1,
          1,
          1,
          0.5,
          1,
          1,
          1,
          1,
          1,
          1,
          1,
          1,
          1,
          1,
          1,
          1,
          1,
          1,
          1,
          1,
          1,
          1,
          1,
          0.5,
          1,
          1,
          1,
          1,
          1,
          1,
          1,
          1,
          1,
          1,
          1,
          1,
          1,
          1,
          1,
          0,
          1,
          1,
          1,
          1,
          1,
          1,
          1,
          1,
          0.5,
          1,
          1,
          1,
          1,
          1,
          1,
          1,
          1,
          1,
          1,
          1,
          0.5,
          1,
          1,
          1,
          1,
          1,
          1,
          1,
          1,
          1,
          1,
          1,
          1,
          1,
          0.5,
          1,
          1,
          1,
          1,
          1,
          1,
          1,
          1,
          1,
          1,
          1,
          1,
          1,
          1,
          1,
          1,
          0.5,
          1,
          1,
          1,
          1,
          1,
          1,
          1,
          1,
          1,
          1,
          1,
          1,
          1,
          1,
          1,
          1,
          1,
          0.5,
          1,
          1,
          0.5,
          1,
          1,
          1,
          1,
          1,
          1,
          1,
          1,
          0.5,
          1,
          1,
          1,
          1,
          1,
          1,
          1,
          1,
          1,
          1,
          1,
          1,
          1,
          1,
          1,
          1,
          1,
          1,
          1,
          0.5,
          1,
          1,
          1,
          1,
          1,
          1,
          1,
          1,
          1,
          1,
          1,
          1,
          1,
          1,
          0.5,
          1,
          0,
          0.5,
          0.5,
          1,
          0.5,
          1,
          1,
          1,
          1,
          1,
          1,
          1,
          1,
          1,
          1,
          1,
          1,
          0.5,
          1,
          1,
          1,
          1,
          1,
          1,
          1,
          1,
          1,
          1,
          0.5,
          1,
          1,
          0.5,
          1,
          1,
          1,
          1,
          1,
          1,
          0.5,
          1,
          1,
          1,
          1,
          1,
          0.5,
          1,
          0.5,
          1,
          1,
          1,
          1,
          1,
          1,
          0.5,
          1,
          1,
          1,
          1,
          0.5,
          1,
          1,
          1,
          1,
          0.5,
          0.5,
          0.5,
          0.5,
          0.5,
          0.5,
          1,
          1,
          1,
          1,
          0.5,
          1,
          0,
          1,
          1,
          0.5,
          1,
          1,
          1,
          1,
          1,
          1,
          1,
          1,
          1,
          1,
          1,
          1,
          1,
          1,
          1,
          1,
          1,
          1,
          1,
          1,
          1,
          1,
          1,
          1,
          1,
          1,
          1,
          1,
          1,
          1,
          0.5,
          1,
          1,
          1,
          1,
          1,
          1,
          1,
          1,
          1,
          1,
          1,
          1,
          1,
          1,
          1,
          1,
          1,
          1,
          1,
          1,
          1,
          1,
          1,
          1,
          1,
          1,
          1,
          1,
          1,
          1,
          1,
          1,
          1,
          1,
          1,
          1,
          1,
          1,
          1,
          1,
          1,
          1,
          1,
          1,
          1,
          1,
          1,
          1,
          1,
          1,
          1,
          1,
          1,
          1,
          1,
          1,
          1,
          1,
          1,
          1,
          1,
          1,
          0.5,
          0.5,
          1,
          1,
          1,
          1,
          0,
          1,
          1,
          0.5,
          1,
          1,
          1,
          0.5,
          0.5,
          1,
          0.5,
          1,
          0.5,
          1,
          1,
          1,
          0.5,
          1,
          1,
          1,
          1,
          1,
          0.5,
          1,
          1,
          1,
          1,
          1,
          1,
          0.5,
          1,
          1,
          1,
          1,
          1,
          0.5,
          1,
          1,
          1,
          1,
          1,
          0.5,
          1,
          1,
          1,
          1,
          1,
          1,
          1,
          1,
          1,
          1,
          1,
          1,
          1,
          1,
          0.5,
          1,
          1,
          1,
          0.5,
          1,
          1,
          1,
          1,
          1,
          1,
          1,
          1,
          1,
          1,
          1,
          1,
          1,
          0,
          1,
          1,
          1,
          1,
          1,
          1,
          1,
          1,
          1,
          1,
          1,
          1,
          1,
          1,
          0.5,
          1,
          1,
          1,
          1,
          1,
          1,
          1,
          0.5,
          1,
          1,
          0.5,
          1,
          1,
          1,
          0.5,
          1,
          1,
          1,
          1,
          1,
          1,
          1,
          1,
          1,
          1,
          1,
          1,
          1,
          0.5,
          1,
          1,
          1,
          1,
          1,
          1,
          1,
          1,
          1,
          0,
          1,
          0.5,
          0.5,
          1,
          1,
          1,
          1,
          1,
          1,
          1,
          0.5,
          1,
          1
         ],
         "xaxis": "x",
         "yaxis": "y"
        },
        {
         "alignmentgroup": "True",
         "bingroup": "x",
         "histnorm": "probability density",
         "hovertemplate": "=Nationalistische Texte<br>(Mittelwert = 0.77)<br>konkretheit=%{x}<br>probability density=%{y}<extra></extra>",
         "legendgroup": "Nationalistische Texte<br>(Mittelwert = 0.77)",
         "marker": {
          "color": "#EF553B",
          "pattern": {
           "shape": ""
          }
         },
         "name": "Nationalistische Texte<br>(Mittelwert = 0.77)",
         "offsetgroup": "Nationalistische Texte<br>(Mittelwert = 0.77)",
         "orientation": "v",
         "showlegend": true,
         "type": "histogram",
         "x": [
          1,
          1,
          1,
          0.5,
          0.5,
          1,
          1,
          0,
          1,
          0,
          1,
          0.5,
          1,
          1,
          1,
          1,
          1,
          0.5,
          0.5,
          1,
          1,
          1,
          1,
          1,
          0.5,
          0.5,
          0.5,
          0.5,
          0.5,
          1,
          0.5,
          0.5,
          0.5,
          0.5,
          1,
          0.5,
          1,
          0.5,
          0.5,
          0,
          1,
          1,
          1,
          0.5,
          1,
          0.5,
          1,
          0.5,
          0.5,
          0.5,
          0.5,
          0.5,
          0.5,
          0.5,
          1,
          1,
          1,
          1,
          0.5,
          1,
          1,
          1,
          1,
          0.5,
          0.5,
          1,
          0.5,
          0.5,
          0.5,
          0.5,
          1,
          0.5,
          0.5,
          1,
          1,
          1,
          1,
          1,
          0,
          1,
          1,
          1,
          1,
          1,
          0.5,
          1,
          0.5,
          1,
          1,
          1,
          1,
          1,
          1,
          0.5,
          1,
          1,
          1,
          1,
          1,
          1,
          0.5,
          0.5,
          1,
          0.5,
          0.5,
          1,
          0.5,
          1,
          0.5,
          0.5,
          1,
          1,
          1,
          1,
          1,
          0.5,
          1,
          1,
          1,
          1,
          1,
          1,
          1,
          0.5,
          0.5,
          0.5,
          1,
          1,
          1,
          0.5,
          1,
          1,
          1,
          1,
          1,
          1,
          1,
          1,
          0.5,
          1,
          1,
          0.5,
          1,
          0.5,
          0.5,
          1,
          1,
          0.5,
          0.5,
          1,
          1,
          0.5,
          0.5,
          0.5,
          0.5,
          0.5,
          0.5,
          0.5,
          0.5,
          1,
          0.5,
          1,
          1,
          0.5,
          0.5,
          0.5,
          1,
          1,
          1,
          1,
          1,
          0.5,
          1,
          1,
          0,
          1,
          1,
          0.5,
          1,
          1,
          1,
          1,
          0.5,
          1,
          1,
          1,
          0,
          1,
          0.5,
          1,
          1,
          1,
          0.5,
          1,
          1,
          1,
          0.5,
          1,
          1,
          1,
          1,
          0.5,
          1,
          1,
          0.5,
          0,
          1,
          0.5,
          0.5,
          1,
          0.5,
          0,
          1,
          0.5,
          0.5,
          1,
          0.5,
          1,
          0.5,
          0,
          1,
          1,
          1,
          1,
          1,
          0.5,
          0.5,
          0.5,
          1,
          1,
          0.5,
          1,
          0.5,
          1,
          0.5,
          1,
          1,
          1,
          1,
          1,
          1,
          0.5,
          1,
          1,
          1,
          1,
          0.5,
          0.5,
          0.5,
          0.5,
          0.5,
          0.5,
          0.5
         ],
         "xaxis": "x",
         "yaxis": "y"
        }
       ],
       "layout": {
        "bargap": 0.1,
        "barmode": "group",
        "height": 300,
        "legend": {
         "font": {
          "size": 16
         },
         "title": {
          "text": ""
         },
         "tracegroupgap": 0,
         "x": 0.5,
         "y": 0.96
        },
        "margin": {
         "t": 60
        },
        "template": {
         "data": {
          "bar": [
           {
            "error_x": {
             "color": "#2a3f5f"
            },
            "error_y": {
             "color": "#2a3f5f"
            },
            "marker": {
             "line": {
              "color": "#E5ECF6",
              "width": 0.5
             },
             "pattern": {
              "fillmode": "overlay",
              "size": 10,
              "solidity": 0.2
             }
            },
            "type": "bar"
           }
          ],
          "barpolar": [
           {
            "marker": {
             "line": {
              "color": "#E5ECF6",
              "width": 0.5
             },
             "pattern": {
              "fillmode": "overlay",
              "size": 10,
              "solidity": 0.2
             }
            },
            "type": "barpolar"
           }
          ],
          "carpet": [
           {
            "aaxis": {
             "endlinecolor": "#2a3f5f",
             "gridcolor": "white",
             "linecolor": "white",
             "minorgridcolor": "white",
             "startlinecolor": "#2a3f5f"
            },
            "baxis": {
             "endlinecolor": "#2a3f5f",
             "gridcolor": "white",
             "linecolor": "white",
             "minorgridcolor": "white",
             "startlinecolor": "#2a3f5f"
            },
            "type": "carpet"
           }
          ],
          "choropleth": [
           {
            "colorbar": {
             "outlinewidth": 0,
             "ticks": ""
            },
            "type": "choropleth"
           }
          ],
          "contour": [
           {
            "colorbar": {
             "outlinewidth": 0,
             "ticks": ""
            },
            "colorscale": [
             [
              0,
              "#0d0887"
             ],
             [
              0.1111111111111111,
              "#46039f"
             ],
             [
              0.2222222222222222,
              "#7201a8"
             ],
             [
              0.3333333333333333,
              "#9c179e"
             ],
             [
              0.4444444444444444,
              "#bd3786"
             ],
             [
              0.5555555555555556,
              "#d8576b"
             ],
             [
              0.6666666666666666,
              "#ed7953"
             ],
             [
              0.7777777777777778,
              "#fb9f3a"
             ],
             [
              0.8888888888888888,
              "#fdca26"
             ],
             [
              1,
              "#f0f921"
             ]
            ],
            "type": "contour"
           }
          ],
          "contourcarpet": [
           {
            "colorbar": {
             "outlinewidth": 0,
             "ticks": ""
            },
            "type": "contourcarpet"
           }
          ],
          "heatmap": [
           {
            "colorbar": {
             "outlinewidth": 0,
             "ticks": ""
            },
            "colorscale": [
             [
              0,
              "#0d0887"
             ],
             [
              0.1111111111111111,
              "#46039f"
             ],
             [
              0.2222222222222222,
              "#7201a8"
             ],
             [
              0.3333333333333333,
              "#9c179e"
             ],
             [
              0.4444444444444444,
              "#bd3786"
             ],
             [
              0.5555555555555556,
              "#d8576b"
             ],
             [
              0.6666666666666666,
              "#ed7953"
             ],
             [
              0.7777777777777778,
              "#fb9f3a"
             ],
             [
              0.8888888888888888,
              "#fdca26"
             ],
             [
              1,
              "#f0f921"
             ]
            ],
            "type": "heatmap"
           }
          ],
          "heatmapgl": [
           {
            "colorbar": {
             "outlinewidth": 0,
             "ticks": ""
            },
            "colorscale": [
             [
              0,
              "#0d0887"
             ],
             [
              0.1111111111111111,
              "#46039f"
             ],
             [
              0.2222222222222222,
              "#7201a8"
             ],
             [
              0.3333333333333333,
              "#9c179e"
             ],
             [
              0.4444444444444444,
              "#bd3786"
             ],
             [
              0.5555555555555556,
              "#d8576b"
             ],
             [
              0.6666666666666666,
              "#ed7953"
             ],
             [
              0.7777777777777778,
              "#fb9f3a"
             ],
             [
              0.8888888888888888,
              "#fdca26"
             ],
             [
              1,
              "#f0f921"
             ]
            ],
            "type": "heatmapgl"
           }
          ],
          "histogram": [
           {
            "marker": {
             "pattern": {
              "fillmode": "overlay",
              "size": 10,
              "solidity": 0.2
             }
            },
            "type": "histogram"
           }
          ],
          "histogram2d": [
           {
            "colorbar": {
             "outlinewidth": 0,
             "ticks": ""
            },
            "colorscale": [
             [
              0,
              "#0d0887"
             ],
             [
              0.1111111111111111,
              "#46039f"
             ],
             [
              0.2222222222222222,
              "#7201a8"
             ],
             [
              0.3333333333333333,
              "#9c179e"
             ],
             [
              0.4444444444444444,
              "#bd3786"
             ],
             [
              0.5555555555555556,
              "#d8576b"
             ],
             [
              0.6666666666666666,
              "#ed7953"
             ],
             [
              0.7777777777777778,
              "#fb9f3a"
             ],
             [
              0.8888888888888888,
              "#fdca26"
             ],
             [
              1,
              "#f0f921"
             ]
            ],
            "type": "histogram2d"
           }
          ],
          "histogram2dcontour": [
           {
            "colorbar": {
             "outlinewidth": 0,
             "ticks": ""
            },
            "colorscale": [
             [
              0,
              "#0d0887"
             ],
             [
              0.1111111111111111,
              "#46039f"
             ],
             [
              0.2222222222222222,
              "#7201a8"
             ],
             [
              0.3333333333333333,
              "#9c179e"
             ],
             [
              0.4444444444444444,
              "#bd3786"
             ],
             [
              0.5555555555555556,
              "#d8576b"
             ],
             [
              0.6666666666666666,
              "#ed7953"
             ],
             [
              0.7777777777777778,
              "#fb9f3a"
             ],
             [
              0.8888888888888888,
              "#fdca26"
             ],
             [
              1,
              "#f0f921"
             ]
            ],
            "type": "histogram2dcontour"
           }
          ],
          "mesh3d": [
           {
            "colorbar": {
             "outlinewidth": 0,
             "ticks": ""
            },
            "type": "mesh3d"
           }
          ],
          "parcoords": [
           {
            "line": {
             "colorbar": {
              "outlinewidth": 0,
              "ticks": ""
             }
            },
            "type": "parcoords"
           }
          ],
          "pie": [
           {
            "automargin": true,
            "type": "pie"
           }
          ],
          "scatter": [
           {
            "fillpattern": {
             "fillmode": "overlay",
             "size": 10,
             "solidity": 0.2
            },
            "type": "scatter"
           }
          ],
          "scatter3d": [
           {
            "line": {
             "colorbar": {
              "outlinewidth": 0,
              "ticks": ""
             }
            },
            "marker": {
             "colorbar": {
              "outlinewidth": 0,
              "ticks": ""
             }
            },
            "type": "scatter3d"
           }
          ],
          "scattercarpet": [
           {
            "marker": {
             "colorbar": {
              "outlinewidth": 0,
              "ticks": ""
             }
            },
            "type": "scattercarpet"
           }
          ],
          "scattergeo": [
           {
            "marker": {
             "colorbar": {
              "outlinewidth": 0,
              "ticks": ""
             }
            },
            "type": "scattergeo"
           }
          ],
          "scattergl": [
           {
            "marker": {
             "colorbar": {
              "outlinewidth": 0,
              "ticks": ""
             }
            },
            "type": "scattergl"
           }
          ],
          "scattermapbox": [
           {
            "marker": {
             "colorbar": {
              "outlinewidth": 0,
              "ticks": ""
             }
            },
            "type": "scattermapbox"
           }
          ],
          "scatterpolar": [
           {
            "marker": {
             "colorbar": {
              "outlinewidth": 0,
              "ticks": ""
             }
            },
            "type": "scatterpolar"
           }
          ],
          "scatterpolargl": [
           {
            "marker": {
             "colorbar": {
              "outlinewidth": 0,
              "ticks": ""
             }
            },
            "type": "scatterpolargl"
           }
          ],
          "scatterternary": [
           {
            "marker": {
             "colorbar": {
              "outlinewidth": 0,
              "ticks": ""
             }
            },
            "type": "scatterternary"
           }
          ],
          "surface": [
           {
            "colorbar": {
             "outlinewidth": 0,
             "ticks": ""
            },
            "colorscale": [
             [
              0,
              "#0d0887"
             ],
             [
              0.1111111111111111,
              "#46039f"
             ],
             [
              0.2222222222222222,
              "#7201a8"
             ],
             [
              0.3333333333333333,
              "#9c179e"
             ],
             [
              0.4444444444444444,
              "#bd3786"
             ],
             [
              0.5555555555555556,
              "#d8576b"
             ],
             [
              0.6666666666666666,
              "#ed7953"
             ],
             [
              0.7777777777777778,
              "#fb9f3a"
             ],
             [
              0.8888888888888888,
              "#fdca26"
             ],
             [
              1,
              "#f0f921"
             ]
            ],
            "type": "surface"
           }
          ],
          "table": [
           {
            "cells": {
             "fill": {
              "color": "#EBF0F8"
             },
             "line": {
              "color": "white"
             }
            },
            "header": {
             "fill": {
              "color": "#C8D4E3"
             },
             "line": {
              "color": "white"
             }
            },
            "type": "table"
           }
          ]
         },
         "layout": {
          "annotationdefaults": {
           "arrowcolor": "#2a3f5f",
           "arrowhead": 0,
           "arrowwidth": 1
          },
          "autotypenumbers": "strict",
          "coloraxis": {
           "colorbar": {
            "outlinewidth": 0,
            "ticks": ""
           }
          },
          "colorscale": {
           "diverging": [
            [
             0,
             "#8e0152"
            ],
            [
             0.1,
             "#c51b7d"
            ],
            [
             0.2,
             "#de77ae"
            ],
            [
             0.3,
             "#f1b6da"
            ],
            [
             0.4,
             "#fde0ef"
            ],
            [
             0.5,
             "#f7f7f7"
            ],
            [
             0.6,
             "#e6f5d0"
            ],
            [
             0.7,
             "#b8e186"
            ],
            [
             0.8,
             "#7fbc41"
            ],
            [
             0.9,
             "#4d9221"
            ],
            [
             1,
             "#276419"
            ]
           ],
           "sequential": [
            [
             0,
             "#0d0887"
            ],
            [
             0.1111111111111111,
             "#46039f"
            ],
            [
             0.2222222222222222,
             "#7201a8"
            ],
            [
             0.3333333333333333,
             "#9c179e"
            ],
            [
             0.4444444444444444,
             "#bd3786"
            ],
            [
             0.5555555555555556,
             "#d8576b"
            ],
            [
             0.6666666666666666,
             "#ed7953"
            ],
            [
             0.7777777777777778,
             "#fb9f3a"
            ],
            [
             0.8888888888888888,
             "#fdca26"
            ],
            [
             1,
             "#f0f921"
            ]
           ],
           "sequentialminus": [
            [
             0,
             "#0d0887"
            ],
            [
             0.1111111111111111,
             "#46039f"
            ],
            [
             0.2222222222222222,
             "#7201a8"
            ],
            [
             0.3333333333333333,
             "#9c179e"
            ],
            [
             0.4444444444444444,
             "#bd3786"
            ],
            [
             0.5555555555555556,
             "#d8576b"
            ],
            [
             0.6666666666666666,
             "#ed7953"
            ],
            [
             0.7777777777777778,
             "#fb9f3a"
            ],
            [
             0.8888888888888888,
             "#fdca26"
            ],
            [
             1,
             "#f0f921"
            ]
           ]
          },
          "colorway": [
           "#636efa",
           "#EF553B",
           "#00cc96",
           "#ab63fa",
           "#FFA15A",
           "#19d3f3",
           "#FF6692",
           "#B6E880",
           "#FF97FF",
           "#FECB52"
          ],
          "font": {
           "color": "#2a3f5f"
          },
          "geo": {
           "bgcolor": "white",
           "lakecolor": "white",
           "landcolor": "#E5ECF6",
           "showlakes": true,
           "showland": true,
           "subunitcolor": "white"
          },
          "hoverlabel": {
           "align": "left"
          },
          "hovermode": "closest",
          "mapbox": {
           "style": "light"
          },
          "paper_bgcolor": "white",
          "plot_bgcolor": "#E5ECF6",
          "polar": {
           "angularaxis": {
            "gridcolor": "white",
            "linecolor": "white",
            "ticks": ""
           },
           "bgcolor": "#E5ECF6",
           "radialaxis": {
            "gridcolor": "white",
            "linecolor": "white",
            "ticks": ""
           }
          },
          "scene": {
           "xaxis": {
            "backgroundcolor": "#E5ECF6",
            "gridcolor": "white",
            "gridwidth": 2,
            "linecolor": "white",
            "showbackground": true,
            "ticks": "",
            "zerolinecolor": "white"
           },
           "yaxis": {
            "backgroundcolor": "#E5ECF6",
            "gridcolor": "white",
            "gridwidth": 2,
            "linecolor": "white",
            "showbackground": true,
            "ticks": "",
            "zerolinecolor": "white"
           },
           "zaxis": {
            "backgroundcolor": "#E5ECF6",
            "gridcolor": "white",
            "gridwidth": 2,
            "linecolor": "white",
            "showbackground": true,
            "ticks": "",
            "zerolinecolor": "white"
           }
          },
          "shapedefaults": {
           "line": {
            "color": "#2a3f5f"
           }
          },
          "ternary": {
           "aaxis": {
            "gridcolor": "white",
            "linecolor": "white",
            "ticks": ""
           },
           "baxis": {
            "gridcolor": "white",
            "linecolor": "white",
            "ticks": ""
           },
           "bgcolor": "#E5ECF6",
           "caxis": {
            "gridcolor": "white",
            "linecolor": "white",
            "ticks": ""
           }
          },
          "title": {
           "x": 0.05
          },
          "xaxis": {
           "automargin": true,
           "gridcolor": "white",
           "linecolor": "white",
           "ticks": "",
           "title": {
            "standoff": 15
           },
           "zerolinecolor": "white",
           "zerolinewidth": 2
          },
          "yaxis": {
           "automargin": true,
           "gridcolor": "white",
           "linecolor": "white",
           "ticks": "",
           "title": {
            "standoff": 15
           },
           "zerolinecolor": "white",
           "zerolinewidth": 2
          }
         }
        },
        "width": 700,
        "xaxis": {
         "anchor": "y",
         "autorange": true,
         "domain": [
          0,
          1
         ],
         "range": [
          -0.25,
          1.25
         ],
         "tickfont": {
          "size": 16
         },
         "title": {
          "font": {
           "size": 16
          },
          "text": "konkretheit"
         },
         "type": "linear"
        },
        "yaxis": {
         "anchor": "x",
         "autorange": true,
         "domain": [
          0,
          1
         ],
         "range": [
          0,
          1.8007448175856045
         ],
         "tickfont": {
          "size": 16
         },
         "title": {
          "font": {
           "size": 16
          },
          "text": "Anteil"
         }
        }
       }
      },
      "text/html": [
       "<div>                            <div id=\"40dd4ef3-eaa9-4cdd-9e1f-a45200952bbe\" class=\"plotly-graph-div\" style=\"height:300px; width:700px;\"></div>            <script type=\"text/javascript\">                require([\"plotly\"], function(Plotly) {                    window.PLOTLYENV=window.PLOTLYENV || {};                                    if (document.getElementById(\"40dd4ef3-eaa9-4cdd-9e1f-a45200952bbe\")) {                    Plotly.newPlot(                        \"40dd4ef3-eaa9-4cdd-9e1f-a45200952bbe\",                        [{\"alignmentgroup\":\"True\",\"bingroup\":\"x\",\"histnorm\":\"probability density\",\"hovertemplate\":\"=Nicht nationalistische Texte\\u003cbr\\u003e(Mittelwert = 0.92)\\u003cbr\\u003ekonkretheit=%{x}\\u003cbr\\u003eprobability density=%{y}\\u003cextra\\u003e\\u003c\\u002fextra\\u003e\",\"legendgroup\":\"Nicht nationalistische Texte\\u003cbr\\u003e(Mittelwert = 0.92)\",\"marker\":{\"color\":\"#636efa\",\"pattern\":{\"shape\":\"\"}},\"name\":\"Nicht nationalistische Texte\\u003cbr\\u003e(Mittelwert = 0.92)\",\"offsetgroup\":\"Nicht nationalistische Texte\\u003cbr\\u003e(Mittelwert = 0.92)\",\"orientation\":\"v\",\"showlegend\":true,\"x\":[0.5,0.0,1.0,1.0,0.5,1.0,1.0,1.0,1.0,1.0,1.0,1.0,1.0,1.0,1.0,1.0,0.5,1.0,1.0,1.0,1.0,1.0,1.0,1.0,1.0,0.5,1.0,0.5,1.0,0.5,1.0,1.0,1.0,1.0,1.0,1.0,1.0,1.0,0.5,0.5,1.0,1.0,1.0,1.0,1.0,0.5,1.0,1.0,1.0,1.0,1.0,1.0,1.0,1.0,0.5,1.0,1.0,1.0,1.0,1.0,1.0,1.0,1.0,1.0,1.0,1.0,0.5,1.0,1.0,0.5,1.0,1.0,0.0,1.0,0.5,0.5,1.0,1.0,1.0,1.0,1.0,1.0,1.0,1.0,0.5,1.0,1.0,1.0,1.0,0.5,1.0,0.5,1.0,0.5,1.0,1.0,1.0,1.0,1.0,1.0,1.0,1.0,1.0,1.0,1.0,1.0,0.5,1.0,1.0,1.0,1.0,1.0,1.0,1.0,0.5,1.0,1.0,1.0,1.0,1.0,1.0,0.5,1.0,1.0,1.0,0.0,1.0,1.0,1.0,1.0,1.0,0.5,1.0,0.5,0.5,1.0,0.5,0.5,1.0,0.5,0.5,1.0,1.0,1.0,1.0,0.5,1.0,1.0,1.0,1.0,1.0,1.0,1.0,1.0,1.0,1.0,1.0,1.0,1.0,1.0,1.0,1.0,1.0,1.0,1.0,1.0,0.5,1.0,0.5,1.0,0.5,1.0,1.0,1.0,1.0,1.0,1.0,1.0,1.0,0.5,0.0,1.0,1.0,1.0,1.0,1.0,1.0,1.0,1.0,1.0,1.0,1.0,1.0,1.0,1.0,1.0,1.0,1.0,1.0,1.0,1.0,1.0,0.5,1.0,1.0,1.0,1.0,1.0,0.5,1.0,0.5,1.0,1.0,1.0,1.0,1.0,1.0,1.0,1.0,1.0,1.0,1.0,1.0,0.5,1.0,1.0,0.5,1.0,1.0,1.0,1.0,1.0,1.0,1.0,1.0,1.0,1.0,1.0,1.0,1.0,0.5,1.0,1.0,1.0,1.0,1.0,0.5,1.0,1.0,1.0,1.0,1.0,1.0,1.0,1.0,1.0,1.0,1.0,1.0,1.0,1.0,0.5,0.5,1.0,1.0,1.0,1.0,0.5,1.0,0.5,1.0,1.0,0.5,1.0,1.0,1.0,1.0,1.0,1.0,1.0,1.0,1.0,1.0,1.0,1.0,1.0,1.0,1.0,1.0,1.0,1.0,1.0,1.0,1.0,0.5,0.5,1.0,1.0,1.0,0.5,1.0,1.0,0.5,1.0,0.5,1.0,1.0,1.0,1.0,1.0,1.0,1.0,1.0,1.0,1.0,1.0,1.0,1.0,1.0,1.0,1.0,1.0,1.0,1.0,1.0,1.0,1.0,1.0,0.5,0.5,1.0,1.0,1.0,1.0,0.5,1.0,1.0,1.0,1.0,1.0,0.5,1.0,1.0,1.0,0.5,1.0,1.0,1.0,1.0,1.0,0.5,1.0,1.0,1.0,1.0,0.0,0.5,1.0,0.5,1.0,1.0,1.0,1.0,1.0,0.5,1.0,0.5,1.0,0.5,0.5,1.0,1.0,1.0,1.0,1.0,1.0,1.0,1.0,1.0,1.0,1.0,1.0,1.0,1.0,1.0,1.0,1.0,1.0,1.0,1.0,0.5,1.0,1.0,1.0,1.0,0.5,1.0,1.0,0.5,1.0,1.0,0.5,0.0,1.0,0.5,1.0,1.0,1.0,0.0,1.0,1.0,0.5,1.0,1.0,1.0,1.0,1.0,1.0,1.0,1.0,1.0,1.0,1.0,1.0,1.0,1.0,1.0,1.0,1.0,1.0,1.0,1.0,1.0,1.0,1.0,1.0,1.0,1.0,1.0,1.0,1.0,1.0,1.0,1.0,0.5,1.0,1.0,1.0,0.5,0.5,1.0,1.0,1.0,1.0,1.0,1.0,1.0,1.0,1.0,1.0,0.5,1.0,0.5,1.0,1.0,1.0,1.0,1.0,1.0,0.5,1.0,1.0,1.0,0.5,1.0,1.0,1.0,1.0,1.0,1.0,1.0,1.0,1.0,0.5,1.0,1.0,1.0,1.0,1.0,0.5,1.0,1.0,0.5,1.0,0.5,1.0,1.0,1.0,0.5,0.5,1.0,0.5,1.0,0.5,0.5,1.0,0.5,1.0,1.0,1.0,1.0,1.0,0.5,0.5,1.0,1.0,1.0,1.0,1.0,1.0,1.0,0.5,1.0,1.0,1.0,1.0,1.0,1.0,1.0,1.0,1.0,1.0,1.0,1.0,1.0,1.0,1.0,1.0,1.0,1.0,0.5,1.0,1.0,1.0,1.0,1.0,1.0,1.0,1.0,1.0,1.0,1.0,1.0,1.0,1.0,1.0,1.0,1.0,1.0,1.0,1.0,1.0,1.0,1.0,1.0,1.0,1.0,1.0,1.0,0.5,1.0,1.0,1.0,1.0,1.0,1.0,0.5,1.0,0.5,1.0,1.0,1.0,1.0,1.0,1.0,1.0,1.0,1.0,1.0,1.0,1.0,1.0,1.0,1.0,1.0,1.0,1.0,1.0,1.0,1.0,0.5,0.5,0.0,1.0,1.0,1.0,1.0,1.0,1.0,1.0,1.0,1.0,1.0,1.0,1.0,1.0,1.0,1.0,1.0,1.0,0.5,1.0,1.0,1.0,1.0,1.0,0.5,0.5,0.5,1.0,0.5,1.0,1.0,1.0,1.0,1.0,1.0,1.0,1.0,1.0,1.0,1.0,1.0,1.0,1.0,1.0,1.0,1.0,1.0,1.0,1.0,1.0,1.0,1.0,1.0,1.0,1.0,0.5,1.0,1.0,0.5,1.0,1.0,1.0,0.5,1.0,1.0,1.0,0.5,1.0,1.0,1.0,1.0,0.5,1.0,1.0,1.0,1.0,1.0,1.0,1.0,1.0,0.5,1.0,1.0,1.0,1.0,1.0,1.0,1.0,1.0,1.0,1.0,1.0,1.0,1.0,1.0,1.0,1.0,1.0,1.0,1.0,1.0,1.0,1.0,1.0,1.0,1.0,1.0,0.5,1.0,1.0,1.0,1.0,1.0,1.0,1.0,1.0,1.0,1.0,1.0,1.0,1.0,1.0,1.0,1.0,1.0,1.0,1.0,1.0,1.0,1.0,1.0,1.0,1.0,1.0,1.0,1.0,0.5,1.0,1.0,0.5,1.0,0.5,1.0,1.0,1.0,1.0,0.0,1.0,1.0,1.0,1.0,0.5,1.0,1.0,1.0,1.0,1.0,1.0,1.0,1.0,1.0,0.5,1.0,1.0,1.0,1.0,1.0,1.0,1.0,1.0,1.0,1.0,1.0,1.0,1.0,1.0,1.0,0.5,1.0,1.0,1.0,1.0,1.0,1.0,1.0,1.0,1.0,1.0,1.0,1.0,1.0,1.0,1.0,1.0,1.0,1.0,1.0,1.0,1.0,1.0,1.0,1.0,1.0,1.0,1.0,1.0,1.0,1.0,1.0,1.0,1.0,1.0,1.0,1.0,1.0,1.0,1.0,0.5,1.0,1.0,1.0,1.0,1.0,1.0,1.0,1.0,0.5,1.0,1.0,1.0,0.5,1.0,1.0,1.0,1.0,1.0,1.0,1.0,1.0,0.5,1.0,1.0,1.0,1.0,1.0,0.5,1.0,1.0,1.0,1.0,1.0,1.0,1.0,0.5,1.0,1.0,1.0,1.0,1.0,1.0,1.0,1.0,0.5,1.0,1.0,1.0,1.0,1.0,1.0,0.5,1.0,1.0,1.0,1.0,1.0,1.0,0.5,0.5,1.0,1.0,1.0,1.0,0.5,1.0,1.0,0.5,0.5,1.0,1.0,1.0,1.0,1.0,1.0,0.5,1.0,1.0,1.0,1.0,1.0,1.0,1.0,1.0,1.0,1.0,1.0,1.0,1.0,1.0,0.5,1.0,1.0,0.0,1.0,0.5,1.0,1.0,0.5,0.5,0.5,0.5,0.5,0.5,1.0,1.0,1.0,1.0,1.0,1.0,1.0,1.0,1.0,1.0,1.0,0.5,1.0,1.0,1.0,1.0,1.0,0.5,1.0,1.0,0.5,1.0,0.5,0.5,1.0,1.0,0.5,1.0,1.0,1.0,1.0,1.0,1.0,0.5,1.0,1.0,1.0,1.0,1.0,1.0,1.0,1.0,1.0,1.0,1.0,1.0,1.0,1.0,1.0,1.0,0.5,0.5,1.0,1.0,1.0,1.0,1.0,1.0,1.0,1.0,0.5,1.0,1.0,1.0,1.0,1.0,1.0,1.0,1.0,1.0,1.0,1.0,0.5,1.0,1.0,1.0,1.0,1.0,1.0,1.0,0.5,1.0,1.0,1.0,1.0,1.0,1.0,1.0,1.0,0.5,1.0,1.0,1.0,1.0,1.0,0.5,1.0,1.0,1.0,1.0,1.0,1.0,1.0,0.5,1.0,1.0,1.0,1.0,1.0,1.0,1.0,1.0,1.0,0.5,1.0,1.0,1.0,0.5,1.0,1.0,1.0,1.0,1.0,1.0,1.0,1.0,1.0,1.0,1.0,1.0,1.0,1.0,1.0,1.0,1.0,1.0,1.0,1.0,1.0,1.0,1.0,1.0,0.5,1.0,0.5,1.0,1.0,1.0,1.0,0.5,1.0,1.0,1.0,1.0,1.0,0.5,1.0,1.0,1.0,1.0,1.0,1.0,1.0,1.0,1.0,1.0,1.0,1.0,1.0,1.0,1.0,0.5,1.0,0.5,1.0,0.5,1.0,1.0,0.5,1.0,1.0,1.0,0.5,1.0,1.0,1.0,1.0,1.0,0.5,1.0,1.0,1.0,1.0,1.0,0.5,1.0,1.0,1.0,0.5,1.0,1.0,1.0,1.0,1.0,1.0,1.0,1.0,1.0,1.0,1.0,1.0,1.0,1.0,1.0,1.0,1.0,1.0,1.0,0.5,1.0,1.0,1.0,1.0,1.0,1.0,1.0,1.0,1.0,1.0,1.0,1.0,1.0,1.0,1.0,0.0,1.0,1.0,1.0,1.0,1.0,1.0,1.0,1.0,0.5,1.0,1.0,1.0,1.0,1.0,1.0,1.0,1.0,1.0,1.0,1.0,0.5,1.0,1.0,1.0,1.0,1.0,1.0,1.0,1.0,1.0,1.0,1.0,1.0,1.0,0.5,1.0,1.0,1.0,1.0,1.0,1.0,1.0,1.0,1.0,1.0,1.0,1.0,1.0,1.0,1.0,1.0,0.5,1.0,1.0,1.0,1.0,1.0,1.0,1.0,1.0,1.0,1.0,1.0,1.0,1.0,1.0,1.0,1.0,1.0,0.5,1.0,1.0,0.5,1.0,1.0,1.0,1.0,1.0,1.0,1.0,1.0,0.5,1.0,1.0,1.0,1.0,1.0,1.0,1.0,1.0,1.0,1.0,1.0,1.0,1.0,1.0,1.0,1.0,1.0,1.0,1.0,0.5,1.0,1.0,1.0,1.0,1.0,1.0,1.0,1.0,1.0,1.0,1.0,1.0,1.0,1.0,0.5,1.0,0.0,0.5,0.5,1.0,0.5,1.0,1.0,1.0,1.0,1.0,1.0,1.0,1.0,1.0,1.0,1.0,1.0,0.5,1.0,1.0,1.0,1.0,1.0,1.0,1.0,1.0,1.0,1.0,0.5,1.0,1.0,0.5,1.0,1.0,1.0,1.0,1.0,1.0,0.5,1.0,1.0,1.0,1.0,1.0,0.5,1.0,0.5,1.0,1.0,1.0,1.0,1.0,1.0,0.5,1.0,1.0,1.0,1.0,0.5,1.0,1.0,1.0,1.0,0.5,0.5,0.5,0.5,0.5,0.5,1.0,1.0,1.0,1.0,0.5,1.0,0.0,1.0,1.0,0.5,1.0,1.0,1.0,1.0,1.0,1.0,1.0,1.0,1.0,1.0,1.0,1.0,1.0,1.0,1.0,1.0,1.0,1.0,1.0,1.0,1.0,1.0,1.0,1.0,1.0,1.0,1.0,1.0,1.0,1.0,0.5,1.0,1.0,1.0,1.0,1.0,1.0,1.0,1.0,1.0,1.0,1.0,1.0,1.0,1.0,1.0,1.0,1.0,1.0,1.0,1.0,1.0,1.0,1.0,1.0,1.0,1.0,1.0,1.0,1.0,1.0,1.0,1.0,1.0,1.0,1.0,1.0,1.0,1.0,1.0,1.0,1.0,1.0,1.0,1.0,1.0,1.0,1.0,1.0,1.0,1.0,1.0,1.0,1.0,1.0,1.0,1.0,1.0,1.0,1.0,1.0,1.0,1.0,0.5,0.5,1.0,1.0,1.0,1.0,0.0,1.0,1.0,0.5,1.0,1.0,1.0,0.5,0.5,1.0,0.5,1.0,0.5,1.0,1.0,1.0,0.5,1.0,1.0,1.0,1.0,1.0,0.5,1.0,1.0,1.0,1.0,1.0,1.0,0.5,1.0,1.0,1.0,1.0,1.0,0.5,1.0,1.0,1.0,1.0,1.0,0.5,1.0,1.0,1.0,1.0,1.0,1.0,1.0,1.0,1.0,1.0,1.0,1.0,1.0,1.0,0.5,1.0,1.0,1.0,0.5,1.0,1.0,1.0,1.0,1.0,1.0,1.0,1.0,1.0,1.0,1.0,1.0,1.0,0.0,1.0,1.0,1.0,1.0,1.0,1.0,1.0,1.0,1.0,1.0,1.0,1.0,1.0,1.0,0.5,1.0,1.0,1.0,1.0,1.0,1.0,1.0,0.5,1.0,1.0,0.5,1.0,1.0,1.0,0.5,1.0,1.0,1.0,1.0,1.0,1.0,1.0,1.0,1.0,1.0,1.0,1.0,1.0,0.5,1.0,1.0,1.0,1.0,1.0,1.0,1.0,1.0,1.0,0.0,1.0,0.5,0.5,1.0,1.0,1.0,1.0,1.0,1.0,1.0,0.5,1.0,1.0],\"xaxis\":\"x\",\"yaxis\":\"y\",\"type\":\"histogram\"},{\"alignmentgroup\":\"True\",\"bingroup\":\"x\",\"histnorm\":\"probability density\",\"hovertemplate\":\"=Nationalistische Texte\\u003cbr\\u003e(Mittelwert = 0.77)\\u003cbr\\u003ekonkretheit=%{x}\\u003cbr\\u003eprobability density=%{y}\\u003cextra\\u003e\\u003c\\u002fextra\\u003e\",\"legendgroup\":\"Nationalistische Texte\\u003cbr\\u003e(Mittelwert = 0.77)\",\"marker\":{\"color\":\"#EF553B\",\"pattern\":{\"shape\":\"\"}},\"name\":\"Nationalistische Texte\\u003cbr\\u003e(Mittelwert = 0.77)\",\"offsetgroup\":\"Nationalistische Texte\\u003cbr\\u003e(Mittelwert = 0.77)\",\"orientation\":\"v\",\"showlegend\":true,\"x\":[1.0,1.0,1.0,0.5,0.5,1.0,1.0,0.0,1.0,0.0,1.0,0.5,1.0,1.0,1.0,1.0,1.0,0.5,0.5,1.0,1.0,1.0,1.0,1.0,0.5,0.5,0.5,0.5,0.5,1.0,0.5,0.5,0.5,0.5,1.0,0.5,1.0,0.5,0.5,0.0,1.0,1.0,1.0,0.5,1.0,0.5,1.0,0.5,0.5,0.5,0.5,0.5,0.5,0.5,1.0,1.0,1.0,1.0,0.5,1.0,1.0,1.0,1.0,0.5,0.5,1.0,0.5,0.5,0.5,0.5,1.0,0.5,0.5,1.0,1.0,1.0,1.0,1.0,0.0,1.0,1.0,1.0,1.0,1.0,0.5,1.0,0.5,1.0,1.0,1.0,1.0,1.0,1.0,0.5,1.0,1.0,1.0,1.0,1.0,1.0,0.5,0.5,1.0,0.5,0.5,1.0,0.5,1.0,0.5,0.5,1.0,1.0,1.0,1.0,1.0,0.5,1.0,1.0,1.0,1.0,1.0,1.0,1.0,0.5,0.5,0.5,1.0,1.0,1.0,0.5,1.0,1.0,1.0,1.0,1.0,1.0,1.0,1.0,0.5,1.0,1.0,0.5,1.0,0.5,0.5,1.0,1.0,0.5,0.5,1.0,1.0,0.5,0.5,0.5,0.5,0.5,0.5,0.5,0.5,1.0,0.5,1.0,1.0,0.5,0.5,0.5,1.0,1.0,1.0,1.0,1.0,0.5,1.0,1.0,0.0,1.0,1.0,0.5,1.0,1.0,1.0,1.0,0.5,1.0,1.0,1.0,0.0,1.0,0.5,1.0,1.0,1.0,0.5,1.0,1.0,1.0,0.5,1.0,1.0,1.0,1.0,0.5,1.0,1.0,0.5,0.0,1.0,0.5,0.5,1.0,0.5,0.0,1.0,0.5,0.5,1.0,0.5,1.0,0.5,0.0,1.0,1.0,1.0,1.0,1.0,0.5,0.5,0.5,1.0,1.0,0.5,1.0,0.5,1.0,0.5,1.0,1.0,1.0,1.0,1.0,1.0,0.5,1.0,1.0,1.0,1.0,0.5,0.5,0.5,0.5,0.5,0.5,0.5],\"xaxis\":\"x\",\"yaxis\":\"y\",\"type\":\"histogram\"}],                        {\"template\":{\"data\":{\"histogram2dcontour\":[{\"type\":\"histogram2dcontour\",\"colorbar\":{\"outlinewidth\":0,\"ticks\":\"\"},\"colorscale\":[[0.0,\"#0d0887\"],[0.1111111111111111,\"#46039f\"],[0.2222222222222222,\"#7201a8\"],[0.3333333333333333,\"#9c179e\"],[0.4444444444444444,\"#bd3786\"],[0.5555555555555556,\"#d8576b\"],[0.6666666666666666,\"#ed7953\"],[0.7777777777777778,\"#fb9f3a\"],[0.8888888888888888,\"#fdca26\"],[1.0,\"#f0f921\"]]}],\"choropleth\":[{\"type\":\"choropleth\",\"colorbar\":{\"outlinewidth\":0,\"ticks\":\"\"}}],\"histogram2d\":[{\"type\":\"histogram2d\",\"colorbar\":{\"outlinewidth\":0,\"ticks\":\"\"},\"colorscale\":[[0.0,\"#0d0887\"],[0.1111111111111111,\"#46039f\"],[0.2222222222222222,\"#7201a8\"],[0.3333333333333333,\"#9c179e\"],[0.4444444444444444,\"#bd3786\"],[0.5555555555555556,\"#d8576b\"],[0.6666666666666666,\"#ed7953\"],[0.7777777777777778,\"#fb9f3a\"],[0.8888888888888888,\"#fdca26\"],[1.0,\"#f0f921\"]]}],\"heatmap\":[{\"type\":\"heatmap\",\"colorbar\":{\"outlinewidth\":0,\"ticks\":\"\"},\"colorscale\":[[0.0,\"#0d0887\"],[0.1111111111111111,\"#46039f\"],[0.2222222222222222,\"#7201a8\"],[0.3333333333333333,\"#9c179e\"],[0.4444444444444444,\"#bd3786\"],[0.5555555555555556,\"#d8576b\"],[0.6666666666666666,\"#ed7953\"],[0.7777777777777778,\"#fb9f3a\"],[0.8888888888888888,\"#fdca26\"],[1.0,\"#f0f921\"]]}],\"heatmapgl\":[{\"type\":\"heatmapgl\",\"colorbar\":{\"outlinewidth\":0,\"ticks\":\"\"},\"colorscale\":[[0.0,\"#0d0887\"],[0.1111111111111111,\"#46039f\"],[0.2222222222222222,\"#7201a8\"],[0.3333333333333333,\"#9c179e\"],[0.4444444444444444,\"#bd3786\"],[0.5555555555555556,\"#d8576b\"],[0.6666666666666666,\"#ed7953\"],[0.7777777777777778,\"#fb9f3a\"],[0.8888888888888888,\"#fdca26\"],[1.0,\"#f0f921\"]]}],\"contourcarpet\":[{\"type\":\"contourcarpet\",\"colorbar\":{\"outlinewidth\":0,\"ticks\":\"\"}}],\"contour\":[{\"type\":\"contour\",\"colorbar\":{\"outlinewidth\":0,\"ticks\":\"\"},\"colorscale\":[[0.0,\"#0d0887\"],[0.1111111111111111,\"#46039f\"],[0.2222222222222222,\"#7201a8\"],[0.3333333333333333,\"#9c179e\"],[0.4444444444444444,\"#bd3786\"],[0.5555555555555556,\"#d8576b\"],[0.6666666666666666,\"#ed7953\"],[0.7777777777777778,\"#fb9f3a\"],[0.8888888888888888,\"#fdca26\"],[1.0,\"#f0f921\"]]}],\"surface\":[{\"type\":\"surface\",\"colorbar\":{\"outlinewidth\":0,\"ticks\":\"\"},\"colorscale\":[[0.0,\"#0d0887\"],[0.1111111111111111,\"#46039f\"],[0.2222222222222222,\"#7201a8\"],[0.3333333333333333,\"#9c179e\"],[0.4444444444444444,\"#bd3786\"],[0.5555555555555556,\"#d8576b\"],[0.6666666666666666,\"#ed7953\"],[0.7777777777777778,\"#fb9f3a\"],[0.8888888888888888,\"#fdca26\"],[1.0,\"#f0f921\"]]}],\"mesh3d\":[{\"type\":\"mesh3d\",\"colorbar\":{\"outlinewidth\":0,\"ticks\":\"\"}}],\"scatter\":[{\"fillpattern\":{\"fillmode\":\"overlay\",\"size\":10,\"solidity\":0.2},\"type\":\"scatter\"}],\"parcoords\":[{\"type\":\"parcoords\",\"line\":{\"colorbar\":{\"outlinewidth\":0,\"ticks\":\"\"}}}],\"scatterpolargl\":[{\"type\":\"scatterpolargl\",\"marker\":{\"colorbar\":{\"outlinewidth\":0,\"ticks\":\"\"}}}],\"bar\":[{\"error_x\":{\"color\":\"#2a3f5f\"},\"error_y\":{\"color\":\"#2a3f5f\"},\"marker\":{\"line\":{\"color\":\"#E5ECF6\",\"width\":0.5},\"pattern\":{\"fillmode\":\"overlay\",\"size\":10,\"solidity\":0.2}},\"type\":\"bar\"}],\"scattergeo\":[{\"type\":\"scattergeo\",\"marker\":{\"colorbar\":{\"outlinewidth\":0,\"ticks\":\"\"}}}],\"scatterpolar\":[{\"type\":\"scatterpolar\",\"marker\":{\"colorbar\":{\"outlinewidth\":0,\"ticks\":\"\"}}}],\"histogram\":[{\"marker\":{\"pattern\":{\"fillmode\":\"overlay\",\"size\":10,\"solidity\":0.2}},\"type\":\"histogram\"}],\"scattergl\":[{\"type\":\"scattergl\",\"marker\":{\"colorbar\":{\"outlinewidth\":0,\"ticks\":\"\"}}}],\"scatter3d\":[{\"type\":\"scatter3d\",\"line\":{\"colorbar\":{\"outlinewidth\":0,\"ticks\":\"\"}},\"marker\":{\"colorbar\":{\"outlinewidth\":0,\"ticks\":\"\"}}}],\"scattermapbox\":[{\"type\":\"scattermapbox\",\"marker\":{\"colorbar\":{\"outlinewidth\":0,\"ticks\":\"\"}}}],\"scatterternary\":[{\"type\":\"scatterternary\",\"marker\":{\"colorbar\":{\"outlinewidth\":0,\"ticks\":\"\"}}}],\"scattercarpet\":[{\"type\":\"scattercarpet\",\"marker\":{\"colorbar\":{\"outlinewidth\":0,\"ticks\":\"\"}}}],\"carpet\":[{\"aaxis\":{\"endlinecolor\":\"#2a3f5f\",\"gridcolor\":\"white\",\"linecolor\":\"white\",\"minorgridcolor\":\"white\",\"startlinecolor\":\"#2a3f5f\"},\"baxis\":{\"endlinecolor\":\"#2a3f5f\",\"gridcolor\":\"white\",\"linecolor\":\"white\",\"minorgridcolor\":\"white\",\"startlinecolor\":\"#2a3f5f\"},\"type\":\"carpet\"}],\"table\":[{\"cells\":{\"fill\":{\"color\":\"#EBF0F8\"},\"line\":{\"color\":\"white\"}},\"header\":{\"fill\":{\"color\":\"#C8D4E3\"},\"line\":{\"color\":\"white\"}},\"type\":\"table\"}],\"barpolar\":[{\"marker\":{\"line\":{\"color\":\"#E5ECF6\",\"width\":0.5},\"pattern\":{\"fillmode\":\"overlay\",\"size\":10,\"solidity\":0.2}},\"type\":\"barpolar\"}],\"pie\":[{\"automargin\":true,\"type\":\"pie\"}]},\"layout\":{\"autotypenumbers\":\"strict\",\"colorway\":[\"#636efa\",\"#EF553B\",\"#00cc96\",\"#ab63fa\",\"#FFA15A\",\"#19d3f3\",\"#FF6692\",\"#B6E880\",\"#FF97FF\",\"#FECB52\"],\"font\":{\"color\":\"#2a3f5f\"},\"hovermode\":\"closest\",\"hoverlabel\":{\"align\":\"left\"},\"paper_bgcolor\":\"white\",\"plot_bgcolor\":\"#E5ECF6\",\"polar\":{\"bgcolor\":\"#E5ECF6\",\"angularaxis\":{\"gridcolor\":\"white\",\"linecolor\":\"white\",\"ticks\":\"\"},\"radialaxis\":{\"gridcolor\":\"white\",\"linecolor\":\"white\",\"ticks\":\"\"}},\"ternary\":{\"bgcolor\":\"#E5ECF6\",\"aaxis\":{\"gridcolor\":\"white\",\"linecolor\":\"white\",\"ticks\":\"\"},\"baxis\":{\"gridcolor\":\"white\",\"linecolor\":\"white\",\"ticks\":\"\"},\"caxis\":{\"gridcolor\":\"white\",\"linecolor\":\"white\",\"ticks\":\"\"}},\"coloraxis\":{\"colorbar\":{\"outlinewidth\":0,\"ticks\":\"\"}},\"colorscale\":{\"sequential\":[[0.0,\"#0d0887\"],[0.1111111111111111,\"#46039f\"],[0.2222222222222222,\"#7201a8\"],[0.3333333333333333,\"#9c179e\"],[0.4444444444444444,\"#bd3786\"],[0.5555555555555556,\"#d8576b\"],[0.6666666666666666,\"#ed7953\"],[0.7777777777777778,\"#fb9f3a\"],[0.8888888888888888,\"#fdca26\"],[1.0,\"#f0f921\"]],\"sequentialminus\":[[0.0,\"#0d0887\"],[0.1111111111111111,\"#46039f\"],[0.2222222222222222,\"#7201a8\"],[0.3333333333333333,\"#9c179e\"],[0.4444444444444444,\"#bd3786\"],[0.5555555555555556,\"#d8576b\"],[0.6666666666666666,\"#ed7953\"],[0.7777777777777778,\"#fb9f3a\"],[0.8888888888888888,\"#fdca26\"],[1.0,\"#f0f921\"]],\"diverging\":[[0,\"#8e0152\"],[0.1,\"#c51b7d\"],[0.2,\"#de77ae\"],[0.3,\"#f1b6da\"],[0.4,\"#fde0ef\"],[0.5,\"#f7f7f7\"],[0.6,\"#e6f5d0\"],[0.7,\"#b8e186\"],[0.8,\"#7fbc41\"],[0.9,\"#4d9221\"],[1,\"#276419\"]]},\"xaxis\":{\"gridcolor\":\"white\",\"linecolor\":\"white\",\"ticks\":\"\",\"title\":{\"standoff\":15},\"zerolinecolor\":\"white\",\"automargin\":true,\"zerolinewidth\":2},\"yaxis\":{\"gridcolor\":\"white\",\"linecolor\":\"white\",\"ticks\":\"\",\"title\":{\"standoff\":15},\"zerolinecolor\":\"white\",\"automargin\":true,\"zerolinewidth\":2},\"scene\":{\"xaxis\":{\"backgroundcolor\":\"#E5ECF6\",\"gridcolor\":\"white\",\"linecolor\":\"white\",\"showbackground\":true,\"ticks\":\"\",\"zerolinecolor\":\"white\",\"gridwidth\":2},\"yaxis\":{\"backgroundcolor\":\"#E5ECF6\",\"gridcolor\":\"white\",\"linecolor\":\"white\",\"showbackground\":true,\"ticks\":\"\",\"zerolinecolor\":\"white\",\"gridwidth\":2},\"zaxis\":{\"backgroundcolor\":\"#E5ECF6\",\"gridcolor\":\"white\",\"linecolor\":\"white\",\"showbackground\":true,\"ticks\":\"\",\"zerolinecolor\":\"white\",\"gridwidth\":2}},\"shapedefaults\":{\"line\":{\"color\":\"#2a3f5f\"}},\"annotationdefaults\":{\"arrowcolor\":\"#2a3f5f\",\"arrowhead\":0,\"arrowwidth\":1},\"geo\":{\"bgcolor\":\"white\",\"landcolor\":\"#E5ECF6\",\"subunitcolor\":\"white\",\"showland\":true,\"showlakes\":true,\"lakecolor\":\"white\"},\"title\":{\"x\":0.05},\"mapbox\":{\"style\":\"light\"}}},\"xaxis\":{\"anchor\":\"y\",\"domain\":[0.0,1.0],\"title\":{\"text\":\"konkretheit\",\"font\":{\"size\":16}},\"tickfont\":{\"size\":16}},\"yaxis\":{\"anchor\":\"x\",\"domain\":[0.0,1.0],\"title\":{\"text\":\"Anteil\",\"font\":{\"size\":16}},\"tickfont\":{\"size\":16}},\"legend\":{\"title\":{\"text\":\"\"},\"tracegroupgap\":0,\"font\":{\"size\":16},\"x\":0.5,\"y\":0.96},\"margin\":{\"t\":60},\"barmode\":\"group\",\"width\":700,\"height\":300,\"bargap\":0.1},                        {\"responsive\": true}                    ).then(function(){\n",
       "                            \n",
       "var gd = document.getElementById('40dd4ef3-eaa9-4cdd-9e1f-a45200952bbe');\n",
       "var x = new MutationObserver(function (mutations, observer) {{\n",
       "        var display = window.getComputedStyle(gd).display;\n",
       "        if (!display || display === 'none') {{\n",
       "            console.log([gd, 'removed!']);\n",
       "            Plotly.purge(gd);\n",
       "            observer.disconnect();\n",
       "        }}\n",
       "}});\n",
       "\n",
       "// Listen for the removal of the full notebook cells\n",
       "var notebookContainer = gd.closest('#notebook-container');\n",
       "if (notebookContainer) {{\n",
       "    x.observe(notebookContainer, {childList: true});\n",
       "}}\n",
       "\n",
       "// Listen for the clearing of the current output cell\n",
       "var outputEl = gd.closest('.output');\n",
       "if (outputEl) {{\n",
       "    x.observe(outputEl, {childList: true});\n",
       "}}\n",
       "\n",
       "                        })                };                });            </script>        </div>"
      ]
     },
     "metadata": {},
     "output_type": "display_data"
    },
    {
     "data": {
      "application/vnd.plotly.v1+json": {
       "config": {
        "plotlyServerURL": "https://plot.ly"
       },
       "data": [
        {
         "alignmentgroup": "True",
         "bingroup": "x",
         "histnorm": "probability density",
         "hovertemplate": "=Nicht nationalistische Texte<br>(Mittelwert = 1244.84)<br>ende=%{x}<br>probability density=%{y}<extra></extra>",
         "legendgroup": "Nicht nationalistische Texte<br>(Mittelwert = 1244.84)",
         "marker": {
          "color": "#636efa",
          "pattern": {
           "shape": ""
          }
         },
         "name": "Nicht nationalistische Texte<br>(Mittelwert = 1244.84)",
         "offsetgroup": "Nicht nationalistische Texte<br>(Mittelwert = 1244.84)",
         "orientation": "v",
         "showlegend": true,
         "type": "histogram",
         "x": [
          933,
          null,
          -480,
          -146,
          1319,
          500,
          1000,
          1208,
          1225,
          1298,
          1308,
          1308,
          1354,
          1415,
          1410,
          1552,
          1552,
          1631,
          1741,
          1783,
          1815,
          1819,
          1476,
          1476,
          1477,
          1840,
          774,
          814,
          1024,
          1313,
          1500,
          1535,
          1535,
          1530,
          1531,
          807,
          1522,
          1521,
          1522,
          1546,
          1500,
          1519,
          1521,
          1521,
          1525,
          370,
          396,
          455,
          455,
          592,
          718,
          530,
          652,
          250,
          713,
          809,
          800,
          1250,
          1500,
          1500,
          1525,
          1200,
          1400,
          1312,
          1318,
          1315,
          1351,
          1400,
          1400,
          1464,
          1518,
          1510,
          1500,
          1525,
          1523,
          1517,
          1531,
          1535,
          1537,
          1512,
          1530,
          1648,
          1648,
          1648,
          1631,
          1806,
          1770,
          1850,
          1900,
          1200,
          928,
          1200,
          1412,
          1470,
          1638,
          1648,
          1674,
          1674,
          1745,
          1746,
          1757,
          1757,
          -3200,
          445,
          455,
          1850,
          1400,
          1400,
          1571,
          1570,
          1626,
          1854,
          947,
          1674,
          null,
          1099,
          1450,
          800,
          1850,
          1093,
          1350,
          1432,
          1624,
          1678,
          1684,
          1716,
          1720,
          1740,
          1715,
          1756,
          1758,
          1759,
          1757,
          1780,
          1810,
          1819,
          1815,
          1840,
          1840,
          1850,
          1857,
          1860,
          1864,
          1864,
          1415,
          1448,
          1535,
          1535,
          1654,
          1701,
          1715,
          1740,
          1740,
          1741,
          1742,
          1745,
          1756,
          1757,
          1757,
          1759,
          1763,
          1785,
          1786,
          1786,
          1807,
          1820,
          1861,
          1864,
          1866,
          1806,
          -429,
          37,
          1032,
          1572,
          1831,
          1542,
          1540,
          1631,
          1547,
          1860,
          null,
          -525,
          -1000,
          -845,
          -586,
          776,
          -492,
          -480,
          -480,
          -480,
          -478,
          -355,
          -334,
          -320,
          -384,
          -321,
          -272,
          241,
          -218,
          -133,
          -72,
          -52,
          5,
          100,
          64,
          79,
          212,
          268,
          259,
          305,
          400,
          409,
          414,
          451,
          451,
          453,
          539,
          572,
          602,
          620,
          723,
          755,
          865,
          804,
          773,
          801,
          814,
          814,
          838,
          864,
          878,
          878,
          919,
          933,
          997,
          1028,
          1066,
          1074,
          1095,
          1126,
          1155,
          1218,
          1135,
          1168,
          1184,
          1194,
          1194,
          1215,
          1214,
          1250,
          1266,
          1267,
          1268,
          1282,
          1265,
          1273,
          1307,
          1322,
          1347,
          1349,
          1428,
          1400,
          1410,
          1414,
          1415,
          1415,
          1417,
          1432,
          1470,
          1455,
          1474,
          1492,
          1468,
          1477,
          1506,
          1516,
          1523,
          1517,
          1525,
          1518,
          1519,
          1520,
          1521,
          1512,
          1525,
          1531,
          1529,
          1530,
          1535,
          1530,
          1540,
          1543,
          1566,
          1566,
          1576,
          1612,
          1634,
          1639,
          1658,
          1646,
          1675,
          1668,
          1635,
          1719,
          1705,
          1683,
          1683,
          1701,
          1717,
          1694,
          1697,
          1704,
          1705,
          1710,
          1710,
          1711,
          1688,
          1763,
          1757,
          1757,
          1758,
          1760,
          1785,
          1792,
          1799,
          1722,
          1785,
          1812,
          1798,
          1793,
          1793,
          1808,
          1806,
          1806,
          1809,
          1809,
          1812,
          1831,
          1840,
          1861,
          573,
          -596,
          -548,
          -480,
          -338,
          1850,
          -167,
          -71,
          718,
          814,
          1270,
          1208,
          1208,
          1234,
          1238,
          1450,
          1533,
          1823,
          1870,
          1870,
          1200,
          1106,
          1870,
          1870,
          814,
          1865,
          1525,
          1525,
          1546,
          1521,
          1531,
          1631,
          1757,
          1741,
          1181,
          1520,
          1530,
          1769,
          1227,
          1675,
          1740,
          1870,
          1870,
          1241,
          1322,
          1325,
          1325,
          1335,
          1452,
          1471,
          1558,
          1558,
          1634,
          1683,
          1757,
          1790,
          1776,
          1790,
          1855,
          1809,
          1848,
          1830,
          1879,
          434,
          482,
          1879,
          476,
          700,
          900,
          1000,
          1079,
          1099,
          1150,
          1246,
          1260,
          1276,
          1278,
          1278,
          1281,
          1307,
          1346,
          1356,
          1365,
          1382,
          1386,
          1406,
          1442,
          1452,
          1456,
          1400,
          1477,
          1480,
          1483,
          1486,
          1510,
          1504,
          1500,
          1547,
          1570,
          1552,
          1552,
          1556,
          1511,
          1564,
          1558,
          1557,
          1575,
          1598,
          1612,
          1617,
          1617,
          1632,
          1648,
          1664,
          1680,
          1683,
          1683,
          1683,
          1683,
          1702,
          1709,
          1710,
          1711,
          1757,
          1750,
          1754,
          1750,
          1757,
          1746,
          1787,
          1787,
          1785,
          1791,
          1791,
          1797,
          1797,
          1799,
          1801,
          1809,
          1810,
          1813,
          1813,
          1815,
          1815,
          1820,
          1822,
          1827,
          1834,
          1841,
          1849,
          1853,
          1757,
          1858,
          1858,
          1860,
          1864,
          1865,
          1866,
          1870,
          1867,
          1867,
          1871,
          1871,
          1871,
          1873,
          1878,
          1879,
          1282,
          1355,
          1477,
          1521,
          1686,
          1760,
          1879,
          1420,
          1632,
          1780,
          1867,
          1675,
          -500,
          -336,
          327,
          -217,
          65,
          396,
          451,
          555,
          600,
          638,
          1240,
          1500,
          1400,
          1512,
          1521,
          1530,
          1620,
          1630,
          1620,
          1675,
          1704,
          1718,
          1870,
          410,
          777,
          783,
          782,
          784,
          785,
          936,
          1522,
          1717,
          1706,
          9,
          408,
          814,
          944,
          947,
          965,
          1170,
          1535,
          1688,
          1759,
          1786,
          1632,
          493,
          814,
          919,
          1268,
          1517,
          1521,
          1530,
          552,
          783,
          1400,
          1325,
          1157,
          1517,
          1628,
          1813,
          1500,
          451,
          1190,
          1250,
          1266,
          1272,
          1386,
          1521,
          1683,
          1630,
          1830,
          200,
          500,
          452,
          785,
          1030,
          1162,
          1150,
          1505,
          1860,
          1850,
          1870,
          1888,
          1890,
          290,
          -312,
          363,
          360,
          379,
          416,
          582,
          730,
          822,
          1030,
          1210,
          1300,
          1351,
          1498,
          1520,
          1860,
          1547,
          1547,
          1569,
          1504,
          1700,
          1699,
          1692,
          1736,
          1781,
          1834,
          1823,
          -113,
          -9,
          16,
          70,
          408,
          452,
          534,
          551,
          552,
          568,
          585,
          505,
          542,
          676,
          772,
          772,
          800,
          814,
          810,
          593,
          718,
          730,
          753,
          875,
          918,
          947,
          955,
          957,
          982,
          1007,
          1056,
          1062,
          1077,
          1106,
          1139,
          1147,
          1155,
          1155,
          1168,
          1176,
          1181,
          1189,
          1191,
          1197,
          1193,
          1197,
          1212,
          1500,
          1242,
          1245,
          1249,
          1252,
          1254,
          1256,
          1269,
          1860,
          1290,
          1308,
          1358,
          1349,
          1349,
          1512,
          1516,
          1519,
          1521,
          1520,
          1525,
          1525,
          1525,
          1530,
          1547,
          1551,
          1521,
          1618,
          1626,
          1632,
          1632,
          1632,
          1648,
          1667,
          1637,
          1657,
          1656,
          1675,
          1675,
          1675,
          1731,
          1741,
          1741,
          1741,
          1757,
          1757,
          1757,
          1757,
          1760,
          1761,
          1760,
          1765,
          1778,
          1806,
          1809,
          1809,
          1812,
          1813,
          1813,
          1813,
          1813,
          1815,
          1813,
          1848,
          1866,
          1850,
          1850,
          1866,
          1867,
          1870,
          1870,
          1140,
          1266,
          1319,
          1412,
          1413,
          1510,
          1574,
          1580,
          1557,
          1571,
          1330,
          1370,
          1410,
          1318,
          1415,
          1319,
          1350,
          1603,
          897,
          1256,
          1456,
          1705,
          1189,
          1373,
          1568,
          1626,
          1547,
          1028,
          1093,
          1131,
          1289,
          1719,
          1183,
          1370,
          1474,
          1637,
          1075,
          1130,
          1172,
          1170,
          1270,
          1451,
          1525,
          1553,
          1227,
          1234,
          1252,
          1319,
          1331,
          1363,
          1404,
          1404,
          1418,
          1500,
          1524,
          1559,
          1225,
          1570,
          1417,
          1475,
          936,
          947,
          1106,
          1268,
          1325,
          1417,
          1871,
          -330,
          0,
          -113,
          -101,
          9,
          65,
          100,
          1890,
          1860,
          200,
          1880,
          213,
          251,
          310,
          1860,
          451,
          397,
          -202,
          415,
          429,
          455,
          476,
          476,
          546,
          552,
          568,
          573,
          570,
          1890,
          1100,
          1300,
          754,
          800,
          787,
          796,
          796,
          814,
          810,
          918,
          919,
          929,
          973,
          978,
          1002,
          1054,
          1063,
          1073,
          1077,
          1095,
          1137,
          1100,
          1189,
          1158,
          1164,
          1176,
          1189,
          1860,
          1230,
          1180,
          1207,
          1250,
          1457,
          1457,
          1245,
          1267,
          1267,
          1268,
          1870,
          1272,
          1268,
          1273,
          1309,
          1869,
          1340,
          1346,
          1374,
          1437,
          1474,
          1520,
          1868,
          1573,
          1600,
          1622,
          1626,
          1630,
          1630,
          1630,
          1634,
          1643,
          1870,
          1757,
          1760,
          1762,
          1785,
          1794,
          814,
          1880,
          1866,
          1866,
          1881,
          1886,
          546,
          1504,
          1794,
          1813,
          1898,
          1897,
          1880,
          1897,
          1888,
          1881,
          1888,
          1890,
          -107,
          -107,
          -58,
          1200,
          1364,
          1450,
          1495,
          1531,
          1757,
          1880,
          1880,
          800,
          947,
          1268,
          null,
          1546,
          1632,
          1870,
          1880,
          1810,
          1898,
          1890,
          0,
          1880,
          600,
          718,
          774,
          778,
          941,
          955,
          1105,
          1099,
          1268,
          1468,
          1490,
          1500,
          1525,
          1540,
          1542,
          1534,
          1620,
          1648,
          1632,
          1793,
          1794,
          1812,
          1870,
          1888,
          500,
          90,
          1500,
          822,
          778,
          900,
          1105,
          1500,
          null,
          1200,
          1200,
          1500,
          1258,
          1300,
          1000,
          1500,
          1460,
          1500,
          1430,
          1546,
          1525,
          1526,
          1525,
          1530,
          1530,
          1525,
          1514,
          1900,
          1648,
          1815,
          1741,
          1758,
          1763,
          1757,
          1757,
          1760,
          -332,
          -2000,
          -500,
          -1220,
          -800,
          -1200,
          -800,
          -700,
          -650,
          -570,
          -553,
          300,
          -494,
          -500,
          -400,
          -470,
          -435,
          -490,
          -480,
          -480,
          -480,
          -480,
          -480,
          -459,
          -471,
          -468,
          -440,
          -429,
          -415,
          -415,
          -399,
          -399,
          -370,
          -418,
          -338,
          -356,
          -336,
          -326,
          -197,
          -207,
          -146,
          30,
          397,
          -508,
          -384,
          -384,
          0,
          -279,
          -238,
          -218,
          -216,
          -183,
          -183,
          -215,
          -121,
          -104,
          -87,
          -79,
          -62,
          -46,
          -53,
          -42,
          -46,
          -44,
          -44,
          -42,
          -30,
          -30,
          -4,
          20,
          -40,
          14,
          14,
          26,
          26,
          19,
          10,
          55,
          60,
          66,
          60,
          64,
          64,
          64,
          125,
          130,
          110,
          274,
          400,
          410,
          452,
          -200,
          -200,
          -400,
          -1200,
          1860,
          1860,
          1850,
          1870,
          -400,
          1850,
          -406,
          -100,
          -401,
          1866,
          1850,
          1840,
          1865,
          1865,
          1811,
          1811,
          1875,
          -10,
          1880,
          1880,
          1860,
          1885,
          1885,
          1860,
          1900,
          1870,
          1850,
          1880,
          600,
          500,
          1002,
          1152,
          1457,
          1457,
          1457,
          1553,
          1626,
          1528,
          1870,
          1412,
          1414,
          1414,
          1420,
          1499,
          1547,
          1757,
          1770,
          1780,
          1772,
          1807,
          1812,
          1850,
          1851,
          1870,
          1870,
          1871,
          1871,
          1875,
          1870,
          1880,
          1888,
          1870,
          1880,
          718,
          776,
          1741,
          1757,
          1800,
          1793,
          1806,
          1812,
          1870,
          0,
          700,
          0,
          823,
          100,
          1900,
          1300,
          1490,
          1000,
          200,
          -55,
          -55,
          300,
          16,
          17,
          21,
          213,
          1500,
          1885,
          552,
          573,
          580,
          496,
          613,
          800,
          718,
          800,
          785,
          790,
          1898,
          950,
          1080,
          1084,
          1167,
          1176,
          1200,
          1895,
          1200,
          1212,
          1225,
          1227,
          1100,
          1268,
          1272,
          1880,
          1313,
          1325,
          1330,
          1350,
          1350,
          1420,
          1415,
          1435,
          1468,
          1484,
          1450,
          1520,
          1517,
          1523,
          1518,
          1521,
          1517,
          1546,
          1523,
          1523,
          1523,
          1530,
          1540,
          1532,
          1525,
          1547,
          1626,
          1634,
          1632,
          1630,
          1889,
          1681,
          1689,
          1757,
          1758,
          1785,
          1769,
          1790,
          1770,
          1727,
          1792,
          1806,
          1810,
          1812,
          1813,
          1813,
          1814,
          1815,
          1866,
          1870,
          1870,
          1870,
          1870,
          1870,
          300,
          1884,
          1888,
          1880,
          1900,
          573,
          1278,
          1547,
          1675,
          1709,
          1741,
          1780,
          1758,
          1810,
          1827,
          1796,
          1809,
          1809,
          1809,
          1808,
          1813,
          1870,
          1870,
          1870,
          1871,
          1871,
          1870,
          1871,
          1871,
          589,
          814,
          1000,
          1158,
          1200,
          1208,
          1212,
          1227,
          1242,
          1266,
          1268,
          1268,
          1309,
          1386,
          1444,
          1450,
          1476,
          1528,
          1858,
          1525,
          1520,
          1568,
          1648,
          1660,
          1648,
          1705,
          1717,
          1770,
          1786,
          1791,
          1789,
          1805,
          1812,
          1813,
          1800,
          1800,
          1813,
          1815,
          1813,
          1815,
          1813,
          1813,
          1827,
          1870,
          null,
          1870,
          1900,
          1000,
          1200,
          1812,
          1858,
          1914,
          1880,
          1200,
          1809,
          1914,
          1807,
          1870,
          1914,
          955,
          -60,
          1268,
          1850,
          1386,
          1386,
          1567,
          1250,
          1450,
          1476,
          1476,
          1476,
          1476,
          1400,
          1400,
          1500,
          1515,
          1648,
          1500,
          1522,
          1523,
          1531,
          1531,
          1627,
          1793,
          1798,
          1812,
          1878,
          1809,
          785,
          1429,
          1534,
          1638,
          1648,
          1812,
          1812,
          1812,
          1813,
          1813,
          1914,
          796,
          919,
          919,
          1157,
          1270,
          1273,
          1517,
          1521,
          1410,
          1521,
          1145,
          1679,
          1648,
          1757,
          1782,
          1807,
          1813,
          1870,
          1918,
          1375,
          1520,
          1523,
          1830,
          1875,
          723,
          850,
          1291,
          1632,
          1705,
          -776,
          -51,
          1266,
          1361,
          1370,
          1370,
          1530,
          1648,
          877,
          960,
          1252,
          1535,
          1709,
          1635,
          1000,
          1910,
          1520,
          1522,
          1626,
          1757,
          1763,
          1871,
          1792,
          1918,
          -430,
          1500,
          1200,
          1350,
          1400,
          1706,
          1870,
          1914,
          1914,
          1914,
          -1000,
          500,
          1900,
          -4000,
          600,
          900,
          800,
          804,
          785,
          1905,
          800,
          659,
          998,
          950,
          1014,
          1020,
          804,
          973,
          1375,
          1400,
          1229,
          1200,
          1200,
          1200,
          1215,
          1270,
          1400,
          1410,
          1413,
          1910,
          1000,
          1319,
          1404,
          1476,
          1500,
          1374,
          1400,
          1400,
          1473,
          1503,
          1520,
          1520,
          1476,
          1476,
          1476,
          1476,
          1476,
          1515,
          1620,
          1500,
          1500,
          1550,
          1637,
          1300,
          1500,
          1280,
          1520,
          1523,
          1523,
          1518,
          1916,
          1521,
          1551,
          1631,
          1632,
          1648,
          1664,
          1635,
          1648,
          1780,
          1735,
          1770,
          1747,
          1836,
          1799,
          1885,
          1905,
          1860,
          1810,
          1812,
          1864,
          1866,
          1870,
          1888,
          1866,
          1914,
          1920,
          200,
          -5000,
          1880,
          50,
          552,
          796,
          933,
          1268,
          1400,
          1400,
          1402,
          1500,
          1525,
          1632,
          1648,
          1648,
          1812,
          1813,
          1864,
          1200,
          200,
          1066,
          1842,
          850,
          830,
          1000,
          1525,
          1632,
          null,
          1492,
          1701,
          1740,
          1790,
          1830,
          1789,
          900,
          906,
          1288,
          1523,
          1512,
          1520,
          1523
         ],
         "xaxis": "x",
         "yaxis": "y"
        },
        {
         "alignmentgroup": "True",
         "bingroup": "x",
         "histnorm": "probability density",
         "hovertemplate": "=Nationalistische Texte<br>(Mittelwert = 1727.17)<br>ende=%{x}<br>probability density=%{y}<extra></extra>",
         "legendgroup": "Nationalistische Texte<br>(Mittelwert = 1727.17)",
         "marker": {
          "color": "#EF553B",
          "pattern": {
           "shape": ""
          }
         },
         "name": "Nationalistische Texte<br>(Mittelwert = 1727.17)",
         "offsetgroup": "Nationalistische Texte<br>(Mittelwert = 1727.17)",
         "orientation": "v",
         "showlegend": true,
         "type": "histogram",
         "x": [
          1819,
          1648,
          1325,
          1688,
          1848,
          1757,
          1656,
          1688,
          1851,
          1850,
          1813,
          1813,
          1857,
          1864,
          1866,
          1866,
          1866,
          1870,
          1870,
          1871,
          1866,
          1154,
          1488,
          1521,
          1806,
          1852,
          1870,
          300,
          1870,
          1870,
          978,
          1870,
          1870,
          1870,
          1871,
          1870,
          1871,
          1871,
          1870,
          1800,
          1870,
          17,
          1860,
          1400,
          1870,
          1870,
          1870,
          1871,
          1870,
          1871,
          1871,
          500,
          1875,
          1874,
          1416,
          1475,
          1487,
          1683,
          1809,
          1809,
          1834,
          1849,
          1857,
          1858,
          1862,
          1866,
          1876,
          1814,
          1873,
          1878,
          1879,
          null,
          1870,
          1853,
          1231,
          1318,
          1648,
          1806,
          1881,
          1870,
          1832,
          1870,
          1870,
          1870,
          1870,
          1871,
          1871,
          1870,
          1871,
          1883,
          1877,
          955,
          1850,
          1871,
          17,
          9,
          1002,
          1813,
          1848,
          1848,
          1861,
          1870,
          1870,
          1870,
          1870,
          1870,
          1871,
          1870,
          1871,
          1871,
          1888,
          449,
          633,
          1674,
          1793,
          1805,
          1806,
          1810,
          1813,
          1864,
          1870,
          1884,
          1888,
          1890,
          1891,
          1891,
          1226,
          897,
          1807,
          800,
          1865,
          933,
          1241,
          1796,
          1809,
          1813,
          1813,
          1858,
          1300,
          1862,
          1870,
          1875,
          1870,
          1875,
          1873,
          1880,
          1883,
          1888,
          1888,
          1810,
          1820,
          1870,
          1871,
          1888,
          1888,
          1871,
          1897,
          1897,
          1897,
          1877,
          1870,
          1674,
          1809,
          1871,
          1891,
          1895,
          1860,
          1077,
          1871,
          1849,
          1849,
          1871,
          800,
          1160,
          1789,
          1809,
          9,
          1870,
          1870,
          1806,
          1870,
          1848,
          1850,
          1863,
          1871,
          1892,
          1891,
          1347,
          1546,
          1806,
          1813,
          1834,
          1852,
          1860,
          1870,
          1870,
          1871,
          1870,
          1894,
          1883,
          1888,
          1896,
          1900,
          1870,
          1898,
          1900,
          1809,
          1871,
          1871,
          1808,
          1877,
          1900,
          1875,
          1888,
          1871,
          1914,
          1450,
          1876,
          1513,
          1852,
          1813,
          1918,
          1871,
          1875,
          1914,
          1918,
          1918,
          1515,
          1813,
          1900,
          1859,
          1834,
          1859,
          1871,
          1914,
          1228,
          1200,
          1265,
          1380,
          1648,
          1813,
          1918,
          1860,
          1809,
          1840,
          1817,
          1840,
          1815,
          1848,
          1875,
          1900,
          1918,
          1918
         ],
         "xaxis": "x",
         "yaxis": "y"
        }
       ],
       "layout": {
        "bargap": 0.1,
        "barmode": "group",
        "height": 300,
        "legend": {
         "font": {
          "size": 16
         },
         "title": {
          "text": ""
         },
         "tracegroupgap": 0,
         "x": 0.5,
         "y": 0.96
        },
        "margin": {
         "t": 60
        },
        "template": {
         "data": {
          "bar": [
           {
            "error_x": {
             "color": "#2a3f5f"
            },
            "error_y": {
             "color": "#2a3f5f"
            },
            "marker": {
             "line": {
              "color": "#E5ECF6",
              "width": 0.5
             },
             "pattern": {
              "fillmode": "overlay",
              "size": 10,
              "solidity": 0.2
             }
            },
            "type": "bar"
           }
          ],
          "barpolar": [
           {
            "marker": {
             "line": {
              "color": "#E5ECF6",
              "width": 0.5
             },
             "pattern": {
              "fillmode": "overlay",
              "size": 10,
              "solidity": 0.2
             }
            },
            "type": "barpolar"
           }
          ],
          "carpet": [
           {
            "aaxis": {
             "endlinecolor": "#2a3f5f",
             "gridcolor": "white",
             "linecolor": "white",
             "minorgridcolor": "white",
             "startlinecolor": "#2a3f5f"
            },
            "baxis": {
             "endlinecolor": "#2a3f5f",
             "gridcolor": "white",
             "linecolor": "white",
             "minorgridcolor": "white",
             "startlinecolor": "#2a3f5f"
            },
            "type": "carpet"
           }
          ],
          "choropleth": [
           {
            "colorbar": {
             "outlinewidth": 0,
             "ticks": ""
            },
            "type": "choropleth"
           }
          ],
          "contour": [
           {
            "colorbar": {
             "outlinewidth": 0,
             "ticks": ""
            },
            "colorscale": [
             [
              0,
              "#0d0887"
             ],
             [
              0.1111111111111111,
              "#46039f"
             ],
             [
              0.2222222222222222,
              "#7201a8"
             ],
             [
              0.3333333333333333,
              "#9c179e"
             ],
             [
              0.4444444444444444,
              "#bd3786"
             ],
             [
              0.5555555555555556,
              "#d8576b"
             ],
             [
              0.6666666666666666,
              "#ed7953"
             ],
             [
              0.7777777777777778,
              "#fb9f3a"
             ],
             [
              0.8888888888888888,
              "#fdca26"
             ],
             [
              1,
              "#f0f921"
             ]
            ],
            "type": "contour"
           }
          ],
          "contourcarpet": [
           {
            "colorbar": {
             "outlinewidth": 0,
             "ticks": ""
            },
            "type": "contourcarpet"
           }
          ],
          "heatmap": [
           {
            "colorbar": {
             "outlinewidth": 0,
             "ticks": ""
            },
            "colorscale": [
             [
              0,
              "#0d0887"
             ],
             [
              0.1111111111111111,
              "#46039f"
             ],
             [
              0.2222222222222222,
              "#7201a8"
             ],
             [
              0.3333333333333333,
              "#9c179e"
             ],
             [
              0.4444444444444444,
              "#bd3786"
             ],
             [
              0.5555555555555556,
              "#d8576b"
             ],
             [
              0.6666666666666666,
              "#ed7953"
             ],
             [
              0.7777777777777778,
              "#fb9f3a"
             ],
             [
              0.8888888888888888,
              "#fdca26"
             ],
             [
              1,
              "#f0f921"
             ]
            ],
            "type": "heatmap"
           }
          ],
          "heatmapgl": [
           {
            "colorbar": {
             "outlinewidth": 0,
             "ticks": ""
            },
            "colorscale": [
             [
              0,
              "#0d0887"
             ],
             [
              0.1111111111111111,
              "#46039f"
             ],
             [
              0.2222222222222222,
              "#7201a8"
             ],
             [
              0.3333333333333333,
              "#9c179e"
             ],
             [
              0.4444444444444444,
              "#bd3786"
             ],
             [
              0.5555555555555556,
              "#d8576b"
             ],
             [
              0.6666666666666666,
              "#ed7953"
             ],
             [
              0.7777777777777778,
              "#fb9f3a"
             ],
             [
              0.8888888888888888,
              "#fdca26"
             ],
             [
              1,
              "#f0f921"
             ]
            ],
            "type": "heatmapgl"
           }
          ],
          "histogram": [
           {
            "marker": {
             "pattern": {
              "fillmode": "overlay",
              "size": 10,
              "solidity": 0.2
             }
            },
            "type": "histogram"
           }
          ],
          "histogram2d": [
           {
            "colorbar": {
             "outlinewidth": 0,
             "ticks": ""
            },
            "colorscale": [
             [
              0,
              "#0d0887"
             ],
             [
              0.1111111111111111,
              "#46039f"
             ],
             [
              0.2222222222222222,
              "#7201a8"
             ],
             [
              0.3333333333333333,
              "#9c179e"
             ],
             [
              0.4444444444444444,
              "#bd3786"
             ],
             [
              0.5555555555555556,
              "#d8576b"
             ],
             [
              0.6666666666666666,
              "#ed7953"
             ],
             [
              0.7777777777777778,
              "#fb9f3a"
             ],
             [
              0.8888888888888888,
              "#fdca26"
             ],
             [
              1,
              "#f0f921"
             ]
            ],
            "type": "histogram2d"
           }
          ],
          "histogram2dcontour": [
           {
            "colorbar": {
             "outlinewidth": 0,
             "ticks": ""
            },
            "colorscale": [
             [
              0,
              "#0d0887"
             ],
             [
              0.1111111111111111,
              "#46039f"
             ],
             [
              0.2222222222222222,
              "#7201a8"
             ],
             [
              0.3333333333333333,
              "#9c179e"
             ],
             [
              0.4444444444444444,
              "#bd3786"
             ],
             [
              0.5555555555555556,
              "#d8576b"
             ],
             [
              0.6666666666666666,
              "#ed7953"
             ],
             [
              0.7777777777777778,
              "#fb9f3a"
             ],
             [
              0.8888888888888888,
              "#fdca26"
             ],
             [
              1,
              "#f0f921"
             ]
            ],
            "type": "histogram2dcontour"
           }
          ],
          "mesh3d": [
           {
            "colorbar": {
             "outlinewidth": 0,
             "ticks": ""
            },
            "type": "mesh3d"
           }
          ],
          "parcoords": [
           {
            "line": {
             "colorbar": {
              "outlinewidth": 0,
              "ticks": ""
             }
            },
            "type": "parcoords"
           }
          ],
          "pie": [
           {
            "automargin": true,
            "type": "pie"
           }
          ],
          "scatter": [
           {
            "fillpattern": {
             "fillmode": "overlay",
             "size": 10,
             "solidity": 0.2
            },
            "type": "scatter"
           }
          ],
          "scatter3d": [
           {
            "line": {
             "colorbar": {
              "outlinewidth": 0,
              "ticks": ""
             }
            },
            "marker": {
             "colorbar": {
              "outlinewidth": 0,
              "ticks": ""
             }
            },
            "type": "scatter3d"
           }
          ],
          "scattercarpet": [
           {
            "marker": {
             "colorbar": {
              "outlinewidth": 0,
              "ticks": ""
             }
            },
            "type": "scattercarpet"
           }
          ],
          "scattergeo": [
           {
            "marker": {
             "colorbar": {
              "outlinewidth": 0,
              "ticks": ""
             }
            },
            "type": "scattergeo"
           }
          ],
          "scattergl": [
           {
            "marker": {
             "colorbar": {
              "outlinewidth": 0,
              "ticks": ""
             }
            },
            "type": "scattergl"
           }
          ],
          "scattermapbox": [
           {
            "marker": {
             "colorbar": {
              "outlinewidth": 0,
              "ticks": ""
             }
            },
            "type": "scattermapbox"
           }
          ],
          "scatterpolar": [
           {
            "marker": {
             "colorbar": {
              "outlinewidth": 0,
              "ticks": ""
             }
            },
            "type": "scatterpolar"
           }
          ],
          "scatterpolargl": [
           {
            "marker": {
             "colorbar": {
              "outlinewidth": 0,
              "ticks": ""
             }
            },
            "type": "scatterpolargl"
           }
          ],
          "scatterternary": [
           {
            "marker": {
             "colorbar": {
              "outlinewidth": 0,
              "ticks": ""
             }
            },
            "type": "scatterternary"
           }
          ],
          "surface": [
           {
            "colorbar": {
             "outlinewidth": 0,
             "ticks": ""
            },
            "colorscale": [
             [
              0,
              "#0d0887"
             ],
             [
              0.1111111111111111,
              "#46039f"
             ],
             [
              0.2222222222222222,
              "#7201a8"
             ],
             [
              0.3333333333333333,
              "#9c179e"
             ],
             [
              0.4444444444444444,
              "#bd3786"
             ],
             [
              0.5555555555555556,
              "#d8576b"
             ],
             [
              0.6666666666666666,
              "#ed7953"
             ],
             [
              0.7777777777777778,
              "#fb9f3a"
             ],
             [
              0.8888888888888888,
              "#fdca26"
             ],
             [
              1,
              "#f0f921"
             ]
            ],
            "type": "surface"
           }
          ],
          "table": [
           {
            "cells": {
             "fill": {
              "color": "#EBF0F8"
             },
             "line": {
              "color": "white"
             }
            },
            "header": {
             "fill": {
              "color": "#C8D4E3"
             },
             "line": {
              "color": "white"
             }
            },
            "type": "table"
           }
          ]
         },
         "layout": {
          "annotationdefaults": {
           "arrowcolor": "#2a3f5f",
           "arrowhead": 0,
           "arrowwidth": 1
          },
          "autotypenumbers": "strict",
          "coloraxis": {
           "colorbar": {
            "outlinewidth": 0,
            "ticks": ""
           }
          },
          "colorscale": {
           "diverging": [
            [
             0,
             "#8e0152"
            ],
            [
             0.1,
             "#c51b7d"
            ],
            [
             0.2,
             "#de77ae"
            ],
            [
             0.3,
             "#f1b6da"
            ],
            [
             0.4,
             "#fde0ef"
            ],
            [
             0.5,
             "#f7f7f7"
            ],
            [
             0.6,
             "#e6f5d0"
            ],
            [
             0.7,
             "#b8e186"
            ],
            [
             0.8,
             "#7fbc41"
            ],
            [
             0.9,
             "#4d9221"
            ],
            [
             1,
             "#276419"
            ]
           ],
           "sequential": [
            [
             0,
             "#0d0887"
            ],
            [
             0.1111111111111111,
             "#46039f"
            ],
            [
             0.2222222222222222,
             "#7201a8"
            ],
            [
             0.3333333333333333,
             "#9c179e"
            ],
            [
             0.4444444444444444,
             "#bd3786"
            ],
            [
             0.5555555555555556,
             "#d8576b"
            ],
            [
             0.6666666666666666,
             "#ed7953"
            ],
            [
             0.7777777777777778,
             "#fb9f3a"
            ],
            [
             0.8888888888888888,
             "#fdca26"
            ],
            [
             1,
             "#f0f921"
            ]
           ],
           "sequentialminus": [
            [
             0,
             "#0d0887"
            ],
            [
             0.1111111111111111,
             "#46039f"
            ],
            [
             0.2222222222222222,
             "#7201a8"
            ],
            [
             0.3333333333333333,
             "#9c179e"
            ],
            [
             0.4444444444444444,
             "#bd3786"
            ],
            [
             0.5555555555555556,
             "#d8576b"
            ],
            [
             0.6666666666666666,
             "#ed7953"
            ],
            [
             0.7777777777777778,
             "#fb9f3a"
            ],
            [
             0.8888888888888888,
             "#fdca26"
            ],
            [
             1,
             "#f0f921"
            ]
           ]
          },
          "colorway": [
           "#636efa",
           "#EF553B",
           "#00cc96",
           "#ab63fa",
           "#FFA15A",
           "#19d3f3",
           "#FF6692",
           "#B6E880",
           "#FF97FF",
           "#FECB52"
          ],
          "font": {
           "color": "#2a3f5f"
          },
          "geo": {
           "bgcolor": "white",
           "lakecolor": "white",
           "landcolor": "#E5ECF6",
           "showlakes": true,
           "showland": true,
           "subunitcolor": "white"
          },
          "hoverlabel": {
           "align": "left"
          },
          "hovermode": "closest",
          "mapbox": {
           "style": "light"
          },
          "paper_bgcolor": "white",
          "plot_bgcolor": "#E5ECF6",
          "polar": {
           "angularaxis": {
            "gridcolor": "white",
            "linecolor": "white",
            "ticks": ""
           },
           "bgcolor": "#E5ECF6",
           "radialaxis": {
            "gridcolor": "white",
            "linecolor": "white",
            "ticks": ""
           }
          },
          "scene": {
           "xaxis": {
            "backgroundcolor": "#E5ECF6",
            "gridcolor": "white",
            "gridwidth": 2,
            "linecolor": "white",
            "showbackground": true,
            "ticks": "",
            "zerolinecolor": "white"
           },
           "yaxis": {
            "backgroundcolor": "#E5ECF6",
            "gridcolor": "white",
            "gridwidth": 2,
            "linecolor": "white",
            "showbackground": true,
            "ticks": "",
            "zerolinecolor": "white"
           },
           "zaxis": {
            "backgroundcolor": "#E5ECF6",
            "gridcolor": "white",
            "gridwidth": 2,
            "linecolor": "white",
            "showbackground": true,
            "ticks": "",
            "zerolinecolor": "white"
           }
          },
          "shapedefaults": {
           "line": {
            "color": "#2a3f5f"
           }
          },
          "ternary": {
           "aaxis": {
            "gridcolor": "white",
            "linecolor": "white",
            "ticks": ""
           },
           "baxis": {
            "gridcolor": "white",
            "linecolor": "white",
            "ticks": ""
           },
           "bgcolor": "#E5ECF6",
           "caxis": {
            "gridcolor": "white",
            "linecolor": "white",
            "ticks": ""
           }
          },
          "title": {
           "x": 0.05
          },
          "xaxis": {
           "automargin": true,
           "gridcolor": "white",
           "linecolor": "white",
           "ticks": "",
           "title": {
            "standoff": 15
           },
           "zerolinecolor": "white",
           "zerolinewidth": 2
          },
          "yaxis": {
           "automargin": true,
           "gridcolor": "white",
           "linecolor": "white",
           "ticks": "",
           "title": {
            "standoff": 15
           },
           "zerolinecolor": "white",
           "zerolinewidth": 2
          }
         }
        },
        "width": 700,
        "xaxis": {
         "anchor": "y",
         "autorange": true,
         "domain": [
          0,
          1
         ],
         "range": [
          -5000.5,
          1999.5
         ],
         "tickfont": {
          "size": 16
         },
         "title": {
          "font": {
           "size": 16
          },
          "text": "ende"
         },
         "type": "linear"
        },
        "yaxis": {
         "anchor": "x",
         "autorange": true,
         "domain": [
          0,
          1
         ],
         "range": [
          0,
          0.007769423558897244
         ],
         "tickfont": {
          "size": 16
         },
         "title": {
          "font": {
           "size": 16
          },
          "text": "Anteil"
         }
        }
       }
      },
      "text/html": [
       "<div>                            <div id=\"8c9f2bed-2c79-4f00-a00e-40e7b566b67c\" class=\"plotly-graph-div\" style=\"height:300px; width:700px;\"></div>            <script type=\"text/javascript\">                require([\"plotly\"], function(Plotly) {                    window.PLOTLYENV=window.PLOTLYENV || {};                                    if (document.getElementById(\"8c9f2bed-2c79-4f00-a00e-40e7b566b67c\")) {                    Plotly.newPlot(                        \"8c9f2bed-2c79-4f00-a00e-40e7b566b67c\",                        [{\"alignmentgroup\":\"True\",\"bingroup\":\"x\",\"histnorm\":\"probability density\",\"hovertemplate\":\"=Nicht nationalistische Texte\\u003cbr\\u003e(Mittelwert = 1244.84)\\u003cbr\\u003eende=%{x}\\u003cbr\\u003eprobability density=%{y}\\u003cextra\\u003e\\u003c\\u002fextra\\u003e\",\"legendgroup\":\"Nicht nationalistische Texte\\u003cbr\\u003e(Mittelwert = 1244.84)\",\"marker\":{\"color\":\"#636efa\",\"pattern\":{\"shape\":\"\"}},\"name\":\"Nicht nationalistische Texte\\u003cbr\\u003e(Mittelwert = 1244.84)\",\"offsetgroup\":\"Nicht nationalistische Texte\\u003cbr\\u003e(Mittelwert = 1244.84)\",\"orientation\":\"v\",\"showlegend\":true,\"x\":[933.0,null,-480.0,-146.0,1319.0,500.0,1000.0,1208.0,1225.0,1298.0,1308.0,1308.0,1354.0,1415.0,1410.0,1552.0,1552.0,1631.0,1741.0,1783.0,1815.0,1819.0,1476.0,1476.0,1477.0,1840.0,774.0,814.0,1024.0,1313.0,1500.0,1535.0,1535.0,1530.0,1531.0,807.0,1522.0,1521.0,1522.0,1546.0,1500.0,1519.0,1521.0,1521.0,1525.0,370.0,396.0,455.0,455.0,592.0,718.0,530.0,652.0,250.0,713.0,809.0,800.0,1250.0,1500.0,1500.0,1525.0,1200.0,1400.0,1312.0,1318.0,1315.0,1351.0,1400.0,1400.0,1464.0,1518.0,1510.0,1500.0,1525.0,1523.0,1517.0,1531.0,1535.0,1537.0,1512.0,1530.0,1648.0,1648.0,1648.0,1631.0,1806.0,1770.0,1850.0,1900.0,1200.0,928.0,1200.0,1412.0,1470.0,1638.0,1648.0,1674.0,1674.0,1745.0,1746.0,1757.0,1757.0,-3200.0,445.0,455.0,1850.0,1400.0,1400.0,1571.0,1570.0,1626.0,1854.0,947.0,1674.0,null,1099.0,1450.0,800.0,1850.0,1093.0,1350.0,1432.0,1624.0,1678.0,1684.0,1716.0,1720.0,1740.0,1715.0,1756.0,1758.0,1759.0,1757.0,1780.0,1810.0,1819.0,1815.0,1840.0,1840.0,1850.0,1857.0,1860.0,1864.0,1864.0,1415.0,1448.0,1535.0,1535.0,1654.0,1701.0,1715.0,1740.0,1740.0,1741.0,1742.0,1745.0,1756.0,1757.0,1757.0,1759.0,1763.0,1785.0,1786.0,1786.0,1807.0,1820.0,1861.0,1864.0,1866.0,1806.0,-429.0,37.0,1032.0,1572.0,1831.0,1542.0,1540.0,1631.0,1547.0,1860.0,null,-525.0,-1000.0,-845.0,-586.0,776.0,-492.0,-480.0,-480.0,-480.0,-478.0,-355.0,-334.0,-320.0,-384.0,-321.0,-272.0,241.0,-218.0,-133.0,-72.0,-52.0,5.0,100.0,64.0,79.0,212.0,268.0,259.0,305.0,400.0,409.0,414.0,451.0,451.0,453.0,539.0,572.0,602.0,620.0,723.0,755.0,865.0,804.0,773.0,801.0,814.0,814.0,838.0,864.0,878.0,878.0,919.0,933.0,997.0,1028.0,1066.0,1074.0,1095.0,1126.0,1155.0,1218.0,1135.0,1168.0,1184.0,1194.0,1194.0,1215.0,1214.0,1250.0,1266.0,1267.0,1268.0,1282.0,1265.0,1273.0,1307.0,1322.0,1347.0,1349.0,1428.0,1400.0,1410.0,1414.0,1415.0,1415.0,1417.0,1432.0,1470.0,1455.0,1474.0,1492.0,1468.0,1477.0,1506.0,1516.0,1523.0,1517.0,1525.0,1518.0,1519.0,1520.0,1521.0,1512.0,1525.0,1531.0,1529.0,1530.0,1535.0,1530.0,1540.0,1543.0,1566.0,1566.0,1576.0,1612.0,1634.0,1639.0,1658.0,1646.0,1675.0,1668.0,1635.0,1719.0,1705.0,1683.0,1683.0,1701.0,1717.0,1694.0,1697.0,1704.0,1705.0,1710.0,1710.0,1711.0,1688.0,1763.0,1757.0,1757.0,1758.0,1760.0,1785.0,1792.0,1799.0,1722.0,1785.0,1812.0,1798.0,1793.0,1793.0,1808.0,1806.0,1806.0,1809.0,1809.0,1812.0,1831.0,1840.0,1861.0,573.0,-596.0,-548.0,-480.0,-338.0,1850.0,-167.0,-71.0,718.0,814.0,1270.0,1208.0,1208.0,1234.0,1238.0,1450.0,1533.0,1823.0,1870.0,1870.0,1200.0,1106.0,1870.0,1870.0,814.0,1865.0,1525.0,1525.0,1546.0,1521.0,1531.0,1631.0,1757.0,1741.0,1181.0,1520.0,1530.0,1769.0,1227.0,1675.0,1740.0,1870.0,1870.0,1241.0,1322.0,1325.0,1325.0,1335.0,1452.0,1471.0,1558.0,1558.0,1634.0,1683.0,1757.0,1790.0,1776.0,1790.0,1855.0,1809.0,1848.0,1830.0,1879.0,434.0,482.0,1879.0,476.0,700.0,900.0,1000.0,1079.0,1099.0,1150.0,1246.0,1260.0,1276.0,1278.0,1278.0,1281.0,1307.0,1346.0,1356.0,1365.0,1382.0,1386.0,1406.0,1442.0,1452.0,1456.0,1400.0,1477.0,1480.0,1483.0,1486.0,1510.0,1504.0,1500.0,1547.0,1570.0,1552.0,1552.0,1556.0,1511.0,1564.0,1558.0,1557.0,1575.0,1598.0,1612.0,1617.0,1617.0,1632.0,1648.0,1664.0,1680.0,1683.0,1683.0,1683.0,1683.0,1702.0,1709.0,1710.0,1711.0,1757.0,1750.0,1754.0,1750.0,1757.0,1746.0,1787.0,1787.0,1785.0,1791.0,1791.0,1797.0,1797.0,1799.0,1801.0,1809.0,1810.0,1813.0,1813.0,1815.0,1815.0,1820.0,1822.0,1827.0,1834.0,1841.0,1849.0,1853.0,1757.0,1858.0,1858.0,1860.0,1864.0,1865.0,1866.0,1870.0,1867.0,1867.0,1871.0,1871.0,1871.0,1873.0,1878.0,1879.0,1282.0,1355.0,1477.0,1521.0,1686.0,1760.0,1879.0,1420.0,1632.0,1780.0,1867.0,1675.0,-500.0,-336.0,327.0,-217.0,65.0,396.0,451.0,555.0,600.0,638.0,1240.0,1500.0,1400.0,1512.0,1521.0,1530.0,1620.0,1630.0,1620.0,1675.0,1704.0,1718.0,1870.0,410.0,777.0,783.0,782.0,784.0,785.0,936.0,1522.0,1717.0,1706.0,9.0,408.0,814.0,944.0,947.0,965.0,1170.0,1535.0,1688.0,1759.0,1786.0,1632.0,493.0,814.0,919.0,1268.0,1517.0,1521.0,1530.0,552.0,783.0,1400.0,1325.0,1157.0,1517.0,1628.0,1813.0,1500.0,451.0,1190.0,1250.0,1266.0,1272.0,1386.0,1521.0,1683.0,1630.0,1830.0,200.0,500.0,452.0,785.0,1030.0,1162.0,1150.0,1505.0,1860.0,1850.0,1870.0,1888.0,1890.0,290.0,-312.0,363.0,360.0,379.0,416.0,582.0,730.0,822.0,1030.0,1210.0,1300.0,1351.0,1498.0,1520.0,1860.0,1547.0,1547.0,1569.0,1504.0,1700.0,1699.0,1692.0,1736.0,1781.0,1834.0,1823.0,-113.0,-9.0,16.0,70.0,408.0,452.0,534.0,551.0,552.0,568.0,585.0,505.0,542.0,676.0,772.0,772.0,800.0,814.0,810.0,593.0,718.0,730.0,753.0,875.0,918.0,947.0,955.0,957.0,982.0,1007.0,1056.0,1062.0,1077.0,1106.0,1139.0,1147.0,1155.0,1155.0,1168.0,1176.0,1181.0,1189.0,1191.0,1197.0,1193.0,1197.0,1212.0,1500.0,1242.0,1245.0,1249.0,1252.0,1254.0,1256.0,1269.0,1860.0,1290.0,1308.0,1358.0,1349.0,1349.0,1512.0,1516.0,1519.0,1521.0,1520.0,1525.0,1525.0,1525.0,1530.0,1547.0,1551.0,1521.0,1618.0,1626.0,1632.0,1632.0,1632.0,1648.0,1667.0,1637.0,1657.0,1656.0,1675.0,1675.0,1675.0,1731.0,1741.0,1741.0,1741.0,1757.0,1757.0,1757.0,1757.0,1760.0,1761.0,1760.0,1765.0,1778.0,1806.0,1809.0,1809.0,1812.0,1813.0,1813.0,1813.0,1813.0,1815.0,1813.0,1848.0,1866.0,1850.0,1850.0,1866.0,1867.0,1870.0,1870.0,1140.0,1266.0,1319.0,1412.0,1413.0,1510.0,1574.0,1580.0,1557.0,1571.0,1330.0,1370.0,1410.0,1318.0,1415.0,1319.0,1350.0,1603.0,897.0,1256.0,1456.0,1705.0,1189.0,1373.0,1568.0,1626.0,1547.0,1028.0,1093.0,1131.0,1289.0,1719.0,1183.0,1370.0,1474.0,1637.0,1075.0,1130.0,1172.0,1170.0,1270.0,1451.0,1525.0,1553.0,1227.0,1234.0,1252.0,1319.0,1331.0,1363.0,1404.0,1404.0,1418.0,1500.0,1524.0,1559.0,1225.0,1570.0,1417.0,1475.0,936.0,947.0,1106.0,1268.0,1325.0,1417.0,1871.0,-330.0,0.0,-113.0,-101.0,9.0,65.0,100.0,1890.0,1860.0,200.0,1880.0,213.0,251.0,310.0,1860.0,451.0,397.0,-202.0,415.0,429.0,455.0,476.0,476.0,546.0,552.0,568.0,573.0,570.0,1890.0,1100.0,1300.0,754.0,800.0,787.0,796.0,796.0,814.0,810.0,918.0,919.0,929.0,973.0,978.0,1002.0,1054.0,1063.0,1073.0,1077.0,1095.0,1137.0,1100.0,1189.0,1158.0,1164.0,1176.0,1189.0,1860.0,1230.0,1180.0,1207.0,1250.0,1457.0,1457.0,1245.0,1267.0,1267.0,1268.0,1870.0,1272.0,1268.0,1273.0,1309.0,1869.0,1340.0,1346.0,1374.0,1437.0,1474.0,1520.0,1868.0,1573.0,1600.0,1622.0,1626.0,1630.0,1630.0,1630.0,1634.0,1643.0,1870.0,1757.0,1760.0,1762.0,1785.0,1794.0,814.0,1880.0,1866.0,1866.0,1881.0,1886.0,546.0,1504.0,1794.0,1813.0,1898.0,1897.0,1880.0,1897.0,1888.0,1881.0,1888.0,1890.0,-107.0,-107.0,-58.0,1200.0,1364.0,1450.0,1495.0,1531.0,1757.0,1880.0,1880.0,800.0,947.0,1268.0,null,1546.0,1632.0,1870.0,1880.0,1810.0,1898.0,1890.0,0.0,1880.0,600.0,718.0,774.0,778.0,941.0,955.0,1105.0,1099.0,1268.0,1468.0,1490.0,1500.0,1525.0,1540.0,1542.0,1534.0,1620.0,1648.0,1632.0,1793.0,1794.0,1812.0,1870.0,1888.0,500.0,90.0,1500.0,822.0,778.0,900.0,1105.0,1500.0,null,1200.0,1200.0,1500.0,1258.0,1300.0,1000.0,1500.0,1460.0,1500.0,1430.0,1546.0,1525.0,1526.0,1525.0,1530.0,1530.0,1525.0,1514.0,1900.0,1648.0,1815.0,1741.0,1758.0,1763.0,1757.0,1757.0,1760.0,-332.0,-2000.0,-500.0,-1220.0,-800.0,-1200.0,-800.0,-700.0,-650.0,-570.0,-553.0,300.0,-494.0,-500.0,-400.0,-470.0,-435.0,-490.0,-480.0,-480.0,-480.0,-480.0,-480.0,-459.0,-471.0,-468.0,-440.0,-429.0,-415.0,-415.0,-399.0,-399.0,-370.0,-418.0,-338.0,-356.0,-336.0,-326.0,-197.0,-207.0,-146.0,30.0,397.0,-508.0,-384.0,-384.0,0.0,-279.0,-238.0,-218.0,-216.0,-183.0,-183.0,-215.0,-121.0,-104.0,-87.0,-79.0,-62.0,-46.0,-53.0,-42.0,-46.0,-44.0,-44.0,-42.0,-30.0,-30.0,-4.0,20.0,-40.0,14.0,14.0,26.0,26.0,19.0,10.0,55.0,60.0,66.0,60.0,64.0,64.0,64.0,125.0,130.0,110.0,274.0,400.0,410.0,452.0,-200.0,-200.0,-400.0,-1200.0,1860.0,1860.0,1850.0,1870.0,-400.0,1850.0,-406.0,-100.0,-401.0,1866.0,1850.0,1840.0,1865.0,1865.0,1811.0,1811.0,1875.0,-10.0,1880.0,1880.0,1860.0,1885.0,1885.0,1860.0,1900.0,1870.0,1850.0,1880.0,600.0,500.0,1002.0,1152.0,1457.0,1457.0,1457.0,1553.0,1626.0,1528.0,1870.0,1412.0,1414.0,1414.0,1420.0,1499.0,1547.0,1757.0,1770.0,1780.0,1772.0,1807.0,1812.0,1850.0,1851.0,1870.0,1870.0,1871.0,1871.0,1875.0,1870.0,1880.0,1888.0,1870.0,1880.0,718.0,776.0,1741.0,1757.0,1800.0,1793.0,1806.0,1812.0,1870.0,0.0,700.0,0.0,823.0,100.0,1900.0,1300.0,1490.0,1000.0,200.0,-55.0,-55.0,300.0,16.0,17.0,21.0,213.0,1500.0,1885.0,552.0,573.0,580.0,496.0,613.0,800.0,718.0,800.0,785.0,790.0,1898.0,950.0,1080.0,1084.0,1167.0,1176.0,1200.0,1895.0,1200.0,1212.0,1225.0,1227.0,1100.0,1268.0,1272.0,1880.0,1313.0,1325.0,1330.0,1350.0,1350.0,1420.0,1415.0,1435.0,1468.0,1484.0,1450.0,1520.0,1517.0,1523.0,1518.0,1521.0,1517.0,1546.0,1523.0,1523.0,1523.0,1530.0,1540.0,1532.0,1525.0,1547.0,1626.0,1634.0,1632.0,1630.0,1889.0,1681.0,1689.0,1757.0,1758.0,1785.0,1769.0,1790.0,1770.0,1727.0,1792.0,1806.0,1810.0,1812.0,1813.0,1813.0,1814.0,1815.0,1866.0,1870.0,1870.0,1870.0,1870.0,1870.0,300.0,1884.0,1888.0,1880.0,1900.0,573.0,1278.0,1547.0,1675.0,1709.0,1741.0,1780.0,1758.0,1810.0,1827.0,1796.0,1809.0,1809.0,1809.0,1808.0,1813.0,1870.0,1870.0,1870.0,1871.0,1871.0,1870.0,1871.0,1871.0,589.0,814.0,1000.0,1158.0,1200.0,1208.0,1212.0,1227.0,1242.0,1266.0,1268.0,1268.0,1309.0,1386.0,1444.0,1450.0,1476.0,1528.0,1858.0,1525.0,1520.0,1568.0,1648.0,1660.0,1648.0,1705.0,1717.0,1770.0,1786.0,1791.0,1789.0,1805.0,1812.0,1813.0,1800.0,1800.0,1813.0,1815.0,1813.0,1815.0,1813.0,1813.0,1827.0,1870.0,null,1870.0,1900.0,1000.0,1200.0,1812.0,1858.0,1914.0,1880.0,1200.0,1809.0,1914.0,1807.0,1870.0,1914.0,955.0,-60.0,1268.0,1850.0,1386.0,1386.0,1567.0,1250.0,1450.0,1476.0,1476.0,1476.0,1476.0,1400.0,1400.0,1500.0,1515.0,1648.0,1500.0,1522.0,1523.0,1531.0,1531.0,1627.0,1793.0,1798.0,1812.0,1878.0,1809.0,785.0,1429.0,1534.0,1638.0,1648.0,1812.0,1812.0,1812.0,1813.0,1813.0,1914.0,796.0,919.0,919.0,1157.0,1270.0,1273.0,1517.0,1521.0,1410.0,1521.0,1145.0,1679.0,1648.0,1757.0,1782.0,1807.0,1813.0,1870.0,1918.0,1375.0,1520.0,1523.0,1830.0,1875.0,723.0,850.0,1291.0,1632.0,1705.0,-776.0,-51.0,1266.0,1361.0,1370.0,1370.0,1530.0,1648.0,877.0,960.0,1252.0,1535.0,1709.0,1635.0,1000.0,1910.0,1520.0,1522.0,1626.0,1757.0,1763.0,1871.0,1792.0,1918.0,-430.0,1500.0,1200.0,1350.0,1400.0,1706.0,1870.0,1914.0,1914.0,1914.0,-1000.0,500.0,1900.0,-4000.0,600.0,900.0,800.0,804.0,785.0,1905.0,800.0,659.0,998.0,950.0,1014.0,1020.0,804.0,973.0,1375.0,1400.0,1229.0,1200.0,1200.0,1200.0,1215.0,1270.0,1400.0,1410.0,1413.0,1910.0,1000.0,1319.0,1404.0,1476.0,1500.0,1374.0,1400.0,1400.0,1473.0,1503.0,1520.0,1520.0,1476.0,1476.0,1476.0,1476.0,1476.0,1515.0,1620.0,1500.0,1500.0,1550.0,1637.0,1300.0,1500.0,1280.0,1520.0,1523.0,1523.0,1518.0,1916.0,1521.0,1551.0,1631.0,1632.0,1648.0,1664.0,1635.0,1648.0,1780.0,1735.0,1770.0,1747.0,1836.0,1799.0,1885.0,1905.0,1860.0,1810.0,1812.0,1864.0,1866.0,1870.0,1888.0,1866.0,1914.0,1920.0,200.0,-5000.0,1880.0,50.0,552.0,796.0,933.0,1268.0,1400.0,1400.0,1402.0,1500.0,1525.0,1632.0,1648.0,1648.0,1812.0,1813.0,1864.0,1200.0,200.0,1066.0,1842.0,850.0,830.0,1000.0,1525.0,1632.0,null,1492.0,1701.0,1740.0,1790.0,1830.0,1789.0,900.0,906.0,1288.0,1523.0,1512.0,1520.0,1523.0],\"xaxis\":\"x\",\"yaxis\":\"y\",\"type\":\"histogram\"},{\"alignmentgroup\":\"True\",\"bingroup\":\"x\",\"histnorm\":\"probability density\",\"hovertemplate\":\"=Nationalistische Texte\\u003cbr\\u003e(Mittelwert = 1727.17)\\u003cbr\\u003eende=%{x}\\u003cbr\\u003eprobability density=%{y}\\u003cextra\\u003e\\u003c\\u002fextra\\u003e\",\"legendgroup\":\"Nationalistische Texte\\u003cbr\\u003e(Mittelwert = 1727.17)\",\"marker\":{\"color\":\"#EF553B\",\"pattern\":{\"shape\":\"\"}},\"name\":\"Nationalistische Texte\\u003cbr\\u003e(Mittelwert = 1727.17)\",\"offsetgroup\":\"Nationalistische Texte\\u003cbr\\u003e(Mittelwert = 1727.17)\",\"orientation\":\"v\",\"showlegend\":true,\"x\":[1819.0,1648.0,1325.0,1688.0,1848.0,1757.0,1656.0,1688.0,1851.0,1850.0,1813.0,1813.0,1857.0,1864.0,1866.0,1866.0,1866.0,1870.0,1870.0,1871.0,1866.0,1154.0,1488.0,1521.0,1806.0,1852.0,1870.0,300.0,1870.0,1870.0,978.0,1870.0,1870.0,1870.0,1871.0,1870.0,1871.0,1871.0,1870.0,1800.0,1870.0,17.0,1860.0,1400.0,1870.0,1870.0,1870.0,1871.0,1870.0,1871.0,1871.0,500.0,1875.0,1874.0,1416.0,1475.0,1487.0,1683.0,1809.0,1809.0,1834.0,1849.0,1857.0,1858.0,1862.0,1866.0,1876.0,1814.0,1873.0,1878.0,1879.0,null,1870.0,1853.0,1231.0,1318.0,1648.0,1806.0,1881.0,1870.0,1832.0,1870.0,1870.0,1870.0,1870.0,1871.0,1871.0,1870.0,1871.0,1883.0,1877.0,955.0,1850.0,1871.0,17.0,9.0,1002.0,1813.0,1848.0,1848.0,1861.0,1870.0,1870.0,1870.0,1870.0,1870.0,1871.0,1870.0,1871.0,1871.0,1888.0,449.0,633.0,1674.0,1793.0,1805.0,1806.0,1810.0,1813.0,1864.0,1870.0,1884.0,1888.0,1890.0,1891.0,1891.0,1226.0,897.0,1807.0,800.0,1865.0,933.0,1241.0,1796.0,1809.0,1813.0,1813.0,1858.0,1300.0,1862.0,1870.0,1875.0,1870.0,1875.0,1873.0,1880.0,1883.0,1888.0,1888.0,1810.0,1820.0,1870.0,1871.0,1888.0,1888.0,1871.0,1897.0,1897.0,1897.0,1877.0,1870.0,1674.0,1809.0,1871.0,1891.0,1895.0,1860.0,1077.0,1871.0,1849.0,1849.0,1871.0,800.0,1160.0,1789.0,1809.0,9.0,1870.0,1870.0,1806.0,1870.0,1848.0,1850.0,1863.0,1871.0,1892.0,1891.0,1347.0,1546.0,1806.0,1813.0,1834.0,1852.0,1860.0,1870.0,1870.0,1871.0,1870.0,1894.0,1883.0,1888.0,1896.0,1900.0,1870.0,1898.0,1900.0,1809.0,1871.0,1871.0,1808.0,1877.0,1900.0,1875.0,1888.0,1871.0,1914.0,1450.0,1876.0,1513.0,1852.0,1813.0,1918.0,1871.0,1875.0,1914.0,1918.0,1918.0,1515.0,1813.0,1900.0,1859.0,1834.0,1859.0,1871.0,1914.0,1228.0,1200.0,1265.0,1380.0,1648.0,1813.0,1918.0,1860.0,1809.0,1840.0,1817.0,1840.0,1815.0,1848.0,1875.0,1900.0,1918.0,1918.0],\"xaxis\":\"x\",\"yaxis\":\"y\",\"type\":\"histogram\"}],                        {\"template\":{\"data\":{\"histogram2dcontour\":[{\"type\":\"histogram2dcontour\",\"colorbar\":{\"outlinewidth\":0,\"ticks\":\"\"},\"colorscale\":[[0.0,\"#0d0887\"],[0.1111111111111111,\"#46039f\"],[0.2222222222222222,\"#7201a8\"],[0.3333333333333333,\"#9c179e\"],[0.4444444444444444,\"#bd3786\"],[0.5555555555555556,\"#d8576b\"],[0.6666666666666666,\"#ed7953\"],[0.7777777777777778,\"#fb9f3a\"],[0.8888888888888888,\"#fdca26\"],[1.0,\"#f0f921\"]]}],\"choropleth\":[{\"type\":\"choropleth\",\"colorbar\":{\"outlinewidth\":0,\"ticks\":\"\"}}],\"histogram2d\":[{\"type\":\"histogram2d\",\"colorbar\":{\"outlinewidth\":0,\"ticks\":\"\"},\"colorscale\":[[0.0,\"#0d0887\"],[0.1111111111111111,\"#46039f\"],[0.2222222222222222,\"#7201a8\"],[0.3333333333333333,\"#9c179e\"],[0.4444444444444444,\"#bd3786\"],[0.5555555555555556,\"#d8576b\"],[0.6666666666666666,\"#ed7953\"],[0.7777777777777778,\"#fb9f3a\"],[0.8888888888888888,\"#fdca26\"],[1.0,\"#f0f921\"]]}],\"heatmap\":[{\"type\":\"heatmap\",\"colorbar\":{\"outlinewidth\":0,\"ticks\":\"\"},\"colorscale\":[[0.0,\"#0d0887\"],[0.1111111111111111,\"#46039f\"],[0.2222222222222222,\"#7201a8\"],[0.3333333333333333,\"#9c179e\"],[0.4444444444444444,\"#bd3786\"],[0.5555555555555556,\"#d8576b\"],[0.6666666666666666,\"#ed7953\"],[0.7777777777777778,\"#fb9f3a\"],[0.8888888888888888,\"#fdca26\"],[1.0,\"#f0f921\"]]}],\"heatmapgl\":[{\"type\":\"heatmapgl\",\"colorbar\":{\"outlinewidth\":0,\"ticks\":\"\"},\"colorscale\":[[0.0,\"#0d0887\"],[0.1111111111111111,\"#46039f\"],[0.2222222222222222,\"#7201a8\"],[0.3333333333333333,\"#9c179e\"],[0.4444444444444444,\"#bd3786\"],[0.5555555555555556,\"#d8576b\"],[0.6666666666666666,\"#ed7953\"],[0.7777777777777778,\"#fb9f3a\"],[0.8888888888888888,\"#fdca26\"],[1.0,\"#f0f921\"]]}],\"contourcarpet\":[{\"type\":\"contourcarpet\",\"colorbar\":{\"outlinewidth\":0,\"ticks\":\"\"}}],\"contour\":[{\"type\":\"contour\",\"colorbar\":{\"outlinewidth\":0,\"ticks\":\"\"},\"colorscale\":[[0.0,\"#0d0887\"],[0.1111111111111111,\"#46039f\"],[0.2222222222222222,\"#7201a8\"],[0.3333333333333333,\"#9c179e\"],[0.4444444444444444,\"#bd3786\"],[0.5555555555555556,\"#d8576b\"],[0.6666666666666666,\"#ed7953\"],[0.7777777777777778,\"#fb9f3a\"],[0.8888888888888888,\"#fdca26\"],[1.0,\"#f0f921\"]]}],\"surface\":[{\"type\":\"surface\",\"colorbar\":{\"outlinewidth\":0,\"ticks\":\"\"},\"colorscale\":[[0.0,\"#0d0887\"],[0.1111111111111111,\"#46039f\"],[0.2222222222222222,\"#7201a8\"],[0.3333333333333333,\"#9c179e\"],[0.4444444444444444,\"#bd3786\"],[0.5555555555555556,\"#d8576b\"],[0.6666666666666666,\"#ed7953\"],[0.7777777777777778,\"#fb9f3a\"],[0.8888888888888888,\"#fdca26\"],[1.0,\"#f0f921\"]]}],\"mesh3d\":[{\"type\":\"mesh3d\",\"colorbar\":{\"outlinewidth\":0,\"ticks\":\"\"}}],\"scatter\":[{\"fillpattern\":{\"fillmode\":\"overlay\",\"size\":10,\"solidity\":0.2},\"type\":\"scatter\"}],\"parcoords\":[{\"type\":\"parcoords\",\"line\":{\"colorbar\":{\"outlinewidth\":0,\"ticks\":\"\"}}}],\"scatterpolargl\":[{\"type\":\"scatterpolargl\",\"marker\":{\"colorbar\":{\"outlinewidth\":0,\"ticks\":\"\"}}}],\"bar\":[{\"error_x\":{\"color\":\"#2a3f5f\"},\"error_y\":{\"color\":\"#2a3f5f\"},\"marker\":{\"line\":{\"color\":\"#E5ECF6\",\"width\":0.5},\"pattern\":{\"fillmode\":\"overlay\",\"size\":10,\"solidity\":0.2}},\"type\":\"bar\"}],\"scattergeo\":[{\"type\":\"scattergeo\",\"marker\":{\"colorbar\":{\"outlinewidth\":0,\"ticks\":\"\"}}}],\"scatterpolar\":[{\"type\":\"scatterpolar\",\"marker\":{\"colorbar\":{\"outlinewidth\":0,\"ticks\":\"\"}}}],\"histogram\":[{\"marker\":{\"pattern\":{\"fillmode\":\"overlay\",\"size\":10,\"solidity\":0.2}},\"type\":\"histogram\"}],\"scattergl\":[{\"type\":\"scattergl\",\"marker\":{\"colorbar\":{\"outlinewidth\":0,\"ticks\":\"\"}}}],\"scatter3d\":[{\"type\":\"scatter3d\",\"line\":{\"colorbar\":{\"outlinewidth\":0,\"ticks\":\"\"}},\"marker\":{\"colorbar\":{\"outlinewidth\":0,\"ticks\":\"\"}}}],\"scattermapbox\":[{\"type\":\"scattermapbox\",\"marker\":{\"colorbar\":{\"outlinewidth\":0,\"ticks\":\"\"}}}],\"scatterternary\":[{\"type\":\"scatterternary\",\"marker\":{\"colorbar\":{\"outlinewidth\":0,\"ticks\":\"\"}}}],\"scattercarpet\":[{\"type\":\"scattercarpet\",\"marker\":{\"colorbar\":{\"outlinewidth\":0,\"ticks\":\"\"}}}],\"carpet\":[{\"aaxis\":{\"endlinecolor\":\"#2a3f5f\",\"gridcolor\":\"white\",\"linecolor\":\"white\",\"minorgridcolor\":\"white\",\"startlinecolor\":\"#2a3f5f\"},\"baxis\":{\"endlinecolor\":\"#2a3f5f\",\"gridcolor\":\"white\",\"linecolor\":\"white\",\"minorgridcolor\":\"white\",\"startlinecolor\":\"#2a3f5f\"},\"type\":\"carpet\"}],\"table\":[{\"cells\":{\"fill\":{\"color\":\"#EBF0F8\"},\"line\":{\"color\":\"white\"}},\"header\":{\"fill\":{\"color\":\"#C8D4E3\"},\"line\":{\"color\":\"white\"}},\"type\":\"table\"}],\"barpolar\":[{\"marker\":{\"line\":{\"color\":\"#E5ECF6\",\"width\":0.5},\"pattern\":{\"fillmode\":\"overlay\",\"size\":10,\"solidity\":0.2}},\"type\":\"barpolar\"}],\"pie\":[{\"automargin\":true,\"type\":\"pie\"}]},\"layout\":{\"autotypenumbers\":\"strict\",\"colorway\":[\"#636efa\",\"#EF553B\",\"#00cc96\",\"#ab63fa\",\"#FFA15A\",\"#19d3f3\",\"#FF6692\",\"#B6E880\",\"#FF97FF\",\"#FECB52\"],\"font\":{\"color\":\"#2a3f5f\"},\"hovermode\":\"closest\",\"hoverlabel\":{\"align\":\"left\"},\"paper_bgcolor\":\"white\",\"plot_bgcolor\":\"#E5ECF6\",\"polar\":{\"bgcolor\":\"#E5ECF6\",\"angularaxis\":{\"gridcolor\":\"white\",\"linecolor\":\"white\",\"ticks\":\"\"},\"radialaxis\":{\"gridcolor\":\"white\",\"linecolor\":\"white\",\"ticks\":\"\"}},\"ternary\":{\"bgcolor\":\"#E5ECF6\",\"aaxis\":{\"gridcolor\":\"white\",\"linecolor\":\"white\",\"ticks\":\"\"},\"baxis\":{\"gridcolor\":\"white\",\"linecolor\":\"white\",\"ticks\":\"\"},\"caxis\":{\"gridcolor\":\"white\",\"linecolor\":\"white\",\"ticks\":\"\"}},\"coloraxis\":{\"colorbar\":{\"outlinewidth\":0,\"ticks\":\"\"}},\"colorscale\":{\"sequential\":[[0.0,\"#0d0887\"],[0.1111111111111111,\"#46039f\"],[0.2222222222222222,\"#7201a8\"],[0.3333333333333333,\"#9c179e\"],[0.4444444444444444,\"#bd3786\"],[0.5555555555555556,\"#d8576b\"],[0.6666666666666666,\"#ed7953\"],[0.7777777777777778,\"#fb9f3a\"],[0.8888888888888888,\"#fdca26\"],[1.0,\"#f0f921\"]],\"sequentialminus\":[[0.0,\"#0d0887\"],[0.1111111111111111,\"#46039f\"],[0.2222222222222222,\"#7201a8\"],[0.3333333333333333,\"#9c179e\"],[0.4444444444444444,\"#bd3786\"],[0.5555555555555556,\"#d8576b\"],[0.6666666666666666,\"#ed7953\"],[0.7777777777777778,\"#fb9f3a\"],[0.8888888888888888,\"#fdca26\"],[1.0,\"#f0f921\"]],\"diverging\":[[0,\"#8e0152\"],[0.1,\"#c51b7d\"],[0.2,\"#de77ae\"],[0.3,\"#f1b6da\"],[0.4,\"#fde0ef\"],[0.5,\"#f7f7f7\"],[0.6,\"#e6f5d0\"],[0.7,\"#b8e186\"],[0.8,\"#7fbc41\"],[0.9,\"#4d9221\"],[1,\"#276419\"]]},\"xaxis\":{\"gridcolor\":\"white\",\"linecolor\":\"white\",\"ticks\":\"\",\"title\":{\"standoff\":15},\"zerolinecolor\":\"white\",\"automargin\":true,\"zerolinewidth\":2},\"yaxis\":{\"gridcolor\":\"white\",\"linecolor\":\"white\",\"ticks\":\"\",\"title\":{\"standoff\":15},\"zerolinecolor\":\"white\",\"automargin\":true,\"zerolinewidth\":2},\"scene\":{\"xaxis\":{\"backgroundcolor\":\"#E5ECF6\",\"gridcolor\":\"white\",\"linecolor\":\"white\",\"showbackground\":true,\"ticks\":\"\",\"zerolinecolor\":\"white\",\"gridwidth\":2},\"yaxis\":{\"backgroundcolor\":\"#E5ECF6\",\"gridcolor\":\"white\",\"linecolor\":\"white\",\"showbackground\":true,\"ticks\":\"\",\"zerolinecolor\":\"white\",\"gridwidth\":2},\"zaxis\":{\"backgroundcolor\":\"#E5ECF6\",\"gridcolor\":\"white\",\"linecolor\":\"white\",\"showbackground\":true,\"ticks\":\"\",\"zerolinecolor\":\"white\",\"gridwidth\":2}},\"shapedefaults\":{\"line\":{\"color\":\"#2a3f5f\"}},\"annotationdefaults\":{\"arrowcolor\":\"#2a3f5f\",\"arrowhead\":0,\"arrowwidth\":1},\"geo\":{\"bgcolor\":\"white\",\"landcolor\":\"#E5ECF6\",\"subunitcolor\":\"white\",\"showland\":true,\"showlakes\":true,\"lakecolor\":\"white\"},\"title\":{\"x\":0.05},\"mapbox\":{\"style\":\"light\"}}},\"xaxis\":{\"anchor\":\"y\",\"domain\":[0.0,1.0],\"title\":{\"text\":\"ende\",\"font\":{\"size\":16}},\"tickfont\":{\"size\":16}},\"yaxis\":{\"anchor\":\"x\",\"domain\":[0.0,1.0],\"title\":{\"text\":\"Anteil\",\"font\":{\"size\":16}},\"tickfont\":{\"size\":16}},\"legend\":{\"title\":{\"text\":\"\"},\"tracegroupgap\":0,\"font\":{\"size\":16},\"x\":0.5,\"y\":0.96},\"margin\":{\"t\":60},\"barmode\":\"group\",\"width\":700,\"height\":300,\"bargap\":0.1},                        {\"responsive\": true}                    ).then(function(){\n",
       "                            \n",
       "var gd = document.getElementById('8c9f2bed-2c79-4f00-a00e-40e7b566b67c');\n",
       "var x = new MutationObserver(function (mutations, observer) {{\n",
       "        var display = window.getComputedStyle(gd).display;\n",
       "        if (!display || display === 'none') {{\n",
       "            console.log([gd, 'removed!']);\n",
       "            Plotly.purge(gd);\n",
       "            observer.disconnect();\n",
       "        }}\n",
       "}});\n",
       "\n",
       "// Listen for the removal of the full notebook cells\n",
       "var notebookContainer = gd.closest('#notebook-container');\n",
       "if (notebookContainer) {{\n",
       "    x.observe(notebookContainer, {childList: true});\n",
       "}}\n",
       "\n",
       "// Listen for the clearing of the current output cell\n",
       "var outputEl = gd.closest('.output');\n",
       "if (outputEl) {{\n",
       "    x.observe(outputEl, {childList: true});\n",
       "}}\n",
       "\n",
       "                        })                };                });            </script>        </div>"
      ]
     },
     "metadata": {},
     "output_type": "display_data"
    },
    {
     "data": {
      "application/vnd.plotly.v1+json": {
       "config": {
        "plotlyServerURL": "https://plot.ly"
       },
       "data": [
        {
         "alignmentgroup": "True",
         "bingroup": "x",
         "histnorm": "probability density",
         "hovertemplate": "=Nicht nationalistische Texte<br>(Mittelwert = 1.95)<br>zeitebenen=%{x}<br>probability density=%{y}<extra></extra>",
         "legendgroup": "Nicht nationalistische Texte<br>(Mittelwert = 1.95)",
         "marker": {
          "color": "#636efa",
          "pattern": {
           "shape": ""
          }
         },
         "name": "Nicht nationalistische Texte<br>(Mittelwert = 1.95)",
         "offsetgroup": "Nicht nationalistische Texte<br>(Mittelwert = 1.95)",
         "orientation": "v",
         "showlegend": true,
         "type": "histogram",
         "x": [
          3,
          2,
          3,
          3,
          2,
          2,
          2,
          3,
          1,
          4,
          3,
          2,
          2,
          3,
          1,
          3,
          3,
          2,
          2,
          2,
          1,
          1,
          1,
          2,
          1,
          2,
          1,
          1,
          2,
          2,
          1,
          1,
          2,
          3,
          3,
          3,
          1,
          1,
          2,
          1,
          2,
          1,
          2,
          2,
          3,
          2,
          2,
          2,
          1,
          2,
          2,
          2,
          1,
          1,
          3,
          2,
          4,
          1,
          3,
          2,
          1,
          1,
          2,
          2,
          3,
          1,
          3,
          2,
          4,
          2,
          2,
          2,
          2,
          3,
          2,
          2,
          1,
          1,
          2,
          2,
          2,
          3,
          1,
          2,
          2,
          2,
          2,
          2,
          2,
          2,
          2,
          2,
          1,
          2,
          3,
          2,
          2,
          1,
          2,
          2,
          1,
          1,
          2,
          2,
          4,
          4,
          1,
          2,
          2,
          1,
          1,
          2,
          1,
          1,
          2,
          1,
          1,
          2,
          2,
          1,
          2,
          3,
          1,
          4,
          1,
          2,
          2,
          1,
          1,
          1,
          2,
          2,
          2,
          2,
          2,
          1,
          2,
          3,
          2,
          3,
          3,
          3,
          3,
          3,
          1,
          2,
          2,
          2,
          3,
          1,
          2,
          1,
          2,
          1,
          1,
          2,
          1,
          1,
          1,
          2,
          3,
          2,
          1,
          2,
          1,
          2,
          2,
          2,
          1,
          3,
          2,
          3,
          2,
          1,
          2,
          2,
          1,
          1,
          2,
          3,
          1,
          1,
          2,
          1,
          2,
          2,
          2,
          1,
          2,
          2,
          3,
          2,
          1,
          3,
          2,
          2,
          1,
          1,
          2,
          2,
          2,
          2,
          3,
          3,
          3,
          3,
          2,
          3,
          3,
          1,
          2,
          3,
          2,
          1,
          1,
          1,
          1,
          2,
          3,
          2,
          2,
          2,
          2,
          1,
          2,
          1,
          3,
          3,
          2,
          1,
          1,
          2,
          2,
          2,
          2,
          2,
          1,
          2,
          3,
          2,
          3,
          2,
          2,
          2,
          2,
          2,
          3,
          1,
          3,
          2,
          1,
          3,
          2,
          3,
          2,
          2,
          2,
          1,
          2,
          3,
          3,
          2,
          2,
          2,
          1,
          1,
          2,
          2,
          2,
          3,
          1,
          2,
          2,
          2,
          1,
          1,
          4,
          3,
          1,
          1,
          1,
          1,
          2,
          1,
          2,
          1,
          2,
          1,
          2,
          1,
          1,
          2,
          4,
          1,
          3,
          2,
          2,
          1,
          2,
          2,
          1,
          2,
          2,
          3,
          2,
          3,
          3,
          2,
          3,
          2,
          1,
          1,
          1,
          2,
          1,
          1,
          1,
          1,
          2,
          1,
          2,
          4,
          2,
          2,
          2,
          1,
          2,
          1,
          3,
          1,
          5,
          2,
          2,
          1,
          3,
          1,
          2,
          2,
          2,
          2,
          3,
          2,
          1,
          2,
          2,
          3,
          2,
          2,
          1,
          2,
          1,
          3,
          3,
          3,
          1,
          3,
          2,
          2,
          2,
          3,
          1,
          1,
          2,
          2,
          3,
          2,
          1,
          2,
          2,
          2,
          3,
          2,
          2,
          2,
          1,
          2,
          1,
          2,
          1,
          2,
          1,
          2,
          2,
          1,
          1,
          2,
          3,
          1,
          1,
          1,
          3,
          2,
          5,
          3,
          1,
          2,
          3,
          3,
          3,
          1,
          1,
          3,
          3,
          2,
          2,
          2,
          2,
          2,
          2,
          2,
          1,
          2,
          3,
          3,
          2,
          2,
          1,
          3,
          2,
          1,
          2,
          2,
          2,
          3,
          1,
          3,
          1,
          2,
          2,
          1,
          1,
          2,
          3,
          3,
          3,
          1,
          1,
          2,
          1,
          2,
          1,
          2,
          5,
          2,
          5,
          3,
          1,
          2,
          2,
          2,
          2,
          1,
          2,
          1,
          2,
          1,
          1,
          1,
          1,
          1,
          2,
          1,
          1,
          3,
          1,
          2,
          3,
          4,
          3,
          2,
          4,
          1,
          1,
          2,
          2,
          1,
          2,
          4,
          4,
          4,
          2,
          2,
          2,
          2,
          2,
          2,
          3,
          3,
          1,
          2,
          2,
          2,
          3,
          2,
          3,
          1,
          3,
          3,
          2,
          3,
          2,
          2,
          2,
          2,
          2,
          2,
          3,
          3,
          2,
          2,
          1,
          3,
          1,
          3,
          2,
          2,
          2,
          2,
          3,
          2,
          1,
          3,
          1,
          2,
          1,
          1,
          1,
          2,
          2,
          2,
          1,
          1,
          1,
          1,
          1,
          2,
          1,
          1,
          1,
          1,
          4,
          2,
          1,
          1,
          3,
          1,
          2,
          4,
          1,
          4,
          2,
          3,
          2,
          3,
          2,
          3,
          3,
          3,
          2,
          1,
          1,
          2,
          2,
          1,
          2,
          2,
          1,
          1,
          2,
          1,
          1,
          1,
          2,
          1,
          3,
          2,
          2,
          1,
          2,
          3,
          1,
          2,
          2,
          1,
          3,
          1,
          1,
          2,
          1,
          2,
          1,
          2,
          2,
          1,
          3,
          2,
          2,
          3,
          2,
          2,
          2,
          3,
          2,
          3,
          1,
          2,
          2,
          1,
          2,
          2,
          1,
          1,
          1,
          2,
          4,
          2,
          3,
          1,
          3,
          3,
          2,
          1,
          2,
          2,
          2,
          4,
          4,
          1,
          2,
          2,
          1,
          1,
          3,
          3,
          3,
          1,
          2,
          2,
          4,
          2,
          1,
          2,
          3,
          1,
          3,
          1,
          2,
          2,
          2,
          1,
          2,
          2,
          2,
          2,
          2,
          2,
          2,
          2,
          1,
          3,
          3,
          2,
          2,
          4,
          4,
          1,
          2,
          2,
          2,
          2,
          3,
          2,
          2,
          2,
          2,
          4,
          2,
          1,
          2,
          3,
          3,
          2,
          1,
          2,
          2,
          2,
          1,
          2,
          2,
          2,
          1,
          1,
          2,
          1,
          4,
          1,
          1,
          2,
          2,
          2,
          3,
          3,
          2,
          1,
          2,
          2,
          1,
          3,
          3,
          2,
          2,
          2,
          2,
          2,
          3,
          2,
          1,
          2,
          1,
          2,
          2,
          4,
          1,
          2,
          2,
          1,
          2,
          3,
          3,
          2,
          2,
          1,
          2,
          1,
          1,
          2,
          2,
          2,
          3,
          1,
          2,
          2,
          1,
          2,
          2,
          3,
          2,
          3,
          2,
          2,
          3,
          3,
          2,
          2,
          2,
          3,
          2,
          1,
          2,
          2,
          1,
          2,
          3,
          2,
          1,
          2,
          3,
          3,
          2,
          3,
          1,
          4,
          2,
          2,
          1,
          1,
          1,
          2,
          1,
          2,
          2,
          3,
          2,
          1,
          2,
          2,
          2,
          2,
          2,
          3,
          2,
          2,
          2,
          2,
          2,
          2,
          3,
          1,
          2,
          2,
          1,
          1,
          1,
          1,
          2,
          1,
          2,
          1,
          3,
          2,
          1,
          6,
          1,
          2,
          3,
          1,
          2,
          1,
          3,
          3,
          2,
          2,
          2,
          2,
          2,
          1,
          2,
          2,
          2,
          1,
          3,
          3,
          2,
          2,
          2,
          1,
          2,
          2,
          2,
          2,
          3,
          4,
          2,
          1,
          2,
          2,
          1,
          1,
          2,
          1,
          2,
          1,
          2,
          2,
          3,
          2,
          2,
          3,
          2,
          1,
          2,
          2,
          1,
          3,
          2,
          2,
          3,
          3,
          3,
          3,
          2,
          1,
          2,
          3,
          1,
          2,
          1,
          4,
          1,
          3,
          1,
          2,
          3,
          3,
          2,
          3,
          2,
          1,
          2,
          1,
          1,
          2,
          3,
          2,
          1,
          1,
          1,
          2,
          2,
          1,
          1,
          2,
          2,
          3,
          3,
          1,
          2,
          1,
          1,
          3,
          2,
          3,
          2,
          3,
          2,
          3,
          1,
          1,
          3,
          2,
          2,
          3,
          2,
          3,
          4,
          2,
          2,
          2,
          2,
          2,
          1,
          1,
          2,
          1,
          2,
          2,
          2,
          3,
          2,
          3,
          2,
          2,
          1,
          1,
          3,
          3,
          2,
          3,
          2,
          1,
          6,
          1,
          1,
          1,
          1,
          2,
          2,
          3,
          2,
          2,
          3,
          3,
          2,
          1,
          3,
          1,
          3,
          1,
          2,
          3,
          2,
          1,
          2,
          2,
          3,
          4,
          2,
          1,
          2,
          1,
          2,
          1,
          2,
          1,
          2,
          2,
          3,
          2,
          1,
          2,
          1,
          1,
          1,
          2,
          2,
          2,
          1,
          1,
          1,
          2,
          2,
          1,
          2,
          3,
          1,
          2,
          1,
          1,
          3,
          2,
          1,
          2,
          3,
          2,
          4,
          2,
          2,
          1,
          2,
          1,
          3,
          2,
          3,
          1,
          2,
          2,
          2,
          3,
          2,
          3,
          1,
          3,
          2,
          1,
          3,
          3,
          2,
          3,
          2,
          2,
          2,
          2,
          2,
          3,
          2,
          3,
          2,
          1,
          2,
          3,
          4,
          3,
          1,
          2,
          1,
          2,
          2,
          1,
          1,
          3,
          3,
          2,
          2,
          3,
          3,
          2,
          3,
          3,
          2,
          3,
          2,
          2,
          1,
          3,
          3,
          1,
          2,
          2,
          2,
          2,
          2,
          2,
          2,
          2,
          2,
          1,
          3,
          1,
          1,
          2,
          3,
          2,
          2,
          1,
          3,
          2,
          1,
          1,
          2,
          3,
          2,
          3,
          2,
          1,
          2,
          1,
          2,
          3,
          2,
          2,
          1,
          2,
          3,
          3,
          2,
          2,
          2,
          3,
          2,
          2,
          2,
          3,
          2,
          1,
          2,
          2,
          2,
          2,
          2,
          2,
          2,
          2,
          3,
          2,
          3,
          1,
          4,
          2,
          1,
          2,
          1,
          2,
          2,
          2,
          2,
          1,
          2,
          2,
          3,
          2,
          1,
          1,
          2,
          1,
          1,
          1,
          2,
          2,
          2,
          1,
          2,
          2,
          1,
          3,
          2,
          2,
          2,
          2,
          3,
          3,
          1,
          2,
          1,
          2,
          2,
          2,
          1,
          2,
          3,
          2,
          1,
          2,
          3,
          2,
          2,
          1,
          2,
          2,
          1,
          2,
          2,
          2,
          3,
          1,
          3,
          1,
          2,
          3,
          1,
          3,
          1,
          1,
          1,
          1,
          2,
          2,
          2,
          2,
          2,
          2,
          4,
          1,
          1,
          3,
          2,
          1,
          1,
          1,
          1,
          1,
          1,
          2,
          2,
          1,
          4,
          3,
          1,
          1,
          2,
          1,
          1,
          1,
          1,
          2,
          4,
          2,
          1,
          2,
          1,
          2,
          2,
          1,
          3,
          2,
          1,
          1,
          2,
          2,
          1,
          2,
          2,
          1,
          2,
          2,
          3,
          1,
          4,
          2,
          1,
          3,
          2,
          2,
          1,
          1,
          3,
          3,
          1,
          3,
          1,
          1,
          2,
          1,
          2,
          2,
          1,
          2,
          3,
          4,
          2,
          2,
          4,
          2,
          2,
          3,
          1,
          1,
          2,
          2,
          1,
          3,
          2,
          2,
          3,
          2,
          1,
          4,
          1,
          1,
          1,
          2,
          1,
          2,
          2,
          1,
          3,
          4,
          3,
          2,
          1,
          3,
          2,
          2,
          1,
          2,
          3,
          2,
          1,
          1,
          2,
          1,
          2,
          2,
          1,
          2,
          2,
          1,
          1,
          2,
          1,
          4,
          2,
          1,
          2,
          2,
          1,
          2,
          2,
          1,
          1,
          1,
          1,
          1,
          1,
          1,
          1,
          1,
          1,
          1,
          2,
          3,
          3,
          2,
          3,
          3,
          2,
          1,
          2,
          3,
          3,
          1,
          2,
          4,
          2,
          2,
          2,
          2,
          2,
          2,
          3,
          1,
          2,
          1,
          2,
          1,
          1,
          1,
          1,
          1,
          2,
          2,
          2,
          1,
          2,
          1,
          2,
          1,
          2,
          1,
          2,
          2,
          2,
          1,
          2,
          1,
          3,
          3,
          3,
          3,
          3,
          4,
          3,
          1,
          1,
          1,
          2,
          2,
          2,
          4,
          2,
          2,
          2,
          2,
          2,
          1,
          1,
          1,
          3,
          1,
          3,
          1,
          1,
          3,
          2,
          2,
          3,
          1,
          2,
          1,
          2,
          1,
          2,
          2,
          3,
          2,
          2,
          1,
          2,
          2,
          3,
          1,
          1,
          4,
          2,
          3,
          1,
          3,
          3,
          3,
          3,
          2,
          2,
          1,
          1,
          2,
          2,
          1,
          2,
          2,
          1,
          1,
          4,
          1,
          2,
          2,
          2,
          2,
          1,
          3,
          1,
          4,
          2,
          4,
          1,
          2,
          2,
          2,
          1,
          2,
          1,
          4,
          2,
          2,
          2,
          2,
          1,
          3,
          1,
          2,
          4,
          3,
          1,
          1,
          3,
          2,
          1,
          1,
          2,
          2,
          3,
          1,
          2,
          2,
          1,
          1,
          1,
          4,
          2,
          2,
          1,
          3,
          2,
          2,
          2,
          2,
          2,
          1,
          3,
          1,
          1,
          2,
          1,
          2,
          1,
          1,
          2,
          1,
          1,
          2,
          2,
          2,
          2,
          2,
          1,
          1,
          3,
          3,
          2,
          1,
          1,
          1,
          1,
          2,
          1,
          2,
          2,
          1,
          1,
          1,
          2,
          1,
          3,
          2,
          2,
          3,
          2,
          1,
          1,
          3,
          2,
          3,
          2,
          3,
          2,
          2,
          1,
          3,
          3,
          2,
          1,
          2,
          2,
          2,
          1,
          1,
          2,
          2,
          2,
          3,
          3,
          2,
          3,
          1,
          2,
          1,
          1,
          1,
          4,
          3,
          1,
          1,
          1,
          2,
          1,
          2,
          4,
          2,
          1
         ],
         "xaxis": "x",
         "yaxis": "y"
        },
        {
         "alignmentgroup": "True",
         "bingroup": "x",
         "histnorm": "probability density",
         "hovertemplate": "=Nationalistische Texte<br>(Mittelwert = 2.47)<br>zeitebenen=%{x}<br>probability density=%{y}<extra></extra>",
         "legendgroup": "Nationalistische Texte<br>(Mittelwert = 2.47)",
         "marker": {
          "color": "#EF553B",
          "pattern": {
           "shape": ""
          }
         },
         "name": "Nationalistische Texte<br>(Mittelwert = 2.47)",
         "offsetgroup": "Nationalistische Texte<br>(Mittelwert = 2.47)",
         "orientation": "v",
         "showlegend": true,
         "type": "histogram",
         "x": [
          2,
          2,
          2,
          2,
          4,
          3,
          3,
          4,
          2,
          2,
          1,
          2,
          2,
          2,
          5,
          3,
          3,
          2,
          2,
          2,
          2,
          1,
          2,
          2,
          3,
          2,
          3,
          2,
          2,
          3,
          2,
          2,
          3,
          3,
          3,
          2,
          2,
          3,
          1,
          3,
          3,
          2,
          2,
          1,
          2,
          4,
          4,
          3,
          3,
          4,
          4,
          1,
          2,
          2,
          1,
          1,
          2,
          2,
          1,
          1,
          2,
          3,
          2,
          4,
          2,
          3,
          2,
          3,
          3,
          3,
          4,
          2,
          4,
          3,
          2,
          2,
          1,
          1,
          3,
          3,
          3,
          3,
          3,
          3,
          4,
          2,
          3,
          2,
          3,
          3,
          2,
          1,
          2,
          4,
          3,
          2,
          2,
          2,
          3,
          2,
          2,
          2,
          2,
          3,
          2,
          2,
          3,
          3,
          2,
          3,
          2,
          2,
          4,
          4,
          2,
          2,
          2,
          1,
          2,
          3,
          1,
          4,
          3,
          3,
          3,
          3,
          2,
          3,
          2,
          3,
          2,
          3,
          1,
          3,
          1,
          2,
          2,
          3,
          3,
          2,
          2,
          3,
          4,
          3,
          4,
          3,
          2,
          3,
          3,
          3,
          3,
          3,
          3,
          3,
          2,
          2,
          2,
          4,
          2,
          4,
          2,
          1,
          2,
          1,
          2,
          3,
          5,
          4,
          4,
          3,
          2,
          3,
          3,
          3,
          3,
          2,
          2,
          2,
          3,
          3,
          2,
          1,
          3,
          2,
          2,
          4,
          3,
          2,
          2,
          3,
          2,
          2,
          1,
          3,
          2,
          1,
          2,
          2,
          2,
          1,
          2,
          3,
          2,
          3,
          2,
          2,
          3,
          4,
          1,
          1,
          2,
          2,
          3,
          3,
          4,
          1,
          1,
          3,
          2,
          2,
          4,
          2,
          3,
          2,
          2,
          2,
          2,
          4,
          6,
          3,
          3,
          2,
          3,
          4,
          2,
          2,
          3,
          4,
          2,
          1,
          2,
          1,
          2,
          2,
          2,
          3,
          2,
          2,
          2,
          3,
          2,
          2,
          3
         ],
         "xaxis": "x",
         "yaxis": "y"
        }
       ],
       "layout": {
        "bargap": 0.1,
        "barmode": "group",
        "height": 300,
        "legend": {
         "font": {
          "size": 16
         },
         "title": {
          "text": ""
         },
         "tracegroupgap": 0,
         "x": 0.5,
         "y": 0.96
        },
        "margin": {
         "t": 60
        },
        "template": {
         "data": {
          "bar": [
           {
            "error_x": {
             "color": "#2a3f5f"
            },
            "error_y": {
             "color": "#2a3f5f"
            },
            "marker": {
             "line": {
              "color": "#E5ECF6",
              "width": 0.5
             },
             "pattern": {
              "fillmode": "overlay",
              "size": 10,
              "solidity": 0.2
             }
            },
            "type": "bar"
           }
          ],
          "barpolar": [
           {
            "marker": {
             "line": {
              "color": "#E5ECF6",
              "width": 0.5
             },
             "pattern": {
              "fillmode": "overlay",
              "size": 10,
              "solidity": 0.2
             }
            },
            "type": "barpolar"
           }
          ],
          "carpet": [
           {
            "aaxis": {
             "endlinecolor": "#2a3f5f",
             "gridcolor": "white",
             "linecolor": "white",
             "minorgridcolor": "white",
             "startlinecolor": "#2a3f5f"
            },
            "baxis": {
             "endlinecolor": "#2a3f5f",
             "gridcolor": "white",
             "linecolor": "white",
             "minorgridcolor": "white",
             "startlinecolor": "#2a3f5f"
            },
            "type": "carpet"
           }
          ],
          "choropleth": [
           {
            "colorbar": {
             "outlinewidth": 0,
             "ticks": ""
            },
            "type": "choropleth"
           }
          ],
          "contour": [
           {
            "colorbar": {
             "outlinewidth": 0,
             "ticks": ""
            },
            "colorscale": [
             [
              0,
              "#0d0887"
             ],
             [
              0.1111111111111111,
              "#46039f"
             ],
             [
              0.2222222222222222,
              "#7201a8"
             ],
             [
              0.3333333333333333,
              "#9c179e"
             ],
             [
              0.4444444444444444,
              "#bd3786"
             ],
             [
              0.5555555555555556,
              "#d8576b"
             ],
             [
              0.6666666666666666,
              "#ed7953"
             ],
             [
              0.7777777777777778,
              "#fb9f3a"
             ],
             [
              0.8888888888888888,
              "#fdca26"
             ],
             [
              1,
              "#f0f921"
             ]
            ],
            "type": "contour"
           }
          ],
          "contourcarpet": [
           {
            "colorbar": {
             "outlinewidth": 0,
             "ticks": ""
            },
            "type": "contourcarpet"
           }
          ],
          "heatmap": [
           {
            "colorbar": {
             "outlinewidth": 0,
             "ticks": ""
            },
            "colorscale": [
             [
              0,
              "#0d0887"
             ],
             [
              0.1111111111111111,
              "#46039f"
             ],
             [
              0.2222222222222222,
              "#7201a8"
             ],
             [
              0.3333333333333333,
              "#9c179e"
             ],
             [
              0.4444444444444444,
              "#bd3786"
             ],
             [
              0.5555555555555556,
              "#d8576b"
             ],
             [
              0.6666666666666666,
              "#ed7953"
             ],
             [
              0.7777777777777778,
              "#fb9f3a"
             ],
             [
              0.8888888888888888,
              "#fdca26"
             ],
             [
              1,
              "#f0f921"
             ]
            ],
            "type": "heatmap"
           }
          ],
          "heatmapgl": [
           {
            "colorbar": {
             "outlinewidth": 0,
             "ticks": ""
            },
            "colorscale": [
             [
              0,
              "#0d0887"
             ],
             [
              0.1111111111111111,
              "#46039f"
             ],
             [
              0.2222222222222222,
              "#7201a8"
             ],
             [
              0.3333333333333333,
              "#9c179e"
             ],
             [
              0.4444444444444444,
              "#bd3786"
             ],
             [
              0.5555555555555556,
              "#d8576b"
             ],
             [
              0.6666666666666666,
              "#ed7953"
             ],
             [
              0.7777777777777778,
              "#fb9f3a"
             ],
             [
              0.8888888888888888,
              "#fdca26"
             ],
             [
              1,
              "#f0f921"
             ]
            ],
            "type": "heatmapgl"
           }
          ],
          "histogram": [
           {
            "marker": {
             "pattern": {
              "fillmode": "overlay",
              "size": 10,
              "solidity": 0.2
             }
            },
            "type": "histogram"
           }
          ],
          "histogram2d": [
           {
            "colorbar": {
             "outlinewidth": 0,
             "ticks": ""
            },
            "colorscale": [
             [
              0,
              "#0d0887"
             ],
             [
              0.1111111111111111,
              "#46039f"
             ],
             [
              0.2222222222222222,
              "#7201a8"
             ],
             [
              0.3333333333333333,
              "#9c179e"
             ],
             [
              0.4444444444444444,
              "#bd3786"
             ],
             [
              0.5555555555555556,
              "#d8576b"
             ],
             [
              0.6666666666666666,
              "#ed7953"
             ],
             [
              0.7777777777777778,
              "#fb9f3a"
             ],
             [
              0.8888888888888888,
              "#fdca26"
             ],
             [
              1,
              "#f0f921"
             ]
            ],
            "type": "histogram2d"
           }
          ],
          "histogram2dcontour": [
           {
            "colorbar": {
             "outlinewidth": 0,
             "ticks": ""
            },
            "colorscale": [
             [
              0,
              "#0d0887"
             ],
             [
              0.1111111111111111,
              "#46039f"
             ],
             [
              0.2222222222222222,
              "#7201a8"
             ],
             [
              0.3333333333333333,
              "#9c179e"
             ],
             [
              0.4444444444444444,
              "#bd3786"
             ],
             [
              0.5555555555555556,
              "#d8576b"
             ],
             [
              0.6666666666666666,
              "#ed7953"
             ],
             [
              0.7777777777777778,
              "#fb9f3a"
             ],
             [
              0.8888888888888888,
              "#fdca26"
             ],
             [
              1,
              "#f0f921"
             ]
            ],
            "type": "histogram2dcontour"
           }
          ],
          "mesh3d": [
           {
            "colorbar": {
             "outlinewidth": 0,
             "ticks": ""
            },
            "type": "mesh3d"
           }
          ],
          "parcoords": [
           {
            "line": {
             "colorbar": {
              "outlinewidth": 0,
              "ticks": ""
             }
            },
            "type": "parcoords"
           }
          ],
          "pie": [
           {
            "automargin": true,
            "type": "pie"
           }
          ],
          "scatter": [
           {
            "fillpattern": {
             "fillmode": "overlay",
             "size": 10,
             "solidity": 0.2
            },
            "type": "scatter"
           }
          ],
          "scatter3d": [
           {
            "line": {
             "colorbar": {
              "outlinewidth": 0,
              "ticks": ""
             }
            },
            "marker": {
             "colorbar": {
              "outlinewidth": 0,
              "ticks": ""
             }
            },
            "type": "scatter3d"
           }
          ],
          "scattercarpet": [
           {
            "marker": {
             "colorbar": {
              "outlinewidth": 0,
              "ticks": ""
             }
            },
            "type": "scattercarpet"
           }
          ],
          "scattergeo": [
           {
            "marker": {
             "colorbar": {
              "outlinewidth": 0,
              "ticks": ""
             }
            },
            "type": "scattergeo"
           }
          ],
          "scattergl": [
           {
            "marker": {
             "colorbar": {
              "outlinewidth": 0,
              "ticks": ""
             }
            },
            "type": "scattergl"
           }
          ],
          "scattermapbox": [
           {
            "marker": {
             "colorbar": {
              "outlinewidth": 0,
              "ticks": ""
             }
            },
            "type": "scattermapbox"
           }
          ],
          "scatterpolar": [
           {
            "marker": {
             "colorbar": {
              "outlinewidth": 0,
              "ticks": ""
             }
            },
            "type": "scatterpolar"
           }
          ],
          "scatterpolargl": [
           {
            "marker": {
             "colorbar": {
              "outlinewidth": 0,
              "ticks": ""
             }
            },
            "type": "scatterpolargl"
           }
          ],
          "scatterternary": [
           {
            "marker": {
             "colorbar": {
              "outlinewidth": 0,
              "ticks": ""
             }
            },
            "type": "scatterternary"
           }
          ],
          "surface": [
           {
            "colorbar": {
             "outlinewidth": 0,
             "ticks": ""
            },
            "colorscale": [
             [
              0,
              "#0d0887"
             ],
             [
              0.1111111111111111,
              "#46039f"
             ],
             [
              0.2222222222222222,
              "#7201a8"
             ],
             [
              0.3333333333333333,
              "#9c179e"
             ],
             [
              0.4444444444444444,
              "#bd3786"
             ],
             [
              0.5555555555555556,
              "#d8576b"
             ],
             [
              0.6666666666666666,
              "#ed7953"
             ],
             [
              0.7777777777777778,
              "#fb9f3a"
             ],
             [
              0.8888888888888888,
              "#fdca26"
             ],
             [
              1,
              "#f0f921"
             ]
            ],
            "type": "surface"
           }
          ],
          "table": [
           {
            "cells": {
             "fill": {
              "color": "#EBF0F8"
             },
             "line": {
              "color": "white"
             }
            },
            "header": {
             "fill": {
              "color": "#C8D4E3"
             },
             "line": {
              "color": "white"
             }
            },
            "type": "table"
           }
          ]
         },
         "layout": {
          "annotationdefaults": {
           "arrowcolor": "#2a3f5f",
           "arrowhead": 0,
           "arrowwidth": 1
          },
          "autotypenumbers": "strict",
          "coloraxis": {
           "colorbar": {
            "outlinewidth": 0,
            "ticks": ""
           }
          },
          "colorscale": {
           "diverging": [
            [
             0,
             "#8e0152"
            ],
            [
             0.1,
             "#c51b7d"
            ],
            [
             0.2,
             "#de77ae"
            ],
            [
             0.3,
             "#f1b6da"
            ],
            [
             0.4,
             "#fde0ef"
            ],
            [
             0.5,
             "#f7f7f7"
            ],
            [
             0.6,
             "#e6f5d0"
            ],
            [
             0.7,
             "#b8e186"
            ],
            [
             0.8,
             "#7fbc41"
            ],
            [
             0.9,
             "#4d9221"
            ],
            [
             1,
             "#276419"
            ]
           ],
           "sequential": [
            [
             0,
             "#0d0887"
            ],
            [
             0.1111111111111111,
             "#46039f"
            ],
            [
             0.2222222222222222,
             "#7201a8"
            ],
            [
             0.3333333333333333,
             "#9c179e"
            ],
            [
             0.4444444444444444,
             "#bd3786"
            ],
            [
             0.5555555555555556,
             "#d8576b"
            ],
            [
             0.6666666666666666,
             "#ed7953"
            ],
            [
             0.7777777777777778,
             "#fb9f3a"
            ],
            [
             0.8888888888888888,
             "#fdca26"
            ],
            [
             1,
             "#f0f921"
            ]
           ],
           "sequentialminus": [
            [
             0,
             "#0d0887"
            ],
            [
             0.1111111111111111,
             "#46039f"
            ],
            [
             0.2222222222222222,
             "#7201a8"
            ],
            [
             0.3333333333333333,
             "#9c179e"
            ],
            [
             0.4444444444444444,
             "#bd3786"
            ],
            [
             0.5555555555555556,
             "#d8576b"
            ],
            [
             0.6666666666666666,
             "#ed7953"
            ],
            [
             0.7777777777777778,
             "#fb9f3a"
            ],
            [
             0.8888888888888888,
             "#fdca26"
            ],
            [
             1,
             "#f0f921"
            ]
           ]
          },
          "colorway": [
           "#636efa",
           "#EF553B",
           "#00cc96",
           "#ab63fa",
           "#FFA15A",
           "#19d3f3",
           "#FF6692",
           "#B6E880",
           "#FF97FF",
           "#FECB52"
          ],
          "font": {
           "color": "#2a3f5f"
          },
          "geo": {
           "bgcolor": "white",
           "lakecolor": "white",
           "landcolor": "#E5ECF6",
           "showlakes": true,
           "showland": true,
           "subunitcolor": "white"
          },
          "hoverlabel": {
           "align": "left"
          },
          "hovermode": "closest",
          "mapbox": {
           "style": "light"
          },
          "paper_bgcolor": "white",
          "plot_bgcolor": "#E5ECF6",
          "polar": {
           "angularaxis": {
            "gridcolor": "white",
            "linecolor": "white",
            "ticks": ""
           },
           "bgcolor": "#E5ECF6",
           "radialaxis": {
            "gridcolor": "white",
            "linecolor": "white",
            "ticks": ""
           }
          },
          "scene": {
           "xaxis": {
            "backgroundcolor": "#E5ECF6",
            "gridcolor": "white",
            "gridwidth": 2,
            "linecolor": "white",
            "showbackground": true,
            "ticks": "",
            "zerolinecolor": "white"
           },
           "yaxis": {
            "backgroundcolor": "#E5ECF6",
            "gridcolor": "white",
            "gridwidth": 2,
            "linecolor": "white",
            "showbackground": true,
            "ticks": "",
            "zerolinecolor": "white"
           },
           "zaxis": {
            "backgroundcolor": "#E5ECF6",
            "gridcolor": "white",
            "gridwidth": 2,
            "linecolor": "white",
            "showbackground": true,
            "ticks": "",
            "zerolinecolor": "white"
           }
          },
          "shapedefaults": {
           "line": {
            "color": "#2a3f5f"
           }
          },
          "ternary": {
           "aaxis": {
            "gridcolor": "white",
            "linecolor": "white",
            "ticks": ""
           },
           "baxis": {
            "gridcolor": "white",
            "linecolor": "white",
            "ticks": ""
           },
           "bgcolor": "#E5ECF6",
           "caxis": {
            "gridcolor": "white",
            "linecolor": "white",
            "ticks": ""
           }
          },
          "title": {
           "x": 0.05
          },
          "xaxis": {
           "automargin": true,
           "gridcolor": "white",
           "linecolor": "white",
           "ticks": "",
           "title": {
            "standoff": 15
           },
           "zerolinecolor": "white",
           "zerolinewidth": 2
          },
          "yaxis": {
           "automargin": true,
           "gridcolor": "white",
           "linecolor": "white",
           "ticks": "",
           "title": {
            "standoff": 15
           },
           "zerolinecolor": "white",
           "zerolinewidth": 2
          }
         }
        },
        "width": 700,
        "xaxis": {
         "anchor": "y",
         "autorange": true,
         "domain": [
          0,
          1
         ],
         "range": [
          0.5,
          6.5
         ],
         "tickfont": {
          "size": 16
         },
         "title": {
          "font": {
           "size": 16
          },
          "text": "zeitebenen"
         },
         "type": "linear"
        },
        "yaxis": {
         "anchor": "x",
         "autorange": true,
         "domain": [
          0,
          1
         ],
         "range": [
          0,
          0.4890749101934548
         ],
         "tickfont": {
          "size": 16
         },
         "title": {
          "font": {
           "size": 16
          },
          "text": "Anteil"
         }
        }
       }
      },
      "text/html": [
       "<div>                            <div id=\"fce8508a-7e32-495f-9a64-3ac44ee8f003\" class=\"plotly-graph-div\" style=\"height:300px; width:700px;\"></div>            <script type=\"text/javascript\">                require([\"plotly\"], function(Plotly) {                    window.PLOTLYENV=window.PLOTLYENV || {};                                    if (document.getElementById(\"fce8508a-7e32-495f-9a64-3ac44ee8f003\")) {                    Plotly.newPlot(                        \"fce8508a-7e32-495f-9a64-3ac44ee8f003\",                        [{\"alignmentgroup\":\"True\",\"bingroup\":\"x\",\"histnorm\":\"probability density\",\"hovertemplate\":\"=Nicht nationalistische Texte\\u003cbr\\u003e(Mittelwert = 1.95)\\u003cbr\\u003ezeitebenen=%{x}\\u003cbr\\u003eprobability density=%{y}\\u003cextra\\u003e\\u003c\\u002fextra\\u003e\",\"legendgroup\":\"Nicht nationalistische Texte\\u003cbr\\u003e(Mittelwert = 1.95)\",\"marker\":{\"color\":\"#636efa\",\"pattern\":{\"shape\":\"\"}},\"name\":\"Nicht nationalistische Texte\\u003cbr\\u003e(Mittelwert = 1.95)\",\"offsetgroup\":\"Nicht nationalistische Texte\\u003cbr\\u003e(Mittelwert = 1.95)\",\"orientation\":\"v\",\"showlegend\":true,\"x\":[3.0,2.0,3.0,3.0,2.0,2.0,2.0,3.0,1.0,4.0,3.0,2.0,2.0,3.0,1.0,3.0,3.0,2.0,2.0,2.0,1.0,1.0,1.0,2.0,1.0,2.0,1.0,1.0,2.0,2.0,1.0,1.0,2.0,3.0,3.0,3.0,1.0,1.0,2.0,1.0,2.0,1.0,2.0,2.0,3.0,2.0,2.0,2.0,1.0,2.0,2.0,2.0,1.0,1.0,3.0,2.0,4.0,1.0,3.0,2.0,1.0,1.0,2.0,2.0,3.0,1.0,3.0,2.0,4.0,2.0,2.0,2.0,2.0,3.0,2.0,2.0,1.0,1.0,2.0,2.0,2.0,3.0,1.0,2.0,2.0,2.0,2.0,2.0,2.0,2.0,2.0,2.0,1.0,2.0,3.0,2.0,2.0,1.0,2.0,2.0,1.0,1.0,2.0,2.0,4.0,4.0,1.0,2.0,2.0,1.0,1.0,2.0,1.0,1.0,2.0,1.0,1.0,2.0,2.0,1.0,2.0,3.0,1.0,4.0,1.0,2.0,2.0,1.0,1.0,1.0,2.0,2.0,2.0,2.0,2.0,1.0,2.0,3.0,2.0,3.0,3.0,3.0,3.0,3.0,1.0,2.0,2.0,2.0,3.0,1.0,2.0,1.0,2.0,1.0,1.0,2.0,1.0,1.0,1.0,2.0,3.0,2.0,1.0,2.0,1.0,2.0,2.0,2.0,1.0,3.0,2.0,3.0,2.0,1.0,2.0,2.0,1.0,1.0,2.0,3.0,1.0,1.0,2.0,1.0,2.0,2.0,2.0,1.0,2.0,2.0,3.0,2.0,1.0,3.0,2.0,2.0,1.0,1.0,2.0,2.0,2.0,2.0,3.0,3.0,3.0,3.0,2.0,3.0,3.0,1.0,2.0,3.0,2.0,1.0,1.0,1.0,1.0,2.0,3.0,2.0,2.0,2.0,2.0,1.0,2.0,1.0,3.0,3.0,2.0,1.0,1.0,2.0,2.0,2.0,2.0,2.0,1.0,2.0,3.0,2.0,3.0,2.0,2.0,2.0,2.0,2.0,3.0,1.0,3.0,2.0,1.0,3.0,2.0,3.0,2.0,2.0,2.0,1.0,2.0,3.0,3.0,2.0,2.0,2.0,1.0,1.0,2.0,2.0,2.0,3.0,1.0,2.0,2.0,2.0,1.0,1.0,4.0,3.0,1.0,1.0,1.0,1.0,2.0,1.0,2.0,1.0,2.0,1.0,2.0,1.0,1.0,2.0,4.0,1.0,3.0,2.0,2.0,1.0,2.0,2.0,1.0,2.0,2.0,3.0,2.0,3.0,3.0,2.0,3.0,2.0,1.0,1.0,1.0,2.0,1.0,1.0,1.0,1.0,2.0,1.0,2.0,4.0,2.0,2.0,2.0,1.0,2.0,1.0,3.0,1.0,5.0,2.0,2.0,1.0,3.0,1.0,2.0,2.0,2.0,2.0,3.0,2.0,1.0,2.0,2.0,3.0,2.0,2.0,1.0,2.0,1.0,3.0,3.0,3.0,1.0,3.0,2.0,2.0,2.0,3.0,1.0,1.0,2.0,2.0,3.0,2.0,1.0,2.0,2.0,2.0,3.0,2.0,2.0,2.0,1.0,2.0,1.0,2.0,1.0,2.0,1.0,2.0,2.0,1.0,1.0,2.0,3.0,1.0,1.0,1.0,3.0,2.0,5.0,3.0,1.0,2.0,3.0,3.0,3.0,1.0,1.0,3.0,3.0,2.0,2.0,2.0,2.0,2.0,2.0,2.0,1.0,2.0,3.0,3.0,2.0,2.0,1.0,3.0,2.0,1.0,2.0,2.0,2.0,3.0,1.0,3.0,1.0,2.0,2.0,1.0,1.0,2.0,3.0,3.0,3.0,1.0,1.0,2.0,1.0,2.0,1.0,2.0,5.0,2.0,5.0,3.0,1.0,2.0,2.0,2.0,2.0,1.0,2.0,1.0,2.0,1.0,1.0,1.0,1.0,1.0,2.0,1.0,1.0,3.0,1.0,2.0,3.0,4.0,3.0,2.0,4.0,1.0,1.0,2.0,2.0,1.0,2.0,4.0,4.0,4.0,2.0,2.0,2.0,2.0,2.0,2.0,3.0,3.0,1.0,2.0,2.0,2.0,3.0,2.0,3.0,1.0,3.0,3.0,2.0,3.0,2.0,2.0,2.0,2.0,2.0,2.0,3.0,3.0,2.0,2.0,1.0,3.0,1.0,3.0,2.0,2.0,2.0,2.0,3.0,2.0,1.0,3.0,1.0,2.0,1.0,1.0,1.0,2.0,2.0,2.0,1.0,1.0,1.0,1.0,1.0,2.0,1.0,1.0,1.0,1.0,4.0,2.0,1.0,1.0,3.0,1.0,2.0,4.0,1.0,4.0,2.0,3.0,2.0,3.0,2.0,3.0,3.0,3.0,2.0,1.0,1.0,2.0,2.0,1.0,2.0,2.0,1.0,1.0,2.0,1.0,1.0,1.0,2.0,1.0,3.0,2.0,2.0,1.0,2.0,3.0,1.0,2.0,2.0,1.0,3.0,1.0,1.0,2.0,1.0,2.0,1.0,2.0,2.0,1.0,3.0,2.0,2.0,3.0,2.0,2.0,2.0,3.0,2.0,3.0,1.0,2.0,2.0,1.0,2.0,2.0,1.0,1.0,1.0,2.0,4.0,2.0,3.0,1.0,3.0,3.0,2.0,1.0,2.0,2.0,2.0,4.0,4.0,1.0,2.0,2.0,1.0,1.0,3.0,3.0,3.0,1.0,2.0,2.0,4.0,2.0,1.0,2.0,3.0,1.0,3.0,1.0,2.0,2.0,2.0,1.0,2.0,2.0,2.0,2.0,2.0,2.0,2.0,2.0,1.0,3.0,3.0,2.0,2.0,4.0,4.0,1.0,2.0,2.0,2.0,2.0,3.0,2.0,2.0,2.0,2.0,4.0,2.0,1.0,2.0,3.0,3.0,2.0,1.0,2.0,2.0,2.0,1.0,2.0,2.0,2.0,1.0,1.0,2.0,1.0,4.0,1.0,1.0,2.0,2.0,2.0,3.0,3.0,2.0,1.0,2.0,2.0,1.0,3.0,3.0,2.0,2.0,2.0,2.0,2.0,3.0,2.0,1.0,2.0,1.0,2.0,2.0,4.0,1.0,2.0,2.0,1.0,2.0,3.0,3.0,2.0,2.0,1.0,2.0,1.0,1.0,2.0,2.0,2.0,3.0,1.0,2.0,2.0,1.0,2.0,2.0,3.0,2.0,3.0,2.0,2.0,3.0,3.0,2.0,2.0,2.0,3.0,2.0,1.0,2.0,2.0,1.0,2.0,3.0,2.0,1.0,2.0,3.0,3.0,2.0,3.0,1.0,4.0,2.0,2.0,1.0,1.0,1.0,2.0,1.0,2.0,2.0,3.0,2.0,1.0,2.0,2.0,2.0,2.0,2.0,3.0,2.0,2.0,2.0,2.0,2.0,2.0,3.0,1.0,2.0,2.0,1.0,1.0,1.0,1.0,2.0,1.0,2.0,1.0,3.0,2.0,1.0,6.0,1.0,2.0,3.0,1.0,2.0,1.0,3.0,3.0,2.0,2.0,2.0,2.0,2.0,1.0,2.0,2.0,2.0,1.0,3.0,3.0,2.0,2.0,2.0,1.0,2.0,2.0,2.0,2.0,3.0,4.0,2.0,1.0,2.0,2.0,1.0,1.0,2.0,1.0,2.0,1.0,2.0,2.0,3.0,2.0,2.0,3.0,2.0,1.0,2.0,2.0,1.0,3.0,2.0,2.0,3.0,3.0,3.0,3.0,2.0,1.0,2.0,3.0,1.0,2.0,1.0,4.0,1.0,3.0,1.0,2.0,3.0,3.0,2.0,3.0,2.0,1.0,2.0,1.0,1.0,2.0,3.0,2.0,1.0,1.0,1.0,2.0,2.0,1.0,1.0,2.0,2.0,3.0,3.0,1.0,2.0,1.0,1.0,3.0,2.0,3.0,2.0,3.0,2.0,3.0,1.0,1.0,3.0,2.0,2.0,3.0,2.0,3.0,4.0,2.0,2.0,2.0,2.0,2.0,1.0,1.0,2.0,1.0,2.0,2.0,2.0,3.0,2.0,3.0,2.0,2.0,1.0,1.0,3.0,3.0,2.0,3.0,2.0,1.0,6.0,1.0,1.0,1.0,1.0,2.0,2.0,3.0,2.0,2.0,3.0,3.0,2.0,1.0,3.0,1.0,3.0,1.0,2.0,3.0,2.0,1.0,2.0,2.0,3.0,4.0,2.0,1.0,2.0,1.0,2.0,1.0,2.0,1.0,2.0,2.0,3.0,2.0,1.0,2.0,1.0,1.0,1.0,2.0,2.0,2.0,1.0,1.0,1.0,2.0,2.0,1.0,2.0,3.0,1.0,2.0,1.0,1.0,3.0,2.0,1.0,2.0,3.0,2.0,4.0,2.0,2.0,1.0,2.0,1.0,3.0,2.0,3.0,1.0,2.0,2.0,2.0,3.0,2.0,3.0,1.0,3.0,2.0,1.0,3.0,3.0,2.0,3.0,2.0,2.0,2.0,2.0,2.0,3.0,2.0,3.0,2.0,1.0,2.0,3.0,4.0,3.0,1.0,2.0,1.0,2.0,2.0,1.0,1.0,3.0,3.0,2.0,2.0,3.0,3.0,2.0,3.0,3.0,2.0,3.0,2.0,2.0,1.0,3.0,3.0,1.0,2.0,2.0,2.0,2.0,2.0,2.0,2.0,2.0,2.0,1.0,3.0,1.0,1.0,2.0,3.0,2.0,2.0,1.0,3.0,2.0,1.0,1.0,2.0,3.0,2.0,3.0,2.0,1.0,2.0,1.0,2.0,3.0,2.0,2.0,1.0,2.0,3.0,3.0,2.0,2.0,2.0,3.0,2.0,2.0,2.0,3.0,2.0,1.0,2.0,2.0,2.0,2.0,2.0,2.0,2.0,2.0,3.0,2.0,3.0,1.0,4.0,2.0,1.0,2.0,1.0,2.0,2.0,2.0,2.0,1.0,2.0,2.0,3.0,2.0,1.0,1.0,2.0,1.0,1.0,1.0,2.0,2.0,2.0,1.0,2.0,2.0,1.0,3.0,2.0,2.0,2.0,2.0,3.0,3.0,1.0,2.0,1.0,2.0,2.0,2.0,1.0,2.0,3.0,2.0,1.0,2.0,3.0,2.0,2.0,1.0,2.0,2.0,1.0,2.0,2.0,2.0,3.0,1.0,3.0,1.0,2.0,3.0,1.0,3.0,1.0,1.0,1.0,1.0,2.0,2.0,2.0,2.0,2.0,2.0,4.0,1.0,1.0,3.0,2.0,1.0,1.0,1.0,1.0,1.0,1.0,2.0,2.0,1.0,4.0,3.0,1.0,1.0,2.0,1.0,1.0,1.0,1.0,2.0,4.0,2.0,1.0,2.0,1.0,2.0,2.0,1.0,3.0,2.0,1.0,1.0,2.0,2.0,1.0,2.0,2.0,1.0,2.0,2.0,3.0,1.0,4.0,2.0,1.0,3.0,2.0,2.0,1.0,1.0,3.0,3.0,1.0,3.0,1.0,1.0,2.0,1.0,2.0,2.0,1.0,2.0,3.0,4.0,2.0,2.0,4.0,2.0,2.0,3.0,1.0,1.0,2.0,2.0,1.0,3.0,2.0,2.0,3.0,2.0,1.0,4.0,1.0,1.0,1.0,2.0,1.0,2.0,2.0,1.0,3.0,4.0,3.0,2.0,1.0,3.0,2.0,2.0,1.0,2.0,3.0,2.0,1.0,1.0,2.0,1.0,2.0,2.0,1.0,2.0,2.0,1.0,1.0,2.0,1.0,4.0,2.0,1.0,2.0,2.0,1.0,2.0,2.0,1.0,1.0,1.0,1.0,1.0,1.0,1.0,1.0,1.0,1.0,1.0,2.0,3.0,3.0,2.0,3.0,3.0,2.0,1.0,2.0,3.0,3.0,1.0,2.0,4.0,2.0,2.0,2.0,2.0,2.0,2.0,3.0,1.0,2.0,1.0,2.0,1.0,1.0,1.0,1.0,1.0,2.0,2.0,2.0,1.0,2.0,1.0,2.0,1.0,2.0,1.0,2.0,2.0,2.0,1.0,2.0,1.0,3.0,3.0,3.0,3.0,3.0,4.0,3.0,1.0,1.0,1.0,2.0,2.0,2.0,4.0,2.0,2.0,2.0,2.0,2.0,1.0,1.0,1.0,3.0,1.0,3.0,1.0,1.0,3.0,2.0,2.0,3.0,1.0,2.0,1.0,2.0,1.0,2.0,2.0,3.0,2.0,2.0,1.0,2.0,2.0,3.0,1.0,1.0,4.0,2.0,3.0,1.0,3.0,3.0,3.0,3.0,2.0,2.0,1.0,1.0,2.0,2.0,1.0,2.0,2.0,1.0,1.0,4.0,1.0,2.0,2.0,2.0,2.0,1.0,3.0,1.0,4.0,2.0,4.0,1.0,2.0,2.0,2.0,1.0,2.0,1.0,4.0,2.0,2.0,2.0,2.0,1.0,3.0,1.0,2.0,4.0,3.0,1.0,1.0,3.0,2.0,1.0,1.0,2.0,2.0,3.0,1.0,2.0,2.0,1.0,1.0,1.0,4.0,2.0,2.0,1.0,3.0,2.0,2.0,2.0,2.0,2.0,1.0,3.0,1.0,1.0,2.0,1.0,2.0,1.0,1.0,2.0,1.0,1.0,2.0,2.0,2.0,2.0,2.0,1.0,1.0,3.0,3.0,2.0,1.0,1.0,1.0,1.0,2.0,1.0,2.0,2.0,1.0,1.0,1.0,2.0,1.0,3.0,2.0,2.0,3.0,2.0,1.0,1.0,3.0,2.0,3.0,2.0,3.0,2.0,2.0,1.0,3.0,3.0,2.0,1.0,2.0,2.0,2.0,1.0,1.0,2.0,2.0,2.0,3.0,3.0,2.0,3.0,1.0,2.0,1.0,1.0,1.0,4.0,3.0,1.0,1.0,1.0,2.0,1.0,2.0,4.0,2.0,1.0],\"xaxis\":\"x\",\"yaxis\":\"y\",\"type\":\"histogram\"},{\"alignmentgroup\":\"True\",\"bingroup\":\"x\",\"histnorm\":\"probability density\",\"hovertemplate\":\"=Nationalistische Texte\\u003cbr\\u003e(Mittelwert = 2.47)\\u003cbr\\u003ezeitebenen=%{x}\\u003cbr\\u003eprobability density=%{y}\\u003cextra\\u003e\\u003c\\u002fextra\\u003e\",\"legendgroup\":\"Nationalistische Texte\\u003cbr\\u003e(Mittelwert = 2.47)\",\"marker\":{\"color\":\"#EF553B\",\"pattern\":{\"shape\":\"\"}},\"name\":\"Nationalistische Texte\\u003cbr\\u003e(Mittelwert = 2.47)\",\"offsetgroup\":\"Nationalistische Texte\\u003cbr\\u003e(Mittelwert = 2.47)\",\"orientation\":\"v\",\"showlegend\":true,\"x\":[2.0,2.0,2.0,2.0,4.0,3.0,3.0,4.0,2.0,2.0,1.0,2.0,2.0,2.0,5.0,3.0,3.0,2.0,2.0,2.0,2.0,1.0,2.0,2.0,3.0,2.0,3.0,2.0,2.0,3.0,2.0,2.0,3.0,3.0,3.0,2.0,2.0,3.0,1.0,3.0,3.0,2.0,2.0,1.0,2.0,4.0,4.0,3.0,3.0,4.0,4.0,1.0,2.0,2.0,1.0,1.0,2.0,2.0,1.0,1.0,2.0,3.0,2.0,4.0,2.0,3.0,2.0,3.0,3.0,3.0,4.0,2.0,4.0,3.0,2.0,2.0,1.0,1.0,3.0,3.0,3.0,3.0,3.0,3.0,4.0,2.0,3.0,2.0,3.0,3.0,2.0,1.0,2.0,4.0,3.0,2.0,2.0,2.0,3.0,2.0,2.0,2.0,2.0,3.0,2.0,2.0,3.0,3.0,2.0,3.0,2.0,2.0,4.0,4.0,2.0,2.0,2.0,1.0,2.0,3.0,1.0,4.0,3.0,3.0,3.0,3.0,2.0,3.0,2.0,3.0,2.0,3.0,1.0,3.0,1.0,2.0,2.0,3.0,3.0,2.0,2.0,3.0,4.0,3.0,4.0,3.0,2.0,3.0,3.0,3.0,3.0,3.0,3.0,3.0,2.0,2.0,2.0,4.0,2.0,4.0,2.0,1.0,2.0,1.0,2.0,3.0,5.0,4.0,4.0,3.0,2.0,3.0,3.0,3.0,3.0,2.0,2.0,2.0,3.0,3.0,2.0,1.0,3.0,2.0,2.0,4.0,3.0,2.0,2.0,3.0,2.0,2.0,1.0,3.0,2.0,1.0,2.0,2.0,2.0,1.0,2.0,3.0,2.0,3.0,2.0,2.0,3.0,4.0,1.0,1.0,2.0,2.0,3.0,3.0,4.0,1.0,1.0,3.0,2.0,2.0,4.0,2.0,3.0,2.0,2.0,2.0,2.0,4.0,6.0,3.0,3.0,2.0,3.0,4.0,2.0,2.0,3.0,4.0,2.0,1.0,2.0,1.0,2.0,2.0,2.0,3.0,2.0,2.0,2.0,3.0,2.0,2.0,3.0],\"xaxis\":\"x\",\"yaxis\":\"y\",\"type\":\"histogram\"}],                        {\"template\":{\"data\":{\"histogram2dcontour\":[{\"type\":\"histogram2dcontour\",\"colorbar\":{\"outlinewidth\":0,\"ticks\":\"\"},\"colorscale\":[[0.0,\"#0d0887\"],[0.1111111111111111,\"#46039f\"],[0.2222222222222222,\"#7201a8\"],[0.3333333333333333,\"#9c179e\"],[0.4444444444444444,\"#bd3786\"],[0.5555555555555556,\"#d8576b\"],[0.6666666666666666,\"#ed7953\"],[0.7777777777777778,\"#fb9f3a\"],[0.8888888888888888,\"#fdca26\"],[1.0,\"#f0f921\"]]}],\"choropleth\":[{\"type\":\"choropleth\",\"colorbar\":{\"outlinewidth\":0,\"ticks\":\"\"}}],\"histogram2d\":[{\"type\":\"histogram2d\",\"colorbar\":{\"outlinewidth\":0,\"ticks\":\"\"},\"colorscale\":[[0.0,\"#0d0887\"],[0.1111111111111111,\"#46039f\"],[0.2222222222222222,\"#7201a8\"],[0.3333333333333333,\"#9c179e\"],[0.4444444444444444,\"#bd3786\"],[0.5555555555555556,\"#d8576b\"],[0.6666666666666666,\"#ed7953\"],[0.7777777777777778,\"#fb9f3a\"],[0.8888888888888888,\"#fdca26\"],[1.0,\"#f0f921\"]]}],\"heatmap\":[{\"type\":\"heatmap\",\"colorbar\":{\"outlinewidth\":0,\"ticks\":\"\"},\"colorscale\":[[0.0,\"#0d0887\"],[0.1111111111111111,\"#46039f\"],[0.2222222222222222,\"#7201a8\"],[0.3333333333333333,\"#9c179e\"],[0.4444444444444444,\"#bd3786\"],[0.5555555555555556,\"#d8576b\"],[0.6666666666666666,\"#ed7953\"],[0.7777777777777778,\"#fb9f3a\"],[0.8888888888888888,\"#fdca26\"],[1.0,\"#f0f921\"]]}],\"heatmapgl\":[{\"type\":\"heatmapgl\",\"colorbar\":{\"outlinewidth\":0,\"ticks\":\"\"},\"colorscale\":[[0.0,\"#0d0887\"],[0.1111111111111111,\"#46039f\"],[0.2222222222222222,\"#7201a8\"],[0.3333333333333333,\"#9c179e\"],[0.4444444444444444,\"#bd3786\"],[0.5555555555555556,\"#d8576b\"],[0.6666666666666666,\"#ed7953\"],[0.7777777777777778,\"#fb9f3a\"],[0.8888888888888888,\"#fdca26\"],[1.0,\"#f0f921\"]]}],\"contourcarpet\":[{\"type\":\"contourcarpet\",\"colorbar\":{\"outlinewidth\":0,\"ticks\":\"\"}}],\"contour\":[{\"type\":\"contour\",\"colorbar\":{\"outlinewidth\":0,\"ticks\":\"\"},\"colorscale\":[[0.0,\"#0d0887\"],[0.1111111111111111,\"#46039f\"],[0.2222222222222222,\"#7201a8\"],[0.3333333333333333,\"#9c179e\"],[0.4444444444444444,\"#bd3786\"],[0.5555555555555556,\"#d8576b\"],[0.6666666666666666,\"#ed7953\"],[0.7777777777777778,\"#fb9f3a\"],[0.8888888888888888,\"#fdca26\"],[1.0,\"#f0f921\"]]}],\"surface\":[{\"type\":\"surface\",\"colorbar\":{\"outlinewidth\":0,\"ticks\":\"\"},\"colorscale\":[[0.0,\"#0d0887\"],[0.1111111111111111,\"#46039f\"],[0.2222222222222222,\"#7201a8\"],[0.3333333333333333,\"#9c179e\"],[0.4444444444444444,\"#bd3786\"],[0.5555555555555556,\"#d8576b\"],[0.6666666666666666,\"#ed7953\"],[0.7777777777777778,\"#fb9f3a\"],[0.8888888888888888,\"#fdca26\"],[1.0,\"#f0f921\"]]}],\"mesh3d\":[{\"type\":\"mesh3d\",\"colorbar\":{\"outlinewidth\":0,\"ticks\":\"\"}}],\"scatter\":[{\"fillpattern\":{\"fillmode\":\"overlay\",\"size\":10,\"solidity\":0.2},\"type\":\"scatter\"}],\"parcoords\":[{\"type\":\"parcoords\",\"line\":{\"colorbar\":{\"outlinewidth\":0,\"ticks\":\"\"}}}],\"scatterpolargl\":[{\"type\":\"scatterpolargl\",\"marker\":{\"colorbar\":{\"outlinewidth\":0,\"ticks\":\"\"}}}],\"bar\":[{\"error_x\":{\"color\":\"#2a3f5f\"},\"error_y\":{\"color\":\"#2a3f5f\"},\"marker\":{\"line\":{\"color\":\"#E5ECF6\",\"width\":0.5},\"pattern\":{\"fillmode\":\"overlay\",\"size\":10,\"solidity\":0.2}},\"type\":\"bar\"}],\"scattergeo\":[{\"type\":\"scattergeo\",\"marker\":{\"colorbar\":{\"outlinewidth\":0,\"ticks\":\"\"}}}],\"scatterpolar\":[{\"type\":\"scatterpolar\",\"marker\":{\"colorbar\":{\"outlinewidth\":0,\"ticks\":\"\"}}}],\"histogram\":[{\"marker\":{\"pattern\":{\"fillmode\":\"overlay\",\"size\":10,\"solidity\":0.2}},\"type\":\"histogram\"}],\"scattergl\":[{\"type\":\"scattergl\",\"marker\":{\"colorbar\":{\"outlinewidth\":0,\"ticks\":\"\"}}}],\"scatter3d\":[{\"type\":\"scatter3d\",\"line\":{\"colorbar\":{\"outlinewidth\":0,\"ticks\":\"\"}},\"marker\":{\"colorbar\":{\"outlinewidth\":0,\"ticks\":\"\"}}}],\"scattermapbox\":[{\"type\":\"scattermapbox\",\"marker\":{\"colorbar\":{\"outlinewidth\":0,\"ticks\":\"\"}}}],\"scatterternary\":[{\"type\":\"scatterternary\",\"marker\":{\"colorbar\":{\"outlinewidth\":0,\"ticks\":\"\"}}}],\"scattercarpet\":[{\"type\":\"scattercarpet\",\"marker\":{\"colorbar\":{\"outlinewidth\":0,\"ticks\":\"\"}}}],\"carpet\":[{\"aaxis\":{\"endlinecolor\":\"#2a3f5f\",\"gridcolor\":\"white\",\"linecolor\":\"white\",\"minorgridcolor\":\"white\",\"startlinecolor\":\"#2a3f5f\"},\"baxis\":{\"endlinecolor\":\"#2a3f5f\",\"gridcolor\":\"white\",\"linecolor\":\"white\",\"minorgridcolor\":\"white\",\"startlinecolor\":\"#2a3f5f\"},\"type\":\"carpet\"}],\"table\":[{\"cells\":{\"fill\":{\"color\":\"#EBF0F8\"},\"line\":{\"color\":\"white\"}},\"header\":{\"fill\":{\"color\":\"#C8D4E3\"},\"line\":{\"color\":\"white\"}},\"type\":\"table\"}],\"barpolar\":[{\"marker\":{\"line\":{\"color\":\"#E5ECF6\",\"width\":0.5},\"pattern\":{\"fillmode\":\"overlay\",\"size\":10,\"solidity\":0.2}},\"type\":\"barpolar\"}],\"pie\":[{\"automargin\":true,\"type\":\"pie\"}]},\"layout\":{\"autotypenumbers\":\"strict\",\"colorway\":[\"#636efa\",\"#EF553B\",\"#00cc96\",\"#ab63fa\",\"#FFA15A\",\"#19d3f3\",\"#FF6692\",\"#B6E880\",\"#FF97FF\",\"#FECB52\"],\"font\":{\"color\":\"#2a3f5f\"},\"hovermode\":\"closest\",\"hoverlabel\":{\"align\":\"left\"},\"paper_bgcolor\":\"white\",\"plot_bgcolor\":\"#E5ECF6\",\"polar\":{\"bgcolor\":\"#E5ECF6\",\"angularaxis\":{\"gridcolor\":\"white\",\"linecolor\":\"white\",\"ticks\":\"\"},\"radialaxis\":{\"gridcolor\":\"white\",\"linecolor\":\"white\",\"ticks\":\"\"}},\"ternary\":{\"bgcolor\":\"#E5ECF6\",\"aaxis\":{\"gridcolor\":\"white\",\"linecolor\":\"white\",\"ticks\":\"\"},\"baxis\":{\"gridcolor\":\"white\",\"linecolor\":\"white\",\"ticks\":\"\"},\"caxis\":{\"gridcolor\":\"white\",\"linecolor\":\"white\",\"ticks\":\"\"}},\"coloraxis\":{\"colorbar\":{\"outlinewidth\":0,\"ticks\":\"\"}},\"colorscale\":{\"sequential\":[[0.0,\"#0d0887\"],[0.1111111111111111,\"#46039f\"],[0.2222222222222222,\"#7201a8\"],[0.3333333333333333,\"#9c179e\"],[0.4444444444444444,\"#bd3786\"],[0.5555555555555556,\"#d8576b\"],[0.6666666666666666,\"#ed7953\"],[0.7777777777777778,\"#fb9f3a\"],[0.8888888888888888,\"#fdca26\"],[1.0,\"#f0f921\"]],\"sequentialminus\":[[0.0,\"#0d0887\"],[0.1111111111111111,\"#46039f\"],[0.2222222222222222,\"#7201a8\"],[0.3333333333333333,\"#9c179e\"],[0.4444444444444444,\"#bd3786\"],[0.5555555555555556,\"#d8576b\"],[0.6666666666666666,\"#ed7953\"],[0.7777777777777778,\"#fb9f3a\"],[0.8888888888888888,\"#fdca26\"],[1.0,\"#f0f921\"]],\"diverging\":[[0,\"#8e0152\"],[0.1,\"#c51b7d\"],[0.2,\"#de77ae\"],[0.3,\"#f1b6da\"],[0.4,\"#fde0ef\"],[0.5,\"#f7f7f7\"],[0.6,\"#e6f5d0\"],[0.7,\"#b8e186\"],[0.8,\"#7fbc41\"],[0.9,\"#4d9221\"],[1,\"#276419\"]]},\"xaxis\":{\"gridcolor\":\"white\",\"linecolor\":\"white\",\"ticks\":\"\",\"title\":{\"standoff\":15},\"zerolinecolor\":\"white\",\"automargin\":true,\"zerolinewidth\":2},\"yaxis\":{\"gridcolor\":\"white\",\"linecolor\":\"white\",\"ticks\":\"\",\"title\":{\"standoff\":15},\"zerolinecolor\":\"white\",\"automargin\":true,\"zerolinewidth\":2},\"scene\":{\"xaxis\":{\"backgroundcolor\":\"#E5ECF6\",\"gridcolor\":\"white\",\"linecolor\":\"white\",\"showbackground\":true,\"ticks\":\"\",\"zerolinecolor\":\"white\",\"gridwidth\":2},\"yaxis\":{\"backgroundcolor\":\"#E5ECF6\",\"gridcolor\":\"white\",\"linecolor\":\"white\",\"showbackground\":true,\"ticks\":\"\",\"zerolinecolor\":\"white\",\"gridwidth\":2},\"zaxis\":{\"backgroundcolor\":\"#E5ECF6\",\"gridcolor\":\"white\",\"linecolor\":\"white\",\"showbackground\":true,\"ticks\":\"\",\"zerolinecolor\":\"white\",\"gridwidth\":2}},\"shapedefaults\":{\"line\":{\"color\":\"#2a3f5f\"}},\"annotationdefaults\":{\"arrowcolor\":\"#2a3f5f\",\"arrowhead\":0,\"arrowwidth\":1},\"geo\":{\"bgcolor\":\"white\",\"landcolor\":\"#E5ECF6\",\"subunitcolor\":\"white\",\"showland\":true,\"showlakes\":true,\"lakecolor\":\"white\"},\"title\":{\"x\":0.05},\"mapbox\":{\"style\":\"light\"}}},\"xaxis\":{\"anchor\":\"y\",\"domain\":[0.0,1.0],\"title\":{\"text\":\"zeitebenen\",\"font\":{\"size\":16}},\"tickfont\":{\"size\":16}},\"yaxis\":{\"anchor\":\"x\",\"domain\":[0.0,1.0],\"title\":{\"text\":\"Anteil\",\"font\":{\"size\":16}},\"tickfont\":{\"size\":16}},\"legend\":{\"title\":{\"text\":\"\"},\"tracegroupgap\":0,\"font\":{\"size\":16},\"x\":0.5,\"y\":0.96},\"margin\":{\"t\":60},\"barmode\":\"group\",\"width\":700,\"height\":300,\"bargap\":0.1},                        {\"responsive\": true}                    ).then(function(){\n",
       "                            \n",
       "var gd = document.getElementById('fce8508a-7e32-495f-9a64-3ac44ee8f003');\n",
       "var x = new MutationObserver(function (mutations, observer) {{\n",
       "        var display = window.getComputedStyle(gd).display;\n",
       "        if (!display || display === 'none') {{\n",
       "            console.log([gd, 'removed!']);\n",
       "            Plotly.purge(gd);\n",
       "            observer.disconnect();\n",
       "        }}\n",
       "}});\n",
       "\n",
       "// Listen for the removal of the full notebook cells\n",
       "var notebookContainer = gd.closest('#notebook-container');\n",
       "if (notebookContainer) {{\n",
       "    x.observe(notebookContainer, {childList: true});\n",
       "}}\n",
       "\n",
       "// Listen for the clearing of the current output cell\n",
       "var outputEl = gd.closest('.output');\n",
       "if (outputEl) {{\n",
       "    x.observe(outputEl, {childList: true});\n",
       "}}\n",
       "\n",
       "                        })                };                });            </script>        </div>"
      ]
     },
     "metadata": {},
     "output_type": "display_data"
    },
    {
     "data": {
      "application/vnd.plotly.v1+json": {
       "config": {
        "plotlyServerURL": "https://plot.ly"
       },
       "data": [
        {
         "alignmentgroup": "True",
         "bingroup": "x",
         "histnorm": "probability density",
         "hovertemplate": "=Nicht nationalistische Texte<br>(Mittelwert = 1269)<br>Mitte der dominanten Zeitebene=%{x}<br>probability density=%{y}<extra></extra>",
         "legendgroup": "Nicht nationalistische Texte<br>(Mittelwert = 1269)",
         "marker": {
          "color": "#636efa",
          "pattern": {
           "shape": ""
          }
         },
         "name": "Nicht nationalistische Texte<br>(Mittelwert = 1269)",
         "offsetgroup": "Nicht nationalistische Texte<br>(Mittelwert = 1269)",
         "orientation": "v",
         "showlegend": true,
         "type": "histogram",
         "x": [
          928.5,
          null,
          0,
          0,
          1310.5,
          250,
          1000,
          1208,
          1225,
          1294.5,
          1308,
          1308,
          1352,
          1415,
          1410,
          1552,
          1552,
          1631,
          1741,
          1783,
          1815,
          1812.5,
          1476,
          1476,
          1477,
          1840,
          774,
          809,
          1022,
          1313,
          1500,
          1517,
          1517,
          1530,
          1531,
          807,
          1522,
          1521,
          1521.5,
          1531.5,
          1500,
          1519,
          1521,
          1521,
          1525,
          370,
          396,
          455,
          455,
          592,
          718,
          530,
          652,
          250,
          706.5,
          809,
          800,
          1250,
          1500,
          1500,
          1522.5,
          1200,
          1400,
          1312,
          1318,
          1315,
          1349,
          1400,
          1400,
          1432.5,
          1518,
          1510,
          1500,
          1525,
          1523,
          1483.5,
          1531,
          1535,
          1537,
          1512,
          1530,
          1634,
          1648,
          1648,
          1631,
          1806,
          1770,
          1850,
          1850,
          1200,
          928,
          1200,
          1412,
          1453.5,
          1636,
          1633,
          1674,
          1674,
          1745,
          1746,
          1748.5,
          1757,
          0,
          445,
          455,
          1850,
          1400,
          1400,
          1571,
          1561.5,
          1623,
          1854,
          947,
          1674,
          null,
          1099,
          1450,
          800,
          1850,
          1093,
          1350,
          1432,
          1624,
          1678,
          1684,
          1690.5,
          1720,
          1726.5,
          1715,
          1756,
          1758,
          1759,
          1757,
          1765,
          1810,
          1812.5,
          1815,
          1818.5,
          1840,
          1850,
          1857,
          1860,
          1864,
          1864,
          1415,
          1448,
          1517,
          1535,
          1654,
          1701,
          1715,
          1726.5,
          1740,
          1741,
          1742,
          1745,
          1756,
          1757,
          1757,
          1759,
          1763,
          1785,
          1783,
          1772,
          1807,
          1820,
          1850.5,
          1864,
          1866,
          1806,
          0,
          37,
          1032,
          1572,
          1831,
          1542,
          1540,
          1631,
          1547,
          1855,
          null,
          0,
          0,
          0,
          0,
          776,
          0,
          0,
          0,
          0,
          0,
          0,
          0,
          0,
          0,
          0,
          0,
          241,
          0,
          0,
          0,
          0,
          5,
          0,
          64,
          79,
          212,
          268,
          259,
          305,
          375,
          409,
          414,
          451,
          451,
          453,
          539,
          572,
          602,
          620,
          723,
          755,
          865,
          788,
          773,
          799.5,
          791,
          814,
          838,
          864,
          878,
          878,
          919,
          933,
          997,
          1021.5,
          1066,
          1074,
          1095,
          1126,
          1155,
          1209,
          1135,
          1168,
          1184,
          1194,
          1193,
          1215,
          1214,
          1250,
          1266,
          1267,
          1268,
          1282,
          1265,
          1273,
          1307,
          1322,
          1347,
          1349,
          1428,
          1389,
          1405,
          1414,
          1415,
          1415,
          1417,
          1432,
          1470,
          1455,
          1474,
          1492,
          1434,
          1477,
          1506,
          1516,
          1523,
          1517,
          1525,
          1518,
          1519,
          1520,
          1521,
          1512,
          1525,
          1531,
          1529,
          1530,
          1535,
          1530,
          1540,
          1543,
          1566,
          1566,
          1535,
          1594,
          1634,
          1639,
          1658,
          1646,
          1675,
          1668,
          1622.5,
          1700.5,
          1681.5,
          1683,
          1683,
          1701,
          1717,
          1694,
          1697,
          1704,
          1705,
          1710,
          1710,
          1711,
          1664,
          1752.5,
          1757,
          1757,
          1758,
          1760,
          1785,
          1792,
          1799,
          1722,
          1785,
          1812,
          1798,
          1793,
          1793,
          1808,
          1806,
          1806,
          1809,
          1809,
          1812,
          1828,
          1840,
          1861,
          572.5,
          0,
          0,
          0,
          0,
          1850,
          0,
          0,
          718,
          791,
          1183,
          1208,
          1208,
          1234,
          1238,
          1450,
          1531,
          1823,
          1870,
          1870,
          1050,
          1106,
          1870,
          1870,
          791,
          1865,
          1525,
          1525,
          1546,
          1519,
          1531,
          1631,
          1757,
          1741,
          1181,
          1520,
          1530,
          1769,
          1227,
          1675,
          1726.5,
          1870,
          1870,
          1241,
          1322,
          1325,
          1325,
          1335,
          1452,
          1471,
          1558,
          1557.5,
          1634,
          1683,
          1757,
          1777.5,
          1776,
          1790,
          1855,
          1809,
          1848,
          1830,
          1879,
          434,
          466,
          1879,
          476,
          700,
          850,
          1000,
          1079,
          1099,
          1150,
          1246,
          1260,
          1276,
          1278,
          1265.5,
          1281,
          1307,
          1346,
          1356,
          1365,
          1382,
          1386,
          1406,
          1442,
          1452,
          1435.5,
          1400,
          1477,
          1480,
          1483,
          1486,
          1510,
          1504,
          1500,
          1547,
          1570,
          1552,
          1552,
          1556,
          1511,
          1564,
          1539.5,
          1557,
          1575,
          1598,
          1593.5,
          1616.5,
          1616.5,
          1632,
          1633,
          1664,
          1680,
          1683,
          1683,
          1683,
          1683,
          1702,
          1709,
          1710,
          1708,
          1757,
          1750,
          1754,
          1750,
          1736,
          1746,
          1750.5,
          1787,
          1785,
          1791,
          1773.5,
          1797,
          1797,
          1799,
          1801,
          1809,
          1810,
          1813,
          1813,
          1815,
          1815,
          1820,
          1822,
          1827,
          1834,
          1841,
          1848.5,
          1853,
          1757,
          1858,
          1858,
          1860,
          1864,
          1820.5,
          1866,
          1870,
          1867,
          1867,
          1871,
          1871,
          1871,
          1873,
          1878,
          1879,
          1282,
          1355,
          1477,
          1521,
          1686,
          1760,
          1879,
          1420,
          1632,
          1780,
          1865.5,
          1675,
          0,
          0,
          327,
          0,
          64.5,
          396,
          451,
          555,
          600,
          638,
          1240,
          1400,
          1300,
          1512,
          1521,
          1530,
          1620,
          1630,
          1620,
          1675,
          1704,
          1718,
          1870,
          410,
          777,
          783,
          782,
          784,
          785,
          936,
          1521.5,
          1717,
          1706,
          9,
          408,
          791,
          944,
          947,
          965,
          1170,
          1517,
          1664,
          1759,
          1772.5,
          1632,
          493,
          791,
          919,
          1268,
          1517,
          1521,
          1530,
          552,
          783,
          1100,
          1325,
          1157,
          1517,
          1628,
          1813,
          1150,
          451,
          1172.5,
          1250,
          1266,
          1272,
          1386,
          1521,
          1683,
          1630,
          1830,
          200,
          150,
          452,
          781,
          1030,
          1162,
          1150,
          1505,
          1860,
          1850,
          1870,
          1888,
          945,
          290,
          0,
          363,
          360,
          379,
          416,
          582,
          730,
          822,
          1030,
          1200,
          1250,
          1349,
          1498,
          1520,
          1860,
          1547,
          1547,
          1569,
          1502.5,
          1690,
          1699,
          1692,
          1728.5,
          1755,
          1801,
          1822.5,
          0,
          0,
          16,
          70,
          408,
          452,
          534,
          551,
          552,
          568,
          585,
          505,
          542,
          676,
          772,
          772,
          800,
          814,
          810,
          593,
          718,
          730,
          753,
          875,
          918,
          947,
          955,
          957,
          982,
          1007,
          1056,
          1062,
          1077,
          1106,
          1138.5,
          1147,
          1155,
          1155,
          1168,
          1176,
          1181,
          1189,
          1190,
          1194,
          1193,
          1197,
          1212,
          1000,
          1242,
          1245,
          1249,
          1252,
          1254,
          1256,
          1269,
          1860,
          1290,
          1308,
          1358,
          1349,
          1349,
          1512,
          1516,
          1517,
          1521,
          1510,
          1525,
          1525,
          1525,
          1530,
          1547,
          1550.5,
          1521,
          1618,
          1626,
          1632,
          1632,
          1632,
          1648,
          1656.5,
          1637,
          1656.5,
          1656,
          1675,
          1675,
          1647.5,
          1731,
          1741,
          1741,
          1741,
          1757,
          1757,
          1757,
          1757,
          1760,
          1761,
          1759,
          1765,
          1775.5,
          1806,
          1809,
          1809,
          1812,
          1813,
          1813,
          1813,
          1813,
          1815,
          1810,
          1848,
          1866,
          1850,
          1850,
          1866,
          1867,
          1870,
          1870,
          1140,
          1243,
          1313.5,
          1412,
          1413,
          1510,
          1555.5,
          1580,
          1557,
          1571,
          1330,
          1370,
          1410,
          1318,
          1415,
          1319,
          1350,
          1603,
          897,
          1256,
          1456,
          1705,
          1189,
          1373,
          1568,
          1626,
          1547,
          1028,
          1093,
          1131,
          1289,
          1719,
          1183,
          1370,
          1474,
          1637,
          1075,
          1130,
          1156,
          1170,
          1270,
          1448.5,
          1525,
          1553,
          1227,
          1233.5,
          1252,
          1319,
          1331,
          1363,
          1404,
          1404,
          1418,
          1500,
          1524,
          1559,
          1225,
          1570,
          1417,
          1475,
          936,
          947,
          1106,
          1268,
          1323.5,
          1417,
          1870.5,
          0,
          0,
          0,
          0,
          9,
          65,
          100,
          1870,
          1860,
          200,
          1870,
          213,
          251,
          310,
          935,
          451,
          397,
          0,
          415,
          429,
          455,
          476,
          476,
          546,
          552,
          568,
          573,
          570,
          1885,
          950,
          900,
          737,
          800,
          787,
          796,
          796,
          791,
          810,
          918,
          919,
          929,
          969,
          978,
          1002,
          1054,
          1063,
          1073,
          1077,
          1095,
          1137,
          1070,
          1189,
          1158,
          1164,
          1176,
          1189,
          1860,
          1210,
          1180,
          1207,
          1231,
          1383,
          1457,
          1245,
          1267,
          1267,
          1268,
          1870,
          1270,
          1268,
          1264.5,
          1309,
          1869,
          1340,
          1346,
          1374,
          1437,
          1474,
          1520,
          1868,
          1570,
          1600,
          1622,
          1626,
          1630,
          1630,
          1630,
          1634,
          1643,
          1855,
          1757,
          1760,
          1762,
          1785,
          1794,
          812,
          1880,
          1866,
          1866,
          1881,
          1886,
          546,
          1501.5,
          1794,
          1813,
          1898,
          1897,
          1880,
          1897,
          1888,
          1881,
          1888,
          1890,
          0,
          0,
          0,
          1200,
          1340.5,
          1450,
          1495,
          1531,
          1757,
          1875,
          1880,
          800,
          947,
          1268,
          null,
          1514.5,
          1632,
          1642.5,
          1880,
          1810,
          1898,
          1890,
          0,
          940,
          450,
          718,
          774,
          778,
          941,
          955,
          1105,
          1099,
          1203,
          1444,
          1490,
          1450,
          1525,
          1540,
          1542,
          1534,
          1620,
          1633,
          1632,
          1793,
          1794,
          1812,
          1870,
          1888,
          225,
          90,
          1000,
          822,
          778,
          850,
          1105,
          1000,
          null,
          1200,
          1200,
          1000,
          1258,
          1300,
          1000,
          1275,
          1450,
          1000,
          1427,
          1546,
          1525,
          1525,
          1525,
          1525,
          1527,
          1525,
          1514,
          1870,
          1648,
          1777.5,
          1741,
          1758,
          1751.5,
          1757,
          1757,
          1760,
          0,
          0,
          0,
          0,
          0,
          0,
          0,
          0,
          0,
          0,
          0,
          0,
          0,
          0,
          0,
          0,
          0,
          0,
          0,
          0,
          0,
          0,
          0,
          0,
          0,
          0,
          0,
          0,
          0,
          0,
          0,
          0,
          0,
          0,
          0,
          0,
          0,
          0,
          0,
          0,
          0,
          30,
          397,
          0,
          0,
          0,
          0,
          0,
          0,
          0,
          0,
          0,
          0,
          0,
          0,
          0,
          0,
          0,
          0,
          0,
          0,
          0,
          0,
          0,
          0,
          0,
          0,
          0,
          0,
          20,
          0,
          14,
          14,
          26,
          26,
          19,
          10,
          55,
          60,
          66,
          60,
          64,
          64,
          64,
          125,
          130,
          110,
          274,
          400,
          410,
          452,
          0,
          0,
          0,
          0,
          1860,
          1860,
          1850,
          1870,
          0,
          1850,
          0,
          0,
          0,
          1866,
          1850,
          1840,
          1865,
          1865,
          1811,
          1811,
          1875,
          0,
          1880,
          1880,
          1860,
          1885,
          1885,
          1860,
          1870,
          1870,
          1850,
          1870,
          600,
          425,
          1002,
          1152,
          1343.5,
          1343.5,
          1343.5,
          1553,
          1626,
          1514,
          1863,
          1412,
          1414,
          1414,
          1420,
          1489.5,
          1547,
          1757,
          1755,
          1760,
          1772,
          1807,
          1812,
          1850,
          1851,
          1870,
          1870,
          1870.5,
          1870.5,
          1875,
          1870,
          1880,
          1888,
          1870,
          1880,
          718,
          776,
          1741,
          1757,
          1800,
          1793,
          1806,
          1812,
          1870,
          0,
          350,
          0,
          822.5,
          100,
          1900,
          1050,
          1485,
          1000,
          200,
          0,
          0,
          50,
          16,
          17,
          21,
          213,
          950,
          1885,
          552,
          572.5,
          580,
          496,
          613,
          800,
          718,
          800,
          785,
          790,
          1898,
          950,
          1080,
          1084,
          1167,
          1176,
          1200,
          1895,
          1200,
          1212,
          1225,
          1227,
          1100,
          1268,
          1260.5,
          1865,
          1313,
          1323.5,
          1330,
          1350,
          1350,
          1417.5,
          1415,
          1435,
          1459,
          1484,
          1450,
          1520,
          1516,
          1521,
          1518,
          1521,
          1517,
          1530.5,
          1523,
          1523,
          1523,
          1526,
          1540,
          1532,
          1525,
          1547,
          1626,
          1626,
          1631,
          1624,
          1889,
          1681,
          1689,
          1757,
          1758,
          1785,
          1769,
          1777.5,
          1770,
          1727,
          1792,
          1806,
          1810,
          1812,
          1813,
          1813,
          1814,
          1815,
          1866,
          1870,
          1870,
          1870,
          1870,
          1870,
          100,
          1884,
          1888,
          1880,
          1850,
          573,
          1278,
          1547,
          1675,
          1709,
          1741,
          1780,
          1757.5,
          1810,
          1827,
          1796,
          1809,
          1809,
          1809,
          1808,
          1813,
          1870,
          1870,
          1870,
          1871,
          1870.5,
          1870,
          1870.5,
          1867.5,
          589,
          802,
          1000,
          1158,
          1200,
          1208,
          1212,
          1227,
          1242,
          1266,
          1268,
          1268,
          1309,
          1386,
          1444,
          1450,
          1476,
          1499.5,
          1858,
          1525,
          1520,
          1568,
          1633,
          1646,
          1633,
          1705,
          1717,
          1770,
          1763,
          1786,
          1789,
          1805,
          1812,
          1813,
          1800,
          1800,
          1813,
          1811,
          1813,
          1814,
          1813,
          1813,
          1827,
          1870,
          null,
          1870,
          0,
          1000,
          1200,
          1812,
          1858,
          1914,
          1880,
          1200,
          1809,
          1914,
          1807,
          1870,
          1914,
          955,
          0,
          1093.5,
          1850,
          1386,
          1386,
          1567,
          1250,
          1450,
          1476,
          1476,
          1476,
          1476,
          1200,
          1200,
          1500,
          1515,
          1648,
          1500,
          1522,
          1523,
          1525.5,
          1531,
          1627,
          1793,
          1798,
          1812,
          1878,
          1809,
          785,
          1429,
          1534,
          1638,
          1633,
          1812,
          1812,
          1812,
          1813,
          1813,
          1914,
          796,
          919,
          919,
          1157,
          1270,
          1273,
          1517,
          1521,
          1400,
          1521,
          1145,
          1679,
          1633,
          1757,
          1782,
          1807,
          1813,
          1870,
          1918,
          1375,
          1520,
          1511.5,
          1830,
          1875,
          723,
          850,
          1193,
          1632,
          1705,
          0,
          0,
          1266,
          1361,
          1365.5,
          1370,
          1530,
          1648,
          877,
          955,
          1252,
          1532.5,
          1709,
          1635,
          1000,
          1895,
          1520,
          1522,
          1626,
          1757,
          1763,
          1871,
          1792,
          1918,
          0,
          1000,
          1200,
          1350,
          1100,
          1706,
          1870,
          1914,
          1914,
          1914,
          0,
          150,
          1900,
          0,
          600,
          900,
          800,
          788,
          781,
          1900,
          650,
          658.5,
          998,
          950,
          1013.5,
          1020,
          788,
          973,
          1375,
          1200,
          1229,
          1200,
          1200,
          1200,
          1215,
          1270,
          1315,
          1410,
          1413,
          1895,
          1000,
          1319,
          1404,
          1476,
          1500,
          1374,
          1300,
          1350,
          1473,
          1503,
          1510,
          1510,
          1476,
          1476,
          1476,
          1476,
          1476,
          1515,
          1620,
          1500,
          1500,
          1550,
          1637,
          1300,
          1500,
          1280,
          1520,
          1523,
          1523,
          1518,
          1915,
          1521,
          1549,
          1631,
          1632,
          1633,
          1664,
          1635,
          1633,
          1780,
          1735,
          1770,
          1747,
          1836,
          1798,
          1885,
          1905,
          1860,
          1809.5,
          1812,
          1864,
          1866,
          1870,
          1888,
          1866,
          1914,
          1920,
          0,
          0,
          1880,
          50,
          552,
          796,
          926,
          1268,
          1350,
          1400,
          1402,
          1350,
          1525,
          1631,
          1648,
          1648,
          1812,
          1813,
          1864,
          1200,
          200,
          1066,
          1842,
          850,
          830,
          1000,
          1525,
          1632,
          null,
          1492,
          1644,
          1740,
          1790,
          1830,
          1789,
          900,
          906,
          1288,
          1523,
          1512,
          1520,
          1523
         ],
         "xaxis": "x",
         "yaxis": "y"
        },
        {
         "alignmentgroup": "True",
         "bingroup": "x",
         "histnorm": "probability density",
         "hovertemplate": "=Nationalistische Texte<br>(Mittelwert = 1715)<br>Mitte der dominanten Zeitebene=%{x}<br>probability density=%{y}<extra></extra>",
         "legendgroup": "Nationalistische Texte<br>(Mittelwert = 1715)",
         "marker": {
          "color": "#EF553B",
          "pattern": {
           "shape": ""
          }
         },
         "name": "Nationalistische Texte<br>(Mittelwert = 1715)",
         "offsetgroup": "Nationalistische Texte<br>(Mittelwert = 1715)",
         "orientation": "v",
         "showlegend": true,
         "type": "histogram",
         "x": [
          1816,
          1633,
          1325,
          1664,
          1848,
          1757,
          1656,
          1664,
          1851,
          1525,
          1813,
          1813,
          1857,
          1864,
          1866,
          1866,
          1866,
          1870,
          1870,
          1870.5,
          1866,
          1154,
          1488,
          1521,
          1806,
          1815,
          1870,
          100,
          1870,
          1870,
          978,
          1870,
          1870,
          1870,
          1871,
          1870,
          1871,
          1871,
          1870,
          650,
          1870,
          17,
          1855,
          1100,
          1870,
          1870,
          1870,
          1838.5,
          1870,
          1870.5,
          1871,
          500,
          1875,
          1874,
          1416,
          1475,
          1487,
          1683,
          1809,
          1809,
          1834,
          1848.5,
          1857,
          1858,
          1862,
          1866,
          1873,
          1813.5,
          1873,
          1878,
          1879,
          null,
          1870,
          1853,
          1231,
          1318,
          1648,
          1806,
          1881,
          1870,
          1832,
          1870,
          1870,
          1870,
          1870,
          1870.5,
          1871,
          1870,
          1870.5,
          1883,
          1877,
          955,
          1850,
          1870.5,
          17,
          9,
          1002,
          1813,
          1848,
          1848,
          1861,
          1870,
          1870,
          1870,
          1870,
          1870,
          1870.5,
          1870,
          1871,
          1871,
          1888,
          449,
          633,
          1674,
          1793,
          1793,
          1806,
          1810,
          1813,
          1864,
          1870,
          1884,
          1888,
          1890,
          1891,
          1891,
          1226,
          897,
          1807,
          800,
          1865,
          933,
          1241,
          1796,
          1809,
          1813,
          1813,
          1858,
          1283,
          1862,
          1870,
          1875,
          1870,
          1875,
          1873,
          1880,
          1883,
          1888,
          1888,
          1810,
          1820,
          1870,
          1871,
          1842.5,
          1842.5,
          1870.5,
          1897,
          1897,
          1897,
          1877,
          1870,
          1674,
          1809,
          1870.5,
          1874.5,
          1895,
          1860,
          1077,
          1871,
          1849,
          1849,
          1870.5,
          800,
          1150,
          1144.5,
          1809,
          9,
          1865,
          1870,
          1806,
          1870,
          1848,
          1850,
          1863,
          1871,
          1892,
          1891,
          1347,
          1531.5,
          1806,
          1813,
          1834,
          1846,
          1860,
          1870,
          1870,
          1870.5,
          1870,
          1894,
          1883,
          1888,
          1896,
          1900,
          1870,
          1898,
          1850,
          1809,
          1870.5,
          1870.5,
          1807.5,
          1877,
          1900,
          1875,
          1888,
          1867.5,
          1914,
          1450,
          1876,
          1513,
          1852,
          1813,
          1916,
          1871,
          1875,
          1914,
          1916,
          1918,
          1515,
          1813,
          1900,
          1859,
          1834,
          1859,
          1871,
          1914,
          1228,
          1200,
          1265,
          1380,
          1633,
          1813,
          1916,
          1860,
          1809,
          1840,
          1817,
          1840,
          1814,
          1848,
          1875,
          1850.5,
          1916,
          1918
         ],
         "xaxis": "x",
         "yaxis": "y"
        }
       ],
       "layout": {
        "bargap": 0.1,
        "barmode": "group",
        "height": 300,
        "legend": {
         "font": {
          "size": 16
         },
         "title": {
          "text": ""
         },
         "tracegroupgap": 0,
         "x": 0.15,
         "y": 0.9
        },
        "margin": {
         "t": 60
        },
        "template": {
         "data": {
          "bar": [
           {
            "error_x": {
             "color": "#2a3f5f"
            },
            "error_y": {
             "color": "#2a3f5f"
            },
            "marker": {
             "line": {
              "color": "#E5ECF6",
              "width": 0.5
             },
             "pattern": {
              "fillmode": "overlay",
              "size": 10,
              "solidity": 0.2
             }
            },
            "type": "bar"
           }
          ],
          "barpolar": [
           {
            "marker": {
             "line": {
              "color": "#E5ECF6",
              "width": 0.5
             },
             "pattern": {
              "fillmode": "overlay",
              "size": 10,
              "solidity": 0.2
             }
            },
            "type": "barpolar"
           }
          ],
          "carpet": [
           {
            "aaxis": {
             "endlinecolor": "#2a3f5f",
             "gridcolor": "white",
             "linecolor": "white",
             "minorgridcolor": "white",
             "startlinecolor": "#2a3f5f"
            },
            "baxis": {
             "endlinecolor": "#2a3f5f",
             "gridcolor": "white",
             "linecolor": "white",
             "minorgridcolor": "white",
             "startlinecolor": "#2a3f5f"
            },
            "type": "carpet"
           }
          ],
          "choropleth": [
           {
            "colorbar": {
             "outlinewidth": 0,
             "ticks": ""
            },
            "type": "choropleth"
           }
          ],
          "contour": [
           {
            "colorbar": {
             "outlinewidth": 0,
             "ticks": ""
            },
            "colorscale": [
             [
              0,
              "#0d0887"
             ],
             [
              0.1111111111111111,
              "#46039f"
             ],
             [
              0.2222222222222222,
              "#7201a8"
             ],
             [
              0.3333333333333333,
              "#9c179e"
             ],
             [
              0.4444444444444444,
              "#bd3786"
             ],
             [
              0.5555555555555556,
              "#d8576b"
             ],
             [
              0.6666666666666666,
              "#ed7953"
             ],
             [
              0.7777777777777778,
              "#fb9f3a"
             ],
             [
              0.8888888888888888,
              "#fdca26"
             ],
             [
              1,
              "#f0f921"
             ]
            ],
            "type": "contour"
           }
          ],
          "contourcarpet": [
           {
            "colorbar": {
             "outlinewidth": 0,
             "ticks": ""
            },
            "type": "contourcarpet"
           }
          ],
          "heatmap": [
           {
            "colorbar": {
             "outlinewidth": 0,
             "ticks": ""
            },
            "colorscale": [
             [
              0,
              "#0d0887"
             ],
             [
              0.1111111111111111,
              "#46039f"
             ],
             [
              0.2222222222222222,
              "#7201a8"
             ],
             [
              0.3333333333333333,
              "#9c179e"
             ],
             [
              0.4444444444444444,
              "#bd3786"
             ],
             [
              0.5555555555555556,
              "#d8576b"
             ],
             [
              0.6666666666666666,
              "#ed7953"
             ],
             [
              0.7777777777777778,
              "#fb9f3a"
             ],
             [
              0.8888888888888888,
              "#fdca26"
             ],
             [
              1,
              "#f0f921"
             ]
            ],
            "type": "heatmap"
           }
          ],
          "heatmapgl": [
           {
            "colorbar": {
             "outlinewidth": 0,
             "ticks": ""
            },
            "colorscale": [
             [
              0,
              "#0d0887"
             ],
             [
              0.1111111111111111,
              "#46039f"
             ],
             [
              0.2222222222222222,
              "#7201a8"
             ],
             [
              0.3333333333333333,
              "#9c179e"
             ],
             [
              0.4444444444444444,
              "#bd3786"
             ],
             [
              0.5555555555555556,
              "#d8576b"
             ],
             [
              0.6666666666666666,
              "#ed7953"
             ],
             [
              0.7777777777777778,
              "#fb9f3a"
             ],
             [
              0.8888888888888888,
              "#fdca26"
             ],
             [
              1,
              "#f0f921"
             ]
            ],
            "type": "heatmapgl"
           }
          ],
          "histogram": [
           {
            "marker": {
             "pattern": {
              "fillmode": "overlay",
              "size": 10,
              "solidity": 0.2
             }
            },
            "type": "histogram"
           }
          ],
          "histogram2d": [
           {
            "colorbar": {
             "outlinewidth": 0,
             "ticks": ""
            },
            "colorscale": [
             [
              0,
              "#0d0887"
             ],
             [
              0.1111111111111111,
              "#46039f"
             ],
             [
              0.2222222222222222,
              "#7201a8"
             ],
             [
              0.3333333333333333,
              "#9c179e"
             ],
             [
              0.4444444444444444,
              "#bd3786"
             ],
             [
              0.5555555555555556,
              "#d8576b"
             ],
             [
              0.6666666666666666,
              "#ed7953"
             ],
             [
              0.7777777777777778,
              "#fb9f3a"
             ],
             [
              0.8888888888888888,
              "#fdca26"
             ],
             [
              1,
              "#f0f921"
             ]
            ],
            "type": "histogram2d"
           }
          ],
          "histogram2dcontour": [
           {
            "colorbar": {
             "outlinewidth": 0,
             "ticks": ""
            },
            "colorscale": [
             [
              0,
              "#0d0887"
             ],
             [
              0.1111111111111111,
              "#46039f"
             ],
             [
              0.2222222222222222,
              "#7201a8"
             ],
             [
              0.3333333333333333,
              "#9c179e"
             ],
             [
              0.4444444444444444,
              "#bd3786"
             ],
             [
              0.5555555555555556,
              "#d8576b"
             ],
             [
              0.6666666666666666,
              "#ed7953"
             ],
             [
              0.7777777777777778,
              "#fb9f3a"
             ],
             [
              0.8888888888888888,
              "#fdca26"
             ],
             [
              1,
              "#f0f921"
             ]
            ],
            "type": "histogram2dcontour"
           }
          ],
          "mesh3d": [
           {
            "colorbar": {
             "outlinewidth": 0,
             "ticks": ""
            },
            "type": "mesh3d"
           }
          ],
          "parcoords": [
           {
            "line": {
             "colorbar": {
              "outlinewidth": 0,
              "ticks": ""
             }
            },
            "type": "parcoords"
           }
          ],
          "pie": [
           {
            "automargin": true,
            "type": "pie"
           }
          ],
          "scatter": [
           {
            "fillpattern": {
             "fillmode": "overlay",
             "size": 10,
             "solidity": 0.2
            },
            "type": "scatter"
           }
          ],
          "scatter3d": [
           {
            "line": {
             "colorbar": {
              "outlinewidth": 0,
              "ticks": ""
             }
            },
            "marker": {
             "colorbar": {
              "outlinewidth": 0,
              "ticks": ""
             }
            },
            "type": "scatter3d"
           }
          ],
          "scattercarpet": [
           {
            "marker": {
             "colorbar": {
              "outlinewidth": 0,
              "ticks": ""
             }
            },
            "type": "scattercarpet"
           }
          ],
          "scattergeo": [
           {
            "marker": {
             "colorbar": {
              "outlinewidth": 0,
              "ticks": ""
             }
            },
            "type": "scattergeo"
           }
          ],
          "scattergl": [
           {
            "marker": {
             "colorbar": {
              "outlinewidth": 0,
              "ticks": ""
             }
            },
            "type": "scattergl"
           }
          ],
          "scattermapbox": [
           {
            "marker": {
             "colorbar": {
              "outlinewidth": 0,
              "ticks": ""
             }
            },
            "type": "scattermapbox"
           }
          ],
          "scatterpolar": [
           {
            "marker": {
             "colorbar": {
              "outlinewidth": 0,
              "ticks": ""
             }
            },
            "type": "scatterpolar"
           }
          ],
          "scatterpolargl": [
           {
            "marker": {
             "colorbar": {
              "outlinewidth": 0,
              "ticks": ""
             }
            },
            "type": "scatterpolargl"
           }
          ],
          "scatterternary": [
           {
            "marker": {
             "colorbar": {
              "outlinewidth": 0,
              "ticks": ""
             }
            },
            "type": "scatterternary"
           }
          ],
          "surface": [
           {
            "colorbar": {
             "outlinewidth": 0,
             "ticks": ""
            },
            "colorscale": [
             [
              0,
              "#0d0887"
             ],
             [
              0.1111111111111111,
              "#46039f"
             ],
             [
              0.2222222222222222,
              "#7201a8"
             ],
             [
              0.3333333333333333,
              "#9c179e"
             ],
             [
              0.4444444444444444,
              "#bd3786"
             ],
             [
              0.5555555555555556,
              "#d8576b"
             ],
             [
              0.6666666666666666,
              "#ed7953"
             ],
             [
              0.7777777777777778,
              "#fb9f3a"
             ],
             [
              0.8888888888888888,
              "#fdca26"
             ],
             [
              1,
              "#f0f921"
             ]
            ],
            "type": "surface"
           }
          ],
          "table": [
           {
            "cells": {
             "fill": {
              "color": "#EBF0F8"
             },
             "line": {
              "color": "white"
             }
            },
            "header": {
             "fill": {
              "color": "#C8D4E3"
             },
             "line": {
              "color": "white"
             }
            },
            "type": "table"
           }
          ]
         },
         "layout": {
          "annotationdefaults": {
           "arrowcolor": "#2a3f5f",
           "arrowhead": 0,
           "arrowwidth": 1
          },
          "autotypenumbers": "strict",
          "coloraxis": {
           "colorbar": {
            "outlinewidth": 0,
            "ticks": ""
           }
          },
          "colorscale": {
           "diverging": [
            [
             0,
             "#8e0152"
            ],
            [
             0.1,
             "#c51b7d"
            ],
            [
             0.2,
             "#de77ae"
            ],
            [
             0.3,
             "#f1b6da"
            ],
            [
             0.4,
             "#fde0ef"
            ],
            [
             0.5,
             "#f7f7f7"
            ],
            [
             0.6,
             "#e6f5d0"
            ],
            [
             0.7,
             "#b8e186"
            ],
            [
             0.8,
             "#7fbc41"
            ],
            [
             0.9,
             "#4d9221"
            ],
            [
             1,
             "#276419"
            ]
           ],
           "sequential": [
            [
             0,
             "#0d0887"
            ],
            [
             0.1111111111111111,
             "#46039f"
            ],
            [
             0.2222222222222222,
             "#7201a8"
            ],
            [
             0.3333333333333333,
             "#9c179e"
            ],
            [
             0.4444444444444444,
             "#bd3786"
            ],
            [
             0.5555555555555556,
             "#d8576b"
            ],
            [
             0.6666666666666666,
             "#ed7953"
            ],
            [
             0.7777777777777778,
             "#fb9f3a"
            ],
            [
             0.8888888888888888,
             "#fdca26"
            ],
            [
             1,
             "#f0f921"
            ]
           ],
           "sequentialminus": [
            [
             0,
             "#0d0887"
            ],
            [
             0.1111111111111111,
             "#46039f"
            ],
            [
             0.2222222222222222,
             "#7201a8"
            ],
            [
             0.3333333333333333,
             "#9c179e"
            ],
            [
             0.4444444444444444,
             "#bd3786"
            ],
            [
             0.5555555555555556,
             "#d8576b"
            ],
            [
             0.6666666666666666,
             "#ed7953"
            ],
            [
             0.7777777777777778,
             "#fb9f3a"
            ],
            [
             0.8888888888888888,
             "#fdca26"
            ],
            [
             1,
             "#f0f921"
            ]
           ]
          },
          "colorway": [
           "#636efa",
           "#EF553B",
           "#00cc96",
           "#ab63fa",
           "#FFA15A",
           "#19d3f3",
           "#FF6692",
           "#B6E880",
           "#FF97FF",
           "#FECB52"
          ],
          "font": {
           "color": "#2a3f5f"
          },
          "geo": {
           "bgcolor": "white",
           "lakecolor": "white",
           "landcolor": "#E5ECF6",
           "showlakes": true,
           "showland": true,
           "subunitcolor": "white"
          },
          "hoverlabel": {
           "align": "left"
          },
          "hovermode": "closest",
          "mapbox": {
           "style": "light"
          },
          "paper_bgcolor": "white",
          "plot_bgcolor": "#E5ECF6",
          "polar": {
           "angularaxis": {
            "gridcolor": "white",
            "linecolor": "white",
            "ticks": ""
           },
           "bgcolor": "#E5ECF6",
           "radialaxis": {
            "gridcolor": "white",
            "linecolor": "white",
            "ticks": ""
           }
          },
          "scene": {
           "xaxis": {
            "backgroundcolor": "#E5ECF6",
            "gridcolor": "white",
            "gridwidth": 2,
            "linecolor": "white",
            "showbackground": true,
            "ticks": "",
            "zerolinecolor": "white"
           },
           "yaxis": {
            "backgroundcolor": "#E5ECF6",
            "gridcolor": "white",
            "gridwidth": 2,
            "linecolor": "white",
            "showbackground": true,
            "ticks": "",
            "zerolinecolor": "white"
           },
           "zaxis": {
            "backgroundcolor": "#E5ECF6",
            "gridcolor": "white",
            "gridwidth": 2,
            "linecolor": "white",
            "showbackground": true,
            "ticks": "",
            "zerolinecolor": "white"
           }
          },
          "shapedefaults": {
           "line": {
            "color": "#2a3f5f"
           }
          },
          "ternary": {
           "aaxis": {
            "gridcolor": "white",
            "linecolor": "white",
            "ticks": ""
           },
           "baxis": {
            "gridcolor": "white",
            "linecolor": "white",
            "ticks": ""
           },
           "bgcolor": "#E5ECF6",
           "caxis": {
            "gridcolor": "white",
            "linecolor": "white",
            "ticks": ""
           }
          },
          "title": {
           "x": 0.05
          },
          "xaxis": {
           "automargin": true,
           "gridcolor": "white",
           "linecolor": "white",
           "ticks": "",
           "title": {
            "standoff": 15
           },
           "zerolinecolor": "white",
           "zerolinewidth": 2
          },
          "yaxis": {
           "automargin": true,
           "gridcolor": "white",
           "linecolor": "white",
           "ticks": "",
           "title": {
            "standoff": 15
           },
           "zerolinecolor": "white",
           "zerolinewidth": 2
          }
         }
        },
        "width": 700,
        "xaxis": {
         "anchor": "y",
         "autorange": true,
         "domain": [
          0,
          1
         ],
         "range": [
          -50,
          1950
         ],
         "tickfont": {
          "size": 16
         },
         "title": {
          "font": {
           "size": 16
          },
          "text": "Mitte der dominanten Zeitebene"
         },
         "type": "linear"
        },
        "yaxis": {
         "anchor": "x",
         "autorange": true,
         "domain": [
          0,
          1
         ],
         "range": [
          0,
          0.0061403508771929825
         ],
         "tickfont": {
          "size": 16
         },
         "title": {
          "font": {
           "size": 16
          },
          "text": "Anteil"
         }
        }
       }
      },
      "text/html": [
       "<div>                            <div id=\"5fa671af-e505-4b3b-81a0-e6bd182b4b5d\" class=\"plotly-graph-div\" style=\"height:300px; width:700px;\"></div>            <script type=\"text/javascript\">                require([\"plotly\"], function(Plotly) {                    window.PLOTLYENV=window.PLOTLYENV || {};                                    if (document.getElementById(\"5fa671af-e505-4b3b-81a0-e6bd182b4b5d\")) {                    Plotly.newPlot(                        \"5fa671af-e505-4b3b-81a0-e6bd182b4b5d\",                        [{\"alignmentgroup\":\"True\",\"bingroup\":\"x\",\"histnorm\":\"probability density\",\"hovertemplate\":\"=Nicht nationalistische Texte\\u003cbr\\u003e(Mittelwert = 1269)\\u003cbr\\u003eMitte der dominanten Zeitebene=%{x}\\u003cbr\\u003eprobability density=%{y}\\u003cextra\\u003e\\u003c\\u002fextra\\u003e\",\"legendgroup\":\"Nicht nationalistische Texte\\u003cbr\\u003e(Mittelwert = 1269)\",\"marker\":{\"color\":\"#636efa\",\"pattern\":{\"shape\":\"\"}},\"name\":\"Nicht nationalistische Texte\\u003cbr\\u003e(Mittelwert = 1269)\",\"offsetgroup\":\"Nicht nationalistische Texte\\u003cbr\\u003e(Mittelwert = 1269)\",\"orientation\":\"v\",\"showlegend\":true,\"x\":[928.5,null,0.0,0.0,1310.5,250.0,1000.0,1208.0,1225.0,1294.5,1308.0,1308.0,1352.0,1415.0,1410.0,1552.0,1552.0,1631.0,1741.0,1783.0,1815.0,1812.5,1476.0,1476.0,1477.0,1840.0,774.0,809.0,1022.0,1313.0,1500.0,1517.0,1517.0,1530.0,1531.0,807.0,1522.0,1521.0,1521.5,1531.5,1500.0,1519.0,1521.0,1521.0,1525.0,370.0,396.0,455.0,455.0,592.0,718.0,530.0,652.0,250.0,706.5,809.0,800.0,1250.0,1500.0,1500.0,1522.5,1200.0,1400.0,1312.0,1318.0,1315.0,1349.0,1400.0,1400.0,1432.5,1518.0,1510.0,1500.0,1525.0,1523.0,1483.5,1531.0,1535.0,1537.0,1512.0,1530.0,1634.0,1648.0,1648.0,1631.0,1806.0,1770.0,1850.0,1850.0,1200.0,928.0,1200.0,1412.0,1453.5,1636.0,1633.0,1674.0,1674.0,1745.0,1746.0,1748.5,1757.0,0.0,445.0,455.0,1850.0,1400.0,1400.0,1571.0,1561.5,1623.0,1854.0,947.0,1674.0,null,1099.0,1450.0,800.0,1850.0,1093.0,1350.0,1432.0,1624.0,1678.0,1684.0,1690.5,1720.0,1726.5,1715.0,1756.0,1758.0,1759.0,1757.0,1765.0,1810.0,1812.5,1815.0,1818.5,1840.0,1850.0,1857.0,1860.0,1864.0,1864.0,1415.0,1448.0,1517.0,1535.0,1654.0,1701.0,1715.0,1726.5,1740.0,1741.0,1742.0,1745.0,1756.0,1757.0,1757.0,1759.0,1763.0,1785.0,1783.0,1772.0,1807.0,1820.0,1850.5,1864.0,1866.0,1806.0,0.0,37.0,1032.0,1572.0,1831.0,1542.0,1540.0,1631.0,1547.0,1855.0,null,0.0,0.0,0.0,0.0,776.0,0.0,0.0,0.0,0.0,0.0,0.0,0.0,0.0,0.0,0.0,0.0,241.0,0.0,0.0,0.0,0.0,5.0,0.0,64.0,79.0,212.0,268.0,259.0,305.0,375.0,409.0,414.0,451.0,451.0,453.0,539.0,572.0,602.0,620.0,723.0,755.0,865.0,788.0,773.0,799.5,791.0,814.0,838.0,864.0,878.0,878.0,919.0,933.0,997.0,1021.5,1066.0,1074.0,1095.0,1126.0,1155.0,1209.0,1135.0,1168.0,1184.0,1194.0,1193.0,1215.0,1214.0,1250.0,1266.0,1267.0,1268.0,1282.0,1265.0,1273.0,1307.0,1322.0,1347.0,1349.0,1428.0,1389.0,1405.0,1414.0,1415.0,1415.0,1417.0,1432.0,1470.0,1455.0,1474.0,1492.0,1434.0,1477.0,1506.0,1516.0,1523.0,1517.0,1525.0,1518.0,1519.0,1520.0,1521.0,1512.0,1525.0,1531.0,1529.0,1530.0,1535.0,1530.0,1540.0,1543.0,1566.0,1566.0,1535.0,1594.0,1634.0,1639.0,1658.0,1646.0,1675.0,1668.0,1622.5,1700.5,1681.5,1683.0,1683.0,1701.0,1717.0,1694.0,1697.0,1704.0,1705.0,1710.0,1710.0,1711.0,1664.0,1752.5,1757.0,1757.0,1758.0,1760.0,1785.0,1792.0,1799.0,1722.0,1785.0,1812.0,1798.0,1793.0,1793.0,1808.0,1806.0,1806.0,1809.0,1809.0,1812.0,1828.0,1840.0,1861.0,572.5,0.0,0.0,0.0,0.0,1850.0,0.0,0.0,718.0,791.0,1183.0,1208.0,1208.0,1234.0,1238.0,1450.0,1531.0,1823.0,1870.0,1870.0,1050.0,1106.0,1870.0,1870.0,791.0,1865.0,1525.0,1525.0,1546.0,1519.0,1531.0,1631.0,1757.0,1741.0,1181.0,1520.0,1530.0,1769.0,1227.0,1675.0,1726.5,1870.0,1870.0,1241.0,1322.0,1325.0,1325.0,1335.0,1452.0,1471.0,1558.0,1557.5,1634.0,1683.0,1757.0,1777.5,1776.0,1790.0,1855.0,1809.0,1848.0,1830.0,1879.0,434.0,466.0,1879.0,476.0,700.0,850.0,1000.0,1079.0,1099.0,1150.0,1246.0,1260.0,1276.0,1278.0,1265.5,1281.0,1307.0,1346.0,1356.0,1365.0,1382.0,1386.0,1406.0,1442.0,1452.0,1435.5,1400.0,1477.0,1480.0,1483.0,1486.0,1510.0,1504.0,1500.0,1547.0,1570.0,1552.0,1552.0,1556.0,1511.0,1564.0,1539.5,1557.0,1575.0,1598.0,1593.5,1616.5,1616.5,1632.0,1633.0,1664.0,1680.0,1683.0,1683.0,1683.0,1683.0,1702.0,1709.0,1710.0,1708.0,1757.0,1750.0,1754.0,1750.0,1736.0,1746.0,1750.5,1787.0,1785.0,1791.0,1773.5,1797.0,1797.0,1799.0,1801.0,1809.0,1810.0,1813.0,1813.0,1815.0,1815.0,1820.0,1822.0,1827.0,1834.0,1841.0,1848.5,1853.0,1757.0,1858.0,1858.0,1860.0,1864.0,1820.5,1866.0,1870.0,1867.0,1867.0,1871.0,1871.0,1871.0,1873.0,1878.0,1879.0,1282.0,1355.0,1477.0,1521.0,1686.0,1760.0,1879.0,1420.0,1632.0,1780.0,1865.5,1675.0,0.0,0.0,327.0,0.0,64.5,396.0,451.0,555.0,600.0,638.0,1240.0,1400.0,1300.0,1512.0,1521.0,1530.0,1620.0,1630.0,1620.0,1675.0,1704.0,1718.0,1870.0,410.0,777.0,783.0,782.0,784.0,785.0,936.0,1521.5,1717.0,1706.0,9.0,408.0,791.0,944.0,947.0,965.0,1170.0,1517.0,1664.0,1759.0,1772.5,1632.0,493.0,791.0,919.0,1268.0,1517.0,1521.0,1530.0,552.0,783.0,1100.0,1325.0,1157.0,1517.0,1628.0,1813.0,1150.0,451.0,1172.5,1250.0,1266.0,1272.0,1386.0,1521.0,1683.0,1630.0,1830.0,200.0,150.0,452.0,781.0,1030.0,1162.0,1150.0,1505.0,1860.0,1850.0,1870.0,1888.0,945.0,290.0,0.0,363.0,360.0,379.0,416.0,582.0,730.0,822.0,1030.0,1200.0,1250.0,1349.0,1498.0,1520.0,1860.0,1547.0,1547.0,1569.0,1502.5,1690.0,1699.0,1692.0,1728.5,1755.0,1801.0,1822.5,0.0,0.0,16.0,70.0,408.0,452.0,534.0,551.0,552.0,568.0,585.0,505.0,542.0,676.0,772.0,772.0,800.0,814.0,810.0,593.0,718.0,730.0,753.0,875.0,918.0,947.0,955.0,957.0,982.0,1007.0,1056.0,1062.0,1077.0,1106.0,1138.5,1147.0,1155.0,1155.0,1168.0,1176.0,1181.0,1189.0,1190.0,1194.0,1193.0,1197.0,1212.0,1000.0,1242.0,1245.0,1249.0,1252.0,1254.0,1256.0,1269.0,1860.0,1290.0,1308.0,1358.0,1349.0,1349.0,1512.0,1516.0,1517.0,1521.0,1510.0,1525.0,1525.0,1525.0,1530.0,1547.0,1550.5,1521.0,1618.0,1626.0,1632.0,1632.0,1632.0,1648.0,1656.5,1637.0,1656.5,1656.0,1675.0,1675.0,1647.5,1731.0,1741.0,1741.0,1741.0,1757.0,1757.0,1757.0,1757.0,1760.0,1761.0,1759.0,1765.0,1775.5,1806.0,1809.0,1809.0,1812.0,1813.0,1813.0,1813.0,1813.0,1815.0,1810.0,1848.0,1866.0,1850.0,1850.0,1866.0,1867.0,1870.0,1870.0,1140.0,1243.0,1313.5,1412.0,1413.0,1510.0,1555.5,1580.0,1557.0,1571.0,1330.0,1370.0,1410.0,1318.0,1415.0,1319.0,1350.0,1603.0,897.0,1256.0,1456.0,1705.0,1189.0,1373.0,1568.0,1626.0,1547.0,1028.0,1093.0,1131.0,1289.0,1719.0,1183.0,1370.0,1474.0,1637.0,1075.0,1130.0,1156.0,1170.0,1270.0,1448.5,1525.0,1553.0,1227.0,1233.5,1252.0,1319.0,1331.0,1363.0,1404.0,1404.0,1418.0,1500.0,1524.0,1559.0,1225.0,1570.0,1417.0,1475.0,936.0,947.0,1106.0,1268.0,1323.5,1417.0,1870.5,0.0,0.0,0.0,0.0,9.0,65.0,100.0,1870.0,1860.0,200.0,1870.0,213.0,251.0,310.0,935.0,451.0,397.0,0.0,415.0,429.0,455.0,476.0,476.0,546.0,552.0,568.0,573.0,570.0,1885.0,950.0,900.0,737.0,800.0,787.0,796.0,796.0,791.0,810.0,918.0,919.0,929.0,969.0,978.0,1002.0,1054.0,1063.0,1073.0,1077.0,1095.0,1137.0,1070.0,1189.0,1158.0,1164.0,1176.0,1189.0,1860.0,1210.0,1180.0,1207.0,1231.0,1383.0,1457.0,1245.0,1267.0,1267.0,1268.0,1870.0,1270.0,1268.0,1264.5,1309.0,1869.0,1340.0,1346.0,1374.0,1437.0,1474.0,1520.0,1868.0,1570.0,1600.0,1622.0,1626.0,1630.0,1630.0,1630.0,1634.0,1643.0,1855.0,1757.0,1760.0,1762.0,1785.0,1794.0,812.0,1880.0,1866.0,1866.0,1881.0,1886.0,546.0,1501.5,1794.0,1813.0,1898.0,1897.0,1880.0,1897.0,1888.0,1881.0,1888.0,1890.0,0.0,0.0,0.0,1200.0,1340.5,1450.0,1495.0,1531.0,1757.0,1875.0,1880.0,800.0,947.0,1268.0,null,1514.5,1632.0,1642.5,1880.0,1810.0,1898.0,1890.0,0.0,940.0,450.0,718.0,774.0,778.0,941.0,955.0,1105.0,1099.0,1203.0,1444.0,1490.0,1450.0,1525.0,1540.0,1542.0,1534.0,1620.0,1633.0,1632.0,1793.0,1794.0,1812.0,1870.0,1888.0,225.0,90.0,1000.0,822.0,778.0,850.0,1105.0,1000.0,null,1200.0,1200.0,1000.0,1258.0,1300.0,1000.0,1275.0,1450.0,1000.0,1427.0,1546.0,1525.0,1525.0,1525.0,1525.0,1527.0,1525.0,1514.0,1870.0,1648.0,1777.5,1741.0,1758.0,1751.5,1757.0,1757.0,1760.0,0.0,0.0,0.0,0.0,0.0,0.0,0.0,0.0,0.0,0.0,0.0,0.0,0.0,0.0,0.0,0.0,0.0,0.0,0.0,0.0,0.0,0.0,0.0,0.0,0.0,0.0,0.0,0.0,0.0,0.0,0.0,0.0,0.0,0.0,0.0,0.0,0.0,0.0,0.0,0.0,0.0,30.0,397.0,0.0,0.0,0.0,0.0,0.0,0.0,0.0,0.0,0.0,0.0,0.0,0.0,0.0,0.0,0.0,0.0,0.0,0.0,0.0,0.0,0.0,0.0,0.0,0.0,0.0,0.0,20.0,0.0,14.0,14.0,26.0,26.0,19.0,10.0,55.0,60.0,66.0,60.0,64.0,64.0,64.0,125.0,130.0,110.0,274.0,400.0,410.0,452.0,0.0,0.0,0.0,0.0,1860.0,1860.0,1850.0,1870.0,0.0,1850.0,0.0,0.0,0.0,1866.0,1850.0,1840.0,1865.0,1865.0,1811.0,1811.0,1875.0,0.0,1880.0,1880.0,1860.0,1885.0,1885.0,1860.0,1870.0,1870.0,1850.0,1870.0,600.0,425.0,1002.0,1152.0,1343.5,1343.5,1343.5,1553.0,1626.0,1514.0,1863.0,1412.0,1414.0,1414.0,1420.0,1489.5,1547.0,1757.0,1755.0,1760.0,1772.0,1807.0,1812.0,1850.0,1851.0,1870.0,1870.0,1870.5,1870.5,1875.0,1870.0,1880.0,1888.0,1870.0,1880.0,718.0,776.0,1741.0,1757.0,1800.0,1793.0,1806.0,1812.0,1870.0,0.0,350.0,0.0,822.5,100.0,1900.0,1050.0,1485.0,1000.0,200.0,0.0,0.0,50.0,16.0,17.0,21.0,213.0,950.0,1885.0,552.0,572.5,580.0,496.0,613.0,800.0,718.0,800.0,785.0,790.0,1898.0,950.0,1080.0,1084.0,1167.0,1176.0,1200.0,1895.0,1200.0,1212.0,1225.0,1227.0,1100.0,1268.0,1260.5,1865.0,1313.0,1323.5,1330.0,1350.0,1350.0,1417.5,1415.0,1435.0,1459.0,1484.0,1450.0,1520.0,1516.0,1521.0,1518.0,1521.0,1517.0,1530.5,1523.0,1523.0,1523.0,1526.0,1540.0,1532.0,1525.0,1547.0,1626.0,1626.0,1631.0,1624.0,1889.0,1681.0,1689.0,1757.0,1758.0,1785.0,1769.0,1777.5,1770.0,1727.0,1792.0,1806.0,1810.0,1812.0,1813.0,1813.0,1814.0,1815.0,1866.0,1870.0,1870.0,1870.0,1870.0,1870.0,100.0,1884.0,1888.0,1880.0,1850.0,573.0,1278.0,1547.0,1675.0,1709.0,1741.0,1780.0,1757.5,1810.0,1827.0,1796.0,1809.0,1809.0,1809.0,1808.0,1813.0,1870.0,1870.0,1870.0,1871.0,1870.5,1870.0,1870.5,1867.5,589.0,802.0,1000.0,1158.0,1200.0,1208.0,1212.0,1227.0,1242.0,1266.0,1268.0,1268.0,1309.0,1386.0,1444.0,1450.0,1476.0,1499.5,1858.0,1525.0,1520.0,1568.0,1633.0,1646.0,1633.0,1705.0,1717.0,1770.0,1763.0,1786.0,1789.0,1805.0,1812.0,1813.0,1800.0,1800.0,1813.0,1811.0,1813.0,1814.0,1813.0,1813.0,1827.0,1870.0,null,1870.0,0.0,1000.0,1200.0,1812.0,1858.0,1914.0,1880.0,1200.0,1809.0,1914.0,1807.0,1870.0,1914.0,955.0,0.0,1093.5,1850.0,1386.0,1386.0,1567.0,1250.0,1450.0,1476.0,1476.0,1476.0,1476.0,1200.0,1200.0,1500.0,1515.0,1648.0,1500.0,1522.0,1523.0,1525.5,1531.0,1627.0,1793.0,1798.0,1812.0,1878.0,1809.0,785.0,1429.0,1534.0,1638.0,1633.0,1812.0,1812.0,1812.0,1813.0,1813.0,1914.0,796.0,919.0,919.0,1157.0,1270.0,1273.0,1517.0,1521.0,1400.0,1521.0,1145.0,1679.0,1633.0,1757.0,1782.0,1807.0,1813.0,1870.0,1918.0,1375.0,1520.0,1511.5,1830.0,1875.0,723.0,850.0,1193.0,1632.0,1705.0,0.0,0.0,1266.0,1361.0,1365.5,1370.0,1530.0,1648.0,877.0,955.0,1252.0,1532.5,1709.0,1635.0,1000.0,1895.0,1520.0,1522.0,1626.0,1757.0,1763.0,1871.0,1792.0,1918.0,0.0,1000.0,1200.0,1350.0,1100.0,1706.0,1870.0,1914.0,1914.0,1914.0,0.0,150.0,1900.0,0.0,600.0,900.0,800.0,788.0,781.0,1900.0,650.0,658.5,998.0,950.0,1013.5,1020.0,788.0,973.0,1375.0,1200.0,1229.0,1200.0,1200.0,1200.0,1215.0,1270.0,1315.0,1410.0,1413.0,1895.0,1000.0,1319.0,1404.0,1476.0,1500.0,1374.0,1300.0,1350.0,1473.0,1503.0,1510.0,1510.0,1476.0,1476.0,1476.0,1476.0,1476.0,1515.0,1620.0,1500.0,1500.0,1550.0,1637.0,1300.0,1500.0,1280.0,1520.0,1523.0,1523.0,1518.0,1915.0,1521.0,1549.0,1631.0,1632.0,1633.0,1664.0,1635.0,1633.0,1780.0,1735.0,1770.0,1747.0,1836.0,1798.0,1885.0,1905.0,1860.0,1809.5,1812.0,1864.0,1866.0,1870.0,1888.0,1866.0,1914.0,1920.0,0.0,0.0,1880.0,50.0,552.0,796.0,926.0,1268.0,1350.0,1400.0,1402.0,1350.0,1525.0,1631.0,1648.0,1648.0,1812.0,1813.0,1864.0,1200.0,200.0,1066.0,1842.0,850.0,830.0,1000.0,1525.0,1632.0,null,1492.0,1644.0,1740.0,1790.0,1830.0,1789.0,900.0,906.0,1288.0,1523.0,1512.0,1520.0,1523.0],\"xaxis\":\"x\",\"yaxis\":\"y\",\"type\":\"histogram\"},{\"alignmentgroup\":\"True\",\"bingroup\":\"x\",\"histnorm\":\"probability density\",\"hovertemplate\":\"=Nationalistische Texte\\u003cbr\\u003e(Mittelwert = 1715)\\u003cbr\\u003eMitte der dominanten Zeitebene=%{x}\\u003cbr\\u003eprobability density=%{y}\\u003cextra\\u003e\\u003c\\u002fextra\\u003e\",\"legendgroup\":\"Nationalistische Texte\\u003cbr\\u003e(Mittelwert = 1715)\",\"marker\":{\"color\":\"#EF553B\",\"pattern\":{\"shape\":\"\"}},\"name\":\"Nationalistische Texte\\u003cbr\\u003e(Mittelwert = 1715)\",\"offsetgroup\":\"Nationalistische Texte\\u003cbr\\u003e(Mittelwert = 1715)\",\"orientation\":\"v\",\"showlegend\":true,\"x\":[1816.0,1633.0,1325.0,1664.0,1848.0,1757.0,1656.0,1664.0,1851.0,1525.0,1813.0,1813.0,1857.0,1864.0,1866.0,1866.0,1866.0,1870.0,1870.0,1870.5,1866.0,1154.0,1488.0,1521.0,1806.0,1815.0,1870.0,100.0,1870.0,1870.0,978.0,1870.0,1870.0,1870.0,1871.0,1870.0,1871.0,1871.0,1870.0,650.0,1870.0,17.0,1855.0,1100.0,1870.0,1870.0,1870.0,1838.5,1870.0,1870.5,1871.0,500.0,1875.0,1874.0,1416.0,1475.0,1487.0,1683.0,1809.0,1809.0,1834.0,1848.5,1857.0,1858.0,1862.0,1866.0,1873.0,1813.5,1873.0,1878.0,1879.0,null,1870.0,1853.0,1231.0,1318.0,1648.0,1806.0,1881.0,1870.0,1832.0,1870.0,1870.0,1870.0,1870.0,1870.5,1871.0,1870.0,1870.5,1883.0,1877.0,955.0,1850.0,1870.5,17.0,9.0,1002.0,1813.0,1848.0,1848.0,1861.0,1870.0,1870.0,1870.0,1870.0,1870.0,1870.5,1870.0,1871.0,1871.0,1888.0,449.0,633.0,1674.0,1793.0,1793.0,1806.0,1810.0,1813.0,1864.0,1870.0,1884.0,1888.0,1890.0,1891.0,1891.0,1226.0,897.0,1807.0,800.0,1865.0,933.0,1241.0,1796.0,1809.0,1813.0,1813.0,1858.0,1283.0,1862.0,1870.0,1875.0,1870.0,1875.0,1873.0,1880.0,1883.0,1888.0,1888.0,1810.0,1820.0,1870.0,1871.0,1842.5,1842.5,1870.5,1897.0,1897.0,1897.0,1877.0,1870.0,1674.0,1809.0,1870.5,1874.5,1895.0,1860.0,1077.0,1871.0,1849.0,1849.0,1870.5,800.0,1150.0,1144.5,1809.0,9.0,1865.0,1870.0,1806.0,1870.0,1848.0,1850.0,1863.0,1871.0,1892.0,1891.0,1347.0,1531.5,1806.0,1813.0,1834.0,1846.0,1860.0,1870.0,1870.0,1870.5,1870.0,1894.0,1883.0,1888.0,1896.0,1900.0,1870.0,1898.0,1850.0,1809.0,1870.5,1870.5,1807.5,1877.0,1900.0,1875.0,1888.0,1867.5,1914.0,1450.0,1876.0,1513.0,1852.0,1813.0,1916.0,1871.0,1875.0,1914.0,1916.0,1918.0,1515.0,1813.0,1900.0,1859.0,1834.0,1859.0,1871.0,1914.0,1228.0,1200.0,1265.0,1380.0,1633.0,1813.0,1916.0,1860.0,1809.0,1840.0,1817.0,1840.0,1814.0,1848.0,1875.0,1850.5,1916.0,1918.0],\"xaxis\":\"x\",\"yaxis\":\"y\",\"type\":\"histogram\"}],                        {\"template\":{\"data\":{\"histogram2dcontour\":[{\"type\":\"histogram2dcontour\",\"colorbar\":{\"outlinewidth\":0,\"ticks\":\"\"},\"colorscale\":[[0.0,\"#0d0887\"],[0.1111111111111111,\"#46039f\"],[0.2222222222222222,\"#7201a8\"],[0.3333333333333333,\"#9c179e\"],[0.4444444444444444,\"#bd3786\"],[0.5555555555555556,\"#d8576b\"],[0.6666666666666666,\"#ed7953\"],[0.7777777777777778,\"#fb9f3a\"],[0.8888888888888888,\"#fdca26\"],[1.0,\"#f0f921\"]]}],\"choropleth\":[{\"type\":\"choropleth\",\"colorbar\":{\"outlinewidth\":0,\"ticks\":\"\"}}],\"histogram2d\":[{\"type\":\"histogram2d\",\"colorbar\":{\"outlinewidth\":0,\"ticks\":\"\"},\"colorscale\":[[0.0,\"#0d0887\"],[0.1111111111111111,\"#46039f\"],[0.2222222222222222,\"#7201a8\"],[0.3333333333333333,\"#9c179e\"],[0.4444444444444444,\"#bd3786\"],[0.5555555555555556,\"#d8576b\"],[0.6666666666666666,\"#ed7953\"],[0.7777777777777778,\"#fb9f3a\"],[0.8888888888888888,\"#fdca26\"],[1.0,\"#f0f921\"]]}],\"heatmap\":[{\"type\":\"heatmap\",\"colorbar\":{\"outlinewidth\":0,\"ticks\":\"\"},\"colorscale\":[[0.0,\"#0d0887\"],[0.1111111111111111,\"#46039f\"],[0.2222222222222222,\"#7201a8\"],[0.3333333333333333,\"#9c179e\"],[0.4444444444444444,\"#bd3786\"],[0.5555555555555556,\"#d8576b\"],[0.6666666666666666,\"#ed7953\"],[0.7777777777777778,\"#fb9f3a\"],[0.8888888888888888,\"#fdca26\"],[1.0,\"#f0f921\"]]}],\"heatmapgl\":[{\"type\":\"heatmapgl\",\"colorbar\":{\"outlinewidth\":0,\"ticks\":\"\"},\"colorscale\":[[0.0,\"#0d0887\"],[0.1111111111111111,\"#46039f\"],[0.2222222222222222,\"#7201a8\"],[0.3333333333333333,\"#9c179e\"],[0.4444444444444444,\"#bd3786\"],[0.5555555555555556,\"#d8576b\"],[0.6666666666666666,\"#ed7953\"],[0.7777777777777778,\"#fb9f3a\"],[0.8888888888888888,\"#fdca26\"],[1.0,\"#f0f921\"]]}],\"contourcarpet\":[{\"type\":\"contourcarpet\",\"colorbar\":{\"outlinewidth\":0,\"ticks\":\"\"}}],\"contour\":[{\"type\":\"contour\",\"colorbar\":{\"outlinewidth\":0,\"ticks\":\"\"},\"colorscale\":[[0.0,\"#0d0887\"],[0.1111111111111111,\"#46039f\"],[0.2222222222222222,\"#7201a8\"],[0.3333333333333333,\"#9c179e\"],[0.4444444444444444,\"#bd3786\"],[0.5555555555555556,\"#d8576b\"],[0.6666666666666666,\"#ed7953\"],[0.7777777777777778,\"#fb9f3a\"],[0.8888888888888888,\"#fdca26\"],[1.0,\"#f0f921\"]]}],\"surface\":[{\"type\":\"surface\",\"colorbar\":{\"outlinewidth\":0,\"ticks\":\"\"},\"colorscale\":[[0.0,\"#0d0887\"],[0.1111111111111111,\"#46039f\"],[0.2222222222222222,\"#7201a8\"],[0.3333333333333333,\"#9c179e\"],[0.4444444444444444,\"#bd3786\"],[0.5555555555555556,\"#d8576b\"],[0.6666666666666666,\"#ed7953\"],[0.7777777777777778,\"#fb9f3a\"],[0.8888888888888888,\"#fdca26\"],[1.0,\"#f0f921\"]]}],\"mesh3d\":[{\"type\":\"mesh3d\",\"colorbar\":{\"outlinewidth\":0,\"ticks\":\"\"}}],\"scatter\":[{\"fillpattern\":{\"fillmode\":\"overlay\",\"size\":10,\"solidity\":0.2},\"type\":\"scatter\"}],\"parcoords\":[{\"type\":\"parcoords\",\"line\":{\"colorbar\":{\"outlinewidth\":0,\"ticks\":\"\"}}}],\"scatterpolargl\":[{\"type\":\"scatterpolargl\",\"marker\":{\"colorbar\":{\"outlinewidth\":0,\"ticks\":\"\"}}}],\"bar\":[{\"error_x\":{\"color\":\"#2a3f5f\"},\"error_y\":{\"color\":\"#2a3f5f\"},\"marker\":{\"line\":{\"color\":\"#E5ECF6\",\"width\":0.5},\"pattern\":{\"fillmode\":\"overlay\",\"size\":10,\"solidity\":0.2}},\"type\":\"bar\"}],\"scattergeo\":[{\"type\":\"scattergeo\",\"marker\":{\"colorbar\":{\"outlinewidth\":0,\"ticks\":\"\"}}}],\"scatterpolar\":[{\"type\":\"scatterpolar\",\"marker\":{\"colorbar\":{\"outlinewidth\":0,\"ticks\":\"\"}}}],\"histogram\":[{\"marker\":{\"pattern\":{\"fillmode\":\"overlay\",\"size\":10,\"solidity\":0.2}},\"type\":\"histogram\"}],\"scattergl\":[{\"type\":\"scattergl\",\"marker\":{\"colorbar\":{\"outlinewidth\":0,\"ticks\":\"\"}}}],\"scatter3d\":[{\"type\":\"scatter3d\",\"line\":{\"colorbar\":{\"outlinewidth\":0,\"ticks\":\"\"}},\"marker\":{\"colorbar\":{\"outlinewidth\":0,\"ticks\":\"\"}}}],\"scattermapbox\":[{\"type\":\"scattermapbox\",\"marker\":{\"colorbar\":{\"outlinewidth\":0,\"ticks\":\"\"}}}],\"scatterternary\":[{\"type\":\"scatterternary\",\"marker\":{\"colorbar\":{\"outlinewidth\":0,\"ticks\":\"\"}}}],\"scattercarpet\":[{\"type\":\"scattercarpet\",\"marker\":{\"colorbar\":{\"outlinewidth\":0,\"ticks\":\"\"}}}],\"carpet\":[{\"aaxis\":{\"endlinecolor\":\"#2a3f5f\",\"gridcolor\":\"white\",\"linecolor\":\"white\",\"minorgridcolor\":\"white\",\"startlinecolor\":\"#2a3f5f\"},\"baxis\":{\"endlinecolor\":\"#2a3f5f\",\"gridcolor\":\"white\",\"linecolor\":\"white\",\"minorgridcolor\":\"white\",\"startlinecolor\":\"#2a3f5f\"},\"type\":\"carpet\"}],\"table\":[{\"cells\":{\"fill\":{\"color\":\"#EBF0F8\"},\"line\":{\"color\":\"white\"}},\"header\":{\"fill\":{\"color\":\"#C8D4E3\"},\"line\":{\"color\":\"white\"}},\"type\":\"table\"}],\"barpolar\":[{\"marker\":{\"line\":{\"color\":\"#E5ECF6\",\"width\":0.5},\"pattern\":{\"fillmode\":\"overlay\",\"size\":10,\"solidity\":0.2}},\"type\":\"barpolar\"}],\"pie\":[{\"automargin\":true,\"type\":\"pie\"}]},\"layout\":{\"autotypenumbers\":\"strict\",\"colorway\":[\"#636efa\",\"#EF553B\",\"#00cc96\",\"#ab63fa\",\"#FFA15A\",\"#19d3f3\",\"#FF6692\",\"#B6E880\",\"#FF97FF\",\"#FECB52\"],\"font\":{\"color\":\"#2a3f5f\"},\"hovermode\":\"closest\",\"hoverlabel\":{\"align\":\"left\"},\"paper_bgcolor\":\"white\",\"plot_bgcolor\":\"#E5ECF6\",\"polar\":{\"bgcolor\":\"#E5ECF6\",\"angularaxis\":{\"gridcolor\":\"white\",\"linecolor\":\"white\",\"ticks\":\"\"},\"radialaxis\":{\"gridcolor\":\"white\",\"linecolor\":\"white\",\"ticks\":\"\"}},\"ternary\":{\"bgcolor\":\"#E5ECF6\",\"aaxis\":{\"gridcolor\":\"white\",\"linecolor\":\"white\",\"ticks\":\"\"},\"baxis\":{\"gridcolor\":\"white\",\"linecolor\":\"white\",\"ticks\":\"\"},\"caxis\":{\"gridcolor\":\"white\",\"linecolor\":\"white\",\"ticks\":\"\"}},\"coloraxis\":{\"colorbar\":{\"outlinewidth\":0,\"ticks\":\"\"}},\"colorscale\":{\"sequential\":[[0.0,\"#0d0887\"],[0.1111111111111111,\"#46039f\"],[0.2222222222222222,\"#7201a8\"],[0.3333333333333333,\"#9c179e\"],[0.4444444444444444,\"#bd3786\"],[0.5555555555555556,\"#d8576b\"],[0.6666666666666666,\"#ed7953\"],[0.7777777777777778,\"#fb9f3a\"],[0.8888888888888888,\"#fdca26\"],[1.0,\"#f0f921\"]],\"sequentialminus\":[[0.0,\"#0d0887\"],[0.1111111111111111,\"#46039f\"],[0.2222222222222222,\"#7201a8\"],[0.3333333333333333,\"#9c179e\"],[0.4444444444444444,\"#bd3786\"],[0.5555555555555556,\"#d8576b\"],[0.6666666666666666,\"#ed7953\"],[0.7777777777777778,\"#fb9f3a\"],[0.8888888888888888,\"#fdca26\"],[1.0,\"#f0f921\"]],\"diverging\":[[0,\"#8e0152\"],[0.1,\"#c51b7d\"],[0.2,\"#de77ae\"],[0.3,\"#f1b6da\"],[0.4,\"#fde0ef\"],[0.5,\"#f7f7f7\"],[0.6,\"#e6f5d0\"],[0.7,\"#b8e186\"],[0.8,\"#7fbc41\"],[0.9,\"#4d9221\"],[1,\"#276419\"]]},\"xaxis\":{\"gridcolor\":\"white\",\"linecolor\":\"white\",\"ticks\":\"\",\"title\":{\"standoff\":15},\"zerolinecolor\":\"white\",\"automargin\":true,\"zerolinewidth\":2},\"yaxis\":{\"gridcolor\":\"white\",\"linecolor\":\"white\",\"ticks\":\"\",\"title\":{\"standoff\":15},\"zerolinecolor\":\"white\",\"automargin\":true,\"zerolinewidth\":2},\"scene\":{\"xaxis\":{\"backgroundcolor\":\"#E5ECF6\",\"gridcolor\":\"white\",\"linecolor\":\"white\",\"showbackground\":true,\"ticks\":\"\",\"zerolinecolor\":\"white\",\"gridwidth\":2},\"yaxis\":{\"backgroundcolor\":\"#E5ECF6\",\"gridcolor\":\"white\",\"linecolor\":\"white\",\"showbackground\":true,\"ticks\":\"\",\"zerolinecolor\":\"white\",\"gridwidth\":2},\"zaxis\":{\"backgroundcolor\":\"#E5ECF6\",\"gridcolor\":\"white\",\"linecolor\":\"white\",\"showbackground\":true,\"ticks\":\"\",\"zerolinecolor\":\"white\",\"gridwidth\":2}},\"shapedefaults\":{\"line\":{\"color\":\"#2a3f5f\"}},\"annotationdefaults\":{\"arrowcolor\":\"#2a3f5f\",\"arrowhead\":0,\"arrowwidth\":1},\"geo\":{\"bgcolor\":\"white\",\"landcolor\":\"#E5ECF6\",\"subunitcolor\":\"white\",\"showland\":true,\"showlakes\":true,\"lakecolor\":\"white\"},\"title\":{\"x\":0.05},\"mapbox\":{\"style\":\"light\"}}},\"xaxis\":{\"anchor\":\"y\",\"domain\":[0.0,1.0],\"title\":{\"text\":\"Mitte der dominanten Zeitebene\",\"font\":{\"size\":16}},\"tickfont\":{\"size\":16}},\"yaxis\":{\"anchor\":\"x\",\"domain\":[0.0,1.0],\"title\":{\"text\":\"Anteil\",\"font\":{\"size\":16}},\"tickfont\":{\"size\":16}},\"legend\":{\"title\":{\"text\":\"\"},\"tracegroupgap\":0,\"font\":{\"size\":16},\"x\":0.15,\"y\":0.9},\"margin\":{\"t\":60},\"barmode\":\"group\",\"width\":700,\"height\":300,\"bargap\":0.1},                        {\"responsive\": true}                    ).then(function(){\n",
       "                            \n",
       "var gd = document.getElementById('5fa671af-e505-4b3b-81a0-e6bd182b4b5d');\n",
       "var x = new MutationObserver(function (mutations, observer) {{\n",
       "        var display = window.getComputedStyle(gd).display;\n",
       "        if (!display || display === 'none') {{\n",
       "            console.log([gd, 'removed!']);\n",
       "            Plotly.purge(gd);\n",
       "            observer.disconnect();\n",
       "        }}\n",
       "}});\n",
       "\n",
       "// Listen for the removal of the full notebook cells\n",
       "var notebookContainer = gd.closest('#notebook-container');\n",
       "if (notebookContainer) {{\n",
       "    x.observe(notebookContainer, {childList: true});\n",
       "}}\n",
       "\n",
       "// Listen for the clearing of the current output cell\n",
       "var outputEl = gd.closest('.output');\n",
       "if (outputEl) {{\n",
       "    x.observe(outputEl, {childList: true});\n",
       "}}\n",
       "\n",
       "                        })                };                });            </script>        </div>"
      ]
     },
     "metadata": {},
     "output_type": "display_data"
    },
    {
     "data": {
      "application/vnd.plotly.v1+json": {
       "config": {
        "plotlyServerURL": "https://plot.ly"
       },
       "data": [
        {
         "alignmentgroup": "True",
         "bingroup": "x",
         "histnorm": "probability density",
         "hovertemplate": "=Nicht nationalistische Texte<br>(Mittelwert = 1218.85)<br>beginn=%{x}<br>probability density=%{y}<extra></extra>",
         "legendgroup": "Nicht nationalistische Texte<br>(Mittelwert = 1218.85)",
         "marker": {
          "color": "#636efa",
          "pattern": {
           "shape": ""
          }
         },
         "name": "Nicht nationalistische Texte<br>(Mittelwert = 1218.85)",
         "offsetgroup": "Nicht nationalistische Texte<br>(Mittelwert = 1218.85)",
         "orientation": "v",
         "showlegend": true,
         "type": "histogram",
         "x": [
          924,
          null,
          -480,
          -149,
          1302,
          0,
          1000,
          1208,
          1225,
          1291,
          1308,
          1308,
          1350,
          1415,
          1410,
          1552,
          1552,
          1631,
          1741,
          1783,
          1815,
          1806,
          1476,
          1476,
          1477,
          1840,
          774,
          804,
          1020,
          1313,
          1500,
          1499,
          1499,
          1530,
          1531,
          807,
          1522,
          1521,
          1521,
          1517,
          1500,
          1519,
          1521,
          1521,
          1525,
          370,
          396,
          455,
          455,
          592,
          718,
          530,
          652,
          250,
          700,
          809,
          800,
          1250,
          1500,
          1500,
          1520,
          1200,
          1400,
          1312,
          1318,
          1315,
          1347,
          1400,
          1400,
          1401,
          1518,
          1510,
          1500,
          1525,
          1523,
          1450,
          1531,
          1535,
          1537,
          1512,
          1530,
          1620,
          1648,
          1648,
          1631,
          1806,
          1770,
          1850,
          1800,
          1200,
          928,
          1200,
          1412,
          1437,
          1634,
          1618,
          1674,
          1674,
          1745,
          1746,
          1740,
          1757,
          -3400,
          445,
          455,
          1850,
          1400,
          1400,
          1571,
          1553,
          1620,
          1854,
          947,
          1674,
          null,
          1099,
          1450,
          800,
          1850,
          1093,
          1350,
          1432,
          1624,
          1678,
          1684,
          1665,
          1720,
          1713,
          1715,
          1756,
          1758,
          1759,
          1757,
          1750,
          1810,
          1806,
          1815,
          1797,
          1840,
          1850,
          1857,
          1860,
          1864,
          1864,
          1415,
          1448,
          1499,
          1535,
          1654,
          1701,
          1715,
          1713,
          1740,
          1741,
          1742,
          1745,
          1756,
          1757,
          1757,
          1759,
          1763,
          1785,
          1780,
          1758,
          1807,
          1820,
          1840,
          1864,
          1866,
          1806,
          -429,
          37,
          1032,
          1572,
          1831,
          1542,
          1540,
          1631,
          1547,
          1850,
          null,
          -525,
          -1000,
          -845,
          -586,
          776,
          -492,
          -480,
          -480,
          -480,
          -478,
          -355,
          -334,
          -320,
          -384,
          -321,
          -290,
          241,
          -218,
          -133,
          -72,
          -52,
          5,
          -100,
          64,
          79,
          212,
          268,
          259,
          305,
          350,
          409,
          414,
          451,
          451,
          453,
          539,
          572,
          602,
          620,
          723,
          755,
          865,
          772,
          773,
          798,
          768,
          814,
          838,
          864,
          878,
          878,
          919,
          933,
          997,
          1015,
          1066,
          1074,
          1095,
          1126,
          1155,
          1200,
          1135,
          1168,
          1184,
          1194,
          1192,
          1215,
          1214,
          1250,
          1266,
          1267,
          1268,
          1282,
          1265,
          1273,
          1307,
          1322,
          1347,
          1349,
          1428,
          1378,
          1400,
          1414,
          1415,
          1415,
          1417,
          1432,
          1470,
          1455,
          1474,
          1492,
          1400,
          1477,
          1506,
          1516,
          1523,
          1517,
          1525,
          1518,
          1519,
          1520,
          1521,
          1512,
          1525,
          1531,
          1529,
          1530,
          1535,
          1530,
          1540,
          1543,
          1566,
          1566,
          1494,
          1576,
          1634,
          1639,
          1658,
          1646,
          1675,
          1668,
          1610,
          1682,
          1658,
          1683,
          1683,
          1701,
          1717,
          1694,
          1697,
          1704,
          1705,
          1710,
          1710,
          1711,
          1640,
          1742,
          1757,
          1757,
          1758,
          1760,
          1785,
          1792,
          1799,
          1722,
          1785,
          1812,
          1798,
          1793,
          1793,
          1808,
          1806,
          1806,
          1809,
          1809,
          1812,
          1825,
          1840,
          1861,
          572,
          -596,
          -548,
          -480,
          -338,
          1850,
          -167,
          -73,
          718,
          768,
          1096,
          1208,
          1208,
          1234,
          1238,
          1450,
          1529,
          1823,
          1870,
          1870,
          900,
          1106,
          1870,
          1870,
          768,
          1865,
          1525,
          1525,
          1546,
          1517,
          1531,
          1631,
          1757,
          1741,
          1181,
          1520,
          1530,
          1769,
          1227,
          1675,
          1713,
          1870,
          1870,
          1241,
          1322,
          1325,
          1325,
          1335,
          1452,
          1471,
          1558,
          1557,
          1634,
          1683,
          1757,
          1765,
          1776,
          1790,
          1855,
          1809,
          1848,
          1830,
          1879,
          434,
          450,
          1879,
          476,
          700,
          800,
          1000,
          1079,
          1099,
          1150,
          1246,
          1260,
          1276,
          1278,
          1253,
          1281,
          1307,
          1346,
          1356,
          1365,
          1382,
          1386,
          1406,
          1442,
          1452,
          1415,
          1400,
          1477,
          1480,
          1483,
          1486,
          1510,
          1504,
          1500,
          1547,
          1570,
          1552,
          1552,
          1556,
          1511,
          1564,
          1521,
          1557,
          1575,
          1598,
          1575,
          1616,
          1616,
          1632,
          1618,
          1664,
          1680,
          1683,
          1683,
          1683,
          1683,
          1702,
          1709,
          1710,
          1705,
          1757,
          1750,
          1754,
          1750,
          1715,
          1746,
          1714,
          1787,
          1785,
          1791,
          1756,
          1797,
          1797,
          1799,
          1801,
          1809,
          1810,
          1813,
          1813,
          1815,
          1815,
          1820,
          1822,
          1827,
          1834,
          1841,
          1848,
          1853,
          1757,
          1858,
          1858,
          1860,
          1864,
          1776,
          1866,
          1870,
          1867,
          1867,
          1871,
          1871,
          1871,
          1873,
          1878,
          1879,
          1282,
          1355,
          1477,
          1521,
          1686,
          1760,
          1879,
          1420,
          1632,
          1780,
          1864,
          1675,
          -500,
          -359,
          327,
          -217,
          64,
          396,
          451,
          555,
          600,
          638,
          1240,
          1300,
          1200,
          1512,
          1521,
          1530,
          1620,
          1630,
          1620,
          1675,
          1704,
          1718,
          1870,
          410,
          777,
          783,
          782,
          784,
          785,
          936,
          1521,
          1717,
          1706,
          9,
          408,
          768,
          944,
          947,
          965,
          1170,
          1499,
          1640,
          1759,
          1759,
          1632,
          493,
          768,
          919,
          1268,
          1517,
          1521,
          1530,
          552,
          783,
          800,
          1325,
          1157,
          1517,
          1628,
          1813,
          800,
          451,
          1155,
          1250,
          1266,
          1272,
          1386,
          1521,
          1683,
          1630,
          1830,
          200,
          -200,
          452,
          777,
          1030,
          1162,
          1150,
          1505,
          1860,
          1850,
          1870,
          1888,
          0,
          290,
          -312,
          363,
          360,
          379,
          416,
          582,
          730,
          822,
          1030,
          1190,
          1200,
          1347,
          1498,
          1520,
          1860,
          1547,
          1547,
          1569,
          1501,
          1680,
          1699,
          1692,
          1721,
          1729,
          1768,
          1822,
          -113,
          -9,
          16,
          70,
          408,
          452,
          534,
          551,
          552,
          568,
          585,
          505,
          542,
          676,
          772,
          772,
          800,
          814,
          810,
          593,
          718,
          730,
          753,
          875,
          918,
          947,
          955,
          957,
          982,
          1007,
          1056,
          1062,
          1077,
          1106,
          1138,
          1147,
          1155,
          1155,
          1168,
          1176,
          1181,
          1189,
          1189,
          1191,
          1193,
          1197,
          1212,
          500,
          1242,
          1245,
          1249,
          1252,
          1254,
          1256,
          1269,
          1860,
          1290,
          1308,
          1358,
          1349,
          1349,
          1512,
          1516,
          1515,
          1521,
          1500,
          1525,
          1525,
          1525,
          1530,
          1547,
          1550,
          1521,
          1618,
          1626,
          1632,
          1632,
          1632,
          1648,
          1646,
          1637,
          1656,
          1656,
          1675,
          1675,
          1620,
          1731,
          1741,
          1741,
          1741,
          1757,
          1757,
          1757,
          1757,
          1760,
          1761,
          1758,
          1765,
          1773,
          1806,
          1809,
          1809,
          1812,
          1813,
          1813,
          1813,
          1813,
          1815,
          1807,
          1848,
          1866,
          1850,
          1850,
          1866,
          1867,
          1870,
          1870,
          1140,
          1220,
          1308,
          1412,
          1413,
          1510,
          1537,
          1580,
          1557,
          1571,
          1330,
          1370,
          1410,
          1318,
          1415,
          1319,
          1350,
          1603,
          897,
          1256,
          1456,
          1705,
          1189,
          1373,
          1568,
          1626,
          1547,
          1028,
          1093,
          1131,
          1289,
          1719,
          1183,
          1370,
          1474,
          1637,
          1075,
          1130,
          1140,
          1170,
          1270,
          1446,
          1525,
          1553,
          1227,
          1233,
          1252,
          1319,
          1331,
          1363,
          1404,
          1404,
          1418,
          1500,
          1524,
          1559,
          1225,
          1570,
          1417,
          1475,
          936,
          947,
          1106,
          1268,
          1322,
          1417,
          1870,
          -330,
          0,
          -113,
          -101,
          9,
          65,
          100,
          1850,
          1860,
          200,
          1860,
          213,
          251,
          310,
          10,
          451,
          397,
          -202,
          415,
          429,
          455,
          476,
          476,
          546,
          552,
          568,
          573,
          570,
          1880,
          800,
          500,
          720,
          800,
          787,
          796,
          796,
          768,
          810,
          918,
          919,
          929,
          965,
          978,
          1002,
          1054,
          1063,
          1073,
          1077,
          1095,
          1137,
          1040,
          1189,
          1158,
          1164,
          1176,
          1189,
          1860,
          1190,
          1180,
          1207,
          1212,
          1309,
          1457,
          1245,
          1267,
          1267,
          1268,
          1870,
          1268,
          1268,
          1256,
          1309,
          1869,
          1340,
          1346,
          1374,
          1437,
          1474,
          1520,
          1868,
          1567,
          1600,
          1622,
          1626,
          1630,
          1630,
          1630,
          1634,
          1643,
          1840,
          1757,
          1760,
          1762,
          1785,
          1794,
          810,
          1880,
          1866,
          1866,
          1881,
          1886,
          546,
          1499,
          1794,
          1813,
          1898,
          1897,
          1880,
          1897,
          1888,
          1881,
          1888,
          1890,
          -107,
          -107,
          -58,
          1200,
          1317,
          1450,
          1495,
          1531,
          1757,
          1870,
          1880,
          800,
          947,
          1268,
          null,
          1483,
          1632,
          1415,
          1880,
          1810,
          1898,
          1890,
          0,
          0,
          300,
          718,
          774,
          778,
          941,
          955,
          1105,
          1099,
          1138,
          1420,
          1490,
          1400,
          1525,
          1540,
          1542,
          1534,
          1620,
          1618,
          1632,
          1793,
          1794,
          1812,
          1870,
          1888,
          -50,
          90,
          500,
          822,
          778,
          800,
          1105,
          500,
          null,
          1200,
          1200,
          500,
          1258,
          1300,
          1000,
          1050,
          1440,
          500,
          1424,
          1546,
          1525,
          1524,
          1525,
          1520,
          1524,
          1525,
          1514,
          1840,
          1648,
          1740,
          1741,
          1758,
          1740,
          1757,
          1757,
          1760,
          -332,
          -2000,
          -500,
          -1220,
          -800,
          -1200,
          -800,
          -700,
          -650,
          -570,
          -553,
          -800,
          -494,
          -500,
          -400,
          -470,
          -435,
          -490,
          -480,
          -480,
          -480,
          -480,
          -480,
          -459,
          -471,
          -468,
          -440,
          -429,
          -415,
          -415,
          -399,
          -399,
          -370,
          -418,
          -338,
          -356,
          -336,
          -326,
          -197,
          -207,
          -146,
          30,
          397,
          -508,
          -384,
          -384,
          0,
          -279,
          -238,
          -218,
          -216,
          -183,
          -183,
          -215,
          -121,
          -105,
          -87,
          -79,
          -62,
          -46,
          -53,
          -42,
          -46,
          -44,
          -44,
          -42,
          -30,
          -30,
          -4,
          20,
          -40,
          14,
          14,
          26,
          26,
          19,
          10,
          55,
          60,
          66,
          60,
          64,
          64,
          64,
          125,
          130,
          110,
          274,
          400,
          410,
          452,
          -1000,
          -200,
          -400,
          -1200,
          1860,
          1860,
          1850,
          1870,
          -400,
          1850,
          -525,
          -100,
          -401,
          1866,
          1850,
          1840,
          1865,
          1865,
          1811,
          1811,
          1875,
          -10,
          1880,
          1880,
          1860,
          1885,
          1885,
          1860,
          1840,
          1870,
          1850,
          1860,
          600,
          350,
          1002,
          1152,
          1230,
          1230,
          1230,
          1553,
          1626,
          1500,
          1856,
          1412,
          1414,
          1414,
          1420,
          1480,
          1547,
          1757,
          1740,
          1740,
          1772,
          1807,
          1812,
          1850,
          1851,
          1870,
          1870,
          1870,
          1870,
          1875,
          1870,
          1880,
          1888,
          1870,
          1880,
          718,
          776,
          1741,
          1757,
          1800,
          1793,
          1806,
          1812,
          1870,
          0,
          0,
          0,
          822,
          100,
          1900,
          800,
          1480,
          1000,
          200,
          -55,
          -55,
          -200,
          16,
          17,
          21,
          213,
          400,
          1885,
          552,
          572,
          580,
          496,
          613,
          800,
          718,
          800,
          785,
          790,
          1898,
          950,
          1080,
          1084,
          1167,
          1176,
          1200,
          1895,
          1200,
          1212,
          1225,
          1227,
          1100,
          1268,
          1249,
          1850,
          1313,
          1322,
          1330,
          1350,
          1350,
          1415,
          1415,
          1435,
          1450,
          1484,
          1450,
          1520,
          1515,
          1519,
          1518,
          1521,
          1517,
          1515,
          1523,
          1523,
          1523,
          1522,
          1540,
          1532,
          1525,
          1547,
          1626,
          1618,
          1630,
          1618,
          1889,
          1681,
          1689,
          1757,
          1758,
          1785,
          1769,
          1765,
          1770,
          1727,
          1792,
          1806,
          1810,
          1812,
          1813,
          1813,
          1814,
          1815,
          1866,
          1870,
          1870,
          1870,
          1870,
          1870,
          -100,
          1884,
          1888,
          1880,
          1800,
          573,
          1278,
          1547,
          1675,
          1709,
          1741,
          1780,
          1757,
          1810,
          1827,
          1796,
          1809,
          1809,
          1809,
          1808,
          1813,
          1870,
          1870,
          1870,
          1871,
          1870,
          1870,
          1870,
          1864,
          589,
          790,
          1000,
          1158,
          1200,
          1208,
          1212,
          1227,
          1242,
          1266,
          1268,
          1268,
          1309,
          1386,
          1444,
          1450,
          1476,
          1471,
          1858,
          1525,
          1520,
          1568,
          1618,
          1632,
          1618,
          1705,
          1717,
          1770,
          1740,
          1781,
          1789,
          1805,
          1812,
          1813,
          1800,
          1800,
          1813,
          1807,
          1813,
          1813,
          1813,
          1813,
          1827,
          1870,
          null,
          1870,
          -5000,
          1000,
          1200,
          1812,
          1858,
          1914,
          1880,
          1200,
          1809,
          1914,
          1807,
          1870,
          1914,
          955,
          -61,
          919,
          1850,
          1386,
          1386,
          1567,
          1250,
          1450,
          1476,
          1476,
          1476,
          1476,
          1000,
          1000,
          1500,
          1515,
          1648,
          1500,
          1522,
          1523,
          1520,
          1531,
          1627,
          1793,
          1798,
          1812,
          1878,
          1809,
          785,
          1429,
          1534,
          1638,
          1618,
          1812,
          1812,
          1812,
          1813,
          1813,
          1914,
          796,
          919,
          919,
          1157,
          1270,
          1273,
          1517,
          1521,
          1390,
          1521,
          1145,
          1679,
          1618,
          1757,
          1782,
          1807,
          1813,
          1870,
          1918,
          1375,
          1520,
          1500,
          1830,
          1875,
          723,
          850,
          1095,
          1632,
          1705,
          -776,
          -58,
          1266,
          1361,
          1361,
          1370,
          1530,
          1648,
          877,
          950,
          1252,
          1530,
          1709,
          1635,
          1000,
          1880,
          1520,
          1522,
          1626,
          1757,
          1763,
          1871,
          1792,
          1918,
          -460,
          500,
          1200,
          1350,
          800,
          1706,
          1870,
          1914,
          1914,
          1914,
          -1000,
          -200,
          1900,
          -4000,
          600,
          900,
          800,
          772,
          777,
          1895,
          500,
          658,
          998,
          950,
          1013,
          1020,
          772,
          973,
          1375,
          1000,
          1229,
          1200,
          1200,
          1200,
          1215,
          1270,
          1230,
          1410,
          1413,
          1880,
          1000,
          1319,
          1404,
          1476,
          1500,
          1374,
          1200,
          1300,
          1473,
          1503,
          1500,
          1500,
          1476,
          1476,
          1476,
          1476,
          1476,
          1515,
          1620,
          1500,
          1500,
          1550,
          1637,
          1300,
          1500,
          1280,
          1520,
          1523,
          1523,
          1518,
          1914,
          1521,
          1547,
          1631,
          1632,
          1618,
          1664,
          1635,
          1618,
          1780,
          1735,
          1770,
          1747,
          1836,
          1797,
          1885,
          1905,
          1860,
          1809,
          1812,
          1864,
          1866,
          1870,
          1888,
          1866,
          1914,
          1920,
          -200,
          -5000,
          1880,
          50,
          552,
          796,
          919,
          1268,
          1300,
          1400,
          1402,
          1200,
          1525,
          1630,
          1648,
          1648,
          1812,
          1813,
          1864,
          1200,
          200,
          1066,
          1842,
          850,
          830,
          1000,
          1525,
          1632,
          null,
          1492,
          1587,
          1740,
          1790,
          1830,
          1789,
          900,
          906,
          1288,
          1523,
          1512,
          1520,
          1523
         ],
         "xaxis": "x",
         "yaxis": "y"
        },
        {
         "alignmentgroup": "True",
         "bingroup": "x",
         "histnorm": "probability density",
         "hovertemplate": "=Nationalistische Texte<br>(Mittelwert = 1702.81)<br>beginn=%{x}<br>probability density=%{y}<extra></extra>",
         "legendgroup": "Nationalistische Texte<br>(Mittelwert = 1702.81)",
         "marker": {
          "color": "#EF553B",
          "pattern": {
           "shape": ""
          }
         },
         "name": "Nationalistische Texte<br>(Mittelwert = 1702.81)",
         "offsetgroup": "Nationalistische Texte<br>(Mittelwert = 1702.81)",
         "orientation": "v",
         "showlegend": true,
         "type": "histogram",
         "x": [
          1813,
          1618,
          1325,
          1640,
          1848,
          1757,
          1656,
          1640,
          1851,
          1200,
          1813,
          1813,
          1857,
          1864,
          1866,
          1866,
          1866,
          1870,
          1870,
          1870,
          1866,
          1154,
          1488,
          1521,
          1806,
          1778,
          1870,
          -100,
          1870,
          1870,
          978,
          1870,
          1870,
          1870,
          1871,
          1870,
          1871,
          1871,
          1870,
          -500,
          1870,
          17,
          1850,
          800,
          1870,
          1870,
          1870,
          1806,
          1870,
          1870,
          1871,
          500,
          1875,
          1874,
          1416,
          1475,
          1487,
          1683,
          1809,
          1809,
          1834,
          1848,
          1857,
          1858,
          1862,
          1866,
          1870,
          1813,
          1873,
          1878,
          1879,
          null,
          1870,
          1853,
          1231,
          1318,
          1648,
          1806,
          1881,
          1870,
          1832,
          1870,
          1870,
          1870,
          1870,
          1870,
          1871,
          1870,
          1870,
          1883,
          1877,
          955,
          1850,
          1870,
          17,
          9,
          1002,
          1813,
          1848,
          1848,
          1861,
          1870,
          1870,
          1870,
          1870,
          1870,
          1870,
          1870,
          1871,
          1871,
          1888,
          449,
          633,
          1674,
          1793,
          1781,
          1806,
          1810,
          1813,
          1864,
          1870,
          1884,
          1888,
          1890,
          1891,
          1891,
          1226,
          897,
          1807,
          800,
          1865,
          933,
          1241,
          1796,
          1809,
          1813,
          1813,
          1858,
          1266,
          1862,
          1870,
          1875,
          1870,
          1875,
          1873,
          1880,
          1883,
          1888,
          1888,
          1810,
          1820,
          1870,
          1871,
          1797,
          1797,
          1870,
          1897,
          1897,
          1897,
          1877,
          1870,
          1674,
          1809,
          1870,
          1858,
          1895,
          1860,
          1077,
          1871,
          1849,
          1849,
          1870,
          800,
          1140,
          500,
          1809,
          9,
          1860,
          1870,
          1806,
          1870,
          1848,
          1850,
          1863,
          1871,
          1892,
          1891,
          1347,
          1517,
          1806,
          1813,
          1834,
          1840,
          1860,
          1870,
          1870,
          1870,
          1870,
          1894,
          1883,
          1888,
          1896,
          1900,
          1870,
          1898,
          1800,
          1809,
          1870,
          1870,
          1807,
          1877,
          1900,
          1875,
          1888,
          1864,
          1914,
          1450,
          1876,
          1513,
          1852,
          1813,
          1914,
          1871,
          1875,
          1914,
          1914,
          1918,
          1515,
          1813,
          1900,
          1859,
          1834,
          1859,
          1871,
          1914,
          1228,
          1200,
          1265,
          1380,
          1618,
          1813,
          1914,
          1860,
          1809,
          1840,
          1817,
          1840,
          1813,
          1848,
          1875,
          1801,
          1914,
          1918
         ],
         "xaxis": "x",
         "yaxis": "y"
        }
       ],
       "layout": {
        "bargap": 0.1,
        "barmode": "group",
        "height": 300,
        "legend": {
         "font": {
          "size": 16
         },
         "title": {
          "text": ""
         },
         "tracegroupgap": 0,
         "x": 0.5,
         "y": 0.96
        },
        "margin": {
         "t": 60
        },
        "template": {
         "data": {
          "bar": [
           {
            "error_x": {
             "color": "#2a3f5f"
            },
            "error_y": {
             "color": "#2a3f5f"
            },
            "marker": {
             "line": {
              "color": "#E5ECF6",
              "width": 0.5
             },
             "pattern": {
              "fillmode": "overlay",
              "size": 10,
              "solidity": 0.2
             }
            },
            "type": "bar"
           }
          ],
          "barpolar": [
           {
            "marker": {
             "line": {
              "color": "#E5ECF6",
              "width": 0.5
             },
             "pattern": {
              "fillmode": "overlay",
              "size": 10,
              "solidity": 0.2
             }
            },
            "type": "barpolar"
           }
          ],
          "carpet": [
           {
            "aaxis": {
             "endlinecolor": "#2a3f5f",
             "gridcolor": "white",
             "linecolor": "white",
             "minorgridcolor": "white",
             "startlinecolor": "#2a3f5f"
            },
            "baxis": {
             "endlinecolor": "#2a3f5f",
             "gridcolor": "white",
             "linecolor": "white",
             "minorgridcolor": "white",
             "startlinecolor": "#2a3f5f"
            },
            "type": "carpet"
           }
          ],
          "choropleth": [
           {
            "colorbar": {
             "outlinewidth": 0,
             "ticks": ""
            },
            "type": "choropleth"
           }
          ],
          "contour": [
           {
            "colorbar": {
             "outlinewidth": 0,
             "ticks": ""
            },
            "colorscale": [
             [
              0,
              "#0d0887"
             ],
             [
              0.1111111111111111,
              "#46039f"
             ],
             [
              0.2222222222222222,
              "#7201a8"
             ],
             [
              0.3333333333333333,
              "#9c179e"
             ],
             [
              0.4444444444444444,
              "#bd3786"
             ],
             [
              0.5555555555555556,
              "#d8576b"
             ],
             [
              0.6666666666666666,
              "#ed7953"
             ],
             [
              0.7777777777777778,
              "#fb9f3a"
             ],
             [
              0.8888888888888888,
              "#fdca26"
             ],
             [
              1,
              "#f0f921"
             ]
            ],
            "type": "contour"
           }
          ],
          "contourcarpet": [
           {
            "colorbar": {
             "outlinewidth": 0,
             "ticks": ""
            },
            "type": "contourcarpet"
           }
          ],
          "heatmap": [
           {
            "colorbar": {
             "outlinewidth": 0,
             "ticks": ""
            },
            "colorscale": [
             [
              0,
              "#0d0887"
             ],
             [
              0.1111111111111111,
              "#46039f"
             ],
             [
              0.2222222222222222,
              "#7201a8"
             ],
             [
              0.3333333333333333,
              "#9c179e"
             ],
             [
              0.4444444444444444,
              "#bd3786"
             ],
             [
              0.5555555555555556,
              "#d8576b"
             ],
             [
              0.6666666666666666,
              "#ed7953"
             ],
             [
              0.7777777777777778,
              "#fb9f3a"
             ],
             [
              0.8888888888888888,
              "#fdca26"
             ],
             [
              1,
              "#f0f921"
             ]
            ],
            "type": "heatmap"
           }
          ],
          "heatmapgl": [
           {
            "colorbar": {
             "outlinewidth": 0,
             "ticks": ""
            },
            "colorscale": [
             [
              0,
              "#0d0887"
             ],
             [
              0.1111111111111111,
              "#46039f"
             ],
             [
              0.2222222222222222,
              "#7201a8"
             ],
             [
              0.3333333333333333,
              "#9c179e"
             ],
             [
              0.4444444444444444,
              "#bd3786"
             ],
             [
              0.5555555555555556,
              "#d8576b"
             ],
             [
              0.6666666666666666,
              "#ed7953"
             ],
             [
              0.7777777777777778,
              "#fb9f3a"
             ],
             [
              0.8888888888888888,
              "#fdca26"
             ],
             [
              1,
              "#f0f921"
             ]
            ],
            "type": "heatmapgl"
           }
          ],
          "histogram": [
           {
            "marker": {
             "pattern": {
              "fillmode": "overlay",
              "size": 10,
              "solidity": 0.2
             }
            },
            "type": "histogram"
           }
          ],
          "histogram2d": [
           {
            "colorbar": {
             "outlinewidth": 0,
             "ticks": ""
            },
            "colorscale": [
             [
              0,
              "#0d0887"
             ],
             [
              0.1111111111111111,
              "#46039f"
             ],
             [
              0.2222222222222222,
              "#7201a8"
             ],
             [
              0.3333333333333333,
              "#9c179e"
             ],
             [
              0.4444444444444444,
              "#bd3786"
             ],
             [
              0.5555555555555556,
              "#d8576b"
             ],
             [
              0.6666666666666666,
              "#ed7953"
             ],
             [
              0.7777777777777778,
              "#fb9f3a"
             ],
             [
              0.8888888888888888,
              "#fdca26"
             ],
             [
              1,
              "#f0f921"
             ]
            ],
            "type": "histogram2d"
           }
          ],
          "histogram2dcontour": [
           {
            "colorbar": {
             "outlinewidth": 0,
             "ticks": ""
            },
            "colorscale": [
             [
              0,
              "#0d0887"
             ],
             [
              0.1111111111111111,
              "#46039f"
             ],
             [
              0.2222222222222222,
              "#7201a8"
             ],
             [
              0.3333333333333333,
              "#9c179e"
             ],
             [
              0.4444444444444444,
              "#bd3786"
             ],
             [
              0.5555555555555556,
              "#d8576b"
             ],
             [
              0.6666666666666666,
              "#ed7953"
             ],
             [
              0.7777777777777778,
              "#fb9f3a"
             ],
             [
              0.8888888888888888,
              "#fdca26"
             ],
             [
              1,
              "#f0f921"
             ]
            ],
            "type": "histogram2dcontour"
           }
          ],
          "mesh3d": [
           {
            "colorbar": {
             "outlinewidth": 0,
             "ticks": ""
            },
            "type": "mesh3d"
           }
          ],
          "parcoords": [
           {
            "line": {
             "colorbar": {
              "outlinewidth": 0,
              "ticks": ""
             }
            },
            "type": "parcoords"
           }
          ],
          "pie": [
           {
            "automargin": true,
            "type": "pie"
           }
          ],
          "scatter": [
           {
            "fillpattern": {
             "fillmode": "overlay",
             "size": 10,
             "solidity": 0.2
            },
            "type": "scatter"
           }
          ],
          "scatter3d": [
           {
            "line": {
             "colorbar": {
              "outlinewidth": 0,
              "ticks": ""
             }
            },
            "marker": {
             "colorbar": {
              "outlinewidth": 0,
              "ticks": ""
             }
            },
            "type": "scatter3d"
           }
          ],
          "scattercarpet": [
           {
            "marker": {
             "colorbar": {
              "outlinewidth": 0,
              "ticks": ""
             }
            },
            "type": "scattercarpet"
           }
          ],
          "scattergeo": [
           {
            "marker": {
             "colorbar": {
              "outlinewidth": 0,
              "ticks": ""
             }
            },
            "type": "scattergeo"
           }
          ],
          "scattergl": [
           {
            "marker": {
             "colorbar": {
              "outlinewidth": 0,
              "ticks": ""
             }
            },
            "type": "scattergl"
           }
          ],
          "scattermapbox": [
           {
            "marker": {
             "colorbar": {
              "outlinewidth": 0,
              "ticks": ""
             }
            },
            "type": "scattermapbox"
           }
          ],
          "scatterpolar": [
           {
            "marker": {
             "colorbar": {
              "outlinewidth": 0,
              "ticks": ""
             }
            },
            "type": "scatterpolar"
           }
          ],
          "scatterpolargl": [
           {
            "marker": {
             "colorbar": {
              "outlinewidth": 0,
              "ticks": ""
             }
            },
            "type": "scatterpolargl"
           }
          ],
          "scatterternary": [
           {
            "marker": {
             "colorbar": {
              "outlinewidth": 0,
              "ticks": ""
             }
            },
            "type": "scatterternary"
           }
          ],
          "surface": [
           {
            "colorbar": {
             "outlinewidth": 0,
             "ticks": ""
            },
            "colorscale": [
             [
              0,
              "#0d0887"
             ],
             [
              0.1111111111111111,
              "#46039f"
             ],
             [
              0.2222222222222222,
              "#7201a8"
             ],
             [
              0.3333333333333333,
              "#9c179e"
             ],
             [
              0.4444444444444444,
              "#bd3786"
             ],
             [
              0.5555555555555556,
              "#d8576b"
             ],
             [
              0.6666666666666666,
              "#ed7953"
             ],
             [
              0.7777777777777778,
              "#fb9f3a"
             ],
             [
              0.8888888888888888,
              "#fdca26"
             ],
             [
              1,
              "#f0f921"
             ]
            ],
            "type": "surface"
           }
          ],
          "table": [
           {
            "cells": {
             "fill": {
              "color": "#EBF0F8"
             },
             "line": {
              "color": "white"
             }
            },
            "header": {
             "fill": {
              "color": "#C8D4E3"
             },
             "line": {
              "color": "white"
             }
            },
            "type": "table"
           }
          ]
         },
         "layout": {
          "annotationdefaults": {
           "arrowcolor": "#2a3f5f",
           "arrowhead": 0,
           "arrowwidth": 1
          },
          "autotypenumbers": "strict",
          "coloraxis": {
           "colorbar": {
            "outlinewidth": 0,
            "ticks": ""
           }
          },
          "colorscale": {
           "diverging": [
            [
             0,
             "#8e0152"
            ],
            [
             0.1,
             "#c51b7d"
            ],
            [
             0.2,
             "#de77ae"
            ],
            [
             0.3,
             "#f1b6da"
            ],
            [
             0.4,
             "#fde0ef"
            ],
            [
             0.5,
             "#f7f7f7"
            ],
            [
             0.6,
             "#e6f5d0"
            ],
            [
             0.7,
             "#b8e186"
            ],
            [
             0.8,
             "#7fbc41"
            ],
            [
             0.9,
             "#4d9221"
            ],
            [
             1,
             "#276419"
            ]
           ],
           "sequential": [
            [
             0,
             "#0d0887"
            ],
            [
             0.1111111111111111,
             "#46039f"
            ],
            [
             0.2222222222222222,
             "#7201a8"
            ],
            [
             0.3333333333333333,
             "#9c179e"
            ],
            [
             0.4444444444444444,
             "#bd3786"
            ],
            [
             0.5555555555555556,
             "#d8576b"
            ],
            [
             0.6666666666666666,
             "#ed7953"
            ],
            [
             0.7777777777777778,
             "#fb9f3a"
            ],
            [
             0.8888888888888888,
             "#fdca26"
            ],
            [
             1,
             "#f0f921"
            ]
           ],
           "sequentialminus": [
            [
             0,
             "#0d0887"
            ],
            [
             0.1111111111111111,
             "#46039f"
            ],
            [
             0.2222222222222222,
             "#7201a8"
            ],
            [
             0.3333333333333333,
             "#9c179e"
            ],
            [
             0.4444444444444444,
             "#bd3786"
            ],
            [
             0.5555555555555556,
             "#d8576b"
            ],
            [
             0.6666666666666666,
             "#ed7953"
            ],
            [
             0.7777777777777778,
             "#fb9f3a"
            ],
            [
             0.8888888888888888,
             "#fdca26"
            ],
            [
             1,
             "#f0f921"
            ]
           ]
          },
          "colorway": [
           "#636efa",
           "#EF553B",
           "#00cc96",
           "#ab63fa",
           "#FFA15A",
           "#19d3f3",
           "#FF6692",
           "#B6E880",
           "#FF97FF",
           "#FECB52"
          ],
          "font": {
           "color": "#2a3f5f"
          },
          "geo": {
           "bgcolor": "white",
           "lakecolor": "white",
           "landcolor": "#E5ECF6",
           "showlakes": true,
           "showland": true,
           "subunitcolor": "white"
          },
          "hoverlabel": {
           "align": "left"
          },
          "hovermode": "closest",
          "mapbox": {
           "style": "light"
          },
          "paper_bgcolor": "white",
          "plot_bgcolor": "#E5ECF6",
          "polar": {
           "angularaxis": {
            "gridcolor": "white",
            "linecolor": "white",
            "ticks": ""
           },
           "bgcolor": "#E5ECF6",
           "radialaxis": {
            "gridcolor": "white",
            "linecolor": "white",
            "ticks": ""
           }
          },
          "scene": {
           "xaxis": {
            "backgroundcolor": "#E5ECF6",
            "gridcolor": "white",
            "gridwidth": 2,
            "linecolor": "white",
            "showbackground": true,
            "ticks": "",
            "zerolinecolor": "white"
           },
           "yaxis": {
            "backgroundcolor": "#E5ECF6",
            "gridcolor": "white",
            "gridwidth": 2,
            "linecolor": "white",
            "showbackground": true,
            "ticks": "",
            "zerolinecolor": "white"
           },
           "zaxis": {
            "backgroundcolor": "#E5ECF6",
            "gridcolor": "white",
            "gridwidth": 2,
            "linecolor": "white",
            "showbackground": true,
            "ticks": "",
            "zerolinecolor": "white"
           }
          },
          "shapedefaults": {
           "line": {
            "color": "#2a3f5f"
           }
          },
          "ternary": {
           "aaxis": {
            "gridcolor": "white",
            "linecolor": "white",
            "ticks": ""
           },
           "baxis": {
            "gridcolor": "white",
            "linecolor": "white",
            "ticks": ""
           },
           "bgcolor": "#E5ECF6",
           "caxis": {
            "gridcolor": "white",
            "linecolor": "white",
            "ticks": ""
           }
          },
          "title": {
           "x": 0.05
          },
          "xaxis": {
           "automargin": true,
           "gridcolor": "white",
           "linecolor": "white",
           "ticks": "",
           "title": {
            "standoff": 15
           },
           "zerolinecolor": "white",
           "zerolinewidth": 2
          },
          "yaxis": {
           "automargin": true,
           "gridcolor": "white",
           "linecolor": "white",
           "ticks": "",
           "title": {
            "standoff": 15
           },
           "zerolinecolor": "white",
           "zerolinewidth": 2
          }
         }
        },
        "width": 700,
        "xaxis": {
         "anchor": "y",
         "autorange": true,
         "domain": [
          0,
          1
         ],
         "range": [
          -5000.5,
          1999.5
         ],
         "tickfont": {
          "size": 16
         },
         "title": {
          "font": {
           "size": 16
          },
          "text": "beginn"
         },
         "type": "linear"
        },
        "yaxis": {
         "anchor": "x",
         "autorange": true,
         "domain": [
          0,
          1
         ],
         "range": [
          0,
          0.00760233918128655
         ],
         "tickfont": {
          "size": 16
         },
         "title": {
          "font": {
           "size": 16
          },
          "text": "Anteil"
         }
        }
       }
      },
      "text/html": [
       "<div>                            <div id=\"888eb324-e51f-4c25-9b12-7055f3f62456\" class=\"plotly-graph-div\" style=\"height:300px; width:700px;\"></div>            <script type=\"text/javascript\">                require([\"plotly\"], function(Plotly) {                    window.PLOTLYENV=window.PLOTLYENV || {};                                    if (document.getElementById(\"888eb324-e51f-4c25-9b12-7055f3f62456\")) {                    Plotly.newPlot(                        \"888eb324-e51f-4c25-9b12-7055f3f62456\",                        [{\"alignmentgroup\":\"True\",\"bingroup\":\"x\",\"histnorm\":\"probability density\",\"hovertemplate\":\"=Nicht nationalistische Texte\\u003cbr\\u003e(Mittelwert = 1218.85)\\u003cbr\\u003ebeginn=%{x}\\u003cbr\\u003eprobability density=%{y}\\u003cextra\\u003e\\u003c\\u002fextra\\u003e\",\"legendgroup\":\"Nicht nationalistische Texte\\u003cbr\\u003e(Mittelwert = 1218.85)\",\"marker\":{\"color\":\"#636efa\",\"pattern\":{\"shape\":\"\"}},\"name\":\"Nicht nationalistische Texte\\u003cbr\\u003e(Mittelwert = 1218.85)\",\"offsetgroup\":\"Nicht nationalistische Texte\\u003cbr\\u003e(Mittelwert = 1218.85)\",\"orientation\":\"v\",\"showlegend\":true,\"x\":[924.0,null,-480.0,-149.0,1302.0,0.0,1000.0,1208.0,1225.0,1291.0,1308.0,1308.0,1350.0,1415.0,1410.0,1552.0,1552.0,1631.0,1741.0,1783.0,1815.0,1806.0,1476.0,1476.0,1477.0,1840.0,774.0,804.0,1020.0,1313.0,1500.0,1499.0,1499.0,1530.0,1531.0,807.0,1522.0,1521.0,1521.0,1517.0,1500.0,1519.0,1521.0,1521.0,1525.0,370.0,396.0,455.0,455.0,592.0,718.0,530.0,652.0,250.0,700.0,809.0,800.0,1250.0,1500.0,1500.0,1520.0,1200.0,1400.0,1312.0,1318.0,1315.0,1347.0,1400.0,1400.0,1401.0,1518.0,1510.0,1500.0,1525.0,1523.0,1450.0,1531.0,1535.0,1537.0,1512.0,1530.0,1620.0,1648.0,1648.0,1631.0,1806.0,1770.0,1850.0,1800.0,1200.0,928.0,1200.0,1412.0,1437.0,1634.0,1618.0,1674.0,1674.0,1745.0,1746.0,1740.0,1757.0,-3400.0,445.0,455.0,1850.0,1400.0,1400.0,1571.0,1553.0,1620.0,1854.0,947.0,1674.0,null,1099.0,1450.0,800.0,1850.0,1093.0,1350.0,1432.0,1624.0,1678.0,1684.0,1665.0,1720.0,1713.0,1715.0,1756.0,1758.0,1759.0,1757.0,1750.0,1810.0,1806.0,1815.0,1797.0,1840.0,1850.0,1857.0,1860.0,1864.0,1864.0,1415.0,1448.0,1499.0,1535.0,1654.0,1701.0,1715.0,1713.0,1740.0,1741.0,1742.0,1745.0,1756.0,1757.0,1757.0,1759.0,1763.0,1785.0,1780.0,1758.0,1807.0,1820.0,1840.0,1864.0,1866.0,1806.0,-429.0,37.0,1032.0,1572.0,1831.0,1542.0,1540.0,1631.0,1547.0,1850.0,null,-525.0,-1000.0,-845.0,-586.0,776.0,-492.0,-480.0,-480.0,-480.0,-478.0,-355.0,-334.0,-320.0,-384.0,-321.0,-290.0,241.0,-218.0,-133.0,-72.0,-52.0,5.0,-100.0,64.0,79.0,212.0,268.0,259.0,305.0,350.0,409.0,414.0,451.0,451.0,453.0,539.0,572.0,602.0,620.0,723.0,755.0,865.0,772.0,773.0,798.0,768.0,814.0,838.0,864.0,878.0,878.0,919.0,933.0,997.0,1015.0,1066.0,1074.0,1095.0,1126.0,1155.0,1200.0,1135.0,1168.0,1184.0,1194.0,1192.0,1215.0,1214.0,1250.0,1266.0,1267.0,1268.0,1282.0,1265.0,1273.0,1307.0,1322.0,1347.0,1349.0,1428.0,1378.0,1400.0,1414.0,1415.0,1415.0,1417.0,1432.0,1470.0,1455.0,1474.0,1492.0,1400.0,1477.0,1506.0,1516.0,1523.0,1517.0,1525.0,1518.0,1519.0,1520.0,1521.0,1512.0,1525.0,1531.0,1529.0,1530.0,1535.0,1530.0,1540.0,1543.0,1566.0,1566.0,1494.0,1576.0,1634.0,1639.0,1658.0,1646.0,1675.0,1668.0,1610.0,1682.0,1658.0,1683.0,1683.0,1701.0,1717.0,1694.0,1697.0,1704.0,1705.0,1710.0,1710.0,1711.0,1640.0,1742.0,1757.0,1757.0,1758.0,1760.0,1785.0,1792.0,1799.0,1722.0,1785.0,1812.0,1798.0,1793.0,1793.0,1808.0,1806.0,1806.0,1809.0,1809.0,1812.0,1825.0,1840.0,1861.0,572.0,-596.0,-548.0,-480.0,-338.0,1850.0,-167.0,-73.0,718.0,768.0,1096.0,1208.0,1208.0,1234.0,1238.0,1450.0,1529.0,1823.0,1870.0,1870.0,900.0,1106.0,1870.0,1870.0,768.0,1865.0,1525.0,1525.0,1546.0,1517.0,1531.0,1631.0,1757.0,1741.0,1181.0,1520.0,1530.0,1769.0,1227.0,1675.0,1713.0,1870.0,1870.0,1241.0,1322.0,1325.0,1325.0,1335.0,1452.0,1471.0,1558.0,1557.0,1634.0,1683.0,1757.0,1765.0,1776.0,1790.0,1855.0,1809.0,1848.0,1830.0,1879.0,434.0,450.0,1879.0,476.0,700.0,800.0,1000.0,1079.0,1099.0,1150.0,1246.0,1260.0,1276.0,1278.0,1253.0,1281.0,1307.0,1346.0,1356.0,1365.0,1382.0,1386.0,1406.0,1442.0,1452.0,1415.0,1400.0,1477.0,1480.0,1483.0,1486.0,1510.0,1504.0,1500.0,1547.0,1570.0,1552.0,1552.0,1556.0,1511.0,1564.0,1521.0,1557.0,1575.0,1598.0,1575.0,1616.0,1616.0,1632.0,1618.0,1664.0,1680.0,1683.0,1683.0,1683.0,1683.0,1702.0,1709.0,1710.0,1705.0,1757.0,1750.0,1754.0,1750.0,1715.0,1746.0,1714.0,1787.0,1785.0,1791.0,1756.0,1797.0,1797.0,1799.0,1801.0,1809.0,1810.0,1813.0,1813.0,1815.0,1815.0,1820.0,1822.0,1827.0,1834.0,1841.0,1848.0,1853.0,1757.0,1858.0,1858.0,1860.0,1864.0,1776.0,1866.0,1870.0,1867.0,1867.0,1871.0,1871.0,1871.0,1873.0,1878.0,1879.0,1282.0,1355.0,1477.0,1521.0,1686.0,1760.0,1879.0,1420.0,1632.0,1780.0,1864.0,1675.0,-500.0,-359.0,327.0,-217.0,64.0,396.0,451.0,555.0,600.0,638.0,1240.0,1300.0,1200.0,1512.0,1521.0,1530.0,1620.0,1630.0,1620.0,1675.0,1704.0,1718.0,1870.0,410.0,777.0,783.0,782.0,784.0,785.0,936.0,1521.0,1717.0,1706.0,9.0,408.0,768.0,944.0,947.0,965.0,1170.0,1499.0,1640.0,1759.0,1759.0,1632.0,493.0,768.0,919.0,1268.0,1517.0,1521.0,1530.0,552.0,783.0,800.0,1325.0,1157.0,1517.0,1628.0,1813.0,800.0,451.0,1155.0,1250.0,1266.0,1272.0,1386.0,1521.0,1683.0,1630.0,1830.0,200.0,-200.0,452.0,777.0,1030.0,1162.0,1150.0,1505.0,1860.0,1850.0,1870.0,1888.0,0.0,290.0,-312.0,363.0,360.0,379.0,416.0,582.0,730.0,822.0,1030.0,1190.0,1200.0,1347.0,1498.0,1520.0,1860.0,1547.0,1547.0,1569.0,1501.0,1680.0,1699.0,1692.0,1721.0,1729.0,1768.0,1822.0,-113.0,-9.0,16.0,70.0,408.0,452.0,534.0,551.0,552.0,568.0,585.0,505.0,542.0,676.0,772.0,772.0,800.0,814.0,810.0,593.0,718.0,730.0,753.0,875.0,918.0,947.0,955.0,957.0,982.0,1007.0,1056.0,1062.0,1077.0,1106.0,1138.0,1147.0,1155.0,1155.0,1168.0,1176.0,1181.0,1189.0,1189.0,1191.0,1193.0,1197.0,1212.0,500.0,1242.0,1245.0,1249.0,1252.0,1254.0,1256.0,1269.0,1860.0,1290.0,1308.0,1358.0,1349.0,1349.0,1512.0,1516.0,1515.0,1521.0,1500.0,1525.0,1525.0,1525.0,1530.0,1547.0,1550.0,1521.0,1618.0,1626.0,1632.0,1632.0,1632.0,1648.0,1646.0,1637.0,1656.0,1656.0,1675.0,1675.0,1620.0,1731.0,1741.0,1741.0,1741.0,1757.0,1757.0,1757.0,1757.0,1760.0,1761.0,1758.0,1765.0,1773.0,1806.0,1809.0,1809.0,1812.0,1813.0,1813.0,1813.0,1813.0,1815.0,1807.0,1848.0,1866.0,1850.0,1850.0,1866.0,1867.0,1870.0,1870.0,1140.0,1220.0,1308.0,1412.0,1413.0,1510.0,1537.0,1580.0,1557.0,1571.0,1330.0,1370.0,1410.0,1318.0,1415.0,1319.0,1350.0,1603.0,897.0,1256.0,1456.0,1705.0,1189.0,1373.0,1568.0,1626.0,1547.0,1028.0,1093.0,1131.0,1289.0,1719.0,1183.0,1370.0,1474.0,1637.0,1075.0,1130.0,1140.0,1170.0,1270.0,1446.0,1525.0,1553.0,1227.0,1233.0,1252.0,1319.0,1331.0,1363.0,1404.0,1404.0,1418.0,1500.0,1524.0,1559.0,1225.0,1570.0,1417.0,1475.0,936.0,947.0,1106.0,1268.0,1322.0,1417.0,1870.0,-330.0,0.0,-113.0,-101.0,9.0,65.0,100.0,1850.0,1860.0,200.0,1860.0,213.0,251.0,310.0,10.0,451.0,397.0,-202.0,415.0,429.0,455.0,476.0,476.0,546.0,552.0,568.0,573.0,570.0,1880.0,800.0,500.0,720.0,800.0,787.0,796.0,796.0,768.0,810.0,918.0,919.0,929.0,965.0,978.0,1002.0,1054.0,1063.0,1073.0,1077.0,1095.0,1137.0,1040.0,1189.0,1158.0,1164.0,1176.0,1189.0,1860.0,1190.0,1180.0,1207.0,1212.0,1309.0,1457.0,1245.0,1267.0,1267.0,1268.0,1870.0,1268.0,1268.0,1256.0,1309.0,1869.0,1340.0,1346.0,1374.0,1437.0,1474.0,1520.0,1868.0,1567.0,1600.0,1622.0,1626.0,1630.0,1630.0,1630.0,1634.0,1643.0,1840.0,1757.0,1760.0,1762.0,1785.0,1794.0,810.0,1880.0,1866.0,1866.0,1881.0,1886.0,546.0,1499.0,1794.0,1813.0,1898.0,1897.0,1880.0,1897.0,1888.0,1881.0,1888.0,1890.0,-107.0,-107.0,-58.0,1200.0,1317.0,1450.0,1495.0,1531.0,1757.0,1870.0,1880.0,800.0,947.0,1268.0,null,1483.0,1632.0,1415.0,1880.0,1810.0,1898.0,1890.0,0.0,0.0,300.0,718.0,774.0,778.0,941.0,955.0,1105.0,1099.0,1138.0,1420.0,1490.0,1400.0,1525.0,1540.0,1542.0,1534.0,1620.0,1618.0,1632.0,1793.0,1794.0,1812.0,1870.0,1888.0,-50.0,90.0,500.0,822.0,778.0,800.0,1105.0,500.0,null,1200.0,1200.0,500.0,1258.0,1300.0,1000.0,1050.0,1440.0,500.0,1424.0,1546.0,1525.0,1524.0,1525.0,1520.0,1524.0,1525.0,1514.0,1840.0,1648.0,1740.0,1741.0,1758.0,1740.0,1757.0,1757.0,1760.0,-332.0,-2000.0,-500.0,-1220.0,-800.0,-1200.0,-800.0,-700.0,-650.0,-570.0,-553.0,-800.0,-494.0,-500.0,-400.0,-470.0,-435.0,-490.0,-480.0,-480.0,-480.0,-480.0,-480.0,-459.0,-471.0,-468.0,-440.0,-429.0,-415.0,-415.0,-399.0,-399.0,-370.0,-418.0,-338.0,-356.0,-336.0,-326.0,-197.0,-207.0,-146.0,30.0,397.0,-508.0,-384.0,-384.0,0.0,-279.0,-238.0,-218.0,-216.0,-183.0,-183.0,-215.0,-121.0,-105.0,-87.0,-79.0,-62.0,-46.0,-53.0,-42.0,-46.0,-44.0,-44.0,-42.0,-30.0,-30.0,-4.0,20.0,-40.0,14.0,14.0,26.0,26.0,19.0,10.0,55.0,60.0,66.0,60.0,64.0,64.0,64.0,125.0,130.0,110.0,274.0,400.0,410.0,452.0,-1000.0,-200.0,-400.0,-1200.0,1860.0,1860.0,1850.0,1870.0,-400.0,1850.0,-525.0,-100.0,-401.0,1866.0,1850.0,1840.0,1865.0,1865.0,1811.0,1811.0,1875.0,-10.0,1880.0,1880.0,1860.0,1885.0,1885.0,1860.0,1840.0,1870.0,1850.0,1860.0,600.0,350.0,1002.0,1152.0,1230.0,1230.0,1230.0,1553.0,1626.0,1500.0,1856.0,1412.0,1414.0,1414.0,1420.0,1480.0,1547.0,1757.0,1740.0,1740.0,1772.0,1807.0,1812.0,1850.0,1851.0,1870.0,1870.0,1870.0,1870.0,1875.0,1870.0,1880.0,1888.0,1870.0,1880.0,718.0,776.0,1741.0,1757.0,1800.0,1793.0,1806.0,1812.0,1870.0,0.0,0.0,0.0,822.0,100.0,1900.0,800.0,1480.0,1000.0,200.0,-55.0,-55.0,-200.0,16.0,17.0,21.0,213.0,400.0,1885.0,552.0,572.0,580.0,496.0,613.0,800.0,718.0,800.0,785.0,790.0,1898.0,950.0,1080.0,1084.0,1167.0,1176.0,1200.0,1895.0,1200.0,1212.0,1225.0,1227.0,1100.0,1268.0,1249.0,1850.0,1313.0,1322.0,1330.0,1350.0,1350.0,1415.0,1415.0,1435.0,1450.0,1484.0,1450.0,1520.0,1515.0,1519.0,1518.0,1521.0,1517.0,1515.0,1523.0,1523.0,1523.0,1522.0,1540.0,1532.0,1525.0,1547.0,1626.0,1618.0,1630.0,1618.0,1889.0,1681.0,1689.0,1757.0,1758.0,1785.0,1769.0,1765.0,1770.0,1727.0,1792.0,1806.0,1810.0,1812.0,1813.0,1813.0,1814.0,1815.0,1866.0,1870.0,1870.0,1870.0,1870.0,1870.0,-100.0,1884.0,1888.0,1880.0,1800.0,573.0,1278.0,1547.0,1675.0,1709.0,1741.0,1780.0,1757.0,1810.0,1827.0,1796.0,1809.0,1809.0,1809.0,1808.0,1813.0,1870.0,1870.0,1870.0,1871.0,1870.0,1870.0,1870.0,1864.0,589.0,790.0,1000.0,1158.0,1200.0,1208.0,1212.0,1227.0,1242.0,1266.0,1268.0,1268.0,1309.0,1386.0,1444.0,1450.0,1476.0,1471.0,1858.0,1525.0,1520.0,1568.0,1618.0,1632.0,1618.0,1705.0,1717.0,1770.0,1740.0,1781.0,1789.0,1805.0,1812.0,1813.0,1800.0,1800.0,1813.0,1807.0,1813.0,1813.0,1813.0,1813.0,1827.0,1870.0,null,1870.0,-5000.0,1000.0,1200.0,1812.0,1858.0,1914.0,1880.0,1200.0,1809.0,1914.0,1807.0,1870.0,1914.0,955.0,-61.0,919.0,1850.0,1386.0,1386.0,1567.0,1250.0,1450.0,1476.0,1476.0,1476.0,1476.0,1000.0,1000.0,1500.0,1515.0,1648.0,1500.0,1522.0,1523.0,1520.0,1531.0,1627.0,1793.0,1798.0,1812.0,1878.0,1809.0,785.0,1429.0,1534.0,1638.0,1618.0,1812.0,1812.0,1812.0,1813.0,1813.0,1914.0,796.0,919.0,919.0,1157.0,1270.0,1273.0,1517.0,1521.0,1390.0,1521.0,1145.0,1679.0,1618.0,1757.0,1782.0,1807.0,1813.0,1870.0,1918.0,1375.0,1520.0,1500.0,1830.0,1875.0,723.0,850.0,1095.0,1632.0,1705.0,-776.0,-58.0,1266.0,1361.0,1361.0,1370.0,1530.0,1648.0,877.0,950.0,1252.0,1530.0,1709.0,1635.0,1000.0,1880.0,1520.0,1522.0,1626.0,1757.0,1763.0,1871.0,1792.0,1918.0,-460.0,500.0,1200.0,1350.0,800.0,1706.0,1870.0,1914.0,1914.0,1914.0,-1000.0,-200.0,1900.0,-4000.0,600.0,900.0,800.0,772.0,777.0,1895.0,500.0,658.0,998.0,950.0,1013.0,1020.0,772.0,973.0,1375.0,1000.0,1229.0,1200.0,1200.0,1200.0,1215.0,1270.0,1230.0,1410.0,1413.0,1880.0,1000.0,1319.0,1404.0,1476.0,1500.0,1374.0,1200.0,1300.0,1473.0,1503.0,1500.0,1500.0,1476.0,1476.0,1476.0,1476.0,1476.0,1515.0,1620.0,1500.0,1500.0,1550.0,1637.0,1300.0,1500.0,1280.0,1520.0,1523.0,1523.0,1518.0,1914.0,1521.0,1547.0,1631.0,1632.0,1618.0,1664.0,1635.0,1618.0,1780.0,1735.0,1770.0,1747.0,1836.0,1797.0,1885.0,1905.0,1860.0,1809.0,1812.0,1864.0,1866.0,1870.0,1888.0,1866.0,1914.0,1920.0,-200.0,-5000.0,1880.0,50.0,552.0,796.0,919.0,1268.0,1300.0,1400.0,1402.0,1200.0,1525.0,1630.0,1648.0,1648.0,1812.0,1813.0,1864.0,1200.0,200.0,1066.0,1842.0,850.0,830.0,1000.0,1525.0,1632.0,null,1492.0,1587.0,1740.0,1790.0,1830.0,1789.0,900.0,906.0,1288.0,1523.0,1512.0,1520.0,1523.0],\"xaxis\":\"x\",\"yaxis\":\"y\",\"type\":\"histogram\"},{\"alignmentgroup\":\"True\",\"bingroup\":\"x\",\"histnorm\":\"probability density\",\"hovertemplate\":\"=Nationalistische Texte\\u003cbr\\u003e(Mittelwert = 1702.81)\\u003cbr\\u003ebeginn=%{x}\\u003cbr\\u003eprobability density=%{y}\\u003cextra\\u003e\\u003c\\u002fextra\\u003e\",\"legendgroup\":\"Nationalistische Texte\\u003cbr\\u003e(Mittelwert = 1702.81)\",\"marker\":{\"color\":\"#EF553B\",\"pattern\":{\"shape\":\"\"}},\"name\":\"Nationalistische Texte\\u003cbr\\u003e(Mittelwert = 1702.81)\",\"offsetgroup\":\"Nationalistische Texte\\u003cbr\\u003e(Mittelwert = 1702.81)\",\"orientation\":\"v\",\"showlegend\":true,\"x\":[1813.0,1618.0,1325.0,1640.0,1848.0,1757.0,1656.0,1640.0,1851.0,1200.0,1813.0,1813.0,1857.0,1864.0,1866.0,1866.0,1866.0,1870.0,1870.0,1870.0,1866.0,1154.0,1488.0,1521.0,1806.0,1778.0,1870.0,-100.0,1870.0,1870.0,978.0,1870.0,1870.0,1870.0,1871.0,1870.0,1871.0,1871.0,1870.0,-500.0,1870.0,17.0,1850.0,800.0,1870.0,1870.0,1870.0,1806.0,1870.0,1870.0,1871.0,500.0,1875.0,1874.0,1416.0,1475.0,1487.0,1683.0,1809.0,1809.0,1834.0,1848.0,1857.0,1858.0,1862.0,1866.0,1870.0,1813.0,1873.0,1878.0,1879.0,null,1870.0,1853.0,1231.0,1318.0,1648.0,1806.0,1881.0,1870.0,1832.0,1870.0,1870.0,1870.0,1870.0,1870.0,1871.0,1870.0,1870.0,1883.0,1877.0,955.0,1850.0,1870.0,17.0,9.0,1002.0,1813.0,1848.0,1848.0,1861.0,1870.0,1870.0,1870.0,1870.0,1870.0,1870.0,1870.0,1871.0,1871.0,1888.0,449.0,633.0,1674.0,1793.0,1781.0,1806.0,1810.0,1813.0,1864.0,1870.0,1884.0,1888.0,1890.0,1891.0,1891.0,1226.0,897.0,1807.0,800.0,1865.0,933.0,1241.0,1796.0,1809.0,1813.0,1813.0,1858.0,1266.0,1862.0,1870.0,1875.0,1870.0,1875.0,1873.0,1880.0,1883.0,1888.0,1888.0,1810.0,1820.0,1870.0,1871.0,1797.0,1797.0,1870.0,1897.0,1897.0,1897.0,1877.0,1870.0,1674.0,1809.0,1870.0,1858.0,1895.0,1860.0,1077.0,1871.0,1849.0,1849.0,1870.0,800.0,1140.0,500.0,1809.0,9.0,1860.0,1870.0,1806.0,1870.0,1848.0,1850.0,1863.0,1871.0,1892.0,1891.0,1347.0,1517.0,1806.0,1813.0,1834.0,1840.0,1860.0,1870.0,1870.0,1870.0,1870.0,1894.0,1883.0,1888.0,1896.0,1900.0,1870.0,1898.0,1800.0,1809.0,1870.0,1870.0,1807.0,1877.0,1900.0,1875.0,1888.0,1864.0,1914.0,1450.0,1876.0,1513.0,1852.0,1813.0,1914.0,1871.0,1875.0,1914.0,1914.0,1918.0,1515.0,1813.0,1900.0,1859.0,1834.0,1859.0,1871.0,1914.0,1228.0,1200.0,1265.0,1380.0,1618.0,1813.0,1914.0,1860.0,1809.0,1840.0,1817.0,1840.0,1813.0,1848.0,1875.0,1801.0,1914.0,1918.0],\"xaxis\":\"x\",\"yaxis\":\"y\",\"type\":\"histogram\"}],                        {\"template\":{\"data\":{\"histogram2dcontour\":[{\"type\":\"histogram2dcontour\",\"colorbar\":{\"outlinewidth\":0,\"ticks\":\"\"},\"colorscale\":[[0.0,\"#0d0887\"],[0.1111111111111111,\"#46039f\"],[0.2222222222222222,\"#7201a8\"],[0.3333333333333333,\"#9c179e\"],[0.4444444444444444,\"#bd3786\"],[0.5555555555555556,\"#d8576b\"],[0.6666666666666666,\"#ed7953\"],[0.7777777777777778,\"#fb9f3a\"],[0.8888888888888888,\"#fdca26\"],[1.0,\"#f0f921\"]]}],\"choropleth\":[{\"type\":\"choropleth\",\"colorbar\":{\"outlinewidth\":0,\"ticks\":\"\"}}],\"histogram2d\":[{\"type\":\"histogram2d\",\"colorbar\":{\"outlinewidth\":0,\"ticks\":\"\"},\"colorscale\":[[0.0,\"#0d0887\"],[0.1111111111111111,\"#46039f\"],[0.2222222222222222,\"#7201a8\"],[0.3333333333333333,\"#9c179e\"],[0.4444444444444444,\"#bd3786\"],[0.5555555555555556,\"#d8576b\"],[0.6666666666666666,\"#ed7953\"],[0.7777777777777778,\"#fb9f3a\"],[0.8888888888888888,\"#fdca26\"],[1.0,\"#f0f921\"]]}],\"heatmap\":[{\"type\":\"heatmap\",\"colorbar\":{\"outlinewidth\":0,\"ticks\":\"\"},\"colorscale\":[[0.0,\"#0d0887\"],[0.1111111111111111,\"#46039f\"],[0.2222222222222222,\"#7201a8\"],[0.3333333333333333,\"#9c179e\"],[0.4444444444444444,\"#bd3786\"],[0.5555555555555556,\"#d8576b\"],[0.6666666666666666,\"#ed7953\"],[0.7777777777777778,\"#fb9f3a\"],[0.8888888888888888,\"#fdca26\"],[1.0,\"#f0f921\"]]}],\"heatmapgl\":[{\"type\":\"heatmapgl\",\"colorbar\":{\"outlinewidth\":0,\"ticks\":\"\"},\"colorscale\":[[0.0,\"#0d0887\"],[0.1111111111111111,\"#46039f\"],[0.2222222222222222,\"#7201a8\"],[0.3333333333333333,\"#9c179e\"],[0.4444444444444444,\"#bd3786\"],[0.5555555555555556,\"#d8576b\"],[0.6666666666666666,\"#ed7953\"],[0.7777777777777778,\"#fb9f3a\"],[0.8888888888888888,\"#fdca26\"],[1.0,\"#f0f921\"]]}],\"contourcarpet\":[{\"type\":\"contourcarpet\",\"colorbar\":{\"outlinewidth\":0,\"ticks\":\"\"}}],\"contour\":[{\"type\":\"contour\",\"colorbar\":{\"outlinewidth\":0,\"ticks\":\"\"},\"colorscale\":[[0.0,\"#0d0887\"],[0.1111111111111111,\"#46039f\"],[0.2222222222222222,\"#7201a8\"],[0.3333333333333333,\"#9c179e\"],[0.4444444444444444,\"#bd3786\"],[0.5555555555555556,\"#d8576b\"],[0.6666666666666666,\"#ed7953\"],[0.7777777777777778,\"#fb9f3a\"],[0.8888888888888888,\"#fdca26\"],[1.0,\"#f0f921\"]]}],\"surface\":[{\"type\":\"surface\",\"colorbar\":{\"outlinewidth\":0,\"ticks\":\"\"},\"colorscale\":[[0.0,\"#0d0887\"],[0.1111111111111111,\"#46039f\"],[0.2222222222222222,\"#7201a8\"],[0.3333333333333333,\"#9c179e\"],[0.4444444444444444,\"#bd3786\"],[0.5555555555555556,\"#d8576b\"],[0.6666666666666666,\"#ed7953\"],[0.7777777777777778,\"#fb9f3a\"],[0.8888888888888888,\"#fdca26\"],[1.0,\"#f0f921\"]]}],\"mesh3d\":[{\"type\":\"mesh3d\",\"colorbar\":{\"outlinewidth\":0,\"ticks\":\"\"}}],\"scatter\":[{\"fillpattern\":{\"fillmode\":\"overlay\",\"size\":10,\"solidity\":0.2},\"type\":\"scatter\"}],\"parcoords\":[{\"type\":\"parcoords\",\"line\":{\"colorbar\":{\"outlinewidth\":0,\"ticks\":\"\"}}}],\"scatterpolargl\":[{\"type\":\"scatterpolargl\",\"marker\":{\"colorbar\":{\"outlinewidth\":0,\"ticks\":\"\"}}}],\"bar\":[{\"error_x\":{\"color\":\"#2a3f5f\"},\"error_y\":{\"color\":\"#2a3f5f\"},\"marker\":{\"line\":{\"color\":\"#E5ECF6\",\"width\":0.5},\"pattern\":{\"fillmode\":\"overlay\",\"size\":10,\"solidity\":0.2}},\"type\":\"bar\"}],\"scattergeo\":[{\"type\":\"scattergeo\",\"marker\":{\"colorbar\":{\"outlinewidth\":0,\"ticks\":\"\"}}}],\"scatterpolar\":[{\"type\":\"scatterpolar\",\"marker\":{\"colorbar\":{\"outlinewidth\":0,\"ticks\":\"\"}}}],\"histogram\":[{\"marker\":{\"pattern\":{\"fillmode\":\"overlay\",\"size\":10,\"solidity\":0.2}},\"type\":\"histogram\"}],\"scattergl\":[{\"type\":\"scattergl\",\"marker\":{\"colorbar\":{\"outlinewidth\":0,\"ticks\":\"\"}}}],\"scatter3d\":[{\"type\":\"scatter3d\",\"line\":{\"colorbar\":{\"outlinewidth\":0,\"ticks\":\"\"}},\"marker\":{\"colorbar\":{\"outlinewidth\":0,\"ticks\":\"\"}}}],\"scattermapbox\":[{\"type\":\"scattermapbox\",\"marker\":{\"colorbar\":{\"outlinewidth\":0,\"ticks\":\"\"}}}],\"scatterternary\":[{\"type\":\"scatterternary\",\"marker\":{\"colorbar\":{\"outlinewidth\":0,\"ticks\":\"\"}}}],\"scattercarpet\":[{\"type\":\"scattercarpet\",\"marker\":{\"colorbar\":{\"outlinewidth\":0,\"ticks\":\"\"}}}],\"carpet\":[{\"aaxis\":{\"endlinecolor\":\"#2a3f5f\",\"gridcolor\":\"white\",\"linecolor\":\"white\",\"minorgridcolor\":\"white\",\"startlinecolor\":\"#2a3f5f\"},\"baxis\":{\"endlinecolor\":\"#2a3f5f\",\"gridcolor\":\"white\",\"linecolor\":\"white\",\"minorgridcolor\":\"white\",\"startlinecolor\":\"#2a3f5f\"},\"type\":\"carpet\"}],\"table\":[{\"cells\":{\"fill\":{\"color\":\"#EBF0F8\"},\"line\":{\"color\":\"white\"}},\"header\":{\"fill\":{\"color\":\"#C8D4E3\"},\"line\":{\"color\":\"white\"}},\"type\":\"table\"}],\"barpolar\":[{\"marker\":{\"line\":{\"color\":\"#E5ECF6\",\"width\":0.5},\"pattern\":{\"fillmode\":\"overlay\",\"size\":10,\"solidity\":0.2}},\"type\":\"barpolar\"}],\"pie\":[{\"automargin\":true,\"type\":\"pie\"}]},\"layout\":{\"autotypenumbers\":\"strict\",\"colorway\":[\"#636efa\",\"#EF553B\",\"#00cc96\",\"#ab63fa\",\"#FFA15A\",\"#19d3f3\",\"#FF6692\",\"#B6E880\",\"#FF97FF\",\"#FECB52\"],\"font\":{\"color\":\"#2a3f5f\"},\"hovermode\":\"closest\",\"hoverlabel\":{\"align\":\"left\"},\"paper_bgcolor\":\"white\",\"plot_bgcolor\":\"#E5ECF6\",\"polar\":{\"bgcolor\":\"#E5ECF6\",\"angularaxis\":{\"gridcolor\":\"white\",\"linecolor\":\"white\",\"ticks\":\"\"},\"radialaxis\":{\"gridcolor\":\"white\",\"linecolor\":\"white\",\"ticks\":\"\"}},\"ternary\":{\"bgcolor\":\"#E5ECF6\",\"aaxis\":{\"gridcolor\":\"white\",\"linecolor\":\"white\",\"ticks\":\"\"},\"baxis\":{\"gridcolor\":\"white\",\"linecolor\":\"white\",\"ticks\":\"\"},\"caxis\":{\"gridcolor\":\"white\",\"linecolor\":\"white\",\"ticks\":\"\"}},\"coloraxis\":{\"colorbar\":{\"outlinewidth\":0,\"ticks\":\"\"}},\"colorscale\":{\"sequential\":[[0.0,\"#0d0887\"],[0.1111111111111111,\"#46039f\"],[0.2222222222222222,\"#7201a8\"],[0.3333333333333333,\"#9c179e\"],[0.4444444444444444,\"#bd3786\"],[0.5555555555555556,\"#d8576b\"],[0.6666666666666666,\"#ed7953\"],[0.7777777777777778,\"#fb9f3a\"],[0.8888888888888888,\"#fdca26\"],[1.0,\"#f0f921\"]],\"sequentialminus\":[[0.0,\"#0d0887\"],[0.1111111111111111,\"#46039f\"],[0.2222222222222222,\"#7201a8\"],[0.3333333333333333,\"#9c179e\"],[0.4444444444444444,\"#bd3786\"],[0.5555555555555556,\"#d8576b\"],[0.6666666666666666,\"#ed7953\"],[0.7777777777777778,\"#fb9f3a\"],[0.8888888888888888,\"#fdca26\"],[1.0,\"#f0f921\"]],\"diverging\":[[0,\"#8e0152\"],[0.1,\"#c51b7d\"],[0.2,\"#de77ae\"],[0.3,\"#f1b6da\"],[0.4,\"#fde0ef\"],[0.5,\"#f7f7f7\"],[0.6,\"#e6f5d0\"],[0.7,\"#b8e186\"],[0.8,\"#7fbc41\"],[0.9,\"#4d9221\"],[1,\"#276419\"]]},\"xaxis\":{\"gridcolor\":\"white\",\"linecolor\":\"white\",\"ticks\":\"\",\"title\":{\"standoff\":15},\"zerolinecolor\":\"white\",\"automargin\":true,\"zerolinewidth\":2},\"yaxis\":{\"gridcolor\":\"white\",\"linecolor\":\"white\",\"ticks\":\"\",\"title\":{\"standoff\":15},\"zerolinecolor\":\"white\",\"automargin\":true,\"zerolinewidth\":2},\"scene\":{\"xaxis\":{\"backgroundcolor\":\"#E5ECF6\",\"gridcolor\":\"white\",\"linecolor\":\"white\",\"showbackground\":true,\"ticks\":\"\",\"zerolinecolor\":\"white\",\"gridwidth\":2},\"yaxis\":{\"backgroundcolor\":\"#E5ECF6\",\"gridcolor\":\"white\",\"linecolor\":\"white\",\"showbackground\":true,\"ticks\":\"\",\"zerolinecolor\":\"white\",\"gridwidth\":2},\"zaxis\":{\"backgroundcolor\":\"#E5ECF6\",\"gridcolor\":\"white\",\"linecolor\":\"white\",\"showbackground\":true,\"ticks\":\"\",\"zerolinecolor\":\"white\",\"gridwidth\":2}},\"shapedefaults\":{\"line\":{\"color\":\"#2a3f5f\"}},\"annotationdefaults\":{\"arrowcolor\":\"#2a3f5f\",\"arrowhead\":0,\"arrowwidth\":1},\"geo\":{\"bgcolor\":\"white\",\"landcolor\":\"#E5ECF6\",\"subunitcolor\":\"white\",\"showland\":true,\"showlakes\":true,\"lakecolor\":\"white\"},\"title\":{\"x\":0.05},\"mapbox\":{\"style\":\"light\"}}},\"xaxis\":{\"anchor\":\"y\",\"domain\":[0.0,1.0],\"title\":{\"text\":\"beginn\",\"font\":{\"size\":16}},\"tickfont\":{\"size\":16}},\"yaxis\":{\"anchor\":\"x\",\"domain\":[0.0,1.0],\"title\":{\"text\":\"Anteil\",\"font\":{\"size\":16}},\"tickfont\":{\"size\":16}},\"legend\":{\"title\":{\"text\":\"\"},\"tracegroupgap\":0,\"font\":{\"size\":16},\"x\":0.5,\"y\":0.96},\"margin\":{\"t\":60},\"barmode\":\"group\",\"width\":700,\"height\":300,\"bargap\":0.1},                        {\"responsive\": true}                    ).then(function(){\n",
       "                            \n",
       "var gd = document.getElementById('888eb324-e51f-4c25-9b12-7055f3f62456');\n",
       "var x = new MutationObserver(function (mutations, observer) {{\n",
       "        var display = window.getComputedStyle(gd).display;\n",
       "        if (!display || display === 'none') {{\n",
       "            console.log([gd, 'removed!']);\n",
       "            Plotly.purge(gd);\n",
       "            observer.disconnect();\n",
       "        }}\n",
       "}});\n",
       "\n",
       "// Listen for the removal of the full notebook cells\n",
       "var notebookContainer = gd.closest('#notebook-container');\n",
       "if (notebookContainer) {{\n",
       "    x.observe(notebookContainer, {childList: true});\n",
       "}}\n",
       "\n",
       "// Listen for the clearing of the current output cell\n",
       "var outputEl = gd.closest('.output');\n",
       "if (outputEl) {{\n",
       "    x.observe(outputEl, {childList: true});\n",
       "}}\n",
       "\n",
       "                        })                };                });            </script>        </div>"
      ]
     },
     "metadata": {},
     "output_type": "display_data"
    }
   ],
   "source": [
    "meta_plot = meta_anth_bin.copy()\n",
    "\n",
    "for cont_comp_feature in cont_comp_features:\n",
    "    mean_main = meta_plot[meta_plot[main_feature] == 1][cont_comp_feature].mean()\n",
    "    mean_notmain = meta_plot[meta_plot[main_feature] == 0][cont_comp_feature].mean()\n",
    "    if cont_comp_feature == 'zeit_mitte':\n",
    "        label_main = f\"Nationalistische Texte<br>(Mittelwert = {round(mean_main)})\"\n",
    "        label_notmain = f\"Nicht nationalistische Texte<br>(Mittelwert = {round(mean_notmain)})\"\n",
    "    else:\n",
    "        label_main = f\"Nationalistische Texte<br>(Mittelwert = {round(mean_main, 2)})\"\n",
    "        label_notmain = f\"Nicht nationalistische Texte<br>(Mittelwert = {round(mean_notmain, 2)})\"\n",
    "    meta_plot['plot_legend'] = [label_main if x == 1 else label_notmain for x in meta_plot[main_feature]]\n",
    "    meta_plot['zeit_mitte'] = meta_plot['zeit_mitte'].clip(lower=0)\n",
    "        \n",
    "    fig = px.histogram(\n",
    "        meta_plot,\n",
    "        x = cont_comp_feature,\n",
    "        color = 'plot_legend',\n",
    "        histnorm = 'probability density',\n",
    "        barmode = 'group',\n",
    "        labels = {'plot_legend' : '', \n",
    "                  'stoffgebiet_positiv' : 'Anzahl positiv bewertete Stoffgebiete',\n",
    "                  'zeit_mitte' : 'Mitte der dominanten Zeitebene',\n",
    "                 }\n",
    "    )\n",
    "\n",
    "    fig.update_layout(\n",
    "        width = 700, height = 300,\n",
    "        yaxis_title=\"Anteil\",\n",
    "        xaxis=dict(tickfont=dict(size=16), titlefont=dict(size=16)),\n",
    "        yaxis=dict(tickfont=dict(size=16), titlefont=dict(size=16)),\n",
    "        legend=dict(font = dict(size=16), x=0.5, y = 0.96),\n",
    "        bargap=0.1\n",
    "    )\n",
    "    if cont_comp_feature == 'zeit_mitte':\n",
    "        fig.update_layout(legend=dict(x=0.15, y = 0.9),)  \n",
    "        \n",
    "    # fig.write_image(f\"plots/6.7 Nationalismus – {cont_comp_feature}.pdf\")\n",
    "    fig.show()"
   ]
  },
  {
   "cell_type": "code",
   "execution_count": 44,
   "id": "d66ae68b",
   "metadata": {},
   "outputs": [
    {
     "data": {
      "text/plain": [
       "0.6816216216216217"
      ]
     },
     "execution_count": 44,
     "metadata": {},
     "output_type": "execute_result"
    }
   ],
   "source": [
    "meta_anth_bin['behandelt_deutschen_mittelraum'].mean()"
   ]
  },
  {
   "cell_type": "code",
   "execution_count": 45,
   "id": "64f0dad5",
   "metadata": {},
   "outputs": [
    {
     "data": {
      "text/plain": [
       "0.5928571428571429"
      ]
     },
     "execution_count": 45,
     "metadata": {},
     "output_type": "execute_result"
    }
   ],
   "source": [
    "binarize_meta(meta_muench)['behandelt_deutschen_mittelraum'].mean()"
   ]
  },
  {
   "cell_type": "code",
   "execution_count": 46,
   "id": "c632cab9",
   "metadata": {},
   "outputs": [
    {
     "data": {
      "text/plain": [
       "0.2743362831858407"
      ]
     },
     "execution_count": 46,
     "metadata": {},
     "output_type": "execute_result"
    }
   ],
   "source": [
    "binarize_meta(meta_modcanon)['behandelt_deutschen_mittelraum'].mean()"
   ]
  },
  {
   "cell_type": "markdown",
   "id": "2ffd5811-fb71-427b-bd0a-f583370cd49e",
   "metadata": {},
   "source": [
    "### Anthologien"
   ]
  },
  {
   "cell_type": "code",
   "execution_count": 47,
   "id": "c0609297-9a52-43c3-808d-8ad1d251bf21",
   "metadata": {},
   "outputs": [],
   "source": [
    "def create_anthology_nationalism_plot(\n",
    "    texts_start = 1850,\n",
    "    texts_end = 1875,\n",
    "    only_geschichtslyrik = True,\n",
    "    anthology_start = 1885,\n",
    "    min_text_count = 20,\n",
    "    plot_type = 'bar'\n",
    "    ):\n",
    "\n",
    "    anthology_df = pd.DataFrame()\n",
    "    for anthology in meta.query(\"anthology_year_used_ed <= 2000\")['anthology'].unique():\n",
    "        anthology_meta = meta.query(\"anthology == @anthology\")\n",
    "        anthology_texts_meta = anthology_meta.query(\"@texts_start <= year <= @texts_end\")\n",
    "        if only_geschichtslyrik:\n",
    "            anthology_texts_meta = anthology_texts_meta.query(\"geschichtslyrik == 1\")\n",
    "        anthology_df.at[anthology, 'anthology_year'] = anthology_meta['anthology_year_used_ed'].tolist()[0]\n",
    "        anthology_df.at[anthology, 'annotated_count'] = anthology_texts_meta.query(\"annotated\").shape[0]\n",
    "        anthology_df.at[anthology, 'nationalismus_count'] = anthology_texts_meta.query(\"nationalismus == 1\").shape[0]\n",
    "    anthology_df['nationalismus_share'] = anthology_df['nationalismus_count']/anthology_df['annotated_count']\n",
    "\n",
    "    meta_plot = anthology_df.query(\"anthology_year >= @anthology_start and annotated_count >= @min_text_count\")\n",
    "\n",
    "    if plot_type == 'bar':\n",
    "        fig = px.bar(\n",
    "            meta_plot,\n",
    "            y = 'nationalismus_share',\n",
    "            hover_data = ['annotated_count'],\n",
    "            labels = {'nationalismus_share' : 'Anteil nationalistische Texte', 'index' : ''}\n",
    "        )\n",
    "    elif plot_type == 'bubble':\n",
    "        fig = px.scatter(\n",
    "            meta_plot,\n",
    "            x = 'anthology_year',\n",
    "            y = 'nationalismus_share',\n",
    "            size = 'annotated_count',\n",
    "            hover_name = meta_plot.index,\n",
    "            labels = {'nationalismus_share' : 'Anteil nationalistische Texte', 'anthology_year' : 'Publikationsjahr Anthologie'}\n",
    "        )\n",
    "        \n",
    "    return fig"
   ]
  },
  {
   "cell_type": "code",
   "execution_count": 48,
   "id": "33880592-8e40-44d5-895a-59cdacaea57a",
   "metadata": {},
   "outputs": [
    {
     "data": {
      "application/vnd.plotly.v1+json": {
       "config": {
        "plotlyServerURL": "https://plot.ly"
       },
       "data": [
        {
         "alignmentgroup": "True",
         "customdata": [
          [
           21
          ],
          [
           28
          ],
          [
           61
          ],
          [
           21
          ],
          [
           253
          ],
          [
           25
          ],
          [
           92
          ],
          [
           29
          ],
          [
           29
          ],
          [
           30
          ],
          [
           29
          ],
          [
           83
          ],
          [
           20
          ],
          [
           79
          ],
          [
           79
          ],
          [
           23
          ],
          [
           51
          ],
          [
           20
          ],
          [
           44
          ],
          [
           41
          ],
          [
           28
          ],
          [
           20
          ]
         ],
         "hovertemplate": "=%{x}<br>Anteil nationalistische Texte=%{y}<br>annotated_count=%{customdata[0]}<extra></extra>",
         "legendgroup": "",
         "marker": {
          "color": "#555555",
          "pattern": {
           "shape": ""
          }
         },
         "name": "",
         "offsetgroup": "",
         "orientation": "v",
         "showlegend": false,
         "textposition": "auto",
         "type": "bar",
         "x": [
          "1886.Bliedner",
          "1887.Kriebitzsch",
          "1890.Basedow",
          "1890.Kirchner",
          "1891.Brümmer",
          "1892.Dietlein",
          "1892/93.Tetzner",
          "1899.Nießen",
          "1899.Schiffels",
          "1904.Linde",
          "1906/07.Weber",
          "1907.Zettel/Brunner",
          "1909.Meyer-Frommhold",
          "1912.Werner",
          "1915.Eggert-Windegg",
          "1922.Uhlmann-Bixterheide",
          "1925.Wehrhan",
          "1928/29.Graach",
          "1938.Plenzat",
          "1938.Schulz",
          "1958.Kipp",
          "1977.Pawlik/Schlender"
         ],
         "xaxis": "x",
         "y": [
          0.2857142857142857,
          0.10714285714285714,
          0.5409836065573771,
          0,
          0.09486166007905138,
          0.32,
          0.17391304347826086,
          0.41379310344827586,
          0.27586206896551724,
          0.23333333333333334,
          0.06896551724137931,
          0.012048192771084338,
          0.35,
          0.21518987341772153,
          0.08860759493670886,
          0.2608695652173913,
          0.1568627450980392,
          0.25,
          0.13636363636363635,
          0.34146341463414637,
          0.03571428571428571,
          0.1
         ],
         "yaxis": "y"
        }
       ],
       "layout": {
        "barmode": "relative",
        "font": {
         "color": "black"
        },
        "height": 600,
        "legend": {
         "bordercolor": "black",
         "borderwidth": 1,
         "font": {
          "size": 16
         },
         "tracegroupgap": 0,
         "traceorder": "normal"
        },
        "margin": {
         "t": 60
        },
        "paper_bgcolor": "white",
        "plot_bgcolor": "white",
        "showlegend": false,
        "template": {
         "data": {
          "bar": [
           {
            "error_x": {
             "color": "#2a3f5f"
            },
            "error_y": {
             "color": "#2a3f5f"
            },
            "marker": {
             "line": {
              "color": "#E5ECF6",
              "width": 0.5
             },
             "pattern": {
              "fillmode": "overlay",
              "size": 10,
              "solidity": 0.2
             }
            },
            "type": "bar"
           }
          ],
          "barpolar": [
           {
            "marker": {
             "line": {
              "color": "#E5ECF6",
              "width": 0.5
             },
             "pattern": {
              "fillmode": "overlay",
              "size": 10,
              "solidity": 0.2
             }
            },
            "type": "barpolar"
           }
          ],
          "carpet": [
           {
            "aaxis": {
             "endlinecolor": "#2a3f5f",
             "gridcolor": "white",
             "linecolor": "white",
             "minorgridcolor": "white",
             "startlinecolor": "#2a3f5f"
            },
            "baxis": {
             "endlinecolor": "#2a3f5f",
             "gridcolor": "white",
             "linecolor": "white",
             "minorgridcolor": "white",
             "startlinecolor": "#2a3f5f"
            },
            "type": "carpet"
           }
          ],
          "choropleth": [
           {
            "colorbar": {
             "outlinewidth": 0,
             "ticks": ""
            },
            "type": "choropleth"
           }
          ],
          "contour": [
           {
            "colorbar": {
             "outlinewidth": 0,
             "ticks": ""
            },
            "colorscale": [
             [
              0,
              "#0d0887"
             ],
             [
              0.1111111111111111,
              "#46039f"
             ],
             [
              0.2222222222222222,
              "#7201a8"
             ],
             [
              0.3333333333333333,
              "#9c179e"
             ],
             [
              0.4444444444444444,
              "#bd3786"
             ],
             [
              0.5555555555555556,
              "#d8576b"
             ],
             [
              0.6666666666666666,
              "#ed7953"
             ],
             [
              0.7777777777777778,
              "#fb9f3a"
             ],
             [
              0.8888888888888888,
              "#fdca26"
             ],
             [
              1,
              "#f0f921"
             ]
            ],
            "type": "contour"
           }
          ],
          "contourcarpet": [
           {
            "colorbar": {
             "outlinewidth": 0,
             "ticks": ""
            },
            "type": "contourcarpet"
           }
          ],
          "heatmap": [
           {
            "colorbar": {
             "outlinewidth": 0,
             "ticks": ""
            },
            "colorscale": [
             [
              0,
              "#0d0887"
             ],
             [
              0.1111111111111111,
              "#46039f"
             ],
             [
              0.2222222222222222,
              "#7201a8"
             ],
             [
              0.3333333333333333,
              "#9c179e"
             ],
             [
              0.4444444444444444,
              "#bd3786"
             ],
             [
              0.5555555555555556,
              "#d8576b"
             ],
             [
              0.6666666666666666,
              "#ed7953"
             ],
             [
              0.7777777777777778,
              "#fb9f3a"
             ],
             [
              0.8888888888888888,
              "#fdca26"
             ],
             [
              1,
              "#f0f921"
             ]
            ],
            "type": "heatmap"
           }
          ],
          "heatmapgl": [
           {
            "colorbar": {
             "outlinewidth": 0,
             "ticks": ""
            },
            "colorscale": [
             [
              0,
              "#0d0887"
             ],
             [
              0.1111111111111111,
              "#46039f"
             ],
             [
              0.2222222222222222,
              "#7201a8"
             ],
             [
              0.3333333333333333,
              "#9c179e"
             ],
             [
              0.4444444444444444,
              "#bd3786"
             ],
             [
              0.5555555555555556,
              "#d8576b"
             ],
             [
              0.6666666666666666,
              "#ed7953"
             ],
             [
              0.7777777777777778,
              "#fb9f3a"
             ],
             [
              0.8888888888888888,
              "#fdca26"
             ],
             [
              1,
              "#f0f921"
             ]
            ],
            "type": "heatmapgl"
           }
          ],
          "histogram": [
           {
            "marker": {
             "pattern": {
              "fillmode": "overlay",
              "size": 10,
              "solidity": 0.2
             }
            },
            "type": "histogram"
           }
          ],
          "histogram2d": [
           {
            "colorbar": {
             "outlinewidth": 0,
             "ticks": ""
            },
            "colorscale": [
             [
              0,
              "#0d0887"
             ],
             [
              0.1111111111111111,
              "#46039f"
             ],
             [
              0.2222222222222222,
              "#7201a8"
             ],
             [
              0.3333333333333333,
              "#9c179e"
             ],
             [
              0.4444444444444444,
              "#bd3786"
             ],
             [
              0.5555555555555556,
              "#d8576b"
             ],
             [
              0.6666666666666666,
              "#ed7953"
             ],
             [
              0.7777777777777778,
              "#fb9f3a"
             ],
             [
              0.8888888888888888,
              "#fdca26"
             ],
             [
              1,
              "#f0f921"
             ]
            ],
            "type": "histogram2d"
           }
          ],
          "histogram2dcontour": [
           {
            "colorbar": {
             "outlinewidth": 0,
             "ticks": ""
            },
            "colorscale": [
             [
              0,
              "#0d0887"
             ],
             [
              0.1111111111111111,
              "#46039f"
             ],
             [
              0.2222222222222222,
              "#7201a8"
             ],
             [
              0.3333333333333333,
              "#9c179e"
             ],
             [
              0.4444444444444444,
              "#bd3786"
             ],
             [
              0.5555555555555556,
              "#d8576b"
             ],
             [
              0.6666666666666666,
              "#ed7953"
             ],
             [
              0.7777777777777778,
              "#fb9f3a"
             ],
             [
              0.8888888888888888,
              "#fdca26"
             ],
             [
              1,
              "#f0f921"
             ]
            ],
            "type": "histogram2dcontour"
           }
          ],
          "mesh3d": [
           {
            "colorbar": {
             "outlinewidth": 0,
             "ticks": ""
            },
            "type": "mesh3d"
           }
          ],
          "parcoords": [
           {
            "line": {
             "colorbar": {
              "outlinewidth": 0,
              "ticks": ""
             }
            },
            "type": "parcoords"
           }
          ],
          "pie": [
           {
            "automargin": true,
            "type": "pie"
           }
          ],
          "scatter": [
           {
            "fillpattern": {
             "fillmode": "overlay",
             "size": 10,
             "solidity": 0.2
            },
            "type": "scatter"
           }
          ],
          "scatter3d": [
           {
            "line": {
             "colorbar": {
              "outlinewidth": 0,
              "ticks": ""
             }
            },
            "marker": {
             "colorbar": {
              "outlinewidth": 0,
              "ticks": ""
             }
            },
            "type": "scatter3d"
           }
          ],
          "scattercarpet": [
           {
            "marker": {
             "colorbar": {
              "outlinewidth": 0,
              "ticks": ""
             }
            },
            "type": "scattercarpet"
           }
          ],
          "scattergeo": [
           {
            "marker": {
             "colorbar": {
              "outlinewidth": 0,
              "ticks": ""
             }
            },
            "type": "scattergeo"
           }
          ],
          "scattergl": [
           {
            "marker": {
             "colorbar": {
              "outlinewidth": 0,
              "ticks": ""
             }
            },
            "type": "scattergl"
           }
          ],
          "scattermapbox": [
           {
            "marker": {
             "colorbar": {
              "outlinewidth": 0,
              "ticks": ""
             }
            },
            "type": "scattermapbox"
           }
          ],
          "scatterpolar": [
           {
            "marker": {
             "colorbar": {
              "outlinewidth": 0,
              "ticks": ""
             }
            },
            "type": "scatterpolar"
           }
          ],
          "scatterpolargl": [
           {
            "marker": {
             "colorbar": {
              "outlinewidth": 0,
              "ticks": ""
             }
            },
            "type": "scatterpolargl"
           }
          ],
          "scatterternary": [
           {
            "marker": {
             "colorbar": {
              "outlinewidth": 0,
              "ticks": ""
             }
            },
            "type": "scatterternary"
           }
          ],
          "surface": [
           {
            "colorbar": {
             "outlinewidth": 0,
             "ticks": ""
            },
            "colorscale": [
             [
              0,
              "#0d0887"
             ],
             [
              0.1111111111111111,
              "#46039f"
             ],
             [
              0.2222222222222222,
              "#7201a8"
             ],
             [
              0.3333333333333333,
              "#9c179e"
             ],
             [
              0.4444444444444444,
              "#bd3786"
             ],
             [
              0.5555555555555556,
              "#d8576b"
             ],
             [
              0.6666666666666666,
              "#ed7953"
             ],
             [
              0.7777777777777778,
              "#fb9f3a"
             ],
             [
              0.8888888888888888,
              "#fdca26"
             ],
             [
              1,
              "#f0f921"
             ]
            ],
            "type": "surface"
           }
          ],
          "table": [
           {
            "cells": {
             "fill": {
              "color": "#EBF0F8"
             },
             "line": {
              "color": "white"
             }
            },
            "header": {
             "fill": {
              "color": "#C8D4E3"
             },
             "line": {
              "color": "white"
             }
            },
            "type": "table"
           }
          ]
         },
         "layout": {
          "annotationdefaults": {
           "arrowcolor": "#2a3f5f",
           "arrowhead": 0,
           "arrowwidth": 1
          },
          "autotypenumbers": "strict",
          "coloraxis": {
           "colorbar": {
            "outlinewidth": 0,
            "ticks": ""
           }
          },
          "colorscale": {
           "diverging": [
            [
             0,
             "#8e0152"
            ],
            [
             0.1,
             "#c51b7d"
            ],
            [
             0.2,
             "#de77ae"
            ],
            [
             0.3,
             "#f1b6da"
            ],
            [
             0.4,
             "#fde0ef"
            ],
            [
             0.5,
             "#f7f7f7"
            ],
            [
             0.6,
             "#e6f5d0"
            ],
            [
             0.7,
             "#b8e186"
            ],
            [
             0.8,
             "#7fbc41"
            ],
            [
             0.9,
             "#4d9221"
            ],
            [
             1,
             "#276419"
            ]
           ],
           "sequential": [
            [
             0,
             "#0d0887"
            ],
            [
             0.1111111111111111,
             "#46039f"
            ],
            [
             0.2222222222222222,
             "#7201a8"
            ],
            [
             0.3333333333333333,
             "#9c179e"
            ],
            [
             0.4444444444444444,
             "#bd3786"
            ],
            [
             0.5555555555555556,
             "#d8576b"
            ],
            [
             0.6666666666666666,
             "#ed7953"
            ],
            [
             0.7777777777777778,
             "#fb9f3a"
            ],
            [
             0.8888888888888888,
             "#fdca26"
            ],
            [
             1,
             "#f0f921"
            ]
           ],
           "sequentialminus": [
            [
             0,
             "#0d0887"
            ],
            [
             0.1111111111111111,
             "#46039f"
            ],
            [
             0.2222222222222222,
             "#7201a8"
            ],
            [
             0.3333333333333333,
             "#9c179e"
            ],
            [
             0.4444444444444444,
             "#bd3786"
            ],
            [
             0.5555555555555556,
             "#d8576b"
            ],
            [
             0.6666666666666666,
             "#ed7953"
            ],
            [
             0.7777777777777778,
             "#fb9f3a"
            ],
            [
             0.8888888888888888,
             "#fdca26"
            ],
            [
             1,
             "#f0f921"
            ]
           ]
          },
          "colorway": [
           "#636efa",
           "#EF553B",
           "#00cc96",
           "#ab63fa",
           "#FFA15A",
           "#19d3f3",
           "#FF6692",
           "#B6E880",
           "#FF97FF",
           "#FECB52"
          ],
          "font": {
           "color": "#2a3f5f"
          },
          "geo": {
           "bgcolor": "white",
           "lakecolor": "white",
           "landcolor": "#E5ECF6",
           "showlakes": true,
           "showland": true,
           "subunitcolor": "white"
          },
          "hoverlabel": {
           "align": "left"
          },
          "hovermode": "closest",
          "mapbox": {
           "style": "light"
          },
          "paper_bgcolor": "white",
          "plot_bgcolor": "#E5ECF6",
          "polar": {
           "angularaxis": {
            "gridcolor": "white",
            "linecolor": "white",
            "ticks": ""
           },
           "bgcolor": "#E5ECF6",
           "radialaxis": {
            "gridcolor": "white",
            "linecolor": "white",
            "ticks": ""
           }
          },
          "scene": {
           "xaxis": {
            "backgroundcolor": "#E5ECF6",
            "gridcolor": "white",
            "gridwidth": 2,
            "linecolor": "white",
            "showbackground": true,
            "ticks": "",
            "zerolinecolor": "white"
           },
           "yaxis": {
            "backgroundcolor": "#E5ECF6",
            "gridcolor": "white",
            "gridwidth": 2,
            "linecolor": "white",
            "showbackground": true,
            "ticks": "",
            "zerolinecolor": "white"
           },
           "zaxis": {
            "backgroundcolor": "#E5ECF6",
            "gridcolor": "white",
            "gridwidth": 2,
            "linecolor": "white",
            "showbackground": true,
            "ticks": "",
            "zerolinecolor": "white"
           }
          },
          "shapedefaults": {
           "line": {
            "color": "#2a3f5f"
           }
          },
          "ternary": {
           "aaxis": {
            "gridcolor": "white",
            "linecolor": "white",
            "ticks": ""
           },
           "baxis": {
            "gridcolor": "white",
            "linecolor": "white",
            "ticks": ""
           },
           "bgcolor": "#E5ECF6",
           "caxis": {
            "gridcolor": "white",
            "linecolor": "white",
            "ticks": ""
           }
          },
          "title": {
           "x": 0.05
          },
          "xaxis": {
           "automargin": true,
           "gridcolor": "white",
           "linecolor": "white",
           "ticks": "",
           "title": {
            "standoff": 15
           },
           "zerolinecolor": "white",
           "zerolinewidth": 2
          },
          "yaxis": {
           "automargin": true,
           "gridcolor": "white",
           "linecolor": "white",
           "ticks": "",
           "title": {
            "standoff": 15
           },
           "zerolinecolor": "white",
           "zerolinewidth": 2
          }
         }
        },
        "width": 900,
        "xaxis": {
         "anchor": "y",
         "autorange": true,
         "color": "black",
         "domain": [
          0,
          1
         ],
         "gridcolor": "white",
         "range": [
          -0.5,
          21.5
         ],
         "showgrid": false,
         "tickangle": 45,
         "tickfont": {
          "size": 16
         },
         "title": {
          "font": {
           "size": 16
          },
          "text": ""
         },
         "type": "category"
        },
        "yaxis": {
         "anchor": "x",
         "autorange": true,
         "color": "black",
         "domain": [
          0,
          1
         ],
         "gridcolor": "lightgray",
         "range": [
          0,
          0.5694564279551337
         ],
         "tickfont": {
          "size": 16
         },
         "title": {
          "font": {
           "size": 16
          },
          "text": "Anteil nationalistische Texte"
         },
         "type": "linear",
         "zerolinecolor": "lightgray"
        }
       }
      },
      "text/html": [
       "<div>                            <div id=\"919bd3da-a4a8-47b6-a352-9cbf8d58011b\" class=\"plotly-graph-div\" style=\"height:600px; width:900px;\"></div>            <script type=\"text/javascript\">                require([\"plotly\"], function(Plotly) {                    window.PLOTLYENV=window.PLOTLYENV || {};                                    if (document.getElementById(\"919bd3da-a4a8-47b6-a352-9cbf8d58011b\")) {                    Plotly.newPlot(                        \"919bd3da-a4a8-47b6-a352-9cbf8d58011b\",                        [{\"alignmentgroup\":\"True\",\"customdata\":[[21.0],[28.0],[61.0],[21.0],[253.0],[25.0],[92.0],[29.0],[29.0],[30.0],[29.0],[83.0],[20.0],[79.0],[79.0],[23.0],[51.0],[20.0],[44.0],[41.0],[28.0],[20.0]],\"hovertemplate\":\"=%{x}\\u003cbr\\u003eAnteil nationalistische Texte=%{y}\\u003cbr\\u003eannotated_count=%{customdata[0]}\\u003cextra\\u003e\\u003c\\u002fextra\\u003e\",\"legendgroup\":\"\",\"marker\":{\"color\":\"#555555\",\"pattern\":{\"shape\":\"\"}},\"name\":\"\",\"offsetgroup\":\"\",\"orientation\":\"v\",\"showlegend\":false,\"textposition\":\"auto\",\"x\":[\"1886.Bliedner\",\"1887.Kriebitzsch\",\"1890.Basedow\",\"1890.Kirchner\",\"1891.Brümmer\",\"1892.Dietlein\",\"1892\\u002f93.Tetzner\",\"1899.Nießen\",\"1899.Schiffels\",\"1904.Linde\",\"1906\\u002f07.Weber\",\"1907.Zettel\\u002fBrunner\",\"1909.Meyer-Frommhold\",\"1912.Werner\",\"1915.Eggert-Windegg\",\"1922.Uhlmann-Bixterheide\",\"1925.Wehrhan\",\"1928\\u002f29.Graach\",\"1938.Plenzat\",\"1938.Schulz\",\"1958.Kipp\",\"1977.Pawlik\\u002fSchlender\"],\"xaxis\":\"x\",\"y\":[0.2857142857142857,0.10714285714285714,0.5409836065573771,0.0,0.09486166007905138,0.32,0.17391304347826086,0.41379310344827586,0.27586206896551724,0.23333333333333334,0.06896551724137931,0.012048192771084338,0.35,0.21518987341772153,0.08860759493670886,0.2608695652173913,0.1568627450980392,0.25,0.13636363636363635,0.34146341463414637,0.03571428571428571,0.1],\"yaxis\":\"y\",\"type\":\"bar\"}],                        {\"template\":{\"data\":{\"histogram2dcontour\":[{\"type\":\"histogram2dcontour\",\"colorbar\":{\"outlinewidth\":0,\"ticks\":\"\"},\"colorscale\":[[0.0,\"#0d0887\"],[0.1111111111111111,\"#46039f\"],[0.2222222222222222,\"#7201a8\"],[0.3333333333333333,\"#9c179e\"],[0.4444444444444444,\"#bd3786\"],[0.5555555555555556,\"#d8576b\"],[0.6666666666666666,\"#ed7953\"],[0.7777777777777778,\"#fb9f3a\"],[0.8888888888888888,\"#fdca26\"],[1.0,\"#f0f921\"]]}],\"choropleth\":[{\"type\":\"choropleth\",\"colorbar\":{\"outlinewidth\":0,\"ticks\":\"\"}}],\"histogram2d\":[{\"type\":\"histogram2d\",\"colorbar\":{\"outlinewidth\":0,\"ticks\":\"\"},\"colorscale\":[[0.0,\"#0d0887\"],[0.1111111111111111,\"#46039f\"],[0.2222222222222222,\"#7201a8\"],[0.3333333333333333,\"#9c179e\"],[0.4444444444444444,\"#bd3786\"],[0.5555555555555556,\"#d8576b\"],[0.6666666666666666,\"#ed7953\"],[0.7777777777777778,\"#fb9f3a\"],[0.8888888888888888,\"#fdca26\"],[1.0,\"#f0f921\"]]}],\"heatmap\":[{\"type\":\"heatmap\",\"colorbar\":{\"outlinewidth\":0,\"ticks\":\"\"},\"colorscale\":[[0.0,\"#0d0887\"],[0.1111111111111111,\"#46039f\"],[0.2222222222222222,\"#7201a8\"],[0.3333333333333333,\"#9c179e\"],[0.4444444444444444,\"#bd3786\"],[0.5555555555555556,\"#d8576b\"],[0.6666666666666666,\"#ed7953\"],[0.7777777777777778,\"#fb9f3a\"],[0.8888888888888888,\"#fdca26\"],[1.0,\"#f0f921\"]]}],\"heatmapgl\":[{\"type\":\"heatmapgl\",\"colorbar\":{\"outlinewidth\":0,\"ticks\":\"\"},\"colorscale\":[[0.0,\"#0d0887\"],[0.1111111111111111,\"#46039f\"],[0.2222222222222222,\"#7201a8\"],[0.3333333333333333,\"#9c179e\"],[0.4444444444444444,\"#bd3786\"],[0.5555555555555556,\"#d8576b\"],[0.6666666666666666,\"#ed7953\"],[0.7777777777777778,\"#fb9f3a\"],[0.8888888888888888,\"#fdca26\"],[1.0,\"#f0f921\"]]}],\"contourcarpet\":[{\"type\":\"contourcarpet\",\"colorbar\":{\"outlinewidth\":0,\"ticks\":\"\"}}],\"contour\":[{\"type\":\"contour\",\"colorbar\":{\"outlinewidth\":0,\"ticks\":\"\"},\"colorscale\":[[0.0,\"#0d0887\"],[0.1111111111111111,\"#46039f\"],[0.2222222222222222,\"#7201a8\"],[0.3333333333333333,\"#9c179e\"],[0.4444444444444444,\"#bd3786\"],[0.5555555555555556,\"#d8576b\"],[0.6666666666666666,\"#ed7953\"],[0.7777777777777778,\"#fb9f3a\"],[0.8888888888888888,\"#fdca26\"],[1.0,\"#f0f921\"]]}],\"surface\":[{\"type\":\"surface\",\"colorbar\":{\"outlinewidth\":0,\"ticks\":\"\"},\"colorscale\":[[0.0,\"#0d0887\"],[0.1111111111111111,\"#46039f\"],[0.2222222222222222,\"#7201a8\"],[0.3333333333333333,\"#9c179e\"],[0.4444444444444444,\"#bd3786\"],[0.5555555555555556,\"#d8576b\"],[0.6666666666666666,\"#ed7953\"],[0.7777777777777778,\"#fb9f3a\"],[0.8888888888888888,\"#fdca26\"],[1.0,\"#f0f921\"]]}],\"mesh3d\":[{\"type\":\"mesh3d\",\"colorbar\":{\"outlinewidth\":0,\"ticks\":\"\"}}],\"scatter\":[{\"fillpattern\":{\"fillmode\":\"overlay\",\"size\":10,\"solidity\":0.2},\"type\":\"scatter\"}],\"parcoords\":[{\"type\":\"parcoords\",\"line\":{\"colorbar\":{\"outlinewidth\":0,\"ticks\":\"\"}}}],\"scatterpolargl\":[{\"type\":\"scatterpolargl\",\"marker\":{\"colorbar\":{\"outlinewidth\":0,\"ticks\":\"\"}}}],\"bar\":[{\"error_x\":{\"color\":\"#2a3f5f\"},\"error_y\":{\"color\":\"#2a3f5f\"},\"marker\":{\"line\":{\"color\":\"#E5ECF6\",\"width\":0.5},\"pattern\":{\"fillmode\":\"overlay\",\"size\":10,\"solidity\":0.2}},\"type\":\"bar\"}],\"scattergeo\":[{\"type\":\"scattergeo\",\"marker\":{\"colorbar\":{\"outlinewidth\":0,\"ticks\":\"\"}}}],\"scatterpolar\":[{\"type\":\"scatterpolar\",\"marker\":{\"colorbar\":{\"outlinewidth\":0,\"ticks\":\"\"}}}],\"histogram\":[{\"marker\":{\"pattern\":{\"fillmode\":\"overlay\",\"size\":10,\"solidity\":0.2}},\"type\":\"histogram\"}],\"scattergl\":[{\"type\":\"scattergl\",\"marker\":{\"colorbar\":{\"outlinewidth\":0,\"ticks\":\"\"}}}],\"scatter3d\":[{\"type\":\"scatter3d\",\"line\":{\"colorbar\":{\"outlinewidth\":0,\"ticks\":\"\"}},\"marker\":{\"colorbar\":{\"outlinewidth\":0,\"ticks\":\"\"}}}],\"scattermapbox\":[{\"type\":\"scattermapbox\",\"marker\":{\"colorbar\":{\"outlinewidth\":0,\"ticks\":\"\"}}}],\"scatterternary\":[{\"type\":\"scatterternary\",\"marker\":{\"colorbar\":{\"outlinewidth\":0,\"ticks\":\"\"}}}],\"scattercarpet\":[{\"type\":\"scattercarpet\",\"marker\":{\"colorbar\":{\"outlinewidth\":0,\"ticks\":\"\"}}}],\"carpet\":[{\"aaxis\":{\"endlinecolor\":\"#2a3f5f\",\"gridcolor\":\"white\",\"linecolor\":\"white\",\"minorgridcolor\":\"white\",\"startlinecolor\":\"#2a3f5f\"},\"baxis\":{\"endlinecolor\":\"#2a3f5f\",\"gridcolor\":\"white\",\"linecolor\":\"white\",\"minorgridcolor\":\"white\",\"startlinecolor\":\"#2a3f5f\"},\"type\":\"carpet\"}],\"table\":[{\"cells\":{\"fill\":{\"color\":\"#EBF0F8\"},\"line\":{\"color\":\"white\"}},\"header\":{\"fill\":{\"color\":\"#C8D4E3\"},\"line\":{\"color\":\"white\"}},\"type\":\"table\"}],\"barpolar\":[{\"marker\":{\"line\":{\"color\":\"#E5ECF6\",\"width\":0.5},\"pattern\":{\"fillmode\":\"overlay\",\"size\":10,\"solidity\":0.2}},\"type\":\"barpolar\"}],\"pie\":[{\"automargin\":true,\"type\":\"pie\"}]},\"layout\":{\"autotypenumbers\":\"strict\",\"colorway\":[\"#636efa\",\"#EF553B\",\"#00cc96\",\"#ab63fa\",\"#FFA15A\",\"#19d3f3\",\"#FF6692\",\"#B6E880\",\"#FF97FF\",\"#FECB52\"],\"font\":{\"color\":\"#2a3f5f\"},\"hovermode\":\"closest\",\"hoverlabel\":{\"align\":\"left\"},\"paper_bgcolor\":\"white\",\"plot_bgcolor\":\"#E5ECF6\",\"polar\":{\"bgcolor\":\"#E5ECF6\",\"angularaxis\":{\"gridcolor\":\"white\",\"linecolor\":\"white\",\"ticks\":\"\"},\"radialaxis\":{\"gridcolor\":\"white\",\"linecolor\":\"white\",\"ticks\":\"\"}},\"ternary\":{\"bgcolor\":\"#E5ECF6\",\"aaxis\":{\"gridcolor\":\"white\",\"linecolor\":\"white\",\"ticks\":\"\"},\"baxis\":{\"gridcolor\":\"white\",\"linecolor\":\"white\",\"ticks\":\"\"},\"caxis\":{\"gridcolor\":\"white\",\"linecolor\":\"white\",\"ticks\":\"\"}},\"coloraxis\":{\"colorbar\":{\"outlinewidth\":0,\"ticks\":\"\"}},\"colorscale\":{\"sequential\":[[0.0,\"#0d0887\"],[0.1111111111111111,\"#46039f\"],[0.2222222222222222,\"#7201a8\"],[0.3333333333333333,\"#9c179e\"],[0.4444444444444444,\"#bd3786\"],[0.5555555555555556,\"#d8576b\"],[0.6666666666666666,\"#ed7953\"],[0.7777777777777778,\"#fb9f3a\"],[0.8888888888888888,\"#fdca26\"],[1.0,\"#f0f921\"]],\"sequentialminus\":[[0.0,\"#0d0887\"],[0.1111111111111111,\"#46039f\"],[0.2222222222222222,\"#7201a8\"],[0.3333333333333333,\"#9c179e\"],[0.4444444444444444,\"#bd3786\"],[0.5555555555555556,\"#d8576b\"],[0.6666666666666666,\"#ed7953\"],[0.7777777777777778,\"#fb9f3a\"],[0.8888888888888888,\"#fdca26\"],[1.0,\"#f0f921\"]],\"diverging\":[[0,\"#8e0152\"],[0.1,\"#c51b7d\"],[0.2,\"#de77ae\"],[0.3,\"#f1b6da\"],[0.4,\"#fde0ef\"],[0.5,\"#f7f7f7\"],[0.6,\"#e6f5d0\"],[0.7,\"#b8e186\"],[0.8,\"#7fbc41\"],[0.9,\"#4d9221\"],[1,\"#276419\"]]},\"xaxis\":{\"gridcolor\":\"white\",\"linecolor\":\"white\",\"ticks\":\"\",\"title\":{\"standoff\":15},\"zerolinecolor\":\"white\",\"automargin\":true,\"zerolinewidth\":2},\"yaxis\":{\"gridcolor\":\"white\",\"linecolor\":\"white\",\"ticks\":\"\",\"title\":{\"standoff\":15},\"zerolinecolor\":\"white\",\"automargin\":true,\"zerolinewidth\":2},\"scene\":{\"xaxis\":{\"backgroundcolor\":\"#E5ECF6\",\"gridcolor\":\"white\",\"linecolor\":\"white\",\"showbackground\":true,\"ticks\":\"\",\"zerolinecolor\":\"white\",\"gridwidth\":2},\"yaxis\":{\"backgroundcolor\":\"#E5ECF6\",\"gridcolor\":\"white\",\"linecolor\":\"white\",\"showbackground\":true,\"ticks\":\"\",\"zerolinecolor\":\"white\",\"gridwidth\":2},\"zaxis\":{\"backgroundcolor\":\"#E5ECF6\",\"gridcolor\":\"white\",\"linecolor\":\"white\",\"showbackground\":true,\"ticks\":\"\",\"zerolinecolor\":\"white\",\"gridwidth\":2}},\"shapedefaults\":{\"line\":{\"color\":\"#2a3f5f\"}},\"annotationdefaults\":{\"arrowcolor\":\"#2a3f5f\",\"arrowhead\":0,\"arrowwidth\":1},\"geo\":{\"bgcolor\":\"white\",\"landcolor\":\"#E5ECF6\",\"subunitcolor\":\"white\",\"showland\":true,\"showlakes\":true,\"lakecolor\":\"white\"},\"title\":{\"x\":0.05},\"mapbox\":{\"style\":\"light\"}}},\"xaxis\":{\"anchor\":\"y\",\"domain\":[0.0,1.0],\"title\":{\"text\":\"\",\"font\":{\"size\":16}},\"tickfont\":{\"size\":16},\"tickangle\":45,\"color\":\"black\",\"gridcolor\":\"white\",\"showgrid\":false},\"yaxis\":{\"anchor\":\"x\",\"domain\":[0.0,1.0],\"title\":{\"text\":\"Anteil nationalistische Texte\",\"font\":{\"size\":16}},\"tickfont\":{\"size\":16},\"color\":\"black\",\"gridcolor\":\"lightgray\",\"zerolinecolor\":\"lightgray\"},\"legend\":{\"tracegroupgap\":0,\"font\":{\"size\":16},\"traceorder\":\"normal\",\"bordercolor\":\"black\",\"borderwidth\":1},\"margin\":{\"t\":60},\"barmode\":\"relative\",\"width\":900,\"height\":600,\"showlegend\":false,\"font\":{\"color\":\"black\"},\"plot_bgcolor\":\"white\",\"paper_bgcolor\":\"white\"},                        {\"responsive\": true}                    ).then(function(){\n",
       "                            \n",
       "var gd = document.getElementById('919bd3da-a4a8-47b6-a352-9cbf8d58011b');\n",
       "var x = new MutationObserver(function (mutations, observer) {{\n",
       "        var display = window.getComputedStyle(gd).display;\n",
       "        if (!display || display === 'none') {{\n",
       "            console.log([gd, 'removed!']);\n",
       "            Plotly.purge(gd);\n",
       "            observer.disconnect();\n",
       "        }}\n",
       "}});\n",
       "\n",
       "// Listen for the removal of the full notebook cells\n",
       "var notebookContainer = gd.closest('#notebook-container');\n",
       "if (notebookContainer) {{\n",
       "    x.observe(notebookContainer, {childList: true});\n",
       "}}\n",
       "\n",
       "// Listen for the clearing of the current output cell\n",
       "var outputEl = gd.closest('.output');\n",
       "if (outputEl) {{\n",
       "    x.observe(outputEl, {childList: true});\n",
       "}}\n",
       "\n",
       "                        })                };                });            </script>        </div>"
      ]
     },
     "metadata": {},
     "output_type": "display_data"
    }
   ],
   "source": [
    "fig = create_anthology_nationalism_plot(\n",
    "    texts_start = 1850,\n",
    "    texts_end = 1875,\n",
    "    only_geschichtslyrik = True,\n",
    "    anthology_start = 1885,\n",
    "    min_text_count = 20,\n",
    ")\n",
    "fig.update_layout(\n",
    "        width=900, height=600,\n",
    "        xaxis=dict(tickfont=dict(size=16), titlefont=dict(size=16)),\n",
    "        yaxis=dict(tickfont=dict(size=16), titlefont=dict(size=16)),\n",
    "        legend=dict(font = dict(size=16), traceorder = 'normal'),\n",
    "        showlegend=False\n",
    "    )\n",
    "fig.update_xaxes(tickangle=45)\n",
    "fig = update_fig_for_publication(fig, make_grey=True)\n",
    "fig.write_image(f\"plots/6.7 Nationalistische Geschichtslyrik nach Anthologien.pdf\")\n",
    "fig.show()"
   ]
  },
  {
   "cell_type": "code",
   "execution_count": 49,
   "id": "0eef18fc-4655-4ddb-b65a-ec526f836b87",
   "metadata": {},
   "outputs": [
    {
     "data": {
      "application/vnd.plotly.v1+json": {
       "config": {
        "plotlyServerURL": "https://plot.ly"
       },
       "data": [
        {
         "alignmentgroup": "True",
         "customdata": [
          [
           47
          ],
          [
           46
          ],
          [
           26
          ],
          [
           181
          ],
          [
           43
          ],
          [
           384
          ],
          [
           42
          ],
          [
           251
          ],
          [
           34
          ],
          [
           155
          ],
          [
           70
          ],
          [
           76
          ],
          [
           88
          ],
          [
           95
          ],
          [
           200
          ],
          [
           40
          ],
          [
           95
          ],
          [
           50
          ],
          [
           365
          ],
          [
           101
          ],
          [
           224
          ],
          [
           27
          ],
          [
           86
          ],
          [
           52
          ],
          [
           79
          ],
          [
           146
          ],
          [
           64
          ],
          [
           42
          ],
          [
           56
          ],
          [
           102
          ],
          [
           102
          ],
          [
           370
          ],
          [
           224
          ],
          [
           36
          ],
          [
           84
          ],
          [
           41
          ],
          [
           38
          ],
          [
           23
          ]
         ],
         "hovertemplate": "=%{x}<br>Anteil nationalistische Texte=%{y}<br>annotated_count=%{customdata[0]}<extra></extra>",
         "legendgroup": "",
         "marker": {
          "color": "#636efa",
          "pattern": {
           "shape": ""
          }
         },
         "name": "",
         "offsetgroup": "",
         "orientation": "v",
         "showlegend": false,
         "textposition": "auto",
         "type": "bar",
         "x": [
          "1886.Bliedner",
          "1887.Kriebitzsch",
          "1889.Krais",
          "1890.Basedow",
          "1890.Kirchner",
          "1891.Brümmer",
          "1892.Dietlein",
          "1892/93.Tetzner",
          "1898.Wolter",
          "1899.Nießen",
          "1899.Schiffels",
          "1903.Stückmann/Ekeris",
          "1904.Linde",
          "1906/07.Weber",
          "1907.Zettel/Brunner",
          "1908.Berg",
          "1909.Meyer-Frommhold",
          "1912.Harten/Henniger",
          "1912.Werner",
          "1913.Schrutz",
          "1915.Eggert-Windegg",
          "1915.Sellmann",
          "1917.Götze/Ulbricht",
          "1918.Eschmann",
          "1922.Uhlmann-Bixterheide",
          "1925.Wehrhan",
          "1926.Beck",
          "1926.Rücker",
          "1927.Maus",
          "1928/29.Graach",
          "1934.Jelusich",
          "1938.Plenzat",
          "1938.Schulz",
          "1939.Berendt",
          "1958.Kipp",
          "1967.Fabian",
          "1977.Pawlik/Schlender",
          "1981.Klein"
         ],
         "xaxis": "x",
         "y": [
          0.5531914893617021,
          0.21739130434782608,
          0.11538461538461539,
          0.6132596685082873,
          0.023255813953488372,
          0.1640625,
          0.30952380952380953,
          0.250996015936255,
          0.5882352941176471,
          0.432258064516129,
          0.44285714285714284,
          0.42105263157894735,
          0.26136363636363635,
          0.06315789473684211,
          0.015,
          0.2,
          0.3157894736842105,
          0.12,
          0.2328767123287671,
          0.31683168316831684,
          0.21428571428571427,
          0.37037037037037035,
          0.3372093023255814,
          0.15384615384615385,
          0.20253164556962025,
          0.15753424657534246,
          0.1875,
          0,
          0.19642857142857142,
          0.1568627450980392,
          0.5,
          0.2,
          0.29910714285714285,
          0.16666666666666666,
          0.19047619047619047,
          0.07317073170731707,
          0.21052631578947367,
          0.13043478260869565
         ],
         "yaxis": "y"
        }
       ],
       "layout": {
        "barmode": "relative",
        "height": 600,
        "legend": {
         "font": {
          "size": 16
         },
         "tracegroupgap": 0,
         "traceorder": "normal"
        },
        "margin": {
         "t": 60
        },
        "showlegend": false,
        "template": {
         "data": {
          "bar": [
           {
            "error_x": {
             "color": "#2a3f5f"
            },
            "error_y": {
             "color": "#2a3f5f"
            },
            "marker": {
             "line": {
              "color": "#E5ECF6",
              "width": 0.5
             },
             "pattern": {
              "fillmode": "overlay",
              "size": 10,
              "solidity": 0.2
             }
            },
            "type": "bar"
           }
          ],
          "barpolar": [
           {
            "marker": {
             "line": {
              "color": "#E5ECF6",
              "width": 0.5
             },
             "pattern": {
              "fillmode": "overlay",
              "size": 10,
              "solidity": 0.2
             }
            },
            "type": "barpolar"
           }
          ],
          "carpet": [
           {
            "aaxis": {
             "endlinecolor": "#2a3f5f",
             "gridcolor": "white",
             "linecolor": "white",
             "minorgridcolor": "white",
             "startlinecolor": "#2a3f5f"
            },
            "baxis": {
             "endlinecolor": "#2a3f5f",
             "gridcolor": "white",
             "linecolor": "white",
             "minorgridcolor": "white",
             "startlinecolor": "#2a3f5f"
            },
            "type": "carpet"
           }
          ],
          "choropleth": [
           {
            "colorbar": {
             "outlinewidth": 0,
             "ticks": ""
            },
            "type": "choropleth"
           }
          ],
          "contour": [
           {
            "colorbar": {
             "outlinewidth": 0,
             "ticks": ""
            },
            "colorscale": [
             [
              0,
              "#0d0887"
             ],
             [
              0.1111111111111111,
              "#46039f"
             ],
             [
              0.2222222222222222,
              "#7201a8"
             ],
             [
              0.3333333333333333,
              "#9c179e"
             ],
             [
              0.4444444444444444,
              "#bd3786"
             ],
             [
              0.5555555555555556,
              "#d8576b"
             ],
             [
              0.6666666666666666,
              "#ed7953"
             ],
             [
              0.7777777777777778,
              "#fb9f3a"
             ],
             [
              0.8888888888888888,
              "#fdca26"
             ],
             [
              1,
              "#f0f921"
             ]
            ],
            "type": "contour"
           }
          ],
          "contourcarpet": [
           {
            "colorbar": {
             "outlinewidth": 0,
             "ticks": ""
            },
            "type": "contourcarpet"
           }
          ],
          "heatmap": [
           {
            "colorbar": {
             "outlinewidth": 0,
             "ticks": ""
            },
            "colorscale": [
             [
              0,
              "#0d0887"
             ],
             [
              0.1111111111111111,
              "#46039f"
             ],
             [
              0.2222222222222222,
              "#7201a8"
             ],
             [
              0.3333333333333333,
              "#9c179e"
             ],
             [
              0.4444444444444444,
              "#bd3786"
             ],
             [
              0.5555555555555556,
              "#d8576b"
             ],
             [
              0.6666666666666666,
              "#ed7953"
             ],
             [
              0.7777777777777778,
              "#fb9f3a"
             ],
             [
              0.8888888888888888,
              "#fdca26"
             ],
             [
              1,
              "#f0f921"
             ]
            ],
            "type": "heatmap"
           }
          ],
          "heatmapgl": [
           {
            "colorbar": {
             "outlinewidth": 0,
             "ticks": ""
            },
            "colorscale": [
             [
              0,
              "#0d0887"
             ],
             [
              0.1111111111111111,
              "#46039f"
             ],
             [
              0.2222222222222222,
              "#7201a8"
             ],
             [
              0.3333333333333333,
              "#9c179e"
             ],
             [
              0.4444444444444444,
              "#bd3786"
             ],
             [
              0.5555555555555556,
              "#d8576b"
             ],
             [
              0.6666666666666666,
              "#ed7953"
             ],
             [
              0.7777777777777778,
              "#fb9f3a"
             ],
             [
              0.8888888888888888,
              "#fdca26"
             ],
             [
              1,
              "#f0f921"
             ]
            ],
            "type": "heatmapgl"
           }
          ],
          "histogram": [
           {
            "marker": {
             "pattern": {
              "fillmode": "overlay",
              "size": 10,
              "solidity": 0.2
             }
            },
            "type": "histogram"
           }
          ],
          "histogram2d": [
           {
            "colorbar": {
             "outlinewidth": 0,
             "ticks": ""
            },
            "colorscale": [
             [
              0,
              "#0d0887"
             ],
             [
              0.1111111111111111,
              "#46039f"
             ],
             [
              0.2222222222222222,
              "#7201a8"
             ],
             [
              0.3333333333333333,
              "#9c179e"
             ],
             [
              0.4444444444444444,
              "#bd3786"
             ],
             [
              0.5555555555555556,
              "#d8576b"
             ],
             [
              0.6666666666666666,
              "#ed7953"
             ],
             [
              0.7777777777777778,
              "#fb9f3a"
             ],
             [
              0.8888888888888888,
              "#fdca26"
             ],
             [
              1,
              "#f0f921"
             ]
            ],
            "type": "histogram2d"
           }
          ],
          "histogram2dcontour": [
           {
            "colorbar": {
             "outlinewidth": 0,
             "ticks": ""
            },
            "colorscale": [
             [
              0,
              "#0d0887"
             ],
             [
              0.1111111111111111,
              "#46039f"
             ],
             [
              0.2222222222222222,
              "#7201a8"
             ],
             [
              0.3333333333333333,
              "#9c179e"
             ],
             [
              0.4444444444444444,
              "#bd3786"
             ],
             [
              0.5555555555555556,
              "#d8576b"
             ],
             [
              0.6666666666666666,
              "#ed7953"
             ],
             [
              0.7777777777777778,
              "#fb9f3a"
             ],
             [
              0.8888888888888888,
              "#fdca26"
             ],
             [
              1,
              "#f0f921"
             ]
            ],
            "type": "histogram2dcontour"
           }
          ],
          "mesh3d": [
           {
            "colorbar": {
             "outlinewidth": 0,
             "ticks": ""
            },
            "type": "mesh3d"
           }
          ],
          "parcoords": [
           {
            "line": {
             "colorbar": {
              "outlinewidth": 0,
              "ticks": ""
             }
            },
            "type": "parcoords"
           }
          ],
          "pie": [
           {
            "automargin": true,
            "type": "pie"
           }
          ],
          "scatter": [
           {
            "fillpattern": {
             "fillmode": "overlay",
             "size": 10,
             "solidity": 0.2
            },
            "type": "scatter"
           }
          ],
          "scatter3d": [
           {
            "line": {
             "colorbar": {
              "outlinewidth": 0,
              "ticks": ""
             }
            },
            "marker": {
             "colorbar": {
              "outlinewidth": 0,
              "ticks": ""
             }
            },
            "type": "scatter3d"
           }
          ],
          "scattercarpet": [
           {
            "marker": {
             "colorbar": {
              "outlinewidth": 0,
              "ticks": ""
             }
            },
            "type": "scattercarpet"
           }
          ],
          "scattergeo": [
           {
            "marker": {
             "colorbar": {
              "outlinewidth": 0,
              "ticks": ""
             }
            },
            "type": "scattergeo"
           }
          ],
          "scattergl": [
           {
            "marker": {
             "colorbar": {
              "outlinewidth": 0,
              "ticks": ""
             }
            },
            "type": "scattergl"
           }
          ],
          "scattermapbox": [
           {
            "marker": {
             "colorbar": {
              "outlinewidth": 0,
              "ticks": ""
             }
            },
            "type": "scattermapbox"
           }
          ],
          "scatterpolar": [
           {
            "marker": {
             "colorbar": {
              "outlinewidth": 0,
              "ticks": ""
             }
            },
            "type": "scatterpolar"
           }
          ],
          "scatterpolargl": [
           {
            "marker": {
             "colorbar": {
              "outlinewidth": 0,
              "ticks": ""
             }
            },
            "type": "scatterpolargl"
           }
          ],
          "scatterternary": [
           {
            "marker": {
             "colorbar": {
              "outlinewidth": 0,
              "ticks": ""
             }
            },
            "type": "scatterternary"
           }
          ],
          "surface": [
           {
            "colorbar": {
             "outlinewidth": 0,
             "ticks": ""
            },
            "colorscale": [
             [
              0,
              "#0d0887"
             ],
             [
              0.1111111111111111,
              "#46039f"
             ],
             [
              0.2222222222222222,
              "#7201a8"
             ],
             [
              0.3333333333333333,
              "#9c179e"
             ],
             [
              0.4444444444444444,
              "#bd3786"
             ],
             [
              0.5555555555555556,
              "#d8576b"
             ],
             [
              0.6666666666666666,
              "#ed7953"
             ],
             [
              0.7777777777777778,
              "#fb9f3a"
             ],
             [
              0.8888888888888888,
              "#fdca26"
             ],
             [
              1,
              "#f0f921"
             ]
            ],
            "type": "surface"
           }
          ],
          "table": [
           {
            "cells": {
             "fill": {
              "color": "#EBF0F8"
             },
             "line": {
              "color": "white"
             }
            },
            "header": {
             "fill": {
              "color": "#C8D4E3"
             },
             "line": {
              "color": "white"
             }
            },
            "type": "table"
           }
          ]
         },
         "layout": {
          "annotationdefaults": {
           "arrowcolor": "#2a3f5f",
           "arrowhead": 0,
           "arrowwidth": 1
          },
          "autotypenumbers": "strict",
          "coloraxis": {
           "colorbar": {
            "outlinewidth": 0,
            "ticks": ""
           }
          },
          "colorscale": {
           "diverging": [
            [
             0,
             "#8e0152"
            ],
            [
             0.1,
             "#c51b7d"
            ],
            [
             0.2,
             "#de77ae"
            ],
            [
             0.3,
             "#f1b6da"
            ],
            [
             0.4,
             "#fde0ef"
            ],
            [
             0.5,
             "#f7f7f7"
            ],
            [
             0.6,
             "#e6f5d0"
            ],
            [
             0.7,
             "#b8e186"
            ],
            [
             0.8,
             "#7fbc41"
            ],
            [
             0.9,
             "#4d9221"
            ],
            [
             1,
             "#276419"
            ]
           ],
           "sequential": [
            [
             0,
             "#0d0887"
            ],
            [
             0.1111111111111111,
             "#46039f"
            ],
            [
             0.2222222222222222,
             "#7201a8"
            ],
            [
             0.3333333333333333,
             "#9c179e"
            ],
            [
             0.4444444444444444,
             "#bd3786"
            ],
            [
             0.5555555555555556,
             "#d8576b"
            ],
            [
             0.6666666666666666,
             "#ed7953"
            ],
            [
             0.7777777777777778,
             "#fb9f3a"
            ],
            [
             0.8888888888888888,
             "#fdca26"
            ],
            [
             1,
             "#f0f921"
            ]
           ],
           "sequentialminus": [
            [
             0,
             "#0d0887"
            ],
            [
             0.1111111111111111,
             "#46039f"
            ],
            [
             0.2222222222222222,
             "#7201a8"
            ],
            [
             0.3333333333333333,
             "#9c179e"
            ],
            [
             0.4444444444444444,
             "#bd3786"
            ],
            [
             0.5555555555555556,
             "#d8576b"
            ],
            [
             0.6666666666666666,
             "#ed7953"
            ],
            [
             0.7777777777777778,
             "#fb9f3a"
            ],
            [
             0.8888888888888888,
             "#fdca26"
            ],
            [
             1,
             "#f0f921"
            ]
           ]
          },
          "colorway": [
           "#636efa",
           "#EF553B",
           "#00cc96",
           "#ab63fa",
           "#FFA15A",
           "#19d3f3",
           "#FF6692",
           "#B6E880",
           "#FF97FF",
           "#FECB52"
          ],
          "font": {
           "color": "#2a3f5f"
          },
          "geo": {
           "bgcolor": "white",
           "lakecolor": "white",
           "landcolor": "#E5ECF6",
           "showlakes": true,
           "showland": true,
           "subunitcolor": "white"
          },
          "hoverlabel": {
           "align": "left"
          },
          "hovermode": "closest",
          "mapbox": {
           "style": "light"
          },
          "paper_bgcolor": "white",
          "plot_bgcolor": "#E5ECF6",
          "polar": {
           "angularaxis": {
            "gridcolor": "white",
            "linecolor": "white",
            "ticks": ""
           },
           "bgcolor": "#E5ECF6",
           "radialaxis": {
            "gridcolor": "white",
            "linecolor": "white",
            "ticks": ""
           }
          },
          "scene": {
           "xaxis": {
            "backgroundcolor": "#E5ECF6",
            "gridcolor": "white",
            "gridwidth": 2,
            "linecolor": "white",
            "showbackground": true,
            "ticks": "",
            "zerolinecolor": "white"
           },
           "yaxis": {
            "backgroundcolor": "#E5ECF6",
            "gridcolor": "white",
            "gridwidth": 2,
            "linecolor": "white",
            "showbackground": true,
            "ticks": "",
            "zerolinecolor": "white"
           },
           "zaxis": {
            "backgroundcolor": "#E5ECF6",
            "gridcolor": "white",
            "gridwidth": 2,
            "linecolor": "white",
            "showbackground": true,
            "ticks": "",
            "zerolinecolor": "white"
           }
          },
          "shapedefaults": {
           "line": {
            "color": "#2a3f5f"
           }
          },
          "ternary": {
           "aaxis": {
            "gridcolor": "white",
            "linecolor": "white",
            "ticks": ""
           },
           "baxis": {
            "gridcolor": "white",
            "linecolor": "white",
            "ticks": ""
           },
           "bgcolor": "#E5ECF6",
           "caxis": {
            "gridcolor": "white",
            "linecolor": "white",
            "ticks": ""
           }
          },
          "title": {
           "x": 0.05
          },
          "xaxis": {
           "automargin": true,
           "gridcolor": "white",
           "linecolor": "white",
           "ticks": "",
           "title": {
            "standoff": 15
           },
           "zerolinecolor": "white",
           "zerolinewidth": 2
          },
          "yaxis": {
           "automargin": true,
           "gridcolor": "white",
           "linecolor": "white",
           "ticks": "",
           "title": {
            "standoff": 15
           },
           "zerolinecolor": "white",
           "zerolinewidth": 2
          }
         }
        },
        "width": 1200,
        "xaxis": {
         "anchor": "y",
         "autorange": true,
         "domain": [
          0,
          1
         ],
         "range": [
          -0.5,
          37.5
         ],
         "tickangle": 45,
         "tickfont": {
          "size": 16
         },
         "title": {
          "font": {
           "size": 16
          },
          "text": ""
         },
         "type": "category"
        },
        "yaxis": {
         "anchor": "x",
         "autorange": true,
         "domain": [
          0,
          1
         ],
         "range": [
          0,
          0.6455364931666182
         ],
         "tickfont": {
          "size": 16
         },
         "title": {
          "font": {
           "size": 16
          },
          "text": "Anteil nationalistische Texte"
         },
         "type": "linear"
        }
       }
      },
      "text/html": [
       "<div>                            <div id=\"f6f9e2d9-8b0c-4f1c-8dac-c0fb1337c0bd\" class=\"plotly-graph-div\" style=\"height:600px; width:1200px;\"></div>            <script type=\"text/javascript\">                require([\"plotly\"], function(Plotly) {                    window.PLOTLYENV=window.PLOTLYENV || {};                                    if (document.getElementById(\"f6f9e2d9-8b0c-4f1c-8dac-c0fb1337c0bd\")) {                    Plotly.newPlot(                        \"f6f9e2d9-8b0c-4f1c-8dac-c0fb1337c0bd\",                        [{\"alignmentgroup\":\"True\",\"customdata\":[[47.0],[46.0],[26.0],[181.0],[43.0],[384.0],[42.0],[251.0],[34.0],[155.0],[70.0],[76.0],[88.0],[95.0],[200.0],[40.0],[95.0],[50.0],[365.0],[101.0],[224.0],[27.0],[86.0],[52.0],[79.0],[146.0],[64.0],[42.0],[56.0],[102.0],[102.0],[370.0],[224.0],[36.0],[84.0],[41.0],[38.0],[23.0]],\"hovertemplate\":\"=%{x}\\u003cbr\\u003eAnteil nationalistische Texte=%{y}\\u003cbr\\u003eannotated_count=%{customdata[0]}\\u003cextra\\u003e\\u003c\\u002fextra\\u003e\",\"legendgroup\":\"\",\"marker\":{\"color\":\"#636efa\",\"pattern\":{\"shape\":\"\"}},\"name\":\"\",\"offsetgroup\":\"\",\"orientation\":\"v\",\"showlegend\":false,\"textposition\":\"auto\",\"x\":[\"1886.Bliedner\",\"1887.Kriebitzsch\",\"1889.Krais\",\"1890.Basedow\",\"1890.Kirchner\",\"1891.Brümmer\",\"1892.Dietlein\",\"1892\\u002f93.Tetzner\",\"1898.Wolter\",\"1899.Nießen\",\"1899.Schiffels\",\"1903.Stückmann\\u002fEkeris\",\"1904.Linde\",\"1906\\u002f07.Weber\",\"1907.Zettel\\u002fBrunner\",\"1908.Berg\",\"1909.Meyer-Frommhold\",\"1912.Harten\\u002fHenniger\",\"1912.Werner\",\"1913.Schrutz\",\"1915.Eggert-Windegg\",\"1915.Sellmann\",\"1917.Götze\\u002fUlbricht\",\"1918.Eschmann\",\"1922.Uhlmann-Bixterheide\",\"1925.Wehrhan\",\"1926.Beck\",\"1926.Rücker\",\"1927.Maus\",\"1928\\u002f29.Graach\",\"1934.Jelusich\",\"1938.Plenzat\",\"1938.Schulz\",\"1939.Berendt\",\"1958.Kipp\",\"1967.Fabian\",\"1977.Pawlik\\u002fSchlender\",\"1981.Klein\"],\"xaxis\":\"x\",\"y\":[0.5531914893617021,0.21739130434782608,0.11538461538461539,0.6132596685082873,0.023255813953488372,0.1640625,0.30952380952380953,0.250996015936255,0.5882352941176471,0.432258064516129,0.44285714285714284,0.42105263157894735,0.26136363636363635,0.06315789473684211,0.015,0.2,0.3157894736842105,0.12,0.2328767123287671,0.31683168316831684,0.21428571428571427,0.37037037037037035,0.3372093023255814,0.15384615384615385,0.20253164556962025,0.15753424657534246,0.1875,0.0,0.19642857142857142,0.1568627450980392,0.5,0.2,0.29910714285714285,0.16666666666666666,0.19047619047619047,0.07317073170731707,0.21052631578947367,0.13043478260869565],\"yaxis\":\"y\",\"type\":\"bar\"}],                        {\"template\":{\"data\":{\"histogram2dcontour\":[{\"type\":\"histogram2dcontour\",\"colorbar\":{\"outlinewidth\":0,\"ticks\":\"\"},\"colorscale\":[[0.0,\"#0d0887\"],[0.1111111111111111,\"#46039f\"],[0.2222222222222222,\"#7201a8\"],[0.3333333333333333,\"#9c179e\"],[0.4444444444444444,\"#bd3786\"],[0.5555555555555556,\"#d8576b\"],[0.6666666666666666,\"#ed7953\"],[0.7777777777777778,\"#fb9f3a\"],[0.8888888888888888,\"#fdca26\"],[1.0,\"#f0f921\"]]}],\"choropleth\":[{\"type\":\"choropleth\",\"colorbar\":{\"outlinewidth\":0,\"ticks\":\"\"}}],\"histogram2d\":[{\"type\":\"histogram2d\",\"colorbar\":{\"outlinewidth\":0,\"ticks\":\"\"},\"colorscale\":[[0.0,\"#0d0887\"],[0.1111111111111111,\"#46039f\"],[0.2222222222222222,\"#7201a8\"],[0.3333333333333333,\"#9c179e\"],[0.4444444444444444,\"#bd3786\"],[0.5555555555555556,\"#d8576b\"],[0.6666666666666666,\"#ed7953\"],[0.7777777777777778,\"#fb9f3a\"],[0.8888888888888888,\"#fdca26\"],[1.0,\"#f0f921\"]]}],\"heatmap\":[{\"type\":\"heatmap\",\"colorbar\":{\"outlinewidth\":0,\"ticks\":\"\"},\"colorscale\":[[0.0,\"#0d0887\"],[0.1111111111111111,\"#46039f\"],[0.2222222222222222,\"#7201a8\"],[0.3333333333333333,\"#9c179e\"],[0.4444444444444444,\"#bd3786\"],[0.5555555555555556,\"#d8576b\"],[0.6666666666666666,\"#ed7953\"],[0.7777777777777778,\"#fb9f3a\"],[0.8888888888888888,\"#fdca26\"],[1.0,\"#f0f921\"]]}],\"heatmapgl\":[{\"type\":\"heatmapgl\",\"colorbar\":{\"outlinewidth\":0,\"ticks\":\"\"},\"colorscale\":[[0.0,\"#0d0887\"],[0.1111111111111111,\"#46039f\"],[0.2222222222222222,\"#7201a8\"],[0.3333333333333333,\"#9c179e\"],[0.4444444444444444,\"#bd3786\"],[0.5555555555555556,\"#d8576b\"],[0.6666666666666666,\"#ed7953\"],[0.7777777777777778,\"#fb9f3a\"],[0.8888888888888888,\"#fdca26\"],[1.0,\"#f0f921\"]]}],\"contourcarpet\":[{\"type\":\"contourcarpet\",\"colorbar\":{\"outlinewidth\":0,\"ticks\":\"\"}}],\"contour\":[{\"type\":\"contour\",\"colorbar\":{\"outlinewidth\":0,\"ticks\":\"\"},\"colorscale\":[[0.0,\"#0d0887\"],[0.1111111111111111,\"#46039f\"],[0.2222222222222222,\"#7201a8\"],[0.3333333333333333,\"#9c179e\"],[0.4444444444444444,\"#bd3786\"],[0.5555555555555556,\"#d8576b\"],[0.6666666666666666,\"#ed7953\"],[0.7777777777777778,\"#fb9f3a\"],[0.8888888888888888,\"#fdca26\"],[1.0,\"#f0f921\"]]}],\"surface\":[{\"type\":\"surface\",\"colorbar\":{\"outlinewidth\":0,\"ticks\":\"\"},\"colorscale\":[[0.0,\"#0d0887\"],[0.1111111111111111,\"#46039f\"],[0.2222222222222222,\"#7201a8\"],[0.3333333333333333,\"#9c179e\"],[0.4444444444444444,\"#bd3786\"],[0.5555555555555556,\"#d8576b\"],[0.6666666666666666,\"#ed7953\"],[0.7777777777777778,\"#fb9f3a\"],[0.8888888888888888,\"#fdca26\"],[1.0,\"#f0f921\"]]}],\"mesh3d\":[{\"type\":\"mesh3d\",\"colorbar\":{\"outlinewidth\":0,\"ticks\":\"\"}}],\"scatter\":[{\"fillpattern\":{\"fillmode\":\"overlay\",\"size\":10,\"solidity\":0.2},\"type\":\"scatter\"}],\"parcoords\":[{\"type\":\"parcoords\",\"line\":{\"colorbar\":{\"outlinewidth\":0,\"ticks\":\"\"}}}],\"scatterpolargl\":[{\"type\":\"scatterpolargl\",\"marker\":{\"colorbar\":{\"outlinewidth\":0,\"ticks\":\"\"}}}],\"bar\":[{\"error_x\":{\"color\":\"#2a3f5f\"},\"error_y\":{\"color\":\"#2a3f5f\"},\"marker\":{\"line\":{\"color\":\"#E5ECF6\",\"width\":0.5},\"pattern\":{\"fillmode\":\"overlay\",\"size\":10,\"solidity\":0.2}},\"type\":\"bar\"}],\"scattergeo\":[{\"type\":\"scattergeo\",\"marker\":{\"colorbar\":{\"outlinewidth\":0,\"ticks\":\"\"}}}],\"scatterpolar\":[{\"type\":\"scatterpolar\",\"marker\":{\"colorbar\":{\"outlinewidth\":0,\"ticks\":\"\"}}}],\"histogram\":[{\"marker\":{\"pattern\":{\"fillmode\":\"overlay\",\"size\":10,\"solidity\":0.2}},\"type\":\"histogram\"}],\"scattergl\":[{\"type\":\"scattergl\",\"marker\":{\"colorbar\":{\"outlinewidth\":0,\"ticks\":\"\"}}}],\"scatter3d\":[{\"type\":\"scatter3d\",\"line\":{\"colorbar\":{\"outlinewidth\":0,\"ticks\":\"\"}},\"marker\":{\"colorbar\":{\"outlinewidth\":0,\"ticks\":\"\"}}}],\"scattermapbox\":[{\"type\":\"scattermapbox\",\"marker\":{\"colorbar\":{\"outlinewidth\":0,\"ticks\":\"\"}}}],\"scatterternary\":[{\"type\":\"scatterternary\",\"marker\":{\"colorbar\":{\"outlinewidth\":0,\"ticks\":\"\"}}}],\"scattercarpet\":[{\"type\":\"scattercarpet\",\"marker\":{\"colorbar\":{\"outlinewidth\":0,\"ticks\":\"\"}}}],\"carpet\":[{\"aaxis\":{\"endlinecolor\":\"#2a3f5f\",\"gridcolor\":\"white\",\"linecolor\":\"white\",\"minorgridcolor\":\"white\",\"startlinecolor\":\"#2a3f5f\"},\"baxis\":{\"endlinecolor\":\"#2a3f5f\",\"gridcolor\":\"white\",\"linecolor\":\"white\",\"minorgridcolor\":\"white\",\"startlinecolor\":\"#2a3f5f\"},\"type\":\"carpet\"}],\"table\":[{\"cells\":{\"fill\":{\"color\":\"#EBF0F8\"},\"line\":{\"color\":\"white\"}},\"header\":{\"fill\":{\"color\":\"#C8D4E3\"},\"line\":{\"color\":\"white\"}},\"type\":\"table\"}],\"barpolar\":[{\"marker\":{\"line\":{\"color\":\"#E5ECF6\",\"width\":0.5},\"pattern\":{\"fillmode\":\"overlay\",\"size\":10,\"solidity\":0.2}},\"type\":\"barpolar\"}],\"pie\":[{\"automargin\":true,\"type\":\"pie\"}]},\"layout\":{\"autotypenumbers\":\"strict\",\"colorway\":[\"#636efa\",\"#EF553B\",\"#00cc96\",\"#ab63fa\",\"#FFA15A\",\"#19d3f3\",\"#FF6692\",\"#B6E880\",\"#FF97FF\",\"#FECB52\"],\"font\":{\"color\":\"#2a3f5f\"},\"hovermode\":\"closest\",\"hoverlabel\":{\"align\":\"left\"},\"paper_bgcolor\":\"white\",\"plot_bgcolor\":\"#E5ECF6\",\"polar\":{\"bgcolor\":\"#E5ECF6\",\"angularaxis\":{\"gridcolor\":\"white\",\"linecolor\":\"white\",\"ticks\":\"\"},\"radialaxis\":{\"gridcolor\":\"white\",\"linecolor\":\"white\",\"ticks\":\"\"}},\"ternary\":{\"bgcolor\":\"#E5ECF6\",\"aaxis\":{\"gridcolor\":\"white\",\"linecolor\":\"white\",\"ticks\":\"\"},\"baxis\":{\"gridcolor\":\"white\",\"linecolor\":\"white\",\"ticks\":\"\"},\"caxis\":{\"gridcolor\":\"white\",\"linecolor\":\"white\",\"ticks\":\"\"}},\"coloraxis\":{\"colorbar\":{\"outlinewidth\":0,\"ticks\":\"\"}},\"colorscale\":{\"sequential\":[[0.0,\"#0d0887\"],[0.1111111111111111,\"#46039f\"],[0.2222222222222222,\"#7201a8\"],[0.3333333333333333,\"#9c179e\"],[0.4444444444444444,\"#bd3786\"],[0.5555555555555556,\"#d8576b\"],[0.6666666666666666,\"#ed7953\"],[0.7777777777777778,\"#fb9f3a\"],[0.8888888888888888,\"#fdca26\"],[1.0,\"#f0f921\"]],\"sequentialminus\":[[0.0,\"#0d0887\"],[0.1111111111111111,\"#46039f\"],[0.2222222222222222,\"#7201a8\"],[0.3333333333333333,\"#9c179e\"],[0.4444444444444444,\"#bd3786\"],[0.5555555555555556,\"#d8576b\"],[0.6666666666666666,\"#ed7953\"],[0.7777777777777778,\"#fb9f3a\"],[0.8888888888888888,\"#fdca26\"],[1.0,\"#f0f921\"]],\"diverging\":[[0,\"#8e0152\"],[0.1,\"#c51b7d\"],[0.2,\"#de77ae\"],[0.3,\"#f1b6da\"],[0.4,\"#fde0ef\"],[0.5,\"#f7f7f7\"],[0.6,\"#e6f5d0\"],[0.7,\"#b8e186\"],[0.8,\"#7fbc41\"],[0.9,\"#4d9221\"],[1,\"#276419\"]]},\"xaxis\":{\"gridcolor\":\"white\",\"linecolor\":\"white\",\"ticks\":\"\",\"title\":{\"standoff\":15},\"zerolinecolor\":\"white\",\"automargin\":true,\"zerolinewidth\":2},\"yaxis\":{\"gridcolor\":\"white\",\"linecolor\":\"white\",\"ticks\":\"\",\"title\":{\"standoff\":15},\"zerolinecolor\":\"white\",\"automargin\":true,\"zerolinewidth\":2},\"scene\":{\"xaxis\":{\"backgroundcolor\":\"#E5ECF6\",\"gridcolor\":\"white\",\"linecolor\":\"white\",\"showbackground\":true,\"ticks\":\"\",\"zerolinecolor\":\"white\",\"gridwidth\":2},\"yaxis\":{\"backgroundcolor\":\"#E5ECF6\",\"gridcolor\":\"white\",\"linecolor\":\"white\",\"showbackground\":true,\"ticks\":\"\",\"zerolinecolor\":\"white\",\"gridwidth\":2},\"zaxis\":{\"backgroundcolor\":\"#E5ECF6\",\"gridcolor\":\"white\",\"linecolor\":\"white\",\"showbackground\":true,\"ticks\":\"\",\"zerolinecolor\":\"white\",\"gridwidth\":2}},\"shapedefaults\":{\"line\":{\"color\":\"#2a3f5f\"}},\"annotationdefaults\":{\"arrowcolor\":\"#2a3f5f\",\"arrowhead\":0,\"arrowwidth\":1},\"geo\":{\"bgcolor\":\"white\",\"landcolor\":\"#E5ECF6\",\"subunitcolor\":\"white\",\"showland\":true,\"showlakes\":true,\"lakecolor\":\"white\"},\"title\":{\"x\":0.05},\"mapbox\":{\"style\":\"light\"}}},\"xaxis\":{\"anchor\":\"y\",\"domain\":[0.0,1.0],\"title\":{\"text\":\"\",\"font\":{\"size\":16}},\"tickfont\":{\"size\":16},\"tickangle\":45},\"yaxis\":{\"anchor\":\"x\",\"domain\":[0.0,1.0],\"title\":{\"text\":\"Anteil nationalistische Texte\",\"font\":{\"size\":16}},\"tickfont\":{\"size\":16}},\"legend\":{\"tracegroupgap\":0,\"font\":{\"size\":16},\"traceorder\":\"normal\"},\"margin\":{\"t\":60},\"barmode\":\"relative\",\"width\":1200,\"height\":600,\"showlegend\":false},                        {\"responsive\": true}                    ).then(function(){\n",
       "                            \n",
       "var gd = document.getElementById('f6f9e2d9-8b0c-4f1c-8dac-c0fb1337c0bd');\n",
       "var x = new MutationObserver(function (mutations, observer) {{\n",
       "        var display = window.getComputedStyle(gd).display;\n",
       "        if (!display || display === 'none') {{\n",
       "            console.log([gd, 'removed!']);\n",
       "            Plotly.purge(gd);\n",
       "            observer.disconnect();\n",
       "        }}\n",
       "}});\n",
       "\n",
       "// Listen for the removal of the full notebook cells\n",
       "var notebookContainer = gd.closest('#notebook-container');\n",
       "if (notebookContainer) {{\n",
       "    x.observe(notebookContainer, {childList: true});\n",
       "}}\n",
       "\n",
       "// Listen for the clearing of the current output cell\n",
       "var outputEl = gd.closest('.output');\n",
       "if (outputEl) {{\n",
       "    x.observe(outputEl, {childList: true});\n",
       "}}\n",
       "\n",
       "                        })                };                });            </script>        </div>"
      ]
     },
     "metadata": {},
     "output_type": "display_data"
    }
   ],
   "source": [
    "fig = create_anthology_nationalism_plot(\n",
    "    texts_start = 1850,\n",
    "    texts_end = 2000,\n",
    "    only_geschichtslyrik = False,\n",
    "    anthology_start = 1885,\n",
    "    min_text_count = 20,\n",
    ")\n",
    "fig.update_layout(\n",
    "    width=1200, height=600,\n",
    "    xaxis=dict(tickfont=dict(size=16), titlefont=dict(size=16)),\n",
    "    yaxis=dict(tickfont=dict(size=16), titlefont=dict(size=16)),\n",
    "    legend=dict(font = dict(size=16), traceorder = 'normal'),\n",
    "    showlegend=False\n",
    ")\n",
    "fig.update_xaxes(tickangle=45)\n",
    "fig.show()"
   ]
  },
  {
   "cell_type": "markdown",
   "id": "5a44466a",
   "metadata": {},
   "source": [
    "# Religiosität"
   ]
  },
  {
   "cell_type": "code",
   "execution_count": 50,
   "id": "3c0e21cf",
   "metadata": {},
   "outputs": [],
   "source": [
    "main_feature = 'religiositaet'"
   ]
  },
  {
   "cell_type": "code",
   "execution_count": 51,
   "id": "ca2b6899",
   "metadata": {},
   "outputs": [
    {
     "data": {
      "text/plain": [
       "religiositaet                           1.000000\n",
       "religion_positiv                        0.458569\n",
       "liebe_positiv                           0.319333\n",
       "geschichtsauffassung_positiv            0.272853\n",
       "religion                                0.269505\n",
       "stoffgebiet_positiv                     0.193714\n",
       "tod_positiv                             0.188286\n",
       "politik_positiv                         0.182373\n",
       "sprechinstanz_nicht_in_vergangenheit    0.181845\n",
       "bekanntes_individuum_positiv            0.181566\n",
       "sprechakt_behaupten_vorhanden           0.149698\n",
       "nationalismus                           0.143906\n",
       "gegenwartsbezug                         0.141699\n",
       "entity_positiv                          0.137040\n",
       "ueberlieferung_positiv                  0.129081\n",
       "ende                                    0.122745\n",
       "sprechakte_count                        0.122678\n",
       "zeit_mitte                              0.121334\n",
       "beginn                                  0.117275\n",
       "nogenre                                 0.114250\n",
       "Name: religiositaet, dtype: float64"
      ]
     },
     "execution_count": 51,
     "metadata": {},
     "output_type": "execute_result"
    }
   ],
   "source": [
    "meta_anth_bin.corr(numeric_only=True)[main_feature].sort_values(ascending = False).head(20)"
   ]
  },
  {
   "cell_type": "code",
   "execution_count": 52,
   "id": "75fba649",
   "metadata": {},
   "outputs": [
    {
     "data": {
      "text/plain": [
       "religion_negativ                 -0.234767\n",
       "geschichtsauffassung_negativ     -0.182759\n",
       "entity_neutral                   -0.153711\n",
       "stoffgebiet_neutral              -0.131207\n",
       "in_hohem_mass_konkret            -0.122761\n",
       "konkretheit                      -0.122692\n",
       "rollengedicht                    -0.118910\n",
       "liebe_negativ                    -0.114708\n",
       "tod_negativ                      -0.109694\n",
       "wissen_ergaenzend                -0.107934\n",
       "antike                           -0.100265\n",
       "sprechinstanz_in_vergangenheit   -0.094410\n",
       "politik_negativ                  -0.093908\n",
       "year_predict_ages_mean           -0.089214\n",
       "stoffgebiet_negativ              -0.082987\n",
       "unbekanntes_individuum_count     -0.075875\n",
       "decade                           -0.067600\n",
       "year                             -0.067216\n",
       "nation_volk_d_negativ            -0.066667\n",
       "objektmarker_vorhanden           -0.061688\n",
       "Name: religiositaet, dtype: float64"
      ]
     },
     "execution_count": 52,
     "metadata": {},
     "output_type": "execute_result"
    }
   ],
   "source": [
    "meta_anth_bin.corr(numeric_only=True)[main_feature].sort_values(ascending = True).head(20)"
   ]
  },
  {
   "cell_type": "code",
   "execution_count": 53,
   "id": "321efc3b",
   "metadata": {},
   "outputs": [],
   "source": [
    "threshold = 0.2\n",
    "\n",
    "bin_comp_features = get_features(meta_anth_bin.corr(numeric_only=True)[main_feature], threshold = threshold, mode = 'bin')\n",
    "cont_comp_features = get_features(meta_anth_bin.corr(numeric_only=True)[main_feature], threshold = threshold, mode = 'cont')"
   ]
  },
  {
   "cell_type": "code",
   "execution_count": 54,
   "id": "076a2167",
   "metadata": {},
   "outputs": [],
   "source": [
    "results = relations_binbin(\n",
    "    meta = meta_anth_bin, \n",
    "    main_feature = main_feature,\n",
    "    comp_features = bin_comp_features\n",
    ")"
   ]
  },
  {
   "cell_type": "code",
   "execution_count": 55,
   "id": "514f7c4a-671d-46c7-ad93-56899b2d56d2",
   "metadata": {},
   "outputs": [
    {
     "data": {
      "text/html": [
       "<div>\n",
       "<style scoped>\n",
       "    .dataframe tbody tr th:only-of-type {\n",
       "        vertical-align: middle;\n",
       "    }\n",
       "\n",
       "    .dataframe tbody tr th {\n",
       "        vertical-align: top;\n",
       "    }\n",
       "\n",
       "    .dataframe thead th {\n",
       "        text-align: right;\n",
       "    }\n",
       "</style>\n",
       "<table border=\"1\" class=\"dataframe\">\n",
       "  <thead>\n",
       "    <tr style=\"text-align: right;\">\n",
       "      <th></th>\n",
       "      <th>wenn_nicht</th>\n",
       "      <th>wenn_nicht_detail</th>\n",
       "      <th>wenn_ja</th>\n",
       "      <th>wenn_ja_detail</th>\n",
       "      <th>diff_low_bootstrap</th>\n",
       "      <th>diff_low</th>\n",
       "      <th>diff</th>\n",
       "      <th>diff_high</th>\n",
       "      <th>diff_high_bootstrap</th>\n",
       "      <th>chi2</th>\n",
       "      <th>chi2_p</th>\n",
       "      <th>fisher_p</th>\n",
       "      <th>phi</th>\n",
       "      <th>min_real</th>\n",
       "      <th>min_expected</th>\n",
       "    </tr>\n",
       "  </thead>\n",
       "  <tbody>\n",
       "    <tr>\n",
       "      <th>religion_positiv</th>\n",
       "      <td>0.30</td>\n",
       "      <td>47/155</td>\n",
       "      <td>0.77</td>\n",
       "      <td>86/112</td>\n",
       "      <td>0.36</td>\n",
       "      <td>0.36</td>\n",
       "      <td>0.46</td>\n",
       "      <td>0.57</td>\n",
       "      <td>0.57</td>\n",
       "      <td>56.15</td>\n",
       "      <td>0.00</td>\n",
       "      <td>0.00</td>\n",
       "      <td>0.46</td>\n",
       "      <td>26.0</td>\n",
       "      <td>55.79</td>\n",
       "    </tr>\n",
       "    <tr>\n",
       "      <th>geschichtsauffassung_positiv</th>\n",
       "      <td>0.27</td>\n",
       "      <td>17/62</td>\n",
       "      <td>0.60</td>\n",
       "      <td>9/15</td>\n",
       "      <td>0.06</td>\n",
       "      <td>0.05</td>\n",
       "      <td>0.33</td>\n",
       "      <td>0.60</td>\n",
       "      <td>0.58</td>\n",
       "      <td>5.73</td>\n",
       "      <td>0.02</td>\n",
       "      <td>0.03</td>\n",
       "      <td>0.27</td>\n",
       "      <td>6.0</td>\n",
       "      <td>5.06</td>\n",
       "    </tr>\n",
       "    <tr>\n",
       "      <th>religion</th>\n",
       "      <td>0.10</td>\n",
       "      <td>155/1532</td>\n",
       "      <td>0.35</td>\n",
       "      <td>112/318</td>\n",
       "      <td>0.20</td>\n",
       "      <td>0.20</td>\n",
       "      <td>0.25</td>\n",
       "      <td>0.31</td>\n",
       "      <td>0.31</td>\n",
       "      <td>134.37</td>\n",
       "      <td>0.00</td>\n",
       "      <td>0.00</td>\n",
       "      <td>0.27</td>\n",
       "      <td>112.0</td>\n",
       "      <td>45.90</td>\n",
       "    </tr>\n",
       "    <tr>\n",
       "      <th>religion_negativ</th>\n",
       "      <td>0.16</td>\n",
       "      <td>25/155</td>\n",
       "      <td>0.02</td>\n",
       "      <td>2/112</td>\n",
       "      <td>-0.21</td>\n",
       "      <td>-0.21</td>\n",
       "      <td>-0.14</td>\n",
       "      <td>-0.08</td>\n",
       "      <td>-0.08</td>\n",
       "      <td>14.72</td>\n",
       "      <td>0.00</td>\n",
       "      <td>0.00</td>\n",
       "      <td>0.23</td>\n",
       "      <td>2.0</td>\n",
       "      <td>11.33</td>\n",
       "    </tr>\n",
       "  </tbody>\n",
       "</table>\n",
       "</div>"
      ],
      "text/plain": [
       "                              wenn_nicht wenn_nicht_detail  wenn_ja  \\\n",
       "religion_positiv                    0.30            47/155     0.77   \n",
       "geschichtsauffassung_positiv        0.27             17/62     0.60   \n",
       "religion                            0.10          155/1532     0.35   \n",
       "religion_negativ                    0.16            25/155     0.02   \n",
       "\n",
       "                             wenn_ja_detail  diff_low_bootstrap  diff_low  \\\n",
       "religion_positiv                     86/112                0.36      0.36   \n",
       "geschichtsauffassung_positiv           9/15                0.06      0.05   \n",
       "religion                            112/318                0.20      0.20   \n",
       "religion_negativ                      2/112               -0.21     -0.21   \n",
       "\n",
       "                              diff  diff_high  diff_high_bootstrap    chi2  \\\n",
       "religion_positiv              0.46       0.57                 0.57   56.15   \n",
       "geschichtsauffassung_positiv  0.33       0.60                 0.58    5.73   \n",
       "religion                      0.25       0.31                 0.31  134.37   \n",
       "religion_negativ             -0.14      -0.08                -0.08   14.72   \n",
       "\n",
       "                              chi2_p  fisher_p   phi  min_real  min_expected  \n",
       "religion_positiv                0.00      0.00  0.46      26.0         55.79  \n",
       "geschichtsauffassung_positiv    0.02      0.03  0.27       6.0          5.06  \n",
       "religion                        0.00      0.00  0.27     112.0         45.90  \n",
       "religion_negativ                0.00      0.00  0.23       2.0         11.33  "
      ]
     },
     "execution_count": 55,
     "metadata": {},
     "output_type": "execute_result"
    }
   ],
   "source": [
    "directly_related = []\n",
    "results_filtered = (\n",
    "    results\n",
    "    .query(\"index not in @directly_related\")\n",
    "    .query(\"chi2_p < 0.05 and min_expected >= 5 and phi >= @threshold\")\n",
    "    .sort_values(by = 'diff', ascending = False)\n",
    ")\n",
    "round(results_filtered, 2)"
   ]
  },
  {
   "cell_type": "code",
   "execution_count": 56,
   "id": "ec109b0f-336e-45ea-bed5-e047ec24614e",
   "metadata": {},
   "outputs": [
    {
     "data": {
      "text/html": [
       "<div>\n",
       "<style scoped>\n",
       "    .dataframe tbody tr th:only-of-type {\n",
       "        vertical-align: middle;\n",
       "    }\n",
       "\n",
       "    .dataframe tbody tr th {\n",
       "        vertical-align: top;\n",
       "    }\n",
       "\n",
       "    .dataframe thead th {\n",
       "        text-align: right;\n",
       "    }\n",
       "</style>\n",
       "<table border=\"1\" class=\"dataframe\">\n",
       "  <thead>\n",
       "    <tr style=\"text-align: right;\">\n",
       "      <th></th>\n",
       "      <th>wenn_nicht</th>\n",
       "      <th>wenn_nicht_detail</th>\n",
       "      <th>wenn_ja</th>\n",
       "      <th>wenn_ja_detail</th>\n",
       "      <th>diff_low_bootstrap</th>\n",
       "      <th>diff_low</th>\n",
       "      <th>diff</th>\n",
       "      <th>diff_high</th>\n",
       "      <th>diff_high_bootstrap</th>\n",
       "      <th>chi2</th>\n",
       "      <th>chi2_p</th>\n",
       "      <th>fisher_p</th>\n",
       "      <th>phi</th>\n",
       "      <th>min_real</th>\n",
       "      <th>min_expected</th>\n",
       "    </tr>\n",
       "  </thead>\n",
       "  <tbody>\n",
       "    <tr>\n",
       "      <th>liebe_positiv</th>\n",
       "      <td>0.46</td>\n",
       "      <td>26/57</td>\n",
       "      <td>1.00</td>\n",
       "      <td>6/6</td>\n",
       "      <td>0.40</td>\n",
       "      <td>0.41</td>\n",
       "      <td>0.54</td>\n",
       "      <td>0.67</td>\n",
       "      <td>0.67</td>\n",
       "      <td>6.42</td>\n",
       "      <td>0.01</td>\n",
       "      <td>0.02</td>\n",
       "      <td>0.32</td>\n",
       "      <td>0.0</td>\n",
       "      <td>2.95</td>\n",
       "    </tr>\n",
       "    <tr>\n",
       "      <th>bekanntes_individuum_positiv</th>\n",
       "      <td>0.53</td>\n",
       "      <td>896/1689</td>\n",
       "      <td>0.76</td>\n",
       "      <td>256/336</td>\n",
       "      <td>0.18</td>\n",
       "      <td>0.18</td>\n",
       "      <td>0.23</td>\n",
       "      <td>0.28</td>\n",
       "      <td>0.28</td>\n",
       "      <td>61.19</td>\n",
       "      <td>0.00</td>\n",
       "      <td>0.00</td>\n",
       "      <td>0.17</td>\n",
       "      <td>80.0</td>\n",
       "      <td>144.85</td>\n",
       "    </tr>\n",
       "    <tr>\n",
       "      <th>stoffgebiet_positiv</th>\n",
       "      <td>0.43</td>\n",
       "      <td>891/2088</td>\n",
       "      <td>0.65</td>\n",
       "      <td>293/452</td>\n",
       "      <td>0.17</td>\n",
       "      <td>0.17</td>\n",
       "      <td>0.22</td>\n",
       "      <td>0.27</td>\n",
       "      <td>0.27</td>\n",
       "      <td>73.26</td>\n",
       "      <td>0.00</td>\n",
       "      <td>0.00</td>\n",
       "      <td>0.17</td>\n",
       "      <td>159.0</td>\n",
       "      <td>210.70</td>\n",
       "    </tr>\n",
       "    <tr>\n",
       "      <th>entity_positiv</th>\n",
       "      <td>0.45</td>\n",
       "      <td>1469/3271</td>\n",
       "      <td>0.62</td>\n",
       "      <td>402/645</td>\n",
       "      <td>0.14</td>\n",
       "      <td>0.13</td>\n",
       "      <td>0.17</td>\n",
       "      <td>0.22</td>\n",
       "      <td>0.22</td>\n",
       "      <td>65.49</td>\n",
       "      <td>0.00</td>\n",
       "      <td>0.00</td>\n",
       "      <td>0.13</td>\n",
       "      <td>243.0</td>\n",
       "      <td>308.17</td>\n",
       "    </tr>\n",
       "    <tr>\n",
       "      <th>unbekanntes_individuum_positiv</th>\n",
       "      <td>0.33</td>\n",
       "      <td>184/560</td>\n",
       "      <td>0.46</td>\n",
       "      <td>33/71</td>\n",
       "      <td>0.02</td>\n",
       "      <td>0.01</td>\n",
       "      <td>0.14</td>\n",
       "      <td>0.26</td>\n",
       "      <td>0.25</td>\n",
       "      <td>5.18</td>\n",
       "      <td>0.02</td>\n",
       "      <td>0.03</td>\n",
       "      <td>0.09</td>\n",
       "      <td>33.0</td>\n",
       "      <td>24.42</td>\n",
       "    </tr>\n",
       "    <tr>\n",
       "      <th>kollektiv_positiv</th>\n",
       "      <td>0.36</td>\n",
       "      <td>307/855</td>\n",
       "      <td>0.43</td>\n",
       "      <td>89/209</td>\n",
       "      <td>0.00</td>\n",
       "      <td>-0.01</td>\n",
       "      <td>0.07</td>\n",
       "      <td>0.14</td>\n",
       "      <td>0.14</td>\n",
       "      <td>3.20</td>\n",
       "      <td>0.07</td>\n",
       "      <td>0.08</td>\n",
       "      <td>0.05</td>\n",
       "      <td>89.0</td>\n",
       "      <td>77.79</td>\n",
       "    </tr>\n",
       "    <tr>\n",
       "      <th>kollektiv_negativ</th>\n",
       "      <td>0.25</td>\n",
       "      <td>211/855</td>\n",
       "      <td>0.27</td>\n",
       "      <td>57/209</td>\n",
       "      <td>-0.04</td>\n",
       "      <td>-0.04</td>\n",
       "      <td>0.03</td>\n",
       "      <td>0.09</td>\n",
       "      <td>0.09</td>\n",
       "      <td>0.60</td>\n",
       "      <td>0.44</td>\n",
       "      <td>0.48</td>\n",
       "      <td>0.02</td>\n",
       "      <td>57.0</td>\n",
       "      <td>52.64</td>\n",
       "    </tr>\n",
       "    <tr>\n",
       "      <th>stoffgebiet_ambivalent</th>\n",
       "      <td>0.13</td>\n",
       "      <td>275/2088</td>\n",
       "      <td>0.14</td>\n",
       "      <td>63/452</td>\n",
       "      <td>-0.03</td>\n",
       "      <td>-0.03</td>\n",
       "      <td>0.01</td>\n",
       "      <td>0.04</td>\n",
       "      <td>0.04</td>\n",
       "      <td>0.19</td>\n",
       "      <td>0.66</td>\n",
       "      <td>0.65</td>\n",
       "      <td>0.01</td>\n",
       "      <td>63.0</td>\n",
       "      <td>60.15</td>\n",
       "    </tr>\n",
       "    <tr>\n",
       "      <th>entity_negativ</th>\n",
       "      <td>0.17</td>\n",
       "      <td>543/3271</td>\n",
       "      <td>0.16</td>\n",
       "      <td>101/645</td>\n",
       "      <td>-0.04</td>\n",
       "      <td>-0.04</td>\n",
       "      <td>-0.01</td>\n",
       "      <td>0.02</td>\n",
       "      <td>0.02</td>\n",
       "      <td>0.35</td>\n",
       "      <td>0.56</td>\n",
       "      <td>0.60</td>\n",
       "      <td>0.01</td>\n",
       "      <td>101.0</td>\n",
       "      <td>106.07</td>\n",
       "    </tr>\n",
       "    <tr>\n",
       "      <th>entity_ambivalent</th>\n",
       "      <td>0.06</td>\n",
       "      <td>210/3271</td>\n",
       "      <td>0.05</td>\n",
       "      <td>34/645</td>\n",
       "      <td>-0.03</td>\n",
       "      <td>-0.03</td>\n",
       "      <td>-0.01</td>\n",
       "      <td>0.01</td>\n",
       "      <td>0.01</td>\n",
       "      <td>1.22</td>\n",
       "      <td>0.27</td>\n",
       "      <td>0.29</td>\n",
       "      <td>0.02</td>\n",
       "      <td>34.0</td>\n",
       "      <td>40.19</td>\n",
       "    </tr>\n",
       "    <tr>\n",
       "      <th>unbekanntes_individuum_negativ</th>\n",
       "      <td>0.13</td>\n",
       "      <td>74/560</td>\n",
       "      <td>0.10</td>\n",
       "      <td>7/71</td>\n",
       "      <td>-0.10</td>\n",
       "      <td>-0.11</td>\n",
       "      <td>-0.03</td>\n",
       "      <td>0.04</td>\n",
       "      <td>0.05</td>\n",
       "      <td>0.63</td>\n",
       "      <td>0.43</td>\n",
       "      <td>0.57</td>\n",
       "      <td>0.03</td>\n",
       "      <td>7.0</td>\n",
       "      <td>9.11</td>\n",
       "    </tr>\n",
       "    <tr>\n",
       "      <th>bekanntes_individuum_negativ</th>\n",
       "      <td>0.14</td>\n",
       "      <td>241/1689</td>\n",
       "      <td>0.10</td>\n",
       "      <td>35/336</td>\n",
       "      <td>-0.07</td>\n",
       "      <td>-0.08</td>\n",
       "      <td>-0.04</td>\n",
       "      <td>-0.00</td>\n",
       "      <td>-0.00</td>\n",
       "      <td>3.53</td>\n",
       "      <td>0.06</td>\n",
       "      <td>0.07</td>\n",
       "      <td>0.04</td>\n",
       "      <td>35.0</td>\n",
       "      <td>45.80</td>\n",
       "    </tr>\n",
       "    <tr>\n",
       "      <th>stoffgebiet_negativ</th>\n",
       "      <td>0.23</td>\n",
       "      <td>474/2088</td>\n",
       "      <td>0.14</td>\n",
       "      <td>62/452</td>\n",
       "      <td>-0.12</td>\n",
       "      <td>-0.13</td>\n",
       "      <td>-0.09</td>\n",
       "      <td>-0.05</td>\n",
       "      <td>-0.05</td>\n",
       "      <td>18.01</td>\n",
       "      <td>0.00</td>\n",
       "      <td>0.00</td>\n",
       "      <td>0.08</td>\n",
       "      <td>62.0</td>\n",
       "      <td>95.38</td>\n",
       "    </tr>\n",
       "    <tr>\n",
       "      <th>stoffgebiet_neutral</th>\n",
       "      <td>0.21</td>\n",
       "      <td>448/2088</td>\n",
       "      <td>0.08</td>\n",
       "      <td>34/452</td>\n",
       "      <td>-0.17</td>\n",
       "      <td>-0.17</td>\n",
       "      <td>-0.14</td>\n",
       "      <td>-0.11</td>\n",
       "      <td>-0.11</td>\n",
       "      <td>46.92</td>\n",
       "      <td>0.00</td>\n",
       "      <td>0.00</td>\n",
       "      <td>0.14</td>\n",
       "      <td>34.0</td>\n",
       "      <td>85.77</td>\n",
       "    </tr>\n",
       "    <tr>\n",
       "      <th>entity_neutral</th>\n",
       "      <td>0.32</td>\n",
       "      <td>1049/3271</td>\n",
       "      <td>0.17</td>\n",
       "      <td>108/645</td>\n",
       "      <td>-0.19</td>\n",
       "      <td>-0.19</td>\n",
       "      <td>-0.15</td>\n",
       "      <td>-0.12</td>\n",
       "      <td>-0.12</td>\n",
       "      <td>60.79</td>\n",
       "      <td>0.00</td>\n",
       "      <td>0.00</td>\n",
       "      <td>0.12</td>\n",
       "      <td>108.0</td>\n",
       "      <td>190.57</td>\n",
       "    </tr>\n",
       "  </tbody>\n",
       "</table>\n",
       "</div>"
      ],
      "text/plain": [
       "                                wenn_nicht wenn_nicht_detail  wenn_ja  \\\n",
       "liebe_positiv                         0.46             26/57     1.00   \n",
       "bekanntes_individuum_positiv          0.53          896/1689     0.76   \n",
       "stoffgebiet_positiv                   0.43          891/2088     0.65   \n",
       "entity_positiv                        0.45         1469/3271     0.62   \n",
       "unbekanntes_individuum_positiv        0.33           184/560     0.46   \n",
       "kollektiv_positiv                     0.36           307/855     0.43   \n",
       "kollektiv_negativ                     0.25           211/855     0.27   \n",
       "stoffgebiet_ambivalent                0.13          275/2088     0.14   \n",
       "entity_negativ                        0.17          543/3271     0.16   \n",
       "entity_ambivalent                     0.06          210/3271     0.05   \n",
       "unbekanntes_individuum_negativ        0.13            74/560     0.10   \n",
       "bekanntes_individuum_negativ          0.14          241/1689     0.10   \n",
       "stoffgebiet_negativ                   0.23          474/2088     0.14   \n",
       "stoffgebiet_neutral                   0.21          448/2088     0.08   \n",
       "entity_neutral                        0.32         1049/3271     0.17   \n",
       "\n",
       "                               wenn_ja_detail  diff_low_bootstrap  diff_low  \\\n",
       "liebe_positiv                             6/6                0.40      0.41   \n",
       "bekanntes_individuum_positiv          256/336                0.18      0.18   \n",
       "stoffgebiet_positiv                   293/452                0.17      0.17   \n",
       "entity_positiv                        402/645                0.14      0.13   \n",
       "unbekanntes_individuum_positiv          33/71                0.02      0.01   \n",
       "kollektiv_positiv                      89/209                0.00     -0.01   \n",
       "kollektiv_negativ                      57/209               -0.04     -0.04   \n",
       "stoffgebiet_ambivalent                 63/452               -0.03     -0.03   \n",
       "entity_negativ                        101/645               -0.04     -0.04   \n",
       "entity_ambivalent                      34/645               -0.03     -0.03   \n",
       "unbekanntes_individuum_negativ           7/71               -0.10     -0.11   \n",
       "bekanntes_individuum_negativ           35/336               -0.07     -0.08   \n",
       "stoffgebiet_negativ                    62/452               -0.12     -0.13   \n",
       "stoffgebiet_neutral                    34/452               -0.17     -0.17   \n",
       "entity_neutral                        108/645               -0.19     -0.19   \n",
       "\n",
       "                                diff  diff_high  diff_high_bootstrap   chi2  \\\n",
       "liebe_positiv                   0.54       0.67                 0.67   6.42   \n",
       "bekanntes_individuum_positiv    0.23       0.28                 0.28  61.19   \n",
       "stoffgebiet_positiv             0.22       0.27                 0.27  73.26   \n",
       "entity_positiv                  0.17       0.22                 0.22  65.49   \n",
       "unbekanntes_individuum_positiv  0.14       0.26                 0.25   5.18   \n",
       "kollektiv_positiv               0.07       0.14                 0.14   3.20   \n",
       "kollektiv_negativ               0.03       0.09                 0.09   0.60   \n",
       "stoffgebiet_ambivalent          0.01       0.04                 0.04   0.19   \n",
       "entity_negativ                 -0.01       0.02                 0.02   0.35   \n",
       "entity_ambivalent              -0.01       0.01                 0.01   1.22   \n",
       "unbekanntes_individuum_negativ -0.03       0.04                 0.05   0.63   \n",
       "bekanntes_individuum_negativ   -0.04      -0.00                -0.00   3.53   \n",
       "stoffgebiet_negativ            -0.09      -0.05                -0.05  18.01   \n",
       "stoffgebiet_neutral            -0.14      -0.11                -0.11  46.92   \n",
       "entity_neutral                 -0.15      -0.12                -0.12  60.79   \n",
       "\n",
       "                                chi2_p  fisher_p   phi  min_real  min_expected  \n",
       "liebe_positiv                     0.01      0.02  0.32       0.0          2.95  \n",
       "bekanntes_individuum_positiv      0.00      0.00  0.17      80.0        144.85  \n",
       "stoffgebiet_positiv               0.00      0.00  0.17     159.0        210.70  \n",
       "entity_positiv                    0.00      0.00  0.13     243.0        308.17  \n",
       "unbekanntes_individuum_positiv    0.02      0.03  0.09      33.0         24.42  \n",
       "kollektiv_positiv                 0.07      0.08  0.05      89.0         77.79  \n",
       "kollektiv_negativ                 0.44      0.48  0.02      57.0         52.64  \n",
       "stoffgebiet_ambivalent            0.66      0.65  0.01      63.0         60.15  \n",
       "entity_negativ                    0.56      0.60  0.01     101.0        106.07  \n",
       "entity_ambivalent                 0.27      0.29  0.02      34.0         40.19  \n",
       "unbekanntes_individuum_negativ    0.43      0.57  0.03       7.0          9.11  \n",
       "bekanntes_individuum_negativ      0.06      0.07  0.04      35.0         45.80  \n",
       "stoffgebiet_negativ               0.00      0.00  0.08      62.0         95.38  \n",
       "stoffgebiet_neutral               0.00      0.00  0.14      34.0         85.77  \n",
       "entity_neutral                    0.00      0.00  0.12     108.0        190.57  "
      ]
     },
     "execution_count": 56,
     "metadata": {},
     "output_type": "execute_result"
    }
   ],
   "source": [
    "results_other = results.query(\"index not in @results_filtered.index\")\n",
    "round(results_other.sort_values(by='diff', ascending=False), 2)"
   ]
  },
  {
   "cell_type": "code",
   "execution_count": 57,
   "id": "e28e98a3",
   "metadata": {},
   "outputs": [
    {
     "data": {
      "text/html": [
       "<div>\n",
       "<style scoped>\n",
       "    .dataframe tbody tr th:only-of-type {\n",
       "        vertical-align: middle;\n",
       "    }\n",
       "\n",
       "    .dataframe tbody tr th {\n",
       "        vertical-align: top;\n",
       "    }\n",
       "\n",
       "    .dataframe thead th {\n",
       "        text-align: right;\n",
       "    }\n",
       "</style>\n",
       "<table border=\"1\" class=\"dataframe\">\n",
       "  <thead>\n",
       "    <tr style=\"text-align: right;\">\n",
       "      <th></th>\n",
       "      <th>wenn_nicht_1850</th>\n",
       "      <th>wenn_nicht_detail_1850</th>\n",
       "      <th>wenn_ja_1850</th>\n",
       "      <th>wenn_ja_detail_1850</th>\n",
       "      <th>diff_1850</th>\n",
       "      <th>chi2_p_1850</th>\n",
       "      <th>phi_1850</th>\n",
       "      <th>wenn_nicht_1885</th>\n",
       "      <th>wenn_nicht_detail_1885</th>\n",
       "      <th>wenn_ja_1885</th>\n",
       "      <th>wenn_ja_detail_1885</th>\n",
       "      <th>diff_1885</th>\n",
       "      <th>chi2_p_1885</th>\n",
       "      <th>phi_1885</th>\n",
       "      <th>diff_of_diffs</th>\n",
       "      <th>diff_of_phis</th>\n",
       "    </tr>\n",
       "  </thead>\n",
       "  <tbody>\n",
       "    <tr>\n",
       "      <th>religion</th>\n",
       "      <td>0.115</td>\n",
       "      <td>126/1099</td>\n",
       "      <td>0.401</td>\n",
       "      <td>99/247</td>\n",
       "      <td>0.286</td>\n",
       "      <td>0.000</td>\n",
       "      <td>0.297</td>\n",
       "      <td>0.067</td>\n",
       "      <td>29/433</td>\n",
       "      <td>0.183</td>\n",
       "      <td>13/71</td>\n",
       "      <td>0.116</td>\n",
       "      <td>0.001</td>\n",
       "      <td>0.146</td>\n",
       "      <td>-0.170</td>\n",
       "      <td>-0.151</td>\n",
       "    </tr>\n",
       "    <tr>\n",
       "      <th>geschichtsauffassung_positiv</th>\n",
       "      <td>0.234</td>\n",
       "      <td>11/47</td>\n",
       "      <td>0.600</td>\n",
       "      <td>6/10</td>\n",
       "      <td>0.366</td>\n",
       "      <td>0.022</td>\n",
       "      <td>0.304</td>\n",
       "      <td>0.400</td>\n",
       "      <td>6/15</td>\n",
       "      <td>0.600</td>\n",
       "      <td>3/5</td>\n",
       "      <td>0.200</td>\n",
       "      <td>0.436</td>\n",
       "      <td>0.174</td>\n",
       "      <td>-0.166</td>\n",
       "      <td>-0.130</td>\n",
       "    </tr>\n",
       "    <tr>\n",
       "      <th>religion_negativ</th>\n",
       "      <td>0.175</td>\n",
       "      <td>22/126</td>\n",
       "      <td>0.020</td>\n",
       "      <td>2/99</td>\n",
       "      <td>-0.154</td>\n",
       "      <td>0.000</td>\n",
       "      <td>0.248</td>\n",
       "      <td>0.103</td>\n",
       "      <td>3/29</td>\n",
       "      <td>0.000</td>\n",
       "      <td>0/13</td>\n",
       "      <td>-0.103</td>\n",
       "      <td>0.229</td>\n",
       "      <td>0.186</td>\n",
       "      <td>0.051</td>\n",
       "      <td>-0.063</td>\n",
       "    </tr>\n",
       "    <tr>\n",
       "      <th>religion_positiv</th>\n",
       "      <td>0.333</td>\n",
       "      <td>42/126</td>\n",
       "      <td>0.758</td>\n",
       "      <td>75/99</td>\n",
       "      <td>0.424</td>\n",
       "      <td>0.000</td>\n",
       "      <td>0.422</td>\n",
       "      <td>0.172</td>\n",
       "      <td>5/29</td>\n",
       "      <td>0.846</td>\n",
       "      <td>11/13</td>\n",
       "      <td>0.674</td>\n",
       "      <td>0.000</td>\n",
       "      <td>0.641</td>\n",
       "      <td>0.249</td>\n",
       "      <td>0.220</td>\n",
       "    </tr>\n",
       "  </tbody>\n",
       "</table>\n",
       "</div>"
      ],
      "text/plain": [
       "                              wenn_nicht_1850 wenn_nicht_detail_1850  \\\n",
       "religion                                0.115               126/1099   \n",
       "geschichtsauffassung_positiv            0.234                  11/47   \n",
       "religion_negativ                        0.175                 22/126   \n",
       "religion_positiv                        0.333                 42/126   \n",
       "\n",
       "                              wenn_ja_1850 wenn_ja_detail_1850  diff_1850  \\\n",
       "religion                             0.401              99/247      0.286   \n",
       "geschichtsauffassung_positiv         0.600                6/10      0.366   \n",
       "religion_negativ                     0.020                2/99     -0.154   \n",
       "religion_positiv                     0.758               75/99      0.424   \n",
       "\n",
       "                              chi2_p_1850  phi_1850  wenn_nicht_1885  \\\n",
       "religion                            0.000     0.297            0.067   \n",
       "geschichtsauffassung_positiv        0.022     0.304            0.400   \n",
       "religion_negativ                    0.000     0.248            0.103   \n",
       "religion_positiv                    0.000     0.422            0.172   \n",
       "\n",
       "                             wenn_nicht_detail_1885  wenn_ja_1885  \\\n",
       "religion                                     29/433         0.183   \n",
       "geschichtsauffassung_positiv                   6/15         0.600   \n",
       "religion_negativ                               3/29         0.000   \n",
       "religion_positiv                               5/29         0.846   \n",
       "\n",
       "                             wenn_ja_detail_1885  diff_1885  chi2_p_1885  \\\n",
       "religion                                   13/71      0.116        0.001   \n",
       "geschichtsauffassung_positiv                 3/5      0.200        0.436   \n",
       "religion_negativ                            0/13     -0.103        0.229   \n",
       "religion_positiv                           11/13      0.674        0.000   \n",
       "\n",
       "                              phi_1885  diff_of_diffs  diff_of_phis  \n",
       "religion                         0.146         -0.170        -0.151  \n",
       "geschichtsauffassung_positiv     0.174         -0.166        -0.130  \n",
       "religion_negativ                 0.186          0.051        -0.063  \n",
       "religion_positiv                 0.641          0.249         0.220  "
      ]
     },
     "execution_count": 57,
     "metadata": {},
     "output_type": "execute_result"
    }
   ],
   "source": [
    "result_categories = ['wenn_nicht', 'wenn_nicht_detail', 'wenn_ja', 'wenn_ja_detail', 'diff', 'chi2_p', 'phi',]\n",
    "\n",
    "results_a = relations_binbin(\n",
    "    meta = meta_anth_bin.query(\"1850 <= year <= 1884\"), \n",
    "    main_feature = main_feature,\n",
    "    comp_features = results_filtered.index\n",
    ")\n",
    "\n",
    "results_b = relations_binbin(\n",
    "    meta = meta_anth_bin.query(\"1885 <= year <= 1918\"), \n",
    "    main_feature = main_feature,\n",
    "    comp_features = results_filtered.index\n",
    ")\n",
    "\n",
    "results_merged = results_a[result_categories].join(\n",
    "    results_b[result_categories], \n",
    "    lsuffix='_1850', rsuffix = '_1885'\n",
    ")\n",
    "results_merged['diff_of_diffs'] = results_merged['diff_1885'] - results_merged['diff_1850']\n",
    "results_merged['diff_of_phis'] = results_merged['phi_1885'] - results_merged['phi_1850']\n",
    "\n",
    "round(results_merged.sort_values(by = 'diff_of_phis'), 3)"
   ]
  },
  {
   "cell_type": "code",
   "execution_count": 58,
   "id": "59c7cc5c",
   "metadata": {},
   "outputs": [],
   "source": [
    "results = relations_bincont(\n",
    "    meta = meta_anth_bin, \n",
    "    main_feature = main_feature,\n",
    "    comp_features = cont_comp_features\n",
    ")"
   ]
  },
  {
   "cell_type": "code",
   "execution_count": 59,
   "id": "8fbf2d97",
   "metadata": {},
   "outputs": [
    {
     "data": {
      "text/html": [
       "<div>\n",
       "<style scoped>\n",
       "    .dataframe tbody tr th:only-of-type {\n",
       "        vertical-align: middle;\n",
       "    }\n",
       "\n",
       "    .dataframe tbody tr th {\n",
       "        vertical-align: top;\n",
       "    }\n",
       "\n",
       "    .dataframe thead th {\n",
       "        text-align: right;\n",
       "    }\n",
       "</style>\n",
       "<table border=\"1\" class=\"dataframe\">\n",
       "  <thead>\n",
       "    <tr style=\"text-align: right;\">\n",
       "      <th></th>\n",
       "    </tr>\n",
       "  </thead>\n",
       "  <tbody>\n",
       "  </tbody>\n",
       "</table>\n",
       "</div>"
      ],
      "text/plain": [
       "Empty DataFrame\n",
       "Columns: []\n",
       "Index: []"
      ]
     },
     "execution_count": 59,
     "metadata": {},
     "output_type": "execute_result"
    }
   ],
   "source": [
    "results"
   ]
  },
  {
   "cell_type": "code",
   "execution_count": 60,
   "id": "6390083c",
   "metadata": {},
   "outputs": [],
   "source": [
    "meta_plot = meta_anth_bin.copy()\n",
    "\n",
    "for cont_comp_feature in cont_comp_features:\n",
    "    mean_main = meta_plot[meta_plot[main_feature] == 1][cont_comp_feature].mean()\n",
    "    mean_notmain = meta_plot[meta_plot[main_feature] == 0][cont_comp_feature].mean()\n",
    "    label_main = f\"Religiöse Texte<br>(Mittelwert = {round(mean_main, 2)})\"\n",
    "    label_notmain = f\"Nicht religiöse Texte<br>(Mittelwert = {round(mean_notmain, 2)})\"\n",
    "    meta_plot['plot_legend'] = [label_main if x == 1 else label_notmain for x in meta_plot[main_feature]]\n",
    "        \n",
    "    fig = px.histogram(\n",
    "        meta_plot,\n",
    "        x = cont_comp_feature,\n",
    "        color = 'plot_legend',\n",
    "        histnorm = 'probability density',\n",
    "        barmode = 'group',\n",
    "        labels = {'plot_legend' : '', 'stoffgebiet_positiv' : 'Anzahl positiv bewertete Stoffgebiete',}\n",
    "    )\n",
    "\n",
    "    fig.update_layout(\n",
    "        width = 700, height = 300,\n",
    "        yaxis_title=\"Anteil\",\n",
    "        xaxis=dict(tickfont=dict(size=16), titlefont=dict(size=16)),\n",
    "        yaxis=dict(tickfont=dict(size=16), titlefont=dict(size=16)),\n",
    "        legend=dict(font = dict(size=16), x=0.6, y = 0.95),\n",
    "        bargap=0.1\n",
    "    )\n",
    "    # fig.write_image(f\"plots/6.7 Religiosität – {cont_comp_feature}.pdf\")\n",
    "    fig.show()"
   ]
  }
 ],
 "metadata": {
  "kernelspec": {
   "display_name": "Python 3 (ipykernel)",
   "language": "python",
   "name": "python3"
  },
  "language_info": {
   "codemirror_mode": {
    "name": "ipython",
    "version": 3
   },
   "file_extension": ".py",
   "mimetype": "text/x-python",
   "name": "python",
   "nbconvert_exporter": "python",
   "pygments_lexer": "ipython3",
   "version": "3.12.3"
  }
 },
 "nbformat": 4,
 "nbformat_minor": 5
}
