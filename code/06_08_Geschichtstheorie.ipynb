{
 "cells": [
  {
   "cell_type": "markdown",
   "id": "0be523ea",
   "metadata": {},
   "source": [
    "# Kapitel 6.8: Geschichtstheorie"
   ]
  },
  {
   "cell_type": "markdown",
   "id": "c7017702",
   "metadata": {},
   "source": [
    "Das Notebook ergänzt Kapitel 6.8 'Geschichtstheorie'."
   ]
  },
  {
   "cell_type": "markdown",
   "id": "2cbc902e",
   "metadata": {},
   "source": [
    "# Import"
   ]
  },
  {
   "cell_type": "code",
   "execution_count": 1,
   "id": "56d9863e",
   "metadata": {},
   "outputs": [],
   "source": [
    "import pandas as pd\n",
    "import numpy as np\n",
    "\n",
    "from resources_statistics import *\n",
    "from resources_geschichtslyrik import *\n",
    "\n",
    "import plotly.express as px\n",
    "import plotly.graph_objects as go\n",
    "from plotly.validators.scatter.marker import SymbolValidator\n",
    "\n",
    "from tqdm.notebook import tqdm"
   ]
  },
  {
   "cell_type": "code",
   "execution_count": 2,
   "id": "07cfc172",
   "metadata": {},
   "outputs": [],
   "source": [
    "meta = pd.read_json(r\"../resources/meta.json\")"
   ]
  },
  {
   "cell_type": "markdown",
   "id": "564f551b",
   "metadata": {},
   "source": [
    "# Korpora"
   ]
  },
  {
   "cell_type": "markdown",
   "id": "bc05e397",
   "metadata": {},
   "source": [
    "### Korpora erstellen"
   ]
  },
  {
   "cell_type": "code",
   "execution_count": 3,
   "id": "85ffd96d",
   "metadata": {},
   "outputs": [],
   "source": [
    "meta_anth = (\n",
    "    meta\n",
    "    .query(\"corpus=='anth'\")\n",
    "    .query(\"1850 <= year <= 1918\")\n",
    "    .query(\"geschichtslyrik == 1\")\n",
    "    .drop_duplicates(subset='author_title')\n",
    ")\n",
    "meta_anth_bin = binarize_meta(meta_anth)"
   ]
  },
  {
   "cell_type": "code",
   "execution_count": 4,
   "id": "edfd4794",
   "metadata": {},
   "outputs": [],
   "source": [
    "modcanon_authors = ['Hofmannsthal, Hugo von', 'Rilke, Rainer Maria', 'George, Stefan', 'Heym, Georg']\n",
    "\n",
    "meta_modcanon = (\n",
    "    meta\n",
    "    .query(\"author in @modcanon_authors\")\n",
    "    .query(\"1850 <= year <= 1918\")\n",
    "    .query(\"geschichtslyrik == 1\")\n",
    "    .drop_duplicates(subset='author_title')\n",
    ")"
   ]
  },
  {
   "cell_type": "code",
   "execution_count": 5,
   "id": "268246ac",
   "metadata": {},
   "outputs": [],
   "source": [
    "muench_authors = ['Münchhausen, Börries von', 'Miegel, Agnes', 'Strauß und Torney, Lulu von']\n",
    "\n",
    "meta_muench = (\n",
    "    meta\n",
    "    .query(\"author in @muench_authors\")\n",
    "    .query(\"1850 <= year <= 1918\")\n",
    "    .query(\"geschichtslyrik == 1\")\n",
    "    .drop_duplicates(subset='author_title')\n",
    ")"
   ]
  },
  {
   "cell_type": "code",
   "execution_count": 6,
   "id": "e63d9818",
   "metadata": {},
   "outputs": [],
   "source": [
    "sub_df = pd.DataFrame()\n",
    "sub_names = ['Anthologien', 'Kanonisierte Moderne', 'Münchhausen-Kreis']\n",
    "sub_metas = [meta_anth, meta_modcanon, meta_muench]"
   ]
  },
  {
   "cell_type": "markdown",
   "id": "127416cf",
   "metadata": {},
   "source": [
    "### Merkmale berechnen"
   ]
  },
  {
   "cell_type": "code",
   "execution_count": 7,
   "id": "a3011757",
   "metadata": {},
   "outputs": [],
   "source": [
    "for this_name, this_meta in zip(sub_names, sub_metas):\n",
    "    sub_df.loc[this_name, 'Jahr'] = round(this_meta['year'].mean(), 0)\n",
    "    sub_df.loc[this_name, 'Texte'] = this_meta.shape[0]\n",
    "\n",
    "    theoretisch_count = this_meta.query(\"theoretisch == 1\").shape[0]\n",
    "    sub_df.loc[this_name, 'theoretisch_count'] = theoretisch_count\n",
    "    sub_df.loc[this_name, 'theoretisch_share'] = theoretisch_count/this_meta.shape[0]\n",
    "    \n",
    "    ueberlieferung_count = this_meta.query(\"ueberlieferung == 1\").shape[0]\n",
    "    sub_df.loc[this_name, 'ueberlieferung_count'] = ueberlieferung_count\n",
    "    sub_df.loc[this_name, 'ueberlieferung_share'] = ueberlieferung_count/this_meta.shape[0]\n",
    "    sub_df.loc[this_name, 'ueberlieferung_neutral'] = this_meta.query(\"ueberlieferung_bewertung == 'neutral'\").shape[0]/ueberlieferung_count\n",
    "    sub_df.loc[this_name, 'ueberlieferung_positiv'] = this_meta.query(\"ueberlieferung_bewertung == 'positiv'\").shape[0]/ueberlieferung_count\n",
    "    sub_df.loc[this_name, 'ueberlieferung_negativ'] = this_meta.query(\"ueberlieferung_bewertung == 'negativ'\").shape[0]/ueberlieferung_count\n",
    "    sub_df.loc[this_name, 'ueberlieferung_ambivalent'] = this_meta.query(\"ueberlieferung_bewertung == 'ambivalent'\").shape[0]/ueberlieferung_count\n",
    "    \n",
    "    geschichtsauffassung_count = this_meta.query(\"geschichtsauffassung == 1\").shape[0]\n",
    "    sub_df.loc[this_name, 'geschichtsauffassung_count'] = geschichtsauffassung_count\n",
    "    sub_df.loc[this_name, 'geschichtsauffassung_share'] = geschichtsauffassung_count/this_meta.shape[0]\n",
    "    sub_df.loc[this_name, 'geschichtsauffassung_neutral'] = this_meta.query(\"geschichtsauffassung_bewertung == 'neutral'\").shape[0]/geschichtsauffassung_count\n",
    "    sub_df.loc[this_name, 'geschichtsauffassung_positiv'] = this_meta.query(\"geschichtsauffassung_bewertung == 'positiv'\").shape[0]/geschichtsauffassung_count\n",
    "    sub_df.loc[this_name, 'geschichtsauffassung_negativ'] = this_meta.query(\"geschichtsauffassung_bewertung == 'negativ'\").shape[0]/geschichtsauffassung_count\n",
    "    sub_df.loc[this_name, 'geschichtsauffassung_ambivalent'] = this_meta.query(\"geschichtsauffassung_bewertung == 'ambivalent'\").shape[0]/geschichtsauffassung_count\n",
    "       "
   ]
  },
  {
   "cell_type": "code",
   "execution_count": 8,
   "id": "6a5aa50a",
   "metadata": {},
   "outputs": [
    {
     "data": {
      "text/html": [
       "<div>\n",
       "<style scoped>\n",
       "    .dataframe tbody tr th:only-of-type {\n",
       "        vertical-align: middle;\n",
       "    }\n",
       "\n",
       "    .dataframe tbody tr th {\n",
       "        vertical-align: top;\n",
       "    }\n",
       "\n",
       "    .dataframe thead th {\n",
       "        text-align: right;\n",
       "    }\n",
       "</style>\n",
       "<table border=\"1\" class=\"dataframe\">\n",
       "  <thead>\n",
       "    <tr style=\"text-align: right;\">\n",
       "      <th></th>\n",
       "      <th>Jahr</th>\n",
       "      <th>Texte</th>\n",
       "      <th>theoretisch_count</th>\n",
       "      <th>theoretisch_share</th>\n",
       "      <th>ueberlieferung_count</th>\n",
       "      <th>ueberlieferung_share</th>\n",
       "      <th>ueberlieferung_neutral</th>\n",
       "      <th>ueberlieferung_positiv</th>\n",
       "      <th>ueberlieferung_negativ</th>\n",
       "      <th>ueberlieferung_ambivalent</th>\n",
       "      <th>geschichtsauffassung_count</th>\n",
       "      <th>geschichtsauffassung_share</th>\n",
       "      <th>geschichtsauffassung_neutral</th>\n",
       "      <th>geschichtsauffassung_positiv</th>\n",
       "      <th>geschichtsauffassung_negativ</th>\n",
       "      <th>geschichtsauffassung_ambivalent</th>\n",
       "    </tr>\n",
       "  </thead>\n",
       "  <tbody>\n",
       "    <tr>\n",
       "      <th>Anthologien</th>\n",
       "      <td>1875.0</td>\n",
       "      <td>1850.0</td>\n",
       "      <td>56.0</td>\n",
       "      <td>0.03</td>\n",
       "      <td>433.0</td>\n",
       "      <td>0.23</td>\n",
       "      <td>0.33</td>\n",
       "      <td>0.56</td>\n",
       "      <td>0.06</td>\n",
       "      <td>0.05</td>\n",
       "      <td>76.0</td>\n",
       "      <td>0.04</td>\n",
       "      <td>0.41</td>\n",
       "      <td>0.34</td>\n",
       "      <td>0.22</td>\n",
       "      <td>0.04</td>\n",
       "    </tr>\n",
       "    <tr>\n",
       "      <th>Kanonisierte Moderne</th>\n",
       "      <td>1903.0</td>\n",
       "      <td>113.0</td>\n",
       "      <td>6.0</td>\n",
       "      <td>0.05</td>\n",
       "      <td>25.0</td>\n",
       "      <td>0.22</td>\n",
       "      <td>0.48</td>\n",
       "      <td>0.44</td>\n",
       "      <td>0.08</td>\n",
       "      <td>0.00</td>\n",
       "      <td>1.0</td>\n",
       "      <td>0.01</td>\n",
       "      <td>0.00</td>\n",
       "      <td>0.00</td>\n",
       "      <td>1.00</td>\n",
       "      <td>0.00</td>\n",
       "    </tr>\n",
       "    <tr>\n",
       "      <th>Münchhausen-Kreis</th>\n",
       "      <td>1905.0</td>\n",
       "      <td>140.0</td>\n",
       "      <td>7.0</td>\n",
       "      <td>0.05</td>\n",
       "      <td>31.0</td>\n",
       "      <td>0.22</td>\n",
       "      <td>0.65</td>\n",
       "      <td>0.29</td>\n",
       "      <td>0.00</td>\n",
       "      <td>0.06</td>\n",
       "      <td>4.0</td>\n",
       "      <td>0.03</td>\n",
       "      <td>0.25</td>\n",
       "      <td>0.25</td>\n",
       "      <td>0.25</td>\n",
       "      <td>0.25</td>\n",
       "    </tr>\n",
       "  </tbody>\n",
       "</table>\n",
       "</div>"
      ],
      "text/plain": [
       "                        Jahr   Texte  theoretisch_count  theoretisch_share  \\\n",
       "Anthologien           1875.0  1850.0               56.0               0.03   \n",
       "Kanonisierte Moderne  1903.0   113.0                6.0               0.05   \n",
       "Münchhausen-Kreis     1905.0   140.0                7.0               0.05   \n",
       "\n",
       "                      ueberlieferung_count  ueberlieferung_share  \\\n",
       "Anthologien                          433.0                  0.23   \n",
       "Kanonisierte Moderne                  25.0                  0.22   \n",
       "Münchhausen-Kreis                     31.0                  0.22   \n",
       "\n",
       "                      ueberlieferung_neutral  ueberlieferung_positiv  \\\n",
       "Anthologien                             0.33                    0.56   \n",
       "Kanonisierte Moderne                    0.48                    0.44   \n",
       "Münchhausen-Kreis                       0.65                    0.29   \n",
       "\n",
       "                      ueberlieferung_negativ  ueberlieferung_ambivalent  \\\n",
       "Anthologien                             0.06                       0.05   \n",
       "Kanonisierte Moderne                    0.08                       0.00   \n",
       "Münchhausen-Kreis                       0.00                       0.06   \n",
       "\n",
       "                      geschichtsauffassung_count  geschichtsauffassung_share  \\\n",
       "Anthologien                                 76.0                        0.04   \n",
       "Kanonisierte Moderne                         1.0                        0.01   \n",
       "Münchhausen-Kreis                            4.0                        0.03   \n",
       "\n",
       "                      geschichtsauffassung_neutral  \\\n",
       "Anthologien                                   0.41   \n",
       "Kanonisierte Moderne                          0.00   \n",
       "Münchhausen-Kreis                             0.25   \n",
       "\n",
       "                      geschichtsauffassung_positiv  \\\n",
       "Anthologien                                   0.34   \n",
       "Kanonisierte Moderne                          0.00   \n",
       "Münchhausen-Kreis                             0.25   \n",
       "\n",
       "                      geschichtsauffassung_negativ  \\\n",
       "Anthologien                                   0.22   \n",
       "Kanonisierte Moderne                          1.00   \n",
       "Münchhausen-Kreis                             0.25   \n",
       "\n",
       "                      geschichtsauffassung_ambivalent  \n",
       "Anthologien                                      0.04  \n",
       "Kanonisierte Moderne                             0.00  \n",
       "Münchhausen-Kreis                                0.25  "
      ]
     },
     "execution_count": 8,
     "metadata": {},
     "output_type": "execute_result"
    }
   ],
   "source": [
    "round(sub_df, 2)"
   ]
  },
  {
   "cell_type": "markdown",
   "id": "35f06e3c",
   "metadata": {},
   "source": [
    "# Zeitverlauf"
   ]
  },
  {
   "cell_type": "code",
   "execution_count": 9,
   "id": "ce081ce8",
   "metadata": {},
   "outputs": [],
   "source": [
    "ts = pd.DataFrame()\n",
    "ts.index = pd.Series(range(1850, 1919), name = 'year')"
   ]
  },
  {
   "cell_type": "code",
   "execution_count": 10,
   "id": "6575f253",
   "metadata": {},
   "outputs": [],
   "source": [
    "ts['text_count'] = meta_anth.groupby('year').size()\n",
    "ts['text_count'] = ts['text_count'].fillna(0)\n",
    "ts['text_sum'] = smooth(ts['text_count'], mode = 'sum')"
   ]
  },
  {
   "cell_type": "code",
   "execution_count": 11,
   "id": "9baa843e",
   "metadata": {},
   "outputs": [],
   "source": [
    "ts['theoretisch_count'] = [meta_anth.query(\"year == @x and theoretisch == 1\").shape[0] for x in ts.index]\n",
    "ts['theoretisch_sum'] = smooth(ts['theoretisch_count'], mode = 'sum')\n",
    "ts['theoretisch_share_smoothed'] = ts['theoretisch_sum']/ts['text_sum']\n",
    "\n",
    "ts['ueberlieferung_count'] = [meta_anth.query(\"year == @x and ueberlieferung == 1\").shape[0] for x in ts.index]\n",
    "ts['ueberlieferung_sum'] = smooth(ts['ueberlieferung_count'], mode = 'sum')\n",
    "ts['ueberlieferung_share_smoothed'] = ts['ueberlieferung_sum']/ts['text_sum']\n",
    "\n",
    "ts['geschichtsauffassung_count'] = [meta_anth.query(\"year == @x and geschichtsauffassung == 1\").shape[0] for x in ts.index]\n",
    "ts['geschichtsauffassung_sum'] = smooth(ts['geschichtsauffassung_count'], mode = 'sum')\n",
    "ts['geschichtsauffassung_share_smoothed'] = ts['geschichtsauffassung_sum']/ts['text_sum']"
   ]
  },
  {
   "cell_type": "markdown",
   "id": "640464d9",
   "metadata": {},
   "source": [
    "# Überblick"
   ]
  },
  {
   "cell_type": "code",
   "execution_count": 29,
   "id": "4f546040",
   "metadata": {},
   "outputs": [
    {
     "data": {
      "application/vnd.plotly.v1+json": {
       "config": {
        "plotlyServerURL": "https://plot.ly"
       },
       "data": [
        {
         "line": {
          "color": "#636EFA",
          "width": 6
         },
         "mode": "lines",
         "name": "Geschichtstheorie",
         "type": "scatter",
         "x": [
          1850,
          1851,
          1852,
          1853,
          1854,
          1855,
          1856,
          1857,
          1858,
          1859,
          1860,
          1861,
          1862,
          1863,
          1864,
          1865,
          1866,
          1867,
          1868,
          1869,
          1870,
          1871,
          1872,
          1873,
          1874,
          1875,
          1876,
          1877,
          1878,
          1879,
          1880,
          1881,
          1882,
          1883,
          1884,
          1885,
          1886,
          1887,
          1888,
          1889,
          1890,
          1891,
          1892,
          1893,
          1894,
          1895,
          1896,
          1897,
          1898,
          1899,
          1900,
          1901,
          1902,
          1903,
          1904,
          1905,
          1906,
          1907,
          1908,
          1909,
          1910,
          1911,
          1912,
          1913,
          1914,
          1915,
          1916,
          1917,
          1918
         ],
         "y": [
          null,
          null,
          null,
          null,
          null,
          0.027218505450709668,
          0.02541226854428726,
          0.02565912616796012,
          0.022311576686541223,
          0.019887432076345784,
          0.018924837857751137,
          0.017836758299181493,
          0.01579871883239197,
          0.01836057161307508,
          0.02082895443963949,
          0.020775936668442605,
          0.024269198099049028,
          0.029204104990981857,
          0.03094911412630709,
          0.03210141053859746,
          0.0341772644374875,
          0.0369940942307502,
          0.03942554027440913,
          0.03929755639256062,
          0.03921869376979028,
          0.039718295992680605,
          0.04117195408633701,
          0.04074649315437822,
          0.038476527610303644,
          0.03706826118552179,
          0.03639920791652998,
          0.03493254376405937,
          0.03292688962764232,
          0.035453008907040943,
          0.03187402416531604,
          0.0355563789176399,
          0.038784765881539035,
          0.03957655997189552,
          0.04183700382261677,
          0.042865576824314,
          0.045156123971350944,
          0.04658681076223867,
          0.04194202857604796,
          0.039496312895534035,
          0.03177541968660898,
          0.036216232760357854,
          0.03451219244330647,
          0.02626540875511886,
          0.028508096031235025,
          0.02732953764130717,
          0.028436244939043433,
          0.04047448117133881,
          0.0429576295346762,
          0.0423631829478165,
          0.04042755157079702,
          0.039270917993091035,
          0.036709759338277574,
          0.02383290322631209,
          0.020708469238694332,
          0.017478426911704505,
          0.01573835034036927,
          0.020209396247572113,
          0.011056050863077958,
          0.006826482304592465,
          null,
          null,
          null,
          null,
          null
         ]
        },
        {
         "line": {
          "color": "#EF553B",
          "width": 6
         },
         "mode": "lines",
         "name": "Überlieferung",
         "type": "scatter",
         "x": [
          1850,
          1851,
          1852,
          1853,
          1854,
          1855,
          1856,
          1857,
          1858,
          1859,
          1860,
          1861,
          1862,
          1863,
          1864,
          1865,
          1866,
          1867,
          1868,
          1869,
          1870,
          1871,
          1872,
          1873,
          1874,
          1875,
          1876,
          1877,
          1878,
          1879,
          1880,
          1881,
          1882,
          1883,
          1884,
          1885,
          1886,
          1887,
          1888,
          1889,
          1890,
          1891,
          1892,
          1893,
          1894,
          1895,
          1896,
          1897,
          1898,
          1899,
          1900,
          1901,
          1902,
          1903,
          1904,
          1905,
          1906,
          1907,
          1908,
          1909,
          1910,
          1911,
          1912,
          1913,
          1914,
          1915,
          1916,
          1917,
          1918
         ],
         "y": [
          null,
          null,
          null,
          null,
          null,
          0.21380608023235176,
          0.20955981907554372,
          0.20915273121479633,
          0.2104280159024265,
          0.21325201375905664,
          0.20239960428512835,
          0.2221335483342105,
          0.22409606902966656,
          0.22647376341570605,
          0.23303572312258172,
          0.24925312906543892,
          0.2535996999656168,
          0.25285536518338275,
          0.24754093703588306,
          0.24734399758616465,
          0.24719729101467447,
          0.24417724482154807,
          0.24310939270540832,
          0.25386562891040615,
          0.2460450874535684,
          0.24604922428590614,
          0.22198920110410986,
          0.22297371845279285,
          0.2309368836570827,
          0.23475488178030007,
          0.23344772090192195,
          0.23798380565596786,
          0.2368824645839474,
          0.23514528204146432,
          0.2180078379659899,
          0.232935476426331,
          0.24369046243475379,
          0.26031360373882884,
          0.2563899283346951,
          0.26207614603345775,
          0.2594630141919132,
          0.26236855195907516,
          0.2657154249663244,
          0.28735886845972614,
          0.2886004224346599,
          0.31180666348566183,
          0.30335470271445086,
          0.2995407307987429,
          0.29672445688658683,
          0.2966685272550356,
          0.2835817385885128,
          0.2849338634012785,
          0.260450693330364,
          0.23202776185794563,
          0.2075526089055318,
          0.19644950096123556,
          0.19592875932941287,
          0.1882561814876098,
          0.1744901103260273,
          0.1886168617652228,
          0.19352348658091145,
          0.18980682014811326,
          0.17491440337978675,
          0.18587624933207947,
          null,
          null,
          null,
          null,
          null
         ]
        },
        {
         "line": {
          "color": "#00CC96",
          "width": 6
         },
         "mode": "lines",
         "name": "Geschichtsauffassung",
         "type": "scatter",
         "x": [
          1850,
          1851,
          1852,
          1853,
          1854,
          1855,
          1856,
          1857,
          1858,
          1859,
          1860,
          1861,
          1862,
          1863,
          1864,
          1865,
          1866,
          1867,
          1868,
          1869,
          1870,
          1871,
          1872,
          1873,
          1874,
          1875,
          1876,
          1877,
          1878,
          1879,
          1880,
          1881,
          1882,
          1883,
          1884,
          1885,
          1886,
          1887,
          1888,
          1889,
          1890,
          1891,
          1892,
          1893,
          1894,
          1895,
          1896,
          1897,
          1898,
          1899,
          1900,
          1901,
          1902,
          1903,
          1904,
          1905,
          1906,
          1907,
          1908,
          1909,
          1910,
          1911,
          1912,
          1913,
          1914,
          1915,
          1916,
          1917,
          1918
         ],
         "y": [
          null,
          null,
          null,
          null,
          null,
          0.04015434228529035,
          0.040638961908000495,
          0.03836561420098771,
          0.036944275524201584,
          0.03846241598369312,
          0.03551373448379144,
          0.04615154444610302,
          0.045809712855117715,
          0.046411019418240815,
          0.04974384162736045,
          0.056217004289932544,
          0.05721473920475126,
          0.05534636667278856,
          0.056650800865871286,
          0.05713917175733647,
          0.053834405417942606,
          0.05146842065347429,
          0.03863600360052353,
          0.036748004175081964,
          0.03531555054116907,
          0.033651945571632924,
          0.03291144698179319,
          0.029298745821953943,
          0.02808225660017704,
          0.02976252354105211,
          0.030148998237405633,
          0.033837206696437784,
          0.0337445711027481,
          0.036178647259129317,
          0.03985867536201684,
          0.03992576702685055,
          0.042557530084607574,
          0.03725053381503228,
          0.03918694445462617,
          0.04617500644053194,
          0.042714844787896576,
          0.0439498548666539,
          0.04038365497772653,
          0.03913933147223435,
          0.03272636989334372,
          0.02848769154885259,
          0.02551048104216014,
          0.02054017780329086,
          0.026499751841086952,
          0.023452996472279834,
          0.023757121949955974,
          0.03545240434787222,
          0.03572335065230899,
          0.04346176160726911,
          0.042725824781233004,
          0.042705537219241224,
          0.04520561491514586,
          0.051632151668202855,
          0.05435374217690901,
          0.04579742265716106,
          0.04573792044821161,
          0.04530867396257459,
          0.038791576070660055,
          0.044613087606356155,
          null,
          null,
          null,
          null,
          null
         ]
        },
        {
         "marker": {
          "color": [
           "#636EFA",
           "#EF553B",
           "#00CC96",
           "#AB63FA",
           "#FFA15A",
           "#19D3F3"
          ],
          "size": 14,
          "symbol": "circle"
         },
         "mode": "markers",
         "name": "Kanonisierte Moderne",
         "showlegend": false,
         "type": "scatter",
         "x": [
          1903,
          1903,
          1903,
          1903
         ],
         "y": [
          0.05309734513274336,
          0.22123893805309736,
          0.008849557522123894
         ]
        },
        {
         "marker": {
          "color": "black",
          "size": 14,
          "symbol": "circle"
         },
         "mode": "markers",
         "name": "Kanonisierte Moderne",
         "type": "scatter",
         "x": [
          null
         ],
         "y": [
          null
         ]
        },
        {
         "marker": {
          "color": [
           "#636EFA",
           "#EF553B",
           "#00CC96",
           "#AB63FA",
           "#FFA15A",
           "#19D3F3"
          ],
          "size": 14,
          "symbol": "square"
         },
         "mode": "markers",
         "name": "Münchhausen-Kreis",
         "showlegend": false,
         "type": "scatter",
         "x": [
          1905,
          1905,
          1905,
          1905
         ],
         "y": [
          0.05,
          0.22142857142857142,
          0.02857142857142857
         ]
        },
        {
         "marker": {
          "color": "black",
          "size": 14,
          "symbol": "square"
         },
         "mode": "markers",
         "name": "Münchhausen-Kreis",
         "type": "scatter",
         "x": [
          null
         ],
         "y": [
          null
         ]
        }
       ],
       "layout": {
        "font": {
         "color": "black"
        },
        "height": 500,
        "legend": {
         "bordercolor": "black",
         "borderwidth": 1,
         "font": {
          "size": 16
         },
         "traceorder": "normal"
        },
        "paper_bgcolor": "white",
        "plot_bgcolor": "white",
        "template": {
         "data": {
          "bar": [
           {
            "error_x": {
             "color": "#2a3f5f"
            },
            "error_y": {
             "color": "#2a3f5f"
            },
            "marker": {
             "line": {
              "color": "#E5ECF6",
              "width": 0.5
             },
             "pattern": {
              "fillmode": "overlay",
              "size": 10,
              "solidity": 0.2
             }
            },
            "type": "bar"
           }
          ],
          "barpolar": [
           {
            "marker": {
             "line": {
              "color": "#E5ECF6",
              "width": 0.5
             },
             "pattern": {
              "fillmode": "overlay",
              "size": 10,
              "solidity": 0.2
             }
            },
            "type": "barpolar"
           }
          ],
          "carpet": [
           {
            "aaxis": {
             "endlinecolor": "#2a3f5f",
             "gridcolor": "white",
             "linecolor": "white",
             "minorgridcolor": "white",
             "startlinecolor": "#2a3f5f"
            },
            "baxis": {
             "endlinecolor": "#2a3f5f",
             "gridcolor": "white",
             "linecolor": "white",
             "minorgridcolor": "white",
             "startlinecolor": "#2a3f5f"
            },
            "type": "carpet"
           }
          ],
          "choropleth": [
           {
            "colorbar": {
             "outlinewidth": 0,
             "ticks": ""
            },
            "type": "choropleth"
           }
          ],
          "contour": [
           {
            "colorbar": {
             "outlinewidth": 0,
             "ticks": ""
            },
            "colorscale": [
             [
              0,
              "#0d0887"
             ],
             [
              0.1111111111111111,
              "#46039f"
             ],
             [
              0.2222222222222222,
              "#7201a8"
             ],
             [
              0.3333333333333333,
              "#9c179e"
             ],
             [
              0.4444444444444444,
              "#bd3786"
             ],
             [
              0.5555555555555556,
              "#d8576b"
             ],
             [
              0.6666666666666666,
              "#ed7953"
             ],
             [
              0.7777777777777778,
              "#fb9f3a"
             ],
             [
              0.8888888888888888,
              "#fdca26"
             ],
             [
              1,
              "#f0f921"
             ]
            ],
            "type": "contour"
           }
          ],
          "contourcarpet": [
           {
            "colorbar": {
             "outlinewidth": 0,
             "ticks": ""
            },
            "type": "contourcarpet"
           }
          ],
          "heatmap": [
           {
            "colorbar": {
             "outlinewidth": 0,
             "ticks": ""
            },
            "colorscale": [
             [
              0,
              "#0d0887"
             ],
             [
              0.1111111111111111,
              "#46039f"
             ],
             [
              0.2222222222222222,
              "#7201a8"
             ],
             [
              0.3333333333333333,
              "#9c179e"
             ],
             [
              0.4444444444444444,
              "#bd3786"
             ],
             [
              0.5555555555555556,
              "#d8576b"
             ],
             [
              0.6666666666666666,
              "#ed7953"
             ],
             [
              0.7777777777777778,
              "#fb9f3a"
             ],
             [
              0.8888888888888888,
              "#fdca26"
             ],
             [
              1,
              "#f0f921"
             ]
            ],
            "type": "heatmap"
           }
          ],
          "heatmapgl": [
           {
            "colorbar": {
             "outlinewidth": 0,
             "ticks": ""
            },
            "colorscale": [
             [
              0,
              "#0d0887"
             ],
             [
              0.1111111111111111,
              "#46039f"
             ],
             [
              0.2222222222222222,
              "#7201a8"
             ],
             [
              0.3333333333333333,
              "#9c179e"
             ],
             [
              0.4444444444444444,
              "#bd3786"
             ],
             [
              0.5555555555555556,
              "#d8576b"
             ],
             [
              0.6666666666666666,
              "#ed7953"
             ],
             [
              0.7777777777777778,
              "#fb9f3a"
             ],
             [
              0.8888888888888888,
              "#fdca26"
             ],
             [
              1,
              "#f0f921"
             ]
            ],
            "type": "heatmapgl"
           }
          ],
          "histogram": [
           {
            "marker": {
             "pattern": {
              "fillmode": "overlay",
              "size": 10,
              "solidity": 0.2
             }
            },
            "type": "histogram"
           }
          ],
          "histogram2d": [
           {
            "colorbar": {
             "outlinewidth": 0,
             "ticks": ""
            },
            "colorscale": [
             [
              0,
              "#0d0887"
             ],
             [
              0.1111111111111111,
              "#46039f"
             ],
             [
              0.2222222222222222,
              "#7201a8"
             ],
             [
              0.3333333333333333,
              "#9c179e"
             ],
             [
              0.4444444444444444,
              "#bd3786"
             ],
             [
              0.5555555555555556,
              "#d8576b"
             ],
             [
              0.6666666666666666,
              "#ed7953"
             ],
             [
              0.7777777777777778,
              "#fb9f3a"
             ],
             [
              0.8888888888888888,
              "#fdca26"
             ],
             [
              1,
              "#f0f921"
             ]
            ],
            "type": "histogram2d"
           }
          ],
          "histogram2dcontour": [
           {
            "colorbar": {
             "outlinewidth": 0,
             "ticks": ""
            },
            "colorscale": [
             [
              0,
              "#0d0887"
             ],
             [
              0.1111111111111111,
              "#46039f"
             ],
             [
              0.2222222222222222,
              "#7201a8"
             ],
             [
              0.3333333333333333,
              "#9c179e"
             ],
             [
              0.4444444444444444,
              "#bd3786"
             ],
             [
              0.5555555555555556,
              "#d8576b"
             ],
             [
              0.6666666666666666,
              "#ed7953"
             ],
             [
              0.7777777777777778,
              "#fb9f3a"
             ],
             [
              0.8888888888888888,
              "#fdca26"
             ],
             [
              1,
              "#f0f921"
             ]
            ],
            "type": "histogram2dcontour"
           }
          ],
          "mesh3d": [
           {
            "colorbar": {
             "outlinewidth": 0,
             "ticks": ""
            },
            "type": "mesh3d"
           }
          ],
          "parcoords": [
           {
            "line": {
             "colorbar": {
              "outlinewidth": 0,
              "ticks": ""
             }
            },
            "type": "parcoords"
           }
          ],
          "pie": [
           {
            "automargin": true,
            "type": "pie"
           }
          ],
          "scatter": [
           {
            "fillpattern": {
             "fillmode": "overlay",
             "size": 10,
             "solidity": 0.2
            },
            "type": "scatter"
           }
          ],
          "scatter3d": [
           {
            "line": {
             "colorbar": {
              "outlinewidth": 0,
              "ticks": ""
             }
            },
            "marker": {
             "colorbar": {
              "outlinewidth": 0,
              "ticks": ""
             }
            },
            "type": "scatter3d"
           }
          ],
          "scattercarpet": [
           {
            "marker": {
             "colorbar": {
              "outlinewidth": 0,
              "ticks": ""
             }
            },
            "type": "scattercarpet"
           }
          ],
          "scattergeo": [
           {
            "marker": {
             "colorbar": {
              "outlinewidth": 0,
              "ticks": ""
             }
            },
            "type": "scattergeo"
           }
          ],
          "scattergl": [
           {
            "marker": {
             "colorbar": {
              "outlinewidth": 0,
              "ticks": ""
             }
            },
            "type": "scattergl"
           }
          ],
          "scattermapbox": [
           {
            "marker": {
             "colorbar": {
              "outlinewidth": 0,
              "ticks": ""
             }
            },
            "type": "scattermapbox"
           }
          ],
          "scatterpolar": [
           {
            "marker": {
             "colorbar": {
              "outlinewidth": 0,
              "ticks": ""
             }
            },
            "type": "scatterpolar"
           }
          ],
          "scatterpolargl": [
           {
            "marker": {
             "colorbar": {
              "outlinewidth": 0,
              "ticks": ""
             }
            },
            "type": "scatterpolargl"
           }
          ],
          "scatterternary": [
           {
            "marker": {
             "colorbar": {
              "outlinewidth": 0,
              "ticks": ""
             }
            },
            "type": "scatterternary"
           }
          ],
          "surface": [
           {
            "colorbar": {
             "outlinewidth": 0,
             "ticks": ""
            },
            "colorscale": [
             [
              0,
              "#0d0887"
             ],
             [
              0.1111111111111111,
              "#46039f"
             ],
             [
              0.2222222222222222,
              "#7201a8"
             ],
             [
              0.3333333333333333,
              "#9c179e"
             ],
             [
              0.4444444444444444,
              "#bd3786"
             ],
             [
              0.5555555555555556,
              "#d8576b"
             ],
             [
              0.6666666666666666,
              "#ed7953"
             ],
             [
              0.7777777777777778,
              "#fb9f3a"
             ],
             [
              0.8888888888888888,
              "#fdca26"
             ],
             [
              1,
              "#f0f921"
             ]
            ],
            "type": "surface"
           }
          ],
          "table": [
           {
            "cells": {
             "fill": {
              "color": "#EBF0F8"
             },
             "line": {
              "color": "white"
             }
            },
            "header": {
             "fill": {
              "color": "#C8D4E3"
             },
             "line": {
              "color": "white"
             }
            },
            "type": "table"
           }
          ]
         },
         "layout": {
          "annotationdefaults": {
           "arrowcolor": "#2a3f5f",
           "arrowhead": 0,
           "arrowwidth": 1
          },
          "autotypenumbers": "strict",
          "coloraxis": {
           "colorbar": {
            "outlinewidth": 0,
            "ticks": ""
           }
          },
          "colorscale": {
           "diverging": [
            [
             0,
             "#8e0152"
            ],
            [
             0.1,
             "#c51b7d"
            ],
            [
             0.2,
             "#de77ae"
            ],
            [
             0.3,
             "#f1b6da"
            ],
            [
             0.4,
             "#fde0ef"
            ],
            [
             0.5,
             "#f7f7f7"
            ],
            [
             0.6,
             "#e6f5d0"
            ],
            [
             0.7,
             "#b8e186"
            ],
            [
             0.8,
             "#7fbc41"
            ],
            [
             0.9,
             "#4d9221"
            ],
            [
             1,
             "#276419"
            ]
           ],
           "sequential": [
            [
             0,
             "#0d0887"
            ],
            [
             0.1111111111111111,
             "#46039f"
            ],
            [
             0.2222222222222222,
             "#7201a8"
            ],
            [
             0.3333333333333333,
             "#9c179e"
            ],
            [
             0.4444444444444444,
             "#bd3786"
            ],
            [
             0.5555555555555556,
             "#d8576b"
            ],
            [
             0.6666666666666666,
             "#ed7953"
            ],
            [
             0.7777777777777778,
             "#fb9f3a"
            ],
            [
             0.8888888888888888,
             "#fdca26"
            ],
            [
             1,
             "#f0f921"
            ]
           ],
           "sequentialminus": [
            [
             0,
             "#0d0887"
            ],
            [
             0.1111111111111111,
             "#46039f"
            ],
            [
             0.2222222222222222,
             "#7201a8"
            ],
            [
             0.3333333333333333,
             "#9c179e"
            ],
            [
             0.4444444444444444,
             "#bd3786"
            ],
            [
             0.5555555555555556,
             "#d8576b"
            ],
            [
             0.6666666666666666,
             "#ed7953"
            ],
            [
             0.7777777777777778,
             "#fb9f3a"
            ],
            [
             0.8888888888888888,
             "#fdca26"
            ],
            [
             1,
             "#f0f921"
            ]
           ]
          },
          "colorway": [
           "#636efa",
           "#EF553B",
           "#00cc96",
           "#ab63fa",
           "#FFA15A",
           "#19d3f3",
           "#FF6692",
           "#B6E880",
           "#FF97FF",
           "#FECB52"
          ],
          "font": {
           "color": "#2a3f5f"
          },
          "geo": {
           "bgcolor": "white",
           "lakecolor": "white",
           "landcolor": "#E5ECF6",
           "showlakes": true,
           "showland": true,
           "subunitcolor": "white"
          },
          "hoverlabel": {
           "align": "left"
          },
          "hovermode": "closest",
          "mapbox": {
           "style": "light"
          },
          "paper_bgcolor": "white",
          "plot_bgcolor": "#E5ECF6",
          "polar": {
           "angularaxis": {
            "gridcolor": "white",
            "linecolor": "white",
            "ticks": ""
           },
           "bgcolor": "#E5ECF6",
           "radialaxis": {
            "gridcolor": "white",
            "linecolor": "white",
            "ticks": ""
           }
          },
          "scene": {
           "xaxis": {
            "backgroundcolor": "#E5ECF6",
            "gridcolor": "white",
            "gridwidth": 2,
            "linecolor": "white",
            "showbackground": true,
            "ticks": "",
            "zerolinecolor": "white"
           },
           "yaxis": {
            "backgroundcolor": "#E5ECF6",
            "gridcolor": "white",
            "gridwidth": 2,
            "linecolor": "white",
            "showbackground": true,
            "ticks": "",
            "zerolinecolor": "white"
           },
           "zaxis": {
            "backgroundcolor": "#E5ECF6",
            "gridcolor": "white",
            "gridwidth": 2,
            "linecolor": "white",
            "showbackground": true,
            "ticks": "",
            "zerolinecolor": "white"
           }
          },
          "shapedefaults": {
           "line": {
            "color": "#2a3f5f"
           }
          },
          "ternary": {
           "aaxis": {
            "gridcolor": "white",
            "linecolor": "white",
            "ticks": ""
           },
           "baxis": {
            "gridcolor": "white",
            "linecolor": "white",
            "ticks": ""
           },
           "bgcolor": "#E5ECF6",
           "caxis": {
            "gridcolor": "white",
            "linecolor": "white",
            "ticks": ""
           }
          },
          "title": {
           "x": 0.05
          },
          "xaxis": {
           "automargin": true,
           "gridcolor": "white",
           "linecolor": "white",
           "ticks": "",
           "title": {
            "standoff": 15
           },
           "zerolinecolor": "white",
           "zerolinewidth": 2
          },
          "yaxis": {
           "automargin": true,
           "gridcolor": "white",
           "linecolor": "white",
           "ticks": "",
           "title": {
            "standoff": 15
           },
           "zerolinecolor": "white",
           "zerolinewidth": 2
          }
         }
        },
        "width": 900,
        "xaxis": {
         "color": "black",
         "gridcolor": "white",
         "showgrid": false,
         "tickfont": {
          "size": 16
         },
         "title": {
          "font": {
           "size": 16
          }
         }
        },
        "yaxis": {
         "color": "black",
         "gridcolor": "lightgray",
         "tickfont": {
          "size": 16
         },
         "title": {
          "font": {
           "size": 16
          },
          "text": "Anteil an Texten"
         },
         "zerolinecolor": "lightgray"
        }
       }
      }
     },
     "metadata": {},
     "output_type": "display_data"
    }
   ],
   "source": [
    "meta_plot = ts[[\n",
    "    'theoretisch_share_smoothed', \n",
    "    'ueberlieferung_share_smoothed', \n",
    "    'geschichtsauffassung_share_smoothed',\n",
    "]]\n",
    "meta_plot.columns = [\n",
    "    'Geschichtstheorie', \n",
    "    'Überlieferung', \n",
    "    'Geschichtsauffassung',\n",
    "]\n",
    "save_ts_data(meta_plot, prefix='06_08_Geschichtstheorie_')\n",
    "\n",
    "fig = create_ts_plot(\n",
    "    data = meta_plot, \n",
    "    columns = meta_plot.columns, \n",
    "    y_axis_title = 'Anteil an Texten',\n",
    "    add_corporas = sub_df, add_corpora_names = sub_names,\n",
    "    add_corpora_categories = ['theoretisch_share', 'ueberlieferung_share', 'geschichtsauffassung_share']\n",
    ")\n",
    "fig = update_fig_for_publication(fig)\n",
    "fig.write_image(f\"plots/6.8 Geschichtstheorie, Überlieferung und Geschichtsauffassungen im Zeitverlauf.pdf\")\n",
    "fig.show()"
   ]
  },
  {
   "cell_type": "code",
   "execution_count": 13,
   "id": "9fd37be3",
   "metadata": {},
   "outputs": [
    {
     "data": {
      "text/plain": [
       "56"
      ]
     },
     "execution_count": 13,
     "metadata": {},
     "output_type": "execute_result"
    }
   ],
   "source": [
    "meta_anth.query(\"theoretisch==1\").shape[0]"
   ]
  },
  {
   "cell_type": "code",
   "execution_count": 14,
   "id": "b3fbcd13",
   "metadata": {},
   "outputs": [
    {
     "data": {
      "text/html": [
       "<div>\n",
       "<style scoped>\n",
       "    .dataframe tbody tr th:only-of-type {\n",
       "        vertical-align: middle;\n",
       "    }\n",
       "\n",
       "    .dataframe tbody tr th {\n",
       "        vertical-align: top;\n",
       "    }\n",
       "\n",
       "    .dataframe thead th {\n",
       "        text-align: right;\n",
       "    }\n",
       "</style>\n",
       "<table border=\"1\" class=\"dataframe\">\n",
       "  <thead>\n",
       "    <tr style=\"text-align: right;\">\n",
       "      <th></th>\n",
       "      <th>author</th>\n",
       "      <th>title</th>\n",
       "      <th>stoffgebiet</th>\n",
       "      <th>ueberlieferung</th>\n",
       "    </tr>\n",
       "  </thead>\n",
       "  <tbody>\n",
       "    <tr>\n",
       "      <th>15210</th>\n",
       "      <td>Warncke, Paul</td>\n",
       "      <td>Heil Bismarck!</td>\n",
       "      <td>Nation/Volk-D</td>\n",
       "      <td>1.0</td>\n",
       "    </tr>\n",
       "    <tr>\n",
       "      <th>15230</th>\n",
       "      <td>Groth, Klaus</td>\n",
       "      <td>Die Eröffnung des Kaiser Wilhelm-Kanals</td>\n",
       "      <td>Architektur</td>\n",
       "      <td>1.0</td>\n",
       "    </tr>\n",
       "    <tr>\n",
       "      <th>15357</th>\n",
       "      <td>Wolff, Julius</td>\n",
       "      <td>Das deutsche Heer</td>\n",
       "      <td>Militär/Krieg</td>\n",
       "      <td>1.0</td>\n",
       "    </tr>\n",
       "    <tr>\n",
       "      <th>15864</th>\n",
       "      <td>Seydel, Max von</td>\n",
       "      <td>Sphakteria</td>\n",
       "      <td>Auferstehung/Geister + Politik + Militär/Krieg</td>\n",
       "      <td>1.0</td>\n",
       "    </tr>\n",
       "    <tr>\n",
       "      <th>17362</th>\n",
       "      <td>Saar, Ferdinand von</td>\n",
       "      <td>Mozart</td>\n",
       "      <td>Musik</td>\n",
       "      <td>1.0</td>\n",
       "    </tr>\n",
       "    <tr>\n",
       "      <th>17001</th>\n",
       "      <td>Wickenburg, Albrecht von</td>\n",
       "      <td>Marschall Daun</td>\n",
       "      <td>Militär/Krieg</td>\n",
       "      <td>1.0</td>\n",
       "    </tr>\n",
       "    <tr>\n",
       "      <th>16885</th>\n",
       "      <td>Buschhorn, Carl</td>\n",
       "      <td>Am Hermannsdenkmal</td>\n",
       "      <td>Denkmal + Militär/Krieg</td>\n",
       "      <td>1.0</td>\n",
       "    </tr>\n",
       "    <tr>\n",
       "      <th>19587</th>\n",
       "      <td>Fontane, Theodor</td>\n",
       "      <td>Luren-Konzert</td>\n",
       "      <td>Musik</td>\n",
       "      <td>1.0</td>\n",
       "    </tr>\n",
       "    <tr>\n",
       "      <th>16211</th>\n",
       "      <td>Löwenberg, Jakob</td>\n",
       "      <td>Auf dem Felde der Ehre</td>\n",
       "      <td>Gesundheit + Militär/Krieg</td>\n",
       "      <td>1.0</td>\n",
       "    </tr>\n",
       "    <tr>\n",
       "      <th>15403</th>\n",
       "      <td>Langewiesche, Wilhelm</td>\n",
       "      <td>Kaiser Heinrichs Weihnacht</td>\n",
       "      <td>Religion + Politik</td>\n",
       "      <td>0.0</td>\n",
       "    </tr>\n",
       "    <tr>\n",
       "      <th>15774</th>\n",
       "      <td>Kunad, Paul</td>\n",
       "      <td>Sulla</td>\n",
       "      <td>Politik</td>\n",
       "      <td>0.0</td>\n",
       "    </tr>\n",
       "    <tr>\n",
       "      <th>15465</th>\n",
       "      <td>Liliencron, Detlev von</td>\n",
       "      <td>Pidder Lüng</td>\n",
       "      <td>Politik + Finanzen</td>\n",
       "      <td>0.0</td>\n",
       "    </tr>\n",
       "    <tr>\n",
       "      <th>15849</th>\n",
       "      <td>Kiehne, Hermann</td>\n",
       "      <td>Symposion</td>\n",
       "      <td>Fest</td>\n",
       "      <td>0.0</td>\n",
       "    </tr>\n",
       "    <tr>\n",
       "      <th>15788</th>\n",
       "      <td>Kunad, Paul</td>\n",
       "      <td>Cäsars Ende</td>\n",
       "      <td>Tod</td>\n",
       "      <td>0.0</td>\n",
       "    </tr>\n",
       "    <tr>\n",
       "      <th>15784</th>\n",
       "      <td>Kunad, Paul</td>\n",
       "      <td>Pompejus</td>\n",
       "      <td>Militär/Krieg</td>\n",
       "      <td>0.0</td>\n",
       "    </tr>\n",
       "    <tr>\n",
       "      <th>15783</th>\n",
       "      <td>Kunad, Paul</td>\n",
       "      <td>Cäsars Lorbeer</td>\n",
       "      <td>Körper</td>\n",
       "      <td>0.0</td>\n",
       "    </tr>\n",
       "    <tr>\n",
       "      <th>15743</th>\n",
       "      <td>Kunad, Paul</td>\n",
       "      <td>Manlius und die kapitolinischen Gänse</td>\n",
       "      <td>Militär/Krieg + Hinrichtung</td>\n",
       "      <td>0.0</td>\n",
       "    </tr>\n",
       "    <tr>\n",
       "      <th>16427</th>\n",
       "      <td>Renner, Gustav</td>\n",
       "      <td>Cäsar</td>\n",
       "      <td>Militär/Krieg</td>\n",
       "      <td>0.0</td>\n",
       "    </tr>\n",
       "    <tr>\n",
       "      <th>16487</th>\n",
       "      <td>Ruseler, Georg</td>\n",
       "      <td>Wittekind vor der Taufe</td>\n",
       "      <td>Religion</td>\n",
       "      <td>0.0</td>\n",
       "    </tr>\n",
       "    <tr>\n",
       "      <th>16401</th>\n",
       "      <td>Renner, Gustav</td>\n",
       "      <td>Siegrund und Helge</td>\n",
       "      <td>Auferstehung/Geister + Liebe</td>\n",
       "      <td>0.0</td>\n",
       "    </tr>\n",
       "    <tr>\n",
       "      <th>16957</th>\n",
       "      <td>Wickenburg, Albrecht von</td>\n",
       "      <td>Ein Wiener Turnier</td>\n",
       "      <td>Rittertum</td>\n",
       "      <td>0.0</td>\n",
       "    </tr>\n",
       "    <tr>\n",
       "      <th>16683</th>\n",
       "      <td>Liliencron, Detlev von</td>\n",
       "      <td>Der Genius</td>\n",
       "      <td>Genie</td>\n",
       "      <td>0.0</td>\n",
       "    </tr>\n",
       "    <tr>\n",
       "      <th>18961</th>\n",
       "      <td>George, Stefan</td>\n",
       "      <td>Sporenwache</td>\n",
       "      <td>Rittertum</td>\n",
       "      <td>0.0</td>\n",
       "    </tr>\n",
       "    <tr>\n",
       "      <th>17055</th>\n",
       "      <td>Reder, Heinrich von</td>\n",
       "      <td>Auf dem Wörther Schlachtfeld</td>\n",
       "      <td>Militär/Krieg</td>\n",
       "      <td>0.0</td>\n",
       "    </tr>\n",
       "    <tr>\n",
       "      <th>19300</th>\n",
       "      <td>Schönaich-Carolath, Emil von</td>\n",
       "      <td>Lied des Gefangenen</td>\n",
       "      <td>Gefangenschaft</td>\n",
       "      <td>0.0</td>\n",
       "    </tr>\n",
       "    <tr>\n",
       "      <th>19301</th>\n",
       "      <td>Rilke, Rainer Maria</td>\n",
       "      <td>Aus dem Dreißigjährigen Kriege. 3. Kriegsknech...</td>\n",
       "      <td>Militär/Krieg</td>\n",
       "      <td>0.0</td>\n",
       "    </tr>\n",
       "    <tr>\n",
       "      <th>19348</th>\n",
       "      <td>Rilke, Rainer Maria</td>\n",
       "      <td>Aus dem Dreißigjährigen Kriege. 9. Szene</td>\n",
       "      <td>Militär/Krieg</td>\n",
       "      <td>0.0</td>\n",
       "    </tr>\n",
       "    <tr>\n",
       "      <th>19588</th>\n",
       "      <td>Fontane, Theodor</td>\n",
       "      <td>Auf der Kuppe der Müggelberge</td>\n",
       "      <td>Migration + Alltag</td>\n",
       "      <td>0.0</td>\n",
       "    </tr>\n",
       "  </tbody>\n",
       "</table>\n",
       "</div>"
      ],
      "text/plain": [
       "                             author  \\\n",
       "15210                 Warncke, Paul   \n",
       "15230                  Groth, Klaus   \n",
       "15357                 Wolff, Julius   \n",
       "15864               Seydel, Max von   \n",
       "17362           Saar, Ferdinand von   \n",
       "17001      Wickenburg, Albrecht von   \n",
       "16885               Buschhorn, Carl   \n",
       "19587              Fontane, Theodor   \n",
       "16211              Löwenberg, Jakob   \n",
       "15403         Langewiesche, Wilhelm   \n",
       "15774                   Kunad, Paul   \n",
       "15465        Liliencron, Detlev von   \n",
       "15849               Kiehne, Hermann   \n",
       "15788                   Kunad, Paul   \n",
       "15784                   Kunad, Paul   \n",
       "15783                   Kunad, Paul   \n",
       "15743                   Kunad, Paul   \n",
       "16427                Renner, Gustav   \n",
       "16487                Ruseler, Georg   \n",
       "16401                Renner, Gustav   \n",
       "16957      Wickenburg, Albrecht von   \n",
       "16683        Liliencron, Detlev von   \n",
       "18961                George, Stefan   \n",
       "17055           Reder, Heinrich von   \n",
       "19300  Schönaich-Carolath, Emil von   \n",
       "19301           Rilke, Rainer Maria   \n",
       "19348           Rilke, Rainer Maria   \n",
       "19588              Fontane, Theodor   \n",
       "\n",
       "                                                   title  \\\n",
       "15210                                     Heil Bismarck!   \n",
       "15230            Die Eröffnung des Kaiser Wilhelm-Kanals   \n",
       "15357                                  Das deutsche Heer   \n",
       "15864                                         Sphakteria   \n",
       "17362                                             Mozart   \n",
       "17001                                     Marschall Daun   \n",
       "16885                                 Am Hermannsdenkmal   \n",
       "19587                                      Luren-Konzert   \n",
       "16211                             Auf dem Felde der Ehre   \n",
       "15403                         Kaiser Heinrichs Weihnacht   \n",
       "15774                                              Sulla   \n",
       "15465                                        Pidder Lüng   \n",
       "15849                                          Symposion   \n",
       "15788                                        Cäsars Ende   \n",
       "15784                                           Pompejus   \n",
       "15783                                     Cäsars Lorbeer   \n",
       "15743              Manlius und die kapitolinischen Gänse   \n",
       "16427                                              Cäsar   \n",
       "16487                            Wittekind vor der Taufe   \n",
       "16401                                 Siegrund und Helge   \n",
       "16957                                 Ein Wiener Turnier   \n",
       "16683                                         Der Genius   \n",
       "18961                                        Sporenwache   \n",
       "17055                       Auf dem Wörther Schlachtfeld   \n",
       "19300                                Lied des Gefangenen   \n",
       "19301  Aus dem Dreißigjährigen Kriege. 3. Kriegsknech...   \n",
       "19348           Aus dem Dreißigjährigen Kriege. 9. Szene   \n",
       "19588                      Auf der Kuppe der Müggelberge   \n",
       "\n",
       "                                          stoffgebiet  ueberlieferung  \n",
       "15210                                   Nation/Volk-D             1.0  \n",
       "15230                                     Architektur             1.0  \n",
       "15357                                   Militär/Krieg             1.0  \n",
       "15864  Auferstehung/Geister + Politik + Militär/Krieg             1.0  \n",
       "17362                                           Musik             1.0  \n",
       "17001                                   Militär/Krieg             1.0  \n",
       "16885                         Denkmal + Militär/Krieg             1.0  \n",
       "19587                                           Musik             1.0  \n",
       "16211                      Gesundheit + Militär/Krieg             1.0  \n",
       "15403                              Religion + Politik             0.0  \n",
       "15774                                         Politik             0.0  \n",
       "15465                              Politik + Finanzen             0.0  \n",
       "15849                                            Fest             0.0  \n",
       "15788                                             Tod             0.0  \n",
       "15784                                   Militär/Krieg             0.0  \n",
       "15783                                          Körper             0.0  \n",
       "15743                     Militär/Krieg + Hinrichtung             0.0  \n",
       "16427                                   Militär/Krieg             0.0  \n",
       "16487                                        Religion             0.0  \n",
       "16401                    Auferstehung/Geister + Liebe             0.0  \n",
       "16957                                       Rittertum             0.0  \n",
       "16683                                           Genie             0.0  \n",
       "18961                                       Rittertum             0.0  \n",
       "17055                                   Militär/Krieg             0.0  \n",
       "19300                                  Gefangenschaft             0.0  \n",
       "19301                                   Militär/Krieg             0.0  \n",
       "19348                                   Militär/Krieg             0.0  \n",
       "19588                              Migration + Alltag             0.0  "
      ]
     },
     "execution_count": 14,
     "metadata": {},
     "output_type": "execute_result"
    }
   ],
   "source": [
    "meta_anth.query(\"1894 <= year <= 1896\")[[\n",
    "    'author', 'title', 'stoffgebiet', 'ueberlieferung'\n",
    "]].sort_values(by='ueberlieferung', ascending=False)"
   ]
  },
  {
   "cell_type": "markdown",
   "id": "cbdb201c",
   "metadata": {},
   "source": [
    "# Überlieferung"
   ]
  },
  {
   "cell_type": "code",
   "execution_count": 15,
   "id": "8b9882e5",
   "metadata": {},
   "outputs": [],
   "source": [
    "main_feature = 'ueberlieferung'"
   ]
  },
  {
   "cell_type": "code",
   "execution_count": 16,
   "id": "388fd04a",
   "metadata": {},
   "outputs": [
    {
     "data": {
      "text/plain": [
       "ueberlieferung                          1.000000\n",
       "gegenwartsbezug                         0.460262\n",
       "sprechinstanz_nicht_in_vergangenheit    0.350572\n",
       "denkmal                                 0.340426\n",
       "gegenwartsdominant                      0.281573\n",
       "zeitmarker_vorhanden                    0.278408\n",
       "zeitebenen                              0.240563\n",
       "wissen_identisch                        0.238014\n",
       "sprechinstanz_markiert                  0.219166\n",
       "nichtmensch_count                       0.179294\n",
       "geschichtsauffassung_positiv            0.178025\n",
       "zustand                                 0.176819\n",
       "liebe_positiv                           0.166875\n",
       "theoretisch                             0.155682\n",
       "sprechakt_behaupten_vorhanden           0.154874\n",
       "ende                                    0.135804\n",
       "zeit_mitte                              0.129020\n",
       "neuzeit                                 0.127360\n",
       "heroismus                               0.126413\n",
       "nationalismus                           0.125529\n",
       "Name: ueberlieferung, dtype: float64"
      ]
     },
     "execution_count": 16,
     "metadata": {},
     "output_type": "execute_result"
    }
   ],
   "source": [
    "meta_anth_bin.corr(numeric_only=True)[main_feature].sort_values(ascending = False).head(20)"
   ]
  },
  {
   "cell_type": "code",
   "execution_count": 17,
   "id": "f010c756",
   "metadata": {},
   "outputs": [
    {
     "data": {
      "text/plain": [
       "wissen_ergaenzend                -0.225398\n",
       "ballade                          -0.188982\n",
       "ereignis                         -0.163151\n",
       "in_hohem_mass_konkret            -0.162480\n",
       "sprechakt_erzaehlen_vorhanden    -0.155225\n",
       "liebe_negativ                    -0.153574\n",
       "konkretheit                      -0.149453\n",
       "sprechinstanz_in_vergangenheit   -0.131094\n",
       "mittelalter                      -0.100896\n",
       "unbekanntes_individuum_negativ   -0.096303\n",
       "rollengedicht                    -0.093476\n",
       "religion                         -0.092610\n",
       "tod_negativ                      -0.092319\n",
       "fixierbarkeit                    -0.086787\n",
       "reim                             -0.078565\n",
       "entity_negativ                   -0.075880\n",
       "bekanntes_individuum_negativ     -0.060223\n",
       "stoffgebiet_negativ              -0.057552\n",
       "antike                           -0.055433\n",
       "objektmarker_vorhanden           -0.054322\n",
       "Name: ueberlieferung, dtype: float64"
      ]
     },
     "execution_count": 17,
     "metadata": {},
     "output_type": "execute_result"
    }
   ],
   "source": [
    "meta_anth_bin.corr(numeric_only=True)[main_feature].sort_values(ascending = True).head(20)"
   ]
  },
  {
   "cell_type": "code",
   "execution_count": 18,
   "id": "f1dd1197",
   "metadata": {},
   "outputs": [],
   "source": [
    "threshold = 0.2\n",
    "\n",
    "bin_comp_features = get_features(meta_anth_bin.corr(numeric_only=True)[main_feature], threshold = threshold, mode = 'bin')\n",
    "cont_comp_features = get_features(meta_anth_bin.corr(numeric_only=True)[main_feature], threshold = threshold, mode = 'cont')"
   ]
  },
  {
   "cell_type": "code",
   "execution_count": 19,
   "id": "775c2f63",
   "metadata": {},
   "outputs": [],
   "source": [
    "results = relations_binbin(\n",
    "    meta = meta_anth_bin, \n",
    "    main_feature = main_feature,\n",
    "    comp_features = bin_comp_features\n",
    ")"
   ]
  },
  {
   "cell_type": "code",
   "execution_count": 20,
   "id": "c0100da0-87e4-4ae5-a9d8-a61b637dbbc1",
   "metadata": {},
   "outputs": [
    {
     "data": {
      "text/html": [
       "<div>\n",
       "<style scoped>\n",
       "    .dataframe tbody tr th:only-of-type {\n",
       "        vertical-align: middle;\n",
       "    }\n",
       "\n",
       "    .dataframe tbody tr th {\n",
       "        vertical-align: top;\n",
       "    }\n",
       "\n",
       "    .dataframe thead th {\n",
       "        text-align: right;\n",
       "    }\n",
       "</style>\n",
       "<table border=\"1\" class=\"dataframe\">\n",
       "  <thead>\n",
       "    <tr style=\"text-align: right;\">\n",
       "      <th></th>\n",
       "      <th>wenn_nicht</th>\n",
       "      <th>wenn_nicht_detail</th>\n",
       "      <th>wenn_ja</th>\n",
       "      <th>wenn_ja_detail</th>\n",
       "      <th>diff_low_bootstrap</th>\n",
       "      <th>diff_low</th>\n",
       "      <th>diff</th>\n",
       "      <th>diff_high</th>\n",
       "      <th>diff_high_bootstrap</th>\n",
       "      <th>chi2</th>\n",
       "      <th>chi2_p</th>\n",
       "      <th>fisher_p</th>\n",
       "      <th>phi</th>\n",
       "      <th>min_real</th>\n",
       "      <th>min_expected</th>\n",
       "    </tr>\n",
       "  </thead>\n",
       "  <tbody>\n",
       "    <tr>\n",
       "      <th>gegenwartsbezug</th>\n",
       "      <td>0.17</td>\n",
       "      <td>247/1417</td>\n",
       "      <td>0.67</td>\n",
       "      <td>289/433</td>\n",
       "      <td>0.44</td>\n",
       "      <td>0.44</td>\n",
       "      <td>0.49</td>\n",
       "      <td>0.54</td>\n",
       "      <td>0.54</td>\n",
       "      <td>391.91</td>\n",
       "      <td>0.0</td>\n",
       "      <td>0.0</td>\n",
       "      <td>0.46</td>\n",
       "      <td>144.0</td>\n",
       "      <td>125.45</td>\n",
       "    </tr>\n",
       "    <tr>\n",
       "      <th>zeitmarker_vorhanden</th>\n",
       "      <td>0.35</td>\n",
       "      <td>489/1417</td>\n",
       "      <td>0.67</td>\n",
       "      <td>290/433</td>\n",
       "      <td>0.27</td>\n",
       "      <td>0.27</td>\n",
       "      <td>0.32</td>\n",
       "      <td>0.38</td>\n",
       "      <td>0.38</td>\n",
       "      <td>143.40</td>\n",
       "      <td>0.0</td>\n",
       "      <td>0.0</td>\n",
       "      <td>0.28</td>\n",
       "      <td>143.0</td>\n",
       "      <td>182.33</td>\n",
       "    </tr>\n",
       "    <tr>\n",
       "      <th>sprechinstanz_markiert</th>\n",
       "      <td>0.38</td>\n",
       "      <td>536/1417</td>\n",
       "      <td>0.64</td>\n",
       "      <td>275/433</td>\n",
       "      <td>0.20</td>\n",
       "      <td>0.20</td>\n",
       "      <td>0.26</td>\n",
       "      <td>0.31</td>\n",
       "      <td>0.31</td>\n",
       "      <td>88.86</td>\n",
       "      <td>0.0</td>\n",
       "      <td>0.0</td>\n",
       "      <td>0.22</td>\n",
       "      <td>158.0</td>\n",
       "      <td>189.82</td>\n",
       "    </tr>\n",
       "    <tr>\n",
       "      <th>wissen_identisch</th>\n",
       "      <td>0.10</td>\n",
       "      <td>137/1417</td>\n",
       "      <td>0.29</td>\n",
       "      <td>127/433</td>\n",
       "      <td>0.15</td>\n",
       "      <td>0.15</td>\n",
       "      <td>0.20</td>\n",
       "      <td>0.24</td>\n",
       "      <td>0.24</td>\n",
       "      <td>104.80</td>\n",
       "      <td>0.0</td>\n",
       "      <td>0.0</td>\n",
       "      <td>0.24</td>\n",
       "      <td>127.0</td>\n",
       "      <td>61.79</td>\n",
       "    </tr>\n",
       "    <tr>\n",
       "      <th>denkmal</th>\n",
       "      <td>0.00</td>\n",
       "      <td>4/1417</td>\n",
       "      <td>0.16</td>\n",
       "      <td>69/433</td>\n",
       "      <td>0.12</td>\n",
       "      <td>0.12</td>\n",
       "      <td>0.16</td>\n",
       "      <td>0.19</td>\n",
       "      <td>0.19</td>\n",
       "      <td>214.40</td>\n",
       "      <td>0.0</td>\n",
       "      <td>0.0</td>\n",
       "      <td>0.34</td>\n",
       "      <td>4.0</td>\n",
       "      <td>17.09</td>\n",
       "    </tr>\n",
       "  </tbody>\n",
       "</table>\n",
       "</div>"
      ],
      "text/plain": [
       "                        wenn_nicht wenn_nicht_detail  wenn_ja wenn_ja_detail  \\\n",
       "gegenwartsbezug               0.17          247/1417     0.67        289/433   \n",
       "zeitmarker_vorhanden          0.35          489/1417     0.67        290/433   \n",
       "sprechinstanz_markiert        0.38          536/1417     0.64        275/433   \n",
       "wissen_identisch              0.10          137/1417     0.29        127/433   \n",
       "denkmal                       0.00            4/1417     0.16         69/433   \n",
       "\n",
       "                        diff_low_bootstrap  diff_low  diff  diff_high  \\\n",
       "gegenwartsbezug                       0.44      0.44  0.49       0.54   \n",
       "zeitmarker_vorhanden                  0.27      0.27  0.32       0.38   \n",
       "sprechinstanz_markiert                0.20      0.20  0.26       0.31   \n",
       "wissen_identisch                      0.15      0.15  0.20       0.24   \n",
       "denkmal                               0.12      0.12  0.16       0.19   \n",
       "\n",
       "                        diff_high_bootstrap    chi2  chi2_p  fisher_p   phi  \\\n",
       "gegenwartsbezug                        0.54  391.91     0.0       0.0  0.46   \n",
       "zeitmarker_vorhanden                   0.38  143.40     0.0       0.0  0.28   \n",
       "sprechinstanz_markiert                 0.31   88.86     0.0       0.0  0.22   \n",
       "wissen_identisch                       0.24  104.80     0.0       0.0  0.24   \n",
       "denkmal                                0.19  214.40     0.0       0.0  0.34   \n",
       "\n",
       "                        min_real  min_expected  \n",
       "gegenwartsbezug            144.0        125.45  \n",
       "zeitmarker_vorhanden       143.0        182.33  \n",
       "sprechinstanz_markiert     158.0        189.82  \n",
       "wissen_identisch           127.0         61.79  \n",
       "denkmal                      4.0         17.09  "
      ]
     },
     "execution_count": 20,
     "metadata": {},
     "output_type": "execute_result"
    }
   ],
   "source": [
    "directly_related = [\n",
    "    'sprechinstanz_nicht_in_vergangenheit', # related to gegenwartsbezug+sprechinstanz_markiert\n",
    "    'gegenwartsdominant', # related to gegenwartsbezug\n",
    "    'wissen_ergaenzend', # related to wissen_identisch\n",
    "]\n",
    "results_filtered = (\n",
    "    results\n",
    "    .query(\"index not in @directly_related\")\n",
    "    .query(\"chi2_p < 0.05 and min_expected >= 5 and phi >= @threshold\")\n",
    "    .sort_values(by = 'diff', ascending = False)\n",
    ")\n",
    "round(results_filtered, 2)"
   ]
  },
  {
   "cell_type": "code",
   "execution_count": 21,
   "id": "089ea8ff",
   "metadata": {},
   "outputs": [
    {
     "data": {
      "text/html": [
       "<div>\n",
       "<style scoped>\n",
       "    .dataframe tbody tr th:only-of-type {\n",
       "        vertical-align: middle;\n",
       "    }\n",
       "\n",
       "    .dataframe tbody tr th {\n",
       "        vertical-align: top;\n",
       "    }\n",
       "\n",
       "    .dataframe thead th {\n",
       "        text-align: right;\n",
       "    }\n",
       "</style>\n",
       "<table border=\"1\" class=\"dataframe\">\n",
       "  <thead>\n",
       "    <tr style=\"text-align: right;\">\n",
       "      <th></th>\n",
       "      <th>wenn_nicht</th>\n",
       "      <th>wenn_nicht_detail</th>\n",
       "      <th>wenn_ja</th>\n",
       "      <th>wenn_ja_detail</th>\n",
       "      <th>diff_low_bootstrap</th>\n",
       "      <th>diff_low</th>\n",
       "      <th>diff</th>\n",
       "      <th>diff_high</th>\n",
       "      <th>diff_high_bootstrap</th>\n",
       "      <th>chi2</th>\n",
       "      <th>chi2_p</th>\n",
       "      <th>fisher_p</th>\n",
       "      <th>phi</th>\n",
       "      <th>min_real</th>\n",
       "      <th>min_expected</th>\n",
       "    </tr>\n",
       "  </thead>\n",
       "  <tbody>\n",
       "    <tr>\n",
       "      <th>sprechinstanz_nicht_in_vergangenheit</th>\n",
       "      <td>0.19</td>\n",
       "      <td>270/1417</td>\n",
       "      <td>0.56</td>\n",
       "      <td>243/433</td>\n",
       "      <td>0.32</td>\n",
       "      <td>0.32</td>\n",
       "      <td>0.37</td>\n",
       "      <td>0.42</td>\n",
       "      <td>0.42</td>\n",
       "      <td>227.37</td>\n",
       "      <td>0.00</td>\n",
       "      <td>0.00</td>\n",
       "      <td>0.35</td>\n",
       "      <td>190.0</td>\n",
       "      <td>120.07</td>\n",
       "    </tr>\n",
       "    <tr>\n",
       "      <th>gegenwartsdominant</th>\n",
       "      <td>0.09</td>\n",
       "      <td>127/1417</td>\n",
       "      <td>0.32</td>\n",
       "      <td>140/433</td>\n",
       "      <td>0.19</td>\n",
       "      <td>0.19</td>\n",
       "      <td>0.23</td>\n",
       "      <td>0.28</td>\n",
       "      <td>0.28</td>\n",
       "      <td>146.67</td>\n",
       "      <td>0.00</td>\n",
       "      <td>0.00</td>\n",
       "      <td>0.28</td>\n",
       "      <td>127.0</td>\n",
       "      <td>62.49</td>\n",
       "    </tr>\n",
       "    <tr>\n",
       "      <th>stoffgebiet_positiv</th>\n",
       "      <td>0.44</td>\n",
       "      <td>857/1938</td>\n",
       "      <td>0.54</td>\n",
       "      <td>327/602</td>\n",
       "      <td>0.06</td>\n",
       "      <td>0.06</td>\n",
       "      <td>0.10</td>\n",
       "      <td>0.15</td>\n",
       "      <td>0.15</td>\n",
       "      <td>18.82</td>\n",
       "      <td>0.00</td>\n",
       "      <td>0.00</td>\n",
       "      <td>0.09</td>\n",
       "      <td>275.0</td>\n",
       "      <td>280.62</td>\n",
       "    </tr>\n",
       "    <tr>\n",
       "      <th>bekanntes_individuum_positiv</th>\n",
       "      <td>0.55</td>\n",
       "      <td>869/1587</td>\n",
       "      <td>0.65</td>\n",
       "      <td>283/438</td>\n",
       "      <td>0.05</td>\n",
       "      <td>0.05</td>\n",
       "      <td>0.10</td>\n",
       "      <td>0.15</td>\n",
       "      <td>0.15</td>\n",
       "      <td>13.59</td>\n",
       "      <td>0.00</td>\n",
       "      <td>0.00</td>\n",
       "      <td>0.08</td>\n",
       "      <td>155.0</td>\n",
       "      <td>188.83</td>\n",
       "    </tr>\n",
       "    <tr>\n",
       "      <th>entity_positiv</th>\n",
       "      <td>0.46</td>\n",
       "      <td>1391/3011</td>\n",
       "      <td>0.53</td>\n",
       "      <td>480/905</td>\n",
       "      <td>0.03</td>\n",
       "      <td>0.03</td>\n",
       "      <td>0.07</td>\n",
       "      <td>0.11</td>\n",
       "      <td>0.10</td>\n",
       "      <td>13.05</td>\n",
       "      <td>0.00</td>\n",
       "      <td>0.00</td>\n",
       "      <td>0.06</td>\n",
       "      <td>425.0</td>\n",
       "      <td>432.39</td>\n",
       "    </tr>\n",
       "    <tr>\n",
       "      <th>kollektiv_positiv</th>\n",
       "      <td>0.37</td>\n",
       "      <td>302/827</td>\n",
       "      <td>0.40</td>\n",
       "      <td>94/237</td>\n",
       "      <td>-0.04</td>\n",
       "      <td>-0.04</td>\n",
       "      <td>0.03</td>\n",
       "      <td>0.10</td>\n",
       "      <td>0.10</td>\n",
       "      <td>0.78</td>\n",
       "      <td>0.38</td>\n",
       "      <td>0.40</td>\n",
       "      <td>0.03</td>\n",
       "      <td>94.0</td>\n",
       "      <td>88.21</td>\n",
       "    </tr>\n",
       "    <tr>\n",
       "      <th>unbekanntes_individuum_positiv</th>\n",
       "      <td>0.34</td>\n",
       "      <td>167/495</td>\n",
       "      <td>0.37</td>\n",
       "      <td>50/136</td>\n",
       "      <td>-0.06</td>\n",
       "      <td>-0.06</td>\n",
       "      <td>0.03</td>\n",
       "      <td>0.12</td>\n",
       "      <td>0.12</td>\n",
       "      <td>0.43</td>\n",
       "      <td>0.51</td>\n",
       "      <td>0.54</td>\n",
       "      <td>0.03</td>\n",
       "      <td>50.0</td>\n",
       "      <td>46.77</td>\n",
       "    </tr>\n",
       "    <tr>\n",
       "      <th>entity_ambivalent</th>\n",
       "      <td>0.06</td>\n",
       "      <td>189/3011</td>\n",
       "      <td>0.06</td>\n",
       "      <td>55/905</td>\n",
       "      <td>-0.02</td>\n",
       "      <td>-0.02</td>\n",
       "      <td>-0.00</td>\n",
       "      <td>0.02</td>\n",
       "      <td>0.02</td>\n",
       "      <td>0.05</td>\n",
       "      <td>0.83</td>\n",
       "      <td>0.88</td>\n",
       "      <td>0.00</td>\n",
       "      <td>55.0</td>\n",
       "      <td>56.39</td>\n",
       "    </tr>\n",
       "    <tr>\n",
       "      <th>stoffgebiet_ambivalent</th>\n",
       "      <td>0.14</td>\n",
       "      <td>263/1938</td>\n",
       "      <td>0.12</td>\n",
       "      <td>75/602</td>\n",
       "      <td>-0.04</td>\n",
       "      <td>-0.04</td>\n",
       "      <td>-0.01</td>\n",
       "      <td>0.02</td>\n",
       "      <td>0.02</td>\n",
       "      <td>0.49</td>\n",
       "      <td>0.48</td>\n",
       "      <td>0.54</td>\n",
       "      <td>0.01</td>\n",
       "      <td>75.0</td>\n",
       "      <td>80.11</td>\n",
       "    </tr>\n",
       "    <tr>\n",
       "      <th>kollektiv_negativ</th>\n",
       "      <td>0.26</td>\n",
       "      <td>211/827</td>\n",
       "      <td>0.24</td>\n",
       "      <td>57/237</td>\n",
       "      <td>-0.07</td>\n",
       "      <td>-0.08</td>\n",
       "      <td>-0.01</td>\n",
       "      <td>0.05</td>\n",
       "      <td>0.05</td>\n",
       "      <td>0.21</td>\n",
       "      <td>0.65</td>\n",
       "      <td>0.67</td>\n",
       "      <td>0.01</td>\n",
       "      <td>57.0</td>\n",
       "      <td>59.70</td>\n",
       "    </tr>\n",
       "    <tr>\n",
       "      <th>entity_neutral</th>\n",
       "      <td>0.30</td>\n",
       "      <td>904/3011</td>\n",
       "      <td>0.28</td>\n",
       "      <td>253/905</td>\n",
       "      <td>-0.06</td>\n",
       "      <td>-0.05</td>\n",
       "      <td>-0.02</td>\n",
       "      <td>0.01</td>\n",
       "      <td>0.01</td>\n",
       "      <td>1.43</td>\n",
       "      <td>0.23</td>\n",
       "      <td>0.24</td>\n",
       "      <td>0.02</td>\n",
       "      <td>253.0</td>\n",
       "      <td>267.39</td>\n",
       "    </tr>\n",
       "    <tr>\n",
       "      <th>stoffgebiet_neutral</th>\n",
       "      <td>0.20</td>\n",
       "      <td>384/1938</td>\n",
       "      <td>0.16</td>\n",
       "      <td>98/602</td>\n",
       "      <td>-0.07</td>\n",
       "      <td>-0.07</td>\n",
       "      <td>-0.04</td>\n",
       "      <td>-0.00</td>\n",
       "      <td>-0.00</td>\n",
       "      <td>3.73</td>\n",
       "      <td>0.05</td>\n",
       "      <td>0.06</td>\n",
       "      <td>0.04</td>\n",
       "      <td>98.0</td>\n",
       "      <td>114.24</td>\n",
       "    </tr>\n",
       "    <tr>\n",
       "      <th>bekanntes_individuum_negativ</th>\n",
       "      <td>0.15</td>\n",
       "      <td>231/1587</td>\n",
       "      <td>0.10</td>\n",
       "      <td>45/438</td>\n",
       "      <td>-0.08</td>\n",
       "      <td>-0.08</td>\n",
       "      <td>-0.04</td>\n",
       "      <td>-0.01</td>\n",
       "      <td>-0.01</td>\n",
       "      <td>5.35</td>\n",
       "      <td>0.02</td>\n",
       "      <td>0.02</td>\n",
       "      <td>0.05</td>\n",
       "      <td>45.0</td>\n",
       "      <td>59.70</td>\n",
       "    </tr>\n",
       "    <tr>\n",
       "      <th>entity_negativ</th>\n",
       "      <td>0.18</td>\n",
       "      <td>527/3011</td>\n",
       "      <td>0.13</td>\n",
       "      <td>117/905</td>\n",
       "      <td>-0.07</td>\n",
       "      <td>-0.07</td>\n",
       "      <td>-0.05</td>\n",
       "      <td>-0.02</td>\n",
       "      <td>-0.02</td>\n",
       "      <td>10.60</td>\n",
       "      <td>0.00</td>\n",
       "      <td>0.00</td>\n",
       "      <td>0.05</td>\n",
       "      <td>117.0</td>\n",
       "      <td>148.83</td>\n",
       "    </tr>\n",
       "    <tr>\n",
       "      <th>stoffgebiet_negativ</th>\n",
       "      <td>0.22</td>\n",
       "      <td>434/1938</td>\n",
       "      <td>0.17</td>\n",
       "      <td>102/602</td>\n",
       "      <td>-0.09</td>\n",
       "      <td>-0.09</td>\n",
       "      <td>-0.05</td>\n",
       "      <td>-0.02</td>\n",
       "      <td>-0.02</td>\n",
       "      <td>8.20</td>\n",
       "      <td>0.00</td>\n",
       "      <td>0.00</td>\n",
       "      <td>0.06</td>\n",
       "      <td>102.0</td>\n",
       "      <td>127.04</td>\n",
       "    </tr>\n",
       "    <tr>\n",
       "      <th>unbekanntes_individuum_negativ</th>\n",
       "      <td>0.15</td>\n",
       "      <td>72/495</td>\n",
       "      <td>0.07</td>\n",
       "      <td>9/136</td>\n",
       "      <td>-0.13</td>\n",
       "      <td>-0.13</td>\n",
       "      <td>-0.08</td>\n",
       "      <td>-0.03</td>\n",
       "      <td>-0.02</td>\n",
       "      <td>5.99</td>\n",
       "      <td>0.01</td>\n",
       "      <td>0.01</td>\n",
       "      <td>0.10</td>\n",
       "      <td>9.0</td>\n",
       "      <td>17.46</td>\n",
       "    </tr>\n",
       "    <tr>\n",
       "      <th>wissen_ergaenzend</th>\n",
       "      <td>0.80</td>\n",
       "      <td>1136/1417</td>\n",
       "      <td>0.57</td>\n",
       "      <td>247/433</td>\n",
       "      <td>-0.28</td>\n",
       "      <td>-0.28</td>\n",
       "      <td>-0.23</td>\n",
       "      <td>-0.18</td>\n",
       "      <td>-0.18</td>\n",
       "      <td>93.99</td>\n",
       "      <td>0.00</td>\n",
       "      <td>0.00</td>\n",
       "      <td>0.23</td>\n",
       "      <td>186.0</td>\n",
       "      <td>109.30</td>\n",
       "    </tr>\n",
       "  </tbody>\n",
       "</table>\n",
       "</div>"
      ],
      "text/plain": [
       "                                      wenn_nicht wenn_nicht_detail  wenn_ja  \\\n",
       "sprechinstanz_nicht_in_vergangenheit        0.19          270/1417     0.56   \n",
       "gegenwartsdominant                          0.09          127/1417     0.32   \n",
       "stoffgebiet_positiv                         0.44          857/1938     0.54   \n",
       "bekanntes_individuum_positiv                0.55          869/1587     0.65   \n",
       "entity_positiv                              0.46         1391/3011     0.53   \n",
       "kollektiv_positiv                           0.37           302/827     0.40   \n",
       "unbekanntes_individuum_positiv              0.34           167/495     0.37   \n",
       "entity_ambivalent                           0.06          189/3011     0.06   \n",
       "stoffgebiet_ambivalent                      0.14          263/1938     0.12   \n",
       "kollektiv_negativ                           0.26           211/827     0.24   \n",
       "entity_neutral                              0.30          904/3011     0.28   \n",
       "stoffgebiet_neutral                         0.20          384/1938     0.16   \n",
       "bekanntes_individuum_negativ                0.15          231/1587     0.10   \n",
       "entity_negativ                              0.18          527/3011     0.13   \n",
       "stoffgebiet_negativ                         0.22          434/1938     0.17   \n",
       "unbekanntes_individuum_negativ              0.15            72/495     0.07   \n",
       "wissen_ergaenzend                           0.80         1136/1417     0.57   \n",
       "\n",
       "                                     wenn_ja_detail  diff_low_bootstrap  \\\n",
       "sprechinstanz_nicht_in_vergangenheit        243/433                0.32   \n",
       "gegenwartsdominant                          140/433                0.19   \n",
       "stoffgebiet_positiv                         327/602                0.06   \n",
       "bekanntes_individuum_positiv                283/438                0.05   \n",
       "entity_positiv                              480/905                0.03   \n",
       "kollektiv_positiv                            94/237               -0.04   \n",
       "unbekanntes_individuum_positiv               50/136               -0.06   \n",
       "entity_ambivalent                            55/905               -0.02   \n",
       "stoffgebiet_ambivalent                       75/602               -0.04   \n",
       "kollektiv_negativ                            57/237               -0.07   \n",
       "entity_neutral                              253/905               -0.06   \n",
       "stoffgebiet_neutral                          98/602               -0.07   \n",
       "bekanntes_individuum_negativ                 45/438               -0.08   \n",
       "entity_negativ                              117/905               -0.07   \n",
       "stoffgebiet_negativ                         102/602               -0.09   \n",
       "unbekanntes_individuum_negativ                9/136               -0.13   \n",
       "wissen_ergaenzend                           247/433               -0.28   \n",
       "\n",
       "                                      diff_low  diff  diff_high  \\\n",
       "sprechinstanz_nicht_in_vergangenheit      0.32  0.37       0.42   \n",
       "gegenwartsdominant                        0.19  0.23       0.28   \n",
       "stoffgebiet_positiv                       0.06  0.10       0.15   \n",
       "bekanntes_individuum_positiv              0.05  0.10       0.15   \n",
       "entity_positiv                            0.03  0.07       0.11   \n",
       "kollektiv_positiv                        -0.04  0.03       0.10   \n",
       "unbekanntes_individuum_positiv           -0.06  0.03       0.12   \n",
       "entity_ambivalent                        -0.02 -0.00       0.02   \n",
       "stoffgebiet_ambivalent                   -0.04 -0.01       0.02   \n",
       "kollektiv_negativ                        -0.08 -0.01       0.05   \n",
       "entity_neutral                           -0.05 -0.02       0.01   \n",
       "stoffgebiet_neutral                      -0.07 -0.04      -0.00   \n",
       "bekanntes_individuum_negativ             -0.08 -0.04      -0.01   \n",
       "entity_negativ                           -0.07 -0.05      -0.02   \n",
       "stoffgebiet_negativ                      -0.09 -0.05      -0.02   \n",
       "unbekanntes_individuum_negativ           -0.13 -0.08      -0.03   \n",
       "wissen_ergaenzend                        -0.28 -0.23      -0.18   \n",
       "\n",
       "                                      diff_high_bootstrap    chi2  chi2_p  \\\n",
       "sprechinstanz_nicht_in_vergangenheit                 0.42  227.37    0.00   \n",
       "gegenwartsdominant                                   0.28  146.67    0.00   \n",
       "stoffgebiet_positiv                                  0.15   18.82    0.00   \n",
       "bekanntes_individuum_positiv                         0.15   13.59    0.00   \n",
       "entity_positiv                                       0.10   13.05    0.00   \n",
       "kollektiv_positiv                                    0.10    0.78    0.38   \n",
       "unbekanntes_individuum_positiv                       0.12    0.43    0.51   \n",
       "entity_ambivalent                                    0.02    0.05    0.83   \n",
       "stoffgebiet_ambivalent                               0.02    0.49    0.48   \n",
       "kollektiv_negativ                                    0.05    0.21    0.65   \n",
       "entity_neutral                                       0.01    1.43    0.23   \n",
       "stoffgebiet_neutral                                 -0.00    3.73    0.05   \n",
       "bekanntes_individuum_negativ                        -0.01    5.35    0.02   \n",
       "entity_negativ                                      -0.02   10.60    0.00   \n",
       "stoffgebiet_negativ                                 -0.02    8.20    0.00   \n",
       "unbekanntes_individuum_negativ                      -0.02    5.99    0.01   \n",
       "wissen_ergaenzend                                   -0.18   93.99    0.00   \n",
       "\n",
       "                                      fisher_p   phi  min_real  min_expected  \n",
       "sprechinstanz_nicht_in_vergangenheit      0.00  0.35     190.0        120.07  \n",
       "gegenwartsdominant                        0.00  0.28     127.0         62.49  \n",
       "stoffgebiet_positiv                       0.00  0.09     275.0        280.62  \n",
       "bekanntes_individuum_positiv              0.00  0.08     155.0        188.83  \n",
       "entity_positiv                            0.00  0.06     425.0        432.39  \n",
       "kollektiv_positiv                         0.40  0.03      94.0         88.21  \n",
       "unbekanntes_individuum_positiv            0.54  0.03      50.0         46.77  \n",
       "entity_ambivalent                         0.88  0.00      55.0         56.39  \n",
       "stoffgebiet_ambivalent                    0.54  0.01      75.0         80.11  \n",
       "kollektiv_negativ                         0.67  0.01      57.0         59.70  \n",
       "entity_neutral                            0.24  0.02     253.0        267.39  \n",
       "stoffgebiet_neutral                       0.06  0.04      98.0        114.24  \n",
       "bekanntes_individuum_negativ              0.02  0.05      45.0         59.70  \n",
       "entity_negativ                            0.00  0.05     117.0        148.83  \n",
       "stoffgebiet_negativ                       0.00  0.06     102.0        127.04  \n",
       "unbekanntes_individuum_negativ            0.01  0.10       9.0         17.46  \n",
       "wissen_ergaenzend                         0.00  0.23     186.0        109.30  "
      ]
     },
     "execution_count": 21,
     "metadata": {},
     "output_type": "execute_result"
    }
   ],
   "source": [
    "results_other = results.query(\"index not in @results_filtered.index\")\n",
    "round(results_other.sort_values(by='diff', ascending=False), 2)"
   ]
  },
  {
   "cell_type": "code",
   "execution_count": 22,
   "id": "3f2aca26",
   "metadata": {},
   "outputs": [
    {
     "data": {
      "text/html": [
       "<div>\n",
       "<style scoped>\n",
       "    .dataframe tbody tr th:only-of-type {\n",
       "        vertical-align: middle;\n",
       "    }\n",
       "\n",
       "    .dataframe tbody tr th {\n",
       "        vertical-align: top;\n",
       "    }\n",
       "\n",
       "    .dataframe thead th {\n",
       "        text-align: right;\n",
       "    }\n",
       "</style>\n",
       "<table border=\"1\" class=\"dataframe\">\n",
       "  <thead>\n",
       "    <tr style=\"text-align: right;\">\n",
       "      <th></th>\n",
       "      <th>wenn_nicht_1850</th>\n",
       "      <th>wenn_nicht_detail_1850</th>\n",
       "      <th>wenn_ja_1850</th>\n",
       "      <th>wenn_ja_detail_1850</th>\n",
       "      <th>diff_1850</th>\n",
       "      <th>chi2_p_1850</th>\n",
       "      <th>phi_1850</th>\n",
       "      <th>wenn_nicht_1885</th>\n",
       "      <th>wenn_nicht_detail_1885</th>\n",
       "      <th>wenn_ja_1885</th>\n",
       "      <th>wenn_ja_detail_1885</th>\n",
       "      <th>diff_1885</th>\n",
       "      <th>chi2_p_1885</th>\n",
       "      <th>phi_1885</th>\n",
       "      <th>diff_of_diffs</th>\n",
       "      <th>diff_of_phis</th>\n",
       "    </tr>\n",
       "  </thead>\n",
       "  <tbody>\n",
       "    <tr>\n",
       "      <th>sprechinstanz_markiert</th>\n",
       "      <td>0.378</td>\n",
       "      <td>391/1034</td>\n",
       "      <td>0.638</td>\n",
       "      <td>199/312</td>\n",
       "      <td>0.260</td>\n",
       "      <td>0.0</td>\n",
       "      <td>0.221</td>\n",
       "      <td>0.379</td>\n",
       "      <td>145/383</td>\n",
       "      <td>0.628</td>\n",
       "      <td>76/121</td>\n",
       "      <td>0.250</td>\n",
       "      <td>0.0</td>\n",
       "      <td>0.215</td>\n",
       "      <td>-0.010</td>\n",
       "      <td>-0.006</td>\n",
       "    </tr>\n",
       "    <tr>\n",
       "      <th>denkmal</th>\n",
       "      <td>0.002</td>\n",
       "      <td>2/1034</td>\n",
       "      <td>0.154</td>\n",
       "      <td>48/312</td>\n",
       "      <td>0.152</td>\n",
       "      <td>0.0</td>\n",
       "      <td>0.339</td>\n",
       "      <td>0.005</td>\n",
       "      <td>2/383</td>\n",
       "      <td>0.174</td>\n",
       "      <td>21/121</td>\n",
       "      <td>0.168</td>\n",
       "      <td>0.0</td>\n",
       "      <td>0.345</td>\n",
       "      <td>0.016</td>\n",
       "      <td>0.006</td>\n",
       "    </tr>\n",
       "    <tr>\n",
       "      <th>gegenwartsbezug</th>\n",
       "      <td>0.177</td>\n",
       "      <td>183/1034</td>\n",
       "      <td>0.667</td>\n",
       "      <td>208/312</td>\n",
       "      <td>0.490</td>\n",
       "      <td>0.0</td>\n",
       "      <td>0.455</td>\n",
       "      <td>0.167</td>\n",
       "      <td>64/383</td>\n",
       "      <td>0.669</td>\n",
       "      <td>81/121</td>\n",
       "      <td>0.502</td>\n",
       "      <td>0.0</td>\n",
       "      <td>0.474</td>\n",
       "      <td>0.013</td>\n",
       "      <td>0.019</td>\n",
       "    </tr>\n",
       "    <tr>\n",
       "      <th>wissen_identisch</th>\n",
       "      <td>0.089</td>\n",
       "      <td>92/1034</td>\n",
       "      <td>0.269</td>\n",
       "      <td>84/312</td>\n",
       "      <td>0.180</td>\n",
       "      <td>0.0</td>\n",
       "      <td>0.226</td>\n",
       "      <td>0.117</td>\n",
       "      <td>45/383</td>\n",
       "      <td>0.355</td>\n",
       "      <td>43/121</td>\n",
       "      <td>0.238</td>\n",
       "      <td>0.0</td>\n",
       "      <td>0.268</td>\n",
       "      <td>0.058</td>\n",
       "      <td>0.042</td>\n",
       "    </tr>\n",
       "    <tr>\n",
       "      <th>zeitmarker_vorhanden</th>\n",
       "      <td>0.347</td>\n",
       "      <td>359/1034</td>\n",
       "      <td>0.638</td>\n",
       "      <td>199/312</td>\n",
       "      <td>0.291</td>\n",
       "      <td>0.0</td>\n",
       "      <td>0.249</td>\n",
       "      <td>0.339</td>\n",
       "      <td>130/383</td>\n",
       "      <td>0.752</td>\n",
       "      <td>91/121</td>\n",
       "      <td>0.413</td>\n",
       "      <td>0.0</td>\n",
       "      <td>0.355</td>\n",
       "      <td>0.122</td>\n",
       "      <td>0.106</td>\n",
       "    </tr>\n",
       "  </tbody>\n",
       "</table>\n",
       "</div>"
      ],
      "text/plain": [
       "                        wenn_nicht_1850 wenn_nicht_detail_1850  wenn_ja_1850  \\\n",
       "sprechinstanz_markiert            0.378               391/1034         0.638   \n",
       "denkmal                           0.002                 2/1034         0.154   \n",
       "gegenwartsbezug                   0.177               183/1034         0.667   \n",
       "wissen_identisch                  0.089                92/1034         0.269   \n",
       "zeitmarker_vorhanden              0.347               359/1034         0.638   \n",
       "\n",
       "                       wenn_ja_detail_1850  diff_1850  chi2_p_1850  phi_1850  \\\n",
       "sprechinstanz_markiert             199/312      0.260          0.0     0.221   \n",
       "denkmal                             48/312      0.152          0.0     0.339   \n",
       "gegenwartsbezug                    208/312      0.490          0.0     0.455   \n",
       "wissen_identisch                    84/312      0.180          0.0     0.226   \n",
       "zeitmarker_vorhanden               199/312      0.291          0.0     0.249   \n",
       "\n",
       "                        wenn_nicht_1885 wenn_nicht_detail_1885  wenn_ja_1885  \\\n",
       "sprechinstanz_markiert            0.379                145/383         0.628   \n",
       "denkmal                           0.005                  2/383         0.174   \n",
       "gegenwartsbezug                   0.167                 64/383         0.669   \n",
       "wissen_identisch                  0.117                 45/383         0.355   \n",
       "zeitmarker_vorhanden              0.339                130/383         0.752   \n",
       "\n",
       "                       wenn_ja_detail_1885  diff_1885  chi2_p_1885  phi_1885  \\\n",
       "sprechinstanz_markiert              76/121      0.250          0.0     0.215   \n",
       "denkmal                             21/121      0.168          0.0     0.345   \n",
       "gegenwartsbezug                     81/121      0.502          0.0     0.474   \n",
       "wissen_identisch                    43/121      0.238          0.0     0.268   \n",
       "zeitmarker_vorhanden                91/121      0.413          0.0     0.355   \n",
       "\n",
       "                        diff_of_diffs  diff_of_phis  \n",
       "sprechinstanz_markiert         -0.010        -0.006  \n",
       "denkmal                         0.016         0.006  \n",
       "gegenwartsbezug                 0.013         0.019  \n",
       "wissen_identisch                0.058         0.042  \n",
       "zeitmarker_vorhanden            0.122         0.106  "
      ]
     },
     "execution_count": 22,
     "metadata": {},
     "output_type": "execute_result"
    }
   ],
   "source": [
    "result_categories = ['wenn_nicht', 'wenn_nicht_detail', 'wenn_ja', 'wenn_ja_detail', 'diff', 'chi2_p', 'phi',]\n",
    "\n",
    "results_a = relations_binbin(\n",
    "    meta = meta_anth_bin.query(\"1850 <= year <= 1884\"), \n",
    "    main_feature = main_feature,\n",
    "    comp_features = results_filtered.index\n",
    ")\n",
    "\n",
    "results_b = relations_binbin(\n",
    "    meta = meta_anth_bin.query(\"1885 <= year <= 1918\"), \n",
    "    main_feature = main_feature,\n",
    "    comp_features = results_filtered.index\n",
    ")\n",
    "\n",
    "results_merged = results_a[result_categories].join(\n",
    "    results_b[result_categories], \n",
    "    lsuffix='_1850', rsuffix = '_1885'\n",
    ")\n",
    "results_merged['diff_of_diffs'] = results_merged['diff_1885'] - results_merged['diff_1850']\n",
    "results_merged['diff_of_phis'] = results_merged['phi_1885'] - results_merged['phi_1850']\n",
    "\n",
    "round(results_merged.sort_values(by = 'diff_of_phis'), 3)"
   ]
  },
  {
   "cell_type": "code",
   "execution_count": 23,
   "id": "f075cd60",
   "metadata": {},
   "outputs": [],
   "source": [
    "results = relations_bincont(\n",
    "    meta = meta_anth_bin, \n",
    "    main_feature = main_feature,\n",
    "    comp_features = cont_comp_features\n",
    ")"
   ]
  },
  {
   "cell_type": "code",
   "execution_count": 24,
   "id": "d0da3ae7",
   "metadata": {},
   "outputs": [
    {
     "data": {
      "text/html": [
       "<div>\n",
       "<style scoped>\n",
       "    .dataframe tbody tr th:only-of-type {\n",
       "        vertical-align: middle;\n",
       "    }\n",
       "\n",
       "    .dataframe tbody tr th {\n",
       "        vertical-align: top;\n",
       "    }\n",
       "\n",
       "    .dataframe thead th {\n",
       "        text-align: right;\n",
       "    }\n",
       "</style>\n",
       "<table border=\"1\" class=\"dataframe\">\n",
       "  <thead>\n",
       "    <tr style=\"text-align: right;\">\n",
       "      <th></th>\n",
       "      <th>wenn_nicht</th>\n",
       "      <th>a_merkmal=0</th>\n",
       "      <th>a_merkmal=1</th>\n",
       "      <th>a_merkmal=2</th>\n",
       "      <th>a_merkmal=3</th>\n",
       "      <th>a_merkmal&gt;=4</th>\n",
       "      <th>wenn_ja</th>\n",
       "      <th>b_merkmal=0</th>\n",
       "      <th>b_merkmal=1</th>\n",
       "      <th>b_merkmal=2</th>\n",
       "      <th>...</th>\n",
       "      <th>pointbiserialr_corr</th>\n",
       "      <th>pointbiserialr_p</th>\n",
       "      <th>ttest_p</th>\n",
       "      <th>cohens_d</th>\n",
       "      <th>mannwhitneyu_stat</th>\n",
       "      <th>mannwhitneyu_p</th>\n",
       "      <th>meandiffs_ci_lower</th>\n",
       "      <th>meandiffs_ci_bootstrap_lower</th>\n",
       "      <th>meandiffs_ci_upper</th>\n",
       "      <th>meandiffs_ci_bootstrap_upper</th>\n",
       "    </tr>\n",
       "  </thead>\n",
       "  <tbody>\n",
       "    <tr>\n",
       "      <th>zeitebenen</th>\n",
       "      <td>1.91</td>\n",
       "      <td>0.0 [0/1417]</td>\n",
       "      <td>0.35 [491/1417]</td>\n",
       "      <td>0.44 [621/1417]</td>\n",
       "      <td>0.18 [250/1417]</td>\n",
       "      <td>0.04 [55/1417]</td>\n",
       "      <td>2.39</td>\n",
       "      <td>0.0 [0/433]</td>\n",
       "      <td>0.08 [35/433]</td>\n",
       "      <td>0.54 [233/433]</td>\n",
       "      <td>...</td>\n",
       "      <td>0.24</td>\n",
       "      <td>0.0</td>\n",
       "      <td>0.0</td>\n",
       "      <td>-0.59</td>\n",
       "      <td>208645.0</td>\n",
       "      <td>0.0</td>\n",
       "      <td>0.39</td>\n",
       "      <td>0.39</td>\n",
       "      <td>0.57</td>\n",
       "      <td>0.57</td>\n",
       "    </tr>\n",
       "  </tbody>\n",
       "</table>\n",
       "<p>1 rows × 22 columns</p>\n",
       "</div>"
      ],
      "text/plain": [
       "            wenn_nicht   a_merkmal=0      a_merkmal=1      a_merkmal=2  \\\n",
       "zeitebenen        1.91  0.0 [0/1417]  0.35 [491/1417]  0.44 [621/1417]   \n",
       "\n",
       "                a_merkmal=3    a_merkmal>=4  wenn_ja  b_merkmal=0  \\\n",
       "zeitebenen  0.18 [250/1417]  0.04 [55/1417]     2.39  0.0 [0/433]   \n",
       "\n",
       "              b_merkmal=1     b_merkmal=2  ... pointbiserialr_corr  \\\n",
       "zeitebenen  0.08 [35/433]  0.54 [233/433]  ...                0.24   \n",
       "\n",
       "           pointbiserialr_p  ttest_p  cohens_d  mannwhitneyu_stat  \\\n",
       "zeitebenen              0.0      0.0     -0.59           208645.0   \n",
       "\n",
       "            mannwhitneyu_p  meandiffs_ci_lower  meandiffs_ci_bootstrap_lower  \\\n",
       "zeitebenen             0.0                0.39                          0.39   \n",
       "\n",
       "            meandiffs_ci_upper  meandiffs_ci_bootstrap_upper  \n",
       "zeitebenen                0.57                          0.57  \n",
       "\n",
       "[1 rows x 22 columns]"
      ]
     },
     "execution_count": 24,
     "metadata": {},
     "output_type": "execute_result"
    }
   ],
   "source": [
    "round(results.sort_values(by = 'pointbiserialr_corr', ascending = False), 2)"
   ]
  },
  {
   "cell_type": "code",
   "execution_count": 25,
   "id": "97a9df2f",
   "metadata": {},
   "outputs": [
    {
     "data": {
      "application/vnd.plotly.v1+json": {
       "config": {
        "plotlyServerURL": "https://plot.ly"
       },
       "data": [
        {
         "alignmentgroup": "True",
         "bingroup": "x",
         "histnorm": "probability density",
         "hovertemplate": "=Texte ohne Überlieferung<br>(Mittelwert = 1.91)<br>Anzahl Zeitebenen=%{x}<br>probability density=%{y}<extra></extra>",
         "legendgroup": "Texte ohne Überlieferung<br>(Mittelwert = 1.91)",
         "marker": {
          "color": "#636efa",
          "pattern": {
           "shape": ""
          }
         },
         "name": "Texte ohne Überlieferung<br>(Mittelwert = 1.91)",
         "offsetgroup": "Texte ohne Überlieferung<br>(Mittelwert = 1.91)",
         "orientation": "v",
         "showlegend": true,
         "type": "histogram",
         "x": [
          3,
          2,
          3,
          2,
          2,
          1,
          4,
          2,
          2,
          3,
          1,
          3,
          3,
          2,
          2,
          2,
          1,
          1,
          1,
          2,
          1,
          2,
          1,
          1,
          2,
          2,
          1,
          1,
          2,
          3,
          3,
          3,
          1,
          2,
          1,
          2,
          1,
          2,
          2,
          3,
          2,
          2,
          1,
          2,
          2,
          2,
          1,
          1,
          3,
          2,
          1,
          3,
          2,
          1,
          1,
          2,
          1,
          2,
          3,
          2,
          2,
          2,
          3,
          2,
          2,
          1,
          1,
          3,
          1,
          2,
          2,
          4,
          2,
          1,
          2,
          3,
          1,
          2,
          2,
          1,
          1,
          2,
          2,
          1,
          1,
          1,
          2,
          1,
          3,
          1,
          1,
          2,
          1,
          1,
          4,
          1,
          2,
          2,
          1,
          1,
          1,
          2,
          2,
          2,
          2,
          2,
          1,
          2,
          3,
          3,
          3,
          3,
          2,
          1,
          2,
          2,
          2,
          3,
          2,
          1,
          2,
          1,
          1,
          2,
          1,
          1,
          1,
          2,
          1,
          2,
          1,
          1,
          2,
          2,
          2,
          5,
          1,
          3,
          2,
          3,
          2,
          1,
          2,
          2,
          2,
          2,
          1,
          2,
          1,
          2,
          2,
          1,
          1,
          2,
          1,
          2,
          2,
          2,
          1,
          2,
          3,
          2,
          1,
          3,
          2,
          2,
          1,
          1,
          2,
          2,
          2,
          2,
          3,
          3,
          3,
          2,
          1,
          3,
          2,
          1,
          1,
          1,
          2,
          3,
          2,
          2,
          2,
          1,
          1,
          3,
          2,
          1,
          1,
          2,
          2,
          2,
          2,
          2,
          1,
          2,
          3,
          2,
          2,
          1,
          2,
          2,
          2,
          3,
          1,
          3,
          2,
          1,
          3,
          2,
          2,
          2,
          1,
          2,
          3,
          2,
          2,
          2,
          1,
          1,
          2,
          2,
          1,
          2,
          2,
          2,
          2,
          1,
          1,
          4,
          3,
          1,
          1,
          1,
          2,
          2,
          1,
          1,
          2,
          1,
          2,
          1,
          1,
          4,
          1,
          2,
          2,
          1,
          2,
          2,
          1,
          2,
          2,
          3,
          2,
          3,
          2,
          3,
          1,
          1,
          1,
          2,
          1,
          1,
          1,
          1,
          2,
          1,
          2,
          4,
          2,
          2,
          1,
          2,
          1,
          1,
          2,
          2,
          1,
          1,
          2,
          2,
          2,
          2,
          3,
          2,
          1,
          2,
          2,
          2,
          2,
          1,
          2,
          1,
          3,
          3,
          1,
          3,
          2,
          2,
          3,
          1,
          1,
          2,
          3,
          3,
          2,
          3,
          2,
          2,
          3,
          2,
          3,
          1,
          2,
          2,
          2,
          2,
          2,
          1,
          2,
          1,
          2,
          2,
          2,
          1,
          1,
          2,
          1,
          2,
          4,
          4,
          3,
          4,
          4,
          1,
          1,
          1,
          2,
          1,
          1,
          1,
          3,
          2,
          5,
          1,
          2,
          3,
          3,
          1,
          2,
          2,
          2,
          2,
          2,
          1,
          3,
          2,
          3,
          1,
          3,
          2,
          1,
          2,
          2,
          3,
          1,
          3,
          1,
          1,
          2,
          2,
          1,
          1,
          1,
          2,
          2,
          3,
          1,
          2,
          1,
          1,
          5,
          2,
          5,
          3,
          2,
          2,
          2,
          1,
          2,
          1,
          2,
          2,
          1,
          1,
          1,
          1,
          2,
          1,
          1,
          3,
          1,
          3,
          4,
          1,
          1,
          1,
          2,
          1,
          2,
          2,
          2,
          3,
          1,
          3,
          2,
          4,
          3,
          1,
          3,
          3,
          2,
          2,
          2,
          2,
          2,
          3,
          3,
          2,
          2,
          1,
          3,
          1,
          3,
          2,
          2,
          3,
          3,
          2,
          1,
          3,
          1,
          2,
          1,
          1,
          1,
          2,
          2,
          1,
          1,
          1,
          1,
          1,
          1,
          2,
          1,
          1,
          1,
          1,
          1,
          2,
          1,
          1,
          1,
          2,
          1,
          4,
          3,
          2,
          3,
          2,
          3,
          2,
          1,
          1,
          2,
          2,
          1,
          3,
          3,
          2,
          2,
          2,
          2,
          1,
          1,
          1,
          2,
          1,
          4,
          1,
          2,
          1,
          3,
          2,
          1,
          3,
          1,
          2,
          2,
          1,
          3,
          1,
          1,
          2,
          1,
          2,
          2,
          1,
          2,
          3,
          2,
          2,
          3,
          2,
          2,
          2,
          3,
          3,
          2,
          3,
          2,
          3,
          1,
          2,
          2,
          1,
          2,
          2,
          1,
          1,
          1,
          4,
          2,
          3,
          1,
          3,
          2,
          1,
          2,
          2,
          2,
          4,
          4,
          1,
          2,
          2,
          1,
          1,
          3,
          3,
          3,
          1,
          2,
          2,
          4,
          2,
          1,
          2,
          3,
          1,
          3,
          1,
          2,
          2,
          2,
          1,
          2,
          2,
          2,
          2,
          2,
          2,
          1,
          3,
          4,
          4,
          1,
          2,
          2,
          2,
          3,
          2,
          2,
          2,
          2,
          4,
          2,
          1,
          2,
          3,
          3,
          2,
          1,
          2,
          2,
          1,
          2,
          2,
          1,
          1,
          2,
          1,
          4,
          1,
          1,
          2,
          2,
          2,
          3,
          3,
          2,
          1,
          2,
          1,
          3,
          2,
          2,
          2,
          4,
          3,
          2,
          1,
          2,
          1,
          2,
          2,
          4,
          2,
          2,
          1,
          2,
          3,
          3,
          2,
          2,
          2,
          1,
          2,
          2,
          1,
          1,
          2,
          2,
          1,
          2,
          1,
          3,
          2,
          2,
          3,
          2,
          1,
          3,
          3,
          2,
          3,
          3,
          2,
          2,
          3,
          2,
          2,
          1,
          1,
          2,
          3,
          2,
          1,
          3,
          2,
          3,
          3,
          1,
          4,
          2,
          2,
          2,
          1,
          1,
          2,
          1,
          2,
          2,
          1,
          2,
          2,
          2,
          2,
          2,
          3,
          2,
          2,
          2,
          2,
          2,
          3,
          1,
          2,
          2,
          1,
          1,
          1,
          1,
          2,
          1,
          2,
          3,
          1,
          3,
          2,
          1,
          1,
          2,
          3,
          1,
          2,
          1,
          3,
          3,
          2,
          1,
          2,
          2,
          1,
          3,
          2,
          2,
          2,
          1,
          2,
          2,
          2,
          2,
          3,
          1,
          2,
          1,
          2,
          1,
          2,
          1,
          2,
          2,
          3,
          3,
          2,
          2,
          3,
          2,
          1,
          2,
          2,
          1,
          3,
          2,
          2,
          3,
          3,
          3,
          3,
          1,
          2,
          3,
          1,
          2,
          1,
          4,
          1,
          3,
          1,
          3,
          3,
          2,
          3,
          1,
          1,
          1,
          2,
          3,
          1,
          1,
          1,
          2,
          2,
          1,
          1,
          2,
          2,
          3,
          1,
          2,
          1,
          1,
          3,
          1,
          2,
          2,
          3,
          3,
          3,
          2,
          2,
          2,
          4,
          4,
          3,
          3,
          2,
          2,
          3,
          3,
          1,
          1,
          3,
          3,
          3,
          2,
          2,
          2,
          2,
          3,
          2,
          2,
          2,
          2,
          2,
          2,
          1,
          1,
          2,
          1,
          2,
          2,
          1,
          3,
          2,
          3,
          2,
          1,
          1,
          3,
          2,
          1,
          6,
          1,
          1,
          1,
          1,
          2,
          5,
          4,
          3,
          2,
          2,
          3,
          3,
          2,
          1,
          3,
          1,
          3,
          1,
          2,
          3,
          4,
          2,
          1,
          2,
          3,
          2,
          4,
          2,
          1,
          1,
          2,
          1,
          3,
          1,
          2,
          2,
          3,
          2,
          1,
          1,
          1,
          1,
          2,
          2,
          2,
          1,
          1,
          1,
          2,
          1,
          3,
          1,
          2,
          1,
          1,
          3,
          2,
          1,
          2,
          2,
          3,
          2,
          2,
          1,
          3,
          2,
          3,
          1,
          2,
          2,
          3,
          2,
          3,
          1,
          3,
          2,
          3,
          3,
          2,
          3,
          2,
          2,
          2,
          2,
          2,
          2,
          1,
          2,
          3,
          4,
          1,
          1,
          2,
          2,
          1,
          1,
          3,
          3,
          2,
          2,
          3,
          2,
          3,
          2,
          3,
          2,
          2,
          1,
          3,
          3,
          1,
          2,
          2,
          2,
          2,
          2,
          2,
          2,
          2,
          2,
          1,
          3,
          1,
          1,
          2,
          2,
          1,
          2,
          1,
          1,
          2,
          2,
          3,
          1,
          1,
          1,
          3,
          2,
          3,
          1,
          2,
          1,
          4,
          1,
          2,
          1,
          2,
          2,
          2,
          2,
          1,
          2,
          2,
          3,
          1,
          1,
          2,
          1,
          1,
          3,
          1,
          2,
          2,
          1,
          2,
          2,
          2,
          1,
          2,
          2,
          1,
          2,
          2,
          2,
          2,
          3,
          3,
          1,
          2,
          1,
          2,
          2,
          1,
          2,
          2,
          1,
          2,
          3,
          1,
          2,
          1,
          2,
          2,
          2,
          3,
          1,
          3,
          1,
          3,
          1,
          3,
          1,
          1,
          1,
          1,
          2,
          2,
          2,
          2,
          2,
          4,
          1,
          1,
          2,
          1,
          1,
          1,
          1,
          1,
          2,
          1,
          4,
          2,
          1,
          1,
          2,
          1,
          1,
          1,
          2,
          4,
          2,
          1,
          2,
          1,
          2,
          2,
          1,
          3,
          2,
          1,
          1,
          2,
          2,
          1,
          2,
          2,
          1,
          2,
          2,
          3,
          4,
          2,
          1,
          3,
          2,
          1,
          1,
          3,
          1,
          2,
          3,
          1,
          1,
          2,
          2,
          1,
          3,
          1,
          2,
          2,
          1,
          1,
          2,
          3,
          2,
          4,
          3,
          2,
          2,
          2,
          2,
          3,
          1,
          1,
          2,
          2,
          2,
          3,
          2,
          1,
          4,
          3,
          1,
          1,
          1,
          2,
          1,
          4,
          1,
          3,
          2,
          1,
          3,
          2,
          2,
          1,
          2,
          3,
          1,
          1,
          2,
          1,
          2,
          2,
          1,
          1,
          1,
          2,
          1,
          4,
          2,
          1,
          2,
          1,
          1,
          1,
          1,
          1,
          1,
          1,
          1,
          1,
          1,
          1,
          1,
          2,
          3,
          3,
          2,
          3,
          3,
          3,
          2,
          1,
          1,
          2,
          2,
          1,
          2,
          2,
          1,
          1,
          1,
          1,
          1,
          1,
          1,
          1,
          2,
          2,
          2,
          1,
          2,
          1,
          2,
          1,
          2,
          2,
          1,
          2,
          2,
          1,
          3,
          3,
          3,
          3,
          4,
          3,
          1,
          1,
          1,
          2,
          2,
          4,
          2,
          2,
          2,
          2,
          2,
          1,
          1,
          1,
          3,
          3,
          1,
          1,
          4,
          3,
          2,
          2,
          1,
          2,
          1,
          2,
          2,
          3,
          2,
          3,
          2,
          2,
          1,
          2,
          2,
          3,
          1,
          1,
          2,
          3,
          1,
          3,
          3,
          3,
          3,
          2,
          2,
          1,
          1,
          2,
          2,
          2,
          1,
          2,
          1,
          1,
          4,
          1,
          2,
          2,
          2,
          3,
          4,
          2,
          2,
          2,
          1,
          1,
          4,
          1,
          2,
          2,
          1,
          1,
          2,
          2,
          2,
          1,
          3,
          1,
          2,
          3,
          2,
          1,
          1,
          3,
          2,
          2,
          1,
          1,
          2,
          2,
          3,
          1,
          2,
          2,
          1,
          1,
          1,
          2,
          2,
          1,
          3,
          2,
          2,
          2,
          2,
          2,
          1,
          3,
          1,
          1,
          2,
          1,
          2,
          1,
          1,
          2,
          1,
          1,
          2,
          2,
          2,
          2,
          2,
          1,
          1,
          3,
          3,
          2,
          1,
          1,
          1,
          1,
          2,
          1,
          2,
          1,
          1,
          2,
          2,
          1,
          3,
          1,
          2,
          1,
          1,
          2,
          3,
          2,
          3,
          2,
          2,
          1,
          3,
          2,
          1,
          2,
          2,
          2,
          1,
          2,
          2,
          2,
          2,
          1,
          2,
          2,
          2,
          2,
          3,
          3,
          2,
          3,
          1,
          2,
          3,
          1,
          1,
          4,
          3,
          1,
          1,
          1,
          2,
          4,
          2,
          1
         ],
         "xaxis": "x",
         "yaxis": "y"
        },
        {
         "alignmentgroup": "True",
         "bingroup": "x",
         "histnorm": "probability density",
         "hovertemplate": "=Texte mit Überlieferung<br>(Mittelwert = 2.39)<br>Anzahl Zeitebenen=%{x}<br>probability density=%{y}<extra></extra>",
         "legendgroup": "Texte mit Überlieferung<br>(Mittelwert = 2.39)",
         "marker": {
          "color": "#EF553B",
          "pattern": {
           "shape": ""
          }
         },
         "name": "Texte mit Überlieferung<br>(Mittelwert = 2.39)",
         "offsetgroup": "Texte mit Überlieferung<br>(Mittelwert = 2.39)",
         "orientation": "v",
         "showlegend": true,
         "type": "histogram",
         "x": [
          3,
          2,
          3,
          3,
          2,
          1,
          2,
          2,
          4,
          2,
          3,
          2,
          4,
          2,
          2,
          2,
          2,
          2,
          2,
          2,
          2,
          2,
          2,
          2,
          2,
          2,
          3,
          4,
          4,
          2,
          2,
          1,
          2,
          2,
          2,
          3,
          4,
          2,
          2,
          3,
          3,
          1,
          3,
          2,
          2,
          2,
          2,
          3,
          3,
          3,
          2,
          3,
          3,
          3,
          2,
          1,
          2,
          2,
          3,
          2,
          3,
          3,
          2,
          3,
          2,
          3,
          1,
          2,
          2,
          3,
          3,
          2,
          2,
          3,
          5,
          3,
          3,
          2,
          3,
          2,
          3,
          3,
          2,
          2,
          3,
          2,
          1,
          3,
          2,
          2,
          3,
          3,
          2,
          2,
          3,
          3,
          3,
          2,
          3,
          1,
          3,
          3,
          2,
          2,
          2,
          2,
          2,
          2,
          3,
          3,
          1,
          2,
          2,
          1,
          2,
          1,
          2,
          4,
          3,
          2,
          2,
          2,
          4,
          1,
          4,
          4,
          2,
          2,
          2,
          3,
          2,
          2,
          2,
          2,
          2,
          3,
          2,
          3,
          3,
          3,
          2,
          2,
          3,
          2,
          4,
          3,
          2,
          4,
          2,
          2,
          2,
          2,
          2,
          4,
          3,
          3,
          4,
          2,
          3,
          3,
          3,
          3,
          3,
          4,
          3,
          3,
          3,
          2,
          1,
          2,
          2,
          2,
          3,
          1,
          2,
          2,
          2,
          2,
          3,
          2,
          2,
          3,
          2,
          2,
          2,
          3,
          2,
          2,
          3,
          2,
          4,
          2,
          2,
          3,
          2,
          2,
          2,
          2,
          2,
          2,
          3,
          2,
          2,
          1,
          2,
          2,
          1,
          2,
          3,
          2,
          4,
          3,
          3,
          3,
          2,
          2,
          2,
          2,
          2,
          3,
          1,
          2,
          3,
          2,
          6,
          2,
          2,
          2,
          2,
          2,
          2,
          3,
          4,
          2,
          2,
          1,
          2,
          1,
          2,
          2,
          2,
          2,
          3,
          2,
          3,
          3,
          3,
          3,
          3,
          3,
          2,
          3,
          2,
          4,
          3,
          2,
          4,
          4,
          2,
          2,
          3,
          2,
          1,
          3,
          2,
          2,
          3,
          2,
          2,
          3,
          3,
          2,
          3,
          2,
          2,
          3,
          2,
          2,
          4,
          2,
          2,
          1,
          2,
          1,
          3,
          3,
          2,
          3,
          2,
          3,
          3,
          2,
          3,
          2,
          3,
          3,
          2,
          2,
          2,
          3,
          2,
          2,
          2,
          3,
          2,
          2,
          2,
          3,
          2,
          2,
          2,
          2,
          2,
          2,
          2,
          2,
          2,
          2,
          3,
          2,
          3,
          2,
          2,
          3,
          2,
          3,
          3,
          2,
          4,
          2,
          3,
          3,
          2,
          2,
          2,
          2,
          2,
          3,
          1,
          2,
          3,
          1,
          2,
          1,
          2,
          3,
          3,
          2,
          2,
          2,
          1,
          2,
          2,
          2,
          4,
          3,
          2,
          1,
          3,
          2,
          2,
          1,
          2,
          3,
          4,
          2,
          2,
          2,
          2,
          2,
          2,
          1,
          2,
          2,
          3,
          4,
          2,
          3,
          3,
          4,
          2,
          2,
          2,
          3,
          2,
          2,
          3,
          2,
          1,
          2,
          2,
          3,
          2,
          1,
          2,
          3,
          1,
          2,
          4,
          2,
          2,
          2,
          4,
          6,
          3,
          3,
          3,
          4,
          2,
          2,
          2,
          4,
          2,
          4,
          3,
          4,
          4,
          1,
          2,
          1,
          2,
          3,
          2,
          2,
          3,
          3,
          2,
          3,
          3,
          2,
          1,
          1,
          2
         ],
         "xaxis": "x",
         "yaxis": "y"
        }
       ],
       "layout": {
        "bargap": 0.1,
        "barmode": "group",
        "height": 300,
        "legend": {
         "font": {
          "size": 16
         },
         "title": {
          "text": ""
         },
         "tracegroupgap": 0,
         "x": 0.52,
         "y": 0.88
        },
        "margin": {
         "t": 60
        },
        "template": {
         "data": {
          "bar": [
           {
            "error_x": {
             "color": "#2a3f5f"
            },
            "error_y": {
             "color": "#2a3f5f"
            },
            "marker": {
             "line": {
              "color": "#E5ECF6",
              "width": 0.5
             },
             "pattern": {
              "fillmode": "overlay",
              "size": 10,
              "solidity": 0.2
             }
            },
            "type": "bar"
           }
          ],
          "barpolar": [
           {
            "marker": {
             "line": {
              "color": "#E5ECF6",
              "width": 0.5
             },
             "pattern": {
              "fillmode": "overlay",
              "size": 10,
              "solidity": 0.2
             }
            },
            "type": "barpolar"
           }
          ],
          "carpet": [
           {
            "aaxis": {
             "endlinecolor": "#2a3f5f",
             "gridcolor": "white",
             "linecolor": "white",
             "minorgridcolor": "white",
             "startlinecolor": "#2a3f5f"
            },
            "baxis": {
             "endlinecolor": "#2a3f5f",
             "gridcolor": "white",
             "linecolor": "white",
             "minorgridcolor": "white",
             "startlinecolor": "#2a3f5f"
            },
            "type": "carpet"
           }
          ],
          "choropleth": [
           {
            "colorbar": {
             "outlinewidth": 0,
             "ticks": ""
            },
            "type": "choropleth"
           }
          ],
          "contour": [
           {
            "colorbar": {
             "outlinewidth": 0,
             "ticks": ""
            },
            "colorscale": [
             [
              0,
              "#0d0887"
             ],
             [
              0.1111111111111111,
              "#46039f"
             ],
             [
              0.2222222222222222,
              "#7201a8"
             ],
             [
              0.3333333333333333,
              "#9c179e"
             ],
             [
              0.4444444444444444,
              "#bd3786"
             ],
             [
              0.5555555555555556,
              "#d8576b"
             ],
             [
              0.6666666666666666,
              "#ed7953"
             ],
             [
              0.7777777777777778,
              "#fb9f3a"
             ],
             [
              0.8888888888888888,
              "#fdca26"
             ],
             [
              1,
              "#f0f921"
             ]
            ],
            "type": "contour"
           }
          ],
          "contourcarpet": [
           {
            "colorbar": {
             "outlinewidth": 0,
             "ticks": ""
            },
            "type": "contourcarpet"
           }
          ],
          "heatmap": [
           {
            "colorbar": {
             "outlinewidth": 0,
             "ticks": ""
            },
            "colorscale": [
             [
              0,
              "#0d0887"
             ],
             [
              0.1111111111111111,
              "#46039f"
             ],
             [
              0.2222222222222222,
              "#7201a8"
             ],
             [
              0.3333333333333333,
              "#9c179e"
             ],
             [
              0.4444444444444444,
              "#bd3786"
             ],
             [
              0.5555555555555556,
              "#d8576b"
             ],
             [
              0.6666666666666666,
              "#ed7953"
             ],
             [
              0.7777777777777778,
              "#fb9f3a"
             ],
             [
              0.8888888888888888,
              "#fdca26"
             ],
             [
              1,
              "#f0f921"
             ]
            ],
            "type": "heatmap"
           }
          ],
          "heatmapgl": [
           {
            "colorbar": {
             "outlinewidth": 0,
             "ticks": ""
            },
            "colorscale": [
             [
              0,
              "#0d0887"
             ],
             [
              0.1111111111111111,
              "#46039f"
             ],
             [
              0.2222222222222222,
              "#7201a8"
             ],
             [
              0.3333333333333333,
              "#9c179e"
             ],
             [
              0.4444444444444444,
              "#bd3786"
             ],
             [
              0.5555555555555556,
              "#d8576b"
             ],
             [
              0.6666666666666666,
              "#ed7953"
             ],
             [
              0.7777777777777778,
              "#fb9f3a"
             ],
             [
              0.8888888888888888,
              "#fdca26"
             ],
             [
              1,
              "#f0f921"
             ]
            ],
            "type": "heatmapgl"
           }
          ],
          "histogram": [
           {
            "marker": {
             "pattern": {
              "fillmode": "overlay",
              "size": 10,
              "solidity": 0.2
             }
            },
            "type": "histogram"
           }
          ],
          "histogram2d": [
           {
            "colorbar": {
             "outlinewidth": 0,
             "ticks": ""
            },
            "colorscale": [
             [
              0,
              "#0d0887"
             ],
             [
              0.1111111111111111,
              "#46039f"
             ],
             [
              0.2222222222222222,
              "#7201a8"
             ],
             [
              0.3333333333333333,
              "#9c179e"
             ],
             [
              0.4444444444444444,
              "#bd3786"
             ],
             [
              0.5555555555555556,
              "#d8576b"
             ],
             [
              0.6666666666666666,
              "#ed7953"
             ],
             [
              0.7777777777777778,
              "#fb9f3a"
             ],
             [
              0.8888888888888888,
              "#fdca26"
             ],
             [
              1,
              "#f0f921"
             ]
            ],
            "type": "histogram2d"
           }
          ],
          "histogram2dcontour": [
           {
            "colorbar": {
             "outlinewidth": 0,
             "ticks": ""
            },
            "colorscale": [
             [
              0,
              "#0d0887"
             ],
             [
              0.1111111111111111,
              "#46039f"
             ],
             [
              0.2222222222222222,
              "#7201a8"
             ],
             [
              0.3333333333333333,
              "#9c179e"
             ],
             [
              0.4444444444444444,
              "#bd3786"
             ],
             [
              0.5555555555555556,
              "#d8576b"
             ],
             [
              0.6666666666666666,
              "#ed7953"
             ],
             [
              0.7777777777777778,
              "#fb9f3a"
             ],
             [
              0.8888888888888888,
              "#fdca26"
             ],
             [
              1,
              "#f0f921"
             ]
            ],
            "type": "histogram2dcontour"
           }
          ],
          "mesh3d": [
           {
            "colorbar": {
             "outlinewidth": 0,
             "ticks": ""
            },
            "type": "mesh3d"
           }
          ],
          "parcoords": [
           {
            "line": {
             "colorbar": {
              "outlinewidth": 0,
              "ticks": ""
             }
            },
            "type": "parcoords"
           }
          ],
          "pie": [
           {
            "automargin": true,
            "type": "pie"
           }
          ],
          "scatter": [
           {
            "fillpattern": {
             "fillmode": "overlay",
             "size": 10,
             "solidity": 0.2
            },
            "type": "scatter"
           }
          ],
          "scatter3d": [
           {
            "line": {
             "colorbar": {
              "outlinewidth": 0,
              "ticks": ""
             }
            },
            "marker": {
             "colorbar": {
              "outlinewidth": 0,
              "ticks": ""
             }
            },
            "type": "scatter3d"
           }
          ],
          "scattercarpet": [
           {
            "marker": {
             "colorbar": {
              "outlinewidth": 0,
              "ticks": ""
             }
            },
            "type": "scattercarpet"
           }
          ],
          "scattergeo": [
           {
            "marker": {
             "colorbar": {
              "outlinewidth": 0,
              "ticks": ""
             }
            },
            "type": "scattergeo"
           }
          ],
          "scattergl": [
           {
            "marker": {
             "colorbar": {
              "outlinewidth": 0,
              "ticks": ""
             }
            },
            "type": "scattergl"
           }
          ],
          "scattermapbox": [
           {
            "marker": {
             "colorbar": {
              "outlinewidth": 0,
              "ticks": ""
             }
            },
            "type": "scattermapbox"
           }
          ],
          "scatterpolar": [
           {
            "marker": {
             "colorbar": {
              "outlinewidth": 0,
              "ticks": ""
             }
            },
            "type": "scatterpolar"
           }
          ],
          "scatterpolargl": [
           {
            "marker": {
             "colorbar": {
              "outlinewidth": 0,
              "ticks": ""
             }
            },
            "type": "scatterpolargl"
           }
          ],
          "scatterternary": [
           {
            "marker": {
             "colorbar": {
              "outlinewidth": 0,
              "ticks": ""
             }
            },
            "type": "scatterternary"
           }
          ],
          "surface": [
           {
            "colorbar": {
             "outlinewidth": 0,
             "ticks": ""
            },
            "colorscale": [
             [
              0,
              "#0d0887"
             ],
             [
              0.1111111111111111,
              "#46039f"
             ],
             [
              0.2222222222222222,
              "#7201a8"
             ],
             [
              0.3333333333333333,
              "#9c179e"
             ],
             [
              0.4444444444444444,
              "#bd3786"
             ],
             [
              0.5555555555555556,
              "#d8576b"
             ],
             [
              0.6666666666666666,
              "#ed7953"
             ],
             [
              0.7777777777777778,
              "#fb9f3a"
             ],
             [
              0.8888888888888888,
              "#fdca26"
             ],
             [
              1,
              "#f0f921"
             ]
            ],
            "type": "surface"
           }
          ],
          "table": [
           {
            "cells": {
             "fill": {
              "color": "#EBF0F8"
             },
             "line": {
              "color": "white"
             }
            },
            "header": {
             "fill": {
              "color": "#C8D4E3"
             },
             "line": {
              "color": "white"
             }
            },
            "type": "table"
           }
          ]
         },
         "layout": {
          "annotationdefaults": {
           "arrowcolor": "#2a3f5f",
           "arrowhead": 0,
           "arrowwidth": 1
          },
          "autotypenumbers": "strict",
          "coloraxis": {
           "colorbar": {
            "outlinewidth": 0,
            "ticks": ""
           }
          },
          "colorscale": {
           "diverging": [
            [
             0,
             "#8e0152"
            ],
            [
             0.1,
             "#c51b7d"
            ],
            [
             0.2,
             "#de77ae"
            ],
            [
             0.3,
             "#f1b6da"
            ],
            [
             0.4,
             "#fde0ef"
            ],
            [
             0.5,
             "#f7f7f7"
            ],
            [
             0.6,
             "#e6f5d0"
            ],
            [
             0.7,
             "#b8e186"
            ],
            [
             0.8,
             "#7fbc41"
            ],
            [
             0.9,
             "#4d9221"
            ],
            [
             1,
             "#276419"
            ]
           ],
           "sequential": [
            [
             0,
             "#0d0887"
            ],
            [
             0.1111111111111111,
             "#46039f"
            ],
            [
             0.2222222222222222,
             "#7201a8"
            ],
            [
             0.3333333333333333,
             "#9c179e"
            ],
            [
             0.4444444444444444,
             "#bd3786"
            ],
            [
             0.5555555555555556,
             "#d8576b"
            ],
            [
             0.6666666666666666,
             "#ed7953"
            ],
            [
             0.7777777777777778,
             "#fb9f3a"
            ],
            [
             0.8888888888888888,
             "#fdca26"
            ],
            [
             1,
             "#f0f921"
            ]
           ],
           "sequentialminus": [
            [
             0,
             "#0d0887"
            ],
            [
             0.1111111111111111,
             "#46039f"
            ],
            [
             0.2222222222222222,
             "#7201a8"
            ],
            [
             0.3333333333333333,
             "#9c179e"
            ],
            [
             0.4444444444444444,
             "#bd3786"
            ],
            [
             0.5555555555555556,
             "#d8576b"
            ],
            [
             0.6666666666666666,
             "#ed7953"
            ],
            [
             0.7777777777777778,
             "#fb9f3a"
            ],
            [
             0.8888888888888888,
             "#fdca26"
            ],
            [
             1,
             "#f0f921"
            ]
           ]
          },
          "colorway": [
           "#636efa",
           "#EF553B",
           "#00cc96",
           "#ab63fa",
           "#FFA15A",
           "#19d3f3",
           "#FF6692",
           "#B6E880",
           "#FF97FF",
           "#FECB52"
          ],
          "font": {
           "color": "#2a3f5f"
          },
          "geo": {
           "bgcolor": "white",
           "lakecolor": "white",
           "landcolor": "#E5ECF6",
           "showlakes": true,
           "showland": true,
           "subunitcolor": "white"
          },
          "hoverlabel": {
           "align": "left"
          },
          "hovermode": "closest",
          "mapbox": {
           "style": "light"
          },
          "paper_bgcolor": "white",
          "plot_bgcolor": "#E5ECF6",
          "polar": {
           "angularaxis": {
            "gridcolor": "white",
            "linecolor": "white",
            "ticks": ""
           },
           "bgcolor": "#E5ECF6",
           "radialaxis": {
            "gridcolor": "white",
            "linecolor": "white",
            "ticks": ""
           }
          },
          "scene": {
           "xaxis": {
            "backgroundcolor": "#E5ECF6",
            "gridcolor": "white",
            "gridwidth": 2,
            "linecolor": "white",
            "showbackground": true,
            "ticks": "",
            "zerolinecolor": "white"
           },
           "yaxis": {
            "backgroundcolor": "#E5ECF6",
            "gridcolor": "white",
            "gridwidth": 2,
            "linecolor": "white",
            "showbackground": true,
            "ticks": "",
            "zerolinecolor": "white"
           },
           "zaxis": {
            "backgroundcolor": "#E5ECF6",
            "gridcolor": "white",
            "gridwidth": 2,
            "linecolor": "white",
            "showbackground": true,
            "ticks": "",
            "zerolinecolor": "white"
           }
          },
          "shapedefaults": {
           "line": {
            "color": "#2a3f5f"
           }
          },
          "ternary": {
           "aaxis": {
            "gridcolor": "white",
            "linecolor": "white",
            "ticks": ""
           },
           "baxis": {
            "gridcolor": "white",
            "linecolor": "white",
            "ticks": ""
           },
           "bgcolor": "#E5ECF6",
           "caxis": {
            "gridcolor": "white",
            "linecolor": "white",
            "ticks": ""
           }
          },
          "title": {
           "x": 0.05
          },
          "xaxis": {
           "automargin": true,
           "gridcolor": "white",
           "linecolor": "white",
           "ticks": "",
           "title": {
            "standoff": 15
           },
           "zerolinecolor": "white",
           "zerolinewidth": 2
          },
          "yaxis": {
           "automargin": true,
           "gridcolor": "white",
           "linecolor": "white",
           "ticks": "",
           "title": {
            "standoff": 15
           },
           "zerolinecolor": "white",
           "zerolinewidth": 2
          }
         }
        },
        "width": 700,
        "xaxis": {
         "anchor": "y",
         "domain": [
          0,
          1
         ],
         "tickfont": {
          "size": 16
         },
         "title": {
          "font": {
           "size": 16
          },
          "text": "Anzahl Zeitebenen"
         }
        },
        "yaxis": {
         "anchor": "x",
         "domain": [
          0,
          1
         ],
         "tickfont": {
          "size": 16
         },
         "title": {
          "font": {
           "size": 16
          },
          "text": "Anteil"
         }
        }
       }
      }
     },
     "metadata": {},
     "output_type": "display_data"
    }
   ],
   "source": [
    "meta_plot = meta_anth_bin.copy()\n",
    "\n",
    "for cont_comp_feature in cont_comp_features:\n",
    "    mean_main = meta_plot[meta_plot[main_feature] == 1][cont_comp_feature].mean()\n",
    "    mean_notmain = meta_plot[meta_plot[main_feature] == 0][cont_comp_feature].mean()\n",
    "    label_main = f\"Texte mit Überlieferung<br>(Mittelwert = {round(mean_main, 2)})\"\n",
    "    label_notmain = f\"Texte ohne Überlieferung<br>(Mittelwert = {round(mean_notmain, 2)})\"\n",
    "    meta_plot['plot_legend'] = [label_main if x == 1 else label_notmain for x in meta_plot[main_feature]]\n",
    "        \n",
    "    fig = px.histogram(\n",
    "        meta_plot,\n",
    "        x = cont_comp_feature,\n",
    "        color = 'plot_legend',\n",
    "        histnorm = 'probability density',\n",
    "        barmode = 'group',\n",
    "        labels = {'plot_legend' : '', 'zeitebenen' : 'Anzahl Zeitebenen',}\n",
    "    )\n",
    "\n",
    "    fig.update_layout(\n",
    "        width = 700, height = 300,\n",
    "        yaxis_title=\"Anteil\",\n",
    "        xaxis=dict(tickfont=dict(size=16), titlefont=dict(size=16)),\n",
    "        yaxis=dict(tickfont=dict(size=16), titlefont=dict(size=16)),\n",
    "        legend=dict(font = dict(size=16), x=0.52, y = 0.88),\n",
    "        bargap=0.1\n",
    "    )\n",
    "    # fig.write_image(f\"plots/6.8 Ueberlieferung – {cont_comp_feature}.pdf\")\n",
    "    fig.show()"
   ]
  },
  {
   "cell_type": "code",
   "execution_count": 26,
   "id": "e0e2f941",
   "metadata": {},
   "outputs": [
    {
     "data": {
      "text/html": [
       "<div>\n",
       "<style scoped>\n",
       "    .dataframe tbody tr th:only-of-type {\n",
       "        vertical-align: middle;\n",
       "    }\n",
       "\n",
       "    .dataframe tbody tr th {\n",
       "        vertical-align: top;\n",
       "    }\n",
       "\n",
       "    .dataframe thead th {\n",
       "        text-align: right;\n",
       "    }\n",
       "</style>\n",
       "<table border=\"1\" class=\"dataframe\">\n",
       "  <thead>\n",
       "    <tr style=\"text-align: right;\">\n",
       "      <th></th>\n",
       "      <th>wenn_nicht_1850</th>\n",
       "      <th>wenn_ja_1850</th>\n",
       "      <th>mannwhitneyu_p_1850</th>\n",
       "      <th>pointbiserialr_corr_1850</th>\n",
       "      <th>wenn_nicht_1885</th>\n",
       "      <th>wenn_ja_1885</th>\n",
       "      <th>mannwhitneyu_p_1885</th>\n",
       "      <th>pointbiserialr_corr_1885</th>\n",
       "      <th>diff_of_corrs</th>\n",
       "    </tr>\n",
       "  </thead>\n",
       "  <tbody>\n",
       "    <tr>\n",
       "      <th>zeitebenen</th>\n",
       "      <td>1.928</td>\n",
       "      <td>2.365</td>\n",
       "      <td>0.0</td>\n",
       "      <td>0.221</td>\n",
       "      <td>1.869</td>\n",
       "      <td>2.471</td>\n",
       "      <td>0.0</td>\n",
       "      <td>0.289</td>\n",
       "      <td>0.068</td>\n",
       "    </tr>\n",
       "  </tbody>\n",
       "</table>\n",
       "</div>"
      ],
      "text/plain": [
       "            wenn_nicht_1850  wenn_ja_1850  mannwhitneyu_p_1850  \\\n",
       "zeitebenen            1.928         2.365                  0.0   \n",
       "\n",
       "            pointbiserialr_corr_1850  wenn_nicht_1885  wenn_ja_1885  \\\n",
       "zeitebenen                     0.221            1.869         2.471   \n",
       "\n",
       "            mannwhitneyu_p_1885  pointbiserialr_corr_1885  diff_of_corrs  \n",
       "zeitebenen                  0.0                     0.289          0.068  "
      ]
     },
     "execution_count": 26,
     "metadata": {},
     "output_type": "execute_result"
    }
   ],
   "source": [
    "result_categories = ['wenn_nicht', 'wenn_ja', 'mannwhitneyu_p', 'pointbiserialr_corr',]\n",
    "\n",
    "results_a = relations_bincont(\n",
    "    meta = meta_anth_bin.query(\"1850 <= year <= 1884\"), \n",
    "    main_feature = main_feature,\n",
    "    comp_features = cont_comp_features\n",
    ")\n",
    "\n",
    "results_b = relations_bincont(\n",
    "    meta = meta_anth_bin.query(\"1885 <= year <= 1918\"), \n",
    "    main_feature = main_feature,\n",
    "    comp_features = cont_comp_features\n",
    ")\n",
    "\n",
    "results_merged = results_a[result_categories].join(\n",
    "    results_b[result_categories], \n",
    "    lsuffix='_1850', rsuffix = '_1885'\n",
    ")\n",
    "results_merged['diff_of_corrs'] = results_merged['pointbiserialr_corr_1885'] - results_merged['pointbiserialr_corr_1850']\n",
    "\n",
    "round(results_merged.sort_values(by = 'diff_of_corrs'), 3)"
   ]
  },
  {
   "cell_type": "code",
   "execution_count": 27,
   "id": "e1b0b76d",
   "metadata": {},
   "outputs": [
    {
     "name": "stdout",
     "output_type": "stream",
     "text": [
      "                      nicht_positiv  positiv  positiv_share\n",
      "ueberlieferung                  189      244       0.563510\n",
      "geschichtsauffassung             50       26       0.342105\n",
      "chi2   : 11.850879733653395\n",
      "chi2 p : 0.0005763411217952217\n",
      "phi    : 0.15810936339021953\n"
     ]
    }
   ],
   "source": [
    "# Bewertung Überlieferung vs. Geschichtsauffassungen (positiv)\n",
    "contingency_table = [\n",
    "    [meta_anth.query(\"ueberlieferung == 1 and ueberlieferung_bewertung != 'positiv'\").shape[0],\n",
    "     meta_anth.query(\"ueberlieferung == 1 and ueberlieferung_bewertung == 'positiv'\").shape[0]],\n",
    "    [meta_anth.query(\"geschichtsauffassung == 1 and geschichtsauffassung_bewertung != 'positiv'\").shape[0],\n",
    "     meta_anth.query(\"geschichtsauffassung == 1 and geschichtsauffassung_bewertung == 'positiv'\").shape[0]],\n",
    "]\n",
    "contingency_table_df = pd.DataFrame(contingency_table)\n",
    "contingency_table_df.index = ['ueberlieferung', 'geschichtsauffassung']\n",
    "contingency_table_df.columns = ['nicht_positiv', 'positiv']\n",
    "contingency_table_df['positiv_share'] = contingency_table_df['positiv']/contingency_table_df.sum(axis=1)\n",
    "\n",
    "print(contingency_table_df)\n",
    "print(f\"chi2   : {chi2_contingency(contingency_table)[0]}\")\n",
    "print(f\"chi2 p : {chi2_contingency(contingency_table)[1]}\")\n",
    "print(f\"phi    : {get_phi(np.array(contingency_table))}\")"
   ]
  },
  {
   "cell_type": "code",
   "execution_count": 28,
   "id": "b5ead4c0",
   "metadata": {},
   "outputs": [
    {
     "name": "stdout",
     "output_type": "stream",
     "text": [
      "                      nicht_negativ  negativ  negativ_share\n",
      "ueberlieferung                  408       25       0.057737\n",
      "geschichtsauffassung             59       17       0.223684\n",
      "chi2   : 21.376759350892797\n",
      "chi2 p : 3.773173442410576e-06\n",
      "phi    : 0.21495044410251846\n"
     ]
    }
   ],
   "source": [
    "# Bewertung Überlieferung vs. Geschichtsauffassungen (negativ)\n",
    "contingency_table = [\n",
    "    [meta_anth.query(\"ueberlieferung == 1 and ueberlieferung_bewertung != 'negativ'\").shape[0],\n",
    "     meta_anth.query(\"ueberlieferung == 1 and ueberlieferung_bewertung == 'negativ'\").shape[0]],\n",
    "    [meta_anth.query(\"geschichtsauffassung == 1 and geschichtsauffassung_bewertung != 'negativ'\").shape[0],\n",
    "     meta_anth.query(\"geschichtsauffassung == 1 and geschichtsauffassung_bewertung == 'negativ'\").shape[0]],\n",
    "]\n",
    "contingency_table_df = pd.DataFrame(contingency_table)\n",
    "contingency_table_df.index = ['ueberlieferung', 'geschichtsauffassung']\n",
    "contingency_table_df.columns = ['nicht_negativ', 'negativ']\n",
    "contingency_table_df['negativ_share'] = contingency_table_df['negativ']/contingency_table_df.sum(axis=1)\n",
    "\n",
    "print(contingency_table_df)\n",
    "print(f\"chi2   : {chi2_contingency(contingency_table)[0]}\")\n",
    "print(f\"chi2 p : {chi2_contingency(contingency_table)[1]}\")\n",
    "print(f\"phi    : {get_phi(np.array(contingency_table))}\")"
   ]
  }
 ],
 "metadata": {
  "kernelspec": {
   "display_name": "Python 3",
   "language": "python",
   "name": "python3"
  },
  "language_info": {
   "codemirror_mode": {
    "name": "ipython",
    "version": 3
   },
   "file_extension": ".py",
   "mimetype": "text/x-python",
   "name": "python",
   "nbconvert_exporter": "python",
   "pygments_lexer": "ipython3",
   "version": "3.12.3"
  }
 },
 "nbformat": 4,
 "nbformat_minor": 5
}
