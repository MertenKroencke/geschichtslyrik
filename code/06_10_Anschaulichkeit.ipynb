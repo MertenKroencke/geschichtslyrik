{
 "cells": [
  {
   "cell_type": "markdown",
   "id": "0be523ea",
   "metadata": {},
   "source": [
    "# Kapitel 6.10: Anschaulichkeit"
   ]
  },
  {
   "cell_type": "markdown",
   "id": "c7017702",
   "metadata": {},
   "source": [
    "Das Notebook ergänzt Kapitel 6.10 'Anschaulichkeit'."
   ]
  },
  {
   "cell_type": "markdown",
   "id": "2cbc902e",
   "metadata": {},
   "source": [
    "# Import"
   ]
  },
  {
   "cell_type": "code",
   "execution_count": 1,
   "id": "56d9863e",
   "metadata": {},
   "outputs": [],
   "source": [
    "import pandas as pd\n",
    "import numpy as np\n",
    "import plotly.express as px\n",
    "\n",
    "from resources_statistics import *\n",
    "from resources_geschichtslyrik import *\n",
    "\n",
    "from tqdm.notebook import tqdm"
   ]
  },
  {
   "cell_type": "code",
   "execution_count": 2,
   "id": "07cfc172",
   "metadata": {},
   "outputs": [],
   "source": [
    "meta = pd.read_json(r\"../resources/meta.json\")"
   ]
  },
  {
   "cell_type": "markdown",
   "id": "564f551b",
   "metadata": {},
   "source": [
    "# Korpora"
   ]
  },
  {
   "cell_type": "markdown",
   "id": "bc05e397",
   "metadata": {},
   "source": [
    "### Korpora erstellen"
   ]
  },
  {
   "cell_type": "code",
   "execution_count": 3,
   "id": "85ffd96d",
   "metadata": {},
   "outputs": [],
   "source": [
    "meta_anth = (\n",
    "    meta\n",
    "    .query(\"corpus=='anth'\")\n",
    "    .query(\"1850 <= year <= 1918\")\n",
    "    .query(\"geschichtslyrik == 1\")\n",
    "    .drop_duplicates(subset='author_title')\n",
    ")\n",
    "meta_anth_bin = binarize_meta(meta_anth)"
   ]
  },
  {
   "cell_type": "code",
   "execution_count": 4,
   "id": "edfd4794",
   "metadata": {},
   "outputs": [],
   "source": [
    "modcanon_authors = ['Hofmannsthal, Hugo von', 'Rilke, Rainer Maria', 'George, Stefan', 'Heym, Georg']\n",
    "\n",
    "meta_modcanon = (\n",
    "    meta\n",
    "    .query(\"author in @modcanon_authors\")\n",
    "    .query(\"1850 <= year <= 1918\")\n",
    "    .query(\"geschichtslyrik == 1\")\n",
    "    .drop_duplicates(subset='author_title')\n",
    ")"
   ]
  },
  {
   "cell_type": "code",
   "execution_count": 5,
   "id": "268246ac",
   "metadata": {},
   "outputs": [],
   "source": [
    "muench_authors = ['Münchhausen, Börries von', 'Miegel, Agnes', 'Strauß und Torney, Lulu von']\n",
    "\n",
    "meta_muench = (\n",
    "    meta\n",
    "    .query(\"author in @muench_authors\")\n",
    "    .query(\"1850 <= year <= 1918\")\n",
    "    .query(\"geschichtslyrik == 1\")\n",
    "    .drop_duplicates(subset='author_title')\n",
    ")"
   ]
  },
  {
   "cell_type": "code",
   "execution_count": 6,
   "id": "e63d9818",
   "metadata": {},
   "outputs": [],
   "source": [
    "sub_df = pd.DataFrame()\n",
    "sub_names = ['Anthologien', 'Kanonisierte Moderne', 'Münchhausen-Kreis']\n",
    "sub_metas = [meta_anth, meta_modcanon, meta_muench]"
   ]
  },
  {
   "cell_type": "markdown",
   "id": "127416cf",
   "metadata": {},
   "source": [
    "### Merkmale berechnen"
   ]
  },
  {
   "cell_type": "code",
   "execution_count": 7,
   "id": "a3011757",
   "metadata": {},
   "outputs": [],
   "source": [
    "for this_name, this_meta in zip(sub_names, sub_metas):\n",
    "    sub_df.loc[this_name, 'Jahr'] = round(this_meta['year'].mean(), 0)\n",
    "    sub_df.loc[this_name, 'Texte'] = this_meta.shape[0]\n",
    "\n",
    "    sub_df.loc[this_name, 'konkret_high'] = this_meta.query(\"konkretheit == 1\").shape[0]/this_meta.shape[0]\n",
    "    sub_df.loc[this_name, 'konkret_med'] = this_meta.query(\"konkretheit == 0.5\").shape[0]/this_meta.shape[0]\n",
    "    sub_df.loc[this_name, 'konkret_low'] = this_meta.query(\"konkretheit == 0\").shape[0]/this_meta.shape[0]"
   ]
  },
  {
   "cell_type": "code",
   "execution_count": 8,
   "id": "6a5aa50a",
   "metadata": {},
   "outputs": [
    {
     "data": {
      "text/html": [
       "<div>\n",
       "<style scoped>\n",
       "    .dataframe tbody tr th:only-of-type {\n",
       "        vertical-align: middle;\n",
       "    }\n",
       "\n",
       "    .dataframe tbody tr th {\n",
       "        vertical-align: top;\n",
       "    }\n",
       "\n",
       "    .dataframe thead th {\n",
       "        text-align: right;\n",
       "    }\n",
       "</style>\n",
       "<table border=\"1\" class=\"dataframe\">\n",
       "  <thead>\n",
       "    <tr style=\"text-align: right;\">\n",
       "      <th></th>\n",
       "      <th>Jahr</th>\n",
       "      <th>Texte</th>\n",
       "      <th>konkret_high</th>\n",
       "      <th>konkret_med</th>\n",
       "      <th>konkret_low</th>\n",
       "    </tr>\n",
       "  </thead>\n",
       "  <tbody>\n",
       "    <tr>\n",
       "      <th>Anthologien</th>\n",
       "      <td>1875.0</td>\n",
       "      <td>1850.0</td>\n",
       "      <td>0.8178</td>\n",
       "      <td>0.1686</td>\n",
       "      <td>0.0135</td>\n",
       "    </tr>\n",
       "    <tr>\n",
       "      <th>Kanonisierte Moderne</th>\n",
       "      <td>1903.0</td>\n",
       "      <td>113.0</td>\n",
       "      <td>0.7965</td>\n",
       "      <td>0.1504</td>\n",
       "      <td>0.0531</td>\n",
       "    </tr>\n",
       "    <tr>\n",
       "      <th>Münchhausen-Kreis</th>\n",
       "      <td>1905.0</td>\n",
       "      <td>140.0</td>\n",
       "      <td>0.9071</td>\n",
       "      <td>0.0929</td>\n",
       "      <td>0.0000</td>\n",
       "    </tr>\n",
       "  </tbody>\n",
       "</table>\n",
       "</div>"
      ],
      "text/plain": [
       "                        Jahr   Texte  konkret_high  konkret_med  konkret_low\n",
       "Anthologien           1875.0  1850.0        0.8178       0.1686       0.0135\n",
       "Kanonisierte Moderne  1903.0   113.0        0.7965       0.1504       0.0531\n",
       "Münchhausen-Kreis     1905.0   140.0        0.9071       0.0929       0.0000"
      ]
     },
     "execution_count": 8,
     "metadata": {},
     "output_type": "execute_result"
    }
   ],
   "source": [
    "round(sub_df, 4)"
   ]
  },
  {
   "cell_type": "markdown",
   "id": "35f06e3c",
   "metadata": {},
   "source": [
    "# Zeitverlauf"
   ]
  },
  {
   "cell_type": "code",
   "execution_count": 9,
   "id": "ce081ce8",
   "metadata": {},
   "outputs": [],
   "source": [
    "ts = pd.DataFrame()\n",
    "ts.index = pd.Series(range(1850, 1919), name = 'year')"
   ]
  },
  {
   "cell_type": "code",
   "execution_count": 10,
   "id": "6575f253",
   "metadata": {},
   "outputs": [],
   "source": [
    "ts['text_count'] = meta_anth.groupby('year').size()\n",
    "ts['text_count'] = ts['text_count'].fillna(0)\n",
    "ts['text_sum'] = smooth(ts['text_count'], mode = 'sum')"
   ]
  },
  {
   "cell_type": "code",
   "execution_count": 11,
   "id": "9baa843e",
   "metadata": {},
   "outputs": [],
   "source": [
    "ts['konkret_high_count'] = [meta_anth.query(\"year == @x and konkretheit == 1\").shape[0] for x in ts.index]\n",
    "ts['konkret_high_sum'] = smooth(ts['konkret_high_count'], mode = 'sum')\n",
    "ts['konkret_high_share_smoothed'] = ts['konkret_high_sum']/ts['text_sum']\n",
    "\n",
    "ts['konkret_med_count'] = [meta_anth.query(\"year == @x and konkretheit == 0.5\").shape[0] for x in ts.index]\n",
    "ts['konkret_med_sum'] = smooth(ts['konkret_med_count'], mode = 'sum')\n",
    "ts['konkret_med_share_smoothed'] = ts['konkret_med_sum']/ts['text_sum']\n",
    "\n",
    "ts['konkret_low_count'] = [meta_anth.query(\"year == @x and konkretheit == 0\").shape[0] for x in ts.index]\n",
    "ts['konkret_low_sum'] = smooth(ts['konkret_low_count'], mode = 'sum')\n",
    "ts['konkret_low_share_smoothed'] = ts['konkret_low_sum']/ts['text_sum']"
   ]
  },
  {
   "cell_type": "markdown",
   "id": "640464d9",
   "metadata": {},
   "source": [
    "# Konkretheit"
   ]
  },
  {
   "cell_type": "code",
   "execution_count": 41,
   "id": "304756b9",
   "metadata": {},
   "outputs": [
    {
     "data": {
      "application/vnd.plotly.v1+json": {
       "config": {
        "plotlyServerURL": "https://plot.ly"
       },
       "data": [
        {
         "line": {
          "color": "#636EFA",
          "width": 6
         },
         "mode": "lines",
         "name": "in hohem Maß konkret",
         "type": "scatter",
         "x": [
          1850,
          1851,
          1852,
          1853,
          1854,
          1855,
          1856,
          1857,
          1858,
          1859,
          1860,
          1861,
          1862,
          1863,
          1864,
          1865,
          1866,
          1867,
          1868,
          1869,
          1870,
          1871,
          1872,
          1873,
          1874,
          1875,
          1876,
          1877,
          1878,
          1879,
          1880,
          1881,
          1882,
          1883,
          1884,
          1885,
          1886,
          1887,
          1888,
          1889,
          1890,
          1891,
          1892,
          1893,
          1894,
          1895,
          1896,
          1897,
          1898,
          1899,
          1900,
          1901,
          1902,
          1903,
          1904,
          1905,
          1906,
          1907,
          1908,
          1909,
          1910,
          1911,
          1912,
          1913,
          1914,
          1915,
          1916,
          1917,
          1918
         ],
         "y": [
          null,
          null,
          null,
          null,
          null,
          0.8354562301158243,
          0.8470129328762284,
          0.8431697312192316,
          0.850936626427116,
          0.855128271332849,
          0.8676835150040519,
          0.8624911475068506,
          0.8487272333389456,
          0.8524545677999176,
          0.8529714808300862,
          0.8313588753484465,
          0.8083606584912598,
          0.7940444177489148,
          0.7882480880446895,
          0.7754155516541599,
          0.7686852918267593,
          0.7618630980689137,
          0.7612780879548,
          0.7721509801071068,
          0.789391646245132,
          0.7908272171585311,
          0.8164089045593123,
          0.8425794775706975,
          0.8471422176635941,
          0.8492413661179048,
          0.8401429421521955,
          0.8347538695960155,
          0.8408673105252467,
          0.8264705834478359,
          0.82509288150121,
          0.8115621342649691,
          0.8079861701671953,
          0.8100015610000264,
          0.8045013318771083,
          0.8040677113402014,
          0.8066909302146967,
          0.815685847907648,
          0.7949808242093345,
          0.7766173669332396,
          0.778670766553607,
          0.7555843239587238,
          0.7385892153986835,
          0.7324873182767596,
          0.74147520231958,
          0.7399757417692593,
          0.7633136823524669,
          0.7694105773897132,
          0.7920129451500759,
          0.8467090899869927,
          0.864982325806624,
          0.8742156422530257,
          0.8774060853207271,
          0.8865856780525936,
          0.8735660153735301,
          0.856858907861226,
          0.8600517968926907,
          0.8406375323334674,
          0.8447708289794528,
          0.8161296826846469,
          null,
          null,
          null,
          null,
          null
         ]
        },
        {
         "line": {
          "color": "#EF553B",
          "width": 6
         },
         "mode": "lines",
         "name": "in mittlerem Maß konkret",
         "type": "scatter",
         "x": [
          1850,
          1851,
          1852,
          1853,
          1854,
          1855,
          1856,
          1857,
          1858,
          1859,
          1860,
          1861,
          1862,
          1863,
          1864,
          1865,
          1866,
          1867,
          1868,
          1869,
          1870,
          1871,
          1872,
          1873,
          1874,
          1875,
          1876,
          1877,
          1878,
          1879,
          1880,
          1881,
          1882,
          1883,
          1884,
          1885,
          1886,
          1887,
          1888,
          1889,
          1890,
          1891,
          1892,
          1893,
          1894,
          1895,
          1896,
          1897,
          1898,
          1899,
          1900,
          1901,
          1902,
          1903,
          1904,
          1905,
          1906,
          1907,
          1908,
          1909,
          1910,
          1911,
          1912,
          1913,
          1914,
          1915,
          1916,
          1917,
          1918
         ],
         "y": [
          null,
          null,
          null,
          null,
          null,
          0.15221728784780295,
          0.1448929213927994,
          0.1477781865601668,
          0.14338847712925448,
          0.1391163121517704,
          0.1255141191908734,
          0.1263309228039172,
          0.1373480822752553,
          0.1323458548112355,
          0.13094953640797588,
          0.15270533904017752,
          0.17474381886399928,
          0.18961219107297067,
          0.19772295189254133,
          0.20941172436520453,
          0.21828387390280943,
          0.22678034401185365,
          0.23084103432488742,
          0.21936291980877465,
          0.20104323664728804,
          0.19928834989695718,
          0.16798433140827856,
          0.14258701531973686,
          0.1374854638810761,
          0.13509852477948242,
          0.1457257051688684,
          0.15011659180462272,
          0.14474796404965903,
          0.15963437404477418,
          0.16424987311883252,
          0.17637108469367332,
          0.17786119050253527,
          0.18260571799260314,
          0.1873117219388316,
          0.18617607272675965,
          0.18236327330013252,
          0.1726705980693669,
          0.19391702256941978,
          0.21323992557788476,
          0.21113248900720283,
          0.22475034802998378,
          0.24389799791328215,
          0.25337063186133885,
          0.242466128883979,
          0.24057037887755875,
          0.21644465510782163,
          0.2068407415279758,
          0.18632053295647133,
          0.1325082733051092,
          0.1157475805217913,
          0.10760701320297804,
          0.11367923229421995,
          0.10573909122578101,
          0.11976495745049483,
          0.13751227898392923,
          0.13487977023981274,
          0.14951664314381313,
          0.14942497442172267,
          0.17704383501076068,
          null,
          null,
          null,
          null,
          null
         ]
        },
        {
         "line": {
          "color": "#00CC96",
          "width": 6
         },
         "mode": "lines",
         "name": "in geringem Maß/<br>gar nicht konkret",
         "type": "scatter",
         "x": [
          1850,
          1851,
          1852,
          1853,
          1854,
          1855,
          1856,
          1857,
          1858,
          1859,
          1860,
          1861,
          1862,
          1863,
          1864,
          1865,
          1866,
          1867,
          1868,
          1869,
          1870,
          1871,
          1872,
          1873,
          1874,
          1875,
          1876,
          1877,
          1878,
          1879,
          1880,
          1881,
          1882,
          1883,
          1884,
          1885,
          1886,
          1887,
          1888,
          1889,
          1890,
          1891,
          1892,
          1893,
          1894,
          1895,
          1896,
          1897,
          1898,
          1899,
          1900,
          1901,
          1902,
          1903,
          1904,
          1905,
          1906,
          1907,
          1908,
          1909,
          1910,
          1911,
          1912,
          1913,
          1914,
          1915,
          1916,
          1917,
          1918
         ],
         "y": [
          null,
          null,
          null,
          null,
          null,
          0.012326482036372731,
          0.008094145730972375,
          0.009052082220601512,
          0.005674896443629394,
          0.00575541651538072,
          0.0068023658050748335,
          0.01117792968923226,
          0.013924684385798972,
          0.015199577388846688,
          0.01607898276193781,
          0.015935785611375857,
          0.01689552264474122,
          0.01634339117811464,
          0.01402896006276931,
          0.015172723980635844,
          0.013030834270431004,
          0.011356557919232846,
          0.007880877720312748,
          0.00848610008411836,
          0.009565117107580031,
          0.009884432944511797,
          0.015606764032409147,
          0.014833507109565703,
          0.01537231845532982,
          0.015660109102613003,
          0.014131352678936412,
          0.015129538599361964,
          0.014384725425094348,
          0.013895042507389913,
          0.0106572453799576,
          0.012066781041357529,
          0.014152639330269242,
          0.007392721007370361,
          0.00818694618406014,
          0.009756215933038971,
          0.01094579648517081,
          0.011643554022985109,
          0.011102153221245664,
          0.010142707488875772,
          0.0101967444391901,
          0.01966532801129218,
          0.01751278668803438,
          0.01414204986190149,
          0.016058668796440995,
          0.019453879353181935,
          0.020241662539711446,
          0.023748681082310867,
          0.021666521893452754,
          0.020782636707898185,
          0.019270093671584637,
          0.018177344543996096,
          0.008914682385052998,
          0.0076752307216254425,
          0.006669027175975192,
          0.005628813154844412,
          0.005068432867496621,
          0.009845824522719522,
          0.0058041965988245,
          0.006826482304592465,
          null,
          null,
          null,
          null,
          null
         ]
        },
        {
         "marker": {
          "color": [
           "#636EFA",
           "#EF553B",
           "#00CC96",
           "#AB63FA",
           "#FFA15A",
           "#19D3F3"
          ],
          "size": 14,
          "symbol": "circle"
         },
         "mode": "markers",
         "name": "Kanonisierte Moderne",
         "showlegend": false,
         "type": "scatter",
         "x": [
          1903,
          1903,
          1903,
          1903
         ],
         "y": [
          0.7964601769911505,
          0.1504424778761062,
          0.05309734513274336
         ]
        },
        {
         "marker": {
          "color": "black",
          "size": 14,
          "symbol": "circle"
         },
         "mode": "markers",
         "name": "Kanonisierte Moderne",
         "type": "scatter",
         "x": [
          null
         ],
         "y": [
          null
         ]
        },
        {
         "marker": {
          "color": [
           "#636EFA",
           "#EF553B",
           "#00CC96",
           "#AB63FA",
           "#FFA15A",
           "#19D3F3"
          ],
          "size": 14,
          "symbol": "square"
         },
         "mode": "markers",
         "name": "Münchhausen-Kreis",
         "showlegend": false,
         "type": "scatter",
         "x": [
          1905,
          1905,
          1905,
          1905
         ],
         "y": [
          0.9071428571428571,
          0.09285714285714286,
          0
         ]
        },
        {
         "marker": {
          "color": "black",
          "size": 14,
          "symbol": "square"
         },
         "mode": "markers",
         "name": "Münchhausen-Kreis",
         "type": "scatter",
         "x": [
          null
         ],
         "y": [
          null
         ]
        }
       ],
       "layout": {
        "font": {
         "color": "black"
        },
        "height": 500,
        "legend": {
         "bordercolor": "black",
         "borderwidth": 1,
         "font": {
          "size": 16
         },
         "traceorder": "normal"
        },
        "paper_bgcolor": "white",
        "plot_bgcolor": "white",
        "template": {
         "data": {
          "bar": [
           {
            "error_x": {
             "color": "#2a3f5f"
            },
            "error_y": {
             "color": "#2a3f5f"
            },
            "marker": {
             "line": {
              "color": "#E5ECF6",
              "width": 0.5
             },
             "pattern": {
              "fillmode": "overlay",
              "size": 10,
              "solidity": 0.2
             }
            },
            "type": "bar"
           }
          ],
          "barpolar": [
           {
            "marker": {
             "line": {
              "color": "#E5ECF6",
              "width": 0.5
             },
             "pattern": {
              "fillmode": "overlay",
              "size": 10,
              "solidity": 0.2
             }
            },
            "type": "barpolar"
           }
          ],
          "carpet": [
           {
            "aaxis": {
             "endlinecolor": "#2a3f5f",
             "gridcolor": "white",
             "linecolor": "white",
             "minorgridcolor": "white",
             "startlinecolor": "#2a3f5f"
            },
            "baxis": {
             "endlinecolor": "#2a3f5f",
             "gridcolor": "white",
             "linecolor": "white",
             "minorgridcolor": "white",
             "startlinecolor": "#2a3f5f"
            },
            "type": "carpet"
           }
          ],
          "choropleth": [
           {
            "colorbar": {
             "outlinewidth": 0,
             "ticks": ""
            },
            "type": "choropleth"
           }
          ],
          "contour": [
           {
            "colorbar": {
             "outlinewidth": 0,
             "ticks": ""
            },
            "colorscale": [
             [
              0,
              "#0d0887"
             ],
             [
              0.1111111111111111,
              "#46039f"
             ],
             [
              0.2222222222222222,
              "#7201a8"
             ],
             [
              0.3333333333333333,
              "#9c179e"
             ],
             [
              0.4444444444444444,
              "#bd3786"
             ],
             [
              0.5555555555555556,
              "#d8576b"
             ],
             [
              0.6666666666666666,
              "#ed7953"
             ],
             [
              0.7777777777777778,
              "#fb9f3a"
             ],
             [
              0.8888888888888888,
              "#fdca26"
             ],
             [
              1,
              "#f0f921"
             ]
            ],
            "type": "contour"
           }
          ],
          "contourcarpet": [
           {
            "colorbar": {
             "outlinewidth": 0,
             "ticks": ""
            },
            "type": "contourcarpet"
           }
          ],
          "heatmap": [
           {
            "colorbar": {
             "outlinewidth": 0,
             "ticks": ""
            },
            "colorscale": [
             [
              0,
              "#0d0887"
             ],
             [
              0.1111111111111111,
              "#46039f"
             ],
             [
              0.2222222222222222,
              "#7201a8"
             ],
             [
              0.3333333333333333,
              "#9c179e"
             ],
             [
              0.4444444444444444,
              "#bd3786"
             ],
             [
              0.5555555555555556,
              "#d8576b"
             ],
             [
              0.6666666666666666,
              "#ed7953"
             ],
             [
              0.7777777777777778,
              "#fb9f3a"
             ],
             [
              0.8888888888888888,
              "#fdca26"
             ],
             [
              1,
              "#f0f921"
             ]
            ],
            "type": "heatmap"
           }
          ],
          "heatmapgl": [
           {
            "colorbar": {
             "outlinewidth": 0,
             "ticks": ""
            },
            "colorscale": [
             [
              0,
              "#0d0887"
             ],
             [
              0.1111111111111111,
              "#46039f"
             ],
             [
              0.2222222222222222,
              "#7201a8"
             ],
             [
              0.3333333333333333,
              "#9c179e"
             ],
             [
              0.4444444444444444,
              "#bd3786"
             ],
             [
              0.5555555555555556,
              "#d8576b"
             ],
             [
              0.6666666666666666,
              "#ed7953"
             ],
             [
              0.7777777777777778,
              "#fb9f3a"
             ],
             [
              0.8888888888888888,
              "#fdca26"
             ],
             [
              1,
              "#f0f921"
             ]
            ],
            "type": "heatmapgl"
           }
          ],
          "histogram": [
           {
            "marker": {
             "pattern": {
              "fillmode": "overlay",
              "size": 10,
              "solidity": 0.2
             }
            },
            "type": "histogram"
           }
          ],
          "histogram2d": [
           {
            "colorbar": {
             "outlinewidth": 0,
             "ticks": ""
            },
            "colorscale": [
             [
              0,
              "#0d0887"
             ],
             [
              0.1111111111111111,
              "#46039f"
             ],
             [
              0.2222222222222222,
              "#7201a8"
             ],
             [
              0.3333333333333333,
              "#9c179e"
             ],
             [
              0.4444444444444444,
              "#bd3786"
             ],
             [
              0.5555555555555556,
              "#d8576b"
             ],
             [
              0.6666666666666666,
              "#ed7953"
             ],
             [
              0.7777777777777778,
              "#fb9f3a"
             ],
             [
              0.8888888888888888,
              "#fdca26"
             ],
             [
              1,
              "#f0f921"
             ]
            ],
            "type": "histogram2d"
           }
          ],
          "histogram2dcontour": [
           {
            "colorbar": {
             "outlinewidth": 0,
             "ticks": ""
            },
            "colorscale": [
             [
              0,
              "#0d0887"
             ],
             [
              0.1111111111111111,
              "#46039f"
             ],
             [
              0.2222222222222222,
              "#7201a8"
             ],
             [
              0.3333333333333333,
              "#9c179e"
             ],
             [
              0.4444444444444444,
              "#bd3786"
             ],
             [
              0.5555555555555556,
              "#d8576b"
             ],
             [
              0.6666666666666666,
              "#ed7953"
             ],
             [
              0.7777777777777778,
              "#fb9f3a"
             ],
             [
              0.8888888888888888,
              "#fdca26"
             ],
             [
              1,
              "#f0f921"
             ]
            ],
            "type": "histogram2dcontour"
           }
          ],
          "mesh3d": [
           {
            "colorbar": {
             "outlinewidth": 0,
             "ticks": ""
            },
            "type": "mesh3d"
           }
          ],
          "parcoords": [
           {
            "line": {
             "colorbar": {
              "outlinewidth": 0,
              "ticks": ""
             }
            },
            "type": "parcoords"
           }
          ],
          "pie": [
           {
            "automargin": true,
            "type": "pie"
           }
          ],
          "scatter": [
           {
            "fillpattern": {
             "fillmode": "overlay",
             "size": 10,
             "solidity": 0.2
            },
            "type": "scatter"
           }
          ],
          "scatter3d": [
           {
            "line": {
             "colorbar": {
              "outlinewidth": 0,
              "ticks": ""
             }
            },
            "marker": {
             "colorbar": {
              "outlinewidth": 0,
              "ticks": ""
             }
            },
            "type": "scatter3d"
           }
          ],
          "scattercarpet": [
           {
            "marker": {
             "colorbar": {
              "outlinewidth": 0,
              "ticks": ""
             }
            },
            "type": "scattercarpet"
           }
          ],
          "scattergeo": [
           {
            "marker": {
             "colorbar": {
              "outlinewidth": 0,
              "ticks": ""
             }
            },
            "type": "scattergeo"
           }
          ],
          "scattergl": [
           {
            "marker": {
             "colorbar": {
              "outlinewidth": 0,
              "ticks": ""
             }
            },
            "type": "scattergl"
           }
          ],
          "scattermapbox": [
           {
            "marker": {
             "colorbar": {
              "outlinewidth": 0,
              "ticks": ""
             }
            },
            "type": "scattermapbox"
           }
          ],
          "scatterpolar": [
           {
            "marker": {
             "colorbar": {
              "outlinewidth": 0,
              "ticks": ""
             }
            },
            "type": "scatterpolar"
           }
          ],
          "scatterpolargl": [
           {
            "marker": {
             "colorbar": {
              "outlinewidth": 0,
              "ticks": ""
             }
            },
            "type": "scatterpolargl"
           }
          ],
          "scatterternary": [
           {
            "marker": {
             "colorbar": {
              "outlinewidth": 0,
              "ticks": ""
             }
            },
            "type": "scatterternary"
           }
          ],
          "surface": [
           {
            "colorbar": {
             "outlinewidth": 0,
             "ticks": ""
            },
            "colorscale": [
             [
              0,
              "#0d0887"
             ],
             [
              0.1111111111111111,
              "#46039f"
             ],
             [
              0.2222222222222222,
              "#7201a8"
             ],
             [
              0.3333333333333333,
              "#9c179e"
             ],
             [
              0.4444444444444444,
              "#bd3786"
             ],
             [
              0.5555555555555556,
              "#d8576b"
             ],
             [
              0.6666666666666666,
              "#ed7953"
             ],
             [
              0.7777777777777778,
              "#fb9f3a"
             ],
             [
              0.8888888888888888,
              "#fdca26"
             ],
             [
              1,
              "#f0f921"
             ]
            ],
            "type": "surface"
           }
          ],
          "table": [
           {
            "cells": {
             "fill": {
              "color": "#EBF0F8"
             },
             "line": {
              "color": "white"
             }
            },
            "header": {
             "fill": {
              "color": "#C8D4E3"
             },
             "line": {
              "color": "white"
             }
            },
            "type": "table"
           }
          ]
         },
         "layout": {
          "annotationdefaults": {
           "arrowcolor": "#2a3f5f",
           "arrowhead": 0,
           "arrowwidth": 1
          },
          "autotypenumbers": "strict",
          "coloraxis": {
           "colorbar": {
            "outlinewidth": 0,
            "ticks": ""
           }
          },
          "colorscale": {
           "diverging": [
            [
             0,
             "#8e0152"
            ],
            [
             0.1,
             "#c51b7d"
            ],
            [
             0.2,
             "#de77ae"
            ],
            [
             0.3,
             "#f1b6da"
            ],
            [
             0.4,
             "#fde0ef"
            ],
            [
             0.5,
             "#f7f7f7"
            ],
            [
             0.6,
             "#e6f5d0"
            ],
            [
             0.7,
             "#b8e186"
            ],
            [
             0.8,
             "#7fbc41"
            ],
            [
             0.9,
             "#4d9221"
            ],
            [
             1,
             "#276419"
            ]
           ],
           "sequential": [
            [
             0,
             "#0d0887"
            ],
            [
             0.1111111111111111,
             "#46039f"
            ],
            [
             0.2222222222222222,
             "#7201a8"
            ],
            [
             0.3333333333333333,
             "#9c179e"
            ],
            [
             0.4444444444444444,
             "#bd3786"
            ],
            [
             0.5555555555555556,
             "#d8576b"
            ],
            [
             0.6666666666666666,
             "#ed7953"
            ],
            [
             0.7777777777777778,
             "#fb9f3a"
            ],
            [
             0.8888888888888888,
             "#fdca26"
            ],
            [
             1,
             "#f0f921"
            ]
           ],
           "sequentialminus": [
            [
             0,
             "#0d0887"
            ],
            [
             0.1111111111111111,
             "#46039f"
            ],
            [
             0.2222222222222222,
             "#7201a8"
            ],
            [
             0.3333333333333333,
             "#9c179e"
            ],
            [
             0.4444444444444444,
             "#bd3786"
            ],
            [
             0.5555555555555556,
             "#d8576b"
            ],
            [
             0.6666666666666666,
             "#ed7953"
            ],
            [
             0.7777777777777778,
             "#fb9f3a"
            ],
            [
             0.8888888888888888,
             "#fdca26"
            ],
            [
             1,
             "#f0f921"
            ]
           ]
          },
          "colorway": [
           "#636efa",
           "#EF553B",
           "#00cc96",
           "#ab63fa",
           "#FFA15A",
           "#19d3f3",
           "#FF6692",
           "#B6E880",
           "#FF97FF",
           "#FECB52"
          ],
          "font": {
           "color": "#2a3f5f"
          },
          "geo": {
           "bgcolor": "white",
           "lakecolor": "white",
           "landcolor": "#E5ECF6",
           "showlakes": true,
           "showland": true,
           "subunitcolor": "white"
          },
          "hoverlabel": {
           "align": "left"
          },
          "hovermode": "closest",
          "mapbox": {
           "style": "light"
          },
          "paper_bgcolor": "white",
          "plot_bgcolor": "#E5ECF6",
          "polar": {
           "angularaxis": {
            "gridcolor": "white",
            "linecolor": "white",
            "ticks": ""
           },
           "bgcolor": "#E5ECF6",
           "radialaxis": {
            "gridcolor": "white",
            "linecolor": "white",
            "ticks": ""
           }
          },
          "scene": {
           "xaxis": {
            "backgroundcolor": "#E5ECF6",
            "gridcolor": "white",
            "gridwidth": 2,
            "linecolor": "white",
            "showbackground": true,
            "ticks": "",
            "zerolinecolor": "white"
           },
           "yaxis": {
            "backgroundcolor": "#E5ECF6",
            "gridcolor": "white",
            "gridwidth": 2,
            "linecolor": "white",
            "showbackground": true,
            "ticks": "",
            "zerolinecolor": "white"
           },
           "zaxis": {
            "backgroundcolor": "#E5ECF6",
            "gridcolor": "white",
            "gridwidth": 2,
            "linecolor": "white",
            "showbackground": true,
            "ticks": "",
            "zerolinecolor": "white"
           }
          },
          "shapedefaults": {
           "line": {
            "color": "#2a3f5f"
           }
          },
          "ternary": {
           "aaxis": {
            "gridcolor": "white",
            "linecolor": "white",
            "ticks": ""
           },
           "baxis": {
            "gridcolor": "white",
            "linecolor": "white",
            "ticks": ""
           },
           "bgcolor": "#E5ECF6",
           "caxis": {
            "gridcolor": "white",
            "linecolor": "white",
            "ticks": ""
           }
          },
          "title": {
           "x": 0.05
          },
          "xaxis": {
           "automargin": true,
           "gridcolor": "white",
           "linecolor": "white",
           "ticks": "",
           "title": {
            "standoff": 15
           },
           "zerolinecolor": "white",
           "zerolinewidth": 2
          },
          "yaxis": {
           "automargin": true,
           "gridcolor": "white",
           "linecolor": "white",
           "ticks": "",
           "title": {
            "standoff": 15
           },
           "zerolinecolor": "white",
           "zerolinewidth": 2
          }
         }
        },
        "width": 900,
        "xaxis": {
         "autorange": true,
         "color": "black",
         "gridcolor": "white",
         "range": [
          1850,
          1918
         ],
         "showgrid": false,
         "tickfont": {
          "size": 16
         },
         "title": {
          "font": {
           "size": 16
          }
         },
         "type": "linear"
        },
        "yaxis": {
         "autorange": true,
         "color": "black",
         "gridcolor": "lightgray",
         "range": [
          -0.08300105624504885,
          0.990143913387906
         ],
         "tickfont": {
          "size": 16
         },
         "title": {
          "font": {
           "size": 16
          },
          "text": "Anteil an Texten"
         },
         "type": "linear",
         "zerolinecolor": "lightgray"
        }
       }
      },
      "image/png": "[encoded data removed]",
      "text/html": [
       "<div>                            <div id=\"cc8cad78-0418-4fd3-987f-03f3e7899fa6\" class=\"plotly-graph-div\" style=\"height:500px; width:900px;\"></div>            <script type=\"text/javascript\">                require([\"plotly\"], function(Plotly) {                    window.PLOTLYENV=window.PLOTLYENV || {};                                    if (document.getElementById(\"cc8cad78-0418-4fd3-987f-03f3e7899fa6\")) {                    Plotly.newPlot(                        \"cc8cad78-0418-4fd3-987f-03f3e7899fa6\",                        [{\"line\":{\"color\":\"#636EFA\",\"width\":6},\"mode\":\"lines\",\"name\":\"in hohem Maß konkret\",\"x\":[1850,1851,1852,1853,1854,1855,1856,1857,1858,1859,1860,1861,1862,1863,1864,1865,1866,1867,1868,1869,1870,1871,1872,1873,1874,1875,1876,1877,1878,1879,1880,1881,1882,1883,1884,1885,1886,1887,1888,1889,1890,1891,1892,1893,1894,1895,1896,1897,1898,1899,1900,1901,1902,1903,1904,1905,1906,1907,1908,1909,1910,1911,1912,1913,1914,1915,1916,1917,1918],\"y\":[null,null,null,null,null,0.8354562301158243,0.8470129328762284,0.8431697312192316,0.850936626427116,0.855128271332849,0.8676835150040519,0.8624911475068506,0.8487272333389456,0.8524545677999176,0.8529714808300862,0.8313588753484465,0.8083606584912598,0.7940444177489148,0.7882480880446895,0.7754155516541599,0.7686852918267593,0.7618630980689137,0.7612780879548,0.7721509801071068,0.789391646245132,0.7908272171585311,0.8164089045593123,0.8425794775706975,0.8471422176635941,0.8492413661179048,0.8401429421521955,0.8347538695960155,0.8408673105252467,0.8264705834478359,0.82509288150121,0.8115621342649691,0.8079861701671953,0.8100015610000264,0.8045013318771083,0.8040677113402014,0.8066909302146967,0.815685847907648,0.7949808242093345,0.7766173669332396,0.778670766553607,0.7555843239587238,0.7385892153986835,0.7324873182767596,0.74147520231958,0.7399757417692593,0.7633136823524669,0.7694105773897132,0.7920129451500759,0.8467090899869927,0.864982325806624,0.8742156422530257,0.8774060853207271,0.8865856780525936,0.8735660153735301,0.856858907861226,0.8600517968926907,0.8406375323334674,0.8447708289794528,0.8161296826846469,null,null,null,null,null],\"type\":\"scatter\"},{\"line\":{\"color\":\"#EF553B\",\"width\":6},\"mode\":\"lines\",\"name\":\"in mittlerem Maß konkret\",\"x\":[1850,1851,1852,1853,1854,1855,1856,1857,1858,1859,1860,1861,1862,1863,1864,1865,1866,1867,1868,1869,1870,1871,1872,1873,1874,1875,1876,1877,1878,1879,1880,1881,1882,1883,1884,1885,1886,1887,1888,1889,1890,1891,1892,1893,1894,1895,1896,1897,1898,1899,1900,1901,1902,1903,1904,1905,1906,1907,1908,1909,1910,1911,1912,1913,1914,1915,1916,1917,1918],\"y\":[null,null,null,null,null,0.15221728784780295,0.1448929213927994,0.1477781865601668,0.14338847712925448,0.1391163121517704,0.1255141191908734,0.1263309228039172,0.1373480822752553,0.1323458548112355,0.13094953640797588,0.15270533904017752,0.17474381886399928,0.18961219107297067,0.19772295189254133,0.20941172436520453,0.21828387390280943,0.22678034401185365,0.23084103432488742,0.21936291980877465,0.20104323664728804,0.19928834989695718,0.16798433140827856,0.14258701531973686,0.1374854638810761,0.13509852477948242,0.1457257051688684,0.15011659180462272,0.14474796404965903,0.15963437404477418,0.16424987311883252,0.17637108469367332,0.17786119050253527,0.18260571799260314,0.1873117219388316,0.18617607272675965,0.18236327330013252,0.1726705980693669,0.19391702256941978,0.21323992557788476,0.21113248900720283,0.22475034802998378,0.24389799791328215,0.25337063186133885,0.242466128883979,0.24057037887755875,0.21644465510782163,0.2068407415279758,0.18632053295647133,0.1325082733051092,0.1157475805217913,0.10760701320297804,0.11367923229421995,0.10573909122578101,0.11976495745049483,0.13751227898392923,0.13487977023981274,0.14951664314381313,0.14942497442172267,0.17704383501076068,null,null,null,null,null],\"type\":\"scatter\"},{\"line\":{\"color\":\"#00CC96\",\"width\":6},\"mode\":\"lines\",\"name\":\"in geringem Maß\\u002f\\u003cbr\\u003egar nicht konkret\",\"x\":[1850,1851,1852,1853,1854,1855,1856,1857,1858,1859,1860,1861,1862,1863,1864,1865,1866,1867,1868,1869,1870,1871,1872,1873,1874,1875,1876,1877,1878,1879,1880,1881,1882,1883,1884,1885,1886,1887,1888,1889,1890,1891,1892,1893,1894,1895,1896,1897,1898,1899,1900,1901,1902,1903,1904,1905,1906,1907,1908,1909,1910,1911,1912,1913,1914,1915,1916,1917,1918],\"y\":[null,null,null,null,null,0.012326482036372731,0.008094145730972375,0.009052082220601512,0.005674896443629394,0.00575541651538072,0.0068023658050748335,0.01117792968923226,0.013924684385798972,0.015199577388846688,0.01607898276193781,0.015935785611375857,0.01689552264474122,0.01634339117811464,0.01402896006276931,0.015172723980635844,0.013030834270431004,0.011356557919232846,0.007880877720312748,0.00848610008411836,0.009565117107580031,0.009884432944511797,0.015606764032409147,0.014833507109565703,0.01537231845532982,0.015660109102613003,0.014131352678936412,0.015129538599361964,0.014384725425094348,0.013895042507389913,0.0106572453799576,0.012066781041357529,0.014152639330269242,0.007392721007370361,0.00818694618406014,0.009756215933038971,0.01094579648517081,0.011643554022985109,0.011102153221245664,0.010142707488875772,0.0101967444391901,0.01966532801129218,0.01751278668803438,0.01414204986190149,0.016058668796440995,0.019453879353181935,0.020241662539711446,0.023748681082310867,0.021666521893452754,0.020782636707898185,0.019270093671584637,0.018177344543996096,0.008914682385052998,0.0076752307216254425,0.006669027175975192,0.005628813154844412,0.005068432867496621,0.009845824522719522,0.0058041965988245,0.006826482304592465,null,null,null,null,null],\"type\":\"scatter\"},{\"marker\":{\"color\":[\"#636EFA\",\"#EF553B\",\"#00CC96\",\"#AB63FA\",\"#FFA15A\",\"#19D3F3\"],\"size\":14,\"symbol\":\"circle\"},\"mode\":\"markers\",\"name\":\"Kanonisierte Moderne\",\"showlegend\":false,\"x\":[1903.0,1903.0,1903.0,1903.0],\"y\":[0.7964601769911505,0.1504424778761062,0.05309734513274336],\"type\":\"scatter\"},{\"marker\":{\"color\":\"black\",\"size\":14,\"symbol\":\"circle\"},\"mode\":\"markers\",\"name\":\"Kanonisierte Moderne\",\"x\":[null],\"y\":[null],\"type\":\"scatter\"},{\"marker\":{\"color\":[\"#636EFA\",\"#EF553B\",\"#00CC96\",\"#AB63FA\",\"#FFA15A\",\"#19D3F3\"],\"size\":14,\"symbol\":\"square\"},\"mode\":\"markers\",\"name\":\"Münchhausen-Kreis\",\"showlegend\":false,\"x\":[1905.0,1905.0,1905.0,1905.0],\"y\":[0.9071428571428571,0.09285714285714286,0.0],\"type\":\"scatter\"},{\"marker\":{\"color\":\"black\",\"size\":14,\"symbol\":\"square\"},\"mode\":\"markers\",\"name\":\"Münchhausen-Kreis\",\"x\":[null],\"y\":[null],\"type\":\"scatter\"}],                        {\"template\":{\"data\":{\"histogram2dcontour\":[{\"type\":\"histogram2dcontour\",\"colorbar\":{\"outlinewidth\":0,\"ticks\":\"\"},\"colorscale\":[[0.0,\"#0d0887\"],[0.1111111111111111,\"#46039f\"],[0.2222222222222222,\"#7201a8\"],[0.3333333333333333,\"#9c179e\"],[0.4444444444444444,\"#bd3786\"],[0.5555555555555556,\"#d8576b\"],[0.6666666666666666,\"#ed7953\"],[0.7777777777777778,\"#fb9f3a\"],[0.8888888888888888,\"#fdca26\"],[1.0,\"#f0f921\"]]}],\"choropleth\":[{\"type\":\"choropleth\",\"colorbar\":{\"outlinewidth\":0,\"ticks\":\"\"}}],\"histogram2d\":[{\"type\":\"histogram2d\",\"colorbar\":{\"outlinewidth\":0,\"ticks\":\"\"},\"colorscale\":[[0.0,\"#0d0887\"],[0.1111111111111111,\"#46039f\"],[0.2222222222222222,\"#7201a8\"],[0.3333333333333333,\"#9c179e\"],[0.4444444444444444,\"#bd3786\"],[0.5555555555555556,\"#d8576b\"],[0.6666666666666666,\"#ed7953\"],[0.7777777777777778,\"#fb9f3a\"],[0.8888888888888888,\"#fdca26\"],[1.0,\"#f0f921\"]]}],\"heatmap\":[{\"type\":\"heatmap\",\"colorbar\":{\"outlinewidth\":0,\"ticks\":\"\"},\"colorscale\":[[0.0,\"#0d0887\"],[0.1111111111111111,\"#46039f\"],[0.2222222222222222,\"#7201a8\"],[0.3333333333333333,\"#9c179e\"],[0.4444444444444444,\"#bd3786\"],[0.5555555555555556,\"#d8576b\"],[0.6666666666666666,\"#ed7953\"],[0.7777777777777778,\"#fb9f3a\"],[0.8888888888888888,\"#fdca26\"],[1.0,\"#f0f921\"]]}],\"heatmapgl\":[{\"type\":\"heatmapgl\",\"colorbar\":{\"outlinewidth\":0,\"ticks\":\"\"},\"colorscale\":[[0.0,\"#0d0887\"],[0.1111111111111111,\"#46039f\"],[0.2222222222222222,\"#7201a8\"],[0.3333333333333333,\"#9c179e\"],[0.4444444444444444,\"#bd3786\"],[0.5555555555555556,\"#d8576b\"],[0.6666666666666666,\"#ed7953\"],[0.7777777777777778,\"#fb9f3a\"],[0.8888888888888888,\"#fdca26\"],[1.0,\"#f0f921\"]]}],\"contourcarpet\":[{\"type\":\"contourcarpet\",\"colorbar\":{\"outlinewidth\":0,\"ticks\":\"\"}}],\"contour\":[{\"type\":\"contour\",\"colorbar\":{\"outlinewidth\":0,\"ticks\":\"\"},\"colorscale\":[[0.0,\"#0d0887\"],[0.1111111111111111,\"#46039f\"],[0.2222222222222222,\"#7201a8\"],[0.3333333333333333,\"#9c179e\"],[0.4444444444444444,\"#bd3786\"],[0.5555555555555556,\"#d8576b\"],[0.6666666666666666,\"#ed7953\"],[0.7777777777777778,\"#fb9f3a\"],[0.8888888888888888,\"#fdca26\"],[1.0,\"#f0f921\"]]}],\"surface\":[{\"type\":\"surface\",\"colorbar\":{\"outlinewidth\":0,\"ticks\":\"\"},\"colorscale\":[[0.0,\"#0d0887\"],[0.1111111111111111,\"#46039f\"],[0.2222222222222222,\"#7201a8\"],[0.3333333333333333,\"#9c179e\"],[0.4444444444444444,\"#bd3786\"],[0.5555555555555556,\"#d8576b\"],[0.6666666666666666,\"#ed7953\"],[0.7777777777777778,\"#fb9f3a\"],[0.8888888888888888,\"#fdca26\"],[1.0,\"#f0f921\"]]}],\"mesh3d\":[{\"type\":\"mesh3d\",\"colorbar\":{\"outlinewidth\":0,\"ticks\":\"\"}}],\"scatter\":[{\"fillpattern\":{\"fillmode\":\"overlay\",\"size\":10,\"solidity\":0.2},\"type\":\"scatter\"}],\"parcoords\":[{\"type\":\"parcoords\",\"line\":{\"colorbar\":{\"outlinewidth\":0,\"ticks\":\"\"}}}],\"scatterpolargl\":[{\"type\":\"scatterpolargl\",\"marker\":{\"colorbar\":{\"outlinewidth\":0,\"ticks\":\"\"}}}],\"bar\":[{\"error_x\":{\"color\":\"#2a3f5f\"},\"error_y\":{\"color\":\"#2a3f5f\"},\"marker\":{\"line\":{\"color\":\"#E5ECF6\",\"width\":0.5},\"pattern\":{\"fillmode\":\"overlay\",\"size\":10,\"solidity\":0.2}},\"type\":\"bar\"}],\"scattergeo\":[{\"type\":\"scattergeo\",\"marker\":{\"colorbar\":{\"outlinewidth\":0,\"ticks\":\"\"}}}],\"scatterpolar\":[{\"type\":\"scatterpolar\",\"marker\":{\"colorbar\":{\"outlinewidth\":0,\"ticks\":\"\"}}}],\"histogram\":[{\"marker\":{\"pattern\":{\"fillmode\":\"overlay\",\"size\":10,\"solidity\":0.2}},\"type\":\"histogram\"}],\"scattergl\":[{\"type\":\"scattergl\",\"marker\":{\"colorbar\":{\"outlinewidth\":0,\"ticks\":\"\"}}}],\"scatter3d\":[{\"type\":\"scatter3d\",\"line\":{\"colorbar\":{\"outlinewidth\":0,\"ticks\":\"\"}},\"marker\":{\"colorbar\":{\"outlinewidth\":0,\"ticks\":\"\"}}}],\"scattermapbox\":[{\"type\":\"scattermapbox\",\"marker\":{\"colorbar\":{\"outlinewidth\":0,\"ticks\":\"\"}}}],\"scatterternary\":[{\"type\":\"scatterternary\",\"marker\":{\"colorbar\":{\"outlinewidth\":0,\"ticks\":\"\"}}}],\"scattercarpet\":[{\"type\":\"scattercarpet\",\"marker\":{\"colorbar\":{\"outlinewidth\":0,\"ticks\":\"\"}}}],\"carpet\":[{\"aaxis\":{\"endlinecolor\":\"#2a3f5f\",\"gridcolor\":\"white\",\"linecolor\":\"white\",\"minorgridcolor\":\"white\",\"startlinecolor\":\"#2a3f5f\"},\"baxis\":{\"endlinecolor\":\"#2a3f5f\",\"gridcolor\":\"white\",\"linecolor\":\"white\",\"minorgridcolor\":\"white\",\"startlinecolor\":\"#2a3f5f\"},\"type\":\"carpet\"}],\"table\":[{\"cells\":{\"fill\":{\"color\":\"#EBF0F8\"},\"line\":{\"color\":\"white\"}},\"header\":{\"fill\":{\"color\":\"#C8D4E3\"},\"line\":{\"color\":\"white\"}},\"type\":\"table\"}],\"barpolar\":[{\"marker\":{\"line\":{\"color\":\"#E5ECF6\",\"width\":0.5},\"pattern\":{\"fillmode\":\"overlay\",\"size\":10,\"solidity\":0.2}},\"type\":\"barpolar\"}],\"pie\":[{\"automargin\":true,\"type\":\"pie\"}]},\"layout\":{\"autotypenumbers\":\"strict\",\"colorway\":[\"#636efa\",\"#EF553B\",\"#00cc96\",\"#ab63fa\",\"#FFA15A\",\"#19d3f3\",\"#FF6692\",\"#B6E880\",\"#FF97FF\",\"#FECB52\"],\"font\":{\"color\":\"#2a3f5f\"},\"hovermode\":\"closest\",\"hoverlabel\":{\"align\":\"left\"},\"paper_bgcolor\":\"white\",\"plot_bgcolor\":\"#E5ECF6\",\"polar\":{\"bgcolor\":\"#E5ECF6\",\"angularaxis\":{\"gridcolor\":\"white\",\"linecolor\":\"white\",\"ticks\":\"\"},\"radialaxis\":{\"gridcolor\":\"white\",\"linecolor\":\"white\",\"ticks\":\"\"}},\"ternary\":{\"bgcolor\":\"#E5ECF6\",\"aaxis\":{\"gridcolor\":\"white\",\"linecolor\":\"white\",\"ticks\":\"\"},\"baxis\":{\"gridcolor\":\"white\",\"linecolor\":\"white\",\"ticks\":\"\"},\"caxis\":{\"gridcolor\":\"white\",\"linecolor\":\"white\",\"ticks\":\"\"}},\"coloraxis\":{\"colorbar\":{\"outlinewidth\":0,\"ticks\":\"\"}},\"colorscale\":{\"sequential\":[[0.0,\"#0d0887\"],[0.1111111111111111,\"#46039f\"],[0.2222222222222222,\"#7201a8\"],[0.3333333333333333,\"#9c179e\"],[0.4444444444444444,\"#bd3786\"],[0.5555555555555556,\"#d8576b\"],[0.6666666666666666,\"#ed7953\"],[0.7777777777777778,\"#fb9f3a\"],[0.8888888888888888,\"#fdca26\"],[1.0,\"#f0f921\"]],\"sequentialminus\":[[0.0,\"#0d0887\"],[0.1111111111111111,\"#46039f\"],[0.2222222222222222,\"#7201a8\"],[0.3333333333333333,\"#9c179e\"],[0.4444444444444444,\"#bd3786\"],[0.5555555555555556,\"#d8576b\"],[0.6666666666666666,\"#ed7953\"],[0.7777777777777778,\"#fb9f3a\"],[0.8888888888888888,\"#fdca26\"],[1.0,\"#f0f921\"]],\"diverging\":[[0,\"#8e0152\"],[0.1,\"#c51b7d\"],[0.2,\"#de77ae\"],[0.3,\"#f1b6da\"],[0.4,\"#fde0ef\"],[0.5,\"#f7f7f7\"],[0.6,\"#e6f5d0\"],[0.7,\"#b8e186\"],[0.8,\"#7fbc41\"],[0.9,\"#4d9221\"],[1,\"#276419\"]]},\"xaxis\":{\"gridcolor\":\"white\",\"linecolor\":\"white\",\"ticks\":\"\",\"title\":{\"standoff\":15},\"zerolinecolor\":\"white\",\"automargin\":true,\"zerolinewidth\":2},\"yaxis\":{\"gridcolor\":\"white\",\"linecolor\":\"white\",\"ticks\":\"\",\"title\":{\"standoff\":15},\"zerolinecolor\":\"white\",\"automargin\":true,\"zerolinewidth\":2},\"scene\":{\"xaxis\":{\"backgroundcolor\":\"#E5ECF6\",\"gridcolor\":\"white\",\"linecolor\":\"white\",\"showbackground\":true,\"ticks\":\"\",\"zerolinecolor\":\"white\",\"gridwidth\":2},\"yaxis\":{\"backgroundcolor\":\"#E5ECF6\",\"gridcolor\":\"white\",\"linecolor\":\"white\",\"showbackground\":true,\"ticks\":\"\",\"zerolinecolor\":\"white\",\"gridwidth\":2},\"zaxis\":{\"backgroundcolor\":\"#E5ECF6\",\"gridcolor\":\"white\",\"linecolor\":\"white\",\"showbackground\":true,\"ticks\":\"\",\"zerolinecolor\":\"white\",\"gridwidth\":2}},\"shapedefaults\":{\"line\":{\"color\":\"#2a3f5f\"}},\"annotationdefaults\":{\"arrowcolor\":\"#2a3f5f\",\"arrowhead\":0,\"arrowwidth\":1},\"geo\":{\"bgcolor\":\"white\",\"landcolor\":\"#E5ECF6\",\"subunitcolor\":\"white\",\"showland\":true,\"showlakes\":true,\"lakecolor\":\"white\"},\"title\":{\"x\":0.05},\"mapbox\":{\"style\":\"light\"}}},\"xaxis\":{\"tickfont\":{\"size\":16},\"title\":{\"font\":{\"size\":16}},\"color\":\"black\",\"gridcolor\":\"white\",\"showgrid\":false},\"yaxis\":{\"tickfont\":{\"size\":16},\"title\":{\"text\":\"Anteil an Texten\",\"font\":{\"size\":16}},\"color\":\"black\",\"gridcolor\":\"lightgray\",\"zerolinecolor\":\"lightgray\"},\"legend\":{\"font\":{\"size\":16},\"traceorder\":\"normal\",\"bordercolor\":\"black\",\"borderwidth\":1},\"width\":900,\"height\":500,\"font\":{\"color\":\"black\"},\"plot_bgcolor\":\"white\",\"paper_bgcolor\":\"white\"},                        {\"responsive\": true}                    ).then(function(){\n",
       "                            \n",
       "var gd = document.getElementById('cc8cad78-0418-4fd3-987f-03f3e7899fa6');\n",
       "var x = new MutationObserver(function (mutations, observer) {{\n",
       "        var display = window.getComputedStyle(gd).display;\n",
       "        if (!display || display === 'none') {{\n",
       "            console.log([gd, 'removed!']);\n",
       "            Plotly.purge(gd);\n",
       "            observer.disconnect();\n",
       "        }}\n",
       "}});\n",
       "\n",
       "// Listen for the removal of the full notebook cells\n",
       "var notebookContainer = gd.closest('#notebook-container');\n",
       "if (notebookContainer) {{\n",
       "    x.observe(notebookContainer, {childList: true});\n",
       "}}\n",
       "\n",
       "// Listen for the clearing of the current output cell\n",
       "var outputEl = gd.closest('.output');\n",
       "if (outputEl) {{\n",
       "    x.observe(outputEl, {childList: true});\n",
       "}}\n",
       "\n",
       "                        })                };                });            </script>        </div>"
      ]
     },
     "metadata": {},
     "output_type": "display_data"
    }
   ],
   "source": [
    "meta_plot = ts[[\n",
    "    'konkret_high_share_smoothed', \n",
    "    'konkret_med_share_smoothed', \n",
    "    'konkret_low_share_smoothed',\n",
    "]]\n",
    "meta_plot.columns = [\n",
    "    'in hohem Maß konkret', \n",
    "    'in mittlerem Maß konkret', \n",
    "    'in geringem Maß/<br>gar nicht konkret',\n",
    "]\n",
    "save_ts_data(meta_plot, prefix='06_10_Konkretheit_')\n",
    "\n",
    "fig = create_ts_plot(\n",
    "    data = meta_plot, \n",
    "    columns = meta_plot.columns, \n",
    "    y_axis_title = 'Anteil an Texten',\n",
    "    add_corporas = sub_df, add_corpora_names = sub_names,\n",
    "    add_corpora_categories = ['konkret_high', 'konkret_med', 'konkret_low',]\n",
    ")\n",
    "fig = update_fig_for_publication(fig)\n",
    "fig.write_image(f\"plots/6.10 Konkretheit im Zeitverlauf.pdf\")\n",
    "fig.show()"
   ]
  },
  {
   "cell_type": "code",
   "execution_count": 13,
   "id": "c3c5d6fd",
   "metadata": {},
   "outputs": [
    {
     "name": "stdout",
     "output_type": "stream",
     "text": [
      "krieg_gegenwart         0   1\n",
      "in_hohem_mass_konkret        \n",
      "0                      20  20\n",
      "1                      45  24\n",
      "\n",
      "\n",
      "chi2   : 1.8447016887098413\n",
      "chi2 p : 0.17440087889051595\n",
      "phi    : 0.14948985918580535\n"
     ]
    }
   ],
   "source": [
    "# Texte 1870/71\n",
    "meta_1870 = meta_anth_bin.query(\"1870 <= year <= 1871\").copy()\n",
    "meta_1870['krieg_gegenwart'] = [1 if x == 1 and y == 1 else 0 for x, y in zip(meta_1870['krieg'], meta_1870['gegenwartsdominant'])]\n",
    "contingency_table = pd.crosstab(meta_1870['in_hohem_mass_konkret'], meta_1870['krieg_gegenwart'])\n",
    "\n",
    "print(contingency_table)\n",
    "print(\"\\n\")\n",
    "print(f\"chi2   : {chi2_contingency(contingency_table)[0]}\")\n",
    "print(f\"chi2 p : {chi2_contingency(contingency_table)[1]}\")\n",
    "print(f\"phi    : {get_phi(np.array(contingency_table))}\")"
   ]
  },
  {
   "cell_type": "code",
   "execution_count": 14,
   "id": "f21e516e",
   "metadata": {},
   "outputs": [
    {
     "name": "stdout",
     "output_type": "stream",
     "text": [
      "wilhelm_bismarck        0   1\n",
      "in_hohem_mass_konkret        \n",
      "0                       4  10\n",
      "1                      16   1\n",
      "fisher   : 0.025\n",
      "fisher p : 0.0003514371846334897\n",
      "phi      : 0.6817494235765679\n",
      "\n",
      "\n"
     ]
    }
   ],
   "source": [
    "# Texte 1897/98\n",
    "meta_1870 = meta_anth_bin.query(\"1897 <= year <= 1898\").copy()\n",
    "meta_1870['wilhelm_bismarck'] = [1 if 'Wilhelm I.' in x or 'Bismarck' in x else 0 for x in meta_1870['entity_full']]\n",
    "contingency_table = pd.crosstab(meta_1870['in_hohem_mass_konkret'], meta_1870['wilhelm_bismarck'])\n",
    "\n",
    "print(contingency_table)\n",
    "print(f\"fisher   : {fisher_exact(contingency_table)[0]}\")\n",
    "print(f\"fisher p : {fisher_exact(contingency_table)[1]}\")\n",
    "print(f\"phi      : {get_phi(np.array(contingency_table))}\")\n",
    "print(\"\\n\")"
   ]
  },
  {
   "cell_type": "code",
   "execution_count": 15,
   "id": "cdad71a6",
   "metadata": {},
   "outputs": [
    {
     "name": "stdout",
     "output_type": "stream",
     "text": [
      "krieg_gegenwart         0   1\n",
      "in_hohem_mass_konkret        \n",
      "0                       6   6\n",
      "1                      28  10\n",
      "\n",
      "\n",
      "fisher   : 0.35714285714285715\n",
      "fisher p : 0.16267853155304496\n",
      "phi      : 0.21684124109359199\n"
     ]
    }
   ],
   "source": [
    "# Texte 1914/18\n",
    "meta_1870 = meta_anth_bin.query(\"1914 <= year <= 1918\").copy()\n",
    "meta_1870['krieg_gegenwart'] = [1 if x == 1 and y == 1 else 0 for x, y in zip(meta_1870['krieg'], meta_1870['gegenwartsdominant'])]\n",
    "contingency_table = pd.crosstab(meta_1870['in_hohem_mass_konkret'], meta_1870['krieg_gegenwart'])\n",
    "\n",
    "print(contingency_table)\n",
    "print(\"\\n\")\n",
    "print(f\"fisher   : {fisher_exact(contingency_table)[0]}\")\n",
    "print(f\"fisher p : {fisher_exact(contingency_table)[1]}\")\n",
    "print(f\"phi      : {get_phi(np.array(contingency_table))}\")"
   ]
  },
  {
   "cell_type": "code",
   "execution_count": 16,
   "id": "343cf3a2",
   "metadata": {},
   "outputs": [],
   "source": [
    "main_feature = 'in_hohem_mass_konkret'"
   ]
  },
  {
   "cell_type": "code",
   "execution_count": 17,
   "id": "5ba538ef",
   "metadata": {},
   "outputs": [
    {
     "data": {
      "text/plain": [
       "in_hohem_mass_konkret             1.000000\n",
       "konkretheit                       0.965483\n",
       "wissen_ergaenzend                 0.457554\n",
       "sprechakt_erzaehlen_vorhanden     0.449825\n",
       "ballade                           0.430865\n",
       "ereignis                          0.352042\n",
       "kleinraum_count                   0.262803\n",
       "entity_count                      0.226377\n",
       "unbekanntes_individuum_count      0.189940\n",
       "entity_neutral                    0.188081\n",
       "words                             0.171297\n",
       "unbekanntes_individuum_positiv    0.147521\n",
       "stoffgebiet_neutral               0.135998\n",
       "nation_volk_d_negativ             0.127923\n",
       "bekanntes_individuum_count        0.119686\n",
       "geschichtsauffassung_negativ      0.115221\n",
       "empirisch                         0.110304\n",
       "mittelalter                       0.104597\n",
       "objektmarker_vorhanden            0.101310\n",
       "fixierbarkeit                     0.097138\n",
       "Name: in_hohem_mass_konkret, dtype: float64"
      ]
     },
     "execution_count": 17,
     "metadata": {},
     "output_type": "execute_result"
    }
   ],
   "source": [
    "meta_anth_bin.corr(numeric_only=True)[main_feature].sort_values(ascending = False).head(20)"
   ]
  },
  {
   "cell_type": "code",
   "execution_count": 18,
   "id": "9be51188",
   "metadata": {},
   "outputs": [
    {
     "data": {
      "text/plain": [
       "wissen_identisch                       -0.596218\n",
       "sprechakt_behaupten_vorhanden          -0.496733\n",
       "zustand                                -0.386812\n",
       "nogenre                                -0.354197\n",
       "gegenwartsbezug                        -0.306742\n",
       "sprechinstanz_nicht_in_vergangenheit   -0.286401\n",
       "sprechinstanz_markiert                 -0.271703\n",
       "liebe_positiv                          -0.256277\n",
       "nationalismus                          -0.244200\n",
       "sprechakte_count                       -0.241797\n",
       "wissen                                 -0.220195\n",
       "ueberlieferung_positiv                 -0.201473\n",
       "gegenwartsdominant                     -0.196716\n",
       "theoretisch                            -0.186357\n",
       "sonett                                 -0.164711\n",
       "ueberlieferung                         -0.162480\n",
       "sprechakt_beschreiben_vorhanden        -0.162004\n",
       "nation_volk_d                          -0.153661\n",
       "zeitebenen                             -0.147513\n",
       "futur_vorhanden                        -0.144724\n",
       "Name: in_hohem_mass_konkret, dtype: float64"
      ]
     },
     "execution_count": 18,
     "metadata": {},
     "output_type": "execute_result"
    }
   ],
   "source": [
    "meta_anth_bin.corr(numeric_only=True)[main_feature].sort_values(ascending = True).head(20)"
   ]
  },
  {
   "cell_type": "code",
   "execution_count": 19,
   "id": "73c19948",
   "metadata": {},
   "outputs": [],
   "source": [
    "threshold = 0.2\n",
    "\n",
    "bin_comp_features = get_features(meta_anth_bin.corr(numeric_only=True)[main_feature], threshold = threshold, mode = 'bin')\n",
    "cont_comp_features = get_features(meta_anth_bin.corr(numeric_only=True)[main_feature], threshold = threshold, mode = 'cont')"
   ]
  },
  {
   "cell_type": "code",
   "execution_count": 20,
   "id": "50175276",
   "metadata": {},
   "outputs": [],
   "source": [
    "results = relations_binbin(\n",
    "    meta = meta_anth_bin, \n",
    "    main_feature = main_feature,\n",
    "    comp_features = bin_comp_features\n",
    ")"
   ]
  },
  {
   "cell_type": "code",
   "execution_count": 21,
   "id": "92a8ecd9-57b6-4830-a31d-197b72354c2a",
   "metadata": {},
   "outputs": [
    {
     "data": {
      "text/html": [
       "<div>\n",
       "<style scoped>\n",
       "    .dataframe tbody tr th:only-of-type {\n",
       "        vertical-align: middle;\n",
       "    }\n",
       "\n",
       "    .dataframe tbody tr th {\n",
       "        vertical-align: top;\n",
       "    }\n",
       "\n",
       "    .dataframe thead th {\n",
       "        text-align: right;\n",
       "    }\n",
       "</style>\n",
       "<table border=\"1\" class=\"dataframe\">\n",
       "  <thead>\n",
       "    <tr style=\"text-align: right;\">\n",
       "      <th></th>\n",
       "      <th>wenn_nicht</th>\n",
       "      <th>wenn_nicht_detail</th>\n",
       "      <th>wenn_ja</th>\n",
       "      <th>wenn_ja_detail</th>\n",
       "      <th>diff_low_bootstrap</th>\n",
       "      <th>diff_low</th>\n",
       "      <th>diff</th>\n",
       "      <th>diff_high</th>\n",
       "      <th>diff_high_bootstrap</th>\n",
       "      <th>chi2</th>\n",
       "      <th>chi2_p</th>\n",
       "      <th>fisher_p</th>\n",
       "      <th>phi</th>\n",
       "      <th>min_real</th>\n",
       "      <th>min_expected</th>\n",
       "    </tr>\n",
       "  </thead>\n",
       "  <tbody>\n",
       "    <tr>\n",
       "      <th>ballade</th>\n",
       "      <td>0.11</td>\n",
       "      <td>36/337</td>\n",
       "      <td>0.66</td>\n",
       "      <td>1000/1513</td>\n",
       "      <td>0.51</td>\n",
       "      <td>0.51</td>\n",
       "      <td>0.55</td>\n",
       "      <td>0.59</td>\n",
       "      <td>0.59</td>\n",
       "      <td>343.44</td>\n",
       "      <td>0.0</td>\n",
       "      <td>0.0</td>\n",
       "      <td>0.43</td>\n",
       "      <td>36.0</td>\n",
       "      <td>148.28</td>\n",
       "    </tr>\n",
       "    <tr>\n",
       "      <th>wissen_ergaenzend</th>\n",
       "      <td>0.33</td>\n",
       "      <td>110/337</td>\n",
       "      <td>0.84</td>\n",
       "      <td>1273/1513</td>\n",
       "      <td>0.46</td>\n",
       "      <td>0.46</td>\n",
       "      <td>0.51</td>\n",
       "      <td>0.57</td>\n",
       "      <td>0.57</td>\n",
       "      <td>387.31</td>\n",
       "      <td>0.0</td>\n",
       "      <td>0.0</td>\n",
       "      <td>0.46</td>\n",
       "      <td>110.0</td>\n",
       "      <td>85.07</td>\n",
       "    </tr>\n",
       "    <tr>\n",
       "      <th>sprechakt_erzaehlen_vorhanden</th>\n",
       "      <td>0.36</td>\n",
       "      <td>123/337</td>\n",
       "      <td>0.86</td>\n",
       "      <td>1297/1513</td>\n",
       "      <td>0.43</td>\n",
       "      <td>0.44</td>\n",
       "      <td>0.49</td>\n",
       "      <td>0.55</td>\n",
       "      <td>0.55</td>\n",
       "      <td>374.33</td>\n",
       "      <td>0.0</td>\n",
       "      <td>0.0</td>\n",
       "      <td>0.45</td>\n",
       "      <td>123.0</td>\n",
       "      <td>78.33</td>\n",
       "    </tr>\n",
       "    <tr>\n",
       "      <th>ereignis</th>\n",
       "      <td>0.46</td>\n",
       "      <td>156/337</td>\n",
       "      <td>0.84</td>\n",
       "      <td>1277/1513</td>\n",
       "      <td>0.33</td>\n",
       "      <td>0.32</td>\n",
       "      <td>0.38</td>\n",
       "      <td>0.44</td>\n",
       "      <td>0.44</td>\n",
       "      <td>229.28</td>\n",
       "      <td>0.0</td>\n",
       "      <td>0.0</td>\n",
       "      <td>0.35</td>\n",
       "      <td>156.0</td>\n",
       "      <td>75.96</td>\n",
       "    </tr>\n",
       "    <tr>\n",
       "      <th>nationalismus</th>\n",
       "      <td>0.31</td>\n",
       "      <td>106/337</td>\n",
       "      <td>0.10</td>\n",
       "      <td>147/1513</td>\n",
       "      <td>-0.27</td>\n",
       "      <td>-0.27</td>\n",
       "      <td>-0.22</td>\n",
       "      <td>-0.17</td>\n",
       "      <td>-0.17</td>\n",
       "      <td>110.32</td>\n",
       "      <td>0.0</td>\n",
       "      <td>0.0</td>\n",
       "      <td>0.24</td>\n",
       "      <td>106.0</td>\n",
       "      <td>46.09</td>\n",
       "    </tr>\n",
       "    <tr>\n",
       "      <th>ueberlieferung_positiv</th>\n",
       "      <td>0.72</td>\n",
       "      <td>92/128</td>\n",
       "      <td>0.50</td>\n",
       "      <td>152/304</td>\n",
       "      <td>-0.31</td>\n",
       "      <td>-0.31</td>\n",
       "      <td>-0.22</td>\n",
       "      <td>-0.12</td>\n",
       "      <td>-0.13</td>\n",
       "      <td>17.54</td>\n",
       "      <td>0.0</td>\n",
       "      <td>0.0</td>\n",
       "      <td>0.20</td>\n",
       "      <td>36.0</td>\n",
       "      <td>55.70</td>\n",
       "    </tr>\n",
       "    <tr>\n",
       "      <th>sprechinstanz_markiert</th>\n",
       "      <td>0.72</td>\n",
       "      <td>244/337</td>\n",
       "      <td>0.37</td>\n",
       "      <td>567/1513</td>\n",
       "      <td>-0.40</td>\n",
       "      <td>-0.40</td>\n",
       "      <td>-0.35</td>\n",
       "      <td>-0.30</td>\n",
       "      <td>-0.30</td>\n",
       "      <td>136.57</td>\n",
       "      <td>0.0</td>\n",
       "      <td>0.0</td>\n",
       "      <td>0.27</td>\n",
       "      <td>93.0</td>\n",
       "      <td>147.73</td>\n",
       "    </tr>\n",
       "    <tr>\n",
       "      <th>gegenwartsbezug</th>\n",
       "      <td>0.58</td>\n",
       "      <td>197/337</td>\n",
       "      <td>0.22</td>\n",
       "      <td>339/1513</td>\n",
       "      <td>-0.41</td>\n",
       "      <td>-0.42</td>\n",
       "      <td>-0.36</td>\n",
       "      <td>-0.30</td>\n",
       "      <td>-0.30</td>\n",
       "      <td>174.07</td>\n",
       "      <td>0.0</td>\n",
       "      <td>0.0</td>\n",
       "      <td>0.31</td>\n",
       "      <td>140.0</td>\n",
       "      <td>97.64</td>\n",
       "    </tr>\n",
       "    <tr>\n",
       "      <th>nogenre</th>\n",
       "      <td>0.54</td>\n",
       "      <td>183/337</td>\n",
       "      <td>0.16</td>\n",
       "      <td>239/1513</td>\n",
       "      <td>-0.44</td>\n",
       "      <td>-0.44</td>\n",
       "      <td>-0.39</td>\n",
       "      <td>-0.33</td>\n",
       "      <td>-0.32</td>\n",
       "      <td>232.09</td>\n",
       "      <td>0.0</td>\n",
       "      <td>0.0</td>\n",
       "      <td>0.35</td>\n",
       "      <td>154.0</td>\n",
       "      <td>76.87</td>\n",
       "    </tr>\n",
       "    <tr>\n",
       "      <th>zustand</th>\n",
       "      <td>0.82</td>\n",
       "      <td>276/337</td>\n",
       "      <td>0.33</td>\n",
       "      <td>492/1513</td>\n",
       "      <td>-0.54</td>\n",
       "      <td>-0.54</td>\n",
       "      <td>-0.49</td>\n",
       "      <td>-0.45</td>\n",
       "      <td>-0.45</td>\n",
       "      <td>276.80</td>\n",
       "      <td>0.0</td>\n",
       "      <td>0.0</td>\n",
       "      <td>0.39</td>\n",
       "      <td>61.0</td>\n",
       "      <td>139.90</td>\n",
       "    </tr>\n",
       "    <tr>\n",
       "      <th>sprechakt_behaupten_vorhanden</th>\n",
       "      <td>0.60</td>\n",
       "      <td>201/337</td>\n",
       "      <td>0.10</td>\n",
       "      <td>144/1513</td>\n",
       "      <td>-0.55</td>\n",
       "      <td>-0.56</td>\n",
       "      <td>-0.50</td>\n",
       "      <td>-0.45</td>\n",
       "      <td>-0.45</td>\n",
       "      <td>456.48</td>\n",
       "      <td>0.0</td>\n",
       "      <td>0.0</td>\n",
       "      <td>0.50</td>\n",
       "      <td>136.0</td>\n",
       "      <td>62.85</td>\n",
       "    </tr>\n",
       "  </tbody>\n",
       "</table>\n",
       "</div>"
      ],
      "text/plain": [
       "                               wenn_nicht wenn_nicht_detail  wenn_ja  \\\n",
       "ballade                              0.11            36/337     0.66   \n",
       "wissen_ergaenzend                    0.33           110/337     0.84   \n",
       "sprechakt_erzaehlen_vorhanden        0.36           123/337     0.86   \n",
       "ereignis                             0.46           156/337     0.84   \n",
       "nationalismus                        0.31           106/337     0.10   \n",
       "ueberlieferung_positiv               0.72            92/128     0.50   \n",
       "sprechinstanz_markiert               0.72           244/337     0.37   \n",
       "gegenwartsbezug                      0.58           197/337     0.22   \n",
       "nogenre                              0.54           183/337     0.16   \n",
       "zustand                              0.82           276/337     0.33   \n",
       "sprechakt_behaupten_vorhanden        0.60           201/337     0.10   \n",
       "\n",
       "                              wenn_ja_detail  diff_low_bootstrap  diff_low  \\\n",
       "ballade                            1000/1513                0.51      0.51   \n",
       "wissen_ergaenzend                  1273/1513                0.46      0.46   \n",
       "sprechakt_erzaehlen_vorhanden      1297/1513                0.43      0.44   \n",
       "ereignis                           1277/1513                0.33      0.32   \n",
       "nationalismus                       147/1513               -0.27     -0.27   \n",
       "ueberlieferung_positiv               152/304               -0.31     -0.31   \n",
       "sprechinstanz_markiert              567/1513               -0.40     -0.40   \n",
       "gegenwartsbezug                     339/1513               -0.41     -0.42   \n",
       "nogenre                             239/1513               -0.44     -0.44   \n",
       "zustand                             492/1513               -0.54     -0.54   \n",
       "sprechakt_behaupten_vorhanden       144/1513               -0.55     -0.56   \n",
       "\n",
       "                               diff  diff_high  diff_high_bootstrap    chi2  \\\n",
       "ballade                        0.55       0.59                 0.59  343.44   \n",
       "wissen_ergaenzend              0.51       0.57                 0.57  387.31   \n",
       "sprechakt_erzaehlen_vorhanden  0.49       0.55                 0.55  374.33   \n",
       "ereignis                       0.38       0.44                 0.44  229.28   \n",
       "nationalismus                 -0.22      -0.17                -0.17  110.32   \n",
       "ueberlieferung_positiv        -0.22      -0.12                -0.13   17.54   \n",
       "sprechinstanz_markiert        -0.35      -0.30                -0.30  136.57   \n",
       "gegenwartsbezug               -0.36      -0.30                -0.30  174.07   \n",
       "nogenre                       -0.39      -0.33                -0.32  232.09   \n",
       "zustand                       -0.49      -0.45                -0.45  276.80   \n",
       "sprechakt_behaupten_vorhanden -0.50      -0.45                -0.45  456.48   \n",
       "\n",
       "                               chi2_p  fisher_p   phi  min_real  min_expected  \n",
       "ballade                           0.0       0.0  0.43      36.0        148.28  \n",
       "wissen_ergaenzend                 0.0       0.0  0.46     110.0         85.07  \n",
       "sprechakt_erzaehlen_vorhanden     0.0       0.0  0.45     123.0         78.33  \n",
       "ereignis                          0.0       0.0  0.35     156.0         75.96  \n",
       "nationalismus                     0.0       0.0  0.24     106.0         46.09  \n",
       "ueberlieferung_positiv            0.0       0.0  0.20      36.0         55.70  \n",
       "sprechinstanz_markiert            0.0       0.0  0.27      93.0        147.73  \n",
       "gegenwartsbezug                   0.0       0.0  0.31     140.0         97.64  \n",
       "nogenre                           0.0       0.0  0.35     154.0         76.87  \n",
       "zustand                           0.0       0.0  0.39      61.0        139.90  \n",
       "sprechakt_behaupten_vorhanden     0.0       0.0  0.50     136.0         62.85  "
      ]
     },
     "execution_count": 21,
     "metadata": {},
     "output_type": "execute_result"
    }
   ],
   "source": [
    "directly_related = [\n",
    "    'sprechinstanz_nicht_in_vergangenheit', # related to gegenwartsbezug+sprechinstanz_markiert\n",
    "    'wissen_identisch', # related to wissen_ergaenzend\n",
    "]\n",
    "results_filtered = (\n",
    "    results\n",
    "    .query(\"index not in @directly_related\")\n",
    "    .query(\"chi2_p < 0.05 and min_expected >= 5 and phi >= @threshold\")\n",
    "    .sort_values(by = 'diff', ascending = False)\n",
    ")\n",
    "round(results_filtered, 2)"
   ]
  },
  {
   "cell_type": "code",
   "execution_count": 22,
   "id": "515b27f9",
   "metadata": {},
   "outputs": [
    {
     "data": {
      "text/html": [
       "<div>\n",
       "<style scoped>\n",
       "    .dataframe tbody tr th:only-of-type {\n",
       "        vertical-align: middle;\n",
       "    }\n",
       "\n",
       "    .dataframe tbody tr th {\n",
       "        vertical-align: top;\n",
       "    }\n",
       "\n",
       "    .dataframe thead th {\n",
       "        text-align: right;\n",
       "    }\n",
       "</style>\n",
       "<table border=\"1\" class=\"dataframe\">\n",
       "  <thead>\n",
       "    <tr style=\"text-align: right;\">\n",
       "      <th></th>\n",
       "      <th>wenn_nicht</th>\n",
       "      <th>wenn_nicht_detail</th>\n",
       "      <th>wenn_ja</th>\n",
       "      <th>wenn_ja_detail</th>\n",
       "      <th>diff_low_bootstrap</th>\n",
       "      <th>diff_low</th>\n",
       "      <th>diff</th>\n",
       "      <th>diff_high</th>\n",
       "      <th>diff_high_bootstrap</th>\n",
       "      <th>chi2</th>\n",
       "      <th>chi2_p</th>\n",
       "      <th>fisher_p</th>\n",
       "      <th>phi</th>\n",
       "      <th>min_real</th>\n",
       "      <th>min_expected</th>\n",
       "    </tr>\n",
       "  </thead>\n",
       "  <tbody>\n",
       "    <tr>\n",
       "      <th>unbekanntes_individuum_positiv</th>\n",
       "      <td>0.05</td>\n",
       "      <td>1/19</td>\n",
       "      <td>0.35</td>\n",
       "      <td>216/612</td>\n",
       "      <td>0.18</td>\n",
       "      <td>0.19</td>\n",
       "      <td>0.30</td>\n",
       "      <td>0.41</td>\n",
       "      <td>0.38</td>\n",
       "      <td>7.37</td>\n",
       "      <td>0.01</td>\n",
       "      <td>0.01</td>\n",
       "      <td>0.11</td>\n",
       "      <td>1.0</td>\n",
       "      <td>6.53</td>\n",
       "    </tr>\n",
       "    <tr>\n",
       "      <th>entity_neutral</th>\n",
       "      <td>0.17</td>\n",
       "      <td>97/574</td>\n",
       "      <td>0.32</td>\n",
       "      <td>1060/3342</td>\n",
       "      <td>0.11</td>\n",
       "      <td>0.11</td>\n",
       "      <td>0.15</td>\n",
       "      <td>0.18</td>\n",
       "      <td>0.18</td>\n",
       "      <td>51.68</td>\n",
       "      <td>0.00</td>\n",
       "      <td>0.00</td>\n",
       "      <td>0.11</td>\n",
       "      <td>97.0</td>\n",
       "      <td>169.59</td>\n",
       "    </tr>\n",
       "    <tr>\n",
       "      <th>stoffgebiet_neutral</th>\n",
       "      <td>0.08</td>\n",
       "      <td>36/450</td>\n",
       "      <td>0.21</td>\n",
       "      <td>446/2090</td>\n",
       "      <td>0.10</td>\n",
       "      <td>0.10</td>\n",
       "      <td>0.13</td>\n",
       "      <td>0.16</td>\n",
       "      <td>0.16</td>\n",
       "      <td>42.85</td>\n",
       "      <td>0.00</td>\n",
       "      <td>0.00</td>\n",
       "      <td>0.13</td>\n",
       "      <td>36.0</td>\n",
       "      <td>85.39</td>\n",
       "    </tr>\n",
       "    <tr>\n",
       "      <th>kollektiv_negativ</th>\n",
       "      <td>0.21</td>\n",
       "      <td>43/207</td>\n",
       "      <td>0.26</td>\n",
       "      <td>225/857</td>\n",
       "      <td>-0.01</td>\n",
       "      <td>-0.01</td>\n",
       "      <td>0.05</td>\n",
       "      <td>0.12</td>\n",
       "      <td>0.12</td>\n",
       "      <td>2.66</td>\n",
       "      <td>0.10</td>\n",
       "      <td>0.11</td>\n",
       "      <td>0.05</td>\n",
       "      <td>43.0</td>\n",
       "      <td>52.14</td>\n",
       "    </tr>\n",
       "    <tr>\n",
       "      <th>stoffgebiet_negativ</th>\n",
       "      <td>0.17</td>\n",
       "      <td>77/450</td>\n",
       "      <td>0.22</td>\n",
       "      <td>459/2090</td>\n",
       "      <td>0.01</td>\n",
       "      <td>0.01</td>\n",
       "      <td>0.05</td>\n",
       "      <td>0.09</td>\n",
       "      <td>0.08</td>\n",
       "      <td>5.23</td>\n",
       "      <td>0.02</td>\n",
       "      <td>0.02</td>\n",
       "      <td>0.05</td>\n",
       "      <td>77.0</td>\n",
       "      <td>94.96</td>\n",
       "    </tr>\n",
       "    <tr>\n",
       "      <th>bekanntes_individuum_negativ</th>\n",
       "      <td>0.10</td>\n",
       "      <td>30/295</td>\n",
       "      <td>0.14</td>\n",
       "      <td>246/1730</td>\n",
       "      <td>0.00</td>\n",
       "      <td>0.00</td>\n",
       "      <td>0.04</td>\n",
       "      <td>0.08</td>\n",
       "      <td>0.08</td>\n",
       "      <td>3.51</td>\n",
       "      <td>0.06</td>\n",
       "      <td>0.07</td>\n",
       "      <td>0.04</td>\n",
       "      <td>30.0</td>\n",
       "      <td>40.21</td>\n",
       "    </tr>\n",
       "    <tr>\n",
       "      <th>entity_negativ</th>\n",
       "      <td>0.15</td>\n",
       "      <td>85/574</td>\n",
       "      <td>0.17</td>\n",
       "      <td>559/3342</td>\n",
       "      <td>-0.01</td>\n",
       "      <td>-0.01</td>\n",
       "      <td>0.02</td>\n",
       "      <td>0.05</td>\n",
       "      <td>0.05</td>\n",
       "      <td>1.31</td>\n",
       "      <td>0.25</td>\n",
       "      <td>0.27</td>\n",
       "      <td>0.02</td>\n",
       "      <td>85.0</td>\n",
       "      <td>94.40</td>\n",
       "    </tr>\n",
       "    <tr>\n",
       "      <th>stoffgebiet_ambivalent</th>\n",
       "      <td>0.12</td>\n",
       "      <td>53/450</td>\n",
       "      <td>0.14</td>\n",
       "      <td>285/2090</td>\n",
       "      <td>-0.02</td>\n",
       "      <td>-0.01</td>\n",
       "      <td>0.02</td>\n",
       "      <td>0.05</td>\n",
       "      <td>0.05</td>\n",
       "      <td>1.11</td>\n",
       "      <td>0.29</td>\n",
       "      <td>0.32</td>\n",
       "      <td>0.02</td>\n",
       "      <td>53.0</td>\n",
       "      <td>59.88</td>\n",
       "    </tr>\n",
       "    <tr>\n",
       "      <th>entity_ambivalent</th>\n",
       "      <td>0.05</td>\n",
       "      <td>31/574</td>\n",
       "      <td>0.06</td>\n",
       "      <td>213/3342</td>\n",
       "      <td>-0.01</td>\n",
       "      <td>-0.01</td>\n",
       "      <td>0.01</td>\n",
       "      <td>0.03</td>\n",
       "      <td>0.03</td>\n",
       "      <td>0.79</td>\n",
       "      <td>0.37</td>\n",
       "      <td>0.40</td>\n",
       "      <td>0.01</td>\n",
       "      <td>31.0</td>\n",
       "      <td>35.77</td>\n",
       "    </tr>\n",
       "    <tr>\n",
       "      <th>unbekanntes_individuum_negativ</th>\n",
       "      <td>0.21</td>\n",
       "      <td>4/19</td>\n",
       "      <td>0.13</td>\n",
       "      <td>77/612</td>\n",
       "      <td>-0.29</td>\n",
       "      <td>-0.27</td>\n",
       "      <td>-0.08</td>\n",
       "      <td>0.10</td>\n",
       "      <td>0.08</td>\n",
       "      <td>1.18</td>\n",
       "      <td>0.28</td>\n",
       "      <td>0.29</td>\n",
       "      <td>0.04</td>\n",
       "      <td>4.0</td>\n",
       "      <td>2.44</td>\n",
       "    </tr>\n",
       "    <tr>\n",
       "      <th>entity_positiv</th>\n",
       "      <td>0.63</td>\n",
       "      <td>361/574</td>\n",
       "      <td>0.45</td>\n",
       "      <td>1510/3342</td>\n",
       "      <td>-0.22</td>\n",
       "      <td>-0.22</td>\n",
       "      <td>-0.18</td>\n",
       "      <td>-0.13</td>\n",
       "      <td>-0.13</td>\n",
       "      <td>61.58</td>\n",
       "      <td>0.00</td>\n",
       "      <td>0.00</td>\n",
       "      <td>0.13</td>\n",
       "      <td>213.0</td>\n",
       "      <td>274.25</td>\n",
       "    </tr>\n",
       "    <tr>\n",
       "      <th>bekanntes_individuum_positiv</th>\n",
       "      <td>0.73</td>\n",
       "      <td>214/295</td>\n",
       "      <td>0.54</td>\n",
       "      <td>938/1730</td>\n",
       "      <td>-0.24</td>\n",
       "      <td>-0.24</td>\n",
       "      <td>-0.18</td>\n",
       "      <td>-0.13</td>\n",
       "      <td>-0.13</td>\n",
       "      <td>34.50</td>\n",
       "      <td>0.00</td>\n",
       "      <td>0.00</td>\n",
       "      <td>0.13</td>\n",
       "      <td>81.0</td>\n",
       "      <td>127.18</td>\n",
       "    </tr>\n",
       "    <tr>\n",
       "      <th>stoffgebiet_positiv</th>\n",
       "      <td>0.63</td>\n",
       "      <td>284/450</td>\n",
       "      <td>0.43</td>\n",
       "      <td>900/2090</td>\n",
       "      <td>-0.25</td>\n",
       "      <td>-0.25</td>\n",
       "      <td>-0.20</td>\n",
       "      <td>-0.15</td>\n",
       "      <td>-0.15</td>\n",
       "      <td>59.81</td>\n",
       "      <td>0.00</td>\n",
       "      <td>0.00</td>\n",
       "      <td>0.15</td>\n",
       "      <td>166.0</td>\n",
       "      <td>209.76</td>\n",
       "    </tr>\n",
       "    <tr>\n",
       "      <th>kollektiv_positiv</th>\n",
       "      <td>0.54</td>\n",
       "      <td>111/207</td>\n",
       "      <td>0.33</td>\n",
       "      <td>285/857</td>\n",
       "      <td>-0.28</td>\n",
       "      <td>-0.28</td>\n",
       "      <td>-0.20</td>\n",
       "      <td>-0.13</td>\n",
       "      <td>-0.13</td>\n",
       "      <td>29.60</td>\n",
       "      <td>0.00</td>\n",
       "      <td>0.00</td>\n",
       "      <td>0.17</td>\n",
       "      <td>96.0</td>\n",
       "      <td>77.04</td>\n",
       "    </tr>\n",
       "    <tr>\n",
       "      <th>sprechinstanz_nicht_in_vergangenheit</th>\n",
       "      <td>0.55</td>\n",
       "      <td>185/337</td>\n",
       "      <td>0.22</td>\n",
       "      <td>328/1513</td>\n",
       "      <td>-0.39</td>\n",
       "      <td>-0.39</td>\n",
       "      <td>-0.33</td>\n",
       "      <td>-0.28</td>\n",
       "      <td>-0.28</td>\n",
       "      <td>151.75</td>\n",
       "      <td>0.00</td>\n",
       "      <td>0.00</td>\n",
       "      <td>0.29</td>\n",
       "      <td>152.0</td>\n",
       "      <td>93.45</td>\n",
       "    </tr>\n",
       "    <tr>\n",
       "      <th>liebe_positiv</th>\n",
       "      <td>1.00</td>\n",
       "      <td>4/4</td>\n",
       "      <td>0.47</td>\n",
       "      <td>28/59</td>\n",
       "      <td>-0.64</td>\n",
       "      <td>-0.65</td>\n",
       "      <td>-0.53</td>\n",
       "      <td>-0.40</td>\n",
       "      <td>-0.39</td>\n",
       "      <td>4.14</td>\n",
       "      <td>0.04</td>\n",
       "      <td>0.11</td>\n",
       "      <td>0.26</td>\n",
       "      <td>0.0</td>\n",
       "      <td>1.97</td>\n",
       "    </tr>\n",
       "    <tr>\n",
       "      <th>wissen_identisch</th>\n",
       "      <td>0.58</td>\n",
       "      <td>197/337</td>\n",
       "      <td>0.04</td>\n",
       "      <td>67/1513</td>\n",
       "      <td>-0.59</td>\n",
       "      <td>-0.59</td>\n",
       "      <td>-0.54</td>\n",
       "      <td>-0.49</td>\n",
       "      <td>-0.48</td>\n",
       "      <td>657.63</td>\n",
       "      <td>0.00</td>\n",
       "      <td>0.00</td>\n",
       "      <td>0.60</td>\n",
       "      <td>67.0</td>\n",
       "      <td>48.09</td>\n",
       "    </tr>\n",
       "  </tbody>\n",
       "</table>\n",
       "</div>"
      ],
      "text/plain": [
       "                                      wenn_nicht wenn_nicht_detail  wenn_ja  \\\n",
       "unbekanntes_individuum_positiv              0.05              1/19     0.35   \n",
       "entity_neutral                              0.17            97/574     0.32   \n",
       "stoffgebiet_neutral                         0.08            36/450     0.21   \n",
       "kollektiv_negativ                           0.21            43/207     0.26   \n",
       "stoffgebiet_negativ                         0.17            77/450     0.22   \n",
       "bekanntes_individuum_negativ                0.10            30/295     0.14   \n",
       "entity_negativ                              0.15            85/574     0.17   \n",
       "stoffgebiet_ambivalent                      0.12            53/450     0.14   \n",
       "entity_ambivalent                           0.05            31/574     0.06   \n",
       "unbekanntes_individuum_negativ              0.21              4/19     0.13   \n",
       "entity_positiv                              0.63           361/574     0.45   \n",
       "bekanntes_individuum_positiv                0.73           214/295     0.54   \n",
       "stoffgebiet_positiv                         0.63           284/450     0.43   \n",
       "kollektiv_positiv                           0.54           111/207     0.33   \n",
       "sprechinstanz_nicht_in_vergangenheit        0.55           185/337     0.22   \n",
       "liebe_positiv                               1.00               4/4     0.47   \n",
       "wissen_identisch                            0.58           197/337     0.04   \n",
       "\n",
       "                                     wenn_ja_detail  diff_low_bootstrap  \\\n",
       "unbekanntes_individuum_positiv              216/612                0.18   \n",
       "entity_neutral                            1060/3342                0.11   \n",
       "stoffgebiet_neutral                        446/2090                0.10   \n",
       "kollektiv_negativ                           225/857               -0.01   \n",
       "stoffgebiet_negativ                        459/2090                0.01   \n",
       "bekanntes_individuum_negativ               246/1730                0.00   \n",
       "entity_negativ                             559/3342               -0.01   \n",
       "stoffgebiet_ambivalent                     285/2090               -0.02   \n",
       "entity_ambivalent                          213/3342               -0.01   \n",
       "unbekanntes_individuum_negativ               77/612               -0.29   \n",
       "entity_positiv                            1510/3342               -0.22   \n",
       "bekanntes_individuum_positiv               938/1730               -0.24   \n",
       "stoffgebiet_positiv                        900/2090               -0.25   \n",
       "kollektiv_positiv                           285/857               -0.28   \n",
       "sprechinstanz_nicht_in_vergangenheit       328/1513               -0.39   \n",
       "liebe_positiv                                 28/59               -0.64   \n",
       "wissen_identisch                            67/1513               -0.59   \n",
       "\n",
       "                                      diff_low  diff  diff_high  \\\n",
       "unbekanntes_individuum_positiv            0.19  0.30       0.41   \n",
       "entity_neutral                            0.11  0.15       0.18   \n",
       "stoffgebiet_neutral                       0.10  0.13       0.16   \n",
       "kollektiv_negativ                        -0.01  0.05       0.12   \n",
       "stoffgebiet_negativ                       0.01  0.05       0.09   \n",
       "bekanntes_individuum_negativ              0.00  0.04       0.08   \n",
       "entity_negativ                           -0.01  0.02       0.05   \n",
       "stoffgebiet_ambivalent                   -0.01  0.02       0.05   \n",
       "entity_ambivalent                        -0.01  0.01       0.03   \n",
       "unbekanntes_individuum_negativ           -0.27 -0.08       0.10   \n",
       "entity_positiv                           -0.22 -0.18      -0.13   \n",
       "bekanntes_individuum_positiv             -0.24 -0.18      -0.13   \n",
       "stoffgebiet_positiv                      -0.25 -0.20      -0.15   \n",
       "kollektiv_positiv                        -0.28 -0.20      -0.13   \n",
       "sprechinstanz_nicht_in_vergangenheit     -0.39 -0.33      -0.28   \n",
       "liebe_positiv                            -0.65 -0.53      -0.40   \n",
       "wissen_identisch                         -0.59 -0.54      -0.49   \n",
       "\n",
       "                                      diff_high_bootstrap    chi2  chi2_p  \\\n",
       "unbekanntes_individuum_positiv                       0.38    7.37    0.01   \n",
       "entity_neutral                                       0.18   51.68    0.00   \n",
       "stoffgebiet_neutral                                  0.16   42.85    0.00   \n",
       "kollektiv_negativ                                    0.12    2.66    0.10   \n",
       "stoffgebiet_negativ                                  0.08    5.23    0.02   \n",
       "bekanntes_individuum_negativ                         0.08    3.51    0.06   \n",
       "entity_negativ                                       0.05    1.31    0.25   \n",
       "stoffgebiet_ambivalent                               0.05    1.11    0.29   \n",
       "entity_ambivalent                                    0.03    0.79    0.37   \n",
       "unbekanntes_individuum_negativ                       0.08    1.18    0.28   \n",
       "entity_positiv                                      -0.13   61.58    0.00   \n",
       "bekanntes_individuum_positiv                        -0.13   34.50    0.00   \n",
       "stoffgebiet_positiv                                 -0.15   59.81    0.00   \n",
       "kollektiv_positiv                                   -0.13   29.60    0.00   \n",
       "sprechinstanz_nicht_in_vergangenheit                -0.28  151.75    0.00   \n",
       "liebe_positiv                                       -0.39    4.14    0.04   \n",
       "wissen_identisch                                    -0.48  657.63    0.00   \n",
       "\n",
       "                                      fisher_p   phi  min_real  min_expected  \n",
       "unbekanntes_individuum_positiv            0.01  0.11       1.0          6.53  \n",
       "entity_neutral                            0.00  0.11      97.0        169.59  \n",
       "stoffgebiet_neutral                       0.00  0.13      36.0         85.39  \n",
       "kollektiv_negativ                         0.11  0.05      43.0         52.14  \n",
       "stoffgebiet_negativ                       0.02  0.05      77.0         94.96  \n",
       "bekanntes_individuum_negativ              0.07  0.04      30.0         40.21  \n",
       "entity_negativ                            0.27  0.02      85.0         94.40  \n",
       "stoffgebiet_ambivalent                    0.32  0.02      53.0         59.88  \n",
       "entity_ambivalent                         0.40  0.01      31.0         35.77  \n",
       "unbekanntes_individuum_negativ            0.29  0.04       4.0          2.44  \n",
       "entity_positiv                            0.00  0.13     213.0        274.25  \n",
       "bekanntes_individuum_positiv              0.00  0.13      81.0        127.18  \n",
       "stoffgebiet_positiv                       0.00  0.15     166.0        209.76  \n",
       "kollektiv_positiv                         0.00  0.17      96.0         77.04  \n",
       "sprechinstanz_nicht_in_vergangenheit      0.00  0.29     152.0         93.45  \n",
       "liebe_positiv                             0.11  0.26       0.0          1.97  \n",
       "wissen_identisch                          0.00  0.60      67.0         48.09  "
      ]
     },
     "execution_count": 22,
     "metadata": {},
     "output_type": "execute_result"
    }
   ],
   "source": [
    "results_other = results.query(\"index not in @results_filtered.index\")\n",
    "round(results_other.sort_values(by='diff', ascending=False), 2)"
   ]
  },
  {
   "cell_type": "code",
   "execution_count": 23,
   "id": "4055b614",
   "metadata": {},
   "outputs": [
    {
     "data": {
      "text/html": [
       "<div>\n",
       "<style scoped>\n",
       "    .dataframe tbody tr th:only-of-type {\n",
       "        vertical-align: middle;\n",
       "    }\n",
       "\n",
       "    .dataframe tbody tr th {\n",
       "        vertical-align: top;\n",
       "    }\n",
       "\n",
       "    .dataframe thead th {\n",
       "        text-align: right;\n",
       "    }\n",
       "</style>\n",
       "<table border=\"1\" class=\"dataframe\">\n",
       "  <thead>\n",
       "    <tr style=\"text-align: right;\">\n",
       "      <th></th>\n",
       "      <th>wenn_nicht_1850</th>\n",
       "      <th>wenn_nicht_detail_1850</th>\n",
       "      <th>wenn_ja_1850</th>\n",
       "      <th>wenn_ja_detail_1850</th>\n",
       "      <th>diff_1850</th>\n",
       "      <th>chi2_p_1850</th>\n",
       "      <th>phi_1850</th>\n",
       "      <th>wenn_nicht_1885</th>\n",
       "      <th>wenn_nicht_detail_1885</th>\n",
       "      <th>wenn_ja_1885</th>\n",
       "      <th>wenn_ja_detail_1885</th>\n",
       "      <th>diff_1885</th>\n",
       "      <th>chi2_p_1885</th>\n",
       "      <th>phi_1885</th>\n",
       "      <th>diff_of_diffs</th>\n",
       "      <th>diff_of_phis</th>\n",
       "    </tr>\n",
       "  </thead>\n",
       "  <tbody>\n",
       "    <tr>\n",
       "      <th>ereignis</th>\n",
       "      <td>0.485</td>\n",
       "      <td>115/237</td>\n",
       "      <td>0.870</td>\n",
       "      <td>965/1109</td>\n",
       "      <td>0.385</td>\n",
       "      <td>0.000</td>\n",
       "      <td>0.368</td>\n",
       "      <td>0.410</td>\n",
       "      <td>41/100</td>\n",
       "      <td>0.772</td>\n",
       "      <td>312/404</td>\n",
       "      <td>0.362</td>\n",
       "      <td>0.0</td>\n",
       "      <td>0.315</td>\n",
       "      <td>-0.023</td>\n",
       "      <td>-0.053</td>\n",
       "    </tr>\n",
       "    <tr>\n",
       "      <th>zustand</th>\n",
       "      <td>0.797</td>\n",
       "      <td>189/237</td>\n",
       "      <td>0.294</td>\n",
       "      <td>326/1109</td>\n",
       "      <td>-0.504</td>\n",
       "      <td>0.000</td>\n",
       "      <td>0.395</td>\n",
       "      <td>0.870</td>\n",
       "      <td>87/100</td>\n",
       "      <td>0.411</td>\n",
       "      <td>166/404</td>\n",
       "      <td>-0.459</td>\n",
       "      <td>0.0</td>\n",
       "      <td>0.366</td>\n",
       "      <td>0.044</td>\n",
       "      <td>-0.028</td>\n",
       "    </tr>\n",
       "    <tr>\n",
       "      <th>ballade</th>\n",
       "      <td>0.143</td>\n",
       "      <td>34/237</td>\n",
       "      <td>0.702</td>\n",
       "      <td>778/1109</td>\n",
       "      <td>0.558</td>\n",
       "      <td>0.000</td>\n",
       "      <td>0.434</td>\n",
       "      <td>0.020</td>\n",
       "      <td>2/100</td>\n",
       "      <td>0.550</td>\n",
       "      <td>222/404</td>\n",
       "      <td>0.530</td>\n",
       "      <td>0.0</td>\n",
       "      <td>0.425</td>\n",
       "      <td>-0.029</td>\n",
       "      <td>-0.010</td>\n",
       "    </tr>\n",
       "    <tr>\n",
       "      <th>sprechakt_erzaehlen_vorhanden</th>\n",
       "      <td>0.388</td>\n",
       "      <td>92/237</td>\n",
       "      <td>0.873</td>\n",
       "      <td>968/1109</td>\n",
       "      <td>0.485</td>\n",
       "      <td>0.000</td>\n",
       "      <td>0.451</td>\n",
       "      <td>0.310</td>\n",
       "      <td>31/100</td>\n",
       "      <td>0.814</td>\n",
       "      <td>329/404</td>\n",
       "      <td>0.504</td>\n",
       "      <td>0.0</td>\n",
       "      <td>0.445</td>\n",
       "      <td>0.020</td>\n",
       "      <td>-0.006</td>\n",
       "    </tr>\n",
       "    <tr>\n",
       "      <th>nogenre</th>\n",
       "      <td>0.498</td>\n",
       "      <td>118/237</td>\n",
       "      <td>0.129</td>\n",
       "      <td>143/1109</td>\n",
       "      <td>-0.369</td>\n",
       "      <td>0.000</td>\n",
       "      <td>0.355</td>\n",
       "      <td>0.650</td>\n",
       "      <td>65/100</td>\n",
       "      <td>0.238</td>\n",
       "      <td>96/404</td>\n",
       "      <td>-0.412</td>\n",
       "      <td>0.0</td>\n",
       "      <td>0.353</td>\n",
       "      <td>-0.043</td>\n",
       "      <td>-0.003</td>\n",
       "    </tr>\n",
       "    <tr>\n",
       "      <th>wissen_ergaenzend</th>\n",
       "      <td>0.338</td>\n",
       "      <td>80/237</td>\n",
       "      <td>0.842</td>\n",
       "      <td>934/1109</td>\n",
       "      <td>0.505</td>\n",
       "      <td>0.000</td>\n",
       "      <td>0.446</td>\n",
       "      <td>0.300</td>\n",
       "      <td>30/100</td>\n",
       "      <td>0.839</td>\n",
       "      <td>339/404</td>\n",
       "      <td>0.539</td>\n",
       "      <td>0.0</td>\n",
       "      <td>0.485</td>\n",
       "      <td>0.034</td>\n",
       "      <td>0.040</td>\n",
       "    </tr>\n",
       "    <tr>\n",
       "      <th>gegenwartsbezug</th>\n",
       "      <td>0.578</td>\n",
       "      <td>137/237</td>\n",
       "      <td>0.229</td>\n",
       "      <td>254/1109</td>\n",
       "      <td>-0.349</td>\n",
       "      <td>0.000</td>\n",
       "      <td>0.293</td>\n",
       "      <td>0.600</td>\n",
       "      <td>60/100</td>\n",
       "      <td>0.210</td>\n",
       "      <td>85/404</td>\n",
       "      <td>-0.390</td>\n",
       "      <td>0.0</td>\n",
       "      <td>0.343</td>\n",
       "      <td>-0.041</td>\n",
       "      <td>0.050</td>\n",
       "    </tr>\n",
       "    <tr>\n",
       "      <th>sprechinstanz_markiert</th>\n",
       "      <td>0.713</td>\n",
       "      <td>169/237</td>\n",
       "      <td>0.380</td>\n",
       "      <td>421/1109</td>\n",
       "      <td>-0.333</td>\n",
       "      <td>0.000</td>\n",
       "      <td>0.256</td>\n",
       "      <td>0.750</td>\n",
       "      <td>75/100</td>\n",
       "      <td>0.361</td>\n",
       "      <td>146/404</td>\n",
       "      <td>-0.389</td>\n",
       "      <td>0.0</td>\n",
       "      <td>0.312</td>\n",
       "      <td>-0.055</td>\n",
       "      <td>0.056</td>\n",
       "    </tr>\n",
       "    <tr>\n",
       "      <th>nationalismus</th>\n",
       "      <td>0.295</td>\n",
       "      <td>70/237</td>\n",
       "      <td>0.100</td>\n",
       "      <td>111/1109</td>\n",
       "      <td>-0.195</td>\n",
       "      <td>0.000</td>\n",
       "      <td>0.218</td>\n",
       "      <td>0.360</td>\n",
       "      <td>36/100</td>\n",
       "      <td>0.089</td>\n",
       "      <td>36/404</td>\n",
       "      <td>-0.271</td>\n",
       "      <td>0.0</td>\n",
       "      <td>0.309</td>\n",
       "      <td>-0.076</td>\n",
       "      <td>0.091</td>\n",
       "    </tr>\n",
       "    <tr>\n",
       "      <th>sprechakt_behaupten_vorhanden</th>\n",
       "      <td>0.544</td>\n",
       "      <td>129/237</td>\n",
       "      <td>0.095</td>\n",
       "      <td>105/1109</td>\n",
       "      <td>-0.450</td>\n",
       "      <td>0.000</td>\n",
       "      <td>0.452</td>\n",
       "      <td>0.720</td>\n",
       "      <td>72/100</td>\n",
       "      <td>0.097</td>\n",
       "      <td>39/404</td>\n",
       "      <td>-0.623</td>\n",
       "      <td>0.0</td>\n",
       "      <td>0.600</td>\n",
       "      <td>-0.174</td>\n",
       "      <td>0.148</td>\n",
       "    </tr>\n",
       "    <tr>\n",
       "      <th>ueberlieferung_positiv</th>\n",
       "      <td>0.733</td>\n",
       "      <td>66/90</td>\n",
       "      <td>0.561</td>\n",
       "      <td>124/221</td>\n",
       "      <td>-0.172</td>\n",
       "      <td>0.005</td>\n",
       "      <td>0.160</td>\n",
       "      <td>0.684</td>\n",
       "      <td>26/38</td>\n",
       "      <td>0.337</td>\n",
       "      <td>28/83</td>\n",
       "      <td>-0.347</td>\n",
       "      <td>0.0</td>\n",
       "      <td>0.324</td>\n",
       "      <td>-0.175</td>\n",
       "      <td>0.164</td>\n",
       "    </tr>\n",
       "  </tbody>\n",
       "</table>\n",
       "</div>"
      ],
      "text/plain": [
       "                               wenn_nicht_1850 wenn_nicht_detail_1850  \\\n",
       "ereignis                                 0.485                115/237   \n",
       "zustand                                  0.797                189/237   \n",
       "ballade                                  0.143                 34/237   \n",
       "sprechakt_erzaehlen_vorhanden            0.388                 92/237   \n",
       "nogenre                                  0.498                118/237   \n",
       "wissen_ergaenzend                        0.338                 80/237   \n",
       "gegenwartsbezug                          0.578                137/237   \n",
       "sprechinstanz_markiert                   0.713                169/237   \n",
       "nationalismus                            0.295                 70/237   \n",
       "sprechakt_behaupten_vorhanden            0.544                129/237   \n",
       "ueberlieferung_positiv                   0.733                  66/90   \n",
       "\n",
       "                               wenn_ja_1850 wenn_ja_detail_1850  diff_1850  \\\n",
       "ereignis                              0.870            965/1109      0.385   \n",
       "zustand                               0.294            326/1109     -0.504   \n",
       "ballade                               0.702            778/1109      0.558   \n",
       "sprechakt_erzaehlen_vorhanden         0.873            968/1109      0.485   \n",
       "nogenre                               0.129            143/1109     -0.369   \n",
       "wissen_ergaenzend                     0.842            934/1109      0.505   \n",
       "gegenwartsbezug                       0.229            254/1109     -0.349   \n",
       "sprechinstanz_markiert                0.380            421/1109     -0.333   \n",
       "nationalismus                         0.100            111/1109     -0.195   \n",
       "sprechakt_behaupten_vorhanden         0.095            105/1109     -0.450   \n",
       "ueberlieferung_positiv                0.561             124/221     -0.172   \n",
       "\n",
       "                               chi2_p_1850  phi_1850  wenn_nicht_1885  \\\n",
       "ereignis                             0.000     0.368            0.410   \n",
       "zustand                              0.000     0.395            0.870   \n",
       "ballade                              0.000     0.434            0.020   \n",
       "sprechakt_erzaehlen_vorhanden        0.000     0.451            0.310   \n",
       "nogenre                              0.000     0.355            0.650   \n",
       "wissen_ergaenzend                    0.000     0.446            0.300   \n",
       "gegenwartsbezug                      0.000     0.293            0.600   \n",
       "sprechinstanz_markiert               0.000     0.256            0.750   \n",
       "nationalismus                        0.000     0.218            0.360   \n",
       "sprechakt_behaupten_vorhanden        0.000     0.452            0.720   \n",
       "ueberlieferung_positiv               0.005     0.160            0.684   \n",
       "\n",
       "                              wenn_nicht_detail_1885  wenn_ja_1885  \\\n",
       "ereignis                                      41/100         0.772   \n",
       "zustand                                       87/100         0.411   \n",
       "ballade                                        2/100         0.550   \n",
       "sprechakt_erzaehlen_vorhanden                 31/100         0.814   \n",
       "nogenre                                       65/100         0.238   \n",
       "wissen_ergaenzend                             30/100         0.839   \n",
       "gegenwartsbezug                               60/100         0.210   \n",
       "sprechinstanz_markiert                        75/100         0.361   \n",
       "nationalismus                                 36/100         0.089   \n",
       "sprechakt_behaupten_vorhanden                 72/100         0.097   \n",
       "ueberlieferung_positiv                         26/38         0.337   \n",
       "\n",
       "                              wenn_ja_detail_1885  diff_1885  chi2_p_1885  \\\n",
       "ereignis                                  312/404      0.362          0.0   \n",
       "zustand                                   166/404     -0.459          0.0   \n",
       "ballade                                   222/404      0.530          0.0   \n",
       "sprechakt_erzaehlen_vorhanden             329/404      0.504          0.0   \n",
       "nogenre                                    96/404     -0.412          0.0   \n",
       "wissen_ergaenzend                         339/404      0.539          0.0   \n",
       "gegenwartsbezug                            85/404     -0.390          0.0   \n",
       "sprechinstanz_markiert                    146/404     -0.389          0.0   \n",
       "nationalismus                              36/404     -0.271          0.0   \n",
       "sprechakt_behaupten_vorhanden              39/404     -0.623          0.0   \n",
       "ueberlieferung_positiv                      28/83     -0.347          0.0   \n",
       "\n",
       "                               phi_1885  diff_of_diffs  diff_of_phis  \n",
       "ereignis                          0.315         -0.023        -0.053  \n",
       "zustand                           0.366          0.044        -0.028  \n",
       "ballade                           0.425         -0.029        -0.010  \n",
       "sprechakt_erzaehlen_vorhanden     0.445          0.020        -0.006  \n",
       "nogenre                           0.353         -0.043        -0.003  \n",
       "wissen_ergaenzend                 0.485          0.034         0.040  \n",
       "gegenwartsbezug                   0.343         -0.041         0.050  \n",
       "sprechinstanz_markiert            0.312         -0.055         0.056  \n",
       "nationalismus                     0.309         -0.076         0.091  \n",
       "sprechakt_behaupten_vorhanden     0.600         -0.174         0.148  \n",
       "ueberlieferung_positiv            0.324         -0.175         0.164  "
      ]
     },
     "execution_count": 23,
     "metadata": {},
     "output_type": "execute_result"
    }
   ],
   "source": [
    "result_categories = ['wenn_nicht', 'wenn_nicht_detail', 'wenn_ja', 'wenn_ja_detail', 'diff', 'chi2_p', 'phi',]\n",
    "\n",
    "results_a = relations_binbin(\n",
    "    meta = meta_anth_bin.query(\"1850 <= year <= 1884\"), \n",
    "    main_feature = main_feature,\n",
    "    comp_features = results_filtered.index\n",
    ")\n",
    "\n",
    "results_b = relations_binbin(\n",
    "    meta = meta_anth_bin.query(\"1885 <= year <= 1918\"), \n",
    "    main_feature = main_feature,\n",
    "    comp_features = results_filtered.index\n",
    ")\n",
    "\n",
    "results_merged = results_a[result_categories].join(\n",
    "    results_b[result_categories], \n",
    "    lsuffix='_1850', rsuffix = '_1885'\n",
    ")\n",
    "results_merged['diff_of_diffs'] = results_merged['diff_1885'] - results_merged['diff_1850']\n",
    "results_merged['diff_of_phis'] = results_merged['phi_1885'] - results_merged['phi_1850']\n",
    "\n",
    "round(results_merged.sort_values(by = 'diff_of_phis'), 3)"
   ]
  },
  {
   "cell_type": "code",
   "execution_count": 24,
   "id": "9a63afee",
   "metadata": {},
   "outputs": [],
   "source": [
    "results = relations_bincont(\n",
    "    meta = meta_anth_bin, \n",
    "    main_feature = main_feature,\n",
    "    comp_features = [x for x in cont_comp_features if x != 'konkretheit']\n",
    ")"
   ]
  },
  {
   "cell_type": "code",
   "execution_count": 25,
   "id": "c76398cb-a539-439e-b261-9c364cea48be",
   "metadata": {},
   "outputs": [
    {
     "data": {
      "text/html": [
       "<div>\n",
       "<style scoped>\n",
       "    .dataframe tbody tr th:only-of-type {\n",
       "        vertical-align: middle;\n",
       "    }\n",
       "\n",
       "    .dataframe tbody tr th {\n",
       "        vertical-align: top;\n",
       "    }\n",
       "\n",
       "    .dataframe thead th {\n",
       "        text-align: right;\n",
       "    }\n",
       "</style>\n",
       "<table border=\"1\" class=\"dataframe\">\n",
       "  <thead>\n",
       "    <tr style=\"text-align: right;\">\n",
       "      <th></th>\n",
       "      <th>wenn_nicht</th>\n",
       "      <th>a_merkmal=0</th>\n",
       "      <th>a_merkmal=1</th>\n",
       "      <th>a_merkmal=2</th>\n",
       "      <th>a_merkmal=3</th>\n",
       "      <th>a_merkmal&gt;=4</th>\n",
       "      <th>wenn_ja</th>\n",
       "      <th>b_merkmal=0</th>\n",
       "      <th>b_merkmal=1</th>\n",
       "      <th>b_merkmal=2</th>\n",
       "      <th>...</th>\n",
       "      <th>pointbiserialr_corr</th>\n",
       "      <th>pointbiserialr_p</th>\n",
       "      <th>ttest_p</th>\n",
       "      <th>cohens_d</th>\n",
       "      <th>mannwhitneyu_stat</th>\n",
       "      <th>mannwhitneyu_p</th>\n",
       "      <th>meandiffs_ci_lower</th>\n",
       "      <th>meandiffs_ci_bootstrap_lower</th>\n",
       "      <th>meandiffs_ci_upper</th>\n",
       "      <th>meandiffs_ci_bootstrap_upper</th>\n",
       "    </tr>\n",
       "  </thead>\n",
       "  <tbody>\n",
       "    <tr>\n",
       "      <th>kleinraum_count</th>\n",
       "      <td>0.34</td>\n",
       "      <td>0.68 [230/337]</td>\n",
       "      <td>0.3 [101/337]</td>\n",
       "      <td>0.01 [5/337]</td>\n",
       "      <td>0.0 [1/337]</td>\n",
       "      <td>0.0 [0/337]</td>\n",
       "      <td>0.73</td>\n",
       "      <td>0.32 [488/1513]</td>\n",
       "      <td>0.63 [952/1513]</td>\n",
       "      <td>0.04 [68/1513]</td>\n",
       "      <td>...</td>\n",
       "      <td>0.26</td>\n",
       "      <td>0.0</td>\n",
       "      <td>0.0</td>\n",
       "      <td>-0.72</td>\n",
       "      <td>162363.0</td>\n",
       "      <td>0.0</td>\n",
       "      <td>0.33</td>\n",
       "      <td>0.33</td>\n",
       "      <td>0.46</td>\n",
       "      <td>0.46</td>\n",
       "    </tr>\n",
       "    <tr>\n",
       "      <th>entity_count</th>\n",
       "      <td>1.70</td>\n",
       "      <td>0.0 [0/337]</td>\n",
       "      <td>0.48 [163/337]</td>\n",
       "      <td>0.36 [123/337]</td>\n",
       "      <td>0.12 [42/337]</td>\n",
       "      <td>0.03 [9/337]</td>\n",
       "      <td>2.21</td>\n",
       "      <td>0.0 [0/1513]</td>\n",
       "      <td>0.2 [296/1513]</td>\n",
       "      <td>0.47 [710/1513]</td>\n",
       "      <td>...</td>\n",
       "      <td>0.23</td>\n",
       "      <td>0.0</td>\n",
       "      <td>0.0</td>\n",
       "      <td>-0.61</td>\n",
       "      <td>168397.0</td>\n",
       "      <td>0.0</td>\n",
       "      <td>0.41</td>\n",
       "      <td>0.41</td>\n",
       "      <td>0.60</td>\n",
       "      <td>0.59</td>\n",
       "    </tr>\n",
       "    <tr>\n",
       "      <th>sprechakte_count</th>\n",
       "      <td>1.60</td>\n",
       "      <td>0.0 [0/337]</td>\n",
       "      <td>0.45 [152/337]</td>\n",
       "      <td>0.5 [170/337]</td>\n",
       "      <td>0.04 [14/337]</td>\n",
       "      <td>0.0 [1/337]</td>\n",
       "      <td>1.27</td>\n",
       "      <td>0.0 [0/1513]</td>\n",
       "      <td>0.74 [1118/1513]</td>\n",
       "      <td>0.25 [374/1513]</td>\n",
       "      <td>...</td>\n",
       "      <td>-0.24</td>\n",
       "      <td>0.0</td>\n",
       "      <td>0.0</td>\n",
       "      <td>0.60</td>\n",
       "      <td>329366.0</td>\n",
       "      <td>0.0</td>\n",
       "      <td>-0.38</td>\n",
       "      <td>-0.39</td>\n",
       "      <td>-0.26</td>\n",
       "      <td>-0.25</td>\n",
       "    </tr>\n",
       "  </tbody>\n",
       "</table>\n",
       "<p>3 rows × 22 columns</p>\n",
       "</div>"
      ],
      "text/plain": [
       "                  wenn_nicht     a_merkmal=0     a_merkmal=1     a_merkmal=2  \\\n",
       "kleinraum_count         0.34  0.68 [230/337]   0.3 [101/337]    0.01 [5/337]   \n",
       "entity_count            1.70     0.0 [0/337]  0.48 [163/337]  0.36 [123/337]   \n",
       "sprechakte_count        1.60     0.0 [0/337]  0.45 [152/337]   0.5 [170/337]   \n",
       "\n",
       "                    a_merkmal=3  a_merkmal>=4  wenn_ja      b_merkmal=0  \\\n",
       "kleinraum_count     0.0 [1/337]   0.0 [0/337]     0.73  0.32 [488/1513]   \n",
       "entity_count      0.12 [42/337]  0.03 [9/337]     2.21     0.0 [0/1513]   \n",
       "sprechakte_count  0.04 [14/337]   0.0 [1/337]     1.27     0.0 [0/1513]   \n",
       "\n",
       "                       b_merkmal=1      b_merkmal=2  ... pointbiserialr_corr  \\\n",
       "kleinraum_count    0.63 [952/1513]   0.04 [68/1513]  ...                0.26   \n",
       "entity_count        0.2 [296/1513]  0.47 [710/1513]  ...                0.23   \n",
       "sprechakte_count  0.74 [1118/1513]  0.25 [374/1513]  ...               -0.24   \n",
       "\n",
       "                 pointbiserialr_p  ttest_p  cohens_d  mannwhitneyu_stat  \\\n",
       "kleinraum_count               0.0      0.0     -0.72           162363.0   \n",
       "entity_count                  0.0      0.0     -0.61           168397.0   \n",
       "sprechakte_count              0.0      0.0      0.60           329366.0   \n",
       "\n",
       "                  mannwhitneyu_p  meandiffs_ci_lower  \\\n",
       "kleinraum_count              0.0                0.33   \n",
       "entity_count                 0.0                0.41   \n",
       "sprechakte_count             0.0               -0.38   \n",
       "\n",
       "                  meandiffs_ci_bootstrap_lower  meandiffs_ci_upper  \\\n",
       "kleinraum_count                           0.33                0.46   \n",
       "entity_count                              0.41                0.60   \n",
       "sprechakte_count                         -0.39               -0.26   \n",
       "\n",
       "                  meandiffs_ci_bootstrap_upper  \n",
       "kleinraum_count                           0.46  \n",
       "entity_count                              0.59  \n",
       "sprechakte_count                         -0.25  \n",
       "\n",
       "[3 rows x 22 columns]"
      ]
     },
     "execution_count": 25,
     "metadata": {},
     "output_type": "execute_result"
    }
   ],
   "source": [
    "unsuited = ['wissen']\n",
    "results_filtered = (\n",
    "    results\n",
    "    .query(\"index not in @unsuited\")\n",
    "    .query(\"mannwhitneyu_p < 0.05 and (pointbiserialr_corr >= @threshold or pointbiserialr_corr <= -@threshold)\")\n",
    "    .sort_values(by = 'pointbiserialr_corr', ascending = False)\n",
    ")\n",
    "round(results_filtered, 2)"
   ]
  },
  {
   "cell_type": "code",
   "execution_count": 26,
   "id": "78702f39",
   "metadata": {},
   "outputs": [
    {
     "data": {
      "text/html": [
       "<div>\n",
       "<style scoped>\n",
       "    .dataframe tbody tr th:only-of-type {\n",
       "        vertical-align: middle;\n",
       "    }\n",
       "\n",
       "    .dataframe tbody tr th {\n",
       "        vertical-align: top;\n",
       "    }\n",
       "\n",
       "    .dataframe thead th {\n",
       "        text-align: right;\n",
       "    }\n",
       "</style>\n",
       "<table border=\"1\" class=\"dataframe\">\n",
       "  <thead>\n",
       "    <tr style=\"text-align: right;\">\n",
       "      <th></th>\n",
       "      <th>wenn_nicht</th>\n",
       "      <th>a_merkmal=0</th>\n",
       "      <th>a_merkmal=1</th>\n",
       "      <th>a_merkmal=2</th>\n",
       "      <th>a_merkmal=3</th>\n",
       "      <th>a_merkmal&gt;=4</th>\n",
       "      <th>wenn_ja</th>\n",
       "      <th>b_merkmal=0</th>\n",
       "      <th>b_merkmal=1</th>\n",
       "      <th>b_merkmal=2</th>\n",
       "      <th>...</th>\n",
       "      <th>pointbiserialr_corr</th>\n",
       "      <th>pointbiserialr_p</th>\n",
       "      <th>ttest_p</th>\n",
       "      <th>cohens_d</th>\n",
       "      <th>mannwhitneyu_stat</th>\n",
       "      <th>mannwhitneyu_p</th>\n",
       "      <th>meandiffs_ci_lower</th>\n",
       "      <th>meandiffs_ci_bootstrap_lower</th>\n",
       "      <th>meandiffs_ci_upper</th>\n",
       "      <th>meandiffs_ci_bootstrap_upper</th>\n",
       "    </tr>\n",
       "  </thead>\n",
       "  <tbody>\n",
       "    <tr>\n",
       "      <th>wissen</th>\n",
       "      <td>0.4</td>\n",
       "      <td>0.15 [7/48]</td>\n",
       "      <td>0.62 [30/48]</td>\n",
       "      <td>0.0 [0/48]</td>\n",
       "      <td>0.0 [0/48]</td>\n",
       "      <td>0.0 [0/48]</td>\n",
       "      <td>-0.04</td>\n",
       "      <td>0.17 [20/115]</td>\n",
       "      <td>0.39 [45/115]</td>\n",
       "      <td>0.0 [0/115]</td>\n",
       "      <td>...</td>\n",
       "      <td>-0.22</td>\n",
       "      <td>0.0</td>\n",
       "      <td>0.0</td>\n",
       "      <td>0.5</td>\n",
       "      <td>3470.0</td>\n",
       "      <td>0.0</td>\n",
       "      <td>-0.74</td>\n",
       "      <td>-0.74</td>\n",
       "      <td>-0.14</td>\n",
       "      <td>-0.15</td>\n",
       "    </tr>\n",
       "  </tbody>\n",
       "</table>\n",
       "<p>1 rows × 22 columns</p>\n",
       "</div>"
      ],
      "text/plain": [
       "        wenn_nicht  a_merkmal=0   a_merkmal=1 a_merkmal=2 a_merkmal=3  \\\n",
       "wissen         0.4  0.15 [7/48]  0.62 [30/48]  0.0 [0/48]  0.0 [0/48]   \n",
       "\n",
       "       a_merkmal>=4  wenn_ja    b_merkmal=0    b_merkmal=1  b_merkmal=2  ...  \\\n",
       "wissen   0.0 [0/48]    -0.04  0.17 [20/115]  0.39 [45/115]  0.0 [0/115]  ...   \n",
       "\n",
       "       pointbiserialr_corr pointbiserialr_p  ttest_p  cohens_d  \\\n",
       "wissen               -0.22              0.0      0.0       0.5   \n",
       "\n",
       "        mannwhitneyu_stat  mannwhitneyu_p  meandiffs_ci_lower  \\\n",
       "wissen             3470.0             0.0               -0.74   \n",
       "\n",
       "        meandiffs_ci_bootstrap_lower  meandiffs_ci_upper  \\\n",
       "wissen                         -0.74               -0.14   \n",
       "\n",
       "        meandiffs_ci_bootstrap_upper  \n",
       "wissen                         -0.15  \n",
       "\n",
       "[1 rows x 22 columns]"
      ]
     },
     "execution_count": 26,
     "metadata": {},
     "output_type": "execute_result"
    }
   ],
   "source": [
    "results_other = results.query(\"index not in @results_filtered.index\")\n",
    "round(results_other.sort_values(by='pointbiserialr_corr', ascending=False), 2)"
   ]
  },
  {
   "cell_type": "code",
   "execution_count": 27,
   "id": "2a9b2da4",
   "metadata": {},
   "outputs": [
    {
     "data": {
      "application/vnd.plotly.v1+json": {
       "config": {
        "plotlyServerURL": "https://plot.ly"
       },
       "data": [
        {
         "alignmentgroup": "True",
         "bingroup": "x",
         "histnorm": "probability density",
         "hovertemplate": "=Nicht in hohem Maß konkret<br>(Mittelwert = 0.34)<br>Anzahl behandelte Kleinräume=%{x}<br>probability density=%{y}<extra></extra>",
         "legendgroup": "Nicht in hohem Maß konkret<br>(Mittelwert = 0.34)",
         "marker": {
          "color": "#636efa",
          "pattern": {
           "shape": ""
          }
         },
         "name": "Nicht in hohem Maß konkret<br>(Mittelwert = 0.34)",
         "offsetgroup": "Nicht in hohem Maß konkret<br>(Mittelwert = 0.34)",
         "orientation": "v",
         "showlegend": true,
         "type": "histogram",
         "x": [
          1,
          0,
          0,
          1,
          0,
          0,
          1,
          1,
          0,
          0,
          2,
          0,
          1,
          0,
          1,
          0,
          0,
          0,
          0,
          1,
          0,
          0,
          0,
          0,
          1,
          0,
          0,
          3,
          0,
          1,
          1,
          0,
          0,
          0,
          0,
          1,
          1,
          0,
          1,
          1,
          0,
          1,
          1,
          0,
          0,
          0,
          0,
          0,
          0,
          0,
          1,
          0,
          0,
          1,
          0,
          1,
          1,
          0,
          1,
          0,
          0,
          1,
          0,
          1,
          0,
          0,
          1,
          0,
          1,
          0,
          1,
          0,
          0,
          1,
          1,
          0,
          0,
          0,
          1,
          0,
          0,
          0,
          0,
          0,
          0,
          1,
          0,
          0,
          0,
          0,
          0,
          0,
          0,
          0,
          0,
          0,
          0,
          0,
          1,
          0,
          0,
          1,
          0,
          0,
          0,
          1,
          1,
          1,
          0,
          0,
          0,
          0,
          0,
          0,
          0,
          0,
          2,
          1,
          0,
          0,
          1,
          0,
          0,
          1,
          1,
          1,
          0,
          1,
          1,
          0,
          0,
          0,
          0,
          1,
          0,
          1,
          1,
          1,
          0,
          0,
          0,
          0,
          1,
          0,
          1,
          1,
          0,
          1,
          1,
          0,
          0,
          0,
          0,
          0,
          0,
          0,
          1,
          1,
          0,
          1,
          0,
          2,
          0,
          0,
          0,
          1,
          1,
          0,
          0,
          0,
          0,
          0,
          1,
          1,
          0,
          1,
          1,
          0,
          0,
          0,
          0,
          2,
          0,
          0,
          1,
          1,
          1,
          0,
          1,
          0,
          0,
          0,
          0,
          1,
          1,
          0,
          0,
          0,
          0,
          0,
          0,
          0,
          0,
          0,
          0,
          0,
          0,
          0,
          0,
          0,
          0,
          0,
          1,
          0,
          0,
          0,
          0,
          0,
          1,
          0,
          1,
          0,
          1,
          0,
          0,
          0,
          0,
          0,
          0,
          0,
          1,
          1,
          1,
          2,
          1,
          0,
          1,
          0,
          1,
          0,
          0,
          0,
          0,
          1,
          0,
          1,
          1,
          0,
          1,
          0,
          0,
          0,
          0,
          0,
          0,
          1,
          0,
          0,
          0,
          0,
          0,
          0,
          1,
          1,
          1,
          0,
          1,
          0,
          1,
          0,
          0,
          0,
          0,
          0,
          1,
          0,
          1,
          1,
          0,
          0,
          1,
          0,
          0,
          0,
          0,
          0,
          0,
          1,
          0,
          0,
          0,
          0,
          1,
          0,
          0,
          1,
          1,
          0,
          0,
          0,
          0,
          0,
          0,
          0,
          0,
          0,
          1,
          0,
          0,
          0,
          0,
          0,
          0,
          0,
          0,
          0,
          1,
          0,
          0,
          0,
          0,
          0,
          0,
          0,
          1,
          0,
          0,
          1,
          0,
          1,
          0,
          0,
          0,
          0,
          0,
          1,
          1
         ],
         "xaxis": "x",
         "yaxis": "y"
        },
        {
         "alignmentgroup": "True",
         "bingroup": "x",
         "histnorm": "probability density",
         "hovertemplate": "=In hohem Maß konkret<br>(Mittelwert = 0.73)<br>Anzahl behandelte Kleinräume=%{x}<br>probability density=%{y}<extra></extra>",
         "legendgroup": "In hohem Maß konkret<br>(Mittelwert = 0.73)",
         "marker": {
          "color": "#EF553B",
          "pattern": {
           "shape": ""
          }
         },
         "name": "In hohem Maß konkret<br>(Mittelwert = 0.73)",
         "offsetgroup": "In hohem Maß konkret<br>(Mittelwert = 0.73)",
         "orientation": "v",
         "showlegend": true,
         "type": "histogram",
         "x": [
          1,
          1,
          0,
          1,
          1,
          1,
          1,
          1,
          0,
          1,
          1,
          0,
          1,
          1,
          1,
          1,
          1,
          0,
          2,
          1,
          1,
          1,
          1,
          0,
          1,
          0,
          0,
          0,
          1,
          1,
          1,
          1,
          1,
          1,
          1,
          1,
          0,
          0,
          1,
          1,
          0,
          1,
          0,
          0,
          1,
          0,
          1,
          0,
          1,
          1,
          1,
          1,
          1,
          1,
          1,
          1,
          1,
          2,
          1,
          2,
          1,
          1,
          2,
          1,
          1,
          2,
          1,
          1,
          1,
          1,
          2,
          1,
          1,
          0,
          0,
          1,
          0,
          2,
          1,
          0,
          0,
          1,
          1,
          0,
          2,
          0,
          0,
          0,
          1,
          1,
          1,
          1,
          1,
          0,
          1,
          1,
          0,
          1,
          1,
          1,
          1,
          1,
          1,
          1,
          0,
          1,
          0,
          1,
          1,
          1,
          1,
          1,
          0,
          0,
          1,
          1,
          1,
          1,
          1,
          1,
          0,
          1,
          0,
          0,
          1,
          0,
          1,
          1,
          1,
          1,
          2,
          0,
          1,
          1,
          1,
          0,
          0,
          1,
          1,
          1,
          1,
          1,
          1,
          1,
          1,
          1,
          1,
          1,
          1,
          1,
          1,
          1,
          1,
          1,
          2,
          1,
          1,
          0,
          0,
          1,
          1,
          1,
          0,
          2,
          0,
          1,
          1,
          1,
          0,
          1,
          1,
          1,
          0,
          0,
          1,
          1,
          1,
          0,
          1,
          1,
          1,
          1,
          1,
          1,
          1,
          1,
          1,
          1,
          1,
          0,
          1,
          1,
          1,
          0,
          1,
          1,
          0,
          1,
          1,
          1,
          1,
          0,
          1,
          1,
          1,
          1,
          0,
          0,
          1,
          1,
          1,
          1,
          0,
          2,
          1,
          1,
          1,
          1,
          0,
          1,
          1,
          1,
          0,
          1,
          0,
          1,
          2,
          1,
          1,
          1,
          1,
          1,
          1,
          1,
          1,
          1,
          1,
          0,
          1,
          1,
          1,
          1,
          1,
          1,
          1,
          1,
          0,
          1,
          1,
          2,
          1,
          1,
          0,
          0,
          1,
          1,
          1,
          1,
          1,
          1,
          1,
          1,
          1,
          1,
          1,
          1,
          1,
          4,
          1,
          1,
          1,
          1,
          0,
          0,
          1,
          0,
          1,
          0,
          1,
          1,
          0,
          2,
          1,
          1,
          1,
          1,
          1,
          0,
          2,
          2,
          1,
          1,
          1,
          1,
          1,
          1,
          1,
          1,
          1,
          1,
          1,
          1,
          1,
          1,
          1,
          1,
          1,
          0,
          1,
          1,
          1,
          1,
          1,
          1,
          1,
          0,
          1,
          1,
          0,
          0,
          1,
          1,
          0,
          1,
          1,
          1,
          1,
          1,
          0,
          0,
          0,
          1,
          1,
          1,
          1,
          1,
          1,
          1,
          1,
          1,
          1,
          1,
          1,
          1,
          0,
          0,
          1,
          1,
          1,
          1,
          1,
          1,
          1,
          1,
          1,
          1,
          1,
          1,
          1,
          1,
          0,
          1,
          1,
          1,
          1,
          1,
          1,
          0,
          1,
          0,
          1,
          1,
          1,
          1,
          0,
          1,
          1,
          1,
          1,
          0,
          1,
          1,
          1,
          1,
          1,
          1,
          1,
          0,
          1,
          0,
          1,
          0,
          1,
          1,
          0,
          1,
          0,
          1,
          1,
          1,
          1,
          1,
          0,
          1,
          1,
          1,
          1,
          1,
          1,
          1,
          1,
          1,
          2,
          0,
          1,
          1,
          0,
          1,
          1,
          1,
          0,
          1,
          1,
          1,
          1,
          1,
          1,
          1,
          1,
          1,
          1,
          1,
          1,
          1,
          1,
          1,
          1,
          2,
          2,
          0,
          1,
          1,
          0,
          1,
          1,
          1,
          1,
          1,
          0,
          0,
          0,
          1,
          0,
          1,
          1,
          1,
          1,
          1,
          0,
          1,
          1,
          1,
          0,
          1,
          1,
          1,
          1,
          1,
          0,
          1,
          0,
          0,
          1,
          0,
          0,
          1,
          1,
          0,
          1,
          1,
          0,
          1,
          1,
          1,
          1,
          1,
          1,
          0,
          1,
          0,
          1,
          1,
          1,
          1,
          1,
          1,
          0,
          1,
          0,
          1,
          1,
          1,
          0,
          1,
          0,
          0,
          0,
          1,
          1,
          1,
          1,
          1,
          0,
          1,
          1,
          1,
          1,
          1,
          0,
          1,
          1,
          0,
          1,
          1,
          1,
          1,
          1,
          0,
          0,
          1,
          0,
          1,
          0,
          1,
          1,
          1,
          1,
          1,
          0,
          1,
          0,
          1,
          1,
          1,
          0,
          0,
          0,
          1,
          0,
          2,
          1,
          1,
          1,
          1,
          1,
          1,
          1,
          1,
          1,
          0,
          2,
          1,
          2,
          1,
          1,
          0,
          1,
          0,
          1,
          1,
          1,
          1,
          0,
          1,
          0,
          0,
          1,
          0,
          1,
          1,
          0,
          1,
          0,
          1,
          1,
          0,
          0,
          1,
          1,
          1,
          1,
          1,
          0,
          0,
          1,
          1,
          0,
          0,
          2,
          1,
          0,
          1,
          0,
          1,
          1,
          0,
          0,
          0,
          1,
          1,
          1,
          1,
          1,
          1,
          2,
          1,
          1,
          1,
          1,
          1,
          1,
          0,
          1,
          1,
          0,
          1,
          1,
          0,
          1,
          1,
          1,
          0,
          1,
          1,
          1,
          2,
          1,
          1,
          1,
          0,
          2,
          0,
          1,
          1,
          1,
          1,
          0,
          0,
          1,
          0,
          2,
          1,
          1,
          1,
          1,
          1,
          2,
          1,
          0,
          1,
          2,
          0,
          1,
          1,
          0,
          1,
          0,
          2,
          1,
          1,
          1,
          1,
          3,
          1,
          1,
          1,
          1,
          0,
          1,
          0,
          1,
          1,
          0,
          0,
          1,
          0,
          1,
          0,
          1,
          1,
          0,
          1,
          1,
          1,
          1,
          1,
          1,
          2,
          1,
          1,
          0,
          0,
          1,
          0,
          1,
          1,
          0,
          3,
          1,
          1,
          1,
          0,
          1,
          1,
          1,
          1,
          1,
          0,
          0,
          0,
          0,
          2,
          1,
          1,
          1,
          1,
          1,
          1,
          1,
          1,
          0,
          1,
          1,
          1,
          1,
          1,
          0,
          0,
          1,
          1,
          0,
          1,
          1,
          2,
          1,
          1,
          1,
          1,
          2,
          1,
          0,
          2,
          0,
          0,
          1,
          1,
          2,
          0,
          1,
          0,
          1,
          1,
          1,
          0,
          1,
          1,
          2,
          0,
          1,
          0,
          0,
          0,
          0,
          1,
          0,
          0,
          0,
          0,
          0,
          1,
          0,
          1,
          2,
          0,
          1,
          1,
          0,
          0,
          1,
          1,
          1,
          0,
          0,
          1,
          0,
          0,
          0,
          0,
          0,
          1,
          1,
          0,
          0,
          1,
          0,
          0,
          1,
          2,
          1,
          1,
          0,
          1,
          1,
          0,
          1,
          1,
          0,
          2,
          1,
          0,
          1,
          1,
          1,
          0,
          1,
          1,
          1,
          0,
          1,
          1,
          1,
          1,
          1,
          0,
          0,
          2,
          1,
          1,
          0,
          0,
          2,
          1,
          1,
          0,
          1,
          1,
          1,
          1,
          4,
          1,
          1,
          0,
          1,
          0,
          1,
          1,
          2,
          1,
          1,
          1,
          1,
          1,
          0,
          1,
          1,
          1,
          1,
          0,
          0,
          0,
          0,
          0,
          1,
          0,
          1,
          1,
          1,
          0,
          0,
          1,
          1,
          0,
          1,
          1,
          0,
          0,
          1,
          1,
          0,
          0,
          1,
          0,
          0,
          1,
          0,
          0,
          0,
          1,
          1,
          1,
          1,
          1,
          1,
          1,
          2,
          1,
          1,
          0,
          0,
          0,
          1,
          1,
          1,
          0,
          2,
          1,
          1,
          1,
          0,
          0,
          1,
          1,
          1,
          0,
          0,
          1,
          0,
          1,
          0,
          0,
          1,
          0,
          0,
          0,
          0,
          0,
          1,
          0,
          1,
          1,
          0,
          1,
          0,
          0,
          0,
          0,
          1,
          1,
          1,
          0,
          1,
          0,
          0,
          1,
          1,
          1,
          0,
          0,
          1,
          0,
          1,
          1,
          0,
          0,
          0,
          1,
          0,
          1,
          1,
          1,
          1,
          2,
          1,
          1,
          1,
          2,
          1,
          1,
          0,
          0,
          1,
          1,
          1,
          1,
          2,
          1,
          2,
          0,
          1,
          1,
          0,
          1,
          1,
          1,
          1,
          1,
          1,
          1,
          1,
          1,
          1,
          0,
          0,
          1,
          0,
          1,
          1,
          1,
          1,
          2,
          0,
          1,
          1,
          1,
          0,
          1,
          1,
          1,
          1,
          0,
          1,
          1,
          2,
          1,
          2,
          0,
          1,
          0,
          1,
          1,
          1,
          1,
          1,
          1,
          1,
          1,
          1,
          0,
          1,
          1,
          1,
          1,
          1,
          1,
          1,
          1,
          1,
          1,
          1,
          1,
          1,
          1,
          1,
          1,
          1,
          1,
          1,
          1,
          0,
          1,
          0,
          0,
          1,
          0,
          0,
          0,
          0,
          1,
          1,
          0,
          1,
          1,
          0,
          2,
          1,
          1,
          0,
          1,
          1,
          1,
          1,
          1,
          1,
          1,
          0,
          1,
          1,
          1,
          1,
          0,
          1,
          1,
          1,
          1,
          0,
          0,
          1,
          0,
          0,
          0,
          1,
          0,
          1,
          0,
          1,
          1,
          1,
          0,
          1,
          1,
          0,
          1,
          0,
          0,
          0,
          0,
          1,
          1,
          0,
          0,
          0,
          0,
          0,
          0,
          1,
          1,
          0,
          0,
          1,
          0,
          1,
          0,
          1,
          0,
          0,
          0,
          0,
          1,
          1,
          1,
          1,
          1,
          1,
          1,
          1,
          1,
          1,
          0,
          1,
          1,
          0,
          1,
          1,
          0,
          1,
          2,
          0,
          0,
          0,
          0,
          1,
          1,
          1,
          0,
          1,
          1,
          0,
          1,
          1,
          1,
          1,
          1,
          1,
          0,
          0,
          1,
          0,
          1,
          1,
          0,
          0,
          0,
          1,
          1,
          1,
          4,
          1,
          1,
          2,
          0,
          1,
          1,
          1,
          1,
          0,
          1,
          0,
          1,
          1,
          1,
          1,
          0,
          1,
          1,
          0,
          0,
          1,
          1,
          1,
          1,
          1,
          1,
          1,
          0,
          0,
          0,
          0,
          1,
          1,
          1,
          1,
          2,
          1,
          0,
          0,
          1,
          2,
          1,
          1,
          1,
          2,
          1,
          1,
          1,
          1,
          1,
          1,
          0,
          0,
          1,
          0,
          0,
          1,
          1,
          0,
          0,
          1,
          0,
          1,
          1,
          1,
          1,
          1,
          1,
          1,
          1,
          1,
          0,
          0,
          1,
          0,
          1,
          0,
          0,
          1,
          1,
          0,
          1,
          0,
          0,
          1,
          1,
          1,
          1,
          0,
          0,
          0,
          0,
          1,
          0,
          0,
          1,
          0,
          0,
          1,
          0,
          0,
          2,
          0,
          1,
          1,
          0,
          0,
          2,
          1,
          0,
          0,
          1,
          1,
          1,
          0,
          0,
          1,
          0,
          1,
          0,
          1,
          0,
          1,
          1,
          1,
          1,
          1,
          1,
          1,
          1,
          0,
          1,
          1,
          0,
          0,
          0,
          1,
          1,
          0,
          0,
          0,
          1,
          0,
          0,
          1,
          1,
          1,
          1,
          1,
          0,
          1,
          0,
          0,
          0,
          2,
          1,
          1,
          1,
          1,
          0,
          0,
          0,
          1,
          1,
          0,
          0,
          1,
          1,
          1,
          0,
          1,
          1,
          1,
          1,
          1,
          0,
          1,
          1,
          1,
          1,
          1,
          0,
          2,
          0,
          1,
          0,
          1,
          0,
          1,
          1,
          1,
          1,
          1,
          1,
          2,
          0,
          0,
          0,
          1,
          1,
          0,
          0,
          0,
          0,
          0,
          0,
          0,
          0,
          0,
          0,
          0,
          0,
          0,
          0,
          0,
          0,
          0,
          1,
          0,
          2,
          0,
          0,
          0,
          1,
          0,
          0,
          0,
          1,
          1,
          1,
          0,
          1,
          1,
          1,
          0,
          1,
          0,
          0,
          1,
          1,
          1,
          1,
          0,
          1,
          0,
          1,
          0,
          0,
          0,
          0,
          0,
          0,
          0,
          0,
          0,
          0,
          0,
          0,
          1,
          1,
          1,
          0,
          1,
          0,
          1,
          0,
          1,
          1,
          0,
          0,
          0,
          0,
          1,
          1,
          1,
          0,
          1,
          0,
          0,
          0,
          1,
          1,
          0,
          1,
          1,
          1,
          1,
          0,
          0,
          0,
          1,
          1,
          1,
          0,
          1,
          0,
          0,
          1,
          0,
          0,
          0,
          1,
          1,
          1,
          2,
          0,
          0,
          1,
          0,
          1,
          2,
          1,
          0,
          0,
          0,
          0,
          1,
          1,
          0,
          1,
          1,
          0,
          0,
          2,
          0,
          1,
          1
         ],
         "xaxis": "x",
         "yaxis": "y"
        }
       ],
       "layout": {
        "bargap": 0.1,
        "barmode": "group",
        "font": {
         "color": "black"
        },
        "height": 300,
        "legend": {
         "bordercolor": "black",
         "borderwidth": 1,
         "font": {
          "size": 14
         },
         "title": {
          "text": ""
         },
         "tracegroupgap": 0,
         "x": 0.52,
         "y": 0.92
        },
        "margin": {
         "t": 60
        },
        "paper_bgcolor": "white",
        "plot_bgcolor": "white",
        "template": {
         "data": {
          "bar": [
           {
            "error_x": {
             "color": "#2a3f5f"
            },
            "error_y": {
             "color": "#2a3f5f"
            },
            "marker": {
             "line": {
              "color": "#E5ECF6",
              "width": 0.5
             },
             "pattern": {
              "fillmode": "overlay",
              "size": 10,
              "solidity": 0.2
             }
            },
            "type": "bar"
           }
          ],
          "barpolar": [
           {
            "marker": {
             "line": {
              "color": "#E5ECF6",
              "width": 0.5
             },
             "pattern": {
              "fillmode": "overlay",
              "size": 10,
              "solidity": 0.2
             }
            },
            "type": "barpolar"
           }
          ],
          "carpet": [
           {
            "aaxis": {
             "endlinecolor": "#2a3f5f",
             "gridcolor": "white",
             "linecolor": "white",
             "minorgridcolor": "white",
             "startlinecolor": "#2a3f5f"
            },
            "baxis": {
             "endlinecolor": "#2a3f5f",
             "gridcolor": "white",
             "linecolor": "white",
             "minorgridcolor": "white",
             "startlinecolor": "#2a3f5f"
            },
            "type": "carpet"
           }
          ],
          "choropleth": [
           {
            "colorbar": {
             "outlinewidth": 0,
             "ticks": ""
            },
            "type": "choropleth"
           }
          ],
          "contour": [
           {
            "colorbar": {
             "outlinewidth": 0,
             "ticks": ""
            },
            "colorscale": [
             [
              0,
              "#0d0887"
             ],
             [
              0.1111111111111111,
              "#46039f"
             ],
             [
              0.2222222222222222,
              "#7201a8"
             ],
             [
              0.3333333333333333,
              "#9c179e"
             ],
             [
              0.4444444444444444,
              "#bd3786"
             ],
             [
              0.5555555555555556,
              "#d8576b"
             ],
             [
              0.6666666666666666,
              "#ed7953"
             ],
             [
              0.7777777777777778,
              "#fb9f3a"
             ],
             [
              0.8888888888888888,
              "#fdca26"
             ],
             [
              1,
              "#f0f921"
             ]
            ],
            "type": "contour"
           }
          ],
          "contourcarpet": [
           {
            "colorbar": {
             "outlinewidth": 0,
             "ticks": ""
            },
            "type": "contourcarpet"
           }
          ],
          "heatmap": [
           {
            "colorbar": {
             "outlinewidth": 0,
             "ticks": ""
            },
            "colorscale": [
             [
              0,
              "#0d0887"
             ],
             [
              0.1111111111111111,
              "#46039f"
             ],
             [
              0.2222222222222222,
              "#7201a8"
             ],
             [
              0.3333333333333333,
              "#9c179e"
             ],
             [
              0.4444444444444444,
              "#bd3786"
             ],
             [
              0.5555555555555556,
              "#d8576b"
             ],
             [
              0.6666666666666666,
              "#ed7953"
             ],
             [
              0.7777777777777778,
              "#fb9f3a"
             ],
             [
              0.8888888888888888,
              "#fdca26"
             ],
             [
              1,
              "#f0f921"
             ]
            ],
            "type": "heatmap"
           }
          ],
          "heatmapgl": [
           {
            "colorbar": {
             "outlinewidth": 0,
             "ticks": ""
            },
            "colorscale": [
             [
              0,
              "#0d0887"
             ],
             [
              0.1111111111111111,
              "#46039f"
             ],
             [
              0.2222222222222222,
              "#7201a8"
             ],
             [
              0.3333333333333333,
              "#9c179e"
             ],
             [
              0.4444444444444444,
              "#bd3786"
             ],
             [
              0.5555555555555556,
              "#d8576b"
             ],
             [
              0.6666666666666666,
              "#ed7953"
             ],
             [
              0.7777777777777778,
              "#fb9f3a"
             ],
             [
              0.8888888888888888,
              "#fdca26"
             ],
             [
              1,
              "#f0f921"
             ]
            ],
            "type": "heatmapgl"
           }
          ],
          "histogram": [
           {
            "marker": {
             "pattern": {
              "fillmode": "overlay",
              "size": 10,
              "solidity": 0.2
             }
            },
            "type": "histogram"
           }
          ],
          "histogram2d": [
           {
            "colorbar": {
             "outlinewidth": 0,
             "ticks": ""
            },
            "colorscale": [
             [
              0,
              "#0d0887"
             ],
             [
              0.1111111111111111,
              "#46039f"
             ],
             [
              0.2222222222222222,
              "#7201a8"
             ],
             [
              0.3333333333333333,
              "#9c179e"
             ],
             [
              0.4444444444444444,
              "#bd3786"
             ],
             [
              0.5555555555555556,
              "#d8576b"
             ],
             [
              0.6666666666666666,
              "#ed7953"
             ],
             [
              0.7777777777777778,
              "#fb9f3a"
             ],
             [
              0.8888888888888888,
              "#fdca26"
             ],
             [
              1,
              "#f0f921"
             ]
            ],
            "type": "histogram2d"
           }
          ],
          "histogram2dcontour": [
           {
            "colorbar": {
             "outlinewidth": 0,
             "ticks": ""
            },
            "colorscale": [
             [
              0,
              "#0d0887"
             ],
             [
              0.1111111111111111,
              "#46039f"
             ],
             [
              0.2222222222222222,
              "#7201a8"
             ],
             [
              0.3333333333333333,
              "#9c179e"
             ],
             [
              0.4444444444444444,
              "#bd3786"
             ],
             [
              0.5555555555555556,
              "#d8576b"
             ],
             [
              0.6666666666666666,
              "#ed7953"
             ],
             [
              0.7777777777777778,
              "#fb9f3a"
             ],
             [
              0.8888888888888888,
              "#fdca26"
             ],
             [
              1,
              "#f0f921"
             ]
            ],
            "type": "histogram2dcontour"
           }
          ],
          "mesh3d": [
           {
            "colorbar": {
             "outlinewidth": 0,
             "ticks": ""
            },
            "type": "mesh3d"
           }
          ],
          "parcoords": [
           {
            "line": {
             "colorbar": {
              "outlinewidth": 0,
              "ticks": ""
             }
            },
            "type": "parcoords"
           }
          ],
          "pie": [
           {
            "automargin": true,
            "type": "pie"
           }
          ],
          "scatter": [
           {
            "fillpattern": {
             "fillmode": "overlay",
             "size": 10,
             "solidity": 0.2
            },
            "type": "scatter"
           }
          ],
          "scatter3d": [
           {
            "line": {
             "colorbar": {
              "outlinewidth": 0,
              "ticks": ""
             }
            },
            "marker": {
             "colorbar": {
              "outlinewidth": 0,
              "ticks": ""
             }
            },
            "type": "scatter3d"
           }
          ],
          "scattercarpet": [
           {
            "marker": {
             "colorbar": {
              "outlinewidth": 0,
              "ticks": ""
             }
            },
            "type": "scattercarpet"
           }
          ],
          "scattergeo": [
           {
            "marker": {
             "colorbar": {
              "outlinewidth": 0,
              "ticks": ""
             }
            },
            "type": "scattergeo"
           }
          ],
          "scattergl": [
           {
            "marker": {
             "colorbar": {
              "outlinewidth": 0,
              "ticks": ""
             }
            },
            "type": "scattergl"
           }
          ],
          "scattermapbox": [
           {
            "marker": {
             "colorbar": {
              "outlinewidth": 0,
              "ticks": ""
             }
            },
            "type": "scattermapbox"
           }
          ],
          "scatterpolar": [
           {
            "marker": {
             "colorbar": {
              "outlinewidth": 0,
              "ticks": ""
             }
            },
            "type": "scatterpolar"
           }
          ],
          "scatterpolargl": [
           {
            "marker": {
             "colorbar": {
              "outlinewidth": 0,
              "ticks": ""
             }
            },
            "type": "scatterpolargl"
           }
          ],
          "scatterternary": [
           {
            "marker": {
             "colorbar": {
              "outlinewidth": 0,
              "ticks": ""
             }
            },
            "type": "scatterternary"
           }
          ],
          "surface": [
           {
            "colorbar": {
             "outlinewidth": 0,
             "ticks": ""
            },
            "colorscale": [
             [
              0,
              "#0d0887"
             ],
             [
              0.1111111111111111,
              "#46039f"
             ],
             [
              0.2222222222222222,
              "#7201a8"
             ],
             [
              0.3333333333333333,
              "#9c179e"
             ],
             [
              0.4444444444444444,
              "#bd3786"
             ],
             [
              0.5555555555555556,
              "#d8576b"
             ],
             [
              0.6666666666666666,
              "#ed7953"
             ],
             [
              0.7777777777777778,
              "#fb9f3a"
             ],
             [
              0.8888888888888888,
              "#fdca26"
             ],
             [
              1,
              "#f0f921"
             ]
            ],
            "type": "surface"
           }
          ],
          "table": [
           {
            "cells": {
             "fill": {
              "color": "#EBF0F8"
             },
             "line": {
              "color": "white"
             }
            },
            "header": {
             "fill": {
              "color": "#C8D4E3"
             },
             "line": {
              "color": "white"
             }
            },
            "type": "table"
           }
          ]
         },
         "layout": {
          "annotationdefaults": {
           "arrowcolor": "#2a3f5f",
           "arrowhead": 0,
           "arrowwidth": 1
          },
          "autotypenumbers": "strict",
          "coloraxis": {
           "colorbar": {
            "outlinewidth": 0,
            "ticks": ""
           }
          },
          "colorscale": {
           "diverging": [
            [
             0,
             "#8e0152"
            ],
            [
             0.1,
             "#c51b7d"
            ],
            [
             0.2,
             "#de77ae"
            ],
            [
             0.3,
             "#f1b6da"
            ],
            [
             0.4,
             "#fde0ef"
            ],
            [
             0.5,
             "#f7f7f7"
            ],
            [
             0.6,
             "#e6f5d0"
            ],
            [
             0.7,
             "#b8e186"
            ],
            [
             0.8,
             "#7fbc41"
            ],
            [
             0.9,
             "#4d9221"
            ],
            [
             1,
             "#276419"
            ]
           ],
           "sequential": [
            [
             0,
             "#0d0887"
            ],
            [
             0.1111111111111111,
             "#46039f"
            ],
            [
             0.2222222222222222,
             "#7201a8"
            ],
            [
             0.3333333333333333,
             "#9c179e"
            ],
            [
             0.4444444444444444,
             "#bd3786"
            ],
            [
             0.5555555555555556,
             "#d8576b"
            ],
            [
             0.6666666666666666,
             "#ed7953"
            ],
            [
             0.7777777777777778,
             "#fb9f3a"
            ],
            [
             0.8888888888888888,
             "#fdca26"
            ],
            [
             1,
             "#f0f921"
            ]
           ],
           "sequentialminus": [
            [
             0,
             "#0d0887"
            ],
            [
             0.1111111111111111,
             "#46039f"
            ],
            [
             0.2222222222222222,
             "#7201a8"
            ],
            [
             0.3333333333333333,
             "#9c179e"
            ],
            [
             0.4444444444444444,
             "#bd3786"
            ],
            [
             0.5555555555555556,
             "#d8576b"
            ],
            [
             0.6666666666666666,
             "#ed7953"
            ],
            [
             0.7777777777777778,
             "#fb9f3a"
            ],
            [
             0.8888888888888888,
             "#fdca26"
            ],
            [
             1,
             "#f0f921"
            ]
           ]
          },
          "colorway": [
           "#636efa",
           "#EF553B",
           "#00cc96",
           "#ab63fa",
           "#FFA15A",
           "#19d3f3",
           "#FF6692",
           "#B6E880",
           "#FF97FF",
           "#FECB52"
          ],
          "font": {
           "color": "#2a3f5f"
          },
          "geo": {
           "bgcolor": "white",
           "lakecolor": "white",
           "landcolor": "#E5ECF6",
           "showlakes": true,
           "showland": true,
           "subunitcolor": "white"
          },
          "hoverlabel": {
           "align": "left"
          },
          "hovermode": "closest",
          "mapbox": {
           "style": "light"
          },
          "paper_bgcolor": "white",
          "plot_bgcolor": "#E5ECF6",
          "polar": {
           "angularaxis": {
            "gridcolor": "white",
            "linecolor": "white",
            "ticks": ""
           },
           "bgcolor": "#E5ECF6",
           "radialaxis": {
            "gridcolor": "white",
            "linecolor": "white",
            "ticks": ""
           }
          },
          "scene": {
           "xaxis": {
            "backgroundcolor": "#E5ECF6",
            "gridcolor": "white",
            "gridwidth": 2,
            "linecolor": "white",
            "showbackground": true,
            "ticks": "",
            "zerolinecolor": "white"
           },
           "yaxis": {
            "backgroundcolor": "#E5ECF6",
            "gridcolor": "white",
            "gridwidth": 2,
            "linecolor": "white",
            "showbackground": true,
            "ticks": "",
            "zerolinecolor": "white"
           },
           "zaxis": {
            "backgroundcolor": "#E5ECF6",
            "gridcolor": "white",
            "gridwidth": 2,
            "linecolor": "white",
            "showbackground": true,
            "ticks": "",
            "zerolinecolor": "white"
           }
          },
          "shapedefaults": {
           "line": {
            "color": "#2a3f5f"
           }
          },
          "ternary": {
           "aaxis": {
            "gridcolor": "white",
            "linecolor": "white",
            "ticks": ""
           },
           "baxis": {
            "gridcolor": "white",
            "linecolor": "white",
            "ticks": ""
           },
           "bgcolor": "#E5ECF6",
           "caxis": {
            "gridcolor": "white",
            "linecolor": "white",
            "ticks": ""
           }
          },
          "title": {
           "x": 0.05
          },
          "xaxis": {
           "automargin": true,
           "gridcolor": "white",
           "linecolor": "white",
           "ticks": "",
           "title": {
            "standoff": 15
           },
           "zerolinecolor": "white",
           "zerolinewidth": 2
          },
          "yaxis": {
           "automargin": true,
           "gridcolor": "white",
           "linecolor": "white",
           "ticks": "",
           "title": {
            "standoff": 15
           },
           "zerolinecolor": "white",
           "zerolinewidth": 2
          }
         }
        },
        "width": 700,
        "xaxis": {
         "anchor": "y",
         "autorange": true,
         "color": "black",
         "domain": [
          0,
          1
         ],
         "gridcolor": "white",
         "range": [
          -0.5,
          4.5
         ],
         "showgrid": false,
         "tickfont": {
          "size": 14
         },
         "title": {
          "font": {
           "size": 14
          },
          "text": "Anzahl behandelte Kleinräume"
         },
         "type": "linear"
        },
        "yaxis": {
         "anchor": "x",
         "autorange": true,
         "color": "black",
         "domain": [
          0,
          1
         ],
         "gridcolor": "lightgray",
         "range": [
          0,
          0.7184132437919726
         ],
         "tickfont": {
          "size": 14
         },
         "title": {
          "font": {
           "size": 14
          },
          "text": "Anteil"
         },
         "zerolinecolor": "lightgray"
        }
       }
      },
      "text/html": [
       "<div>                            <div id=\"8bd055b7-061b-4af8-be41-d79a7ef4a1f2\" class=\"plotly-graph-div\" style=\"height:300px; width:700px;\"></div>            <script type=\"text/javascript\">                require([\"plotly\"], function(Plotly) {                    window.PLOTLYENV=window.PLOTLYENV || {};                                    if (document.getElementById(\"8bd055b7-061b-4af8-be41-d79a7ef4a1f2\")) {                    Plotly.newPlot(                        \"8bd055b7-061b-4af8-be41-d79a7ef4a1f2\",                        [{\"alignmentgroup\":\"True\",\"bingroup\":\"x\",\"histnorm\":\"probability density\",\"hovertemplate\":\"=Nicht in hohem Maß konkret\\u003cbr\\u003e(Mittelwert = 0.34)\\u003cbr\\u003eAnzahl behandelte Kleinräume=%{x}\\u003cbr\\u003eprobability density=%{y}\\u003cextra\\u003e\\u003c\\u002fextra\\u003e\",\"legendgroup\":\"Nicht in hohem Maß konkret\\u003cbr\\u003e(Mittelwert = 0.34)\",\"marker\":{\"color\":\"#636efa\",\"pattern\":{\"shape\":\"\"}},\"name\":\"Nicht in hohem Maß konkret\\u003cbr\\u003e(Mittelwert = 0.34)\",\"offsetgroup\":\"Nicht in hohem Maß konkret\\u003cbr\\u003e(Mittelwert = 0.34)\",\"orientation\":\"v\",\"showlegend\":true,\"x\":[1,0,0,1,0,0,1,1,0,0,2,0,1,0,1,0,0,0,0,1,0,0,0,0,1,0,0,3,0,1,1,0,0,0,0,1,1,0,1,1,0,1,1,0,0,0,0,0,0,0,1,0,0,1,0,1,1,0,1,0,0,1,0,1,0,0,1,0,1,0,1,0,0,1,1,0,0,0,1,0,0,0,0,0,0,1,0,0,0,0,0,0,0,0,0,0,0,0,1,0,0,1,0,0,0,1,1,1,0,0,0,0,0,0,0,0,2,1,0,0,1,0,0,1,1,1,0,1,1,0,0,0,0,1,0,1,1,1,0,0,0,0,1,0,1,1,0,1,1,0,0,0,0,0,0,0,1,1,0,1,0,2,0,0,0,1,1,0,0,0,0,0,1,1,0,1,1,0,0,0,0,2,0,0,1,1,1,0,1,0,0,0,0,1,1,0,0,0,0,0,0,0,0,0,0,0,0,0,0,0,0,0,1,0,0,0,0,0,1,0,1,0,1,0,0,0,0,0,0,0,1,1,1,2,1,0,1,0,1,0,0,0,0,1,0,1,1,0,1,0,0,0,0,0,0,1,0,0,0,0,0,0,1,1,1,0,1,0,1,0,0,0,0,0,1,0,1,1,0,0,1,0,0,0,0,0,0,1,0,0,0,0,1,0,0,1,1,0,0,0,0,0,0,0,0,0,1,0,0,0,0,0,0,0,0,0,1,0,0,0,0,0,0,0,1,0,0,1,0,1,0,0,0,0,0,1,1],\"xaxis\":\"x\",\"yaxis\":\"y\",\"type\":\"histogram\"},{\"alignmentgroup\":\"True\",\"bingroup\":\"x\",\"histnorm\":\"probability density\",\"hovertemplate\":\"=In hohem Maß konkret\\u003cbr\\u003e(Mittelwert = 0.73)\\u003cbr\\u003eAnzahl behandelte Kleinräume=%{x}\\u003cbr\\u003eprobability density=%{y}\\u003cextra\\u003e\\u003c\\u002fextra\\u003e\",\"legendgroup\":\"In hohem Maß konkret\\u003cbr\\u003e(Mittelwert = 0.73)\",\"marker\":{\"color\":\"#EF553B\",\"pattern\":{\"shape\":\"\"}},\"name\":\"In hohem Maß konkret\\u003cbr\\u003e(Mittelwert = 0.73)\",\"offsetgroup\":\"In hohem Maß konkret\\u003cbr\\u003e(Mittelwert = 0.73)\",\"orientation\":\"v\",\"showlegend\":true,\"x\":[1,1,0,1,1,1,1,1,0,1,1,0,1,1,1,1,1,0,2,1,1,1,1,0,1,0,0,0,1,1,1,1,1,1,1,1,0,0,1,1,0,1,0,0,1,0,1,0,1,1,1,1,1,1,1,1,1,2,1,2,1,1,2,1,1,2,1,1,1,1,2,1,1,0,0,1,0,2,1,0,0,1,1,0,2,0,0,0,1,1,1,1,1,0,1,1,0,1,1,1,1,1,1,1,0,1,0,1,1,1,1,1,0,0,1,1,1,1,1,1,0,1,0,0,1,0,1,1,1,1,2,0,1,1,1,0,0,1,1,1,1,1,1,1,1,1,1,1,1,1,1,1,1,1,2,1,1,0,0,1,1,1,0,2,0,1,1,1,0,1,1,1,0,0,1,1,1,0,1,1,1,1,1,1,1,1,1,1,1,0,1,1,1,0,1,1,0,1,1,1,1,0,1,1,1,1,0,0,1,1,1,1,0,2,1,1,1,1,0,1,1,1,0,1,0,1,2,1,1,1,1,1,1,1,1,1,1,0,1,1,1,1,1,1,1,1,0,1,1,2,1,1,0,0,1,1,1,1,1,1,1,1,1,1,1,1,1,4,1,1,1,1,0,0,1,0,1,0,1,1,0,2,1,1,1,1,1,0,2,2,1,1,1,1,1,1,1,1,1,1,1,1,1,1,1,1,1,0,1,1,1,1,1,1,1,0,1,1,0,0,1,1,0,1,1,1,1,1,0,0,0,1,1,1,1,1,1,1,1,1,1,1,1,1,0,0,1,1,1,1,1,1,1,1,1,1,1,1,1,1,0,1,1,1,1,1,1,0,1,0,1,1,1,1,0,1,1,1,1,0,1,1,1,1,1,1,1,0,1,0,1,0,1,1,0,1,0,1,1,1,1,1,0,1,1,1,1,1,1,1,1,1,2,0,1,1,0,1,1,1,0,1,1,1,1,1,1,1,1,1,1,1,1,1,1,1,1,2,2,0,1,1,0,1,1,1,1,1,0,0,0,1,0,1,1,1,1,1,0,1,1,1,0,1,1,1,1,1,0,1,0,0,1,0,0,1,1,0,1,1,0,1,1,1,1,1,1,0,1,0,1,1,1,1,1,1,0,1,0,1,1,1,0,1,0,0,0,1,1,1,1,1,0,1,1,1,1,1,0,1,1,0,1,1,1,1,1,0,0,1,0,1,0,1,1,1,1,1,0,1,0,1,1,1,0,0,0,1,0,2,1,1,1,1,1,1,1,1,1,0,2,1,2,1,1,0,1,0,1,1,1,1,0,1,0,0,1,0,1,1,0,1,0,1,1,0,0,1,1,1,1,1,0,0,1,1,0,0,2,1,0,1,0,1,1,0,0,0,1,1,1,1,1,1,2,1,1,1,1,1,1,0,1,1,0,1,1,0,1,1,1,0,1,1,1,2,1,1,1,0,2,0,1,1,1,1,0,0,1,0,2,1,1,1,1,1,2,1,0,1,2,0,1,1,0,1,0,2,1,1,1,1,3,1,1,1,1,0,1,0,1,1,0,0,1,0,1,0,1,1,0,1,1,1,1,1,1,2,1,1,0,0,1,0,1,1,0,3,1,1,1,0,1,1,1,1,1,0,0,0,0,2,1,1,1,1,1,1,1,1,0,1,1,1,1,1,0,0,1,1,0,1,1,2,1,1,1,1,2,1,0,2,0,0,1,1,2,0,1,0,1,1,1,0,1,1,2,0,1,0,0,0,0,1,0,0,0,0,0,1,0,1,2,0,1,1,0,0,1,1,1,0,0,1,0,0,0,0,0,1,1,0,0,1,0,0,1,2,1,1,0,1,1,0,1,1,0,2,1,0,1,1,1,0,1,1,1,0,1,1,1,1,1,0,0,2,1,1,0,0,2,1,1,0,1,1,1,1,4,1,1,0,1,0,1,1,2,1,1,1,1,1,0,1,1,1,1,0,0,0,0,0,1,0,1,1,1,0,0,1,1,0,1,1,0,0,1,1,0,0,1,0,0,1,0,0,0,1,1,1,1,1,1,1,2,1,1,0,0,0,1,1,1,0,2,1,1,1,0,0,1,1,1,0,0,1,0,1,0,0,1,0,0,0,0,0,1,0,1,1,0,1,0,0,0,0,1,1,1,0,1,0,0,1,1,1,0,0,1,0,1,1,0,0,0,1,0,1,1,1,1,2,1,1,1,2,1,1,0,0,1,1,1,1,2,1,2,0,1,1,0,1,1,1,1,1,1,1,1,1,1,0,0,1,0,1,1,1,1,2,0,1,1,1,0,1,1,1,1,0,1,1,2,1,2,0,1,0,1,1,1,1,1,1,1,1,1,0,1,1,1,1,1,1,1,1,1,1,1,1,1,1,1,1,1,1,1,1,0,1,0,0,1,0,0,0,0,1,1,0,1,1,0,2,1,1,0,1,1,1,1,1,1,1,0,1,1,1,1,0,1,1,1,1,0,0,1,0,0,0,1,0,1,0,1,1,1,0,1,1,0,1,0,0,0,0,1,1,0,0,0,0,0,0,1,1,0,0,1,0,1,0,1,0,0,0,0,1,1,1,1,1,1,1,1,1,1,0,1,1,0,1,1,0,1,2,0,0,0,0,1,1,1,0,1,1,0,1,1,1,1,1,1,0,0,1,0,1,1,0,0,0,1,1,1,4,1,1,2,0,1,1,1,1,0,1,0,1,1,1,1,0,1,1,0,0,1,1,1,1,1,1,1,0,0,0,0,1,1,1,1,2,1,0,0,1,2,1,1,1,2,1,1,1,1,1,1,0,0,1,0,0,1,1,0,0,1,0,1,1,1,1,1,1,1,1,1,0,0,1,0,1,0,0,1,1,0,1,0,0,1,1,1,1,0,0,0,0,1,0,0,1,0,0,1,0,0,2,0,1,1,0,0,2,1,0,0,1,1,1,0,0,1,0,1,0,1,0,1,1,1,1,1,1,1,1,0,1,1,0,0,0,1,1,0,0,0,1,0,0,1,1,1,1,1,0,1,0,0,0,2,1,1,1,1,0,0,0,1,1,0,0,1,1,1,0,1,1,1,1,1,0,1,1,1,1,1,0,2,0,1,0,1,0,1,1,1,1,1,1,2,0,0,0,1,1,0,0,0,0,0,0,0,0,0,0,0,0,0,0,0,0,0,1,0,2,0,0,0,1,0,0,0,1,1,1,0,1,1,1,0,1,0,0,1,1,1,1,0,1,0,1,0,0,0,0,0,0,0,0,0,0,0,0,1,1,1,0,1,0,1,0,1,1,0,0,0,0,1,1,1,0,1,0,0,0,1,1,0,1,1,1,1,0,0,0,1,1,1,0,1,0,0,1,0,0,0,1,1,1,2,0,0,1,0,1,2,1,0,0,0,0,1,1,0,1,1,0,0,2,0,1,1],\"xaxis\":\"x\",\"yaxis\":\"y\",\"type\":\"histogram\"}],                        {\"template\":{\"data\":{\"histogram2dcontour\":[{\"type\":\"histogram2dcontour\",\"colorbar\":{\"outlinewidth\":0,\"ticks\":\"\"},\"colorscale\":[[0.0,\"#0d0887\"],[0.1111111111111111,\"#46039f\"],[0.2222222222222222,\"#7201a8\"],[0.3333333333333333,\"#9c179e\"],[0.4444444444444444,\"#bd3786\"],[0.5555555555555556,\"#d8576b\"],[0.6666666666666666,\"#ed7953\"],[0.7777777777777778,\"#fb9f3a\"],[0.8888888888888888,\"#fdca26\"],[1.0,\"#f0f921\"]]}],\"choropleth\":[{\"type\":\"choropleth\",\"colorbar\":{\"outlinewidth\":0,\"ticks\":\"\"}}],\"histogram2d\":[{\"type\":\"histogram2d\",\"colorbar\":{\"outlinewidth\":0,\"ticks\":\"\"},\"colorscale\":[[0.0,\"#0d0887\"],[0.1111111111111111,\"#46039f\"],[0.2222222222222222,\"#7201a8\"],[0.3333333333333333,\"#9c179e\"],[0.4444444444444444,\"#bd3786\"],[0.5555555555555556,\"#d8576b\"],[0.6666666666666666,\"#ed7953\"],[0.7777777777777778,\"#fb9f3a\"],[0.8888888888888888,\"#fdca26\"],[1.0,\"#f0f921\"]]}],\"heatmap\":[{\"type\":\"heatmap\",\"colorbar\":{\"outlinewidth\":0,\"ticks\":\"\"},\"colorscale\":[[0.0,\"#0d0887\"],[0.1111111111111111,\"#46039f\"],[0.2222222222222222,\"#7201a8\"],[0.3333333333333333,\"#9c179e\"],[0.4444444444444444,\"#bd3786\"],[0.5555555555555556,\"#d8576b\"],[0.6666666666666666,\"#ed7953\"],[0.7777777777777778,\"#fb9f3a\"],[0.8888888888888888,\"#fdca26\"],[1.0,\"#f0f921\"]]}],\"heatmapgl\":[{\"type\":\"heatmapgl\",\"colorbar\":{\"outlinewidth\":0,\"ticks\":\"\"},\"colorscale\":[[0.0,\"#0d0887\"],[0.1111111111111111,\"#46039f\"],[0.2222222222222222,\"#7201a8\"],[0.3333333333333333,\"#9c179e\"],[0.4444444444444444,\"#bd3786\"],[0.5555555555555556,\"#d8576b\"],[0.6666666666666666,\"#ed7953\"],[0.7777777777777778,\"#fb9f3a\"],[0.8888888888888888,\"#fdca26\"],[1.0,\"#f0f921\"]]}],\"contourcarpet\":[{\"type\":\"contourcarpet\",\"colorbar\":{\"outlinewidth\":0,\"ticks\":\"\"}}],\"contour\":[{\"type\":\"contour\",\"colorbar\":{\"outlinewidth\":0,\"ticks\":\"\"},\"colorscale\":[[0.0,\"#0d0887\"],[0.1111111111111111,\"#46039f\"],[0.2222222222222222,\"#7201a8\"],[0.3333333333333333,\"#9c179e\"],[0.4444444444444444,\"#bd3786\"],[0.5555555555555556,\"#d8576b\"],[0.6666666666666666,\"#ed7953\"],[0.7777777777777778,\"#fb9f3a\"],[0.8888888888888888,\"#fdca26\"],[1.0,\"#f0f921\"]]}],\"surface\":[{\"type\":\"surface\",\"colorbar\":{\"outlinewidth\":0,\"ticks\":\"\"},\"colorscale\":[[0.0,\"#0d0887\"],[0.1111111111111111,\"#46039f\"],[0.2222222222222222,\"#7201a8\"],[0.3333333333333333,\"#9c179e\"],[0.4444444444444444,\"#bd3786\"],[0.5555555555555556,\"#d8576b\"],[0.6666666666666666,\"#ed7953\"],[0.7777777777777778,\"#fb9f3a\"],[0.8888888888888888,\"#fdca26\"],[1.0,\"#f0f921\"]]}],\"mesh3d\":[{\"type\":\"mesh3d\",\"colorbar\":{\"outlinewidth\":0,\"ticks\":\"\"}}],\"scatter\":[{\"fillpattern\":{\"fillmode\":\"overlay\",\"size\":10,\"solidity\":0.2},\"type\":\"scatter\"}],\"parcoords\":[{\"type\":\"parcoords\",\"line\":{\"colorbar\":{\"outlinewidth\":0,\"ticks\":\"\"}}}],\"scatterpolargl\":[{\"type\":\"scatterpolargl\",\"marker\":{\"colorbar\":{\"outlinewidth\":0,\"ticks\":\"\"}}}],\"bar\":[{\"error_x\":{\"color\":\"#2a3f5f\"},\"error_y\":{\"color\":\"#2a3f5f\"},\"marker\":{\"line\":{\"color\":\"#E5ECF6\",\"width\":0.5},\"pattern\":{\"fillmode\":\"overlay\",\"size\":10,\"solidity\":0.2}},\"type\":\"bar\"}],\"scattergeo\":[{\"type\":\"scattergeo\",\"marker\":{\"colorbar\":{\"outlinewidth\":0,\"ticks\":\"\"}}}],\"scatterpolar\":[{\"type\":\"scatterpolar\",\"marker\":{\"colorbar\":{\"outlinewidth\":0,\"ticks\":\"\"}}}],\"histogram\":[{\"marker\":{\"pattern\":{\"fillmode\":\"overlay\",\"size\":10,\"solidity\":0.2}},\"type\":\"histogram\"}],\"scattergl\":[{\"type\":\"scattergl\",\"marker\":{\"colorbar\":{\"outlinewidth\":0,\"ticks\":\"\"}}}],\"scatter3d\":[{\"type\":\"scatter3d\",\"line\":{\"colorbar\":{\"outlinewidth\":0,\"ticks\":\"\"}},\"marker\":{\"colorbar\":{\"outlinewidth\":0,\"ticks\":\"\"}}}],\"scattermapbox\":[{\"type\":\"scattermapbox\",\"marker\":{\"colorbar\":{\"outlinewidth\":0,\"ticks\":\"\"}}}],\"scatterternary\":[{\"type\":\"scatterternary\",\"marker\":{\"colorbar\":{\"outlinewidth\":0,\"ticks\":\"\"}}}],\"scattercarpet\":[{\"type\":\"scattercarpet\",\"marker\":{\"colorbar\":{\"outlinewidth\":0,\"ticks\":\"\"}}}],\"carpet\":[{\"aaxis\":{\"endlinecolor\":\"#2a3f5f\",\"gridcolor\":\"white\",\"linecolor\":\"white\",\"minorgridcolor\":\"white\",\"startlinecolor\":\"#2a3f5f\"},\"baxis\":{\"endlinecolor\":\"#2a3f5f\",\"gridcolor\":\"white\",\"linecolor\":\"white\",\"minorgridcolor\":\"white\",\"startlinecolor\":\"#2a3f5f\"},\"type\":\"carpet\"}],\"table\":[{\"cells\":{\"fill\":{\"color\":\"#EBF0F8\"},\"line\":{\"color\":\"white\"}},\"header\":{\"fill\":{\"color\":\"#C8D4E3\"},\"line\":{\"color\":\"white\"}},\"type\":\"table\"}],\"barpolar\":[{\"marker\":{\"line\":{\"color\":\"#E5ECF6\",\"width\":0.5},\"pattern\":{\"fillmode\":\"overlay\",\"size\":10,\"solidity\":0.2}},\"type\":\"barpolar\"}],\"pie\":[{\"automargin\":true,\"type\":\"pie\"}]},\"layout\":{\"autotypenumbers\":\"strict\",\"colorway\":[\"#636efa\",\"#EF553B\",\"#00cc96\",\"#ab63fa\",\"#FFA15A\",\"#19d3f3\",\"#FF6692\",\"#B6E880\",\"#FF97FF\",\"#FECB52\"],\"font\":{\"color\":\"#2a3f5f\"},\"hovermode\":\"closest\",\"hoverlabel\":{\"align\":\"left\"},\"paper_bgcolor\":\"white\",\"plot_bgcolor\":\"#E5ECF6\",\"polar\":{\"bgcolor\":\"#E5ECF6\",\"angularaxis\":{\"gridcolor\":\"white\",\"linecolor\":\"white\",\"ticks\":\"\"},\"radialaxis\":{\"gridcolor\":\"white\",\"linecolor\":\"white\",\"ticks\":\"\"}},\"ternary\":{\"bgcolor\":\"#E5ECF6\",\"aaxis\":{\"gridcolor\":\"white\",\"linecolor\":\"white\",\"ticks\":\"\"},\"baxis\":{\"gridcolor\":\"white\",\"linecolor\":\"white\",\"ticks\":\"\"},\"caxis\":{\"gridcolor\":\"white\",\"linecolor\":\"white\",\"ticks\":\"\"}},\"coloraxis\":{\"colorbar\":{\"outlinewidth\":0,\"ticks\":\"\"}},\"colorscale\":{\"sequential\":[[0.0,\"#0d0887\"],[0.1111111111111111,\"#46039f\"],[0.2222222222222222,\"#7201a8\"],[0.3333333333333333,\"#9c179e\"],[0.4444444444444444,\"#bd3786\"],[0.5555555555555556,\"#d8576b\"],[0.6666666666666666,\"#ed7953\"],[0.7777777777777778,\"#fb9f3a\"],[0.8888888888888888,\"#fdca26\"],[1.0,\"#f0f921\"]],\"sequentialminus\":[[0.0,\"#0d0887\"],[0.1111111111111111,\"#46039f\"],[0.2222222222222222,\"#7201a8\"],[0.3333333333333333,\"#9c179e\"],[0.4444444444444444,\"#bd3786\"],[0.5555555555555556,\"#d8576b\"],[0.6666666666666666,\"#ed7953\"],[0.7777777777777778,\"#fb9f3a\"],[0.8888888888888888,\"#fdca26\"],[1.0,\"#f0f921\"]],\"diverging\":[[0,\"#8e0152\"],[0.1,\"#c51b7d\"],[0.2,\"#de77ae\"],[0.3,\"#f1b6da\"],[0.4,\"#fde0ef\"],[0.5,\"#f7f7f7\"],[0.6,\"#e6f5d0\"],[0.7,\"#b8e186\"],[0.8,\"#7fbc41\"],[0.9,\"#4d9221\"],[1,\"#276419\"]]},\"xaxis\":{\"gridcolor\":\"white\",\"linecolor\":\"white\",\"ticks\":\"\",\"title\":{\"standoff\":15},\"zerolinecolor\":\"white\",\"automargin\":true,\"zerolinewidth\":2},\"yaxis\":{\"gridcolor\":\"white\",\"linecolor\":\"white\",\"ticks\":\"\",\"title\":{\"standoff\":15},\"zerolinecolor\":\"white\",\"automargin\":true,\"zerolinewidth\":2},\"scene\":{\"xaxis\":{\"backgroundcolor\":\"#E5ECF6\",\"gridcolor\":\"white\",\"linecolor\":\"white\",\"showbackground\":true,\"ticks\":\"\",\"zerolinecolor\":\"white\",\"gridwidth\":2},\"yaxis\":{\"backgroundcolor\":\"#E5ECF6\",\"gridcolor\":\"white\",\"linecolor\":\"white\",\"showbackground\":true,\"ticks\":\"\",\"zerolinecolor\":\"white\",\"gridwidth\":2},\"zaxis\":{\"backgroundcolor\":\"#E5ECF6\",\"gridcolor\":\"white\",\"linecolor\":\"white\",\"showbackground\":true,\"ticks\":\"\",\"zerolinecolor\":\"white\",\"gridwidth\":2}},\"shapedefaults\":{\"line\":{\"color\":\"#2a3f5f\"}},\"annotationdefaults\":{\"arrowcolor\":\"#2a3f5f\",\"arrowhead\":0,\"arrowwidth\":1},\"geo\":{\"bgcolor\":\"white\",\"landcolor\":\"#E5ECF6\",\"subunitcolor\":\"white\",\"showland\":true,\"showlakes\":true,\"lakecolor\":\"white\"},\"title\":{\"x\":0.05},\"mapbox\":{\"style\":\"light\"}}},\"xaxis\":{\"anchor\":\"y\",\"domain\":[0.0,1.0],\"title\":{\"text\":\"Anzahl behandelte Kleinräume\",\"font\":{\"size\":14}},\"tickfont\":{\"size\":14},\"color\":\"black\",\"gridcolor\":\"white\",\"showgrid\":false},\"yaxis\":{\"anchor\":\"x\",\"domain\":[0.0,1.0],\"title\":{\"text\":\"Anteil\",\"font\":{\"size\":14}},\"tickfont\":{\"size\":14},\"color\":\"black\",\"gridcolor\":\"lightgray\",\"zerolinecolor\":\"lightgray\"},\"legend\":{\"title\":{\"text\":\"\"},\"tracegroupgap\":0,\"font\":{\"size\":14},\"x\":0.52,\"y\":0.92,\"bordercolor\":\"black\",\"borderwidth\":1},\"margin\":{\"t\":60},\"barmode\":\"group\",\"width\":700,\"height\":300,\"bargap\":0.1,\"font\":{\"color\":\"black\"},\"plot_bgcolor\":\"white\",\"paper_bgcolor\":\"white\"},                        {\"responsive\": true}                    ).then(function(){\n",
       "                            \n",
       "var gd = document.getElementById('8bd055b7-061b-4af8-be41-d79a7ef4a1f2');\n",
       "var x = new MutationObserver(function (mutations, observer) {{\n",
       "        var display = window.getComputedStyle(gd).display;\n",
       "        if (!display || display === 'none') {{\n",
       "            console.log([gd, 'removed!']);\n",
       "            Plotly.purge(gd);\n",
       "            observer.disconnect();\n",
       "        }}\n",
       "}});\n",
       "\n",
       "// Listen for the removal of the full notebook cells\n",
       "var notebookContainer = gd.closest('#notebook-container');\n",
       "if (notebookContainer) {{\n",
       "    x.observe(notebookContainer, {childList: true});\n",
       "}}\n",
       "\n",
       "// Listen for the clearing of the current output cell\n",
       "var outputEl = gd.closest('.output');\n",
       "if (outputEl) {{\n",
       "    x.observe(outputEl, {childList: true});\n",
       "}}\n",
       "\n",
       "                        })                };                });            </script>        </div>"
      ]
     },
     "metadata": {},
     "output_type": "display_data"
    },
    {
     "data": {
      "application/vnd.plotly.v1+json": {
       "config": {
        "plotlyServerURL": "https://plot.ly"
       },
       "data": [
        {
         "alignmentgroup": "True",
         "bingroup": "x",
         "histnorm": "probability density",
         "hovertemplate": "=Nicht in hohem Maß konkret<br>(Mittelwert = 1.7)<br>Anzahl Entitäten=%{x}<br>probability density=%{y}<extra></extra>",
         "legendgroup": "Nicht in hohem Maß konkret<br>(Mittelwert = 1.7)",
         "marker": {
          "color": "#636efa",
          "pattern": {
           "shape": ""
          }
         },
         "name": "Nicht in hohem Maß konkret<br>(Mittelwert = 1.7)",
         "offsetgroup": "Nicht in hohem Maß konkret<br>(Mittelwert = 1.7)",
         "orientation": "v",
         "showlegend": true,
         "type": "histogram",
         "x": [
          3,
          1,
          1,
          2,
          2,
          2,
          2,
          2,
          2,
          2,
          2,
          1,
          1,
          1,
          2,
          4,
          1,
          1,
          2,
          2,
          1,
          2,
          1,
          2,
          3,
          1,
          2,
          1,
          1,
          1,
          1,
          1,
          4,
          1,
          2,
          2,
          2,
          2,
          3,
          1,
          1,
          1,
          1,
          1,
          3,
          3,
          3,
          3,
          1,
          2,
          2,
          1,
          2,
          3,
          3,
          2,
          1,
          1,
          2,
          2,
          2,
          3,
          2,
          3,
          1,
          2,
          2,
          2,
          1,
          1,
          1,
          1,
          2,
          2,
          2,
          2,
          3,
          3,
          2,
          2,
          1,
          1,
          2,
          3,
          1,
          1,
          2,
          4,
          2,
          1,
          3,
          1,
          1,
          1,
          1,
          1,
          1,
          3,
          2,
          2,
          1,
          2,
          1,
          2,
          1,
          1,
          2,
          2,
          3,
          1,
          1,
          1,
          3,
          1,
          1,
          2,
          1,
          3,
          2,
          2,
          2,
          1,
          1,
          3,
          1,
          2,
          1,
          1,
          1,
          2,
          1,
          3,
          2,
          1,
          2,
          2,
          3,
          1,
          1,
          1,
          1,
          1,
          3,
          1,
          2,
          1,
          2,
          1,
          2,
          1,
          2,
          2,
          1,
          1,
          1,
          1,
          2,
          1,
          2,
          3,
          3,
          3,
          1,
          2,
          1,
          2,
          2,
          1,
          1,
          3,
          2,
          1,
          2,
          1,
          2,
          3,
          1,
          1,
          1,
          2,
          1,
          1,
          3,
          1,
          1,
          5,
          1,
          2,
          1,
          2,
          3,
          2,
          2,
          5,
          1,
          1,
          1,
          2,
          3,
          2,
          1,
          2,
          1,
          1,
          2,
          1,
          1,
          1,
          1,
          1,
          2,
          1,
          3,
          3,
          1,
          1,
          1,
          1,
          1,
          1,
          3,
          2,
          1,
          2,
          1,
          3,
          2,
          3,
          2,
          4,
          2,
          2,
          3,
          3,
          2,
          2,
          1,
          1,
          3,
          2,
          2,
          1,
          2,
          1,
          2,
          1,
          1,
          1,
          2,
          2,
          1,
          1,
          2,
          1,
          1,
          1,
          2,
          2,
          1,
          1,
          2,
          1,
          2,
          1,
          1,
          2,
          3,
          1,
          2,
          3,
          1,
          1,
          1,
          2,
          5,
          1,
          1,
          1,
          1,
          1,
          1,
          1,
          1,
          1,
          1,
          1,
          2,
          2,
          1,
          1,
          1,
          2,
          1,
          2,
          1,
          1,
          1,
          1,
          2,
          1,
          1,
          2,
          4,
          1,
          1,
          1,
          2,
          2,
          2,
          1,
          2,
          1,
          1,
          4,
          2,
          1,
          2,
          1,
          1,
          1,
          2,
          1,
          2,
          2,
          2,
          3,
          2,
          1,
          2,
          2,
          2,
          2,
          2,
          2,
          1,
          2,
          2
         ],
         "xaxis": "x",
         "yaxis": "y"
        },
        {
         "alignmentgroup": "True",
         "bingroup": "x",
         "histnorm": "probability density",
         "hovertemplate": "=In hohem Maß konkret<br>(Mittelwert = 2.21)<br>Anzahl Entitäten=%{x}<br>probability density=%{y}<extra></extra>",
         "legendgroup": "In hohem Maß konkret<br>(Mittelwert = 2.21)",
         "marker": {
          "color": "#EF553B",
          "pattern": {
           "shape": ""
          }
         },
         "name": "In hohem Maß konkret<br>(Mittelwert = 2.21)",
         "offsetgroup": "In hohem Maß konkret<br>(Mittelwert = 2.21)",
         "orientation": "v",
         "showlegend": true,
         "type": "histogram",
         "x": [
          3,
          4,
          1,
          2,
          2,
          3,
          2,
          2,
          2,
          2,
          2,
          2,
          3,
          4,
          2,
          1,
          2,
          2,
          2,
          3,
          2,
          3,
          2,
          2,
          2,
          4,
          2,
          2,
          2,
          2,
          2,
          2,
          3,
          3,
          2,
          2,
          4,
          1,
          3,
          2,
          4,
          2,
          2,
          2,
          3,
          3,
          2,
          3,
          2,
          1,
          2,
          1,
          2,
          2,
          2,
          2,
          4,
          3,
          3,
          3,
          2,
          3,
          3,
          3,
          2,
          2,
          3,
          2,
          2,
          4,
          2,
          2,
          2,
          1,
          3,
          2,
          3,
          3,
          3,
          3,
          3,
          2,
          2,
          2,
          1,
          2,
          2,
          2,
          4,
          4,
          2,
          3,
          2,
          3,
          3,
          2,
          3,
          2,
          1,
          1,
          3,
          1,
          3,
          2,
          3,
          2,
          3,
          4,
          3,
          3,
          2,
          3,
          2,
          2,
          2,
          1,
          3,
          3,
          3,
          2,
          3,
          3,
          2,
          2,
          3,
          3,
          1,
          1,
          2,
          2,
          2,
          2,
          3,
          2,
          1,
          2,
          2,
          2,
          3,
          2,
          3,
          2,
          2,
          3,
          1,
          2,
          2,
          1,
          2,
          1,
          2,
          3,
          2,
          2,
          1,
          1,
          4,
          1,
          5,
          2,
          2,
          2,
          1,
          3,
          2,
          2,
          4,
          2,
          3,
          3,
          1,
          3,
          3,
          1,
          2,
          2,
          4,
          2,
          2,
          2,
          3,
          3,
          2,
          3,
          3,
          3,
          3,
          2,
          3,
          2,
          2,
          2,
          2,
          2,
          3,
          3,
          2,
          3,
          2,
          2,
          3,
          2,
          4,
          2,
          2,
          2,
          2,
          2,
          2,
          3,
          2,
          2,
          2,
          4,
          3,
          3,
          2,
          2,
          1,
          4,
          2,
          3,
          2,
          4,
          3,
          2,
          2,
          3,
          2,
          1,
          3,
          3,
          1,
          2,
          3,
          1,
          2,
          3,
          2,
          2,
          2,
          1,
          2,
          2,
          2,
          3,
          1,
          3,
          2,
          2,
          3,
          2,
          2,
          3,
          3,
          2,
          2,
          2,
          2,
          3,
          4,
          3,
          2,
          2,
          2,
          2,
          2,
          1,
          6,
          2,
          2,
          3,
          2,
          3,
          3,
          2,
          3,
          2,
          3,
          4,
          2,
          2,
          3,
          4,
          2,
          2,
          4,
          1,
          1,
          2,
          3,
          2,
          2,
          3,
          3,
          2,
          2,
          1,
          2,
          2,
          2,
          2,
          2,
          1,
          1,
          3,
          2,
          3,
          1,
          2,
          3,
          4,
          2,
          2,
          3,
          1,
          2,
          1,
          2,
          2,
          2,
          1,
          2,
          3,
          2,
          1,
          2,
          2,
          2,
          2,
          2,
          3,
          3,
          1,
          2,
          2,
          2,
          2,
          2,
          2,
          3,
          3,
          4,
          2,
          3,
          3,
          3,
          2,
          1,
          1,
          3,
          3,
          2,
          3,
          2,
          2,
          2,
          2,
          3,
          2,
          1,
          2,
          1,
          2,
          2,
          4,
          2,
          1,
          1,
          3,
          2,
          2,
          1,
          2,
          3,
          3,
          5,
          3,
          3,
          2,
          3,
          2,
          4,
          2,
          2,
          2,
          2,
          4,
          3,
          2,
          2,
          2,
          3,
          2,
          1,
          2,
          2,
          3,
          3,
          4,
          2,
          3,
          1,
          4,
          2,
          2,
          2,
          4,
          3,
          2,
          2,
          3,
          1,
          3,
          1,
          2,
          1,
          3,
          2,
          2,
          2,
          2,
          3,
          2,
          2,
          4,
          3,
          2,
          2,
          2,
          2,
          2,
          3,
          3,
          2,
          3,
          2,
          3,
          2,
          2,
          3,
          3,
          3,
          1,
          3,
          1,
          1,
          3,
          2,
          2,
          1,
          2,
          2,
          2,
          3,
          2,
          3,
          2,
          1,
          3,
          4,
          2,
          3,
          3,
          4,
          3,
          2,
          2,
          1,
          2,
          3,
          1,
          2,
          2,
          3,
          3,
          1,
          1,
          2,
          2,
          2,
          2,
          2,
          2,
          1,
          1,
          3,
          3,
          4,
          4,
          3,
          2,
          3,
          1,
          1,
          2,
          4,
          3,
          2,
          1,
          2,
          1,
          2,
          3,
          2,
          2,
          2,
          2,
          2,
          3,
          2,
          2,
          1,
          2,
          2,
          3,
          2,
          2,
          2,
          3,
          1,
          3,
          2,
          1,
          2,
          2,
          2,
          2,
          1,
          3,
          1,
          2,
          3,
          4,
          2,
          3,
          2,
          3,
          2,
          3,
          2,
          3,
          2,
          2,
          2,
          2,
          3,
          2,
          2,
          3,
          3,
          2,
          3,
          1,
          3,
          2,
          3,
          2,
          3,
          4,
          1,
          3,
          2,
          3,
          2,
          2,
          4,
          1,
          2,
          2,
          2,
          2,
          2,
          1,
          2,
          2,
          3,
          2,
          2,
          1,
          3,
          1,
          2,
          2,
          1,
          2,
          2,
          2,
          2,
          2,
          1,
          3,
          3,
          3,
          2,
          2,
          3,
          3,
          4,
          4,
          3,
          3,
          2,
          3,
          1,
          3,
          3,
          2,
          2,
          2,
          1,
          3,
          2,
          2,
          3,
          2,
          4,
          3,
          2,
          2,
          2,
          4,
          2,
          2,
          2,
          2,
          2,
          3,
          2,
          1,
          2,
          3,
          3,
          1,
          1,
          2,
          2,
          2,
          3,
          1,
          3,
          1,
          2,
          2,
          2,
          2,
          2,
          2,
          3,
          3,
          3,
          3,
          3,
          2,
          2,
          1,
          1,
          3,
          4,
          3,
          2,
          1,
          2,
          3,
          3,
          2,
          1,
          2,
          3,
          3,
          2,
          2,
          2,
          3,
          4,
          2,
          2,
          3,
          3,
          3,
          3,
          2,
          2,
          4,
          2,
          2,
          3,
          2,
          2,
          2,
          2,
          3,
          1,
          2,
          1,
          1,
          3,
          3,
          2,
          2,
          1,
          3,
          1,
          2,
          4,
          3,
          3,
          3,
          2,
          1,
          3,
          2,
          2,
          3,
          4,
          3,
          2,
          1,
          1,
          3,
          3,
          3,
          4,
          4,
          2,
          3,
          3,
          1,
          3,
          4,
          2,
          3,
          3,
          2,
          2,
          2,
          3,
          2,
          2,
          3,
          2,
          3,
          3,
          2,
          1,
          2,
          2,
          3,
          2,
          3,
          3,
          2,
          3,
          4,
          3,
          3,
          3,
          1,
          3,
          3,
          3,
          2,
          2,
          2,
          2,
          2,
          2,
          2,
          1,
          2,
          2,
          3,
          1,
          4,
          2,
          2,
          1,
          2,
          1,
          1,
          2,
          2,
          3,
          4,
          4,
          3,
          2,
          3,
          2,
          2,
          1,
          3,
          1,
          2,
          2,
          1,
          3,
          3,
          2,
          2,
          3,
          2,
          1,
          2,
          3,
          3,
          3,
          2,
          3,
          2,
          3,
          2,
          3,
          2,
          2,
          1,
          1,
          2,
          4,
          2,
          2,
          3,
          2,
          3,
          1,
          4,
          3,
          2,
          3,
          1,
          4,
          1,
          4,
          1,
          1,
          1,
          2,
          2,
          2,
          2,
          3,
          1,
          2,
          1,
          2,
          1,
          2,
          2,
          2,
          2,
          4,
          2,
          1,
          3,
          1,
          2,
          1,
          1,
          3,
          3,
          2,
          3,
          2,
          3,
          3,
          2,
          2,
          3,
          2,
          3,
          2,
          3,
          2,
          3,
          3,
          3,
          2,
          4,
          2,
          1,
          2,
          3,
          2,
          2,
          1,
          2,
          3,
          1,
          2,
          1,
          3,
          1,
          1,
          1,
          3,
          1,
          2,
          2,
          2,
          2,
          3,
          2,
          3,
          3,
          1,
          1,
          2,
          3,
          2,
          3,
          3,
          3,
          1,
          3,
          4,
          3,
          4,
          1,
          2,
          3,
          3,
          1,
          2,
          3,
          2,
          1,
          3,
          4,
          3,
          2,
          4,
          2,
          1,
          2,
          2,
          4,
          3,
          2,
          3,
          2,
          3,
          2,
          2,
          2,
          1,
          3,
          2,
          2,
          1,
          1,
          2,
          2,
          2,
          3,
          3,
          2,
          2,
          1,
          3,
          2,
          2,
          1,
          2,
          2,
          2,
          2,
          2,
          2,
          1,
          4,
          3,
          3,
          3,
          2,
          2,
          1,
          3,
          2,
          2,
          2,
          2,
          3,
          2,
          2,
          3,
          1,
          3,
          3,
          2,
          2,
          2,
          2,
          3,
          3,
          2,
          2,
          4,
          3,
          4,
          3,
          2,
          2,
          2,
          1,
          2,
          2,
          3,
          1,
          1,
          2,
          2,
          1,
          3,
          2,
          2,
          3,
          1,
          2,
          3,
          3,
          3,
          2,
          1,
          2,
          2,
          3,
          2,
          3,
          2,
          2,
          3,
          1,
          1,
          2,
          2,
          2,
          3,
          1,
          2,
          2,
          3,
          1,
          1,
          1,
          1,
          2,
          2,
          2,
          1,
          1,
          1,
          2,
          2,
          3,
          2,
          1,
          3,
          2,
          1,
          1,
          2,
          2,
          1,
          1,
          2,
          1,
          1,
          4,
          1,
          2,
          2,
          4,
          1,
          2,
          2,
          2,
          2,
          2,
          3,
          1,
          2,
          2,
          2,
          3,
          2,
          2,
          1,
          3,
          2,
          1,
          2,
          2,
          3,
          2,
          3,
          2,
          2,
          1,
          2,
          1,
          3,
          3,
          1,
          2,
          2,
          2,
          1,
          2,
          1,
          2,
          3,
          4,
          2,
          3,
          1,
          2,
          2,
          1,
          1,
          3,
          3,
          1,
          2,
          1,
          2,
          3,
          3,
          2,
          2,
          2,
          2,
          3,
          3,
          2,
          1,
          2,
          2,
          1,
          1,
          4,
          1,
          3,
          3,
          2,
          1,
          1,
          1,
          2,
          3,
          3,
          3,
          3,
          2,
          1,
          2,
          2,
          4,
          2,
          1,
          2,
          1,
          3,
          2,
          1,
          2,
          2,
          2,
          2,
          2,
          3,
          2,
          2,
          1,
          2,
          2,
          1,
          1,
          3,
          1,
          1,
          1,
          1,
          2,
          1,
          2,
          1,
          2,
          1,
          2,
          1,
          2,
          2,
          2,
          1,
          2,
          2,
          1,
          1,
          1,
          2,
          2,
          2,
          1,
          1,
          4,
          2,
          1,
          1,
          1,
          2,
          1,
          2,
          1,
          3,
          1,
          3,
          3,
          2,
          3,
          2,
          2,
          2,
          3,
          2,
          2,
          2,
          2,
          1,
          1,
          2,
          3,
          3,
          1,
          3,
          3,
          4,
          3,
          1,
          2,
          4,
          2,
          1,
          2,
          2,
          1,
          1,
          2,
          3,
          2,
          4,
          3,
          3,
          2,
          2,
          2,
          3,
          1,
          2,
          1,
          3,
          1,
          4,
          2,
          2,
          2,
          2,
          1,
          1,
          1,
          1,
          3,
          1,
          2,
          3,
          1,
          4,
          3,
          1,
          2,
          3,
          2,
          2,
          2,
          3,
          2,
          2,
          2,
          3,
          2,
          3,
          1,
          1,
          2,
          4,
          5,
          1,
          1,
          3,
          2,
          3,
          2,
          2,
          1,
          1,
          1,
          2,
          1,
          2,
          2,
          2,
          2,
          2,
          3,
          1,
          2,
          1,
          2,
          1,
          3,
          3,
          3,
          3,
          2,
          1,
          3,
          2,
          1,
          3,
          1,
          3,
          3,
          4,
          3,
          1,
          2,
          2,
          2,
          2,
          2,
          6,
          4,
          2,
          2,
          2,
          2,
          2,
          2,
          2,
          2,
          2,
          2,
          2,
          2,
          2,
          1,
          1,
          1,
          1,
          1,
          2,
          4,
          3,
          1,
          3,
          3,
          2,
          2,
          3,
          2,
          3,
          2,
          2,
          2,
          4,
          2,
          2,
          2,
          1,
          1,
          1,
          3,
          2,
          1,
          1,
          3,
          4,
          2,
          1,
          3,
          3,
          1,
          2,
          1,
          2,
          3,
          2,
          2,
          2,
          1,
          2,
          5,
          2,
          2,
          2,
          2,
          2,
          3,
          3,
          2,
          2,
          3,
          1,
          3,
          2,
          3,
          3,
          3,
          3,
          3,
          1,
          2,
          2,
          2,
          3,
          2,
          1,
          2,
          4,
          1,
          2,
          1,
          2,
          2,
          1,
          2,
          2,
          1,
          2,
          3,
          2,
          2,
          2,
          2,
          2,
          3,
          2,
          1,
          2,
          3,
          1,
          2,
          1,
          2,
          2,
          1,
          2,
          3,
          3,
          1,
          1,
          2,
          2,
          1,
          2,
          3,
          3,
          2,
          2,
          2,
          2,
          1,
          1,
          1,
          1,
          2,
          3,
          3,
          2,
          2,
          1,
          2,
          1,
          3,
          2,
          3,
          2,
          1,
          2,
          1,
          2,
          1,
          1,
          2,
          1,
          4,
          2,
          4,
          3,
          3,
          3,
          6,
          3,
          2,
          1,
          3,
          2,
          3,
          2,
          2,
          3,
          2,
          3,
          1
         ],
         "xaxis": "x",
         "yaxis": "y"
        }
       ],
       "layout": {
        "bargap": 0.1,
        "barmode": "group",
        "font": {
         "color": "black"
        },
        "height": 300,
        "legend": {
         "bordercolor": "black",
         "borderwidth": 1,
         "font": {
          "size": 14
         },
         "title": {
          "text": ""
         },
         "tracegroupgap": 0,
         "x": 0.52,
         "y": 0.92
        },
        "margin": {
         "t": 60
        },
        "paper_bgcolor": "white",
        "plot_bgcolor": "white",
        "template": {
         "data": {
          "bar": [
           {
            "error_x": {
             "color": "#2a3f5f"
            },
            "error_y": {
             "color": "#2a3f5f"
            },
            "marker": {
             "line": {
              "color": "#E5ECF6",
              "width": 0.5
             },
             "pattern": {
              "fillmode": "overlay",
              "size": 10,
              "solidity": 0.2
             }
            },
            "type": "bar"
           }
          ],
          "barpolar": [
           {
            "marker": {
             "line": {
              "color": "#E5ECF6",
              "width": 0.5
             },
             "pattern": {
              "fillmode": "overlay",
              "size": 10,
              "solidity": 0.2
             }
            },
            "type": "barpolar"
           }
          ],
          "carpet": [
           {
            "aaxis": {
             "endlinecolor": "#2a3f5f",
             "gridcolor": "white",
             "linecolor": "white",
             "minorgridcolor": "white",
             "startlinecolor": "#2a3f5f"
            },
            "baxis": {
             "endlinecolor": "#2a3f5f",
             "gridcolor": "white",
             "linecolor": "white",
             "minorgridcolor": "white",
             "startlinecolor": "#2a3f5f"
            },
            "type": "carpet"
           }
          ],
          "choropleth": [
           {
            "colorbar": {
             "outlinewidth": 0,
             "ticks": ""
            },
            "type": "choropleth"
           }
          ],
          "contour": [
           {
            "colorbar": {
             "outlinewidth": 0,
             "ticks": ""
            },
            "colorscale": [
             [
              0,
              "#0d0887"
             ],
             [
              0.1111111111111111,
              "#46039f"
             ],
             [
              0.2222222222222222,
              "#7201a8"
             ],
             [
              0.3333333333333333,
              "#9c179e"
             ],
             [
              0.4444444444444444,
              "#bd3786"
             ],
             [
              0.5555555555555556,
              "#d8576b"
             ],
             [
              0.6666666666666666,
              "#ed7953"
             ],
             [
              0.7777777777777778,
              "#fb9f3a"
             ],
             [
              0.8888888888888888,
              "#fdca26"
             ],
             [
              1,
              "#f0f921"
             ]
            ],
            "type": "contour"
           }
          ],
          "contourcarpet": [
           {
            "colorbar": {
             "outlinewidth": 0,
             "ticks": ""
            },
            "type": "contourcarpet"
           }
          ],
          "heatmap": [
           {
            "colorbar": {
             "outlinewidth": 0,
             "ticks": ""
            },
            "colorscale": [
             [
              0,
              "#0d0887"
             ],
             [
              0.1111111111111111,
              "#46039f"
             ],
             [
              0.2222222222222222,
              "#7201a8"
             ],
             [
              0.3333333333333333,
              "#9c179e"
             ],
             [
              0.4444444444444444,
              "#bd3786"
             ],
             [
              0.5555555555555556,
              "#d8576b"
             ],
             [
              0.6666666666666666,
              "#ed7953"
             ],
             [
              0.7777777777777778,
              "#fb9f3a"
             ],
             [
              0.8888888888888888,
              "#fdca26"
             ],
             [
              1,
              "#f0f921"
             ]
            ],
            "type": "heatmap"
           }
          ],
          "heatmapgl": [
           {
            "colorbar": {
             "outlinewidth": 0,
             "ticks": ""
            },
            "colorscale": [
             [
              0,
              "#0d0887"
             ],
             [
              0.1111111111111111,
              "#46039f"
             ],
             [
              0.2222222222222222,
              "#7201a8"
             ],
             [
              0.3333333333333333,
              "#9c179e"
             ],
             [
              0.4444444444444444,
              "#bd3786"
             ],
             [
              0.5555555555555556,
              "#d8576b"
             ],
             [
              0.6666666666666666,
              "#ed7953"
             ],
             [
              0.7777777777777778,
              "#fb9f3a"
             ],
             [
              0.8888888888888888,
              "#fdca26"
             ],
             [
              1,
              "#f0f921"
             ]
            ],
            "type": "heatmapgl"
           }
          ],
          "histogram": [
           {
            "marker": {
             "pattern": {
              "fillmode": "overlay",
              "size": 10,
              "solidity": 0.2
             }
            },
            "type": "histogram"
           }
          ],
          "histogram2d": [
           {
            "colorbar": {
             "outlinewidth": 0,
             "ticks": ""
            },
            "colorscale": [
             [
              0,
              "#0d0887"
             ],
             [
              0.1111111111111111,
              "#46039f"
             ],
             [
              0.2222222222222222,
              "#7201a8"
             ],
             [
              0.3333333333333333,
              "#9c179e"
             ],
             [
              0.4444444444444444,
              "#bd3786"
             ],
             [
              0.5555555555555556,
              "#d8576b"
             ],
             [
              0.6666666666666666,
              "#ed7953"
             ],
             [
              0.7777777777777778,
              "#fb9f3a"
             ],
             [
              0.8888888888888888,
              "#fdca26"
             ],
             [
              1,
              "#f0f921"
             ]
            ],
            "type": "histogram2d"
           }
          ],
          "histogram2dcontour": [
           {
            "colorbar": {
             "outlinewidth": 0,
             "ticks": ""
            },
            "colorscale": [
             [
              0,
              "#0d0887"
             ],
             [
              0.1111111111111111,
              "#46039f"
             ],
             [
              0.2222222222222222,
              "#7201a8"
             ],
             [
              0.3333333333333333,
              "#9c179e"
             ],
             [
              0.4444444444444444,
              "#bd3786"
             ],
             [
              0.5555555555555556,
              "#d8576b"
             ],
             [
              0.6666666666666666,
              "#ed7953"
             ],
             [
              0.7777777777777778,
              "#fb9f3a"
             ],
             [
              0.8888888888888888,
              "#fdca26"
             ],
             [
              1,
              "#f0f921"
             ]
            ],
            "type": "histogram2dcontour"
           }
          ],
          "mesh3d": [
           {
            "colorbar": {
             "outlinewidth": 0,
             "ticks": ""
            },
            "type": "mesh3d"
           }
          ],
          "parcoords": [
           {
            "line": {
             "colorbar": {
              "outlinewidth": 0,
              "ticks": ""
             }
            },
            "type": "parcoords"
           }
          ],
          "pie": [
           {
            "automargin": true,
            "type": "pie"
           }
          ],
          "scatter": [
           {
            "fillpattern": {
             "fillmode": "overlay",
             "size": 10,
             "solidity": 0.2
            },
            "type": "scatter"
           }
          ],
          "scatter3d": [
           {
            "line": {
             "colorbar": {
              "outlinewidth": 0,
              "ticks": ""
             }
            },
            "marker": {
             "colorbar": {
              "outlinewidth": 0,
              "ticks": ""
             }
            },
            "type": "scatter3d"
           }
          ],
          "scattercarpet": [
           {
            "marker": {
             "colorbar": {
              "outlinewidth": 0,
              "ticks": ""
             }
            },
            "type": "scattercarpet"
           }
          ],
          "scattergeo": [
           {
            "marker": {
             "colorbar": {
              "outlinewidth": 0,
              "ticks": ""
             }
            },
            "type": "scattergeo"
           }
          ],
          "scattergl": [
           {
            "marker": {
             "colorbar": {
              "outlinewidth": 0,
              "ticks": ""
             }
            },
            "type": "scattergl"
           }
          ],
          "scattermapbox": [
           {
            "marker": {
             "colorbar": {
              "outlinewidth": 0,
              "ticks": ""
             }
            },
            "type": "scattermapbox"
           }
          ],
          "scatterpolar": [
           {
            "marker": {
             "colorbar": {
              "outlinewidth": 0,
              "ticks": ""
             }
            },
            "type": "scatterpolar"
           }
          ],
          "scatterpolargl": [
           {
            "marker": {
             "colorbar": {
              "outlinewidth": 0,
              "ticks": ""
             }
            },
            "type": "scatterpolargl"
           }
          ],
          "scatterternary": [
           {
            "marker": {
             "colorbar": {
              "outlinewidth": 0,
              "ticks": ""
             }
            },
            "type": "scatterternary"
           }
          ],
          "surface": [
           {
            "colorbar": {
             "outlinewidth": 0,
             "ticks": ""
            },
            "colorscale": [
             [
              0,
              "#0d0887"
             ],
             [
              0.1111111111111111,
              "#46039f"
             ],
             [
              0.2222222222222222,
              "#7201a8"
             ],
             [
              0.3333333333333333,
              "#9c179e"
             ],
             [
              0.4444444444444444,
              "#bd3786"
             ],
             [
              0.5555555555555556,
              "#d8576b"
             ],
             [
              0.6666666666666666,
              "#ed7953"
             ],
             [
              0.7777777777777778,
              "#fb9f3a"
             ],
             [
              0.8888888888888888,
              "#fdca26"
             ],
             [
              1,
              "#f0f921"
             ]
            ],
            "type": "surface"
           }
          ],
          "table": [
           {
            "cells": {
             "fill": {
              "color": "#EBF0F8"
             },
             "line": {
              "color": "white"
             }
            },
            "header": {
             "fill": {
              "color": "#C8D4E3"
             },
             "line": {
              "color": "white"
             }
            },
            "type": "table"
           }
          ]
         },
         "layout": {
          "annotationdefaults": {
           "arrowcolor": "#2a3f5f",
           "arrowhead": 0,
           "arrowwidth": 1
          },
          "autotypenumbers": "strict",
          "coloraxis": {
           "colorbar": {
            "outlinewidth": 0,
            "ticks": ""
           }
          },
          "colorscale": {
           "diverging": [
            [
             0,
             "#8e0152"
            ],
            [
             0.1,
             "#c51b7d"
            ],
            [
             0.2,
             "#de77ae"
            ],
            [
             0.3,
             "#f1b6da"
            ],
            [
             0.4,
             "#fde0ef"
            ],
            [
             0.5,
             "#f7f7f7"
            ],
            [
             0.6,
             "#e6f5d0"
            ],
            [
             0.7,
             "#b8e186"
            ],
            [
             0.8,
             "#7fbc41"
            ],
            [
             0.9,
             "#4d9221"
            ],
            [
             1,
             "#276419"
            ]
           ],
           "sequential": [
            [
             0,
             "#0d0887"
            ],
            [
             0.1111111111111111,
             "#46039f"
            ],
            [
             0.2222222222222222,
             "#7201a8"
            ],
            [
             0.3333333333333333,
             "#9c179e"
            ],
            [
             0.4444444444444444,
             "#bd3786"
            ],
            [
             0.5555555555555556,
             "#d8576b"
            ],
            [
             0.6666666666666666,
             "#ed7953"
            ],
            [
             0.7777777777777778,
             "#fb9f3a"
            ],
            [
             0.8888888888888888,
             "#fdca26"
            ],
            [
             1,
             "#f0f921"
            ]
           ],
           "sequentialminus": [
            [
             0,
             "#0d0887"
            ],
            [
             0.1111111111111111,
             "#46039f"
            ],
            [
             0.2222222222222222,
             "#7201a8"
            ],
            [
             0.3333333333333333,
             "#9c179e"
            ],
            [
             0.4444444444444444,
             "#bd3786"
            ],
            [
             0.5555555555555556,
             "#d8576b"
            ],
            [
             0.6666666666666666,
             "#ed7953"
            ],
            [
             0.7777777777777778,
             "#fb9f3a"
            ],
            [
             0.8888888888888888,
             "#fdca26"
            ],
            [
             1,
             "#f0f921"
            ]
           ]
          },
          "colorway": [
           "#636efa",
           "#EF553B",
           "#00cc96",
           "#ab63fa",
           "#FFA15A",
           "#19d3f3",
           "#FF6692",
           "#B6E880",
           "#FF97FF",
           "#FECB52"
          ],
          "font": {
           "color": "#2a3f5f"
          },
          "geo": {
           "bgcolor": "white",
           "lakecolor": "white",
           "landcolor": "#E5ECF6",
           "showlakes": true,
           "showland": true,
           "subunitcolor": "white"
          },
          "hoverlabel": {
           "align": "left"
          },
          "hovermode": "closest",
          "mapbox": {
           "style": "light"
          },
          "paper_bgcolor": "white",
          "plot_bgcolor": "#E5ECF6",
          "polar": {
           "angularaxis": {
            "gridcolor": "white",
            "linecolor": "white",
            "ticks": ""
           },
           "bgcolor": "#E5ECF6",
           "radialaxis": {
            "gridcolor": "white",
            "linecolor": "white",
            "ticks": ""
           }
          },
          "scene": {
           "xaxis": {
            "backgroundcolor": "#E5ECF6",
            "gridcolor": "white",
            "gridwidth": 2,
            "linecolor": "white",
            "showbackground": true,
            "ticks": "",
            "zerolinecolor": "white"
           },
           "yaxis": {
            "backgroundcolor": "#E5ECF6",
            "gridcolor": "white",
            "gridwidth": 2,
            "linecolor": "white",
            "showbackground": true,
            "ticks": "",
            "zerolinecolor": "white"
           },
           "zaxis": {
            "backgroundcolor": "#E5ECF6",
            "gridcolor": "white",
            "gridwidth": 2,
            "linecolor": "white",
            "showbackground": true,
            "ticks": "",
            "zerolinecolor": "white"
           }
          },
          "shapedefaults": {
           "line": {
            "color": "#2a3f5f"
           }
          },
          "ternary": {
           "aaxis": {
            "gridcolor": "white",
            "linecolor": "white",
            "ticks": ""
           },
           "baxis": {
            "gridcolor": "white",
            "linecolor": "white",
            "ticks": ""
           },
           "bgcolor": "#E5ECF6",
           "caxis": {
            "gridcolor": "white",
            "linecolor": "white",
            "ticks": ""
           }
          },
          "title": {
           "x": 0.05
          },
          "xaxis": {
           "automargin": true,
           "gridcolor": "white",
           "linecolor": "white",
           "ticks": "",
           "title": {
            "standoff": 15
           },
           "zerolinecolor": "white",
           "zerolinewidth": 2
          },
          "yaxis": {
           "automargin": true,
           "gridcolor": "white",
           "linecolor": "white",
           "ticks": "",
           "title": {
            "standoff": 15
           },
           "zerolinecolor": "white",
           "zerolinewidth": 2
          }
         }
        },
        "width": 700,
        "xaxis": {
         "anchor": "y",
         "autorange": true,
         "color": "black",
         "domain": [
          0,
          1
         ],
         "gridcolor": "white",
         "range": [
          0.5,
          6.5
         ],
         "showgrid": false,
         "tickfont": {
          "size": 14
         },
         "title": {
          "font": {
           "size": 14
          },
          "text": "Anzahl Entitäten"
         },
         "type": "linear"
        },
        "yaxis": {
         "anchor": "x",
         "autorange": true,
         "color": "black",
         "domain": [
          0,
          1
         ],
         "gridcolor": "lightgray",
         "range": [
          0,
          0.5091363423395283
         ],
         "tickfont": {
          "size": 14
         },
         "title": {
          "font": {
           "size": 14
          },
          "text": "Anteil"
         },
         "zerolinecolor": "lightgray"
        }
       }
      },
      "text/html": [
       "<div>                            <div id=\"5e8df012-7efc-4673-a2bc-e72600ecd92c\" class=\"plotly-graph-div\" style=\"height:300px; width:700px;\"></div>            <script type=\"text/javascript\">                require([\"plotly\"], function(Plotly) {                    window.PLOTLYENV=window.PLOTLYENV || {};                                    if (document.getElementById(\"5e8df012-7efc-4673-a2bc-e72600ecd92c\")) {                    Plotly.newPlot(                        \"5e8df012-7efc-4673-a2bc-e72600ecd92c\",                        [{\"alignmentgroup\":\"True\",\"bingroup\":\"x\",\"histnorm\":\"probability density\",\"hovertemplate\":\"=Nicht in hohem Maß konkret\\u003cbr\\u003e(Mittelwert = 1.7)\\u003cbr\\u003eAnzahl Entitäten=%{x}\\u003cbr\\u003eprobability density=%{y}\\u003cextra\\u003e\\u003c\\u002fextra\\u003e\",\"legendgroup\":\"Nicht in hohem Maß konkret\\u003cbr\\u003e(Mittelwert = 1.7)\",\"marker\":{\"color\":\"#636efa\",\"pattern\":{\"shape\":\"\"}},\"name\":\"Nicht in hohem Maß konkret\\u003cbr\\u003e(Mittelwert = 1.7)\",\"offsetgroup\":\"Nicht in hohem Maß konkret\\u003cbr\\u003e(Mittelwert = 1.7)\",\"orientation\":\"v\",\"showlegend\":true,\"x\":[3,1,1,2,2,2,2,2,2,2,2,1,1,1,2,4,1,1,2,2,1,2,1,2,3,1,2,1,1,1,1,1,4,1,2,2,2,2,3,1,1,1,1,1,3,3,3,3,1,2,2,1,2,3,3,2,1,1,2,2,2,3,2,3,1,2,2,2,1,1,1,1,2,2,2,2,3,3,2,2,1,1,2,3,1,1,2,4,2,1,3,1,1,1,1,1,1,3,2,2,1,2,1,2,1,1,2,2,3,1,1,1,3,1,1,2,1,3,2,2,2,1,1,3,1,2,1,1,1,2,1,3,2,1,2,2,3,1,1,1,1,1,3,1,2,1,2,1,2,1,2,2,1,1,1,1,2,1,2,3,3,3,1,2,1,2,2,1,1,3,2,1,2,1,2,3,1,1,1,2,1,1,3,1,1,5,1,2,1,2,3,2,2,5,1,1,1,2,3,2,1,2,1,1,2,1,1,1,1,1,2,1,3,3,1,1,1,1,1,1,3,2,1,2,1,3,2,3,2,4,2,2,3,3,2,2,1,1,3,2,2,1,2,1,2,1,1,1,2,2,1,1,2,1,1,1,2,2,1,1,2,1,2,1,1,2,3,1,2,3,1,1,1,2,5,1,1,1,1,1,1,1,1,1,1,1,2,2,1,1,1,2,1,2,1,1,1,1,2,1,1,2,4,1,1,1,2,2,2,1,2,1,1,4,2,1,2,1,1,1,2,1,2,2,2,3,2,1,2,2,2,2,2,2,1,2,2],\"xaxis\":\"x\",\"yaxis\":\"y\",\"type\":\"histogram\"},{\"alignmentgroup\":\"True\",\"bingroup\":\"x\",\"histnorm\":\"probability density\",\"hovertemplate\":\"=In hohem Maß konkret\\u003cbr\\u003e(Mittelwert = 2.21)\\u003cbr\\u003eAnzahl Entitäten=%{x}\\u003cbr\\u003eprobability density=%{y}\\u003cextra\\u003e\\u003c\\u002fextra\\u003e\",\"legendgroup\":\"In hohem Maß konkret\\u003cbr\\u003e(Mittelwert = 2.21)\",\"marker\":{\"color\":\"#EF553B\",\"pattern\":{\"shape\":\"\"}},\"name\":\"In hohem Maß konkret\\u003cbr\\u003e(Mittelwert = 2.21)\",\"offsetgroup\":\"In hohem Maß konkret\\u003cbr\\u003e(Mittelwert = 2.21)\",\"orientation\":\"v\",\"showlegend\":true,\"x\":[3,4,1,2,2,3,2,2,2,2,2,2,3,4,2,1,2,2,2,3,2,3,2,2,2,4,2,2,2,2,2,2,3,3,2,2,4,1,3,2,4,2,2,2,3,3,2,3,2,1,2,1,2,2,2,2,4,3,3,3,2,3,3,3,2,2,3,2,2,4,2,2,2,1,3,2,3,3,3,3,3,2,2,2,1,2,2,2,4,4,2,3,2,3,3,2,3,2,1,1,3,1,3,2,3,2,3,4,3,3,2,3,2,2,2,1,3,3,3,2,3,3,2,2,3,3,1,1,2,2,2,2,3,2,1,2,2,2,3,2,3,2,2,3,1,2,2,1,2,1,2,3,2,2,1,1,4,1,5,2,2,2,1,3,2,2,4,2,3,3,1,3,3,1,2,2,4,2,2,2,3,3,2,3,3,3,3,2,3,2,2,2,2,2,3,3,2,3,2,2,3,2,4,2,2,2,2,2,2,3,2,2,2,4,3,3,2,2,1,4,2,3,2,4,3,2,2,3,2,1,3,3,1,2,3,1,2,3,2,2,2,1,2,2,2,3,1,3,2,2,3,2,2,3,3,2,2,2,2,3,4,3,2,2,2,2,2,1,6,2,2,3,2,3,3,2,3,2,3,4,2,2,3,4,2,2,4,1,1,2,3,2,2,3,3,2,2,1,2,2,2,2,2,1,1,3,2,3,1,2,3,4,2,2,3,1,2,1,2,2,2,1,2,3,2,1,2,2,2,2,2,3,3,1,2,2,2,2,2,2,3,3,4,2,3,3,3,2,1,1,3,3,2,3,2,2,2,2,3,2,1,2,1,2,2,4,2,1,1,3,2,2,1,2,3,3,5,3,3,2,3,2,4,2,2,2,2,4,3,2,2,2,3,2,1,2,2,3,3,4,2,3,1,4,2,2,2,4,3,2,2,3,1,3,1,2,1,3,2,2,2,2,3,2,2,4,3,2,2,2,2,2,3,3,2,3,2,3,2,2,3,3,3,1,3,1,1,3,2,2,1,2,2,2,3,2,3,2,1,3,4,2,3,3,4,3,2,2,1,2,3,1,2,2,3,3,1,1,2,2,2,2,2,2,1,1,3,3,4,4,3,2,3,1,1,2,4,3,2,1,2,1,2,3,2,2,2,2,2,3,2,2,1,2,2,3,2,2,2,3,1,3,2,1,2,2,2,2,1,3,1,2,3,4,2,3,2,3,2,3,2,3,2,2,2,2,3,2,2,3,3,2,3,1,3,2,3,2,3,4,1,3,2,3,2,2,4,1,2,2,2,2,2,1,2,2,3,2,2,1,3,1,2,2,1,2,2,2,2,2,1,3,3,3,2,2,3,3,4,4,3,3,2,3,1,3,3,2,2,2,1,3,2,2,3,2,4,3,2,2,2,4,2,2,2,2,2,3,2,1,2,3,3,1,1,2,2,2,3,1,3,1,2,2,2,2,2,2,3,3,3,3,3,2,2,1,1,3,4,3,2,1,2,3,3,2,1,2,3,3,2,2,2,3,4,2,2,3,3,3,3,2,2,4,2,2,3,2,2,2,2,3,1,2,1,1,3,3,2,2,1,3,1,2,4,3,3,3,2,1,3,2,2,3,4,3,2,1,1,3,3,3,4,4,2,3,3,1,3,4,2,3,3,2,2,2,3,2,2,3,2,3,3,2,1,2,2,3,2,3,3,2,3,4,3,3,3,1,3,3,3,2,2,2,2,2,2,2,1,2,2,3,1,4,2,2,1,2,1,1,2,2,3,4,4,3,2,3,2,2,1,3,1,2,2,1,3,3,2,2,3,2,1,2,3,3,3,2,3,2,3,2,3,2,2,1,1,2,4,2,2,3,2,3,1,4,3,2,3,1,4,1,4,1,1,1,2,2,2,2,3,1,2,1,2,1,2,2,2,2,4,2,1,3,1,2,1,1,3,3,2,3,2,3,3,2,2,3,2,3,2,3,2,3,3,3,2,4,2,1,2,3,2,2,1,2,3,1,2,1,3,1,1,1,3,1,2,2,2,2,3,2,3,3,1,1,2,3,2,3,3,3,1,3,4,3,4,1,2,3,3,1,2,3,2,1,3,4,3,2,4,2,1,2,2,4,3,2,3,2,3,2,2,2,1,3,2,2,1,1,2,2,2,3,3,2,2,1,3,2,2,1,2,2,2,2,2,2,1,4,3,3,3,2,2,1,3,2,2,2,2,3,2,2,3,1,3,3,2,2,2,2,3,3,2,2,4,3,4,3,2,2,2,1,2,2,3,1,1,2,2,1,3,2,2,3,1,2,3,3,3,2,1,2,2,3,2,3,2,2,3,1,1,2,2,2,3,1,2,2,3,1,1,1,1,2,2,2,1,1,1,2,2,3,2,1,3,2,1,1,2,2,1,1,2,1,1,4,1,2,2,4,1,2,2,2,2,2,3,1,2,2,2,3,2,2,1,3,2,1,2,2,3,2,3,2,2,1,2,1,3,3,1,2,2,2,1,2,1,2,3,4,2,3,1,2,2,1,1,3,3,1,2,1,2,3,3,2,2,2,2,3,3,2,1,2,2,1,1,4,1,3,3,2,1,1,1,2,3,3,3,3,2,1,2,2,4,2,1,2,1,3,2,1,2,2,2,2,2,3,2,2,1,2,2,1,1,3,1,1,1,1,2,1,2,1,2,1,2,1,2,2,2,1,2,2,1,1,1,2,2,2,1,1,4,2,1,1,1,2,1,2,1,3,1,3,3,2,3,2,2,2,3,2,2,2,2,1,1,2,3,3,1,3,3,4,3,1,2,4,2,1,2,2,1,1,2,3,2,4,3,3,2,2,2,3,1,2,1,3,1,4,2,2,2,2,1,1,1,1,3,1,2,3,1,4,3,1,2,3,2,2,2,3,2,2,2,3,2,3,1,1,2,4,5,1,1,3,2,3,2,2,1,1,1,2,1,2,2,2,2,2,3,1,2,1,2,1,3,3,3,3,2,1,3,2,1,3,1,3,3,4,3,1,2,2,2,2,2,6,4,2,2,2,2,2,2,2,2,2,2,2,2,2,1,1,1,1,1,2,4,3,1,3,3,2,2,3,2,3,2,2,2,4,2,2,2,1,1,1,3,2,1,1,3,4,2,1,3,3,1,2,1,2,3,2,2,2,1,2,5,2,2,2,2,2,3,3,2,2,3,1,3,2,3,3,3,3,3,1,2,2,2,3,2,1,2,4,1,2,1,2,2,1,2,2,1,2,3,2,2,2,2,2,3,2,1,2,3,1,2,1,2,2,1,2,3,3,1,1,2,2,1,2,3,3,2,2,2,2,1,1,1,1,2,3,3,2,2,1,2,1,3,2,3,2,1,2,1,2,1,1,2,1,4,2,4,3,3,3,6,3,2,1,3,2,3,2,2,3,2,3,1],\"xaxis\":\"x\",\"yaxis\":\"y\",\"type\":\"histogram\"}],                        {\"template\":{\"data\":{\"histogram2dcontour\":[{\"type\":\"histogram2dcontour\",\"colorbar\":{\"outlinewidth\":0,\"ticks\":\"\"},\"colorscale\":[[0.0,\"#0d0887\"],[0.1111111111111111,\"#46039f\"],[0.2222222222222222,\"#7201a8\"],[0.3333333333333333,\"#9c179e\"],[0.4444444444444444,\"#bd3786\"],[0.5555555555555556,\"#d8576b\"],[0.6666666666666666,\"#ed7953\"],[0.7777777777777778,\"#fb9f3a\"],[0.8888888888888888,\"#fdca26\"],[1.0,\"#f0f921\"]]}],\"choropleth\":[{\"type\":\"choropleth\",\"colorbar\":{\"outlinewidth\":0,\"ticks\":\"\"}}],\"histogram2d\":[{\"type\":\"histogram2d\",\"colorbar\":{\"outlinewidth\":0,\"ticks\":\"\"},\"colorscale\":[[0.0,\"#0d0887\"],[0.1111111111111111,\"#46039f\"],[0.2222222222222222,\"#7201a8\"],[0.3333333333333333,\"#9c179e\"],[0.4444444444444444,\"#bd3786\"],[0.5555555555555556,\"#d8576b\"],[0.6666666666666666,\"#ed7953\"],[0.7777777777777778,\"#fb9f3a\"],[0.8888888888888888,\"#fdca26\"],[1.0,\"#f0f921\"]]}],\"heatmap\":[{\"type\":\"heatmap\",\"colorbar\":{\"outlinewidth\":0,\"ticks\":\"\"},\"colorscale\":[[0.0,\"#0d0887\"],[0.1111111111111111,\"#46039f\"],[0.2222222222222222,\"#7201a8\"],[0.3333333333333333,\"#9c179e\"],[0.4444444444444444,\"#bd3786\"],[0.5555555555555556,\"#d8576b\"],[0.6666666666666666,\"#ed7953\"],[0.7777777777777778,\"#fb9f3a\"],[0.8888888888888888,\"#fdca26\"],[1.0,\"#f0f921\"]]}],\"heatmapgl\":[{\"type\":\"heatmapgl\",\"colorbar\":{\"outlinewidth\":0,\"ticks\":\"\"},\"colorscale\":[[0.0,\"#0d0887\"],[0.1111111111111111,\"#46039f\"],[0.2222222222222222,\"#7201a8\"],[0.3333333333333333,\"#9c179e\"],[0.4444444444444444,\"#bd3786\"],[0.5555555555555556,\"#d8576b\"],[0.6666666666666666,\"#ed7953\"],[0.7777777777777778,\"#fb9f3a\"],[0.8888888888888888,\"#fdca26\"],[1.0,\"#f0f921\"]]}],\"contourcarpet\":[{\"type\":\"contourcarpet\",\"colorbar\":{\"outlinewidth\":0,\"ticks\":\"\"}}],\"contour\":[{\"type\":\"contour\",\"colorbar\":{\"outlinewidth\":0,\"ticks\":\"\"},\"colorscale\":[[0.0,\"#0d0887\"],[0.1111111111111111,\"#46039f\"],[0.2222222222222222,\"#7201a8\"],[0.3333333333333333,\"#9c179e\"],[0.4444444444444444,\"#bd3786\"],[0.5555555555555556,\"#d8576b\"],[0.6666666666666666,\"#ed7953\"],[0.7777777777777778,\"#fb9f3a\"],[0.8888888888888888,\"#fdca26\"],[1.0,\"#f0f921\"]]}],\"surface\":[{\"type\":\"surface\",\"colorbar\":{\"outlinewidth\":0,\"ticks\":\"\"},\"colorscale\":[[0.0,\"#0d0887\"],[0.1111111111111111,\"#46039f\"],[0.2222222222222222,\"#7201a8\"],[0.3333333333333333,\"#9c179e\"],[0.4444444444444444,\"#bd3786\"],[0.5555555555555556,\"#d8576b\"],[0.6666666666666666,\"#ed7953\"],[0.7777777777777778,\"#fb9f3a\"],[0.8888888888888888,\"#fdca26\"],[1.0,\"#f0f921\"]]}],\"mesh3d\":[{\"type\":\"mesh3d\",\"colorbar\":{\"outlinewidth\":0,\"ticks\":\"\"}}],\"scatter\":[{\"fillpattern\":{\"fillmode\":\"overlay\",\"size\":10,\"solidity\":0.2},\"type\":\"scatter\"}],\"parcoords\":[{\"type\":\"parcoords\",\"line\":{\"colorbar\":{\"outlinewidth\":0,\"ticks\":\"\"}}}],\"scatterpolargl\":[{\"type\":\"scatterpolargl\",\"marker\":{\"colorbar\":{\"outlinewidth\":0,\"ticks\":\"\"}}}],\"bar\":[{\"error_x\":{\"color\":\"#2a3f5f\"},\"error_y\":{\"color\":\"#2a3f5f\"},\"marker\":{\"line\":{\"color\":\"#E5ECF6\",\"width\":0.5},\"pattern\":{\"fillmode\":\"overlay\",\"size\":10,\"solidity\":0.2}},\"type\":\"bar\"}],\"scattergeo\":[{\"type\":\"scattergeo\",\"marker\":{\"colorbar\":{\"outlinewidth\":0,\"ticks\":\"\"}}}],\"scatterpolar\":[{\"type\":\"scatterpolar\",\"marker\":{\"colorbar\":{\"outlinewidth\":0,\"ticks\":\"\"}}}],\"histogram\":[{\"marker\":{\"pattern\":{\"fillmode\":\"overlay\",\"size\":10,\"solidity\":0.2}},\"type\":\"histogram\"}],\"scattergl\":[{\"type\":\"scattergl\",\"marker\":{\"colorbar\":{\"outlinewidth\":0,\"ticks\":\"\"}}}],\"scatter3d\":[{\"type\":\"scatter3d\",\"line\":{\"colorbar\":{\"outlinewidth\":0,\"ticks\":\"\"}},\"marker\":{\"colorbar\":{\"outlinewidth\":0,\"ticks\":\"\"}}}],\"scattermapbox\":[{\"type\":\"scattermapbox\",\"marker\":{\"colorbar\":{\"outlinewidth\":0,\"ticks\":\"\"}}}],\"scatterternary\":[{\"type\":\"scatterternary\",\"marker\":{\"colorbar\":{\"outlinewidth\":0,\"ticks\":\"\"}}}],\"scattercarpet\":[{\"type\":\"scattercarpet\",\"marker\":{\"colorbar\":{\"outlinewidth\":0,\"ticks\":\"\"}}}],\"carpet\":[{\"aaxis\":{\"endlinecolor\":\"#2a3f5f\",\"gridcolor\":\"white\",\"linecolor\":\"white\",\"minorgridcolor\":\"white\",\"startlinecolor\":\"#2a3f5f\"},\"baxis\":{\"endlinecolor\":\"#2a3f5f\",\"gridcolor\":\"white\",\"linecolor\":\"white\",\"minorgridcolor\":\"white\",\"startlinecolor\":\"#2a3f5f\"},\"type\":\"carpet\"}],\"table\":[{\"cells\":{\"fill\":{\"color\":\"#EBF0F8\"},\"line\":{\"color\":\"white\"}},\"header\":{\"fill\":{\"color\":\"#C8D4E3\"},\"line\":{\"color\":\"white\"}},\"type\":\"table\"}],\"barpolar\":[{\"marker\":{\"line\":{\"color\":\"#E5ECF6\",\"width\":0.5},\"pattern\":{\"fillmode\":\"overlay\",\"size\":10,\"solidity\":0.2}},\"type\":\"barpolar\"}],\"pie\":[{\"automargin\":true,\"type\":\"pie\"}]},\"layout\":{\"autotypenumbers\":\"strict\",\"colorway\":[\"#636efa\",\"#EF553B\",\"#00cc96\",\"#ab63fa\",\"#FFA15A\",\"#19d3f3\",\"#FF6692\",\"#B6E880\",\"#FF97FF\",\"#FECB52\"],\"font\":{\"color\":\"#2a3f5f\"},\"hovermode\":\"closest\",\"hoverlabel\":{\"align\":\"left\"},\"paper_bgcolor\":\"white\",\"plot_bgcolor\":\"#E5ECF6\",\"polar\":{\"bgcolor\":\"#E5ECF6\",\"angularaxis\":{\"gridcolor\":\"white\",\"linecolor\":\"white\",\"ticks\":\"\"},\"radialaxis\":{\"gridcolor\":\"white\",\"linecolor\":\"white\",\"ticks\":\"\"}},\"ternary\":{\"bgcolor\":\"#E5ECF6\",\"aaxis\":{\"gridcolor\":\"white\",\"linecolor\":\"white\",\"ticks\":\"\"},\"baxis\":{\"gridcolor\":\"white\",\"linecolor\":\"white\",\"ticks\":\"\"},\"caxis\":{\"gridcolor\":\"white\",\"linecolor\":\"white\",\"ticks\":\"\"}},\"coloraxis\":{\"colorbar\":{\"outlinewidth\":0,\"ticks\":\"\"}},\"colorscale\":{\"sequential\":[[0.0,\"#0d0887\"],[0.1111111111111111,\"#46039f\"],[0.2222222222222222,\"#7201a8\"],[0.3333333333333333,\"#9c179e\"],[0.4444444444444444,\"#bd3786\"],[0.5555555555555556,\"#d8576b\"],[0.6666666666666666,\"#ed7953\"],[0.7777777777777778,\"#fb9f3a\"],[0.8888888888888888,\"#fdca26\"],[1.0,\"#f0f921\"]],\"sequentialminus\":[[0.0,\"#0d0887\"],[0.1111111111111111,\"#46039f\"],[0.2222222222222222,\"#7201a8\"],[0.3333333333333333,\"#9c179e\"],[0.4444444444444444,\"#bd3786\"],[0.5555555555555556,\"#d8576b\"],[0.6666666666666666,\"#ed7953\"],[0.7777777777777778,\"#fb9f3a\"],[0.8888888888888888,\"#fdca26\"],[1.0,\"#f0f921\"]],\"diverging\":[[0,\"#8e0152\"],[0.1,\"#c51b7d\"],[0.2,\"#de77ae\"],[0.3,\"#f1b6da\"],[0.4,\"#fde0ef\"],[0.5,\"#f7f7f7\"],[0.6,\"#e6f5d0\"],[0.7,\"#b8e186\"],[0.8,\"#7fbc41\"],[0.9,\"#4d9221\"],[1,\"#276419\"]]},\"xaxis\":{\"gridcolor\":\"white\",\"linecolor\":\"white\",\"ticks\":\"\",\"title\":{\"standoff\":15},\"zerolinecolor\":\"white\",\"automargin\":true,\"zerolinewidth\":2},\"yaxis\":{\"gridcolor\":\"white\",\"linecolor\":\"white\",\"ticks\":\"\",\"title\":{\"standoff\":15},\"zerolinecolor\":\"white\",\"automargin\":true,\"zerolinewidth\":2},\"scene\":{\"xaxis\":{\"backgroundcolor\":\"#E5ECF6\",\"gridcolor\":\"white\",\"linecolor\":\"white\",\"showbackground\":true,\"ticks\":\"\",\"zerolinecolor\":\"white\",\"gridwidth\":2},\"yaxis\":{\"backgroundcolor\":\"#E5ECF6\",\"gridcolor\":\"white\",\"linecolor\":\"white\",\"showbackground\":true,\"ticks\":\"\",\"zerolinecolor\":\"white\",\"gridwidth\":2},\"zaxis\":{\"backgroundcolor\":\"#E5ECF6\",\"gridcolor\":\"white\",\"linecolor\":\"white\",\"showbackground\":true,\"ticks\":\"\",\"zerolinecolor\":\"white\",\"gridwidth\":2}},\"shapedefaults\":{\"line\":{\"color\":\"#2a3f5f\"}},\"annotationdefaults\":{\"arrowcolor\":\"#2a3f5f\",\"arrowhead\":0,\"arrowwidth\":1},\"geo\":{\"bgcolor\":\"white\",\"landcolor\":\"#E5ECF6\",\"subunitcolor\":\"white\",\"showland\":true,\"showlakes\":true,\"lakecolor\":\"white\"},\"title\":{\"x\":0.05},\"mapbox\":{\"style\":\"light\"}}},\"xaxis\":{\"anchor\":\"y\",\"domain\":[0.0,1.0],\"title\":{\"text\":\"Anzahl Entitäten\",\"font\":{\"size\":14}},\"tickfont\":{\"size\":14},\"color\":\"black\",\"gridcolor\":\"white\",\"showgrid\":false},\"yaxis\":{\"anchor\":\"x\",\"domain\":[0.0,1.0],\"title\":{\"text\":\"Anteil\",\"font\":{\"size\":14}},\"tickfont\":{\"size\":14},\"color\":\"black\",\"gridcolor\":\"lightgray\",\"zerolinecolor\":\"lightgray\"},\"legend\":{\"title\":{\"text\":\"\"},\"tracegroupgap\":0,\"font\":{\"size\":14},\"x\":0.52,\"y\":0.92,\"bordercolor\":\"black\",\"borderwidth\":1},\"margin\":{\"t\":60},\"barmode\":\"group\",\"width\":700,\"height\":300,\"bargap\":0.1,\"font\":{\"color\":\"black\"},\"plot_bgcolor\":\"white\",\"paper_bgcolor\":\"white\"},                        {\"responsive\": true}                    ).then(function(){\n",
       "                            \n",
       "var gd = document.getElementById('5e8df012-7efc-4673-a2bc-e72600ecd92c');\n",
       "var x = new MutationObserver(function (mutations, observer) {{\n",
       "        var display = window.getComputedStyle(gd).display;\n",
       "        if (!display || display === 'none') {{\n",
       "            console.log([gd, 'removed!']);\n",
       "            Plotly.purge(gd);\n",
       "            observer.disconnect();\n",
       "        }}\n",
       "}});\n",
       "\n",
       "// Listen for the removal of the full notebook cells\n",
       "var notebookContainer = gd.closest('#notebook-container');\n",
       "if (notebookContainer) {{\n",
       "    x.observe(notebookContainer, {childList: true});\n",
       "}}\n",
       "\n",
       "// Listen for the clearing of the current output cell\n",
       "var outputEl = gd.closest('.output');\n",
       "if (outputEl) {{\n",
       "    x.observe(outputEl, {childList: true});\n",
       "}}\n",
       "\n",
       "                        })                };                });            </script>        </div>"
      ]
     },
     "metadata": {},
     "output_type": "display_data"
    },
    {
     "data": {
      "application/vnd.plotly.v1+json": {
       "config": {
        "plotlyServerURL": "https://plot.ly"
       },
       "data": [
        {
         "alignmentgroup": "True",
         "bingroup": "x",
         "histnorm": "probability density",
         "hovertemplate": "=Nicht in hohem Maß konkret<br>(Mittelwert = 1.6)<br>Anzahl Sprechakte=%{x}<br>probability density=%{y}<extra></extra>",
         "legendgroup": "Nicht in hohem Maß konkret<br>(Mittelwert = 1.6)",
         "marker": {
          "color": "#636efa",
          "pattern": {
           "shape": ""
          }
         },
         "name": "Nicht in hohem Maß konkret<br>(Mittelwert = 1.6)",
         "offsetgroup": "Nicht in hohem Maß konkret<br>(Mittelwert = 1.6)",
         "orientation": "v",
         "showlegend": true,
         "type": "histogram",
         "x": [
          1,
          1,
          1,
          2,
          1,
          1,
          1,
          2,
          2,
          1,
          2,
          1,
          1,
          2,
          2,
          1,
          2,
          2,
          2,
          2,
          2,
          2,
          1,
          2,
          2,
          2,
          1,
          3,
          2,
          2,
          2,
          2,
          2,
          1,
          2,
          1,
          2,
          2,
          1,
          1,
          2,
          2,
          2,
          2,
          1,
          1,
          1,
          1,
          2,
          1,
          1,
          1,
          1,
          2,
          1,
          1,
          1,
          1,
          1,
          2,
          2,
          2,
          1,
          1,
          1,
          2,
          2,
          1,
          2,
          1,
          2,
          1,
          1,
          1,
          1,
          1,
          2,
          2,
          2,
          2,
          3,
          1,
          2,
          2,
          2,
          3,
          2,
          1,
          2,
          2,
          1,
          2,
          2,
          1,
          2,
          2,
          2,
          2,
          1,
          1,
          2,
          3,
          1,
          1,
          1,
          1,
          1,
          2,
          1,
          2,
          1,
          2,
          1,
          2,
          2,
          1,
          2,
          1,
          1,
          1,
          2,
          2,
          1,
          1,
          2,
          2,
          2,
          2,
          2,
          3,
          1,
          2,
          2,
          1,
          1,
          2,
          2,
          1,
          2,
          1,
          2,
          3,
          3,
          1,
          1,
          1,
          2,
          1,
          1,
          2,
          2,
          1,
          2,
          1,
          2,
          2,
          2,
          2,
          1,
          1,
          1,
          2,
          1,
          1,
          2,
          1,
          1,
          2,
          1,
          2,
          2,
          1,
          2,
          1,
          2,
          2,
          1,
          3,
          2,
          2,
          2,
          1,
          2,
          2,
          2,
          1,
          1,
          1,
          1,
          1,
          2,
          1,
          2,
          2,
          1,
          1,
          3,
          2,
          2,
          2,
          2,
          2,
          3,
          2,
          2,
          1,
          1,
          2,
          1,
          2,
          1,
          2,
          2,
          1,
          2,
          2,
          2,
          2,
          2,
          2,
          2,
          2,
          2,
          2,
          2,
          2,
          2,
          2,
          2,
          3,
          1,
          2,
          1,
          2,
          2,
          1,
          2,
          1,
          1,
          2,
          2,
          1,
          1,
          2,
          1,
          1,
          1,
          3,
          1,
          2,
          2,
          1,
          2,
          1,
          2,
          1,
          2,
          1,
          1,
          1,
          1,
          1,
          2,
          1,
          1,
          2,
          4,
          2,
          2,
          2,
          1,
          2,
          2,
          3,
          1,
          2,
          2,
          1,
          1,
          1,
          2,
          1,
          1,
          1,
          1,
          1,
          1,
          2,
          3,
          2,
          2,
          1,
          1,
          2,
          1,
          1,
          2,
          1,
          1,
          1,
          2,
          1,
          2,
          1,
          2,
          1,
          2,
          1,
          2,
          1,
          2,
          2,
          1,
          2,
          2,
          1,
          1,
          1,
          1,
          2,
          2,
          2,
          2,
          2,
          2,
          2,
          2,
          2,
          1,
          1,
          1,
          2,
          2,
          1,
          1,
          1,
          1
         ],
         "xaxis": "x",
         "yaxis": "y"
        },
        {
         "alignmentgroup": "True",
         "bingroup": "x",
         "histnorm": "probability density",
         "hovertemplate": "=In hohem Maß konkret<br>(Mittelwert = 1.27)<br>Anzahl Sprechakte=%{x}<br>probability density=%{y}<extra></extra>",
         "legendgroup": "In hohem Maß konkret<br>(Mittelwert = 1.27)",
         "marker": {
          "color": "#EF553B",
          "pattern": {
           "shape": ""
          }
         },
         "name": "In hohem Maß konkret<br>(Mittelwert = 1.27)",
         "offsetgroup": "In hohem Maß konkret<br>(Mittelwert = 1.27)",
         "orientation": "v",
         "showlegend": true,
         "type": "histogram",
         "x": [
          1,
          1,
          1,
          1,
          1,
          2,
          1,
          1,
          1,
          1,
          2,
          1,
          1,
          1,
          1,
          2,
          1,
          1,
          2,
          1,
          1,
          1,
          1,
          1,
          1,
          2,
          1,
          1,
          1,
          1,
          1,
          1,
          1,
          1,
          2,
          1,
          1,
          1,
          1,
          1,
          2,
          1,
          1,
          1,
          1,
          1,
          1,
          2,
          1,
          1,
          1,
          2,
          1,
          2,
          1,
          2,
          1,
          1,
          1,
          1,
          1,
          1,
          1,
          1,
          2,
          1,
          1,
          2,
          2,
          1,
          1,
          2,
          1,
          1,
          1,
          1,
          1,
          1,
          1,
          1,
          1,
          2,
          1,
          1,
          2,
          1,
          1,
          2,
          1,
          2,
          2,
          2,
          1,
          1,
          1,
          1,
          1,
          1,
          2,
          1,
          1,
          2,
          1,
          1,
          1,
          1,
          1,
          1,
          1,
          1,
          1,
          1,
          1,
          1,
          1,
          2,
          1,
          2,
          2,
          1,
          1,
          1,
          2,
          2,
          1,
          1,
          1,
          1,
          1,
          2,
          1,
          1,
          1,
          2,
          2,
          1,
          1,
          1,
          1,
          1,
          1,
          2,
          1,
          1,
          1,
          2,
          1,
          1,
          1,
          2,
          1,
          2,
          1,
          1,
          1,
          2,
          1,
          1,
          1,
          1,
          1,
          1,
          2,
          1,
          1,
          2,
          1,
          1,
          1,
          1,
          2,
          1,
          1,
          2,
          1,
          1,
          1,
          1,
          1,
          2,
          2,
          1,
          1,
          1,
          1,
          1,
          1,
          2,
          1,
          1,
          1,
          1,
          1,
          1,
          1,
          1,
          1,
          1,
          1,
          2,
          1,
          1,
          1,
          1,
          1,
          1,
          1,
          1,
          1,
          1,
          1,
          1,
          1,
          1,
          1,
          1,
          2,
          1,
          1,
          1,
          2,
          2,
          1,
          1,
          1,
          1,
          1,
          1,
          1,
          1,
          1,
          1,
          1,
          1,
          1,
          1,
          2,
          1,
          2,
          1,
          1,
          1,
          1,
          1,
          1,
          1,
          1,
          1,
          1,
          1,
          1,
          1,
          1,
          1,
          1,
          1,
          1,
          1,
          1,
          1,
          1,
          1,
          1,
          1,
          1,
          1,
          1,
          1,
          1,
          2,
          1,
          1,
          1,
          1,
          1,
          1,
          1,
          1,
          1,
          1,
          1,
          1,
          1,
          1,
          1,
          1,
          1,
          2,
          1,
          1,
          1,
          1,
          1,
          1,
          1,
          1,
          1,
          2,
          1,
          2,
          1,
          1,
          2,
          1,
          2,
          2,
          1,
          2,
          2,
          2,
          3,
          1,
          2,
          2,
          1,
          2,
          1,
          1,
          1,
          1,
          2,
          1,
          1,
          2,
          1,
          1,
          2,
          1,
          1,
          1,
          1,
          1,
          1,
          2,
          1,
          1,
          1,
          1,
          1,
          2,
          1,
          1,
          1,
          1,
          1,
          2,
          1,
          1,
          1,
          1,
          2,
          1,
          1,
          1,
          1,
          1,
          1,
          2,
          1,
          3,
          2,
          1,
          1,
          1,
          2,
          2,
          1,
          2,
          2,
          1,
          1,
          1,
          1,
          1,
          1,
          1,
          1,
          1,
          1,
          1,
          1,
          1,
          1,
          2,
          1,
          1,
          2,
          1,
          1,
          1,
          1,
          1,
          1,
          1,
          2,
          1,
          1,
          1,
          1,
          2,
          1,
          2,
          1,
          1,
          1,
          1,
          1,
          2,
          1,
          1,
          1,
          1,
          2,
          1,
          2,
          1,
          2,
          1,
          1,
          2,
          1,
          1,
          1,
          1,
          2,
          1,
          1,
          1,
          1,
          1,
          1,
          1,
          1,
          2,
          1,
          1,
          1,
          2,
          2,
          2,
          3,
          1,
          2,
          1,
          1,
          1,
          1,
          2,
          1,
          2,
          1,
          2,
          2,
          2,
          1,
          1,
          1,
          2,
          2,
          2,
          2,
          1,
          1,
          1,
          1,
          1,
          1,
          1,
          2,
          1,
          2,
          2,
          2,
          2,
          2,
          1,
          1,
          2,
          1,
          1,
          2,
          1,
          1,
          1,
          1,
          2,
          1,
          1,
          1,
          1,
          1,
          1,
          1,
          2,
          2,
          1,
          1,
          1,
          1,
          1,
          1,
          1,
          1,
          1,
          1,
          1,
          1,
          1,
          1,
          1,
          1,
          1,
          1,
          2,
          2,
          2,
          1,
          2,
          1,
          1,
          1,
          2,
          1,
          2,
          2,
          2,
          2,
          1,
          1,
          1,
          1,
          1,
          1,
          2,
          2,
          1,
          2,
          1,
          1,
          2,
          1,
          1,
          1,
          2,
          1,
          2,
          2,
          2,
          2,
          1,
          1,
          2,
          2,
          1,
          1,
          2,
          1,
          1,
          2,
          2,
          1,
          1,
          2,
          2,
          1,
          2,
          1,
          1,
          2,
          1,
          1,
          1,
          1,
          1,
          1,
          2,
          1,
          1,
          1,
          1,
          1,
          2,
          1,
          1,
          1,
          1,
          1,
          1,
          1,
          1,
          2,
          1,
          2,
          1,
          1,
          1,
          1,
          1,
          1,
          1,
          1,
          2,
          1,
          2,
          1,
          1,
          2,
          1,
          1,
          1,
          2,
          1,
          1,
          1,
          1,
          1,
          1,
          1,
          1,
          1,
          1,
          1,
          1,
          1,
          1,
          2,
          1,
          1,
          1,
          2,
          1,
          1,
          1,
          1,
          1,
          1,
          1,
          1,
          1,
          2,
          1,
          1,
          1,
          1,
          1,
          1,
          1,
          1,
          1,
          1,
          1,
          1,
          2,
          2,
          1,
          1,
          1,
          1,
          1,
          1,
          1,
          2,
          1,
          1,
          1,
          1,
          1,
          2,
          1,
          1,
          2,
          1,
          1,
          1,
          1,
          1,
          1,
          1,
          1,
          1,
          2,
          1,
          2,
          1,
          1,
          1,
          2,
          1,
          1,
          1,
          2,
          1,
          1,
          1,
          1,
          1,
          2,
          1,
          1,
          1,
          1,
          2,
          2,
          1,
          1,
          1,
          1,
          1,
          2,
          2,
          1,
          2,
          1,
          1,
          1,
          1,
          1,
          2,
          2,
          1,
          1,
          1,
          2,
          1,
          1,
          1,
          1,
          2,
          1,
          1,
          1,
          1,
          1,
          1,
          1,
          1,
          1,
          1,
          1,
          1,
          1,
          1,
          1,
          1,
          1,
          1,
          1,
          1,
          1,
          1,
          1,
          1,
          1,
          1,
          1,
          1,
          1,
          2,
          1,
          1,
          1,
          1,
          2,
          1,
          2,
          1,
          1,
          1,
          2,
          2,
          2,
          2,
          2,
          1,
          2,
          1,
          1,
          2,
          2,
          1,
          1,
          1,
          1,
          1,
          1,
          2,
          1,
          2,
          1,
          1,
          1,
          1,
          1,
          1,
          1,
          2,
          1,
          1,
          1,
          1,
          1,
          1,
          1,
          1,
          1,
          2,
          1,
          2,
          2,
          1,
          1,
          1,
          2,
          2,
          2,
          2,
          2,
          2,
          1,
          2,
          2,
          2,
          1,
          2,
          1,
          1,
          1,
          2,
          1,
          1,
          2,
          2,
          1,
          1,
          2,
          1,
          1,
          2,
          3,
          2,
          1,
          2,
          1,
          1,
          1,
          1,
          1,
          1,
          1,
          1,
          1,
          2,
          1,
          1,
          1,
          1,
          1,
          1,
          3,
          1,
          2,
          1,
          2,
          1,
          3,
          1,
          2,
          1,
          1,
          2,
          1,
          2,
          1,
          2,
          1,
          1,
          1,
          1,
          1,
          1,
          1,
          1,
          1,
          1,
          1,
          1,
          1,
          1,
          1,
          2,
          1,
          1,
          2,
          1,
          2,
          1,
          1,
          1,
          1,
          1,
          1,
          1,
          1,
          1,
          2,
          2,
          1,
          1,
          2,
          1,
          1,
          1,
          2,
          2,
          1,
          1,
          1,
          1,
          1,
          2,
          2,
          1,
          1,
          1,
          2,
          1,
          1,
          1,
          1,
          2,
          1,
          2,
          2,
          1,
          2,
          1,
          1,
          2,
          1,
          1,
          1,
          1,
          2,
          1,
          2,
          1,
          2,
          1,
          1,
          2,
          1,
          1,
          2,
          2,
          1,
          1,
          1,
          2,
          1,
          1,
          1,
          1,
          2,
          1,
          1,
          1,
          1,
          1,
          1,
          1,
          1,
          1,
          1,
          1,
          1,
          1,
          2,
          2,
          1,
          1,
          1,
          1,
          2,
          1,
          1,
          1,
          1,
          1,
          1,
          1,
          1,
          1,
          1,
          1,
          2,
          1,
          1,
          1,
          1,
          1,
          1,
          1,
          2,
          1,
          1,
          1,
          1,
          2,
          2,
          1,
          1,
          1,
          1,
          1,
          1,
          3,
          2,
          2,
          2,
          1,
          1,
          1,
          1,
          2,
          1,
          2,
          1,
          1,
          2,
          1,
          1,
          2,
          1,
          2,
          1,
          2,
          1,
          2,
          1,
          1,
          3,
          2,
          2,
          2,
          1,
          1,
          2,
          1,
          1,
          2,
          1,
          1,
          1,
          2,
          1,
          1,
          2,
          2,
          1,
          2,
          2,
          2,
          1,
          1,
          1,
          1,
          1,
          1,
          1,
          1,
          1,
          1,
          2,
          2,
          1,
          1,
          1,
          1,
          1,
          2,
          1,
          1,
          1,
          1,
          1,
          2,
          2,
          1,
          1,
          2,
          3,
          3,
          1,
          1,
          1,
          1,
          1,
          1,
          1,
          1,
          1,
          1,
          2,
          1,
          1,
          1,
          1,
          2,
          1,
          1,
          1,
          1,
          1,
          1,
          1,
          1,
          1,
          1,
          1,
          1,
          2,
          2,
          1,
          1,
          1,
          3,
          2,
          1,
          2,
          1,
          1,
          1,
          1,
          1,
          1,
          1,
          1,
          2,
          1,
          2,
          1,
          1,
          1,
          1,
          2,
          2,
          1,
          1,
          1,
          1,
          1,
          1,
          1,
          1,
          1,
          1,
          1,
          2,
          1,
          1,
          1,
          1,
          1,
          1,
          1,
          2,
          1,
          2,
          2,
          1,
          1,
          2,
          2,
          2,
          2,
          1,
          1,
          1,
          1,
          2,
          1,
          1,
          1,
          1,
          2,
          1,
          1,
          2,
          1,
          1,
          2,
          1,
          2,
          1,
          1,
          1,
          1,
          1,
          1,
          2,
          3,
          2,
          3,
          2,
          1,
          2,
          1,
          1,
          1,
          3,
          2,
          2,
          1,
          2,
          1,
          3,
          2,
          1,
          1,
          1,
          1,
          1,
          3,
          1,
          1,
          1,
          1,
          1,
          2,
          2,
          1,
          1,
          1,
          1,
          1,
          1,
          2,
          1,
          1,
          1,
          1,
          1,
          1,
          1,
          1,
          1,
          1,
          3,
          1,
          1,
          1,
          1,
          2,
          1,
          2,
          1,
          1,
          3,
          1,
          1,
          2,
          2,
          2,
          1,
          3,
          1,
          1,
          1,
          1,
          1,
          1,
          1,
          1,
          1,
          2,
          1,
          1,
          1,
          2,
          1,
          1,
          1,
          1,
          1,
          1,
          2,
          3,
          1,
          1,
          1,
          1,
          2,
          2,
          1,
          1,
          1,
          2,
          1,
          2,
          1,
          2,
          1,
          2,
          1,
          1,
          1,
          1,
          2,
          1,
          1,
          2,
          2,
          1,
          1,
          1,
          2,
          1,
          2,
          1,
          1,
          1,
          1,
          2,
          2,
          1,
          2,
          1,
          1,
          1,
          1,
          1,
          1,
          1,
          1,
          1,
          1,
          1,
          1,
          1,
          1,
          1,
          1,
          1,
          1,
          1,
          1,
          1,
          1,
          1,
          1,
          1,
          2,
          2,
          1,
          1,
          1,
          2,
          1,
          1,
          1,
          1,
          1,
          1,
          1,
          2,
          2,
          1,
          1,
          1,
          1,
          1,
          1,
          1,
          1,
          1,
          1,
          1,
          2,
          1,
          2,
          1,
          1,
          1,
          1,
          1,
          2,
          1,
          2,
          2,
          1,
          1,
          2,
          1,
          2,
          2,
          1,
          1,
          1,
          2,
          1,
          2,
          1,
          2,
          1,
          1,
          1,
          1,
          1,
          1,
          2,
          1,
          1,
          2,
          2,
          2,
          1,
          2,
          1,
          1,
          2,
          1,
          1,
          2,
          1,
          1,
          1,
          1,
          1,
          1,
          1,
          2,
          1,
          2,
          1,
          1,
          1,
          2,
          1,
          1,
          1,
          1,
          2,
          1,
          2,
          1,
          2,
          1,
          2,
          2,
          2,
          1,
          2,
          1,
          1,
          1,
          2,
          2,
          1,
          1,
          2,
          1,
          2,
          1,
          2,
          1,
          1,
          2,
          1,
          1,
          1,
          2,
          1,
          2,
          2,
          2,
          1,
          1,
          1,
          2,
          1,
          1,
          2,
          2,
          1,
          1,
          1,
          1,
          1,
          2,
          1,
          1,
          1,
          1,
          1,
          1,
          1,
          1,
          1,
          1,
          1,
          2,
          1,
          2,
          1,
          1,
          2,
          2,
          1,
          1,
          1,
          1,
          3,
          1
         ],
         "xaxis": "x",
         "yaxis": "y"
        }
       ],
       "layout": {
        "bargap": 0.1,
        "barmode": "group",
        "font": {
         "color": "black"
        },
        "height": 300,
        "legend": {
         "bordercolor": "black",
         "borderwidth": 1,
         "font": {
          "size": 14
         },
         "title": {
          "text": ""
         },
         "tracegroupgap": 0,
         "x": 0.52,
         "y": 0.92
        },
        "margin": {
         "t": 60
        },
        "paper_bgcolor": "white",
        "plot_bgcolor": "white",
        "template": {
         "data": {
          "bar": [
           {
            "error_x": {
             "color": "#2a3f5f"
            },
            "error_y": {
             "color": "#2a3f5f"
            },
            "marker": {
             "line": {
              "color": "#E5ECF6",
              "width": 0.5
             },
             "pattern": {
              "fillmode": "overlay",
              "size": 10,
              "solidity": 0.2
             }
            },
            "type": "bar"
           }
          ],
          "barpolar": [
           {
            "marker": {
             "line": {
              "color": "#E5ECF6",
              "width": 0.5
             },
             "pattern": {
              "fillmode": "overlay",
              "size": 10,
              "solidity": 0.2
             }
            },
            "type": "barpolar"
           }
          ],
          "carpet": [
           {
            "aaxis": {
             "endlinecolor": "#2a3f5f",
             "gridcolor": "white",
             "linecolor": "white",
             "minorgridcolor": "white",
             "startlinecolor": "#2a3f5f"
            },
            "baxis": {
             "endlinecolor": "#2a3f5f",
             "gridcolor": "white",
             "linecolor": "white",
             "minorgridcolor": "white",
             "startlinecolor": "#2a3f5f"
            },
            "type": "carpet"
           }
          ],
          "choropleth": [
           {
            "colorbar": {
             "outlinewidth": 0,
             "ticks": ""
            },
            "type": "choropleth"
           }
          ],
          "contour": [
           {
            "colorbar": {
             "outlinewidth": 0,
             "ticks": ""
            },
            "colorscale": [
             [
              0,
              "#0d0887"
             ],
             [
              0.1111111111111111,
              "#46039f"
             ],
             [
              0.2222222222222222,
              "#7201a8"
             ],
             [
              0.3333333333333333,
              "#9c179e"
             ],
             [
              0.4444444444444444,
              "#bd3786"
             ],
             [
              0.5555555555555556,
              "#d8576b"
             ],
             [
              0.6666666666666666,
              "#ed7953"
             ],
             [
              0.7777777777777778,
              "#fb9f3a"
             ],
             [
              0.8888888888888888,
              "#fdca26"
             ],
             [
              1,
              "#f0f921"
             ]
            ],
            "type": "contour"
           }
          ],
          "contourcarpet": [
           {
            "colorbar": {
             "outlinewidth": 0,
             "ticks": ""
            },
            "type": "contourcarpet"
           }
          ],
          "heatmap": [
           {
            "colorbar": {
             "outlinewidth": 0,
             "ticks": ""
            },
            "colorscale": [
             [
              0,
              "#0d0887"
             ],
             [
              0.1111111111111111,
              "#46039f"
             ],
             [
              0.2222222222222222,
              "#7201a8"
             ],
             [
              0.3333333333333333,
              "#9c179e"
             ],
             [
              0.4444444444444444,
              "#bd3786"
             ],
             [
              0.5555555555555556,
              "#d8576b"
             ],
             [
              0.6666666666666666,
              "#ed7953"
             ],
             [
              0.7777777777777778,
              "#fb9f3a"
             ],
             [
              0.8888888888888888,
              "#fdca26"
             ],
             [
              1,
              "#f0f921"
             ]
            ],
            "type": "heatmap"
           }
          ],
          "heatmapgl": [
           {
            "colorbar": {
             "outlinewidth": 0,
             "ticks": ""
            },
            "colorscale": [
             [
              0,
              "#0d0887"
             ],
             [
              0.1111111111111111,
              "#46039f"
             ],
             [
              0.2222222222222222,
              "#7201a8"
             ],
             [
              0.3333333333333333,
              "#9c179e"
             ],
             [
              0.4444444444444444,
              "#bd3786"
             ],
             [
              0.5555555555555556,
              "#d8576b"
             ],
             [
              0.6666666666666666,
              "#ed7953"
             ],
             [
              0.7777777777777778,
              "#fb9f3a"
             ],
             [
              0.8888888888888888,
              "#fdca26"
             ],
             [
              1,
              "#f0f921"
             ]
            ],
            "type": "heatmapgl"
           }
          ],
          "histogram": [
           {
            "marker": {
             "pattern": {
              "fillmode": "overlay",
              "size": 10,
              "solidity": 0.2
             }
            },
            "type": "histogram"
           }
          ],
          "histogram2d": [
           {
            "colorbar": {
             "outlinewidth": 0,
             "ticks": ""
            },
            "colorscale": [
             [
              0,
              "#0d0887"
             ],
             [
              0.1111111111111111,
              "#46039f"
             ],
             [
              0.2222222222222222,
              "#7201a8"
             ],
             [
              0.3333333333333333,
              "#9c179e"
             ],
             [
              0.4444444444444444,
              "#bd3786"
             ],
             [
              0.5555555555555556,
              "#d8576b"
             ],
             [
              0.6666666666666666,
              "#ed7953"
             ],
             [
              0.7777777777777778,
              "#fb9f3a"
             ],
             [
              0.8888888888888888,
              "#fdca26"
             ],
             [
              1,
              "#f0f921"
             ]
            ],
            "type": "histogram2d"
           }
          ],
          "histogram2dcontour": [
           {
            "colorbar": {
             "outlinewidth": 0,
             "ticks": ""
            },
            "colorscale": [
             [
              0,
              "#0d0887"
             ],
             [
              0.1111111111111111,
              "#46039f"
             ],
             [
              0.2222222222222222,
              "#7201a8"
             ],
             [
              0.3333333333333333,
              "#9c179e"
             ],
             [
              0.4444444444444444,
              "#bd3786"
             ],
             [
              0.5555555555555556,
              "#d8576b"
             ],
             [
              0.6666666666666666,
              "#ed7953"
             ],
             [
              0.7777777777777778,
              "#fb9f3a"
             ],
             [
              0.8888888888888888,
              "#fdca26"
             ],
             [
              1,
              "#f0f921"
             ]
            ],
            "type": "histogram2dcontour"
           }
          ],
          "mesh3d": [
           {
            "colorbar": {
             "outlinewidth": 0,
             "ticks": ""
            },
            "type": "mesh3d"
           }
          ],
          "parcoords": [
           {
            "line": {
             "colorbar": {
              "outlinewidth": 0,
              "ticks": ""
             }
            },
            "type": "parcoords"
           }
          ],
          "pie": [
           {
            "automargin": true,
            "type": "pie"
           }
          ],
          "scatter": [
           {
            "fillpattern": {
             "fillmode": "overlay",
             "size": 10,
             "solidity": 0.2
            },
            "type": "scatter"
           }
          ],
          "scatter3d": [
           {
            "line": {
             "colorbar": {
              "outlinewidth": 0,
              "ticks": ""
             }
            },
            "marker": {
             "colorbar": {
              "outlinewidth": 0,
              "ticks": ""
             }
            },
            "type": "scatter3d"
           }
          ],
          "scattercarpet": [
           {
            "marker": {
             "colorbar": {
              "outlinewidth": 0,
              "ticks": ""
             }
            },
            "type": "scattercarpet"
           }
          ],
          "scattergeo": [
           {
            "marker": {
             "colorbar": {
              "outlinewidth": 0,
              "ticks": ""
             }
            },
            "type": "scattergeo"
           }
          ],
          "scattergl": [
           {
            "marker": {
             "colorbar": {
              "outlinewidth": 0,
              "ticks": ""
             }
            },
            "type": "scattergl"
           }
          ],
          "scattermapbox": [
           {
            "marker": {
             "colorbar": {
              "outlinewidth": 0,
              "ticks": ""
             }
            },
            "type": "scattermapbox"
           }
          ],
          "scatterpolar": [
           {
            "marker": {
             "colorbar": {
              "outlinewidth": 0,
              "ticks": ""
             }
            },
            "type": "scatterpolar"
           }
          ],
          "scatterpolargl": [
           {
            "marker": {
             "colorbar": {
              "outlinewidth": 0,
              "ticks": ""
             }
            },
            "type": "scatterpolargl"
           }
          ],
          "scatterternary": [
           {
            "marker": {
             "colorbar": {
              "outlinewidth": 0,
              "ticks": ""
             }
            },
            "type": "scatterternary"
           }
          ],
          "surface": [
           {
            "colorbar": {
             "outlinewidth": 0,
             "ticks": ""
            },
            "colorscale": [
             [
              0,
              "#0d0887"
             ],
             [
              0.1111111111111111,
              "#46039f"
             ],
             [
              0.2222222222222222,
              "#7201a8"
             ],
             [
              0.3333333333333333,
              "#9c179e"
             ],
             [
              0.4444444444444444,
              "#bd3786"
             ],
             [
              0.5555555555555556,
              "#d8576b"
             ],
             [
              0.6666666666666666,
              "#ed7953"
             ],
             [
              0.7777777777777778,
              "#fb9f3a"
             ],
             [
              0.8888888888888888,
              "#fdca26"
             ],
             [
              1,
              "#f0f921"
             ]
            ],
            "type": "surface"
           }
          ],
          "table": [
           {
            "cells": {
             "fill": {
              "color": "#EBF0F8"
             },
             "line": {
              "color": "white"
             }
            },
            "header": {
             "fill": {
              "color": "#C8D4E3"
             },
             "line": {
              "color": "white"
             }
            },
            "type": "table"
           }
          ]
         },
         "layout": {
          "annotationdefaults": {
           "arrowcolor": "#2a3f5f",
           "arrowhead": 0,
           "arrowwidth": 1
          },
          "autotypenumbers": "strict",
          "coloraxis": {
           "colorbar": {
            "outlinewidth": 0,
            "ticks": ""
           }
          },
          "colorscale": {
           "diverging": [
            [
             0,
             "#8e0152"
            ],
            [
             0.1,
             "#c51b7d"
            ],
            [
             0.2,
             "#de77ae"
            ],
            [
             0.3,
             "#f1b6da"
            ],
            [
             0.4,
             "#fde0ef"
            ],
            [
             0.5,
             "#f7f7f7"
            ],
            [
             0.6,
             "#e6f5d0"
            ],
            [
             0.7,
             "#b8e186"
            ],
            [
             0.8,
             "#7fbc41"
            ],
            [
             0.9,
             "#4d9221"
            ],
            [
             1,
             "#276419"
            ]
           ],
           "sequential": [
            [
             0,
             "#0d0887"
            ],
            [
             0.1111111111111111,
             "#46039f"
            ],
            [
             0.2222222222222222,
             "#7201a8"
            ],
            [
             0.3333333333333333,
             "#9c179e"
            ],
            [
             0.4444444444444444,
             "#bd3786"
            ],
            [
             0.5555555555555556,
             "#d8576b"
            ],
            [
             0.6666666666666666,
             "#ed7953"
            ],
            [
             0.7777777777777778,
             "#fb9f3a"
            ],
            [
             0.8888888888888888,
             "#fdca26"
            ],
            [
             1,
             "#f0f921"
            ]
           ],
           "sequentialminus": [
            [
             0,
             "#0d0887"
            ],
            [
             0.1111111111111111,
             "#46039f"
            ],
            [
             0.2222222222222222,
             "#7201a8"
            ],
            [
             0.3333333333333333,
             "#9c179e"
            ],
            [
             0.4444444444444444,
             "#bd3786"
            ],
            [
             0.5555555555555556,
             "#d8576b"
            ],
            [
             0.6666666666666666,
             "#ed7953"
            ],
            [
             0.7777777777777778,
             "#fb9f3a"
            ],
            [
             0.8888888888888888,
             "#fdca26"
            ],
            [
             1,
             "#f0f921"
            ]
           ]
          },
          "colorway": [
           "#636efa",
           "#EF553B",
           "#00cc96",
           "#ab63fa",
           "#FFA15A",
           "#19d3f3",
           "#FF6692",
           "#B6E880",
           "#FF97FF",
           "#FECB52"
          ],
          "font": {
           "color": "#2a3f5f"
          },
          "geo": {
           "bgcolor": "white",
           "lakecolor": "white",
           "landcolor": "#E5ECF6",
           "showlakes": true,
           "showland": true,
           "subunitcolor": "white"
          },
          "hoverlabel": {
           "align": "left"
          },
          "hovermode": "closest",
          "mapbox": {
           "style": "light"
          },
          "paper_bgcolor": "white",
          "plot_bgcolor": "#E5ECF6",
          "polar": {
           "angularaxis": {
            "gridcolor": "white",
            "linecolor": "white",
            "ticks": ""
           },
           "bgcolor": "#E5ECF6",
           "radialaxis": {
            "gridcolor": "white",
            "linecolor": "white",
            "ticks": ""
           }
          },
          "scene": {
           "xaxis": {
            "backgroundcolor": "#E5ECF6",
            "gridcolor": "white",
            "gridwidth": 2,
            "linecolor": "white",
            "showbackground": true,
            "ticks": "",
            "zerolinecolor": "white"
           },
           "yaxis": {
            "backgroundcolor": "#E5ECF6",
            "gridcolor": "white",
            "gridwidth": 2,
            "linecolor": "white",
            "showbackground": true,
            "ticks": "",
            "zerolinecolor": "white"
           },
           "zaxis": {
            "backgroundcolor": "#E5ECF6",
            "gridcolor": "white",
            "gridwidth": 2,
            "linecolor": "white",
            "showbackground": true,
            "ticks": "",
            "zerolinecolor": "white"
           }
          },
          "shapedefaults": {
           "line": {
            "color": "#2a3f5f"
           }
          },
          "ternary": {
           "aaxis": {
            "gridcolor": "white",
            "linecolor": "white",
            "ticks": ""
           },
           "baxis": {
            "gridcolor": "white",
            "linecolor": "white",
            "ticks": ""
           },
           "bgcolor": "#E5ECF6",
           "caxis": {
            "gridcolor": "white",
            "linecolor": "white",
            "ticks": ""
           }
          },
          "title": {
           "x": 0.05
          },
          "xaxis": {
           "automargin": true,
           "gridcolor": "white",
           "linecolor": "white",
           "ticks": "",
           "title": {
            "standoff": 15
           },
           "zerolinecolor": "white",
           "zerolinewidth": 2
          },
          "yaxis": {
           "automargin": true,
           "gridcolor": "white",
           "linecolor": "white",
           "ticks": "",
           "title": {
            "standoff": 15
           },
           "zerolinecolor": "white",
           "zerolinewidth": 2
          }
         }
        },
        "width": 700,
        "xaxis": {
         "anchor": "y",
         "autorange": true,
         "color": "black",
         "domain": [
          0,
          1
         ],
         "gridcolor": "white",
         "range": [
          0.5,
          4.5
         ],
         "showgrid": false,
         "tickfont": {
          "size": 14
         },
         "title": {
          "font": {
           "size": 14
          },
          "text": "Anzahl Sprechakte"
         },
         "type": "linear"
        },
        "yaxis": {
         "anchor": "x",
         "autorange": true,
         "color": "black",
         "domain": [
          0,
          1
         ],
         "gridcolor": "lightgray",
         "range": [
          0,
          0.7778202942915782
         ],
         "tickfont": {
          "size": 14
         },
         "title": {
          "font": {
           "size": 14
          },
          "text": "Anteil"
         },
         "zerolinecolor": "lightgray"
        }
       }
      },
      "text/html": [
       "<div>                            <div id=\"b0f0dc43-ee2b-4f2d-baf4-2eba6d7387f0\" class=\"plotly-graph-div\" style=\"height:300px; width:700px;\"></div>            <script type=\"text/javascript\">                require([\"plotly\"], function(Plotly) {                    window.PLOTLYENV=window.PLOTLYENV || {};                                    if (document.getElementById(\"b0f0dc43-ee2b-4f2d-baf4-2eba6d7387f0\")) {                    Plotly.newPlot(                        \"b0f0dc43-ee2b-4f2d-baf4-2eba6d7387f0\",                        [{\"alignmentgroup\":\"True\",\"bingroup\":\"x\",\"histnorm\":\"probability density\",\"hovertemplate\":\"=Nicht in hohem Maß konkret\\u003cbr\\u003e(Mittelwert = 1.6)\\u003cbr\\u003eAnzahl Sprechakte=%{x}\\u003cbr\\u003eprobability density=%{y}\\u003cextra\\u003e\\u003c\\u002fextra\\u003e\",\"legendgroup\":\"Nicht in hohem Maß konkret\\u003cbr\\u003e(Mittelwert = 1.6)\",\"marker\":{\"color\":\"#636efa\",\"pattern\":{\"shape\":\"\"}},\"name\":\"Nicht in hohem Maß konkret\\u003cbr\\u003e(Mittelwert = 1.6)\",\"offsetgroup\":\"Nicht in hohem Maß konkret\\u003cbr\\u003e(Mittelwert = 1.6)\",\"orientation\":\"v\",\"showlegend\":true,\"x\":[1,1,1,2,1,1,1,2,2,1,2,1,1,2,2,1,2,2,2,2,2,2,1,2,2,2,1,3,2,2,2,2,2,1,2,1,2,2,1,1,2,2,2,2,1,1,1,1,2,1,1,1,1,2,1,1,1,1,1,2,2,2,1,1,1,2,2,1,2,1,2,1,1,1,1,1,2,2,2,2,3,1,2,2,2,3,2,1,2,2,1,2,2,1,2,2,2,2,1,1,2,3,1,1,1,1,1,2,1,2,1,2,1,2,2,1,2,1,1,1,2,2,1,1,2,2,2,2,2,3,1,2,2,1,1,2,2,1,2,1,2,3,3,1,1,1,2,1,1,2,2,1,2,1,2,2,2,2,1,1,1,2,1,1,2,1,1,2,1,2,2,1,2,1,2,2,1,3,2,2,2,1,2,2,2,1,1,1,1,1,2,1,2,2,1,1,3,2,2,2,2,2,3,2,2,1,1,2,1,2,1,2,2,1,2,2,2,2,2,2,2,2,2,2,2,2,2,2,2,3,1,2,1,2,2,1,2,1,1,2,2,1,1,2,1,1,1,3,1,2,2,1,2,1,2,1,2,1,1,1,1,1,2,1,1,2,4,2,2,2,1,2,2,3,1,2,2,1,1,1,2,1,1,1,1,1,1,2,3,2,2,1,1,2,1,1,2,1,1,1,2,1,2,1,2,1,2,1,2,1,2,2,1,2,2,1,1,1,1,2,2,2,2,2,2,2,2,2,1,1,1,2,2,1,1,1,1],\"xaxis\":\"x\",\"yaxis\":\"y\",\"type\":\"histogram\"},{\"alignmentgroup\":\"True\",\"bingroup\":\"x\",\"histnorm\":\"probability density\",\"hovertemplate\":\"=In hohem Maß konkret\\u003cbr\\u003e(Mittelwert = 1.27)\\u003cbr\\u003eAnzahl Sprechakte=%{x}\\u003cbr\\u003eprobability density=%{y}\\u003cextra\\u003e\\u003c\\u002fextra\\u003e\",\"legendgroup\":\"In hohem Maß konkret\\u003cbr\\u003e(Mittelwert = 1.27)\",\"marker\":{\"color\":\"#EF553B\",\"pattern\":{\"shape\":\"\"}},\"name\":\"In hohem Maß konkret\\u003cbr\\u003e(Mittelwert = 1.27)\",\"offsetgroup\":\"In hohem Maß konkret\\u003cbr\\u003e(Mittelwert = 1.27)\",\"orientation\":\"v\",\"showlegend\":true,\"x\":[1,1,1,1,1,2,1,1,1,1,2,1,1,1,1,2,1,1,2,1,1,1,1,1,1,2,1,1,1,1,1,1,1,1,2,1,1,1,1,1,2,1,1,1,1,1,1,2,1,1,1,2,1,2,1,2,1,1,1,1,1,1,1,1,2,1,1,2,2,1,1,2,1,1,1,1,1,1,1,1,1,2,1,1,2,1,1,2,1,2,2,2,1,1,1,1,1,1,2,1,1,2,1,1,1,1,1,1,1,1,1,1,1,1,1,2,1,2,2,1,1,1,2,2,1,1,1,1,1,2,1,1,1,2,2,1,1,1,1,1,1,2,1,1,1,2,1,1,1,2,1,2,1,1,1,2,1,1,1,1,1,1,2,1,1,2,1,1,1,1,2,1,1,2,1,1,1,1,1,2,2,1,1,1,1,1,1,2,1,1,1,1,1,1,1,1,1,1,1,2,1,1,1,1,1,1,1,1,1,1,1,1,1,1,1,1,2,1,1,1,2,2,1,1,1,1,1,1,1,1,1,1,1,1,1,1,2,1,2,1,1,1,1,1,1,1,1,1,1,1,1,1,1,1,1,1,1,1,1,1,1,1,1,1,1,1,1,1,1,2,1,1,1,1,1,1,1,1,1,1,1,1,1,1,1,1,1,2,1,1,1,1,1,1,1,1,1,2,1,2,1,1,2,1,2,2,1,2,2,2,3,1,2,2,1,2,1,1,1,1,2,1,1,2,1,1,2,1,1,1,1,1,1,2,1,1,1,1,1,2,1,1,1,1,1,2,1,1,1,1,2,1,1,1,1,1,1,2,1,3,2,1,1,1,2,2,1,2,2,1,1,1,1,1,1,1,1,1,1,1,1,1,1,2,1,1,2,1,1,1,1,1,1,1,2,1,1,1,1,2,1,2,1,1,1,1,1,2,1,1,1,1,2,1,2,1,2,1,1,2,1,1,1,1,2,1,1,1,1,1,1,1,1,2,1,1,1,2,2,2,3,1,2,1,1,1,1,2,1,2,1,2,2,2,1,1,1,2,2,2,2,1,1,1,1,1,1,1,2,1,2,2,2,2,2,1,1,2,1,1,2,1,1,1,1,2,1,1,1,1,1,1,1,2,2,1,1,1,1,1,1,1,1,1,1,1,1,1,1,1,1,1,1,2,2,2,1,2,1,1,1,2,1,2,2,2,2,1,1,1,1,1,1,2,2,1,2,1,1,2,1,1,1,2,1,2,2,2,2,1,1,2,2,1,1,2,1,1,2,2,1,1,2,2,1,2,1,1,2,1,1,1,1,1,1,2,1,1,1,1,1,2,1,1,1,1,1,1,1,1,2,1,2,1,1,1,1,1,1,1,1,2,1,2,1,1,2,1,1,1,2,1,1,1,1,1,1,1,1,1,1,1,1,1,1,2,1,1,1,2,1,1,1,1,1,1,1,1,1,2,1,1,1,1,1,1,1,1,1,1,1,1,2,2,1,1,1,1,1,1,1,2,1,1,1,1,1,2,1,1,2,1,1,1,1,1,1,1,1,1,2,1,2,1,1,1,2,1,1,1,2,1,1,1,1,1,2,1,1,1,1,2,2,1,1,1,1,1,2,2,1,2,1,1,1,1,1,2,2,1,1,1,2,1,1,1,1,2,1,1,1,1,1,1,1,1,1,1,1,1,1,1,1,1,1,1,1,1,1,1,1,1,1,1,1,1,1,2,1,1,1,1,2,1,2,1,1,1,2,2,2,2,2,1,2,1,1,2,2,1,1,1,1,1,1,2,1,2,1,1,1,1,1,1,1,2,1,1,1,1,1,1,1,1,1,2,1,2,2,1,1,1,2,2,2,2,2,2,1,2,2,2,1,2,1,1,1,2,1,1,2,2,1,1,2,1,1,2,3,2,1,2,1,1,1,1,1,1,1,1,1,2,1,1,1,1,1,1,3,1,2,1,2,1,3,1,2,1,1,2,1,2,1,2,1,1,1,1,1,1,1,1,1,1,1,1,1,1,1,2,1,1,2,1,2,1,1,1,1,1,1,1,1,1,2,2,1,1,2,1,1,1,2,2,1,1,1,1,1,2,2,1,1,1,2,1,1,1,1,2,1,2,2,1,2,1,1,2,1,1,1,1,2,1,2,1,2,1,1,2,1,1,2,2,1,1,1,2,1,1,1,1,2,1,1,1,1,1,1,1,1,1,1,1,1,1,2,2,1,1,1,1,2,1,1,1,1,1,1,1,1,1,1,1,2,1,1,1,1,1,1,1,2,1,1,1,1,2,2,1,1,1,1,1,1,3,2,2,2,1,1,1,1,2,1,2,1,1,2,1,1,2,1,2,1,2,1,2,1,1,3,2,2,2,1,1,2,1,1,2,1,1,1,2,1,1,2,2,1,2,2,2,1,1,1,1,1,1,1,1,1,1,2,2,1,1,1,1,1,2,1,1,1,1,1,2,2,1,1,2,3,3,1,1,1,1,1,1,1,1,1,1,2,1,1,1,1,2,1,1,1,1,1,1,1,1,1,1,1,1,2,2,1,1,1,3,2,1,2,1,1,1,1,1,1,1,1,2,1,2,1,1,1,1,2,2,1,1,1,1,1,1,1,1,1,1,1,2,1,1,1,1,1,1,1,2,1,2,2,1,1,2,2,2,2,1,1,1,1,2,1,1,1,1,2,1,1,2,1,1,2,1,2,1,1,1,1,1,1,2,3,2,3,2,1,2,1,1,1,3,2,2,1,2,1,3,2,1,1,1,1,1,3,1,1,1,1,1,2,2,1,1,1,1,1,1,2,1,1,1,1,1,1,1,1,1,1,3,1,1,1,1,2,1,2,1,1,3,1,1,2,2,2,1,3,1,1,1,1,1,1,1,1,1,2,1,1,1,2,1,1,1,1,1,1,2,3,1,1,1,1,2,2,1,1,1,2,1,2,1,2,1,2,1,1,1,1,2,1,1,2,2,1,1,1,2,1,2,1,1,1,1,2,2,1,2,1,1,1,1,1,1,1,1,1,1,1,1,1,1,1,1,1,1,1,1,1,1,1,1,1,2,2,1,1,1,2,1,1,1,1,1,1,1,2,2,1,1,1,1,1,1,1,1,1,1,1,2,1,2,1,1,1,1,1,2,1,2,2,1,1,2,1,2,2,1,1,1,2,1,2,1,2,1,1,1,1,1,1,2,1,1,2,2,2,1,2,1,1,2,1,1,2,1,1,1,1,1,1,1,2,1,2,1,1,1,2,1,1,1,1,2,1,2,1,2,1,2,2,2,1,2,1,1,1,2,2,1,1,2,1,2,1,2,1,1,2,1,1,1,2,1,2,2,2,1,1,1,2,1,1,2,2,1,1,1,1,1,2,1,1,1,1,1,1,1,1,1,1,1,2,1,2,1,1,2,2,1,1,1,1,3,1],\"xaxis\":\"x\",\"yaxis\":\"y\",\"type\":\"histogram\"}],                        {\"template\":{\"data\":{\"histogram2dcontour\":[{\"type\":\"histogram2dcontour\",\"colorbar\":{\"outlinewidth\":0,\"ticks\":\"\"},\"colorscale\":[[0.0,\"#0d0887\"],[0.1111111111111111,\"#46039f\"],[0.2222222222222222,\"#7201a8\"],[0.3333333333333333,\"#9c179e\"],[0.4444444444444444,\"#bd3786\"],[0.5555555555555556,\"#d8576b\"],[0.6666666666666666,\"#ed7953\"],[0.7777777777777778,\"#fb9f3a\"],[0.8888888888888888,\"#fdca26\"],[1.0,\"#f0f921\"]]}],\"choropleth\":[{\"type\":\"choropleth\",\"colorbar\":{\"outlinewidth\":0,\"ticks\":\"\"}}],\"histogram2d\":[{\"type\":\"histogram2d\",\"colorbar\":{\"outlinewidth\":0,\"ticks\":\"\"},\"colorscale\":[[0.0,\"#0d0887\"],[0.1111111111111111,\"#46039f\"],[0.2222222222222222,\"#7201a8\"],[0.3333333333333333,\"#9c179e\"],[0.4444444444444444,\"#bd3786\"],[0.5555555555555556,\"#d8576b\"],[0.6666666666666666,\"#ed7953\"],[0.7777777777777778,\"#fb9f3a\"],[0.8888888888888888,\"#fdca26\"],[1.0,\"#f0f921\"]]}],\"heatmap\":[{\"type\":\"heatmap\",\"colorbar\":{\"outlinewidth\":0,\"ticks\":\"\"},\"colorscale\":[[0.0,\"#0d0887\"],[0.1111111111111111,\"#46039f\"],[0.2222222222222222,\"#7201a8\"],[0.3333333333333333,\"#9c179e\"],[0.4444444444444444,\"#bd3786\"],[0.5555555555555556,\"#d8576b\"],[0.6666666666666666,\"#ed7953\"],[0.7777777777777778,\"#fb9f3a\"],[0.8888888888888888,\"#fdca26\"],[1.0,\"#f0f921\"]]}],\"heatmapgl\":[{\"type\":\"heatmapgl\",\"colorbar\":{\"outlinewidth\":0,\"ticks\":\"\"},\"colorscale\":[[0.0,\"#0d0887\"],[0.1111111111111111,\"#46039f\"],[0.2222222222222222,\"#7201a8\"],[0.3333333333333333,\"#9c179e\"],[0.4444444444444444,\"#bd3786\"],[0.5555555555555556,\"#d8576b\"],[0.6666666666666666,\"#ed7953\"],[0.7777777777777778,\"#fb9f3a\"],[0.8888888888888888,\"#fdca26\"],[1.0,\"#f0f921\"]]}],\"contourcarpet\":[{\"type\":\"contourcarpet\",\"colorbar\":{\"outlinewidth\":0,\"ticks\":\"\"}}],\"contour\":[{\"type\":\"contour\",\"colorbar\":{\"outlinewidth\":0,\"ticks\":\"\"},\"colorscale\":[[0.0,\"#0d0887\"],[0.1111111111111111,\"#46039f\"],[0.2222222222222222,\"#7201a8\"],[0.3333333333333333,\"#9c179e\"],[0.4444444444444444,\"#bd3786\"],[0.5555555555555556,\"#d8576b\"],[0.6666666666666666,\"#ed7953\"],[0.7777777777777778,\"#fb9f3a\"],[0.8888888888888888,\"#fdca26\"],[1.0,\"#f0f921\"]]}],\"surface\":[{\"type\":\"surface\",\"colorbar\":{\"outlinewidth\":0,\"ticks\":\"\"},\"colorscale\":[[0.0,\"#0d0887\"],[0.1111111111111111,\"#46039f\"],[0.2222222222222222,\"#7201a8\"],[0.3333333333333333,\"#9c179e\"],[0.4444444444444444,\"#bd3786\"],[0.5555555555555556,\"#d8576b\"],[0.6666666666666666,\"#ed7953\"],[0.7777777777777778,\"#fb9f3a\"],[0.8888888888888888,\"#fdca26\"],[1.0,\"#f0f921\"]]}],\"mesh3d\":[{\"type\":\"mesh3d\",\"colorbar\":{\"outlinewidth\":0,\"ticks\":\"\"}}],\"scatter\":[{\"fillpattern\":{\"fillmode\":\"overlay\",\"size\":10,\"solidity\":0.2},\"type\":\"scatter\"}],\"parcoords\":[{\"type\":\"parcoords\",\"line\":{\"colorbar\":{\"outlinewidth\":0,\"ticks\":\"\"}}}],\"scatterpolargl\":[{\"type\":\"scatterpolargl\",\"marker\":{\"colorbar\":{\"outlinewidth\":0,\"ticks\":\"\"}}}],\"bar\":[{\"error_x\":{\"color\":\"#2a3f5f\"},\"error_y\":{\"color\":\"#2a3f5f\"},\"marker\":{\"line\":{\"color\":\"#E5ECF6\",\"width\":0.5},\"pattern\":{\"fillmode\":\"overlay\",\"size\":10,\"solidity\":0.2}},\"type\":\"bar\"}],\"scattergeo\":[{\"type\":\"scattergeo\",\"marker\":{\"colorbar\":{\"outlinewidth\":0,\"ticks\":\"\"}}}],\"scatterpolar\":[{\"type\":\"scatterpolar\",\"marker\":{\"colorbar\":{\"outlinewidth\":0,\"ticks\":\"\"}}}],\"histogram\":[{\"marker\":{\"pattern\":{\"fillmode\":\"overlay\",\"size\":10,\"solidity\":0.2}},\"type\":\"histogram\"}],\"scattergl\":[{\"type\":\"scattergl\",\"marker\":{\"colorbar\":{\"outlinewidth\":0,\"ticks\":\"\"}}}],\"scatter3d\":[{\"type\":\"scatter3d\",\"line\":{\"colorbar\":{\"outlinewidth\":0,\"ticks\":\"\"}},\"marker\":{\"colorbar\":{\"outlinewidth\":0,\"ticks\":\"\"}}}],\"scattermapbox\":[{\"type\":\"scattermapbox\",\"marker\":{\"colorbar\":{\"outlinewidth\":0,\"ticks\":\"\"}}}],\"scatterternary\":[{\"type\":\"scatterternary\",\"marker\":{\"colorbar\":{\"outlinewidth\":0,\"ticks\":\"\"}}}],\"scattercarpet\":[{\"type\":\"scattercarpet\",\"marker\":{\"colorbar\":{\"outlinewidth\":0,\"ticks\":\"\"}}}],\"carpet\":[{\"aaxis\":{\"endlinecolor\":\"#2a3f5f\",\"gridcolor\":\"white\",\"linecolor\":\"white\",\"minorgridcolor\":\"white\",\"startlinecolor\":\"#2a3f5f\"},\"baxis\":{\"endlinecolor\":\"#2a3f5f\",\"gridcolor\":\"white\",\"linecolor\":\"white\",\"minorgridcolor\":\"white\",\"startlinecolor\":\"#2a3f5f\"},\"type\":\"carpet\"}],\"table\":[{\"cells\":{\"fill\":{\"color\":\"#EBF0F8\"},\"line\":{\"color\":\"white\"}},\"header\":{\"fill\":{\"color\":\"#C8D4E3\"},\"line\":{\"color\":\"white\"}},\"type\":\"table\"}],\"barpolar\":[{\"marker\":{\"line\":{\"color\":\"#E5ECF6\",\"width\":0.5},\"pattern\":{\"fillmode\":\"overlay\",\"size\":10,\"solidity\":0.2}},\"type\":\"barpolar\"}],\"pie\":[{\"automargin\":true,\"type\":\"pie\"}]},\"layout\":{\"autotypenumbers\":\"strict\",\"colorway\":[\"#636efa\",\"#EF553B\",\"#00cc96\",\"#ab63fa\",\"#FFA15A\",\"#19d3f3\",\"#FF6692\",\"#B6E880\",\"#FF97FF\",\"#FECB52\"],\"font\":{\"color\":\"#2a3f5f\"},\"hovermode\":\"closest\",\"hoverlabel\":{\"align\":\"left\"},\"paper_bgcolor\":\"white\",\"plot_bgcolor\":\"#E5ECF6\",\"polar\":{\"bgcolor\":\"#E5ECF6\",\"angularaxis\":{\"gridcolor\":\"white\",\"linecolor\":\"white\",\"ticks\":\"\"},\"radialaxis\":{\"gridcolor\":\"white\",\"linecolor\":\"white\",\"ticks\":\"\"}},\"ternary\":{\"bgcolor\":\"#E5ECF6\",\"aaxis\":{\"gridcolor\":\"white\",\"linecolor\":\"white\",\"ticks\":\"\"},\"baxis\":{\"gridcolor\":\"white\",\"linecolor\":\"white\",\"ticks\":\"\"},\"caxis\":{\"gridcolor\":\"white\",\"linecolor\":\"white\",\"ticks\":\"\"}},\"coloraxis\":{\"colorbar\":{\"outlinewidth\":0,\"ticks\":\"\"}},\"colorscale\":{\"sequential\":[[0.0,\"#0d0887\"],[0.1111111111111111,\"#46039f\"],[0.2222222222222222,\"#7201a8\"],[0.3333333333333333,\"#9c179e\"],[0.4444444444444444,\"#bd3786\"],[0.5555555555555556,\"#d8576b\"],[0.6666666666666666,\"#ed7953\"],[0.7777777777777778,\"#fb9f3a\"],[0.8888888888888888,\"#fdca26\"],[1.0,\"#f0f921\"]],\"sequentialminus\":[[0.0,\"#0d0887\"],[0.1111111111111111,\"#46039f\"],[0.2222222222222222,\"#7201a8\"],[0.3333333333333333,\"#9c179e\"],[0.4444444444444444,\"#bd3786\"],[0.5555555555555556,\"#d8576b\"],[0.6666666666666666,\"#ed7953\"],[0.7777777777777778,\"#fb9f3a\"],[0.8888888888888888,\"#fdca26\"],[1.0,\"#f0f921\"]],\"diverging\":[[0,\"#8e0152\"],[0.1,\"#c51b7d\"],[0.2,\"#de77ae\"],[0.3,\"#f1b6da\"],[0.4,\"#fde0ef\"],[0.5,\"#f7f7f7\"],[0.6,\"#e6f5d0\"],[0.7,\"#b8e186\"],[0.8,\"#7fbc41\"],[0.9,\"#4d9221\"],[1,\"#276419\"]]},\"xaxis\":{\"gridcolor\":\"white\",\"linecolor\":\"white\",\"ticks\":\"\",\"title\":{\"standoff\":15},\"zerolinecolor\":\"white\",\"automargin\":true,\"zerolinewidth\":2},\"yaxis\":{\"gridcolor\":\"white\",\"linecolor\":\"white\",\"ticks\":\"\",\"title\":{\"standoff\":15},\"zerolinecolor\":\"white\",\"automargin\":true,\"zerolinewidth\":2},\"scene\":{\"xaxis\":{\"backgroundcolor\":\"#E5ECF6\",\"gridcolor\":\"white\",\"linecolor\":\"white\",\"showbackground\":true,\"ticks\":\"\",\"zerolinecolor\":\"white\",\"gridwidth\":2},\"yaxis\":{\"backgroundcolor\":\"#E5ECF6\",\"gridcolor\":\"white\",\"linecolor\":\"white\",\"showbackground\":true,\"ticks\":\"\",\"zerolinecolor\":\"white\",\"gridwidth\":2},\"zaxis\":{\"backgroundcolor\":\"#E5ECF6\",\"gridcolor\":\"white\",\"linecolor\":\"white\",\"showbackground\":true,\"ticks\":\"\",\"zerolinecolor\":\"white\",\"gridwidth\":2}},\"shapedefaults\":{\"line\":{\"color\":\"#2a3f5f\"}},\"annotationdefaults\":{\"arrowcolor\":\"#2a3f5f\",\"arrowhead\":0,\"arrowwidth\":1},\"geo\":{\"bgcolor\":\"white\",\"landcolor\":\"#E5ECF6\",\"subunitcolor\":\"white\",\"showland\":true,\"showlakes\":true,\"lakecolor\":\"white\"},\"title\":{\"x\":0.05},\"mapbox\":{\"style\":\"light\"}}},\"xaxis\":{\"anchor\":\"y\",\"domain\":[0.0,1.0],\"title\":{\"text\":\"Anzahl Sprechakte\",\"font\":{\"size\":14}},\"tickfont\":{\"size\":14},\"color\":\"black\",\"gridcolor\":\"white\",\"showgrid\":false},\"yaxis\":{\"anchor\":\"x\",\"domain\":[0.0,1.0],\"title\":{\"text\":\"Anteil\",\"font\":{\"size\":14}},\"tickfont\":{\"size\":14},\"color\":\"black\",\"gridcolor\":\"lightgray\",\"zerolinecolor\":\"lightgray\"},\"legend\":{\"title\":{\"text\":\"\"},\"tracegroupgap\":0,\"font\":{\"size\":14},\"x\":0.52,\"y\":0.92,\"bordercolor\":\"black\",\"borderwidth\":1},\"margin\":{\"t\":60},\"barmode\":\"group\",\"width\":700,\"height\":300,\"bargap\":0.1,\"font\":{\"color\":\"black\"},\"plot_bgcolor\":\"white\",\"paper_bgcolor\":\"white\"},                        {\"responsive\": true}                    ).then(function(){\n",
       "                            \n",
       "var gd = document.getElementById('b0f0dc43-ee2b-4f2d-baf4-2eba6d7387f0');\n",
       "var x = new MutationObserver(function (mutations, observer) {{\n",
       "        var display = window.getComputedStyle(gd).display;\n",
       "        if (!display || display === 'none') {{\n",
       "            console.log([gd, 'removed!']);\n",
       "            Plotly.purge(gd);\n",
       "            observer.disconnect();\n",
       "        }}\n",
       "}});\n",
       "\n",
       "// Listen for the removal of the full notebook cells\n",
       "var notebookContainer = gd.closest('#notebook-container');\n",
       "if (notebookContainer) {{\n",
       "    x.observe(notebookContainer, {childList: true});\n",
       "}}\n",
       "\n",
       "// Listen for the clearing of the current output cell\n",
       "var outputEl = gd.closest('.output');\n",
       "if (outputEl) {{\n",
       "    x.observe(outputEl, {childList: true});\n",
       "}}\n",
       "\n",
       "                        })                };                });            </script>        </div>"
      ]
     },
     "metadata": {},
     "output_type": "display_data"
    }
   ],
   "source": [
    "meta_plot = meta_anth_bin.copy()\n",
    "\n",
    "for cont_comp_feature in results_filtered.index:\n",
    "    mean_main = meta_plot[meta_plot[main_feature] == 1][cont_comp_feature].mean()\n",
    "    mean_notmain = meta_plot[meta_plot[main_feature] == 0][cont_comp_feature].mean()\n",
    "    label_main = f\"In hohem Maß konkret<br>(Mittelwert = {round(mean_main, 2)})\"\n",
    "    label_notmain = f\"Nicht in hohem Maß konkret<br>(Mittelwert = {round(mean_notmain, 2)})\"\n",
    "    meta_plot['plot_legend'] = [label_main if x == 1 else label_notmain for x in meta_plot[main_feature]]\n",
    "        \n",
    "    fig = px.histogram(\n",
    "        meta_plot,\n",
    "        x = cont_comp_feature,\n",
    "        color = 'plot_legend',\n",
    "        histnorm = 'probability density',\n",
    "        barmode = 'group',\n",
    "        labels = {'plot_legend' : '', \n",
    "                  'sprechakte_count' : 'Anzahl Sprechakte',\n",
    "                  'entity_count' : 'Anzahl Entitäten',\n",
    "                  'kleinraum_count' : 'Anzahl behandelte Kleinräume',\n",
    "                 }\n",
    "    )\n",
    "\n",
    "    fig.update_layout(\n",
    "        width = 700, height = 300,\n",
    "        yaxis_title=\"Anteil\",\n",
    "        xaxis=dict(tickfont=dict(size=14), titlefont=dict(size=14)),\n",
    "        yaxis=dict(tickfont=dict(size=14), titlefont=dict(size=14)),\n",
    "        legend=dict(font = dict(size=14), x=0.52, y = 0.92),\n",
    "        bargap=0.1\n",
    "    )\n",
    "    fig = update_fig_for_publication(fig)\n",
    "    fig.write_image(f\"plots/6.10 Konkretheit – {cont_comp_feature}.pdf\")\n",
    "    fig.show()"
   ]
  },
  {
   "cell_type": "code",
   "execution_count": 28,
   "id": "1dee92fd",
   "metadata": {},
   "outputs": [
    {
     "data": {
      "text/html": [
       "<div>\n",
       "<style scoped>\n",
       "    .dataframe tbody tr th:only-of-type {\n",
       "        vertical-align: middle;\n",
       "    }\n",
       "\n",
       "    .dataframe tbody tr th {\n",
       "        vertical-align: top;\n",
       "    }\n",
       "\n",
       "    .dataframe thead th {\n",
       "        text-align: right;\n",
       "    }\n",
       "</style>\n",
       "<table border=\"1\" class=\"dataframe\">\n",
       "  <thead>\n",
       "    <tr style=\"text-align: right;\">\n",
       "      <th></th>\n",
       "      <th>wenn_nicht_1850</th>\n",
       "      <th>wenn_ja_1850</th>\n",
       "      <th>mannwhitneyu_p_1850</th>\n",
       "      <th>pointbiserialr_corr_1850</th>\n",
       "      <th>wenn_nicht_1885</th>\n",
       "      <th>wenn_ja_1885</th>\n",
       "      <th>mannwhitneyu_p_1885</th>\n",
       "      <th>pointbiserialr_corr_1885</th>\n",
       "      <th>diff_of_corrs</th>\n",
       "    </tr>\n",
       "  </thead>\n",
       "  <tbody>\n",
       "    <tr>\n",
       "      <th>sprechakte_count</th>\n",
       "      <td>1.557</td>\n",
       "      <td>1.254</td>\n",
       "      <td>0.0</td>\n",
       "      <td>-0.231</td>\n",
       "      <td>1.69</td>\n",
       "      <td>1.332</td>\n",
       "      <td>0.0</td>\n",
       "      <td>-0.264</td>\n",
       "      <td>-0.034</td>\n",
       "    </tr>\n",
       "    <tr>\n",
       "      <th>entity_count</th>\n",
       "      <td>1.747</td>\n",
       "      <td>2.271</td>\n",
       "      <td>0.0</td>\n",
       "      <td>0.233</td>\n",
       "      <td>1.60</td>\n",
       "      <td>2.040</td>\n",
       "      <td>0.0</td>\n",
       "      <td>0.204</td>\n",
       "      <td>-0.030</td>\n",
       "    </tr>\n",
       "    <tr>\n",
       "      <th>kleinraum_count</th>\n",
       "      <td>0.397</td>\n",
       "      <td>0.761</td>\n",
       "      <td>0.0</td>\n",
       "      <td>0.245</td>\n",
       "      <td>0.20</td>\n",
       "      <td>0.649</td>\n",
       "      <td>0.0</td>\n",
       "      <td>0.303</td>\n",
       "      <td>0.058</td>\n",
       "    </tr>\n",
       "  </tbody>\n",
       "</table>\n",
       "</div>"
      ],
      "text/plain": [
       "                  wenn_nicht_1850  wenn_ja_1850  mannwhitneyu_p_1850  \\\n",
       "sprechakte_count            1.557         1.254                  0.0   \n",
       "entity_count                1.747         2.271                  0.0   \n",
       "kleinraum_count             0.397         0.761                  0.0   \n",
       "\n",
       "                  pointbiserialr_corr_1850  wenn_nicht_1885  wenn_ja_1885  \\\n",
       "sprechakte_count                    -0.231             1.69         1.332   \n",
       "entity_count                         0.233             1.60         2.040   \n",
       "kleinraum_count                      0.245             0.20         0.649   \n",
       "\n",
       "                  mannwhitneyu_p_1885  pointbiserialr_corr_1885  diff_of_corrs  \n",
       "sprechakte_count                  0.0                    -0.264         -0.034  \n",
       "entity_count                      0.0                     0.204         -0.030  \n",
       "kleinraum_count                   0.0                     0.303          0.058  "
      ]
     },
     "execution_count": 28,
     "metadata": {},
     "output_type": "execute_result"
    }
   ],
   "source": [
    "result_categories = ['wenn_nicht', 'wenn_ja', 'mannwhitneyu_p', 'pointbiserialr_corr',]\n",
    "\n",
    "results_a = relations_bincont(\n",
    "    meta = meta_anth_bin.query(\"1850 <= year <= 1884\"), \n",
    "    main_feature = main_feature,\n",
    "    comp_features = results_filtered.index\n",
    ")\n",
    "\n",
    "results_b = relations_bincont(\n",
    "    meta = meta_anth_bin.query(\"1885 <= year <= 1918\"), \n",
    "    main_feature = main_feature,\n",
    "    comp_features = results_filtered.index\n",
    ")\n",
    "\n",
    "results_merged = results_a[result_categories].join(\n",
    "    results_b[result_categories], \n",
    "    lsuffix='_1850', rsuffix = '_1885'\n",
    ")\n",
    "results_merged['diff_of_corrs'] = results_merged['pointbiserialr_corr_1885'] - results_merged['pointbiserialr_corr_1850']\n",
    "\n",
    "round(results_merged.sort_values(by = 'diff_of_corrs'), 3)"
   ]
  },
  {
   "cell_type": "code",
   "execution_count": 29,
   "id": "7eecad19",
   "metadata": {},
   "outputs": [
    {
     "data": {
      "text/html": [
       "<div>\n",
       "<style scoped>\n",
       "    .dataframe tbody tr th:only-of-type {\n",
       "        vertical-align: middle;\n",
       "    }\n",
       "\n",
       "    .dataframe tbody tr th {\n",
       "        vertical-align: top;\n",
       "    }\n",
       "\n",
       "    .dataframe thead th {\n",
       "        text-align: right;\n",
       "    }\n",
       "</style>\n",
       "<table border=\"1\" class=\"dataframe\">\n",
       "  <thead>\n",
       "    <tr style=\"text-align: right;\">\n",
       "      <th></th>\n",
       "      <th>wenn_ja_detail</th>\n",
       "      <th>wenn_ja</th>\n",
       "    </tr>\n",
       "  </thead>\n",
       "  <tbody>\n",
       "    <tr>\n",
       "      <th>in_hohem_mass_konkret</th>\n",
       "      <td>592/600</td>\n",
       "      <td>0.99</td>\n",
       "    </tr>\n",
       "  </tbody>\n",
       "</table>\n",
       "</div>"
      ],
      "text/plain": [
       "                      wenn_ja_detail  wenn_ja\n",
       "in_hohem_mass_konkret        592/600     0.99"
      ]
     },
     "execution_count": 29,
     "metadata": {},
     "output_type": "execute_result"
    }
   ],
   "source": [
    "meta_anth_kombi = meta_anth_bin.copy()\n",
    "meta_anth_kombi['kombi'] = 0\n",
    "for i, element in enumerate(meta_anth_kombi.iloc):\n",
    "    if element['sprechakt_erzaehlen_vorhanden'] == 1:\n",
    "        if element['ballade'] == 1:\n",
    "            if element['ereignis'] == 1:\n",
    "                if element['wissen_ergaenzend'] == 1:\n",
    "                    if element['kleinraum_count'] >= 1:\n",
    "                        if element['entity_count'] >= 2:\n",
    "                            meta_anth_kombi.at[i, 'kombi'] = 1\n",
    "                            \n",
    "meta_anth_kombi['kombi'] = meta_anth_kombi['kombi'].fillna(0)\n",
    "\n",
    "results = relations_binbin(\n",
    "    meta = meta_anth_kombi, \n",
    "    main_feature = 'kombi',\n",
    "    comp_features = ['in_hohem_mass_konkret']\n",
    ")\n",
    "\n",
    "round(results, 2)[['wenn_ja_detail', 'wenn_ja']]"
   ]
  },
  {
   "cell_type": "code",
   "execution_count": 30,
   "id": "accefdc7",
   "metadata": {},
   "outputs": [
    {
     "data": {
      "text/html": [
       "<div>\n",
       "<style scoped>\n",
       "    .dataframe tbody tr th:only-of-type {\n",
       "        vertical-align: middle;\n",
       "    }\n",
       "\n",
       "    .dataframe tbody tr th {\n",
       "        vertical-align: top;\n",
       "    }\n",
       "\n",
       "    .dataframe thead th {\n",
       "        text-align: right;\n",
       "    }\n",
       "</style>\n",
       "<table border=\"1\" class=\"dataframe\">\n",
       "  <thead>\n",
       "    <tr style=\"text-align: right;\">\n",
       "      <th></th>\n",
       "      <th>wenn_ja_detail</th>\n",
       "      <th>wenn_ja</th>\n",
       "    </tr>\n",
       "  </thead>\n",
       "  <tbody>\n",
       "    <tr>\n",
       "      <th>in_hohem_mass_konkret</th>\n",
       "      <td>19/63</td>\n",
       "      <td>0.3</td>\n",
       "    </tr>\n",
       "  </tbody>\n",
       "</table>\n",
       "</div>"
      ],
      "text/plain": [
       "                      wenn_ja_detail  wenn_ja\n",
       "in_hohem_mass_konkret          19/63      0.3"
      ]
     },
     "execution_count": 30,
     "metadata": {},
     "output_type": "execute_result"
    }
   ],
   "source": [
    "meta_anth_kombi = meta_anth_bin.copy()\n",
    "meta_anth_kombi['kombi'] = 0\n",
    "for i, element in enumerate(meta_anth_bin.iloc):\n",
    "    if element['sprechinstanz_markiert'] == 1:\n",
    "        if element['sprechakte_count'] >= 2:\n",
    "            if element['sprechakt_behaupten_vorhanden'] == 1:\n",
    "                if element['gegenwartsbezug'] == 1:\n",
    "                    if element['nationalismus'] == 1:\n",
    "                        meta_anth_kombi.at[i, 'kombi'] = 1\n",
    "                            \n",
    "meta_anth_kombi['kombi'] = meta_anth_kombi['kombi'].fillna(0)\n",
    "\n",
    "results = relations_binbin(\n",
    "    meta = meta_anth_kombi, \n",
    "    main_feature = 'kombi',\n",
    "    comp_features = ['in_hohem_mass_konkret']\n",
    ")\n",
    "\n",
    "round(results, 2)[['wenn_ja_detail', 'wenn_ja']]"
   ]
  },
  {
   "cell_type": "markdown",
   "id": "14d7f757",
   "metadata": {},
   "source": [
    "# Weiteres"
   ]
  },
  {
   "cell_type": "code",
   "execution_count": 31,
   "id": "5c722f9d",
   "metadata": {},
   "outputs": [
    {
     "data": {
      "text/html": [
       "<div>\n",
       "<style scoped>\n",
       "    .dataframe tbody tr th:only-of-type {\n",
       "        vertical-align: middle;\n",
       "    }\n",
       "\n",
       "    .dataframe tbody tr th {\n",
       "        vertical-align: top;\n",
       "    }\n",
       "\n",
       "    .dataframe thead th {\n",
       "        text-align: right;\n",
       "    }\n",
       "</style>\n",
       "<table border=\"1\" class=\"dataframe\">\n",
       "  <thead>\n",
       "    <tr style=\"text-align: right;\">\n",
       "      <th>in_hohem_mass_konkret</th>\n",
       "      <th>0</th>\n",
       "      <th>1</th>\n",
       "    </tr>\n",
       "    <tr>\n",
       "      <th>sprechinstanz_markiert</th>\n",
       "      <th></th>\n",
       "      <th></th>\n",
       "    </tr>\n",
       "  </thead>\n",
       "  <tbody>\n",
       "    <tr>\n",
       "      <th>0.0</th>\n",
       "      <td>93</td>\n",
       "      <td>946</td>\n",
       "    </tr>\n",
       "    <tr>\n",
       "      <th>1.0</th>\n",
       "      <td>244</td>\n",
       "      <td>567</td>\n",
       "    </tr>\n",
       "  </tbody>\n",
       "</table>\n",
       "</div>"
      ],
      "text/plain": [
       "in_hohem_mass_konkret     0    1\n",
       "sprechinstanz_markiert          \n",
       "0.0                      93  946\n",
       "1.0                     244  567"
      ]
     },
     "execution_count": 31,
     "metadata": {},
     "output_type": "execute_result"
    }
   ],
   "source": [
    "pd.crosstab(meta_anth_bin['sprechinstanz_markiert'], meta_anth_bin['in_hohem_mass_konkret'])"
   ]
  },
  {
   "cell_type": "code",
   "execution_count": 32,
   "id": "57aeb9d1",
   "metadata": {},
   "outputs": [
    {
     "data": {
      "text/html": [
       "<div>\n",
       "<style scoped>\n",
       "    .dataframe tbody tr th:only-of-type {\n",
       "        vertical-align: middle;\n",
       "    }\n",
       "\n",
       "    .dataframe tbody tr th {\n",
       "        vertical-align: top;\n",
       "    }\n",
       "\n",
       "    .dataframe thead th {\n",
       "        text-align: right;\n",
       "    }\n",
       "</style>\n",
       "<table border=\"1\" class=\"dataframe\">\n",
       "  <thead>\n",
       "    <tr style=\"text-align: right;\">\n",
       "      <th></th>\n",
       "      <th>in_hohem_mass_konkret</th>\n",
       "    </tr>\n",
       "  </thead>\n",
       "  <tbody>\n",
       "    <tr>\n",
       "      <th>wenn_nicht</th>\n",
       "      <td>0.67</td>\n",
       "    </tr>\n",
       "    <tr>\n",
       "      <th>wenn_nicht_detail</th>\n",
       "      <td>386/574</td>\n",
       "    </tr>\n",
       "    <tr>\n",
       "      <th>wenn_ja</th>\n",
       "      <td>0.76</td>\n",
       "    </tr>\n",
       "    <tr>\n",
       "      <th>wenn_ja_detail</th>\n",
       "      <td>181/237</td>\n",
       "    </tr>\n",
       "    <tr>\n",
       "      <th>diff_low_bootstrap</th>\n",
       "      <td>0.03</td>\n",
       "    </tr>\n",
       "    <tr>\n",
       "      <th>diff_low</th>\n",
       "      <td>0.02</td>\n",
       "    </tr>\n",
       "    <tr>\n",
       "      <th>diff</th>\n",
       "      <td>0.09</td>\n",
       "    </tr>\n",
       "    <tr>\n",
       "      <th>diff_high</th>\n",
       "      <td>0.16</td>\n",
       "    </tr>\n",
       "    <tr>\n",
       "      <th>diff_high_bootstrap</th>\n",
       "      <td>0.16</td>\n",
       "    </tr>\n",
       "    <tr>\n",
       "      <th>chi2</th>\n",
       "      <td>6.64</td>\n",
       "    </tr>\n",
       "    <tr>\n",
       "      <th>chi2_p</th>\n",
       "      <td>0.01</td>\n",
       "    </tr>\n",
       "    <tr>\n",
       "      <th>fisher_p</th>\n",
       "      <td>0.01</td>\n",
       "    </tr>\n",
       "    <tr>\n",
       "      <th>phi</th>\n",
       "      <td>0.09</td>\n",
       "    </tr>\n",
       "    <tr>\n",
       "      <th>min_real</th>\n",
       "      <td>56.0</td>\n",
       "    </tr>\n",
       "    <tr>\n",
       "      <th>min_expected</th>\n",
       "      <td>71.3</td>\n",
       "    </tr>\n",
       "  </tbody>\n",
       "</table>\n",
       "</div>"
      ],
      "text/plain": [
       "                    in_hohem_mass_konkret\n",
       "wenn_nicht                           0.67\n",
       "wenn_nicht_detail                 386/574\n",
       "wenn_ja                              0.76\n",
       "wenn_ja_detail                    181/237\n",
       "diff_low_bootstrap                   0.03\n",
       "diff_low                             0.02\n",
       "diff                                 0.09\n",
       "diff_high                            0.16\n",
       "diff_high_bootstrap                  0.16\n",
       "chi2                                 6.64\n",
       "chi2_p                               0.01\n",
       "fisher_p                             0.01\n",
       "phi                                  0.09\n",
       "min_real                             56.0\n",
       "min_expected                         71.3"
      ]
     },
     "execution_count": 32,
     "metadata": {},
     "output_type": "execute_result"
    }
   ],
   "source": [
    "meta_markiert = meta_anth_bin.query(\"sprechinstanz_markiert == 1\")\n",
    "\n",
    "results = relations_binbin(\n",
    "    meta = meta_markiert, \n",
    "    main_feature = 'rollengedicht',\n",
    "    comp_features = ['in_hohem_mass_konkret']\n",
    ")\n",
    "\n",
    "round(results, 2).T"
   ]
  },
  {
   "cell_type": "code",
   "execution_count": 33,
   "id": "43c21f2c",
   "metadata": {},
   "outputs": [
    {
     "data": {
      "text/html": [
       "<div>\n",
       "<style scoped>\n",
       "    .dataframe tbody tr th:only-of-type {\n",
       "        vertical-align: middle;\n",
       "    }\n",
       "\n",
       "    .dataframe tbody tr th {\n",
       "        vertical-align: top;\n",
       "    }\n",
       "\n",
       "    .dataframe thead th {\n",
       "        text-align: right;\n",
       "    }\n",
       "</style>\n",
       "<table border=\"1\" class=\"dataframe\">\n",
       "  <thead>\n",
       "    <tr style=\"text-align: right;\">\n",
       "      <th></th>\n",
       "      <th>in_hohem_mass_konkret</th>\n",
       "    </tr>\n",
       "  </thead>\n",
       "  <tbody>\n",
       "    <tr>\n",
       "      <th>wenn_nicht</th>\n",
       "      <td>0.828</td>\n",
       "    </tr>\n",
       "    <tr>\n",
       "      <th>wenn_nicht_detail</th>\n",
       "      <td>1698/2050</td>\n",
       "    </tr>\n",
       "    <tr>\n",
       "      <th>wenn_ja</th>\n",
       "      <td>0.604</td>\n",
       "    </tr>\n",
       "    <tr>\n",
       "      <th>wenn_ja_detail</th>\n",
       "      <td>32/53</td>\n",
       "    </tr>\n",
       "    <tr>\n",
       "      <th>diff_low_bootstrap</th>\n",
       "      <td>-0.355</td>\n",
       "    </tr>\n",
       "    <tr>\n",
       "      <th>diff_low</th>\n",
       "      <td>-0.357</td>\n",
       "    </tr>\n",
       "    <tr>\n",
       "      <th>diff</th>\n",
       "      <td>-0.225</td>\n",
       "    </tr>\n",
       "    <tr>\n",
       "      <th>diff_high</th>\n",
       "      <td>-0.092</td>\n",
       "    </tr>\n",
       "    <tr>\n",
       "      <th>diff_high_bootstrap</th>\n",
       "      <td>-0.088</td>\n",
       "    </tr>\n",
       "    <tr>\n",
       "      <th>chi2</th>\n",
       "      <td>17.849</td>\n",
       "    </tr>\n",
       "    <tr>\n",
       "      <th>chi2_p</th>\n",
       "      <td>0.0</td>\n",
       "    </tr>\n",
       "    <tr>\n",
       "      <th>fisher_p</th>\n",
       "      <td>0.0</td>\n",
       "    </tr>\n",
       "    <tr>\n",
       "      <th>phi</th>\n",
       "      <td>0.092</td>\n",
       "    </tr>\n",
       "    <tr>\n",
       "      <th>min_real</th>\n",
       "      <td>21.0</td>\n",
       "    </tr>\n",
       "    <tr>\n",
       "      <th>min_expected</th>\n",
       "      <td>9.4</td>\n",
       "    </tr>\n",
       "  </tbody>\n",
       "</table>\n",
       "</div>"
      ],
      "text/plain": [
       "                    in_hohem_mass_konkret\n",
       "wenn_nicht                          0.828\n",
       "wenn_nicht_detail               1698/2050\n",
       "wenn_ja                             0.604\n",
       "wenn_ja_detail                      32/53\n",
       "diff_low_bootstrap                 -0.355\n",
       "diff_low                           -0.357\n",
       "diff                               -0.225\n",
       "diff_high                          -0.092\n",
       "diff_high_bootstrap                -0.088\n",
       "chi2                               17.849\n",
       "chi2_p                                0.0\n",
       "fisher_p                              0.0\n",
       "phi                                 0.092\n",
       "min_real                             21.0\n",
       "min_expected                          9.4"
      ]
     },
     "execution_count": 33,
     "metadata": {},
     "output_type": "execute_result"
    }
   ],
   "source": [
    "meta_muench_bin = binarize_meta(meta_muench)\n",
    "meta_modcanon_bin = binarize_meta(meta_modcanon)\n",
    "meta_all = pd.concat([meta_anth_bin, meta_muench_bin, meta_modcanon_bin])\n",
    "\n",
    "results = relations_binbin(\n",
    "    meta = meta_all, \n",
    "    main_feature = 'verfremdung',\n",
    "    comp_features = ['in_hohem_mass_konkret']\n",
    ")\n",
    "\n",
    "round(results, 3).T"
   ]
  },
  {
   "cell_type": "code",
   "execution_count": 34,
   "id": "12231127",
   "metadata": {},
   "outputs": [
    {
     "data": {
      "text/plain": [
       "36.0"
      ]
     },
     "execution_count": 34,
     "metadata": {},
     "output_type": "execute_result"
    }
   ],
   "source": [
    "for i, element in enumerate(meta_anth.iloc):\n",
    "    if str(element['text_bestocr']) != 'None' and str(element['text_bestocr']) != 'nan':\n",
    "        text = ' '.join(element['text_normalized_bestocr'])\n",
    "        if ' minne ' in text or ' minnen ' in text:\n",
    "            meta_anth.at[i, 'minne'] = 1\n",
    "            \n",
    "meta_anth['minne'].sum()"
   ]
  },
  {
   "cell_type": "code",
   "execution_count": 35,
   "id": "fa9e4256",
   "metadata": {},
   "outputs": [],
   "source": [
    "texts_start = 1850\n",
    "texts_end = 1918\n",
    "only_geschichtslyrik = True\n",
    "anthology_start = 1850\n",
    "anthology_end = 1918\n",
    "min_text_count = 20"
   ]
  },
  {
   "cell_type": "code",
   "execution_count": 36,
   "id": "40a02565",
   "metadata": {},
   "outputs": [],
   "source": [
    "anthology_info = pd.read_csv(r\"../resources/more/anthology_info.csv\", sep=\";\", header=1)\n",
    "anthology_info = anthology_info.rename(columns={\"‚Für Schule und Haus‘\" : 'Schule_Haus'})\n",
    "anthology_schule = anthology_info.query(\"Schule == 1\")['ID'].tolist()\n",
    "\n",
    "anthology_df = pd.DataFrame()\n",
    "for anthology in meta.query(\"anthology_year_used_ed <= 2000\")['anthology'].unique():\n",
    "    anthology_meta = meta.query(\"anthology == @anthology\")\n",
    "    anthology_time_meta = anthology_meta.query(\"@texts_start <= year <= @texts_end\")\n",
    "    if only_geschichtslyrik:\n",
    "        anthology_time_meta = anthology_time_meta.query(\"geschichtslyrik == 1\")\n",
    "    anthology_df.at[anthology, 'anthology_year'] = anthology_meta['anthology_year_used_ed'].tolist()[0]\n",
    "    anthology_df.at[anthology, 'anthology_schule'] = 'Schule' if anthology in anthology_schule else 'Nicht Schule'\n",
    "    anthology_df.at[anthology, 'annotated_count'] = anthology_time_meta.query(\"annotated\").shape[0]\n",
    "    anthology_df.at[anthology, 'konkret_count'] = anthology_time_meta.query(\"konkretheit == 1\").shape[0]\n",
    "anthology_df['konkret_share'] = anthology_df['konkret_count']/anthology_df['annotated_count']"
   ]
  },
  {
   "cell_type": "code",
   "execution_count": 37,
   "id": "ab595126",
   "metadata": {},
   "outputs": [
    {
     "data": {
      "application/vnd.plotly.v1+json": {
       "config": {
        "plotlyServerURL": "https://plot.ly"
       },
       "data": [
        {
         "alignmentgroup": "True",
         "boxpoints": "all",
         "customdata": [
          [
           "1858.Hocker"
          ],
          [
           "1862.Fricke"
          ],
          [
           "1867.Remy"
          ],
          [
           "1867.Scholz"
          ],
          [
           "1872.Bindewald.2(1875)"
          ],
          [
           "1876.Bintz"
          ],
          [
           "1876.Bodamer"
          ],
          [
           "1877.Anonym"
          ],
          [
           "1877.Edert"
          ],
          [
           "1878.Krämer"
          ],
          [
           "1878.Pennerstorfer.2(1879)"
          ],
          [
           "1879.Teuffenbach"
          ],
          [
           "1881.Polack"
          ],
          [
           "1881/83.Meyer"
          ],
          [
           "1884.Boehm"
          ],
          [
           "1884.Meyer/Reichel"
          ],
          [
           "1886.Bliedner"
          ],
          [
           "1887.Kriebitzsch"
          ],
          [
           "1889.Krais"
          ],
          [
           "1890.Basedow"
          ],
          [
           "1890.Kirchner"
          ],
          [
           "1891.Brümmer"
          ],
          [
           "1892.Dietlein"
          ],
          [
           "1892/93.Tetzner"
          ],
          [
           "1899.Nießen"
          ],
          [
           "1899.Schiffels"
          ],
          [
           "1903.Stückmann/Ekeris"
          ],
          [
           "1904.Linde"
          ],
          [
           "1906/07.Weber"
          ],
          [
           "1907.Zettel/Brunner"
          ],
          [
           "1908.Berg"
          ],
          [
           "1909.Meyer-Frommhold"
          ],
          [
           "1912.Harten/Henniger"
          ],
          [
           "1912.Werner"
          ],
          [
           "1913.Schrutz"
          ],
          [
           "1915.Eggert-Windegg"
          ],
          [
           "1917.Götze/Ulbricht"
          ],
          [
           "1918.Eschmann"
          ],
          [
           "1922.Uhlmann-Bixterheide"
          ],
          [
           "1925.Wehrhan"
          ],
          [
           "1926.Beck"
          ],
          [
           "1926.Rücker"
          ],
          [
           "1927.Maus"
          ],
          [
           "1928/29.Graach"
          ],
          [
           "1934.Jelusich"
          ],
          [
           "1938.Plenzat"
          ],
          [
           "1938.Schulz"
          ],
          [
           "1939.Berendt"
          ],
          [
           "1958.Kipp"
          ],
          [
           "1967.Fabian"
          ],
          [
           "1977.Pawlik/Schlender"
          ]
         ],
         "hovertemplate": "Anthologie-Typ=%{x}<br>Anteil Texte, die in hohem Maß konkret sind=%{y}<br>index=%{customdata[0]}<extra></extra>",
         "legendgroup": "",
         "marker": {
          "color": "#636efa"
         },
         "name": "",
         "notched": false,
         "offsetgroup": "",
         "orientation": "v",
         "showlegend": false,
         "type": "box",
         "x": [
          "Nicht Schule",
          "Schule",
          "Schule",
          "Nicht Schule",
          "Schule",
          "Schule",
          "Schule",
          "Nicht Schule",
          "Schule",
          "Schule",
          "Schule",
          "Schule",
          "Nicht Schule",
          "Schule",
          "Schule",
          "Schule",
          "Schule",
          "Schule",
          "Nicht Schule",
          "Nicht Schule",
          "Nicht Schule",
          "Schule",
          "Schule",
          "Nicht Schule",
          "Schule",
          "Schule",
          "Nicht Schule",
          "Schule",
          "Nicht Schule",
          "Schule",
          "Nicht Schule",
          "Schule",
          "Nicht Schule",
          "Nicht Schule",
          "Nicht Schule",
          "Nicht Schule",
          "Schule",
          "Nicht Schule",
          "Nicht Schule",
          "Schule",
          "Schule",
          "Schule",
          "Schule",
          "Nicht Schule",
          "Nicht Schule",
          "Nicht Schule",
          "Schule",
          "Nicht Schule",
          "Schule",
          "Schule",
          "Nicht Schule"
         ],
         "x0": " ",
         "xaxis": "x",
         "y": [
          0.7903225806451613,
          0.9523809523809523,
          0.65625,
          0.85,
          0.8645833333333334,
          0.8235294117647058,
          0.64,
          0.72,
          0.6,
          0.75,
          0.7727272727272727,
          0.7763157894736842,
          0.8333333333333334,
          0.8461538461538461,
          0.7857142857142857,
          0.7037037037037037,
          0.7407407407407407,
          0.7741935483870968,
          1,
          0.6956521739130435,
          0.8571428571428571,
          0.8961424332344213,
          0.9,
          0.8404255319148937,
          0.5925925925925926,
          0.8,
          0.7631578947368421,
          0.8769230769230769,
          0.9195402298850575,
          0.8581081081081081,
          0.9333333333333333,
          0.9019607843137255,
          0.9428571428571428,
          0.8528138528138528,
          0.8870967741935484,
          0.8481012658227848,
          0.8823529411764706,
          0.9069767441860465,
          0.9411764705882353,
          0.9719626168224299,
          0.9047619047619048,
          0.9655172413793104,
          0.8421052631578947,
          0.7884615384615384,
          0.6666666666666666,
          0.9186046511627907,
          0.8055555555555556,
          0.9130434782608695,
          0.8518518518518519,
          0.8260869565217391,
          0.967741935483871
         ],
         "y0": " ",
         "yaxis": "y"
        }
       ],
       "layout": {
        "autosize": true,
        "boxmode": "group",
        "legend": {
         "tracegroupgap": 0
        },
        "margin": {
         "t": 60
        },
        "template": {
         "data": {
          "bar": [
           {
            "error_x": {
             "color": "#2a3f5f"
            },
            "error_y": {
             "color": "#2a3f5f"
            },
            "marker": {
             "line": {
              "color": "#E5ECF6",
              "width": 0.5
             },
             "pattern": {
              "fillmode": "overlay",
              "size": 10,
              "solidity": 0.2
             }
            },
            "type": "bar"
           }
          ],
          "barpolar": [
           {
            "marker": {
             "line": {
              "color": "#E5ECF6",
              "width": 0.5
             },
             "pattern": {
              "fillmode": "overlay",
              "size": 10,
              "solidity": 0.2
             }
            },
            "type": "barpolar"
           }
          ],
          "carpet": [
           {
            "aaxis": {
             "endlinecolor": "#2a3f5f",
             "gridcolor": "white",
             "linecolor": "white",
             "minorgridcolor": "white",
             "startlinecolor": "#2a3f5f"
            },
            "baxis": {
             "endlinecolor": "#2a3f5f",
             "gridcolor": "white",
             "linecolor": "white",
             "minorgridcolor": "white",
             "startlinecolor": "#2a3f5f"
            },
            "type": "carpet"
           }
          ],
          "choropleth": [
           {
            "colorbar": {
             "outlinewidth": 0,
             "ticks": ""
            },
            "type": "choropleth"
           }
          ],
          "contour": [
           {
            "colorbar": {
             "outlinewidth": 0,
             "ticks": ""
            },
            "colorscale": [
             [
              0,
              "#0d0887"
             ],
             [
              0.1111111111111111,
              "#46039f"
             ],
             [
              0.2222222222222222,
              "#7201a8"
             ],
             [
              0.3333333333333333,
              "#9c179e"
             ],
             [
              0.4444444444444444,
              "#bd3786"
             ],
             [
              0.5555555555555556,
              "#d8576b"
             ],
             [
              0.6666666666666666,
              "#ed7953"
             ],
             [
              0.7777777777777778,
              "#fb9f3a"
             ],
             [
              0.8888888888888888,
              "#fdca26"
             ],
             [
              1,
              "#f0f921"
             ]
            ],
            "type": "contour"
           }
          ],
          "contourcarpet": [
           {
            "colorbar": {
             "outlinewidth": 0,
             "ticks": ""
            },
            "type": "contourcarpet"
           }
          ],
          "heatmap": [
           {
            "colorbar": {
             "outlinewidth": 0,
             "ticks": ""
            },
            "colorscale": [
             [
              0,
              "#0d0887"
             ],
             [
              0.1111111111111111,
              "#46039f"
             ],
             [
              0.2222222222222222,
              "#7201a8"
             ],
             [
              0.3333333333333333,
              "#9c179e"
             ],
             [
              0.4444444444444444,
              "#bd3786"
             ],
             [
              0.5555555555555556,
              "#d8576b"
             ],
             [
              0.6666666666666666,
              "#ed7953"
             ],
             [
              0.7777777777777778,
              "#fb9f3a"
             ],
             [
              0.8888888888888888,
              "#fdca26"
             ],
             [
              1,
              "#f0f921"
             ]
            ],
            "type": "heatmap"
           }
          ],
          "heatmapgl": [
           {
            "colorbar": {
             "outlinewidth": 0,
             "ticks": ""
            },
            "colorscale": [
             [
              0,
              "#0d0887"
             ],
             [
              0.1111111111111111,
              "#46039f"
             ],
             [
              0.2222222222222222,
              "#7201a8"
             ],
             [
              0.3333333333333333,
              "#9c179e"
             ],
             [
              0.4444444444444444,
              "#bd3786"
             ],
             [
              0.5555555555555556,
              "#d8576b"
             ],
             [
              0.6666666666666666,
              "#ed7953"
             ],
             [
              0.7777777777777778,
              "#fb9f3a"
             ],
             [
              0.8888888888888888,
              "#fdca26"
             ],
             [
              1,
              "#f0f921"
             ]
            ],
            "type": "heatmapgl"
           }
          ],
          "histogram": [
           {
            "marker": {
             "pattern": {
              "fillmode": "overlay",
              "size": 10,
              "solidity": 0.2
             }
            },
            "type": "histogram"
           }
          ],
          "histogram2d": [
           {
            "colorbar": {
             "outlinewidth": 0,
             "ticks": ""
            },
            "colorscale": [
             [
              0,
              "#0d0887"
             ],
             [
              0.1111111111111111,
              "#46039f"
             ],
             [
              0.2222222222222222,
              "#7201a8"
             ],
             [
              0.3333333333333333,
              "#9c179e"
             ],
             [
              0.4444444444444444,
              "#bd3786"
             ],
             [
              0.5555555555555556,
              "#d8576b"
             ],
             [
              0.6666666666666666,
              "#ed7953"
             ],
             [
              0.7777777777777778,
              "#fb9f3a"
             ],
             [
              0.8888888888888888,
              "#fdca26"
             ],
             [
              1,
              "#f0f921"
             ]
            ],
            "type": "histogram2d"
           }
          ],
          "histogram2dcontour": [
           {
            "colorbar": {
             "outlinewidth": 0,
             "ticks": ""
            },
            "colorscale": [
             [
              0,
              "#0d0887"
             ],
             [
              0.1111111111111111,
              "#46039f"
             ],
             [
              0.2222222222222222,
              "#7201a8"
             ],
             [
              0.3333333333333333,
              "#9c179e"
             ],
             [
              0.4444444444444444,
              "#bd3786"
             ],
             [
              0.5555555555555556,
              "#d8576b"
             ],
             [
              0.6666666666666666,
              "#ed7953"
             ],
             [
              0.7777777777777778,
              "#fb9f3a"
             ],
             [
              0.8888888888888888,
              "#fdca26"
             ],
             [
              1,
              "#f0f921"
             ]
            ],
            "type": "histogram2dcontour"
           }
          ],
          "mesh3d": [
           {
            "colorbar": {
             "outlinewidth": 0,
             "ticks": ""
            },
            "type": "mesh3d"
           }
          ],
          "parcoords": [
           {
            "line": {
             "colorbar": {
              "outlinewidth": 0,
              "ticks": ""
             }
            },
            "type": "parcoords"
           }
          ],
          "pie": [
           {
            "automargin": true,
            "type": "pie"
           }
          ],
          "scatter": [
           {
            "fillpattern": {
             "fillmode": "overlay",
             "size": 10,
             "solidity": 0.2
            },
            "type": "scatter"
           }
          ],
          "scatter3d": [
           {
            "line": {
             "colorbar": {
              "outlinewidth": 0,
              "ticks": ""
             }
            },
            "marker": {
             "colorbar": {
              "outlinewidth": 0,
              "ticks": ""
             }
            },
            "type": "scatter3d"
           }
          ],
          "scattercarpet": [
           {
            "marker": {
             "colorbar": {
              "outlinewidth": 0,
              "ticks": ""
             }
            },
            "type": "scattercarpet"
           }
          ],
          "scattergeo": [
           {
            "marker": {
             "colorbar": {
              "outlinewidth": 0,
              "ticks": ""
             }
            },
            "type": "scattergeo"
           }
          ],
          "scattergl": [
           {
            "marker": {
             "colorbar": {
              "outlinewidth": 0,
              "ticks": ""
             }
            },
            "type": "scattergl"
           }
          ],
          "scattermapbox": [
           {
            "marker": {
             "colorbar": {
              "outlinewidth": 0,
              "ticks": ""
             }
            },
            "type": "scattermapbox"
           }
          ],
          "scatterpolar": [
           {
            "marker": {
             "colorbar": {
              "outlinewidth": 0,
              "ticks": ""
             }
            },
            "type": "scatterpolar"
           }
          ],
          "scatterpolargl": [
           {
            "marker": {
             "colorbar": {
              "outlinewidth": 0,
              "ticks": ""
             }
            },
            "type": "scatterpolargl"
           }
          ],
          "scatterternary": [
           {
            "marker": {
             "colorbar": {
              "outlinewidth": 0,
              "ticks": ""
             }
            },
            "type": "scatterternary"
           }
          ],
          "surface": [
           {
            "colorbar": {
             "outlinewidth": 0,
             "ticks": ""
            },
            "colorscale": [
             [
              0,
              "#0d0887"
             ],
             [
              0.1111111111111111,
              "#46039f"
             ],
             [
              0.2222222222222222,
              "#7201a8"
             ],
             [
              0.3333333333333333,
              "#9c179e"
             ],
             [
              0.4444444444444444,
              "#bd3786"
             ],
             [
              0.5555555555555556,
              "#d8576b"
             ],
             [
              0.6666666666666666,
              "#ed7953"
             ],
             [
              0.7777777777777778,
              "#fb9f3a"
             ],
             [
              0.8888888888888888,
              "#fdca26"
             ],
             [
              1,
              "#f0f921"
             ]
            ],
            "type": "surface"
           }
          ],
          "table": [
           {
            "cells": {
             "fill": {
              "color": "#EBF0F8"
             },
             "line": {
              "color": "white"
             }
            },
            "header": {
             "fill": {
              "color": "#C8D4E3"
             },
             "line": {
              "color": "white"
             }
            },
            "type": "table"
           }
          ]
         },
         "layout": {
          "annotationdefaults": {
           "arrowcolor": "#2a3f5f",
           "arrowhead": 0,
           "arrowwidth": 1
          },
          "autotypenumbers": "strict",
          "coloraxis": {
           "colorbar": {
            "outlinewidth": 0,
            "ticks": ""
           }
          },
          "colorscale": {
           "diverging": [
            [
             0,
             "#8e0152"
            ],
            [
             0.1,
             "#c51b7d"
            ],
            [
             0.2,
             "#de77ae"
            ],
            [
             0.3,
             "#f1b6da"
            ],
            [
             0.4,
             "#fde0ef"
            ],
            [
             0.5,
             "#f7f7f7"
            ],
            [
             0.6,
             "#e6f5d0"
            ],
            [
             0.7,
             "#b8e186"
            ],
            [
             0.8,
             "#7fbc41"
            ],
            [
             0.9,
             "#4d9221"
            ],
            [
             1,
             "#276419"
            ]
           ],
           "sequential": [
            [
             0,
             "#0d0887"
            ],
            [
             0.1111111111111111,
             "#46039f"
            ],
            [
             0.2222222222222222,
             "#7201a8"
            ],
            [
             0.3333333333333333,
             "#9c179e"
            ],
            [
             0.4444444444444444,
             "#bd3786"
            ],
            [
             0.5555555555555556,
             "#d8576b"
            ],
            [
             0.6666666666666666,
             "#ed7953"
            ],
            [
             0.7777777777777778,
             "#fb9f3a"
            ],
            [
             0.8888888888888888,
             "#fdca26"
            ],
            [
             1,
             "#f0f921"
            ]
           ],
           "sequentialminus": [
            [
             0,
             "#0d0887"
            ],
            [
             0.1111111111111111,
             "#46039f"
            ],
            [
             0.2222222222222222,
             "#7201a8"
            ],
            [
             0.3333333333333333,
             "#9c179e"
            ],
            [
             0.4444444444444444,
             "#bd3786"
            ],
            [
             0.5555555555555556,
             "#d8576b"
            ],
            [
             0.6666666666666666,
             "#ed7953"
            ],
            [
             0.7777777777777778,
             "#fb9f3a"
            ],
            [
             0.8888888888888888,
             "#fdca26"
            ],
            [
             1,
             "#f0f921"
            ]
           ]
          },
          "colorway": [
           "#636efa",
           "#EF553B",
           "#00cc96",
           "#ab63fa",
           "#FFA15A",
           "#19d3f3",
           "#FF6692",
           "#B6E880",
           "#FF97FF",
           "#FECB52"
          ],
          "font": {
           "color": "#2a3f5f"
          },
          "geo": {
           "bgcolor": "white",
           "lakecolor": "white",
           "landcolor": "#E5ECF6",
           "showlakes": true,
           "showland": true,
           "subunitcolor": "white"
          },
          "hoverlabel": {
           "align": "left"
          },
          "hovermode": "closest",
          "mapbox": {
           "style": "light"
          },
          "paper_bgcolor": "white",
          "plot_bgcolor": "#E5ECF6",
          "polar": {
           "angularaxis": {
            "gridcolor": "white",
            "linecolor": "white",
            "ticks": ""
           },
           "bgcolor": "#E5ECF6",
           "radialaxis": {
            "gridcolor": "white",
            "linecolor": "white",
            "ticks": ""
           }
          },
          "scene": {
           "xaxis": {
            "backgroundcolor": "#E5ECF6",
            "gridcolor": "white",
            "gridwidth": 2,
            "linecolor": "white",
            "showbackground": true,
            "ticks": "",
            "zerolinecolor": "white"
           },
           "yaxis": {
            "backgroundcolor": "#E5ECF6",
            "gridcolor": "white",
            "gridwidth": 2,
            "linecolor": "white",
            "showbackground": true,
            "ticks": "",
            "zerolinecolor": "white"
           },
           "zaxis": {
            "backgroundcolor": "#E5ECF6",
            "gridcolor": "white",
            "gridwidth": 2,
            "linecolor": "white",
            "showbackground": true,
            "ticks": "",
            "zerolinecolor": "white"
           }
          },
          "shapedefaults": {
           "line": {
            "color": "#2a3f5f"
           }
          },
          "ternary": {
           "aaxis": {
            "gridcolor": "white",
            "linecolor": "white",
            "ticks": ""
           },
           "baxis": {
            "gridcolor": "white",
            "linecolor": "white",
            "ticks": ""
           },
           "bgcolor": "#E5ECF6",
           "caxis": {
            "gridcolor": "white",
            "linecolor": "white",
            "ticks": ""
           }
          },
          "title": {
           "x": 0.05
          },
          "xaxis": {
           "automargin": true,
           "gridcolor": "white",
           "linecolor": "white",
           "ticks": "",
           "title": {
            "standoff": 15
           },
           "zerolinecolor": "white",
           "zerolinewidth": 2
          },
          "yaxis": {
           "automargin": true,
           "gridcolor": "white",
           "linecolor": "white",
           "ticks": "",
           "title": {
            "standoff": 15
           },
           "zerolinecolor": "white",
           "zerolinewidth": 2
          }
         }
        },
        "xaxis": {
         "anchor": "y",
         "autorange": true,
         "domain": [
          0,
          1
         ],
         "range": [
          -0.5111731843575419,
          1.5
         ],
         "title": {
          "text": "Anthologie-Typ"
         },
         "type": "category"
        },
        "yaxis": {
         "anchor": "x",
         "autorange": true,
         "domain": [
          0,
          1
         ],
         "range": [
          0.5699588477366255,
          1.022633744855967
         ],
         "title": {
          "text": "Anteil Texte, die in hohem Maß konkret sind"
         },
         "type": "linear"
        }
       }
      },
      "text/html": [
       "<div>                            <div id=\"45cfdf05-5fd8-4df6-90a7-d4e361b73358\" class=\"plotly-graph-div\" style=\"height:525px; width:100%;\"></div>            <script type=\"text/javascript\">                require([\"plotly\"], function(Plotly) {                    window.PLOTLYENV=window.PLOTLYENV || {};                                    if (document.getElementById(\"45cfdf05-5fd8-4df6-90a7-d4e361b73358\")) {                    Plotly.newPlot(                        \"45cfdf05-5fd8-4df6-90a7-d4e361b73358\",                        [{\"alignmentgroup\":\"True\",\"boxpoints\":\"all\",\"customdata\":[[\"1858.Hocker\"],[\"1862.Fricke\"],[\"1867.Remy\"],[\"1867.Scholz\"],[\"1872.Bindewald.2(1875)\"],[\"1876.Bintz\"],[\"1876.Bodamer\"],[\"1877.Anonym\"],[\"1877.Edert\"],[\"1878.Krämer\"],[\"1878.Pennerstorfer.2(1879)\"],[\"1879.Teuffenbach\"],[\"1881.Polack\"],[\"1881\\u002f83.Meyer\"],[\"1884.Boehm\"],[\"1884.Meyer\\u002fReichel\"],[\"1886.Bliedner\"],[\"1887.Kriebitzsch\"],[\"1889.Krais\"],[\"1890.Basedow\"],[\"1890.Kirchner\"],[\"1891.Brümmer\"],[\"1892.Dietlein\"],[\"1892\\u002f93.Tetzner\"],[\"1899.Nießen\"],[\"1899.Schiffels\"],[\"1903.Stückmann\\u002fEkeris\"],[\"1904.Linde\"],[\"1906\\u002f07.Weber\"],[\"1907.Zettel\\u002fBrunner\"],[\"1908.Berg\"],[\"1909.Meyer-Frommhold\"],[\"1912.Harten\\u002fHenniger\"],[\"1912.Werner\"],[\"1913.Schrutz\"],[\"1915.Eggert-Windegg\"],[\"1917.Götze\\u002fUlbricht\"],[\"1918.Eschmann\"],[\"1922.Uhlmann-Bixterheide\"],[\"1925.Wehrhan\"],[\"1926.Beck\"],[\"1926.Rücker\"],[\"1927.Maus\"],[\"1928\\u002f29.Graach\"],[\"1934.Jelusich\"],[\"1938.Plenzat\"],[\"1938.Schulz\"],[\"1939.Berendt\"],[\"1958.Kipp\"],[\"1967.Fabian\"],[\"1977.Pawlik\\u002fSchlender\"]],\"hovertemplate\":\"Anthologie-Typ=%{x}\\u003cbr\\u003eAnteil Texte, die in hohem Maß konkret sind=%{y}\\u003cbr\\u003eindex=%{customdata[0]}\\u003cextra\\u003e\\u003c\\u002fextra\\u003e\",\"legendgroup\":\"\",\"marker\":{\"color\":\"#636efa\"},\"name\":\"\",\"notched\":false,\"offsetgroup\":\"\",\"orientation\":\"v\",\"showlegend\":false,\"x\":[\"Nicht Schule\",\"Schule\",\"Schule\",\"Nicht Schule\",\"Schule\",\"Schule\",\"Schule\",\"Nicht Schule\",\"Schule\",\"Schule\",\"Schule\",\"Schule\",\"Nicht Schule\",\"Schule\",\"Schule\",\"Schule\",\"Schule\",\"Schule\",\"Nicht Schule\",\"Nicht Schule\",\"Nicht Schule\",\"Schule\",\"Schule\",\"Nicht Schule\",\"Schule\",\"Schule\",\"Nicht Schule\",\"Schule\",\"Nicht Schule\",\"Schule\",\"Nicht Schule\",\"Schule\",\"Nicht Schule\",\"Nicht Schule\",\"Nicht Schule\",\"Nicht Schule\",\"Schule\",\"Nicht Schule\",\"Nicht Schule\",\"Schule\",\"Schule\",\"Schule\",\"Schule\",\"Nicht Schule\",\"Nicht Schule\",\"Nicht Schule\",\"Schule\",\"Nicht Schule\",\"Schule\",\"Schule\",\"Nicht Schule\"],\"x0\":\" \",\"xaxis\":\"x\",\"y\":[0.7903225806451613,0.9523809523809523,0.65625,0.85,0.8645833333333334,0.8235294117647058,0.64,0.72,0.6,0.75,0.7727272727272727,0.7763157894736842,0.8333333333333334,0.8461538461538461,0.7857142857142857,0.7037037037037037,0.7407407407407407,0.7741935483870968,1.0,0.6956521739130435,0.8571428571428571,0.8961424332344213,0.9,0.8404255319148937,0.5925925925925926,0.8,0.7631578947368421,0.8769230769230769,0.9195402298850575,0.8581081081081081,0.9333333333333333,0.9019607843137255,0.9428571428571428,0.8528138528138528,0.8870967741935484,0.8481012658227848,0.8823529411764706,0.9069767441860465,0.9411764705882353,0.9719626168224299,0.9047619047619048,0.9655172413793104,0.8421052631578947,0.7884615384615384,0.6666666666666666,0.9186046511627907,0.8055555555555556,0.9130434782608695,0.8518518518518519,0.8260869565217391,0.967741935483871],\"y0\":\" \",\"yaxis\":\"y\",\"type\":\"box\"}],                        {\"template\":{\"data\":{\"histogram2dcontour\":[{\"type\":\"histogram2dcontour\",\"colorbar\":{\"outlinewidth\":0,\"ticks\":\"\"},\"colorscale\":[[0.0,\"#0d0887\"],[0.1111111111111111,\"#46039f\"],[0.2222222222222222,\"#7201a8\"],[0.3333333333333333,\"#9c179e\"],[0.4444444444444444,\"#bd3786\"],[0.5555555555555556,\"#d8576b\"],[0.6666666666666666,\"#ed7953\"],[0.7777777777777778,\"#fb9f3a\"],[0.8888888888888888,\"#fdca26\"],[1.0,\"#f0f921\"]]}],\"choropleth\":[{\"type\":\"choropleth\",\"colorbar\":{\"outlinewidth\":0,\"ticks\":\"\"}}],\"histogram2d\":[{\"type\":\"histogram2d\",\"colorbar\":{\"outlinewidth\":0,\"ticks\":\"\"},\"colorscale\":[[0.0,\"#0d0887\"],[0.1111111111111111,\"#46039f\"],[0.2222222222222222,\"#7201a8\"],[0.3333333333333333,\"#9c179e\"],[0.4444444444444444,\"#bd3786\"],[0.5555555555555556,\"#d8576b\"],[0.6666666666666666,\"#ed7953\"],[0.7777777777777778,\"#fb9f3a\"],[0.8888888888888888,\"#fdca26\"],[1.0,\"#f0f921\"]]}],\"heatmap\":[{\"type\":\"heatmap\",\"colorbar\":{\"outlinewidth\":0,\"ticks\":\"\"},\"colorscale\":[[0.0,\"#0d0887\"],[0.1111111111111111,\"#46039f\"],[0.2222222222222222,\"#7201a8\"],[0.3333333333333333,\"#9c179e\"],[0.4444444444444444,\"#bd3786\"],[0.5555555555555556,\"#d8576b\"],[0.6666666666666666,\"#ed7953\"],[0.7777777777777778,\"#fb9f3a\"],[0.8888888888888888,\"#fdca26\"],[1.0,\"#f0f921\"]]}],\"heatmapgl\":[{\"type\":\"heatmapgl\",\"colorbar\":{\"outlinewidth\":0,\"ticks\":\"\"},\"colorscale\":[[0.0,\"#0d0887\"],[0.1111111111111111,\"#46039f\"],[0.2222222222222222,\"#7201a8\"],[0.3333333333333333,\"#9c179e\"],[0.4444444444444444,\"#bd3786\"],[0.5555555555555556,\"#d8576b\"],[0.6666666666666666,\"#ed7953\"],[0.7777777777777778,\"#fb9f3a\"],[0.8888888888888888,\"#fdca26\"],[1.0,\"#f0f921\"]]}],\"contourcarpet\":[{\"type\":\"contourcarpet\",\"colorbar\":{\"outlinewidth\":0,\"ticks\":\"\"}}],\"contour\":[{\"type\":\"contour\",\"colorbar\":{\"outlinewidth\":0,\"ticks\":\"\"},\"colorscale\":[[0.0,\"#0d0887\"],[0.1111111111111111,\"#46039f\"],[0.2222222222222222,\"#7201a8\"],[0.3333333333333333,\"#9c179e\"],[0.4444444444444444,\"#bd3786\"],[0.5555555555555556,\"#d8576b\"],[0.6666666666666666,\"#ed7953\"],[0.7777777777777778,\"#fb9f3a\"],[0.8888888888888888,\"#fdca26\"],[1.0,\"#f0f921\"]]}],\"surface\":[{\"type\":\"surface\",\"colorbar\":{\"outlinewidth\":0,\"ticks\":\"\"},\"colorscale\":[[0.0,\"#0d0887\"],[0.1111111111111111,\"#46039f\"],[0.2222222222222222,\"#7201a8\"],[0.3333333333333333,\"#9c179e\"],[0.4444444444444444,\"#bd3786\"],[0.5555555555555556,\"#d8576b\"],[0.6666666666666666,\"#ed7953\"],[0.7777777777777778,\"#fb9f3a\"],[0.8888888888888888,\"#fdca26\"],[1.0,\"#f0f921\"]]}],\"mesh3d\":[{\"type\":\"mesh3d\",\"colorbar\":{\"outlinewidth\":0,\"ticks\":\"\"}}],\"scatter\":[{\"fillpattern\":{\"fillmode\":\"overlay\",\"size\":10,\"solidity\":0.2},\"type\":\"scatter\"}],\"parcoords\":[{\"type\":\"parcoords\",\"line\":{\"colorbar\":{\"outlinewidth\":0,\"ticks\":\"\"}}}],\"scatterpolargl\":[{\"type\":\"scatterpolargl\",\"marker\":{\"colorbar\":{\"outlinewidth\":0,\"ticks\":\"\"}}}],\"bar\":[{\"error_x\":{\"color\":\"#2a3f5f\"},\"error_y\":{\"color\":\"#2a3f5f\"},\"marker\":{\"line\":{\"color\":\"#E5ECF6\",\"width\":0.5},\"pattern\":{\"fillmode\":\"overlay\",\"size\":10,\"solidity\":0.2}},\"type\":\"bar\"}],\"scattergeo\":[{\"type\":\"scattergeo\",\"marker\":{\"colorbar\":{\"outlinewidth\":0,\"ticks\":\"\"}}}],\"scatterpolar\":[{\"type\":\"scatterpolar\",\"marker\":{\"colorbar\":{\"outlinewidth\":0,\"ticks\":\"\"}}}],\"histogram\":[{\"marker\":{\"pattern\":{\"fillmode\":\"overlay\",\"size\":10,\"solidity\":0.2}},\"type\":\"histogram\"}],\"scattergl\":[{\"type\":\"scattergl\",\"marker\":{\"colorbar\":{\"outlinewidth\":0,\"ticks\":\"\"}}}],\"scatter3d\":[{\"type\":\"scatter3d\",\"line\":{\"colorbar\":{\"outlinewidth\":0,\"ticks\":\"\"}},\"marker\":{\"colorbar\":{\"outlinewidth\":0,\"ticks\":\"\"}}}],\"scattermapbox\":[{\"type\":\"scattermapbox\",\"marker\":{\"colorbar\":{\"outlinewidth\":0,\"ticks\":\"\"}}}],\"scatterternary\":[{\"type\":\"scatterternary\",\"marker\":{\"colorbar\":{\"outlinewidth\":0,\"ticks\":\"\"}}}],\"scattercarpet\":[{\"type\":\"scattercarpet\",\"marker\":{\"colorbar\":{\"outlinewidth\":0,\"ticks\":\"\"}}}],\"carpet\":[{\"aaxis\":{\"endlinecolor\":\"#2a3f5f\",\"gridcolor\":\"white\",\"linecolor\":\"white\",\"minorgridcolor\":\"white\",\"startlinecolor\":\"#2a3f5f\"},\"baxis\":{\"endlinecolor\":\"#2a3f5f\",\"gridcolor\":\"white\",\"linecolor\":\"white\",\"minorgridcolor\":\"white\",\"startlinecolor\":\"#2a3f5f\"},\"type\":\"carpet\"}],\"table\":[{\"cells\":{\"fill\":{\"color\":\"#EBF0F8\"},\"line\":{\"color\":\"white\"}},\"header\":{\"fill\":{\"color\":\"#C8D4E3\"},\"line\":{\"color\":\"white\"}},\"type\":\"table\"}],\"barpolar\":[{\"marker\":{\"line\":{\"color\":\"#E5ECF6\",\"width\":0.5},\"pattern\":{\"fillmode\":\"overlay\",\"size\":10,\"solidity\":0.2}},\"type\":\"barpolar\"}],\"pie\":[{\"automargin\":true,\"type\":\"pie\"}]},\"layout\":{\"autotypenumbers\":\"strict\",\"colorway\":[\"#636efa\",\"#EF553B\",\"#00cc96\",\"#ab63fa\",\"#FFA15A\",\"#19d3f3\",\"#FF6692\",\"#B6E880\",\"#FF97FF\",\"#FECB52\"],\"font\":{\"color\":\"#2a3f5f\"},\"hovermode\":\"closest\",\"hoverlabel\":{\"align\":\"left\"},\"paper_bgcolor\":\"white\",\"plot_bgcolor\":\"#E5ECF6\",\"polar\":{\"bgcolor\":\"#E5ECF6\",\"angularaxis\":{\"gridcolor\":\"white\",\"linecolor\":\"white\",\"ticks\":\"\"},\"radialaxis\":{\"gridcolor\":\"white\",\"linecolor\":\"white\",\"ticks\":\"\"}},\"ternary\":{\"bgcolor\":\"#E5ECF6\",\"aaxis\":{\"gridcolor\":\"white\",\"linecolor\":\"white\",\"ticks\":\"\"},\"baxis\":{\"gridcolor\":\"white\",\"linecolor\":\"white\",\"ticks\":\"\"},\"caxis\":{\"gridcolor\":\"white\",\"linecolor\":\"white\",\"ticks\":\"\"}},\"coloraxis\":{\"colorbar\":{\"outlinewidth\":0,\"ticks\":\"\"}},\"colorscale\":{\"sequential\":[[0.0,\"#0d0887\"],[0.1111111111111111,\"#46039f\"],[0.2222222222222222,\"#7201a8\"],[0.3333333333333333,\"#9c179e\"],[0.4444444444444444,\"#bd3786\"],[0.5555555555555556,\"#d8576b\"],[0.6666666666666666,\"#ed7953\"],[0.7777777777777778,\"#fb9f3a\"],[0.8888888888888888,\"#fdca26\"],[1.0,\"#f0f921\"]],\"sequentialminus\":[[0.0,\"#0d0887\"],[0.1111111111111111,\"#46039f\"],[0.2222222222222222,\"#7201a8\"],[0.3333333333333333,\"#9c179e\"],[0.4444444444444444,\"#bd3786\"],[0.5555555555555556,\"#d8576b\"],[0.6666666666666666,\"#ed7953\"],[0.7777777777777778,\"#fb9f3a\"],[0.8888888888888888,\"#fdca26\"],[1.0,\"#f0f921\"]],\"diverging\":[[0,\"#8e0152\"],[0.1,\"#c51b7d\"],[0.2,\"#de77ae\"],[0.3,\"#f1b6da\"],[0.4,\"#fde0ef\"],[0.5,\"#f7f7f7\"],[0.6,\"#e6f5d0\"],[0.7,\"#b8e186\"],[0.8,\"#7fbc41\"],[0.9,\"#4d9221\"],[1,\"#276419\"]]},\"xaxis\":{\"gridcolor\":\"white\",\"linecolor\":\"white\",\"ticks\":\"\",\"title\":{\"standoff\":15},\"zerolinecolor\":\"white\",\"automargin\":true,\"zerolinewidth\":2},\"yaxis\":{\"gridcolor\":\"white\",\"linecolor\":\"white\",\"ticks\":\"\",\"title\":{\"standoff\":15},\"zerolinecolor\":\"white\",\"automargin\":true,\"zerolinewidth\":2},\"scene\":{\"xaxis\":{\"backgroundcolor\":\"#E5ECF6\",\"gridcolor\":\"white\",\"linecolor\":\"white\",\"showbackground\":true,\"ticks\":\"\",\"zerolinecolor\":\"white\",\"gridwidth\":2},\"yaxis\":{\"backgroundcolor\":\"#E5ECF6\",\"gridcolor\":\"white\",\"linecolor\":\"white\",\"showbackground\":true,\"ticks\":\"\",\"zerolinecolor\":\"white\",\"gridwidth\":2},\"zaxis\":{\"backgroundcolor\":\"#E5ECF6\",\"gridcolor\":\"white\",\"linecolor\":\"white\",\"showbackground\":true,\"ticks\":\"\",\"zerolinecolor\":\"white\",\"gridwidth\":2}},\"shapedefaults\":{\"line\":{\"color\":\"#2a3f5f\"}},\"annotationdefaults\":{\"arrowcolor\":\"#2a3f5f\",\"arrowhead\":0,\"arrowwidth\":1},\"geo\":{\"bgcolor\":\"white\",\"landcolor\":\"#E5ECF6\",\"subunitcolor\":\"white\",\"showland\":true,\"showlakes\":true,\"lakecolor\":\"white\"},\"title\":{\"x\":0.05},\"mapbox\":{\"style\":\"light\"}}},\"xaxis\":{\"anchor\":\"y\",\"domain\":[0.0,1.0],\"title\":{\"text\":\"Anthologie-Typ\"}},\"yaxis\":{\"anchor\":\"x\",\"domain\":[0.0,1.0],\"title\":{\"text\":\"Anteil Texte, die in hohem Maß konkret sind\"}},\"legend\":{\"tracegroupgap\":0},\"margin\":{\"t\":60},\"boxmode\":\"group\"},                        {\"responsive\": true}                    ).then(function(){\n",
       "                            \n",
       "var gd = document.getElementById('45cfdf05-5fd8-4df6-90a7-d4e361b73358');\n",
       "var x = new MutationObserver(function (mutations, observer) {{\n",
       "        var display = window.getComputedStyle(gd).display;\n",
       "        if (!display || display === 'none') {{\n",
       "            console.log([gd, 'removed!']);\n",
       "            Plotly.purge(gd);\n",
       "            observer.disconnect();\n",
       "        }}\n",
       "}});\n",
       "\n",
       "// Listen for the removal of the full notebook cells\n",
       "var notebookContainer = gd.closest('#notebook-container');\n",
       "if (notebookContainer) {{\n",
       "    x.observe(notebookContainer, {childList: true});\n",
       "}}\n",
       "\n",
       "// Listen for the clearing of the current output cell\n",
       "var outputEl = gd.closest('.output');\n",
       "if (outputEl) {{\n",
       "    x.observe(outputEl, {childList: true});\n",
       "}}\n",
       "\n",
       "                        })                };                });            </script>        </div>"
      ]
     },
     "metadata": {},
     "output_type": "display_data"
    }
   ],
   "source": [
    "meta_plot = anthology_df.query(\"@anthology_start <= anthology_year <= @anthology_end\")\n",
    "meta_plot = anthology_df.query(\"annotated_count >= @min_text_count\")\n",
    "\n",
    "px.box(\n",
    "    meta_plot,\n",
    "    x = 'anthology_schule',\n",
    "    y = 'konkret_share',\n",
    "    points = 'all',\n",
    "    hover_data = [meta_plot.index],\n",
    "    labels = {'konkret_share' : 'Anteil Texte, die in hohem Maß konkret sind', 'anthology_schule' : 'Anthologie-Typ'}\n",
    ")"
   ]
  },
  {
   "cell_type": "code",
   "execution_count": 38,
   "id": "c676cdd0",
   "metadata": {},
   "outputs": [
    {
     "data": {
      "text/plain": [
       "anthology_schule\n",
       "Schule          29\n",
       "Nicht Schule    22\n",
       "Name: count, dtype: int64"
      ]
     },
     "execution_count": 38,
     "metadata": {},
     "output_type": "execute_result"
    }
   ],
   "source": [
    "meta_plot['anthology_schule'].value_counts()"
   ]
  },
  {
   "cell_type": "code",
   "execution_count": 39,
   "id": "c8aa6c8b",
   "metadata": {},
   "outputs": [
    {
     "data": {
      "text/plain": [
       "TtestResult(statistic=-1.598610358170376, pvalue=0.11633641636602202, df=49.0)"
      ]
     },
     "execution_count": 39,
     "metadata": {},
     "output_type": "execute_result"
    }
   ],
   "source": [
    "ttest_results = ttest_ind(\n",
    "    meta_plot.query(\"anthology_schule == 'Schule'\")['konkret_share'],\n",
    "    meta_plot.query(\"anthology_schule == 'Nicht Schule'\")['konkret_share'],\n",
    ")\n",
    "\n",
    "ttest_results"
   ]
  },
  {
   "cell_type": "code",
   "execution_count": 40,
   "id": "d133242c",
   "metadata": {},
   "outputs": [
    {
     "data": {
      "text/plain": [
       "ConfidenceInterval(low=-0.09866144977306726, high=0.011237335135064669)"
      ]
     },
     "execution_count": 40,
     "metadata": {},
     "output_type": "execute_result"
    }
   ],
   "source": [
    "ttest_results.confidence_interval()"
   ]
  }
 ],
 "metadata": {
  "kernelspec": {
   "display_name": "Python 3 (ipykernel)",
   "language": "python",
   "name": "python3"
  },
  "language_info": {
   "codemirror_mode": {
    "name": "ipython",
    "version": 3
   },
   "file_extension": ".py",
   "mimetype": "text/x-python",
   "name": "python",
   "nbconvert_exporter": "python",
   "pygments_lexer": "ipython3",
   "version": "3.12.3"
  }
 },
 "nbformat": 4,
 "nbformat_minor": 5
}
