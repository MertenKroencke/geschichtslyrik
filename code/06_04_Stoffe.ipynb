{
 "cells": [
  {
   "cell_type": "markdown",
   "id": "0be523ea",
   "metadata": {},
   "source": [
    "# Kapitel 6.4: Stoffe"
   ]
  },
  {
   "cell_type": "markdown",
   "id": "c7017702",
   "metadata": {},
   "source": [
    "Das Notebook ergänzt Kapitel 6.4 'Stoffe'."
   ]
  },
  {
   "cell_type": "markdown",
   "id": "2cbc902e",
   "metadata": {},
   "source": [
    "# Import"
   ]
  },
  {
   "cell_type": "code",
   "execution_count": 1,
   "id": "56d9863e",
   "metadata": {},
   "outputs": [],
   "source": [
    "import pandas as pd\n",
    "import numpy as np\n",
    "\n",
    "from resources_statistics import *\n",
    "from resources_geschichtslyrik import *\n",
    "\n",
    "import plotly.express as px\n",
    "import plotly.graph_objects as go\n",
    "from plotly.validators.scatter.marker import SymbolValidator\n",
    "\n",
    "from tqdm.notebook import tqdm"
   ]
  },
  {
   "cell_type": "code",
   "execution_count": 2,
   "id": "07cfc172",
   "metadata": {},
   "outputs": [],
   "source": [
    "meta = pd.read_json(r\"../resources/meta.json\")"
   ]
  },
  {
   "cell_type": "markdown",
   "id": "64fc1086",
   "metadata": {},
   "source": [
    "# Merkmale hinzufügen"
   ]
  },
  {
   "cell_type": "code",
   "execution_count": 3,
   "id": "6c533c7c",
   "metadata": {},
   "outputs": [],
   "source": [
    "meta['stoffgebiet_count'] = [0 if pd.isna(x) else x.count('+')+1 for x in meta['stoffgebiet']]"
   ]
  },
  {
   "cell_type": "code",
   "execution_count": 4,
   "id": "0feeeab4",
   "metadata": {},
   "outputs": [],
   "source": [
    "kultur_stoffgebiete = [\n",
    "    'Alltag', 'Arbeit', 'Architektur', 'Armut', 'Bildung', \n",
    "    'Denkmal', 'Erfindung/Innovation', 'Essen/Trinken', 'Fest', 'Finanzen',\n",
    "    'Genie', 'Gesang', 'Gesundheit', 'Italiensehnsucht', 'Jagd',\n",
    "    'Kunst', 'Landwirtschaft', 'Literatur', 'Moderne', 'Musik', 'Philosophie',\n",
    "    'Reichtum', 'Sport', 'Sprache', 'Wissenschaft'\n",
    "]"
   ]
  },
  {
   "cell_type": "markdown",
   "id": "564f551b",
   "metadata": {},
   "source": [
    "# Korpora"
   ]
  },
  {
   "cell_type": "markdown",
   "id": "bc05e397",
   "metadata": {},
   "source": [
    "### Korpora erstellen"
   ]
  },
  {
   "cell_type": "code",
   "execution_count": 5,
   "id": "85ffd96d",
   "metadata": {},
   "outputs": [],
   "source": [
    "meta_anth = (\n",
    "    meta\n",
    "    .query(\"corpus=='anth'\")\n",
    "    .query(\"1850 <= year <= 1918\")\n",
    "    .query(\"geschichtslyrik == 1\")\n",
    "    .drop_duplicates(subset='author_title')\n",
    ")\n",
    "meta_anth_ratings = get_rating_table(meta_anth, mode = 'themes')\n",
    "meta_anth_bin = binarize_meta(meta_anth)"
   ]
  },
  {
   "cell_type": "code",
   "execution_count": 6,
   "id": "edfd4794",
   "metadata": {},
   "outputs": [],
   "source": [
    "modcanon_authors = ['Hofmannsthal, Hugo von', 'Rilke, Rainer Maria', 'George, Stefan', 'Heym, Georg']\n",
    "\n",
    "meta_modcanon = (\n",
    "    meta\n",
    "    .query(\"author in @modcanon_authors\")\n",
    "    .query(\"1850 <= year <= 1918\")\n",
    "    .query(\"geschichtslyrik == 1\")\n",
    "    .drop_duplicates(subset='author_title')\n",
    ")\n",
    "meta_modcanon_ratings = get_rating_table(meta_modcanon, mode = 'themes')"
   ]
  },
  {
   "cell_type": "code",
   "execution_count": 7,
   "id": "268246ac",
   "metadata": {},
   "outputs": [],
   "source": [
    "muench_authors = ['Münchhausen, Börries von', 'Miegel, Agnes', 'Strauß und Torney, Lulu von']\n",
    "\n",
    "meta_muench = (\n",
    "    meta\n",
    "    .query(\"author in @muench_authors\")\n",
    "    .query(\"1850 <= year <= 1918\")\n",
    "    .query(\"geschichtslyrik == 1\")\n",
    "    .drop_duplicates(subset='author_title')\n",
    ")\n",
    "meta_muench_ratings = get_rating_table(meta_muench, mode = 'themes')"
   ]
  },
  {
   "cell_type": "code",
   "execution_count": 8,
   "id": "e63d9818",
   "metadata": {},
   "outputs": [],
   "source": [
    "sub_df = pd.DataFrame()\n",
    "sub_names = ['Anthologien', 'Kanonisierte Moderne', 'Münchhausen-Kreis']\n",
    "sub_metas = [meta_anth, meta_modcanon, meta_muench]\n",
    "sub_ratings = [meta_anth_ratings, meta_modcanon_ratings, meta_muench_ratings]"
   ]
  },
  {
   "cell_type": "markdown",
   "id": "127416cf",
   "metadata": {},
   "source": [
    "### Merkmale berechnen"
   ]
  },
  {
   "cell_type": "code",
   "execution_count": 9,
   "id": "a3011757",
   "metadata": {},
   "outputs": [],
   "source": [
    "for this_name, this_meta, this_ratings in zip(sub_names, sub_metas, sub_ratings):\n",
    "    this_ratings = this_ratings.copy()\n",
    "    sub_df.loc[this_name, 'Jahr'] = round(this_meta['year'].mean(), 0)\n",
    "        \n",
    "    sub_df.loc[this_name, 'Texte'] = this_meta.shape[0]\n",
    "    sub_df.loc[this_name, 'stoffgebiet_count'] = this_meta['stoffgebiet_count'].sum()\n",
    "    sub_df.loc[this_name, 'stoffgebiet_per_text'] = sub_df.loc[this_name, 'stoffgebiet_count']/sub_df.loc[this_name, 'Texte']\n",
    "    sub_df.loc[this_name, '1stoffgebiet_share'] = this_meta.query(\"stoffgebiet_count == 1\").shape[0]/sub_df.loc[this_name, 'Texte']\n",
    "    sub_df.loc[this_name, '2stoffgebiet_share'] = this_meta.query(\"stoffgebiet_count == 2\").shape[0]/sub_df.loc[this_name, 'Texte']\n",
    "    sub_df.loc[this_name, '3stoffgebiet_share'] = this_meta.query(\"stoffgebiet_count >= 3\").shape[0]/sub_df.loc[this_name, 'Texte']\n",
    "    \n",
    "    top_stoffgebiete = meta_anth_ratings['type'].value_counts().index.tolist()[:10]\n",
    "    for stoffgebiet in top_stoffgebiete:\n",
    "        stoffgebiet_count = this_meta.query(\"stoffgebiet.str.contains(@stoffgebiet)\").shape[0]\n",
    "        stoffgebiet_neutral_count = this_ratings.query(\"type==@stoffgebiet and rating == '0'\").shape[0]\n",
    "        stoffgebiet_positiv_count = this_ratings.query(\"type==@stoffgebiet and rating == '1'\").shape[0]\n",
    "        stoffgebiet_negativ_count = this_ratings.query(\"type==@stoffgebiet and rating == '2'\").shape[0]\n",
    "        stoffgebiet_ambivalent_count = this_ratings.query(\"type==@stoffgebiet and rating == '3'\").shape[0]\n",
    "        \n",
    "        sub_df.loc[this_name, f'{stoffgebiet}_count'] = stoffgebiet_count\n",
    "        sub_df.loc[this_name, f'{stoffgebiet}_share_texts'] = stoffgebiet_count/sub_df.loc[this_name, 'Texte']\n",
    "        sub_df.loc[this_name, f'{stoffgebiet}_share_stoffgebiete'] = stoffgebiet_count/sub_df.loc[this_name, 'stoffgebiet_count']\n",
    "        if stoffgebiet_count > 0:\n",
    "            sub_df.loc[this_name, f'{stoffgebiet}_neutral_share'] = stoffgebiet_neutral_count/stoffgebiet_count\n",
    "            sub_df.loc[this_name, f'{stoffgebiet}_positiv_share'] = stoffgebiet_positiv_count/stoffgebiet_count\n",
    "            sub_df.loc[this_name, f'{stoffgebiet}_negativ_share'] = stoffgebiet_negativ_count/stoffgebiet_count\n",
    "            sub_df.loc[this_name, f'{stoffgebiet}_ambivalent_share'] = stoffgebiet_ambivalent_count/stoffgebiet_count\n",
    "            \n",
    "    stoffgebiete_nokrieg_count = sub_df.loc[this_name, 'stoffgebiet_count'] - sub_df.loc[this_name, 'Militär/Krieg_count'] \n",
    "    sub_df.loc[this_name, 'stoffgebiet_neutral_count'] = this_ratings.query(\"type!='Militär/Krieg' and rating == '0'\").shape[0]\n",
    "    sub_df.loc[this_name, 'stoffgebiet_positiv_count'] = this_ratings.query(\"type!='Militär/Krieg' and rating == '1'\").shape[0]\n",
    "    sub_df.loc[this_name, 'stoffgebiet_negativ_count'] = this_ratings.query(\"type!='Militär/Krieg' and rating == '2'\").shape[0]\n",
    "    sub_df.loc[this_name, 'stoffgebiet_ambivalent_count'] = this_ratings.query(\"type!='Militär/Krieg' and rating == '3'\").shape[0]\n",
    "    sub_df.loc[this_name, 'stoffgebiet_neutral_share'] = sub_df.loc[this_name, 'stoffgebiet_neutral_count']/stoffgebiete_nokrieg_count\n",
    "    sub_df.loc[this_name, 'stoffgebiet_positiv_share'] = sub_df.loc[this_name, 'stoffgebiet_positiv_count']/stoffgebiete_nokrieg_count\n",
    "    sub_df.loc[this_name, 'stoffgebiet_negativ_share'] = sub_df.loc[this_name, 'stoffgebiet_negativ_count']/stoffgebiete_nokrieg_count\n",
    "    sub_df.loc[this_name, 'stoffgebiet_ambivalent_share'] = sub_df.loc[this_name, 'stoffgebiet_ambivalent_count']/stoffgebiete_nokrieg_count\n",
    "    \n",
    "    this_ratings['author_title'] = this_ratings['author'] + ' – ' + this_ratings['title']\n",
    "    this_ratings['type'] = ['Kultur' if x in kultur_stoffgebiete else x for x in this_ratings['type']]\n",
    "    this_ratings = this_ratings.drop_duplicates(subset = ['author_title', 'type'])\n",
    "    sub_df.loc[this_name, 'kultur_count'] = this_ratings.query(\"type=='Kultur'\").shape[0]\n",
    "    sub_df.loc[this_name, 'kultur_share_texts'] = sub_df.loc[this_name, 'kultur_count']/sub_df.loc[this_name, 'Texte']\n",
    "    sub_df.loc[this_name, 'kultur_share_stoffgebiete'] = sub_df.loc[this_name, 'kultur_count']/this_ratings.shape[0]"
   ]
  },
  {
   "cell_type": "markdown",
   "id": "35f06e3c",
   "metadata": {},
   "source": [
    "# Zeitverlauf"
   ]
  },
  {
   "cell_type": "code",
   "execution_count": 10,
   "id": "ce081ce8",
   "metadata": {},
   "outputs": [],
   "source": [
    "ts = pd.DataFrame()\n",
    "ts.index = pd.Series(range(1850, 1919), name = 'year')"
   ]
  },
  {
   "cell_type": "code",
   "execution_count": 11,
   "id": "6575f253",
   "metadata": {},
   "outputs": [],
   "source": [
    "ts['text_count'] = meta_anth.groupby('year').size()\n",
    "ts['text_count'] = ts['text_count'].fillna(0)\n",
    "ts['text_sum'] = smooth(ts['text_count'], mode = 'sum')"
   ]
  },
  {
   "cell_type": "code",
   "execution_count": 12,
   "id": "9baa843e",
   "metadata": {},
   "outputs": [],
   "source": [
    "ts['1stoffgebiet_count'] = [meta_anth.query(\"year == @x and stoffgebiet_count == 1\").shape[0] for x in ts.index]\n",
    "ts['1stoffgebiet_sum'] = smooth(ts['1stoffgebiet_count'], mode = 'sum')\n",
    "ts['1stoffgebiet_share_smoothed'] = ts['1stoffgebiet_sum']/ts['text_sum']\n",
    "ts['1stoffgebiet_share_smoothed_low'] = [proportion_confint(x, y, 0.1)[0] for x, y in zip(ts['1stoffgebiet_sum'], ts['text_sum'])]\n",
    "ts['1stoffgebiet_share_smoothed_high'] = [proportion_confint(x, y, 0.1)[1] for x, y in zip(ts['1stoffgebiet_sum'], ts['text_sum'])]\n",
    "\n",
    "ts['2stoffgebiet_count'] = [meta_anth.query(\"year == @x and stoffgebiet_count == 2\").shape[0] for x in ts.index]\n",
    "ts['2stoffgebiet_sum'] = smooth(ts['2stoffgebiet_count'], mode = 'sum')\n",
    "ts['2stoffgebiet_share_smoothed'] = ts['2stoffgebiet_sum']/ts['text_sum']\n",
    "ts['2stoffgebiet_share_smoothed_low'] = [proportion_confint(x, y, 0.1)[0] for x, y in zip(ts['2stoffgebiet_sum'], ts['text_sum'])]\n",
    "ts['2stoffgebiet_share_smoothed_high'] = [proportion_confint(x, y, 0.1)[1] for x, y in zip(ts['2stoffgebiet_sum'], ts['text_sum'])]\n",
    "\n",
    "ts['3stoffgebiet_count'] = [meta_anth.query(\"year == @x and stoffgebiet_count >= 3\").shape[0] for x in ts.index]\n",
    "ts['3stoffgebiet_sum'] = smooth(ts['3stoffgebiet_count'], mode = 'sum')\n",
    "ts['3stoffgebiet_share_smoothed'] = ts['3stoffgebiet_sum']/ts['text_sum']\n",
    "ts['3stoffgebiet_share_smoothed_low'] = [proportion_confint(x, y, 0.1)[0] for x, y in zip(ts['3stoffgebiet_sum'], ts['text_sum'])]\n",
    "ts['3stoffgebiet_share_smoothed_high'] = [proportion_confint(x, y, 0.1)[1] for x, y in zip(ts['3stoffgebiet_sum'], ts['text_sum'])]\n",
    "\n",
    "ts['stoffgebiet_count'] = [meta_anth.query(\"year == @x\")['stoffgebiet_count'].sum() for x in ts.index]\n",
    "ts['stoffgebiet_sum'] = smooth(ts['stoffgebiet_count'], mode = 'sum')\n",
    "\n",
    "ts['krieg_count'] = [meta_anth.query(\"year == @x and stoffgebiet.str.contains('Krieg')\").shape[0] for x in ts.index]\n",
    "ts['krieg_sum'] = smooth(ts['krieg_count'], mode = 'sum')\n",
    "ts['krieg_share_smoothed'] = ts['krieg_sum']/ts['stoffgebiet_sum']\n",
    "\n",
    "ts['politik_count'] = [meta_anth.query(\"year == @x and stoffgebiet.str.contains('Politik')\").shape[0] for x in ts.index]\n",
    "ts['politik_sum'] = smooth(ts['politik_count'], mode = 'sum')\n",
    "ts['politik_share_smoothed'] = ts['politik_sum']/ts['stoffgebiet_sum']\n",
    "\n",
    "ts['religion_count'] = [meta_anth.query(\"year == @x and stoffgebiet.str.contains('Religion')\").shape[0] for x in ts.index]\n",
    "ts['religion_sum'] = smooth(ts['religion_count'], mode = 'sum')\n",
    "ts['religion_share_smoothed'] = ts['religion_sum']/ts['stoffgebiet_sum']\n",
    "\n",
    "ts['tod_count'] = [meta_anth.query(\"year == @x and stoffgebiet.str.contains('Tod')\").shape[0] for x in ts.index]\n",
    "ts['tod_sum'] = smooth(ts['tod_count'], mode = 'sum')\n",
    "ts['tod_share_smoothed'] = ts['tod_sum']/ts['stoffgebiet_sum']\n",
    "\n",
    "for  year in ts.index:\n",
    "    this_ratings = get_rating_table(meta = meta_anth.query(\"year == @year\"), mode = 'themes')\n",
    "    if this_ratings.shape[0] > 0:\n",
    "        ts.at[year, 'krieg_neutral_count'] = this_ratings.query(\"type == 'Militär/Krieg' & rating == '0'\").shape[0]\n",
    "        ts.at[year, 'krieg_positiv_count'] = this_ratings.query(\"type == 'Militär/Krieg' & rating == '1'\").shape[0]\n",
    "        ts.at[year, 'krieg_negativ_count'] = this_ratings.query(\"type == 'Militär/Krieg' & rating == '2'\").shape[0]\n",
    "        ts.at[year, 'krieg_ambivalent_count'] = this_ratings.query(\"type == 'Militär/Krieg' & rating == '3'\").shape[0]\n",
    "ts['krieg_neutral_sum'] = smooth(ts['krieg_neutral_count'], mode = 'sum')\n",
    "ts['krieg_neutral_share_smoothed'] = ts['krieg_neutral_sum']/ts['krieg_sum']\n",
    "ts['krieg_positiv_sum'] = smooth(ts['krieg_positiv_count'], mode = 'sum')\n",
    "ts['krieg_positiv_share_smoothed'] = ts['krieg_positiv_sum']/ts['krieg_sum']\n",
    "ts['krieg_positiv_share_smoothed_low'] = [proportion_confint(x, y, 0.1)[0] for x, y in zip(ts['krieg_positiv_sum'], ts['krieg_sum'])]\n",
    "ts['krieg_positiv_share_smoothed_high'] = [proportion_confint(x, y, 0.1)[1] for x, y in zip(ts['krieg_positiv_sum'], ts['krieg_sum'])]\n",
    "ts['krieg_negativ_sum'] = smooth(ts['krieg_negativ_count'], mode = 'sum')\n",
    "ts['krieg_negativ_share_smoothed'] = ts['krieg_negativ_sum']/ts['krieg_sum']\n",
    "ts['krieg_ambivalent_sum'] = smooth(ts['krieg_ambivalent_count'], mode = 'sum')\n",
    "ts['krieg_ambivalent_share_smoothed'] = ts['krieg_ambivalent_sum']/ts['krieg_sum']\n",
    "\n",
    "ts['stoffgebiet_nokrieg_count'] = ts['stoffgebiet_count']-ts['krieg_count']\n",
    "ts['stoffgebiet_nokrieg_sum'] = smooth(ts['stoffgebiet_nokrieg_count'], mode = 'sum')\n",
    "for year in ts.index:\n",
    "    this_ratings = get_rating_table(meta = meta_anth.query(\"year == @year\"), mode = 'themes')\n",
    "    if this_ratings.shape[0] > 0:\n",
    "        ts.at[year, 'ratings_neutral_count'] = this_ratings.query(\"type!='Militär/Krieg' and rating == '0'\").shape[0]\n",
    "        ts.at[year, 'ratings_positiv_count'] = this_ratings.query(\"type!='Militär/Krieg' and rating == '1'\").shape[0]\n",
    "        ts.at[year, 'ratings_negativ_count'] = this_ratings.query(\"type!='Militär/Krieg' and rating == '2'\").shape[0]\n",
    "        ts.at[year, 'ratings_ambivalent_count'] = this_ratings.query(\"type!='Militär/Krieg' and rating == '3'\").shape[0]\n",
    "ts['ratings_neutral_sum'] = smooth(ts['ratings_neutral_count'], mode = 'sum')\n",
    "ts['ratings_neutral_share_smoothed'] = ts['ratings_neutral_sum']/ts['stoffgebiet_nokrieg_sum']\n",
    "ts['ratings_positiv_sum'] = smooth(ts['ratings_positiv_count'], mode = 'sum')\n",
    "ts['ratings_positiv_share_smoothed'] = ts['ratings_positiv_sum']/ts['stoffgebiet_nokrieg_sum']\n",
    "ts['ratings_negativ_sum'] = smooth(ts['ratings_negativ_count'], mode = 'sum')\n",
    "ts['ratings_negativ_share_smoothed'] = ts['ratings_negativ_sum']/ts['stoffgebiet_nokrieg_sum']\n",
    "ts['ratings_ambivalent_sum'] = smooth(ts['ratings_ambivalent_count'], mode = 'sum')\n",
    "ts['ratings_ambivalent_share_smoothed'] = ts['ratings_ambivalent_sum']/ts['stoffgebiet_nokrieg_sum']\n",
    "\n",
    "for year in ts.index:\n",
    "    this_ratings = get_rating_table(meta = meta_anth.query(\"year == @year\"), mode = 'themes').copy()\n",
    "    this_ratings['author_title'] = this_ratings['author'] + ' – ' + this_ratings['title']\n",
    "    this_ratings['type'] = ['Kultur' if x in kultur_stoffgebiete else x for x in this_ratings['type']]\n",
    "    this_ratings = this_ratings.drop_duplicates(subset = ['author_title', 'type'])\n",
    "    ts.at[year, 'kultur_count'] = this_ratings.query(\"type == 'Kultur'\").shape[0]\n",
    "    ts.at[year, 'stoffgebiet_kulturunified_count'] = this_ratings.shape[0]\n",
    "ts['stoffgebiet_kulturunified_sum'] = smooth(ts['stoffgebiet_kulturunified_count'], mode = 'sum')\n",
    "ts['kultur_sum'] = smooth(ts['kultur_count'], mode = 'sum')\n",
    "ts['kultur_share_smoothed'] = ts['kultur_sum']/ts['stoffgebiet_kulturunified_sum']"
   ]
  },
  {
   "cell_type": "markdown",
   "id": "640464d9",
   "metadata": {},
   "source": [
    "# Anzahl"
   ]
  },
  {
   "cell_type": "code",
   "execution_count": 58,
   "id": "b161c81d",
   "metadata": {},
   "outputs": [
    {
     "data": {
      "application/vnd.plotly.v1+json": {
       "config": {
        "plotlyServerURL": "https://plot.ly"
       },
       "data": [
        {
         "line": {
          "color": "#636EFA",
          "width": 6
         },
         "mode": "lines",
         "name": "Texte mit einem Stoffgebiet",
         "type": "scatter",
         "x": [
          1850,
          1851,
          1852,
          1853,
          1854,
          1855,
          1856,
          1857,
          1858,
          1859,
          1860,
          1861,
          1862,
          1863,
          1864,
          1865,
          1866,
          1867,
          1868,
          1869,
          1870,
          1871,
          1872,
          1873,
          1874,
          1875,
          1876,
          1877,
          1878,
          1879,
          1880,
          1881,
          1882,
          1883,
          1884,
          1885,
          1886,
          1887,
          1888,
          1889,
          1890,
          1891,
          1892,
          1893,
          1894,
          1895,
          1896,
          1897,
          1898,
          1899,
          1900,
          1901,
          1902,
          1903,
          1904,
          1905,
          1906,
          1907,
          1908,
          1909,
          1910,
          1911,
          1912,
          1913,
          1914,
          1915,
          1916,
          1917,
          1918
         ],
         "y": [
          null,
          null,
          null,
          null,
          null,
          0.6606350740798815,
          0.6640839775128603,
          0.6675347674182864,
          0.6605584898933105,
          0.6585677510449964,
          0.643387019607153,
          0.6601465239130213,
          0.6690132058400785,
          0.670572731571366,
          0.6717735768472118,
          0.6709711723043374,
          0.6669017930321856,
          0.6536390501054427,
          0.6485297813776714,
          0.6393024816035585,
          0.63155601211247,
          0.6302619611054968,
          0.6156653340775636,
          0.6003265024439404,
          0.6082152928754044,
          0.6132368039163064,
          0.5970192144371639,
          0.5994747077970928,
          0.6051870612396465,
          0.6114117616364605,
          0.6209544861879772,
          0.6204693036257881,
          0.6268856326049042,
          0.6273049023351337,
          0.6264965080790047,
          0.6211439982442124,
          0.6128674182596815,
          0.6257225114677515,
          0.6278607128902303,
          0.6165581711454234,
          0.6134913325164896,
          0.6035596795733387,
          0.6014151514427641,
          0.5963114383017734,
          0.5987552618122423,
          0.6084687517616538,
          0.6294329901666734,
          0.6465442468597695,
          0.6530217941743868,
          0.6508494800866179,
          0.6444096405378245,
          0.629230026252389,
          0.6532432216295911,
          0.6668389720197041,
          0.671697579768336,
          0.6782995390625515,
          0.685830311361388,
          0.6841079493103382,
          0.6911893013549021,
          0.6900717126357538,
          0.6982802718239614,
          0.6976464338765874,
          0.7173921206055821,
          0.7016727372244582,
          null,
          null,
          null,
          null,
          null
         ]
        },
        {
         "line": {
          "color": "#EF553B",
          "width": 6
         },
         "mode": "lines",
         "name": "Texte mit zwei Stoffgebieten",
         "type": "scatter",
         "x": [
          1850,
          1851,
          1852,
          1853,
          1854,
          1855,
          1856,
          1857,
          1858,
          1859,
          1860,
          1861,
          1862,
          1863,
          1864,
          1865,
          1866,
          1867,
          1868,
          1869,
          1870,
          1871,
          1872,
          1873,
          1874,
          1875,
          1876,
          1877,
          1878,
          1879,
          1880,
          1881,
          1882,
          1883,
          1884,
          1885,
          1886,
          1887,
          1888,
          1889,
          1890,
          1891,
          1892,
          1893,
          1894,
          1895,
          1896,
          1897,
          1898,
          1899,
          1900,
          1901,
          1902,
          1903,
          1904,
          1905,
          1906,
          1907,
          1908,
          1909,
          1910,
          1911,
          1912,
          1913,
          1914,
          1915,
          1916,
          1917,
          1918
         ],
         "y": [
          null,
          null,
          null,
          null,
          null,
          0.32094003670260407,
          0.3203123677618974,
          0.31608367456153447,
          0.3252687204163898,
          0.329691914019696,
          0.3515506037594975,
          0.3348642965000223,
          0.32602299925920586,
          0.3246217420494781,
          0.3197104471684288,
          0.31866855048764997,
          0.3192102363268781,
          0.33122111409654303,
          0.336198664503622,
          0.34233649924084114,
          0.3497729064730635,
          0.35086182381456704,
          0.3633459596706775,
          0.3759748334862368,
          0.3715534797921789,
          0.3679349583549201,
          0.38028696071649937,
          0.3799218543672161,
          0.37003118858624473,
          0.3632682897301688,
          0.35465349909946287,
          0.35374101507327455,
          0.3474505310824744,
          0.3463406338712912,
          0.3464087023099768,
          0.3496447894130778,
          0.3615298593649752,
          0.35393541042912774,
          0.3510216915921807,
          0.3669990669286506,
          0.3714050201134455,
          0.3781952982241893,
          0.37649860708305705,
          0.3818474097978823,
          0.38121013261020414,
          0.37791850485942435,
          0.3534349676912146,
          0.3352742985049145,
          0.33007508455897494,
          0.33238547628446447,
          0.3413084671662927,
          0.3522583763347531,
          0.3347691126641408,
          0.3262334824109965,
          0.31558347434394546,
          0.3081813160279054,
          0.29865084711112155,
          0.3012719840190504,
          0.29477125658237874,
          0.29670137119613504,
          0.289809626561744,
          0.29078541738713237,
          0.2761932501106034,
          0.2921504061527861,
          null,
          null,
          null,
          null,
          null
         ]
        },
        {
         "line": {
          "color": "#00CC96",
          "width": 6
         },
         "mode": "lines",
         "name": "Texte mit drei<br>oder mehr Stoffgebieten",
         "type": "scatter",
         "x": [
          1850,
          1851,
          1852,
          1853,
          1854,
          1855,
          1856,
          1857,
          1858,
          1859,
          1860,
          1861,
          1862,
          1863,
          1864,
          1865,
          1866,
          1867,
          1868,
          1869,
          1870,
          1871,
          1872,
          1873,
          1874,
          1875,
          1876,
          1877,
          1878,
          1879,
          1880,
          1881,
          1882,
          1883,
          1884,
          1885,
          1886,
          1887,
          1888,
          1889,
          1890,
          1891,
          1892,
          1893,
          1894,
          1895,
          1896,
          1897,
          1898,
          1899,
          1900,
          1901,
          1902,
          1903,
          1904,
          1905,
          1906,
          1907,
          1908,
          1909,
          1910,
          1911,
          1912,
          1913,
          1914,
          1915,
          1916,
          1917,
          1918
         ],
         "y": [
          null,
          null,
          null,
          null,
          null,
          0.01842488921751429,
          0.01560365472524232,
          0.016381558020178946,
          0.014172789690299724,
          0.011740334935307736,
          0.00506237663334952,
          0.004989179586956446,
          0.004963794900715609,
          0.00480552637915582,
          0.00851597598435931,
          0.010360277208012626,
          0.01388797064093667,
          0.015139835798014322,
          0.0152715541187068,
          0.018361019155600528,
          0.01867108141446632,
          0.018876215079936365,
          0.0209887062517589,
          0.023698664069822815,
          0.02023122733241675,
          0.01882823772877343,
          0.022693824846336738,
          0.02060343783569115,
          0.02478175017410881,
          0.02531994863337088,
          0.024392014712560306,
          0.025789681300937433,
          0.02566383631262156,
          0.02635446379357516,
          0.02709478961101853,
          0.02921121234270994,
          0.02560272237534305,
          0.020342078103120786,
          0.021117595517589054,
          0.016442761925925992,
          0.015103647370065037,
          0.01824502220247207,
          0.022086241474178737,
          0.021841151900344427,
          0.02003460557755371,
          0.013612743378921701,
          0.01713204214211202,
          0.018181454635315925,
          0.016903121266638226,
          0.016765043628917526,
          0.014281892295883036,
          0.018511597412857846,
          0.011987665706268146,
          0.006927545569299395,
          0.012718945887718412,
          0.013519144909543056,
          0.015518841527490612,
          0.014620066670611283,
          0.01403944206271914,
          0.013226916168110808,
          0.011910101614294632,
          0.011568148736280134,
          0.006414629283814423,
          0.006176856622755613,
          null,
          null,
          null,
          null,
          null
         ]
        },
        {
         "marker": {
          "color": [
           "#636EFA",
           "#EF553B",
           "#00CC96",
           "#AB63FA",
           "#FFA15A",
           "#19D3F3"
          ],
          "size": 14,
          "symbol": "circle"
         },
         "mode": "markers",
         "name": "Kanonisierte Moderne",
         "showlegend": false,
         "type": "scatter",
         "x": [
          1903,
          1903,
          1903,
          1903
         ],
         "y": [
          0.8230088495575221,
          0.17699115044247787,
          0
         ]
        },
        {
         "marker": {
          "color": "black",
          "size": 14,
          "symbol": "circle"
         },
         "mode": "markers",
         "name": "Kanonisierte Moderne",
         "type": "scatter",
         "x": [
          null
         ],
         "y": [
          null
         ]
        },
        {
         "marker": {
          "color": [
           "#636EFA",
           "#EF553B",
           "#00CC96",
           "#AB63FA",
           "#FFA15A",
           "#19D3F3"
          ],
          "size": 14,
          "symbol": "square"
         },
         "mode": "markers",
         "name": "Münchhausen-Kreis",
         "showlegend": false,
         "type": "scatter",
         "x": [
          1905,
          1905,
          1905,
          1905
         ],
         "y": [
          0.6357142857142857,
          0.35,
          0.014285714285714285
         ]
        },
        {
         "marker": {
          "color": "black",
          "size": 14,
          "symbol": "square"
         },
         "mode": "markers",
         "name": "Münchhausen-Kreis",
         "type": "scatter",
         "x": [
          null
         ],
         "y": [
          null
         ]
        }
       ],
       "layout": {
        "font": {
         "color": "black"
        },
        "height": 500,
        "legend": {
         "bordercolor": "black",
         "borderwidth": 1,
         "font": {
          "size": 16
         },
         "traceorder": "normal"
        },
        "paper_bgcolor": "white",
        "plot_bgcolor": "white",
        "template": {
         "data": {
          "bar": [
           {
            "error_x": {
             "color": "#2a3f5f"
            },
            "error_y": {
             "color": "#2a3f5f"
            },
            "marker": {
             "line": {
              "color": "#E5ECF6",
              "width": 0.5
             },
             "pattern": {
              "fillmode": "overlay",
              "size": 10,
              "solidity": 0.2
             }
            },
            "type": "bar"
           }
          ],
          "barpolar": [
           {
            "marker": {
             "line": {
              "color": "#E5ECF6",
              "width": 0.5
             },
             "pattern": {
              "fillmode": "overlay",
              "size": 10,
              "solidity": 0.2
             }
            },
            "type": "barpolar"
           }
          ],
          "carpet": [
           {
            "aaxis": {
             "endlinecolor": "#2a3f5f",
             "gridcolor": "white",
             "linecolor": "white",
             "minorgridcolor": "white",
             "startlinecolor": "#2a3f5f"
            },
            "baxis": {
             "endlinecolor": "#2a3f5f",
             "gridcolor": "white",
             "linecolor": "white",
             "minorgridcolor": "white",
             "startlinecolor": "#2a3f5f"
            },
            "type": "carpet"
           }
          ],
          "choropleth": [
           {
            "colorbar": {
             "outlinewidth": 0,
             "ticks": ""
            },
            "type": "choropleth"
           }
          ],
          "contour": [
           {
            "colorbar": {
             "outlinewidth": 0,
             "ticks": ""
            },
            "colorscale": [
             [
              0,
              "#0d0887"
             ],
             [
              0.1111111111111111,
              "#46039f"
             ],
             [
              0.2222222222222222,
              "#7201a8"
             ],
             [
              0.3333333333333333,
              "#9c179e"
             ],
             [
              0.4444444444444444,
              "#bd3786"
             ],
             [
              0.5555555555555556,
              "#d8576b"
             ],
             [
              0.6666666666666666,
              "#ed7953"
             ],
             [
              0.7777777777777778,
              "#fb9f3a"
             ],
             [
              0.8888888888888888,
              "#fdca26"
             ],
             [
              1,
              "#f0f921"
             ]
            ],
            "type": "contour"
           }
          ],
          "contourcarpet": [
           {
            "colorbar": {
             "outlinewidth": 0,
             "ticks": ""
            },
            "type": "contourcarpet"
           }
          ],
          "heatmap": [
           {
            "colorbar": {
             "outlinewidth": 0,
             "ticks": ""
            },
            "colorscale": [
             [
              0,
              "#0d0887"
             ],
             [
              0.1111111111111111,
              "#46039f"
             ],
             [
              0.2222222222222222,
              "#7201a8"
             ],
             [
              0.3333333333333333,
              "#9c179e"
             ],
             [
              0.4444444444444444,
              "#bd3786"
             ],
             [
              0.5555555555555556,
              "#d8576b"
             ],
             [
              0.6666666666666666,
              "#ed7953"
             ],
             [
              0.7777777777777778,
              "#fb9f3a"
             ],
             [
              0.8888888888888888,
              "#fdca26"
             ],
             [
              1,
              "#f0f921"
             ]
            ],
            "type": "heatmap"
           }
          ],
          "heatmapgl": [
           {
            "colorbar": {
             "outlinewidth": 0,
             "ticks": ""
            },
            "colorscale": [
             [
              0,
              "#0d0887"
             ],
             [
              0.1111111111111111,
              "#46039f"
             ],
             [
              0.2222222222222222,
              "#7201a8"
             ],
             [
              0.3333333333333333,
              "#9c179e"
             ],
             [
              0.4444444444444444,
              "#bd3786"
             ],
             [
              0.5555555555555556,
              "#d8576b"
             ],
             [
              0.6666666666666666,
              "#ed7953"
             ],
             [
              0.7777777777777778,
              "#fb9f3a"
             ],
             [
              0.8888888888888888,
              "#fdca26"
             ],
             [
              1,
              "#f0f921"
             ]
            ],
            "type": "heatmapgl"
           }
          ],
          "histogram": [
           {
            "marker": {
             "pattern": {
              "fillmode": "overlay",
              "size": 10,
              "solidity": 0.2
             }
            },
            "type": "histogram"
           }
          ],
          "histogram2d": [
           {
            "colorbar": {
             "outlinewidth": 0,
             "ticks": ""
            },
            "colorscale": [
             [
              0,
              "#0d0887"
             ],
             [
              0.1111111111111111,
              "#46039f"
             ],
             [
              0.2222222222222222,
              "#7201a8"
             ],
             [
              0.3333333333333333,
              "#9c179e"
             ],
             [
              0.4444444444444444,
              "#bd3786"
             ],
             [
              0.5555555555555556,
              "#d8576b"
             ],
             [
              0.6666666666666666,
              "#ed7953"
             ],
             [
              0.7777777777777778,
              "#fb9f3a"
             ],
             [
              0.8888888888888888,
              "#fdca26"
             ],
             [
              1,
              "#f0f921"
             ]
            ],
            "type": "histogram2d"
           }
          ],
          "histogram2dcontour": [
           {
            "colorbar": {
             "outlinewidth": 0,
             "ticks": ""
            },
            "colorscale": [
             [
              0,
              "#0d0887"
             ],
             [
              0.1111111111111111,
              "#46039f"
             ],
             [
              0.2222222222222222,
              "#7201a8"
             ],
             [
              0.3333333333333333,
              "#9c179e"
             ],
             [
              0.4444444444444444,
              "#bd3786"
             ],
             [
              0.5555555555555556,
              "#d8576b"
             ],
             [
              0.6666666666666666,
              "#ed7953"
             ],
             [
              0.7777777777777778,
              "#fb9f3a"
             ],
             [
              0.8888888888888888,
              "#fdca26"
             ],
             [
              1,
              "#f0f921"
             ]
            ],
            "type": "histogram2dcontour"
           }
          ],
          "mesh3d": [
           {
            "colorbar": {
             "outlinewidth": 0,
             "ticks": ""
            },
            "type": "mesh3d"
           }
          ],
          "parcoords": [
           {
            "line": {
             "colorbar": {
              "outlinewidth": 0,
              "ticks": ""
             }
            },
            "type": "parcoords"
           }
          ],
          "pie": [
           {
            "automargin": true,
            "type": "pie"
           }
          ],
          "scatter": [
           {
            "fillpattern": {
             "fillmode": "overlay",
             "size": 10,
             "solidity": 0.2
            },
            "type": "scatter"
           }
          ],
          "scatter3d": [
           {
            "line": {
             "colorbar": {
              "outlinewidth": 0,
              "ticks": ""
             }
            },
            "marker": {
             "colorbar": {
              "outlinewidth": 0,
              "ticks": ""
             }
            },
            "type": "scatter3d"
           }
          ],
          "scattercarpet": [
           {
            "marker": {
             "colorbar": {
              "outlinewidth": 0,
              "ticks": ""
             }
            },
            "type": "scattercarpet"
           }
          ],
          "scattergeo": [
           {
            "marker": {
             "colorbar": {
              "outlinewidth": 0,
              "ticks": ""
             }
            },
            "type": "scattergeo"
           }
          ],
          "scattergl": [
           {
            "marker": {
             "colorbar": {
              "outlinewidth": 0,
              "ticks": ""
             }
            },
            "type": "scattergl"
           }
          ],
          "scattermapbox": [
           {
            "marker": {
             "colorbar": {
              "outlinewidth": 0,
              "ticks": ""
             }
            },
            "type": "scattermapbox"
           }
          ],
          "scatterpolar": [
           {
            "marker": {
             "colorbar": {
              "outlinewidth": 0,
              "ticks": ""
             }
            },
            "type": "scatterpolar"
           }
          ],
          "scatterpolargl": [
           {
            "marker": {
             "colorbar": {
              "outlinewidth": 0,
              "ticks": ""
             }
            },
            "type": "scatterpolargl"
           }
          ],
          "scatterternary": [
           {
            "marker": {
             "colorbar": {
              "outlinewidth": 0,
              "ticks": ""
             }
            },
            "type": "scatterternary"
           }
          ],
          "surface": [
           {
            "colorbar": {
             "outlinewidth": 0,
             "ticks": ""
            },
            "colorscale": [
             [
              0,
              "#0d0887"
             ],
             [
              0.1111111111111111,
              "#46039f"
             ],
             [
              0.2222222222222222,
              "#7201a8"
             ],
             [
              0.3333333333333333,
              "#9c179e"
             ],
             [
              0.4444444444444444,
              "#bd3786"
             ],
             [
              0.5555555555555556,
              "#d8576b"
             ],
             [
              0.6666666666666666,
              "#ed7953"
             ],
             [
              0.7777777777777778,
              "#fb9f3a"
             ],
             [
              0.8888888888888888,
              "#fdca26"
             ],
             [
              1,
              "#f0f921"
             ]
            ],
            "type": "surface"
           }
          ],
          "table": [
           {
            "cells": {
             "fill": {
              "color": "#EBF0F8"
             },
             "line": {
              "color": "white"
             }
            },
            "header": {
             "fill": {
              "color": "#C8D4E3"
             },
             "line": {
              "color": "white"
             }
            },
            "type": "table"
           }
          ]
         },
         "layout": {
          "annotationdefaults": {
           "arrowcolor": "#2a3f5f",
           "arrowhead": 0,
           "arrowwidth": 1
          },
          "autotypenumbers": "strict",
          "coloraxis": {
           "colorbar": {
            "outlinewidth": 0,
            "ticks": ""
           }
          },
          "colorscale": {
           "diverging": [
            [
             0,
             "#8e0152"
            ],
            [
             0.1,
             "#c51b7d"
            ],
            [
             0.2,
             "#de77ae"
            ],
            [
             0.3,
             "#f1b6da"
            ],
            [
             0.4,
             "#fde0ef"
            ],
            [
             0.5,
             "#f7f7f7"
            ],
            [
             0.6,
             "#e6f5d0"
            ],
            [
             0.7,
             "#b8e186"
            ],
            [
             0.8,
             "#7fbc41"
            ],
            [
             0.9,
             "#4d9221"
            ],
            [
             1,
             "#276419"
            ]
           ],
           "sequential": [
            [
             0,
             "#0d0887"
            ],
            [
             0.1111111111111111,
             "#46039f"
            ],
            [
             0.2222222222222222,
             "#7201a8"
            ],
            [
             0.3333333333333333,
             "#9c179e"
            ],
            [
             0.4444444444444444,
             "#bd3786"
            ],
            [
             0.5555555555555556,
             "#d8576b"
            ],
            [
             0.6666666666666666,
             "#ed7953"
            ],
            [
             0.7777777777777778,
             "#fb9f3a"
            ],
            [
             0.8888888888888888,
             "#fdca26"
            ],
            [
             1,
             "#f0f921"
            ]
           ],
           "sequentialminus": [
            [
             0,
             "#0d0887"
            ],
            [
             0.1111111111111111,
             "#46039f"
            ],
            [
             0.2222222222222222,
             "#7201a8"
            ],
            [
             0.3333333333333333,
             "#9c179e"
            ],
            [
             0.4444444444444444,
             "#bd3786"
            ],
            [
             0.5555555555555556,
             "#d8576b"
            ],
            [
             0.6666666666666666,
             "#ed7953"
            ],
            [
             0.7777777777777778,
             "#fb9f3a"
            ],
            [
             0.8888888888888888,
             "#fdca26"
            ],
            [
             1,
             "#f0f921"
            ]
           ]
          },
          "colorway": [
           "#636efa",
           "#EF553B",
           "#00cc96",
           "#ab63fa",
           "#FFA15A",
           "#19d3f3",
           "#FF6692",
           "#B6E880",
           "#FF97FF",
           "#FECB52"
          ],
          "font": {
           "color": "#2a3f5f"
          },
          "geo": {
           "bgcolor": "white",
           "lakecolor": "white",
           "landcolor": "#E5ECF6",
           "showlakes": true,
           "showland": true,
           "subunitcolor": "white"
          },
          "hoverlabel": {
           "align": "left"
          },
          "hovermode": "closest",
          "mapbox": {
           "style": "light"
          },
          "paper_bgcolor": "white",
          "plot_bgcolor": "#E5ECF6",
          "polar": {
           "angularaxis": {
            "gridcolor": "white",
            "linecolor": "white",
            "ticks": ""
           },
           "bgcolor": "#E5ECF6",
           "radialaxis": {
            "gridcolor": "white",
            "linecolor": "white",
            "ticks": ""
           }
          },
          "scene": {
           "xaxis": {
            "backgroundcolor": "#E5ECF6",
            "gridcolor": "white",
            "gridwidth": 2,
            "linecolor": "white",
            "showbackground": true,
            "ticks": "",
            "zerolinecolor": "white"
           },
           "yaxis": {
            "backgroundcolor": "#E5ECF6",
            "gridcolor": "white",
            "gridwidth": 2,
            "linecolor": "white",
            "showbackground": true,
            "ticks": "",
            "zerolinecolor": "white"
           },
           "zaxis": {
            "backgroundcolor": "#E5ECF6",
            "gridcolor": "white",
            "gridwidth": 2,
            "linecolor": "white",
            "showbackground": true,
            "ticks": "",
            "zerolinecolor": "white"
           }
          },
          "shapedefaults": {
           "line": {
            "color": "#2a3f5f"
           }
          },
          "ternary": {
           "aaxis": {
            "gridcolor": "white",
            "linecolor": "white",
            "ticks": ""
           },
           "baxis": {
            "gridcolor": "white",
            "linecolor": "white",
            "ticks": ""
           },
           "bgcolor": "#E5ECF6",
           "caxis": {
            "gridcolor": "white",
            "linecolor": "white",
            "ticks": ""
           }
          },
          "title": {
           "x": 0.05
          },
          "xaxis": {
           "automargin": true,
           "gridcolor": "white",
           "linecolor": "white",
           "ticks": "",
           "title": {
            "standoff": 15
           },
           "zerolinecolor": "white",
           "zerolinewidth": 2
          },
          "yaxis": {
           "automargin": true,
           "gridcolor": "white",
           "linecolor": "white",
           "ticks": "",
           "title": {
            "standoff": 15
           },
           "zerolinecolor": "white",
           "zerolinewidth": 2
          }
         }
        },
        "width": 900,
        "xaxis": {
         "autorange": true,
         "color": "black",
         "gridcolor": "white",
         "range": [
          1850,
          1918
         ],
         "showgrid": false,
         "tickfont": {
          "size": 16
         },
         "title": {
          "font": {
           "size": 16
          }
         },
         "type": "linear"
        },
        "yaxis": {
         "autorange": true,
         "color": "black",
         "gridcolor": "lightgray",
         "range": [
          -0.07530302782457919,
          0.8983118773821013
         ],
         "tickfont": {
          "size": 16
         },
         "title": {
          "font": {
           "size": 16
          },
          "text": "Anteil"
         },
         "type": "linear",
         "zerolinecolor": "lightgray"
        }
       }
      },
      "image/png": "[encoded data removed]",
      "text/html": [
       "<div>                            <div id=\"afe57808-1d90-48e3-a799-0181ed1f5263\" class=\"plotly-graph-div\" style=\"height:500px; width:900px;\"></div>            <script type=\"text/javascript\">                require([\"plotly\"], function(Plotly) {                    window.PLOTLYENV=window.PLOTLYENV || {};                                    if (document.getElementById(\"afe57808-1d90-48e3-a799-0181ed1f5263\")) {                    Plotly.newPlot(                        \"afe57808-1d90-48e3-a799-0181ed1f5263\",                        [{\"line\":{\"color\":\"#636EFA\",\"width\":6},\"mode\":\"lines\",\"name\":\"Texte mit einem Stoffgebiet\",\"x\":[1850,1851,1852,1853,1854,1855,1856,1857,1858,1859,1860,1861,1862,1863,1864,1865,1866,1867,1868,1869,1870,1871,1872,1873,1874,1875,1876,1877,1878,1879,1880,1881,1882,1883,1884,1885,1886,1887,1888,1889,1890,1891,1892,1893,1894,1895,1896,1897,1898,1899,1900,1901,1902,1903,1904,1905,1906,1907,1908,1909,1910,1911,1912,1913,1914,1915,1916,1917,1918],\"y\":[null,null,null,null,null,0.6606350740798815,0.6640839775128603,0.6675347674182864,0.6605584898933105,0.6585677510449964,0.643387019607153,0.6601465239130213,0.6690132058400785,0.670572731571366,0.6717735768472118,0.6709711723043374,0.6669017930321856,0.6536390501054427,0.6485297813776714,0.6393024816035585,0.63155601211247,0.6302619611054968,0.6156653340775636,0.6003265024439404,0.6082152928754044,0.6132368039163064,0.5970192144371639,0.5994747077970928,0.6051870612396465,0.6114117616364605,0.6209544861879772,0.6204693036257881,0.6268856326049042,0.6273049023351337,0.6264965080790047,0.6211439982442124,0.6128674182596815,0.6257225114677515,0.6278607128902303,0.6165581711454234,0.6134913325164896,0.6035596795733387,0.6014151514427641,0.5963114383017734,0.5987552618122423,0.6084687517616538,0.6294329901666734,0.6465442468597695,0.6530217941743868,0.6508494800866179,0.6444096405378245,0.629230026252389,0.6532432216295911,0.6668389720197041,0.671697579768336,0.6782995390625515,0.685830311361388,0.6841079493103382,0.6911893013549021,0.6900717126357538,0.6982802718239614,0.6976464338765874,0.7173921206055821,0.7016727372244582,null,null,null,null,null],\"type\":\"scatter\"},{\"line\":{\"color\":\"#EF553B\",\"width\":6},\"mode\":\"lines\",\"name\":\"Texte mit zwei Stoffgebieten\",\"x\":[1850,1851,1852,1853,1854,1855,1856,1857,1858,1859,1860,1861,1862,1863,1864,1865,1866,1867,1868,1869,1870,1871,1872,1873,1874,1875,1876,1877,1878,1879,1880,1881,1882,1883,1884,1885,1886,1887,1888,1889,1890,1891,1892,1893,1894,1895,1896,1897,1898,1899,1900,1901,1902,1903,1904,1905,1906,1907,1908,1909,1910,1911,1912,1913,1914,1915,1916,1917,1918],\"y\":[null,null,null,null,null,0.32094003670260407,0.3203123677618974,0.31608367456153447,0.3252687204163898,0.329691914019696,0.3515506037594975,0.3348642965000223,0.32602299925920586,0.3246217420494781,0.3197104471684288,0.31866855048764997,0.3192102363268781,0.33122111409654303,0.336198664503622,0.34233649924084114,0.3497729064730635,0.35086182381456704,0.3633459596706775,0.3759748334862368,0.3715534797921789,0.3679349583549201,0.38028696071649937,0.3799218543672161,0.37003118858624473,0.3632682897301688,0.35465349909946287,0.35374101507327455,0.3474505310824744,0.3463406338712912,0.3464087023099768,0.3496447894130778,0.3615298593649752,0.35393541042912774,0.3510216915921807,0.3669990669286506,0.3714050201134455,0.3781952982241893,0.37649860708305705,0.3818474097978823,0.38121013261020414,0.37791850485942435,0.3534349676912146,0.3352742985049145,0.33007508455897494,0.33238547628446447,0.3413084671662927,0.3522583763347531,0.3347691126641408,0.3262334824109965,0.31558347434394546,0.3081813160279054,0.29865084711112155,0.3012719840190504,0.29477125658237874,0.29670137119613504,0.289809626561744,0.29078541738713237,0.2761932501106034,0.2921504061527861,null,null,null,null,null],\"type\":\"scatter\"},{\"line\":{\"color\":\"#00CC96\",\"width\":6},\"mode\":\"lines\",\"name\":\"Texte mit drei\\u003cbr\\u003eoder mehr Stoffgebieten\",\"x\":[1850,1851,1852,1853,1854,1855,1856,1857,1858,1859,1860,1861,1862,1863,1864,1865,1866,1867,1868,1869,1870,1871,1872,1873,1874,1875,1876,1877,1878,1879,1880,1881,1882,1883,1884,1885,1886,1887,1888,1889,1890,1891,1892,1893,1894,1895,1896,1897,1898,1899,1900,1901,1902,1903,1904,1905,1906,1907,1908,1909,1910,1911,1912,1913,1914,1915,1916,1917,1918],\"y\":[null,null,null,null,null,0.01842488921751429,0.01560365472524232,0.016381558020178946,0.014172789690299724,0.011740334935307736,0.00506237663334952,0.004989179586956446,0.004963794900715609,0.00480552637915582,0.00851597598435931,0.010360277208012626,0.01388797064093667,0.015139835798014322,0.0152715541187068,0.018361019155600528,0.01867108141446632,0.018876215079936365,0.0209887062517589,0.023698664069822815,0.02023122733241675,0.01882823772877343,0.022693824846336738,0.02060343783569115,0.02478175017410881,0.02531994863337088,0.024392014712560306,0.025789681300937433,0.02566383631262156,0.02635446379357516,0.02709478961101853,0.02921121234270994,0.02560272237534305,0.020342078103120786,0.021117595517589054,0.016442761925925992,0.015103647370065037,0.01824502220247207,0.022086241474178737,0.021841151900344427,0.02003460557755371,0.013612743378921701,0.01713204214211202,0.018181454635315925,0.016903121266638226,0.016765043628917526,0.014281892295883036,0.018511597412857846,0.011987665706268146,0.006927545569299395,0.012718945887718412,0.013519144909543056,0.015518841527490612,0.014620066670611283,0.01403944206271914,0.013226916168110808,0.011910101614294632,0.011568148736280134,0.006414629283814423,0.006176856622755613,null,null,null,null,null],\"type\":\"scatter\"},{\"marker\":{\"color\":[\"#636EFA\",\"#EF553B\",\"#00CC96\",\"#AB63FA\",\"#FFA15A\",\"#19D3F3\"],\"size\":14,\"symbol\":\"circle\"},\"mode\":\"markers\",\"name\":\"Kanonisierte Moderne\",\"showlegend\":false,\"x\":[1903.0,1903.0,1903.0,1903.0],\"y\":[0.8230088495575221,0.17699115044247787,0.0],\"type\":\"scatter\"},{\"marker\":{\"color\":\"black\",\"size\":14,\"symbol\":\"circle\"},\"mode\":\"markers\",\"name\":\"Kanonisierte Moderne\",\"x\":[null],\"y\":[null],\"type\":\"scatter\"},{\"marker\":{\"color\":[\"#636EFA\",\"#EF553B\",\"#00CC96\",\"#AB63FA\",\"#FFA15A\",\"#19D3F3\"],\"size\":14,\"symbol\":\"square\"},\"mode\":\"markers\",\"name\":\"Münchhausen-Kreis\",\"showlegend\":false,\"x\":[1905.0,1905.0,1905.0,1905.0],\"y\":[0.6357142857142857,0.35,0.014285714285714285],\"type\":\"scatter\"},{\"marker\":{\"color\":\"black\",\"size\":14,\"symbol\":\"square\"},\"mode\":\"markers\",\"name\":\"Münchhausen-Kreis\",\"x\":[null],\"y\":[null],\"type\":\"scatter\"}],                        {\"template\":{\"data\":{\"histogram2dcontour\":[{\"type\":\"histogram2dcontour\",\"colorbar\":{\"outlinewidth\":0,\"ticks\":\"\"},\"colorscale\":[[0.0,\"#0d0887\"],[0.1111111111111111,\"#46039f\"],[0.2222222222222222,\"#7201a8\"],[0.3333333333333333,\"#9c179e\"],[0.4444444444444444,\"#bd3786\"],[0.5555555555555556,\"#d8576b\"],[0.6666666666666666,\"#ed7953\"],[0.7777777777777778,\"#fb9f3a\"],[0.8888888888888888,\"#fdca26\"],[1.0,\"#f0f921\"]]}],\"choropleth\":[{\"type\":\"choropleth\",\"colorbar\":{\"outlinewidth\":0,\"ticks\":\"\"}}],\"histogram2d\":[{\"type\":\"histogram2d\",\"colorbar\":{\"outlinewidth\":0,\"ticks\":\"\"},\"colorscale\":[[0.0,\"#0d0887\"],[0.1111111111111111,\"#46039f\"],[0.2222222222222222,\"#7201a8\"],[0.3333333333333333,\"#9c179e\"],[0.4444444444444444,\"#bd3786\"],[0.5555555555555556,\"#d8576b\"],[0.6666666666666666,\"#ed7953\"],[0.7777777777777778,\"#fb9f3a\"],[0.8888888888888888,\"#fdca26\"],[1.0,\"#f0f921\"]]}],\"heatmap\":[{\"type\":\"heatmap\",\"colorbar\":{\"outlinewidth\":0,\"ticks\":\"\"},\"colorscale\":[[0.0,\"#0d0887\"],[0.1111111111111111,\"#46039f\"],[0.2222222222222222,\"#7201a8\"],[0.3333333333333333,\"#9c179e\"],[0.4444444444444444,\"#bd3786\"],[0.5555555555555556,\"#d8576b\"],[0.6666666666666666,\"#ed7953\"],[0.7777777777777778,\"#fb9f3a\"],[0.8888888888888888,\"#fdca26\"],[1.0,\"#f0f921\"]]}],\"heatmapgl\":[{\"type\":\"heatmapgl\",\"colorbar\":{\"outlinewidth\":0,\"ticks\":\"\"},\"colorscale\":[[0.0,\"#0d0887\"],[0.1111111111111111,\"#46039f\"],[0.2222222222222222,\"#7201a8\"],[0.3333333333333333,\"#9c179e\"],[0.4444444444444444,\"#bd3786\"],[0.5555555555555556,\"#d8576b\"],[0.6666666666666666,\"#ed7953\"],[0.7777777777777778,\"#fb9f3a\"],[0.8888888888888888,\"#fdca26\"],[1.0,\"#f0f921\"]]}],\"contourcarpet\":[{\"type\":\"contourcarpet\",\"colorbar\":{\"outlinewidth\":0,\"ticks\":\"\"}}],\"contour\":[{\"type\":\"contour\",\"colorbar\":{\"outlinewidth\":0,\"ticks\":\"\"},\"colorscale\":[[0.0,\"#0d0887\"],[0.1111111111111111,\"#46039f\"],[0.2222222222222222,\"#7201a8\"],[0.3333333333333333,\"#9c179e\"],[0.4444444444444444,\"#bd3786\"],[0.5555555555555556,\"#d8576b\"],[0.6666666666666666,\"#ed7953\"],[0.7777777777777778,\"#fb9f3a\"],[0.8888888888888888,\"#fdca26\"],[1.0,\"#f0f921\"]]}],\"surface\":[{\"type\":\"surface\",\"colorbar\":{\"outlinewidth\":0,\"ticks\":\"\"},\"colorscale\":[[0.0,\"#0d0887\"],[0.1111111111111111,\"#46039f\"],[0.2222222222222222,\"#7201a8\"],[0.3333333333333333,\"#9c179e\"],[0.4444444444444444,\"#bd3786\"],[0.5555555555555556,\"#d8576b\"],[0.6666666666666666,\"#ed7953\"],[0.7777777777777778,\"#fb9f3a\"],[0.8888888888888888,\"#fdca26\"],[1.0,\"#f0f921\"]]}],\"mesh3d\":[{\"type\":\"mesh3d\",\"colorbar\":{\"outlinewidth\":0,\"ticks\":\"\"}}],\"scatter\":[{\"fillpattern\":{\"fillmode\":\"overlay\",\"size\":10,\"solidity\":0.2},\"type\":\"scatter\"}],\"parcoords\":[{\"type\":\"parcoords\",\"line\":{\"colorbar\":{\"outlinewidth\":0,\"ticks\":\"\"}}}],\"scatterpolargl\":[{\"type\":\"scatterpolargl\",\"marker\":{\"colorbar\":{\"outlinewidth\":0,\"ticks\":\"\"}}}],\"bar\":[{\"error_x\":{\"color\":\"#2a3f5f\"},\"error_y\":{\"color\":\"#2a3f5f\"},\"marker\":{\"line\":{\"color\":\"#E5ECF6\",\"width\":0.5},\"pattern\":{\"fillmode\":\"overlay\",\"size\":10,\"solidity\":0.2}},\"type\":\"bar\"}],\"scattergeo\":[{\"type\":\"scattergeo\",\"marker\":{\"colorbar\":{\"outlinewidth\":0,\"ticks\":\"\"}}}],\"scatterpolar\":[{\"type\":\"scatterpolar\",\"marker\":{\"colorbar\":{\"outlinewidth\":0,\"ticks\":\"\"}}}],\"histogram\":[{\"marker\":{\"pattern\":{\"fillmode\":\"overlay\",\"size\":10,\"solidity\":0.2}},\"type\":\"histogram\"}],\"scattergl\":[{\"type\":\"scattergl\",\"marker\":{\"colorbar\":{\"outlinewidth\":0,\"ticks\":\"\"}}}],\"scatter3d\":[{\"type\":\"scatter3d\",\"line\":{\"colorbar\":{\"outlinewidth\":0,\"ticks\":\"\"}},\"marker\":{\"colorbar\":{\"outlinewidth\":0,\"ticks\":\"\"}}}],\"scattermapbox\":[{\"type\":\"scattermapbox\",\"marker\":{\"colorbar\":{\"outlinewidth\":0,\"ticks\":\"\"}}}],\"scatterternary\":[{\"type\":\"scatterternary\",\"marker\":{\"colorbar\":{\"outlinewidth\":0,\"ticks\":\"\"}}}],\"scattercarpet\":[{\"type\":\"scattercarpet\",\"marker\":{\"colorbar\":{\"outlinewidth\":0,\"ticks\":\"\"}}}],\"carpet\":[{\"aaxis\":{\"endlinecolor\":\"#2a3f5f\",\"gridcolor\":\"white\",\"linecolor\":\"white\",\"minorgridcolor\":\"white\",\"startlinecolor\":\"#2a3f5f\"},\"baxis\":{\"endlinecolor\":\"#2a3f5f\",\"gridcolor\":\"white\",\"linecolor\":\"white\",\"minorgridcolor\":\"white\",\"startlinecolor\":\"#2a3f5f\"},\"type\":\"carpet\"}],\"table\":[{\"cells\":{\"fill\":{\"color\":\"#EBF0F8\"},\"line\":{\"color\":\"white\"}},\"header\":{\"fill\":{\"color\":\"#C8D4E3\"},\"line\":{\"color\":\"white\"}},\"type\":\"table\"}],\"barpolar\":[{\"marker\":{\"line\":{\"color\":\"#E5ECF6\",\"width\":0.5},\"pattern\":{\"fillmode\":\"overlay\",\"size\":10,\"solidity\":0.2}},\"type\":\"barpolar\"}],\"pie\":[{\"automargin\":true,\"type\":\"pie\"}]},\"layout\":{\"autotypenumbers\":\"strict\",\"colorway\":[\"#636efa\",\"#EF553B\",\"#00cc96\",\"#ab63fa\",\"#FFA15A\",\"#19d3f3\",\"#FF6692\",\"#B6E880\",\"#FF97FF\",\"#FECB52\"],\"font\":{\"color\":\"#2a3f5f\"},\"hovermode\":\"closest\",\"hoverlabel\":{\"align\":\"left\"},\"paper_bgcolor\":\"white\",\"plot_bgcolor\":\"#E5ECF6\",\"polar\":{\"bgcolor\":\"#E5ECF6\",\"angularaxis\":{\"gridcolor\":\"white\",\"linecolor\":\"white\",\"ticks\":\"\"},\"radialaxis\":{\"gridcolor\":\"white\",\"linecolor\":\"white\",\"ticks\":\"\"}},\"ternary\":{\"bgcolor\":\"#E5ECF6\",\"aaxis\":{\"gridcolor\":\"white\",\"linecolor\":\"white\",\"ticks\":\"\"},\"baxis\":{\"gridcolor\":\"white\",\"linecolor\":\"white\",\"ticks\":\"\"},\"caxis\":{\"gridcolor\":\"white\",\"linecolor\":\"white\",\"ticks\":\"\"}},\"coloraxis\":{\"colorbar\":{\"outlinewidth\":0,\"ticks\":\"\"}},\"colorscale\":{\"sequential\":[[0.0,\"#0d0887\"],[0.1111111111111111,\"#46039f\"],[0.2222222222222222,\"#7201a8\"],[0.3333333333333333,\"#9c179e\"],[0.4444444444444444,\"#bd3786\"],[0.5555555555555556,\"#d8576b\"],[0.6666666666666666,\"#ed7953\"],[0.7777777777777778,\"#fb9f3a\"],[0.8888888888888888,\"#fdca26\"],[1.0,\"#f0f921\"]],\"sequentialminus\":[[0.0,\"#0d0887\"],[0.1111111111111111,\"#46039f\"],[0.2222222222222222,\"#7201a8\"],[0.3333333333333333,\"#9c179e\"],[0.4444444444444444,\"#bd3786\"],[0.5555555555555556,\"#d8576b\"],[0.6666666666666666,\"#ed7953\"],[0.7777777777777778,\"#fb9f3a\"],[0.8888888888888888,\"#fdca26\"],[1.0,\"#f0f921\"]],\"diverging\":[[0,\"#8e0152\"],[0.1,\"#c51b7d\"],[0.2,\"#de77ae\"],[0.3,\"#f1b6da\"],[0.4,\"#fde0ef\"],[0.5,\"#f7f7f7\"],[0.6,\"#e6f5d0\"],[0.7,\"#b8e186\"],[0.8,\"#7fbc41\"],[0.9,\"#4d9221\"],[1,\"#276419\"]]},\"xaxis\":{\"gridcolor\":\"white\",\"linecolor\":\"white\",\"ticks\":\"\",\"title\":{\"standoff\":15},\"zerolinecolor\":\"white\",\"automargin\":true,\"zerolinewidth\":2},\"yaxis\":{\"gridcolor\":\"white\",\"linecolor\":\"white\",\"ticks\":\"\",\"title\":{\"standoff\":15},\"zerolinecolor\":\"white\",\"automargin\":true,\"zerolinewidth\":2},\"scene\":{\"xaxis\":{\"backgroundcolor\":\"#E5ECF6\",\"gridcolor\":\"white\",\"linecolor\":\"white\",\"showbackground\":true,\"ticks\":\"\",\"zerolinecolor\":\"white\",\"gridwidth\":2},\"yaxis\":{\"backgroundcolor\":\"#E5ECF6\",\"gridcolor\":\"white\",\"linecolor\":\"white\",\"showbackground\":true,\"ticks\":\"\",\"zerolinecolor\":\"white\",\"gridwidth\":2},\"zaxis\":{\"backgroundcolor\":\"#E5ECF6\",\"gridcolor\":\"white\",\"linecolor\":\"white\",\"showbackground\":true,\"ticks\":\"\",\"zerolinecolor\":\"white\",\"gridwidth\":2}},\"shapedefaults\":{\"line\":{\"color\":\"#2a3f5f\"}},\"annotationdefaults\":{\"arrowcolor\":\"#2a3f5f\",\"arrowhead\":0,\"arrowwidth\":1},\"geo\":{\"bgcolor\":\"white\",\"landcolor\":\"#E5ECF6\",\"subunitcolor\":\"white\",\"showland\":true,\"showlakes\":true,\"lakecolor\":\"white\"},\"title\":{\"x\":0.05},\"mapbox\":{\"style\":\"light\"}}},\"xaxis\":{\"tickfont\":{\"size\":16},\"title\":{\"font\":{\"size\":16}},\"color\":\"black\",\"gridcolor\":\"white\",\"showgrid\":false},\"yaxis\":{\"tickfont\":{\"size\":16},\"title\":{\"text\":\"Anteil\",\"font\":{\"size\":16}},\"color\":\"black\",\"gridcolor\":\"lightgray\",\"zerolinecolor\":\"lightgray\"},\"legend\":{\"font\":{\"size\":16},\"traceorder\":\"normal\",\"bordercolor\":\"black\",\"borderwidth\":1},\"width\":900,\"height\":500,\"font\":{\"color\":\"black\"},\"plot_bgcolor\":\"white\",\"paper_bgcolor\":\"white\"},                        {\"responsive\": true}                    ).then(function(){\n",
       "                            \n",
       "var gd = document.getElementById('afe57808-1d90-48e3-a799-0181ed1f5263');\n",
       "var x = new MutationObserver(function (mutations, observer) {{\n",
       "        var display = window.getComputedStyle(gd).display;\n",
       "        if (!display || display === 'none') {{\n",
       "            console.log([gd, 'removed!']);\n",
       "            Plotly.purge(gd);\n",
       "            observer.disconnect();\n",
       "        }}\n",
       "}});\n",
       "\n",
       "// Listen for the removal of the full notebook cells\n",
       "var notebookContainer = gd.closest('#notebook-container');\n",
       "if (notebookContainer) {{\n",
       "    x.observe(notebookContainer, {childList: true});\n",
       "}}\n",
       "\n",
       "// Listen for the clearing of the current output cell\n",
       "var outputEl = gd.closest('.output');\n",
       "if (outputEl) {{\n",
       "    x.observe(outputEl, {childList: true});\n",
       "}}\n",
       "\n",
       "                        })                };                });            </script>        </div>"
      ]
     },
     "metadata": {},
     "output_type": "display_data"
    }
   ],
   "source": [
    "meta_plot = ts[[\n",
    "    '1stoffgebiet_share_smoothed', \n",
    "    '2stoffgebiet_share_smoothed', \n",
    "    '3stoffgebiet_share_smoothed'\n",
    "]]\n",
    "meta_plot.columns = [\n",
    "    'Texte mit einem Stoffgebiet', \n",
    "    'Texte mit zwei Stoffgebieten', \n",
    "    'Texte mit drei<br>oder mehr Stoffgebieten'\n",
    "]\n",
    "# save_ts_data(meta_plot, prefix=\"06_04_Anzahl_Stoffgebiete_\")\n",
    "\n",
    "fig = create_ts_plot(\n",
    "    data = meta_plot, \n",
    "    columns = meta_plot.columns, \n",
    "    y_axis_title = 'Anteil',\n",
    "    add_corporas = sub_df, add_corpora_names = sub_names,\n",
    "    add_corpora_categories = ['1stoffgebiet_share', '2stoffgebiet_share', '3stoffgebiet_share']\n",
    ")\n",
    "fig = update_fig_for_publication(fig)\n",
    "fig.write_image(f\"plots/6.4.1 Anzahl behandelter Stoffgebiete im Zeitverlauf.pdf\")\n",
    "fig.show()"
   ]
  },
  {
   "cell_type": "code",
   "execution_count": 14,
   "id": "16964d60",
   "metadata": {},
   "outputs": [],
   "source": [
    "main_feature = 'stoffgebiet_count'"
   ]
  },
  {
   "cell_type": "code",
   "execution_count": 15,
   "id": "153186c4",
   "metadata": {},
   "outputs": [
    {
     "data": {
      "text/plain": [
       "stoffgebiet_count         1.000000\n",
       "stoffgebiet_positiv       0.298947\n",
       "tod                       0.271463\n",
       "stoffgebiet_negativ       0.261819\n",
       "stoffgebiet_neutral       0.249774\n",
       "religion                  0.193423\n",
       "politik                   0.191813\n",
       "nation_volk_d_positiv     0.151197\n",
       "liebe                     0.146108\n",
       "kollektiv_negativ         0.133083\n",
       "zeitebenen                0.132739\n",
       "stoffgebiet_ambivalent    0.128008\n",
       "mittelraum_count          0.123801\n",
       "nation_volk_d             0.109854\n",
       "words                     0.102209\n",
       "ereignis                  0.088353\n",
       "marker_count              0.085259\n",
       "kleinraum_count           0.084622\n",
       "tod_positiv               0.082412\n",
       "persmarker_vorhanden      0.077888\n",
       "Name: stoffgebiet_count, dtype: float64"
      ]
     },
     "execution_count": 15,
     "metadata": {},
     "output_type": "execute_result"
    }
   ],
   "source": [
    "meta_anth_bin.corr(numeric_only=True)[main_feature].sort_values(ascending = False).head(20)"
   ]
  },
  {
   "cell_type": "code",
   "execution_count": 16,
   "id": "7fb6d853",
   "metadata": {},
   "outputs": [
    {
     "data": {
      "text/plain": [
       "liebe_positiv                    -0.177151\n",
       "tod_negativ                      -0.106305\n",
       "krieg_positiv                    -0.104908\n",
       "nation_volk_d_negativ            -0.104290\n",
       "geschichtsauffassung_positiv     -0.068672\n",
       "neuzeit                          -0.061192\n",
       "nogenre                          -0.055455\n",
       "verfremdung                      -0.053236\n",
       "kollektiv_count                  -0.050258\n",
       "ende                             -0.038850\n",
       "zeit_mitte                       -0.037505\n",
       "ortmarker_vorhanden              -0.037072\n",
       "beginn                           -0.035379\n",
       "lied                             -0.034982\n",
       "kollektiv_positiv                -0.034060\n",
       "wissen_identisch                 -0.034059\n",
       "sonett                           -0.032882\n",
       "wissen                           -0.031754\n",
       "entity_neutral                   -0.030090\n",
       "sprechakt_auffordern_vorhanden   -0.025803\n",
       "Name: stoffgebiet_count, dtype: float64"
      ]
     },
     "execution_count": 16,
     "metadata": {},
     "output_type": "execute_result"
    }
   ],
   "source": [
    "meta_anth_bin.corr(numeric_only=True)[main_feature].sort_values(ascending = True).head(20)"
   ]
  },
  {
   "cell_type": "code",
   "execution_count": 17,
   "id": "723c19df",
   "metadata": {},
   "outputs": [],
   "source": [
    "threshold = 0.15\n",
    "\n",
    "bin_comp_features = get_features(meta_anth_bin.corr(numeric_only=True)[main_feature], threshold = threshold, mode = 'bin')\n",
    "cont_comp_features = get_features(meta_anth_bin.corr(numeric_only=True)[main_feature], threshold = threshold, mode = 'cont')"
   ]
  },
  {
   "cell_type": "code",
   "execution_count": 18,
   "id": "cb9ba071",
   "metadata": {},
   "outputs": [],
   "source": [
    "results = relations_contbin(\n",
    "    meta = meta_anth_bin, \n",
    "    main_feature = main_feature,\n",
    "    comp_features = bin_comp_features\n",
    ")"
   ]
  },
  {
   "cell_type": "code",
   "execution_count": 19,
   "id": "32d2acb0",
   "metadata": {},
   "outputs": [
    {
     "data": {
      "text/html": [
       "<div>\n",
       "<style scoped>\n",
       "    .dataframe tbody tr th:only-of-type {\n",
       "        vertical-align: middle;\n",
       "    }\n",
       "\n",
       "    .dataframe tbody tr th {\n",
       "        vertical-align: top;\n",
       "    }\n",
       "\n",
       "    .dataframe thead th {\n",
       "        text-align: right;\n",
       "    }\n",
       "</style>\n",
       "<table border=\"1\" class=\"dataframe\">\n",
       "  <thead>\n",
       "    <tr style=\"text-align: right;\">\n",
       "      <th></th>\n",
       "      <th>wenn stoffgebiet_count = 0: Anteil Texte mit Feature = ...</th>\n",
       "      <th>wenn stoffgebiet_count = 1: Anteil Texte mit Feature = ...</th>\n",
       "      <th>wenn stoffgebiet_count = 2: Anteil Texte mit Feature = ...</th>\n",
       "      <th>wenn stoffgebiet_count = 3: Anteil Texte mit Feature = ...</th>\n",
       "      <th>wenn stoffgebiet_count &gt; 3: Anteil Texte mit Feature = ...</th>\n",
       "      <th>pointbiserialr_corr</th>\n",
       "      <th>pointbiserialr_p</th>\n",
       "      <th>ttest_p</th>\n",
       "      <th>cohens_d</th>\n",
       "      <th>mannwhitneyu_stat</th>\n",
       "      <th>mannwhitneyu_p</th>\n",
       "    </tr>\n",
       "  </thead>\n",
       "  <tbody>\n",
       "    <tr>\n",
       "      <th>stoffgebiet_positiv</th>\n",
       "      <td>0 [0/0]</td>\n",
       "      <td>0.49622799664710815 [592/1193]</td>\n",
       "      <td>0.3376 [211/625]</td>\n",
       "      <td>0.3548387096774194 [11/31]</td>\n",
       "      <td>1.0 [1/1]</td>\n",
       "      <td>0.29895</td>\n",
       "      <td>0.00000</td>\n",
       "      <td>0.49147</td>\n",
       "      <td>0.03372</td>\n",
       "      <td>354665.0</td>\n",
       "      <td>0.35903</td>\n",
       "    </tr>\n",
       "    <tr>\n",
       "      <th>tod</th>\n",
       "      <td>0 [0/0]</td>\n",
       "      <td>0.051969823973176864 [62/1193]</td>\n",
       "      <td>0.232 [145/625]</td>\n",
       "      <td>0.3225806451612903 [10/31]</td>\n",
       "      <td>0.0 [0/1]</td>\n",
       "      <td>0.27146</td>\n",
       "      <td>0.00000</td>\n",
       "      <td>0.00000</td>\n",
       "      <td>-0.85913</td>\n",
       "      <td>104290.0</td>\n",
       "      <td>0.00000</td>\n",
       "    </tr>\n",
       "    <tr>\n",
       "      <th>stoffgebiet_negativ</th>\n",
       "      <td>0 [0/0]</td>\n",
       "      <td>0.18943839061190276 [226/1193]</td>\n",
       "      <td>0.2912 [182/625]</td>\n",
       "      <td>0.3225806451612903 [10/31]</td>\n",
       "      <td>1.0 [1/1]</td>\n",
       "      <td>0.26182</td>\n",
       "      <td>0.00000</td>\n",
       "      <td>0.00000</td>\n",
       "      <td>-0.34553</td>\n",
       "      <td>239605.0</td>\n",
       "      <td>0.00000</td>\n",
       "    </tr>\n",
       "    <tr>\n",
       "      <th>stoffgebiet_neutral</th>\n",
       "      <td>0 [0/0]</td>\n",
       "      <td>0.17015926236378875 [203/1193]</td>\n",
       "      <td>0.1776 [111/625]</td>\n",
       "      <td>0.2903225806451613 [9/31]</td>\n",
       "      <td>1.0 [1/1]</td>\n",
       "      <td>0.24977</td>\n",
       "      <td>0.00000</td>\n",
       "      <td>0.00972</td>\n",
       "      <td>-0.15223</td>\n",
       "      <td>220036.5</td>\n",
       "      <td>0.03043</td>\n",
       "    </tr>\n",
       "    <tr>\n",
       "      <th>religion</th>\n",
       "      <td>0 [0/0]</td>\n",
       "      <td>0.09388097233864208 [112/1193]</td>\n",
       "      <td>0.232 [145/625]</td>\n",
       "      <td>0.3225806451612903 [10/31]</td>\n",
       "      <td>0.0 [0/1]</td>\n",
       "      <td>0.19342</td>\n",
       "      <td>0.00000</td>\n",
       "      <td>0.00000</td>\n",
       "      <td>-0.53968</td>\n",
       "      <td>154865.0</td>\n",
       "      <td>0.00000</td>\n",
       "    </tr>\n",
       "    <tr>\n",
       "      <th>politik</th>\n",
       "      <td>0 [0/0]</td>\n",
       "      <td>0.10477787091366303 [125/1193]</td>\n",
       "      <td>0.2304 [144/625]</td>\n",
       "      <td>0.45161290322580644 [14/31]</td>\n",
       "      <td>0.0 [0/1]</td>\n",
       "      <td>0.19181</td>\n",
       "      <td>0.00000</td>\n",
       "      <td>0.00000</td>\n",
       "      <td>-0.51293</td>\n",
       "      <td>166482.0</td>\n",
       "      <td>0.00000</td>\n",
       "    </tr>\n",
       "    <tr>\n",
       "      <th>nation_volk_d_positiv</th>\n",
       "      <td>0 [0/0]</td>\n",
       "      <td>0.6818181818181818 [15/22]</td>\n",
       "      <td>0.7333333333333333 [22/30]</td>\n",
       "      <td>1.0 [3/3]</td>\n",
       "      <td>1.0 [1/1]</td>\n",
       "      <td>0.15120</td>\n",
       "      <td>0.26599</td>\n",
       "      <td>0.26599</td>\n",
       "      <td>-0.36974</td>\n",
       "      <td>260.5</td>\n",
       "      <td>0.33175</td>\n",
       "    </tr>\n",
       "  </tbody>\n",
       "</table>\n",
       "</div>"
      ],
      "text/plain": [
       "                      wenn stoffgebiet_count = 0: Anteil Texte mit Feature = ...  \\\n",
       "stoffgebiet_positiv                                              0 [0/0]           \n",
       "tod                                                              0 [0/0]           \n",
       "stoffgebiet_negativ                                              0 [0/0]           \n",
       "stoffgebiet_neutral                                              0 [0/0]           \n",
       "religion                                                         0 [0/0]           \n",
       "politik                                                          0 [0/0]           \n",
       "nation_volk_d_positiv                                            0 [0/0]           \n",
       "\n",
       "                      wenn stoffgebiet_count = 1: Anteil Texte mit Feature = ...  \\\n",
       "stoffgebiet_positiv                       0.49622799664710815 [592/1193]           \n",
       "tod                                       0.051969823973176864 [62/1193]           \n",
       "stoffgebiet_negativ                       0.18943839061190276 [226/1193]           \n",
       "stoffgebiet_neutral                       0.17015926236378875 [203/1193]           \n",
       "religion                                  0.09388097233864208 [112/1193]           \n",
       "politik                                   0.10477787091366303 [125/1193]           \n",
       "nation_volk_d_positiv                         0.6818181818181818 [15/22]           \n",
       "\n",
       "                      wenn stoffgebiet_count = 2: Anteil Texte mit Feature = ...  \\\n",
       "stoffgebiet_positiv                                     0.3376 [211/625]           \n",
       "tod                                                      0.232 [145/625]           \n",
       "stoffgebiet_negativ                                     0.2912 [182/625]           \n",
       "stoffgebiet_neutral                                     0.1776 [111/625]           \n",
       "religion                                                 0.232 [145/625]           \n",
       "politik                                                 0.2304 [144/625]           \n",
       "nation_volk_d_positiv                         0.7333333333333333 [22/30]           \n",
       "\n",
       "                      wenn stoffgebiet_count = 3: Anteil Texte mit Feature = ...  \\\n",
       "stoffgebiet_positiv                           0.3548387096774194 [11/31]           \n",
       "tod                                           0.3225806451612903 [10/31]           \n",
       "stoffgebiet_negativ                           0.3225806451612903 [10/31]           \n",
       "stoffgebiet_neutral                            0.2903225806451613 [9/31]           \n",
       "religion                                      0.3225806451612903 [10/31]           \n",
       "politik                                      0.45161290322580644 [14/31]           \n",
       "nation_volk_d_positiv                                          1.0 [3/3]           \n",
       "\n",
       "                      wenn stoffgebiet_count > 3: Anteil Texte mit Feature = ...  \\\n",
       "stoffgebiet_positiv                                            1.0 [1/1]           \n",
       "tod                                                            0.0 [0/1]           \n",
       "stoffgebiet_negativ                                            1.0 [1/1]           \n",
       "stoffgebiet_neutral                                            1.0 [1/1]           \n",
       "religion                                                       0.0 [0/1]           \n",
       "politik                                                        0.0 [0/1]           \n",
       "nation_volk_d_positiv                                          1.0 [1/1]           \n",
       "\n",
       "                       pointbiserialr_corr  pointbiserialr_p  ttest_p  \\\n",
       "stoffgebiet_positiv                0.29895           0.00000  0.49147   \n",
       "tod                                0.27146           0.00000  0.00000   \n",
       "stoffgebiet_negativ                0.26182           0.00000  0.00000   \n",
       "stoffgebiet_neutral                0.24977           0.00000  0.00972   \n",
       "religion                           0.19342           0.00000  0.00000   \n",
       "politik                            0.19181           0.00000  0.00000   \n",
       "nation_volk_d_positiv              0.15120           0.26599  0.26599   \n",
       "\n",
       "                       cohens_d  mannwhitneyu_stat  mannwhitneyu_p  \n",
       "stoffgebiet_positiv     0.03372           354665.0         0.35903  \n",
       "tod                    -0.85913           104290.0         0.00000  \n",
       "stoffgebiet_negativ    -0.34553           239605.0         0.00000  \n",
       "stoffgebiet_neutral    -0.15223           220036.5         0.03043  \n",
       "religion               -0.53968           154865.0         0.00000  \n",
       "politik                -0.51293           166482.0         0.00000  \n",
       "nation_volk_d_positiv  -0.36974              260.5         0.33175  "
      ]
     },
     "execution_count": 19,
     "metadata": {},
     "output_type": "execute_result"
    }
   ],
   "source": [
    "round(results.sort_values(by = 'pointbiserialr_corr', ascending = False), 5).query(\"pointbiserialr_corr >= @threshold\")"
   ]
  },
  {
   "cell_type": "code",
   "execution_count": 20,
   "id": "1b1580f1",
   "metadata": {},
   "outputs": [
    {
     "data": {
      "application/vnd.jupyter.widget-view+json": {
       "model_id": "b1f8fb7791894595aec9dc5724a29b6a",
       "version_major": 2,
       "version_minor": 0
      },
      "text/plain": [
       "  0%|          | 0/14 [00:00<?, ?it/s]"
      ]
     },
     "metadata": {},
     "output_type": "display_data"
    },
    {
     "data": {
      "text/html": [
       "<div>\n",
       "<style scoped>\n",
       "    .dataframe tbody tr th:only-of-type {\n",
       "        vertical-align: middle;\n",
       "    }\n",
       "\n",
       "    .dataframe tbody tr th {\n",
       "        vertical-align: top;\n",
       "    }\n",
       "\n",
       "    .dataframe thead th {\n",
       "        text-align: right;\n",
       "    }\n",
       "</style>\n",
       "<table border=\"1\" class=\"dataframe\">\n",
       "  <thead>\n",
       "    <tr style=\"text-align: right;\">\n",
       "      <th></th>\n",
       "      <th>wenn stoffgebiet_count = 1: Anteil mit Feature = ...</th>\n",
       "      <th>wenn stoffgebiet_count = 2: Anteil mit Feature = ...</th>\n",
       "      <th>wenn stoffgebiet_count = 3: Anteil mit Feature = ...</th>\n",
       "      <th>pointbiserialr_corr</th>\n",
       "      <th>pointbiserialr_p</th>\n",
       "      <th>mannwhitneyu_stat</th>\n",
       "      <th>mannwhitneyu_p</th>\n",
       "    </tr>\n",
       "  </thead>\n",
       "  <tbody>\n",
       "    <tr>\n",
       "      <th>stoffgebiet_positiv</th>\n",
       "      <td>0.4962 [592/1193]</td>\n",
       "      <td>0.4424 [553/1250]</td>\n",
       "      <td>0.4086 [38/93]</td>\n",
       "      <td>-0.059239</td>\n",
       "      <td>0.002820</td>\n",
       "      <td>754693.0</td>\n",
       "      <td>0.003110</td>\n",
       "    </tr>\n",
       "    <tr>\n",
       "      <th>kollektiv_positiv</th>\n",
       "      <td>0.3883 [278/716]</td>\n",
       "      <td>0.3343 [112/335]</td>\n",
       "      <td>0.4167 [5/12]</td>\n",
       "      <td>-0.037633</td>\n",
       "      <td>0.219991</td>\n",
       "      <td>126416.5</td>\n",
       "      <td>0.138648</td>\n",
       "    </tr>\n",
       "    <tr>\n",
       "      <th>entity_neutral</th>\n",
       "      <td>0.3095 [772/2494]</td>\n",
       "      <td>0.269 [364/1353]</td>\n",
       "      <td>0.303 [20/66]</td>\n",
       "      <td>-0.036774</td>\n",
       "      <td>0.021374</td>\n",
       "      <td>1528936.0</td>\n",
       "      <td>0.012939</td>\n",
       "    </tr>\n",
       "    <tr>\n",
       "      <th>unbekanntes_individuum_negativ</th>\n",
       "      <td>0.1388 [54/389]</td>\n",
       "      <td>0.1087 [25/230]</td>\n",
       "      <td>0.1667 [2/12]</td>\n",
       "      <td>-0.032366</td>\n",
       "      <td>0.417008</td>\n",
       "      <td>21072.5</td>\n",
       "      <td>0.354159</td>\n",
       "    </tr>\n",
       "    <tr>\n",
       "      <th>stoffgebiet_ambivalent</th>\n",
       "      <td>0.1442 [172/1193]</td>\n",
       "      <td>0.1248 [156/1250]</td>\n",
       "      <td>0.0968 [9/93]</td>\n",
       "      <td>-0.031760</td>\n",
       "      <td>0.109539</td>\n",
       "      <td>354027.5</td>\n",
       "      <td>0.101758</td>\n",
       "    </tr>\n",
       "    <tr>\n",
       "      <th>bekanntes_individuum_negativ</th>\n",
       "      <td>0.1375 [174/1265]</td>\n",
       "      <td>0.1371 [99/722]</td>\n",
       "      <td>0.0789 [3/38]</td>\n",
       "      <td>-0.010307</td>\n",
       "      <td>0.642961</td>\n",
       "      <td>238959.0</td>\n",
       "      <td>0.752280</td>\n",
       "    </tr>\n",
       "    <tr>\n",
       "      <th>unbekanntes_individuum_positiv</th>\n",
       "      <td>0.3445 [134/389]</td>\n",
       "      <td>0.3435 [79/230]</td>\n",
       "      <td>0.3333 [4/12]</td>\n",
       "      <td>-0.002214</td>\n",
       "      <td>0.955735</td>\n",
       "      <td>44834.5</td>\n",
       "      <td>0.963631</td>\n",
       "    </tr>\n",
       "    <tr>\n",
       "      <th>entity_positiv</th>\n",
       "      <td>0.4707 [1174/2494]</td>\n",
       "      <td>0.493 [667/1353]</td>\n",
       "      <td>0.4394 [29/66]</td>\n",
       "      <td>0.013854</td>\n",
       "      <td>0.386112</td>\n",
       "      <td>1944815.5</td>\n",
       "      <td>0.283551</td>\n",
       "    </tr>\n",
       "    <tr>\n",
       "      <th>entity_negativ</th>\n",
       "      <td>0.1596 [398/2494]</td>\n",
       "      <td>0.1737 [235/1353]</td>\n",
       "      <td>0.1667 [11/66]</td>\n",
       "      <td>0.014873</td>\n",
       "      <td>0.352133</td>\n",
       "      <td>1076685.5</td>\n",
       "      <td>0.292580</td>\n",
       "    </tr>\n",
       "    <tr>\n",
       "      <th>entity_ambivalent</th>\n",
       "      <td>0.0601 [150/2494]</td>\n",
       "      <td>0.0643 [87/1353]</td>\n",
       "      <td>0.0909 [6/66]</td>\n",
       "      <td>0.017976</td>\n",
       "      <td>0.260735</td>\n",
       "      <td>460310.0</td>\n",
       "      <td>0.389143</td>\n",
       "    </tr>\n",
       "    <tr>\n",
       "      <th>bekanntes_individuum_positiv</th>\n",
       "      <td>0.5534 [700/1265]</td>\n",
       "      <td>0.5997 [433/722]</td>\n",
       "      <td>0.5 [19/38]</td>\n",
       "      <td>0.032300</td>\n",
       "      <td>0.146233</td>\n",
       "      <td>521370.0</td>\n",
       "      <td>0.091829</td>\n",
       "    </tr>\n",
       "    <tr>\n",
       "      <th>stoffgebiet_negativ</th>\n",
       "      <td>0.1894 [226/1193]</td>\n",
       "      <td>0.232 [290/1250]</td>\n",
       "      <td>0.2043 [19/93]</td>\n",
       "      <td>0.042871</td>\n",
       "      <td>0.030728</td>\n",
       "      <td>568219.5</td>\n",
       "      <td>0.019144</td>\n",
       "    </tr>\n",
       "    <tr>\n",
       "      <th>stoffgebiet_neutral</th>\n",
       "      <td>0.1702 [203/1193]</td>\n",
       "      <td>0.2008 [251/1250]</td>\n",
       "      <td>0.2903 [27/93]</td>\n",
       "      <td>0.058264</td>\n",
       "      <td>0.003309</td>\n",
       "      <td>531000.0</td>\n",
       "      <td>0.006123</td>\n",
       "    </tr>\n",
       "    <tr>\n",
       "      <th>kollektiv_negativ</th>\n",
       "      <td>0.2193 [157/716]</td>\n",
       "      <td>0.3134 [105/335]</td>\n",
       "      <td>0.5 [6/12]</td>\n",
       "      <td>0.111212</td>\n",
       "      <td>0.000278</td>\n",
       "      <td>119403.5</td>\n",
       "      <td>0.000327</td>\n",
       "    </tr>\n",
       "  </tbody>\n",
       "</table>\n",
       "</div>"
      ],
      "text/plain": [
       "                               wenn stoffgebiet_count = 1: Anteil mit Feature = ...  \\\n",
       "stoffgebiet_positiv                                             0.4962 [592/1193]     \n",
       "kollektiv_positiv                                                0.3883 [278/716]     \n",
       "entity_neutral                                                  0.3095 [772/2494]     \n",
       "unbekanntes_individuum_negativ                                    0.1388 [54/389]     \n",
       "stoffgebiet_ambivalent                                          0.1442 [172/1193]     \n",
       "bekanntes_individuum_negativ                                    0.1375 [174/1265]     \n",
       "unbekanntes_individuum_positiv                                   0.3445 [134/389]     \n",
       "entity_positiv                                                 0.4707 [1174/2494]     \n",
       "entity_negativ                                                  0.1596 [398/2494]     \n",
       "entity_ambivalent                                               0.0601 [150/2494]     \n",
       "bekanntes_individuum_positiv                                    0.5534 [700/1265]     \n",
       "stoffgebiet_negativ                                             0.1894 [226/1193]     \n",
       "stoffgebiet_neutral                                             0.1702 [203/1193]     \n",
       "kollektiv_negativ                                                0.2193 [157/716]     \n",
       "\n",
       "                               wenn stoffgebiet_count = 2: Anteil mit Feature = ...  \\\n",
       "stoffgebiet_positiv                                             0.4424 [553/1250]     \n",
       "kollektiv_positiv                                                0.3343 [112/335]     \n",
       "entity_neutral                                                   0.269 [364/1353]     \n",
       "unbekanntes_individuum_negativ                                    0.1087 [25/230]     \n",
       "stoffgebiet_ambivalent                                          0.1248 [156/1250]     \n",
       "bekanntes_individuum_negativ                                      0.1371 [99/722]     \n",
       "unbekanntes_individuum_positiv                                    0.3435 [79/230]     \n",
       "entity_positiv                                                   0.493 [667/1353]     \n",
       "entity_negativ                                                  0.1737 [235/1353]     \n",
       "entity_ambivalent                                                0.0643 [87/1353]     \n",
       "bekanntes_individuum_positiv                                     0.5997 [433/722]     \n",
       "stoffgebiet_negativ                                              0.232 [290/1250]     \n",
       "stoffgebiet_neutral                                             0.2008 [251/1250]     \n",
       "kollektiv_negativ                                                0.3134 [105/335]     \n",
       "\n",
       "                               wenn stoffgebiet_count = 3: Anteil mit Feature = ...  \\\n",
       "stoffgebiet_positiv                                                0.4086 [38/93]     \n",
       "kollektiv_positiv                                                   0.4167 [5/12]     \n",
       "entity_neutral                                                      0.303 [20/66]     \n",
       "unbekanntes_individuum_negativ                                      0.1667 [2/12]     \n",
       "stoffgebiet_ambivalent                                              0.0968 [9/93]     \n",
       "bekanntes_individuum_negativ                                        0.0789 [3/38]     \n",
       "unbekanntes_individuum_positiv                                      0.3333 [4/12]     \n",
       "entity_positiv                                                     0.4394 [29/66]     \n",
       "entity_negativ                                                     0.1667 [11/66]     \n",
       "entity_ambivalent                                                   0.0909 [6/66]     \n",
       "bekanntes_individuum_positiv                                          0.5 [19/38]     \n",
       "stoffgebiet_negativ                                                0.2043 [19/93]     \n",
       "stoffgebiet_neutral                                                0.2903 [27/93]     \n",
       "kollektiv_negativ                                                      0.5 [6/12]     \n",
       "\n",
       "                                pointbiserialr_corr  pointbiserialr_p  \\\n",
       "stoffgebiet_positiv                       -0.059239          0.002820   \n",
       "kollektiv_positiv                         -0.037633          0.219991   \n",
       "entity_neutral                            -0.036774          0.021374   \n",
       "unbekanntes_individuum_negativ            -0.032366          0.417008   \n",
       "stoffgebiet_ambivalent                    -0.031760          0.109539   \n",
       "bekanntes_individuum_negativ              -0.010307          0.642961   \n",
       "unbekanntes_individuum_positiv            -0.002214          0.955735   \n",
       "entity_positiv                             0.013854          0.386112   \n",
       "entity_negativ                             0.014873          0.352133   \n",
       "entity_ambivalent                          0.017976          0.260735   \n",
       "bekanntes_individuum_positiv               0.032300          0.146233   \n",
       "stoffgebiet_negativ                        0.042871          0.030728   \n",
       "stoffgebiet_neutral                        0.058264          0.003309   \n",
       "kollektiv_negativ                          0.111212          0.000278   \n",
       "\n",
       "                                mannwhitneyu_stat  mannwhitneyu_p  \n",
       "stoffgebiet_positiv                      754693.0        0.003110  \n",
       "kollektiv_positiv                        126416.5        0.138648  \n",
       "entity_neutral                          1528936.0        0.012939  \n",
       "unbekanntes_individuum_negativ            21072.5        0.354159  \n",
       "stoffgebiet_ambivalent                   354027.5        0.101758  \n",
       "bekanntes_individuum_negativ             238959.0        0.752280  \n",
       "unbekanntes_individuum_positiv            44834.5        0.963631  \n",
       "entity_positiv                          1944815.5        0.283551  \n",
       "entity_negativ                          1076685.5        0.292580  \n",
       "entity_ambivalent                        460310.0        0.389143  \n",
       "bekanntes_individuum_positiv             521370.0        0.091829  \n",
       "stoffgebiet_negativ                      568219.5        0.019144  \n",
       "stoffgebiet_neutral                      531000.0        0.006123  \n",
       "kollektiv_negativ                        119403.5        0.000327  "
      ]
     },
     "execution_count": 20,
     "metadata": {},
     "output_type": "execute_result"
    }
   ],
   "source": [
    "results = relations_contbin_ratings(meta_anth_bin, main_feature, max_count = 3)\n",
    "results.sort_values(by = 'pointbiserialr_corr')"
   ]
  },
  {
   "cell_type": "code",
   "execution_count": 21,
   "id": "b460fe73",
   "metadata": {},
   "outputs": [],
   "source": [
    "results = relations_contcont(\n",
    "    meta = meta_anth_bin, \n",
    "    main_feature = main_feature,\n",
    "    comp_features = cont_comp_features + ['words']\n",
    ")"
   ]
  },
  {
   "cell_type": "code",
   "execution_count": 22,
   "id": "7ffc10ca",
   "metadata": {},
   "outputs": [
    {
     "data": {
      "text/html": [
       "<div>\n",
       "<style scoped>\n",
       "    .dataframe tbody tr th:only-of-type {\n",
       "        vertical-align: middle;\n",
       "    }\n",
       "\n",
       "    .dataframe tbody tr th {\n",
       "        vertical-align: top;\n",
       "    }\n",
       "\n",
       "    .dataframe thead th {\n",
       "        text-align: right;\n",
       "    }\n",
       "</style>\n",
       "<table border=\"1\" class=\"dataframe\">\n",
       "  <thead>\n",
       "    <tr style=\"text-align: right;\">\n",
       "      <th></th>\n",
       "      <th>wenn stoffgebiet_count = 0: Mittelwert Feature = ...</th>\n",
       "      <th>wenn stoffgebiet_count = 1: Mittelwert Feature = ...</th>\n",
       "      <th>wenn stoffgebiet_count = 2: Mittelwert Feature = ...</th>\n",
       "      <th>wenn stoffgebiet_count = 3: Mittelwert Feature = ...</th>\n",
       "      <th>wenn stoffgebiet_count &gt; 3: Mittelwert Feature = ...</th>\n",
       "      <th>pearsonr_corr</th>\n",
       "      <th>pearsonr_p</th>\n",
       "    </tr>\n",
       "  </thead>\n",
       "  <tbody>\n",
       "    <tr>\n",
       "      <th>words</th>\n",
       "      <td>NaN</td>\n",
       "      <td>297.2928</td>\n",
       "      <td>337.7221</td>\n",
       "      <td>410.6207</td>\n",
       "      <td>248.0</td>\n",
       "      <td>0.1022</td>\n",
       "      <td>0.0</td>\n",
       "    </tr>\n",
       "  </tbody>\n",
       "</table>\n",
       "</div>"
      ],
      "text/plain": [
       "       wenn stoffgebiet_count = 0: Mittelwert Feature = ...  \\\n",
       "words                                                NaN      \n",
       "\n",
       "       wenn stoffgebiet_count = 1: Mittelwert Feature = ...  \\\n",
       "words                                           297.2928      \n",
       "\n",
       "       wenn stoffgebiet_count = 2: Mittelwert Feature = ...  \\\n",
       "words                                           337.7221      \n",
       "\n",
       "       wenn stoffgebiet_count = 3: Mittelwert Feature = ...  \\\n",
       "words                                           410.6207      \n",
       "\n",
       "       wenn stoffgebiet_count > 3: Mittelwert Feature = ...  pearsonr_corr  \\\n",
       "words                                              248.0            0.1022   \n",
       "\n",
       "       pearsonr_p  \n",
       "words         0.0  "
      ]
     },
     "execution_count": 22,
     "metadata": {},
     "output_type": "execute_result"
    }
   ],
   "source": [
    "round(results.sort_values(by = 'pearsonr_corr', ascending = False), 4)"
   ]
  },
  {
   "cell_type": "markdown",
   "id": "45221c71",
   "metadata": {},
   "source": [
    "# Häufigste Stoffgebiete"
   ]
  },
  {
   "cell_type": "code",
   "execution_count": 23,
   "id": "820ebcb3",
   "metadata": {},
   "outputs": [],
   "source": [
    "top_stoffgebiete = pd.DataFrame()\n",
    "\n",
    "top_stoffgebiete['Stoffgebiet'] = meta_anth_ratings['type'].value_counts().index\n",
    "top_stoffgebiete['Anzahl'] = meta_anth_ratings['type'].value_counts().tolist()\n",
    "top_stoffgebiete['Anteil an Texten'] = top_stoffgebiete['Anzahl'] / meta_anth.shape[0]\n",
    "top_stoffgebiete['Anteil an Stoffgebieten'] = top_stoffgebiete['Anzahl'] / top_stoffgebiete['Anzahl'].sum()"
   ]
  },
  {
   "cell_type": "code",
   "execution_count": 24,
   "id": "65afbea1",
   "metadata": {},
   "outputs": [
    {
     "data": {
      "text/html": [
       "<div>\n",
       "<style scoped>\n",
       "    .dataframe tbody tr th:only-of-type {\n",
       "        vertical-align: middle;\n",
       "    }\n",
       "\n",
       "    .dataframe tbody tr th {\n",
       "        vertical-align: top;\n",
       "    }\n",
       "\n",
       "    .dataframe thead th {\n",
       "        text-align: right;\n",
       "    }\n",
       "</style>\n",
       "<table border=\"1\" class=\"dataframe\">\n",
       "  <thead>\n",
       "    <tr style=\"text-align: right;\">\n",
       "      <th></th>\n",
       "      <th>Stoffgebiet</th>\n",
       "      <th>Anzahl</th>\n",
       "      <th>Anteil an Texten</th>\n",
       "      <th>Anteil an Stoffgebieten</th>\n",
       "    </tr>\n",
       "  </thead>\n",
       "  <tbody>\n",
       "    <tr>\n",
       "      <th>0</th>\n",
       "      <td>Militär/Krieg</td>\n",
       "      <td>797</td>\n",
       "      <td>0.430811</td>\n",
       "      <td>0.313780</td>\n",
       "    </tr>\n",
       "    <tr>\n",
       "      <th>1</th>\n",
       "      <td>Politik</td>\n",
       "      <td>284</td>\n",
       "      <td>0.153514</td>\n",
       "      <td>0.111811</td>\n",
       "    </tr>\n",
       "    <tr>\n",
       "      <th>2</th>\n",
       "      <td>Religion</td>\n",
       "      <td>267</td>\n",
       "      <td>0.144324</td>\n",
       "      <td>0.105118</td>\n",
       "    </tr>\n",
       "    <tr>\n",
       "      <th>3</th>\n",
       "      <td>Tod</td>\n",
       "      <td>217</td>\n",
       "      <td>0.117297</td>\n",
       "      <td>0.085433</td>\n",
       "    </tr>\n",
       "    <tr>\n",
       "      <th>4</th>\n",
       "      <td>Liebe</td>\n",
       "      <td>63</td>\n",
       "      <td>0.034054</td>\n",
       "      <td>0.024803</td>\n",
       "    </tr>\n",
       "    <tr>\n",
       "      <th>5</th>\n",
       "      <td>Literatur</td>\n",
       "      <td>60</td>\n",
       "      <td>0.032432</td>\n",
       "      <td>0.023622</td>\n",
       "    </tr>\n",
       "    <tr>\n",
       "      <th>6</th>\n",
       "      <td>Nation/Volk-D</td>\n",
       "      <td>56</td>\n",
       "      <td>0.030270</td>\n",
       "      <td>0.022047</td>\n",
       "    </tr>\n",
       "    <tr>\n",
       "      <th>7</th>\n",
       "      <td>Geschichte</td>\n",
       "      <td>48</td>\n",
       "      <td>0.025946</td>\n",
       "      <td>0.018898</td>\n",
       "    </tr>\n",
       "    <tr>\n",
       "      <th>8</th>\n",
       "      <td>Mord</td>\n",
       "      <td>44</td>\n",
       "      <td>0.023784</td>\n",
       "      <td>0.017323</td>\n",
       "    </tr>\n",
       "    <tr>\n",
       "      <th>9</th>\n",
       "      <td>Recht</td>\n",
       "      <td>40</td>\n",
       "      <td>0.021622</td>\n",
       "      <td>0.015748</td>\n",
       "    </tr>\n",
       "    <tr>\n",
       "      <th>10</th>\n",
       "      <td>Hinrichtung</td>\n",
       "      <td>34</td>\n",
       "      <td>0.018378</td>\n",
       "      <td>0.013386</td>\n",
       "    </tr>\n",
       "    <tr>\n",
       "      <th>11</th>\n",
       "      <td>Herrscherliches Handeln</td>\n",
       "      <td>32</td>\n",
       "      <td>0.017297</td>\n",
       "      <td>0.012598</td>\n",
       "    </tr>\n",
       "    <tr>\n",
       "      <th>12</th>\n",
       "      <td>Aufstand/Revolution</td>\n",
       "      <td>29</td>\n",
       "      <td>0.015676</td>\n",
       "      <td>0.011417</td>\n",
       "    </tr>\n",
       "    <tr>\n",
       "      <th>13</th>\n",
       "      <td>Verbrechen</td>\n",
       "      <td>28</td>\n",
       "      <td>0.015135</td>\n",
       "      <td>0.011024</td>\n",
       "    </tr>\n",
       "    <tr>\n",
       "      <th>14</th>\n",
       "      <td>Architektur</td>\n",
       "      <td>28</td>\n",
       "      <td>0.015135</td>\n",
       "      <td>0.011024</td>\n",
       "    </tr>\n",
       "    <tr>\n",
       "      <th>15</th>\n",
       "      <td>Auferstehung/Geister</td>\n",
       "      <td>27</td>\n",
       "      <td>0.014595</td>\n",
       "      <td>0.010630</td>\n",
       "    </tr>\n",
       "    <tr>\n",
       "      <th>16</th>\n",
       "      <td>Gesundheit</td>\n",
       "      <td>25</td>\n",
       "      <td>0.013514</td>\n",
       "      <td>0.009843</td>\n",
       "    </tr>\n",
       "    <tr>\n",
       "      <th>17</th>\n",
       "      <td>Natur</td>\n",
       "      <td>22</td>\n",
       "      <td>0.011892</td>\n",
       "      <td>0.008661</td>\n",
       "    </tr>\n",
       "    <tr>\n",
       "      <th>18</th>\n",
       "      <td>Gefangenschaft</td>\n",
       "      <td>21</td>\n",
       "      <td>0.011351</td>\n",
       "      <td>0.008268</td>\n",
       "    </tr>\n",
       "    <tr>\n",
       "      <th>19</th>\n",
       "      <td>Kunst</td>\n",
       "      <td>21</td>\n",
       "      <td>0.011351</td>\n",
       "      <td>0.008268</td>\n",
       "    </tr>\n",
       "  </tbody>\n",
       "</table>\n",
       "</div>"
      ],
      "text/plain": [
       "                Stoffgebiet  Anzahl  Anteil an Texten  Anteil an Stoffgebieten\n",
       "0             Militär/Krieg     797          0.430811                 0.313780\n",
       "1                   Politik     284          0.153514                 0.111811\n",
       "2                  Religion     267          0.144324                 0.105118\n",
       "3                       Tod     217          0.117297                 0.085433\n",
       "4                     Liebe      63          0.034054                 0.024803\n",
       "5                 Literatur      60          0.032432                 0.023622\n",
       "6             Nation/Volk-D      56          0.030270                 0.022047\n",
       "7                Geschichte      48          0.025946                 0.018898\n",
       "8                      Mord      44          0.023784                 0.017323\n",
       "9                     Recht      40          0.021622                 0.015748\n",
       "10              Hinrichtung      34          0.018378                 0.013386\n",
       "11  Herrscherliches Handeln      32          0.017297                 0.012598\n",
       "12      Aufstand/Revolution      29          0.015676                 0.011417\n",
       "13               Verbrechen      28          0.015135                 0.011024\n",
       "14              Architektur      28          0.015135                 0.011024\n",
       "15     Auferstehung/Geister      27          0.014595                 0.010630\n",
       "16               Gesundheit      25          0.013514                 0.009843\n",
       "17                    Natur      22          0.011892                 0.008661\n",
       "18           Gefangenschaft      21          0.011351                 0.008268\n",
       "19                    Kunst      21          0.011351                 0.008268"
      ]
     },
     "execution_count": 24,
     "metadata": {},
     "output_type": "execute_result"
    }
   ],
   "source": [
    "top_stoffgebiete.head(20)"
   ]
  },
  {
   "cell_type": "code",
   "execution_count": 25,
   "id": "4a28ef50",
   "metadata": {},
   "outputs": [
    {
     "name": "stdout",
     "output_type": "stream",
     "text": [
      "Anteil an Stoffgebieten : 0.7385826771653543\n"
     ]
    }
   ],
   "source": [
    "# Häufigste 10 Stoffgebiete (Anthologiekorpus)\n",
    "print(f\"Anteil an Stoffgebieten : {top_stoffgebiete.head(10)['Anteil an Stoffgebieten'].sum()}\")"
   ]
  },
  {
   "cell_type": "code",
   "execution_count": 26,
   "id": "3439c928",
   "metadata": {},
   "outputs": [
    {
     "name": "stdout",
     "output_type": "stream",
     "text": [
      "Anteil an Stoffgebieten               : 0.6161417322834646\n",
      "Texte mit min. einem der Stoffgebiete : 0.72\n"
     ]
    }
   ],
   "source": [
    "# Häufigste 4 Stoffgebiete (Anthologiekorpus)\n",
    "print(f\"Anteil an Stoffgebieten               : {top_stoffgebiete.head(4)['Anteil an Stoffgebieten'].sum()}\")\n",
    "\n",
    "krieg_titles = meta_anth.query(\"stoffgebiet.str.contains('Krieg')\")['author_title'].tolist()\n",
    "politik_titles = meta_anth.query(\"stoffgebiet.str.contains('Politik')\")['author_title'].tolist()\n",
    "religion_titles = meta_anth.query(\"stoffgebiet.str.contains('Religion')\")['author_title'].tolist()\n",
    "tod_titles = meta_anth.query(\"stoffgebiet.str.contains('Tod')\")['author_title'].tolist()\n",
    "all_titles = set(krieg_titles + politik_titles + religion_titles + tod_titles)\n",
    "\n",
    "print(f\"Texte mit min. einem der Stoffgebiete : {len(all_titles)/meta_anth.shape[0]}\")"
   ]
  },
  {
   "cell_type": "code",
   "execution_count": 27,
   "id": "2180ee08",
   "metadata": {},
   "outputs": [
    {
     "data": {
      "application/vnd.plotly.v1+json": {
       "config": {
        "plotlyServerURL": "https://plot.ly"
       },
       "data": [
        {
         "line": {
          "color": "#636EFA",
          "width": 6
         },
         "mode": "lines",
         "name": "Militär/Krieg",
         "type": "scatter",
         "x": [
          1850,
          1851,
          1852,
          1853,
          1854,
          1855,
          1856,
          1857,
          1858,
          1859,
          1860,
          1861,
          1862,
          1863,
          1864,
          1865,
          1866,
          1867,
          1868,
          1869,
          1870,
          1871,
          1872,
          1873,
          1874,
          1875,
          1876,
          1877,
          1878,
          1879,
          1880,
          1881,
          1882,
          1883,
          1884,
          1885,
          1886,
          1887,
          1888,
          1889,
          1890,
          1891,
          1892,
          1893,
          1894,
          1895,
          1896,
          1897,
          1898,
          1899,
          1900,
          1901,
          1902,
          1903,
          1904,
          1905,
          1906,
          1907,
          1908,
          1909,
          1910,
          1911,
          1912,
          1913,
          1914,
          1915,
          1916,
          1917,
          1918
         ],
         "y": [
          null,
          null,
          null,
          null,
          null,
          0.2753032108751045,
          0.28469492378417227,
          0.28500643504891204,
          0.29781870652188497,
          0.3161325731449946,
          0.3241126301442467,
          0.33091665364592304,
          0.318945807286836,
          0.3154794060184556,
          0.3031434035678653,
          0.31755658779258455,
          0.32471417070622094,
          0.31082545047470633,
          0.31186518047839085,
          0.3138271462475337,
          0.31319806322394217,
          0.3176136076517173,
          0.32170155948253015,
          0.32364904177947473,
          0.3252956427232187,
          0.3326225531828692,
          0.3123149733679458,
          0.30245387108268634,
          0.30956610472086454,
          0.3094403560504769,
          0.31188889482504495,
          0.3077730582625494,
          0.3072877335111763,
          0.2837665941704192,
          0.293987114194431,
          0.29776721471812806,
          0.30019218746560616,
          0.3026772271209501,
          0.3106028131698669,
          0.31536668939526513,
          0.3231191918143602,
          0.3172860666930166,
          0.3090892339700917,
          0.30123293766358566,
          0.31548563686666437,
          0.2962032184197683,
          0.2782040215883138,
          0.26426697997865484,
          0.27201824444199796,
          0.25166026851792783,
          0.2737199539566181,
          0.2916864964696436,
          0.3138328866645903,
          0.35052794355261935,
          0.38812393680007845,
          0.39628679127627187,
          0.4088743571395828,
          0.4215359418709453,
          0.42677827645180466,
          0.44388713537133045,
          0.45220372271821613,
          0.45041211221736427,
          0.451642111815062,
          0.44999979245702576,
          null,
          null,
          null,
          null,
          null
         ]
        },
        {
         "line": {
          "color": "#EF553B",
          "width": 6
         },
         "mode": "lines",
         "name": "Politik",
         "type": "scatter",
         "x": [
          1850,
          1851,
          1852,
          1853,
          1854,
          1855,
          1856,
          1857,
          1858,
          1859,
          1860,
          1861,
          1862,
          1863,
          1864,
          1865,
          1866,
          1867,
          1868,
          1869,
          1870,
          1871,
          1872,
          1873,
          1874,
          1875,
          1876,
          1877,
          1878,
          1879,
          1880,
          1881,
          1882,
          1883,
          1884,
          1885,
          1886,
          1887,
          1888,
          1889,
          1890,
          1891,
          1892,
          1893,
          1894,
          1895,
          1896,
          1897,
          1898,
          1899,
          1900,
          1901,
          1902,
          1903,
          1904,
          1905,
          1906,
          1907,
          1908,
          1909,
          1910,
          1911,
          1912,
          1913,
          1914,
          1915,
          1916,
          1917,
          1918
         ],
         "y": [
          null,
          null,
          null,
          null,
          null,
          0.1323481213746137,
          0.13117568284087402,
          0.13126930573502218,
          0.12305743979091828,
          0.11795094273159895,
          0.1046692450897363,
          0.10937686966502506,
          0.11148490855904909,
          0.11508945994031873,
          0.11760575680081925,
          0.12259585101395747,
          0.12436511655253807,
          0.12396564648844378,
          0.125434216672588,
          0.12747416334093487,
          0.12722625186544878,
          0.12421369237078157,
          0.11763255721034081,
          0.11401599818328005,
          0.11126160535839232,
          0.10736721717629083,
          0.10886719800430672,
          0.10492785610775944,
          0.11016373585459607,
          0.10858856492826764,
          0.11287249655907333,
          0.11594123575712953,
          0.11400054956737854,
          0.12477777150265716,
          0.12700266228906637,
          0.12711653424588165,
          0.12012223136659214,
          0.11357976645147001,
          0.1148834026444911,
          0.10645841829304338,
          0.10408512859331695,
          0.09127224652398308,
          0.0952092091051492,
          0.10212708202160452,
          0.08926741049298587,
          0.0941467660402955,
          0.10835848137051514,
          0.12896151778299983,
          0.12858887415238113,
          0.128446077392324,
          0.12411383398610921,
          0.10464800594808367,
          0.09301365218646493,
          0.07217131041874332,
          0.05835159103981145,
          0.05880974302481066,
          0.03986966321069381,
          0.03368990753295907,
          0.03691213533070613,
          0.04216709924953138,
          0.043002267111684325,
          0.043133629943698695,
          0.04871547623280538,
          0.05774458856019551,
          null,
          null,
          null,
          null,
          null
         ]
        },
        {
         "line": {
          "color": "#00CC96",
          "width": 6
         },
         "mode": "lines",
         "name": "Religion",
         "type": "scatter",
         "x": [
          1850,
          1851,
          1852,
          1853,
          1854,
          1855,
          1856,
          1857,
          1858,
          1859,
          1860,
          1861,
          1862,
          1863,
          1864,
          1865,
          1866,
          1867,
          1868,
          1869,
          1870,
          1871,
          1872,
          1873,
          1874,
          1875,
          1876,
          1877,
          1878,
          1879,
          1880,
          1881,
          1882,
          1883,
          1884,
          1885,
          1886,
          1887,
          1888,
          1889,
          1890,
          1891,
          1892,
          1893,
          1894,
          1895,
          1896,
          1897,
          1898,
          1899,
          1900,
          1901,
          1902,
          1903,
          1904,
          1905,
          1906,
          1907,
          1908,
          1909,
          1910,
          1911,
          1912,
          1913,
          1914,
          1915,
          1916,
          1917,
          1918
         ],
         "y": [
          null,
          null,
          null,
          null,
          null,
          0.14941131137562605,
          0.13933455613854248,
          0.1389593764364195,
          0.13798809097152018,
          0.13621396488340184,
          0.1330473606097521,
          0.11923819990063178,
          0.12078155531507362,
          0.11921235848001167,
          0.11150096212865317,
          0.09399396531126106,
          0.08504870298318846,
          0.10047466182587204,
          0.10331262623254485,
          0.1054707450157933,
          0.1048089286543163,
          0.10797869678756007,
          0.12271438466200892,
          0.12435252434825478,
          0.12080687283012412,
          0.122478379376437,
          0.1247517572466938,
          0.12890042171202803,
          0.11356492041639814,
          0.10542829416262106,
          0.0980835279634974,
          0.09339873344257751,
          0.0967869086710387,
          0.08850453579235097,
          0.08693967243805155,
          0.07240273219848262,
          0.06680350145653836,
          0.06654770713694927,
          0.06618126650172249,
          0.0577004975457328,
          0.05663002418491832,
          0.05682454911924159,
          0.05499875031728103,
          0.04557801608556775,
          0.044843785440393615,
          0.03717625352689878,
          0.03442381477313557,
          0.04375333097509964,
          0.045205123519259066,
          0.04655582997783021,
          0.05121456499090693,
          0.05874575944159479,
          0.056283183340962196,
          0.06193645175147732,
          0.0635836703432263,
          0.0654774422827499,
          0.05953584965051475,
          0.057950502057125784,
          0.058874110146592266,
          0.05487528903242245,
          0.055018009385269406,
          0.05946660752590722,
          0.07163514643086695,
          0.07868161013367914,
          null,
          null,
          null,
          null,
          null
         ]
        },
        {
         "line": {
          "color": "#AB63FA",
          "width": 6
         },
         "mode": "lines",
         "name": "Tod",
         "type": "scatter",
         "x": [
          1850,
          1851,
          1852,
          1853,
          1854,
          1855,
          1856,
          1857,
          1858,
          1859,
          1860,
          1861,
          1862,
          1863,
          1864,
          1865,
          1866,
          1867,
          1868,
          1869,
          1870,
          1871,
          1872,
          1873,
          1874,
          1875,
          1876,
          1877,
          1878,
          1879,
          1880,
          1881,
          1882,
          1883,
          1884,
          1885,
          1886,
          1887,
          1888,
          1889,
          1890,
          1891,
          1892,
          1893,
          1894,
          1895,
          1896,
          1897,
          1898,
          1899,
          1900,
          1901,
          1902,
          1903,
          1904,
          1905,
          1906,
          1907,
          1908,
          1909,
          1910,
          1911,
          1912,
          1913,
          1914,
          1915,
          1916,
          1917,
          1918
         ],
         "y": [
          null,
          null,
          null,
          null,
          null,
          0.07159516655407741,
          0.07433976256564559,
          0.06953944768774636,
          0.07347358128973346,
          0.07588411826925226,
          0.0801842883958838,
          0.07981024800476641,
          0.07675326488492477,
          0.08132456178956199,
          0.08982635914866266,
          0.09050761208917553,
          0.08914697640975389,
          0.08934997271093567,
          0.09187025606790131,
          0.08919681016170396,
          0.08702441472485445,
          0.08873781002468388,
          0.08833571338579276,
          0.08957683507009641,
          0.07830114499277964,
          0.07211555669930467,
          0.07197356266578425,
          0.07242819261367137,
          0.06921483084411478,
          0.06929163335332436,
          0.07185198585831713,
          0.08020965214256588,
          0.0776052067209274,
          0.08643945245654805,
          0.0951084673248156,
          0.11857831492501496,
          0.12448996743149306,
          0.13868282861617015,
          0.13864114435178884,
          0.14469938704520172,
          0.14516382791965537,
          0.14384263175415188,
          0.13713014773560514,
          0.15236500726523503,
          0.1459873852443865,
          0.13653043867290568,
          0.13633089778601346,
          0.13221890164785718,
          0.1358749451831884,
          0.12904304312854323,
          0.12332960925135412,
          0.10784912518894028,
          0.0982508105993819,
          0.08202277336623144,
          0.04868838236707064,
          0.03947610510116519,
          0.03948952412485634,
          0.02980273289743777,
          0.032718755629146674,
          0.030540641470885616,
          0.033595385110336454,
          0.03320806042012892,
          0.03661426001632306,
          0.04784348474195474,
          null,
          null,
          null,
          null,
          null
         ]
        },
        {
         "marker": {
          "color": [
           "#636EFA",
           "#EF553B",
           "#00CC96",
           "#AB63FA",
           "#FFA15A",
           "#19D3F3"
          ],
          "size": 14,
          "symbol": "circle"
         },
         "mode": "markers",
         "name": "Kanonisierte Moderne",
         "showlegend": false,
         "type": "scatter",
         "x": [
          1903,
          1903,
          1903,
          1903
         ],
         "y": [
          0.3082706766917293,
          0.07518796992481203,
          0.09022556390977443,
          0.06015037593984962
         ]
        },
        {
         "marker": {
          "color": "black",
          "size": 14,
          "symbol": "circle"
         },
         "mode": "markers",
         "name": "Kanonisierte Moderne",
         "type": "scatter",
         "x": [
          null
         ],
         "y": [
          null
         ]
        },
        {
         "marker": {
          "color": [
           "#636EFA",
           "#EF553B",
           "#00CC96",
           "#AB63FA",
           "#FFA15A",
           "#19D3F3"
          ],
          "size": 14,
          "symbol": "square"
         },
         "mode": "markers",
         "name": "Münchhausen-Kreis",
         "showlegend": false,
         "type": "scatter",
         "x": [
          1905,
          1905,
          1905,
          1905
         ],
         "y": [
          0.2538860103626943,
          0.031088082901554404,
          0.06217616580310881,
          0.12435233160621761
         ]
        },
        {
         "marker": {
          "color": "black",
          "size": 14,
          "symbol": "square"
         },
         "mode": "markers",
         "name": "Münchhausen-Kreis",
         "type": "scatter",
         "x": [
          null
         ],
         "y": [
          null
         ]
        }
       ],
       "layout": {
        "font": {
         "color": "black"
        },
        "height": 500,
        "legend": {
         "bordercolor": "black",
         "borderwidth": 1,
         "font": {
          "size": 16
         },
         "traceorder": "normal"
        },
        "paper_bgcolor": "white",
        "plot_bgcolor": "white",
        "template": {
         "data": {
          "bar": [
           {
            "error_x": {
             "color": "#2a3f5f"
            },
            "error_y": {
             "color": "#2a3f5f"
            },
            "marker": {
             "line": {
              "color": "#E5ECF6",
              "width": 0.5
             },
             "pattern": {
              "fillmode": "overlay",
              "size": 10,
              "solidity": 0.2
             }
            },
            "type": "bar"
           }
          ],
          "barpolar": [
           {
            "marker": {
             "line": {
              "color": "#E5ECF6",
              "width": 0.5
             },
             "pattern": {
              "fillmode": "overlay",
              "size": 10,
              "solidity": 0.2
             }
            },
            "type": "barpolar"
           }
          ],
          "carpet": [
           {
            "aaxis": {
             "endlinecolor": "#2a3f5f",
             "gridcolor": "white",
             "linecolor": "white",
             "minorgridcolor": "white",
             "startlinecolor": "#2a3f5f"
            },
            "baxis": {
             "endlinecolor": "#2a3f5f",
             "gridcolor": "white",
             "linecolor": "white",
             "minorgridcolor": "white",
             "startlinecolor": "#2a3f5f"
            },
            "type": "carpet"
           }
          ],
          "choropleth": [
           {
            "colorbar": {
             "outlinewidth": 0,
             "ticks": ""
            },
            "type": "choropleth"
           }
          ],
          "contour": [
           {
            "colorbar": {
             "outlinewidth": 0,
             "ticks": ""
            },
            "colorscale": [
             [
              0,
              "#0d0887"
             ],
             [
              0.1111111111111111,
              "#46039f"
             ],
             [
              0.2222222222222222,
              "#7201a8"
             ],
             [
              0.3333333333333333,
              "#9c179e"
             ],
             [
              0.4444444444444444,
              "#bd3786"
             ],
             [
              0.5555555555555556,
              "#d8576b"
             ],
             [
              0.6666666666666666,
              "#ed7953"
             ],
             [
              0.7777777777777778,
              "#fb9f3a"
             ],
             [
              0.8888888888888888,
              "#fdca26"
             ],
             [
              1,
              "#f0f921"
             ]
            ],
            "type": "contour"
           }
          ],
          "contourcarpet": [
           {
            "colorbar": {
             "outlinewidth": 0,
             "ticks": ""
            },
            "type": "contourcarpet"
           }
          ],
          "heatmap": [
           {
            "colorbar": {
             "outlinewidth": 0,
             "ticks": ""
            },
            "colorscale": [
             [
              0,
              "#0d0887"
             ],
             [
              0.1111111111111111,
              "#46039f"
             ],
             [
              0.2222222222222222,
              "#7201a8"
             ],
             [
              0.3333333333333333,
              "#9c179e"
             ],
             [
              0.4444444444444444,
              "#bd3786"
             ],
             [
              0.5555555555555556,
              "#d8576b"
             ],
             [
              0.6666666666666666,
              "#ed7953"
             ],
             [
              0.7777777777777778,
              "#fb9f3a"
             ],
             [
              0.8888888888888888,
              "#fdca26"
             ],
             [
              1,
              "#f0f921"
             ]
            ],
            "type": "heatmap"
           }
          ],
          "heatmapgl": [
           {
            "colorbar": {
             "outlinewidth": 0,
             "ticks": ""
            },
            "colorscale": [
             [
              0,
              "#0d0887"
             ],
             [
              0.1111111111111111,
              "#46039f"
             ],
             [
              0.2222222222222222,
              "#7201a8"
             ],
             [
              0.3333333333333333,
              "#9c179e"
             ],
             [
              0.4444444444444444,
              "#bd3786"
             ],
             [
              0.5555555555555556,
              "#d8576b"
             ],
             [
              0.6666666666666666,
              "#ed7953"
             ],
             [
              0.7777777777777778,
              "#fb9f3a"
             ],
             [
              0.8888888888888888,
              "#fdca26"
             ],
             [
              1,
              "#f0f921"
             ]
            ],
            "type": "heatmapgl"
           }
          ],
          "histogram": [
           {
            "marker": {
             "pattern": {
              "fillmode": "overlay",
              "size": 10,
              "solidity": 0.2
             }
            },
            "type": "histogram"
           }
          ],
          "histogram2d": [
           {
            "colorbar": {
             "outlinewidth": 0,
             "ticks": ""
            },
            "colorscale": [
             [
              0,
              "#0d0887"
             ],
             [
              0.1111111111111111,
              "#46039f"
             ],
             [
              0.2222222222222222,
              "#7201a8"
             ],
             [
              0.3333333333333333,
              "#9c179e"
             ],
             [
              0.4444444444444444,
              "#bd3786"
             ],
             [
              0.5555555555555556,
              "#d8576b"
             ],
             [
              0.6666666666666666,
              "#ed7953"
             ],
             [
              0.7777777777777778,
              "#fb9f3a"
             ],
             [
              0.8888888888888888,
              "#fdca26"
             ],
             [
              1,
              "#f0f921"
             ]
            ],
            "type": "histogram2d"
           }
          ],
          "histogram2dcontour": [
           {
            "colorbar": {
             "outlinewidth": 0,
             "ticks": ""
            },
            "colorscale": [
             [
              0,
              "#0d0887"
             ],
             [
              0.1111111111111111,
              "#46039f"
             ],
             [
              0.2222222222222222,
              "#7201a8"
             ],
             [
              0.3333333333333333,
              "#9c179e"
             ],
             [
              0.4444444444444444,
              "#bd3786"
             ],
             [
              0.5555555555555556,
              "#d8576b"
             ],
             [
              0.6666666666666666,
              "#ed7953"
             ],
             [
              0.7777777777777778,
              "#fb9f3a"
             ],
             [
              0.8888888888888888,
              "#fdca26"
             ],
             [
              1,
              "#f0f921"
             ]
            ],
            "type": "histogram2dcontour"
           }
          ],
          "mesh3d": [
           {
            "colorbar": {
             "outlinewidth": 0,
             "ticks": ""
            },
            "type": "mesh3d"
           }
          ],
          "parcoords": [
           {
            "line": {
             "colorbar": {
              "outlinewidth": 0,
              "ticks": ""
             }
            },
            "type": "parcoords"
           }
          ],
          "pie": [
           {
            "automargin": true,
            "type": "pie"
           }
          ],
          "scatter": [
           {
            "fillpattern": {
             "fillmode": "overlay",
             "size": 10,
             "solidity": 0.2
            },
            "type": "scatter"
           }
          ],
          "scatter3d": [
           {
            "line": {
             "colorbar": {
              "outlinewidth": 0,
              "ticks": ""
             }
            },
            "marker": {
             "colorbar": {
              "outlinewidth": 0,
              "ticks": ""
             }
            },
            "type": "scatter3d"
           }
          ],
          "scattercarpet": [
           {
            "marker": {
             "colorbar": {
              "outlinewidth": 0,
              "ticks": ""
             }
            },
            "type": "scattercarpet"
           }
          ],
          "scattergeo": [
           {
            "marker": {
             "colorbar": {
              "outlinewidth": 0,
              "ticks": ""
             }
            },
            "type": "scattergeo"
           }
          ],
          "scattergl": [
           {
            "marker": {
             "colorbar": {
              "outlinewidth": 0,
              "ticks": ""
             }
            },
            "type": "scattergl"
           }
          ],
          "scattermapbox": [
           {
            "marker": {
             "colorbar": {
              "outlinewidth": 0,
              "ticks": ""
             }
            },
            "type": "scattermapbox"
           }
          ],
          "scatterpolar": [
           {
            "marker": {
             "colorbar": {
              "outlinewidth": 0,
              "ticks": ""
             }
            },
            "type": "scatterpolar"
           }
          ],
          "scatterpolargl": [
           {
            "marker": {
             "colorbar": {
              "outlinewidth": 0,
              "ticks": ""
             }
            },
            "type": "scatterpolargl"
           }
          ],
          "scatterternary": [
           {
            "marker": {
             "colorbar": {
              "outlinewidth": 0,
              "ticks": ""
             }
            },
            "type": "scatterternary"
           }
          ],
          "surface": [
           {
            "colorbar": {
             "outlinewidth": 0,
             "ticks": ""
            },
            "colorscale": [
             [
              0,
              "#0d0887"
             ],
             [
              0.1111111111111111,
              "#46039f"
             ],
             [
              0.2222222222222222,
              "#7201a8"
             ],
             [
              0.3333333333333333,
              "#9c179e"
             ],
             [
              0.4444444444444444,
              "#bd3786"
             ],
             [
              0.5555555555555556,
              "#d8576b"
             ],
             [
              0.6666666666666666,
              "#ed7953"
             ],
             [
              0.7777777777777778,
              "#fb9f3a"
             ],
             [
              0.8888888888888888,
              "#fdca26"
             ],
             [
              1,
              "#f0f921"
             ]
            ],
            "type": "surface"
           }
          ],
          "table": [
           {
            "cells": {
             "fill": {
              "color": "#EBF0F8"
             },
             "line": {
              "color": "white"
             }
            },
            "header": {
             "fill": {
              "color": "#C8D4E3"
             },
             "line": {
              "color": "white"
             }
            },
            "type": "table"
           }
          ]
         },
         "layout": {
          "annotationdefaults": {
           "arrowcolor": "#2a3f5f",
           "arrowhead": 0,
           "arrowwidth": 1
          },
          "autotypenumbers": "strict",
          "coloraxis": {
           "colorbar": {
            "outlinewidth": 0,
            "ticks": ""
           }
          },
          "colorscale": {
           "diverging": [
            [
             0,
             "#8e0152"
            ],
            [
             0.1,
             "#c51b7d"
            ],
            [
             0.2,
             "#de77ae"
            ],
            [
             0.3,
             "#f1b6da"
            ],
            [
             0.4,
             "#fde0ef"
            ],
            [
             0.5,
             "#f7f7f7"
            ],
            [
             0.6,
             "#e6f5d0"
            ],
            [
             0.7,
             "#b8e186"
            ],
            [
             0.8,
             "#7fbc41"
            ],
            [
             0.9,
             "#4d9221"
            ],
            [
             1,
             "#276419"
            ]
           ],
           "sequential": [
            [
             0,
             "#0d0887"
            ],
            [
             0.1111111111111111,
             "#46039f"
            ],
            [
             0.2222222222222222,
             "#7201a8"
            ],
            [
             0.3333333333333333,
             "#9c179e"
            ],
            [
             0.4444444444444444,
             "#bd3786"
            ],
            [
             0.5555555555555556,
             "#d8576b"
            ],
            [
             0.6666666666666666,
             "#ed7953"
            ],
            [
             0.7777777777777778,
             "#fb9f3a"
            ],
            [
             0.8888888888888888,
             "#fdca26"
            ],
            [
             1,
             "#f0f921"
            ]
           ],
           "sequentialminus": [
            [
             0,
             "#0d0887"
            ],
            [
             0.1111111111111111,
             "#46039f"
            ],
            [
             0.2222222222222222,
             "#7201a8"
            ],
            [
             0.3333333333333333,
             "#9c179e"
            ],
            [
             0.4444444444444444,
             "#bd3786"
            ],
            [
             0.5555555555555556,
             "#d8576b"
            ],
            [
             0.6666666666666666,
             "#ed7953"
            ],
            [
             0.7777777777777778,
             "#fb9f3a"
            ],
            [
             0.8888888888888888,
             "#fdca26"
            ],
            [
             1,
             "#f0f921"
            ]
           ]
          },
          "colorway": [
           "#636efa",
           "#EF553B",
           "#00cc96",
           "#ab63fa",
           "#FFA15A",
           "#19d3f3",
           "#FF6692",
           "#B6E880",
           "#FF97FF",
           "#FECB52"
          ],
          "font": {
           "color": "#2a3f5f"
          },
          "geo": {
           "bgcolor": "white",
           "lakecolor": "white",
           "landcolor": "#E5ECF6",
           "showlakes": true,
           "showland": true,
           "subunitcolor": "white"
          },
          "hoverlabel": {
           "align": "left"
          },
          "hovermode": "closest",
          "mapbox": {
           "style": "light"
          },
          "paper_bgcolor": "white",
          "plot_bgcolor": "#E5ECF6",
          "polar": {
           "angularaxis": {
            "gridcolor": "white",
            "linecolor": "white",
            "ticks": ""
           },
           "bgcolor": "#E5ECF6",
           "radialaxis": {
            "gridcolor": "white",
            "linecolor": "white",
            "ticks": ""
           }
          },
          "scene": {
           "xaxis": {
            "backgroundcolor": "#E5ECF6",
            "gridcolor": "white",
            "gridwidth": 2,
            "linecolor": "white",
            "showbackground": true,
            "ticks": "",
            "zerolinecolor": "white"
           },
           "yaxis": {
            "backgroundcolor": "#E5ECF6",
            "gridcolor": "white",
            "gridwidth": 2,
            "linecolor": "white",
            "showbackground": true,
            "ticks": "",
            "zerolinecolor": "white"
           },
           "zaxis": {
            "backgroundcolor": "#E5ECF6",
            "gridcolor": "white",
            "gridwidth": 2,
            "linecolor": "white",
            "showbackground": true,
            "ticks": "",
            "zerolinecolor": "white"
           }
          },
          "shapedefaults": {
           "line": {
            "color": "#2a3f5f"
           }
          },
          "ternary": {
           "aaxis": {
            "gridcolor": "white",
            "linecolor": "white",
            "ticks": ""
           },
           "baxis": {
            "gridcolor": "white",
            "linecolor": "white",
            "ticks": ""
           },
           "bgcolor": "#E5ECF6",
           "caxis": {
            "gridcolor": "white",
            "linecolor": "white",
            "ticks": ""
           }
          },
          "title": {
           "x": 0.05
          },
          "xaxis": {
           "automargin": true,
           "gridcolor": "white",
           "linecolor": "white",
           "ticks": "",
           "title": {
            "standoff": 15
           },
           "zerolinecolor": "white",
           "zerolinewidth": 2
          },
          "yaxis": {
           "automargin": true,
           "gridcolor": "white",
           "linecolor": "white",
           "ticks": "",
           "title": {
            "standoff": 15
           },
           "zerolinecolor": "white",
           "zerolinewidth": 2
          }
         }
        },
        "width": 900,
        "xaxis": {
         "autorange": true,
         "color": "black",
         "gridcolor": "white",
         "range": [
          1850,
          1918
         ],
         "showgrid": false,
         "tickfont": {
          "size": 16
         },
         "title": {
          "font": {
           "size": 16
          }
         },
         "type": "linear"
        },
        "yaxis": {
         "autorange": true,
         "color": "black",
         "gridcolor": "lightgray",
         "range": [
          -0.006235505587120181,
          0.4763321031553391
         ],
         "tickfont": {
          "size": 16
         },
         "title": {
          "font": {
           "size": 16
          },
          "text": "Anteil an Stoffgebiet-Annotationen"
         },
         "type": "linear",
         "zerolinecolor": "lightgray"
        }
       }
      },
      "text/html": [
       "<div>                            <div id=\"6e0208e9-05fb-4bd6-8d90-7c2df47a993f\" class=\"plotly-graph-div\" style=\"height:500px; width:900px;\"></div>            <script type=\"text/javascript\">                require([\"plotly\"], function(Plotly) {                    window.PLOTLYENV=window.PLOTLYENV || {};                                    if (document.getElementById(\"6e0208e9-05fb-4bd6-8d90-7c2df47a993f\")) {                    Plotly.newPlot(                        \"6e0208e9-05fb-4bd6-8d90-7c2df47a993f\",                        [{\"line\":{\"color\":\"#636EFA\",\"width\":6},\"mode\":\"lines\",\"name\":\"Militär\\u002fKrieg\",\"x\":[1850,1851,1852,1853,1854,1855,1856,1857,1858,1859,1860,1861,1862,1863,1864,1865,1866,1867,1868,1869,1870,1871,1872,1873,1874,1875,1876,1877,1878,1879,1880,1881,1882,1883,1884,1885,1886,1887,1888,1889,1890,1891,1892,1893,1894,1895,1896,1897,1898,1899,1900,1901,1902,1903,1904,1905,1906,1907,1908,1909,1910,1911,1912,1913,1914,1915,1916,1917,1918],\"y\":[null,null,null,null,null,0.2753032108751045,0.28469492378417227,0.28500643504891204,0.29781870652188497,0.3161325731449946,0.3241126301442467,0.33091665364592304,0.318945807286836,0.3154794060184556,0.3031434035678653,0.31755658779258455,0.32471417070622094,0.31082545047470633,0.31186518047839085,0.3138271462475337,0.31319806322394217,0.3176136076517173,0.32170155948253015,0.32364904177947473,0.3252956427232187,0.3326225531828692,0.3123149733679458,0.30245387108268634,0.30956610472086454,0.3094403560504769,0.31188889482504495,0.3077730582625494,0.3072877335111763,0.2837665941704192,0.293987114194431,0.29776721471812806,0.30019218746560616,0.3026772271209501,0.3106028131698669,0.31536668939526513,0.3231191918143602,0.3172860666930166,0.3090892339700917,0.30123293766358566,0.31548563686666437,0.2962032184197683,0.2782040215883138,0.26426697997865484,0.27201824444199796,0.25166026851792783,0.2737199539566181,0.2916864964696436,0.3138328866645903,0.35052794355261935,0.38812393680007845,0.39628679127627187,0.4088743571395828,0.4215359418709453,0.42677827645180466,0.44388713537133045,0.45220372271821613,0.45041211221736427,0.451642111815062,0.44999979245702576,null,null,null,null,null],\"type\":\"scatter\"},{\"line\":{\"color\":\"#EF553B\",\"width\":6},\"mode\":\"lines\",\"name\":\"Politik\",\"x\":[1850,1851,1852,1853,1854,1855,1856,1857,1858,1859,1860,1861,1862,1863,1864,1865,1866,1867,1868,1869,1870,1871,1872,1873,1874,1875,1876,1877,1878,1879,1880,1881,1882,1883,1884,1885,1886,1887,1888,1889,1890,1891,1892,1893,1894,1895,1896,1897,1898,1899,1900,1901,1902,1903,1904,1905,1906,1907,1908,1909,1910,1911,1912,1913,1914,1915,1916,1917,1918],\"y\":[null,null,null,null,null,0.1323481213746137,0.13117568284087402,0.13126930573502218,0.12305743979091828,0.11795094273159895,0.1046692450897363,0.10937686966502506,0.11148490855904909,0.11508945994031873,0.11760575680081925,0.12259585101395747,0.12436511655253807,0.12396564648844378,0.125434216672588,0.12747416334093487,0.12722625186544878,0.12421369237078157,0.11763255721034081,0.11401599818328005,0.11126160535839232,0.10736721717629083,0.10886719800430672,0.10492785610775944,0.11016373585459607,0.10858856492826764,0.11287249655907333,0.11594123575712953,0.11400054956737854,0.12477777150265716,0.12700266228906637,0.12711653424588165,0.12012223136659214,0.11357976645147001,0.1148834026444911,0.10645841829304338,0.10408512859331695,0.09127224652398308,0.0952092091051492,0.10212708202160452,0.08926741049298587,0.0941467660402955,0.10835848137051514,0.12896151778299983,0.12858887415238113,0.128446077392324,0.12411383398610921,0.10464800594808367,0.09301365218646493,0.07217131041874332,0.05835159103981145,0.05880974302481066,0.03986966321069381,0.03368990753295907,0.03691213533070613,0.04216709924953138,0.043002267111684325,0.043133629943698695,0.04871547623280538,0.05774458856019551,null,null,null,null,null],\"type\":\"scatter\"},{\"line\":{\"color\":\"#00CC96\",\"width\":6},\"mode\":\"lines\",\"name\":\"Religion\",\"x\":[1850,1851,1852,1853,1854,1855,1856,1857,1858,1859,1860,1861,1862,1863,1864,1865,1866,1867,1868,1869,1870,1871,1872,1873,1874,1875,1876,1877,1878,1879,1880,1881,1882,1883,1884,1885,1886,1887,1888,1889,1890,1891,1892,1893,1894,1895,1896,1897,1898,1899,1900,1901,1902,1903,1904,1905,1906,1907,1908,1909,1910,1911,1912,1913,1914,1915,1916,1917,1918],\"y\":[null,null,null,null,null,0.14941131137562605,0.13933455613854248,0.1389593764364195,0.13798809097152018,0.13621396488340184,0.1330473606097521,0.11923819990063178,0.12078155531507362,0.11921235848001167,0.11150096212865317,0.09399396531126106,0.08504870298318846,0.10047466182587204,0.10331262623254485,0.1054707450157933,0.1048089286543163,0.10797869678756007,0.12271438466200892,0.12435252434825478,0.12080687283012412,0.122478379376437,0.1247517572466938,0.12890042171202803,0.11356492041639814,0.10542829416262106,0.0980835279634974,0.09339873344257751,0.0967869086710387,0.08850453579235097,0.08693967243805155,0.07240273219848262,0.06680350145653836,0.06654770713694927,0.06618126650172249,0.0577004975457328,0.05663002418491832,0.05682454911924159,0.05499875031728103,0.04557801608556775,0.044843785440393615,0.03717625352689878,0.03442381477313557,0.04375333097509964,0.045205123519259066,0.04655582997783021,0.05121456499090693,0.05874575944159479,0.056283183340962196,0.06193645175147732,0.0635836703432263,0.0654774422827499,0.05953584965051475,0.057950502057125784,0.058874110146592266,0.05487528903242245,0.055018009385269406,0.05946660752590722,0.07163514643086695,0.07868161013367914,null,null,null,null,null],\"type\":\"scatter\"},{\"line\":{\"color\":\"#AB63FA\",\"width\":6},\"mode\":\"lines\",\"name\":\"Tod\",\"x\":[1850,1851,1852,1853,1854,1855,1856,1857,1858,1859,1860,1861,1862,1863,1864,1865,1866,1867,1868,1869,1870,1871,1872,1873,1874,1875,1876,1877,1878,1879,1880,1881,1882,1883,1884,1885,1886,1887,1888,1889,1890,1891,1892,1893,1894,1895,1896,1897,1898,1899,1900,1901,1902,1903,1904,1905,1906,1907,1908,1909,1910,1911,1912,1913,1914,1915,1916,1917,1918],\"y\":[null,null,null,null,null,0.07159516655407741,0.07433976256564559,0.06953944768774636,0.07347358128973346,0.07588411826925226,0.0801842883958838,0.07981024800476641,0.07675326488492477,0.08132456178956199,0.08982635914866266,0.09050761208917553,0.08914697640975389,0.08934997271093567,0.09187025606790131,0.08919681016170396,0.08702441472485445,0.08873781002468388,0.08833571338579276,0.08957683507009641,0.07830114499277964,0.07211555669930467,0.07197356266578425,0.07242819261367137,0.06921483084411478,0.06929163335332436,0.07185198585831713,0.08020965214256588,0.0776052067209274,0.08643945245654805,0.0951084673248156,0.11857831492501496,0.12448996743149306,0.13868282861617015,0.13864114435178884,0.14469938704520172,0.14516382791965537,0.14384263175415188,0.13713014773560514,0.15236500726523503,0.1459873852443865,0.13653043867290568,0.13633089778601346,0.13221890164785718,0.1358749451831884,0.12904304312854323,0.12332960925135412,0.10784912518894028,0.0982508105993819,0.08202277336623144,0.04868838236707064,0.03947610510116519,0.03948952412485634,0.02980273289743777,0.032718755629146674,0.030540641470885616,0.033595385110336454,0.03320806042012892,0.03661426001632306,0.04784348474195474,null,null,null,null,null],\"type\":\"scatter\"},{\"marker\":{\"color\":[\"#636EFA\",\"#EF553B\",\"#00CC96\",\"#AB63FA\",\"#FFA15A\",\"#19D3F3\"],\"size\":14,\"symbol\":\"circle\"},\"mode\":\"markers\",\"name\":\"Kanonisierte Moderne\",\"showlegend\":false,\"x\":[1903.0,1903.0,1903.0,1903.0],\"y\":[0.3082706766917293,0.07518796992481203,0.09022556390977443,0.06015037593984962],\"type\":\"scatter\"},{\"marker\":{\"color\":\"black\",\"size\":14,\"symbol\":\"circle\"},\"mode\":\"markers\",\"name\":\"Kanonisierte Moderne\",\"x\":[null],\"y\":[null],\"type\":\"scatter\"},{\"marker\":{\"color\":[\"#636EFA\",\"#EF553B\",\"#00CC96\",\"#AB63FA\",\"#FFA15A\",\"#19D3F3\"],\"size\":14,\"symbol\":\"square\"},\"mode\":\"markers\",\"name\":\"Münchhausen-Kreis\",\"showlegend\":false,\"x\":[1905.0,1905.0,1905.0,1905.0],\"y\":[0.2538860103626943,0.031088082901554404,0.06217616580310881,0.12435233160621761],\"type\":\"scatter\"},{\"marker\":{\"color\":\"black\",\"size\":14,\"symbol\":\"square\"},\"mode\":\"markers\",\"name\":\"Münchhausen-Kreis\",\"x\":[null],\"y\":[null],\"type\":\"scatter\"}],                        {\"template\":{\"data\":{\"histogram2dcontour\":[{\"type\":\"histogram2dcontour\",\"colorbar\":{\"outlinewidth\":0,\"ticks\":\"\"},\"colorscale\":[[0.0,\"#0d0887\"],[0.1111111111111111,\"#46039f\"],[0.2222222222222222,\"#7201a8\"],[0.3333333333333333,\"#9c179e\"],[0.4444444444444444,\"#bd3786\"],[0.5555555555555556,\"#d8576b\"],[0.6666666666666666,\"#ed7953\"],[0.7777777777777778,\"#fb9f3a\"],[0.8888888888888888,\"#fdca26\"],[1.0,\"#f0f921\"]]}],\"choropleth\":[{\"type\":\"choropleth\",\"colorbar\":{\"outlinewidth\":0,\"ticks\":\"\"}}],\"histogram2d\":[{\"type\":\"histogram2d\",\"colorbar\":{\"outlinewidth\":0,\"ticks\":\"\"},\"colorscale\":[[0.0,\"#0d0887\"],[0.1111111111111111,\"#46039f\"],[0.2222222222222222,\"#7201a8\"],[0.3333333333333333,\"#9c179e\"],[0.4444444444444444,\"#bd3786\"],[0.5555555555555556,\"#d8576b\"],[0.6666666666666666,\"#ed7953\"],[0.7777777777777778,\"#fb9f3a\"],[0.8888888888888888,\"#fdca26\"],[1.0,\"#f0f921\"]]}],\"heatmap\":[{\"type\":\"heatmap\",\"colorbar\":{\"outlinewidth\":0,\"ticks\":\"\"},\"colorscale\":[[0.0,\"#0d0887\"],[0.1111111111111111,\"#46039f\"],[0.2222222222222222,\"#7201a8\"],[0.3333333333333333,\"#9c179e\"],[0.4444444444444444,\"#bd3786\"],[0.5555555555555556,\"#d8576b\"],[0.6666666666666666,\"#ed7953\"],[0.7777777777777778,\"#fb9f3a\"],[0.8888888888888888,\"#fdca26\"],[1.0,\"#f0f921\"]]}],\"heatmapgl\":[{\"type\":\"heatmapgl\",\"colorbar\":{\"outlinewidth\":0,\"ticks\":\"\"},\"colorscale\":[[0.0,\"#0d0887\"],[0.1111111111111111,\"#46039f\"],[0.2222222222222222,\"#7201a8\"],[0.3333333333333333,\"#9c179e\"],[0.4444444444444444,\"#bd3786\"],[0.5555555555555556,\"#d8576b\"],[0.6666666666666666,\"#ed7953\"],[0.7777777777777778,\"#fb9f3a\"],[0.8888888888888888,\"#fdca26\"],[1.0,\"#f0f921\"]]}],\"contourcarpet\":[{\"type\":\"contourcarpet\",\"colorbar\":{\"outlinewidth\":0,\"ticks\":\"\"}}],\"contour\":[{\"type\":\"contour\",\"colorbar\":{\"outlinewidth\":0,\"ticks\":\"\"},\"colorscale\":[[0.0,\"#0d0887\"],[0.1111111111111111,\"#46039f\"],[0.2222222222222222,\"#7201a8\"],[0.3333333333333333,\"#9c179e\"],[0.4444444444444444,\"#bd3786\"],[0.5555555555555556,\"#d8576b\"],[0.6666666666666666,\"#ed7953\"],[0.7777777777777778,\"#fb9f3a\"],[0.8888888888888888,\"#fdca26\"],[1.0,\"#f0f921\"]]}],\"surface\":[{\"type\":\"surface\",\"colorbar\":{\"outlinewidth\":0,\"ticks\":\"\"},\"colorscale\":[[0.0,\"#0d0887\"],[0.1111111111111111,\"#46039f\"],[0.2222222222222222,\"#7201a8\"],[0.3333333333333333,\"#9c179e\"],[0.4444444444444444,\"#bd3786\"],[0.5555555555555556,\"#d8576b\"],[0.6666666666666666,\"#ed7953\"],[0.7777777777777778,\"#fb9f3a\"],[0.8888888888888888,\"#fdca26\"],[1.0,\"#f0f921\"]]}],\"mesh3d\":[{\"type\":\"mesh3d\",\"colorbar\":{\"outlinewidth\":0,\"ticks\":\"\"}}],\"scatter\":[{\"fillpattern\":{\"fillmode\":\"overlay\",\"size\":10,\"solidity\":0.2},\"type\":\"scatter\"}],\"parcoords\":[{\"type\":\"parcoords\",\"line\":{\"colorbar\":{\"outlinewidth\":0,\"ticks\":\"\"}}}],\"scatterpolargl\":[{\"type\":\"scatterpolargl\",\"marker\":{\"colorbar\":{\"outlinewidth\":0,\"ticks\":\"\"}}}],\"bar\":[{\"error_x\":{\"color\":\"#2a3f5f\"},\"error_y\":{\"color\":\"#2a3f5f\"},\"marker\":{\"line\":{\"color\":\"#E5ECF6\",\"width\":0.5},\"pattern\":{\"fillmode\":\"overlay\",\"size\":10,\"solidity\":0.2}},\"type\":\"bar\"}],\"scattergeo\":[{\"type\":\"scattergeo\",\"marker\":{\"colorbar\":{\"outlinewidth\":0,\"ticks\":\"\"}}}],\"scatterpolar\":[{\"type\":\"scatterpolar\",\"marker\":{\"colorbar\":{\"outlinewidth\":0,\"ticks\":\"\"}}}],\"histogram\":[{\"marker\":{\"pattern\":{\"fillmode\":\"overlay\",\"size\":10,\"solidity\":0.2}},\"type\":\"histogram\"}],\"scattergl\":[{\"type\":\"scattergl\",\"marker\":{\"colorbar\":{\"outlinewidth\":0,\"ticks\":\"\"}}}],\"scatter3d\":[{\"type\":\"scatter3d\",\"line\":{\"colorbar\":{\"outlinewidth\":0,\"ticks\":\"\"}},\"marker\":{\"colorbar\":{\"outlinewidth\":0,\"ticks\":\"\"}}}],\"scattermapbox\":[{\"type\":\"scattermapbox\",\"marker\":{\"colorbar\":{\"outlinewidth\":0,\"ticks\":\"\"}}}],\"scatterternary\":[{\"type\":\"scatterternary\",\"marker\":{\"colorbar\":{\"outlinewidth\":0,\"ticks\":\"\"}}}],\"scattercarpet\":[{\"type\":\"scattercarpet\",\"marker\":{\"colorbar\":{\"outlinewidth\":0,\"ticks\":\"\"}}}],\"carpet\":[{\"aaxis\":{\"endlinecolor\":\"#2a3f5f\",\"gridcolor\":\"white\",\"linecolor\":\"white\",\"minorgridcolor\":\"white\",\"startlinecolor\":\"#2a3f5f\"},\"baxis\":{\"endlinecolor\":\"#2a3f5f\",\"gridcolor\":\"white\",\"linecolor\":\"white\",\"minorgridcolor\":\"white\",\"startlinecolor\":\"#2a3f5f\"},\"type\":\"carpet\"}],\"table\":[{\"cells\":{\"fill\":{\"color\":\"#EBF0F8\"},\"line\":{\"color\":\"white\"}},\"header\":{\"fill\":{\"color\":\"#C8D4E3\"},\"line\":{\"color\":\"white\"}},\"type\":\"table\"}],\"barpolar\":[{\"marker\":{\"line\":{\"color\":\"#E5ECF6\",\"width\":0.5},\"pattern\":{\"fillmode\":\"overlay\",\"size\":10,\"solidity\":0.2}},\"type\":\"barpolar\"}],\"pie\":[{\"automargin\":true,\"type\":\"pie\"}]},\"layout\":{\"autotypenumbers\":\"strict\",\"colorway\":[\"#636efa\",\"#EF553B\",\"#00cc96\",\"#ab63fa\",\"#FFA15A\",\"#19d3f3\",\"#FF6692\",\"#B6E880\",\"#FF97FF\",\"#FECB52\"],\"font\":{\"color\":\"#2a3f5f\"},\"hovermode\":\"closest\",\"hoverlabel\":{\"align\":\"left\"},\"paper_bgcolor\":\"white\",\"plot_bgcolor\":\"#E5ECF6\",\"polar\":{\"bgcolor\":\"#E5ECF6\",\"angularaxis\":{\"gridcolor\":\"white\",\"linecolor\":\"white\",\"ticks\":\"\"},\"radialaxis\":{\"gridcolor\":\"white\",\"linecolor\":\"white\",\"ticks\":\"\"}},\"ternary\":{\"bgcolor\":\"#E5ECF6\",\"aaxis\":{\"gridcolor\":\"white\",\"linecolor\":\"white\",\"ticks\":\"\"},\"baxis\":{\"gridcolor\":\"white\",\"linecolor\":\"white\",\"ticks\":\"\"},\"caxis\":{\"gridcolor\":\"white\",\"linecolor\":\"white\",\"ticks\":\"\"}},\"coloraxis\":{\"colorbar\":{\"outlinewidth\":0,\"ticks\":\"\"}},\"colorscale\":{\"sequential\":[[0.0,\"#0d0887\"],[0.1111111111111111,\"#46039f\"],[0.2222222222222222,\"#7201a8\"],[0.3333333333333333,\"#9c179e\"],[0.4444444444444444,\"#bd3786\"],[0.5555555555555556,\"#d8576b\"],[0.6666666666666666,\"#ed7953\"],[0.7777777777777778,\"#fb9f3a\"],[0.8888888888888888,\"#fdca26\"],[1.0,\"#f0f921\"]],\"sequentialminus\":[[0.0,\"#0d0887\"],[0.1111111111111111,\"#46039f\"],[0.2222222222222222,\"#7201a8\"],[0.3333333333333333,\"#9c179e\"],[0.4444444444444444,\"#bd3786\"],[0.5555555555555556,\"#d8576b\"],[0.6666666666666666,\"#ed7953\"],[0.7777777777777778,\"#fb9f3a\"],[0.8888888888888888,\"#fdca26\"],[1.0,\"#f0f921\"]],\"diverging\":[[0,\"#8e0152\"],[0.1,\"#c51b7d\"],[0.2,\"#de77ae\"],[0.3,\"#f1b6da\"],[0.4,\"#fde0ef\"],[0.5,\"#f7f7f7\"],[0.6,\"#e6f5d0\"],[0.7,\"#b8e186\"],[0.8,\"#7fbc41\"],[0.9,\"#4d9221\"],[1,\"#276419\"]]},\"xaxis\":{\"gridcolor\":\"white\",\"linecolor\":\"white\",\"ticks\":\"\",\"title\":{\"standoff\":15},\"zerolinecolor\":\"white\",\"automargin\":true,\"zerolinewidth\":2},\"yaxis\":{\"gridcolor\":\"white\",\"linecolor\":\"white\",\"ticks\":\"\",\"title\":{\"standoff\":15},\"zerolinecolor\":\"white\",\"automargin\":true,\"zerolinewidth\":2},\"scene\":{\"xaxis\":{\"backgroundcolor\":\"#E5ECF6\",\"gridcolor\":\"white\",\"linecolor\":\"white\",\"showbackground\":true,\"ticks\":\"\",\"zerolinecolor\":\"white\",\"gridwidth\":2},\"yaxis\":{\"backgroundcolor\":\"#E5ECF6\",\"gridcolor\":\"white\",\"linecolor\":\"white\",\"showbackground\":true,\"ticks\":\"\",\"zerolinecolor\":\"white\",\"gridwidth\":2},\"zaxis\":{\"backgroundcolor\":\"#E5ECF6\",\"gridcolor\":\"white\",\"linecolor\":\"white\",\"showbackground\":true,\"ticks\":\"\",\"zerolinecolor\":\"white\",\"gridwidth\":2}},\"shapedefaults\":{\"line\":{\"color\":\"#2a3f5f\"}},\"annotationdefaults\":{\"arrowcolor\":\"#2a3f5f\",\"arrowhead\":0,\"arrowwidth\":1},\"geo\":{\"bgcolor\":\"white\",\"landcolor\":\"#E5ECF6\",\"subunitcolor\":\"white\",\"showland\":true,\"showlakes\":true,\"lakecolor\":\"white\"},\"title\":{\"x\":0.05},\"mapbox\":{\"style\":\"light\"}}},\"xaxis\":{\"tickfont\":{\"size\":16},\"title\":{\"font\":{\"size\":16}},\"color\":\"black\",\"gridcolor\":\"white\",\"showgrid\":false},\"yaxis\":{\"tickfont\":{\"size\":16},\"title\":{\"text\":\"Anteil an Stoffgebiet-Annotationen\",\"font\":{\"size\":16}},\"color\":\"black\",\"gridcolor\":\"lightgray\",\"zerolinecolor\":\"lightgray\"},\"legend\":{\"font\":{\"size\":16},\"traceorder\":\"normal\",\"bordercolor\":\"black\",\"borderwidth\":1},\"width\":900,\"height\":500,\"font\":{\"color\":\"black\"},\"plot_bgcolor\":\"white\",\"paper_bgcolor\":\"white\"},                        {\"responsive\": true}                    ).then(function(){\n",
       "                            \n",
       "var gd = document.getElementById('6e0208e9-05fb-4bd6-8d90-7c2df47a993f');\n",
       "var x = new MutationObserver(function (mutations, observer) {{\n",
       "        var display = window.getComputedStyle(gd).display;\n",
       "        if (!display || display === 'none') {{\n",
       "            console.log([gd, 'removed!']);\n",
       "            Plotly.purge(gd);\n",
       "            observer.disconnect();\n",
       "        }}\n",
       "}});\n",
       "\n",
       "// Listen for the removal of the full notebook cells\n",
       "var notebookContainer = gd.closest('#notebook-container');\n",
       "if (notebookContainer) {{\n",
       "    x.observe(notebookContainer, {childList: true});\n",
       "}}\n",
       "\n",
       "// Listen for the clearing of the current output cell\n",
       "var outputEl = gd.closest('.output');\n",
       "if (outputEl) {{\n",
       "    x.observe(outputEl, {childList: true});\n",
       "}}\n",
       "\n",
       "                        })                };                });            </script>        </div>"
      ]
     },
     "metadata": {},
     "output_type": "display_data"
    }
   ],
   "source": [
    "meta_plot = ts[[\n",
    "    'krieg_share_smoothed', \n",
    "    'politik_share_smoothed', \n",
    "    'religion_share_smoothed',\n",
    "    'tod_share_smoothed'\n",
    "]]\n",
    "meta_plot.columns = [\n",
    "    'Militär/Krieg', \n",
    "    'Politik', \n",
    "    'Religion',\n",
    "    'Tod'\n",
    "]\n",
    "save_ts_data(meta_plot, prefix=\"06_04_Haeufigste_Stoffgebiete_\")\n",
    "\n",
    "fig = create_ts_plot(\n",
    "    data = meta_plot, \n",
    "    columns = meta_plot.columns, \n",
    "    y_axis_title = 'Anteil an Stoffgebiet-Annotationen',\n",
    "    add_corporas = sub_df, add_corpora_names = sub_names,\n",
    "    add_corpora_categories = ['Militär/Krieg_share_stoffgebiete', 'Politik_share_stoffgebiete', 'Religion_share_stoffgebiete', 'Tod_share_stoffgebiete']\n",
    ")\n",
    "fig = update_fig_for_publication(fig)\n",
    "fig.write_image(f\"plots/6.4.2 Häufigste Stoffgebiete im Zeitverlauf.pdf\")\n",
    "fig.show()"
   ]
  },
  {
   "cell_type": "code",
   "execution_count": 28,
   "id": "e94fe148-a729-4eac-847c-e6df9c9c45bd",
   "metadata": {},
   "outputs": [
    {
     "name": "stdout",
     "output_type": "stream",
     "text": [
      "krieg          0    1   All     1_rel\n",
      "later_1905                           \n",
      "0            970  687  1657  0.414605\n",
      "1             83  110   193  0.569948\n",
      "All         1053  797  1850  0.430811\n",
      "chi2 p = 5.171402285106389e-05\n",
      "\n",
      "\n",
      "                          texts  krieg_abs  krieg_rel\n",
      "author                                               \n",
      "Schüler, Gustav               7          7   1.000000\n",
      "Geißler, Max                 11         10   0.909091\n",
      "Münchhausen, Börries von      9          7   0.777778\n",
      "Schrutz, Demetrius           10          7   0.700000\n",
      "Lissauer, Ernst              15         10   0.666667\n",
      "Weber, Ernst                  7          4   0.571429\n",
      "Löns, Hermann                 7          3   0.428571\n",
      "Lienert, Meinrad              5          2   0.400000\n",
      "Gaudy, Alice von              5          2   0.400000\n",
      "Hohlbaum, Robert              6          2   0.333333\n",
      "Blunck, Hans Friedrich        6          1   0.166667\n",
      "\n",
      "\n"
     ]
    },
    {
     "data": {
      "text/html": [
       "<div>\n",
       "<style scoped>\n",
       "    .dataframe tbody tr th:only-of-type {\n",
       "        vertical-align: middle;\n",
       "    }\n",
       "\n",
       "    .dataframe tbody tr th {\n",
       "        vertical-align: top;\n",
       "    }\n",
       "\n",
       "    .dataframe thead th {\n",
       "        text-align: right;\n",
       "    }\n",
       "</style>\n",
       "<table border=\"1\" class=\"dataframe\">\n",
       "  <thead>\n",
       "    <tr style=\"text-align: right;\">\n",
       "      <th></th>\n",
       "      <th>author</th>\n",
       "      <th>title</th>\n",
       "      <th>year</th>\n",
       "      <th>beginn</th>\n",
       "      <th>ende</th>\n",
       "    </tr>\n",
       "  </thead>\n",
       "  <tbody>\n",
       "    <tr>\n",
       "      <th>1330</th>\n",
       "      <td>Geißler, Max</td>\n",
       "      <td>Königsdank</td>\n",
       "      <td>1908.0</td>\n",
       "      <td>1757.0</td>\n",
       "      <td>1757.0</td>\n",
       "    </tr>\n",
       "    <tr>\n",
       "      <th>1343</th>\n",
       "      <td>Geißler, Max</td>\n",
       "      <td>Die Schlacht auf dem Schirlenhof</td>\n",
       "      <td>1909.0</td>\n",
       "      <td>1870.0</td>\n",
       "      <td>1870.0</td>\n",
       "    </tr>\n",
       "    <tr>\n",
       "      <th>1346</th>\n",
       "      <td>Geißler, Max</td>\n",
       "      <td>Drei gute Kameraden</td>\n",
       "      <td>1909.0</td>\n",
       "      <td>1870.0</td>\n",
       "      <td>1871.0</td>\n",
       "    </tr>\n",
       "    <tr>\n",
       "      <th>1352</th>\n",
       "      <td>Geißler, Max</td>\n",
       "      <td>Moltke</td>\n",
       "      <td>1909.0</td>\n",
       "      <td>1870.0</td>\n",
       "      <td>1870.0</td>\n",
       "    </tr>\n",
       "    <tr>\n",
       "      <th>1370</th>\n",
       "      <td>Geißler, Max</td>\n",
       "      <td>Die Mutter</td>\n",
       "      <td>1909.0</td>\n",
       "      <td>1900.0</td>\n",
       "      <td>1900.0</td>\n",
       "    </tr>\n",
       "    <tr>\n",
       "      <th>1445</th>\n",
       "      <td>Geißler, Max</td>\n",
       "      <td>Der Schmied von Solingen</td>\n",
       "      <td>1909.0</td>\n",
       "      <td>1757.0</td>\n",
       "      <td>1757.0</td>\n",
       "    </tr>\n",
       "    <tr>\n",
       "      <th>1455</th>\n",
       "      <td>Geißler, Max</td>\n",
       "      <td>Schandmal</td>\n",
       "      <td>1909.0</td>\n",
       "      <td>1810.0</td>\n",
       "      <td>1810.0</td>\n",
       "    </tr>\n",
       "    <tr>\n",
       "      <th>1459</th>\n",
       "      <td>Geißler, Max</td>\n",
       "      <td>Blüchers Predigt</td>\n",
       "      <td>1908.0</td>\n",
       "      <td>1813.0</td>\n",
       "      <td>1813.0</td>\n",
       "    </tr>\n",
       "    <tr>\n",
       "      <th>1472</th>\n",
       "      <td>Geißler, Max</td>\n",
       "      <td>Die Kaiserschmiede von Sedan</td>\n",
       "      <td>1909.0</td>\n",
       "      <td>1870.0</td>\n",
       "      <td>1871.0</td>\n",
       "    </tr>\n",
       "    <tr>\n",
       "      <th>1482</th>\n",
       "      <td>Geißler, Max</td>\n",
       "      <td>Die stille Wacht</td>\n",
       "      <td>1909.0</td>\n",
       "      <td>1900.0</td>\n",
       "      <td>1900.0</td>\n",
       "    </tr>\n",
       "    <tr>\n",
       "      <th>1328</th>\n",
       "      <td>Münchhausen, Börries von</td>\n",
       "      <td>Die Wunderwirkung der Latinität</td>\n",
       "      <td>1907.0</td>\n",
       "      <td>1480.0</td>\n",
       "      <td>1499.0</td>\n",
       "    </tr>\n",
       "    <tr>\n",
       "      <th>1690</th>\n",
       "      <td>Münchhausen, Börries von</td>\n",
       "      <td>Schwertspruch</td>\n",
       "      <td>1911.0</td>\n",
       "      <td>800.0</td>\n",
       "      <td>1400.0</td>\n",
       "    </tr>\n",
       "    <tr>\n",
       "      <th>1680</th>\n",
       "      <td>Münchhausen, Börries von</td>\n",
       "      <td>Das Ende</td>\n",
       "      <td>1918.0</td>\n",
       "      <td>1914.0</td>\n",
       "      <td>1918.0</td>\n",
       "    </tr>\n",
       "    <tr>\n",
       "      <th>1676</th>\n",
       "      <td>Münchhausen, Börries von</td>\n",
       "      <td>Schlachtfeld am Barenberge</td>\n",
       "      <td>1913.0</td>\n",
       "      <td>1626.0</td>\n",
       "      <td>1626.0</td>\n",
       "    </tr>\n",
       "    <tr>\n",
       "      <th>1665</th>\n",
       "      <td>Münchhausen, Börries von</td>\n",
       "      <td>„All Fehd hat nun ein Ende“</td>\n",
       "      <td>1913.0</td>\n",
       "      <td>1648.0</td>\n",
       "      <td>1648.0</td>\n",
       "    </tr>\n",
       "    <tr>\n",
       "      <th>1815</th>\n",
       "      <td>Münchhausen, Börries von</td>\n",
       "      <td>Der Rückzug. 1. Die Vorhut</td>\n",
       "      <td>1912.0</td>\n",
       "      <td>1812.0</td>\n",
       "      <td>1812.0</td>\n",
       "    </tr>\n",
       "    <tr>\n",
       "      <th>1813</th>\n",
       "      <td>Münchhausen, Börries von</td>\n",
       "      <td>Alter Obrister</td>\n",
       "      <td>1911.0</td>\n",
       "      <td>1648.0</td>\n",
       "      <td>1648.0</td>\n",
       "    </tr>\n",
       "    <tr>\n",
       "      <th>1504</th>\n",
       "      <td>Schrutz, Demetrius</td>\n",
       "      <td>Abrechnung</td>\n",
       "      <td>1905.0</td>\n",
       "      <td>1813.0</td>\n",
       "      <td>1813.0</td>\n",
       "    </tr>\n",
       "    <tr>\n",
       "      <th>1506</th>\n",
       "      <td>Schrutz, Demetrius</td>\n",
       "      <td>Toni Köhler</td>\n",
       "      <td>1905.0</td>\n",
       "      <td>1870.0</td>\n",
       "      <td>1870.0</td>\n",
       "    </tr>\n",
       "    <tr>\n",
       "      <th>1509</th>\n",
       "      <td>Schrutz, Demetrius</td>\n",
       "      <td>Hans, der Trompeter</td>\n",
       "      <td>1905.0</td>\n",
       "      <td>1870.0</td>\n",
       "      <td>1871.0</td>\n",
       "    </tr>\n",
       "    <tr>\n",
       "      <th>1510</th>\n",
       "      <td>Schrutz, Demetrius</td>\n",
       "      <td>Der verwundete Franzose</td>\n",
       "      <td>1905.0</td>\n",
       "      <td>1870.0</td>\n",
       "      <td>1870.0</td>\n",
       "    </tr>\n",
       "    <tr>\n",
       "      <th>1492</th>\n",
       "      <td>Schrutz, Demetrius</td>\n",
       "      <td>Prinz Eugens Rache</td>\n",
       "      <td>1905.0</td>\n",
       "      <td>1709.0</td>\n",
       "      <td>1709.0</td>\n",
       "    </tr>\n",
       "    <tr>\n",
       "      <th>1491</th>\n",
       "      <td>Schrutz, Demetrius</td>\n",
       "      <td>Treuer Tod. Aus der Schlacht bei Fehrbellin 1675</td>\n",
       "      <td>1905.0</td>\n",
       "      <td>1675.0</td>\n",
       "      <td>1675.0</td>\n",
       "    </tr>\n",
       "    <tr>\n",
       "      <th>1502</th>\n",
       "      <td>Schrutz, Demetrius</td>\n",
       "      <td>Die Schill’schen Offiziere</td>\n",
       "      <td>1905.0</td>\n",
       "      <td>1809.0</td>\n",
       "      <td>1809.0</td>\n",
       "    </tr>\n",
       "    <tr>\n",
       "      <th>1528</th>\n",
       "      <td>Schüler, Gustav</td>\n",
       "      <td>Die Schlacht bei Sempach</td>\n",
       "      <td>1909.0</td>\n",
       "      <td>1386.0</td>\n",
       "      <td>1386.0</td>\n",
       "    </tr>\n",
       "    <tr>\n",
       "      <th>1547</th>\n",
       "      <td>Schüler, Gustav</td>\n",
       "      <td>Napoleons Rückzug aus Rußland</td>\n",
       "      <td>1909.0</td>\n",
       "      <td>1812.0</td>\n",
       "      <td>1812.0</td>\n",
       "    </tr>\n",
       "    <tr>\n",
       "      <th>1641</th>\n",
       "      <td>Schüler, Gustav</td>\n",
       "      <td>Oktober 1813</td>\n",
       "      <td>1914.0</td>\n",
       "      <td>1813.0</td>\n",
       "      <td>1813.0</td>\n",
       "    </tr>\n",
       "    <tr>\n",
       "      <th>1642</th>\n",
       "      <td>Schüler, Gustav</td>\n",
       "      <td>Der Küster von Emmersbach</td>\n",
       "      <td>1914.0</td>\n",
       "      <td>1813.0</td>\n",
       "      <td>1813.0</td>\n",
       "    </tr>\n",
       "    <tr>\n",
       "      <th>1441</th>\n",
       "      <td>Schüler, Gustav</td>\n",
       "      <td>Der tote Reiter</td>\n",
       "      <td>1909.0</td>\n",
       "      <td>1618.0</td>\n",
       "      <td>1630.0</td>\n",
       "    </tr>\n",
       "    <tr>\n",
       "      <th>1411</th>\n",
       "      <td>Schüler, Gustav</td>\n",
       "      <td>Friedrich der Schöne und Ludwig der Bayer</td>\n",
       "      <td>1909.0</td>\n",
       "      <td>1322.0</td>\n",
       "      <td>1325.0</td>\n",
       "    </tr>\n",
       "    <tr>\n",
       "      <th>1733</th>\n",
       "      <td>Schüler, Gustav</td>\n",
       "      <td>Der Letzte</td>\n",
       "      <td>1909.0</td>\n",
       "      <td>1230.0</td>\n",
       "      <td>1400.0</td>\n",
       "    </tr>\n",
       "  </tbody>\n",
       "</table>\n",
       "</div>"
      ],
      "text/plain": [
       "                        author  \\\n",
       "1330              Geißler, Max   \n",
       "1343              Geißler, Max   \n",
       "1346              Geißler, Max   \n",
       "1352              Geißler, Max   \n",
       "1370              Geißler, Max   \n",
       "1445              Geißler, Max   \n",
       "1455              Geißler, Max   \n",
       "1459              Geißler, Max   \n",
       "1472              Geißler, Max   \n",
       "1482              Geißler, Max   \n",
       "1328  Münchhausen, Börries von   \n",
       "1690  Münchhausen, Börries von   \n",
       "1680  Münchhausen, Börries von   \n",
       "1676  Münchhausen, Börries von   \n",
       "1665  Münchhausen, Börries von   \n",
       "1815  Münchhausen, Börries von   \n",
       "1813  Münchhausen, Börries von   \n",
       "1504        Schrutz, Demetrius   \n",
       "1506        Schrutz, Demetrius   \n",
       "1509        Schrutz, Demetrius   \n",
       "1510        Schrutz, Demetrius   \n",
       "1492        Schrutz, Demetrius   \n",
       "1491        Schrutz, Demetrius   \n",
       "1502        Schrutz, Demetrius   \n",
       "1528           Schüler, Gustav   \n",
       "1547           Schüler, Gustav   \n",
       "1641           Schüler, Gustav   \n",
       "1642           Schüler, Gustav   \n",
       "1441           Schüler, Gustav   \n",
       "1411           Schüler, Gustav   \n",
       "1733           Schüler, Gustav   \n",
       "\n",
       "                                                 title    year  beginn    ende  \n",
       "1330                                        Königsdank  1908.0  1757.0  1757.0  \n",
       "1343                  Die Schlacht auf dem Schirlenhof  1909.0  1870.0  1870.0  \n",
       "1346                               Drei gute Kameraden  1909.0  1870.0  1871.0  \n",
       "1352                                            Moltke  1909.0  1870.0  1870.0  \n",
       "1370                                        Die Mutter  1909.0  1900.0  1900.0  \n",
       "1445                          Der Schmied von Solingen  1909.0  1757.0  1757.0  \n",
       "1455                                         Schandmal  1909.0  1810.0  1810.0  \n",
       "1459                                  Blüchers Predigt  1908.0  1813.0  1813.0  \n",
       "1472                      Die Kaiserschmiede von Sedan  1909.0  1870.0  1871.0  \n",
       "1482                                  Die stille Wacht  1909.0  1900.0  1900.0  \n",
       "1328                   Die Wunderwirkung der Latinität  1907.0  1480.0  1499.0  \n",
       "1690                                     Schwertspruch  1911.0   800.0  1400.0  \n",
       "1680                                          Das Ende  1918.0  1914.0  1918.0  \n",
       "1676                        Schlachtfeld am Barenberge  1913.0  1626.0  1626.0  \n",
       "1665                       „All Fehd hat nun ein Ende“  1913.0  1648.0  1648.0  \n",
       "1815                        Der Rückzug. 1. Die Vorhut  1912.0  1812.0  1812.0  \n",
       "1813                                    Alter Obrister  1911.0  1648.0  1648.0  \n",
       "1504                                        Abrechnung  1905.0  1813.0  1813.0  \n",
       "1506                                       Toni Köhler  1905.0  1870.0  1870.0  \n",
       "1509                               Hans, der Trompeter  1905.0  1870.0  1871.0  \n",
       "1510                           Der verwundete Franzose  1905.0  1870.0  1870.0  \n",
       "1492                                Prinz Eugens Rache  1905.0  1709.0  1709.0  \n",
       "1491  Treuer Tod. Aus der Schlacht bei Fehrbellin 1675  1905.0  1675.0  1675.0  \n",
       "1502                        Die Schill’schen Offiziere  1905.0  1809.0  1809.0  \n",
       "1528                          Die Schlacht bei Sempach  1909.0  1386.0  1386.0  \n",
       "1547                     Napoleons Rückzug aus Rußland  1909.0  1812.0  1812.0  \n",
       "1641                                      Oktober 1813  1914.0  1813.0  1813.0  \n",
       "1642                         Der Küster von Emmersbach  1914.0  1813.0  1813.0  \n",
       "1441                                   Der tote Reiter  1909.0  1618.0  1630.0  \n",
       "1411         Friedrich der Schöne und Ludwig der Bayer  1909.0  1322.0  1325.0  \n",
       "1733                                        Der Letzte  1909.0  1230.0  1400.0  "
      ]
     },
     "execution_count": 28,
     "metadata": {},
     "output_type": "execute_result"
    }
   ],
   "source": [
    "# Militär/Krieg 1900–1918\n",
    "meta_test = meta_anth_bin.copy()\n",
    "meta_test['later_1905'] = [1 if year >= 1905 else 0 for year in meta_test['year']]\n",
    "crosstab = pd.crosstab(meta_test['later_1905'], meta_test['krieg'], margins=True)\n",
    "crosstab['1_rel'] = crosstab[1]/crosstab['All']\n",
    "chi2 = chi2_contingency(pd.crosstab(meta_test['later_1905'], meta_test['krieg']))\n",
    "print(crosstab)\n",
    "print(f\"chi2 p = {chi2[1]}\")\n",
    "print(\"\\n\")\n",
    "\n",
    "meta_time = meta_anth_bin.query(\"1905 <= year <= 1918\")\n",
    "authors = pd.DataFrame({\n",
    "    'texts' : meta_time.groupby('author').size(),\n",
    "    'krieg_abs' : meta_time.groupby('author')['krieg'].sum(),\n",
    "})\n",
    "authors['krieg_rel'] = authors['krieg_abs']/authors['texts']\n",
    "print(authors.query(\"texts >= 5\").sort_values(by='krieg_rel', ascending=False))\n",
    "\n",
    "print(\"\\n\")\n",
    "relevant_authors = ['Schüler, Gustav', 'Geißler, Max', 'Münchhausen, Börries von', 'Schrutz, Demetrius']\n",
    "meta_authors = meta_time.query(\"author.isin(@relevant_authors) and krieg == 1\")\n",
    "meta_authors[['author', 'title', 'year', 'beginn', 'ende']].sort_values(by='author')"
   ]
  },
  {
   "cell_type": "code",
   "execution_count": 29,
   "id": "a9111f20-4c27-4c48-b94b-833a7f08bcdc",
   "metadata": {},
   "outputs": [
    {
     "name": "stdout",
     "output_type": "stream",
     "text": [
      "Texte 1888–1898                                              : 206\n",
      "davon über Stoffgebiet Tod                                   : 47\n",
      "davon mit Bezug auf Wilhelm I., Friedrich III. oder Bismarck : 13\n",
      "\n"
     ]
    },
    {
     "data": {
      "text/html": [
       "<div>\n",
       "<style scoped>\n",
       "    .dataframe tbody tr th:only-of-type {\n",
       "        vertical-align: middle;\n",
       "    }\n",
       "\n",
       "    .dataframe tbody tr th {\n",
       "        vertical-align: top;\n",
       "    }\n",
       "\n",
       "    .dataframe thead th {\n",
       "        text-align: right;\n",
       "    }\n",
       "</style>\n",
       "<table border=\"1\" class=\"dataframe\">\n",
       "  <thead>\n",
       "    <tr style=\"text-align: right;\">\n",
       "      <th></th>\n",
       "      <th>author</th>\n",
       "      <th>title</th>\n",
       "      <th>year</th>\n",
       "    </tr>\n",
       "  </thead>\n",
       "  <tbody>\n",
       "    <tr>\n",
       "      <th>12646</th>\n",
       "      <td>Gerok, Karl</td>\n",
       "      <td>Zu Kaiser Friedrichs Heimgang</td>\n",
       "      <td>1888.0</td>\n",
       "    </tr>\n",
       "    <tr>\n",
       "      <th>12655</th>\n",
       "      <td>Gerok, Karl</td>\n",
       "      <td>Kaiser Wilhelms Römerfahrt (Konradins Sühne)</td>\n",
       "      <td>1888.0</td>\n",
       "    </tr>\n",
       "    <tr>\n",
       "      <th>13426</th>\n",
       "      <td>Weck, Gustav</td>\n",
       "      <td>Nun hat er Zeit</td>\n",
       "      <td>1888.0</td>\n",
       "    </tr>\n",
       "    <tr>\n",
       "      <th>14219</th>\n",
       "      <td>Dahn, Felix</td>\n",
       "      <td>Lebe wohl nun, Kaiser Wilhelm</td>\n",
       "      <td>1888.0</td>\n",
       "    </tr>\n",
       "    <tr>\n",
       "      <th>14217</th>\n",
       "      <td>Walling, Günther</td>\n",
       "      <td>Kaiser Wilhelm I.</td>\n",
       "      <td>1888.0</td>\n",
       "    </tr>\n",
       "    <tr>\n",
       "      <th>14634</th>\n",
       "      <td>Evers, Matthias</td>\n",
       "      <td>Kaiser Friedrich</td>\n",
       "      <td>1888.0</td>\n",
       "    </tr>\n",
       "    <tr>\n",
       "      <th>15353</th>\n",
       "      <td>Avenarius, Ferdinand</td>\n",
       "      <td>Wilhelm I.</td>\n",
       "      <td>1888.0</td>\n",
       "    </tr>\n",
       "    <tr>\n",
       "      <th>17589</th>\n",
       "      <td>Rittershaus, Emil</td>\n",
       "      <td>Ein Scheidegruß für das Jahr 1888</td>\n",
       "      <td>1888.0</td>\n",
       "    </tr>\n",
       "    <tr>\n",
       "      <th>13865</th>\n",
       "      <td>Möser, Albert</td>\n",
       "      <td>Die Locke der Konstanze</td>\n",
       "      <td>1889.0</td>\n",
       "    </tr>\n",
       "    <tr>\n",
       "      <th>15384</th>\n",
       "      <td>Liliencron, Detlev von</td>\n",
       "      <td>Im Tal von Roncesvalles</td>\n",
       "      <td>1889.0</td>\n",
       "    </tr>\n",
       "    <tr>\n",
       "      <th>13567</th>\n",
       "      <td>Lyon, Otto</td>\n",
       "      <td>Kurfürst Moritz’ Tod</td>\n",
       "      <td>1889.0</td>\n",
       "    </tr>\n",
       "    <tr>\n",
       "      <th>17192</th>\n",
       "      <td>Meyer, Conrad Ferdinand</td>\n",
       "      <td>Das kaiserliche Schreiben</td>\n",
       "      <td>1889.0</td>\n",
       "    </tr>\n",
       "    <tr>\n",
       "      <th>16210</th>\n",
       "      <td>Löwenberg, Jakob</td>\n",
       "      <td>Fürs Vaterland</td>\n",
       "      <td>1889.0</td>\n",
       "    </tr>\n",
       "    <tr>\n",
       "      <th>16743</th>\n",
       "      <td>Goette, Rudolf</td>\n",
       "      <td>Eleonore Prochaska</td>\n",
       "      <td>1889.0</td>\n",
       "    </tr>\n",
       "    <tr>\n",
       "      <th>16202</th>\n",
       "      <td>Liliencron, Detlev von</td>\n",
       "      <td>In einer Winternacht</td>\n",
       "      <td>1889.0</td>\n",
       "    </tr>\n",
       "    <tr>\n",
       "      <th>13834</th>\n",
       "      <td>Laistner, Ludwig</td>\n",
       "      <td>Hermannus Contractus</td>\n",
       "      <td>1889.0</td>\n",
       "    </tr>\n",
       "    <tr>\n",
       "      <th>15811</th>\n",
       "      <td>Friedmann, Alfred</td>\n",
       "      <td>Sempronius Gracchus auf Cercina</td>\n",
       "      <td>1890.0</td>\n",
       "    </tr>\n",
       "    <tr>\n",
       "      <th>16435</th>\n",
       "      <td>Dahn, Felix</td>\n",
       "      <td>Armin</td>\n",
       "      <td>1890.0</td>\n",
       "    </tr>\n",
       "    <tr>\n",
       "      <th>16800</th>\n",
       "      <td>Vierordt, Heinrich</td>\n",
       "      <td>Admirals Brommys Tod</td>\n",
       "      <td>1890.0</td>\n",
       "    </tr>\n",
       "    <tr>\n",
       "      <th>13959</th>\n",
       "      <td>Meerheimb, Richard von</td>\n",
       "      <td>Graf Mansfelds Ende</td>\n",
       "      <td>1890.0</td>\n",
       "    </tr>\n",
       "    <tr>\n",
       "      <th>15115</th>\n",
       "      <td>Meyer, Conrad Ferdinand</td>\n",
       "      <td>Konradins Knappe</td>\n",
       "      <td>1890.0</td>\n",
       "    </tr>\n",
       "    <tr>\n",
       "      <th>13795</th>\n",
       "      <td>Fuchs, Reinhold</td>\n",
       "      <td>Hünengrab</td>\n",
       "      <td>1890.0</td>\n",
       "    </tr>\n",
       "    <tr>\n",
       "      <th>13968</th>\n",
       "      <td>Albrecht, Engelbert</td>\n",
       "      <td>Seni</td>\n",
       "      <td>1890.0</td>\n",
       "    </tr>\n",
       "    <tr>\n",
       "      <th>15677</th>\n",
       "      <td>Möser, Albert</td>\n",
       "      <td>Empedokles auf dem Ätna</td>\n",
       "      <td>1890.0</td>\n",
       "    </tr>\n",
       "    <tr>\n",
       "      <th>15994</th>\n",
       "      <td>Huch, Ricarda</td>\n",
       "      <td>Aus dem Dreißigjährigen Kriege. Christian von ...</td>\n",
       "      <td>1891.0</td>\n",
       "    </tr>\n",
       "    <tr>\n",
       "      <th>13011</th>\n",
       "      <td>Herrig, Hans</td>\n",
       "      <td>Kaiser Heinrichs VI. Tod</td>\n",
       "      <td>1891.0</td>\n",
       "    </tr>\n",
       "    <tr>\n",
       "      <th>13411</th>\n",
       "      <td>Büttner, Max</td>\n",
       "      <td>Die sächsischen Schützen bei Brie</td>\n",
       "      <td>1891.0</td>\n",
       "    </tr>\n",
       "    <tr>\n",
       "      <th>13434</th>\n",
       "      <td>Trojan, Johannes</td>\n",
       "      <td>Moltkes Tod</td>\n",
       "      <td>1891.0</td>\n",
       "    </tr>\n",
       "    <tr>\n",
       "      <th>12852</th>\n",
       "      <td>Frahm, Ludwig</td>\n",
       "      <td>Die Cimbern</td>\n",
       "      <td>1891.0</td>\n",
       "    </tr>\n",
       "    <tr>\n",
       "      <th>15653</th>\n",
       "      <td>Freudenthal, August</td>\n",
       "      <td>Sappho</td>\n",
       "      <td>1892.0</td>\n",
       "    </tr>\n",
       "    <tr>\n",
       "      <th>15761</th>\n",
       "      <td>Steinberger, Alfons</td>\n",
       "      <td>Hannibals Tod</td>\n",
       "      <td>1892.0</td>\n",
       "    </tr>\n",
       "    <tr>\n",
       "      <th>15709</th>\n",
       "      <td>Möser, Albert</td>\n",
       "      <td>Kyrsas</td>\n",
       "      <td>1893.0</td>\n",
       "    </tr>\n",
       "    <tr>\n",
       "      <th>16607</th>\n",
       "      <td>Walling, Günther</td>\n",
       "      <td>Ulrich von Hutten</td>\n",
       "      <td>1893.0</td>\n",
       "    </tr>\n",
       "    <tr>\n",
       "      <th>16695</th>\n",
       "      <td>Raßnitz, Paul</td>\n",
       "      <td>Jena</td>\n",
       "      <td>1893.0</td>\n",
       "    </tr>\n",
       "    <tr>\n",
       "      <th>15788</th>\n",
       "      <td>Kunad, Paul</td>\n",
       "      <td>Cäsars Ende</td>\n",
       "      <td>1895.0</td>\n",
       "    </tr>\n",
       "    <tr>\n",
       "      <th>18502</th>\n",
       "      <td>Münchhausen, Börries von</td>\n",
       "      <td>Halfdan, Ragnars Sohn</td>\n",
       "      <td>1897.0</td>\n",
       "    </tr>\n",
       "    <tr>\n",
       "      <th>14580</th>\n",
       "      <td>Delpy, Gustav</td>\n",
       "      <td>Dem Andenken Kaiser Wilhelms I.</td>\n",
       "      <td>1897.0</td>\n",
       "    </tr>\n",
       "    <tr>\n",
       "      <th>14582</th>\n",
       "      <td>Liliencron, A. von</td>\n",
       "      <td>Es tönen die Glocken weit hin durch das Reich</td>\n",
       "      <td>1897.0</td>\n",
       "    </tr>\n",
       "    <tr>\n",
       "      <th>14597</th>\n",
       "      <td>Hoffs, Friedrich van</td>\n",
       "      <td>Zur Gedächtnisfeier des Kaisers Wilhelms I.</td>\n",
       "      <td>1897.0</td>\n",
       "    </tr>\n",
       "    <tr>\n",
       "      <th>14579</th>\n",
       "      <td>Diemar, Adamine von</td>\n",
       "      <td>Zum Todestage der Kaiserin Augusta</td>\n",
       "      <td>1898.0</td>\n",
       "    </tr>\n",
       "    <tr>\n",
       "      <th>15215</th>\n",
       "      <td>Greif, Martin</td>\n",
       "      <td>Zur Bestattung Bismarcks im Sachsenwalde</td>\n",
       "      <td>1898.0</td>\n",
       "    </tr>\n",
       "    <tr>\n",
       "      <th>15275</th>\n",
       "      <td>Avenarius, Ferdinand</td>\n",
       "      <td>Rolands Horn</td>\n",
       "      <td>1898.0</td>\n",
       "    </tr>\n",
       "    <tr>\n",
       "      <th>16473</th>\n",
       "      <td>Avenarius, Ferdinand</td>\n",
       "      <td>Tejas Heimfahrt</td>\n",
       "      <td>1898.0</td>\n",
       "    </tr>\n",
       "    <tr>\n",
       "      <th>16410</th>\n",
       "      <td>Avenarius, Ferdinand</td>\n",
       "      <td>Der Breitenstein</td>\n",
       "      <td>1898.0</td>\n",
       "    </tr>\n",
       "    <tr>\n",
       "      <th>17006</th>\n",
       "      <td>Wickenburg, Albrecht von</td>\n",
       "      <td>Des Sandwirts Heimkehr</td>\n",
       "      <td>1898.0</td>\n",
       "    </tr>\n",
       "    <tr>\n",
       "      <th>16907</th>\n",
       "      <td>Haaß, Robert</td>\n",
       "      <td>Dem Vater des Vaterlandes</td>\n",
       "      <td>1898.0</td>\n",
       "    </tr>\n",
       "    <tr>\n",
       "      <th>17813</th>\n",
       "      <td>Frey, Adolf</td>\n",
       "      <td>Die Kappelkämpfer</td>\n",
       "      <td>1898.0</td>\n",
       "    </tr>\n",
       "  </tbody>\n",
       "</table>\n",
       "</div>"
      ],
      "text/plain": [
       "                         author  \\\n",
       "12646               Gerok, Karl   \n",
       "12655               Gerok, Karl   \n",
       "13426              Weck, Gustav   \n",
       "14219               Dahn, Felix   \n",
       "14217          Walling, Günther   \n",
       "14634           Evers, Matthias   \n",
       "15353      Avenarius, Ferdinand   \n",
       "17589         Rittershaus, Emil   \n",
       "13865             Möser, Albert   \n",
       "15384    Liliencron, Detlev von   \n",
       "13567                Lyon, Otto   \n",
       "17192   Meyer, Conrad Ferdinand   \n",
       "16210          Löwenberg, Jakob   \n",
       "16743            Goette, Rudolf   \n",
       "16202    Liliencron, Detlev von   \n",
       "13834          Laistner, Ludwig   \n",
       "15811         Friedmann, Alfred   \n",
       "16435               Dahn, Felix   \n",
       "16800        Vierordt, Heinrich   \n",
       "13959    Meerheimb, Richard von   \n",
       "15115   Meyer, Conrad Ferdinand   \n",
       "13795           Fuchs, Reinhold   \n",
       "13968       Albrecht, Engelbert   \n",
       "15677             Möser, Albert   \n",
       "15994             Huch, Ricarda   \n",
       "13011              Herrig, Hans   \n",
       "13411              Büttner, Max   \n",
       "13434          Trojan, Johannes   \n",
       "12852             Frahm, Ludwig   \n",
       "15653       Freudenthal, August   \n",
       "15761       Steinberger, Alfons   \n",
       "15709             Möser, Albert   \n",
       "16607          Walling, Günther   \n",
       "16695             Raßnitz, Paul   \n",
       "15788               Kunad, Paul   \n",
       "18502  Münchhausen, Börries von   \n",
       "14580             Delpy, Gustav   \n",
       "14582        Liliencron, A. von   \n",
       "14597      Hoffs, Friedrich van   \n",
       "14579       Diemar, Adamine von   \n",
       "15215             Greif, Martin   \n",
       "15275      Avenarius, Ferdinand   \n",
       "16473      Avenarius, Ferdinand   \n",
       "16410      Avenarius, Ferdinand   \n",
       "17006  Wickenburg, Albrecht von   \n",
       "16907              Haaß, Robert   \n",
       "17813               Frey, Adolf   \n",
       "\n",
       "                                                   title    year  \n",
       "12646                      Zu Kaiser Friedrichs Heimgang  1888.0  \n",
       "12655       Kaiser Wilhelms Römerfahrt (Konradins Sühne)  1888.0  \n",
       "13426                                    Nun hat er Zeit  1888.0  \n",
       "14219                      Lebe wohl nun, Kaiser Wilhelm  1888.0  \n",
       "14217                                  Kaiser Wilhelm I.  1888.0  \n",
       "14634                                   Kaiser Friedrich  1888.0  \n",
       "15353                                         Wilhelm I.  1888.0  \n",
       "17589                  Ein Scheidegruß für das Jahr 1888  1888.0  \n",
       "13865                            Die Locke der Konstanze  1889.0  \n",
       "15384                            Im Tal von Roncesvalles  1889.0  \n",
       "13567                               Kurfürst Moritz’ Tod  1889.0  \n",
       "17192                          Das kaiserliche Schreiben  1889.0  \n",
       "16210                                     Fürs Vaterland  1889.0  \n",
       "16743                                 Eleonore Prochaska  1889.0  \n",
       "16202                               In einer Winternacht  1889.0  \n",
       "13834                               Hermannus Contractus  1889.0  \n",
       "15811                    Sempronius Gracchus auf Cercina  1890.0  \n",
       "16435                                              Armin  1890.0  \n",
       "16800                               Admirals Brommys Tod  1890.0  \n",
       "13959                                Graf Mansfelds Ende  1890.0  \n",
       "15115                                   Konradins Knappe  1890.0  \n",
       "13795                                          Hünengrab  1890.0  \n",
       "13968                                               Seni  1890.0  \n",
       "15677                            Empedokles auf dem Ätna  1890.0  \n",
       "15994  Aus dem Dreißigjährigen Kriege. Christian von ...  1891.0  \n",
       "13011                           Kaiser Heinrichs VI. Tod  1891.0  \n",
       "13411                  Die sächsischen Schützen bei Brie  1891.0  \n",
       "13434                                        Moltkes Tod  1891.0  \n",
       "12852                                        Die Cimbern  1891.0  \n",
       "15653                                             Sappho  1892.0  \n",
       "15761                                      Hannibals Tod  1892.0  \n",
       "15709                                             Kyrsas  1893.0  \n",
       "16607                                  Ulrich von Hutten  1893.0  \n",
       "16695                                               Jena  1893.0  \n",
       "15788                                        Cäsars Ende  1895.0  \n",
       "18502                              Halfdan, Ragnars Sohn  1897.0  \n",
       "14580                    Dem Andenken Kaiser Wilhelms I.  1897.0  \n",
       "14582      Es tönen die Glocken weit hin durch das Reich  1897.0  \n",
       "14597        Zur Gedächtnisfeier des Kaisers Wilhelms I.  1897.0  \n",
       "14579                 Zum Todestage der Kaiserin Augusta  1898.0  \n",
       "15215           Zur Bestattung Bismarcks im Sachsenwalde  1898.0  \n",
       "15275                                       Rolands Horn  1898.0  \n",
       "16473                                    Tejas Heimfahrt  1898.0  \n",
       "16410                                   Der Breitenstein  1898.0  \n",
       "17006                             Des Sandwirts Heimkehr  1898.0  \n",
       "16907                          Dem Vater des Vaterlandes  1898.0  \n",
       "17813                                  Die Kappelkämpfer  1898.0  "
      ]
     },
     "execution_count": 29,
     "metadata": {},
     "output_type": "execute_result"
    }
   ],
   "source": [
    "# Tod 1888–1898\n",
    "meta_time = meta_anth.query(\"1888 <= year <= 1898\")\n",
    "meta_death = meta_time.query(\"stoffgebiet.str.contains('Tod')\")\n",
    "meta_death_people = meta_death.query(\n",
    "    \"entity_full.str.contains('Wilhelm I. (Deutsches Reich)', regex = False) or \" \n",
    "    \"entity_full.str.contains('Friedrich III. (Deutsches Reich)', regex = False) or \"\n",
    "    \"entity_full.str.contains('Otto von Bismarck', regex = False)\"\n",
    ")\n",
    "\n",
    "print(f\"Texte 1888–1898                                              : {meta_time.shape[0]}\")\n",
    "print(f\"davon über Stoffgebiet Tod                                   : {meta_death.shape[0]}\")\n",
    "print(f\"davon mit Bezug auf Wilhelm I., Friedrich III. oder Bismarck : {meta_death_people.shape[0]}\\n\")\n",
    "\n",
    "meta_death[['author', 'title', 'year']].sort_values(by='year')"
   ]
  },
  {
   "cell_type": "code",
   "execution_count": 30,
   "id": "64e9473a",
   "metadata": {},
   "outputs": [
    {
     "name": "stdout",
     "output_type": "stream",
     "text": [
      "           Stoffgebiet  Anzahl  Anteil an Texten  Anteil an Stoffgebieten\n",
      "0        Militär/Krieg      41          0.362832                 0.308271\n",
      "1            Rittertum      13          0.115044                 0.097744\n",
      "2             Religion      12          0.106195                 0.090226\n",
      "3              Politik      10          0.088496                 0.075188\n",
      "4           Geschichte       9          0.079646                 0.067669\n",
      "5                  Tod       8          0.070796                 0.060150\n",
      "6  Aufstand/Revolution       4          0.035398                 0.030075\n",
      "7            Literatur       4          0.035398                 0.030075\n",
      "8                Liebe       3          0.026549                 0.022556\n",
      "9                Kunst       3          0.026549                 0.022556\n",
      "\n",
      "\n",
      "Fokus Militär/Krieg, Politik, Tod, Religion:\n",
      "Anteil an Stoffgebieten               : 0.5714285714285714\n",
      "Texte mit min. einem der Stoffgebiete : 0.6106194690265486\n"
     ]
    }
   ],
   "source": [
    "# Moderne Kanon\n",
    "top_stoffgebiete = pd.DataFrame()\n",
    "top_stoffgebiete['Stoffgebiet'] = meta_modcanon_ratings['type'].value_counts().index\n",
    "top_stoffgebiete['Anzahl'] = meta_modcanon_ratings['type'].value_counts().tolist()\n",
    "top_stoffgebiete['Anteil an Texten'] = top_stoffgebiete['Anzahl'] / meta_modcanon.shape[0]\n",
    "top_stoffgebiete['Anteil an Stoffgebieten'] = top_stoffgebiete['Anzahl'] / top_stoffgebiete['Anzahl'].sum()\n",
    "print(top_stoffgebiete.head(10))\n",
    "print(\"\\n\")\n",
    "\n",
    "print(f\"Fokus Militär/Krieg, Politik, Tod, Religion:\")\n",
    "print(f\"Anteil an Stoffgebieten               : {top_stoffgebiete.head(4)['Anteil an Stoffgebieten'].sum()}\")\n",
    "\n",
    "krieg_titles = meta_modcanon.query(\"stoffgebiet.str.contains('Krieg')\")['author_title'].tolist()\n",
    "politik_titles = meta_modcanon.query(\"stoffgebiet.str.contains('Politik')\")['author_title'].tolist()\n",
    "religion_titles = meta_modcanon.query(\"stoffgebiet.str.contains('Religion')\")['author_title'].tolist()\n",
    "tod_titles = meta_modcanon.query(\"stoffgebiet.str.contains('Tod')\")['author_title'].tolist()\n",
    "all_titles = set(krieg_titles + politik_titles + religion_titles + tod_titles)\n",
    "\n",
    "print(f\"Texte mit min. einem der Stoffgebiete : {len(all_titles)/meta_modcanon.shape[0]}\")"
   ]
  },
  {
   "cell_type": "code",
   "execution_count": 31,
   "id": "6956dc6d",
   "metadata": {},
   "outputs": [
    {
     "name": "stdout",
     "output_type": "stream",
     "text": [
      "          Stoffgebiet  Anzahl  Anteil an Texten  Anteil an Stoffgebieten\n",
      "0       Militär/Krieg      49          0.350000                 0.253886\n",
      "1                 Tod      24          0.171429                 0.124352\n",
      "2               Liebe      16          0.114286                 0.082902\n",
      "3            Religion      12          0.085714                 0.062176\n",
      "4          Geschichte       8          0.057143                 0.041451\n",
      "5               Kunst       7          0.050000                 0.036269\n",
      "6             Politik       6          0.042857                 0.031088\n",
      "7         Hinrichtung       5          0.035714                 0.025907\n",
      "8  Treue/Gefolgschaft       5          0.035714                 0.025907\n",
      "9        Wissenschaft       4          0.028571                 0.020725\n",
      "\n",
      "\n",
      "Fokus Militär/Krieg, Politik, Tod, Religion:\n",
      "Anteil an Stoffgebieten               : 0.5233160621761659\n",
      "Texte mit min. einem der Stoffgebiete : 0.5571428571428572\n"
     ]
    }
   ],
   "source": [
    "# Münchhausen\n",
    "top_stoffgebiete = pd.DataFrame()\n",
    "top_stoffgebiete['Stoffgebiet'] = meta_muench_ratings['type'].value_counts().index\n",
    "top_stoffgebiete['Anzahl'] = meta_muench_ratings['type'].value_counts().tolist()\n",
    "top_stoffgebiete['Anteil an Texten'] = top_stoffgebiete['Anzahl'] / meta_muench.shape[0]\n",
    "top_stoffgebiete['Anteil an Stoffgebieten'] = top_stoffgebiete['Anzahl'] / top_stoffgebiete['Anzahl'].sum()\n",
    "print(top_stoffgebiete.head(10))\n",
    "print(\"\\n\")\n",
    "\n",
    "print(f\"Fokus Militär/Krieg, Politik, Tod, Religion:\")\n",
    "print(f\"Anteil an Stoffgebieten               : {top_stoffgebiete.head(4)['Anteil an Stoffgebieten'].sum()}\")\n",
    "\n",
    "krieg_titles = meta_muench.query(\"stoffgebiet.str.contains('Krieg')\")['author_title'].tolist()\n",
    "politik_titles = meta_muench.query(\"stoffgebiet.str.contains('Politik')\")['author_title'].tolist()\n",
    "religion_titles = meta_muench.query(\"stoffgebiet.str.contains('Religion')\")['author_title'].tolist()\n",
    "tod_titles = meta_muench.query(\"stoffgebiet.str.contains('Tod')\")['author_title'].tolist()\n",
    "all_titles = set(krieg_titles + politik_titles + religion_titles + tod_titles)\n",
    "\n",
    "print(f\"Texte mit min. einem der Stoffgebiete : {len(all_titles)/meta_muench.shape[0]}\")"
   ]
  },
  {
   "cell_type": "markdown",
   "id": "3fdc553b",
   "metadata": {},
   "source": [
    "# Militär/Krieg"
   ]
  },
  {
   "cell_type": "code",
   "execution_count": 32,
   "id": "1aa2388c",
   "metadata": {},
   "outputs": [],
   "source": [
    "main_feature = 'krieg'"
   ]
  },
  {
   "cell_type": "code",
   "execution_count": 33,
   "id": "a9a88ecb",
   "metadata": {},
   "outputs": [
    {
     "data": {
      "text/plain": [
       "krieg                             1.000000\n",
       "liebe_negativ                     0.456750\n",
       "ortmarker_vorhanden               0.249903\n",
       "heroismus                         0.248916\n",
       "kollektiv_positiv                 0.238056\n",
       "fixierbarkeit                     0.219950\n",
       "kollektiv_count                   0.203984\n",
       "neuzeit                           0.155001\n",
       "unbekanntes_individuum_positiv    0.126964\n",
       "beginn                            0.121544\n",
       "zeit_mitte                        0.117021\n",
       "ende                              0.109591\n",
       "kleinraum_count                   0.108652\n",
       "entity_positiv                    0.107740\n",
       "ueberlieferung_negativ            0.103472\n",
       "marker_count                      0.102323\n",
       "year_predict_ages_mean            0.098252\n",
       "mittelraum_count                  0.096414\n",
       "nation_volk_d_positiv             0.096058\n",
       "decade                            0.091947\n",
       "Name: krieg, dtype: float64"
      ]
     },
     "execution_count": 33,
     "metadata": {},
     "output_type": "execute_result"
    }
   ],
   "source": [
    "meta_anth_bin.corr(numeric_only=True)[main_feature].sort_values(ascending = False).head(20)"
   ]
  },
  {
   "cell_type": "code",
   "execution_count": 34,
   "id": "280da092",
   "metadata": {},
   "outputs": [
    {
     "data": {
      "text/plain": [
       "liebe_positiv                     -0.298308\n",
       "politik                           -0.251453\n",
       "religion                          -0.174031\n",
       "geschichtsauffassung_positiv      -0.173697\n",
       "unbekanntes_individuum_negativ    -0.163762\n",
       "mittelalter                       -0.146158\n",
       "liebe                             -0.133258\n",
       "tod                               -0.100028\n",
       "nichtmensch_count                 -0.093778\n",
       "wissen_identisch                  -0.086554\n",
       "bekanntes_individuum_count        -0.083837\n",
       "nation_volk_d                     -0.083625\n",
       "sprechakt_beschreiben_vorhanden   -0.078903\n",
       "denkmal                           -0.069801\n",
       "persmarker_vorhanden              -0.069671\n",
       "zustand                           -0.063940\n",
       "sprechakt_behaupten_vorhanden     -0.063421\n",
       "kollektiv_negativ                 -0.061950\n",
       "nogenre                           -0.056716\n",
       "theoretisch                       -0.051769\n",
       "Name: krieg, dtype: float64"
      ]
     },
     "execution_count": 34,
     "metadata": {},
     "output_type": "execute_result"
    }
   ],
   "source": [
    "meta_anth_bin.corr(numeric_only=True)[main_feature].sort_values(ascending = True).head(20)"
   ]
  },
  {
   "cell_type": "code",
   "execution_count": 35,
   "id": "4701ca0c",
   "metadata": {},
   "outputs": [],
   "source": [
    "threshold = 0.15\n",
    "\n",
    "bin_comp_features = get_features(meta_anth_bin.corr(numeric_only=True)[main_feature], threshold = threshold, mode = 'bin')\n",
    "bin_comp_features = bin_comp_features + ['unbekanntes_individuum_positiv']\n",
    "cont_comp_features = get_features(meta_anth_bin.corr(numeric_only=True)[main_feature], threshold = threshold, mode = 'cont')"
   ]
  },
  {
   "cell_type": "code",
   "execution_count": 36,
   "id": "821440f9",
   "metadata": {},
   "outputs": [],
   "source": [
    "results = relations_binbin(\n",
    "    meta = meta_anth_bin, \n",
    "    main_feature = main_feature,\n",
    "    comp_features = bin_comp_features\n",
    ")"
   ]
  },
  {
   "cell_type": "code",
   "execution_count": 37,
   "id": "38778d5f-a051-4c45-bc35-e0883b158667",
   "metadata": {},
   "outputs": [
    {
     "data": {
      "text/html": [
       "<div>\n",
       "<style scoped>\n",
       "    .dataframe tbody tr th:only-of-type {\n",
       "        vertical-align: middle;\n",
       "    }\n",
       "\n",
       "    .dataframe tbody tr th {\n",
       "        vertical-align: top;\n",
       "    }\n",
       "\n",
       "    .dataframe thead th {\n",
       "        text-align: right;\n",
       "    }\n",
       "</style>\n",
       "<table border=\"1\" class=\"dataframe\">\n",
       "  <thead>\n",
       "    <tr style=\"text-align: right;\">\n",
       "      <th></th>\n",
       "      <th>wenn_nicht</th>\n",
       "      <th>wenn_nicht_detail</th>\n",
       "      <th>wenn_ja</th>\n",
       "      <th>wenn_ja_detail</th>\n",
       "      <th>diff_low_bootstrap</th>\n",
       "      <th>diff_low</th>\n",
       "      <th>diff</th>\n",
       "      <th>diff_high</th>\n",
       "      <th>diff_high_bootstrap</th>\n",
       "      <th>chi2</th>\n",
       "      <th>chi2_p</th>\n",
       "      <th>fisher_p</th>\n",
       "      <th>phi</th>\n",
       "      <th>min_real</th>\n",
       "      <th>min_expected</th>\n",
       "    </tr>\n",
       "  </thead>\n",
       "  <tbody>\n",
       "    <tr>\n",
       "      <th>heroismus</th>\n",
       "      <td>0.19</td>\n",
       "      <td>195/1053</td>\n",
       "      <td>0.41</td>\n",
       "      <td>328/797</td>\n",
       "      <td>0.18</td>\n",
       "      <td>0.18</td>\n",
       "      <td>0.23</td>\n",
       "      <td>0.27</td>\n",
       "      <td>0.27</td>\n",
       "      <td>114.62</td>\n",
       "      <td>0.0</td>\n",
       "      <td>0.0</td>\n",
       "      <td>0.25</td>\n",
       "      <td>195.0</td>\n",
       "      <td>225.31</td>\n",
       "    </tr>\n",
       "    <tr>\n",
       "      <th>ortmarker_vorhanden</th>\n",
       "      <td>0.18</td>\n",
       "      <td>189/1053</td>\n",
       "      <td>0.41</td>\n",
       "      <td>323/797</td>\n",
       "      <td>0.18</td>\n",
       "      <td>0.18</td>\n",
       "      <td>0.23</td>\n",
       "      <td>0.27</td>\n",
       "      <td>0.27</td>\n",
       "      <td>115.53</td>\n",
       "      <td>0.0</td>\n",
       "      <td>0.0</td>\n",
       "      <td>0.25</td>\n",
       "      <td>189.0</td>\n",
       "      <td>220.58</td>\n",
       "    </tr>\n",
       "    <tr>\n",
       "      <th>fixierbarkeit</th>\n",
       "      <td>0.55</td>\n",
       "      <td>576/1053</td>\n",
       "      <td>0.76</td>\n",
       "      <td>606/797</td>\n",
       "      <td>0.17</td>\n",
       "      <td>0.17</td>\n",
       "      <td>0.21</td>\n",
       "      <td>0.26</td>\n",
       "      <td>0.26</td>\n",
       "      <td>89.50</td>\n",
       "      <td>0.0</td>\n",
       "      <td>0.0</td>\n",
       "      <td>0.22</td>\n",
       "      <td>191.0</td>\n",
       "      <td>287.78</td>\n",
       "    </tr>\n",
       "    <tr>\n",
       "      <th>kollektiv_positiv</th>\n",
       "      <td>0.28</td>\n",
       "      <td>130/471</td>\n",
       "      <td>0.45</td>\n",
       "      <td>266/593</td>\n",
       "      <td>0.11</td>\n",
       "      <td>0.12</td>\n",
       "      <td>0.17</td>\n",
       "      <td>0.23</td>\n",
       "      <td>0.23</td>\n",
       "      <td>33.45</td>\n",
       "      <td>0.0</td>\n",
       "      <td>0.0</td>\n",
       "      <td>0.18</td>\n",
       "      <td>130.0</td>\n",
       "      <td>175.30</td>\n",
       "    </tr>\n",
       "    <tr>\n",
       "      <th>neuzeit</th>\n",
       "      <td>0.47</td>\n",
       "      <td>499/1053</td>\n",
       "      <td>0.63</td>\n",
       "      <td>502/797</td>\n",
       "      <td>0.11</td>\n",
       "      <td>0.11</td>\n",
       "      <td>0.16</td>\n",
       "      <td>0.20</td>\n",
       "      <td>0.20</td>\n",
       "      <td>44.45</td>\n",
       "      <td>0.0</td>\n",
       "      <td>0.0</td>\n",
       "      <td>0.16</td>\n",
       "      <td>295.0</td>\n",
       "      <td>365.76</td>\n",
       "    </tr>\n",
       "    <tr>\n",
       "      <th>unbekanntes_individuum_negativ</th>\n",
       "      <td>0.18</td>\n",
       "      <td>59/331</td>\n",
       "      <td>0.07</td>\n",
       "      <td>22/300</td>\n",
       "      <td>-0.16</td>\n",
       "      <td>-0.16</td>\n",
       "      <td>-0.10</td>\n",
       "      <td>-0.05</td>\n",
       "      <td>-0.05</td>\n",
       "      <td>15.48</td>\n",
       "      <td>0.0</td>\n",
       "      <td>0.0</td>\n",
       "      <td>0.16</td>\n",
       "      <td>22.0</td>\n",
       "      <td>38.51</td>\n",
       "    </tr>\n",
       "  </tbody>\n",
       "</table>\n",
       "</div>"
      ],
      "text/plain": [
       "                                wenn_nicht wenn_nicht_detail  wenn_ja  \\\n",
       "heroismus                             0.19          195/1053     0.41   \n",
       "ortmarker_vorhanden                   0.18          189/1053     0.41   \n",
       "fixierbarkeit                         0.55          576/1053     0.76   \n",
       "kollektiv_positiv                     0.28           130/471     0.45   \n",
       "neuzeit                               0.47          499/1053     0.63   \n",
       "unbekanntes_individuum_negativ        0.18            59/331     0.07   \n",
       "\n",
       "                               wenn_ja_detail  diff_low_bootstrap  diff_low  \\\n",
       "heroismus                             328/797                0.18      0.18   \n",
       "ortmarker_vorhanden                   323/797                0.18      0.18   \n",
       "fixierbarkeit                         606/797                0.17      0.17   \n",
       "kollektiv_positiv                     266/593                0.11      0.12   \n",
       "neuzeit                               502/797                0.11      0.11   \n",
       "unbekanntes_individuum_negativ         22/300               -0.16     -0.16   \n",
       "\n",
       "                                diff  diff_high  diff_high_bootstrap    chi2  \\\n",
       "heroismus                       0.23       0.27                 0.27  114.62   \n",
       "ortmarker_vorhanden             0.23       0.27                 0.27  115.53   \n",
       "fixierbarkeit                   0.21       0.26                 0.26   89.50   \n",
       "kollektiv_positiv               0.17       0.23                 0.23   33.45   \n",
       "neuzeit                         0.16       0.20                 0.20   44.45   \n",
       "unbekanntes_individuum_negativ -0.10      -0.05                -0.05   15.48   \n",
       "\n",
       "                                chi2_p  fisher_p   phi  min_real  min_expected  \n",
       "heroismus                          0.0       0.0  0.25     195.0        225.31  \n",
       "ortmarker_vorhanden                0.0       0.0  0.25     189.0        220.58  \n",
       "fixierbarkeit                      0.0       0.0  0.22     191.0        287.78  \n",
       "kollektiv_positiv                  0.0       0.0  0.18     130.0        175.30  \n",
       "neuzeit                            0.0       0.0  0.16     295.0        365.76  \n",
       "unbekanntes_individuum_negativ     0.0       0.0  0.16      22.0         38.51  "
      ]
     },
     "execution_count": 37,
     "metadata": {},
     "output_type": "execute_result"
    }
   ],
   "source": [
    "directly_related = [\n",
    "    'religion', 'politik'\n",
    "]\n",
    "results_filtered = (\n",
    "    results\n",
    "    .query(\"index not in @directly_related\")\n",
    "    .query(\"chi2_p < 0.05 and min_expected >= 5 and phi >= @threshold\")\n",
    "    .sort_values(by = 'diff', ascending = False)\n",
    ")\n",
    "round(results_filtered, 2)"
   ]
  },
  {
   "cell_type": "code",
   "execution_count": 38,
   "id": "09fa4947-6ca4-4794-8171-182b7fa0f2eb",
   "metadata": {},
   "outputs": [
    {
     "data": {
      "text/html": [
       "<div>\n",
       "<style scoped>\n",
       "    .dataframe tbody tr th:only-of-type {\n",
       "        vertical-align: middle;\n",
       "    }\n",
       "\n",
       "    .dataframe tbody tr th {\n",
       "        vertical-align: top;\n",
       "    }\n",
       "\n",
       "    .dataframe thead th {\n",
       "        text-align: right;\n",
       "    }\n",
       "</style>\n",
       "<table border=\"1\" class=\"dataframe\">\n",
       "  <thead>\n",
       "    <tr style=\"text-align: right;\">\n",
       "      <th></th>\n",
       "      <th>wenn_nicht</th>\n",
       "      <th>wenn_nicht_detail</th>\n",
       "      <th>wenn_ja</th>\n",
       "      <th>wenn_ja_detail</th>\n",
       "      <th>diff_low_bootstrap</th>\n",
       "      <th>diff_low</th>\n",
       "      <th>diff</th>\n",
       "      <th>diff_high</th>\n",
       "      <th>diff_high_bootstrap</th>\n",
       "      <th>chi2</th>\n",
       "      <th>chi2_p</th>\n",
       "      <th>fisher_p</th>\n",
       "      <th>phi</th>\n",
       "      <th>min_real</th>\n",
       "      <th>min_expected</th>\n",
       "    </tr>\n",
       "  </thead>\n",
       "  <tbody>\n",
       "    <tr>\n",
       "      <th>liebe_negativ</th>\n",
       "      <td>0.0690</td>\n",
       "      <td>4/58</td>\n",
       "      <td>0.6000</td>\n",
       "      <td>3/5</td>\n",
       "      <td>0.0966</td>\n",
       "      <td>0.0967</td>\n",
       "      <td>0.5310</td>\n",
       "      <td>0.9654</td>\n",
       "      <td>0.9315</td>\n",
       "      <td>13.1431</td>\n",
       "      <td>0.0003</td>\n",
       "      <td>0.0080</td>\n",
       "      <td>0.4568</td>\n",
       "      <td>2.0</td>\n",
       "      <td>0.5556</td>\n",
       "    </tr>\n",
       "    <tr>\n",
       "      <th>unbekanntes_individuum_positiv</th>\n",
       "      <td>0.3021</td>\n",
       "      <td>100/331</td>\n",
       "      <td>0.3900</td>\n",
       "      <td>117/300</td>\n",
       "      <td>0.0159</td>\n",
       "      <td>0.0138</td>\n",
       "      <td>0.0879</td>\n",
       "      <td>0.1620</td>\n",
       "      <td>0.1618</td>\n",
       "      <td>5.3870</td>\n",
       "      <td>0.0203</td>\n",
       "      <td>0.0234</td>\n",
       "      <td>0.0924</td>\n",
       "      <td>100.0</td>\n",
       "      <td>103.1696</td>\n",
       "    </tr>\n",
       "    <tr>\n",
       "      <th>stoffgebiet_positiv</th>\n",
       "      <td>0.4391</td>\n",
       "      <td>631/1437</td>\n",
       "      <td>0.5014</td>\n",
       "      <td>553/1103</td>\n",
       "      <td>0.0233</td>\n",
       "      <td>0.0231</td>\n",
       "      <td>0.0623</td>\n",
       "      <td>0.1014</td>\n",
       "      <td>0.0999</td>\n",
       "      <td>9.7172</td>\n",
       "      <td>0.0018</td>\n",
       "      <td>0.0020</td>\n",
       "      <td>0.0619</td>\n",
       "      <td>550.0</td>\n",
       "      <td>514.1543</td>\n",
       "    </tr>\n",
       "    <tr>\n",
       "      <th>entity_positiv</th>\n",
       "      <td>0.4542</td>\n",
       "      <td>982/2162</td>\n",
       "      <td>0.5068</td>\n",
       "      <td>889/1754</td>\n",
       "      <td>0.0202</td>\n",
       "      <td>0.0212</td>\n",
       "      <td>0.0526</td>\n",
       "      <td>0.0841</td>\n",
       "      <td>0.0844</td>\n",
       "      <td>10.7515</td>\n",
       "      <td>0.0010</td>\n",
       "      <td>0.0012</td>\n",
       "      <td>0.0524</td>\n",
       "      <td>865.0</td>\n",
       "      <td>838.0322</td>\n",
       "    </tr>\n",
       "    <tr>\n",
       "      <th>bekanntes_individuum_positiv</th>\n",
       "      <td>0.5562</td>\n",
       "      <td>678/1219</td>\n",
       "      <td>0.5881</td>\n",
       "      <td>474/806</td>\n",
       "      <td>-0.0104</td>\n",
       "      <td>-0.0121</td>\n",
       "      <td>0.0319</td>\n",
       "      <td>0.0759</td>\n",
       "      <td>0.0759</td>\n",
       "      <td>2.0126</td>\n",
       "      <td>0.1560</td>\n",
       "      <td>0.1691</td>\n",
       "      <td>0.0315</td>\n",
       "      <td>332.0</td>\n",
       "      <td>347.4756</td>\n",
       "    </tr>\n",
       "    <tr>\n",
       "      <th>bekanntes_individuum_negativ</th>\n",
       "      <td>0.1313</td>\n",
       "      <td>160/1219</td>\n",
       "      <td>0.1439</td>\n",
       "      <td>116/806</td>\n",
       "      <td>-0.0174</td>\n",
       "      <td>-0.0181</td>\n",
       "      <td>0.0127</td>\n",
       "      <td>0.0434</td>\n",
       "      <td>0.0460</td>\n",
       "      <td>0.6612</td>\n",
       "      <td>0.4162</td>\n",
       "      <td>0.4276</td>\n",
       "      <td>0.0181</td>\n",
       "      <td>116.0</td>\n",
       "      <td>109.8548</td>\n",
       "    </tr>\n",
       "    <tr>\n",
       "      <th>entity_ambivalent</th>\n",
       "      <td>0.0611</td>\n",
       "      <td>132/2162</td>\n",
       "      <td>0.0639</td>\n",
       "      <td>112/1754</td>\n",
       "      <td>-0.0109</td>\n",
       "      <td>-0.0125</td>\n",
       "      <td>0.0028</td>\n",
       "      <td>0.0181</td>\n",
       "      <td>0.0177</td>\n",
       "      <td>0.1299</td>\n",
       "      <td>0.7185</td>\n",
       "      <td>0.7398</td>\n",
       "      <td>0.0058</td>\n",
       "      <td>112.0</td>\n",
       "      <td>109.2891</td>\n",
       "    </tr>\n",
       "    <tr>\n",
       "      <th>stoffgebiet_negativ</th>\n",
       "      <td>0.2164</td>\n",
       "      <td>311/1437</td>\n",
       "      <td>0.2040</td>\n",
       "      <td>225/1103</td>\n",
       "      <td>-0.0432</td>\n",
       "      <td>-0.0444</td>\n",
       "      <td>-0.0124</td>\n",
       "      <td>0.0195</td>\n",
       "      <td>0.0192</td>\n",
       "      <td>0.5795</td>\n",
       "      <td>0.4465</td>\n",
       "      <td>0.4620</td>\n",
       "      <td>0.0151</td>\n",
       "      <td>225.0</td>\n",
       "      <td>232.7591</td>\n",
       "    </tr>\n",
       "    <tr>\n",
       "      <th>entity_negativ</th>\n",
       "      <td>0.1702</td>\n",
       "      <td>368/2162</td>\n",
       "      <td>0.1574</td>\n",
       "      <td>276/1754</td>\n",
       "      <td>-0.0361</td>\n",
       "      <td>-0.0361</td>\n",
       "      <td>-0.0129</td>\n",
       "      <td>0.0104</td>\n",
       "      <td>0.0119</td>\n",
       "      <td>1.1652</td>\n",
       "      <td>0.2804</td>\n",
       "      <td>0.2982</td>\n",
       "      <td>0.0172</td>\n",
       "      <td>276.0</td>\n",
       "      <td>288.4515</td>\n",
       "    </tr>\n",
       "    <tr>\n",
       "      <th>stoffgebiet_ambivalent</th>\n",
       "      <td>0.1434</td>\n",
       "      <td>206/1437</td>\n",
       "      <td>0.1197</td>\n",
       "      <td>132/1103</td>\n",
       "      <td>-0.0491</td>\n",
       "      <td>-0.0500</td>\n",
       "      <td>-0.0237</td>\n",
       "      <td>0.0027</td>\n",
       "      <td>0.0025</td>\n",
       "      <td>3.0333</td>\n",
       "      <td>0.0816</td>\n",
       "      <td>0.0874</td>\n",
       "      <td>0.0346</td>\n",
       "      <td>132.0</td>\n",
       "      <td>146.7772</td>\n",
       "    </tr>\n",
       "    <tr>\n",
       "      <th>stoffgebiet_neutral</th>\n",
       "      <td>0.2011</td>\n",
       "      <td>289/1437</td>\n",
       "      <td>0.1750</td>\n",
       "      <td>193/1103</td>\n",
       "      <td>-0.0553</td>\n",
       "      <td>-0.0567</td>\n",
       "      <td>-0.0261</td>\n",
       "      <td>0.0044</td>\n",
       "      <td>0.0052</td>\n",
       "      <td>2.7724</td>\n",
       "      <td>0.0959</td>\n",
       "      <td>0.1024</td>\n",
       "      <td>0.0330</td>\n",
       "      <td>193.0</td>\n",
       "      <td>209.3094</td>\n",
       "    </tr>\n",
       "    <tr>\n",
       "      <th>entity_neutral</th>\n",
       "      <td>0.3145</td>\n",
       "      <td>680/2162</td>\n",
       "      <td>0.2719</td>\n",
       "      <td>477/1754</td>\n",
       "      <td>-0.0723</td>\n",
       "      <td>-0.0712</td>\n",
       "      <td>-0.0426</td>\n",
       "      <td>-0.0140</td>\n",
       "      <td>-0.0139</td>\n",
       "      <td>8.4319</td>\n",
       "      <td>0.0037</td>\n",
       "      <td>0.0039</td>\n",
       "      <td>0.0464</td>\n",
       "      <td>477.0</td>\n",
       "      <td>518.2273</td>\n",
       "    </tr>\n",
       "    <tr>\n",
       "      <th>kollektiv_negativ</th>\n",
       "      <td>0.2887</td>\n",
       "      <td>136/471</td>\n",
       "      <td>0.2226</td>\n",
       "      <td>132/593</td>\n",
       "      <td>-0.1161</td>\n",
       "      <td>-0.1190</td>\n",
       "      <td>-0.0662</td>\n",
       "      <td>-0.0133</td>\n",
       "      <td>-0.0136</td>\n",
       "      <td>6.0958</td>\n",
       "      <td>0.0135</td>\n",
       "      <td>0.0156</td>\n",
       "      <td>0.0757</td>\n",
       "      <td>132.0</td>\n",
       "      <td>118.6353</td>\n",
       "    </tr>\n",
       "    <tr>\n",
       "      <th>religion</th>\n",
       "      <td>0.1975</td>\n",
       "      <td>208/1053</td>\n",
       "      <td>0.0740</td>\n",
       "      <td>59/797</td>\n",
       "      <td>-0.1544</td>\n",
       "      <td>-0.1536</td>\n",
       "      <td>-0.1235</td>\n",
       "      <td>-0.0934</td>\n",
       "      <td>-0.0941</td>\n",
       "      <td>56.0303</td>\n",
       "      <td>0.0000</td>\n",
       "      <td>0.0000</td>\n",
       "      <td>0.1740</td>\n",
       "      <td>59.0</td>\n",
       "      <td>115.0265</td>\n",
       "    </tr>\n",
       "    <tr>\n",
       "      <th>geschichtsauffassung_positiv</th>\n",
       "      <td>0.4146</td>\n",
       "      <td>17/41</td>\n",
       "      <td>0.2500</td>\n",
       "      <td>9/36</td>\n",
       "      <td>-0.3591</td>\n",
       "      <td>-0.3714</td>\n",
       "      <td>-0.1646</td>\n",
       "      <td>0.0421</td>\n",
       "      <td>0.0475</td>\n",
       "      <td>2.3231</td>\n",
       "      <td>0.1275</td>\n",
       "      <td>0.1524</td>\n",
       "      <td>0.1737</td>\n",
       "      <td>9.0</td>\n",
       "      <td>12.1558</td>\n",
       "    </tr>\n",
       "    <tr>\n",
       "      <th>politik</th>\n",
       "      <td>0.2317</td>\n",
       "      <td>244/1053</td>\n",
       "      <td>0.0489</td>\n",
       "      <td>39/797</td>\n",
       "      <td>-0.2115</td>\n",
       "      <td>-0.2123</td>\n",
       "      <td>-0.1828</td>\n",
       "      <td>-0.1532</td>\n",
       "      <td>-0.1548</td>\n",
       "      <td>116.9731</td>\n",
       "      <td>0.0000</td>\n",
       "      <td>0.0000</td>\n",
       "      <td>0.2515</td>\n",
       "      <td>39.0</td>\n",
       "      <td>121.9195</td>\n",
       "    </tr>\n",
       "    <tr>\n",
       "      <th>liebe_positiv</th>\n",
       "      <td>0.5517</td>\n",
       "      <td>32/58</td>\n",
       "      <td>0.0000</td>\n",
       "      <td>0/5</td>\n",
       "      <td>-0.6724</td>\n",
       "      <td>-0.6797</td>\n",
       "      <td>-0.5517</td>\n",
       "      <td>-0.4237</td>\n",
       "      <td>-0.4310</td>\n",
       "      <td>5.6062</td>\n",
       "      <td>0.0179</td>\n",
       "      <td>0.0242</td>\n",
       "      <td>0.2983</td>\n",
       "      <td>0.0</td>\n",
       "      <td>2.4603</td>\n",
       "    </tr>\n",
       "  </tbody>\n",
       "</table>\n",
       "</div>"
      ],
      "text/plain": [
       "                                wenn_nicht wenn_nicht_detail  wenn_ja  \\\n",
       "liebe_negativ                       0.0690              4/58   0.6000   \n",
       "unbekanntes_individuum_positiv      0.3021           100/331   0.3900   \n",
       "stoffgebiet_positiv                 0.4391          631/1437   0.5014   \n",
       "entity_positiv                      0.4542          982/2162   0.5068   \n",
       "bekanntes_individuum_positiv        0.5562          678/1219   0.5881   \n",
       "bekanntes_individuum_negativ        0.1313          160/1219   0.1439   \n",
       "entity_ambivalent                   0.0611          132/2162   0.0639   \n",
       "stoffgebiet_negativ                 0.2164          311/1437   0.2040   \n",
       "entity_negativ                      0.1702          368/2162   0.1574   \n",
       "stoffgebiet_ambivalent              0.1434          206/1437   0.1197   \n",
       "stoffgebiet_neutral                 0.2011          289/1437   0.1750   \n",
       "entity_neutral                      0.3145          680/2162   0.2719   \n",
       "kollektiv_negativ                   0.2887           136/471   0.2226   \n",
       "religion                            0.1975          208/1053   0.0740   \n",
       "geschichtsauffassung_positiv        0.4146             17/41   0.2500   \n",
       "politik                             0.2317          244/1053   0.0489   \n",
       "liebe_positiv                       0.5517             32/58   0.0000   \n",
       "\n",
       "                               wenn_ja_detail  diff_low_bootstrap  diff_low  \\\n",
       "liebe_negativ                             3/5              0.0966    0.0967   \n",
       "unbekanntes_individuum_positiv        117/300              0.0159    0.0138   \n",
       "stoffgebiet_positiv                  553/1103              0.0233    0.0231   \n",
       "entity_positiv                       889/1754              0.0202    0.0212   \n",
       "bekanntes_individuum_positiv          474/806             -0.0104   -0.0121   \n",
       "bekanntes_individuum_negativ          116/806             -0.0174   -0.0181   \n",
       "entity_ambivalent                    112/1754             -0.0109   -0.0125   \n",
       "stoffgebiet_negativ                  225/1103             -0.0432   -0.0444   \n",
       "entity_negativ                       276/1754             -0.0361   -0.0361   \n",
       "stoffgebiet_ambivalent               132/1103             -0.0491   -0.0500   \n",
       "stoffgebiet_neutral                  193/1103             -0.0553   -0.0567   \n",
       "entity_neutral                       477/1754             -0.0723   -0.0712   \n",
       "kollektiv_negativ                     132/593             -0.1161   -0.1190   \n",
       "religion                               59/797             -0.1544   -0.1536   \n",
       "geschichtsauffassung_positiv             9/36             -0.3591   -0.3714   \n",
       "politik                                39/797             -0.2115   -0.2123   \n",
       "liebe_positiv                             0/5             -0.6724   -0.6797   \n",
       "\n",
       "                                  diff  diff_high  diff_high_bootstrap  \\\n",
       "liebe_negativ                   0.5310     0.9654               0.9315   \n",
       "unbekanntes_individuum_positiv  0.0879     0.1620               0.1618   \n",
       "stoffgebiet_positiv             0.0623     0.1014               0.0999   \n",
       "entity_positiv                  0.0526     0.0841               0.0844   \n",
       "bekanntes_individuum_positiv    0.0319     0.0759               0.0759   \n",
       "bekanntes_individuum_negativ    0.0127     0.0434               0.0460   \n",
       "entity_ambivalent               0.0028     0.0181               0.0177   \n",
       "stoffgebiet_negativ            -0.0124     0.0195               0.0192   \n",
       "entity_negativ                 -0.0129     0.0104               0.0119   \n",
       "stoffgebiet_ambivalent         -0.0237     0.0027               0.0025   \n",
       "stoffgebiet_neutral            -0.0261     0.0044               0.0052   \n",
       "entity_neutral                 -0.0426    -0.0140              -0.0139   \n",
       "kollektiv_negativ              -0.0662    -0.0133              -0.0136   \n",
       "religion                       -0.1235    -0.0934              -0.0941   \n",
       "geschichtsauffassung_positiv   -0.1646     0.0421               0.0475   \n",
       "politik                        -0.1828    -0.1532              -0.1548   \n",
       "liebe_positiv                  -0.5517    -0.4237              -0.4310   \n",
       "\n",
       "                                    chi2  chi2_p  fisher_p     phi  min_real  \\\n",
       "liebe_negativ                    13.1431  0.0003    0.0080  0.4568       2.0   \n",
       "unbekanntes_individuum_positiv    5.3870  0.0203    0.0234  0.0924     100.0   \n",
       "stoffgebiet_positiv               9.7172  0.0018    0.0020  0.0619     550.0   \n",
       "entity_positiv                   10.7515  0.0010    0.0012  0.0524     865.0   \n",
       "bekanntes_individuum_positiv      2.0126  0.1560    0.1691  0.0315     332.0   \n",
       "bekanntes_individuum_negativ      0.6612  0.4162    0.4276  0.0181     116.0   \n",
       "entity_ambivalent                 0.1299  0.7185    0.7398  0.0058     112.0   \n",
       "stoffgebiet_negativ               0.5795  0.4465    0.4620  0.0151     225.0   \n",
       "entity_negativ                    1.1652  0.2804    0.2982  0.0172     276.0   \n",
       "stoffgebiet_ambivalent            3.0333  0.0816    0.0874  0.0346     132.0   \n",
       "stoffgebiet_neutral               2.7724  0.0959    0.1024  0.0330     193.0   \n",
       "entity_neutral                    8.4319  0.0037    0.0039  0.0464     477.0   \n",
       "kollektiv_negativ                 6.0958  0.0135    0.0156  0.0757     132.0   \n",
       "religion                         56.0303  0.0000    0.0000  0.1740      59.0   \n",
       "geschichtsauffassung_positiv      2.3231  0.1275    0.1524  0.1737       9.0   \n",
       "politik                         116.9731  0.0000    0.0000  0.2515      39.0   \n",
       "liebe_positiv                     5.6062  0.0179    0.0242  0.2983       0.0   \n",
       "\n",
       "                                min_expected  \n",
       "liebe_negativ                         0.5556  \n",
       "unbekanntes_individuum_positiv      103.1696  \n",
       "stoffgebiet_positiv                 514.1543  \n",
       "entity_positiv                      838.0322  \n",
       "bekanntes_individuum_positiv        347.4756  \n",
       "bekanntes_individuum_negativ        109.8548  \n",
       "entity_ambivalent                   109.2891  \n",
       "stoffgebiet_negativ                 232.7591  \n",
       "entity_negativ                      288.4515  \n",
       "stoffgebiet_ambivalent              146.7772  \n",
       "stoffgebiet_neutral                 209.3094  \n",
       "entity_neutral                      518.2273  \n",
       "kollektiv_negativ                   118.6353  \n",
       "religion                            115.0265  \n",
       "geschichtsauffassung_positiv         12.1558  \n",
       "politik                             121.9195  \n",
       "liebe_positiv                         2.4603  "
      ]
     },
     "execution_count": 38,
     "metadata": {},
     "output_type": "execute_result"
    }
   ],
   "source": [
    "results_other = results.query(\"index not in @results_filtered.index\")\n",
    "round(results_other.sort_values(by='diff', ascending=False), 4)"
   ]
  },
  {
   "cell_type": "code",
   "execution_count": 39,
   "id": "a4ee4592",
   "metadata": {},
   "outputs": [
    {
     "data": {
      "text/html": [
       "<div>\n",
       "<style scoped>\n",
       "    .dataframe tbody tr th:only-of-type {\n",
       "        vertical-align: middle;\n",
       "    }\n",
       "\n",
       "    .dataframe tbody tr th {\n",
       "        vertical-align: top;\n",
       "    }\n",
       "\n",
       "    .dataframe thead th {\n",
       "        text-align: right;\n",
       "    }\n",
       "</style>\n",
       "<table border=\"1\" class=\"dataframe\">\n",
       "  <thead>\n",
       "    <tr style=\"text-align: right;\">\n",
       "      <th></th>\n",
       "      <th>wenn_nicht_1850</th>\n",
       "      <th>wenn_nicht_detail_1850</th>\n",
       "      <th>wenn_ja_1850</th>\n",
       "      <th>wenn_ja_detail_1850</th>\n",
       "      <th>diff_1850</th>\n",
       "      <th>chi2_p_1850</th>\n",
       "      <th>phi_1850</th>\n",
       "      <th>wenn_nicht_1885</th>\n",
       "      <th>wenn_nicht_detail_1885</th>\n",
       "      <th>wenn_ja_1885</th>\n",
       "      <th>wenn_ja_detail_1885</th>\n",
       "      <th>diff_1885</th>\n",
       "      <th>chi2_p_1885</th>\n",
       "      <th>phi_1885</th>\n",
       "      <th>diff_of_diffs</th>\n",
       "      <th>diff_of_phis</th>\n",
       "    </tr>\n",
       "  </thead>\n",
       "  <tbody>\n",
       "    <tr>\n",
       "      <th>heroismus</th>\n",
       "      <td>0.186</td>\n",
       "      <td>147/789</td>\n",
       "      <td>0.474</td>\n",
       "      <td>264/557</td>\n",
       "      <td>0.288</td>\n",
       "      <td>0.000</td>\n",
       "      <td>0.308</td>\n",
       "      <td>0.182</td>\n",
       "      <td>48/264</td>\n",
       "      <td>0.267</td>\n",
       "      <td>64/240</td>\n",
       "      <td>0.085</td>\n",
       "      <td>0.022</td>\n",
       "      <td>0.102</td>\n",
       "      <td>-0.203</td>\n",
       "      <td>-0.206</td>\n",
       "    </tr>\n",
       "    <tr>\n",
       "      <th>fixierbarkeit</th>\n",
       "      <td>0.564</td>\n",
       "      <td>445/789</td>\n",
       "      <td>0.801</td>\n",
       "      <td>446/557</td>\n",
       "      <td>0.237</td>\n",
       "      <td>0.000</td>\n",
       "      <td>0.246</td>\n",
       "      <td>0.496</td>\n",
       "      <td>131/264</td>\n",
       "      <td>0.667</td>\n",
       "      <td>160/240</td>\n",
       "      <td>0.170</td>\n",
       "      <td>0.000</td>\n",
       "      <td>0.172</td>\n",
       "      <td>-0.066</td>\n",
       "      <td>-0.074</td>\n",
       "    </tr>\n",
       "    <tr>\n",
       "      <th>ortmarker_vorhanden</th>\n",
       "      <td>0.186</td>\n",
       "      <td>147/789</td>\n",
       "      <td>0.433</td>\n",
       "      <td>241/557</td>\n",
       "      <td>0.246</td>\n",
       "      <td>0.000</td>\n",
       "      <td>0.268</td>\n",
       "      <td>0.159</td>\n",
       "      <td>42/264</td>\n",
       "      <td>0.342</td>\n",
       "      <td>82/240</td>\n",
       "      <td>0.183</td>\n",
       "      <td>0.000</td>\n",
       "      <td>0.212</td>\n",
       "      <td>-0.064</td>\n",
       "      <td>-0.056</td>\n",
       "    </tr>\n",
       "    <tr>\n",
       "      <th>kollektiv_positiv</th>\n",
       "      <td>0.280</td>\n",
       "      <td>102/364</td>\n",
       "      <td>0.453</td>\n",
       "      <td>209/461</td>\n",
       "      <td>0.173</td>\n",
       "      <td>0.000</td>\n",
       "      <td>0.177</td>\n",
       "      <td>0.262</td>\n",
       "      <td>28/107</td>\n",
       "      <td>0.432</td>\n",
       "      <td>57/132</td>\n",
       "      <td>0.170</td>\n",
       "      <td>0.006</td>\n",
       "      <td>0.177</td>\n",
       "      <td>-0.003</td>\n",
       "      <td>-0.001</td>\n",
       "    </tr>\n",
       "    <tr>\n",
       "      <th>unbekanntes_individuum_negativ</th>\n",
       "      <td>0.169</td>\n",
       "      <td>37/219</td>\n",
       "      <td>0.078</td>\n",
       "      <td>13/167</td>\n",
       "      <td>-0.091</td>\n",
       "      <td>0.008</td>\n",
       "      <td>0.134</td>\n",
       "      <td>0.196</td>\n",
       "      <td>22/112</td>\n",
       "      <td>0.068</td>\n",
       "      <td>9/133</td>\n",
       "      <td>-0.129</td>\n",
       "      <td>0.003</td>\n",
       "      <td>0.193</td>\n",
       "      <td>-0.038</td>\n",
       "      <td>0.059</td>\n",
       "    </tr>\n",
       "    <tr>\n",
       "      <th>neuzeit</th>\n",
       "      <td>0.454</td>\n",
       "      <td>358/789</td>\n",
       "      <td>0.583</td>\n",
       "      <td>325/557</td>\n",
       "      <td>0.130</td>\n",
       "      <td>0.000</td>\n",
       "      <td>0.128</td>\n",
       "      <td>0.534</td>\n",
       "      <td>141/264</td>\n",
       "      <td>0.738</td>\n",
       "      <td>177/240</td>\n",
       "      <td>0.203</td>\n",
       "      <td>0.000</td>\n",
       "      <td>0.211</td>\n",
       "      <td>0.074</td>\n",
       "      <td>0.083</td>\n",
       "    </tr>\n",
       "  </tbody>\n",
       "</table>\n",
       "</div>"
      ],
      "text/plain": [
       "                                wenn_nicht_1850 wenn_nicht_detail_1850  \\\n",
       "heroismus                                 0.186                147/789   \n",
       "fixierbarkeit                             0.564                445/789   \n",
       "ortmarker_vorhanden                       0.186                147/789   \n",
       "kollektiv_positiv                         0.280                102/364   \n",
       "unbekanntes_individuum_negativ            0.169                 37/219   \n",
       "neuzeit                                   0.454                358/789   \n",
       "\n",
       "                                wenn_ja_1850 wenn_ja_detail_1850  diff_1850  \\\n",
       "heroismus                              0.474             264/557      0.288   \n",
       "fixierbarkeit                          0.801             446/557      0.237   \n",
       "ortmarker_vorhanden                    0.433             241/557      0.246   \n",
       "kollektiv_positiv                      0.453             209/461      0.173   \n",
       "unbekanntes_individuum_negativ         0.078              13/167     -0.091   \n",
       "neuzeit                                0.583             325/557      0.130   \n",
       "\n",
       "                                chi2_p_1850  phi_1850  wenn_nicht_1885  \\\n",
       "heroismus                             0.000     0.308            0.182   \n",
       "fixierbarkeit                         0.000     0.246            0.496   \n",
       "ortmarker_vorhanden                   0.000     0.268            0.159   \n",
       "kollektiv_positiv                     0.000     0.177            0.262   \n",
       "unbekanntes_individuum_negativ        0.008     0.134            0.196   \n",
       "neuzeit                               0.000     0.128            0.534   \n",
       "\n",
       "                               wenn_nicht_detail_1885  wenn_ja_1885  \\\n",
       "heroismus                                      48/264         0.267   \n",
       "fixierbarkeit                                 131/264         0.667   \n",
       "ortmarker_vorhanden                            42/264         0.342   \n",
       "kollektiv_positiv                              28/107         0.432   \n",
       "unbekanntes_individuum_negativ                 22/112         0.068   \n",
       "neuzeit                                       141/264         0.738   \n",
       "\n",
       "                               wenn_ja_detail_1885  diff_1885  chi2_p_1885  \\\n",
       "heroismus                                   64/240      0.085        0.022   \n",
       "fixierbarkeit                              160/240      0.170        0.000   \n",
       "ortmarker_vorhanden                         82/240      0.183        0.000   \n",
       "kollektiv_positiv                           57/132      0.170        0.006   \n",
       "unbekanntes_individuum_negativ               9/133     -0.129        0.003   \n",
       "neuzeit                                    177/240      0.203        0.000   \n",
       "\n",
       "                                phi_1885  diff_of_diffs  diff_of_phis  \n",
       "heroismus                          0.102         -0.203        -0.206  \n",
       "fixierbarkeit                      0.172         -0.066        -0.074  \n",
       "ortmarker_vorhanden                0.212         -0.064        -0.056  \n",
       "kollektiv_positiv                  0.177         -0.003        -0.001  \n",
       "unbekanntes_individuum_negativ     0.193         -0.038         0.059  \n",
       "neuzeit                            0.211          0.074         0.083  "
      ]
     },
     "execution_count": 39,
     "metadata": {},
     "output_type": "execute_result"
    }
   ],
   "source": [
    "result_categories = ['wenn_nicht', 'wenn_nicht_detail', 'wenn_ja', 'wenn_ja_detail', 'diff', 'chi2_p', 'phi',]\n",
    "\n",
    "results_a = relations_binbin(\n",
    "    meta = meta_anth_bin.query(\"1850 <= year <= 1884\"), \n",
    "    main_feature = main_feature,\n",
    "    comp_features = results_filtered.index\n",
    ")\n",
    "\n",
    "results_b = relations_binbin(\n",
    "    meta = meta_anth_bin.query(\"1885 <= year <= 1918\"), \n",
    "    main_feature = main_feature,\n",
    "    comp_features = results_filtered.index\n",
    ")\n",
    "\n",
    "results_merged = results_a[result_categories].join(\n",
    "    results_b[result_categories], \n",
    "    lsuffix='_1850', rsuffix = '_1885'\n",
    ")\n",
    "results_merged['diff_of_diffs'] = results_merged['diff_1885'] - results_merged['diff_1850']\n",
    "results_merged['diff_of_phis'] = results_merged['phi_1885'] - results_merged['phi_1850']\n",
    "\n",
    "round(results_merged.sort_values(by = 'diff_of_phis'), 3)"
   ]
  },
  {
   "cell_type": "code",
   "execution_count": 40,
   "id": "27373495",
   "metadata": {},
   "outputs": [],
   "source": [
    "results = relations_bincont(\n",
    "    meta = meta_anth_bin, \n",
    "    main_feature = main_feature,\n",
    "    comp_features = cont_comp_features\n",
    ")"
   ]
  },
  {
   "cell_type": "code",
   "execution_count": 41,
   "id": "6c0a78a5",
   "metadata": {},
   "outputs": [
    {
     "data": {
      "text/html": [
       "<div>\n",
       "<style scoped>\n",
       "    .dataframe tbody tr th:only-of-type {\n",
       "        vertical-align: middle;\n",
       "    }\n",
       "\n",
       "    .dataframe tbody tr th {\n",
       "        vertical-align: top;\n",
       "    }\n",
       "\n",
       "    .dataframe thead th {\n",
       "        text-align: right;\n",
       "    }\n",
       "</style>\n",
       "<table border=\"1\" class=\"dataframe\">\n",
       "  <thead>\n",
       "    <tr style=\"text-align: right;\">\n",
       "      <th></th>\n",
       "      <th>wenn_nicht</th>\n",
       "      <th>a_merkmal=0</th>\n",
       "      <th>a_merkmal=1</th>\n",
       "      <th>a_merkmal=2</th>\n",
       "      <th>a_merkmal=3</th>\n",
       "      <th>a_merkmal&gt;=4</th>\n",
       "      <th>wenn_ja</th>\n",
       "      <th>b_merkmal=0</th>\n",
       "      <th>b_merkmal=1</th>\n",
       "      <th>b_merkmal=2</th>\n",
       "      <th>...</th>\n",
       "      <th>pointbiserialr_corr</th>\n",
       "      <th>pointbiserialr_p</th>\n",
       "      <th>ttest_p</th>\n",
       "      <th>cohens_d</th>\n",
       "      <th>mannwhitneyu_stat</th>\n",
       "      <th>mannwhitneyu_p</th>\n",
       "      <th>meandiffs_ci_lower</th>\n",
       "      <th>meandiffs_ci_bootstrap_lower</th>\n",
       "      <th>meandiffs_ci_upper</th>\n",
       "      <th>meandiffs_ci_bootstrap_upper</th>\n",
       "    </tr>\n",
       "  </thead>\n",
       "  <tbody>\n",
       "    <tr>\n",
       "      <th>kollektiv_count</th>\n",
       "      <td>0.45</td>\n",
       "      <td>0.64 [670/1053]</td>\n",
       "      <td>0.29 [304/1053]</td>\n",
       "      <td>0.07 [71/1053]</td>\n",
       "      <td>0.01 [7/1053]</td>\n",
       "      <td>0.0 [1/1053]</td>\n",
       "      <td>0.74</td>\n",
       "      <td>0.44 [351/797]</td>\n",
       "      <td>0.39 [307/797]</td>\n",
       "      <td>0.17 [132/797]</td>\n",
       "      <td>...</td>\n",
       "      <td>0.2</td>\n",
       "      <td>0.0</td>\n",
       "      <td>0.0</td>\n",
       "      <td>-0.42</td>\n",
       "      <td>328704.5</td>\n",
       "      <td>0.0</td>\n",
       "      <td>0.23</td>\n",
       "      <td>0.23</td>\n",
       "      <td>0.36</td>\n",
       "      <td>0.36</td>\n",
       "    </tr>\n",
       "  </tbody>\n",
       "</table>\n",
       "<p>1 rows × 22 columns</p>\n",
       "</div>"
      ],
      "text/plain": [
       "                 wenn_nicht      a_merkmal=0      a_merkmal=1     a_merkmal=2  \\\n",
       "kollektiv_count        0.45  0.64 [670/1053]  0.29 [304/1053]  0.07 [71/1053]   \n",
       "\n",
       "                   a_merkmal=3  a_merkmal>=4  wenn_ja     b_merkmal=0  \\\n",
       "kollektiv_count  0.01 [7/1053]  0.0 [1/1053]     0.74  0.44 [351/797]   \n",
       "\n",
       "                    b_merkmal=1     b_merkmal=2  ... pointbiserialr_corr  \\\n",
       "kollektiv_count  0.39 [307/797]  0.17 [132/797]  ...                 0.2   \n",
       "\n",
       "                pointbiserialr_p  ttest_p  cohens_d  mannwhitneyu_stat  \\\n",
       "kollektiv_count              0.0      0.0     -0.42           328704.5   \n",
       "\n",
       "                 mannwhitneyu_p  meandiffs_ci_lower  \\\n",
       "kollektiv_count             0.0                0.23   \n",
       "\n",
       "                 meandiffs_ci_bootstrap_lower  meandiffs_ci_upper  \\\n",
       "kollektiv_count                          0.23                0.36   \n",
       "\n",
       "                 meandiffs_ci_bootstrap_upper  \n",
       "kollektiv_count                          0.36  \n",
       "\n",
       "[1 rows x 22 columns]"
      ]
     },
     "execution_count": 41,
     "metadata": {},
     "output_type": "execute_result"
    }
   ],
   "source": [
    "round(results.sort_values(by = 'pointbiserialr_corr', ascending = False), 2)"
   ]
  },
  {
   "cell_type": "code",
   "execution_count": 42,
   "id": "beaa8e97",
   "metadata": {},
   "outputs": [
    {
     "data": {
      "application/vnd.plotly.v1+json": {
       "config": {
        "plotlyServerURL": "https://plot.ly"
       },
       "data": [
        {
         "alignmentgroup": "True",
         "bingroup": "x",
         "histnorm": "probability density",
         "hovertemplate": "=Texte über Militär/Krieg<br>(Mittelwert = 0.74)<br>Anzahl Kollektive=%{x}<br>probability density=%{y}<extra></extra>",
         "legendgroup": "Texte über Militär/Krieg<br>(Mittelwert = 0.74)",
         "marker": {
          "color": "#636efa",
          "pattern": {
           "shape": ""
          }
         },
         "name": "Texte über Militär/Krieg<br>(Mittelwert = 0.74)",
         "offsetgroup": "Texte über Militär/Krieg<br>(Mittelwert = 0.74)",
         "orientation": "v",
         "showlegend": true,
         "type": "histogram",
         "x": [
          2,
          1,
          2,
          2,
          1,
          0,
          0,
          1,
          2,
          2,
          2,
          0,
          1,
          3,
          0,
          1,
          1,
          0,
          0,
          1,
          0,
          2,
          2,
          1,
          0,
          0,
          0,
          0,
          0,
          1,
          1,
          0,
          2,
          1,
          0,
          0,
          1,
          2,
          0,
          3,
          0,
          0,
          0,
          2,
          2,
          1,
          1,
          1,
          0,
          0,
          1,
          1,
          0,
          0,
          0,
          0,
          0,
          0,
          1,
          2,
          0,
          1,
          1,
          1,
          1,
          2,
          0,
          0,
          0,
          1,
          2,
          1,
          1,
          0,
          1,
          0,
          0,
          1,
          1,
          1,
          0,
          1,
          0,
          0,
          0,
          0,
          1,
          1,
          2,
          1,
          1,
          0,
          0,
          0,
          1,
          2,
          1,
          0,
          1,
          1,
          2,
          2,
          1,
          1,
          1,
          1,
          1,
          2,
          1,
          0,
          1,
          0,
          2,
          0,
          0,
          1,
          0,
          2,
          1,
          1,
          1,
          0,
          2,
          0,
          0,
          2,
          1,
          0,
          0,
          1,
          1,
          2,
          0,
          1,
          1,
          0,
          0,
          0,
          1,
          1,
          0,
          1,
          1,
          0,
          1,
          1,
          2,
          0,
          1,
          2,
          2,
          1,
          0,
          0,
          1,
          0,
          1,
          1,
          1,
          2,
          2,
          0,
          1,
          2,
          0,
          1,
          1,
          0,
          0,
          0,
          0,
          2,
          2,
          0,
          0,
          1,
          2,
          2,
          1,
          0,
          2,
          1,
          0,
          2,
          1,
          0,
          0,
          0,
          0,
          2,
          1,
          1,
          1,
          3,
          2,
          1,
          0,
          2,
          1,
          0,
          1,
          0,
          0,
          2,
          2,
          2,
          2,
          2,
          0,
          2,
          1,
          2,
          1,
          2,
          1,
          1,
          0,
          1,
          0,
          1,
          0,
          0,
          2,
          2,
          1,
          1,
          2,
          2,
          0,
          0,
          0,
          1,
          0,
          0,
          1,
          1,
          1,
          0,
          1,
          0,
          0,
          0,
          2,
          0,
          0,
          0,
          0,
          1,
          1,
          1,
          1,
          1,
          1,
          3,
          2,
          1,
          2,
          1,
          1,
          0,
          0,
          1,
          1,
          1,
          1,
          0,
          0,
          0,
          0,
          0,
          0,
          2,
          2,
          1,
          0,
          0,
          0,
          2,
          1,
          0,
          1,
          0,
          0,
          0,
          1,
          0,
          1,
          0,
          1,
          1,
          1,
          2,
          1,
          0,
          1,
          0,
          2,
          1,
          1,
          0,
          2,
          1,
          0,
          2,
          1,
          1,
          2,
          1,
          1,
          2,
          1,
          0,
          1,
          0,
          2,
          0,
          0,
          2,
          1,
          1,
          0,
          1,
          1,
          0,
          1,
          1,
          0,
          1,
          0,
          1,
          1,
          1,
          2,
          0,
          1,
          1,
          0,
          0,
          1,
          0,
          0,
          0,
          1,
          0,
          0,
          0,
          1,
          1,
          1,
          0,
          2,
          0,
          0,
          2,
          1,
          0,
          1,
          1,
          2,
          1,
          1,
          0,
          1,
          1,
          2,
          0,
          0,
          1,
          1,
          1,
          2,
          0,
          0,
          0,
          2,
          1,
          0,
          0,
          0,
          2,
          1,
          1,
          1,
          1,
          2,
          2,
          1,
          0,
          0,
          0,
          2,
          0,
          2,
          0,
          2,
          1,
          0,
          0,
          1,
          1,
          2,
          2,
          2,
          1,
          1,
          0,
          1,
          2,
          1,
          1,
          0,
          1,
          1,
          2,
          2,
          0,
          0,
          1,
          0,
          2,
          0,
          0,
          1,
          2,
          0,
          1,
          1,
          0,
          0,
          0,
          0,
          1,
          2,
          0,
          1,
          2,
          1,
          0,
          1,
          1,
          1,
          0,
          0,
          1,
          0,
          0,
          0,
          0,
          2,
          3,
          2,
          0,
          2,
          2,
          1,
          0,
          1,
          1,
          0,
          0,
          2,
          1,
          2,
          1,
          1,
          0,
          0,
          0,
          0,
          0,
          0,
          0,
          0,
          0,
          0,
          2,
          2,
          0,
          0,
          0,
          0,
          1,
          1,
          1,
          0,
          0,
          0,
          1,
          0,
          0,
          1,
          2,
          1,
          1,
          0,
          0,
          0,
          2,
          0,
          0,
          0,
          1,
          0,
          1,
          0,
          1,
          0,
          2,
          0,
          1,
          1,
          0,
          1,
          2,
          1,
          0,
          2,
          1,
          0,
          2,
          1,
          0,
          2,
          2,
          0,
          1,
          1,
          0,
          1,
          0,
          0,
          0,
          0,
          1,
          0,
          2,
          1,
          1,
          0,
          0,
          2,
          0,
          0,
          1,
          1,
          2,
          0,
          0,
          1,
          1,
          0,
          2,
          1,
          0,
          0,
          1,
          0,
          0,
          1,
          1,
          0,
          2,
          0,
          1,
          1,
          2,
          2,
          0,
          0,
          1,
          1,
          0,
          1,
          0,
          1,
          0,
          1,
          0,
          0,
          0,
          0,
          0,
          1,
          2,
          0,
          0,
          0,
          1,
          2,
          1,
          1,
          0,
          1,
          0,
          1,
          0,
          0,
          1,
          0,
          0,
          0,
          0,
          1,
          0,
          0,
          0,
          0,
          0,
          0,
          1,
          0,
          0,
          2,
          1,
          1,
          0,
          1,
          1,
          1,
          0,
          1,
          1,
          0,
          0,
          0,
          1,
          0,
          0,
          0,
          0,
          0,
          1,
          0,
          0,
          0,
          1,
          1,
          0,
          1,
          0,
          0,
          1,
          0,
          0,
          0,
          0,
          2,
          2,
          1,
          0,
          1,
          0,
          0,
          0,
          0,
          0,
          0,
          0,
          0,
          1,
          1,
          1,
          2,
          1,
          1,
          0,
          1,
          0,
          0,
          0,
          0,
          0,
          0,
          1,
          0,
          2,
          1,
          1,
          1,
          1,
          2,
          1,
          1,
          2,
          2,
          3,
          1,
          1,
          1,
          1,
          1,
          1,
          0,
          0,
          1,
          1,
          1,
          0,
          1,
          1,
          1,
          0,
          0,
          1,
          1,
          1,
          1,
          1,
          1,
          0,
          2,
          0,
          0,
          1,
          0,
          0,
          0,
          0,
          0,
          1,
          1,
          1,
          1,
          1,
          0,
          0,
          1,
          0,
          0,
          0,
          0,
          0,
          0,
          0,
          0,
          0,
          1,
          1,
          4,
          0,
          0,
          2,
          2,
          0,
          1,
          2,
          0,
          0,
          1,
          0,
          2,
          0,
          1,
          0,
          0,
          2,
          0,
          2,
          0,
          0,
          0,
          1,
          0,
          0,
          0,
          1,
          0,
          0,
          0,
          1,
          1,
          1,
          0,
          0,
          0,
          0,
          0,
          1,
          1,
          0,
          1,
          2,
          1,
          1,
          1,
          0,
          1,
          1,
          1,
          2,
          2,
          1,
          1,
          1,
          1,
          0,
          1
         ],
         "xaxis": "x",
         "yaxis": "y"
        },
        {
         "alignmentgroup": "True",
         "bingroup": "x",
         "histnorm": "probability density",
         "hovertemplate": "=Texte nicht über Militär/Krieg<br>(Mittelwert = 0.45)<br>Anzahl Kollektive=%{x}<br>probability density=%{y}<extra></extra>",
         "legendgroup": "Texte nicht über Militär/Krieg<br>(Mittelwert = 0.45)",
         "marker": {
          "color": "#EF553B",
          "pattern": {
           "shape": ""
          }
         },
         "name": "Texte nicht über Militär/Krieg<br>(Mittelwert = 0.45)",
         "offsetgroup": "Texte nicht über Militär/Krieg<br>(Mittelwert = 0.45)",
         "orientation": "v",
         "showlegend": true,
         "type": "histogram",
         "x": [
          0,
          0,
          1,
          0,
          0,
          1,
          0,
          0,
          0,
          1,
          1,
          0,
          0,
          2,
          0,
          1,
          1,
          0,
          0,
          1,
          1,
          1,
          0,
          0,
          1,
          0,
          1,
          1,
          0,
          0,
          1,
          0,
          1,
          0,
          0,
          0,
          2,
          1,
          1,
          0,
          0,
          0,
          0,
          0,
          0,
          1,
          1,
          0,
          0,
          0,
          1,
          0,
          0,
          2,
          0,
          0,
          0,
          0,
          2,
          0,
          0,
          1,
          0,
          1,
          0,
          0,
          1,
          0,
          1,
          0,
          0,
          1,
          0,
          1,
          0,
          0,
          1,
          1,
          0,
          0,
          0,
          0,
          1,
          0,
          0,
          0,
          0,
          1,
          0,
          1,
          1,
          0,
          0,
          1,
          1,
          0,
          0,
          0,
          0,
          0,
          0,
          1,
          1,
          1,
          1,
          1,
          1,
          0,
          1,
          0,
          0,
          0,
          0,
          0,
          0,
          0,
          1,
          0,
          0,
          0,
          2,
          0,
          0,
          0,
          0,
          1,
          0,
          2,
          1,
          2,
          1,
          2,
          0,
          0,
          1,
          1,
          3,
          0,
          0,
          0,
          0,
          0,
          1,
          2,
          0,
          0,
          0,
          0,
          0,
          0,
          0,
          0,
          1,
          0,
          2,
          0,
          1,
          1,
          1,
          1,
          0,
          0,
          0,
          0,
          1,
          0,
          1,
          0,
          0,
          0,
          1,
          0,
          1,
          1,
          1,
          1,
          0,
          0,
          0,
          0,
          1,
          0,
          0,
          0,
          0,
          1,
          0,
          0,
          0,
          0,
          1,
          1,
          0,
          0,
          1,
          0,
          0,
          1,
          0,
          0,
          1,
          0,
          0,
          0,
          1,
          0,
          1,
          0,
          2,
          1,
          0,
          0,
          0,
          0,
          1,
          0,
          0,
          1,
          1,
          2,
          1,
          0,
          0,
          0,
          1,
          1,
          0,
          0,
          1,
          0,
          2,
          0,
          2,
          0,
          1,
          0,
          0,
          2,
          1,
          3,
          0,
          0,
          0,
          0,
          1,
          1,
          1,
          0,
          0,
          0,
          0,
          1,
          0,
          4,
          0,
          0,
          2,
          0,
          1,
          0,
          0,
          1,
          1,
          0,
          0,
          0,
          0,
          1,
          2,
          0,
          1,
          0,
          0,
          1,
          2,
          0,
          1,
          0,
          0,
          0,
          1,
          1,
          1,
          0,
          0,
          0,
          0,
          0,
          1,
          0,
          0,
          0,
          0,
          1,
          0,
          1,
          0,
          1,
          0,
          0,
          0,
          0,
          0,
          0,
          0,
          0,
          0,
          0,
          0,
          0,
          1,
          0,
          1,
          0,
          1,
          0,
          0,
          0,
          0,
          1,
          0,
          0,
          0,
          0,
          0,
          1,
          0,
          1,
          0,
          1,
          0,
          0,
          0,
          1,
          0,
          1,
          0,
          1,
          0,
          1,
          3,
          1,
          2,
          0,
          1,
          0,
          1,
          0,
          2,
          1,
          1,
          2,
          0,
          1,
          0,
          0,
          0,
          0,
          0,
          0,
          1,
          0,
          1,
          1,
          0,
          0,
          0,
          0,
          0,
          0,
          1,
          0,
          0,
          1,
          0,
          0,
          0,
          0,
          0,
          0,
          0,
          1,
          1,
          1,
          1,
          2,
          0,
          2,
          0,
          1,
          0,
          0,
          0,
          0,
          1,
          0,
          0,
          0,
          2,
          0,
          1,
          0,
          0,
          0,
          1,
          1,
          0,
          1,
          0,
          0,
          2,
          1,
          0,
          0,
          0,
          0,
          0,
          0,
          1,
          0,
          0,
          0,
          0,
          0,
          1,
          0,
          0,
          1,
          1,
          0,
          0,
          2,
          1,
          1,
          0,
          0,
          0,
          0,
          1,
          0,
          0,
          0,
          1,
          0,
          0,
          0,
          1,
          1,
          0,
          0,
          0,
          0,
          0,
          0,
          0,
          0,
          0,
          0,
          0,
          0,
          0,
          0,
          2,
          0,
          0,
          0,
          0,
          1,
          0,
          1,
          1,
          0,
          0,
          0,
          0,
          1,
          0,
          0,
          1,
          0,
          2,
          0,
          1,
          0,
          1,
          1,
          0,
          1,
          0,
          0,
          0,
          1,
          0,
          0,
          1,
          0,
          2,
          0,
          1,
          0,
          0,
          0,
          1,
          0,
          1,
          1,
          0,
          0,
          0,
          3,
          2,
          0,
          0,
          0,
          0,
          0,
          1,
          0,
          0,
          0,
          0,
          0,
          0,
          0,
          1,
          2,
          1,
          0,
          0,
          0,
          1,
          1,
          0,
          1,
          0,
          0,
          0,
          0,
          1,
          1,
          1,
          2,
          1,
          0,
          0,
          1,
          0,
          0,
          1,
          0,
          1,
          0,
          1,
          1,
          0,
          0,
          0,
          1,
          1,
          0,
          0,
          0,
          0,
          1,
          0,
          1,
          0,
          2,
          0,
          0,
          1,
          0,
          0,
          0,
          1,
          0,
          0,
          0,
          0,
          0,
          0,
          2,
          0,
          0,
          0,
          0,
          1,
          1,
          0,
          1,
          0,
          1,
          0,
          0,
          0,
          0,
          0,
          0,
          2,
          1,
          0,
          0,
          2,
          1,
          0,
          1,
          0,
          0,
          1,
          1,
          0,
          0,
          0,
          0,
          1,
          0,
          1,
          0,
          0,
          0,
          0,
          0,
          0,
          0,
          0,
          0,
          1,
          2,
          0,
          0,
          1,
          0,
          0,
          0,
          0,
          0,
          1,
          0,
          0,
          0,
          0,
          0,
          0,
          1,
          2,
          1,
          0,
          0,
          0,
          1,
          0,
          0,
          0,
          0,
          0,
          2,
          0,
          0,
          0,
          1,
          0,
          1,
          1,
          1,
          2,
          1,
          1,
          0,
          2,
          0,
          2,
          0,
          2,
          1,
          1,
          0,
          0,
          2,
          1,
          1,
          0,
          1,
          1,
          1,
          1,
          1,
          0,
          0,
          1,
          1,
          0,
          0,
          1,
          0,
          1,
          1,
          0,
          0,
          0,
          1,
          1,
          1,
          0,
          0,
          0,
          0,
          1,
          0,
          2,
          1,
          0,
          0,
          2,
          0,
          0,
          1,
          0,
          0,
          0,
          0,
          0,
          0,
          0,
          2,
          0,
          0,
          0,
          0,
          2,
          0,
          0,
          0,
          0,
          1,
          0,
          0,
          0,
          0,
          1,
          1,
          2,
          2,
          0,
          2,
          0,
          1,
          0,
          0,
          1,
          0,
          0,
          0,
          0,
          0,
          0,
          0,
          0,
          1,
          0,
          0,
          0,
          0,
          0,
          0,
          0,
          0,
          0,
          0,
          0,
          0,
          0,
          2,
          0,
          1,
          0,
          2,
          1,
          0,
          1,
          0,
          2,
          1,
          0,
          3,
          1,
          0,
          0,
          0,
          1,
          0,
          1,
          0,
          1,
          0,
          1,
          0,
          0,
          0,
          0,
          0,
          0,
          0,
          0,
          0,
          0,
          0,
          0,
          0,
          0,
          0,
          0,
          1,
          0,
          1,
          0,
          0,
          0,
          0,
          1,
          0,
          0,
          0,
          1,
          0,
          2,
          1,
          0,
          0,
          0,
          0,
          1,
          1,
          0,
          0,
          0,
          0,
          1,
          0,
          0,
          0,
          0,
          0,
          0,
          0,
          0,
          0,
          1,
          0,
          1,
          0,
          0,
          1,
          0,
          0,
          0,
          0,
          0,
          0,
          1,
          1,
          1,
          0,
          0,
          0,
          0,
          0,
          0,
          2,
          0,
          1,
          1,
          1,
          1,
          0,
          1,
          0,
          0,
          1,
          0,
          0,
          1,
          0,
          0,
          0,
          1,
          0,
          2,
          0,
          0,
          0,
          0,
          1,
          0,
          0,
          0,
          0,
          0,
          0,
          0,
          0,
          1,
          1,
          0,
          2,
          0,
          0,
          0,
          1,
          1,
          0,
          0,
          1,
          1,
          1,
          1,
          0,
          0,
          0,
          0,
          0,
          0,
          1,
          0,
          0,
          2,
          0,
          1,
          0,
          1,
          0,
          2,
          0,
          1,
          0,
          0,
          0,
          0,
          0,
          1,
          0,
          2,
          0,
          0,
          2,
          1,
          0,
          0,
          0,
          0,
          1,
          0,
          1,
          1,
          0,
          0,
          1,
          1,
          0,
          0,
          0,
          0,
          0,
          3,
          0,
          0,
          1,
          0,
          0,
          1,
          0,
          0,
          0,
          0,
          0,
          1,
          0,
          0,
          0,
          1,
          1,
          0,
          1,
          2,
          0,
          0,
          0,
          1,
          0,
          1,
          0,
          0,
          0,
          0,
          1,
          0,
          1,
          1,
          0,
          0,
          0,
          0,
          0,
          0,
          0,
          0,
          0,
          0,
          1,
          1,
          1,
          1,
          1,
          0,
          0,
          0,
          1,
          1,
          2,
          0,
          2,
          0,
          0,
          0,
          1,
          0,
          1,
          2,
          2,
          1,
          1,
          2,
          0,
          1,
          1,
          2,
          1,
          0,
          3,
          1,
          0,
          1,
          0,
          1,
          0,
          1,
          2,
          2,
          0,
          0,
          0,
          0,
          0,
          0
         ],
         "xaxis": "x",
         "yaxis": "y"
        }
       ],
       "layout": {
        "bargap": 0.1,
        "barmode": "group",
        "font": {
         "color": "black"
        },
        "height": 300,
        "legend": {
         "bordercolor": "black",
         "borderwidth": 1,
         "font": {
          "size": 16
         },
         "title": {
          "text": ""
         },
         "tracegroupgap": 0,
         "x": 0.47,
         "y": 0.95
        },
        "margin": {
         "t": 60
        },
        "paper_bgcolor": "white",
        "plot_bgcolor": "white",
        "template": {
         "data": {
          "bar": [
           {
            "error_x": {
             "color": "#2a3f5f"
            },
            "error_y": {
             "color": "#2a3f5f"
            },
            "marker": {
             "line": {
              "color": "#E5ECF6",
              "width": 0.5
             },
             "pattern": {
              "fillmode": "overlay",
              "size": 10,
              "solidity": 0.2
             }
            },
            "type": "bar"
           }
          ],
          "barpolar": [
           {
            "marker": {
             "line": {
              "color": "#E5ECF6",
              "width": 0.5
             },
             "pattern": {
              "fillmode": "overlay",
              "size": 10,
              "solidity": 0.2
             }
            },
            "type": "barpolar"
           }
          ],
          "carpet": [
           {
            "aaxis": {
             "endlinecolor": "#2a3f5f",
             "gridcolor": "white",
             "linecolor": "white",
             "minorgridcolor": "white",
             "startlinecolor": "#2a3f5f"
            },
            "baxis": {
             "endlinecolor": "#2a3f5f",
             "gridcolor": "white",
             "linecolor": "white",
             "minorgridcolor": "white",
             "startlinecolor": "#2a3f5f"
            },
            "type": "carpet"
           }
          ],
          "choropleth": [
           {
            "colorbar": {
             "outlinewidth": 0,
             "ticks": ""
            },
            "type": "choropleth"
           }
          ],
          "contour": [
           {
            "colorbar": {
             "outlinewidth": 0,
             "ticks": ""
            },
            "colorscale": [
             [
              0,
              "#0d0887"
             ],
             [
              0.1111111111111111,
              "#46039f"
             ],
             [
              0.2222222222222222,
              "#7201a8"
             ],
             [
              0.3333333333333333,
              "#9c179e"
             ],
             [
              0.4444444444444444,
              "#bd3786"
             ],
             [
              0.5555555555555556,
              "#d8576b"
             ],
             [
              0.6666666666666666,
              "#ed7953"
             ],
             [
              0.7777777777777778,
              "#fb9f3a"
             ],
             [
              0.8888888888888888,
              "#fdca26"
             ],
             [
              1,
              "#f0f921"
             ]
            ],
            "type": "contour"
           }
          ],
          "contourcarpet": [
           {
            "colorbar": {
             "outlinewidth": 0,
             "ticks": ""
            },
            "type": "contourcarpet"
           }
          ],
          "heatmap": [
           {
            "colorbar": {
             "outlinewidth": 0,
             "ticks": ""
            },
            "colorscale": [
             [
              0,
              "#0d0887"
             ],
             [
              0.1111111111111111,
              "#46039f"
             ],
             [
              0.2222222222222222,
              "#7201a8"
             ],
             [
              0.3333333333333333,
              "#9c179e"
             ],
             [
              0.4444444444444444,
              "#bd3786"
             ],
             [
              0.5555555555555556,
              "#d8576b"
             ],
             [
              0.6666666666666666,
              "#ed7953"
             ],
             [
              0.7777777777777778,
              "#fb9f3a"
             ],
             [
              0.8888888888888888,
              "#fdca26"
             ],
             [
              1,
              "#f0f921"
             ]
            ],
            "type": "heatmap"
           }
          ],
          "heatmapgl": [
           {
            "colorbar": {
             "outlinewidth": 0,
             "ticks": ""
            },
            "colorscale": [
             [
              0,
              "#0d0887"
             ],
             [
              0.1111111111111111,
              "#46039f"
             ],
             [
              0.2222222222222222,
              "#7201a8"
             ],
             [
              0.3333333333333333,
              "#9c179e"
             ],
             [
              0.4444444444444444,
              "#bd3786"
             ],
             [
              0.5555555555555556,
              "#d8576b"
             ],
             [
              0.6666666666666666,
              "#ed7953"
             ],
             [
              0.7777777777777778,
              "#fb9f3a"
             ],
             [
              0.8888888888888888,
              "#fdca26"
             ],
             [
              1,
              "#f0f921"
             ]
            ],
            "type": "heatmapgl"
           }
          ],
          "histogram": [
           {
            "marker": {
             "pattern": {
              "fillmode": "overlay",
              "size": 10,
              "solidity": 0.2
             }
            },
            "type": "histogram"
           }
          ],
          "histogram2d": [
           {
            "colorbar": {
             "outlinewidth": 0,
             "ticks": ""
            },
            "colorscale": [
             [
              0,
              "#0d0887"
             ],
             [
              0.1111111111111111,
              "#46039f"
             ],
             [
              0.2222222222222222,
              "#7201a8"
             ],
             [
              0.3333333333333333,
              "#9c179e"
             ],
             [
              0.4444444444444444,
              "#bd3786"
             ],
             [
              0.5555555555555556,
              "#d8576b"
             ],
             [
              0.6666666666666666,
              "#ed7953"
             ],
             [
              0.7777777777777778,
              "#fb9f3a"
             ],
             [
              0.8888888888888888,
              "#fdca26"
             ],
             [
              1,
              "#f0f921"
             ]
            ],
            "type": "histogram2d"
           }
          ],
          "histogram2dcontour": [
           {
            "colorbar": {
             "outlinewidth": 0,
             "ticks": ""
            },
            "colorscale": [
             [
              0,
              "#0d0887"
             ],
             [
              0.1111111111111111,
              "#46039f"
             ],
             [
              0.2222222222222222,
              "#7201a8"
             ],
             [
              0.3333333333333333,
              "#9c179e"
             ],
             [
              0.4444444444444444,
              "#bd3786"
             ],
             [
              0.5555555555555556,
              "#d8576b"
             ],
             [
              0.6666666666666666,
              "#ed7953"
             ],
             [
              0.7777777777777778,
              "#fb9f3a"
             ],
             [
              0.8888888888888888,
              "#fdca26"
             ],
             [
              1,
              "#f0f921"
             ]
            ],
            "type": "histogram2dcontour"
           }
          ],
          "mesh3d": [
           {
            "colorbar": {
             "outlinewidth": 0,
             "ticks": ""
            },
            "type": "mesh3d"
           }
          ],
          "parcoords": [
           {
            "line": {
             "colorbar": {
              "outlinewidth": 0,
              "ticks": ""
             }
            },
            "type": "parcoords"
           }
          ],
          "pie": [
           {
            "automargin": true,
            "type": "pie"
           }
          ],
          "scatter": [
           {
            "fillpattern": {
             "fillmode": "overlay",
             "size": 10,
             "solidity": 0.2
            },
            "type": "scatter"
           }
          ],
          "scatter3d": [
           {
            "line": {
             "colorbar": {
              "outlinewidth": 0,
              "ticks": ""
             }
            },
            "marker": {
             "colorbar": {
              "outlinewidth": 0,
              "ticks": ""
             }
            },
            "type": "scatter3d"
           }
          ],
          "scattercarpet": [
           {
            "marker": {
             "colorbar": {
              "outlinewidth": 0,
              "ticks": ""
             }
            },
            "type": "scattercarpet"
           }
          ],
          "scattergeo": [
           {
            "marker": {
             "colorbar": {
              "outlinewidth": 0,
              "ticks": ""
             }
            },
            "type": "scattergeo"
           }
          ],
          "scattergl": [
           {
            "marker": {
             "colorbar": {
              "outlinewidth": 0,
              "ticks": ""
             }
            },
            "type": "scattergl"
           }
          ],
          "scattermapbox": [
           {
            "marker": {
             "colorbar": {
              "outlinewidth": 0,
              "ticks": ""
             }
            },
            "type": "scattermapbox"
           }
          ],
          "scatterpolar": [
           {
            "marker": {
             "colorbar": {
              "outlinewidth": 0,
              "ticks": ""
             }
            },
            "type": "scatterpolar"
           }
          ],
          "scatterpolargl": [
           {
            "marker": {
             "colorbar": {
              "outlinewidth": 0,
              "ticks": ""
             }
            },
            "type": "scatterpolargl"
           }
          ],
          "scatterternary": [
           {
            "marker": {
             "colorbar": {
              "outlinewidth": 0,
              "ticks": ""
             }
            },
            "type": "scatterternary"
           }
          ],
          "surface": [
           {
            "colorbar": {
             "outlinewidth": 0,
             "ticks": ""
            },
            "colorscale": [
             [
              0,
              "#0d0887"
             ],
             [
              0.1111111111111111,
              "#46039f"
             ],
             [
              0.2222222222222222,
              "#7201a8"
             ],
             [
              0.3333333333333333,
              "#9c179e"
             ],
             [
              0.4444444444444444,
              "#bd3786"
             ],
             [
              0.5555555555555556,
              "#d8576b"
             ],
             [
              0.6666666666666666,
              "#ed7953"
             ],
             [
              0.7777777777777778,
              "#fb9f3a"
             ],
             [
              0.8888888888888888,
              "#fdca26"
             ],
             [
              1,
              "#f0f921"
             ]
            ],
            "type": "surface"
           }
          ],
          "table": [
           {
            "cells": {
             "fill": {
              "color": "#EBF0F8"
             },
             "line": {
              "color": "white"
             }
            },
            "header": {
             "fill": {
              "color": "#C8D4E3"
             },
             "line": {
              "color": "white"
             }
            },
            "type": "table"
           }
          ]
         },
         "layout": {
          "annotationdefaults": {
           "arrowcolor": "#2a3f5f",
           "arrowhead": 0,
           "arrowwidth": 1
          },
          "autotypenumbers": "strict",
          "coloraxis": {
           "colorbar": {
            "outlinewidth": 0,
            "ticks": ""
           }
          },
          "colorscale": {
           "diverging": [
            [
             0,
             "#8e0152"
            ],
            [
             0.1,
             "#c51b7d"
            ],
            [
             0.2,
             "#de77ae"
            ],
            [
             0.3,
             "#f1b6da"
            ],
            [
             0.4,
             "#fde0ef"
            ],
            [
             0.5,
             "#f7f7f7"
            ],
            [
             0.6,
             "#e6f5d0"
            ],
            [
             0.7,
             "#b8e186"
            ],
            [
             0.8,
             "#7fbc41"
            ],
            [
             0.9,
             "#4d9221"
            ],
            [
             1,
             "#276419"
            ]
           ],
           "sequential": [
            [
             0,
             "#0d0887"
            ],
            [
             0.1111111111111111,
             "#46039f"
            ],
            [
             0.2222222222222222,
             "#7201a8"
            ],
            [
             0.3333333333333333,
             "#9c179e"
            ],
            [
             0.4444444444444444,
             "#bd3786"
            ],
            [
             0.5555555555555556,
             "#d8576b"
            ],
            [
             0.6666666666666666,
             "#ed7953"
            ],
            [
             0.7777777777777778,
             "#fb9f3a"
            ],
            [
             0.8888888888888888,
             "#fdca26"
            ],
            [
             1,
             "#f0f921"
            ]
           ],
           "sequentialminus": [
            [
             0,
             "#0d0887"
            ],
            [
             0.1111111111111111,
             "#46039f"
            ],
            [
             0.2222222222222222,
             "#7201a8"
            ],
            [
             0.3333333333333333,
             "#9c179e"
            ],
            [
             0.4444444444444444,
             "#bd3786"
            ],
            [
             0.5555555555555556,
             "#d8576b"
            ],
            [
             0.6666666666666666,
             "#ed7953"
            ],
            [
             0.7777777777777778,
             "#fb9f3a"
            ],
            [
             0.8888888888888888,
             "#fdca26"
            ],
            [
             1,
             "#f0f921"
            ]
           ]
          },
          "colorway": [
           "#636efa",
           "#EF553B",
           "#00cc96",
           "#ab63fa",
           "#FFA15A",
           "#19d3f3",
           "#FF6692",
           "#B6E880",
           "#FF97FF",
           "#FECB52"
          ],
          "font": {
           "color": "#2a3f5f"
          },
          "geo": {
           "bgcolor": "white",
           "lakecolor": "white",
           "landcolor": "#E5ECF6",
           "showlakes": true,
           "showland": true,
           "subunitcolor": "white"
          },
          "hoverlabel": {
           "align": "left"
          },
          "hovermode": "closest",
          "mapbox": {
           "style": "light"
          },
          "paper_bgcolor": "white",
          "plot_bgcolor": "#E5ECF6",
          "polar": {
           "angularaxis": {
            "gridcolor": "white",
            "linecolor": "white",
            "ticks": ""
           },
           "bgcolor": "#E5ECF6",
           "radialaxis": {
            "gridcolor": "white",
            "linecolor": "white",
            "ticks": ""
           }
          },
          "scene": {
           "xaxis": {
            "backgroundcolor": "#E5ECF6",
            "gridcolor": "white",
            "gridwidth": 2,
            "linecolor": "white",
            "showbackground": true,
            "ticks": "",
            "zerolinecolor": "white"
           },
           "yaxis": {
            "backgroundcolor": "#E5ECF6",
            "gridcolor": "white",
            "gridwidth": 2,
            "linecolor": "white",
            "showbackground": true,
            "ticks": "",
            "zerolinecolor": "white"
           },
           "zaxis": {
            "backgroundcolor": "#E5ECF6",
            "gridcolor": "white",
            "gridwidth": 2,
            "linecolor": "white",
            "showbackground": true,
            "ticks": "",
            "zerolinecolor": "white"
           }
          },
          "shapedefaults": {
           "line": {
            "color": "#2a3f5f"
           }
          },
          "ternary": {
           "aaxis": {
            "gridcolor": "white",
            "linecolor": "white",
            "ticks": ""
           },
           "baxis": {
            "gridcolor": "white",
            "linecolor": "white",
            "ticks": ""
           },
           "bgcolor": "#E5ECF6",
           "caxis": {
            "gridcolor": "white",
            "linecolor": "white",
            "ticks": ""
           }
          },
          "title": {
           "x": 0.05
          },
          "xaxis": {
           "automargin": true,
           "gridcolor": "white",
           "linecolor": "white",
           "ticks": "",
           "title": {
            "standoff": 15
           },
           "zerolinecolor": "white",
           "zerolinewidth": 2
          },
          "yaxis": {
           "automargin": true,
           "gridcolor": "white",
           "linecolor": "white",
           "ticks": "",
           "title": {
            "standoff": 15
           },
           "zerolinecolor": "white",
           "zerolinewidth": 2
          }
         }
        },
        "width": 700,
        "xaxis": {
         "anchor": "y",
         "autorange": true,
         "color": "black",
         "domain": [
          0,
          1
         ],
         "gridcolor": "white",
         "range": [
          -0.5,
          4.5
         ],
         "showgrid": false,
         "tickfont": {
          "size": 16
         },
         "title": {
          "font": {
           "size": 16
          },
          "text": "Anzahl Kollektive"
         },
         "type": "linear"
        },
        "yaxis": {
         "anchor": "x",
         "autorange": true,
         "color": "black",
         "domain": [
          0,
          1
         ],
         "gridcolor": "lightgray",
         "range": [
          0,
          0.6697655820462839
         ],
         "tickfont": {
          "size": 16
         },
         "title": {
          "font": {
           "size": 16
          },
          "text": "Anteil"
         },
         "zerolinecolor": "lightgray"
        }
       }
      },
      "text/html": [
       "<div>                            <div id=\"cb93b062-bb35-4833-bfb8-1251d35b4fe3\" class=\"plotly-graph-div\" style=\"height:300px; width:700px;\"></div>            <script type=\"text/javascript\">                require([\"plotly\"], function(Plotly) {                    window.PLOTLYENV=window.PLOTLYENV || {};                                    if (document.getElementById(\"cb93b062-bb35-4833-bfb8-1251d35b4fe3\")) {                    Plotly.newPlot(                        \"cb93b062-bb35-4833-bfb8-1251d35b4fe3\",                        [{\"alignmentgroup\":\"True\",\"bingroup\":\"x\",\"histnorm\":\"probability density\",\"hovertemplate\":\"=Texte über Militär\\u002fKrieg\\u003cbr\\u003e(Mittelwert = 0.74)\\u003cbr\\u003eAnzahl Kollektive=%{x}\\u003cbr\\u003eprobability density=%{y}\\u003cextra\\u003e\\u003c\\u002fextra\\u003e\",\"legendgroup\":\"Texte über Militär\\u002fKrieg\\u003cbr\\u003e(Mittelwert = 0.74)\",\"marker\":{\"color\":\"#636efa\",\"pattern\":{\"shape\":\"\"}},\"name\":\"Texte über Militär\\u002fKrieg\\u003cbr\\u003e(Mittelwert = 0.74)\",\"offsetgroup\":\"Texte über Militär\\u002fKrieg\\u003cbr\\u003e(Mittelwert = 0.74)\",\"orientation\":\"v\",\"showlegend\":true,\"x\":[2,1,2,2,1,0,0,1,2,2,2,0,1,3,0,1,1,0,0,1,0,2,2,1,0,0,0,0,0,1,1,0,2,1,0,0,1,2,0,3,0,0,0,2,2,1,1,1,0,0,1,1,0,0,0,0,0,0,1,2,0,1,1,1,1,2,0,0,0,1,2,1,1,0,1,0,0,1,1,1,0,1,0,0,0,0,1,1,2,1,1,0,0,0,1,2,1,0,1,1,2,2,1,1,1,1,1,2,1,0,1,0,2,0,0,1,0,2,1,1,1,0,2,0,0,2,1,0,0,1,1,2,0,1,1,0,0,0,1,1,0,1,1,0,1,1,2,0,1,2,2,1,0,0,1,0,1,1,1,2,2,0,1,2,0,1,1,0,0,0,0,2,2,0,0,1,2,2,1,0,2,1,0,2,1,0,0,0,0,2,1,1,1,3,2,1,0,2,1,0,1,0,0,2,2,2,2,2,0,2,1,2,1,2,1,1,0,1,0,1,0,0,2,2,1,1,2,2,0,0,0,1,0,0,1,1,1,0,1,0,0,0,2,0,0,0,0,1,1,1,1,1,1,3,2,1,2,1,1,0,0,1,1,1,1,0,0,0,0,0,0,2,2,1,0,0,0,2,1,0,1,0,0,0,1,0,1,0,1,1,1,2,1,0,1,0,2,1,1,0,2,1,0,2,1,1,2,1,1,2,1,0,1,0,2,0,0,2,1,1,0,1,1,0,1,1,0,1,0,1,1,1,2,0,1,1,0,0,1,0,0,0,1,0,0,0,1,1,1,0,2,0,0,2,1,0,1,1,2,1,1,0,1,1,2,0,0,1,1,1,2,0,0,0,2,1,0,0,0,2,1,1,1,1,2,2,1,0,0,0,2,0,2,0,2,1,0,0,1,1,2,2,2,1,1,0,1,2,1,1,0,1,1,2,2,0,0,1,0,2,0,0,1,2,0,1,1,0,0,0,0,1,2,0,1,2,1,0,1,1,1,0,0,1,0,0,0,0,2,3,2,0,2,2,1,0,1,1,0,0,2,1,2,1,1,0,0,0,0,0,0,0,0,0,0,2,2,0,0,0,0,1,1,1,0,0,0,1,0,0,1,2,1,1,0,0,0,2,0,0,0,1,0,1,0,1,0,2,0,1,1,0,1,2,1,0,2,1,0,2,1,0,2,2,0,1,1,0,1,0,0,0,0,1,0,2,1,1,0,0,2,0,0,1,1,2,0,0,1,1,0,2,1,0,0,1,0,0,1,1,0,2,0,1,1,2,2,0,0,1,1,0,1,0,1,0,1,0,0,0,0,0,1,2,0,0,0,1,2,1,1,0,1,0,1,0,0,1,0,0,0,0,1,0,0,0,0,0,0,1,0,0,2,1,1,0,1,1,1,0,1,1,0,0,0,1,0,0,0,0,0,1,0,0,0,1,1,0,1,0,0,1,0,0,0,0,2,2,1,0,1,0,0,0,0,0,0,0,0,1,1,1,2,1,1,0,1,0,0,0,0,0,0,1,0,2,1,1,1,1,2,1,1,2,2,3,1,1,1,1,1,1,0,0,1,1,1,0,1,1,1,0,0,1,1,1,1,1,1,0,2,0,0,1,0,0,0,0,0,1,1,1,1,1,0,0,1,0,0,0,0,0,0,0,0,0,1,1,4,0,0,2,2,0,1,2,0,0,1,0,2,0,1,0,0,2,0,2,0,0,0,1,0,0,0,1,0,0,0,1,1,1,0,0,0,0,0,1,1,0,1,2,1,1,1,0,1,1,1,2,2,1,1,1,1,0,1],\"xaxis\":\"x\",\"yaxis\":\"y\",\"type\":\"histogram\"},{\"alignmentgroup\":\"True\",\"bingroup\":\"x\",\"histnorm\":\"probability density\",\"hovertemplate\":\"=Texte nicht über Militär\\u002fKrieg\\u003cbr\\u003e(Mittelwert = 0.45)\\u003cbr\\u003eAnzahl Kollektive=%{x}\\u003cbr\\u003eprobability density=%{y}\\u003cextra\\u003e\\u003c\\u002fextra\\u003e\",\"legendgroup\":\"Texte nicht über Militär\\u002fKrieg\\u003cbr\\u003e(Mittelwert = 0.45)\",\"marker\":{\"color\":\"#EF553B\",\"pattern\":{\"shape\":\"\"}},\"name\":\"Texte nicht über Militär\\u002fKrieg\\u003cbr\\u003e(Mittelwert = 0.45)\",\"offsetgroup\":\"Texte nicht über Militär\\u002fKrieg\\u003cbr\\u003e(Mittelwert = 0.45)\",\"orientation\":\"v\",\"showlegend\":true,\"x\":[0,0,1,0,0,1,0,0,0,1,1,0,0,2,0,1,1,0,0,1,1,1,0,0,1,0,1,1,0,0,1,0,1,0,0,0,2,1,1,0,0,0,0,0,0,1,1,0,0,0,1,0,0,2,0,0,0,0,2,0,0,1,0,1,0,0,1,0,1,0,0,1,0,1,0,0,1,1,0,0,0,0,1,0,0,0,0,1,0,1,1,0,0,1,1,0,0,0,0,0,0,1,1,1,1,1,1,0,1,0,0,0,0,0,0,0,1,0,0,0,2,0,0,0,0,1,0,2,1,2,1,2,0,0,1,1,3,0,0,0,0,0,1,2,0,0,0,0,0,0,0,0,1,0,2,0,1,1,1,1,0,0,0,0,1,0,1,0,0,0,1,0,1,1,1,1,0,0,0,0,1,0,0,0,0,1,0,0,0,0,1,1,0,0,1,0,0,1,0,0,1,0,0,0,1,0,1,0,2,1,0,0,0,0,1,0,0,1,1,2,1,0,0,0,1,1,0,0,1,0,2,0,2,0,1,0,0,2,1,3,0,0,0,0,1,1,1,0,0,0,0,1,0,4,0,0,2,0,1,0,0,1,1,0,0,0,0,1,2,0,1,0,0,1,2,0,1,0,0,0,1,1,1,0,0,0,0,0,1,0,0,0,0,1,0,1,0,1,0,0,0,0,0,0,0,0,0,0,0,0,1,0,1,0,1,0,0,0,0,1,0,0,0,0,0,1,0,1,0,1,0,0,0,1,0,1,0,1,0,1,3,1,2,0,1,0,1,0,2,1,1,2,0,1,0,0,0,0,0,0,1,0,1,1,0,0,0,0,0,0,1,0,0,1,0,0,0,0,0,0,0,1,1,1,1,2,0,2,0,1,0,0,0,0,1,0,0,0,2,0,1,0,0,0,1,1,0,1,0,0,2,1,0,0,0,0,0,0,1,0,0,0,0,0,1,0,0,1,1,0,0,2,1,1,0,0,0,0,1,0,0,0,1,0,0,0,1,1,0,0,0,0,0,0,0,0,0,0,0,0,0,0,2,0,0,0,0,1,0,1,1,0,0,0,0,1,0,0,1,0,2,0,1,0,1,1,0,1,0,0,0,1,0,0,1,0,2,0,1,0,0,0,1,0,1,1,0,0,0,3,2,0,0,0,0,0,1,0,0,0,0,0,0,0,1,2,1,0,0,0,1,1,0,1,0,0,0,0,1,1,1,2,1,0,0,1,0,0,1,0,1,0,1,1,0,0,0,1,1,0,0,0,0,1,0,1,0,2,0,0,1,0,0,0,1,0,0,0,0,0,0,2,0,0,0,0,1,1,0,1,0,1,0,0,0,0,0,0,2,1,0,0,2,1,0,1,0,0,1,1,0,0,0,0,1,0,1,0,0,0,0,0,0,0,0,0,1,2,0,0,1,0,0,0,0,0,1,0,0,0,0,0,0,1,2,1,0,0,0,1,0,0,0,0,0,2,0,0,0,1,0,1,1,1,2,1,1,0,2,0,2,0,2,1,1,0,0,2,1,1,0,1,1,1,1,1,0,0,1,1,0,0,1,0,1,1,0,0,0,1,1,1,0,0,0,0,1,0,2,1,0,0,2,0,0,1,0,0,0,0,0,0,0,2,0,0,0,0,2,0,0,0,0,1,0,0,0,0,1,1,2,2,0,2,0,1,0,0,1,0,0,0,0,0,0,0,0,1,0,0,0,0,0,0,0,0,0,0,0,0,0,2,0,1,0,2,1,0,1,0,2,1,0,3,1,0,0,0,1,0,1,0,1,0,1,0,0,0,0,0,0,0,0,0,0,0,0,0,0,0,0,1,0,1,0,0,0,0,1,0,0,0,1,0,2,1,0,0,0,0,1,1,0,0,0,0,1,0,0,0,0,0,0,0,0,0,1,0,1,0,0,1,0,0,0,0,0,0,1,1,1,0,0,0,0,0,0,2,0,1,1,1,1,0,1,0,0,1,0,0,1,0,0,0,1,0,2,0,0,0,0,1,0,0,0,0,0,0,0,0,1,1,0,2,0,0,0,1,1,0,0,1,1,1,1,0,0,0,0,0,0,1,0,0,2,0,1,0,1,0,2,0,1,0,0,0,0,0,1,0,2,0,0,2,1,0,0,0,0,1,0,1,1,0,0,1,1,0,0,0,0,0,3,0,0,1,0,0,1,0,0,0,0,0,1,0,0,0,1,1,0,1,2,0,0,0,1,0,1,0,0,0,0,1,0,1,1,0,0,0,0,0,0,0,0,0,0,1,1,1,1,1,0,0,0,1,1,2,0,2,0,0,0,1,0,1,2,2,1,1,2,0,1,1,2,1,0,3,1,0,1,0,1,0,1,2,2,0,0,0,0,0,0],\"xaxis\":\"x\",\"yaxis\":\"y\",\"type\":\"histogram\"}],                        {\"template\":{\"data\":{\"histogram2dcontour\":[{\"type\":\"histogram2dcontour\",\"colorbar\":{\"outlinewidth\":0,\"ticks\":\"\"},\"colorscale\":[[0.0,\"#0d0887\"],[0.1111111111111111,\"#46039f\"],[0.2222222222222222,\"#7201a8\"],[0.3333333333333333,\"#9c179e\"],[0.4444444444444444,\"#bd3786\"],[0.5555555555555556,\"#d8576b\"],[0.6666666666666666,\"#ed7953\"],[0.7777777777777778,\"#fb9f3a\"],[0.8888888888888888,\"#fdca26\"],[1.0,\"#f0f921\"]]}],\"choropleth\":[{\"type\":\"choropleth\",\"colorbar\":{\"outlinewidth\":0,\"ticks\":\"\"}}],\"histogram2d\":[{\"type\":\"histogram2d\",\"colorbar\":{\"outlinewidth\":0,\"ticks\":\"\"},\"colorscale\":[[0.0,\"#0d0887\"],[0.1111111111111111,\"#46039f\"],[0.2222222222222222,\"#7201a8\"],[0.3333333333333333,\"#9c179e\"],[0.4444444444444444,\"#bd3786\"],[0.5555555555555556,\"#d8576b\"],[0.6666666666666666,\"#ed7953\"],[0.7777777777777778,\"#fb9f3a\"],[0.8888888888888888,\"#fdca26\"],[1.0,\"#f0f921\"]]}],\"heatmap\":[{\"type\":\"heatmap\",\"colorbar\":{\"outlinewidth\":0,\"ticks\":\"\"},\"colorscale\":[[0.0,\"#0d0887\"],[0.1111111111111111,\"#46039f\"],[0.2222222222222222,\"#7201a8\"],[0.3333333333333333,\"#9c179e\"],[0.4444444444444444,\"#bd3786\"],[0.5555555555555556,\"#d8576b\"],[0.6666666666666666,\"#ed7953\"],[0.7777777777777778,\"#fb9f3a\"],[0.8888888888888888,\"#fdca26\"],[1.0,\"#f0f921\"]]}],\"heatmapgl\":[{\"type\":\"heatmapgl\",\"colorbar\":{\"outlinewidth\":0,\"ticks\":\"\"},\"colorscale\":[[0.0,\"#0d0887\"],[0.1111111111111111,\"#46039f\"],[0.2222222222222222,\"#7201a8\"],[0.3333333333333333,\"#9c179e\"],[0.4444444444444444,\"#bd3786\"],[0.5555555555555556,\"#d8576b\"],[0.6666666666666666,\"#ed7953\"],[0.7777777777777778,\"#fb9f3a\"],[0.8888888888888888,\"#fdca26\"],[1.0,\"#f0f921\"]]}],\"contourcarpet\":[{\"type\":\"contourcarpet\",\"colorbar\":{\"outlinewidth\":0,\"ticks\":\"\"}}],\"contour\":[{\"type\":\"contour\",\"colorbar\":{\"outlinewidth\":0,\"ticks\":\"\"},\"colorscale\":[[0.0,\"#0d0887\"],[0.1111111111111111,\"#46039f\"],[0.2222222222222222,\"#7201a8\"],[0.3333333333333333,\"#9c179e\"],[0.4444444444444444,\"#bd3786\"],[0.5555555555555556,\"#d8576b\"],[0.6666666666666666,\"#ed7953\"],[0.7777777777777778,\"#fb9f3a\"],[0.8888888888888888,\"#fdca26\"],[1.0,\"#f0f921\"]]}],\"surface\":[{\"type\":\"surface\",\"colorbar\":{\"outlinewidth\":0,\"ticks\":\"\"},\"colorscale\":[[0.0,\"#0d0887\"],[0.1111111111111111,\"#46039f\"],[0.2222222222222222,\"#7201a8\"],[0.3333333333333333,\"#9c179e\"],[0.4444444444444444,\"#bd3786\"],[0.5555555555555556,\"#d8576b\"],[0.6666666666666666,\"#ed7953\"],[0.7777777777777778,\"#fb9f3a\"],[0.8888888888888888,\"#fdca26\"],[1.0,\"#f0f921\"]]}],\"mesh3d\":[{\"type\":\"mesh3d\",\"colorbar\":{\"outlinewidth\":0,\"ticks\":\"\"}}],\"scatter\":[{\"fillpattern\":{\"fillmode\":\"overlay\",\"size\":10,\"solidity\":0.2},\"type\":\"scatter\"}],\"parcoords\":[{\"type\":\"parcoords\",\"line\":{\"colorbar\":{\"outlinewidth\":0,\"ticks\":\"\"}}}],\"scatterpolargl\":[{\"type\":\"scatterpolargl\",\"marker\":{\"colorbar\":{\"outlinewidth\":0,\"ticks\":\"\"}}}],\"bar\":[{\"error_x\":{\"color\":\"#2a3f5f\"},\"error_y\":{\"color\":\"#2a3f5f\"},\"marker\":{\"line\":{\"color\":\"#E5ECF6\",\"width\":0.5},\"pattern\":{\"fillmode\":\"overlay\",\"size\":10,\"solidity\":0.2}},\"type\":\"bar\"}],\"scattergeo\":[{\"type\":\"scattergeo\",\"marker\":{\"colorbar\":{\"outlinewidth\":0,\"ticks\":\"\"}}}],\"scatterpolar\":[{\"type\":\"scatterpolar\",\"marker\":{\"colorbar\":{\"outlinewidth\":0,\"ticks\":\"\"}}}],\"histogram\":[{\"marker\":{\"pattern\":{\"fillmode\":\"overlay\",\"size\":10,\"solidity\":0.2}},\"type\":\"histogram\"}],\"scattergl\":[{\"type\":\"scattergl\",\"marker\":{\"colorbar\":{\"outlinewidth\":0,\"ticks\":\"\"}}}],\"scatter3d\":[{\"type\":\"scatter3d\",\"line\":{\"colorbar\":{\"outlinewidth\":0,\"ticks\":\"\"}},\"marker\":{\"colorbar\":{\"outlinewidth\":0,\"ticks\":\"\"}}}],\"scattermapbox\":[{\"type\":\"scattermapbox\",\"marker\":{\"colorbar\":{\"outlinewidth\":0,\"ticks\":\"\"}}}],\"scatterternary\":[{\"type\":\"scatterternary\",\"marker\":{\"colorbar\":{\"outlinewidth\":0,\"ticks\":\"\"}}}],\"scattercarpet\":[{\"type\":\"scattercarpet\",\"marker\":{\"colorbar\":{\"outlinewidth\":0,\"ticks\":\"\"}}}],\"carpet\":[{\"aaxis\":{\"endlinecolor\":\"#2a3f5f\",\"gridcolor\":\"white\",\"linecolor\":\"white\",\"minorgridcolor\":\"white\",\"startlinecolor\":\"#2a3f5f\"},\"baxis\":{\"endlinecolor\":\"#2a3f5f\",\"gridcolor\":\"white\",\"linecolor\":\"white\",\"minorgridcolor\":\"white\",\"startlinecolor\":\"#2a3f5f\"},\"type\":\"carpet\"}],\"table\":[{\"cells\":{\"fill\":{\"color\":\"#EBF0F8\"},\"line\":{\"color\":\"white\"}},\"header\":{\"fill\":{\"color\":\"#C8D4E3\"},\"line\":{\"color\":\"white\"}},\"type\":\"table\"}],\"barpolar\":[{\"marker\":{\"line\":{\"color\":\"#E5ECF6\",\"width\":0.5},\"pattern\":{\"fillmode\":\"overlay\",\"size\":10,\"solidity\":0.2}},\"type\":\"barpolar\"}],\"pie\":[{\"automargin\":true,\"type\":\"pie\"}]},\"layout\":{\"autotypenumbers\":\"strict\",\"colorway\":[\"#636efa\",\"#EF553B\",\"#00cc96\",\"#ab63fa\",\"#FFA15A\",\"#19d3f3\",\"#FF6692\",\"#B6E880\",\"#FF97FF\",\"#FECB52\"],\"font\":{\"color\":\"#2a3f5f\"},\"hovermode\":\"closest\",\"hoverlabel\":{\"align\":\"left\"},\"paper_bgcolor\":\"white\",\"plot_bgcolor\":\"#E5ECF6\",\"polar\":{\"bgcolor\":\"#E5ECF6\",\"angularaxis\":{\"gridcolor\":\"white\",\"linecolor\":\"white\",\"ticks\":\"\"},\"radialaxis\":{\"gridcolor\":\"white\",\"linecolor\":\"white\",\"ticks\":\"\"}},\"ternary\":{\"bgcolor\":\"#E5ECF6\",\"aaxis\":{\"gridcolor\":\"white\",\"linecolor\":\"white\",\"ticks\":\"\"},\"baxis\":{\"gridcolor\":\"white\",\"linecolor\":\"white\",\"ticks\":\"\"},\"caxis\":{\"gridcolor\":\"white\",\"linecolor\":\"white\",\"ticks\":\"\"}},\"coloraxis\":{\"colorbar\":{\"outlinewidth\":0,\"ticks\":\"\"}},\"colorscale\":{\"sequential\":[[0.0,\"#0d0887\"],[0.1111111111111111,\"#46039f\"],[0.2222222222222222,\"#7201a8\"],[0.3333333333333333,\"#9c179e\"],[0.4444444444444444,\"#bd3786\"],[0.5555555555555556,\"#d8576b\"],[0.6666666666666666,\"#ed7953\"],[0.7777777777777778,\"#fb9f3a\"],[0.8888888888888888,\"#fdca26\"],[1.0,\"#f0f921\"]],\"sequentialminus\":[[0.0,\"#0d0887\"],[0.1111111111111111,\"#46039f\"],[0.2222222222222222,\"#7201a8\"],[0.3333333333333333,\"#9c179e\"],[0.4444444444444444,\"#bd3786\"],[0.5555555555555556,\"#d8576b\"],[0.6666666666666666,\"#ed7953\"],[0.7777777777777778,\"#fb9f3a\"],[0.8888888888888888,\"#fdca26\"],[1.0,\"#f0f921\"]],\"diverging\":[[0,\"#8e0152\"],[0.1,\"#c51b7d\"],[0.2,\"#de77ae\"],[0.3,\"#f1b6da\"],[0.4,\"#fde0ef\"],[0.5,\"#f7f7f7\"],[0.6,\"#e6f5d0\"],[0.7,\"#b8e186\"],[0.8,\"#7fbc41\"],[0.9,\"#4d9221\"],[1,\"#276419\"]]},\"xaxis\":{\"gridcolor\":\"white\",\"linecolor\":\"white\",\"ticks\":\"\",\"title\":{\"standoff\":15},\"zerolinecolor\":\"white\",\"automargin\":true,\"zerolinewidth\":2},\"yaxis\":{\"gridcolor\":\"white\",\"linecolor\":\"white\",\"ticks\":\"\",\"title\":{\"standoff\":15},\"zerolinecolor\":\"white\",\"automargin\":true,\"zerolinewidth\":2},\"scene\":{\"xaxis\":{\"backgroundcolor\":\"#E5ECF6\",\"gridcolor\":\"white\",\"linecolor\":\"white\",\"showbackground\":true,\"ticks\":\"\",\"zerolinecolor\":\"white\",\"gridwidth\":2},\"yaxis\":{\"backgroundcolor\":\"#E5ECF6\",\"gridcolor\":\"white\",\"linecolor\":\"white\",\"showbackground\":true,\"ticks\":\"\",\"zerolinecolor\":\"white\",\"gridwidth\":2},\"zaxis\":{\"backgroundcolor\":\"#E5ECF6\",\"gridcolor\":\"white\",\"linecolor\":\"white\",\"showbackground\":true,\"ticks\":\"\",\"zerolinecolor\":\"white\",\"gridwidth\":2}},\"shapedefaults\":{\"line\":{\"color\":\"#2a3f5f\"}},\"annotationdefaults\":{\"arrowcolor\":\"#2a3f5f\",\"arrowhead\":0,\"arrowwidth\":1},\"geo\":{\"bgcolor\":\"white\",\"landcolor\":\"#E5ECF6\",\"subunitcolor\":\"white\",\"showland\":true,\"showlakes\":true,\"lakecolor\":\"white\"},\"title\":{\"x\":0.05},\"mapbox\":{\"style\":\"light\"}}},\"xaxis\":{\"anchor\":\"y\",\"domain\":[0.0,1.0],\"title\":{\"text\":\"Anzahl Kollektive\",\"font\":{\"size\":16}},\"tickfont\":{\"size\":16},\"color\":\"black\",\"gridcolor\":\"white\",\"showgrid\":false},\"yaxis\":{\"anchor\":\"x\",\"domain\":[0.0,1.0],\"title\":{\"text\":\"Anteil\",\"font\":{\"size\":16}},\"tickfont\":{\"size\":16},\"color\":\"black\",\"gridcolor\":\"lightgray\",\"zerolinecolor\":\"lightgray\"},\"legend\":{\"title\":{\"text\":\"\"},\"tracegroupgap\":0,\"font\":{\"size\":16},\"x\":0.47,\"y\":0.95,\"bordercolor\":\"black\",\"borderwidth\":1},\"margin\":{\"t\":60},\"barmode\":\"group\",\"width\":700,\"height\":300,\"bargap\":0.1,\"font\":{\"color\":\"black\"},\"plot_bgcolor\":\"white\",\"paper_bgcolor\":\"white\"},                        {\"responsive\": true}                    ).then(function(){\n",
       "                            \n",
       "var gd = document.getElementById('cb93b062-bb35-4833-bfb8-1251d35b4fe3');\n",
       "var x = new MutationObserver(function (mutations, observer) {{\n",
       "        var display = window.getComputedStyle(gd).display;\n",
       "        if (!display || display === 'none') {{\n",
       "            console.log([gd, 'removed!']);\n",
       "            Plotly.purge(gd);\n",
       "            observer.disconnect();\n",
       "        }}\n",
       "}});\n",
       "\n",
       "// Listen for the removal of the full notebook cells\n",
       "var notebookContainer = gd.closest('#notebook-container');\n",
       "if (notebookContainer) {{\n",
       "    x.observe(notebookContainer, {childList: true});\n",
       "}}\n",
       "\n",
       "// Listen for the clearing of the current output cell\n",
       "var outputEl = gd.closest('.output');\n",
       "if (outputEl) {{\n",
       "    x.observe(outputEl, {childList: true});\n",
       "}}\n",
       "\n",
       "                        })                };                });            </script>        </div>"
      ]
     },
     "metadata": {},
     "output_type": "display_data"
    }
   ],
   "source": [
    "meta_plot = meta_anth_bin.copy()\n",
    "\n",
    "for cont_comp_feature in cont_comp_features:\n",
    "    mean_main = meta_plot[meta_plot[main_feature] == 1][cont_comp_feature].mean()\n",
    "    mean_notmain = meta_plot[meta_plot[main_feature] == 0][cont_comp_feature].mean()\n",
    "    label_main = f\"Texte über Militär/Krieg<br>(Mittelwert = {round(mean_main, 2)})\"\n",
    "    label_notmain = f\"Texte nicht über Militär/Krieg<br>(Mittelwert = {round(mean_notmain, 2)})\"\n",
    "    meta_plot['plot_legend'] = [label_main if x == 1 else label_notmain for x in meta_plot[main_feature]]\n",
    "    \n",
    "    meta_plot['words'] = meta_plot['words'].clip(upper=1250)\n",
    "    \n",
    "    fig = px.histogram(\n",
    "        meta_plot,\n",
    "        x = cont_comp_feature,\n",
    "        color = 'plot_legend',\n",
    "        histnorm = 'probability density',\n",
    "        barmode = 'group',\n",
    "        labels = {'plot_legend' : '',\n",
    "                  'kollektiv_count' : 'Anzahl Kollektive',\n",
    "                 }\n",
    "    )\n",
    "\n",
    "    fig.update_layout(\n",
    "        width = 700, height = 300,\n",
    "        yaxis_title=\"Anteil\",\n",
    "        xaxis=dict(tickfont=dict(size=16), titlefont=dict(size=16)),\n",
    "        yaxis=dict(tickfont=dict(size=16), titlefont=dict(size=16)),\n",
    "        legend=dict(font = dict(size=16), x=0.47, y = 0.95),\n",
    "        bargap=0.1\n",
    "    )\n",
    "    fig = update_fig_for_publication(fig)\n",
    "    fig.write_image(f\"plots/6.4.3 Militär_Krieg – {cont_comp_feature}.pdf\")\n",
    "    fig.show()"
   ]
  },
  {
   "cell_type": "code",
   "execution_count": 43,
   "id": "569ec9a4",
   "metadata": {},
   "outputs": [
    {
     "data": {
      "text/html": [
       "<div>\n",
       "<style scoped>\n",
       "    .dataframe tbody tr th:only-of-type {\n",
       "        vertical-align: middle;\n",
       "    }\n",
       "\n",
       "    .dataframe tbody tr th {\n",
       "        vertical-align: top;\n",
       "    }\n",
       "\n",
       "    .dataframe thead th {\n",
       "        text-align: right;\n",
       "    }\n",
       "</style>\n",
       "<table border=\"1\" class=\"dataframe\">\n",
       "  <thead>\n",
       "    <tr style=\"text-align: right;\">\n",
       "      <th></th>\n",
       "      <th>wenn_nicht_1850</th>\n",
       "      <th>wenn_ja_1850</th>\n",
       "      <th>mannwhitneyu_p_1850</th>\n",
       "      <th>pointbiserialr_corr_1850</th>\n",
       "      <th>wenn_nicht_1885</th>\n",
       "      <th>wenn_ja_1885</th>\n",
       "      <th>mannwhitneyu_p_1885</th>\n",
       "      <th>pointbiserialr_corr_1885</th>\n",
       "      <th>diff_of_corrs</th>\n",
       "    </tr>\n",
       "  </thead>\n",
       "  <tbody>\n",
       "    <tr>\n",
       "      <th>kollektiv_count</th>\n",
       "      <td>0.461</td>\n",
       "      <td>0.828</td>\n",
       "      <td>0.0</td>\n",
       "      <td>0.244</td>\n",
       "      <td>0.405</td>\n",
       "      <td>0.55</td>\n",
       "      <td>0.005</td>\n",
       "      <td>0.109</td>\n",
       "      <td>-0.135</td>\n",
       "    </tr>\n",
       "  </tbody>\n",
       "</table>\n",
       "</div>"
      ],
      "text/plain": [
       "                 wenn_nicht_1850  wenn_ja_1850  mannwhitneyu_p_1850  \\\n",
       "kollektiv_count            0.461         0.828                  0.0   \n",
       "\n",
       "                 pointbiserialr_corr_1850  wenn_nicht_1885  wenn_ja_1885  \\\n",
       "kollektiv_count                     0.244            0.405          0.55   \n",
       "\n",
       "                 mannwhitneyu_p_1885  pointbiserialr_corr_1885  diff_of_corrs  \n",
       "kollektiv_count                0.005                     0.109         -0.135  "
      ]
     },
     "execution_count": 43,
     "metadata": {},
     "output_type": "execute_result"
    }
   ],
   "source": [
    "result_categories = ['wenn_nicht', 'wenn_ja', 'mannwhitneyu_p', 'pointbiserialr_corr',]\n",
    "\n",
    "results_a = relations_bincont(\n",
    "    meta = meta_anth_bin.query(\"1850 <= year <= 1884\"), \n",
    "    main_feature = main_feature,\n",
    "    comp_features = cont_comp_features\n",
    ")\n",
    "\n",
    "results_b = relations_bincont(\n",
    "    meta = meta_anth_bin.query(\"1885 <= year <= 1918\"), \n",
    "    main_feature = main_feature,\n",
    "    comp_features = cont_comp_features\n",
    ")\n",
    "\n",
    "results_merged = results_a[result_categories].join(\n",
    "    results_b[result_categories], \n",
    "    lsuffix='_1850', rsuffix = '_1885'\n",
    ")\n",
    "results_merged['diff_of_corrs'] = results_merged['pointbiserialr_corr_1885'] - results_merged['pointbiserialr_corr_1850']\n",
    "\n",
    "round(results_merged.sort_values(by = 'diff_of_corrs'), 3)"
   ]
  },
  {
   "cell_type": "markdown",
   "id": "68f006fb",
   "metadata": {},
   "source": [
    "# Bewertungen"
   ]
  },
  {
   "cell_type": "code",
   "execution_count": 44,
   "id": "a6fa4894",
   "metadata": {},
   "outputs": [],
   "source": [
    "bewertungen = pd.DataFrame()\n",
    "\n",
    "top_stoffgebiete = meta_anth_ratings['type'].value_counts().index.tolist()[:10]\n",
    "for this_name, this_meta, this_ratings in zip(sub_names, sub_metas, sub_ratings):\n",
    "    \n",
    "    for stoffgebiet in top_stoffgebiete:\n",
    "        ratings = this_ratings.query(\"type == @stoffgebiet\")\n",
    "        ratings_all = ratings.shape[0]\n",
    "        ratings_neutral = ratings.query(\"rating == '0'\").shape[0]\n",
    "        ratings_positiv = ratings.query(\"rating == '1'\").shape[0]\n",
    "        ratings_negativ = ratings.query(\"rating == '2'\").shape[0]\n",
    "        ratings_ambivalent = ratings.query(\"rating == '3'\").shape[0]\n",
    "        \n",
    "        add = pd.DataFrame()\n",
    "        add['rating'] = ['neutral', 'positiv', 'negativ', 'ambivalent']\n",
    "        add['count'] = [ratings_neutral, ratings_positiv, ratings_negativ, ratings_ambivalent]\n",
    "        if ratings_all > 0:\n",
    "            add['share'] = [ratings_neutral/ratings_all, ratings_positiv/ratings_all, \n",
    "                               ratings_negativ/ratings_all, ratings_ambivalent/ratings_all]\n",
    "        add['corpus'] = this_name\n",
    "        add['stoffgebiet'] = stoffgebiet\n",
    "        \n",
    "        bewertungen = pd.concat([bewertungen, add])"
   ]
  },
  {
   "cell_type": "code",
   "execution_count": 45,
   "id": "b8295fb8",
   "metadata": {},
   "outputs": [
    {
     "data": {
      "application/vnd.plotly.v1+json": {
       "config": {
        "plotlyServerURL": "https://plot.ly"
       },
       "data": [
        {
         "alignmentgroup": "True",
         "hovertemplate": "Bewertung=neutral<br>=%{x}<br>Anteil=%{y}<extra></extra>",
         "legendgroup": "neutral",
         "marker": {
          "color": "#636efa",
          "pattern": {
           "shape": ""
          }
         },
         "name": "neutral",
         "offsetgroup": "neutral",
         "orientation": "v",
         "showlegend": true,
         "textposition": "auto",
         "type": "bar",
         "x": [
          "Militär/Krieg",
          "Politik",
          "Religion",
          "Tod",
          "Liebe",
          "Literatur",
          "Nation/Volk-D",
          "Geschichte",
          "Mord",
          "Recht"
         ],
         "xaxis": "x",
         "y": [
          0.17440401505646172,
          0.10915492957746478,
          0.23595505617977527,
          0.2903225806451613,
          0.30158730158730157,
          0.11666666666666667,
          0,
          0.25,
          0.11363636363636363,
          0.2
         ],
         "yaxis": "y"
        },
        {
         "alignmentgroup": "True",
         "hovertemplate": "Bewertung=positiv<br>=%{x}<br>Anteil=%{y}<extra></extra>",
         "legendgroup": "positiv",
         "marker": {
          "color": "#EF553B",
          "pattern": {
           "shape": ""
          }
         },
         "name": "positiv",
         "offsetgroup": "positiv",
         "orientation": "v",
         "showlegend": true,
         "textposition": "auto",
         "type": "bar",
         "x": [
          "Militär/Krieg",
          "Politik",
          "Religion",
          "Tod",
          "Liebe",
          "Literatur",
          "Nation/Volk-D",
          "Geschichte",
          "Mord",
          "Recht"
         ],
         "xaxis": "x",
         "y": [
          0.5269761606022585,
          0.5598591549295775,
          0.49812734082397003,
          0.1152073732718894,
          0.5079365079365079,
          0.7333333333333333,
          0.7321428571428571,
          0.5625,
          0.022727272727272728,
          0.35
         ],
         "yaxis": "y"
        },
        {
         "alignmentgroup": "True",
         "hovertemplate": "Bewertung=negativ<br>=%{x}<br>Anteil=%{y}<extra></extra>",
         "legendgroup": "negativ",
         "marker": {
          "color": "#00cc96",
          "pattern": {
           "shape": ""
          }
         },
         "name": "negativ",
         "offsetgroup": "negativ",
         "orientation": "v",
         "showlegend": true,
         "textposition": "auto",
         "type": "bar",
         "x": [
          "Militär/Krieg",
          "Politik",
          "Religion",
          "Tod",
          "Liebe",
          "Literatur",
          "Nation/Volk-D",
          "Geschichte",
          "Mord",
          "Recht"
         ],
         "xaxis": "x",
         "y": [
          0.18946047678795483,
          0.2007042253521127,
          0.10112359550561797,
          0.3686635944700461,
          0.1111111111111111,
          0.08333333333333333,
          0.10714285714285714,
          0.0625,
          0.7954545454545454,
          0.2
         ],
         "yaxis": "y"
        },
        {
         "alignmentgroup": "True",
         "hovertemplate": "Bewertung=ambivalent<br>=%{x}<br>Anteil=%{y}<extra></extra>",
         "legendgroup": "ambivalent",
         "marker": {
          "color": "#ab63fa",
          "pattern": {
           "shape": ""
          }
         },
         "name": "ambivalent",
         "offsetgroup": "ambivalent",
         "orientation": "v",
         "showlegend": true,
         "textposition": "auto",
         "type": "bar",
         "x": [
          "Militär/Krieg",
          "Politik",
          "Religion",
          "Tod",
          "Liebe",
          "Literatur",
          "Nation/Volk-D",
          "Geschichte",
          "Mord",
          "Recht"
         ],
         "xaxis": "x",
         "y": [
          0.10915934755332497,
          0.13028169014084506,
          0.1647940074906367,
          0.22580645161290322,
          0.07936507936507936,
          0.06666666666666667,
          0.16071428571428573,
          0.125,
          0.06818181818181818,
          0.25
         ],
         "yaxis": "y"
        }
       ],
       "layout": {
        "barmode": "relative",
        "font": {
         "color": "black"
        },
        "height": 500,
        "legend": {
         "bordercolor": "black",
         "borderwidth": 1,
         "font": {
          "size": 16
         },
         "title": {
          "text": "Bewertung"
         },
         "tracegroupgap": 0
        },
        "margin": {
         "t": 60
        },
        "paper_bgcolor": "white",
        "plot_bgcolor": "white",
        "template": {
         "data": {
          "bar": [
           {
            "error_x": {
             "color": "#2a3f5f"
            },
            "error_y": {
             "color": "#2a3f5f"
            },
            "marker": {
             "line": {
              "color": "#E5ECF6",
              "width": 0.5
             },
             "pattern": {
              "fillmode": "overlay",
              "size": 10,
              "solidity": 0.2
             }
            },
            "type": "bar"
           }
          ],
          "barpolar": [
           {
            "marker": {
             "line": {
              "color": "#E5ECF6",
              "width": 0.5
             },
             "pattern": {
              "fillmode": "overlay",
              "size": 10,
              "solidity": 0.2
             }
            },
            "type": "barpolar"
           }
          ],
          "carpet": [
           {
            "aaxis": {
             "endlinecolor": "#2a3f5f",
             "gridcolor": "white",
             "linecolor": "white",
             "minorgridcolor": "white",
             "startlinecolor": "#2a3f5f"
            },
            "baxis": {
             "endlinecolor": "#2a3f5f",
             "gridcolor": "white",
             "linecolor": "white",
             "minorgridcolor": "white",
             "startlinecolor": "#2a3f5f"
            },
            "type": "carpet"
           }
          ],
          "choropleth": [
           {
            "colorbar": {
             "outlinewidth": 0,
             "ticks": ""
            },
            "type": "choropleth"
           }
          ],
          "contour": [
           {
            "colorbar": {
             "outlinewidth": 0,
             "ticks": ""
            },
            "colorscale": [
             [
              0,
              "#0d0887"
             ],
             [
              0.1111111111111111,
              "#46039f"
             ],
             [
              0.2222222222222222,
              "#7201a8"
             ],
             [
              0.3333333333333333,
              "#9c179e"
             ],
             [
              0.4444444444444444,
              "#bd3786"
             ],
             [
              0.5555555555555556,
              "#d8576b"
             ],
             [
              0.6666666666666666,
              "#ed7953"
             ],
             [
              0.7777777777777778,
              "#fb9f3a"
             ],
             [
              0.8888888888888888,
              "#fdca26"
             ],
             [
              1,
              "#f0f921"
             ]
            ],
            "type": "contour"
           }
          ],
          "contourcarpet": [
           {
            "colorbar": {
             "outlinewidth": 0,
             "ticks": ""
            },
            "type": "contourcarpet"
           }
          ],
          "heatmap": [
           {
            "colorbar": {
             "outlinewidth": 0,
             "ticks": ""
            },
            "colorscale": [
             [
              0,
              "#0d0887"
             ],
             [
              0.1111111111111111,
              "#46039f"
             ],
             [
              0.2222222222222222,
              "#7201a8"
             ],
             [
              0.3333333333333333,
              "#9c179e"
             ],
             [
              0.4444444444444444,
              "#bd3786"
             ],
             [
              0.5555555555555556,
              "#d8576b"
             ],
             [
              0.6666666666666666,
              "#ed7953"
             ],
             [
              0.7777777777777778,
              "#fb9f3a"
             ],
             [
              0.8888888888888888,
              "#fdca26"
             ],
             [
              1,
              "#f0f921"
             ]
            ],
            "type": "heatmap"
           }
          ],
          "heatmapgl": [
           {
            "colorbar": {
             "outlinewidth": 0,
             "ticks": ""
            },
            "colorscale": [
             [
              0,
              "#0d0887"
             ],
             [
              0.1111111111111111,
              "#46039f"
             ],
             [
              0.2222222222222222,
              "#7201a8"
             ],
             [
              0.3333333333333333,
              "#9c179e"
             ],
             [
              0.4444444444444444,
              "#bd3786"
             ],
             [
              0.5555555555555556,
              "#d8576b"
             ],
             [
              0.6666666666666666,
              "#ed7953"
             ],
             [
              0.7777777777777778,
              "#fb9f3a"
             ],
             [
              0.8888888888888888,
              "#fdca26"
             ],
             [
              1,
              "#f0f921"
             ]
            ],
            "type": "heatmapgl"
           }
          ],
          "histogram": [
           {
            "marker": {
             "pattern": {
              "fillmode": "overlay",
              "size": 10,
              "solidity": 0.2
             }
            },
            "type": "histogram"
           }
          ],
          "histogram2d": [
           {
            "colorbar": {
             "outlinewidth": 0,
             "ticks": ""
            },
            "colorscale": [
             [
              0,
              "#0d0887"
             ],
             [
              0.1111111111111111,
              "#46039f"
             ],
             [
              0.2222222222222222,
              "#7201a8"
             ],
             [
              0.3333333333333333,
              "#9c179e"
             ],
             [
              0.4444444444444444,
              "#bd3786"
             ],
             [
              0.5555555555555556,
              "#d8576b"
             ],
             [
              0.6666666666666666,
              "#ed7953"
             ],
             [
              0.7777777777777778,
              "#fb9f3a"
             ],
             [
              0.8888888888888888,
              "#fdca26"
             ],
             [
              1,
              "#f0f921"
             ]
            ],
            "type": "histogram2d"
           }
          ],
          "histogram2dcontour": [
           {
            "colorbar": {
             "outlinewidth": 0,
             "ticks": ""
            },
            "colorscale": [
             [
              0,
              "#0d0887"
             ],
             [
              0.1111111111111111,
              "#46039f"
             ],
             [
              0.2222222222222222,
              "#7201a8"
             ],
             [
              0.3333333333333333,
              "#9c179e"
             ],
             [
              0.4444444444444444,
              "#bd3786"
             ],
             [
              0.5555555555555556,
              "#d8576b"
             ],
             [
              0.6666666666666666,
              "#ed7953"
             ],
             [
              0.7777777777777778,
              "#fb9f3a"
             ],
             [
              0.8888888888888888,
              "#fdca26"
             ],
             [
              1,
              "#f0f921"
             ]
            ],
            "type": "histogram2dcontour"
           }
          ],
          "mesh3d": [
           {
            "colorbar": {
             "outlinewidth": 0,
             "ticks": ""
            },
            "type": "mesh3d"
           }
          ],
          "parcoords": [
           {
            "line": {
             "colorbar": {
              "outlinewidth": 0,
              "ticks": ""
             }
            },
            "type": "parcoords"
           }
          ],
          "pie": [
           {
            "automargin": true,
            "type": "pie"
           }
          ],
          "scatter": [
           {
            "fillpattern": {
             "fillmode": "overlay",
             "size": 10,
             "solidity": 0.2
            },
            "type": "scatter"
           }
          ],
          "scatter3d": [
           {
            "line": {
             "colorbar": {
              "outlinewidth": 0,
              "ticks": ""
             }
            },
            "marker": {
             "colorbar": {
              "outlinewidth": 0,
              "ticks": ""
             }
            },
            "type": "scatter3d"
           }
          ],
          "scattercarpet": [
           {
            "marker": {
             "colorbar": {
              "outlinewidth": 0,
              "ticks": ""
             }
            },
            "type": "scattercarpet"
           }
          ],
          "scattergeo": [
           {
            "marker": {
             "colorbar": {
              "outlinewidth": 0,
              "ticks": ""
             }
            },
            "type": "scattergeo"
           }
          ],
          "scattergl": [
           {
            "marker": {
             "colorbar": {
              "outlinewidth": 0,
              "ticks": ""
             }
            },
            "type": "scattergl"
           }
          ],
          "scattermapbox": [
           {
            "marker": {
             "colorbar": {
              "outlinewidth": 0,
              "ticks": ""
             }
            },
            "type": "scattermapbox"
           }
          ],
          "scatterpolar": [
           {
            "marker": {
             "colorbar": {
              "outlinewidth": 0,
              "ticks": ""
             }
            },
            "type": "scatterpolar"
           }
          ],
          "scatterpolargl": [
           {
            "marker": {
             "colorbar": {
              "outlinewidth": 0,
              "ticks": ""
             }
            },
            "type": "scatterpolargl"
           }
          ],
          "scatterternary": [
           {
            "marker": {
             "colorbar": {
              "outlinewidth": 0,
              "ticks": ""
             }
            },
            "type": "scatterternary"
           }
          ],
          "surface": [
           {
            "colorbar": {
             "outlinewidth": 0,
             "ticks": ""
            },
            "colorscale": [
             [
              0,
              "#0d0887"
             ],
             [
              0.1111111111111111,
              "#46039f"
             ],
             [
              0.2222222222222222,
              "#7201a8"
             ],
             [
              0.3333333333333333,
              "#9c179e"
             ],
             [
              0.4444444444444444,
              "#bd3786"
             ],
             [
              0.5555555555555556,
              "#d8576b"
             ],
             [
              0.6666666666666666,
              "#ed7953"
             ],
             [
              0.7777777777777778,
              "#fb9f3a"
             ],
             [
              0.8888888888888888,
              "#fdca26"
             ],
             [
              1,
              "#f0f921"
             ]
            ],
            "type": "surface"
           }
          ],
          "table": [
           {
            "cells": {
             "fill": {
              "color": "#EBF0F8"
             },
             "line": {
              "color": "white"
             }
            },
            "header": {
             "fill": {
              "color": "#C8D4E3"
             },
             "line": {
              "color": "white"
             }
            },
            "type": "table"
           }
          ]
         },
         "layout": {
          "annotationdefaults": {
           "arrowcolor": "#2a3f5f",
           "arrowhead": 0,
           "arrowwidth": 1
          },
          "autotypenumbers": "strict",
          "coloraxis": {
           "colorbar": {
            "outlinewidth": 0,
            "ticks": ""
           }
          },
          "colorscale": {
           "diverging": [
            [
             0,
             "#8e0152"
            ],
            [
             0.1,
             "#c51b7d"
            ],
            [
             0.2,
             "#de77ae"
            ],
            [
             0.3,
             "#f1b6da"
            ],
            [
             0.4,
             "#fde0ef"
            ],
            [
             0.5,
             "#f7f7f7"
            ],
            [
             0.6,
             "#e6f5d0"
            ],
            [
             0.7,
             "#b8e186"
            ],
            [
             0.8,
             "#7fbc41"
            ],
            [
             0.9,
             "#4d9221"
            ],
            [
             1,
             "#276419"
            ]
           ],
           "sequential": [
            [
             0,
             "#0d0887"
            ],
            [
             0.1111111111111111,
             "#46039f"
            ],
            [
             0.2222222222222222,
             "#7201a8"
            ],
            [
             0.3333333333333333,
             "#9c179e"
            ],
            [
             0.4444444444444444,
             "#bd3786"
            ],
            [
             0.5555555555555556,
             "#d8576b"
            ],
            [
             0.6666666666666666,
             "#ed7953"
            ],
            [
             0.7777777777777778,
             "#fb9f3a"
            ],
            [
             0.8888888888888888,
             "#fdca26"
            ],
            [
             1,
             "#f0f921"
            ]
           ],
           "sequentialminus": [
            [
             0,
             "#0d0887"
            ],
            [
             0.1111111111111111,
             "#46039f"
            ],
            [
             0.2222222222222222,
             "#7201a8"
            ],
            [
             0.3333333333333333,
             "#9c179e"
            ],
            [
             0.4444444444444444,
             "#bd3786"
            ],
            [
             0.5555555555555556,
             "#d8576b"
            ],
            [
             0.6666666666666666,
             "#ed7953"
            ],
            [
             0.7777777777777778,
             "#fb9f3a"
            ],
            [
             0.8888888888888888,
             "#fdca26"
            ],
            [
             1,
             "#f0f921"
            ]
           ]
          },
          "colorway": [
           "#636efa",
           "#EF553B",
           "#00cc96",
           "#ab63fa",
           "#FFA15A",
           "#19d3f3",
           "#FF6692",
           "#B6E880",
           "#FF97FF",
           "#FECB52"
          ],
          "font": {
           "color": "#2a3f5f"
          },
          "geo": {
           "bgcolor": "white",
           "lakecolor": "white",
           "landcolor": "#E5ECF6",
           "showlakes": true,
           "showland": true,
           "subunitcolor": "white"
          },
          "hoverlabel": {
           "align": "left"
          },
          "hovermode": "closest",
          "mapbox": {
           "style": "light"
          },
          "paper_bgcolor": "white",
          "plot_bgcolor": "#E5ECF6",
          "polar": {
           "angularaxis": {
            "gridcolor": "white",
            "linecolor": "white",
            "ticks": ""
           },
           "bgcolor": "#E5ECF6",
           "radialaxis": {
            "gridcolor": "white",
            "linecolor": "white",
            "ticks": ""
           }
          },
          "scene": {
           "xaxis": {
            "backgroundcolor": "#E5ECF6",
            "gridcolor": "white",
            "gridwidth": 2,
            "linecolor": "white",
            "showbackground": true,
            "ticks": "",
            "zerolinecolor": "white"
           },
           "yaxis": {
            "backgroundcolor": "#E5ECF6",
            "gridcolor": "white",
            "gridwidth": 2,
            "linecolor": "white",
            "showbackground": true,
            "ticks": "",
            "zerolinecolor": "white"
           },
           "zaxis": {
            "backgroundcolor": "#E5ECF6",
            "gridcolor": "white",
            "gridwidth": 2,
            "linecolor": "white",
            "showbackground": true,
            "ticks": "",
            "zerolinecolor": "white"
           }
          },
          "shapedefaults": {
           "line": {
            "color": "#2a3f5f"
           }
          },
          "ternary": {
           "aaxis": {
            "gridcolor": "white",
            "linecolor": "white",
            "ticks": ""
           },
           "baxis": {
            "gridcolor": "white",
            "linecolor": "white",
            "ticks": ""
           },
           "bgcolor": "#E5ECF6",
           "caxis": {
            "gridcolor": "white",
            "linecolor": "white",
            "ticks": ""
           }
          },
          "title": {
           "x": 0.05
          },
          "xaxis": {
           "automargin": true,
           "gridcolor": "white",
           "linecolor": "white",
           "ticks": "",
           "title": {
            "standoff": 15
           },
           "zerolinecolor": "white",
           "zerolinewidth": 2
          },
          "yaxis": {
           "automargin": true,
           "gridcolor": "white",
           "linecolor": "white",
           "ticks": "",
           "title": {
            "standoff": 15
           },
           "zerolinecolor": "white",
           "zerolinewidth": 2
          }
         }
        },
        "width": 900,
        "xaxis": {
         "anchor": "y",
         "autorange": true,
         "color": "black",
         "domain": [
          0,
          1
         ],
         "gridcolor": "white",
         "range": [
          -0.5,
          9.5
         ],
         "showgrid": false,
         "tickfont": {
          "size": 16
         },
         "title": {
          "font": {
           "size": 16
          },
          "text": ""
         },
         "type": "category"
        },
        "yaxis": {
         "anchor": "x",
         "autorange": true,
         "color": "black",
         "domain": [
          0,
          1
         ],
         "gridcolor": "lightgray",
         "range": [
          0,
          1.0526315789473684
         ],
         "tickfont": {
          "size": 16
         },
         "title": {
          "font": {
           "size": 16
          },
          "text": "Anteil"
         },
         "type": "linear",
         "zerolinecolor": "lightgray"
        }
       }
      },
      "text/html": [
       "<div>                            <div id=\"17b2921d-401d-4e7f-a900-cfcfa80f941c\" class=\"plotly-graph-div\" style=\"height:500px; width:900px;\"></div>            <script type=\"text/javascript\">                require([\"plotly\"], function(Plotly) {                    window.PLOTLYENV=window.PLOTLYENV || {};                                    if (document.getElementById(\"17b2921d-401d-4e7f-a900-cfcfa80f941c\")) {                    Plotly.newPlot(                        \"17b2921d-401d-4e7f-a900-cfcfa80f941c\",                        [{\"alignmentgroup\":\"True\",\"hovertemplate\":\"Bewertung=neutral\\u003cbr\\u003e=%{x}\\u003cbr\\u003eAnteil=%{y}\\u003cextra\\u003e\\u003c\\u002fextra\\u003e\",\"legendgroup\":\"neutral\",\"marker\":{\"color\":\"#636efa\",\"pattern\":{\"shape\":\"\"}},\"name\":\"neutral\",\"offsetgroup\":\"neutral\",\"orientation\":\"v\",\"showlegend\":true,\"textposition\":\"auto\",\"x\":[\"Militär\\u002fKrieg\",\"Politik\",\"Religion\",\"Tod\",\"Liebe\",\"Literatur\",\"Nation\\u002fVolk-D\",\"Geschichte\",\"Mord\",\"Recht\"],\"xaxis\":\"x\",\"y\":[0.17440401505646172,0.10915492957746478,0.23595505617977527,0.2903225806451613,0.30158730158730157,0.11666666666666667,0.0,0.25,0.11363636363636363,0.2],\"yaxis\":\"y\",\"type\":\"bar\"},{\"alignmentgroup\":\"True\",\"hovertemplate\":\"Bewertung=positiv\\u003cbr\\u003e=%{x}\\u003cbr\\u003eAnteil=%{y}\\u003cextra\\u003e\\u003c\\u002fextra\\u003e\",\"legendgroup\":\"positiv\",\"marker\":{\"color\":\"#EF553B\",\"pattern\":{\"shape\":\"\"}},\"name\":\"positiv\",\"offsetgroup\":\"positiv\",\"orientation\":\"v\",\"showlegend\":true,\"textposition\":\"auto\",\"x\":[\"Militär\\u002fKrieg\",\"Politik\",\"Religion\",\"Tod\",\"Liebe\",\"Literatur\",\"Nation\\u002fVolk-D\",\"Geschichte\",\"Mord\",\"Recht\"],\"xaxis\":\"x\",\"y\":[0.5269761606022585,0.5598591549295775,0.49812734082397003,0.1152073732718894,0.5079365079365079,0.7333333333333333,0.7321428571428571,0.5625,0.022727272727272728,0.35],\"yaxis\":\"y\",\"type\":\"bar\"},{\"alignmentgroup\":\"True\",\"hovertemplate\":\"Bewertung=negativ\\u003cbr\\u003e=%{x}\\u003cbr\\u003eAnteil=%{y}\\u003cextra\\u003e\\u003c\\u002fextra\\u003e\",\"legendgroup\":\"negativ\",\"marker\":{\"color\":\"#00cc96\",\"pattern\":{\"shape\":\"\"}},\"name\":\"negativ\",\"offsetgroup\":\"negativ\",\"orientation\":\"v\",\"showlegend\":true,\"textposition\":\"auto\",\"x\":[\"Militär\\u002fKrieg\",\"Politik\",\"Religion\",\"Tod\",\"Liebe\",\"Literatur\",\"Nation\\u002fVolk-D\",\"Geschichte\",\"Mord\",\"Recht\"],\"xaxis\":\"x\",\"y\":[0.18946047678795483,0.2007042253521127,0.10112359550561797,0.3686635944700461,0.1111111111111111,0.08333333333333333,0.10714285714285714,0.0625,0.7954545454545454,0.2],\"yaxis\":\"y\",\"type\":\"bar\"},{\"alignmentgroup\":\"True\",\"hovertemplate\":\"Bewertung=ambivalent\\u003cbr\\u003e=%{x}\\u003cbr\\u003eAnteil=%{y}\\u003cextra\\u003e\\u003c\\u002fextra\\u003e\",\"legendgroup\":\"ambivalent\",\"marker\":{\"color\":\"#ab63fa\",\"pattern\":{\"shape\":\"\"}},\"name\":\"ambivalent\",\"offsetgroup\":\"ambivalent\",\"orientation\":\"v\",\"showlegend\":true,\"textposition\":\"auto\",\"x\":[\"Militär\\u002fKrieg\",\"Politik\",\"Religion\",\"Tod\",\"Liebe\",\"Literatur\",\"Nation\\u002fVolk-D\",\"Geschichte\",\"Mord\",\"Recht\"],\"xaxis\":\"x\",\"y\":[0.10915934755332497,0.13028169014084506,0.1647940074906367,0.22580645161290322,0.07936507936507936,0.06666666666666667,0.16071428571428573,0.125,0.06818181818181818,0.25],\"yaxis\":\"y\",\"type\":\"bar\"}],                        {\"template\":{\"data\":{\"histogram2dcontour\":[{\"type\":\"histogram2dcontour\",\"colorbar\":{\"outlinewidth\":0,\"ticks\":\"\"},\"colorscale\":[[0.0,\"#0d0887\"],[0.1111111111111111,\"#46039f\"],[0.2222222222222222,\"#7201a8\"],[0.3333333333333333,\"#9c179e\"],[0.4444444444444444,\"#bd3786\"],[0.5555555555555556,\"#d8576b\"],[0.6666666666666666,\"#ed7953\"],[0.7777777777777778,\"#fb9f3a\"],[0.8888888888888888,\"#fdca26\"],[1.0,\"#f0f921\"]]}],\"choropleth\":[{\"type\":\"choropleth\",\"colorbar\":{\"outlinewidth\":0,\"ticks\":\"\"}}],\"histogram2d\":[{\"type\":\"histogram2d\",\"colorbar\":{\"outlinewidth\":0,\"ticks\":\"\"},\"colorscale\":[[0.0,\"#0d0887\"],[0.1111111111111111,\"#46039f\"],[0.2222222222222222,\"#7201a8\"],[0.3333333333333333,\"#9c179e\"],[0.4444444444444444,\"#bd3786\"],[0.5555555555555556,\"#d8576b\"],[0.6666666666666666,\"#ed7953\"],[0.7777777777777778,\"#fb9f3a\"],[0.8888888888888888,\"#fdca26\"],[1.0,\"#f0f921\"]]}],\"heatmap\":[{\"type\":\"heatmap\",\"colorbar\":{\"outlinewidth\":0,\"ticks\":\"\"},\"colorscale\":[[0.0,\"#0d0887\"],[0.1111111111111111,\"#46039f\"],[0.2222222222222222,\"#7201a8\"],[0.3333333333333333,\"#9c179e\"],[0.4444444444444444,\"#bd3786\"],[0.5555555555555556,\"#d8576b\"],[0.6666666666666666,\"#ed7953\"],[0.7777777777777778,\"#fb9f3a\"],[0.8888888888888888,\"#fdca26\"],[1.0,\"#f0f921\"]]}],\"heatmapgl\":[{\"type\":\"heatmapgl\",\"colorbar\":{\"outlinewidth\":0,\"ticks\":\"\"},\"colorscale\":[[0.0,\"#0d0887\"],[0.1111111111111111,\"#46039f\"],[0.2222222222222222,\"#7201a8\"],[0.3333333333333333,\"#9c179e\"],[0.4444444444444444,\"#bd3786\"],[0.5555555555555556,\"#d8576b\"],[0.6666666666666666,\"#ed7953\"],[0.7777777777777778,\"#fb9f3a\"],[0.8888888888888888,\"#fdca26\"],[1.0,\"#f0f921\"]]}],\"contourcarpet\":[{\"type\":\"contourcarpet\",\"colorbar\":{\"outlinewidth\":0,\"ticks\":\"\"}}],\"contour\":[{\"type\":\"contour\",\"colorbar\":{\"outlinewidth\":0,\"ticks\":\"\"},\"colorscale\":[[0.0,\"#0d0887\"],[0.1111111111111111,\"#46039f\"],[0.2222222222222222,\"#7201a8\"],[0.3333333333333333,\"#9c179e\"],[0.4444444444444444,\"#bd3786\"],[0.5555555555555556,\"#d8576b\"],[0.6666666666666666,\"#ed7953\"],[0.7777777777777778,\"#fb9f3a\"],[0.8888888888888888,\"#fdca26\"],[1.0,\"#f0f921\"]]}],\"surface\":[{\"type\":\"surface\",\"colorbar\":{\"outlinewidth\":0,\"ticks\":\"\"},\"colorscale\":[[0.0,\"#0d0887\"],[0.1111111111111111,\"#46039f\"],[0.2222222222222222,\"#7201a8\"],[0.3333333333333333,\"#9c179e\"],[0.4444444444444444,\"#bd3786\"],[0.5555555555555556,\"#d8576b\"],[0.6666666666666666,\"#ed7953\"],[0.7777777777777778,\"#fb9f3a\"],[0.8888888888888888,\"#fdca26\"],[1.0,\"#f0f921\"]]}],\"mesh3d\":[{\"type\":\"mesh3d\",\"colorbar\":{\"outlinewidth\":0,\"ticks\":\"\"}}],\"scatter\":[{\"fillpattern\":{\"fillmode\":\"overlay\",\"size\":10,\"solidity\":0.2},\"type\":\"scatter\"}],\"parcoords\":[{\"type\":\"parcoords\",\"line\":{\"colorbar\":{\"outlinewidth\":0,\"ticks\":\"\"}}}],\"scatterpolargl\":[{\"type\":\"scatterpolargl\",\"marker\":{\"colorbar\":{\"outlinewidth\":0,\"ticks\":\"\"}}}],\"bar\":[{\"error_x\":{\"color\":\"#2a3f5f\"},\"error_y\":{\"color\":\"#2a3f5f\"},\"marker\":{\"line\":{\"color\":\"#E5ECF6\",\"width\":0.5},\"pattern\":{\"fillmode\":\"overlay\",\"size\":10,\"solidity\":0.2}},\"type\":\"bar\"}],\"scattergeo\":[{\"type\":\"scattergeo\",\"marker\":{\"colorbar\":{\"outlinewidth\":0,\"ticks\":\"\"}}}],\"scatterpolar\":[{\"type\":\"scatterpolar\",\"marker\":{\"colorbar\":{\"outlinewidth\":0,\"ticks\":\"\"}}}],\"histogram\":[{\"marker\":{\"pattern\":{\"fillmode\":\"overlay\",\"size\":10,\"solidity\":0.2}},\"type\":\"histogram\"}],\"scattergl\":[{\"type\":\"scattergl\",\"marker\":{\"colorbar\":{\"outlinewidth\":0,\"ticks\":\"\"}}}],\"scatter3d\":[{\"type\":\"scatter3d\",\"line\":{\"colorbar\":{\"outlinewidth\":0,\"ticks\":\"\"}},\"marker\":{\"colorbar\":{\"outlinewidth\":0,\"ticks\":\"\"}}}],\"scattermapbox\":[{\"type\":\"scattermapbox\",\"marker\":{\"colorbar\":{\"outlinewidth\":0,\"ticks\":\"\"}}}],\"scatterternary\":[{\"type\":\"scatterternary\",\"marker\":{\"colorbar\":{\"outlinewidth\":0,\"ticks\":\"\"}}}],\"scattercarpet\":[{\"type\":\"scattercarpet\",\"marker\":{\"colorbar\":{\"outlinewidth\":0,\"ticks\":\"\"}}}],\"carpet\":[{\"aaxis\":{\"endlinecolor\":\"#2a3f5f\",\"gridcolor\":\"white\",\"linecolor\":\"white\",\"minorgridcolor\":\"white\",\"startlinecolor\":\"#2a3f5f\"},\"baxis\":{\"endlinecolor\":\"#2a3f5f\",\"gridcolor\":\"white\",\"linecolor\":\"white\",\"minorgridcolor\":\"white\",\"startlinecolor\":\"#2a3f5f\"},\"type\":\"carpet\"}],\"table\":[{\"cells\":{\"fill\":{\"color\":\"#EBF0F8\"},\"line\":{\"color\":\"white\"}},\"header\":{\"fill\":{\"color\":\"#C8D4E3\"},\"line\":{\"color\":\"white\"}},\"type\":\"table\"}],\"barpolar\":[{\"marker\":{\"line\":{\"color\":\"#E5ECF6\",\"width\":0.5},\"pattern\":{\"fillmode\":\"overlay\",\"size\":10,\"solidity\":0.2}},\"type\":\"barpolar\"}],\"pie\":[{\"automargin\":true,\"type\":\"pie\"}]},\"layout\":{\"autotypenumbers\":\"strict\",\"colorway\":[\"#636efa\",\"#EF553B\",\"#00cc96\",\"#ab63fa\",\"#FFA15A\",\"#19d3f3\",\"#FF6692\",\"#B6E880\",\"#FF97FF\",\"#FECB52\"],\"font\":{\"color\":\"#2a3f5f\"},\"hovermode\":\"closest\",\"hoverlabel\":{\"align\":\"left\"},\"paper_bgcolor\":\"white\",\"plot_bgcolor\":\"#E5ECF6\",\"polar\":{\"bgcolor\":\"#E5ECF6\",\"angularaxis\":{\"gridcolor\":\"white\",\"linecolor\":\"white\",\"ticks\":\"\"},\"radialaxis\":{\"gridcolor\":\"white\",\"linecolor\":\"white\",\"ticks\":\"\"}},\"ternary\":{\"bgcolor\":\"#E5ECF6\",\"aaxis\":{\"gridcolor\":\"white\",\"linecolor\":\"white\",\"ticks\":\"\"},\"baxis\":{\"gridcolor\":\"white\",\"linecolor\":\"white\",\"ticks\":\"\"},\"caxis\":{\"gridcolor\":\"white\",\"linecolor\":\"white\",\"ticks\":\"\"}},\"coloraxis\":{\"colorbar\":{\"outlinewidth\":0,\"ticks\":\"\"}},\"colorscale\":{\"sequential\":[[0.0,\"#0d0887\"],[0.1111111111111111,\"#46039f\"],[0.2222222222222222,\"#7201a8\"],[0.3333333333333333,\"#9c179e\"],[0.4444444444444444,\"#bd3786\"],[0.5555555555555556,\"#d8576b\"],[0.6666666666666666,\"#ed7953\"],[0.7777777777777778,\"#fb9f3a\"],[0.8888888888888888,\"#fdca26\"],[1.0,\"#f0f921\"]],\"sequentialminus\":[[0.0,\"#0d0887\"],[0.1111111111111111,\"#46039f\"],[0.2222222222222222,\"#7201a8\"],[0.3333333333333333,\"#9c179e\"],[0.4444444444444444,\"#bd3786\"],[0.5555555555555556,\"#d8576b\"],[0.6666666666666666,\"#ed7953\"],[0.7777777777777778,\"#fb9f3a\"],[0.8888888888888888,\"#fdca26\"],[1.0,\"#f0f921\"]],\"diverging\":[[0,\"#8e0152\"],[0.1,\"#c51b7d\"],[0.2,\"#de77ae\"],[0.3,\"#f1b6da\"],[0.4,\"#fde0ef\"],[0.5,\"#f7f7f7\"],[0.6,\"#e6f5d0\"],[0.7,\"#b8e186\"],[0.8,\"#7fbc41\"],[0.9,\"#4d9221\"],[1,\"#276419\"]]},\"xaxis\":{\"gridcolor\":\"white\",\"linecolor\":\"white\",\"ticks\":\"\",\"title\":{\"standoff\":15},\"zerolinecolor\":\"white\",\"automargin\":true,\"zerolinewidth\":2},\"yaxis\":{\"gridcolor\":\"white\",\"linecolor\":\"white\",\"ticks\":\"\",\"title\":{\"standoff\":15},\"zerolinecolor\":\"white\",\"automargin\":true,\"zerolinewidth\":2},\"scene\":{\"xaxis\":{\"backgroundcolor\":\"#E5ECF6\",\"gridcolor\":\"white\",\"linecolor\":\"white\",\"showbackground\":true,\"ticks\":\"\",\"zerolinecolor\":\"white\",\"gridwidth\":2},\"yaxis\":{\"backgroundcolor\":\"#E5ECF6\",\"gridcolor\":\"white\",\"linecolor\":\"white\",\"showbackground\":true,\"ticks\":\"\",\"zerolinecolor\":\"white\",\"gridwidth\":2},\"zaxis\":{\"backgroundcolor\":\"#E5ECF6\",\"gridcolor\":\"white\",\"linecolor\":\"white\",\"showbackground\":true,\"ticks\":\"\",\"zerolinecolor\":\"white\",\"gridwidth\":2}},\"shapedefaults\":{\"line\":{\"color\":\"#2a3f5f\"}},\"annotationdefaults\":{\"arrowcolor\":\"#2a3f5f\",\"arrowhead\":0,\"arrowwidth\":1},\"geo\":{\"bgcolor\":\"white\",\"landcolor\":\"#E5ECF6\",\"subunitcolor\":\"white\",\"showland\":true,\"showlakes\":true,\"lakecolor\":\"white\"},\"title\":{\"x\":0.05},\"mapbox\":{\"style\":\"light\"}}},\"xaxis\":{\"anchor\":\"y\",\"domain\":[0.0,1.0],\"title\":{\"text\":\"\",\"font\":{\"size\":16}},\"tickfont\":{\"size\":16},\"color\":\"black\",\"gridcolor\":\"white\",\"showgrid\":false},\"yaxis\":{\"anchor\":\"x\",\"domain\":[0.0,1.0],\"title\":{\"text\":\"Anteil\",\"font\":{\"size\":16}},\"tickfont\":{\"size\":16},\"color\":\"black\",\"gridcolor\":\"lightgray\",\"zerolinecolor\":\"lightgray\"},\"legend\":{\"title\":{\"text\":\"Bewertung\"},\"tracegroupgap\":0,\"font\":{\"size\":16},\"bordercolor\":\"black\",\"borderwidth\":1},\"margin\":{\"t\":60},\"barmode\":\"relative\",\"width\":900,\"height\":500,\"font\":{\"color\":\"black\"},\"plot_bgcolor\":\"white\",\"paper_bgcolor\":\"white\"},                        {\"responsive\": true}                    ).then(function(){\n",
       "                            \n",
       "var gd = document.getElementById('17b2921d-401d-4e7f-a900-cfcfa80f941c');\n",
       "var x = new MutationObserver(function (mutations, observer) {{\n",
       "        var display = window.getComputedStyle(gd).display;\n",
       "        if (!display || display === 'none') {{\n",
       "            console.log([gd, 'removed!']);\n",
       "            Plotly.purge(gd);\n",
       "            observer.disconnect();\n",
       "        }}\n",
       "}});\n",
       "\n",
       "// Listen for the removal of the full notebook cells\n",
       "var notebookContainer = gd.closest('#notebook-container');\n",
       "if (notebookContainer) {{\n",
       "    x.observe(notebookContainer, {childList: true});\n",
       "}}\n",
       "\n",
       "// Listen for the clearing of the current output cell\n",
       "var outputEl = gd.closest('.output');\n",
       "if (outputEl) {{\n",
       "    x.observe(outputEl, {childList: true});\n",
       "}}\n",
       "\n",
       "                        })                };                });            </script>        </div>"
      ]
     },
     "metadata": {},
     "output_type": "display_data"
    }
   ],
   "source": [
    "meta_plot = bewertungen.query(\"corpus == 'Anthologien'\").copy()\n",
    "\n",
    "fig = px.bar(\n",
    "    meta_plot,\n",
    "    x = 'stoffgebiet',\n",
    "    y = 'share',\n",
    "    color = 'rating',\n",
    "    labels = {\n",
    "        'share' : 'Anteil',\n",
    "        'stoffgebiet' : '',\n",
    "        'rating' : 'Bewertung'\n",
    "    }\n",
    ")\n",
    "\n",
    "fig.update_layout(\n",
    "    width=900, height=500,\n",
    "    xaxis=dict(tickfont=dict(size=16), titlefont=dict(size=16)),\n",
    "    yaxis=dict(tickfont=dict(size=16), titlefont=dict(size=16)),\n",
    "    legend=dict(font=dict(size=16)),\n",
    ")\n",
    "fig = update_fig_for_publication(fig)\n",
    "fig.write_image(f\"plots/6.4.3 Bewertungen der häufigsten Stoffgebiete im Anthologiekorpus.pdf\")\n",
    "fig.show()"
   ]
  },
  {
   "cell_type": "code",
   "execution_count": 46,
   "id": "29d24747",
   "metadata": {},
   "outputs": [
    {
     "data": {
      "application/vnd.plotly.v1+json": {
       "config": {
        "plotlyServerURL": "https://plot.ly"
       },
       "data": [
        {
         "line": {
          "color": "#636EFA",
          "width": 6
         },
         "mode": "lines",
         "name": "neutral",
         "type": "scatter",
         "x": [
          1850,
          1851,
          1852,
          1853,
          1854,
          1855,
          1856,
          1857,
          1858,
          1859,
          1860,
          1861,
          1862,
          1863,
          1864,
          1865,
          1866,
          1867,
          1868,
          1869,
          1870,
          1871,
          1872,
          1873,
          1874,
          1875,
          1876,
          1877,
          1878,
          1879,
          1880,
          1881,
          1882,
          1883,
          1884,
          1885,
          1886,
          1887,
          1888,
          1889,
          1890,
          1891,
          1892,
          1893,
          1894,
          1895,
          1896,
          1897,
          1898,
          1899,
          1900,
          1901,
          1902,
          1903,
          1904,
          1905,
          1906,
          1907,
          1908,
          1909,
          1910,
          1911,
          1912,
          1913,
          1914,
          1915,
          1916,
          1917,
          1918
         ],
         "y": [
          null,
          null,
          null,
          null,
          null,
          0.14722219136593825,
          0.15758319827483325,
          0.16126527590892092,
          0.14904896974812676,
          0.1528907685093405,
          0.14180017607858067,
          0.13957763279351496,
          0.13688475972296973,
          0.14942828890943088,
          0.18870535147699116,
          0.16555539067089003,
          0.1758499748740332,
          0.175866832892239,
          0.18298625494460302,
          0.18973590908195562,
          0.19000428552652276,
          0.20828570042115938,
          0.2151112128048509,
          0.21946508607408277,
          0.1900440090242886,
          0.16918989425990608,
          0.2178713814448878,
          0.21872787960560094,
          0.21190580304660972,
          0.2055094131599155,
          0.20316170668406727,
          0.21253002131711204,
          0.1978710477595436,
          0.19649080373742447,
          0.1955718966956334,
          0.2203981569462863,
          0.21348947763071477,
          0.16803814203179154,
          0.15080052500510824,
          0.14195743734267155,
          0.1554872297695899,
          0.16706104741517716,
          0.13875446550329817,
          0.13890068152440366,
          0.1609575056665321,
          0.17787634897674512,
          0.16259395953014852,
          0.19867125399489594,
          0.21943452613596628,
          0.2515301618615998,
          0.23423005840790662,
          0.25081172714686584,
          0.23499738315020408,
          0.23841425254747534,
          0.22831751074993353,
          0.20446378045015798,
          0.2055001010007463,
          0.1856165396619662,
          0.17383887431562153,
          0.14378962128439374,
          0.14124127710143788,
          0.1384104172382988,
          0.11141035151136303,
          0.10770739802177245,
          null,
          null,
          null,
          null,
          null
         ]
        },
        {
         "line": {
          "color": "#EF553B",
          "width": 6
         },
         "mode": "lines",
         "name": "positiv",
         "type": "scatter",
         "x": [
          1850,
          1851,
          1852,
          1853,
          1854,
          1855,
          1856,
          1857,
          1858,
          1859,
          1860,
          1861,
          1862,
          1863,
          1864,
          1865,
          1866,
          1867,
          1868,
          1869,
          1870,
          1871,
          1872,
          1873,
          1874,
          1875,
          1876,
          1877,
          1878,
          1879,
          1880,
          1881,
          1882,
          1883,
          1884,
          1885,
          1886,
          1887,
          1888,
          1889,
          1890,
          1891,
          1892,
          1893,
          1894,
          1895,
          1896,
          1897,
          1898,
          1899,
          1900,
          1901,
          1902,
          1903,
          1904,
          1905,
          1906,
          1907,
          1908,
          1909,
          1910,
          1911,
          1912,
          1913,
          1914,
          1915,
          1916,
          1917,
          1918
         ],
         "y": [
          null,
          null,
          null,
          null,
          null,
          0.6202063009920933,
          0.6194315598013069,
          0.6027784433185019,
          0.6069383316143712,
          0.601836600786719,
          0.5912356181007766,
          0.5899338125616163,
          0.5911911457265742,
          0.5603147631416103,
          0.524668645252376,
          0.5918008146263064,
          0.6009581619660923,
          0.6051942049646383,
          0.6194809128680182,
          0.6164471069274529,
          0.6209453639330866,
          0.6054698582514183,
          0.5832597519462419,
          0.5724896112586918,
          0.595808214470809,
          0.6067619947050814,
          0.515752721089314,
          0.4784891723537765,
          0.4798418614230246,
          0.4861078782872286,
          0.49359769234232687,
          0.4692074001708412,
          0.4822429576058816,
          0.4732993096196211,
          0.46591291055355466,
          0.38275472974177177,
          0.3682090474624827,
          0.4098624343539942,
          0.43184745564893984,
          0.43298804473489405,
          0.42293198273659094,
          0.3971041525188961,
          0.42303836368184405,
          0.42763989974441635,
          0.40674972239287616,
          0.38203082993267673,
          0.42005627640393983,
          0.42501283164432946,
          0.35274661942278945,
          0.3071231659350611,
          0.341009659202014,
          0.33988035854106835,
          0.36265951877684843,
          0.3778120923109828,
          0.38891592128966035,
          0.40557443073723254,
          0.4111635616973457,
          0.409242945039837,
          0.4155477458544981,
          0.47825976684646027,
          0.4877905974480464,
          0.4806048462484856,
          0.5017015194029752,
          0.5158742606845824,
          null,
          null,
          null,
          null,
          null
         ]
        },
        {
         "line": {
          "color": "#00CC96",
          "width": 6
         },
         "mode": "lines",
         "name": "negativ",
         "type": "scatter",
         "x": [
          1850,
          1851,
          1852,
          1853,
          1854,
          1855,
          1856,
          1857,
          1858,
          1859,
          1860,
          1861,
          1862,
          1863,
          1864,
          1865,
          1866,
          1867,
          1868,
          1869,
          1870,
          1871,
          1872,
          1873,
          1874,
          1875,
          1876,
          1877,
          1878,
          1879,
          1880,
          1881,
          1882,
          1883,
          1884,
          1885,
          1886,
          1887,
          1888,
          1889,
          1890,
          1891,
          1892,
          1893,
          1894,
          1895,
          1896,
          1897,
          1898,
          1899,
          1900,
          1901,
          1902,
          1903,
          1904,
          1905,
          1906,
          1907,
          1908,
          1909,
          1910,
          1911,
          1912,
          1913,
          1914,
          1915,
          1916,
          1917,
          1918
         ],
         "y": [
          null,
          null,
          null,
          null,
          null,
          0.12526991278187302,
          0.12792540528216279,
          0.14894606795135729,
          0.15212604966192445,
          0.15730656238166893,
          0.17620614448026048,
          0.18466672129664652,
          0.17223515746436935,
          0.18002699315207218,
          0.17978983770218876,
          0.15567684609058252,
          0.14074068972735032,
          0.13684997877681213,
          0.11388943338661028,
          0.11047191953808917,
          0.10317633040936271,
          0.09621969186843767,
          0.11081883931807938,
          0.1173882480984606,
          0.12229908524528657,
          0.12603125380694014,
          0.15114182824606354,
          0.17494564879366845,
          0.17369563820793832,
          0.17489080454229944,
          0.1741207785850699,
          0.1895674534878187,
          0.1905324915297346,
          0.1947939649723413,
          0.2065978129319401,
          0.24205493248631024,
          0.2624864022039347,
          0.26517863306557976,
          0.27741039862746936,
          0.29542143763942635,
          0.3016046852667775,
          0.3220910098275009,
          0.3327366412509405,
          0.34323948350969113,
          0.3454307689020717,
          0.37878621339213775,
          0.38760348513495124,
          0.36034457591138586,
          0.41178578831023827,
          0.42038386844207487,
          0.3720218225214119,
          0.34250796582377957,
          0.3220595056910565,
          0.29157933796739055,
          0.2674232077627871,
          0.26255140822463147,
          0.24043693439772187,
          0.24267201795762947,
          0.24260445917443726,
          0.2230090131774978,
          0.21970321674954418,
          0.22714211721192104,
          0.228982704974347,
          0.2267090397676384,
          null,
          null,
          null,
          null,
          null
         ]
        },
        {
         "line": {
          "color": "#AB63FA",
          "width": 6
         },
         "mode": "lines",
         "name": "ambivalent",
         "type": "scatter",
         "x": [
          1850,
          1851,
          1852,
          1853,
          1854,
          1855,
          1856,
          1857,
          1858,
          1859,
          1860,
          1861,
          1862,
          1863,
          1864,
          1865,
          1866,
          1867,
          1868,
          1869,
          1870,
          1871,
          1872,
          1873,
          1874,
          1875,
          1876,
          1877,
          1878,
          1879,
          1880,
          1881,
          1882,
          1883,
          1884,
          1885,
          1886,
          1887,
          1888,
          1889,
          1890,
          1891,
          1892,
          1893,
          1894,
          1895,
          1896,
          1897,
          1898,
          1899,
          1900,
          1901,
          1902,
          1903,
          1904,
          1905,
          1906,
          1907,
          1908,
          1909,
          1910,
          1911,
          1912,
          1913,
          1914,
          1915,
          1916,
          1917,
          1918
         ],
         "y": [
          null,
          null,
          null,
          null,
          null,
          0.1073015948600954,
          0.0950598366416968,
          0.08701021282121961,
          0.09188664897557763,
          0.08796606832227136,
          0.09075806134038222,
          0.08582183334822226,
          0.09968893708608709,
          0.11022995479688664,
          0.10683616556844412,
          0.08696694861222107,
          0.08245117343252431,
          0.08208898336631061,
          0.08364339880076845,
          0.08334506445250263,
          0.08587402013102784,
          0.09002474945898456,
          0.09081019593082772,
          0.0906570545687648,
          0.0918486912596159,
          0.09801685722807241,
          0.11523406921973454,
          0.12783729924695414,
          0.13455669732242725,
          0.13349190401055638,
          0.12911982238853603,
          0.12869512502422792,
          0.1293535031048403,
          0.13541592167061323,
          0.13191737981887178,
          0.15479218082563176,
          0.1558150727028678,
          0.15692079054863461,
          0.13994162071848254,
          0.1296330802830083,
          0.11997610222704178,
          0.11374379023842604,
          0.10547052956391714,
          0.09021993522148886,
          0.08686200303852007,
          0.06130660769844034,
          0.029746278930960393,
          0.015971338449388764,
          0.016033066131005937,
          0.02096280376126396,
          0.05273845986866743,
          0.06679994848828628,
          0.08028359238189113,
          0.09219431717415127,
          0.11534336019761891,
          0.12741038058797802,
          0.14289940290418623,
          0.1624684973405673,
          0.16800892065544293,
          0.1549415986916483,
          0.1512649087009716,
          0.1538426193012946,
          0.15790542411131492,
          0.14970930152600673,
          null,
          null,
          null,
          null,
          null
         ]
        },
        {
         "marker": {
          "color": [
           "#636EFA",
           "#EF553B",
           "#00CC96",
           "#AB63FA",
           "#FFA15A",
           "#19D3F3"
          ],
          "size": 14,
          "symbol": "circle"
         },
         "mode": "markers",
         "name": "Kanonisierte Moderne",
         "showlegend": false,
         "type": "scatter",
         "x": [
          1903,
          1903,
          1903,
          1903
         ],
         "y": [
          0.34146341463414637,
          0.0975609756097561,
          0.5121951219512195,
          0.04878048780487805
         ]
        },
        {
         "marker": {
          "color": "black",
          "size": 14,
          "symbol": "circle"
         },
         "mode": "markers",
         "name": "Kanonisierte Moderne",
         "type": "scatter",
         "x": [
          null
         ],
         "y": [
          null
         ]
        },
        {
         "marker": {
          "color": [
           "#636EFA",
           "#EF553B",
           "#00CC96",
           "#AB63FA",
           "#FFA15A",
           "#19D3F3"
          ],
          "size": 14,
          "symbol": "square"
         },
         "mode": "markers",
         "name": "Münchhausen-Kreis",
         "showlegend": false,
         "type": "scatter",
         "x": [
          1905,
          1905,
          1905,
          1905
         ],
         "y": [
          0.2653061224489796,
          0.16326530612244897,
          0.4897959183673469,
          0.08163265306122448
         ]
        },
        {
         "marker": {
          "color": "black",
          "size": 14,
          "symbol": "square"
         },
         "mode": "markers",
         "name": "Münchhausen-Kreis",
         "type": "scatter",
         "x": [
          null
         ],
         "y": [
          null
         ]
        }
       ],
       "layout": {
        "font": {
         "color": "black"
        },
        "height": 500,
        "legend": {
         "bordercolor": "black",
         "borderwidth": 1,
         "font": {
          "size": 16
         },
         "traceorder": "normal"
        },
        "paper_bgcolor": "white",
        "plot_bgcolor": "white",
        "template": {
         "data": {
          "bar": [
           {
            "error_x": {
             "color": "#2a3f5f"
            },
            "error_y": {
             "color": "#2a3f5f"
            },
            "marker": {
             "line": {
              "color": "#E5ECF6",
              "width": 0.5
             },
             "pattern": {
              "fillmode": "overlay",
              "size": 10,
              "solidity": 0.2
             }
            },
            "type": "bar"
           }
          ],
          "barpolar": [
           {
            "marker": {
             "line": {
              "color": "#E5ECF6",
              "width": 0.5
             },
             "pattern": {
              "fillmode": "overlay",
              "size": 10,
              "solidity": 0.2
             }
            },
            "type": "barpolar"
           }
          ],
          "carpet": [
           {
            "aaxis": {
             "endlinecolor": "#2a3f5f",
             "gridcolor": "white",
             "linecolor": "white",
             "minorgridcolor": "white",
             "startlinecolor": "#2a3f5f"
            },
            "baxis": {
             "endlinecolor": "#2a3f5f",
             "gridcolor": "white",
             "linecolor": "white",
             "minorgridcolor": "white",
             "startlinecolor": "#2a3f5f"
            },
            "type": "carpet"
           }
          ],
          "choropleth": [
           {
            "colorbar": {
             "outlinewidth": 0,
             "ticks": ""
            },
            "type": "choropleth"
           }
          ],
          "contour": [
           {
            "colorbar": {
             "outlinewidth": 0,
             "ticks": ""
            },
            "colorscale": [
             [
              0,
              "#0d0887"
             ],
             [
              0.1111111111111111,
              "#46039f"
             ],
             [
              0.2222222222222222,
              "#7201a8"
             ],
             [
              0.3333333333333333,
              "#9c179e"
             ],
             [
              0.4444444444444444,
              "#bd3786"
             ],
             [
              0.5555555555555556,
              "#d8576b"
             ],
             [
              0.6666666666666666,
              "#ed7953"
             ],
             [
              0.7777777777777778,
              "#fb9f3a"
             ],
             [
              0.8888888888888888,
              "#fdca26"
             ],
             [
              1,
              "#f0f921"
             ]
            ],
            "type": "contour"
           }
          ],
          "contourcarpet": [
           {
            "colorbar": {
             "outlinewidth": 0,
             "ticks": ""
            },
            "type": "contourcarpet"
           }
          ],
          "heatmap": [
           {
            "colorbar": {
             "outlinewidth": 0,
             "ticks": ""
            },
            "colorscale": [
             [
              0,
              "#0d0887"
             ],
             [
              0.1111111111111111,
              "#46039f"
             ],
             [
              0.2222222222222222,
              "#7201a8"
             ],
             [
              0.3333333333333333,
              "#9c179e"
             ],
             [
              0.4444444444444444,
              "#bd3786"
             ],
             [
              0.5555555555555556,
              "#d8576b"
             ],
             [
              0.6666666666666666,
              "#ed7953"
             ],
             [
              0.7777777777777778,
              "#fb9f3a"
             ],
             [
              0.8888888888888888,
              "#fdca26"
             ],
             [
              1,
              "#f0f921"
             ]
            ],
            "type": "heatmap"
           }
          ],
          "heatmapgl": [
           {
            "colorbar": {
             "outlinewidth": 0,
             "ticks": ""
            },
            "colorscale": [
             [
              0,
              "#0d0887"
             ],
             [
              0.1111111111111111,
              "#46039f"
             ],
             [
              0.2222222222222222,
              "#7201a8"
             ],
             [
              0.3333333333333333,
              "#9c179e"
             ],
             [
              0.4444444444444444,
              "#bd3786"
             ],
             [
              0.5555555555555556,
              "#d8576b"
             ],
             [
              0.6666666666666666,
              "#ed7953"
             ],
             [
              0.7777777777777778,
              "#fb9f3a"
             ],
             [
              0.8888888888888888,
              "#fdca26"
             ],
             [
              1,
              "#f0f921"
             ]
            ],
            "type": "heatmapgl"
           }
          ],
          "histogram": [
           {
            "marker": {
             "pattern": {
              "fillmode": "overlay",
              "size": 10,
              "solidity": 0.2
             }
            },
            "type": "histogram"
           }
          ],
          "histogram2d": [
           {
            "colorbar": {
             "outlinewidth": 0,
             "ticks": ""
            },
            "colorscale": [
             [
              0,
              "#0d0887"
             ],
             [
              0.1111111111111111,
              "#46039f"
             ],
             [
              0.2222222222222222,
              "#7201a8"
             ],
             [
              0.3333333333333333,
              "#9c179e"
             ],
             [
              0.4444444444444444,
              "#bd3786"
             ],
             [
              0.5555555555555556,
              "#d8576b"
             ],
             [
              0.6666666666666666,
              "#ed7953"
             ],
             [
              0.7777777777777778,
              "#fb9f3a"
             ],
             [
              0.8888888888888888,
              "#fdca26"
             ],
             [
              1,
              "#f0f921"
             ]
            ],
            "type": "histogram2d"
           }
          ],
          "histogram2dcontour": [
           {
            "colorbar": {
             "outlinewidth": 0,
             "ticks": ""
            },
            "colorscale": [
             [
              0,
              "#0d0887"
             ],
             [
              0.1111111111111111,
              "#46039f"
             ],
             [
              0.2222222222222222,
              "#7201a8"
             ],
             [
              0.3333333333333333,
              "#9c179e"
             ],
             [
              0.4444444444444444,
              "#bd3786"
             ],
             [
              0.5555555555555556,
              "#d8576b"
             ],
             [
              0.6666666666666666,
              "#ed7953"
             ],
             [
              0.7777777777777778,
              "#fb9f3a"
             ],
             [
              0.8888888888888888,
              "#fdca26"
             ],
             [
              1,
              "#f0f921"
             ]
            ],
            "type": "histogram2dcontour"
           }
          ],
          "mesh3d": [
           {
            "colorbar": {
             "outlinewidth": 0,
             "ticks": ""
            },
            "type": "mesh3d"
           }
          ],
          "parcoords": [
           {
            "line": {
             "colorbar": {
              "outlinewidth": 0,
              "ticks": ""
             }
            },
            "type": "parcoords"
           }
          ],
          "pie": [
           {
            "automargin": true,
            "type": "pie"
           }
          ],
          "scatter": [
           {
            "fillpattern": {
             "fillmode": "overlay",
             "size": 10,
             "solidity": 0.2
            },
            "type": "scatter"
           }
          ],
          "scatter3d": [
           {
            "line": {
             "colorbar": {
              "outlinewidth": 0,
              "ticks": ""
             }
            },
            "marker": {
             "colorbar": {
              "outlinewidth": 0,
              "ticks": ""
             }
            },
            "type": "scatter3d"
           }
          ],
          "scattercarpet": [
           {
            "marker": {
             "colorbar": {
              "outlinewidth": 0,
              "ticks": ""
             }
            },
            "type": "scattercarpet"
           }
          ],
          "scattergeo": [
           {
            "marker": {
             "colorbar": {
              "outlinewidth": 0,
              "ticks": ""
             }
            },
            "type": "scattergeo"
           }
          ],
          "scattergl": [
           {
            "marker": {
             "colorbar": {
              "outlinewidth": 0,
              "ticks": ""
             }
            },
            "type": "scattergl"
           }
          ],
          "scattermapbox": [
           {
            "marker": {
             "colorbar": {
              "outlinewidth": 0,
              "ticks": ""
             }
            },
            "type": "scattermapbox"
           }
          ],
          "scatterpolar": [
           {
            "marker": {
             "colorbar": {
              "outlinewidth": 0,
              "ticks": ""
             }
            },
            "type": "scatterpolar"
           }
          ],
          "scatterpolargl": [
           {
            "marker": {
             "colorbar": {
              "outlinewidth": 0,
              "ticks": ""
             }
            },
            "type": "scatterpolargl"
           }
          ],
          "scatterternary": [
           {
            "marker": {
             "colorbar": {
              "outlinewidth": 0,
              "ticks": ""
             }
            },
            "type": "scatterternary"
           }
          ],
          "surface": [
           {
            "colorbar": {
             "outlinewidth": 0,
             "ticks": ""
            },
            "colorscale": [
             [
              0,
              "#0d0887"
             ],
             [
              0.1111111111111111,
              "#46039f"
             ],
             [
              0.2222222222222222,
              "#7201a8"
             ],
             [
              0.3333333333333333,
              "#9c179e"
             ],
             [
              0.4444444444444444,
              "#bd3786"
             ],
             [
              0.5555555555555556,
              "#d8576b"
             ],
             [
              0.6666666666666666,
              "#ed7953"
             ],
             [
              0.7777777777777778,
              "#fb9f3a"
             ],
             [
              0.8888888888888888,
              "#fdca26"
             ],
             [
              1,
              "#f0f921"
             ]
            ],
            "type": "surface"
           }
          ],
          "table": [
           {
            "cells": {
             "fill": {
              "color": "#EBF0F8"
             },
             "line": {
              "color": "white"
             }
            },
            "header": {
             "fill": {
              "color": "#C8D4E3"
             },
             "line": {
              "color": "white"
             }
            },
            "type": "table"
           }
          ]
         },
         "layout": {
          "annotationdefaults": {
           "arrowcolor": "#2a3f5f",
           "arrowhead": 0,
           "arrowwidth": 1
          },
          "autotypenumbers": "strict",
          "coloraxis": {
           "colorbar": {
            "outlinewidth": 0,
            "ticks": ""
           }
          },
          "colorscale": {
           "diverging": [
            [
             0,
             "#8e0152"
            ],
            [
             0.1,
             "#c51b7d"
            ],
            [
             0.2,
             "#de77ae"
            ],
            [
             0.3,
             "#f1b6da"
            ],
            [
             0.4,
             "#fde0ef"
            ],
            [
             0.5,
             "#f7f7f7"
            ],
            [
             0.6,
             "#e6f5d0"
            ],
            [
             0.7,
             "#b8e186"
            ],
            [
             0.8,
             "#7fbc41"
            ],
            [
             0.9,
             "#4d9221"
            ],
            [
             1,
             "#276419"
            ]
           ],
           "sequential": [
            [
             0,
             "#0d0887"
            ],
            [
             0.1111111111111111,
             "#46039f"
            ],
            [
             0.2222222222222222,
             "#7201a8"
            ],
            [
             0.3333333333333333,
             "#9c179e"
            ],
            [
             0.4444444444444444,
             "#bd3786"
            ],
            [
             0.5555555555555556,
             "#d8576b"
            ],
            [
             0.6666666666666666,
             "#ed7953"
            ],
            [
             0.7777777777777778,
             "#fb9f3a"
            ],
            [
             0.8888888888888888,
             "#fdca26"
            ],
            [
             1,
             "#f0f921"
            ]
           ],
           "sequentialminus": [
            [
             0,
             "#0d0887"
            ],
            [
             0.1111111111111111,
             "#46039f"
            ],
            [
             0.2222222222222222,
             "#7201a8"
            ],
            [
             0.3333333333333333,
             "#9c179e"
            ],
            [
             0.4444444444444444,
             "#bd3786"
            ],
            [
             0.5555555555555556,
             "#d8576b"
            ],
            [
             0.6666666666666666,
             "#ed7953"
            ],
            [
             0.7777777777777778,
             "#fb9f3a"
            ],
            [
             0.8888888888888888,
             "#fdca26"
            ],
            [
             1,
             "#f0f921"
            ]
           ]
          },
          "colorway": [
           "#636efa",
           "#EF553B",
           "#00cc96",
           "#ab63fa",
           "#FFA15A",
           "#19d3f3",
           "#FF6692",
           "#B6E880",
           "#FF97FF",
           "#FECB52"
          ],
          "font": {
           "color": "#2a3f5f"
          },
          "geo": {
           "bgcolor": "white",
           "lakecolor": "white",
           "landcolor": "#E5ECF6",
           "showlakes": true,
           "showland": true,
           "subunitcolor": "white"
          },
          "hoverlabel": {
           "align": "left"
          },
          "hovermode": "closest",
          "mapbox": {
           "style": "light"
          },
          "paper_bgcolor": "white",
          "plot_bgcolor": "#E5ECF6",
          "polar": {
           "angularaxis": {
            "gridcolor": "white",
            "linecolor": "white",
            "ticks": ""
           },
           "bgcolor": "#E5ECF6",
           "radialaxis": {
            "gridcolor": "white",
            "linecolor": "white",
            "ticks": ""
           }
          },
          "scene": {
           "xaxis": {
            "backgroundcolor": "#E5ECF6",
            "gridcolor": "white",
            "gridwidth": 2,
            "linecolor": "white",
            "showbackground": true,
            "ticks": "",
            "zerolinecolor": "white"
           },
           "yaxis": {
            "backgroundcolor": "#E5ECF6",
            "gridcolor": "white",
            "gridwidth": 2,
            "linecolor": "white",
            "showbackground": true,
            "ticks": "",
            "zerolinecolor": "white"
           },
           "zaxis": {
            "backgroundcolor": "#E5ECF6",
            "gridcolor": "white",
            "gridwidth": 2,
            "linecolor": "white",
            "showbackground": true,
            "ticks": "",
            "zerolinecolor": "white"
           }
          },
          "shapedefaults": {
           "line": {
            "color": "#2a3f5f"
           }
          },
          "ternary": {
           "aaxis": {
            "gridcolor": "white",
            "linecolor": "white",
            "ticks": ""
           },
           "baxis": {
            "gridcolor": "white",
            "linecolor": "white",
            "ticks": ""
           },
           "bgcolor": "#E5ECF6",
           "caxis": {
            "gridcolor": "white",
            "linecolor": "white",
            "ticks": ""
           }
          },
          "title": {
           "x": 0.05
          },
          "xaxis": {
           "automargin": true,
           "gridcolor": "white",
           "linecolor": "white",
           "ticks": "",
           "title": {
            "standoff": 15
           },
           "zerolinecolor": "white",
           "zerolinewidth": 2
          },
          "yaxis": {
           "automargin": true,
           "gridcolor": "white",
           "linecolor": "white",
           "ticks": "",
           "title": {
            "standoff": 15
           },
           "zerolinecolor": "white",
           "zerolinewidth": 2
          }
         }
        },
        "width": 900,
        "xaxis": {
         "autorange": true,
         "color": "black",
         "gridcolor": "white",
         "range": [
          1850,
          1918
         ],
         "showgrid": false,
         "tickfont": {
          "size": 16
         },
         "title": {
          "font": {
           "size": 16
          }
         },
         "type": "linear"
        },
        "yaxis": {
         "autorange": true,
         "color": "black",
         "gridcolor": "lightgray",
         "range": [
          -0.017638329633038893,
          0.6545550320155142
         ],
         "tickfont": {
          "size": 16
         },
         "title": {
          "font": {
           "size": 16
          },
          "text": "Anteil"
         },
         "type": "linear",
         "zerolinecolor": "lightgray"
        }
       }
      },
      "text/html": [
       "<div>                            <div id=\"6a732627-7e29-4ec2-bb2b-079bc57e73b0\" class=\"plotly-graph-div\" style=\"height:500px; width:900px;\"></div>            <script type=\"text/javascript\">                require([\"plotly\"], function(Plotly) {                    window.PLOTLYENV=window.PLOTLYENV || {};                                    if (document.getElementById(\"6a732627-7e29-4ec2-bb2b-079bc57e73b0\")) {                    Plotly.newPlot(                        \"6a732627-7e29-4ec2-bb2b-079bc57e73b0\",                        [{\"line\":{\"color\":\"#636EFA\",\"width\":6},\"mode\":\"lines\",\"name\":\"neutral\",\"x\":[1850,1851,1852,1853,1854,1855,1856,1857,1858,1859,1860,1861,1862,1863,1864,1865,1866,1867,1868,1869,1870,1871,1872,1873,1874,1875,1876,1877,1878,1879,1880,1881,1882,1883,1884,1885,1886,1887,1888,1889,1890,1891,1892,1893,1894,1895,1896,1897,1898,1899,1900,1901,1902,1903,1904,1905,1906,1907,1908,1909,1910,1911,1912,1913,1914,1915,1916,1917,1918],\"y\":[null,null,null,null,null,0.14722219136593825,0.15758319827483325,0.16126527590892092,0.14904896974812676,0.1528907685093405,0.14180017607858067,0.13957763279351496,0.13688475972296973,0.14942828890943088,0.18870535147699116,0.16555539067089003,0.1758499748740332,0.175866832892239,0.18298625494460302,0.18973590908195562,0.19000428552652276,0.20828570042115938,0.2151112128048509,0.21946508607408277,0.1900440090242886,0.16918989425990608,0.2178713814448878,0.21872787960560094,0.21190580304660972,0.2055094131599155,0.20316170668406727,0.21253002131711204,0.1978710477595436,0.19649080373742447,0.1955718966956334,0.2203981569462863,0.21348947763071477,0.16803814203179154,0.15080052500510824,0.14195743734267155,0.1554872297695899,0.16706104741517716,0.13875446550329817,0.13890068152440366,0.1609575056665321,0.17787634897674512,0.16259395953014852,0.19867125399489594,0.21943452613596628,0.2515301618615998,0.23423005840790662,0.25081172714686584,0.23499738315020408,0.23841425254747534,0.22831751074993353,0.20446378045015798,0.2055001010007463,0.1856165396619662,0.17383887431562153,0.14378962128439374,0.14124127710143788,0.1384104172382988,0.11141035151136303,0.10770739802177245,null,null,null,null,null],\"type\":\"scatter\"},{\"line\":{\"color\":\"#EF553B\",\"width\":6},\"mode\":\"lines\",\"name\":\"positiv\",\"x\":[1850,1851,1852,1853,1854,1855,1856,1857,1858,1859,1860,1861,1862,1863,1864,1865,1866,1867,1868,1869,1870,1871,1872,1873,1874,1875,1876,1877,1878,1879,1880,1881,1882,1883,1884,1885,1886,1887,1888,1889,1890,1891,1892,1893,1894,1895,1896,1897,1898,1899,1900,1901,1902,1903,1904,1905,1906,1907,1908,1909,1910,1911,1912,1913,1914,1915,1916,1917,1918],\"y\":[null,null,null,null,null,0.6202063009920933,0.6194315598013069,0.6027784433185019,0.6069383316143712,0.601836600786719,0.5912356181007766,0.5899338125616163,0.5911911457265742,0.5603147631416103,0.524668645252376,0.5918008146263064,0.6009581619660923,0.6051942049646383,0.6194809128680182,0.6164471069274529,0.6209453639330866,0.6054698582514183,0.5832597519462419,0.5724896112586918,0.595808214470809,0.6067619947050814,0.515752721089314,0.4784891723537765,0.4798418614230246,0.4861078782872286,0.49359769234232687,0.4692074001708412,0.4822429576058816,0.4732993096196211,0.46591291055355466,0.38275472974177177,0.3682090474624827,0.4098624343539942,0.43184745564893984,0.43298804473489405,0.42293198273659094,0.3971041525188961,0.42303836368184405,0.42763989974441635,0.40674972239287616,0.38203082993267673,0.42005627640393983,0.42501283164432946,0.35274661942278945,0.3071231659350611,0.341009659202014,0.33988035854106835,0.36265951877684843,0.3778120923109828,0.38891592128966035,0.40557443073723254,0.4111635616973457,0.409242945039837,0.4155477458544981,0.47825976684646027,0.4877905974480464,0.4806048462484856,0.5017015194029752,0.5158742606845824,null,null,null,null,null],\"type\":\"scatter\"},{\"line\":{\"color\":\"#00CC96\",\"width\":6},\"mode\":\"lines\",\"name\":\"negativ\",\"x\":[1850,1851,1852,1853,1854,1855,1856,1857,1858,1859,1860,1861,1862,1863,1864,1865,1866,1867,1868,1869,1870,1871,1872,1873,1874,1875,1876,1877,1878,1879,1880,1881,1882,1883,1884,1885,1886,1887,1888,1889,1890,1891,1892,1893,1894,1895,1896,1897,1898,1899,1900,1901,1902,1903,1904,1905,1906,1907,1908,1909,1910,1911,1912,1913,1914,1915,1916,1917,1918],\"y\":[null,null,null,null,null,0.12526991278187302,0.12792540528216279,0.14894606795135729,0.15212604966192445,0.15730656238166893,0.17620614448026048,0.18466672129664652,0.17223515746436935,0.18002699315207218,0.17978983770218876,0.15567684609058252,0.14074068972735032,0.13684997877681213,0.11388943338661028,0.11047191953808917,0.10317633040936271,0.09621969186843767,0.11081883931807938,0.1173882480984606,0.12229908524528657,0.12603125380694014,0.15114182824606354,0.17494564879366845,0.17369563820793832,0.17489080454229944,0.1741207785850699,0.1895674534878187,0.1905324915297346,0.1947939649723413,0.2065978129319401,0.24205493248631024,0.2624864022039347,0.26517863306557976,0.27741039862746936,0.29542143763942635,0.3016046852667775,0.3220910098275009,0.3327366412509405,0.34323948350969113,0.3454307689020717,0.37878621339213775,0.38760348513495124,0.36034457591138586,0.41178578831023827,0.42038386844207487,0.3720218225214119,0.34250796582377957,0.3220595056910565,0.29157933796739055,0.2674232077627871,0.26255140822463147,0.24043693439772187,0.24267201795762947,0.24260445917443726,0.2230090131774978,0.21970321674954418,0.22714211721192104,0.228982704974347,0.2267090397676384,null,null,null,null,null],\"type\":\"scatter\"},{\"line\":{\"color\":\"#AB63FA\",\"width\":6},\"mode\":\"lines\",\"name\":\"ambivalent\",\"x\":[1850,1851,1852,1853,1854,1855,1856,1857,1858,1859,1860,1861,1862,1863,1864,1865,1866,1867,1868,1869,1870,1871,1872,1873,1874,1875,1876,1877,1878,1879,1880,1881,1882,1883,1884,1885,1886,1887,1888,1889,1890,1891,1892,1893,1894,1895,1896,1897,1898,1899,1900,1901,1902,1903,1904,1905,1906,1907,1908,1909,1910,1911,1912,1913,1914,1915,1916,1917,1918],\"y\":[null,null,null,null,null,0.1073015948600954,0.0950598366416968,0.08701021282121961,0.09188664897557763,0.08796606832227136,0.09075806134038222,0.08582183334822226,0.09968893708608709,0.11022995479688664,0.10683616556844412,0.08696694861222107,0.08245117343252431,0.08208898336631061,0.08364339880076845,0.08334506445250263,0.08587402013102784,0.09002474945898456,0.09081019593082772,0.0906570545687648,0.0918486912596159,0.09801685722807241,0.11523406921973454,0.12783729924695414,0.13455669732242725,0.13349190401055638,0.12911982238853603,0.12869512502422792,0.1293535031048403,0.13541592167061323,0.13191737981887178,0.15479218082563176,0.1558150727028678,0.15692079054863461,0.13994162071848254,0.1296330802830083,0.11997610222704178,0.11374379023842604,0.10547052956391714,0.09021993522148886,0.08686200303852007,0.06130660769844034,0.029746278930960393,0.015971338449388764,0.016033066131005937,0.02096280376126396,0.05273845986866743,0.06679994848828628,0.08028359238189113,0.09219431717415127,0.11534336019761891,0.12741038058797802,0.14289940290418623,0.1624684973405673,0.16800892065544293,0.1549415986916483,0.1512649087009716,0.1538426193012946,0.15790542411131492,0.14970930152600673,null,null,null,null,null],\"type\":\"scatter\"},{\"marker\":{\"color\":[\"#636EFA\",\"#EF553B\",\"#00CC96\",\"#AB63FA\",\"#FFA15A\",\"#19D3F3\"],\"size\":14,\"symbol\":\"circle\"},\"mode\":\"markers\",\"name\":\"Kanonisierte Moderne\",\"showlegend\":false,\"x\":[1903.0,1903.0,1903.0,1903.0],\"y\":[0.34146341463414637,0.0975609756097561,0.5121951219512195,0.04878048780487805],\"type\":\"scatter\"},{\"marker\":{\"color\":\"black\",\"size\":14,\"symbol\":\"circle\"},\"mode\":\"markers\",\"name\":\"Kanonisierte Moderne\",\"x\":[null],\"y\":[null],\"type\":\"scatter\"},{\"marker\":{\"color\":[\"#636EFA\",\"#EF553B\",\"#00CC96\",\"#AB63FA\",\"#FFA15A\",\"#19D3F3\"],\"size\":14,\"symbol\":\"square\"},\"mode\":\"markers\",\"name\":\"Münchhausen-Kreis\",\"showlegend\":false,\"x\":[1905.0,1905.0,1905.0,1905.0],\"y\":[0.2653061224489796,0.16326530612244897,0.4897959183673469,0.08163265306122448],\"type\":\"scatter\"},{\"marker\":{\"color\":\"black\",\"size\":14,\"symbol\":\"square\"},\"mode\":\"markers\",\"name\":\"Münchhausen-Kreis\",\"x\":[null],\"y\":[null],\"type\":\"scatter\"}],                        {\"template\":{\"data\":{\"histogram2dcontour\":[{\"type\":\"histogram2dcontour\",\"colorbar\":{\"outlinewidth\":0,\"ticks\":\"\"},\"colorscale\":[[0.0,\"#0d0887\"],[0.1111111111111111,\"#46039f\"],[0.2222222222222222,\"#7201a8\"],[0.3333333333333333,\"#9c179e\"],[0.4444444444444444,\"#bd3786\"],[0.5555555555555556,\"#d8576b\"],[0.6666666666666666,\"#ed7953\"],[0.7777777777777778,\"#fb9f3a\"],[0.8888888888888888,\"#fdca26\"],[1.0,\"#f0f921\"]]}],\"choropleth\":[{\"type\":\"choropleth\",\"colorbar\":{\"outlinewidth\":0,\"ticks\":\"\"}}],\"histogram2d\":[{\"type\":\"histogram2d\",\"colorbar\":{\"outlinewidth\":0,\"ticks\":\"\"},\"colorscale\":[[0.0,\"#0d0887\"],[0.1111111111111111,\"#46039f\"],[0.2222222222222222,\"#7201a8\"],[0.3333333333333333,\"#9c179e\"],[0.4444444444444444,\"#bd3786\"],[0.5555555555555556,\"#d8576b\"],[0.6666666666666666,\"#ed7953\"],[0.7777777777777778,\"#fb9f3a\"],[0.8888888888888888,\"#fdca26\"],[1.0,\"#f0f921\"]]}],\"heatmap\":[{\"type\":\"heatmap\",\"colorbar\":{\"outlinewidth\":0,\"ticks\":\"\"},\"colorscale\":[[0.0,\"#0d0887\"],[0.1111111111111111,\"#46039f\"],[0.2222222222222222,\"#7201a8\"],[0.3333333333333333,\"#9c179e\"],[0.4444444444444444,\"#bd3786\"],[0.5555555555555556,\"#d8576b\"],[0.6666666666666666,\"#ed7953\"],[0.7777777777777778,\"#fb9f3a\"],[0.8888888888888888,\"#fdca26\"],[1.0,\"#f0f921\"]]}],\"heatmapgl\":[{\"type\":\"heatmapgl\",\"colorbar\":{\"outlinewidth\":0,\"ticks\":\"\"},\"colorscale\":[[0.0,\"#0d0887\"],[0.1111111111111111,\"#46039f\"],[0.2222222222222222,\"#7201a8\"],[0.3333333333333333,\"#9c179e\"],[0.4444444444444444,\"#bd3786\"],[0.5555555555555556,\"#d8576b\"],[0.6666666666666666,\"#ed7953\"],[0.7777777777777778,\"#fb9f3a\"],[0.8888888888888888,\"#fdca26\"],[1.0,\"#f0f921\"]]}],\"contourcarpet\":[{\"type\":\"contourcarpet\",\"colorbar\":{\"outlinewidth\":0,\"ticks\":\"\"}}],\"contour\":[{\"type\":\"contour\",\"colorbar\":{\"outlinewidth\":0,\"ticks\":\"\"},\"colorscale\":[[0.0,\"#0d0887\"],[0.1111111111111111,\"#46039f\"],[0.2222222222222222,\"#7201a8\"],[0.3333333333333333,\"#9c179e\"],[0.4444444444444444,\"#bd3786\"],[0.5555555555555556,\"#d8576b\"],[0.6666666666666666,\"#ed7953\"],[0.7777777777777778,\"#fb9f3a\"],[0.8888888888888888,\"#fdca26\"],[1.0,\"#f0f921\"]]}],\"surface\":[{\"type\":\"surface\",\"colorbar\":{\"outlinewidth\":0,\"ticks\":\"\"},\"colorscale\":[[0.0,\"#0d0887\"],[0.1111111111111111,\"#46039f\"],[0.2222222222222222,\"#7201a8\"],[0.3333333333333333,\"#9c179e\"],[0.4444444444444444,\"#bd3786\"],[0.5555555555555556,\"#d8576b\"],[0.6666666666666666,\"#ed7953\"],[0.7777777777777778,\"#fb9f3a\"],[0.8888888888888888,\"#fdca26\"],[1.0,\"#f0f921\"]]}],\"mesh3d\":[{\"type\":\"mesh3d\",\"colorbar\":{\"outlinewidth\":0,\"ticks\":\"\"}}],\"scatter\":[{\"fillpattern\":{\"fillmode\":\"overlay\",\"size\":10,\"solidity\":0.2},\"type\":\"scatter\"}],\"parcoords\":[{\"type\":\"parcoords\",\"line\":{\"colorbar\":{\"outlinewidth\":0,\"ticks\":\"\"}}}],\"scatterpolargl\":[{\"type\":\"scatterpolargl\",\"marker\":{\"colorbar\":{\"outlinewidth\":0,\"ticks\":\"\"}}}],\"bar\":[{\"error_x\":{\"color\":\"#2a3f5f\"},\"error_y\":{\"color\":\"#2a3f5f\"},\"marker\":{\"line\":{\"color\":\"#E5ECF6\",\"width\":0.5},\"pattern\":{\"fillmode\":\"overlay\",\"size\":10,\"solidity\":0.2}},\"type\":\"bar\"}],\"scattergeo\":[{\"type\":\"scattergeo\",\"marker\":{\"colorbar\":{\"outlinewidth\":0,\"ticks\":\"\"}}}],\"scatterpolar\":[{\"type\":\"scatterpolar\",\"marker\":{\"colorbar\":{\"outlinewidth\":0,\"ticks\":\"\"}}}],\"histogram\":[{\"marker\":{\"pattern\":{\"fillmode\":\"overlay\",\"size\":10,\"solidity\":0.2}},\"type\":\"histogram\"}],\"scattergl\":[{\"type\":\"scattergl\",\"marker\":{\"colorbar\":{\"outlinewidth\":0,\"ticks\":\"\"}}}],\"scatter3d\":[{\"type\":\"scatter3d\",\"line\":{\"colorbar\":{\"outlinewidth\":0,\"ticks\":\"\"}},\"marker\":{\"colorbar\":{\"outlinewidth\":0,\"ticks\":\"\"}}}],\"scattermapbox\":[{\"type\":\"scattermapbox\",\"marker\":{\"colorbar\":{\"outlinewidth\":0,\"ticks\":\"\"}}}],\"scatterternary\":[{\"type\":\"scatterternary\",\"marker\":{\"colorbar\":{\"outlinewidth\":0,\"ticks\":\"\"}}}],\"scattercarpet\":[{\"type\":\"scattercarpet\",\"marker\":{\"colorbar\":{\"outlinewidth\":0,\"ticks\":\"\"}}}],\"carpet\":[{\"aaxis\":{\"endlinecolor\":\"#2a3f5f\",\"gridcolor\":\"white\",\"linecolor\":\"white\",\"minorgridcolor\":\"white\",\"startlinecolor\":\"#2a3f5f\"},\"baxis\":{\"endlinecolor\":\"#2a3f5f\",\"gridcolor\":\"white\",\"linecolor\":\"white\",\"minorgridcolor\":\"white\",\"startlinecolor\":\"#2a3f5f\"},\"type\":\"carpet\"}],\"table\":[{\"cells\":{\"fill\":{\"color\":\"#EBF0F8\"},\"line\":{\"color\":\"white\"}},\"header\":{\"fill\":{\"color\":\"#C8D4E3\"},\"line\":{\"color\":\"white\"}},\"type\":\"table\"}],\"barpolar\":[{\"marker\":{\"line\":{\"color\":\"#E5ECF6\",\"width\":0.5},\"pattern\":{\"fillmode\":\"overlay\",\"size\":10,\"solidity\":0.2}},\"type\":\"barpolar\"}],\"pie\":[{\"automargin\":true,\"type\":\"pie\"}]},\"layout\":{\"autotypenumbers\":\"strict\",\"colorway\":[\"#636efa\",\"#EF553B\",\"#00cc96\",\"#ab63fa\",\"#FFA15A\",\"#19d3f3\",\"#FF6692\",\"#B6E880\",\"#FF97FF\",\"#FECB52\"],\"font\":{\"color\":\"#2a3f5f\"},\"hovermode\":\"closest\",\"hoverlabel\":{\"align\":\"left\"},\"paper_bgcolor\":\"white\",\"plot_bgcolor\":\"#E5ECF6\",\"polar\":{\"bgcolor\":\"#E5ECF6\",\"angularaxis\":{\"gridcolor\":\"white\",\"linecolor\":\"white\",\"ticks\":\"\"},\"radialaxis\":{\"gridcolor\":\"white\",\"linecolor\":\"white\",\"ticks\":\"\"}},\"ternary\":{\"bgcolor\":\"#E5ECF6\",\"aaxis\":{\"gridcolor\":\"white\",\"linecolor\":\"white\",\"ticks\":\"\"},\"baxis\":{\"gridcolor\":\"white\",\"linecolor\":\"white\",\"ticks\":\"\"},\"caxis\":{\"gridcolor\":\"white\",\"linecolor\":\"white\",\"ticks\":\"\"}},\"coloraxis\":{\"colorbar\":{\"outlinewidth\":0,\"ticks\":\"\"}},\"colorscale\":{\"sequential\":[[0.0,\"#0d0887\"],[0.1111111111111111,\"#46039f\"],[0.2222222222222222,\"#7201a8\"],[0.3333333333333333,\"#9c179e\"],[0.4444444444444444,\"#bd3786\"],[0.5555555555555556,\"#d8576b\"],[0.6666666666666666,\"#ed7953\"],[0.7777777777777778,\"#fb9f3a\"],[0.8888888888888888,\"#fdca26\"],[1.0,\"#f0f921\"]],\"sequentialminus\":[[0.0,\"#0d0887\"],[0.1111111111111111,\"#46039f\"],[0.2222222222222222,\"#7201a8\"],[0.3333333333333333,\"#9c179e\"],[0.4444444444444444,\"#bd3786\"],[0.5555555555555556,\"#d8576b\"],[0.6666666666666666,\"#ed7953\"],[0.7777777777777778,\"#fb9f3a\"],[0.8888888888888888,\"#fdca26\"],[1.0,\"#f0f921\"]],\"diverging\":[[0,\"#8e0152\"],[0.1,\"#c51b7d\"],[0.2,\"#de77ae\"],[0.3,\"#f1b6da\"],[0.4,\"#fde0ef\"],[0.5,\"#f7f7f7\"],[0.6,\"#e6f5d0\"],[0.7,\"#b8e186\"],[0.8,\"#7fbc41\"],[0.9,\"#4d9221\"],[1,\"#276419\"]]},\"xaxis\":{\"gridcolor\":\"white\",\"linecolor\":\"white\",\"ticks\":\"\",\"title\":{\"standoff\":15},\"zerolinecolor\":\"white\",\"automargin\":true,\"zerolinewidth\":2},\"yaxis\":{\"gridcolor\":\"white\",\"linecolor\":\"white\",\"ticks\":\"\",\"title\":{\"standoff\":15},\"zerolinecolor\":\"white\",\"automargin\":true,\"zerolinewidth\":2},\"scene\":{\"xaxis\":{\"backgroundcolor\":\"#E5ECF6\",\"gridcolor\":\"white\",\"linecolor\":\"white\",\"showbackground\":true,\"ticks\":\"\",\"zerolinecolor\":\"white\",\"gridwidth\":2},\"yaxis\":{\"backgroundcolor\":\"#E5ECF6\",\"gridcolor\":\"white\",\"linecolor\":\"white\",\"showbackground\":true,\"ticks\":\"\",\"zerolinecolor\":\"white\",\"gridwidth\":2},\"zaxis\":{\"backgroundcolor\":\"#E5ECF6\",\"gridcolor\":\"white\",\"linecolor\":\"white\",\"showbackground\":true,\"ticks\":\"\",\"zerolinecolor\":\"white\",\"gridwidth\":2}},\"shapedefaults\":{\"line\":{\"color\":\"#2a3f5f\"}},\"annotationdefaults\":{\"arrowcolor\":\"#2a3f5f\",\"arrowhead\":0,\"arrowwidth\":1},\"geo\":{\"bgcolor\":\"white\",\"landcolor\":\"#E5ECF6\",\"subunitcolor\":\"white\",\"showland\":true,\"showlakes\":true,\"lakecolor\":\"white\"},\"title\":{\"x\":0.05},\"mapbox\":{\"style\":\"light\"}}},\"xaxis\":{\"tickfont\":{\"size\":16},\"title\":{\"font\":{\"size\":16}},\"color\":\"black\",\"gridcolor\":\"white\",\"showgrid\":false},\"yaxis\":{\"tickfont\":{\"size\":16},\"title\":{\"text\":\"Anteil\",\"font\":{\"size\":16}},\"color\":\"black\",\"gridcolor\":\"lightgray\",\"zerolinecolor\":\"lightgray\"},\"legend\":{\"font\":{\"size\":16},\"traceorder\":\"normal\",\"bordercolor\":\"black\",\"borderwidth\":1},\"width\":900,\"height\":500,\"font\":{\"color\":\"black\"},\"plot_bgcolor\":\"white\",\"paper_bgcolor\":\"white\"},                        {\"responsive\": true}                    ).then(function(){\n",
       "                            \n",
       "var gd = document.getElementById('6a732627-7e29-4ec2-bb2b-079bc57e73b0');\n",
       "var x = new MutationObserver(function (mutations, observer) {{\n",
       "        var display = window.getComputedStyle(gd).display;\n",
       "        if (!display || display === 'none') {{\n",
       "            console.log([gd, 'removed!']);\n",
       "            Plotly.purge(gd);\n",
       "            observer.disconnect();\n",
       "        }}\n",
       "}});\n",
       "\n",
       "// Listen for the removal of the full notebook cells\n",
       "var notebookContainer = gd.closest('#notebook-container');\n",
       "if (notebookContainer) {{\n",
       "    x.observe(notebookContainer, {childList: true});\n",
       "}}\n",
       "\n",
       "// Listen for the clearing of the current output cell\n",
       "var outputEl = gd.closest('.output');\n",
       "if (outputEl) {{\n",
       "    x.observe(outputEl, {childList: true});\n",
       "}}\n",
       "\n",
       "                        })                };                });            </script>        </div>"
      ]
     },
     "metadata": {},
     "output_type": "display_data"
    }
   ],
   "source": [
    "meta_plot = ts[[\n",
    "    'krieg_neutral_share_smoothed', \n",
    "    'krieg_positiv_share_smoothed', \n",
    "    'krieg_negativ_share_smoothed',\n",
    "    'krieg_ambivalent_share_smoothed'\n",
    "]]\n",
    "meta_plot.columns = [\n",
    "    'neutral', \n",
    "    'positiv', \n",
    "    'negativ',\n",
    "    'ambivalent'\n",
    "]\n",
    "# save_ts_data(meta_plot, prefix=\"06_04_MilitaerKrieg_Bewertungen_\")\n",
    "\n",
    "fig = create_ts_plot(\n",
    "    data = meta_plot, \n",
    "    columns = meta_plot.columns, \n",
    "    y_axis_title = 'Anteil',\n",
    "    add_corporas = sub_df, add_corpora_names = sub_names,\n",
    "    add_corpora_categories = ['Militär/Krieg_neutral_share', 'Militär/Krieg_positiv_share', 'Militär/Krieg_negativ_share', 'Militär/Krieg_ambivalent_share']\n",
    ")\n",
    "fig = update_fig_for_publication(fig)\n",
    "fig.write_image(f\"plots/6.4.4 Bewertungen des Stoffgebiets Militär_Krieg im Zeitverlauf.pdf\")\n",
    "fig.show()"
   ]
  },
  {
   "cell_type": "code",
   "execution_count": 47,
   "id": "b3af0f59",
   "metadata": {},
   "outputs": [
    {
     "data": {
      "text/plain": [
       "18"
      ]
     },
     "execution_count": 47,
     "metadata": {},
     "output_type": "execute_result"
    }
   ],
   "source": [
    "meta_anth_bin.query(\"1895 <= year <= 1899 and krieg\").shape[0]"
   ]
  },
  {
   "cell_type": "code",
   "execution_count": 48,
   "id": "165067ea",
   "metadata": {},
   "outputs": [
    {
     "name": "stdout",
     "output_type": "stream",
     "text": [
      "krieg_positiv  0.0  1.0\n",
      "decade                 \n",
      "1890.0          40   25\n",
      "1900.0          45   30\n",
      "\n",
      "\n",
      "chi2 p-value : 0.8525339996251278\n"
     ]
    }
   ],
   "source": [
    "cross = meta_anth_bin.query(\"1890 <= year <= 1909 and krieg\")\n",
    "cross = pd.crosstab(cross['decade'], cross['krieg_positiv'])\n",
    "print(cross)\n",
    "\n",
    "print(\"\\n\")\n",
    "print(f\"chi2 p-value : {chi2_contingency(cross, correction=False)[1]}\")"
   ]
  },
  {
   "cell_type": "markdown",
   "id": "8ea01242",
   "metadata": {},
   "source": [
    "#### Anstieg ab 1900: Autor:innen"
   ]
  },
  {
   "cell_type": "code",
   "execution_count": 49,
   "id": "d8d447d9",
   "metadata": {},
   "outputs": [
    {
     "data": {
      "text/html": [
       "<div>\n",
       "<style scoped>\n",
       "    .dataframe tbody tr th:only-of-type {\n",
       "        vertical-align: middle;\n",
       "    }\n",
       "\n",
       "    .dataframe tbody tr th {\n",
       "        vertical-align: top;\n",
       "    }\n",
       "\n",
       "    .dataframe thead th {\n",
       "        text-align: right;\n",
       "    }\n",
       "</style>\n",
       "<table border=\"1\" class=\"dataframe\">\n",
       "  <thead>\n",
       "    <tr style=\"text-align: right;\">\n",
       "      <th></th>\n",
       "      <th>texts</th>\n",
       "      <th>krieg</th>\n",
       "      <th>krieg_positiv_abs</th>\n",
       "      <th>krieg_positiv_rel</th>\n",
       "    </tr>\n",
       "    <tr>\n",
       "      <th>author</th>\n",
       "      <th></th>\n",
       "      <th></th>\n",
       "      <th></th>\n",
       "      <th></th>\n",
       "    </tr>\n",
       "  </thead>\n",
       "  <tbody>\n",
       "    <tr>\n",
       "      <th>Schrutz, Demetrius</th>\n",
       "      <td>10</td>\n",
       "      <td>7</td>\n",
       "      <td>5.0</td>\n",
       "      <td>0.714286</td>\n",
       "    </tr>\n",
       "    <tr>\n",
       "      <th>Lissauer, Ernst</th>\n",
       "      <td>15</td>\n",
       "      <td>10</td>\n",
       "      <td>7.0</td>\n",
       "      <td>0.700000</td>\n",
       "    </tr>\n",
       "    <tr>\n",
       "      <th>Geißler, Max</th>\n",
       "      <td>11</td>\n",
       "      <td>10</td>\n",
       "      <td>6.0</td>\n",
       "      <td>0.600000</td>\n",
       "    </tr>\n",
       "    <tr>\n",
       "      <th>Schüler, Gustav</th>\n",
       "      <td>7</td>\n",
       "      <td>7</td>\n",
       "      <td>2.0</td>\n",
       "      <td>0.285714</td>\n",
       "    </tr>\n",
       "    <tr>\n",
       "      <th>Miegel, Agnes</th>\n",
       "      <td>9</td>\n",
       "      <td>5</td>\n",
       "      <td>1.0</td>\n",
       "      <td>0.200000</td>\n",
       "    </tr>\n",
       "    <tr>\n",
       "      <th>Münchhausen, Börries von</th>\n",
       "      <td>12</td>\n",
       "      <td>10</td>\n",
       "      <td>1.0</td>\n",
       "      <td>0.100000</td>\n",
       "    </tr>\n",
       "    <tr>\n",
       "      <th>Strauß und Torney, Lulu von</th>\n",
       "      <td>7</td>\n",
       "      <td>5</td>\n",
       "      <td>0.0</td>\n",
       "      <td>0.000000</td>\n",
       "    </tr>\n",
       "  </tbody>\n",
       "</table>\n",
       "</div>"
      ],
      "text/plain": [
       "                             texts  krieg  krieg_positiv_abs  \\\n",
       "author                                                         \n",
       "Schrutz, Demetrius              10      7                5.0   \n",
       "Lissauer, Ernst                 15     10                7.0   \n",
       "Geißler, Max                    11     10                6.0   \n",
       "Schüler, Gustav                  7      7                2.0   \n",
       "Miegel, Agnes                    9      5                1.0   \n",
       "Münchhausen, Börries von        12     10                1.0   \n",
       "Strauß und Torney, Lulu von      7      5                0.0   \n",
       "\n",
       "                             krieg_positiv_rel  \n",
       "author                                          \n",
       "Schrutz, Demetrius                    0.714286  \n",
       "Lissauer, Ernst                       0.700000  \n",
       "Geißler, Max                          0.600000  \n",
       "Schüler, Gustav                       0.285714  \n",
       "Miegel, Agnes                         0.200000  \n",
       "Münchhausen, Börries von              0.100000  \n",
       "Strauß und Torney, Lulu von           0.000000  "
      ]
     },
     "execution_count": 49,
     "metadata": {},
     "output_type": "execute_result"
    }
   ],
   "source": [
    "# Autor:innen\n",
    "meta_time = meta_anth_bin.query(\"year>=1900\")\n",
    "results = pd.DataFrame({\n",
    "    'texts' : meta_time.groupby('author').size(),\n",
    "    'krieg' : meta_time.groupby('author')['krieg'].sum(),\n",
    "    'krieg_positiv_abs' : meta_time.groupby('author')['krieg_positiv'].sum(),\n",
    "})\n",
    "results['krieg_positiv_rel'] = results['krieg_positiv_abs']/results['krieg']\n",
    "\n",
    "results.query(\"krieg >= 5\").sort_values(by='krieg_positiv_rel', ascending=False)"
   ]
  },
  {
   "cell_type": "code",
   "execution_count": 50,
   "id": "431c3d15",
   "metadata": {},
   "outputs": [
    {
     "data": {
      "text/html": [
       "<div>\n",
       "<style scoped>\n",
       "    .dataframe tbody tr th:only-of-type {\n",
       "        vertical-align: middle;\n",
       "    }\n",
       "\n",
       "    .dataframe tbody tr th {\n",
       "        vertical-align: top;\n",
       "    }\n",
       "\n",
       "    .dataframe thead th {\n",
       "        text-align: right;\n",
       "    }\n",
       "</style>\n",
       "<table border=\"1\" class=\"dataframe\">\n",
       "  <thead>\n",
       "    <tr style=\"text-align: right;\">\n",
       "      <th></th>\n",
       "      <th>author</th>\n",
       "      <th>title</th>\n",
       "      <th>year</th>\n",
       "      <th>beginn</th>\n",
       "      <th>ende</th>\n",
       "      <th>entity_full</th>\n",
       "    </tr>\n",
       "  </thead>\n",
       "  <tbody>\n",
       "    <tr>\n",
       "      <th>1548</th>\n",
       "      <td>Lissauer, Ernst</td>\n",
       "      <td>Silhouetten. Fichte</td>\n",
       "      <td>1913.0</td>\n",
       "      <td>1807.0</td>\n",
       "      <td>1808.0</td>\n",
       "      <td>1 [Johann Gottlieb Fichte]</td>\n",
       "    </tr>\n",
       "    <tr>\n",
       "      <th>1553</th>\n",
       "      <td>Lissauer, Ernst</td>\n",
       "      <td>Silhouetten. Scharnhorst</td>\n",
       "      <td>1913.0</td>\n",
       "      <td>1807.0</td>\n",
       "      <td>1815.0</td>\n",
       "      <td>1 [Gerhard von Scharnhorst]</td>\n",
       "    </tr>\n",
       "    <tr>\n",
       "      <th>1555</th>\n",
       "      <td>Lissauer, Ernst</td>\n",
       "      <td>Silhouetten. Blücher und Gneisenau</td>\n",
       "      <td>1913.0</td>\n",
       "      <td>1813.0</td>\n",
       "      <td>1815.0</td>\n",
       "      <td>1 [Gebhard Leberecht von Blücher] + 1 [August ...</td>\n",
       "    </tr>\n",
       "    <tr>\n",
       "      <th>1556</th>\n",
       "      <td>Lissauer, Ernst</td>\n",
       "      <td>Die Opfergaben</td>\n",
       "      <td>1913.0</td>\n",
       "      <td>1813.0</td>\n",
       "      <td>1813.0</td>\n",
       "      <td>3 [Deutsche]</td>\n",
       "    </tr>\n",
       "    <tr>\n",
       "      <th>1620</th>\n",
       "      <td>Lissauer, Ernst</td>\n",
       "      <td>Die Weihnacht von 1812</td>\n",
       "      <td>1914.0</td>\n",
       "      <td>1812.0</td>\n",
       "      <td>1812.0</td>\n",
       "      <td>2 [Sprechinstanz/Vater] + 3 [Soldaten]</td>\n",
       "    </tr>\n",
       "    <tr>\n",
       "      <th>1622</th>\n",
       "      <td>Lissauer, Ernst</td>\n",
       "      <td>Die Freiwilligen</td>\n",
       "      <td>1913.0</td>\n",
       "      <td>1813.0</td>\n",
       "      <td>1813.0</td>\n",
       "      <td>1 [Gerhard von Scharnhorst] + 1 [Friedrich Wil...</td>\n",
       "    </tr>\n",
       "    <tr>\n",
       "      <th>1624</th>\n",
       "      <td>Lissauer, Ernst</td>\n",
       "      <td>Führer</td>\n",
       "      <td>1914.0</td>\n",
       "      <td>1914.0</td>\n",
       "      <td>1914.0</td>\n",
       "      <td>3 [Geister]</td>\n",
       "    </tr>\n",
       "  </tbody>\n",
       "</table>\n",
       "</div>"
      ],
      "text/plain": [
       "               author                               title    year  beginn  \\\n",
       "1548  Lissauer, Ernst                 Silhouetten. Fichte  1913.0  1807.0   \n",
       "1553  Lissauer, Ernst            Silhouetten. Scharnhorst  1913.0  1807.0   \n",
       "1555  Lissauer, Ernst  Silhouetten. Blücher und Gneisenau  1913.0  1813.0   \n",
       "1556  Lissauer, Ernst                      Die Opfergaben  1913.0  1813.0   \n",
       "1620  Lissauer, Ernst              Die Weihnacht von 1812  1914.0  1812.0   \n",
       "1622  Lissauer, Ernst                    Die Freiwilligen  1913.0  1813.0   \n",
       "1624  Lissauer, Ernst                              Führer  1914.0  1914.0   \n",
       "\n",
       "        ende                                        entity_full  \n",
       "1548  1808.0                         1 [Johann Gottlieb Fichte]  \n",
       "1553  1815.0                        1 [Gerhard von Scharnhorst]  \n",
       "1555  1815.0  1 [Gebhard Leberecht von Blücher] + 1 [August ...  \n",
       "1556  1813.0                                       3 [Deutsche]  \n",
       "1620  1812.0             2 [Sprechinstanz/Vater] + 3 [Soldaten]  \n",
       "1622  1813.0  1 [Gerhard von Scharnhorst] + 1 [Friedrich Wil...  \n",
       "1624  1914.0                                        3 [Geister]  "
      ]
     },
     "execution_count": 50,
     "metadata": {},
     "output_type": "execute_result"
    }
   ],
   "source": [
    "meta_anth_bin.query(\"year >= 1900 and krieg_positiv and author == 'Lissauer, Ernst'\")[[\n",
    "    'author', 'title', 'year', 'beginn', 'ende', 'entity_full'\n",
    "]]"
   ]
  },
  {
   "cell_type": "code",
   "execution_count": 51,
   "id": "9bd6bac8",
   "metadata": {},
   "outputs": [
    {
     "data": {
      "text/html": [
       "<div>\n",
       "<style scoped>\n",
       "    .dataframe tbody tr th:only-of-type {\n",
       "        vertical-align: middle;\n",
       "    }\n",
       "\n",
       "    .dataframe tbody tr th {\n",
       "        vertical-align: top;\n",
       "    }\n",
       "\n",
       "    .dataframe thead th {\n",
       "        text-align: right;\n",
       "    }\n",
       "</style>\n",
       "<table border=\"1\" class=\"dataframe\">\n",
       "  <thead>\n",
       "    <tr style=\"text-align: right;\">\n",
       "      <th></th>\n",
       "      <th>author</th>\n",
       "      <th>title</th>\n",
       "      <th>year</th>\n",
       "      <th>beginn</th>\n",
       "      <th>ende</th>\n",
       "      <th>entity_full</th>\n",
       "    </tr>\n",
       "  </thead>\n",
       "  <tbody>\n",
       "    <tr>\n",
       "      <th>1330</th>\n",
       "      <td>Geißler, Max</td>\n",
       "      <td>Königsdank</td>\n",
       "      <td>1908.0</td>\n",
       "      <td>1757.0</td>\n",
       "      <td>1757.0</td>\n",
       "      <td>1 [Friedrich der Große] + 2 [Preuße/Soldat]</td>\n",
       "    </tr>\n",
       "    <tr>\n",
       "      <th>1346</th>\n",
       "      <td>Geißler, Max</td>\n",
       "      <td>Drei gute Kameraden</td>\n",
       "      <td>1909.0</td>\n",
       "      <td>1870.0</td>\n",
       "      <td>1871.0</td>\n",
       "      <td>3 [Deutsche/Soldaten] + 2 [Franzose/Bauer]</td>\n",
       "    </tr>\n",
       "    <tr>\n",
       "      <th>1352</th>\n",
       "      <td>Geißler, Max</td>\n",
       "      <td>Moltke</td>\n",
       "      <td>1909.0</td>\n",
       "      <td>1870.0</td>\n",
       "      <td>1870.0</td>\n",
       "      <td>1 [Helmuth von Moltke]</td>\n",
       "    </tr>\n",
       "    <tr>\n",
       "      <th>1445</th>\n",
       "      <td>Geißler, Max</td>\n",
       "      <td>Der Schmied von Solingen</td>\n",
       "      <td>1909.0</td>\n",
       "      <td>1757.0</td>\n",
       "      <td>1757.0</td>\n",
       "      <td>2 [Schmied]</td>\n",
       "    </tr>\n",
       "    <tr>\n",
       "      <th>1472</th>\n",
       "      <td>Geißler, Max</td>\n",
       "      <td>Die Kaiserschmiede von Sedan</td>\n",
       "      <td>1909.0</td>\n",
       "      <td>1870.0</td>\n",
       "      <td>1871.0</td>\n",
       "      <td>3 [Deutsche/Soldaten]</td>\n",
       "    </tr>\n",
       "    <tr>\n",
       "      <th>1482</th>\n",
       "      <td>Geißler, Max</td>\n",
       "      <td>Die stille Wacht</td>\n",
       "      <td>1909.0</td>\n",
       "      <td>1900.0</td>\n",
       "      <td>1900.0</td>\n",
       "      <td>3 [Deutsche/Soldaten]</td>\n",
       "    </tr>\n",
       "  </tbody>\n",
       "</table>\n",
       "</div>"
      ],
      "text/plain": [
       "            author                         title    year  beginn    ende  \\\n",
       "1330  Geißler, Max                    Königsdank  1908.0  1757.0  1757.0   \n",
       "1346  Geißler, Max           Drei gute Kameraden  1909.0  1870.0  1871.0   \n",
       "1352  Geißler, Max                        Moltke  1909.0  1870.0  1870.0   \n",
       "1445  Geißler, Max      Der Schmied von Solingen  1909.0  1757.0  1757.0   \n",
       "1472  Geißler, Max  Die Kaiserschmiede von Sedan  1909.0  1870.0  1871.0   \n",
       "1482  Geißler, Max              Die stille Wacht  1909.0  1900.0  1900.0   \n",
       "\n",
       "                                      entity_full  \n",
       "1330  1 [Friedrich der Große] + 2 [Preuße/Soldat]  \n",
       "1346   3 [Deutsche/Soldaten] + 2 [Franzose/Bauer]  \n",
       "1352                       1 [Helmuth von Moltke]  \n",
       "1445                                  2 [Schmied]  \n",
       "1472                        3 [Deutsche/Soldaten]  \n",
       "1482                        3 [Deutsche/Soldaten]  "
      ]
     },
     "execution_count": 51,
     "metadata": {},
     "output_type": "execute_result"
    }
   ],
   "source": [
    "meta_anth_bin.query(\"year >= 1900 and krieg_positiv and author == 'Geißler, Max'\")[[\n",
    "    'author', 'title', 'year', 'beginn', 'ende', 'entity_full'\n",
    "]]"
   ]
  },
  {
   "cell_type": "markdown",
   "id": "7c01c07b-fec2-4562-82fb-33c0f5547d4a",
   "metadata": {},
   "source": [
    "#### Anstieg ab 1900: Erster Weltkrieg"
   ]
  },
  {
   "cell_type": "code",
   "execution_count": 52,
   "id": "30c74c0e",
   "metadata": {},
   "outputs": [
    {
     "data": {
      "text/html": [
       "<div>\n",
       "<style scoped>\n",
       "    .dataframe tbody tr th:only-of-type {\n",
       "        vertical-align: middle;\n",
       "    }\n",
       "\n",
       "    .dataframe tbody tr th {\n",
       "        vertical-align: top;\n",
       "    }\n",
       "\n",
       "    .dataframe thead th {\n",
       "        text-align: right;\n",
       "    }\n",
       "</style>\n",
       "<table border=\"1\" class=\"dataframe\">\n",
       "  <thead>\n",
       "    <tr style=\"text-align: right;\">\n",
       "      <th>krieg_positiv</th>\n",
       "      <th>0.0</th>\n",
       "      <th>1.0</th>\n",
       "      <th>All</th>\n",
       "      <th>1_rel</th>\n",
       "    </tr>\n",
       "    <tr>\n",
       "      <th>gegenwartsdominant</th>\n",
       "      <th></th>\n",
       "      <th></th>\n",
       "      <th></th>\n",
       "      <th></th>\n",
       "    </tr>\n",
       "  </thead>\n",
       "  <tbody>\n",
       "    <tr>\n",
       "      <th>0</th>\n",
       "      <td>5</td>\n",
       "      <td>8</td>\n",
       "      <td>13</td>\n",
       "      <td>0.615385</td>\n",
       "    </tr>\n",
       "    <tr>\n",
       "      <th>1</th>\n",
       "      <td>4</td>\n",
       "      <td>12</td>\n",
       "      <td>16</td>\n",
       "      <td>0.750000</td>\n",
       "    </tr>\n",
       "    <tr>\n",
       "      <th>All</th>\n",
       "      <td>9</td>\n",
       "      <td>20</td>\n",
       "      <td>29</td>\n",
       "      <td>0.689655</td>\n",
       "    </tr>\n",
       "  </tbody>\n",
       "</table>\n",
       "</div>"
      ],
      "text/plain": [
       "krieg_positiv       0.0  1.0  All     1_rel\n",
       "gegenwartsdominant                         \n",
       "0                     5    8   13  0.615385\n",
       "1                     4   12   16  0.750000\n",
       "All                   9   20   29  0.689655"
      ]
     },
     "execution_count": 52,
     "metadata": {},
     "output_type": "execute_result"
    }
   ],
   "source": [
    "results = meta_anth_bin.query(\"1914<=year<=1918 and krieg\")\n",
    "results = pd.crosstab(results['gegenwartsdominant'], results['krieg_positiv'], margins=True)\n",
    "results['1_rel'] = results[1]/results['All']\n",
    "results"
   ]
  },
  {
   "cell_type": "code",
   "execution_count": 53,
   "id": "4e0fbe22-5569-4486-8437-ffc5755f29cb",
   "metadata": {},
   "outputs": [
    {
     "data": {
      "text/html": [
       "<div>\n",
       "<style scoped>\n",
       "    .dataframe tbody tr th:only-of-type {\n",
       "        vertical-align: middle;\n",
       "    }\n",
       "\n",
       "    .dataframe tbody tr th {\n",
       "        vertical-align: top;\n",
       "    }\n",
       "\n",
       "    .dataframe thead th {\n",
       "        text-align: right;\n",
       "    }\n",
       "</style>\n",
       "<table border=\"1\" class=\"dataframe\">\n",
       "  <thead>\n",
       "    <tr style=\"text-align: right;\">\n",
       "      <th>krieg_positiv</th>\n",
       "      <th>0.0</th>\n",
       "      <th>1.0</th>\n",
       "      <th>All</th>\n",
       "      <th>1_rel</th>\n",
       "    </tr>\n",
       "    <tr>\n",
       "      <th>gegenwartsdominant</th>\n",
       "      <th></th>\n",
       "      <th></th>\n",
       "      <th></th>\n",
       "      <th></th>\n",
       "    </tr>\n",
       "  </thead>\n",
       "  <tbody>\n",
       "    <tr>\n",
       "      <th>0</th>\n",
       "      <td>9</td>\n",
       "      <td>14</td>\n",
       "      <td>23</td>\n",
       "      <td>0.608696</td>\n",
       "    </tr>\n",
       "    <tr>\n",
       "      <th>1</th>\n",
       "      <td>3</td>\n",
       "      <td>41</td>\n",
       "      <td>44</td>\n",
       "      <td>0.931818</td>\n",
       "    </tr>\n",
       "    <tr>\n",
       "      <th>All</th>\n",
       "      <td>12</td>\n",
       "      <td>55</td>\n",
       "      <td>67</td>\n",
       "      <td>0.820896</td>\n",
       "    </tr>\n",
       "  </tbody>\n",
       "</table>\n",
       "</div>"
      ],
      "text/plain": [
       "krieg_positiv       0.0  1.0  All     1_rel\n",
       "gegenwartsdominant                         \n",
       "0                     9   14   23  0.608696\n",
       "1                     3   41   44  0.931818\n",
       "All                  12   55   67  0.820896"
      ]
     },
     "execution_count": 53,
     "metadata": {},
     "output_type": "execute_result"
    }
   ],
   "source": [
    "results = meta_anth_bin.query(\"1870<=year<=1871 and krieg\")\n",
    "results = pd.crosstab(results['gegenwartsdominant'], results['krieg_positiv'], margins=True)\n",
    "results['1_rel'] = results[1]/results['All']\n",
    "results"
   ]
  },
  {
   "cell_type": "markdown",
   "id": "cc13e22f",
   "metadata": {},
   "source": [
    "# Kulturgeschichte"
   ]
  },
  {
   "cell_type": "code",
   "execution_count": 54,
   "id": "64f5b068",
   "metadata": {},
   "outputs": [
    {
     "data": {
      "text/html": [
       "<div>\n",
       "<style scoped>\n",
       "    .dataframe tbody tr th:only-of-type {\n",
       "        vertical-align: middle;\n",
       "    }\n",
       "\n",
       "    .dataframe tbody tr th {\n",
       "        vertical-align: top;\n",
       "    }\n",
       "\n",
       "    .dataframe thead th {\n",
       "        text-align: right;\n",
       "    }\n",
       "</style>\n",
       "<table border=\"1\" class=\"dataframe\">\n",
       "  <thead>\n",
       "    <tr style=\"text-align: right;\">\n",
       "      <th></th>\n",
       "      <th>Texte</th>\n",
       "      <th>stoffgebiet_count</th>\n",
       "      <th>kultur_count</th>\n",
       "      <th>kultur_share_texts</th>\n",
       "      <th>kultur_share_stoffgebiete</th>\n",
       "    </tr>\n",
       "  </thead>\n",
       "  <tbody>\n",
       "    <tr>\n",
       "      <th>Anthologien</th>\n",
       "      <td>1850.0</td>\n",
       "      <td>2540.0</td>\n",
       "      <td>275.0</td>\n",
       "      <td>0.148649</td>\n",
       "      <td>0.109040</td>\n",
       "    </tr>\n",
       "    <tr>\n",
       "      <th>Kanonisierte Moderne</th>\n",
       "      <td>113.0</td>\n",
       "      <td>133.0</td>\n",
       "      <td>16.0</td>\n",
       "      <td>0.141593</td>\n",
       "      <td>0.120301</td>\n",
       "    </tr>\n",
       "    <tr>\n",
       "      <th>Münchhausen-Kreis</th>\n",
       "      <td>140.0</td>\n",
       "      <td>193.0</td>\n",
       "      <td>29.0</td>\n",
       "      <td>0.207143</td>\n",
       "      <td>0.151832</td>\n",
       "    </tr>\n",
       "  </tbody>\n",
       "</table>\n",
       "</div>"
      ],
      "text/plain": [
       "                       Texte  stoffgebiet_count  kultur_count  \\\n",
       "Anthologien           1850.0             2540.0         275.0   \n",
       "Kanonisierte Moderne   113.0              133.0          16.0   \n",
       "Münchhausen-Kreis      140.0              193.0          29.0   \n",
       "\n",
       "                      kultur_share_texts  kultur_share_stoffgebiete  \n",
       "Anthologien                     0.148649                   0.109040  \n",
       "Kanonisierte Moderne            0.141593                   0.120301  \n",
       "Münchhausen-Kreis               0.207143                   0.151832  "
      ]
     },
     "execution_count": 54,
     "metadata": {},
     "output_type": "execute_result"
    }
   ],
   "source": [
    "sub_df[[\n",
    "    'Texte', 'stoffgebiet_count', 'kultur_count', 'kultur_share_texts', 'kultur_share_stoffgebiete'\n",
    "]]"
   ]
  },
  {
   "cell_type": "code",
   "execution_count": 55,
   "id": "0e9534e1",
   "metadata": {},
   "outputs": [
    {
     "data": {
      "application/vnd.plotly.v1+json": {
       "config": {
        "plotlyServerURL": "https://plot.ly"
       },
       "data": [
        {
         "line": {
          "color": "#636EFA",
          "width": 6
         },
         "mode": "lines",
         "name": "Kultur",
         "type": "scatter",
         "x": [
          1850,
          1851,
          1852,
          1853,
          1854,
          1855,
          1856,
          1857,
          1858,
          1859,
          1860,
          1861,
          1862,
          1863,
          1864,
          1865,
          1866,
          1867,
          1868,
          1869,
          1870,
          1871,
          1872,
          1873,
          1874,
          1875,
          1876,
          1877,
          1878,
          1879,
          1880,
          1881,
          1882,
          1883,
          1884,
          1885,
          1886,
          1887,
          1888,
          1889,
          1890,
          1891,
          1892,
          1893,
          1894,
          1895,
          1896,
          1897,
          1898,
          1899,
          1900,
          1901,
          1902,
          1903,
          1904,
          1905,
          1906,
          1907,
          1908,
          1909,
          1910,
          1911,
          1912,
          1913,
          1914,
          1915,
          1916,
          1917,
          1918
         ],
         "y": [
          null,
          null,
          null,
          null,
          null,
          0.12051777938028037,
          0.11872223906045627,
          0.11744080145104453,
          0.11409929515824413,
          0.11366068516782551,
          0.11563808242327349,
          0.11455062177835389,
          0.1299843765298803,
          0.12939366777715483,
          0.13182458103079023,
          0.12443574324887023,
          0.12135976603837473,
          0.1203906815042157,
          0.11566939179580944,
          0.11182366198827462,
          0.10898702398443656,
          0.10347376041359409,
          0.08946739273146158,
          0.0830811811080811,
          0.08726318621233266,
          0.08934172454245756,
          0.09656105719173602,
          0.10001534623894802,
          0.10702339341110033,
          0.10787660697098482,
          0.1058591462381371,
          0.10745163181658503,
          0.10888135591981002,
          0.11679819912121948,
          0.1031064120475985,
          0.1055854231671112,
          0.09794934328515406,
          0.09275715625768823,
          0.09363844013355219,
          0.09036713936441948,
          0.09451340354908558,
          0.10209361683615309,
          0.10034109801346228,
          0.1033401050302122,
          0.1035451121512025,
          0.12089476277604684,
          0.11913791536749614,
          0.12189107040197965,
          0.11903955321995587,
          0.12178438168135532,
          0.11667361432297157,
          0.10366191188770148,
          0.09959271337719539,
          0.0972928541955152,
          0.09576467278038771,
          0.10000148516840425,
          0.0939137749316631,
          0.0889393225698892,
          0.09172161048123546,
          0.09828563505065809,
          0.0942277938162643,
          0.09272509675229158,
          0.0977083150348416,
          0.09602563201188909,
          null,
          null,
          null,
          null,
          null
         ]
        }
       ],
       "layout": {
        "height": 500,
        "legend": {
         "font": {
          "size": 16
         },
         "traceorder": "normal"
        },
        "template": {
         "data": {
          "bar": [
           {
            "error_x": {
             "color": "#2a3f5f"
            },
            "error_y": {
             "color": "#2a3f5f"
            },
            "marker": {
             "line": {
              "color": "#E5ECF6",
              "width": 0.5
             },
             "pattern": {
              "fillmode": "overlay",
              "size": 10,
              "solidity": 0.2
             }
            },
            "type": "bar"
           }
          ],
          "barpolar": [
           {
            "marker": {
             "line": {
              "color": "#E5ECF6",
              "width": 0.5
             },
             "pattern": {
              "fillmode": "overlay",
              "size": 10,
              "solidity": 0.2
             }
            },
            "type": "barpolar"
           }
          ],
          "carpet": [
           {
            "aaxis": {
             "endlinecolor": "#2a3f5f",
             "gridcolor": "white",
             "linecolor": "white",
             "minorgridcolor": "white",
             "startlinecolor": "#2a3f5f"
            },
            "baxis": {
             "endlinecolor": "#2a3f5f",
             "gridcolor": "white",
             "linecolor": "white",
             "minorgridcolor": "white",
             "startlinecolor": "#2a3f5f"
            },
            "type": "carpet"
           }
          ],
          "choropleth": [
           {
            "colorbar": {
             "outlinewidth": 0,
             "ticks": ""
            },
            "type": "choropleth"
           }
          ],
          "contour": [
           {
            "colorbar": {
             "outlinewidth": 0,
             "ticks": ""
            },
            "colorscale": [
             [
              0,
              "#0d0887"
             ],
             [
              0.1111111111111111,
              "#46039f"
             ],
             [
              0.2222222222222222,
              "#7201a8"
             ],
             [
              0.3333333333333333,
              "#9c179e"
             ],
             [
              0.4444444444444444,
              "#bd3786"
             ],
             [
              0.5555555555555556,
              "#d8576b"
             ],
             [
              0.6666666666666666,
              "#ed7953"
             ],
             [
              0.7777777777777778,
              "#fb9f3a"
             ],
             [
              0.8888888888888888,
              "#fdca26"
             ],
             [
              1,
              "#f0f921"
             ]
            ],
            "type": "contour"
           }
          ],
          "contourcarpet": [
           {
            "colorbar": {
             "outlinewidth": 0,
             "ticks": ""
            },
            "type": "contourcarpet"
           }
          ],
          "heatmap": [
           {
            "colorbar": {
             "outlinewidth": 0,
             "ticks": ""
            },
            "colorscale": [
             [
              0,
              "#0d0887"
             ],
             [
              0.1111111111111111,
              "#46039f"
             ],
             [
              0.2222222222222222,
              "#7201a8"
             ],
             [
              0.3333333333333333,
              "#9c179e"
             ],
             [
              0.4444444444444444,
              "#bd3786"
             ],
             [
              0.5555555555555556,
              "#d8576b"
             ],
             [
              0.6666666666666666,
              "#ed7953"
             ],
             [
              0.7777777777777778,
              "#fb9f3a"
             ],
             [
              0.8888888888888888,
              "#fdca26"
             ],
             [
              1,
              "#f0f921"
             ]
            ],
            "type": "heatmap"
           }
          ],
          "heatmapgl": [
           {
            "colorbar": {
             "outlinewidth": 0,
             "ticks": ""
            },
            "colorscale": [
             [
              0,
              "#0d0887"
             ],
             [
              0.1111111111111111,
              "#46039f"
             ],
             [
              0.2222222222222222,
              "#7201a8"
             ],
             [
              0.3333333333333333,
              "#9c179e"
             ],
             [
              0.4444444444444444,
              "#bd3786"
             ],
             [
              0.5555555555555556,
              "#d8576b"
             ],
             [
              0.6666666666666666,
              "#ed7953"
             ],
             [
              0.7777777777777778,
              "#fb9f3a"
             ],
             [
              0.8888888888888888,
              "#fdca26"
             ],
             [
              1,
              "#f0f921"
             ]
            ],
            "type": "heatmapgl"
           }
          ],
          "histogram": [
           {
            "marker": {
             "pattern": {
              "fillmode": "overlay",
              "size": 10,
              "solidity": 0.2
             }
            },
            "type": "histogram"
           }
          ],
          "histogram2d": [
           {
            "colorbar": {
             "outlinewidth": 0,
             "ticks": ""
            },
            "colorscale": [
             [
              0,
              "#0d0887"
             ],
             [
              0.1111111111111111,
              "#46039f"
             ],
             [
              0.2222222222222222,
              "#7201a8"
             ],
             [
              0.3333333333333333,
              "#9c179e"
             ],
             [
              0.4444444444444444,
              "#bd3786"
             ],
             [
              0.5555555555555556,
              "#d8576b"
             ],
             [
              0.6666666666666666,
              "#ed7953"
             ],
             [
              0.7777777777777778,
              "#fb9f3a"
             ],
             [
              0.8888888888888888,
              "#fdca26"
             ],
             [
              1,
              "#f0f921"
             ]
            ],
            "type": "histogram2d"
           }
          ],
          "histogram2dcontour": [
           {
            "colorbar": {
             "outlinewidth": 0,
             "ticks": ""
            },
            "colorscale": [
             [
              0,
              "#0d0887"
             ],
             [
              0.1111111111111111,
              "#46039f"
             ],
             [
              0.2222222222222222,
              "#7201a8"
             ],
             [
              0.3333333333333333,
              "#9c179e"
             ],
             [
              0.4444444444444444,
              "#bd3786"
             ],
             [
              0.5555555555555556,
              "#d8576b"
             ],
             [
              0.6666666666666666,
              "#ed7953"
             ],
             [
              0.7777777777777778,
              "#fb9f3a"
             ],
             [
              0.8888888888888888,
              "#fdca26"
             ],
             [
              1,
              "#f0f921"
             ]
            ],
            "type": "histogram2dcontour"
           }
          ],
          "mesh3d": [
           {
            "colorbar": {
             "outlinewidth": 0,
             "ticks": ""
            },
            "type": "mesh3d"
           }
          ],
          "parcoords": [
           {
            "line": {
             "colorbar": {
              "outlinewidth": 0,
              "ticks": ""
             }
            },
            "type": "parcoords"
           }
          ],
          "pie": [
           {
            "automargin": true,
            "type": "pie"
           }
          ],
          "scatter": [
           {
            "fillpattern": {
             "fillmode": "overlay",
             "size": 10,
             "solidity": 0.2
            },
            "type": "scatter"
           }
          ],
          "scatter3d": [
           {
            "line": {
             "colorbar": {
              "outlinewidth": 0,
              "ticks": ""
             }
            },
            "marker": {
             "colorbar": {
              "outlinewidth": 0,
              "ticks": ""
             }
            },
            "type": "scatter3d"
           }
          ],
          "scattercarpet": [
           {
            "marker": {
             "colorbar": {
              "outlinewidth": 0,
              "ticks": ""
             }
            },
            "type": "scattercarpet"
           }
          ],
          "scattergeo": [
           {
            "marker": {
             "colorbar": {
              "outlinewidth": 0,
              "ticks": ""
             }
            },
            "type": "scattergeo"
           }
          ],
          "scattergl": [
           {
            "marker": {
             "colorbar": {
              "outlinewidth": 0,
              "ticks": ""
             }
            },
            "type": "scattergl"
           }
          ],
          "scattermapbox": [
           {
            "marker": {
             "colorbar": {
              "outlinewidth": 0,
              "ticks": ""
             }
            },
            "type": "scattermapbox"
           }
          ],
          "scatterpolar": [
           {
            "marker": {
             "colorbar": {
              "outlinewidth": 0,
              "ticks": ""
             }
            },
            "type": "scatterpolar"
           }
          ],
          "scatterpolargl": [
           {
            "marker": {
             "colorbar": {
              "outlinewidth": 0,
              "ticks": ""
             }
            },
            "type": "scatterpolargl"
           }
          ],
          "scatterternary": [
           {
            "marker": {
             "colorbar": {
              "outlinewidth": 0,
              "ticks": ""
             }
            },
            "type": "scatterternary"
           }
          ],
          "surface": [
           {
            "colorbar": {
             "outlinewidth": 0,
             "ticks": ""
            },
            "colorscale": [
             [
              0,
              "#0d0887"
             ],
             [
              0.1111111111111111,
              "#46039f"
             ],
             [
              0.2222222222222222,
              "#7201a8"
             ],
             [
              0.3333333333333333,
              "#9c179e"
             ],
             [
              0.4444444444444444,
              "#bd3786"
             ],
             [
              0.5555555555555556,
              "#d8576b"
             ],
             [
              0.6666666666666666,
              "#ed7953"
             ],
             [
              0.7777777777777778,
              "#fb9f3a"
             ],
             [
              0.8888888888888888,
              "#fdca26"
             ],
             [
              1,
              "#f0f921"
             ]
            ],
            "type": "surface"
           }
          ],
          "table": [
           {
            "cells": {
             "fill": {
              "color": "#EBF0F8"
             },
             "line": {
              "color": "white"
             }
            },
            "header": {
             "fill": {
              "color": "#C8D4E3"
             },
             "line": {
              "color": "white"
             }
            },
            "type": "table"
           }
          ]
         },
         "layout": {
          "annotationdefaults": {
           "arrowcolor": "#2a3f5f",
           "arrowhead": 0,
           "arrowwidth": 1
          },
          "autotypenumbers": "strict",
          "coloraxis": {
           "colorbar": {
            "outlinewidth": 0,
            "ticks": ""
           }
          },
          "colorscale": {
           "diverging": [
            [
             0,
             "#8e0152"
            ],
            [
             0.1,
             "#c51b7d"
            ],
            [
             0.2,
             "#de77ae"
            ],
            [
             0.3,
             "#f1b6da"
            ],
            [
             0.4,
             "#fde0ef"
            ],
            [
             0.5,
             "#f7f7f7"
            ],
            [
             0.6,
             "#e6f5d0"
            ],
            [
             0.7,
             "#b8e186"
            ],
            [
             0.8,
             "#7fbc41"
            ],
            [
             0.9,
             "#4d9221"
            ],
            [
             1,
             "#276419"
            ]
           ],
           "sequential": [
            [
             0,
             "#0d0887"
            ],
            [
             0.1111111111111111,
             "#46039f"
            ],
            [
             0.2222222222222222,
             "#7201a8"
            ],
            [
             0.3333333333333333,
             "#9c179e"
            ],
            [
             0.4444444444444444,
             "#bd3786"
            ],
            [
             0.5555555555555556,
             "#d8576b"
            ],
            [
             0.6666666666666666,
             "#ed7953"
            ],
            [
             0.7777777777777778,
             "#fb9f3a"
            ],
            [
             0.8888888888888888,
             "#fdca26"
            ],
            [
             1,
             "#f0f921"
            ]
           ],
           "sequentialminus": [
            [
             0,
             "#0d0887"
            ],
            [
             0.1111111111111111,
             "#46039f"
            ],
            [
             0.2222222222222222,
             "#7201a8"
            ],
            [
             0.3333333333333333,
             "#9c179e"
            ],
            [
             0.4444444444444444,
             "#bd3786"
            ],
            [
             0.5555555555555556,
             "#d8576b"
            ],
            [
             0.6666666666666666,
             "#ed7953"
            ],
            [
             0.7777777777777778,
             "#fb9f3a"
            ],
            [
             0.8888888888888888,
             "#fdca26"
            ],
            [
             1,
             "#f0f921"
            ]
           ]
          },
          "colorway": [
           "#636efa",
           "#EF553B",
           "#00cc96",
           "#ab63fa",
           "#FFA15A",
           "#19d3f3",
           "#FF6692",
           "#B6E880",
           "#FF97FF",
           "#FECB52"
          ],
          "font": {
           "color": "#2a3f5f"
          },
          "geo": {
           "bgcolor": "white",
           "lakecolor": "white",
           "landcolor": "#E5ECF6",
           "showlakes": true,
           "showland": true,
           "subunitcolor": "white"
          },
          "hoverlabel": {
           "align": "left"
          },
          "hovermode": "closest",
          "mapbox": {
           "style": "light"
          },
          "paper_bgcolor": "white",
          "plot_bgcolor": "#E5ECF6",
          "polar": {
           "angularaxis": {
            "gridcolor": "white",
            "linecolor": "white",
            "ticks": ""
           },
           "bgcolor": "#E5ECF6",
           "radialaxis": {
            "gridcolor": "white",
            "linecolor": "white",
            "ticks": ""
           }
          },
          "scene": {
           "xaxis": {
            "backgroundcolor": "#E5ECF6",
            "gridcolor": "white",
            "gridwidth": 2,
            "linecolor": "white",
            "showbackground": true,
            "ticks": "",
            "zerolinecolor": "white"
           },
           "yaxis": {
            "backgroundcolor": "#E5ECF6",
            "gridcolor": "white",
            "gridwidth": 2,
            "linecolor": "white",
            "showbackground": true,
            "ticks": "",
            "zerolinecolor": "white"
           },
           "zaxis": {
            "backgroundcolor": "#E5ECF6",
            "gridcolor": "white",
            "gridwidth": 2,
            "linecolor": "white",
            "showbackground": true,
            "ticks": "",
            "zerolinecolor": "white"
           }
          },
          "shapedefaults": {
           "line": {
            "color": "#2a3f5f"
           }
          },
          "ternary": {
           "aaxis": {
            "gridcolor": "white",
            "linecolor": "white",
            "ticks": ""
           },
           "baxis": {
            "gridcolor": "white",
            "linecolor": "white",
            "ticks": ""
           },
           "bgcolor": "#E5ECF6",
           "caxis": {
            "gridcolor": "white",
            "linecolor": "white",
            "ticks": ""
           }
          },
          "title": {
           "x": 0.05
          },
          "xaxis": {
           "automargin": true,
           "gridcolor": "white",
           "linecolor": "white",
           "ticks": "",
           "title": {
            "standoff": 15
           },
           "zerolinecolor": "white",
           "zerolinewidth": 2
          },
          "yaxis": {
           "automargin": true,
           "gridcolor": "white",
           "linecolor": "white",
           "ticks": "",
           "title": {
            "standoff": 15
           },
           "zerolinecolor": "white",
           "zerolinewidth": 2
          }
         }
        },
        "width": 900,
        "xaxis": {
         "autorange": true,
         "range": [
          1850,
          1918
         ],
         "tickfont": {
          "size": 16
         },
         "title": {
          "font": {
           "size": 16
          }
         },
         "type": "linear"
        },
        "yaxis": {
         "autorange": true,
         "range": [
          0.08037321444570837,
          0.13453254769316295
         ],
         "tickfont": {
          "size": 16
         },
         "title": {
          "font": {
           "size": 16
          },
          "text": "Anteil"
         },
         "type": "linear"
        }
       }
      },
      "text/html": [
       "<div>                            <div id=\"4da67082-b0c9-4c20-892d-00779cabfebc\" class=\"plotly-graph-div\" style=\"height:500px; width:900px;\"></div>            <script type=\"text/javascript\">                require([\"plotly\"], function(Plotly) {                    window.PLOTLYENV=window.PLOTLYENV || {};                                    if (document.getElementById(\"4da67082-b0c9-4c20-892d-00779cabfebc\")) {                    Plotly.newPlot(                        \"4da67082-b0c9-4c20-892d-00779cabfebc\",                        [{\"line\":{\"color\":\"#636EFA\",\"width\":6},\"mode\":\"lines\",\"name\":\"Kultur\",\"x\":[1850,1851,1852,1853,1854,1855,1856,1857,1858,1859,1860,1861,1862,1863,1864,1865,1866,1867,1868,1869,1870,1871,1872,1873,1874,1875,1876,1877,1878,1879,1880,1881,1882,1883,1884,1885,1886,1887,1888,1889,1890,1891,1892,1893,1894,1895,1896,1897,1898,1899,1900,1901,1902,1903,1904,1905,1906,1907,1908,1909,1910,1911,1912,1913,1914,1915,1916,1917,1918],\"y\":[null,null,null,null,null,0.12051777938028037,0.11872223906045627,0.11744080145104453,0.11409929515824413,0.11366068516782551,0.11563808242327349,0.11455062177835389,0.1299843765298803,0.12939366777715483,0.13182458103079023,0.12443574324887023,0.12135976603837473,0.1203906815042157,0.11566939179580944,0.11182366198827462,0.10898702398443656,0.10347376041359409,0.08946739273146158,0.0830811811080811,0.08726318621233266,0.08934172454245756,0.09656105719173602,0.10001534623894802,0.10702339341110033,0.10787660697098482,0.1058591462381371,0.10745163181658503,0.10888135591981002,0.11679819912121948,0.1031064120475985,0.1055854231671112,0.09794934328515406,0.09275715625768823,0.09363844013355219,0.09036713936441948,0.09451340354908558,0.10209361683615309,0.10034109801346228,0.1033401050302122,0.1035451121512025,0.12089476277604684,0.11913791536749614,0.12189107040197965,0.11903955321995587,0.12178438168135532,0.11667361432297157,0.10366191188770148,0.09959271337719539,0.0972928541955152,0.09576467278038771,0.10000148516840425,0.0939137749316631,0.0889393225698892,0.09172161048123546,0.09828563505065809,0.0942277938162643,0.09272509675229158,0.0977083150348416,0.09602563201188909,null,null,null,null,null],\"type\":\"scatter\"}],                        {\"template\":{\"data\":{\"histogram2dcontour\":[{\"type\":\"histogram2dcontour\",\"colorbar\":{\"outlinewidth\":0,\"ticks\":\"\"},\"colorscale\":[[0.0,\"#0d0887\"],[0.1111111111111111,\"#46039f\"],[0.2222222222222222,\"#7201a8\"],[0.3333333333333333,\"#9c179e\"],[0.4444444444444444,\"#bd3786\"],[0.5555555555555556,\"#d8576b\"],[0.6666666666666666,\"#ed7953\"],[0.7777777777777778,\"#fb9f3a\"],[0.8888888888888888,\"#fdca26\"],[1.0,\"#f0f921\"]]}],\"choropleth\":[{\"type\":\"choropleth\",\"colorbar\":{\"outlinewidth\":0,\"ticks\":\"\"}}],\"histogram2d\":[{\"type\":\"histogram2d\",\"colorbar\":{\"outlinewidth\":0,\"ticks\":\"\"},\"colorscale\":[[0.0,\"#0d0887\"],[0.1111111111111111,\"#46039f\"],[0.2222222222222222,\"#7201a8\"],[0.3333333333333333,\"#9c179e\"],[0.4444444444444444,\"#bd3786\"],[0.5555555555555556,\"#d8576b\"],[0.6666666666666666,\"#ed7953\"],[0.7777777777777778,\"#fb9f3a\"],[0.8888888888888888,\"#fdca26\"],[1.0,\"#f0f921\"]]}],\"heatmap\":[{\"type\":\"heatmap\",\"colorbar\":{\"outlinewidth\":0,\"ticks\":\"\"},\"colorscale\":[[0.0,\"#0d0887\"],[0.1111111111111111,\"#46039f\"],[0.2222222222222222,\"#7201a8\"],[0.3333333333333333,\"#9c179e\"],[0.4444444444444444,\"#bd3786\"],[0.5555555555555556,\"#d8576b\"],[0.6666666666666666,\"#ed7953\"],[0.7777777777777778,\"#fb9f3a\"],[0.8888888888888888,\"#fdca26\"],[1.0,\"#f0f921\"]]}],\"heatmapgl\":[{\"type\":\"heatmapgl\",\"colorbar\":{\"outlinewidth\":0,\"ticks\":\"\"},\"colorscale\":[[0.0,\"#0d0887\"],[0.1111111111111111,\"#46039f\"],[0.2222222222222222,\"#7201a8\"],[0.3333333333333333,\"#9c179e\"],[0.4444444444444444,\"#bd3786\"],[0.5555555555555556,\"#d8576b\"],[0.6666666666666666,\"#ed7953\"],[0.7777777777777778,\"#fb9f3a\"],[0.8888888888888888,\"#fdca26\"],[1.0,\"#f0f921\"]]}],\"contourcarpet\":[{\"type\":\"contourcarpet\",\"colorbar\":{\"outlinewidth\":0,\"ticks\":\"\"}}],\"contour\":[{\"type\":\"contour\",\"colorbar\":{\"outlinewidth\":0,\"ticks\":\"\"},\"colorscale\":[[0.0,\"#0d0887\"],[0.1111111111111111,\"#46039f\"],[0.2222222222222222,\"#7201a8\"],[0.3333333333333333,\"#9c179e\"],[0.4444444444444444,\"#bd3786\"],[0.5555555555555556,\"#d8576b\"],[0.6666666666666666,\"#ed7953\"],[0.7777777777777778,\"#fb9f3a\"],[0.8888888888888888,\"#fdca26\"],[1.0,\"#f0f921\"]]}],\"surface\":[{\"type\":\"surface\",\"colorbar\":{\"outlinewidth\":0,\"ticks\":\"\"},\"colorscale\":[[0.0,\"#0d0887\"],[0.1111111111111111,\"#46039f\"],[0.2222222222222222,\"#7201a8\"],[0.3333333333333333,\"#9c179e\"],[0.4444444444444444,\"#bd3786\"],[0.5555555555555556,\"#d8576b\"],[0.6666666666666666,\"#ed7953\"],[0.7777777777777778,\"#fb9f3a\"],[0.8888888888888888,\"#fdca26\"],[1.0,\"#f0f921\"]]}],\"mesh3d\":[{\"type\":\"mesh3d\",\"colorbar\":{\"outlinewidth\":0,\"ticks\":\"\"}}],\"scatter\":[{\"fillpattern\":{\"fillmode\":\"overlay\",\"size\":10,\"solidity\":0.2},\"type\":\"scatter\"}],\"parcoords\":[{\"type\":\"parcoords\",\"line\":{\"colorbar\":{\"outlinewidth\":0,\"ticks\":\"\"}}}],\"scatterpolargl\":[{\"type\":\"scatterpolargl\",\"marker\":{\"colorbar\":{\"outlinewidth\":0,\"ticks\":\"\"}}}],\"bar\":[{\"error_x\":{\"color\":\"#2a3f5f\"},\"error_y\":{\"color\":\"#2a3f5f\"},\"marker\":{\"line\":{\"color\":\"#E5ECF6\",\"width\":0.5},\"pattern\":{\"fillmode\":\"overlay\",\"size\":10,\"solidity\":0.2}},\"type\":\"bar\"}],\"scattergeo\":[{\"type\":\"scattergeo\",\"marker\":{\"colorbar\":{\"outlinewidth\":0,\"ticks\":\"\"}}}],\"scatterpolar\":[{\"type\":\"scatterpolar\",\"marker\":{\"colorbar\":{\"outlinewidth\":0,\"ticks\":\"\"}}}],\"histogram\":[{\"marker\":{\"pattern\":{\"fillmode\":\"overlay\",\"size\":10,\"solidity\":0.2}},\"type\":\"histogram\"}],\"scattergl\":[{\"type\":\"scattergl\",\"marker\":{\"colorbar\":{\"outlinewidth\":0,\"ticks\":\"\"}}}],\"scatter3d\":[{\"type\":\"scatter3d\",\"line\":{\"colorbar\":{\"outlinewidth\":0,\"ticks\":\"\"}},\"marker\":{\"colorbar\":{\"outlinewidth\":0,\"ticks\":\"\"}}}],\"scattermapbox\":[{\"type\":\"scattermapbox\",\"marker\":{\"colorbar\":{\"outlinewidth\":0,\"ticks\":\"\"}}}],\"scatterternary\":[{\"type\":\"scatterternary\",\"marker\":{\"colorbar\":{\"outlinewidth\":0,\"ticks\":\"\"}}}],\"scattercarpet\":[{\"type\":\"scattercarpet\",\"marker\":{\"colorbar\":{\"outlinewidth\":0,\"ticks\":\"\"}}}],\"carpet\":[{\"aaxis\":{\"endlinecolor\":\"#2a3f5f\",\"gridcolor\":\"white\",\"linecolor\":\"white\",\"minorgridcolor\":\"white\",\"startlinecolor\":\"#2a3f5f\"},\"baxis\":{\"endlinecolor\":\"#2a3f5f\",\"gridcolor\":\"white\",\"linecolor\":\"white\",\"minorgridcolor\":\"white\",\"startlinecolor\":\"#2a3f5f\"},\"type\":\"carpet\"}],\"table\":[{\"cells\":{\"fill\":{\"color\":\"#EBF0F8\"},\"line\":{\"color\":\"white\"}},\"header\":{\"fill\":{\"color\":\"#C8D4E3\"},\"line\":{\"color\":\"white\"}},\"type\":\"table\"}],\"barpolar\":[{\"marker\":{\"line\":{\"color\":\"#E5ECF6\",\"width\":0.5},\"pattern\":{\"fillmode\":\"overlay\",\"size\":10,\"solidity\":0.2}},\"type\":\"barpolar\"}],\"pie\":[{\"automargin\":true,\"type\":\"pie\"}]},\"layout\":{\"autotypenumbers\":\"strict\",\"colorway\":[\"#636efa\",\"#EF553B\",\"#00cc96\",\"#ab63fa\",\"#FFA15A\",\"#19d3f3\",\"#FF6692\",\"#B6E880\",\"#FF97FF\",\"#FECB52\"],\"font\":{\"color\":\"#2a3f5f\"},\"hovermode\":\"closest\",\"hoverlabel\":{\"align\":\"left\"},\"paper_bgcolor\":\"white\",\"plot_bgcolor\":\"#E5ECF6\",\"polar\":{\"bgcolor\":\"#E5ECF6\",\"angularaxis\":{\"gridcolor\":\"white\",\"linecolor\":\"white\",\"ticks\":\"\"},\"radialaxis\":{\"gridcolor\":\"white\",\"linecolor\":\"white\",\"ticks\":\"\"}},\"ternary\":{\"bgcolor\":\"#E5ECF6\",\"aaxis\":{\"gridcolor\":\"white\",\"linecolor\":\"white\",\"ticks\":\"\"},\"baxis\":{\"gridcolor\":\"white\",\"linecolor\":\"white\",\"ticks\":\"\"},\"caxis\":{\"gridcolor\":\"white\",\"linecolor\":\"white\",\"ticks\":\"\"}},\"coloraxis\":{\"colorbar\":{\"outlinewidth\":0,\"ticks\":\"\"}},\"colorscale\":{\"sequential\":[[0.0,\"#0d0887\"],[0.1111111111111111,\"#46039f\"],[0.2222222222222222,\"#7201a8\"],[0.3333333333333333,\"#9c179e\"],[0.4444444444444444,\"#bd3786\"],[0.5555555555555556,\"#d8576b\"],[0.6666666666666666,\"#ed7953\"],[0.7777777777777778,\"#fb9f3a\"],[0.8888888888888888,\"#fdca26\"],[1.0,\"#f0f921\"]],\"sequentialminus\":[[0.0,\"#0d0887\"],[0.1111111111111111,\"#46039f\"],[0.2222222222222222,\"#7201a8\"],[0.3333333333333333,\"#9c179e\"],[0.4444444444444444,\"#bd3786\"],[0.5555555555555556,\"#d8576b\"],[0.6666666666666666,\"#ed7953\"],[0.7777777777777778,\"#fb9f3a\"],[0.8888888888888888,\"#fdca26\"],[1.0,\"#f0f921\"]],\"diverging\":[[0,\"#8e0152\"],[0.1,\"#c51b7d\"],[0.2,\"#de77ae\"],[0.3,\"#f1b6da\"],[0.4,\"#fde0ef\"],[0.5,\"#f7f7f7\"],[0.6,\"#e6f5d0\"],[0.7,\"#b8e186\"],[0.8,\"#7fbc41\"],[0.9,\"#4d9221\"],[1,\"#276419\"]]},\"xaxis\":{\"gridcolor\":\"white\",\"linecolor\":\"white\",\"ticks\":\"\",\"title\":{\"standoff\":15},\"zerolinecolor\":\"white\",\"automargin\":true,\"zerolinewidth\":2},\"yaxis\":{\"gridcolor\":\"white\",\"linecolor\":\"white\",\"ticks\":\"\",\"title\":{\"standoff\":15},\"zerolinecolor\":\"white\",\"automargin\":true,\"zerolinewidth\":2},\"scene\":{\"xaxis\":{\"backgroundcolor\":\"#E5ECF6\",\"gridcolor\":\"white\",\"linecolor\":\"white\",\"showbackground\":true,\"ticks\":\"\",\"zerolinecolor\":\"white\",\"gridwidth\":2},\"yaxis\":{\"backgroundcolor\":\"#E5ECF6\",\"gridcolor\":\"white\",\"linecolor\":\"white\",\"showbackground\":true,\"ticks\":\"\",\"zerolinecolor\":\"white\",\"gridwidth\":2},\"zaxis\":{\"backgroundcolor\":\"#E5ECF6\",\"gridcolor\":\"white\",\"linecolor\":\"white\",\"showbackground\":true,\"ticks\":\"\",\"zerolinecolor\":\"white\",\"gridwidth\":2}},\"shapedefaults\":{\"line\":{\"color\":\"#2a3f5f\"}},\"annotationdefaults\":{\"arrowcolor\":\"#2a3f5f\",\"arrowhead\":0,\"arrowwidth\":1},\"geo\":{\"bgcolor\":\"white\",\"landcolor\":\"#E5ECF6\",\"subunitcolor\":\"white\",\"showland\":true,\"showlakes\":true,\"lakecolor\":\"white\"},\"title\":{\"x\":0.05},\"mapbox\":{\"style\":\"light\"}}},\"xaxis\":{\"tickfont\":{\"size\":16},\"title\":{\"font\":{\"size\":16}}},\"yaxis\":{\"tickfont\":{\"size\":16},\"title\":{\"text\":\"Anteil\",\"font\":{\"size\":16}}},\"legend\":{\"font\":{\"size\":16},\"traceorder\":\"normal\"},\"width\":900,\"height\":500},                        {\"responsive\": true}                    ).then(function(){\n",
       "                            \n",
       "var gd = document.getElementById('4da67082-b0c9-4c20-892d-00779cabfebc');\n",
       "var x = new MutationObserver(function (mutations, observer) {{\n",
       "        var display = window.getComputedStyle(gd).display;\n",
       "        if (!display || display === 'none') {{\n",
       "            console.log([gd, 'removed!']);\n",
       "            Plotly.purge(gd);\n",
       "            observer.disconnect();\n",
       "        }}\n",
       "}});\n",
       "\n",
       "// Listen for the removal of the full notebook cells\n",
       "var notebookContainer = gd.closest('#notebook-container');\n",
       "if (notebookContainer) {{\n",
       "    x.observe(notebookContainer, {childList: true});\n",
       "}}\n",
       "\n",
       "// Listen for the clearing of the current output cell\n",
       "var outputEl = gd.closest('.output');\n",
       "if (outputEl) {{\n",
       "    x.observe(outputEl, {childList: true});\n",
       "}}\n",
       "\n",
       "                        })                };                });            </script>        </div>"
      ]
     },
     "metadata": {},
     "output_type": "display_data"
    }
   ],
   "source": [
    "meta_plot = ts[['kultur_share_smoothed']]\n",
    "meta_plot.columns = ['Kultur']\n",
    "\n",
    "fig = create_ts_plot(\n",
    "    data = meta_plot, \n",
    "    columns = meta_plot.columns, \n",
    "    y_axis_title = 'Anteil',\n",
    ")\n",
    "fig.show()"
   ]
  },
  {
   "cell_type": "code",
   "execution_count": 56,
   "id": "e448eb11",
   "metadata": {},
   "outputs": [
    {
     "data": {
      "text/html": [
       "<div>\n",
       "<style scoped>\n",
       "    .dataframe tbody tr th:only-of-type {\n",
       "        vertical-align: middle;\n",
       "    }\n",
       "\n",
       "    .dataframe tbody tr th {\n",
       "        vertical-align: top;\n",
       "    }\n",
       "\n",
       "    .dataframe thead th {\n",
       "        text-align: right;\n",
       "    }\n",
       "</style>\n",
       "<table border=\"1\" class=\"dataframe\">\n",
       "  <thead>\n",
       "    <tr style=\"text-align: right;\">\n",
       "      <th></th>\n",
       "      <th>text_count</th>\n",
       "      <th>stoffgebiet_count</th>\n",
       "      <th>kultur_count</th>\n",
       "      <th>kultur_share_texts</th>\n",
       "      <th>kultur_share_stoffgebiete</th>\n",
       "    </tr>\n",
       "  </thead>\n",
       "  <tbody>\n",
       "    <tr>\n",
       "      <th>1977.Pawlik/Schlender</th>\n",
       "      <td>31.0</td>\n",
       "      <td>44.0</td>\n",
       "      <td>1.0</td>\n",
       "      <td>0.032258</td>\n",
       "      <td>0.022727</td>\n",
       "    </tr>\n",
       "    <tr>\n",
       "      <th>1878.Pennerstorfer.2(1879)</th>\n",
       "      <td>22.0</td>\n",
       "      <td>31.0</td>\n",
       "      <td>1.0</td>\n",
       "      <td>0.045455</td>\n",
       "      <td>0.032258</td>\n",
       "    </tr>\n",
       "    <tr>\n",
       "      <th>1878.Krämer</th>\n",
       "      <td>36.0</td>\n",
       "      <td>54.0</td>\n",
       "      <td>2.0</td>\n",
       "      <td>0.055556</td>\n",
       "      <td>0.037037</td>\n",
       "    </tr>\n",
       "    <tr>\n",
       "      <th>1917.Götze/Ulbricht</th>\n",
       "      <td>34.0</td>\n",
       "      <td>45.0</td>\n",
       "      <td>2.0</td>\n",
       "      <td>0.058824</td>\n",
       "      <td>0.044444</td>\n",
       "    </tr>\n",
       "    <tr>\n",
       "      <th>1891.Brümmer</th>\n",
       "      <td>337.0</td>\n",
       "      <td>458.0</td>\n",
       "      <td>28.0</td>\n",
       "      <td>0.083086</td>\n",
       "      <td>0.061135</td>\n",
       "    </tr>\n",
       "    <tr>\n",
       "      <th>1967.Fabian</th>\n",
       "      <td>23.0</td>\n",
       "      <td>34.0</td>\n",
       "      <td>2.0</td>\n",
       "      <td>0.086957</td>\n",
       "      <td>0.058824</td>\n",
       "    </tr>\n",
       "    <tr>\n",
       "      <th>1939.Berendt</th>\n",
       "      <td>23.0</td>\n",
       "      <td>32.0</td>\n",
       "      <td>2.0</td>\n",
       "      <td>0.086957</td>\n",
       "      <td>0.062500</td>\n",
       "    </tr>\n",
       "    <tr>\n",
       "      <th>1890.Basedow</th>\n",
       "      <td>69.0</td>\n",
       "      <td>95.0</td>\n",
       "      <td>6.0</td>\n",
       "      <td>0.086957</td>\n",
       "      <td>0.063158</td>\n",
       "    </tr>\n",
       "    <tr>\n",
       "      <th>1904.Linde</th>\n",
       "      <td>65.0</td>\n",
       "      <td>91.0</td>\n",
       "      <td>6.0</td>\n",
       "      <td>0.092308</td>\n",
       "      <td>0.065934</td>\n",
       "    </tr>\n",
       "    <tr>\n",
       "      <th>1862.Fricke</th>\n",
       "      <td>21.0</td>\n",
       "      <td>27.0</td>\n",
       "      <td>2.0</td>\n",
       "      <td>0.095238</td>\n",
       "      <td>0.074074</td>\n",
       "    </tr>\n",
       "    <tr>\n",
       "      <th>1908.Berg</th>\n",
       "      <td>30.0</td>\n",
       "      <td>47.0</td>\n",
       "      <td>3.0</td>\n",
       "      <td>0.100000</td>\n",
       "      <td>0.063830</td>\n",
       "    </tr>\n",
       "    <tr>\n",
       "      <th>1906/07.Weber</th>\n",
       "      <td>87.0</td>\n",
       "      <td>125.0</td>\n",
       "      <td>9.0</td>\n",
       "      <td>0.103448</td>\n",
       "      <td>0.072000</td>\n",
       "    </tr>\n",
       "    <tr>\n",
       "      <th>1915.Eggert-Windegg</th>\n",
       "      <td>158.0</td>\n",
       "      <td>209.0</td>\n",
       "      <td>17.0</td>\n",
       "      <td>0.107595</td>\n",
       "      <td>0.081340</td>\n",
       "    </tr>\n",
       "    <tr>\n",
       "      <th>1881/83.Meyer</th>\n",
       "      <td>65.0</td>\n",
       "      <td>89.0</td>\n",
       "      <td>7.0</td>\n",
       "      <td>0.107692</td>\n",
       "      <td>0.078652</td>\n",
       "    </tr>\n",
       "    <tr>\n",
       "      <th>1913.Schrutz</th>\n",
       "      <td>62.0</td>\n",
       "      <td>87.0</td>\n",
       "      <td>7.0</td>\n",
       "      <td>0.112903</td>\n",
       "      <td>0.080460</td>\n",
       "    </tr>\n",
       "    <tr>\n",
       "      <th>1912.Harten/Henniger</th>\n",
       "      <td>35.0</td>\n",
       "      <td>47.0</td>\n",
       "      <td>4.0</td>\n",
       "      <td>0.114286</td>\n",
       "      <td>0.085106</td>\n",
       "    </tr>\n",
       "    <tr>\n",
       "      <th>1928/29.Graach</th>\n",
       "      <td>52.0</td>\n",
       "      <td>67.0</td>\n",
       "      <td>6.0</td>\n",
       "      <td>0.115385</td>\n",
       "      <td>0.089552</td>\n",
       "    </tr>\n",
       "    <tr>\n",
       "      <th>1918.Eschmann</th>\n",
       "      <td>43.0</td>\n",
       "      <td>57.0</td>\n",
       "      <td>5.0</td>\n",
       "      <td>0.116279</td>\n",
       "      <td>0.087719</td>\n",
       "    </tr>\n",
       "    <tr>\n",
       "      <th>1909.Meyer-Frommhold</th>\n",
       "      <td>51.0</td>\n",
       "      <td>61.0</td>\n",
       "      <td>6.0</td>\n",
       "      <td>0.117647</td>\n",
       "      <td>0.098361</td>\n",
       "    </tr>\n",
       "    <tr>\n",
       "      <th>1876.Bintz</th>\n",
       "      <td>51.0</td>\n",
       "      <td>63.0</td>\n",
       "      <td>6.0</td>\n",
       "      <td>0.117647</td>\n",
       "      <td>0.095238</td>\n",
       "    </tr>\n",
       "    <tr>\n",
       "      <th>1922.Uhlmann-Bixterheide</th>\n",
       "      <td>51.0</td>\n",
       "      <td>71.0</td>\n",
       "      <td>6.0</td>\n",
       "      <td>0.117647</td>\n",
       "      <td>0.084507</td>\n",
       "    </tr>\n",
       "    <tr>\n",
       "      <th>1926.Beck</th>\n",
       "      <td>42.0</td>\n",
       "      <td>58.0</td>\n",
       "      <td>5.0</td>\n",
       "      <td>0.119048</td>\n",
       "      <td>0.086207</td>\n",
       "    </tr>\n",
       "    <tr>\n",
       "      <th>1876.Bodamer</th>\n",
       "      <td>25.0</td>\n",
       "      <td>34.0</td>\n",
       "      <td>3.0</td>\n",
       "      <td>0.120000</td>\n",
       "      <td>0.088235</td>\n",
       "    </tr>\n",
       "    <tr>\n",
       "      <th>1938.Schulz</th>\n",
       "      <td>108.0</td>\n",
       "      <td>150.0</td>\n",
       "      <td>14.0</td>\n",
       "      <td>0.129630</td>\n",
       "      <td>0.093333</td>\n",
       "    </tr>\n",
       "    <tr>\n",
       "      <th>1899.Nießen</th>\n",
       "      <td>54.0</td>\n",
       "      <td>82.0</td>\n",
       "      <td>7.0</td>\n",
       "      <td>0.129630</td>\n",
       "      <td>0.085366</td>\n",
       "    </tr>\n",
       "    <tr>\n",
       "      <th>1925.Wehrhan</th>\n",
       "      <td>107.0</td>\n",
       "      <td>148.0</td>\n",
       "      <td>14.0</td>\n",
       "      <td>0.130841</td>\n",
       "      <td>0.094595</td>\n",
       "    </tr>\n",
       "    <tr>\n",
       "      <th>1903.Stückmann/Ekeris</th>\n",
       "      <td>38.0</td>\n",
       "      <td>49.0</td>\n",
       "      <td>5.0</td>\n",
       "      <td>0.131579</td>\n",
       "      <td>0.102041</td>\n",
       "    </tr>\n",
       "    <tr>\n",
       "      <th>1892.Dietlein</th>\n",
       "      <td>30.0</td>\n",
       "      <td>36.0</td>\n",
       "      <td>4.0</td>\n",
       "      <td>0.133333</td>\n",
       "      <td>0.111111</td>\n",
       "    </tr>\n",
       "    <tr>\n",
       "      <th>1912.Werner</th>\n",
       "      <td>231.0</td>\n",
       "      <td>331.0</td>\n",
       "      <td>31.0</td>\n",
       "      <td>0.134199</td>\n",
       "      <td>0.093656</td>\n",
       "    </tr>\n",
       "    <tr>\n",
       "      <th>1926.Rücker</th>\n",
       "      <td>29.0</td>\n",
       "      <td>42.0</td>\n",
       "      <td>4.0</td>\n",
       "      <td>0.137931</td>\n",
       "      <td>0.095238</td>\n",
       "    </tr>\n",
       "    <tr>\n",
       "      <th>1889.Krais</th>\n",
       "      <td>21.0</td>\n",
       "      <td>27.0</td>\n",
       "      <td>3.0</td>\n",
       "      <td>0.142857</td>\n",
       "      <td>0.111111</td>\n",
       "    </tr>\n",
       "    <tr>\n",
       "      <th>1938.Plenzat</th>\n",
       "      <td>172.0</td>\n",
       "      <td>234.0</td>\n",
       "      <td>26.0</td>\n",
       "      <td>0.151163</td>\n",
       "      <td>0.111111</td>\n",
       "    </tr>\n",
       "    <tr>\n",
       "      <th>1879.Teuffenbach</th>\n",
       "      <td>152.0</td>\n",
       "      <td>204.0</td>\n",
       "      <td>23.0</td>\n",
       "      <td>0.151316</td>\n",
       "      <td>0.112745</td>\n",
       "    </tr>\n",
       "    <tr>\n",
       "      <th>1892/93.Tetzner</th>\n",
       "      <td>188.0</td>\n",
       "      <td>273.0</td>\n",
       "      <td>29.0</td>\n",
       "      <td>0.154255</td>\n",
       "      <td>0.106227</td>\n",
       "    </tr>\n",
       "    <tr>\n",
       "      <th>1872.Bindewald.2(1875)</th>\n",
       "      <td>192.0</td>\n",
       "      <td>260.0</td>\n",
       "      <td>30.0</td>\n",
       "      <td>0.156250</td>\n",
       "      <td>0.115385</td>\n",
       "    </tr>\n",
       "    <tr>\n",
       "      <th>1927.Maus</th>\n",
       "      <td>38.0</td>\n",
       "      <td>56.0</td>\n",
       "      <td>6.0</td>\n",
       "      <td>0.157895</td>\n",
       "      <td>0.107143</td>\n",
       "    </tr>\n",
       "    <tr>\n",
       "      <th>1877.Anonym</th>\n",
       "      <td>25.0</td>\n",
       "      <td>33.0</td>\n",
       "      <td>4.0</td>\n",
       "      <td>0.160000</td>\n",
       "      <td>0.121212</td>\n",
       "    </tr>\n",
       "    <tr>\n",
       "      <th>1934.Jelusich</th>\n",
       "      <td>24.0</td>\n",
       "      <td>28.0</td>\n",
       "      <td>4.0</td>\n",
       "      <td>0.166667</td>\n",
       "      <td>0.142857</td>\n",
       "    </tr>\n",
       "    <tr>\n",
       "      <th>1881.Polack</th>\n",
       "      <td>54.0</td>\n",
       "      <td>75.0</td>\n",
       "      <td>9.0</td>\n",
       "      <td>0.166667</td>\n",
       "      <td>0.120000</td>\n",
       "    </tr>\n",
       "    <tr>\n",
       "      <th>1890.Kirchner</th>\n",
       "      <td>35.0</td>\n",
       "      <td>55.0</td>\n",
       "      <td>6.0</td>\n",
       "      <td>0.171429</td>\n",
       "      <td>0.109091</td>\n",
       "    </tr>\n",
       "    <tr>\n",
       "      <th>1867.Scholz</th>\n",
       "      <td>40.0</td>\n",
       "      <td>51.0</td>\n",
       "      <td>7.0</td>\n",
       "      <td>0.175000</td>\n",
       "      <td>0.137255</td>\n",
       "    </tr>\n",
       "    <tr>\n",
       "      <th>1884.Meyer/Reichel</th>\n",
       "      <td>27.0</td>\n",
       "      <td>37.0</td>\n",
       "      <td>5.0</td>\n",
       "      <td>0.185185</td>\n",
       "      <td>0.135135</td>\n",
       "    </tr>\n",
       "    <tr>\n",
       "      <th>1958.Kipp</th>\n",
       "      <td>54.0</td>\n",
       "      <td>73.0</td>\n",
       "      <td>10.0</td>\n",
       "      <td>0.185185</td>\n",
       "      <td>0.136986</td>\n",
       "    </tr>\n",
       "    <tr>\n",
       "      <th>1886.Bliedner</th>\n",
       "      <td>27.0</td>\n",
       "      <td>36.0</td>\n",
       "      <td>5.0</td>\n",
       "      <td>0.185185</td>\n",
       "      <td>0.138889</td>\n",
       "    </tr>\n",
       "    <tr>\n",
       "      <th>1887.Kriebitzsch</th>\n",
       "      <td>31.0</td>\n",
       "      <td>43.0</td>\n",
       "      <td>6.0</td>\n",
       "      <td>0.193548</td>\n",
       "      <td>0.139535</td>\n",
       "    </tr>\n",
       "    <tr>\n",
       "      <th>1899.Schiffels</th>\n",
       "      <td>35.0</td>\n",
       "      <td>48.0</td>\n",
       "      <td>7.0</td>\n",
       "      <td>0.200000</td>\n",
       "      <td>0.145833</td>\n",
       "    </tr>\n",
       "    <tr>\n",
       "      <th>1884.Boehm</th>\n",
       "      <td>56.0</td>\n",
       "      <td>80.0</td>\n",
       "      <td>12.0</td>\n",
       "      <td>0.214286</td>\n",
       "      <td>0.150000</td>\n",
       "    </tr>\n",
       "    <tr>\n",
       "      <th>1858.Hocker</th>\n",
       "      <td>62.0</td>\n",
       "      <td>93.0</td>\n",
       "      <td>14.0</td>\n",
       "      <td>0.225806</td>\n",
       "      <td>0.150538</td>\n",
       "    </tr>\n",
       "    <tr>\n",
       "      <th>1907.Zettel/Brunner</th>\n",
       "      <td>148.0</td>\n",
       "      <td>202.0</td>\n",
       "      <td>39.0</td>\n",
       "      <td>0.263514</td>\n",
       "      <td>0.193069</td>\n",
       "    </tr>\n",
       "    <tr>\n",
       "      <th>1867.Remy</th>\n",
       "      <td>32.0</td>\n",
       "      <td>44.0</td>\n",
       "      <td>9.0</td>\n",
       "      <td>0.281250</td>\n",
       "      <td>0.204545</td>\n",
       "    </tr>\n",
       "    <tr>\n",
       "      <th>1877.Edert</th>\n",
       "      <td>20.0</td>\n",
       "      <td>26.0</td>\n",
       "      <td>8.0</td>\n",
       "      <td>0.400000</td>\n",
       "      <td>0.307692</td>\n",
       "    </tr>\n",
       "  </tbody>\n",
       "</table>\n",
       "</div>"
      ],
      "text/plain": [
       "                            text_count  stoffgebiet_count  kultur_count  \\\n",
       "1977.Pawlik/Schlender             31.0               44.0           1.0   \n",
       "1878.Pennerstorfer.2(1879)        22.0               31.0           1.0   \n",
       "1878.Krämer                       36.0               54.0           2.0   \n",
       "1917.Götze/Ulbricht               34.0               45.0           2.0   \n",
       "1891.Brümmer                     337.0              458.0          28.0   \n",
       "1967.Fabian                       23.0               34.0           2.0   \n",
       "1939.Berendt                      23.0               32.0           2.0   \n",
       "1890.Basedow                      69.0               95.0           6.0   \n",
       "1904.Linde                        65.0               91.0           6.0   \n",
       "1862.Fricke                       21.0               27.0           2.0   \n",
       "1908.Berg                         30.0               47.0           3.0   \n",
       "1906/07.Weber                     87.0              125.0           9.0   \n",
       "1915.Eggert-Windegg              158.0              209.0          17.0   \n",
       "1881/83.Meyer                     65.0               89.0           7.0   \n",
       "1913.Schrutz                      62.0               87.0           7.0   \n",
       "1912.Harten/Henniger              35.0               47.0           4.0   \n",
       "1928/29.Graach                    52.0               67.0           6.0   \n",
       "1918.Eschmann                     43.0               57.0           5.0   \n",
       "1909.Meyer-Frommhold              51.0               61.0           6.0   \n",
       "1876.Bintz                        51.0               63.0           6.0   \n",
       "1922.Uhlmann-Bixterheide          51.0               71.0           6.0   \n",
       "1926.Beck                         42.0               58.0           5.0   \n",
       "1876.Bodamer                      25.0               34.0           3.0   \n",
       "1938.Schulz                      108.0              150.0          14.0   \n",
       "1899.Nießen                       54.0               82.0           7.0   \n",
       "1925.Wehrhan                     107.0              148.0          14.0   \n",
       "1903.Stückmann/Ekeris             38.0               49.0           5.0   \n",
       "1892.Dietlein                     30.0               36.0           4.0   \n",
       "1912.Werner                      231.0              331.0          31.0   \n",
       "1926.Rücker                       29.0               42.0           4.0   \n",
       "1889.Krais                        21.0               27.0           3.0   \n",
       "1938.Plenzat                     172.0              234.0          26.0   \n",
       "1879.Teuffenbach                 152.0              204.0          23.0   \n",
       "1892/93.Tetzner                  188.0              273.0          29.0   \n",
       "1872.Bindewald.2(1875)           192.0              260.0          30.0   \n",
       "1927.Maus                         38.0               56.0           6.0   \n",
       "1877.Anonym                       25.0               33.0           4.0   \n",
       "1934.Jelusich                     24.0               28.0           4.0   \n",
       "1881.Polack                       54.0               75.0           9.0   \n",
       "1890.Kirchner                     35.0               55.0           6.0   \n",
       "1867.Scholz                       40.0               51.0           7.0   \n",
       "1884.Meyer/Reichel                27.0               37.0           5.0   \n",
       "1958.Kipp                         54.0               73.0          10.0   \n",
       "1886.Bliedner                     27.0               36.0           5.0   \n",
       "1887.Kriebitzsch                  31.0               43.0           6.0   \n",
       "1899.Schiffels                    35.0               48.0           7.0   \n",
       "1884.Boehm                        56.0               80.0          12.0   \n",
       "1858.Hocker                       62.0               93.0          14.0   \n",
       "1907.Zettel/Brunner              148.0              202.0          39.0   \n",
       "1867.Remy                         32.0               44.0           9.0   \n",
       "1877.Edert                        20.0               26.0           8.0   \n",
       "\n",
       "                            kultur_share_texts  kultur_share_stoffgebiete  \n",
       "1977.Pawlik/Schlender                 0.032258                   0.022727  \n",
       "1878.Pennerstorfer.2(1879)            0.045455                   0.032258  \n",
       "1878.Krämer                           0.055556                   0.037037  \n",
       "1917.Götze/Ulbricht                   0.058824                   0.044444  \n",
       "1891.Brümmer                          0.083086                   0.061135  \n",
       "1967.Fabian                           0.086957                   0.058824  \n",
       "1939.Berendt                          0.086957                   0.062500  \n",
       "1890.Basedow                          0.086957                   0.063158  \n",
       "1904.Linde                            0.092308                   0.065934  \n",
       "1862.Fricke                           0.095238                   0.074074  \n",
       "1908.Berg                             0.100000                   0.063830  \n",
       "1906/07.Weber                         0.103448                   0.072000  \n",
       "1915.Eggert-Windegg                   0.107595                   0.081340  \n",
       "1881/83.Meyer                         0.107692                   0.078652  \n",
       "1913.Schrutz                          0.112903                   0.080460  \n",
       "1912.Harten/Henniger                  0.114286                   0.085106  \n",
       "1928/29.Graach                        0.115385                   0.089552  \n",
       "1918.Eschmann                         0.116279                   0.087719  \n",
       "1909.Meyer-Frommhold                  0.117647                   0.098361  \n",
       "1876.Bintz                            0.117647                   0.095238  \n",
       "1922.Uhlmann-Bixterheide              0.117647                   0.084507  \n",
       "1926.Beck                             0.119048                   0.086207  \n",
       "1876.Bodamer                          0.120000                   0.088235  \n",
       "1938.Schulz                           0.129630                   0.093333  \n",
       "1899.Nießen                           0.129630                   0.085366  \n",
       "1925.Wehrhan                          0.130841                   0.094595  \n",
       "1903.Stückmann/Ekeris                 0.131579                   0.102041  \n",
       "1892.Dietlein                         0.133333                   0.111111  \n",
       "1912.Werner                           0.134199                   0.093656  \n",
       "1926.Rücker                           0.137931                   0.095238  \n",
       "1889.Krais                            0.142857                   0.111111  \n",
       "1938.Plenzat                          0.151163                   0.111111  \n",
       "1879.Teuffenbach                      0.151316                   0.112745  \n",
       "1892/93.Tetzner                       0.154255                   0.106227  \n",
       "1872.Bindewald.2(1875)                0.156250                   0.115385  \n",
       "1927.Maus                             0.157895                   0.107143  \n",
       "1877.Anonym                           0.160000                   0.121212  \n",
       "1934.Jelusich                         0.166667                   0.142857  \n",
       "1881.Polack                           0.166667                   0.120000  \n",
       "1890.Kirchner                         0.171429                   0.109091  \n",
       "1867.Scholz                           0.175000                   0.137255  \n",
       "1884.Meyer/Reichel                    0.185185                   0.135135  \n",
       "1958.Kipp                             0.185185                   0.136986  \n",
       "1886.Bliedner                         0.185185                   0.138889  \n",
       "1887.Kriebitzsch                      0.193548                   0.139535  \n",
       "1899.Schiffels                        0.200000                   0.145833  \n",
       "1884.Boehm                            0.214286                   0.150000  \n",
       "1858.Hocker                           0.225806                   0.150538  \n",
       "1907.Zettel/Brunner                   0.263514                   0.193069  \n",
       "1867.Remy                             0.281250                   0.204545  \n",
       "1877.Edert                            0.400000                   0.307692  "
      ]
     },
     "execution_count": 56,
     "metadata": {},
     "output_type": "execute_result"
    }
   ],
   "source": [
    "anthology_df = pd.DataFrame()\n",
    "this_meta = meta.query(\"corpus == 'anth' and geschichtslyrik == 1 and 1850 <= year <= 1918\").copy()\n",
    "\n",
    "for anthology in this_meta['anthology'].unique():\n",
    "    anthology_meta = this_meta.query(\"anthology == @anthology\")\n",
    "    this_ratings = get_rating_table(anthology_meta, mode = 'themes')\n",
    "    this_ratings['author_title'] = this_ratings['author'] + ' – ' + this_ratings['title']\n",
    "    this_ratings['type'] = ['Kultur' if x in kultur_stoffgebiete else x for x in this_ratings['type']]\n",
    "    this_ratings = this_ratings.drop_duplicates(subset = ['author_title', 'type'])\n",
    "    \n",
    "    anthology_df.at[anthology, 'text_count'] = anthology_meta.shape[0]\n",
    "    anthology_df.at[anthology, 'stoffgebiet_count'] = this_ratings.shape[0]\n",
    "    anthology_df.at[anthology, 'kultur_count'] = this_ratings.query(\"type=='Kultur'\").shape[0]\n",
    "    anthology_df.at[anthology, 'kultur_share_texts'] = anthology_df.loc[anthology, 'kultur_count']/anthology_df.loc[anthology, 'text_count']\n",
    "    anthology_df.at[anthology, 'kultur_share_stoffgebiete'] = anthology_df.loc[anthology, 'kultur_count']/anthology_df.loc[anthology, 'stoffgebiet_count']\n",
    "    \n",
    "anthology_df.query(\"text_count >= 20\").sort_values(by = 'kultur_share_texts')"
   ]
  },
  {
   "cell_type": "markdown",
   "id": "d833d2da",
   "metadata": {},
   "source": [
    "# Bewertungen jenseits Militär/Krieg"
   ]
  },
  {
   "cell_type": "code",
   "execution_count": 57,
   "id": "9260aee0",
   "metadata": {},
   "outputs": [
    {
     "data": {
      "application/vnd.plotly.v1+json": {
       "config": {
        "plotlyServerURL": "https://plot.ly"
       },
       "data": [
        {
         "line": {
          "color": "#636EFA",
          "width": 6
         },
         "mode": "lines",
         "name": "neutral",
         "type": "scatter",
         "x": [
          1850,
          1851,
          1852,
          1853,
          1854,
          1855,
          1856,
          1857,
          1858,
          1859,
          1860,
          1861,
          1862,
          1863,
          1864,
          1865,
          1866,
          1867,
          1868,
          1869,
          1870,
          1871,
          1872,
          1873,
          1874,
          1875,
          1876,
          1877,
          1878,
          1879,
          1880,
          1881,
          1882,
          1883,
          1884,
          1885,
          1886,
          1887,
          1888,
          1889,
          1890,
          1891,
          1892,
          1893,
          1894,
          1895,
          1896,
          1897,
          1898,
          1899,
          1900,
          1901,
          1902,
          1903,
          1904,
          1905,
          1906,
          1907,
          1908,
          1909,
          1910,
          1911,
          1912,
          1913,
          1914,
          1915,
          1916,
          1917,
          1918
         ],
         "y": [
          null,
          null,
          null,
          null,
          null,
          0.16122250826660342,
          0.1650442114681572,
          0.16424295603130978,
          0.1678463333041105,
          0.1769197705370574,
          0.1726834521020661,
          0.17264114319934243,
          0.17255293855402457,
          0.17612352265209702,
          0.18621028709286166,
          0.18437668688149694,
          0.18453853871790582,
          0.18999026672188726,
          0.1940411117355976,
          0.19077087190172176,
          0.18296362290487306,
          0.1833123209414198,
          0.18258923728702497,
          0.17324327788585145,
          0.15208747883632434,
          0.14274002575604583,
          0.14650225041985815,
          0.15563809055150316,
          0.15614716224810826,
          0.15289637767677242,
          0.16363511258605984,
          0.1725419330610687,
          0.17427494835554197,
          0.17462564312396614,
          0.1886329478248376,
          0.23583166771548902,
          0.2374036153419497,
          0.24561131966017913,
          0.24088738721637665,
          0.2393184526563237,
          0.24344489401291375,
          0.26413149368199534,
          0.2577759072178654,
          0.27021377336770874,
          0.30642557753914235,
          0.29114759319287487,
          0.2807940957774829,
          0.29134107217234634,
          0.3027014599644135,
          0.2963445272625072,
          0.2892042970355418,
          0.3024970768247857,
          0.2711080403241145,
          0.3039079869682418,
          0.3062844296529365,
          0.30242399062898834,
          0.32862190104751027,
          0.3298633409769381,
          0.32788036002491244,
          0.31151226646084906,
          0.31762573324609505,
          0.33447461600490896,
          0.3213134077468208,
          0.31211993067403215,
          null,
          null,
          null,
          null,
          null
         ]
        },
        {
         "line": {
          "color": "#EF553B",
          "width": 6
         },
         "mode": "lines",
         "name": "positiv",
         "type": "scatter",
         "x": [
          1850,
          1851,
          1852,
          1853,
          1854,
          1855,
          1856,
          1857,
          1858,
          1859,
          1860,
          1861,
          1862,
          1863,
          1864,
          1865,
          1866,
          1867,
          1868,
          1869,
          1870,
          1871,
          1872,
          1873,
          1874,
          1875,
          1876,
          1877,
          1878,
          1879,
          1880,
          1881,
          1882,
          1883,
          1884,
          1885,
          1886,
          1887,
          1888,
          1889,
          1890,
          1891,
          1892,
          1893,
          1894,
          1895,
          1896,
          1897,
          1898,
          1899,
          1900,
          1901,
          1902,
          1903,
          1904,
          1905,
          1906,
          1907,
          1908,
          1909,
          1910,
          1911,
          1912,
          1913,
          1914,
          1915,
          1916,
          1917,
          1918
         ],
         "y": [
          null,
          null,
          null,
          null,
          null,
          0.5129499881244085,
          0.4975983747166443,
          0.48482211247326157,
          0.4646181117126413,
          0.4512921439853677,
          0.4477554097416374,
          0.4314272378231807,
          0.43672650693866955,
          0.41694190114915336,
          0.3872947069009135,
          0.39426138292902035,
          0.410926751236485,
          0.4111877848310747,
          0.41068513032293125,
          0.4179216897557319,
          0.4304444946153256,
          0.43348207685284573,
          0.4206481110395687,
          0.4357244958465729,
          0.48406962231758316,
          0.5155584649710518,
          0.49092143704559527,
          0.492371753338511,
          0.5028596297777581,
          0.5097631575765995,
          0.502619815353408,
          0.4872704999590269,
          0.49293462829004914,
          0.4976873434121404,
          0.47062017992605554,
          0.40834482210589995,
          0.37809521312006766,
          0.3747393994334745,
          0.36161925826680713,
          0.35191765520320506,
          0.33141460656941485,
          0.3035191659958387,
          0.32035850157139895,
          0.32340023099235093,
          0.3012015676287127,
          0.310139403274898,
          0.3196552604435277,
          0.35047645789107396,
          0.3631551883968395,
          0.3609206042268335,
          0.33739457315849614,
          0.34137251843905264,
          0.34696298616998456,
          0.31480732405373296,
          0.29531232590647044,
          0.3079822955475385,
          0.3002436531783143,
          0.29741006201630377,
          0.30200133265622386,
          0.3132859156804443,
          0.309372830684195,
          0.32217267897347984,
          0.34779484093982516,
          0.36163108743822947,
          null,
          null,
          null,
          null,
          null
         ]
        },
        {
         "line": {
          "color": "#00CC96",
          "width": 6
         },
         "mode": "lines",
         "name": "negativ",
         "type": "scatter",
         "x": [
          1850,
          1851,
          1852,
          1853,
          1854,
          1855,
          1856,
          1857,
          1858,
          1859,
          1860,
          1861,
          1862,
          1863,
          1864,
          1865,
          1866,
          1867,
          1868,
          1869,
          1870,
          1871,
          1872,
          1873,
          1874,
          1875,
          1876,
          1877,
          1878,
          1879,
          1880,
          1881,
          1882,
          1883,
          1884,
          1885,
          1886,
          1887,
          1888,
          1889,
          1890,
          1891,
          1892,
          1893,
          1894,
          1895,
          1896,
          1897,
          1898,
          1899,
          1900,
          1901,
          1902,
          1903,
          1904,
          1905,
          1906,
          1907,
          1908,
          1909,
          1910,
          1911,
          1912,
          1913,
          1914,
          1915,
          1916,
          1917,
          1918
         ],
         "y": [
          null,
          null,
          null,
          null,
          null,
          0.1895558685928548,
          0.19482374674554145,
          0.21164265584600653,
          0.22259372278550527,
          0.234734752539003,
          0.2469143238960223,
          0.256246039505505,
          0.24724326391716717,
          0.25925019810047684,
          0.2680481106658749,
          0.2669286503566599,
          0.2501941886972336,
          0.24068010703970774,
          0.2391591183541345,
          0.23395497485500263,
          0.23072399638851301,
          0.22433613411257053,
          0.23742951623149663,
          0.23890843541831483,
          0.22289891831700157,
          0.21003699990311783,
          0.22350011398297556,
          0.2155015118211595,
          0.21645504657751277,
          0.20893635353564818,
          0.20961346512593437,
          0.21092244317853703,
          0.2071883181591624,
          0.20836112069652368,
          0.21617137450875576,
          0.23294127263315964,
          0.2450928515634532,
          0.23662742219958752,
          0.2529522309001472,
          0.24934100649571572,
          0.2687193460804568,
          0.27078224825815594,
          0.26496280758020585,
          0.26301533959658907,
          0.25498841191205884,
          0.2533700728487906,
          0.24885566528787825,
          0.2246453773666715,
          0.21670098459460005,
          0.21375324987319783,
          0.22535079001614666,
          0.19624956593755702,
          0.21028157387523747,
          0.2101878097531735,
          0.20874848333838822,
          0.20552175607973902,
          0.19595307533153167,
          0.19825661559327912,
          0.20317329448239843,
          0.20509142670232364,
          0.20350097794299155,
          0.18741671222230982,
          0.18348816646567206,
          0.1669681164509628,
          null,
          null,
          null,
          null,
          null
         ]
        },
        {
         "line": {
          "color": "#AB63FA",
          "width": 6
         },
         "mode": "lines",
         "name": "ambivalent",
         "type": "scatter",
         "x": [
          1850,
          1851,
          1852,
          1853,
          1854,
          1855,
          1856,
          1857,
          1858,
          1859,
          1860,
          1861,
          1862,
          1863,
          1864,
          1865,
          1866,
          1867,
          1868,
          1869,
          1870,
          1871,
          1872,
          1873,
          1874,
          1875,
          1876,
          1877,
          1878,
          1879,
          1880,
          1881,
          1882,
          1883,
          1884,
          1885,
          1886,
          1887,
          1888,
          1889,
          1890,
          1891,
          1892,
          1893,
          1894,
          1895,
          1896,
          1897,
          1898,
          1899,
          1900,
          1901,
          1902,
          1903,
          1904,
          1905,
          1906,
          1907,
          1908,
          1909,
          1910,
          1911,
          1912,
          1913,
          1914,
          1915,
          1916,
          1917,
          1918
         ],
         "y": [
          null,
          null,
          null,
          null,
          null,
          0.13627163501613304,
          0.142533667069657,
          0.13929227564942231,
          0.14494183219774318,
          0.1370533329385717,
          0.1326468142602743,
          0.13968557947197194,
          0.14347729059013856,
          0.14768437809827278,
          0.15844689534034975,
          0.15443327983282257,
          0.15434052134837556,
          0.15814184140733017,
          0.15611463958733665,
          0.15735246348754375,
          0.15586788609128824,
          0.15886946809316385,
          0.15933313544190955,
          0.15212379084926078,
          0.14094398052909077,
          0.1316645093697844,
          0.13907619855157102,
          0.13648864428882632,
          0.12453816139662073,
          0.1284041112109799,
          0.12413160693459768,
          0.12926512380136726,
          0.12560210519524662,
          0.11932589276736977,
          0.12457549774035105,
          0.12288223754545155,
          0.1394083199745292,
          0.1430218587067588,
          0.14454112361666924,
          0.15942288564475574,
          0.1564211533372147,
          0.16156709206401004,
          0.15690278363052987,
          0.14337065604335128,
          0.1373844429200862,
          0.1453429306834365,
          0.15069497849111116,
          0.13353709256990826,
          0.11744236704414684,
          0.12898161863746155,
          0.14805033978981533,
          0.15988083879860454,
          0.17164739963066356,
          0.17109687922485192,
          0.18965476110220503,
          0.18407195774373422,
          0.17518137044264362,
          0.17446998141347903,
          0.1669450128364653,
          0.17011039115638316,
          0.1695004581267183,
          0.15593599279930132,
          0.1474035848476819,
          0.15928086543677583,
          null,
          null,
          null,
          null,
          null
         ]
        },
        {
         "marker": {
          "color": [
           "#636EFA",
           "#EF553B",
           "#00CC96",
           "#AB63FA",
           "#FFA15A",
           "#19D3F3"
          ],
          "size": 14,
          "symbol": "circle"
         },
         "mode": "markers",
         "name": "Kanonisierte Moderne",
         "showlegend": false,
         "type": "scatter",
         "x": [
          1903,
          1903,
          1903,
          1903
         ],
         "y": [
          0.3804347826086957,
          0.2826086956521739,
          0.22826086956521738,
          0.10869565217391304
         ]
        },
        {
         "marker": {
          "color": "black",
          "size": 14,
          "symbol": "circle"
         },
         "mode": "markers",
         "name": "Kanonisierte Moderne",
         "type": "scatter",
         "x": [
          null
         ],
         "y": [
          null
         ]
        },
        {
         "marker": {
          "color": [
           "#636EFA",
           "#EF553B",
           "#00CC96",
           "#AB63FA",
           "#FFA15A",
           "#19D3F3"
          ],
          "size": 14,
          "symbol": "square"
         },
         "mode": "markers",
         "name": "Münchhausen-Kreis",
         "showlegend": false,
         "type": "scatter",
         "x": [
          1905,
          1905,
          1905,
          1905
         ],
         "y": [
          0.2986111111111111,
          0.2847222222222222,
          0.2638888888888889,
          0.1527777777777778
         ]
        },
        {
         "marker": {
          "color": "black",
          "size": 14,
          "symbol": "square"
         },
         "mode": "markers",
         "name": "Münchhausen-Kreis",
         "type": "scatter",
         "x": [
          null
         ],
         "y": [
          null
         ]
        }
       ],
       "layout": {
        "height": 500,
        "legend": {
         "font": {
          "size": 16
         },
         "traceorder": "normal"
        },
        "template": {
         "data": {
          "bar": [
           {
            "error_x": {
             "color": "#2a3f5f"
            },
            "error_y": {
             "color": "#2a3f5f"
            },
            "marker": {
             "line": {
              "color": "#E5ECF6",
              "width": 0.5
             },
             "pattern": {
              "fillmode": "overlay",
              "size": 10,
              "solidity": 0.2
             }
            },
            "type": "bar"
           }
          ],
          "barpolar": [
           {
            "marker": {
             "line": {
              "color": "#E5ECF6",
              "width": 0.5
             },
             "pattern": {
              "fillmode": "overlay",
              "size": 10,
              "solidity": 0.2
             }
            },
            "type": "barpolar"
           }
          ],
          "carpet": [
           {
            "aaxis": {
             "endlinecolor": "#2a3f5f",
             "gridcolor": "white",
             "linecolor": "white",
             "minorgridcolor": "white",
             "startlinecolor": "#2a3f5f"
            },
            "baxis": {
             "endlinecolor": "#2a3f5f",
             "gridcolor": "white",
             "linecolor": "white",
             "minorgridcolor": "white",
             "startlinecolor": "#2a3f5f"
            },
            "type": "carpet"
           }
          ],
          "choropleth": [
           {
            "colorbar": {
             "outlinewidth": 0,
             "ticks": ""
            },
            "type": "choropleth"
           }
          ],
          "contour": [
           {
            "colorbar": {
             "outlinewidth": 0,
             "ticks": ""
            },
            "colorscale": [
             [
              0,
              "#0d0887"
             ],
             [
              0.1111111111111111,
              "#46039f"
             ],
             [
              0.2222222222222222,
              "#7201a8"
             ],
             [
              0.3333333333333333,
              "#9c179e"
             ],
             [
              0.4444444444444444,
              "#bd3786"
             ],
             [
              0.5555555555555556,
              "#d8576b"
             ],
             [
              0.6666666666666666,
              "#ed7953"
             ],
             [
              0.7777777777777778,
              "#fb9f3a"
             ],
             [
              0.8888888888888888,
              "#fdca26"
             ],
             [
              1,
              "#f0f921"
             ]
            ],
            "type": "contour"
           }
          ],
          "contourcarpet": [
           {
            "colorbar": {
             "outlinewidth": 0,
             "ticks": ""
            },
            "type": "contourcarpet"
           }
          ],
          "heatmap": [
           {
            "colorbar": {
             "outlinewidth": 0,
             "ticks": ""
            },
            "colorscale": [
             [
              0,
              "#0d0887"
             ],
             [
              0.1111111111111111,
              "#46039f"
             ],
             [
              0.2222222222222222,
              "#7201a8"
             ],
             [
              0.3333333333333333,
              "#9c179e"
             ],
             [
              0.4444444444444444,
              "#bd3786"
             ],
             [
              0.5555555555555556,
              "#d8576b"
             ],
             [
              0.6666666666666666,
              "#ed7953"
             ],
             [
              0.7777777777777778,
              "#fb9f3a"
             ],
             [
              0.8888888888888888,
              "#fdca26"
             ],
             [
              1,
              "#f0f921"
             ]
            ],
            "type": "heatmap"
           }
          ],
          "heatmapgl": [
           {
            "colorbar": {
             "outlinewidth": 0,
             "ticks": ""
            },
            "colorscale": [
             [
              0,
              "#0d0887"
             ],
             [
              0.1111111111111111,
              "#46039f"
             ],
             [
              0.2222222222222222,
              "#7201a8"
             ],
             [
              0.3333333333333333,
              "#9c179e"
             ],
             [
              0.4444444444444444,
              "#bd3786"
             ],
             [
              0.5555555555555556,
              "#d8576b"
             ],
             [
              0.6666666666666666,
              "#ed7953"
             ],
             [
              0.7777777777777778,
              "#fb9f3a"
             ],
             [
              0.8888888888888888,
              "#fdca26"
             ],
             [
              1,
              "#f0f921"
             ]
            ],
            "type": "heatmapgl"
           }
          ],
          "histogram": [
           {
            "marker": {
             "pattern": {
              "fillmode": "overlay",
              "size": 10,
              "solidity": 0.2
             }
            },
            "type": "histogram"
           }
          ],
          "histogram2d": [
           {
            "colorbar": {
             "outlinewidth": 0,
             "ticks": ""
            },
            "colorscale": [
             [
              0,
              "#0d0887"
             ],
             [
              0.1111111111111111,
              "#46039f"
             ],
             [
              0.2222222222222222,
              "#7201a8"
             ],
             [
              0.3333333333333333,
              "#9c179e"
             ],
             [
              0.4444444444444444,
              "#bd3786"
             ],
             [
              0.5555555555555556,
              "#d8576b"
             ],
             [
              0.6666666666666666,
              "#ed7953"
             ],
             [
              0.7777777777777778,
              "#fb9f3a"
             ],
             [
              0.8888888888888888,
              "#fdca26"
             ],
             [
              1,
              "#f0f921"
             ]
            ],
            "type": "histogram2d"
           }
          ],
          "histogram2dcontour": [
           {
            "colorbar": {
             "outlinewidth": 0,
             "ticks": ""
            },
            "colorscale": [
             [
              0,
              "#0d0887"
             ],
             [
              0.1111111111111111,
              "#46039f"
             ],
             [
              0.2222222222222222,
              "#7201a8"
             ],
             [
              0.3333333333333333,
              "#9c179e"
             ],
             [
              0.4444444444444444,
              "#bd3786"
             ],
             [
              0.5555555555555556,
              "#d8576b"
             ],
             [
              0.6666666666666666,
              "#ed7953"
             ],
             [
              0.7777777777777778,
              "#fb9f3a"
             ],
             [
              0.8888888888888888,
              "#fdca26"
             ],
             [
              1,
              "#f0f921"
             ]
            ],
            "type": "histogram2dcontour"
           }
          ],
          "mesh3d": [
           {
            "colorbar": {
             "outlinewidth": 0,
             "ticks": ""
            },
            "type": "mesh3d"
           }
          ],
          "parcoords": [
           {
            "line": {
             "colorbar": {
              "outlinewidth": 0,
              "ticks": ""
             }
            },
            "type": "parcoords"
           }
          ],
          "pie": [
           {
            "automargin": true,
            "type": "pie"
           }
          ],
          "scatter": [
           {
            "fillpattern": {
             "fillmode": "overlay",
             "size": 10,
             "solidity": 0.2
            },
            "type": "scatter"
           }
          ],
          "scatter3d": [
           {
            "line": {
             "colorbar": {
              "outlinewidth": 0,
              "ticks": ""
             }
            },
            "marker": {
             "colorbar": {
              "outlinewidth": 0,
              "ticks": ""
             }
            },
            "type": "scatter3d"
           }
          ],
          "scattercarpet": [
           {
            "marker": {
             "colorbar": {
              "outlinewidth": 0,
              "ticks": ""
             }
            },
            "type": "scattercarpet"
           }
          ],
          "scattergeo": [
           {
            "marker": {
             "colorbar": {
              "outlinewidth": 0,
              "ticks": ""
             }
            },
            "type": "scattergeo"
           }
          ],
          "scattergl": [
           {
            "marker": {
             "colorbar": {
              "outlinewidth": 0,
              "ticks": ""
             }
            },
            "type": "scattergl"
           }
          ],
          "scattermapbox": [
           {
            "marker": {
             "colorbar": {
              "outlinewidth": 0,
              "ticks": ""
             }
            },
            "type": "scattermapbox"
           }
          ],
          "scatterpolar": [
           {
            "marker": {
             "colorbar": {
              "outlinewidth": 0,
              "ticks": ""
             }
            },
            "type": "scatterpolar"
           }
          ],
          "scatterpolargl": [
           {
            "marker": {
             "colorbar": {
              "outlinewidth": 0,
              "ticks": ""
             }
            },
            "type": "scatterpolargl"
           }
          ],
          "scatterternary": [
           {
            "marker": {
             "colorbar": {
              "outlinewidth": 0,
              "ticks": ""
             }
            },
            "type": "scatterternary"
           }
          ],
          "surface": [
           {
            "colorbar": {
             "outlinewidth": 0,
             "ticks": ""
            },
            "colorscale": [
             [
              0,
              "#0d0887"
             ],
             [
              0.1111111111111111,
              "#46039f"
             ],
             [
              0.2222222222222222,
              "#7201a8"
             ],
             [
              0.3333333333333333,
              "#9c179e"
             ],
             [
              0.4444444444444444,
              "#bd3786"
             ],
             [
              0.5555555555555556,
              "#d8576b"
             ],
             [
              0.6666666666666666,
              "#ed7953"
             ],
             [
              0.7777777777777778,
              "#fb9f3a"
             ],
             [
              0.8888888888888888,
              "#fdca26"
             ],
             [
              1,
              "#f0f921"
             ]
            ],
            "type": "surface"
           }
          ],
          "table": [
           {
            "cells": {
             "fill": {
              "color": "#EBF0F8"
             },
             "line": {
              "color": "white"
             }
            },
            "header": {
             "fill": {
              "color": "#C8D4E3"
             },
             "line": {
              "color": "white"
             }
            },
            "type": "table"
           }
          ]
         },
         "layout": {
          "annotationdefaults": {
           "arrowcolor": "#2a3f5f",
           "arrowhead": 0,
           "arrowwidth": 1
          },
          "autotypenumbers": "strict",
          "coloraxis": {
           "colorbar": {
            "outlinewidth": 0,
            "ticks": ""
           }
          },
          "colorscale": {
           "diverging": [
            [
             0,
             "#8e0152"
            ],
            [
             0.1,
             "#c51b7d"
            ],
            [
             0.2,
             "#de77ae"
            ],
            [
             0.3,
             "#f1b6da"
            ],
            [
             0.4,
             "#fde0ef"
            ],
            [
             0.5,
             "#f7f7f7"
            ],
            [
             0.6,
             "#e6f5d0"
            ],
            [
             0.7,
             "#b8e186"
            ],
            [
             0.8,
             "#7fbc41"
            ],
            [
             0.9,
             "#4d9221"
            ],
            [
             1,
             "#276419"
            ]
           ],
           "sequential": [
            [
             0,
             "#0d0887"
            ],
            [
             0.1111111111111111,
             "#46039f"
            ],
            [
             0.2222222222222222,
             "#7201a8"
            ],
            [
             0.3333333333333333,
             "#9c179e"
            ],
            [
             0.4444444444444444,
             "#bd3786"
            ],
            [
             0.5555555555555556,
             "#d8576b"
            ],
            [
             0.6666666666666666,
             "#ed7953"
            ],
            [
             0.7777777777777778,
             "#fb9f3a"
            ],
            [
             0.8888888888888888,
             "#fdca26"
            ],
            [
             1,
             "#f0f921"
            ]
           ],
           "sequentialminus": [
            [
             0,
             "#0d0887"
            ],
            [
             0.1111111111111111,
             "#46039f"
            ],
            [
             0.2222222222222222,
             "#7201a8"
            ],
            [
             0.3333333333333333,
             "#9c179e"
            ],
            [
             0.4444444444444444,
             "#bd3786"
            ],
            [
             0.5555555555555556,
             "#d8576b"
            ],
            [
             0.6666666666666666,
             "#ed7953"
            ],
            [
             0.7777777777777778,
             "#fb9f3a"
            ],
            [
             0.8888888888888888,
             "#fdca26"
            ],
            [
             1,
             "#f0f921"
            ]
           ]
          },
          "colorway": [
           "#636efa",
           "#EF553B",
           "#00cc96",
           "#ab63fa",
           "#FFA15A",
           "#19d3f3",
           "#FF6692",
           "#B6E880",
           "#FF97FF",
           "#FECB52"
          ],
          "font": {
           "color": "#2a3f5f"
          },
          "geo": {
           "bgcolor": "white",
           "lakecolor": "white",
           "landcolor": "#E5ECF6",
           "showlakes": true,
           "showland": true,
           "subunitcolor": "white"
          },
          "hoverlabel": {
           "align": "left"
          },
          "hovermode": "closest",
          "mapbox": {
           "style": "light"
          },
          "paper_bgcolor": "white",
          "plot_bgcolor": "#E5ECF6",
          "polar": {
           "angularaxis": {
            "gridcolor": "white",
            "linecolor": "white",
            "ticks": ""
           },
           "bgcolor": "#E5ECF6",
           "radialaxis": {
            "gridcolor": "white",
            "linecolor": "white",
            "ticks": ""
           }
          },
          "scene": {
           "xaxis": {
            "backgroundcolor": "#E5ECF6",
            "gridcolor": "white",
            "gridwidth": 2,
            "linecolor": "white",
            "showbackground": true,
            "ticks": "",
            "zerolinecolor": "white"
           },
           "yaxis": {
            "backgroundcolor": "#E5ECF6",
            "gridcolor": "white",
            "gridwidth": 2,
            "linecolor": "white",
            "showbackground": true,
            "ticks": "",
            "zerolinecolor": "white"
           },
           "zaxis": {
            "backgroundcolor": "#E5ECF6",
            "gridcolor": "white",
            "gridwidth": 2,
            "linecolor": "white",
            "showbackground": true,
            "ticks": "",
            "zerolinecolor": "white"
           }
          },
          "shapedefaults": {
           "line": {
            "color": "#2a3f5f"
           }
          },
          "ternary": {
           "aaxis": {
            "gridcolor": "white",
            "linecolor": "white",
            "ticks": ""
           },
           "baxis": {
            "gridcolor": "white",
            "linecolor": "white",
            "ticks": ""
           },
           "bgcolor": "#E5ECF6",
           "caxis": {
            "gridcolor": "white",
            "linecolor": "white",
            "ticks": ""
           }
          },
          "title": {
           "x": 0.05
          },
          "xaxis": {
           "automargin": true,
           "gridcolor": "white",
           "linecolor": "white",
           "ticks": "",
           "title": {
            "standoff": 15
           },
           "zerolinecolor": "white",
           "zerolinewidth": 2
          },
          "yaxis": {
           "automargin": true,
           "gridcolor": "white",
           "linecolor": "white",
           "ticks": "",
           "title": {
            "standoff": 15
           },
           "zerolinecolor": "white",
           "zerolinewidth": 2
          }
         }
        },
        "width": 900,
        "xaxis": {
         "autorange": true,
         "range": [
          1850,
          1918
         ],
         "tickfont": {
          "size": 16
         },
         "title": {
          "font": {
           "size": 16
          }
         },
         "type": "linear"
        },
        "yaxis": {
         "autorange": true,
         "range": [
          0.07263529544435463,
          0.5388702107356148
         ],
         "tickfont": {
          "size": 16
         },
         "title": {
          "font": {
           "size": 16
          },
          "text": "Anteil"
         },
         "type": "linear"
        }
       }
      },
      "text/html": [
       "<div>                            <div id=\"64a34d13-78b7-4f8c-97d7-53caccfc3a3c\" class=\"plotly-graph-div\" style=\"height:500px; width:900px;\"></div>            <script type=\"text/javascript\">                require([\"plotly\"], function(Plotly) {                    window.PLOTLYENV=window.PLOTLYENV || {};                                    if (document.getElementById(\"64a34d13-78b7-4f8c-97d7-53caccfc3a3c\")) {                    Plotly.newPlot(                        \"64a34d13-78b7-4f8c-97d7-53caccfc3a3c\",                        [{\"line\":{\"color\":\"#636EFA\",\"width\":6},\"mode\":\"lines\",\"name\":\"neutral\",\"x\":[1850,1851,1852,1853,1854,1855,1856,1857,1858,1859,1860,1861,1862,1863,1864,1865,1866,1867,1868,1869,1870,1871,1872,1873,1874,1875,1876,1877,1878,1879,1880,1881,1882,1883,1884,1885,1886,1887,1888,1889,1890,1891,1892,1893,1894,1895,1896,1897,1898,1899,1900,1901,1902,1903,1904,1905,1906,1907,1908,1909,1910,1911,1912,1913,1914,1915,1916,1917,1918],\"y\":[null,null,null,null,null,0.16122250826660342,0.1650442114681572,0.16424295603130978,0.1678463333041105,0.1769197705370574,0.1726834521020661,0.17264114319934243,0.17255293855402457,0.17612352265209702,0.18621028709286166,0.18437668688149694,0.18453853871790582,0.18999026672188726,0.1940411117355976,0.19077087190172176,0.18296362290487306,0.1833123209414198,0.18258923728702497,0.17324327788585145,0.15208747883632434,0.14274002575604583,0.14650225041985815,0.15563809055150316,0.15614716224810826,0.15289637767677242,0.16363511258605984,0.1725419330610687,0.17427494835554197,0.17462564312396614,0.1886329478248376,0.23583166771548902,0.2374036153419497,0.24561131966017913,0.24088738721637665,0.2393184526563237,0.24344489401291375,0.26413149368199534,0.2577759072178654,0.27021377336770874,0.30642557753914235,0.29114759319287487,0.2807940957774829,0.29134107217234634,0.3027014599644135,0.2963445272625072,0.2892042970355418,0.3024970768247857,0.2711080403241145,0.3039079869682418,0.3062844296529365,0.30242399062898834,0.32862190104751027,0.3298633409769381,0.32788036002491244,0.31151226646084906,0.31762573324609505,0.33447461600490896,0.3213134077468208,0.31211993067403215,null,null,null,null,null],\"type\":\"scatter\"},{\"line\":{\"color\":\"#EF553B\",\"width\":6},\"mode\":\"lines\",\"name\":\"positiv\",\"x\":[1850,1851,1852,1853,1854,1855,1856,1857,1858,1859,1860,1861,1862,1863,1864,1865,1866,1867,1868,1869,1870,1871,1872,1873,1874,1875,1876,1877,1878,1879,1880,1881,1882,1883,1884,1885,1886,1887,1888,1889,1890,1891,1892,1893,1894,1895,1896,1897,1898,1899,1900,1901,1902,1903,1904,1905,1906,1907,1908,1909,1910,1911,1912,1913,1914,1915,1916,1917,1918],\"y\":[null,null,null,null,null,0.5129499881244085,0.4975983747166443,0.48482211247326157,0.4646181117126413,0.4512921439853677,0.4477554097416374,0.4314272378231807,0.43672650693866955,0.41694190114915336,0.3872947069009135,0.39426138292902035,0.410926751236485,0.4111877848310747,0.41068513032293125,0.4179216897557319,0.4304444946153256,0.43348207685284573,0.4206481110395687,0.4357244958465729,0.48406962231758316,0.5155584649710518,0.49092143704559527,0.492371753338511,0.5028596297777581,0.5097631575765995,0.502619815353408,0.4872704999590269,0.49293462829004914,0.4976873434121404,0.47062017992605554,0.40834482210589995,0.37809521312006766,0.3747393994334745,0.36161925826680713,0.35191765520320506,0.33141460656941485,0.3035191659958387,0.32035850157139895,0.32340023099235093,0.3012015676287127,0.310139403274898,0.3196552604435277,0.35047645789107396,0.3631551883968395,0.3609206042268335,0.33739457315849614,0.34137251843905264,0.34696298616998456,0.31480732405373296,0.29531232590647044,0.3079822955475385,0.3002436531783143,0.29741006201630377,0.30200133265622386,0.3132859156804443,0.309372830684195,0.32217267897347984,0.34779484093982516,0.36163108743822947,null,null,null,null,null],\"type\":\"scatter\"},{\"line\":{\"color\":\"#00CC96\",\"width\":6},\"mode\":\"lines\",\"name\":\"negativ\",\"x\":[1850,1851,1852,1853,1854,1855,1856,1857,1858,1859,1860,1861,1862,1863,1864,1865,1866,1867,1868,1869,1870,1871,1872,1873,1874,1875,1876,1877,1878,1879,1880,1881,1882,1883,1884,1885,1886,1887,1888,1889,1890,1891,1892,1893,1894,1895,1896,1897,1898,1899,1900,1901,1902,1903,1904,1905,1906,1907,1908,1909,1910,1911,1912,1913,1914,1915,1916,1917,1918],\"y\":[null,null,null,null,null,0.1895558685928548,0.19482374674554145,0.21164265584600653,0.22259372278550527,0.234734752539003,0.2469143238960223,0.256246039505505,0.24724326391716717,0.25925019810047684,0.2680481106658749,0.2669286503566599,0.2501941886972336,0.24068010703970774,0.2391591183541345,0.23395497485500263,0.23072399638851301,0.22433613411257053,0.23742951623149663,0.23890843541831483,0.22289891831700157,0.21003699990311783,0.22350011398297556,0.2155015118211595,0.21645504657751277,0.20893635353564818,0.20961346512593437,0.21092244317853703,0.2071883181591624,0.20836112069652368,0.21617137450875576,0.23294127263315964,0.2450928515634532,0.23662742219958752,0.2529522309001472,0.24934100649571572,0.2687193460804568,0.27078224825815594,0.26496280758020585,0.26301533959658907,0.25498841191205884,0.2533700728487906,0.24885566528787825,0.2246453773666715,0.21670098459460005,0.21375324987319783,0.22535079001614666,0.19624956593755702,0.21028157387523747,0.2101878097531735,0.20874848333838822,0.20552175607973902,0.19595307533153167,0.19825661559327912,0.20317329448239843,0.20509142670232364,0.20350097794299155,0.18741671222230982,0.18348816646567206,0.1669681164509628,null,null,null,null,null],\"type\":\"scatter\"},{\"line\":{\"color\":\"#AB63FA\",\"width\":6},\"mode\":\"lines\",\"name\":\"ambivalent\",\"x\":[1850,1851,1852,1853,1854,1855,1856,1857,1858,1859,1860,1861,1862,1863,1864,1865,1866,1867,1868,1869,1870,1871,1872,1873,1874,1875,1876,1877,1878,1879,1880,1881,1882,1883,1884,1885,1886,1887,1888,1889,1890,1891,1892,1893,1894,1895,1896,1897,1898,1899,1900,1901,1902,1903,1904,1905,1906,1907,1908,1909,1910,1911,1912,1913,1914,1915,1916,1917,1918],\"y\":[null,null,null,null,null,0.13627163501613304,0.142533667069657,0.13929227564942231,0.14494183219774318,0.1370533329385717,0.1326468142602743,0.13968557947197194,0.14347729059013856,0.14768437809827278,0.15844689534034975,0.15443327983282257,0.15434052134837556,0.15814184140733017,0.15611463958733665,0.15735246348754375,0.15586788609128824,0.15886946809316385,0.15933313544190955,0.15212379084926078,0.14094398052909077,0.1316645093697844,0.13907619855157102,0.13648864428882632,0.12453816139662073,0.1284041112109799,0.12413160693459768,0.12926512380136726,0.12560210519524662,0.11932589276736977,0.12457549774035105,0.12288223754545155,0.1394083199745292,0.1430218587067588,0.14454112361666924,0.15942288564475574,0.1564211533372147,0.16156709206401004,0.15690278363052987,0.14337065604335128,0.1373844429200862,0.1453429306834365,0.15069497849111116,0.13353709256990826,0.11744236704414684,0.12898161863746155,0.14805033978981533,0.15988083879860454,0.17164739963066356,0.17109687922485192,0.18965476110220503,0.18407195774373422,0.17518137044264362,0.17446998141347903,0.1669450128364653,0.17011039115638316,0.1695004581267183,0.15593599279930132,0.1474035848476819,0.15928086543677583,null,null,null,null,null],\"type\":\"scatter\"},{\"marker\":{\"color\":[\"#636EFA\",\"#EF553B\",\"#00CC96\",\"#AB63FA\",\"#FFA15A\",\"#19D3F3\"],\"size\":14,\"symbol\":\"circle\"},\"mode\":\"markers\",\"name\":\"Kanonisierte Moderne\",\"showlegend\":false,\"x\":[1903.0,1903.0,1903.0,1903.0],\"y\":[0.3804347826086957,0.2826086956521739,0.22826086956521738,0.10869565217391304],\"type\":\"scatter\"},{\"marker\":{\"color\":\"black\",\"size\":14,\"symbol\":\"circle\"},\"mode\":\"markers\",\"name\":\"Kanonisierte Moderne\",\"x\":[null],\"y\":[null],\"type\":\"scatter\"},{\"marker\":{\"color\":[\"#636EFA\",\"#EF553B\",\"#00CC96\",\"#AB63FA\",\"#FFA15A\",\"#19D3F3\"],\"size\":14,\"symbol\":\"square\"},\"mode\":\"markers\",\"name\":\"Münchhausen-Kreis\",\"showlegend\":false,\"x\":[1905.0,1905.0,1905.0,1905.0],\"y\":[0.2986111111111111,0.2847222222222222,0.2638888888888889,0.1527777777777778],\"type\":\"scatter\"},{\"marker\":{\"color\":\"black\",\"size\":14,\"symbol\":\"square\"},\"mode\":\"markers\",\"name\":\"Münchhausen-Kreis\",\"x\":[null],\"y\":[null],\"type\":\"scatter\"}],                        {\"template\":{\"data\":{\"histogram2dcontour\":[{\"type\":\"histogram2dcontour\",\"colorbar\":{\"outlinewidth\":0,\"ticks\":\"\"},\"colorscale\":[[0.0,\"#0d0887\"],[0.1111111111111111,\"#46039f\"],[0.2222222222222222,\"#7201a8\"],[0.3333333333333333,\"#9c179e\"],[0.4444444444444444,\"#bd3786\"],[0.5555555555555556,\"#d8576b\"],[0.6666666666666666,\"#ed7953\"],[0.7777777777777778,\"#fb9f3a\"],[0.8888888888888888,\"#fdca26\"],[1.0,\"#f0f921\"]]}],\"choropleth\":[{\"type\":\"choropleth\",\"colorbar\":{\"outlinewidth\":0,\"ticks\":\"\"}}],\"histogram2d\":[{\"type\":\"histogram2d\",\"colorbar\":{\"outlinewidth\":0,\"ticks\":\"\"},\"colorscale\":[[0.0,\"#0d0887\"],[0.1111111111111111,\"#46039f\"],[0.2222222222222222,\"#7201a8\"],[0.3333333333333333,\"#9c179e\"],[0.4444444444444444,\"#bd3786\"],[0.5555555555555556,\"#d8576b\"],[0.6666666666666666,\"#ed7953\"],[0.7777777777777778,\"#fb9f3a\"],[0.8888888888888888,\"#fdca26\"],[1.0,\"#f0f921\"]]}],\"heatmap\":[{\"type\":\"heatmap\",\"colorbar\":{\"outlinewidth\":0,\"ticks\":\"\"},\"colorscale\":[[0.0,\"#0d0887\"],[0.1111111111111111,\"#46039f\"],[0.2222222222222222,\"#7201a8\"],[0.3333333333333333,\"#9c179e\"],[0.4444444444444444,\"#bd3786\"],[0.5555555555555556,\"#d8576b\"],[0.6666666666666666,\"#ed7953\"],[0.7777777777777778,\"#fb9f3a\"],[0.8888888888888888,\"#fdca26\"],[1.0,\"#f0f921\"]]}],\"heatmapgl\":[{\"type\":\"heatmapgl\",\"colorbar\":{\"outlinewidth\":0,\"ticks\":\"\"},\"colorscale\":[[0.0,\"#0d0887\"],[0.1111111111111111,\"#46039f\"],[0.2222222222222222,\"#7201a8\"],[0.3333333333333333,\"#9c179e\"],[0.4444444444444444,\"#bd3786\"],[0.5555555555555556,\"#d8576b\"],[0.6666666666666666,\"#ed7953\"],[0.7777777777777778,\"#fb9f3a\"],[0.8888888888888888,\"#fdca26\"],[1.0,\"#f0f921\"]]}],\"contourcarpet\":[{\"type\":\"contourcarpet\",\"colorbar\":{\"outlinewidth\":0,\"ticks\":\"\"}}],\"contour\":[{\"type\":\"contour\",\"colorbar\":{\"outlinewidth\":0,\"ticks\":\"\"},\"colorscale\":[[0.0,\"#0d0887\"],[0.1111111111111111,\"#46039f\"],[0.2222222222222222,\"#7201a8\"],[0.3333333333333333,\"#9c179e\"],[0.4444444444444444,\"#bd3786\"],[0.5555555555555556,\"#d8576b\"],[0.6666666666666666,\"#ed7953\"],[0.7777777777777778,\"#fb9f3a\"],[0.8888888888888888,\"#fdca26\"],[1.0,\"#f0f921\"]]}],\"surface\":[{\"type\":\"surface\",\"colorbar\":{\"outlinewidth\":0,\"ticks\":\"\"},\"colorscale\":[[0.0,\"#0d0887\"],[0.1111111111111111,\"#46039f\"],[0.2222222222222222,\"#7201a8\"],[0.3333333333333333,\"#9c179e\"],[0.4444444444444444,\"#bd3786\"],[0.5555555555555556,\"#d8576b\"],[0.6666666666666666,\"#ed7953\"],[0.7777777777777778,\"#fb9f3a\"],[0.8888888888888888,\"#fdca26\"],[1.0,\"#f0f921\"]]}],\"mesh3d\":[{\"type\":\"mesh3d\",\"colorbar\":{\"outlinewidth\":0,\"ticks\":\"\"}}],\"scatter\":[{\"fillpattern\":{\"fillmode\":\"overlay\",\"size\":10,\"solidity\":0.2},\"type\":\"scatter\"}],\"parcoords\":[{\"type\":\"parcoords\",\"line\":{\"colorbar\":{\"outlinewidth\":0,\"ticks\":\"\"}}}],\"scatterpolargl\":[{\"type\":\"scatterpolargl\",\"marker\":{\"colorbar\":{\"outlinewidth\":0,\"ticks\":\"\"}}}],\"bar\":[{\"error_x\":{\"color\":\"#2a3f5f\"},\"error_y\":{\"color\":\"#2a3f5f\"},\"marker\":{\"line\":{\"color\":\"#E5ECF6\",\"width\":0.5},\"pattern\":{\"fillmode\":\"overlay\",\"size\":10,\"solidity\":0.2}},\"type\":\"bar\"}],\"scattergeo\":[{\"type\":\"scattergeo\",\"marker\":{\"colorbar\":{\"outlinewidth\":0,\"ticks\":\"\"}}}],\"scatterpolar\":[{\"type\":\"scatterpolar\",\"marker\":{\"colorbar\":{\"outlinewidth\":0,\"ticks\":\"\"}}}],\"histogram\":[{\"marker\":{\"pattern\":{\"fillmode\":\"overlay\",\"size\":10,\"solidity\":0.2}},\"type\":\"histogram\"}],\"scattergl\":[{\"type\":\"scattergl\",\"marker\":{\"colorbar\":{\"outlinewidth\":0,\"ticks\":\"\"}}}],\"scatter3d\":[{\"type\":\"scatter3d\",\"line\":{\"colorbar\":{\"outlinewidth\":0,\"ticks\":\"\"}},\"marker\":{\"colorbar\":{\"outlinewidth\":0,\"ticks\":\"\"}}}],\"scattermapbox\":[{\"type\":\"scattermapbox\",\"marker\":{\"colorbar\":{\"outlinewidth\":0,\"ticks\":\"\"}}}],\"scatterternary\":[{\"type\":\"scatterternary\",\"marker\":{\"colorbar\":{\"outlinewidth\":0,\"ticks\":\"\"}}}],\"scattercarpet\":[{\"type\":\"scattercarpet\",\"marker\":{\"colorbar\":{\"outlinewidth\":0,\"ticks\":\"\"}}}],\"carpet\":[{\"aaxis\":{\"endlinecolor\":\"#2a3f5f\",\"gridcolor\":\"white\",\"linecolor\":\"white\",\"minorgridcolor\":\"white\",\"startlinecolor\":\"#2a3f5f\"},\"baxis\":{\"endlinecolor\":\"#2a3f5f\",\"gridcolor\":\"white\",\"linecolor\":\"white\",\"minorgridcolor\":\"white\",\"startlinecolor\":\"#2a3f5f\"},\"type\":\"carpet\"}],\"table\":[{\"cells\":{\"fill\":{\"color\":\"#EBF0F8\"},\"line\":{\"color\":\"white\"}},\"header\":{\"fill\":{\"color\":\"#C8D4E3\"},\"line\":{\"color\":\"white\"}},\"type\":\"table\"}],\"barpolar\":[{\"marker\":{\"line\":{\"color\":\"#E5ECF6\",\"width\":0.5},\"pattern\":{\"fillmode\":\"overlay\",\"size\":10,\"solidity\":0.2}},\"type\":\"barpolar\"}],\"pie\":[{\"automargin\":true,\"type\":\"pie\"}]},\"layout\":{\"autotypenumbers\":\"strict\",\"colorway\":[\"#636efa\",\"#EF553B\",\"#00cc96\",\"#ab63fa\",\"#FFA15A\",\"#19d3f3\",\"#FF6692\",\"#B6E880\",\"#FF97FF\",\"#FECB52\"],\"font\":{\"color\":\"#2a3f5f\"},\"hovermode\":\"closest\",\"hoverlabel\":{\"align\":\"left\"},\"paper_bgcolor\":\"white\",\"plot_bgcolor\":\"#E5ECF6\",\"polar\":{\"bgcolor\":\"#E5ECF6\",\"angularaxis\":{\"gridcolor\":\"white\",\"linecolor\":\"white\",\"ticks\":\"\"},\"radialaxis\":{\"gridcolor\":\"white\",\"linecolor\":\"white\",\"ticks\":\"\"}},\"ternary\":{\"bgcolor\":\"#E5ECF6\",\"aaxis\":{\"gridcolor\":\"white\",\"linecolor\":\"white\",\"ticks\":\"\"},\"baxis\":{\"gridcolor\":\"white\",\"linecolor\":\"white\",\"ticks\":\"\"},\"caxis\":{\"gridcolor\":\"white\",\"linecolor\":\"white\",\"ticks\":\"\"}},\"coloraxis\":{\"colorbar\":{\"outlinewidth\":0,\"ticks\":\"\"}},\"colorscale\":{\"sequential\":[[0.0,\"#0d0887\"],[0.1111111111111111,\"#46039f\"],[0.2222222222222222,\"#7201a8\"],[0.3333333333333333,\"#9c179e\"],[0.4444444444444444,\"#bd3786\"],[0.5555555555555556,\"#d8576b\"],[0.6666666666666666,\"#ed7953\"],[0.7777777777777778,\"#fb9f3a\"],[0.8888888888888888,\"#fdca26\"],[1.0,\"#f0f921\"]],\"sequentialminus\":[[0.0,\"#0d0887\"],[0.1111111111111111,\"#46039f\"],[0.2222222222222222,\"#7201a8\"],[0.3333333333333333,\"#9c179e\"],[0.4444444444444444,\"#bd3786\"],[0.5555555555555556,\"#d8576b\"],[0.6666666666666666,\"#ed7953\"],[0.7777777777777778,\"#fb9f3a\"],[0.8888888888888888,\"#fdca26\"],[1.0,\"#f0f921\"]],\"diverging\":[[0,\"#8e0152\"],[0.1,\"#c51b7d\"],[0.2,\"#de77ae\"],[0.3,\"#f1b6da\"],[0.4,\"#fde0ef\"],[0.5,\"#f7f7f7\"],[0.6,\"#e6f5d0\"],[0.7,\"#b8e186\"],[0.8,\"#7fbc41\"],[0.9,\"#4d9221\"],[1,\"#276419\"]]},\"xaxis\":{\"gridcolor\":\"white\",\"linecolor\":\"white\",\"ticks\":\"\",\"title\":{\"standoff\":15},\"zerolinecolor\":\"white\",\"automargin\":true,\"zerolinewidth\":2},\"yaxis\":{\"gridcolor\":\"white\",\"linecolor\":\"white\",\"ticks\":\"\",\"title\":{\"standoff\":15},\"zerolinecolor\":\"white\",\"automargin\":true,\"zerolinewidth\":2},\"scene\":{\"xaxis\":{\"backgroundcolor\":\"#E5ECF6\",\"gridcolor\":\"white\",\"linecolor\":\"white\",\"showbackground\":true,\"ticks\":\"\",\"zerolinecolor\":\"white\",\"gridwidth\":2},\"yaxis\":{\"backgroundcolor\":\"#E5ECF6\",\"gridcolor\":\"white\",\"linecolor\":\"white\",\"showbackground\":true,\"ticks\":\"\",\"zerolinecolor\":\"white\",\"gridwidth\":2},\"zaxis\":{\"backgroundcolor\":\"#E5ECF6\",\"gridcolor\":\"white\",\"linecolor\":\"white\",\"showbackground\":true,\"ticks\":\"\",\"zerolinecolor\":\"white\",\"gridwidth\":2}},\"shapedefaults\":{\"line\":{\"color\":\"#2a3f5f\"}},\"annotationdefaults\":{\"arrowcolor\":\"#2a3f5f\",\"arrowhead\":0,\"arrowwidth\":1},\"geo\":{\"bgcolor\":\"white\",\"landcolor\":\"#E5ECF6\",\"subunitcolor\":\"white\",\"showland\":true,\"showlakes\":true,\"lakecolor\":\"white\"},\"title\":{\"x\":0.05},\"mapbox\":{\"style\":\"light\"}}},\"xaxis\":{\"tickfont\":{\"size\":16},\"title\":{\"font\":{\"size\":16}}},\"yaxis\":{\"tickfont\":{\"size\":16},\"title\":{\"text\":\"Anteil\",\"font\":{\"size\":16}}},\"legend\":{\"font\":{\"size\":16},\"traceorder\":\"normal\"},\"width\":900,\"height\":500},                        {\"responsive\": true}                    ).then(function(){\n",
       "                            \n",
       "var gd = document.getElementById('64a34d13-78b7-4f8c-97d7-53caccfc3a3c');\n",
       "var x = new MutationObserver(function (mutations, observer) {{\n",
       "        var display = window.getComputedStyle(gd).display;\n",
       "        if (!display || display === 'none') {{\n",
       "            console.log([gd, 'removed!']);\n",
       "            Plotly.purge(gd);\n",
       "            observer.disconnect();\n",
       "        }}\n",
       "}});\n",
       "\n",
       "// Listen for the removal of the full notebook cells\n",
       "var notebookContainer = gd.closest('#notebook-container');\n",
       "if (notebookContainer) {{\n",
       "    x.observe(notebookContainer, {childList: true});\n",
       "}}\n",
       "\n",
       "// Listen for the clearing of the current output cell\n",
       "var outputEl = gd.closest('.output');\n",
       "if (outputEl) {{\n",
       "    x.observe(outputEl, {childList: true});\n",
       "}}\n",
       "\n",
       "                        })                };                });            </script>        </div>"
      ]
     },
     "metadata": {},
     "output_type": "display_data"
    }
   ],
   "source": [
    "meta_plot = ts[[\n",
    "    'ratings_neutral_share_smoothed', \n",
    "    'ratings_positiv_share_smoothed', \n",
    "    'ratings_negativ_share_smoothed',\n",
    "    'ratings_ambivalent_share_smoothed'\n",
    "]]\n",
    "meta_plot.columns = [\n",
    "    'neutral', \n",
    "    'positiv', \n",
    "    'negativ',\n",
    "    'ambivalent'\n",
    "]\n",
    "\n",
    "fig = create_ts_plot(\n",
    "    data = meta_plot, \n",
    "    columns = meta_plot.columns, \n",
    "    y_axis_title = 'Anteil',\n",
    "    add_corporas = sub_df, add_corpora_names = sub_names,\n",
    "    add_corpora_categories = ['stoffgebiet_neutral_share', 'stoffgebiet_positiv_share', 'stoffgebiet_negativ_share', 'stoffgebiet_ambivalent_share']\n",
    ")\n",
    "fig.show()"
   ]
  }
 ],
 "metadata": {
  "kernelspec": {
   "display_name": "Python 3 (ipykernel)",
   "language": "python",
   "name": "python3"
  },
  "language_info": {
   "codemirror_mode": {
    "name": "ipython",
    "version": 3
   },
   "file_extension": ".py",
   "mimetype": "text/x-python",
   "name": "python",
   "nbconvert_exporter": "python",
   "pygments_lexer": "ipython3",
   "version": "3.12.3"
  }
 },
 "nbformat": 4,
 "nbformat_minor": 5
}
