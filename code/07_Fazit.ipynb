{
 "cells": [
  {
   "cell_type": "markdown",
   "id": "0be523ea",
   "metadata": {},
   "source": [
    "# Kapitel 7: Fazit"
   ]
  },
  {
   "cell_type": "markdown",
   "id": "c7017702",
   "metadata": {},
   "source": [
    "Das Notebook ergänzt Kapitel 7 'Fazit'."
   ]
  },
  {
   "cell_type": "markdown",
   "id": "2cbc902e",
   "metadata": {},
   "source": [
    "# Import"
   ]
  },
  {
   "cell_type": "code",
   "execution_count": 1,
   "id": "56d9863e",
   "metadata": {},
   "outputs": [],
   "source": [
    "import ruptures as rpt\n",
    "import pandas as pd\n",
    "import numpy as np\n",
    "import plotly.express as px\n",
    "import plotly.graph_objects as go\n",
    "\n",
    "from resources_statistics import *\n",
    "from resources_geschichtslyrik import *"
   ]
  },
  {
   "cell_type": "code",
   "execution_count": 2,
   "id": "07cfc172",
   "metadata": {},
   "outputs": [],
   "source": [
    "ts_results = pd.read_csv(\"../resources/more/time_series_results.csv\", index_col=0)"
   ]
  },
  {
   "cell_type": "code",
   "execution_count": 3,
   "id": "81125a0d-fc3a-48f6-9bb9-7340866c1eab",
   "metadata": {},
   "outputs": [],
   "source": [
    "meta = pd.read_json(r\"../resources/meta.json\")\n",
    "\n",
    "meta_anth = (\n",
    "    meta\n",
    "    .query(\"corpus=='anth'\")\n",
    "    .query(\"1850 <= year <= 1918\")\n",
    "    .query(\"geschichtslyrik == 1\")\n",
    "    .drop_duplicates(subset='author_title')\n",
    ")\n",
    "meta_anth_bin = binarize_meta(meta_anth)\n",
    "\n",
    "modcanon_authors = ['Hofmannsthal, Hugo von', 'Rilke, Rainer Maria', 'George, Stefan', 'Heym, Georg']\n",
    "meta_modcanon = (\n",
    "    meta\n",
    "    .query(\"author in @modcanon_authors\")\n",
    "    .query(\"1850 <= year <= 1918\")\n",
    "    .query(\"geschichtslyrik == 1\")\n",
    "    .drop_duplicates(subset='author_title')\n",
    ")\n",
    "meta_modcanon_bin = binarize_meta(meta_modcanon)\n",
    "\n",
    "muench_authors = ['Münchhausen, Börries von', 'Miegel, Agnes', 'Strauß und Torney, Lulu von']\n",
    "meta_muench = (\n",
    "    meta\n",
    "    .query(\"author in @muench_authors\")\n",
    "    .query(\"1850 <= year <= 1918\")\n",
    "    .query(\"geschichtslyrik == 1\")\n",
    "    .drop_duplicates(subset='author_title')\n",
    ")\n",
    "meta_muench_bin = binarize_meta(meta_muench)"
   ]
  },
  {
   "cell_type": "markdown",
   "id": "a326fb64-696f-4614-81d1-af4e906c5881",
   "metadata": {},
   "source": [
    "# Reim"
   ]
  },
  {
   "cell_type": "code",
   "execution_count": 4,
   "id": "7547326e-57bf-4fa8-b642-27a34d466e8d",
   "metadata": {},
   "outputs": [],
   "source": [
    "meta_anth_bin['period'] = [0 if x <= 1884 else 1 for x in meta_anth_bin['year']]"
   ]
  },
  {
   "cell_type": "code",
   "execution_count": 5,
   "id": "ad12db3c-781b-436e-9535-3c95cd30437b",
   "metadata": {},
   "outputs": [
    {
     "name": "stdout",
     "output_type": "stream",
     "text": [
      "Anthologiekorpus 1850–1884 : 0.043090638930163405\n",
      "Anthologiekorpus 1885–1918 : 0.06150793650793651\n",
      "Münchhausen-Kreis          : 0.07857142857142863\n",
      "Kanonisierte Moderne       : 0.08849557522123896\n"
     ]
    }
   ],
   "source": [
    "# Anteil ohne Reim\n",
    "print(f\"Anthologiekorpus 1850–1884 : {1-meta_anth_bin[meta_anth_bin['period'] == 0]['reim'].mean()}\")\n",
    "print(f\"Anthologiekorpus 1885–1918 : {1-meta_anth_bin[meta_anth_bin['period'] == 1]['reim'].mean()}\")\n",
    "print(f\"Münchhausen-Kreis          : {1-meta_muench_bin['reim'].mean()}\")\n",
    "print(f\"Kanonisierte Moderne       : {1-meta_modcanon_bin['reim'].mean()}\")"
   ]
  },
  {
   "cell_type": "code",
   "execution_count": 6,
   "id": "adadaa30-7e2a-4733-bce0-7b667b02b4cd",
   "metadata": {},
   "outputs": [
    {
     "data": {
      "text/html": [
       "<div>\n",
       "<style scoped>\n",
       "    .dataframe tbody tr th:only-of-type {\n",
       "        vertical-align: middle;\n",
       "    }\n",
       "\n",
       "    .dataframe tbody tr th {\n",
       "        vertical-align: top;\n",
       "    }\n",
       "\n",
       "    .dataframe thead th {\n",
       "        text-align: right;\n",
       "    }\n",
       "</style>\n",
       "<table border=\"1\" class=\"dataframe\">\n",
       "  <thead>\n",
       "    <tr style=\"text-align: right;\">\n",
       "      <th>reim</th>\n",
       "      <th>0</th>\n",
       "      <th>1</th>\n",
       "      <th>All</th>\n",
       "      <th>0_share</th>\n",
       "      <th>1_share</th>\n",
       "    </tr>\n",
       "    <tr>\n",
       "      <th>period</th>\n",
       "      <th></th>\n",
       "      <th></th>\n",
       "      <th></th>\n",
       "      <th></th>\n",
       "      <th></th>\n",
       "    </tr>\n",
       "  </thead>\n",
       "  <tbody>\n",
       "    <tr>\n",
       "      <th>0</th>\n",
       "      <td>58</td>\n",
       "      <td>1288</td>\n",
       "      <td>1346</td>\n",
       "      <td>0.043091</td>\n",
       "      <td>0.956909</td>\n",
       "    </tr>\n",
       "    <tr>\n",
       "      <th>1</th>\n",
       "      <td>31</td>\n",
       "      <td>473</td>\n",
       "      <td>504</td>\n",
       "      <td>0.061508</td>\n",
       "      <td>0.938492</td>\n",
       "    </tr>\n",
       "    <tr>\n",
       "      <th>All</th>\n",
       "      <td>89</td>\n",
       "      <td>1761</td>\n",
       "      <td>1850</td>\n",
       "      <td>0.048108</td>\n",
       "      <td>0.951892</td>\n",
       "    </tr>\n",
       "  </tbody>\n",
       "</table>\n",
       "</div>"
      ],
      "text/plain": [
       "reim     0     1   All   0_share   1_share\n",
       "period                                    \n",
       "0       58  1288  1346  0.043091  0.956909\n",
       "1       31   473   504  0.061508  0.938492\n",
       "All     89  1761  1850  0.048108  0.951892"
      ]
     },
     "execution_count": 6,
     "metadata": {},
     "output_type": "execute_result"
    }
   ],
   "source": [
    "contingency_table = pd.crosstab(meta_anth_bin['period'], meta_anth_bin['reim'], margins=True)\n",
    "contingency_table['0_share'] = contingency_table[0]/contingency_table['All']\n",
    "contingency_table['1_share'] = contingency_table[1]/contingency_table['All']\n",
    "\n",
    "contingency_table"
   ]
  },
  {
   "cell_type": "code",
   "execution_count": 7,
   "id": "e0d0af31-fb51-4f53-b912-d28538e55265",
   "metadata": {},
   "outputs": [
    {
     "name": "stdout",
     "output_type": "stream",
     "text": [
      "chi 2    : 2.328833349065778\n",
      "chi 2 p  : 0.12699702553882286\n"
     ]
    }
   ],
   "source": [
    "contingency_table = pd.crosstab(meta_anth_bin['period'], meta_anth_bin['reim'])\n",
    "chi2_results = chi2_contingency(contingency_table)\n",
    "\n",
    "print(f\"chi 2    : {chi2_results[0]}\")\n",
    "print(f\"chi 2 p  : {chi2_results[1]}\")"
   ]
  },
  {
   "cell_type": "markdown",
   "id": "1363bb0a",
   "metadata": {},
   "source": [
    "# Changepoint Detection"
   ]
  },
  {
   "cell_type": "markdown",
   "id": "914b94b2-e6b9-4da2-ad1a-cb1fa8a37a77",
   "metadata": {},
   "source": [
    "### Prepare Data"
   ]
  },
  {
   "cell_type": "code",
   "execution_count": 8,
   "id": "bda8c976",
   "metadata": {},
   "outputs": [
    {
     "data": {
      "text/plain": [
       "['06_03_Gattungen_Ballade',\n",
       " '06_03_Gattungen_Rollengedicht',\n",
       " '06_03_Gattungen_Lied',\n",
       " '06_03_Gattungen_Keine Gattung',\n",
       " '06_04_Haeufigste_Stoffgebiete_Militär/Krieg',\n",
       " '06_04_Haeufigste_Stoffgebiete_Politik',\n",
       " '06_04_Haeufigste_Stoffgebiete_Religion',\n",
       " '06_04_Haeufigste_Stoffgebiete_Tod',\n",
       " '06_05_Entitaeten_Bekanntes Individuum',\n",
       " '06_05_Entitaeten_Unbekanntes Individuum',\n",
       " '06_05_Entitaeten_Kollektiv',\n",
       " '06_05_Entitaeten_Nicht-menschliche Entität',\n",
       " '06_06_Behandelte_Epochen_vor 500',\n",
       " '06_06_Behandelte_Epochen_500 bis 1499',\n",
       " '06_06_Behandelte_Epochen_ab 1500',\n",
       " '06_07_Deutungen_Heroismus',\n",
       " '06_07_Deutungen_Nationalismus',\n",
       " '06_07_Deutungen_Religiosität',\n",
       " '06_08_Geschichtstheorie_Geschichtstheorie',\n",
       " '06_08_Geschichtstheorie_Überlieferung',\n",
       " '06_08_Geschichtstheorie_Geschichtsauffassung',\n",
       " '06_09_Geschichtsmarker_gesamt_Alle Marker',\n",
       " '06_09_Geschichtsmarker_gesamt_Marker im Text',\n",
       " '06_09_Geschichtsmarker_gesamt_Marker im Titel',\n",
       " '06_10_Konkretheit_in hohem Maß konkret',\n",
       " '06_10_Konkretheit_in mittlerem Maß konkret',\n",
       " '06_10_Konkretheit_in geringem Maß/<br>gar nicht konkret']"
      ]
     },
     "execution_count": 8,
     "metadata": {},
     "output_type": "execute_result"
    }
   ],
   "source": [
    "categories = [\n",
    "    '06_03_Gattungen', \n",
    "    '06_04_Haeufigste_Stoffgebiete', \n",
    "    '06_05_Entitaeten', \n",
    "    '06_06_Behandelte_Epochen',\n",
    "    '06_07_Deutungen',\n",
    "    '06_08_Geschichtstheorie',\n",
    "    '06_09_Geschichtsmarker_gesamt',\n",
    "    '06_10_Konkretheit'\n",
    "]\n",
    "ts_results_sub = ts_results[[col for col in ts_results if any(category in col for category in categories)]]\n",
    "\n",
    "ts_results_sub.columns.tolist()"
   ]
  },
  {
   "cell_type": "markdown",
   "id": "3d2ff35c",
   "metadata": {},
   "source": [
    "### Detect Changepoints"
   ]
  },
  {
   "cell_type": "code",
   "execution_count": 9,
   "id": "38f51b7a",
   "metadata": {},
   "outputs": [],
   "source": [
    "algorithms = ['dynp', 'kernel'] + ['binseg', 'bottom_up'] # + ['pelt'] + ['window']\n",
    "costfunctions = ['l2', 'rbf', 'rank', 'normal'] + ['linear', 'l1'] # + ['ar', 'mahalanobis', 'cosine']"
   ]
  },
  {
   "cell_type": "code",
   "execution_count": 10,
   "id": "cf3d6ff4",
   "metadata": {},
   "outputs": [],
   "source": [
    "def detect_changepoints(series, index, algorithm='dynp', costfunction=\"rbf\", n_bkps=1):\n",
    "    match algorithm:\n",
    "        case 'dynp':\n",
    "            try:\n",
    "                algo = rpt.Dynp(model=costfunction, min_size=1, jump=1).fit(series)\n",
    "                changepoints = algo.predict(n_bkps=n_bkps)\n",
    "            except:\n",
    "                return []\n",
    "        case 'binseg':\n",
    "            try:\n",
    "                algo = rpt.Binseg(model=costfunction, min_size=1, jump=1).fit(series)\n",
    "                changepoints = algo.predict(n_bkps=n_bkps)\n",
    "            except:\n",
    "                return []\n",
    "        case 'bottom_up':\n",
    "            try:\n",
    "                algo = rpt.BottomUp(model=costfunction, min_size=1, jump=1).fit(series)\n",
    "                changepoints = algo.predict(n_bkps=n_bkps)\n",
    "            except:\n",
    "                return []\n",
    "        case 'window':\n",
    "            try:\n",
    "                algo = rpt.Window(model=costfunction, min_size=1, jump=1, width=10).fit(series)\n",
    "                changepoints = algo.predict(n_bkps=n_bkps)\n",
    "            except:\n",
    "                return []\n",
    "        case 'pelt':\n",
    "            try:\n",
    "                algo = rpt.Pelt(model=costfunction, min_size=1, jump=1).fit(series)\n",
    "                changepoints = algo.predict(pen=15)\n",
    "            except:\n",
    "                return []\n",
    "        case 'kernel':\n",
    "            try:\n",
    "                algo = rpt.KernelCPD(kernel=costfunction, min_size=1, jump=1).fit(series)\n",
    "                changepoints = algo.predict(n_bkps=n_bkps)\n",
    "            except:\n",
    "                return []\n",
    "            \n",
    "    years = [index[i - 1] for i in changepoints if i < len(index)]  \n",
    "    return years"
   ]
  },
  {
   "cell_type": "code",
   "execution_count": 11,
   "id": "71c594e5",
   "metadata": {},
   "outputs": [
    {
     "name": "stderr",
     "output_type": "stream",
     "text": [
      "/Library/Frameworks/Python.framework/Versions/3.12/lib/python3.12/site-packages/ruptures/costs/costnormal.py:27: UserWarning: New behaviour in v1.1.5: a small bias is added to the covariance matrix to cope with truly constant segments (see PR#198).\n",
      "  warnings.warn(\n"
     ]
    }
   ],
   "source": [
    "categories, algorithm_names, costfunction_names, n_changepoints, changepoints = [], [], [], [], []\n",
    "for category in ts_results_sub.columns:\n",
    "    series = ts_results_sub[category].dropna().values\n",
    "    for costfunction in costfunctions:\n",
    "        for algorithm in algorithms:\n",
    "            years = detect_changepoints(series, ts_results_sub.index, algorithm = algorithm, costfunction = costfunction)\n",
    "            for i, year in enumerate(years):\n",
    "                categories.append(category)\n",
    "                algorithm_names.append(algorithm)\n",
    "                costfunction_names.append(costfunction)\n",
    "                n_changepoints.append(i+1)\n",
    "                changepoints.append(year)\n",
    "\n",
    "results = pd.DataFrame({\n",
    "    'category' : categories,\n",
    "    'algorithm' : algorithm_names,\n",
    "    'costfunction' : costfunction_names,\n",
    "    'algorithm_costfunction' : [f\"{algorithm}_{costfunction}\" for algorithm, costfunction in zip(algorithm_names, costfunction_names)],\n",
    "    'n_changepoint' : n_changepoints,\n",
    "    'changepoint' : changepoints\n",
    "})"
   ]
  },
  {
   "cell_type": "markdown",
   "id": "040d6bab-5615-4374-8b7f-93c21219083e",
   "metadata": {},
   "source": [
    "### Check"
   ]
  },
  {
   "cell_type": "code",
   "execution_count": 12,
   "id": "1cb4e693",
   "metadata": {},
   "outputs": [
    {
     "data": {
      "text/html": [
       "<div>\n",
       "<style scoped>\n",
       "    .dataframe tbody tr th:only-of-type {\n",
       "        vertical-align: middle;\n",
       "    }\n",
       "\n",
       "    .dataframe tbody tr th {\n",
       "        vertical-align: top;\n",
       "    }\n",
       "\n",
       "    .dataframe thead th {\n",
       "        text-align: right;\n",
       "    }\n",
       "</style>\n",
       "<table border=\"1\" class=\"dataframe\">\n",
       "  <thead>\n",
       "    <tr style=\"text-align: right;\">\n",
       "      <th></th>\n",
       "      <th>category</th>\n",
       "      <th>algorithm</th>\n",
       "      <th>costfunction</th>\n",
       "      <th>algorithm_costfunction</th>\n",
       "      <th>n_changepoint</th>\n",
       "      <th>changepoint</th>\n",
       "    </tr>\n",
       "  </thead>\n",
       "  <tbody>\n",
       "    <tr>\n",
       "      <th>260</th>\n",
       "      <td>06_07_Deutungen_Heroismus</td>\n",
       "      <td>binseg</td>\n",
       "      <td>rbf</td>\n",
       "      <td>binseg_rbf</td>\n",
       "      <td>1</td>\n",
       "      <td>1883</td>\n",
       "    </tr>\n",
       "    <tr>\n",
       "      <th>316</th>\n",
       "      <td>06_08_Geschichtstheorie_Geschichtstheorie</td>\n",
       "      <td>dynp</td>\n",
       "      <td>normal</td>\n",
       "      <td>dynp_normal</td>\n",
       "      <td>1</td>\n",
       "      <td>1866</td>\n",
       "    </tr>\n",
       "    <tr>\n",
       "      <th>134</th>\n",
       "      <td>06_04_Haeufigste_Stoffgebiete_Tod</td>\n",
       "      <td>binseg</td>\n",
       "      <td>l1</td>\n",
       "      <td>binseg_l1</td>\n",
       "      <td>1</td>\n",
       "      <td>1903</td>\n",
       "    </tr>\n",
       "    <tr>\n",
       "      <th>118</th>\n",
       "      <td>06_04_Haeufigste_Stoffgebiete_Religion</td>\n",
       "      <td>bottom_up</td>\n",
       "      <td>l1</td>\n",
       "      <td>bottom_up_l1</td>\n",
       "      <td>1</td>\n",
       "      <td>1883</td>\n",
       "    </tr>\n",
       "    <tr>\n",
       "      <th>441</th>\n",
       "      <td>06_10_Konkretheit_in mittlerem Maß konkret</td>\n",
       "      <td>bottom_up</td>\n",
       "      <td>l1</td>\n",
       "      <td>bottom_up_l1</td>\n",
       "      <td>1</td>\n",
       "      <td>1864</td>\n",
       "    </tr>\n",
       "  </tbody>\n",
       "</table>\n",
       "</div>"
      ],
      "text/plain": [
       "                                       category  algorithm costfunction  \\\n",
       "260                   06_07_Deutungen_Heroismus     binseg          rbf   \n",
       "316   06_08_Geschichtstheorie_Geschichtstheorie       dynp       normal   \n",
       "134           06_04_Haeufigste_Stoffgebiete_Tod     binseg           l1   \n",
       "118      06_04_Haeufigste_Stoffgebiete_Religion  bottom_up           l1   \n",
       "441  06_10_Konkretheit_in mittlerem Maß konkret  bottom_up           l1   \n",
       "\n",
       "    algorithm_costfunction  n_changepoint  changepoint  \n",
       "260             binseg_rbf              1         1883  \n",
       "316            dynp_normal              1         1866  \n",
       "134              binseg_l1              1         1903  \n",
       "118           bottom_up_l1              1         1883  \n",
       "441           bottom_up_l1              1         1864  "
      ]
     },
     "execution_count": 12,
     "metadata": {},
     "output_type": "execute_result"
    }
   ],
   "source": [
    "results.sample(n=5)"
   ]
  },
  {
   "cell_type": "code",
   "execution_count": 13,
   "id": "d04d6eb3-b949-4953-a162-439681cbb440",
   "metadata": {},
   "outputs": [
    {
     "data": {
      "text/plain": [
       "algorithm  costfunction\n",
       "binseg     l1              27\n",
       "           l2              27\n",
       "           normal          27\n",
       "           rank            27\n",
       "           rbf             27\n",
       "bottom_up  l1              27\n",
       "           l2              27\n",
       "           normal          27\n",
       "           rank            27\n",
       "           rbf             27\n",
       "dynp       l1              27\n",
       "           l2              27\n",
       "           normal          27\n",
       "           rank            27\n",
       "           rbf             27\n",
       "kernel     linear          27\n",
       "           rbf             27\n",
       "dtype: int64"
      ]
     },
     "execution_count": 13,
     "metadata": {},
     "output_type": "execute_result"
    }
   ],
   "source": [
    "# number of available changepoints per algorithm-costfunction combination\n",
    "results.groupby(['algorithm', 'costfunction']).size()"
   ]
  },
  {
   "cell_type": "code",
   "execution_count": 14,
   "id": "fca08c41-ed96-4561-a99a-0918d6426d3a",
   "metadata": {},
   "outputs": [
    {
     "name": "stdout",
     "output_type": "stream",
     "text": [
      "number of time series                  : 27\n",
      "number of algorithms                   : 4\n",
      "number of cost functions               : 6\n",
      "number of changepoints per time series : 17–17\n",
      "total changepoints                     : 459\n"
     ]
    }
   ],
   "source": [
    "print(f\"number of time series                  : {len(ts_results_sub.columns)}\")\n",
    "print(f\"number of algorithms                   : {len(algorithms)}\")\n",
    "print(f\"number of cost functions               : {len(costfunctions)}\")\n",
    "print(f\"number of changepoints per time series : {results.groupby('category').size().min()}–{results.groupby('category').size().max()}\")\n",
    "print(f\"total changepoints                     : {results.shape[0]}\")"
   ]
  },
  {
   "cell_type": "markdown",
   "id": "6b00d267-4584-456c-bfdf-b008b475c7a2",
   "metadata": {},
   "source": [
    "### Look at Examples"
   ]
  },
  {
   "cell_type": "code",
   "execution_count": 15,
   "id": "f31f0585-566c-46cd-b88c-305fae483e1e",
   "metadata": {},
   "outputs": [],
   "source": [
    "examples = [\n",
    "    '06_03_Gattungen_Ballade',\n",
    "    '06_04_Haeufigste_Stoffgebiete_Militär/Krieg', \n",
    "    '06_05_Entitaeten_Bekanntes Individuum', \n",
    "    '06_07_Deutungen_Heroismus',\n",
    "    '06_07_Deutungen_Nationalismus',\n",
    "    '06_09_Geschichtsmarker_gesamt_Alle Marker'\n",
    "]"
   ]
  },
  {
   "cell_type": "code",
   "execution_count": 16,
   "id": "6d14a411-b064-44fa-b7a7-d10a5d048f0d",
   "metadata": {},
   "outputs": [
    {
     "data": {
      "application/vnd.plotly.v1+json": {
       "config": {
        "plotlyServerURL": "https://plot.ly"
       },
       "data": [
        {
         "hovertemplate": "variable=06_03_Gattungen_Ballade<br>year=%{x}<br>=%{y}<extra></extra>",
         "legendgroup": "06_03_Gattungen_Ballade",
         "line": {
          "color": "#636efa",
          "dash": "solid"
         },
         "marker": {
          "symbol": "circle"
         },
         "mode": "lines",
         "name": "06_03_Gattungen_Ballade",
         "orientation": "v",
         "showlegend": true,
         "type": "scatter",
         "x": [
          1855,
          1856,
          1857,
          1858,
          1859,
          1860,
          1861,
          1862,
          1863,
          1864,
          1865,
          1866,
          1867,
          1868,
          1869,
          1870,
          1871,
          1872,
          1873,
          1874,
          1875,
          1876,
          1877,
          1878,
          1879,
          1880,
          1881,
          1882,
          1883,
          1884,
          1885,
          1886,
          1887,
          1888,
          1889,
          1890,
          1891,
          1892,
          1893,
          1894,
          1895,
          1896,
          1897,
          1898,
          1899,
          1900,
          1901,
          1902,
          1903,
          1904,
          1905,
          1906,
          1907,
          1908,
          1909,
          1910,
          1911,
          1912,
          1913
         ],
         "xaxis": "x",
         "y": [
          0.7039911115254345,
          0.7078267597869704,
          0.6961007600966974,
          0.6916180600514117,
          0.6785606418973132,
          0.6787387875453353,
          0.6702174902256025,
          0.6547466294897922,
          0.656415684700929,
          0.6561163677273879,
          0.6299298562196128,
          0.5983106795255061,
          0.5616665870900491,
          0.5413610013502153,
          0.5322374809652034,
          0.5269746687501086,
          0.5102305259670414,
          0.4791986682648788,
          0.4696421255609795,
          0.500619744547126,
          0.4927213253298138,
          0.5120438423146737,
          0.5323678906486028,
          0.5540411691176417,
          0.5565885708457549,
          0.5407302602451514,
          0.5332245864291252,
          0.5350686851848465,
          0.5128668425954138,
          0.5130026166349981,
          0.4490605022415154,
          0.4424306332541195,
          0.4320748039906145,
          0.4271992126166801,
          0.4053161294017302,
          0.3936310148422313,
          0.3878135894910086,
          0.3668849991538337,
          0.3567991536966656,
          0.361558111324807,
          0.3626512926674218,
          0.3811358137845397,
          0.3891065420057298,
          0.4090263084506716,
          0.4189823099091008,
          0.4836478630780522,
          0.4860099624190593,
          0.5040474786002228,
          0.5405820064282431,
          0.5787722037281109,
          0.5922327124663405,
          0.5601442923860337,
          0.5605611981691752,
          0.5512418271705104,
          0.530231487759737,
          0.5202912191564163,
          0.4864085189963337,
          0.4919711363759331,
          0.4688562264519681
         ],
         "yaxis": "y"
        },
        {
         "hoverinfo": "text",
         "hovertext": "dynp_l2",
         "line": {
          "color": "red",
          "dash": "dash",
          "width": 2
         },
         "mode": "lines",
         "showlegend": false,
         "type": "scatter",
         "x": [
          1866.0832676287398,
          1866.0832676287398
         ],
         "y": [
          0.3567991536966656,
          0.7078267597869704
         ]
        },
        {
         "hoverinfo": "text",
         "hovertext": "binseg_l2",
         "line": {
          "color": "red",
          "dash": "dash",
          "width": 2
         },
         "mode": "lines",
         "showlegend": false,
         "type": "scatter",
         "x": [
          1866.3789261140087,
          1866.3789261140087
         ],
         "y": [
          0.3567991536966656,
          0.7078267597869704
         ]
        },
        {
         "hoverinfo": "text",
         "hovertext": "bottom_up_l2",
         "line": {
          "color": "red",
          "dash": "dash",
          "width": 2
         },
         "mode": "lines",
         "showlegend": false,
         "type": "scatter",
         "x": [
          1866.1550294860394,
          1866.1550294860394
         ],
         "y": [
          0.3567991536966656,
          0.7078267597869704
         ]
        },
        {
         "hoverinfo": "text",
         "hovertext": "dynp_rbf",
         "line": {
          "color": "red",
          "dash": "dash",
          "width": 2
         },
         "mode": "lines",
         "showlegend": false,
         "type": "scatter",
         "x": [
          1866.439608722836,
          1866.439608722836
         ],
         "y": [
          0.3567991536966656,
          0.7078267597869704
         ]
        },
        {
         "hoverinfo": "text",
         "hovertext": "kernel_rbf",
         "line": {
          "color": "red",
          "dash": "dash",
          "width": 2
         },
         "mode": "lines",
         "showlegend": false,
         "type": "scatter",
         "x": [
          1866.531613323749,
          1866.531613323749
         ],
         "y": [
          0.3567991536966656,
          0.7078267597869704
         ]
        },
        {
         "hoverinfo": "text",
         "hovertext": "binseg_rbf",
         "line": {
          "color": "red",
          "dash": "dash",
          "width": 2
         },
         "mode": "lines",
         "showlegend": false,
         "type": "scatter",
         "x": [
          1866.2113186771953,
          1866.2113186771953
         ],
         "y": [
          0.3567991536966656,
          0.7078267597869704
         ]
        },
        {
         "hoverinfo": "text",
         "hovertext": "bottom_up_rbf",
         "line": {
          "color": "red",
          "dash": "dash",
          "width": 2
         },
         "mode": "lines",
         "showlegend": false,
         "type": "scatter",
         "x": [
          1865.2240115928976,
          1865.2240115928976
         ],
         "y": [
          0.3567991536966656,
          0.7078267597869704
         ]
        },
        {
         "hoverinfo": "text",
         "hovertext": "dynp_rank",
         "line": {
          "color": "red",
          "dash": "dash",
          "width": 2
         },
         "mode": "lines",
         "showlegend": false,
         "type": "scatter",
         "x": [
          1868.4431258528227,
          1868.4431258528227
         ],
         "y": [
          0.3567991536966656,
          0.7078267597869704
         ]
        },
        {
         "hoverinfo": "text",
         "hovertext": "binseg_rank",
         "line": {
          "color": "red",
          "dash": "dash",
          "width": 2
         },
         "mode": "lines",
         "showlegend": false,
         "type": "scatter",
         "x": [
          1868.0968970648807,
          1868.0968970648807
         ],
         "y": [
          0.3567991536966656,
          0.7078267597869704
         ]
        },
        {
         "hoverinfo": "text",
         "hovertext": "bottom_up_rank",
         "line": {
          "color": "red",
          "dash": "dash",
          "width": 2
         },
         "mode": "lines",
         "showlegend": false,
         "type": "scatter",
         "x": [
          1868.5433672093554,
          1868.5433672093554
         ],
         "y": [
          0.3567991536966656,
          0.7078267597869704
         ]
        },
        {
         "hoverinfo": "text",
         "hovertext": "dynp_normal",
         "line": {
          "color": "red",
          "dash": "dash",
          "width": 2
         },
         "mode": "lines",
         "showlegend": false,
         "type": "scatter",
         "x": [
          1865.2340431639936,
          1865.2340431639936
         ],
         "y": [
          0.3567991536966656,
          0.7078267597869704
         ]
        },
        {
         "hoverinfo": "text",
         "hovertext": "binseg_normal",
         "line": {
          "color": "red",
          "dash": "dash",
          "width": 2
         },
         "mode": "lines",
         "showlegend": false,
         "type": "scatter",
         "x": [
          1865.5578448322558,
          1865.5578448322558
         ],
         "y": [
          0.3567991536966656,
          0.7078267597869704
         ]
        },
        {
         "hoverinfo": "text",
         "hovertext": "bottom_up_normal",
         "line": {
          "color": "red",
          "dash": "dash",
          "width": 2
         },
         "mode": "lines",
         "showlegend": false,
         "type": "scatter",
         "x": [
          1864.641564856947,
          1864.641564856947
         ],
         "y": [
          0.3567991536966656,
          0.7078267597869704
         ]
        },
        {
         "hoverinfo": "text",
         "hovertext": "kernel_linear",
         "line": {
          "color": "red",
          "dash": "dash",
          "width": 2
         },
         "mode": "lines",
         "showlegend": false,
         "type": "scatter",
         "x": [
          1866.677388760958,
          1866.677388760958
         ],
         "y": [
          0.3567991536966656,
          0.7078267597869704
         ]
        },
        {
         "hoverinfo": "text",
         "hovertext": "dynp_l1",
         "line": {
          "color": "red",
          "dash": "dash",
          "width": 2
         },
         "mode": "lines",
         "showlegend": false,
         "type": "scatter",
         "x": [
          1866.409405602445,
          1866.409405602445
         ],
         "y": [
          0.3567991536966656,
          0.7078267597869704
         ]
        },
        {
         "hoverinfo": "text",
         "hovertext": "binseg_l1",
         "line": {
          "color": "red",
          "dash": "dash",
          "width": 2
         },
         "mode": "lines",
         "showlegend": false,
         "type": "scatter",
         "x": [
          1866.8037355577846,
          1866.8037355577846
         ],
         "y": [
          0.3567991536966656,
          0.7078267597869704
         ]
        },
        {
         "hoverinfo": "text",
         "hovertext": "bottom_up_l1",
         "line": {
          "color": "red",
          "dash": "dash",
          "width": 2
         },
         "mode": "lines",
         "showlegend": false,
         "type": "scatter",
         "x": [
          1866.1407562029447,
          1866.1407562029447
         ],
         "y": [
          0.3567991536966656,
          0.7078267597869704
         ]
        }
       ],
       "layout": {
        "height": 400,
        "legend": {
         "title": {
          "text": "variable"
         },
         "tracegroupgap": 0
        },
        "showlegend": false,
        "template": {
         "data": {
          "bar": [
           {
            "error_x": {
             "color": "#2a3f5f"
            },
            "error_y": {
             "color": "#2a3f5f"
            },
            "marker": {
             "line": {
              "color": "#E5ECF6",
              "width": 0.5
             },
             "pattern": {
              "fillmode": "overlay",
              "size": 10,
              "solidity": 0.2
             }
            },
            "type": "bar"
           }
          ],
          "barpolar": [
           {
            "marker": {
             "line": {
              "color": "#E5ECF6",
              "width": 0.5
             },
             "pattern": {
              "fillmode": "overlay",
              "size": 10,
              "solidity": 0.2
             }
            },
            "type": "barpolar"
           }
          ],
          "carpet": [
           {
            "aaxis": {
             "endlinecolor": "#2a3f5f",
             "gridcolor": "white",
             "linecolor": "white",
             "minorgridcolor": "white",
             "startlinecolor": "#2a3f5f"
            },
            "baxis": {
             "endlinecolor": "#2a3f5f",
             "gridcolor": "white",
             "linecolor": "white",
             "minorgridcolor": "white",
             "startlinecolor": "#2a3f5f"
            },
            "type": "carpet"
           }
          ],
          "choropleth": [
           {
            "colorbar": {
             "outlinewidth": 0,
             "ticks": ""
            },
            "type": "choropleth"
           }
          ],
          "contour": [
           {
            "colorbar": {
             "outlinewidth": 0,
             "ticks": ""
            },
            "colorscale": [
             [
              0,
              "#0d0887"
             ],
             [
              0.1111111111111111,
              "#46039f"
             ],
             [
              0.2222222222222222,
              "#7201a8"
             ],
             [
              0.3333333333333333,
              "#9c179e"
             ],
             [
              0.4444444444444444,
              "#bd3786"
             ],
             [
              0.5555555555555556,
              "#d8576b"
             ],
             [
              0.6666666666666666,
              "#ed7953"
             ],
             [
              0.7777777777777778,
              "#fb9f3a"
             ],
             [
              0.8888888888888888,
              "#fdca26"
             ],
             [
              1,
              "#f0f921"
             ]
            ],
            "type": "contour"
           }
          ],
          "contourcarpet": [
           {
            "colorbar": {
             "outlinewidth": 0,
             "ticks": ""
            },
            "type": "contourcarpet"
           }
          ],
          "heatmap": [
           {
            "colorbar": {
             "outlinewidth": 0,
             "ticks": ""
            },
            "colorscale": [
             [
              0,
              "#0d0887"
             ],
             [
              0.1111111111111111,
              "#46039f"
             ],
             [
              0.2222222222222222,
              "#7201a8"
             ],
             [
              0.3333333333333333,
              "#9c179e"
             ],
             [
              0.4444444444444444,
              "#bd3786"
             ],
             [
              0.5555555555555556,
              "#d8576b"
             ],
             [
              0.6666666666666666,
              "#ed7953"
             ],
             [
              0.7777777777777778,
              "#fb9f3a"
             ],
             [
              0.8888888888888888,
              "#fdca26"
             ],
             [
              1,
              "#f0f921"
             ]
            ],
            "type": "heatmap"
           }
          ],
          "heatmapgl": [
           {
            "colorbar": {
             "outlinewidth": 0,
             "ticks": ""
            },
            "colorscale": [
             [
              0,
              "#0d0887"
             ],
             [
              0.1111111111111111,
              "#46039f"
             ],
             [
              0.2222222222222222,
              "#7201a8"
             ],
             [
              0.3333333333333333,
              "#9c179e"
             ],
             [
              0.4444444444444444,
              "#bd3786"
             ],
             [
              0.5555555555555556,
              "#d8576b"
             ],
             [
              0.6666666666666666,
              "#ed7953"
             ],
             [
              0.7777777777777778,
              "#fb9f3a"
             ],
             [
              0.8888888888888888,
              "#fdca26"
             ],
             [
              1,
              "#f0f921"
             ]
            ],
            "type": "heatmapgl"
           }
          ],
          "histogram": [
           {
            "marker": {
             "pattern": {
              "fillmode": "overlay",
              "size": 10,
              "solidity": 0.2
             }
            },
            "type": "histogram"
           }
          ],
          "histogram2d": [
           {
            "colorbar": {
             "outlinewidth": 0,
             "ticks": ""
            },
            "colorscale": [
             [
              0,
              "#0d0887"
             ],
             [
              0.1111111111111111,
              "#46039f"
             ],
             [
              0.2222222222222222,
              "#7201a8"
             ],
             [
              0.3333333333333333,
              "#9c179e"
             ],
             [
              0.4444444444444444,
              "#bd3786"
             ],
             [
              0.5555555555555556,
              "#d8576b"
             ],
             [
              0.6666666666666666,
              "#ed7953"
             ],
             [
              0.7777777777777778,
              "#fb9f3a"
             ],
             [
              0.8888888888888888,
              "#fdca26"
             ],
             [
              1,
              "#f0f921"
             ]
            ],
            "type": "histogram2d"
           }
          ],
          "histogram2dcontour": [
           {
            "colorbar": {
             "outlinewidth": 0,
             "ticks": ""
            },
            "colorscale": [
             [
              0,
              "#0d0887"
             ],
             [
              0.1111111111111111,
              "#46039f"
             ],
             [
              0.2222222222222222,
              "#7201a8"
             ],
             [
              0.3333333333333333,
              "#9c179e"
             ],
             [
              0.4444444444444444,
              "#bd3786"
             ],
             [
              0.5555555555555556,
              "#d8576b"
             ],
             [
              0.6666666666666666,
              "#ed7953"
             ],
             [
              0.7777777777777778,
              "#fb9f3a"
             ],
             [
              0.8888888888888888,
              "#fdca26"
             ],
             [
              1,
              "#f0f921"
             ]
            ],
            "type": "histogram2dcontour"
           }
          ],
          "mesh3d": [
           {
            "colorbar": {
             "outlinewidth": 0,
             "ticks": ""
            },
            "type": "mesh3d"
           }
          ],
          "parcoords": [
           {
            "line": {
             "colorbar": {
              "outlinewidth": 0,
              "ticks": ""
             }
            },
            "type": "parcoords"
           }
          ],
          "pie": [
           {
            "automargin": true,
            "type": "pie"
           }
          ],
          "scatter": [
           {
            "fillpattern": {
             "fillmode": "overlay",
             "size": 10,
             "solidity": 0.2
            },
            "type": "scatter"
           }
          ],
          "scatter3d": [
           {
            "line": {
             "colorbar": {
              "outlinewidth": 0,
              "ticks": ""
             }
            },
            "marker": {
             "colorbar": {
              "outlinewidth": 0,
              "ticks": ""
             }
            },
            "type": "scatter3d"
           }
          ],
          "scattercarpet": [
           {
            "marker": {
             "colorbar": {
              "outlinewidth": 0,
              "ticks": ""
             }
            },
            "type": "scattercarpet"
           }
          ],
          "scattergeo": [
           {
            "marker": {
             "colorbar": {
              "outlinewidth": 0,
              "ticks": ""
             }
            },
            "type": "scattergeo"
           }
          ],
          "scattergl": [
           {
            "marker": {
             "colorbar": {
              "outlinewidth": 0,
              "ticks": ""
             }
            },
            "type": "scattergl"
           }
          ],
          "scattermapbox": [
           {
            "marker": {
             "colorbar": {
              "outlinewidth": 0,
              "ticks": ""
             }
            },
            "type": "scattermapbox"
           }
          ],
          "scatterpolar": [
           {
            "marker": {
             "colorbar": {
              "outlinewidth": 0,
              "ticks": ""
             }
            },
            "type": "scatterpolar"
           }
          ],
          "scatterpolargl": [
           {
            "marker": {
             "colorbar": {
              "outlinewidth": 0,
              "ticks": ""
             }
            },
            "type": "scatterpolargl"
           }
          ],
          "scatterternary": [
           {
            "marker": {
             "colorbar": {
              "outlinewidth": 0,
              "ticks": ""
             }
            },
            "type": "scatterternary"
           }
          ],
          "surface": [
           {
            "colorbar": {
             "outlinewidth": 0,
             "ticks": ""
            },
            "colorscale": [
             [
              0,
              "#0d0887"
             ],
             [
              0.1111111111111111,
              "#46039f"
             ],
             [
              0.2222222222222222,
              "#7201a8"
             ],
             [
              0.3333333333333333,
              "#9c179e"
             ],
             [
              0.4444444444444444,
              "#bd3786"
             ],
             [
              0.5555555555555556,
              "#d8576b"
             ],
             [
              0.6666666666666666,
              "#ed7953"
             ],
             [
              0.7777777777777778,
              "#fb9f3a"
             ],
             [
              0.8888888888888888,
              "#fdca26"
             ],
             [
              1,
              "#f0f921"
             ]
            ],
            "type": "surface"
           }
          ],
          "table": [
           {
            "cells": {
             "fill": {
              "color": "#EBF0F8"
             },
             "line": {
              "color": "white"
             }
            },
            "header": {
             "fill": {
              "color": "#C8D4E3"
             },
             "line": {
              "color": "white"
             }
            },
            "type": "table"
           }
          ]
         },
         "layout": {
          "annotationdefaults": {
           "arrowcolor": "#2a3f5f",
           "arrowhead": 0,
           "arrowwidth": 1
          },
          "autotypenumbers": "strict",
          "coloraxis": {
           "colorbar": {
            "outlinewidth": 0,
            "ticks": ""
           }
          },
          "colorscale": {
           "diverging": [
            [
             0,
             "#8e0152"
            ],
            [
             0.1,
             "#c51b7d"
            ],
            [
             0.2,
             "#de77ae"
            ],
            [
             0.3,
             "#f1b6da"
            ],
            [
             0.4,
             "#fde0ef"
            ],
            [
             0.5,
             "#f7f7f7"
            ],
            [
             0.6,
             "#e6f5d0"
            ],
            [
             0.7,
             "#b8e186"
            ],
            [
             0.8,
             "#7fbc41"
            ],
            [
             0.9,
             "#4d9221"
            ],
            [
             1,
             "#276419"
            ]
           ],
           "sequential": [
            [
             0,
             "#0d0887"
            ],
            [
             0.1111111111111111,
             "#46039f"
            ],
            [
             0.2222222222222222,
             "#7201a8"
            ],
            [
             0.3333333333333333,
             "#9c179e"
            ],
            [
             0.4444444444444444,
             "#bd3786"
            ],
            [
             0.5555555555555556,
             "#d8576b"
            ],
            [
             0.6666666666666666,
             "#ed7953"
            ],
            [
             0.7777777777777778,
             "#fb9f3a"
            ],
            [
             0.8888888888888888,
             "#fdca26"
            ],
            [
             1,
             "#f0f921"
            ]
           ],
           "sequentialminus": [
            [
             0,
             "#0d0887"
            ],
            [
             0.1111111111111111,
             "#46039f"
            ],
            [
             0.2222222222222222,
             "#7201a8"
            ],
            [
             0.3333333333333333,
             "#9c179e"
            ],
            [
             0.4444444444444444,
             "#bd3786"
            ],
            [
             0.5555555555555556,
             "#d8576b"
            ],
            [
             0.6666666666666666,
             "#ed7953"
            ],
            [
             0.7777777777777778,
             "#fb9f3a"
            ],
            [
             0.8888888888888888,
             "#fdca26"
            ],
            [
             1,
             "#f0f921"
            ]
           ]
          },
          "colorway": [
           "#636efa",
           "#EF553B",
           "#00cc96",
           "#ab63fa",
           "#FFA15A",
           "#19d3f3",
           "#FF6692",
           "#B6E880",
           "#FF97FF",
           "#FECB52"
          ],
          "font": {
           "color": "#2a3f5f"
          },
          "geo": {
           "bgcolor": "white",
           "lakecolor": "white",
           "landcolor": "#E5ECF6",
           "showlakes": true,
           "showland": true,
           "subunitcolor": "white"
          },
          "hoverlabel": {
           "align": "left"
          },
          "hovermode": "closest",
          "mapbox": {
           "style": "light"
          },
          "paper_bgcolor": "white",
          "plot_bgcolor": "#E5ECF6",
          "polar": {
           "angularaxis": {
            "gridcolor": "white",
            "linecolor": "white",
            "ticks": ""
           },
           "bgcolor": "#E5ECF6",
           "radialaxis": {
            "gridcolor": "white",
            "linecolor": "white",
            "ticks": ""
           }
          },
          "scene": {
           "xaxis": {
            "backgroundcolor": "#E5ECF6",
            "gridcolor": "white",
            "gridwidth": 2,
            "linecolor": "white",
            "showbackground": true,
            "ticks": "",
            "zerolinecolor": "white"
           },
           "yaxis": {
            "backgroundcolor": "#E5ECF6",
            "gridcolor": "white",
            "gridwidth": 2,
            "linecolor": "white",
            "showbackground": true,
            "ticks": "",
            "zerolinecolor": "white"
           },
           "zaxis": {
            "backgroundcolor": "#E5ECF6",
            "gridcolor": "white",
            "gridwidth": 2,
            "linecolor": "white",
            "showbackground": true,
            "ticks": "",
            "zerolinecolor": "white"
           }
          },
          "shapedefaults": {
           "line": {
            "color": "#2a3f5f"
           }
          },
          "ternary": {
           "aaxis": {
            "gridcolor": "white",
            "linecolor": "white",
            "ticks": ""
           },
           "baxis": {
            "gridcolor": "white",
            "linecolor": "white",
            "ticks": ""
           },
           "bgcolor": "#E5ECF6",
           "caxis": {
            "gridcolor": "white",
            "linecolor": "white",
            "ticks": ""
           }
          },
          "title": {
           "x": 0.05
          },
          "xaxis": {
           "automargin": true,
           "gridcolor": "white",
           "linecolor": "white",
           "ticks": "",
           "title": {
            "standoff": 15
           },
           "zerolinecolor": "white",
           "zerolinewidth": 2
          },
          "yaxis": {
           "automargin": true,
           "gridcolor": "white",
           "linecolor": "white",
           "ticks": "",
           "title": {
            "standoff": 15
           },
           "zerolinecolor": "white",
           "zerolinewidth": 2
          }
         }
        },
        "title": {
         "text": "06_03_Gattungen_Ballade"
        },
        "width": 1000,
        "xaxis": {
         "anchor": "y",
         "domain": [
          0,
          1
         ],
         "title": {
          "text": "year"
         }
        },
        "yaxis": {
         "anchor": "x",
         "domain": [
          0,
          1
         ],
         "title": {
          "text": ""
         }
        }
       }
      }
     },
     "metadata": {},
     "output_type": "display_data"
    },
    {
     "data": {
      "application/vnd.plotly.v1+json": {
       "config": {
        "plotlyServerURL": "https://plot.ly"
       },
       "data": [
        {
         "hovertemplate": "variable=06_04_Haeufigste_Stoffgebiete_Militär/Krieg<br>year=%{x}<br>=%{y}<extra></extra>",
         "legendgroup": "06_04_Haeufigste_Stoffgebiete_Militär/Krieg",
         "line": {
          "color": "#636efa",
          "dash": "solid"
         },
         "marker": {
          "symbol": "circle"
         },
         "mode": "lines",
         "name": "06_04_Haeufigste_Stoffgebiete_Militär/Krieg",
         "orientation": "v",
         "showlegend": true,
         "type": "scatter",
         "x": [
          1855,
          1856,
          1857,
          1858,
          1859,
          1860,
          1861,
          1862,
          1863,
          1864,
          1865,
          1866,
          1867,
          1868,
          1869,
          1870,
          1871,
          1872,
          1873,
          1874,
          1875,
          1876,
          1877,
          1878,
          1879,
          1880,
          1881,
          1882,
          1883,
          1884,
          1885,
          1886,
          1887,
          1888,
          1889,
          1890,
          1891,
          1892,
          1893,
          1894,
          1895,
          1896,
          1897,
          1898,
          1899,
          1900,
          1901,
          1902,
          1903,
          1904,
          1905,
          1906,
          1907,
          1908,
          1909,
          1910,
          1911,
          1912,
          1913
         ],
         "xaxis": "x",
         "y": [
          0.2753032108751045,
          0.2846949237841722,
          0.285006435048912,
          0.2978187065218849,
          0.3161325731449946,
          0.3241126301442467,
          0.330916653645923,
          0.318945807286836,
          0.3154794060184556,
          0.3031434035678653,
          0.3175565877925845,
          0.3247141707062209,
          0.3108254504747063,
          0.3118651804783908,
          0.3138271462475337,
          0.3131980632239421,
          0.3176136076517173,
          0.3217015594825301,
          0.3236490417794747,
          0.3252956427232187,
          0.3326225531828692,
          0.3123149733679458,
          0.3024538710826863,
          0.3095661047208645,
          0.3094403560504769,
          0.3118888948250449,
          0.3077730582625494,
          0.3072877335111763,
          0.2837665941704192,
          0.293987114194431,
          0.297767214718128,
          0.3001921874656061,
          0.3026772271209501,
          0.3106028131698669,
          0.3153666893952651,
          0.3231191918143602,
          0.3172860666930166,
          0.3090892339700917,
          0.3012329376635856,
          0.3154856368666643,
          0.2962032184197683,
          0.2782040215883138,
          0.2642669799786548,
          0.2720182444419979,
          0.2516602685179278,
          0.2737199539566181,
          0.2916864964696436,
          0.3138328866645903,
          0.3505279435526193,
          0.3881239368000784,
          0.3962867912762718,
          0.4088743571395828,
          0.4215359418709453,
          0.4267782764518046,
          0.4438871353713304,
          0.4522037227182161,
          0.4504121122173642,
          0.451642111815062,
          0.4499997924570257
         ],
         "yaxis": "y"
        },
        {
         "hoverinfo": "text",
         "hovertext": "dynp_l2",
         "line": {
          "color": "red",
          "dash": "dash",
          "width": 2
         },
         "mode": "lines",
         "showlegend": false,
         "type": "scatter",
         "x": [
          1903.5725121298415,
          1903.5725121298415
         ],
         "y": [
          0.2516602685179278,
          0.4522037227182161
         ]
        },
        {
         "hoverinfo": "text",
         "hovertext": "binseg_l2",
         "line": {
          "color": "red",
          "dash": "dash",
          "width": 2
         },
         "mode": "lines",
         "showlegend": false,
         "type": "scatter",
         "x": [
          1903.406834606377,
          1903.406834606377
         ],
         "y": [
          0.2516602685179278,
          0.4522037227182161
         ]
        },
        {
         "hoverinfo": "text",
         "hovertext": "bottom_up_l2",
         "line": {
          "color": "red",
          "dash": "dash",
          "width": 2
         },
         "mode": "lines",
         "showlegend": false,
         "type": "scatter",
         "x": [
          1903.7702168973908,
          1903.7702168973908
         ],
         "y": [
          0.2516602685179278,
          0.4522037227182161
         ]
        },
        {
         "hoverinfo": "text",
         "hovertext": "dynp_rbf",
         "line": {
          "color": "red",
          "dash": "dash",
          "width": 2
         },
         "mode": "lines",
         "showlegend": false,
         "type": "scatter",
         "x": [
          1903.0487222985066,
          1903.0487222985066
         ],
         "y": [
          0.2516602685179278,
          0.4522037227182161
         ]
        },
        {
         "hoverinfo": "text",
         "hovertext": "kernel_rbf",
         "line": {
          "color": "red",
          "dash": "dash",
          "width": 2
         },
         "mode": "lines",
         "showlegend": false,
         "type": "scatter",
         "x": [
          1903.4056693486148,
          1903.4056693486148
         ],
         "y": [
          0.2516602685179278,
          0.4522037227182161
         ]
        },
        {
         "hoverinfo": "text",
         "hovertext": "binseg_rbf",
         "line": {
          "color": "red",
          "dash": "dash",
          "width": 2
         },
         "mode": "lines",
         "showlegend": false,
         "type": "scatter",
         "x": [
          1903.7691246171396,
          1903.7691246171396
         ],
         "y": [
          0.2516602685179278,
          0.4522037227182161
         ]
        },
        {
         "hoverinfo": "text",
         "hovertext": "bottom_up_rbf",
         "line": {
          "color": "red",
          "dash": "dash",
          "width": 2
         },
         "mode": "lines",
         "showlegend": false,
         "type": "scatter",
         "x": [
          1895.9610119081342,
          1895.9610119081342
         ],
         "y": [
          0.2516602685179278,
          0.4522037227182161
         ]
        },
        {
         "hoverinfo": "text",
         "hovertext": "dynp_rank",
         "line": {
          "color": "red",
          "dash": "dash",
          "width": 2
         },
         "mode": "lines",
         "showlegend": false,
         "type": "scatter",
         "x": [
          1902.5939969466465,
          1902.5939969466465
         ],
         "y": [
          0.2516602685179278,
          0.4522037227182161
         ]
        },
        {
         "hoverinfo": "text",
         "hovertext": "binseg_rank",
         "line": {
          "color": "red",
          "dash": "dash",
          "width": 2
         },
         "mode": "lines",
         "showlegend": false,
         "type": "scatter",
         "x": [
          1902.3091093996804,
          1902.3091093996804
         ],
         "y": [
          0.2516602685179278,
          0.4522037227182161
         ]
        },
        {
         "hoverinfo": "text",
         "hovertext": "bottom_up_rank",
         "line": {
          "color": "red",
          "dash": "dash",
          "width": 2
         },
         "mode": "lines",
         "showlegend": false,
         "type": "scatter",
         "x": [
          1901.9748201381276,
          1901.9748201381276
         ],
         "y": [
          0.2516602685179278,
          0.4522037227182161
         ]
        },
        {
         "hoverinfo": "text",
         "hovertext": "dynp_normal",
         "line": {
          "color": "red",
          "dash": "dash",
          "width": 2
         },
         "mode": "lines",
         "showlegend": false,
         "type": "scatter",
         "x": [
          1903.9882816130394,
          1903.9882816130394
         ],
         "y": [
          0.2516602685179278,
          0.4522037227182161
         ]
        },
        {
         "hoverinfo": "text",
         "hovertext": "binseg_normal",
         "line": {
          "color": "red",
          "dash": "dash",
          "width": 2
         },
         "mode": "lines",
         "showlegend": false,
         "type": "scatter",
         "x": [
          1903.7036962528277,
          1903.7036962528277
         ],
         "y": [
          0.2516602685179278,
          0.4522037227182161
         ]
        },
        {
         "hoverinfo": "text",
         "hovertext": "bottom_up_normal",
         "line": {
          "color": "red",
          "dash": "dash",
          "width": 2
         },
         "mode": "lines",
         "showlegend": false,
         "type": "scatter",
         "x": [
          1903.738440757417,
          1903.738440757417
         ],
         "y": [
          0.2516602685179278,
          0.4522037227182161
         ]
        },
        {
         "hoverinfo": "text",
         "hovertext": "kernel_linear",
         "line": {
          "color": "red",
          "dash": "dash",
          "width": 2
         },
         "mode": "lines",
         "showlegend": false,
         "type": "scatter",
         "x": [
          1903.131776101996,
          1903.131776101996
         ],
         "y": [
          0.2516602685179278,
          0.4522037227182161
         ]
        },
        {
         "hoverinfo": "text",
         "hovertext": "dynp_l1",
         "line": {
          "color": "red",
          "dash": "dash",
          "width": 2
         },
         "mode": "lines",
         "showlegend": false,
         "type": "scatter",
         "x": [
          1903.2412041742214,
          1903.2412041742214
         ],
         "y": [
          0.2516602685179278,
          0.4522037227182161
         ]
        },
        {
         "hoverinfo": "text",
         "hovertext": "binseg_l1",
         "line": {
          "color": "red",
          "dash": "dash",
          "width": 2
         },
         "mode": "lines",
         "showlegend": false,
         "type": "scatter",
         "x": [
          1903.4195000022091,
          1903.4195000022091
         ],
         "y": [
          0.2516602685179278,
          0.4522037227182161
         ]
        },
        {
         "hoverinfo": "text",
         "hovertext": "bottom_up_l1",
         "line": {
          "color": "red",
          "dash": "dash",
          "width": 2
         },
         "mode": "lines",
         "showlegend": false,
         "type": "scatter",
         "x": [
          1903.1491906351025,
          1903.1491906351025
         ],
         "y": [
          0.2516602685179278,
          0.4522037227182161
         ]
        }
       ],
       "layout": {
        "height": 400,
        "legend": {
         "title": {
          "text": "variable"
         },
         "tracegroupgap": 0
        },
        "showlegend": false,
        "template": {
         "data": {
          "bar": [
           {
            "error_x": {
             "color": "#2a3f5f"
            },
            "error_y": {
             "color": "#2a3f5f"
            },
            "marker": {
             "line": {
              "color": "#E5ECF6",
              "width": 0.5
             },
             "pattern": {
              "fillmode": "overlay",
              "size": 10,
              "solidity": 0.2
             }
            },
            "type": "bar"
           }
          ],
          "barpolar": [
           {
            "marker": {
             "line": {
              "color": "#E5ECF6",
              "width": 0.5
             },
             "pattern": {
              "fillmode": "overlay",
              "size": 10,
              "solidity": 0.2
             }
            },
            "type": "barpolar"
           }
          ],
          "carpet": [
           {
            "aaxis": {
             "endlinecolor": "#2a3f5f",
             "gridcolor": "white",
             "linecolor": "white",
             "minorgridcolor": "white",
             "startlinecolor": "#2a3f5f"
            },
            "baxis": {
             "endlinecolor": "#2a3f5f",
             "gridcolor": "white",
             "linecolor": "white",
             "minorgridcolor": "white",
             "startlinecolor": "#2a3f5f"
            },
            "type": "carpet"
           }
          ],
          "choropleth": [
           {
            "colorbar": {
             "outlinewidth": 0,
             "ticks": ""
            },
            "type": "choropleth"
           }
          ],
          "contour": [
           {
            "colorbar": {
             "outlinewidth": 0,
             "ticks": ""
            },
            "colorscale": [
             [
              0,
              "#0d0887"
             ],
             [
              0.1111111111111111,
              "#46039f"
             ],
             [
              0.2222222222222222,
              "#7201a8"
             ],
             [
              0.3333333333333333,
              "#9c179e"
             ],
             [
              0.4444444444444444,
              "#bd3786"
             ],
             [
              0.5555555555555556,
              "#d8576b"
             ],
             [
              0.6666666666666666,
              "#ed7953"
             ],
             [
              0.7777777777777778,
              "#fb9f3a"
             ],
             [
              0.8888888888888888,
              "#fdca26"
             ],
             [
              1,
              "#f0f921"
             ]
            ],
            "type": "contour"
           }
          ],
          "contourcarpet": [
           {
            "colorbar": {
             "outlinewidth": 0,
             "ticks": ""
            },
            "type": "contourcarpet"
           }
          ],
          "heatmap": [
           {
            "colorbar": {
             "outlinewidth": 0,
             "ticks": ""
            },
            "colorscale": [
             [
              0,
              "#0d0887"
             ],
             [
              0.1111111111111111,
              "#46039f"
             ],
             [
              0.2222222222222222,
              "#7201a8"
             ],
             [
              0.3333333333333333,
              "#9c179e"
             ],
             [
              0.4444444444444444,
              "#bd3786"
             ],
             [
              0.5555555555555556,
              "#d8576b"
             ],
             [
              0.6666666666666666,
              "#ed7953"
             ],
             [
              0.7777777777777778,
              "#fb9f3a"
             ],
             [
              0.8888888888888888,
              "#fdca26"
             ],
             [
              1,
              "#f0f921"
             ]
            ],
            "type": "heatmap"
           }
          ],
          "heatmapgl": [
           {
            "colorbar": {
             "outlinewidth": 0,
             "ticks": ""
            },
            "colorscale": [
             [
              0,
              "#0d0887"
             ],
             [
              0.1111111111111111,
              "#46039f"
             ],
             [
              0.2222222222222222,
              "#7201a8"
             ],
             [
              0.3333333333333333,
              "#9c179e"
             ],
             [
              0.4444444444444444,
              "#bd3786"
             ],
             [
              0.5555555555555556,
              "#d8576b"
             ],
             [
              0.6666666666666666,
              "#ed7953"
             ],
             [
              0.7777777777777778,
              "#fb9f3a"
             ],
             [
              0.8888888888888888,
              "#fdca26"
             ],
             [
              1,
              "#f0f921"
             ]
            ],
            "type": "heatmapgl"
           }
          ],
          "histogram": [
           {
            "marker": {
             "pattern": {
              "fillmode": "overlay",
              "size": 10,
              "solidity": 0.2
             }
            },
            "type": "histogram"
           }
          ],
          "histogram2d": [
           {
            "colorbar": {
             "outlinewidth": 0,
             "ticks": ""
            },
            "colorscale": [
             [
              0,
              "#0d0887"
             ],
             [
              0.1111111111111111,
              "#46039f"
             ],
             [
              0.2222222222222222,
              "#7201a8"
             ],
             [
              0.3333333333333333,
              "#9c179e"
             ],
             [
              0.4444444444444444,
              "#bd3786"
             ],
             [
              0.5555555555555556,
              "#d8576b"
             ],
             [
              0.6666666666666666,
              "#ed7953"
             ],
             [
              0.7777777777777778,
              "#fb9f3a"
             ],
             [
              0.8888888888888888,
              "#fdca26"
             ],
             [
              1,
              "#f0f921"
             ]
            ],
            "type": "histogram2d"
           }
          ],
          "histogram2dcontour": [
           {
            "colorbar": {
             "outlinewidth": 0,
             "ticks": ""
            },
            "colorscale": [
             [
              0,
              "#0d0887"
             ],
             [
              0.1111111111111111,
              "#46039f"
             ],
             [
              0.2222222222222222,
              "#7201a8"
             ],
             [
              0.3333333333333333,
              "#9c179e"
             ],
             [
              0.4444444444444444,
              "#bd3786"
             ],
             [
              0.5555555555555556,
              "#d8576b"
             ],
             [
              0.6666666666666666,
              "#ed7953"
             ],
             [
              0.7777777777777778,
              "#fb9f3a"
             ],
             [
              0.8888888888888888,
              "#fdca26"
             ],
             [
              1,
              "#f0f921"
             ]
            ],
            "type": "histogram2dcontour"
           }
          ],
          "mesh3d": [
           {
            "colorbar": {
             "outlinewidth": 0,
             "ticks": ""
            },
            "type": "mesh3d"
           }
          ],
          "parcoords": [
           {
            "line": {
             "colorbar": {
              "outlinewidth": 0,
              "ticks": ""
             }
            },
            "type": "parcoords"
           }
          ],
          "pie": [
           {
            "automargin": true,
            "type": "pie"
           }
          ],
          "scatter": [
           {
            "fillpattern": {
             "fillmode": "overlay",
             "size": 10,
             "solidity": 0.2
            },
            "type": "scatter"
           }
          ],
          "scatter3d": [
           {
            "line": {
             "colorbar": {
              "outlinewidth": 0,
              "ticks": ""
             }
            },
            "marker": {
             "colorbar": {
              "outlinewidth": 0,
              "ticks": ""
             }
            },
            "type": "scatter3d"
           }
          ],
          "scattercarpet": [
           {
            "marker": {
             "colorbar": {
              "outlinewidth": 0,
              "ticks": ""
             }
            },
            "type": "scattercarpet"
           }
          ],
          "scattergeo": [
           {
            "marker": {
             "colorbar": {
              "outlinewidth": 0,
              "ticks": ""
             }
            },
            "type": "scattergeo"
           }
          ],
          "scattergl": [
           {
            "marker": {
             "colorbar": {
              "outlinewidth": 0,
              "ticks": ""
             }
            },
            "type": "scattergl"
           }
          ],
          "scattermapbox": [
           {
            "marker": {
             "colorbar": {
              "outlinewidth": 0,
              "ticks": ""
             }
            },
            "type": "scattermapbox"
           }
          ],
          "scatterpolar": [
           {
            "marker": {
             "colorbar": {
              "outlinewidth": 0,
              "ticks": ""
             }
            },
            "type": "scatterpolar"
           }
          ],
          "scatterpolargl": [
           {
            "marker": {
             "colorbar": {
              "outlinewidth": 0,
              "ticks": ""
             }
            },
            "type": "scatterpolargl"
           }
          ],
          "scatterternary": [
           {
            "marker": {
             "colorbar": {
              "outlinewidth": 0,
              "ticks": ""
             }
            },
            "type": "scatterternary"
           }
          ],
          "surface": [
           {
            "colorbar": {
             "outlinewidth": 0,
             "ticks": ""
            },
            "colorscale": [
             [
              0,
              "#0d0887"
             ],
             [
              0.1111111111111111,
              "#46039f"
             ],
             [
              0.2222222222222222,
              "#7201a8"
             ],
             [
              0.3333333333333333,
              "#9c179e"
             ],
             [
              0.4444444444444444,
              "#bd3786"
             ],
             [
              0.5555555555555556,
              "#d8576b"
             ],
             [
              0.6666666666666666,
              "#ed7953"
             ],
             [
              0.7777777777777778,
              "#fb9f3a"
             ],
             [
              0.8888888888888888,
              "#fdca26"
             ],
             [
              1,
              "#f0f921"
             ]
            ],
            "type": "surface"
           }
          ],
          "table": [
           {
            "cells": {
             "fill": {
              "color": "#EBF0F8"
             },
             "line": {
              "color": "white"
             }
            },
            "header": {
             "fill": {
              "color": "#C8D4E3"
             },
             "line": {
              "color": "white"
             }
            },
            "type": "table"
           }
          ]
         },
         "layout": {
          "annotationdefaults": {
           "arrowcolor": "#2a3f5f",
           "arrowhead": 0,
           "arrowwidth": 1
          },
          "autotypenumbers": "strict",
          "coloraxis": {
           "colorbar": {
            "outlinewidth": 0,
            "ticks": ""
           }
          },
          "colorscale": {
           "diverging": [
            [
             0,
             "#8e0152"
            ],
            [
             0.1,
             "#c51b7d"
            ],
            [
             0.2,
             "#de77ae"
            ],
            [
             0.3,
             "#f1b6da"
            ],
            [
             0.4,
             "#fde0ef"
            ],
            [
             0.5,
             "#f7f7f7"
            ],
            [
             0.6,
             "#e6f5d0"
            ],
            [
             0.7,
             "#b8e186"
            ],
            [
             0.8,
             "#7fbc41"
            ],
            [
             0.9,
             "#4d9221"
            ],
            [
             1,
             "#276419"
            ]
           ],
           "sequential": [
            [
             0,
             "#0d0887"
            ],
            [
             0.1111111111111111,
             "#46039f"
            ],
            [
             0.2222222222222222,
             "#7201a8"
            ],
            [
             0.3333333333333333,
             "#9c179e"
            ],
            [
             0.4444444444444444,
             "#bd3786"
            ],
            [
             0.5555555555555556,
             "#d8576b"
            ],
            [
             0.6666666666666666,
             "#ed7953"
            ],
            [
             0.7777777777777778,
             "#fb9f3a"
            ],
            [
             0.8888888888888888,
             "#fdca26"
            ],
            [
             1,
             "#f0f921"
            ]
           ],
           "sequentialminus": [
            [
             0,
             "#0d0887"
            ],
            [
             0.1111111111111111,
             "#46039f"
            ],
            [
             0.2222222222222222,
             "#7201a8"
            ],
            [
             0.3333333333333333,
             "#9c179e"
            ],
            [
             0.4444444444444444,
             "#bd3786"
            ],
            [
             0.5555555555555556,
             "#d8576b"
            ],
            [
             0.6666666666666666,
             "#ed7953"
            ],
            [
             0.7777777777777778,
             "#fb9f3a"
            ],
            [
             0.8888888888888888,
             "#fdca26"
            ],
            [
             1,
             "#f0f921"
            ]
           ]
          },
          "colorway": [
           "#636efa",
           "#EF553B",
           "#00cc96",
           "#ab63fa",
           "#FFA15A",
           "#19d3f3",
           "#FF6692",
           "#B6E880",
           "#FF97FF",
           "#FECB52"
          ],
          "font": {
           "color": "#2a3f5f"
          },
          "geo": {
           "bgcolor": "white",
           "lakecolor": "white",
           "landcolor": "#E5ECF6",
           "showlakes": true,
           "showland": true,
           "subunitcolor": "white"
          },
          "hoverlabel": {
           "align": "left"
          },
          "hovermode": "closest",
          "mapbox": {
           "style": "light"
          },
          "paper_bgcolor": "white",
          "plot_bgcolor": "#E5ECF6",
          "polar": {
           "angularaxis": {
            "gridcolor": "white",
            "linecolor": "white",
            "ticks": ""
           },
           "bgcolor": "#E5ECF6",
           "radialaxis": {
            "gridcolor": "white",
            "linecolor": "white",
            "ticks": ""
           }
          },
          "scene": {
           "xaxis": {
            "backgroundcolor": "#E5ECF6",
            "gridcolor": "white",
            "gridwidth": 2,
            "linecolor": "white",
            "showbackground": true,
            "ticks": "",
            "zerolinecolor": "white"
           },
           "yaxis": {
            "backgroundcolor": "#E5ECF6",
            "gridcolor": "white",
            "gridwidth": 2,
            "linecolor": "white",
            "showbackground": true,
            "ticks": "",
            "zerolinecolor": "white"
           },
           "zaxis": {
            "backgroundcolor": "#E5ECF6",
            "gridcolor": "white",
            "gridwidth": 2,
            "linecolor": "white",
            "showbackground": true,
            "ticks": "",
            "zerolinecolor": "white"
           }
          },
          "shapedefaults": {
           "line": {
            "color": "#2a3f5f"
           }
          },
          "ternary": {
           "aaxis": {
            "gridcolor": "white",
            "linecolor": "white",
            "ticks": ""
           },
           "baxis": {
            "gridcolor": "white",
            "linecolor": "white",
            "ticks": ""
           },
           "bgcolor": "#E5ECF6",
           "caxis": {
            "gridcolor": "white",
            "linecolor": "white",
            "ticks": ""
           }
          },
          "title": {
           "x": 0.05
          },
          "xaxis": {
           "automargin": true,
           "gridcolor": "white",
           "linecolor": "white",
           "ticks": "",
           "title": {
            "standoff": 15
           },
           "zerolinecolor": "white",
           "zerolinewidth": 2
          },
          "yaxis": {
           "automargin": true,
           "gridcolor": "white",
           "linecolor": "white",
           "ticks": "",
           "title": {
            "standoff": 15
           },
           "zerolinecolor": "white",
           "zerolinewidth": 2
          }
         }
        },
        "title": {
         "text": "06_04_Haeufigste_Stoffgebiete_Militär/Krieg"
        },
        "width": 1000,
        "xaxis": {
         "anchor": "y",
         "domain": [
          0,
          1
         ],
         "title": {
          "text": "year"
         }
        },
        "yaxis": {
         "anchor": "x",
         "domain": [
          0,
          1
         ],
         "title": {
          "text": ""
         }
        }
       }
      }
     },
     "metadata": {},
     "output_type": "display_data"
    },
    {
     "data": {
      "application/vnd.plotly.v1+json": {
       "config": {
        "plotlyServerURL": "https://plot.ly"
       },
       "data": [
        {
         "hovertemplate": "variable=06_05_Entitaeten_Bekanntes Individuum<br>year=%{x}<br>=%{y}<extra></extra>",
         "legendgroup": "06_05_Entitaeten_Bekanntes Individuum",
         "line": {
          "color": "#636efa",
          "dash": "solid"
         },
         "marker": {
          "symbol": "circle"
         },
         "mode": "lines",
         "name": "06_05_Entitaeten_Bekanntes Individuum",
         "orientation": "v",
         "showlegend": true,
         "type": "scatter",
         "x": [
          1855,
          1856,
          1857,
          1858,
          1859,
          1860,
          1861,
          1862,
          1863,
          1864,
          1865,
          1866,
          1867,
          1868,
          1869,
          1870,
          1871,
          1872,
          1873,
          1874,
          1875,
          1876,
          1877,
          1878,
          1879,
          1880,
          1881,
          1882,
          1883,
          1884,
          1885,
          1886,
          1887,
          1888,
          1889,
          1890,
          1891,
          1892,
          1893,
          1894,
          1895,
          1896,
          1897,
          1898,
          1899,
          1900,
          1901,
          1902,
          1903,
          1904,
          1905,
          1906,
          1907,
          1908,
          1909,
          1910,
          1911,
          1912,
          1913
         ],
         "xaxis": "x",
         "y": [
          0.5672787760483229,
          0.5677735228464698,
          0.5602449232182939,
          0.5588107681049126,
          0.5526165369702659,
          0.5547355221196407,
          0.5419322893226729,
          0.5437393426542929,
          0.5348638742516366,
          0.5322482145529924,
          0.5366653917115876,
          0.533777907455577,
          0.5316709068405208,
          0.5286548899806922,
          0.5269857051153906,
          0.5301135502187433,
          0.5204661383463282,
          0.5170443000782192,
          0.5128983468721531,
          0.5224184736747497,
          0.5157618266698589,
          0.5152794670721856,
          0.5253132861733464,
          0.5178150635560357,
          0.5205283710661973,
          0.5204430370725157,
          0.5170245786027807,
          0.5143341105459996,
          0.5187825355425713,
          0.5188269170276373,
          0.5218801380997838,
          0.5172956297288047,
          0.5167259411208308,
          0.5182985722551505,
          0.5379911694928737,
          0.5382203512307318,
          0.5311748772872821,
          0.536024095852047,
          0.5181397496299484,
          0.4971918432146185,
          0.4952276290983176,
          0.465705294449122,
          0.4786241431852994,
          0.4720491776150881,
          0.4632485446257954,
          0.4496721085739105,
          0.4316644728113515,
          0.4145434660280667,
          0.3809753024795568,
          0.3587558618919968,
          0.355795803978806,
          0.3258175977328671,
          0.3222276241182549,
          0.3312791079739162,
          0.3390160982134556,
          0.3515186553312457,
          0.3561288319206327,
          0.3846717222718938,
          0.4088246669521085
         ],
         "yaxis": "y"
        },
        {
         "hoverinfo": "text",
         "hovertext": "dynp_l2",
         "line": {
          "color": "red",
          "dash": "dash",
          "width": 2
         },
         "mode": "lines",
         "showlegend": false,
         "type": "scatter",
         "x": [
          1900.3180233526189,
          1900.3180233526189
         ],
         "y": [
          0.3222276241182549,
          0.5677735228464698
         ]
        },
        {
         "hoverinfo": "text",
         "hovertext": "binseg_l2",
         "line": {
          "color": "red",
          "dash": "dash",
          "width": 2
         },
         "mode": "lines",
         "showlegend": false,
         "type": "scatter",
         "x": [
          1900.0635761823098,
          1900.0635761823098
         ],
         "y": [
          0.3222276241182549,
          0.5677735228464698
         ]
        },
        {
         "hoverinfo": "text",
         "hovertext": "bottom_up_l2",
         "line": {
          "color": "red",
          "dash": "dash",
          "width": 2
         },
         "mode": "lines",
         "showlegend": false,
         "type": "scatter",
         "x": [
          1902.626407875736,
          1902.626407875736
         ],
         "y": [
          0.3222276241182549,
          0.5677735228464698
         ]
        },
        {
         "hoverinfo": "text",
         "hovertext": "dynp_rbf",
         "line": {
          "color": "red",
          "dash": "dash",
          "width": 2
         },
         "mode": "lines",
         "showlegend": false,
         "type": "scatter",
         "x": [
          1895.386470830449,
          1895.386470830449
         ],
         "y": [
          0.3222276241182549,
          0.5677735228464698
         ]
        },
        {
         "hoverinfo": "text",
         "hovertext": "kernel_rbf",
         "line": {
          "color": "red",
          "dash": "dash",
          "width": 2
         },
         "mode": "lines",
         "showlegend": false,
         "type": "scatter",
         "x": [
          1895.3253273666467,
          1895.3253273666467
         ],
         "y": [
          0.3222276241182549,
          0.5677735228464698
         ]
        },
        {
         "hoverinfo": "text",
         "hovertext": "binseg_rbf",
         "line": {
          "color": "red",
          "dash": "dash",
          "width": 2
         },
         "mode": "lines",
         "showlegend": false,
         "type": "scatter",
         "x": [
          1895.1737370019002,
          1895.1737370019002
         ],
         "y": [
          0.3222276241182549,
          0.5677735228464698
         ]
        },
        {
         "hoverinfo": "text",
         "hovertext": "bottom_up_rbf",
         "line": {
          "color": "red",
          "dash": "dash",
          "width": 2
         },
         "mode": "lines",
         "showlegend": false,
         "type": "scatter",
         "x": [
          1895.8594464129287,
          1895.8594464129287
         ],
         "y": [
          0.3222276241182549,
          0.5677735228464698
         ]
        },
        {
         "hoverinfo": "text",
         "hovertext": "dynp_rank",
         "line": {
          "color": "red",
          "dash": "dash",
          "width": 2
         },
         "mode": "lines",
         "showlegend": false,
         "type": "scatter",
         "x": [
          1893.160713422174,
          1893.160713422174
         ],
         "y": [
          0.3222276241182549,
          0.5677735228464698
         ]
        },
        {
         "hoverinfo": "text",
         "hovertext": "binseg_rank",
         "line": {
          "color": "red",
          "dash": "dash",
          "width": 2
         },
         "mode": "lines",
         "showlegend": false,
         "type": "scatter",
         "x": [
          1893.040052705649,
          1893.040052705649
         ],
         "y": [
          0.3222276241182549,
          0.5677735228464698
         ]
        },
        {
         "hoverinfo": "text",
         "hovertext": "bottom_up_rank",
         "line": {
          "color": "red",
          "dash": "dash",
          "width": 2
         },
         "mode": "lines",
         "showlegend": false,
         "type": "scatter",
         "x": [
          1892.077981463105,
          1892.077981463105
         ],
         "y": [
          0.3222276241182549,
          0.5677735228464698
         ]
        },
        {
         "hoverinfo": "text",
         "hovertext": "dynp_normal",
         "line": {
          "color": "red",
          "dash": "dash",
          "width": 2
         },
         "mode": "lines",
         "showlegend": false,
         "type": "scatter",
         "x": [
          1895.124524149031,
          1895.124524149031
         ],
         "y": [
          0.3222276241182549,
          0.5677735228464698
         ]
        },
        {
         "hoverinfo": "text",
         "hovertext": "binseg_normal",
         "line": {
          "color": "red",
          "dash": "dash",
          "width": 2
         },
         "mode": "lines",
         "showlegend": false,
         "type": "scatter",
         "x": [
          1895.4903966494564,
          1895.4903966494564
         ],
         "y": [
          0.3222276241182549,
          0.5677735228464698
         ]
        },
        {
         "hoverinfo": "text",
         "hovertext": "bottom_up_normal",
         "line": {
          "color": "red",
          "dash": "dash",
          "width": 2
         },
         "mode": "lines",
         "showlegend": false,
         "type": "scatter",
         "x": [
          1888.3868677671046,
          1888.3868677671046
         ],
         "y": [
          0.3222276241182549,
          0.5677735228464698
         ]
        },
        {
         "hoverinfo": "text",
         "hovertext": "kernel_linear",
         "line": {
          "color": "red",
          "dash": "dash",
          "width": 2
         },
         "mode": "lines",
         "showlegend": false,
         "type": "scatter",
         "x": [
          1900.594679207474,
          1900.594679207474
         ],
         "y": [
          0.3222276241182549,
          0.5677735228464698
         ]
        },
        {
         "hoverinfo": "text",
         "hovertext": "dynp_l1",
         "line": {
          "color": "red",
          "dash": "dash",
          "width": 2
         },
         "mode": "lines",
         "showlegend": false,
         "type": "scatter",
         "x": [
          1900.2776285738066,
          1900.2776285738066
         ],
         "y": [
          0.3222276241182549,
          0.5677735228464698
         ]
        },
        {
         "hoverinfo": "text",
         "hovertext": "binseg_l1",
         "line": {
          "color": "red",
          "dash": "dash",
          "width": 2
         },
         "mode": "lines",
         "showlegend": false,
         "type": "scatter",
         "x": [
          1900.6906736923204,
          1900.6906736923204
         ],
         "y": [
          0.3222276241182549,
          0.5677735228464698
         ]
        },
        {
         "hoverinfo": "text",
         "hovertext": "bottom_up_l1",
         "line": {
          "color": "red",
          "dash": "dash",
          "width": 2
         },
         "mode": "lines",
         "showlegend": false,
         "type": "scatter",
         "x": [
          1901.7742064670774,
          1901.7742064670774
         ],
         "y": [
          0.3222276241182549,
          0.5677735228464698
         ]
        }
       ],
       "layout": {
        "height": 400,
        "legend": {
         "title": {
          "text": "variable"
         },
         "tracegroupgap": 0
        },
        "showlegend": false,
        "template": {
         "data": {
          "bar": [
           {
            "error_x": {
             "color": "#2a3f5f"
            },
            "error_y": {
             "color": "#2a3f5f"
            },
            "marker": {
             "line": {
              "color": "#E5ECF6",
              "width": 0.5
             },
             "pattern": {
              "fillmode": "overlay",
              "size": 10,
              "solidity": 0.2
             }
            },
            "type": "bar"
           }
          ],
          "barpolar": [
           {
            "marker": {
             "line": {
              "color": "#E5ECF6",
              "width": 0.5
             },
             "pattern": {
              "fillmode": "overlay",
              "size": 10,
              "solidity": 0.2
             }
            },
            "type": "barpolar"
           }
          ],
          "carpet": [
           {
            "aaxis": {
             "endlinecolor": "#2a3f5f",
             "gridcolor": "white",
             "linecolor": "white",
             "minorgridcolor": "white",
             "startlinecolor": "#2a3f5f"
            },
            "baxis": {
             "endlinecolor": "#2a3f5f",
             "gridcolor": "white",
             "linecolor": "white",
             "minorgridcolor": "white",
             "startlinecolor": "#2a3f5f"
            },
            "type": "carpet"
           }
          ],
          "choropleth": [
           {
            "colorbar": {
             "outlinewidth": 0,
             "ticks": ""
            },
            "type": "choropleth"
           }
          ],
          "contour": [
           {
            "colorbar": {
             "outlinewidth": 0,
             "ticks": ""
            },
            "colorscale": [
             [
              0,
              "#0d0887"
             ],
             [
              0.1111111111111111,
              "#46039f"
             ],
             [
              0.2222222222222222,
              "#7201a8"
             ],
             [
              0.3333333333333333,
              "#9c179e"
             ],
             [
              0.4444444444444444,
              "#bd3786"
             ],
             [
              0.5555555555555556,
              "#d8576b"
             ],
             [
              0.6666666666666666,
              "#ed7953"
             ],
             [
              0.7777777777777778,
              "#fb9f3a"
             ],
             [
              0.8888888888888888,
              "#fdca26"
             ],
             [
              1,
              "#f0f921"
             ]
            ],
            "type": "contour"
           }
          ],
          "contourcarpet": [
           {
            "colorbar": {
             "outlinewidth": 0,
             "ticks": ""
            },
            "type": "contourcarpet"
           }
          ],
          "heatmap": [
           {
            "colorbar": {
             "outlinewidth": 0,
             "ticks": ""
            },
            "colorscale": [
             [
              0,
              "#0d0887"
             ],
             [
              0.1111111111111111,
              "#46039f"
             ],
             [
              0.2222222222222222,
              "#7201a8"
             ],
             [
              0.3333333333333333,
              "#9c179e"
             ],
             [
              0.4444444444444444,
              "#bd3786"
             ],
             [
              0.5555555555555556,
              "#d8576b"
             ],
             [
              0.6666666666666666,
              "#ed7953"
             ],
             [
              0.7777777777777778,
              "#fb9f3a"
             ],
             [
              0.8888888888888888,
              "#fdca26"
             ],
             [
              1,
              "#f0f921"
             ]
            ],
            "type": "heatmap"
           }
          ],
          "heatmapgl": [
           {
            "colorbar": {
             "outlinewidth": 0,
             "ticks": ""
            },
            "colorscale": [
             [
              0,
              "#0d0887"
             ],
             [
              0.1111111111111111,
              "#46039f"
             ],
             [
              0.2222222222222222,
              "#7201a8"
             ],
             [
              0.3333333333333333,
              "#9c179e"
             ],
             [
              0.4444444444444444,
              "#bd3786"
             ],
             [
              0.5555555555555556,
              "#d8576b"
             ],
             [
              0.6666666666666666,
              "#ed7953"
             ],
             [
              0.7777777777777778,
              "#fb9f3a"
             ],
             [
              0.8888888888888888,
              "#fdca26"
             ],
             [
              1,
              "#f0f921"
             ]
            ],
            "type": "heatmapgl"
           }
          ],
          "histogram": [
           {
            "marker": {
             "pattern": {
              "fillmode": "overlay",
              "size": 10,
              "solidity": 0.2
             }
            },
            "type": "histogram"
           }
          ],
          "histogram2d": [
           {
            "colorbar": {
             "outlinewidth": 0,
             "ticks": ""
            },
            "colorscale": [
             [
              0,
              "#0d0887"
             ],
             [
              0.1111111111111111,
              "#46039f"
             ],
             [
              0.2222222222222222,
              "#7201a8"
             ],
             [
              0.3333333333333333,
              "#9c179e"
             ],
             [
              0.4444444444444444,
              "#bd3786"
             ],
             [
              0.5555555555555556,
              "#d8576b"
             ],
             [
              0.6666666666666666,
              "#ed7953"
             ],
             [
              0.7777777777777778,
              "#fb9f3a"
             ],
             [
              0.8888888888888888,
              "#fdca26"
             ],
             [
              1,
              "#f0f921"
             ]
            ],
            "type": "histogram2d"
           }
          ],
          "histogram2dcontour": [
           {
            "colorbar": {
             "outlinewidth": 0,
             "ticks": ""
            },
            "colorscale": [
             [
              0,
              "#0d0887"
             ],
             [
              0.1111111111111111,
              "#46039f"
             ],
             [
              0.2222222222222222,
              "#7201a8"
             ],
             [
              0.3333333333333333,
              "#9c179e"
             ],
             [
              0.4444444444444444,
              "#bd3786"
             ],
             [
              0.5555555555555556,
              "#d8576b"
             ],
             [
              0.6666666666666666,
              "#ed7953"
             ],
             [
              0.7777777777777778,
              "#fb9f3a"
             ],
             [
              0.8888888888888888,
              "#fdca26"
             ],
             [
              1,
              "#f0f921"
             ]
            ],
            "type": "histogram2dcontour"
           }
          ],
          "mesh3d": [
           {
            "colorbar": {
             "outlinewidth": 0,
             "ticks": ""
            },
            "type": "mesh3d"
           }
          ],
          "parcoords": [
           {
            "line": {
             "colorbar": {
              "outlinewidth": 0,
              "ticks": ""
             }
            },
            "type": "parcoords"
           }
          ],
          "pie": [
           {
            "automargin": true,
            "type": "pie"
           }
          ],
          "scatter": [
           {
            "fillpattern": {
             "fillmode": "overlay",
             "size": 10,
             "solidity": 0.2
            },
            "type": "scatter"
           }
          ],
          "scatter3d": [
           {
            "line": {
             "colorbar": {
              "outlinewidth": 0,
              "ticks": ""
             }
            },
            "marker": {
             "colorbar": {
              "outlinewidth": 0,
              "ticks": ""
             }
            },
            "type": "scatter3d"
           }
          ],
          "scattercarpet": [
           {
            "marker": {
             "colorbar": {
              "outlinewidth": 0,
              "ticks": ""
             }
            },
            "type": "scattercarpet"
           }
          ],
          "scattergeo": [
           {
            "marker": {
             "colorbar": {
              "outlinewidth": 0,
              "ticks": ""
             }
            },
            "type": "scattergeo"
           }
          ],
          "scattergl": [
           {
            "marker": {
             "colorbar": {
              "outlinewidth": 0,
              "ticks": ""
             }
            },
            "type": "scattergl"
           }
          ],
          "scattermapbox": [
           {
            "marker": {
             "colorbar": {
              "outlinewidth": 0,
              "ticks": ""
             }
            },
            "type": "scattermapbox"
           }
          ],
          "scatterpolar": [
           {
            "marker": {
             "colorbar": {
              "outlinewidth": 0,
              "ticks": ""
             }
            },
            "type": "scatterpolar"
           }
          ],
          "scatterpolargl": [
           {
            "marker": {
             "colorbar": {
              "outlinewidth": 0,
              "ticks": ""
             }
            },
            "type": "scatterpolargl"
           }
          ],
          "scatterternary": [
           {
            "marker": {
             "colorbar": {
              "outlinewidth": 0,
              "ticks": ""
             }
            },
            "type": "scatterternary"
           }
          ],
          "surface": [
           {
            "colorbar": {
             "outlinewidth": 0,
             "ticks": ""
            },
            "colorscale": [
             [
              0,
              "#0d0887"
             ],
             [
              0.1111111111111111,
              "#46039f"
             ],
             [
              0.2222222222222222,
              "#7201a8"
             ],
             [
              0.3333333333333333,
              "#9c179e"
             ],
             [
              0.4444444444444444,
              "#bd3786"
             ],
             [
              0.5555555555555556,
              "#d8576b"
             ],
             [
              0.6666666666666666,
              "#ed7953"
             ],
             [
              0.7777777777777778,
              "#fb9f3a"
             ],
             [
              0.8888888888888888,
              "#fdca26"
             ],
             [
              1,
              "#f0f921"
             ]
            ],
            "type": "surface"
           }
          ],
          "table": [
           {
            "cells": {
             "fill": {
              "color": "#EBF0F8"
             },
             "line": {
              "color": "white"
             }
            },
            "header": {
             "fill": {
              "color": "#C8D4E3"
             },
             "line": {
              "color": "white"
             }
            },
            "type": "table"
           }
          ]
         },
         "layout": {
          "annotationdefaults": {
           "arrowcolor": "#2a3f5f",
           "arrowhead": 0,
           "arrowwidth": 1
          },
          "autotypenumbers": "strict",
          "coloraxis": {
           "colorbar": {
            "outlinewidth": 0,
            "ticks": ""
           }
          },
          "colorscale": {
           "diverging": [
            [
             0,
             "#8e0152"
            ],
            [
             0.1,
             "#c51b7d"
            ],
            [
             0.2,
             "#de77ae"
            ],
            [
             0.3,
             "#f1b6da"
            ],
            [
             0.4,
             "#fde0ef"
            ],
            [
             0.5,
             "#f7f7f7"
            ],
            [
             0.6,
             "#e6f5d0"
            ],
            [
             0.7,
             "#b8e186"
            ],
            [
             0.8,
             "#7fbc41"
            ],
            [
             0.9,
             "#4d9221"
            ],
            [
             1,
             "#276419"
            ]
           ],
           "sequential": [
            [
             0,
             "#0d0887"
            ],
            [
             0.1111111111111111,
             "#46039f"
            ],
            [
             0.2222222222222222,
             "#7201a8"
            ],
            [
             0.3333333333333333,
             "#9c179e"
            ],
            [
             0.4444444444444444,
             "#bd3786"
            ],
            [
             0.5555555555555556,
             "#d8576b"
            ],
            [
             0.6666666666666666,
             "#ed7953"
            ],
            [
             0.7777777777777778,
             "#fb9f3a"
            ],
            [
             0.8888888888888888,
             "#fdca26"
            ],
            [
             1,
             "#f0f921"
            ]
           ],
           "sequentialminus": [
            [
             0,
             "#0d0887"
            ],
            [
             0.1111111111111111,
             "#46039f"
            ],
            [
             0.2222222222222222,
             "#7201a8"
            ],
            [
             0.3333333333333333,
             "#9c179e"
            ],
            [
             0.4444444444444444,
             "#bd3786"
            ],
            [
             0.5555555555555556,
             "#d8576b"
            ],
            [
             0.6666666666666666,
             "#ed7953"
            ],
            [
             0.7777777777777778,
             "#fb9f3a"
            ],
            [
             0.8888888888888888,
             "#fdca26"
            ],
            [
             1,
             "#f0f921"
            ]
           ]
          },
          "colorway": [
           "#636efa",
           "#EF553B",
           "#00cc96",
           "#ab63fa",
           "#FFA15A",
           "#19d3f3",
           "#FF6692",
           "#B6E880",
           "#FF97FF",
           "#FECB52"
          ],
          "font": {
           "color": "#2a3f5f"
          },
          "geo": {
           "bgcolor": "white",
           "lakecolor": "white",
           "landcolor": "#E5ECF6",
           "showlakes": true,
           "showland": true,
           "subunitcolor": "white"
          },
          "hoverlabel": {
           "align": "left"
          },
          "hovermode": "closest",
          "mapbox": {
           "style": "light"
          },
          "paper_bgcolor": "white",
          "plot_bgcolor": "#E5ECF6",
          "polar": {
           "angularaxis": {
            "gridcolor": "white",
            "linecolor": "white",
            "ticks": ""
           },
           "bgcolor": "#E5ECF6",
           "radialaxis": {
            "gridcolor": "white",
            "linecolor": "white",
            "ticks": ""
           }
          },
          "scene": {
           "xaxis": {
            "backgroundcolor": "#E5ECF6",
            "gridcolor": "white",
            "gridwidth": 2,
            "linecolor": "white",
            "showbackground": true,
            "ticks": "",
            "zerolinecolor": "white"
           },
           "yaxis": {
            "backgroundcolor": "#E5ECF6",
            "gridcolor": "white",
            "gridwidth": 2,
            "linecolor": "white",
            "showbackground": true,
            "ticks": "",
            "zerolinecolor": "white"
           },
           "zaxis": {
            "backgroundcolor": "#E5ECF6",
            "gridcolor": "white",
            "gridwidth": 2,
            "linecolor": "white",
            "showbackground": true,
            "ticks": "",
            "zerolinecolor": "white"
           }
          },
          "shapedefaults": {
           "line": {
            "color": "#2a3f5f"
           }
          },
          "ternary": {
           "aaxis": {
            "gridcolor": "white",
            "linecolor": "white",
            "ticks": ""
           },
           "baxis": {
            "gridcolor": "white",
            "linecolor": "white",
            "ticks": ""
           },
           "bgcolor": "#E5ECF6",
           "caxis": {
            "gridcolor": "white",
            "linecolor": "white",
            "ticks": ""
           }
          },
          "title": {
           "x": 0.05
          },
          "xaxis": {
           "automargin": true,
           "gridcolor": "white",
           "linecolor": "white",
           "ticks": "",
           "title": {
            "standoff": 15
           },
           "zerolinecolor": "white",
           "zerolinewidth": 2
          },
          "yaxis": {
           "automargin": true,
           "gridcolor": "white",
           "linecolor": "white",
           "ticks": "",
           "title": {
            "standoff": 15
           },
           "zerolinecolor": "white",
           "zerolinewidth": 2
          }
         }
        },
        "title": {
         "text": "06_05_Entitaeten_Bekanntes Individuum"
        },
        "width": 1000,
        "xaxis": {
         "anchor": "y",
         "domain": [
          0,
          1
         ],
         "title": {
          "text": "year"
         }
        },
        "yaxis": {
         "anchor": "x",
         "domain": [
          0,
          1
         ],
         "title": {
          "text": ""
         }
        }
       }
      }
     },
     "metadata": {},
     "output_type": "display_data"
    },
    {
     "data": {
      "application/vnd.plotly.v1+json": {
       "config": {
        "plotlyServerURL": "https://plot.ly"
       },
       "data": [
        {
         "hovertemplate": "variable=06_07_Deutungen_Heroismus<br>year=%{x}<br>=%{y}<extra></extra>",
         "legendgroup": "06_07_Deutungen_Heroismus",
         "line": {
          "color": "#636efa",
          "dash": "solid"
         },
         "marker": {
          "symbol": "circle"
         },
         "mode": "lines",
         "name": "06_07_Deutungen_Heroismus",
         "orientation": "v",
         "showlegend": true,
         "type": "scatter",
         "x": [
          1855,
          1856,
          1857,
          1858,
          1859,
          1860,
          1861,
          1862,
          1863,
          1864,
          1865,
          1866,
          1867,
          1868,
          1869,
          1870,
          1871,
          1872,
          1873,
          1874,
          1875,
          1876,
          1877,
          1878,
          1879,
          1880,
          1881,
          1882,
          1883,
          1884,
          1885,
          1886,
          1887,
          1888,
          1889,
          1890,
          1891,
          1892,
          1893,
          1894,
          1895,
          1896,
          1897,
          1898,
          1899,
          1900,
          1901,
          1902,
          1903,
          1904,
          1905,
          1906,
          1907,
          1908,
          1909,
          1910,
          1911,
          1912,
          1913
         ],
         "xaxis": "x",
         "y": [
          0.295845595835103,
          0.300904261827791,
          0.305197511440864,
          0.313168856538822,
          0.319448596947748,
          0.3255556033414318,
          0.33009874632441,
          0.3209195156471295,
          0.3229763001060137,
          0.3012422433135807,
          0.3136064086535415,
          0.3258398425492533,
          0.3167999765209023,
          0.3122956020876685,
          0.3094755554816774,
          0.3139626806540987,
          0.3057229623333417,
          0.3134605469962938,
          0.3189394510948187,
          0.3176753577290473,
          0.3251122562389431,
          0.3090653884379488,
          0.2934718340744584,
          0.3002003174102828,
          0.2996513825952532,
          0.2960721496094401,
          0.293376448897653,
          0.2921988448917323,
          0.2766402333336948,
          0.2676940822837399,
          0.2396927223128094,
          0.2393819589538579,
          0.2389148686169556,
          0.2419105832104996,
          0.2387632787083776,
          0.2375672319177038,
          0.234469335400399,
          0.2495494766594894,
          0.2577846131052054,
          0.2511383346207008,
          0.2515035243937443,
          0.2568967736894844,
          0.2570193346974575,
          0.2527856031644587,
          0.2421188901738995,
          0.2481686503924557,
          0.2270552663097875,
          0.2277015285802446,
          0.2188094909376215,
          0.2175158464352035,
          0.2278419694448845,
          0.2214230682563786,
          0.2331073020139232,
          0.2213127261999128,
          0.2053284500280725,
          0.2071014901228401,
          0.1841674471018372,
          0.1897582155459321,
          0.1835930158678442
         ],
         "yaxis": "y"
        },
        {
         "hoverinfo": "text",
         "hovertext": "dynp_l2",
         "line": {
          "color": "red",
          "dash": "dash",
          "width": 2
         },
         "mode": "lines",
         "showlegend": false,
         "type": "scatter",
         "x": [
          1883.766384118327,
          1883.766384118327
         ],
         "y": [
          0.1835930158678442,
          0.33009874632441
         ]
        },
        {
         "hoverinfo": "text",
         "hovertext": "binseg_l2",
         "line": {
          "color": "red",
          "dash": "dash",
          "width": 2
         },
         "mode": "lines",
         "showlegend": false,
         "type": "scatter",
         "x": [
          1883.2430740369375,
          1883.2430740369375
         ],
         "y": [
          0.1835930158678442,
          0.33009874632441
         ]
        },
        {
         "hoverinfo": "text",
         "hovertext": "bottom_up_l2",
         "line": {
          "color": "red",
          "dash": "dash",
          "width": 2
         },
         "mode": "lines",
         "showlegend": false,
         "type": "scatter",
         "x": [
          1884.2282810287836,
          1884.2282810287836
         ],
         "y": [
          0.1835930158678442,
          0.33009874632441
         ]
        },
        {
         "hoverinfo": "text",
         "hovertext": "dynp_rbf",
         "line": {
          "color": "red",
          "dash": "dash",
          "width": 2
         },
         "mode": "lines",
         "showlegend": false,
         "type": "scatter",
         "x": [
          1883.1924595110781,
          1883.1924595110781
         ],
         "y": [
          0.1835930158678442,
          0.33009874632441
         ]
        },
        {
         "hoverinfo": "text",
         "hovertext": "kernel_rbf",
         "line": {
          "color": "red",
          "dash": "dash",
          "width": 2
         },
         "mode": "lines",
         "showlegend": false,
         "type": "scatter",
         "x": [
          1883.750024599319,
          1883.750024599319
         ],
         "y": [
          0.1835930158678442,
          0.33009874632441
         ]
        },
        {
         "hoverinfo": "text",
         "hovertext": "binseg_rbf",
         "line": {
          "color": "red",
          "dash": "dash",
          "width": 2
         },
         "mode": "lines",
         "showlegend": false,
         "type": "scatter",
         "x": [
          1883.735550552686,
          1883.735550552686
         ],
         "y": [
          0.1835930158678442,
          0.33009874632441
         ]
        },
        {
         "hoverinfo": "text",
         "hovertext": "bottom_up_rbf",
         "line": {
          "color": "red",
          "dash": "dash",
          "width": 2
         },
         "mode": "lines",
         "showlegend": false,
         "type": "scatter",
         "x": [
          1884.8975284994865,
          1884.8975284994865
         ],
         "y": [
          0.1835930158678442,
          0.33009874632441
         ]
        },
        {
         "hoverinfo": "text",
         "hovertext": "dynp_rank",
         "line": {
          "color": "red",
          "dash": "dash",
          "width": 2
         },
         "mode": "lines",
         "showlegend": false,
         "type": "scatter",
         "x": [
          1883.1434621614421,
          1883.1434621614421
         ],
         "y": [
          0.1835930158678442,
          0.33009874632441
         ]
        },
        {
         "hoverinfo": "text",
         "hovertext": "binseg_rank",
         "line": {
          "color": "red",
          "dash": "dash",
          "width": 2
         },
         "mode": "lines",
         "showlegend": false,
         "type": "scatter",
         "x": [
          1884.745815478136,
          1884.745815478136
         ],
         "y": [
          0.1835930158678442,
          0.33009874632441
         ]
        },
        {
         "hoverinfo": "text",
         "hovertext": "bottom_up_rank",
         "line": {
          "color": "red",
          "dash": "dash",
          "width": 2
         },
         "mode": "lines",
         "showlegend": false,
         "type": "scatter",
         "x": [
          1883.5596414597937,
          1883.5596414597937
         ],
         "y": [
          0.1835930158678442,
          0.33009874632441
         ]
        },
        {
         "hoverinfo": "text",
         "hovertext": "dynp_normal",
         "line": {
          "color": "red",
          "dash": "dash",
          "width": 2
         },
         "mode": "lines",
         "showlegend": false,
         "type": "scatter",
         "x": [
          1882.0866354027348,
          1882.0866354027348
         ],
         "y": [
          0.1835930158678442,
          0.33009874632441
         ]
        },
        {
         "hoverinfo": "text",
         "hovertext": "binseg_normal",
         "line": {
          "color": "red",
          "dash": "dash",
          "width": 2
         },
         "mode": "lines",
         "showlegend": false,
         "type": "scatter",
         "x": [
          1882.110825428556,
          1882.110825428556
         ],
         "y": [
          0.1835930158678442,
          0.33009874632441
         ]
        },
        {
         "hoverinfo": "text",
         "hovertext": "bottom_up_normal",
         "line": {
          "color": "red",
          "dash": "dash",
          "width": 2
         },
         "mode": "lines",
         "showlegend": false,
         "type": "scatter",
         "x": [
          1883.4420412083475,
          1883.4420412083475
         ],
         "y": [
          0.1835930158678442,
          0.33009874632441
         ]
        },
        {
         "hoverinfo": "text",
         "hovertext": "kernel_linear",
         "line": {
          "color": "red",
          "dash": "dash",
          "width": 2
         },
         "mode": "lines",
         "showlegend": false,
         "type": "scatter",
         "x": [
          1883.5631990205177,
          1883.5631990205177
         ],
         "y": [
          0.1835930158678442,
          0.33009874632441
         ]
        },
        {
         "hoverinfo": "text",
         "hovertext": "dynp_l1",
         "line": {
          "color": "red",
          "dash": "dash",
          "width": 2
         },
         "mode": "lines",
         "showlegend": false,
         "type": "scatter",
         "x": [
          1883.147552302569,
          1883.147552302569
         ],
         "y": [
          0.1835930158678442,
          0.33009874632441
         ]
        },
        {
         "hoverinfo": "text",
         "hovertext": "binseg_l1",
         "line": {
          "color": "red",
          "dash": "dash",
          "width": 2
         },
         "mode": "lines",
         "showlegend": false,
         "type": "scatter",
         "x": [
          1883.203316078976,
          1883.203316078976
         ],
         "y": [
          0.1835930158678442,
          0.33009874632441
         ]
        },
        {
         "hoverinfo": "text",
         "hovertext": "bottom_up_l1",
         "line": {
          "color": "red",
          "dash": "dash",
          "width": 2
         },
         "mode": "lines",
         "showlegend": false,
         "type": "scatter",
         "x": [
          1883.4937284633918,
          1883.4937284633918
         ],
         "y": [
          0.1835930158678442,
          0.33009874632441
         ]
        }
       ],
       "layout": {
        "height": 400,
        "legend": {
         "title": {
          "text": "variable"
         },
         "tracegroupgap": 0
        },
        "showlegend": false,
        "template": {
         "data": {
          "bar": [
           {
            "error_x": {
             "color": "#2a3f5f"
            },
            "error_y": {
             "color": "#2a3f5f"
            },
            "marker": {
             "line": {
              "color": "#E5ECF6",
              "width": 0.5
             },
             "pattern": {
              "fillmode": "overlay",
              "size": 10,
              "solidity": 0.2
             }
            },
            "type": "bar"
           }
          ],
          "barpolar": [
           {
            "marker": {
             "line": {
              "color": "#E5ECF6",
              "width": 0.5
             },
             "pattern": {
              "fillmode": "overlay",
              "size": 10,
              "solidity": 0.2
             }
            },
            "type": "barpolar"
           }
          ],
          "carpet": [
           {
            "aaxis": {
             "endlinecolor": "#2a3f5f",
             "gridcolor": "white",
             "linecolor": "white",
             "minorgridcolor": "white",
             "startlinecolor": "#2a3f5f"
            },
            "baxis": {
             "endlinecolor": "#2a3f5f",
             "gridcolor": "white",
             "linecolor": "white",
             "minorgridcolor": "white",
             "startlinecolor": "#2a3f5f"
            },
            "type": "carpet"
           }
          ],
          "choropleth": [
           {
            "colorbar": {
             "outlinewidth": 0,
             "ticks": ""
            },
            "type": "choropleth"
           }
          ],
          "contour": [
           {
            "colorbar": {
             "outlinewidth": 0,
             "ticks": ""
            },
            "colorscale": [
             [
              0,
              "#0d0887"
             ],
             [
              0.1111111111111111,
              "#46039f"
             ],
             [
              0.2222222222222222,
              "#7201a8"
             ],
             [
              0.3333333333333333,
              "#9c179e"
             ],
             [
              0.4444444444444444,
              "#bd3786"
             ],
             [
              0.5555555555555556,
              "#d8576b"
             ],
             [
              0.6666666666666666,
              "#ed7953"
             ],
             [
              0.7777777777777778,
              "#fb9f3a"
             ],
             [
              0.8888888888888888,
              "#fdca26"
             ],
             [
              1,
              "#f0f921"
             ]
            ],
            "type": "contour"
           }
          ],
          "contourcarpet": [
           {
            "colorbar": {
             "outlinewidth": 0,
             "ticks": ""
            },
            "type": "contourcarpet"
           }
          ],
          "heatmap": [
           {
            "colorbar": {
             "outlinewidth": 0,
             "ticks": ""
            },
            "colorscale": [
             [
              0,
              "#0d0887"
             ],
             [
              0.1111111111111111,
              "#46039f"
             ],
             [
              0.2222222222222222,
              "#7201a8"
             ],
             [
              0.3333333333333333,
              "#9c179e"
             ],
             [
              0.4444444444444444,
              "#bd3786"
             ],
             [
              0.5555555555555556,
              "#d8576b"
             ],
             [
              0.6666666666666666,
              "#ed7953"
             ],
             [
              0.7777777777777778,
              "#fb9f3a"
             ],
             [
              0.8888888888888888,
              "#fdca26"
             ],
             [
              1,
              "#f0f921"
             ]
            ],
            "type": "heatmap"
           }
          ],
          "heatmapgl": [
           {
            "colorbar": {
             "outlinewidth": 0,
             "ticks": ""
            },
            "colorscale": [
             [
              0,
              "#0d0887"
             ],
             [
              0.1111111111111111,
              "#46039f"
             ],
             [
              0.2222222222222222,
              "#7201a8"
             ],
             [
              0.3333333333333333,
              "#9c179e"
             ],
             [
              0.4444444444444444,
              "#bd3786"
             ],
             [
              0.5555555555555556,
              "#d8576b"
             ],
             [
              0.6666666666666666,
              "#ed7953"
             ],
             [
              0.7777777777777778,
              "#fb9f3a"
             ],
             [
              0.8888888888888888,
              "#fdca26"
             ],
             [
              1,
              "#f0f921"
             ]
            ],
            "type": "heatmapgl"
           }
          ],
          "histogram": [
           {
            "marker": {
             "pattern": {
              "fillmode": "overlay",
              "size": 10,
              "solidity": 0.2
             }
            },
            "type": "histogram"
           }
          ],
          "histogram2d": [
           {
            "colorbar": {
             "outlinewidth": 0,
             "ticks": ""
            },
            "colorscale": [
             [
              0,
              "#0d0887"
             ],
             [
              0.1111111111111111,
              "#46039f"
             ],
             [
              0.2222222222222222,
              "#7201a8"
             ],
             [
              0.3333333333333333,
              "#9c179e"
             ],
             [
              0.4444444444444444,
              "#bd3786"
             ],
             [
              0.5555555555555556,
              "#d8576b"
             ],
             [
              0.6666666666666666,
              "#ed7953"
             ],
             [
              0.7777777777777778,
              "#fb9f3a"
             ],
             [
              0.8888888888888888,
              "#fdca26"
             ],
             [
              1,
              "#f0f921"
             ]
            ],
            "type": "histogram2d"
           }
          ],
          "histogram2dcontour": [
           {
            "colorbar": {
             "outlinewidth": 0,
             "ticks": ""
            },
            "colorscale": [
             [
              0,
              "#0d0887"
             ],
             [
              0.1111111111111111,
              "#46039f"
             ],
             [
              0.2222222222222222,
              "#7201a8"
             ],
             [
              0.3333333333333333,
              "#9c179e"
             ],
             [
              0.4444444444444444,
              "#bd3786"
             ],
             [
              0.5555555555555556,
              "#d8576b"
             ],
             [
              0.6666666666666666,
              "#ed7953"
             ],
             [
              0.7777777777777778,
              "#fb9f3a"
             ],
             [
              0.8888888888888888,
              "#fdca26"
             ],
             [
              1,
              "#f0f921"
             ]
            ],
            "type": "histogram2dcontour"
           }
          ],
          "mesh3d": [
           {
            "colorbar": {
             "outlinewidth": 0,
             "ticks": ""
            },
            "type": "mesh3d"
           }
          ],
          "parcoords": [
           {
            "line": {
             "colorbar": {
              "outlinewidth": 0,
              "ticks": ""
             }
            },
            "type": "parcoords"
           }
          ],
          "pie": [
           {
            "automargin": true,
            "type": "pie"
           }
          ],
          "scatter": [
           {
            "fillpattern": {
             "fillmode": "overlay",
             "size": 10,
             "solidity": 0.2
            },
            "type": "scatter"
           }
          ],
          "scatter3d": [
           {
            "line": {
             "colorbar": {
              "outlinewidth": 0,
              "ticks": ""
             }
            },
            "marker": {
             "colorbar": {
              "outlinewidth": 0,
              "ticks": ""
             }
            },
            "type": "scatter3d"
           }
          ],
          "scattercarpet": [
           {
            "marker": {
             "colorbar": {
              "outlinewidth": 0,
              "ticks": ""
             }
            },
            "type": "scattercarpet"
           }
          ],
          "scattergeo": [
           {
            "marker": {
             "colorbar": {
              "outlinewidth": 0,
              "ticks": ""
             }
            },
            "type": "scattergeo"
           }
          ],
          "scattergl": [
           {
            "marker": {
             "colorbar": {
              "outlinewidth": 0,
              "ticks": ""
             }
            },
            "type": "scattergl"
           }
          ],
          "scattermapbox": [
           {
            "marker": {
             "colorbar": {
              "outlinewidth": 0,
              "ticks": ""
             }
            },
            "type": "scattermapbox"
           }
          ],
          "scatterpolar": [
           {
            "marker": {
             "colorbar": {
              "outlinewidth": 0,
              "ticks": ""
             }
            },
            "type": "scatterpolar"
           }
          ],
          "scatterpolargl": [
           {
            "marker": {
             "colorbar": {
              "outlinewidth": 0,
              "ticks": ""
             }
            },
            "type": "scatterpolargl"
           }
          ],
          "scatterternary": [
           {
            "marker": {
             "colorbar": {
              "outlinewidth": 0,
              "ticks": ""
             }
            },
            "type": "scatterternary"
           }
          ],
          "surface": [
           {
            "colorbar": {
             "outlinewidth": 0,
             "ticks": ""
            },
            "colorscale": [
             [
              0,
              "#0d0887"
             ],
             [
              0.1111111111111111,
              "#46039f"
             ],
             [
              0.2222222222222222,
              "#7201a8"
             ],
             [
              0.3333333333333333,
              "#9c179e"
             ],
             [
              0.4444444444444444,
              "#bd3786"
             ],
             [
              0.5555555555555556,
              "#d8576b"
             ],
             [
              0.6666666666666666,
              "#ed7953"
             ],
             [
              0.7777777777777778,
              "#fb9f3a"
             ],
             [
              0.8888888888888888,
              "#fdca26"
             ],
             [
              1,
              "#f0f921"
             ]
            ],
            "type": "surface"
           }
          ],
          "table": [
           {
            "cells": {
             "fill": {
              "color": "#EBF0F8"
             },
             "line": {
              "color": "white"
             }
            },
            "header": {
             "fill": {
              "color": "#C8D4E3"
             },
             "line": {
              "color": "white"
             }
            },
            "type": "table"
           }
          ]
         },
         "layout": {
          "annotationdefaults": {
           "arrowcolor": "#2a3f5f",
           "arrowhead": 0,
           "arrowwidth": 1
          },
          "autotypenumbers": "strict",
          "coloraxis": {
           "colorbar": {
            "outlinewidth": 0,
            "ticks": ""
           }
          },
          "colorscale": {
           "diverging": [
            [
             0,
             "#8e0152"
            ],
            [
             0.1,
             "#c51b7d"
            ],
            [
             0.2,
             "#de77ae"
            ],
            [
             0.3,
             "#f1b6da"
            ],
            [
             0.4,
             "#fde0ef"
            ],
            [
             0.5,
             "#f7f7f7"
            ],
            [
             0.6,
             "#e6f5d0"
            ],
            [
             0.7,
             "#b8e186"
            ],
            [
             0.8,
             "#7fbc41"
            ],
            [
             0.9,
             "#4d9221"
            ],
            [
             1,
             "#276419"
            ]
           ],
           "sequential": [
            [
             0,
             "#0d0887"
            ],
            [
             0.1111111111111111,
             "#46039f"
            ],
            [
             0.2222222222222222,
             "#7201a8"
            ],
            [
             0.3333333333333333,
             "#9c179e"
            ],
            [
             0.4444444444444444,
             "#bd3786"
            ],
            [
             0.5555555555555556,
             "#d8576b"
            ],
            [
             0.6666666666666666,
             "#ed7953"
            ],
            [
             0.7777777777777778,
             "#fb9f3a"
            ],
            [
             0.8888888888888888,
             "#fdca26"
            ],
            [
             1,
             "#f0f921"
            ]
           ],
           "sequentialminus": [
            [
             0,
             "#0d0887"
            ],
            [
             0.1111111111111111,
             "#46039f"
            ],
            [
             0.2222222222222222,
             "#7201a8"
            ],
            [
             0.3333333333333333,
             "#9c179e"
            ],
            [
             0.4444444444444444,
             "#bd3786"
            ],
            [
             0.5555555555555556,
             "#d8576b"
            ],
            [
             0.6666666666666666,
             "#ed7953"
            ],
            [
             0.7777777777777778,
             "#fb9f3a"
            ],
            [
             0.8888888888888888,
             "#fdca26"
            ],
            [
             1,
             "#f0f921"
            ]
           ]
          },
          "colorway": [
           "#636efa",
           "#EF553B",
           "#00cc96",
           "#ab63fa",
           "#FFA15A",
           "#19d3f3",
           "#FF6692",
           "#B6E880",
           "#FF97FF",
           "#FECB52"
          ],
          "font": {
           "color": "#2a3f5f"
          },
          "geo": {
           "bgcolor": "white",
           "lakecolor": "white",
           "landcolor": "#E5ECF6",
           "showlakes": true,
           "showland": true,
           "subunitcolor": "white"
          },
          "hoverlabel": {
           "align": "left"
          },
          "hovermode": "closest",
          "mapbox": {
           "style": "light"
          },
          "paper_bgcolor": "white",
          "plot_bgcolor": "#E5ECF6",
          "polar": {
           "angularaxis": {
            "gridcolor": "white",
            "linecolor": "white",
            "ticks": ""
           },
           "bgcolor": "#E5ECF6",
           "radialaxis": {
            "gridcolor": "white",
            "linecolor": "white",
            "ticks": ""
           }
          },
          "scene": {
           "xaxis": {
            "backgroundcolor": "#E5ECF6",
            "gridcolor": "white",
            "gridwidth": 2,
            "linecolor": "white",
            "showbackground": true,
            "ticks": "",
            "zerolinecolor": "white"
           },
           "yaxis": {
            "backgroundcolor": "#E5ECF6",
            "gridcolor": "white",
            "gridwidth": 2,
            "linecolor": "white",
            "showbackground": true,
            "ticks": "",
            "zerolinecolor": "white"
           },
           "zaxis": {
            "backgroundcolor": "#E5ECF6",
            "gridcolor": "white",
            "gridwidth": 2,
            "linecolor": "white",
            "showbackground": true,
            "ticks": "",
            "zerolinecolor": "white"
           }
          },
          "shapedefaults": {
           "line": {
            "color": "#2a3f5f"
           }
          },
          "ternary": {
           "aaxis": {
            "gridcolor": "white",
            "linecolor": "white",
            "ticks": ""
           },
           "baxis": {
            "gridcolor": "white",
            "linecolor": "white",
            "ticks": ""
           },
           "bgcolor": "#E5ECF6",
           "caxis": {
            "gridcolor": "white",
            "linecolor": "white",
            "ticks": ""
           }
          },
          "title": {
           "x": 0.05
          },
          "xaxis": {
           "automargin": true,
           "gridcolor": "white",
           "linecolor": "white",
           "ticks": "",
           "title": {
            "standoff": 15
           },
           "zerolinecolor": "white",
           "zerolinewidth": 2
          },
          "yaxis": {
           "automargin": true,
           "gridcolor": "white",
           "linecolor": "white",
           "ticks": "",
           "title": {
            "standoff": 15
           },
           "zerolinecolor": "white",
           "zerolinewidth": 2
          }
         }
        },
        "title": {
         "text": "06_07_Deutungen_Heroismus"
        },
        "width": 1000,
        "xaxis": {
         "anchor": "y",
         "domain": [
          0,
          1
         ],
         "title": {
          "text": "year"
         }
        },
        "yaxis": {
         "anchor": "x",
         "domain": [
          0,
          1
         ],
         "title": {
          "text": ""
         }
        }
       }
      }
     },
     "metadata": {},
     "output_type": "display_data"
    },
    {
     "data": {
      "application/vnd.plotly.v1+json": {
       "config": {
        "plotlyServerURL": "https://plot.ly"
       },
       "data": [
        {
         "hovertemplate": "variable=06_07_Deutungen_Nationalismus<br>year=%{x}<br>=%{y}<extra></extra>",
         "legendgroup": "06_07_Deutungen_Nationalismus",
         "line": {
          "color": "#636efa",
          "dash": "solid"
         },
         "marker": {
          "symbol": "circle"
         },
         "mode": "lines",
         "name": "06_07_Deutungen_Nationalismus",
         "orientation": "v",
         "showlegend": true,
         "type": "scatter",
         "x": [
          1855,
          1856,
          1857,
          1858,
          1859,
          1860,
          1861,
          1862,
          1863,
          1864,
          1865,
          1866,
          1867,
          1868,
          1869,
          1870,
          1871,
          1872,
          1873,
          1874,
          1875,
          1876,
          1877,
          1878,
          1879,
          1880,
          1881,
          1882,
          1883,
          1884,
          1885,
          1886,
          1887,
          1888,
          1889,
          1890,
          1891,
          1892,
          1893,
          1894,
          1895,
          1896,
          1897,
          1898,
          1899,
          1900,
          1901,
          1902,
          1903,
          1904,
          1905,
          1906,
          1907,
          1908,
          1909,
          1910,
          1911,
          1912,
          1913
         ],
         "xaxis": "x",
         "y": [
          0.0761518824199354,
          0.0750197397123028,
          0.0725610378134324,
          0.0771130756816655,
          0.0839563536429588,
          0.0895926402949964,
          0.0971690833469609,
          0.0971385679677988,
          0.0891709335921098,
          0.0837908837428912,
          0.1347057734380031,
          0.1673366374293929,
          0.1752383102471046,
          0.1905155244505025,
          0.198025493819869,
          0.2221618547829669,
          0.2334808296273485,
          0.2429804158314451,
          0.2551794376663671,
          0.2326282668513024,
          0.2459385746670846,
          0.1770854508686927,
          0.1371243023923517,
          0.1375375914457776,
          0.1368582159115041,
          0.1384804886016871,
          0.1257208546663724,
          0.1221592800575184,
          0.1252919694387678,
          0.1190104871376128,
          0.1252132519612107,
          0.1260229797843318,
          0.1448894057460737,
          0.1498202340531223,
          0.1495847743221405,
          0.1423992745937928,
          0.1389302829385147,
          0.1566578393530115,
          0.1622417418628012,
          0.1538307173947437,
          0.1717580951770586,
          0.1853359213290509,
          0.196057176223743,
          0.1944178214085806,
          0.2023231201922431,
          0.1834022866705491,
          0.1707824452512161,
          0.1588962094109934,
          0.1235591066093147,
          0.10789598144207,
          0.1013710193732412,
          0.0976894347982418,
          0.0766187566489185,
          0.0588756843769982,
          0.0825873668535834,
          0.0876382516936575,
          0.101805144208563,
          0.1072028558547789,
          0.1310317187498751
         ],
         "yaxis": "y"
        },
        {
         "hoverinfo": "text",
         "hovertext": "dynp_l2",
         "line": {
          "color": "red",
          "dash": "dash",
          "width": 2
         },
         "mode": "lines",
         "showlegend": false,
         "type": "scatter",
         "x": [
          1864.2826832363949,
          1864.2826832363949
         ],
         "y": [
          0.0588756843769982,
          0.2551794376663671
         ]
        },
        {
         "hoverinfo": "text",
         "hovertext": "binseg_l2",
         "line": {
          "color": "red",
          "dash": "dash",
          "width": 2
         },
         "mode": "lines",
         "showlegend": false,
         "type": "scatter",
         "x": [
          1864.46979553792,
          1864.46979553792
         ],
         "y": [
          0.0588756843769982,
          0.2551794376663671
         ]
        },
        {
         "hoverinfo": "text",
         "hovertext": "bottom_up_l2",
         "line": {
          "color": "red",
          "dash": "dash",
          "width": 2
         },
         "mode": "lines",
         "showlegend": false,
         "type": "scatter",
         "x": [
          1864.1065717582705,
          1864.1065717582705
         ],
         "y": [
          0.0588756843769982,
          0.2551794376663671
         ]
        },
        {
         "hoverinfo": "text",
         "hovertext": "dynp_rbf",
         "line": {
          "color": "red",
          "dash": "dash",
          "width": 2
         },
         "mode": "lines",
         "showlegend": false,
         "type": "scatter",
         "x": [
          1864.1040545522176,
          1864.1040545522176
         ],
         "y": [
          0.0588756843769982,
          0.2551794376663671
         ]
        },
        {
         "hoverinfo": "text",
         "hovertext": "kernel_rbf",
         "line": {
          "color": "red",
          "dash": "dash",
          "width": 2
         },
         "mode": "lines",
         "showlegend": false,
         "type": "scatter",
         "x": [
          1864.9783592691797,
          1864.9783592691797
         ],
         "y": [
          0.0588756843769982,
          0.2551794376663671
         ]
        },
        {
         "hoverinfo": "text",
         "hovertext": "binseg_rbf",
         "line": {
          "color": "red",
          "dash": "dash",
          "width": 2
         },
         "mode": "lines",
         "showlegend": false,
         "type": "scatter",
         "x": [
          1864.2858515993519,
          1864.2858515993519
         ],
         "y": [
          0.0588756843769982,
          0.2551794376663671
         ]
        },
        {
         "hoverinfo": "text",
         "hovertext": "bottom_up_rbf",
         "line": {
          "color": "red",
          "dash": "dash",
          "width": 2
         },
         "mode": "lines",
         "showlegend": false,
         "type": "scatter",
         "x": [
          1864.2145378434438,
          1864.2145378434438
         ],
         "y": [
          0.0588756843769982,
          0.2551794376663671
         ]
        },
        {
         "hoverinfo": "text",
         "hovertext": "dynp_rank",
         "line": {
          "color": "red",
          "dash": "dash",
          "width": 2
         },
         "mode": "lines",
         "showlegend": false,
         "type": "scatter",
         "x": [
          1864.022321343511,
          1864.022321343511
         ],
         "y": [
          0.0588756843769982,
          0.2551794376663671
         ]
        },
        {
         "hoverinfo": "text",
         "hovertext": "binseg_rank",
         "line": {
          "color": "red",
          "dash": "dash",
          "width": 2
         },
         "mode": "lines",
         "showlegend": false,
         "type": "scatter",
         "x": [
          1864.521250295715,
          1864.521250295715
         ],
         "y": [
          0.0588756843769982,
          0.2551794376663671
         ]
        },
        {
         "hoverinfo": "text",
         "hovertext": "bottom_up_rank",
         "line": {
          "color": "red",
          "dash": "dash",
          "width": 2
         },
         "mode": "lines",
         "showlegend": false,
         "type": "scatter",
         "x": [
          1864.5942926657233,
          1864.5942926657233
         ],
         "y": [
          0.0588756843769982,
          0.2551794376663671
         ]
        },
        {
         "hoverinfo": "text",
         "hovertext": "dynp_normal",
         "line": {
          "color": "red",
          "dash": "dash",
          "width": 2
         },
         "mode": "lines",
         "showlegend": false,
         "type": "scatter",
         "x": [
          1864.6498912171467,
          1864.6498912171467
         ],
         "y": [
          0.0588756843769982,
          0.2551794376663671
         ]
        },
        {
         "hoverinfo": "text",
         "hovertext": "binseg_normal",
         "line": {
          "color": "red",
          "dash": "dash",
          "width": 2
         },
         "mode": "lines",
         "showlegend": false,
         "type": "scatter",
         "x": [
          1864.1566796295713,
          1864.1566796295713
         ],
         "y": [
          0.0588756843769982,
          0.2551794376663671
         ]
        },
        {
         "hoverinfo": "text",
         "hovertext": "bottom_up_normal",
         "line": {
          "color": "red",
          "dash": "dash",
          "width": 2
         },
         "mode": "lines",
         "showlegend": false,
         "type": "scatter",
         "x": [
          1864.8513012527696,
          1864.8513012527696
         ],
         "y": [
          0.0588756843769982,
          0.2551794376663671
         ]
        },
        {
         "hoverinfo": "text",
         "hovertext": "kernel_linear",
         "line": {
          "color": "red",
          "dash": "dash",
          "width": 2
         },
         "mode": "lines",
         "showlegend": false,
         "type": "scatter",
         "x": [
          1864.7112260852862,
          1864.7112260852862
         ],
         "y": [
          0.0588756843769982,
          0.2551794376663671
         ]
        },
        {
         "hoverinfo": "text",
         "hovertext": "dynp_l1",
         "line": {
          "color": "red",
          "dash": "dash",
          "width": 2
         },
         "mode": "lines",
         "showlegend": false,
         "type": "scatter",
         "x": [
          1864.9734312540158,
          1864.9734312540158
         ],
         "y": [
          0.0588756843769982,
          0.2551794376663671
         ]
        },
        {
         "hoverinfo": "text",
         "hovertext": "binseg_l1",
         "line": {
          "color": "red",
          "dash": "dash",
          "width": 2
         },
         "mode": "lines",
         "showlegend": false,
         "type": "scatter",
         "x": [
          1864.344548700559,
          1864.344548700559
         ],
         "y": [
          0.0588756843769982,
          0.2551794376663671
         ]
        },
        {
         "hoverinfo": "text",
         "hovertext": "bottom_up_l1",
         "line": {
          "color": "red",
          "dash": "dash",
          "width": 2
         },
         "mode": "lines",
         "showlegend": false,
         "type": "scatter",
         "x": [
          1864.2594643318732,
          1864.2594643318732
         ],
         "y": [
          0.0588756843769982,
          0.2551794376663671
         ]
        }
       ],
       "layout": {
        "height": 400,
        "legend": {
         "title": {
          "text": "variable"
         },
         "tracegroupgap": 0
        },
        "showlegend": false,
        "template": {
         "data": {
          "bar": [
           {
            "error_x": {
             "color": "#2a3f5f"
            },
            "error_y": {
             "color": "#2a3f5f"
            },
            "marker": {
             "line": {
              "color": "#E5ECF6",
              "width": 0.5
             },
             "pattern": {
              "fillmode": "overlay",
              "size": 10,
              "solidity": 0.2
             }
            },
            "type": "bar"
           }
          ],
          "barpolar": [
           {
            "marker": {
             "line": {
              "color": "#E5ECF6",
              "width": 0.5
             },
             "pattern": {
              "fillmode": "overlay",
              "size": 10,
              "solidity": 0.2
             }
            },
            "type": "barpolar"
           }
          ],
          "carpet": [
           {
            "aaxis": {
             "endlinecolor": "#2a3f5f",
             "gridcolor": "white",
             "linecolor": "white",
             "minorgridcolor": "white",
             "startlinecolor": "#2a3f5f"
            },
            "baxis": {
             "endlinecolor": "#2a3f5f",
             "gridcolor": "white",
             "linecolor": "white",
             "minorgridcolor": "white",
             "startlinecolor": "#2a3f5f"
            },
            "type": "carpet"
           }
          ],
          "choropleth": [
           {
            "colorbar": {
             "outlinewidth": 0,
             "ticks": ""
            },
            "type": "choropleth"
           }
          ],
          "contour": [
           {
            "colorbar": {
             "outlinewidth": 0,
             "ticks": ""
            },
            "colorscale": [
             [
              0,
              "#0d0887"
             ],
             [
              0.1111111111111111,
              "#46039f"
             ],
             [
              0.2222222222222222,
              "#7201a8"
             ],
             [
              0.3333333333333333,
              "#9c179e"
             ],
             [
              0.4444444444444444,
              "#bd3786"
             ],
             [
              0.5555555555555556,
              "#d8576b"
             ],
             [
              0.6666666666666666,
              "#ed7953"
             ],
             [
              0.7777777777777778,
              "#fb9f3a"
             ],
             [
              0.8888888888888888,
              "#fdca26"
             ],
             [
              1,
              "#f0f921"
             ]
            ],
            "type": "contour"
           }
          ],
          "contourcarpet": [
           {
            "colorbar": {
             "outlinewidth": 0,
             "ticks": ""
            },
            "type": "contourcarpet"
           }
          ],
          "heatmap": [
           {
            "colorbar": {
             "outlinewidth": 0,
             "ticks": ""
            },
            "colorscale": [
             [
              0,
              "#0d0887"
             ],
             [
              0.1111111111111111,
              "#46039f"
             ],
             [
              0.2222222222222222,
              "#7201a8"
             ],
             [
              0.3333333333333333,
              "#9c179e"
             ],
             [
              0.4444444444444444,
              "#bd3786"
             ],
             [
              0.5555555555555556,
              "#d8576b"
             ],
             [
              0.6666666666666666,
              "#ed7953"
             ],
             [
              0.7777777777777778,
              "#fb9f3a"
             ],
             [
              0.8888888888888888,
              "#fdca26"
             ],
             [
              1,
              "#f0f921"
             ]
            ],
            "type": "heatmap"
           }
          ],
          "heatmapgl": [
           {
            "colorbar": {
             "outlinewidth": 0,
             "ticks": ""
            },
            "colorscale": [
             [
              0,
              "#0d0887"
             ],
             [
              0.1111111111111111,
              "#46039f"
             ],
             [
              0.2222222222222222,
              "#7201a8"
             ],
             [
              0.3333333333333333,
              "#9c179e"
             ],
             [
              0.4444444444444444,
              "#bd3786"
             ],
             [
              0.5555555555555556,
              "#d8576b"
             ],
             [
              0.6666666666666666,
              "#ed7953"
             ],
             [
              0.7777777777777778,
              "#fb9f3a"
             ],
             [
              0.8888888888888888,
              "#fdca26"
             ],
             [
              1,
              "#f0f921"
             ]
            ],
            "type": "heatmapgl"
           }
          ],
          "histogram": [
           {
            "marker": {
             "pattern": {
              "fillmode": "overlay",
              "size": 10,
              "solidity": 0.2
             }
            },
            "type": "histogram"
           }
          ],
          "histogram2d": [
           {
            "colorbar": {
             "outlinewidth": 0,
             "ticks": ""
            },
            "colorscale": [
             [
              0,
              "#0d0887"
             ],
             [
              0.1111111111111111,
              "#46039f"
             ],
             [
              0.2222222222222222,
              "#7201a8"
             ],
             [
              0.3333333333333333,
              "#9c179e"
             ],
             [
              0.4444444444444444,
              "#bd3786"
             ],
             [
              0.5555555555555556,
              "#d8576b"
             ],
             [
              0.6666666666666666,
              "#ed7953"
             ],
             [
              0.7777777777777778,
              "#fb9f3a"
             ],
             [
              0.8888888888888888,
              "#fdca26"
             ],
             [
              1,
              "#f0f921"
             ]
            ],
            "type": "histogram2d"
           }
          ],
          "histogram2dcontour": [
           {
            "colorbar": {
             "outlinewidth": 0,
             "ticks": ""
            },
            "colorscale": [
             [
              0,
              "#0d0887"
             ],
             [
              0.1111111111111111,
              "#46039f"
             ],
             [
              0.2222222222222222,
              "#7201a8"
             ],
             [
              0.3333333333333333,
              "#9c179e"
             ],
             [
              0.4444444444444444,
              "#bd3786"
             ],
             [
              0.5555555555555556,
              "#d8576b"
             ],
             [
              0.6666666666666666,
              "#ed7953"
             ],
             [
              0.7777777777777778,
              "#fb9f3a"
             ],
             [
              0.8888888888888888,
              "#fdca26"
             ],
             [
              1,
              "#f0f921"
             ]
            ],
            "type": "histogram2dcontour"
           }
          ],
          "mesh3d": [
           {
            "colorbar": {
             "outlinewidth": 0,
             "ticks": ""
            },
            "type": "mesh3d"
           }
          ],
          "parcoords": [
           {
            "line": {
             "colorbar": {
              "outlinewidth": 0,
              "ticks": ""
             }
            },
            "type": "parcoords"
           }
          ],
          "pie": [
           {
            "automargin": true,
            "type": "pie"
           }
          ],
          "scatter": [
           {
            "fillpattern": {
             "fillmode": "overlay",
             "size": 10,
             "solidity": 0.2
            },
            "type": "scatter"
           }
          ],
          "scatter3d": [
           {
            "line": {
             "colorbar": {
              "outlinewidth": 0,
              "ticks": ""
             }
            },
            "marker": {
             "colorbar": {
              "outlinewidth": 0,
              "ticks": ""
             }
            },
            "type": "scatter3d"
           }
          ],
          "scattercarpet": [
           {
            "marker": {
             "colorbar": {
              "outlinewidth": 0,
              "ticks": ""
             }
            },
            "type": "scattercarpet"
           }
          ],
          "scattergeo": [
           {
            "marker": {
             "colorbar": {
              "outlinewidth": 0,
              "ticks": ""
             }
            },
            "type": "scattergeo"
           }
          ],
          "scattergl": [
           {
            "marker": {
             "colorbar": {
              "outlinewidth": 0,
              "ticks": ""
             }
            },
            "type": "scattergl"
           }
          ],
          "scattermapbox": [
           {
            "marker": {
             "colorbar": {
              "outlinewidth": 0,
              "ticks": ""
             }
            },
            "type": "scattermapbox"
           }
          ],
          "scatterpolar": [
           {
            "marker": {
             "colorbar": {
              "outlinewidth": 0,
              "ticks": ""
             }
            },
            "type": "scatterpolar"
           }
          ],
          "scatterpolargl": [
           {
            "marker": {
             "colorbar": {
              "outlinewidth": 0,
              "ticks": ""
             }
            },
            "type": "scatterpolargl"
           }
          ],
          "scatterternary": [
           {
            "marker": {
             "colorbar": {
              "outlinewidth": 0,
              "ticks": ""
             }
            },
            "type": "scatterternary"
           }
          ],
          "surface": [
           {
            "colorbar": {
             "outlinewidth": 0,
             "ticks": ""
            },
            "colorscale": [
             [
              0,
              "#0d0887"
             ],
             [
              0.1111111111111111,
              "#46039f"
             ],
             [
              0.2222222222222222,
              "#7201a8"
             ],
             [
              0.3333333333333333,
              "#9c179e"
             ],
             [
              0.4444444444444444,
              "#bd3786"
             ],
             [
              0.5555555555555556,
              "#d8576b"
             ],
             [
              0.6666666666666666,
              "#ed7953"
             ],
             [
              0.7777777777777778,
              "#fb9f3a"
             ],
             [
              0.8888888888888888,
              "#fdca26"
             ],
             [
              1,
              "#f0f921"
             ]
            ],
            "type": "surface"
           }
          ],
          "table": [
           {
            "cells": {
             "fill": {
              "color": "#EBF0F8"
             },
             "line": {
              "color": "white"
             }
            },
            "header": {
             "fill": {
              "color": "#C8D4E3"
             },
             "line": {
              "color": "white"
             }
            },
            "type": "table"
           }
          ]
         },
         "layout": {
          "annotationdefaults": {
           "arrowcolor": "#2a3f5f",
           "arrowhead": 0,
           "arrowwidth": 1
          },
          "autotypenumbers": "strict",
          "coloraxis": {
           "colorbar": {
            "outlinewidth": 0,
            "ticks": ""
           }
          },
          "colorscale": {
           "diverging": [
            [
             0,
             "#8e0152"
            ],
            [
             0.1,
             "#c51b7d"
            ],
            [
             0.2,
             "#de77ae"
            ],
            [
             0.3,
             "#f1b6da"
            ],
            [
             0.4,
             "#fde0ef"
            ],
            [
             0.5,
             "#f7f7f7"
            ],
            [
             0.6,
             "#e6f5d0"
            ],
            [
             0.7,
             "#b8e186"
            ],
            [
             0.8,
             "#7fbc41"
            ],
            [
             0.9,
             "#4d9221"
            ],
            [
             1,
             "#276419"
            ]
           ],
           "sequential": [
            [
             0,
             "#0d0887"
            ],
            [
             0.1111111111111111,
             "#46039f"
            ],
            [
             0.2222222222222222,
             "#7201a8"
            ],
            [
             0.3333333333333333,
             "#9c179e"
            ],
            [
             0.4444444444444444,
             "#bd3786"
            ],
            [
             0.5555555555555556,
             "#d8576b"
            ],
            [
             0.6666666666666666,
             "#ed7953"
            ],
            [
             0.7777777777777778,
             "#fb9f3a"
            ],
            [
             0.8888888888888888,
             "#fdca26"
            ],
            [
             1,
             "#f0f921"
            ]
           ],
           "sequentialminus": [
            [
             0,
             "#0d0887"
            ],
            [
             0.1111111111111111,
             "#46039f"
            ],
            [
             0.2222222222222222,
             "#7201a8"
            ],
            [
             0.3333333333333333,
             "#9c179e"
            ],
            [
             0.4444444444444444,
             "#bd3786"
            ],
            [
             0.5555555555555556,
             "#d8576b"
            ],
            [
             0.6666666666666666,
             "#ed7953"
            ],
            [
             0.7777777777777778,
             "#fb9f3a"
            ],
            [
             0.8888888888888888,
             "#fdca26"
            ],
            [
             1,
             "#f0f921"
            ]
           ]
          },
          "colorway": [
           "#636efa",
           "#EF553B",
           "#00cc96",
           "#ab63fa",
           "#FFA15A",
           "#19d3f3",
           "#FF6692",
           "#B6E880",
           "#FF97FF",
           "#FECB52"
          ],
          "font": {
           "color": "#2a3f5f"
          },
          "geo": {
           "bgcolor": "white",
           "lakecolor": "white",
           "landcolor": "#E5ECF6",
           "showlakes": true,
           "showland": true,
           "subunitcolor": "white"
          },
          "hoverlabel": {
           "align": "left"
          },
          "hovermode": "closest",
          "mapbox": {
           "style": "light"
          },
          "paper_bgcolor": "white",
          "plot_bgcolor": "#E5ECF6",
          "polar": {
           "angularaxis": {
            "gridcolor": "white",
            "linecolor": "white",
            "ticks": ""
           },
           "bgcolor": "#E5ECF6",
           "radialaxis": {
            "gridcolor": "white",
            "linecolor": "white",
            "ticks": ""
           }
          },
          "scene": {
           "xaxis": {
            "backgroundcolor": "#E5ECF6",
            "gridcolor": "white",
            "gridwidth": 2,
            "linecolor": "white",
            "showbackground": true,
            "ticks": "",
            "zerolinecolor": "white"
           },
           "yaxis": {
            "backgroundcolor": "#E5ECF6",
            "gridcolor": "white",
            "gridwidth": 2,
            "linecolor": "white",
            "showbackground": true,
            "ticks": "",
            "zerolinecolor": "white"
           },
           "zaxis": {
            "backgroundcolor": "#E5ECF6",
            "gridcolor": "white",
            "gridwidth": 2,
            "linecolor": "white",
            "showbackground": true,
            "ticks": "",
            "zerolinecolor": "white"
           }
          },
          "shapedefaults": {
           "line": {
            "color": "#2a3f5f"
           }
          },
          "ternary": {
           "aaxis": {
            "gridcolor": "white",
            "linecolor": "white",
            "ticks": ""
           },
           "baxis": {
            "gridcolor": "white",
            "linecolor": "white",
            "ticks": ""
           },
           "bgcolor": "#E5ECF6",
           "caxis": {
            "gridcolor": "white",
            "linecolor": "white",
            "ticks": ""
           }
          },
          "title": {
           "x": 0.05
          },
          "xaxis": {
           "automargin": true,
           "gridcolor": "white",
           "linecolor": "white",
           "ticks": "",
           "title": {
            "standoff": 15
           },
           "zerolinecolor": "white",
           "zerolinewidth": 2
          },
          "yaxis": {
           "automargin": true,
           "gridcolor": "white",
           "linecolor": "white",
           "ticks": "",
           "title": {
            "standoff": 15
           },
           "zerolinecolor": "white",
           "zerolinewidth": 2
          }
         }
        },
        "title": {
         "text": "06_07_Deutungen_Nationalismus"
        },
        "width": 1000,
        "xaxis": {
         "anchor": "y",
         "domain": [
          0,
          1
         ],
         "title": {
          "text": "year"
         }
        },
        "yaxis": {
         "anchor": "x",
         "domain": [
          0,
          1
         ],
         "title": {
          "text": ""
         }
        }
       }
      }
     },
     "metadata": {},
     "output_type": "display_data"
    },
    {
     "data": {
      "application/vnd.plotly.v1+json": {
       "config": {
        "plotlyServerURL": "https://plot.ly"
       },
       "data": [
        {
         "hovertemplate": "variable=06_09_Geschichtsmarker_gesamt_Alle Marker<br>year=%{x}<br>=%{y}<extra></extra>",
         "legendgroup": "06_09_Geschichtsmarker_gesamt_Alle Marker",
         "line": {
          "color": "#636efa",
          "dash": "solid"
         },
         "marker": {
          "symbol": "circle"
         },
         "mode": "lines",
         "name": "06_09_Geschichtsmarker_gesamt_Alle Marker",
         "orientation": "v",
         "showlegend": true,
         "type": "scatter",
         "x": [
          1855,
          1856,
          1857,
          1858,
          1859,
          1860,
          1861,
          1862,
          1863,
          1864,
          1865,
          1866,
          1867,
          1868,
          1869,
          1870,
          1871,
          1872,
          1873,
          1874,
          1875,
          1876,
          1877,
          1878,
          1879,
          1880,
          1881,
          1882,
          1883,
          1884,
          1885,
          1886,
          1887,
          1888,
          1889,
          1890,
          1891,
          1892,
          1893,
          1894,
          1895,
          1896,
          1897,
          1898,
          1899,
          1900,
          1901,
          1902,
          1903,
          1904,
          1905,
          1906,
          1907,
          1908,
          1909,
          1910,
          1911,
          1912,
          1913
         ],
         "xaxis": "x",
         "y": [
          2.071790335076189,
          2.0506586829039146,
          2.031898790696113,
          2.043931562322356,
          2.0563417388218674,
          2.048752053664898,
          2.0863847635053414,
          2.1113514102632256,
          2.136036378972024,
          2.171827179633252,
          2.219041891176312,
          2.238449890823189,
          2.2653030995585786,
          2.2890246560236203,
          2.3041259367831555,
          2.315525170742567,
          2.31969646644589,
          2.278696027354718,
          2.2809021776892133,
          2.246220423980597,
          2.2214562216838614,
          2.232128250677259,
          2.2317509483949096,
          2.226859156162222,
          2.2129529087352053,
          2.2133439489110365,
          2.2198947741680333,
          2.206425688165143,
          2.225912898404388,
          2.210760320644924,
          2.2133196480892634,
          2.2011984209847872,
          2.1538180210315168,
          2.1328573685511145,
          2.1487665592399607,
          2.141427536931256,
          2.159288704539838,
          2.121601369501363,
          2.0978278708652445,
          2.0726822594527547,
          2.060736653471197,
          2.014228282426453,
          1.9922886714232872,
          1.9718477199371789,
          1.9646261322811216,
          1.921169599227976,
          1.9404451148478448,
          1.915886895626784,
          1.9312447156430577,
          1.8810550968309048,
          1.8814931463318028,
          1.8563412321029693,
          1.8842934641612648,
          1.8192039646858649,
          1.826966676306276,
          1.822668983356844,
          1.86389856129573,
          1.8122081970202013,
          1.7672288475893303
         ],
         "yaxis": "y"
        },
        {
         "hoverinfo": "text",
         "hovertext": "dynp_l2",
         "line": {
          "color": "red",
          "dash": "dash",
          "width": 2
         },
         "mode": "lines",
         "showlegend": false,
         "type": "scatter",
         "x": [
          1895.2319070718586,
          1895.2319070718586
         ],
         "y": [
          1.7672288475893303,
          2.31969646644589
         ]
        },
        {
         "hoverinfo": "text",
         "hovertext": "binseg_l2",
         "line": {
          "color": "red",
          "dash": "dash",
          "width": 2
         },
         "mode": "lines",
         "showlegend": false,
         "type": "scatter",
         "x": [
          1895.7204719363249,
          1895.7204719363249
         ],
         "y": [
          1.7672288475893303,
          2.31969646644589
         ]
        },
        {
         "hoverinfo": "text",
         "hovertext": "bottom_up_l2",
         "line": {
          "color": "red",
          "dash": "dash",
          "width": 2
         },
         "mode": "lines",
         "showlegend": false,
         "type": "scatter",
         "x": [
          1895.7012952279238,
          1895.7012952279238
         ],
         "y": [
          1.7672288475893303,
          2.31969646644589
         ]
        },
        {
         "hoverinfo": "text",
         "hovertext": "dynp_rbf",
         "line": {
          "color": "red",
          "dash": "dash",
          "width": 2
         },
         "mode": "lines",
         "showlegend": false,
         "type": "scatter",
         "x": [
          1895.9867070949017,
          1895.9867070949017
         ],
         "y": [
          1.7672288475893303,
          2.31969646644589
         ]
        },
        {
         "hoverinfo": "text",
         "hovertext": "kernel_rbf",
         "line": {
          "color": "red",
          "dash": "dash",
          "width": 2
         },
         "mode": "lines",
         "showlegend": false,
         "type": "scatter",
         "x": [
          1895.5365482735851,
          1895.5365482735851
         ],
         "y": [
          1.7672288475893303,
          2.31969646644589
         ]
        },
        {
         "hoverinfo": "text",
         "hovertext": "binseg_rbf",
         "line": {
          "color": "red",
          "dash": "dash",
          "width": 2
         },
         "mode": "lines",
         "showlegend": false,
         "type": "scatter",
         "x": [
          1895.3906229716206,
          1895.3906229716206
         ],
         "y": [
          1.7672288475893303,
          2.31969646644589
         ]
        },
        {
         "hoverinfo": "text",
         "hovertext": "bottom_up_rbf",
         "line": {
          "color": "red",
          "dash": "dash",
          "width": 2
         },
         "mode": "lines",
         "showlegend": false,
         "type": "scatter",
         "x": [
          1895.626910159123,
          1895.626910159123
         ],
         "y": [
          1.7672288475893303,
          2.31969646644589
         ]
        },
        {
         "hoverinfo": "text",
         "hovertext": "dynp_rank",
         "line": {
          "color": "red",
          "dash": "dash",
          "width": 2
         },
         "mode": "lines",
         "showlegend": false,
         "type": "scatter",
         "x": [
          1894.263290788001,
          1894.263290788001
         ],
         "y": [
          1.7672288475893303,
          2.31969646644589
         ]
        },
        {
         "hoverinfo": "text",
         "hovertext": "binseg_rank",
         "line": {
          "color": "red",
          "dash": "dash",
          "width": 2
         },
         "mode": "lines",
         "showlegend": false,
         "type": "scatter",
         "x": [
          1894.0816997686534,
          1894.0816997686534
         ],
         "y": [
          1.7672288475893303,
          2.31969646644589
         ]
        },
        {
         "hoverinfo": "text",
         "hovertext": "bottom_up_rank",
         "line": {
          "color": "red",
          "dash": "dash",
          "width": 2
         },
         "mode": "lines",
         "showlegend": false,
         "type": "scatter",
         "x": [
          1896.5536447920508,
          1896.5536447920508
         ],
         "y": [
          1.7672288475893303,
          2.31969646644589
         ]
        },
        {
         "hoverinfo": "text",
         "hovertext": "dynp_normal",
         "line": {
          "color": "red",
          "dash": "dash",
          "width": 2
         },
         "mode": "lines",
         "showlegend": false,
         "type": "scatter",
         "x": [
          1895.2053648372198,
          1895.2053648372198
         ],
         "y": [
          1.7672288475893303,
          2.31969646644589
         ]
        },
        {
         "hoverinfo": "text",
         "hovertext": "binseg_normal",
         "line": {
          "color": "red",
          "dash": "dash",
          "width": 2
         },
         "mode": "lines",
         "showlegend": false,
         "type": "scatter",
         "x": [
          1895.6063373631273,
          1895.6063373631273
         ],
         "y": [
          1.7672288475893303,
          2.31969646644589
         ]
        },
        {
         "hoverinfo": "text",
         "hovertext": "bottom_up_normal",
         "line": {
          "color": "red",
          "dash": "dash",
          "width": 2
         },
         "mode": "lines",
         "showlegend": false,
         "type": "scatter",
         "x": [
          1892.0983129160682,
          1892.0983129160682
         ],
         "y": [
          1.7672288475893303,
          2.31969646644589
         ]
        },
        {
         "hoverinfo": "text",
         "hovertext": "kernel_linear",
         "line": {
          "color": "red",
          "dash": "dash",
          "width": 2
         },
         "mode": "lines",
         "showlegend": false,
         "type": "scatter",
         "x": [
          1895.0579655043166,
          1895.0579655043166
         ],
         "y": [
          1.7672288475893303,
          2.31969646644589
         ]
        },
        {
         "hoverinfo": "text",
         "hovertext": "dynp_l1",
         "line": {
          "color": "red",
          "dash": "dash",
          "width": 2
         },
         "mode": "lines",
         "showlegend": false,
         "type": "scatter",
         "x": [
          1895.1479317498347,
          1895.1479317498347
         ],
         "y": [
          1.7672288475893303,
          2.31969646644589
         ]
        },
        {
         "hoverinfo": "text",
         "hovertext": "binseg_l1",
         "line": {
          "color": "red",
          "dash": "dash",
          "width": 2
         },
         "mode": "lines",
         "showlegend": false,
         "type": "scatter",
         "x": [
          1895.492061501137,
          1895.492061501137
         ],
         "y": [
          1.7672288475893303,
          2.31969646644589
         ]
        },
        {
         "hoverinfo": "text",
         "hovertext": "bottom_up_l1",
         "line": {
          "color": "red",
          "dash": "dash",
          "width": 2
         },
         "mode": "lines",
         "showlegend": false,
         "type": "scatter",
         "x": [
          1896.236110921922,
          1896.236110921922
         ],
         "y": [
          1.7672288475893303,
          2.31969646644589
         ]
        }
       ],
       "layout": {
        "height": 400,
        "legend": {
         "title": {
          "text": "variable"
         },
         "tracegroupgap": 0
        },
        "showlegend": false,
        "template": {
         "data": {
          "bar": [
           {
            "error_x": {
             "color": "#2a3f5f"
            },
            "error_y": {
             "color": "#2a3f5f"
            },
            "marker": {
             "line": {
              "color": "#E5ECF6",
              "width": 0.5
             },
             "pattern": {
              "fillmode": "overlay",
              "size": 10,
              "solidity": 0.2
             }
            },
            "type": "bar"
           }
          ],
          "barpolar": [
           {
            "marker": {
             "line": {
              "color": "#E5ECF6",
              "width": 0.5
             },
             "pattern": {
              "fillmode": "overlay",
              "size": 10,
              "solidity": 0.2
             }
            },
            "type": "barpolar"
           }
          ],
          "carpet": [
           {
            "aaxis": {
             "endlinecolor": "#2a3f5f",
             "gridcolor": "white",
             "linecolor": "white",
             "minorgridcolor": "white",
             "startlinecolor": "#2a3f5f"
            },
            "baxis": {
             "endlinecolor": "#2a3f5f",
             "gridcolor": "white",
             "linecolor": "white",
             "minorgridcolor": "white",
             "startlinecolor": "#2a3f5f"
            },
            "type": "carpet"
           }
          ],
          "choropleth": [
           {
            "colorbar": {
             "outlinewidth": 0,
             "ticks": ""
            },
            "type": "choropleth"
           }
          ],
          "contour": [
           {
            "colorbar": {
             "outlinewidth": 0,
             "ticks": ""
            },
            "colorscale": [
             [
              0,
              "#0d0887"
             ],
             [
              0.1111111111111111,
              "#46039f"
             ],
             [
              0.2222222222222222,
              "#7201a8"
             ],
             [
              0.3333333333333333,
              "#9c179e"
             ],
             [
              0.4444444444444444,
              "#bd3786"
             ],
             [
              0.5555555555555556,
              "#d8576b"
             ],
             [
              0.6666666666666666,
              "#ed7953"
             ],
             [
              0.7777777777777778,
              "#fb9f3a"
             ],
             [
              0.8888888888888888,
              "#fdca26"
             ],
             [
              1,
              "#f0f921"
             ]
            ],
            "type": "contour"
           }
          ],
          "contourcarpet": [
           {
            "colorbar": {
             "outlinewidth": 0,
             "ticks": ""
            },
            "type": "contourcarpet"
           }
          ],
          "heatmap": [
           {
            "colorbar": {
             "outlinewidth": 0,
             "ticks": ""
            },
            "colorscale": [
             [
              0,
              "#0d0887"
             ],
             [
              0.1111111111111111,
              "#46039f"
             ],
             [
              0.2222222222222222,
              "#7201a8"
             ],
             [
              0.3333333333333333,
              "#9c179e"
             ],
             [
              0.4444444444444444,
              "#bd3786"
             ],
             [
              0.5555555555555556,
              "#d8576b"
             ],
             [
              0.6666666666666666,
              "#ed7953"
             ],
             [
              0.7777777777777778,
              "#fb9f3a"
             ],
             [
              0.8888888888888888,
              "#fdca26"
             ],
             [
              1,
              "#f0f921"
             ]
            ],
            "type": "heatmap"
           }
          ],
          "heatmapgl": [
           {
            "colorbar": {
             "outlinewidth": 0,
             "ticks": ""
            },
            "colorscale": [
             [
              0,
              "#0d0887"
             ],
             [
              0.1111111111111111,
              "#46039f"
             ],
             [
              0.2222222222222222,
              "#7201a8"
             ],
             [
              0.3333333333333333,
              "#9c179e"
             ],
             [
              0.4444444444444444,
              "#bd3786"
             ],
             [
              0.5555555555555556,
              "#d8576b"
             ],
             [
              0.6666666666666666,
              "#ed7953"
             ],
             [
              0.7777777777777778,
              "#fb9f3a"
             ],
             [
              0.8888888888888888,
              "#fdca26"
             ],
             [
              1,
              "#f0f921"
             ]
            ],
            "type": "heatmapgl"
           }
          ],
          "histogram": [
           {
            "marker": {
             "pattern": {
              "fillmode": "overlay",
              "size": 10,
              "solidity": 0.2
             }
            },
            "type": "histogram"
           }
          ],
          "histogram2d": [
           {
            "colorbar": {
             "outlinewidth": 0,
             "ticks": ""
            },
            "colorscale": [
             [
              0,
              "#0d0887"
             ],
             [
              0.1111111111111111,
              "#46039f"
             ],
             [
              0.2222222222222222,
              "#7201a8"
             ],
             [
              0.3333333333333333,
              "#9c179e"
             ],
             [
              0.4444444444444444,
              "#bd3786"
             ],
             [
              0.5555555555555556,
              "#d8576b"
             ],
             [
              0.6666666666666666,
              "#ed7953"
             ],
             [
              0.7777777777777778,
              "#fb9f3a"
             ],
             [
              0.8888888888888888,
              "#fdca26"
             ],
             [
              1,
              "#f0f921"
             ]
            ],
            "type": "histogram2d"
           }
          ],
          "histogram2dcontour": [
           {
            "colorbar": {
             "outlinewidth": 0,
             "ticks": ""
            },
            "colorscale": [
             [
              0,
              "#0d0887"
             ],
             [
              0.1111111111111111,
              "#46039f"
             ],
             [
              0.2222222222222222,
              "#7201a8"
             ],
             [
              0.3333333333333333,
              "#9c179e"
             ],
             [
              0.4444444444444444,
              "#bd3786"
             ],
             [
              0.5555555555555556,
              "#d8576b"
             ],
             [
              0.6666666666666666,
              "#ed7953"
             ],
             [
              0.7777777777777778,
              "#fb9f3a"
             ],
             [
              0.8888888888888888,
              "#fdca26"
             ],
             [
              1,
              "#f0f921"
             ]
            ],
            "type": "histogram2dcontour"
           }
          ],
          "mesh3d": [
           {
            "colorbar": {
             "outlinewidth": 0,
             "ticks": ""
            },
            "type": "mesh3d"
           }
          ],
          "parcoords": [
           {
            "line": {
             "colorbar": {
              "outlinewidth": 0,
              "ticks": ""
             }
            },
            "type": "parcoords"
           }
          ],
          "pie": [
           {
            "automargin": true,
            "type": "pie"
           }
          ],
          "scatter": [
           {
            "fillpattern": {
             "fillmode": "overlay",
             "size": 10,
             "solidity": 0.2
            },
            "type": "scatter"
           }
          ],
          "scatter3d": [
           {
            "line": {
             "colorbar": {
              "outlinewidth": 0,
              "ticks": ""
             }
            },
            "marker": {
             "colorbar": {
              "outlinewidth": 0,
              "ticks": ""
             }
            },
            "type": "scatter3d"
           }
          ],
          "scattercarpet": [
           {
            "marker": {
             "colorbar": {
              "outlinewidth": 0,
              "ticks": ""
             }
            },
            "type": "scattercarpet"
           }
          ],
          "scattergeo": [
           {
            "marker": {
             "colorbar": {
              "outlinewidth": 0,
              "ticks": ""
             }
            },
            "type": "scattergeo"
           }
          ],
          "scattergl": [
           {
            "marker": {
             "colorbar": {
              "outlinewidth": 0,
              "ticks": ""
             }
            },
            "type": "scattergl"
           }
          ],
          "scattermapbox": [
           {
            "marker": {
             "colorbar": {
              "outlinewidth": 0,
              "ticks": ""
             }
            },
            "type": "scattermapbox"
           }
          ],
          "scatterpolar": [
           {
            "marker": {
             "colorbar": {
              "outlinewidth": 0,
              "ticks": ""
             }
            },
            "type": "scatterpolar"
           }
          ],
          "scatterpolargl": [
           {
            "marker": {
             "colorbar": {
              "outlinewidth": 0,
              "ticks": ""
             }
            },
            "type": "scatterpolargl"
           }
          ],
          "scatterternary": [
           {
            "marker": {
             "colorbar": {
              "outlinewidth": 0,
              "ticks": ""
             }
            },
            "type": "scatterternary"
           }
          ],
          "surface": [
           {
            "colorbar": {
             "outlinewidth": 0,
             "ticks": ""
            },
            "colorscale": [
             [
              0,
              "#0d0887"
             ],
             [
              0.1111111111111111,
              "#46039f"
             ],
             [
              0.2222222222222222,
              "#7201a8"
             ],
             [
              0.3333333333333333,
              "#9c179e"
             ],
             [
              0.4444444444444444,
              "#bd3786"
             ],
             [
              0.5555555555555556,
              "#d8576b"
             ],
             [
              0.6666666666666666,
              "#ed7953"
             ],
             [
              0.7777777777777778,
              "#fb9f3a"
             ],
             [
              0.8888888888888888,
              "#fdca26"
             ],
             [
              1,
              "#f0f921"
             ]
            ],
            "type": "surface"
           }
          ],
          "table": [
           {
            "cells": {
             "fill": {
              "color": "#EBF0F8"
             },
             "line": {
              "color": "white"
             }
            },
            "header": {
             "fill": {
              "color": "#C8D4E3"
             },
             "line": {
              "color": "white"
             }
            },
            "type": "table"
           }
          ]
         },
         "layout": {
          "annotationdefaults": {
           "arrowcolor": "#2a3f5f",
           "arrowhead": 0,
           "arrowwidth": 1
          },
          "autotypenumbers": "strict",
          "coloraxis": {
           "colorbar": {
            "outlinewidth": 0,
            "ticks": ""
           }
          },
          "colorscale": {
           "diverging": [
            [
             0,
             "#8e0152"
            ],
            [
             0.1,
             "#c51b7d"
            ],
            [
             0.2,
             "#de77ae"
            ],
            [
             0.3,
             "#f1b6da"
            ],
            [
             0.4,
             "#fde0ef"
            ],
            [
             0.5,
             "#f7f7f7"
            ],
            [
             0.6,
             "#e6f5d0"
            ],
            [
             0.7,
             "#b8e186"
            ],
            [
             0.8,
             "#7fbc41"
            ],
            [
             0.9,
             "#4d9221"
            ],
            [
             1,
             "#276419"
            ]
           ],
           "sequential": [
            [
             0,
             "#0d0887"
            ],
            [
             0.1111111111111111,
             "#46039f"
            ],
            [
             0.2222222222222222,
             "#7201a8"
            ],
            [
             0.3333333333333333,
             "#9c179e"
            ],
            [
             0.4444444444444444,
             "#bd3786"
            ],
            [
             0.5555555555555556,
             "#d8576b"
            ],
            [
             0.6666666666666666,
             "#ed7953"
            ],
            [
             0.7777777777777778,
             "#fb9f3a"
            ],
            [
             0.8888888888888888,
             "#fdca26"
            ],
            [
             1,
             "#f0f921"
            ]
           ],
           "sequentialminus": [
            [
             0,
             "#0d0887"
            ],
            [
             0.1111111111111111,
             "#46039f"
            ],
            [
             0.2222222222222222,
             "#7201a8"
            ],
            [
             0.3333333333333333,
             "#9c179e"
            ],
            [
             0.4444444444444444,
             "#bd3786"
            ],
            [
             0.5555555555555556,
             "#d8576b"
            ],
            [
             0.6666666666666666,
             "#ed7953"
            ],
            [
             0.7777777777777778,
             "#fb9f3a"
            ],
            [
             0.8888888888888888,
             "#fdca26"
            ],
            [
             1,
             "#f0f921"
            ]
           ]
          },
          "colorway": [
           "#636efa",
           "#EF553B",
           "#00cc96",
           "#ab63fa",
           "#FFA15A",
           "#19d3f3",
           "#FF6692",
           "#B6E880",
           "#FF97FF",
           "#FECB52"
          ],
          "font": {
           "color": "#2a3f5f"
          },
          "geo": {
           "bgcolor": "white",
           "lakecolor": "white",
           "landcolor": "#E5ECF6",
           "showlakes": true,
           "showland": true,
           "subunitcolor": "white"
          },
          "hoverlabel": {
           "align": "left"
          },
          "hovermode": "closest",
          "mapbox": {
           "style": "light"
          },
          "paper_bgcolor": "white",
          "plot_bgcolor": "#E5ECF6",
          "polar": {
           "angularaxis": {
            "gridcolor": "white",
            "linecolor": "white",
            "ticks": ""
           },
           "bgcolor": "#E5ECF6",
           "radialaxis": {
            "gridcolor": "white",
            "linecolor": "white",
            "ticks": ""
           }
          },
          "scene": {
           "xaxis": {
            "backgroundcolor": "#E5ECF6",
            "gridcolor": "white",
            "gridwidth": 2,
            "linecolor": "white",
            "showbackground": true,
            "ticks": "",
            "zerolinecolor": "white"
           },
           "yaxis": {
            "backgroundcolor": "#E5ECF6",
            "gridcolor": "white",
            "gridwidth": 2,
            "linecolor": "white",
            "showbackground": true,
            "ticks": "",
            "zerolinecolor": "white"
           },
           "zaxis": {
            "backgroundcolor": "#E5ECF6",
            "gridcolor": "white",
            "gridwidth": 2,
            "linecolor": "white",
            "showbackground": true,
            "ticks": "",
            "zerolinecolor": "white"
           }
          },
          "shapedefaults": {
           "line": {
            "color": "#2a3f5f"
           }
          },
          "ternary": {
           "aaxis": {
            "gridcolor": "white",
            "linecolor": "white",
            "ticks": ""
           },
           "baxis": {
            "gridcolor": "white",
            "linecolor": "white",
            "ticks": ""
           },
           "bgcolor": "#E5ECF6",
           "caxis": {
            "gridcolor": "white",
            "linecolor": "white",
            "ticks": ""
           }
          },
          "title": {
           "x": 0.05
          },
          "xaxis": {
           "automargin": true,
           "gridcolor": "white",
           "linecolor": "white",
           "ticks": "",
           "title": {
            "standoff": 15
           },
           "zerolinecolor": "white",
           "zerolinewidth": 2
          },
          "yaxis": {
           "automargin": true,
           "gridcolor": "white",
           "linecolor": "white",
           "ticks": "",
           "title": {
            "standoff": 15
           },
           "zerolinecolor": "white",
           "zerolinewidth": 2
          }
         }
        },
        "title": {
         "text": "06_09_Geschichtsmarker_gesamt_Alle Marker"
        },
        "width": 1000,
        "xaxis": {
         "anchor": "y",
         "domain": [
          0,
          1
         ],
         "title": {
          "text": "year"
         }
        },
        "yaxis": {
         "anchor": "x",
         "domain": [
          0,
          1
         ],
         "title": {
          "text": ""
         }
        }
       }
      }
     },
     "metadata": {},
     "output_type": "display_data"
    }
   ],
   "source": [
    "for example in examples:\n",
    "    ts = ts_results[example]\n",
    "    \n",
    "    fig = px.line(\n",
    "        ts,\n",
    "        title=example,\n",
    "        labels={'value': ''},\n",
    "    )\n",
    "    \n",
    "    for algorithm_costfunction in results['algorithm_costfunction'].unique():\n",
    "        changepoints = results.query(\"category == @example and algorithm_costfunction == @algorithm_costfunction\")['changepoint'].tolist()\n",
    "        changepoints = [x + np.random.rand() for x in changepoints]\n",
    "        \n",
    "        for year in changepoints:\n",
    "            fig.add_trace(\n",
    "                go.Scatter(\n",
    "                    x=[year, year],\n",
    "                    y=[ts.values.min(), ts.values.max()],\n",
    "                    mode=\"lines\",\n",
    "                    line=dict(color = 'red', dash = \"dash\", width=2),\n",
    "                    hoverinfo=\"text\",\n",
    "                    hovertext=f\"{algorithm_costfunction}\",\n",
    "                    showlegend = False\n",
    "                )\n",
    "            )\n",
    "\n",
    "    fig.update_layout(width=1000, height=400,showlegend=False)\n",
    "    fig.show()"
   ]
  },
  {
   "cell_type": "markdown",
   "id": "28169708",
   "metadata": {},
   "source": [
    "### Show final Results"
   ]
  },
  {
   "cell_type": "code",
   "execution_count": 17,
   "id": "1badf724-bdef-4d08-b8a2-44ba95d3b18c",
   "metadata": {},
   "outputs": [
    {
     "data": {
      "application/vnd.plotly.v1+json": {
       "config": {
        "plotlyServerURL": "https://plot.ly"
       },
       "data": [
        {
         "alignmentgroup": "True",
         "bingroup": "x",
         "histnorm": "probability",
         "hovertemplate": "variable=changepoint<br>n_changepoints=%{x}<br>probability=%{y}<extra></extra>",
         "legendgroup": "changepoint",
         "marker": {
          "color": "#636efa",
          "pattern": {
           "shape": ""
          }
         },
         "name": "changepoint",
         "nbinsx": 68,
         "offsetgroup": "changepoint",
         "orientation": "v",
         "showlegend": true,
         "type": "histogram",
         "x": [
          1866,
          1866,
          1866,
          1866,
          1866,
          1866,
          1865,
          1868,
          1868,
          1868,
          1865,
          1865,
          1864,
          1866,
          1866,
          1866,
          1866,
          1869,
          1869,
          1871,
          1869,
          1869,
          1869,
          1871,
          1869,
          1869,
          1871,
          1867,
          1867,
          1871,
          1869,
          1869,
          1869,
          1871,
          1890,
          1890,
          1891,
          1871,
          1871,
          1871,
          1871,
          1890,
          1890,
          1890,
          1871,
          1871,
          1871,
          1890,
          1891,
          1891,
          1890,
          1886,
          1886,
          1886,
          1886,
          1886,
          1886,
          1886,
          1884,
          1884,
          1886,
          1886,
          1886,
          1886,
          1886,
          1886,
          1886,
          1886,
          1903,
          1903,
          1903,
          1903,
          1903,
          1903,
          1895,
          1902,
          1902,
          1901,
          1903,
          1903,
          1903,
          1903,
          1903,
          1903,
          1903,
          1902,
          1902,
          1902,
          1902,
          1902,
          1902,
          1900,
          1900,
          1900,
          1901,
          1902,
          1902,
          1903,
          1902,
          1902,
          1902,
          1901,
          1884,
          1884,
          1884,
          1884,
          1884,
          1884,
          1884,
          1884,
          1884,
          1888,
          1884,
          1884,
          1888,
          1884,
          1882,
          1882,
          1883,
          1903,
          1903,
          1903,
          1884,
          1884,
          1884,
          1884,
          1903,
          1903,
          1903,
          1884,
          1884,
          1883,
          1903,
          1903,
          1903,
          1903,
          1900,
          1900,
          1902,
          1895,
          1895,
          1895,
          1895,
          1893,
          1893,
          1892,
          1895,
          1895,
          1888,
          1900,
          1900,
          1900,
          1901,
          1893,
          1893,
          1892,
          1893,
          1893,
          1893,
          1897,
          1883,
          1884,
          1883,
          1883,
          1883,
          1883,
          1893,
          1893,
          1893,
          1896,
          1884,
          1884,
          1884,
          1884,
          1884,
          1884,
          1884,
          1882,
          1882,
          1883,
          1883,
          1883,
          1883,
          1884,
          1884,
          1884,
          1883,
          1895,
          1895,
          1895,
          1896,
          1896,
          1896,
          1895,
          1896,
          1896,
          1894,
          1898,
          1898,
          1898,
          1895,
          1895,
          1895,
          1896,
          1900,
          1900,
          1900,
          1901,
          1901,
          1901,
          1900,
          1900,
          1900,
          1898,
          1901,
          1901,
          1901,
          1900,
          1901,
          1901,
          1898,
          1886,
          1886,
          1887,
          1886,
          1886,
          1886,
          1887,
          1886,
          1886,
          1886,
          1886,
          1886,
          1886,
          1886,
          1886,
          1886,
          1888,
          1887,
          1887,
          1886,
          1887,
          1887,
          1887,
          1886,
          1887,
          1887,
          1886,
          1887,
          1887,
          1886,
          1887,
          1887,
          1887,
          1886,
          1883,
          1883,
          1884,
          1883,
          1883,
          1883,
          1884,
          1883,
          1884,
          1883,
          1882,
          1882,
          1883,
          1883,
          1883,
          1883,
          1883,
          1864,
          1864,
          1864,
          1864,
          1864,
          1864,
          1864,
          1864,
          1864,
          1864,
          1864,
          1864,
          1864,
          1864,
          1864,
          1864,
          1864,
          1902,
          1902,
          1902,
          1902,
          1902,
          1902,
          1902,
          1889,
          1889,
          1883,
          1902,
          1902,
          1903,
          1902,
          1902,
          1902,
          1903,
          1906,
          1906,
          1906,
          1866,
          1866,
          1866,
          1866,
          1866,
          1866,
          1866,
          1866,
          1866,
          1866,
          1906,
          1866,
          1866,
          1866,
          1903,
          1903,
          1903,
          1903,
          1903,
          1903,
          1903,
          1903,
          1903,
          1903,
          1904,
          1904,
          1903,
          1903,
          1903,
          1903,
          1903,
          1871,
          1871,
          1871,
          1902,
          1902,
          1902,
          1871,
          1871,
          1871,
          1871,
          1871,
          1871,
          1871,
          1871,
          1902,
          1902,
          1871,
          1895,
          1895,
          1895,
          1895,
          1895,
          1895,
          1895,
          1894,
          1894,
          1896,
          1895,
          1895,
          1892,
          1895,
          1895,
          1895,
          1896,
          1895,
          1895,
          1886,
          1893,
          1893,
          1893,
          1886,
          1886,
          1886,
          1886,
          1893,
          1893,
          1892,
          1895,
          1893,
          1893,
          1886,
          1898,
          1898,
          1901,
          1896,
          1896,
          1896,
          1898,
          1892,
          1892,
          1892,
          1894,
          1894,
          1892,
          1898,
          1898,
          1898,
          1898,
          1902,
          1902,
          1902,
          1865,
          1865,
          1865,
          1865,
          1902,
          1902,
          1901,
          1864,
          1864,
          1864,
          1902,
          1902,
          1902,
          1864,
          1902,
          1902,
          1902,
          1865,
          1865,
          1865,
          1865,
          1902,
          1902,
          1901,
          1865,
          1865,
          1864,
          1902,
          1865,
          1865,
          1864,
          1905,
          1905,
          1905,
          1905,
          1905,
          1905,
          1905,
          1905,
          1905,
          1905,
          1905,
          1905,
          1905,
          1905,
          1905,
          1905,
          1905
         ],
         "xaxis": "x",
         "yaxis": "y"
        }
       ],
       "layout": {
        "barmode": "relative",
        "height": 400,
        "legend": {
         "title": {
          "text": "variable"
         },
         "tracegroupgap": 0
        },
        "margin": {
         "t": 60
        },
        "showlegend": false,
        "template": {
         "data": {
          "bar": [
           {
            "error_x": {
             "color": "#2a3f5f"
            },
            "error_y": {
             "color": "#2a3f5f"
            },
            "marker": {
             "line": {
              "color": "#E5ECF6",
              "width": 0.5
             },
             "pattern": {
              "fillmode": "overlay",
              "size": 10,
              "solidity": 0.2
             }
            },
            "type": "bar"
           }
          ],
          "barpolar": [
           {
            "marker": {
             "line": {
              "color": "#E5ECF6",
              "width": 0.5
             },
             "pattern": {
              "fillmode": "overlay",
              "size": 10,
              "solidity": 0.2
             }
            },
            "type": "barpolar"
           }
          ],
          "carpet": [
           {
            "aaxis": {
             "endlinecolor": "#2a3f5f",
             "gridcolor": "white",
             "linecolor": "white",
             "minorgridcolor": "white",
             "startlinecolor": "#2a3f5f"
            },
            "baxis": {
             "endlinecolor": "#2a3f5f",
             "gridcolor": "white",
             "linecolor": "white",
             "minorgridcolor": "white",
             "startlinecolor": "#2a3f5f"
            },
            "type": "carpet"
           }
          ],
          "choropleth": [
           {
            "colorbar": {
             "outlinewidth": 0,
             "ticks": ""
            },
            "type": "choropleth"
           }
          ],
          "contour": [
           {
            "colorbar": {
             "outlinewidth": 0,
             "ticks": ""
            },
            "colorscale": [
             [
              0,
              "#0d0887"
             ],
             [
              0.1111111111111111,
              "#46039f"
             ],
             [
              0.2222222222222222,
              "#7201a8"
             ],
             [
              0.3333333333333333,
              "#9c179e"
             ],
             [
              0.4444444444444444,
              "#bd3786"
             ],
             [
              0.5555555555555556,
              "#d8576b"
             ],
             [
              0.6666666666666666,
              "#ed7953"
             ],
             [
              0.7777777777777778,
              "#fb9f3a"
             ],
             [
              0.8888888888888888,
              "#fdca26"
             ],
             [
              1,
              "#f0f921"
             ]
            ],
            "type": "contour"
           }
          ],
          "contourcarpet": [
           {
            "colorbar": {
             "outlinewidth": 0,
             "ticks": ""
            },
            "type": "contourcarpet"
           }
          ],
          "heatmap": [
           {
            "colorbar": {
             "outlinewidth": 0,
             "ticks": ""
            },
            "colorscale": [
             [
              0,
              "#0d0887"
             ],
             [
              0.1111111111111111,
              "#46039f"
             ],
             [
              0.2222222222222222,
              "#7201a8"
             ],
             [
              0.3333333333333333,
              "#9c179e"
             ],
             [
              0.4444444444444444,
              "#bd3786"
             ],
             [
              0.5555555555555556,
              "#d8576b"
             ],
             [
              0.6666666666666666,
              "#ed7953"
             ],
             [
              0.7777777777777778,
              "#fb9f3a"
             ],
             [
              0.8888888888888888,
              "#fdca26"
             ],
             [
              1,
              "#f0f921"
             ]
            ],
            "type": "heatmap"
           }
          ],
          "heatmapgl": [
           {
            "colorbar": {
             "outlinewidth": 0,
             "ticks": ""
            },
            "colorscale": [
             [
              0,
              "#0d0887"
             ],
             [
              0.1111111111111111,
              "#46039f"
             ],
             [
              0.2222222222222222,
              "#7201a8"
             ],
             [
              0.3333333333333333,
              "#9c179e"
             ],
             [
              0.4444444444444444,
              "#bd3786"
             ],
             [
              0.5555555555555556,
              "#d8576b"
             ],
             [
              0.6666666666666666,
              "#ed7953"
             ],
             [
              0.7777777777777778,
              "#fb9f3a"
             ],
             [
              0.8888888888888888,
              "#fdca26"
             ],
             [
              1,
              "#f0f921"
             ]
            ],
            "type": "heatmapgl"
           }
          ],
          "histogram": [
           {
            "marker": {
             "pattern": {
              "fillmode": "overlay",
              "size": 10,
              "solidity": 0.2
             }
            },
            "type": "histogram"
           }
          ],
          "histogram2d": [
           {
            "colorbar": {
             "outlinewidth": 0,
             "ticks": ""
            },
            "colorscale": [
             [
              0,
              "#0d0887"
             ],
             [
              0.1111111111111111,
              "#46039f"
             ],
             [
              0.2222222222222222,
              "#7201a8"
             ],
             [
              0.3333333333333333,
              "#9c179e"
             ],
             [
              0.4444444444444444,
              "#bd3786"
             ],
             [
              0.5555555555555556,
              "#d8576b"
             ],
             [
              0.6666666666666666,
              "#ed7953"
             ],
             [
              0.7777777777777778,
              "#fb9f3a"
             ],
             [
              0.8888888888888888,
              "#fdca26"
             ],
             [
              1,
              "#f0f921"
             ]
            ],
            "type": "histogram2d"
           }
          ],
          "histogram2dcontour": [
           {
            "colorbar": {
             "outlinewidth": 0,
             "ticks": ""
            },
            "colorscale": [
             [
              0,
              "#0d0887"
             ],
             [
              0.1111111111111111,
              "#46039f"
             ],
             [
              0.2222222222222222,
              "#7201a8"
             ],
             [
              0.3333333333333333,
              "#9c179e"
             ],
             [
              0.4444444444444444,
              "#bd3786"
             ],
             [
              0.5555555555555556,
              "#d8576b"
             ],
             [
              0.6666666666666666,
              "#ed7953"
             ],
             [
              0.7777777777777778,
              "#fb9f3a"
             ],
             [
              0.8888888888888888,
              "#fdca26"
             ],
             [
              1,
              "#f0f921"
             ]
            ],
            "type": "histogram2dcontour"
           }
          ],
          "mesh3d": [
           {
            "colorbar": {
             "outlinewidth": 0,
             "ticks": ""
            },
            "type": "mesh3d"
           }
          ],
          "parcoords": [
           {
            "line": {
             "colorbar": {
              "outlinewidth": 0,
              "ticks": ""
             }
            },
            "type": "parcoords"
           }
          ],
          "pie": [
           {
            "automargin": true,
            "type": "pie"
           }
          ],
          "scatter": [
           {
            "fillpattern": {
             "fillmode": "overlay",
             "size": 10,
             "solidity": 0.2
            },
            "type": "scatter"
           }
          ],
          "scatter3d": [
           {
            "line": {
             "colorbar": {
              "outlinewidth": 0,
              "ticks": ""
             }
            },
            "marker": {
             "colorbar": {
              "outlinewidth": 0,
              "ticks": ""
             }
            },
            "type": "scatter3d"
           }
          ],
          "scattercarpet": [
           {
            "marker": {
             "colorbar": {
              "outlinewidth": 0,
              "ticks": ""
             }
            },
            "type": "scattercarpet"
           }
          ],
          "scattergeo": [
           {
            "marker": {
             "colorbar": {
              "outlinewidth": 0,
              "ticks": ""
             }
            },
            "type": "scattergeo"
           }
          ],
          "scattergl": [
           {
            "marker": {
             "colorbar": {
              "outlinewidth": 0,
              "ticks": ""
             }
            },
            "type": "scattergl"
           }
          ],
          "scattermapbox": [
           {
            "marker": {
             "colorbar": {
              "outlinewidth": 0,
              "ticks": ""
             }
            },
            "type": "scattermapbox"
           }
          ],
          "scatterpolar": [
           {
            "marker": {
             "colorbar": {
              "outlinewidth": 0,
              "ticks": ""
             }
            },
            "type": "scatterpolar"
           }
          ],
          "scatterpolargl": [
           {
            "marker": {
             "colorbar": {
              "outlinewidth": 0,
              "ticks": ""
             }
            },
            "type": "scatterpolargl"
           }
          ],
          "scatterternary": [
           {
            "marker": {
             "colorbar": {
              "outlinewidth": 0,
              "ticks": ""
             }
            },
            "type": "scatterternary"
           }
          ],
          "surface": [
           {
            "colorbar": {
             "outlinewidth": 0,
             "ticks": ""
            },
            "colorscale": [
             [
              0,
              "#0d0887"
             ],
             [
              0.1111111111111111,
              "#46039f"
             ],
             [
              0.2222222222222222,
              "#7201a8"
             ],
             [
              0.3333333333333333,
              "#9c179e"
             ],
             [
              0.4444444444444444,
              "#bd3786"
             ],
             [
              0.5555555555555556,
              "#d8576b"
             ],
             [
              0.6666666666666666,
              "#ed7953"
             ],
             [
              0.7777777777777778,
              "#fb9f3a"
             ],
             [
              0.8888888888888888,
              "#fdca26"
             ],
             [
              1,
              "#f0f921"
             ]
            ],
            "type": "surface"
           }
          ],
          "table": [
           {
            "cells": {
             "fill": {
              "color": "#EBF0F8"
             },
             "line": {
              "color": "white"
             }
            },
            "header": {
             "fill": {
              "color": "#C8D4E3"
             },
             "line": {
              "color": "white"
             }
            },
            "type": "table"
           }
          ]
         },
         "layout": {
          "annotationdefaults": {
           "arrowcolor": "#2a3f5f",
           "arrowhead": 0,
           "arrowwidth": 1
          },
          "autotypenumbers": "strict",
          "coloraxis": {
           "colorbar": {
            "outlinewidth": 0,
            "ticks": ""
           }
          },
          "colorscale": {
           "diverging": [
            [
             0,
             "#8e0152"
            ],
            [
             0.1,
             "#c51b7d"
            ],
            [
             0.2,
             "#de77ae"
            ],
            [
             0.3,
             "#f1b6da"
            ],
            [
             0.4,
             "#fde0ef"
            ],
            [
             0.5,
             "#f7f7f7"
            ],
            [
             0.6,
             "#e6f5d0"
            ],
            [
             0.7,
             "#b8e186"
            ],
            [
             0.8,
             "#7fbc41"
            ],
            [
             0.9,
             "#4d9221"
            ],
            [
             1,
             "#276419"
            ]
           ],
           "sequential": [
            [
             0,
             "#0d0887"
            ],
            [
             0.1111111111111111,
             "#46039f"
            ],
            [
             0.2222222222222222,
             "#7201a8"
            ],
            [
             0.3333333333333333,
             "#9c179e"
            ],
            [
             0.4444444444444444,
             "#bd3786"
            ],
            [
             0.5555555555555556,
             "#d8576b"
            ],
            [
             0.6666666666666666,
             "#ed7953"
            ],
            [
             0.7777777777777778,
             "#fb9f3a"
            ],
            [
             0.8888888888888888,
             "#fdca26"
            ],
            [
             1,
             "#f0f921"
            ]
           ],
           "sequentialminus": [
            [
             0,
             "#0d0887"
            ],
            [
             0.1111111111111111,
             "#46039f"
            ],
            [
             0.2222222222222222,
             "#7201a8"
            ],
            [
             0.3333333333333333,
             "#9c179e"
            ],
            [
             0.4444444444444444,
             "#bd3786"
            ],
            [
             0.5555555555555556,
             "#d8576b"
            ],
            [
             0.6666666666666666,
             "#ed7953"
            ],
            [
             0.7777777777777778,
             "#fb9f3a"
            ],
            [
             0.8888888888888888,
             "#fdca26"
            ],
            [
             1,
             "#f0f921"
            ]
           ]
          },
          "colorway": [
           "#636efa",
           "#EF553B",
           "#00cc96",
           "#ab63fa",
           "#FFA15A",
           "#19d3f3",
           "#FF6692",
           "#B6E880",
           "#FF97FF",
           "#FECB52"
          ],
          "font": {
           "color": "#2a3f5f"
          },
          "geo": {
           "bgcolor": "white",
           "lakecolor": "white",
           "landcolor": "#E5ECF6",
           "showlakes": true,
           "showland": true,
           "subunitcolor": "white"
          },
          "hoverlabel": {
           "align": "left"
          },
          "hovermode": "closest",
          "mapbox": {
           "style": "light"
          },
          "paper_bgcolor": "white",
          "plot_bgcolor": "#E5ECF6",
          "polar": {
           "angularaxis": {
            "gridcolor": "white",
            "linecolor": "white",
            "ticks": ""
           },
           "bgcolor": "#E5ECF6",
           "radialaxis": {
            "gridcolor": "white",
            "linecolor": "white",
            "ticks": ""
           }
          },
          "scene": {
           "xaxis": {
            "backgroundcolor": "#E5ECF6",
            "gridcolor": "white",
            "gridwidth": 2,
            "linecolor": "white",
            "showbackground": true,
            "ticks": "",
            "zerolinecolor": "white"
           },
           "yaxis": {
            "backgroundcolor": "#E5ECF6",
            "gridcolor": "white",
            "gridwidth": 2,
            "linecolor": "white",
            "showbackground": true,
            "ticks": "",
            "zerolinecolor": "white"
           },
           "zaxis": {
            "backgroundcolor": "#E5ECF6",
            "gridcolor": "white",
            "gridwidth": 2,
            "linecolor": "white",
            "showbackground": true,
            "ticks": "",
            "zerolinecolor": "white"
           }
          },
          "shapedefaults": {
           "line": {
            "color": "#2a3f5f"
           }
          },
          "ternary": {
           "aaxis": {
            "gridcolor": "white",
            "linecolor": "white",
            "ticks": ""
           },
           "baxis": {
            "gridcolor": "white",
            "linecolor": "white",
            "ticks": ""
           },
           "bgcolor": "#E5ECF6",
           "caxis": {
            "gridcolor": "white",
            "linecolor": "white",
            "ticks": ""
           }
          },
          "title": {
           "x": 0.05
          },
          "xaxis": {
           "automargin": true,
           "gridcolor": "white",
           "linecolor": "white",
           "ticks": "",
           "title": {
            "standoff": 15
           },
           "zerolinecolor": "white",
           "zerolinewidth": 2
          },
          "yaxis": {
           "automargin": true,
           "gridcolor": "white",
           "linecolor": "white",
           "ticks": "",
           "title": {
            "standoff": 15
           },
           "zerolinecolor": "white",
           "zerolinewidth": 2
          }
         }
        },
        "width": 1000,
        "xaxis": {
         "anchor": "y",
         "domain": [
          0,
          1
         ],
         "title": {
          "text": ""
         }
        },
        "yaxis": {
         "anchor": "x",
         "domain": [
          0,
          1
         ],
         "title": {
          "text": "Frequency of Changepoints"
         }
        }
       }
      }
     },
     "metadata": {},
     "output_type": "display_data"
    },
    {
     "data": {
      "application/vnd.plotly.v1+json": {
       "config": {
        "plotlyServerURL": "https://plot.ly"
       },
       "data": [
        {
         "alignmentgroup": "True",
         "bingroup": "x",
         "histnorm": "probability",
         "hovertemplate": "variable=changepoint<br>n_changepoints=%{x}<br>probability=%{y}<extra></extra>",
         "legendgroup": "changepoint",
         "marker": {
          "color": "#636efa",
          "pattern": {
           "shape": ""
          }
         },
         "name": "changepoint",
         "nbinsx": 20,
         "offsetgroup": "changepoint",
         "orientation": "v",
         "showlegend": true,
         "type": "histogram",
         "x": [
          1866,
          1866,
          1866,
          1866,
          1866,
          1866,
          1865,
          1868,
          1868,
          1868,
          1865,
          1865,
          1864,
          1866,
          1866,
          1866,
          1866,
          1869,
          1869,
          1871,
          1869,
          1869,
          1869,
          1871,
          1869,
          1869,
          1871,
          1867,
          1867,
          1871,
          1869,
          1869,
          1869,
          1871,
          1890,
          1890,
          1891,
          1871,
          1871,
          1871,
          1871,
          1890,
          1890,
          1890,
          1871,
          1871,
          1871,
          1890,
          1891,
          1891,
          1890,
          1886,
          1886,
          1886,
          1886,
          1886,
          1886,
          1886,
          1884,
          1884,
          1886,
          1886,
          1886,
          1886,
          1886,
          1886,
          1886,
          1886,
          1903,
          1903,
          1903,
          1903,
          1903,
          1903,
          1895,
          1902,
          1902,
          1901,
          1903,
          1903,
          1903,
          1903,
          1903,
          1903,
          1903,
          1902,
          1902,
          1902,
          1902,
          1902,
          1902,
          1900,
          1900,
          1900,
          1901,
          1902,
          1902,
          1903,
          1902,
          1902,
          1902,
          1901,
          1884,
          1884,
          1884,
          1884,
          1884,
          1884,
          1884,
          1884,
          1884,
          1888,
          1884,
          1884,
          1888,
          1884,
          1882,
          1882,
          1883,
          1903,
          1903,
          1903,
          1884,
          1884,
          1884,
          1884,
          1903,
          1903,
          1903,
          1884,
          1884,
          1883,
          1903,
          1903,
          1903,
          1903,
          1900,
          1900,
          1902,
          1895,
          1895,
          1895,
          1895,
          1893,
          1893,
          1892,
          1895,
          1895,
          1888,
          1900,
          1900,
          1900,
          1901,
          1893,
          1893,
          1892,
          1893,
          1893,
          1893,
          1897,
          1883,
          1884,
          1883,
          1883,
          1883,
          1883,
          1893,
          1893,
          1893,
          1896,
          1884,
          1884,
          1884,
          1884,
          1884,
          1884,
          1884,
          1882,
          1882,
          1883,
          1883,
          1883,
          1883,
          1884,
          1884,
          1884,
          1883,
          1895,
          1895,
          1895,
          1896,
          1896,
          1896,
          1895,
          1896,
          1896,
          1894,
          1898,
          1898,
          1898,
          1895,
          1895,
          1895,
          1896,
          1900,
          1900,
          1900,
          1901,
          1901,
          1901,
          1900,
          1900,
          1900,
          1898,
          1901,
          1901,
          1901,
          1900,
          1901,
          1901,
          1898,
          1886,
          1886,
          1887,
          1886,
          1886,
          1886,
          1887,
          1886,
          1886,
          1886,
          1886,
          1886,
          1886,
          1886,
          1886,
          1886,
          1888,
          1887,
          1887,
          1886,
          1887,
          1887,
          1887,
          1886,
          1887,
          1887,
          1886,
          1887,
          1887,
          1886,
          1887,
          1887,
          1887,
          1886,
          1883,
          1883,
          1884,
          1883,
          1883,
          1883,
          1884,
          1883,
          1884,
          1883,
          1882,
          1882,
          1883,
          1883,
          1883,
          1883,
          1883,
          1864,
          1864,
          1864,
          1864,
          1864,
          1864,
          1864,
          1864,
          1864,
          1864,
          1864,
          1864,
          1864,
          1864,
          1864,
          1864,
          1864,
          1902,
          1902,
          1902,
          1902,
          1902,
          1902,
          1902,
          1889,
          1889,
          1883,
          1902,
          1902,
          1903,
          1902,
          1902,
          1902,
          1903,
          1906,
          1906,
          1906,
          1866,
          1866,
          1866,
          1866,
          1866,
          1866,
          1866,
          1866,
          1866,
          1866,
          1906,
          1866,
          1866,
          1866,
          1903,
          1903,
          1903,
          1903,
          1903,
          1903,
          1903,
          1903,
          1903,
          1903,
          1904,
          1904,
          1903,
          1903,
          1903,
          1903,
          1903,
          1871,
          1871,
          1871,
          1902,
          1902,
          1902,
          1871,
          1871,
          1871,
          1871,
          1871,
          1871,
          1871,
          1871,
          1902,
          1902,
          1871,
          1895,
          1895,
          1895,
          1895,
          1895,
          1895,
          1895,
          1894,
          1894,
          1896,
          1895,
          1895,
          1892,
          1895,
          1895,
          1895,
          1896,
          1895,
          1895,
          1886,
          1893,
          1893,
          1893,
          1886,
          1886,
          1886,
          1886,
          1893,
          1893,
          1892,
          1895,
          1893,
          1893,
          1886,
          1898,
          1898,
          1901,
          1896,
          1896,
          1896,
          1898,
          1892,
          1892,
          1892,
          1894,
          1894,
          1892,
          1898,
          1898,
          1898,
          1898,
          1902,
          1902,
          1902,
          1865,
          1865,
          1865,
          1865,
          1902,
          1902,
          1901,
          1864,
          1864,
          1864,
          1902,
          1902,
          1902,
          1864,
          1902,
          1902,
          1902,
          1865,
          1865,
          1865,
          1865,
          1902,
          1902,
          1901,
          1865,
          1865,
          1864,
          1902,
          1865,
          1865,
          1864,
          1905,
          1905,
          1905,
          1905,
          1905,
          1905,
          1905,
          1905,
          1905,
          1905,
          1905,
          1905,
          1905,
          1905,
          1905,
          1905,
          1905
         ],
         "xaxis": "x",
         "yaxis": "y"
        }
       ],
       "layout": {
        "barmode": "relative",
        "height": 400,
        "legend": {
         "title": {
          "text": "variable"
         },
         "tracegroupgap": 0
        },
        "margin": {
         "t": 60
        },
        "showlegend": false,
        "template": {
         "data": {
          "bar": [
           {
            "error_x": {
             "color": "#2a3f5f"
            },
            "error_y": {
             "color": "#2a3f5f"
            },
            "marker": {
             "line": {
              "color": "#E5ECF6",
              "width": 0.5
             },
             "pattern": {
              "fillmode": "overlay",
              "size": 10,
              "solidity": 0.2
             }
            },
            "type": "bar"
           }
          ],
          "barpolar": [
           {
            "marker": {
             "line": {
              "color": "#E5ECF6",
              "width": 0.5
             },
             "pattern": {
              "fillmode": "overlay",
              "size": 10,
              "solidity": 0.2
             }
            },
            "type": "barpolar"
           }
          ],
          "carpet": [
           {
            "aaxis": {
             "endlinecolor": "#2a3f5f",
             "gridcolor": "white",
             "linecolor": "white",
             "minorgridcolor": "white",
             "startlinecolor": "#2a3f5f"
            },
            "baxis": {
             "endlinecolor": "#2a3f5f",
             "gridcolor": "white",
             "linecolor": "white",
             "minorgridcolor": "white",
             "startlinecolor": "#2a3f5f"
            },
            "type": "carpet"
           }
          ],
          "choropleth": [
           {
            "colorbar": {
             "outlinewidth": 0,
             "ticks": ""
            },
            "type": "choropleth"
           }
          ],
          "contour": [
           {
            "colorbar": {
             "outlinewidth": 0,
             "ticks": ""
            },
            "colorscale": [
             [
              0,
              "#0d0887"
             ],
             [
              0.1111111111111111,
              "#46039f"
             ],
             [
              0.2222222222222222,
              "#7201a8"
             ],
             [
              0.3333333333333333,
              "#9c179e"
             ],
             [
              0.4444444444444444,
              "#bd3786"
             ],
             [
              0.5555555555555556,
              "#d8576b"
             ],
             [
              0.6666666666666666,
              "#ed7953"
             ],
             [
              0.7777777777777778,
              "#fb9f3a"
             ],
             [
              0.8888888888888888,
              "#fdca26"
             ],
             [
              1,
              "#f0f921"
             ]
            ],
            "type": "contour"
           }
          ],
          "contourcarpet": [
           {
            "colorbar": {
             "outlinewidth": 0,
             "ticks": ""
            },
            "type": "contourcarpet"
           }
          ],
          "heatmap": [
           {
            "colorbar": {
             "outlinewidth": 0,
             "ticks": ""
            },
            "colorscale": [
             [
              0,
              "#0d0887"
             ],
             [
              0.1111111111111111,
              "#46039f"
             ],
             [
              0.2222222222222222,
              "#7201a8"
             ],
             [
              0.3333333333333333,
              "#9c179e"
             ],
             [
              0.4444444444444444,
              "#bd3786"
             ],
             [
              0.5555555555555556,
              "#d8576b"
             ],
             [
              0.6666666666666666,
              "#ed7953"
             ],
             [
              0.7777777777777778,
              "#fb9f3a"
             ],
             [
              0.8888888888888888,
              "#fdca26"
             ],
             [
              1,
              "#f0f921"
             ]
            ],
            "type": "heatmap"
           }
          ],
          "heatmapgl": [
           {
            "colorbar": {
             "outlinewidth": 0,
             "ticks": ""
            },
            "colorscale": [
             [
              0,
              "#0d0887"
             ],
             [
              0.1111111111111111,
              "#46039f"
             ],
             [
              0.2222222222222222,
              "#7201a8"
             ],
             [
              0.3333333333333333,
              "#9c179e"
             ],
             [
              0.4444444444444444,
              "#bd3786"
             ],
             [
              0.5555555555555556,
              "#d8576b"
             ],
             [
              0.6666666666666666,
              "#ed7953"
             ],
             [
              0.7777777777777778,
              "#fb9f3a"
             ],
             [
              0.8888888888888888,
              "#fdca26"
             ],
             [
              1,
              "#f0f921"
             ]
            ],
            "type": "heatmapgl"
           }
          ],
          "histogram": [
           {
            "marker": {
             "pattern": {
              "fillmode": "overlay",
              "size": 10,
              "solidity": 0.2
             }
            },
            "type": "histogram"
           }
          ],
          "histogram2d": [
           {
            "colorbar": {
             "outlinewidth": 0,
             "ticks": ""
            },
            "colorscale": [
             [
              0,
              "#0d0887"
             ],
             [
              0.1111111111111111,
              "#46039f"
             ],
             [
              0.2222222222222222,
              "#7201a8"
             ],
             [
              0.3333333333333333,
              "#9c179e"
             ],
             [
              0.4444444444444444,
              "#bd3786"
             ],
             [
              0.5555555555555556,
              "#d8576b"
             ],
             [
              0.6666666666666666,
              "#ed7953"
             ],
             [
              0.7777777777777778,
              "#fb9f3a"
             ],
             [
              0.8888888888888888,
              "#fdca26"
             ],
             [
              1,
              "#f0f921"
             ]
            ],
            "type": "histogram2d"
           }
          ],
          "histogram2dcontour": [
           {
            "colorbar": {
             "outlinewidth": 0,
             "ticks": ""
            },
            "colorscale": [
             [
              0,
              "#0d0887"
             ],
             [
              0.1111111111111111,
              "#46039f"
             ],
             [
              0.2222222222222222,
              "#7201a8"
             ],
             [
              0.3333333333333333,
              "#9c179e"
             ],
             [
              0.4444444444444444,
              "#bd3786"
             ],
             [
              0.5555555555555556,
              "#d8576b"
             ],
             [
              0.6666666666666666,
              "#ed7953"
             ],
             [
              0.7777777777777778,
              "#fb9f3a"
             ],
             [
              0.8888888888888888,
              "#fdca26"
             ],
             [
              1,
              "#f0f921"
             ]
            ],
            "type": "histogram2dcontour"
           }
          ],
          "mesh3d": [
           {
            "colorbar": {
             "outlinewidth": 0,
             "ticks": ""
            },
            "type": "mesh3d"
           }
          ],
          "parcoords": [
           {
            "line": {
             "colorbar": {
              "outlinewidth": 0,
              "ticks": ""
             }
            },
            "type": "parcoords"
           }
          ],
          "pie": [
           {
            "automargin": true,
            "type": "pie"
           }
          ],
          "scatter": [
           {
            "fillpattern": {
             "fillmode": "overlay",
             "size": 10,
             "solidity": 0.2
            },
            "type": "scatter"
           }
          ],
          "scatter3d": [
           {
            "line": {
             "colorbar": {
              "outlinewidth": 0,
              "ticks": ""
             }
            },
            "marker": {
             "colorbar": {
              "outlinewidth": 0,
              "ticks": ""
             }
            },
            "type": "scatter3d"
           }
          ],
          "scattercarpet": [
           {
            "marker": {
             "colorbar": {
              "outlinewidth": 0,
              "ticks": ""
             }
            },
            "type": "scattercarpet"
           }
          ],
          "scattergeo": [
           {
            "marker": {
             "colorbar": {
              "outlinewidth": 0,
              "ticks": ""
             }
            },
            "type": "scattergeo"
           }
          ],
          "scattergl": [
           {
            "marker": {
             "colorbar": {
              "outlinewidth": 0,
              "ticks": ""
             }
            },
            "type": "scattergl"
           }
          ],
          "scattermapbox": [
           {
            "marker": {
             "colorbar": {
              "outlinewidth": 0,
              "ticks": ""
             }
            },
            "type": "scattermapbox"
           }
          ],
          "scatterpolar": [
           {
            "marker": {
             "colorbar": {
              "outlinewidth": 0,
              "ticks": ""
             }
            },
            "type": "scatterpolar"
           }
          ],
          "scatterpolargl": [
           {
            "marker": {
             "colorbar": {
              "outlinewidth": 0,
              "ticks": ""
             }
            },
            "type": "scatterpolargl"
           }
          ],
          "scatterternary": [
           {
            "marker": {
             "colorbar": {
              "outlinewidth": 0,
              "ticks": ""
             }
            },
            "type": "scatterternary"
           }
          ],
          "surface": [
           {
            "colorbar": {
             "outlinewidth": 0,
             "ticks": ""
            },
            "colorscale": [
             [
              0,
              "#0d0887"
             ],
             [
              0.1111111111111111,
              "#46039f"
             ],
             [
              0.2222222222222222,
              "#7201a8"
             ],
             [
              0.3333333333333333,
              "#9c179e"
             ],
             [
              0.4444444444444444,
              "#bd3786"
             ],
             [
              0.5555555555555556,
              "#d8576b"
             ],
             [
              0.6666666666666666,
              "#ed7953"
             ],
             [
              0.7777777777777778,
              "#fb9f3a"
             ],
             [
              0.8888888888888888,
              "#fdca26"
             ],
             [
              1,
              "#f0f921"
             ]
            ],
            "type": "surface"
           }
          ],
          "table": [
           {
            "cells": {
             "fill": {
              "color": "#EBF0F8"
             },
             "line": {
              "color": "white"
             }
            },
            "header": {
             "fill": {
              "color": "#C8D4E3"
             },
             "line": {
              "color": "white"
             }
            },
            "type": "table"
           }
          ]
         },
         "layout": {
          "annotationdefaults": {
           "arrowcolor": "#2a3f5f",
           "arrowhead": 0,
           "arrowwidth": 1
          },
          "autotypenumbers": "strict",
          "coloraxis": {
           "colorbar": {
            "outlinewidth": 0,
            "ticks": ""
           }
          },
          "colorscale": {
           "diverging": [
            [
             0,
             "#8e0152"
            ],
            [
             0.1,
             "#c51b7d"
            ],
            [
             0.2,
             "#de77ae"
            ],
            [
             0.3,
             "#f1b6da"
            ],
            [
             0.4,
             "#fde0ef"
            ],
            [
             0.5,
             "#f7f7f7"
            ],
            [
             0.6,
             "#e6f5d0"
            ],
            [
             0.7,
             "#b8e186"
            ],
            [
             0.8,
             "#7fbc41"
            ],
            [
             0.9,
             "#4d9221"
            ],
            [
             1,
             "#276419"
            ]
           ],
           "sequential": [
            [
             0,
             "#0d0887"
            ],
            [
             0.1111111111111111,
             "#46039f"
            ],
            [
             0.2222222222222222,
             "#7201a8"
            ],
            [
             0.3333333333333333,
             "#9c179e"
            ],
            [
             0.4444444444444444,
             "#bd3786"
            ],
            [
             0.5555555555555556,
             "#d8576b"
            ],
            [
             0.6666666666666666,
             "#ed7953"
            ],
            [
             0.7777777777777778,
             "#fb9f3a"
            ],
            [
             0.8888888888888888,
             "#fdca26"
            ],
            [
             1,
             "#f0f921"
            ]
           ],
           "sequentialminus": [
            [
             0,
             "#0d0887"
            ],
            [
             0.1111111111111111,
             "#46039f"
            ],
            [
             0.2222222222222222,
             "#7201a8"
            ],
            [
             0.3333333333333333,
             "#9c179e"
            ],
            [
             0.4444444444444444,
             "#bd3786"
            ],
            [
             0.5555555555555556,
             "#d8576b"
            ],
            [
             0.6666666666666666,
             "#ed7953"
            ],
            [
             0.7777777777777778,
             "#fb9f3a"
            ],
            [
             0.8888888888888888,
             "#fdca26"
            ],
            [
             1,
             "#f0f921"
            ]
           ]
          },
          "colorway": [
           "#636efa",
           "#EF553B",
           "#00cc96",
           "#ab63fa",
           "#FFA15A",
           "#19d3f3",
           "#FF6692",
           "#B6E880",
           "#FF97FF",
           "#FECB52"
          ],
          "font": {
           "color": "#2a3f5f"
          },
          "geo": {
           "bgcolor": "white",
           "lakecolor": "white",
           "landcolor": "#E5ECF6",
           "showlakes": true,
           "showland": true,
           "subunitcolor": "white"
          },
          "hoverlabel": {
           "align": "left"
          },
          "hovermode": "closest",
          "mapbox": {
           "style": "light"
          },
          "paper_bgcolor": "white",
          "plot_bgcolor": "#E5ECF6",
          "polar": {
           "angularaxis": {
            "gridcolor": "white",
            "linecolor": "white",
            "ticks": ""
           },
           "bgcolor": "#E5ECF6",
           "radialaxis": {
            "gridcolor": "white",
            "linecolor": "white",
            "ticks": ""
           }
          },
          "scene": {
           "xaxis": {
            "backgroundcolor": "#E5ECF6",
            "gridcolor": "white",
            "gridwidth": 2,
            "linecolor": "white",
            "showbackground": true,
            "ticks": "",
            "zerolinecolor": "white"
           },
           "yaxis": {
            "backgroundcolor": "#E5ECF6",
            "gridcolor": "white",
            "gridwidth": 2,
            "linecolor": "white",
            "showbackground": true,
            "ticks": "",
            "zerolinecolor": "white"
           },
           "zaxis": {
            "backgroundcolor": "#E5ECF6",
            "gridcolor": "white",
            "gridwidth": 2,
            "linecolor": "white",
            "showbackground": true,
            "ticks": "",
            "zerolinecolor": "white"
           }
          },
          "shapedefaults": {
           "line": {
            "color": "#2a3f5f"
           }
          },
          "ternary": {
           "aaxis": {
            "gridcolor": "white",
            "linecolor": "white",
            "ticks": ""
           },
           "baxis": {
            "gridcolor": "white",
            "linecolor": "white",
            "ticks": ""
           },
           "bgcolor": "#E5ECF6",
           "caxis": {
            "gridcolor": "white",
            "linecolor": "white",
            "ticks": ""
           }
          },
          "title": {
           "x": 0.05
          },
          "xaxis": {
           "automargin": true,
           "gridcolor": "white",
           "linecolor": "white",
           "ticks": "",
           "title": {
            "standoff": 15
           },
           "zerolinecolor": "white",
           "zerolinewidth": 2
          },
          "yaxis": {
           "automargin": true,
           "gridcolor": "white",
           "linecolor": "white",
           "ticks": "",
           "title": {
            "standoff": 15
           },
           "zerolinecolor": "white",
           "zerolinewidth": 2
          }
         }
        },
        "width": 1000,
        "xaxis": {
         "anchor": "y",
         "domain": [
          0,
          1
         ],
         "title": {
          "text": ""
         }
        },
        "yaxis": {
         "anchor": "x",
         "domain": [
          0,
          1
         ],
         "title": {
          "text": "Frequency of Changepoints"
         }
        }
       }
      }
     },
     "metadata": {},
     "output_type": "display_data"
    }
   ],
   "source": [
    "for nbins in [68, 20]:\n",
    "    fig = px.histogram(\n",
    "        results['changepoint'],\n",
    "        nbins=nbins, \n",
    "        histnorm='probability',\n",
    "        labels={'value': 'n_changepoints', 'count': 'Frequency'}\n",
    "    )\n",
    "    fig.update_layout(\n",
    "        width=1000, height=400,\n",
    "        xaxis_title=\"\", \n",
    "        yaxis_title=\"Frequency of Changepoints\", \n",
    "        showlegend=False\n",
    "    )\n",
    "    fig.show()"
   ]
  },
  {
   "cell_type": "code",
   "execution_count": 18,
   "id": "ef71abfe-cafb-4401-871c-518fe5d72105",
   "metadata": {},
   "outputs": [],
   "source": [
    "def calculate_bin_probabilities(years, bin_size = 5):\n",
    "    bin_results = pd.Series()\n",
    "    \n",
    "    for bin_start in list(range(1855, 1914, bin_size)):\n",
    "        bin_results.loc[bin_start] = len(years[years.between(bin_start, bin_start+bin_size-1)])\n",
    "\n",
    "    bin_results = bin_results/bin_results.sum()\n",
    "\n",
    "    return bin_results"
   ]
  },
  {
   "cell_type": "code",
   "execution_count": 19,
   "id": "876bb19a-fe04-49c9-9678-ec84fb7a2711",
   "metadata": {},
   "outputs": [
    {
     "data": {
      "text/html": [
       "<div>\n",
       "<style scoped>\n",
       "    .dataframe tbody tr th:only-of-type {\n",
       "        vertical-align: middle;\n",
       "    }\n",
       "\n",
       "    .dataframe tbody tr th {\n",
       "        vertical-align: top;\n",
       "    }\n",
       "\n",
       "    .dataframe thead th {\n",
       "        text-align: right;\n",
       "    }\n",
       "</style>\n",
       "<table border=\"1\" class=\"dataframe\">\n",
       "  <thead>\n",
       "    <tr style=\"text-align: right;\">\n",
       "      <th></th>\n",
       "      <th>algorithm</th>\n",
       "      <th>number_of_changepoints</th>\n",
       "      <th>bin_with_most_changepoints</th>\n",
       "      <th>prop_of_all_changepoints_in_bin</th>\n",
       "    </tr>\n",
       "  </thead>\n",
       "  <tbody>\n",
       "    <tr>\n",
       "      <th>0</th>\n",
       "      <td>ALL</td>\n",
       "      <td>459</td>\n",
       "      <td>1900</td>\n",
       "      <td>0.257081</td>\n",
       "    </tr>\n",
       "    <tr>\n",
       "      <th>1</th>\n",
       "      <td>dynp</td>\n",
       "      <td>135</td>\n",
       "      <td>1900</td>\n",
       "      <td>0.266667</td>\n",
       "    </tr>\n",
       "    <tr>\n",
       "      <th>2</th>\n",
       "      <td>kernel</td>\n",
       "      <td>54</td>\n",
       "      <td>1900</td>\n",
       "      <td>0.277778</td>\n",
       "    </tr>\n",
       "    <tr>\n",
       "      <th>3</th>\n",
       "      <td>binseg</td>\n",
       "      <td>135</td>\n",
       "      <td>1900</td>\n",
       "      <td>0.266667</td>\n",
       "    </tr>\n",
       "    <tr>\n",
       "      <th>4</th>\n",
       "      <td>bottom_up</td>\n",
       "      <td>135</td>\n",
       "      <td>1900</td>\n",
       "      <td>0.229630</td>\n",
       "    </tr>\n",
       "  </tbody>\n",
       "</table>\n",
       "</div>"
      ],
      "text/plain": [
       "   algorithm  number_of_changepoints  bin_with_most_changepoints  \\\n",
       "0        ALL                     459                        1900   \n",
       "1       dynp                     135                        1900   \n",
       "2     kernel                      54                        1900   \n",
       "3     binseg                     135                        1900   \n",
       "4  bottom_up                     135                        1900   \n",
       "\n",
       "   prop_of_all_changepoints_in_bin  \n",
       "0                         0.257081  \n",
       "1                         0.266667  \n",
       "2                         0.277778  \n",
       "3                         0.266667  \n",
       "4                         0.229630  "
      ]
     },
     "execution_count": 19,
     "metadata": {},
     "output_type": "execute_result"
    }
   ],
   "source": [
    "algorithm_list, n_changepoints, max_bins, max_bin_probs = [], [], [], []\n",
    "\n",
    "for algorithm in [''] + algorithms:\n",
    "    algorithm_results = results.query(\"algorithm.str.contains(@algorithm)\")\n",
    "    bin_probs = calculate_bin_probabilities(algorithm_results['changepoint'])\n",
    "\n",
    "    algorithm_list.append(algorithm)\n",
    "    n_changepoints.append(algorithm_results.shape[0])\n",
    "    max_bins.append(bin_probs.sort_values(ascending=False).index[0])\n",
    "    max_bin_probs.append(bin_probs.sort_values(ascending=False).values[0])\n",
    "\n",
    "bin_results = pd.DataFrame({\n",
    "    'algorithm' : algorithm_list,\n",
    "    'number_of_changepoints' : n_changepoints,\n",
    "    'bin_with_most_changepoints' : max_bins,\n",
    "    'prop_of_all_changepoints_in_bin' : max_bin_probs\n",
    "})\n",
    "bin_results['algorithm'] = ['ALL' if x == '' else x for x in bin_results['algorithm']]\n",
    "\n",
    "bin_results"
   ]
  },
  {
   "cell_type": "code",
   "execution_count": 20,
   "id": "3bd8b8e2-8037-4a02-b98d-de08dd32b4fc",
   "metadata": {},
   "outputs": [
    {
     "data": {
      "text/html": [
       "<div>\n",
       "<style scoped>\n",
       "    .dataframe tbody tr th:only-of-type {\n",
       "        vertical-align: middle;\n",
       "    }\n",
       "\n",
       "    .dataframe tbody tr th {\n",
       "        vertical-align: top;\n",
       "    }\n",
       "\n",
       "    .dataframe thead th {\n",
       "        text-align: right;\n",
       "    }\n",
       "</style>\n",
       "<table border=\"1\" class=\"dataframe\">\n",
       "  <thead>\n",
       "    <tr style=\"text-align: right;\">\n",
       "      <th></th>\n",
       "      <th>costfunction</th>\n",
       "      <th>number_of_changepoints</th>\n",
       "      <th>bin_with_most_changepoints</th>\n",
       "      <th>prop_of_all_changepoints_in_bin</th>\n",
       "    </tr>\n",
       "  </thead>\n",
       "  <tbody>\n",
       "    <tr>\n",
       "      <th>0</th>\n",
       "      <td>ALL</td>\n",
       "      <td>459</td>\n",
       "      <td>1900</td>\n",
       "      <td>0.257081</td>\n",
       "    </tr>\n",
       "    <tr>\n",
       "      <th>1</th>\n",
       "      <td>l2</td>\n",
       "      <td>81</td>\n",
       "      <td>1900</td>\n",
       "      <td>0.345679</td>\n",
       "    </tr>\n",
       "    <tr>\n",
       "      <th>2</th>\n",
       "      <td>rbf</td>\n",
       "      <td>108</td>\n",
       "      <td>1900</td>\n",
       "      <td>0.203704</td>\n",
       "    </tr>\n",
       "    <tr>\n",
       "      <th>3</th>\n",
       "      <td>rank</td>\n",
       "      <td>81</td>\n",
       "      <td>1900</td>\n",
       "      <td>0.246914</td>\n",
       "    </tr>\n",
       "    <tr>\n",
       "      <th>4</th>\n",
       "      <td>normal</td>\n",
       "      <td>81</td>\n",
       "      <td>1900</td>\n",
       "      <td>0.185185</td>\n",
       "    </tr>\n",
       "    <tr>\n",
       "      <th>5</th>\n",
       "      <td>linear</td>\n",
       "      <td>27</td>\n",
       "      <td>1900</td>\n",
       "      <td>0.333333</td>\n",
       "    </tr>\n",
       "    <tr>\n",
       "      <th>6</th>\n",
       "      <td>l1</td>\n",
       "      <td>81</td>\n",
       "      <td>1900</td>\n",
       "      <td>0.296296</td>\n",
       "    </tr>\n",
       "  </tbody>\n",
       "</table>\n",
       "</div>"
      ],
      "text/plain": [
       "  costfunction  number_of_changepoints  bin_with_most_changepoints  \\\n",
       "0          ALL                     459                        1900   \n",
       "1           l2                      81                        1900   \n",
       "2          rbf                     108                        1900   \n",
       "3         rank                      81                        1900   \n",
       "4       normal                      81                        1900   \n",
       "5       linear                      27                        1900   \n",
       "6           l1                      81                        1900   \n",
       "\n",
       "   prop_of_all_changepoints_in_bin  \n",
       "0                         0.257081  \n",
       "1                         0.345679  \n",
       "2                         0.203704  \n",
       "3                         0.246914  \n",
       "4                         0.185185  \n",
       "5                         0.333333  \n",
       "6                         0.296296  "
      ]
     },
     "execution_count": 20,
     "metadata": {},
     "output_type": "execute_result"
    }
   ],
   "source": [
    "costfunction_list, n_changepoints, max_bins, max_bin_probs = [], [], [], []\n",
    "\n",
    "for costfunction in [''] + costfunctions:\n",
    "    costfunction_results = results.query(\"costfunction.str.contains(@costfunction)\")\n",
    "    bin_probs = calculate_bin_probabilities(costfunction_results['changepoint'])\n",
    "\n",
    "    costfunction_list.append(costfunction)\n",
    "    n_changepoints.append(costfunction_results.shape[0])\n",
    "    max_bins.append(bin_probs.sort_values(ascending=False).index[0])\n",
    "    max_bin_probs.append(bin_probs.sort_values(ascending=False).values[0])\n",
    "\n",
    "bin_results = pd.DataFrame({\n",
    "    'costfunction' : costfunction_list,\n",
    "    'number_of_changepoints' : n_changepoints,\n",
    "    'bin_with_most_changepoints' : max_bins,\n",
    "    'prop_of_all_changepoints_in_bin' : max_bin_probs\n",
    "})\n",
    "bin_results['costfunction'] = ['ALL' if x == '' else x for x in bin_results['costfunction']]\n",
    "\n",
    "bin_results"
   ]
  }
 ],
 "metadata": {
  "kernelspec": {
   "display_name": "Python 3",
   "language": "python",
   "name": "python3"
  },
  "language_info": {
   "codemirror_mode": {
    "name": "ipython",
    "version": 3
   },
   "file_extension": ".py",
   "mimetype": "text/x-python",
   "name": "python",
   "nbconvert_exporter": "python",
   "pygments_lexer": "ipython3",
   "version": "3.12.3"
  }
 },
 "nbformat": 4,
 "nbformat_minor": 5
}
